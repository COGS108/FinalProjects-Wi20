{
 "cells": [
  {
   "cell_type": "markdown",
   "metadata": {},
   "source": [
    "# COGS 108 - Final Project"
   ]
  },
  {
   "cell_type": "markdown",
   "metadata": {},
   "source": [
    "# Overview\n",
    "\n",
    "Through our research and analysis, we wanted to investigate whether the number of alcohol licenses in a certain zip code of San Diego county would correlate with more crime in San Diego. Since we are all students going to school here in San Diego, choosing the county of San Diego would would be able to provide relevant information that could possibly help us in our lives while living in this area. As a result, we would want to see if alcohol consumption would correlate more to criminality such as DUIs, petty thefts, thefts, etc.. "
   ]
  },
  {
   "cell_type": "markdown",
   "metadata": {},
   "source": [
    "# Names\n",
    " - Neghena Faizyar\n",
    " - Jie Wang\n",
    " - Richard To\n",
    " - Brianna Catalan\n",
    " - Nicholas Weaver"
   ]
  },
  {
   "cell_type": "markdown",
   "metadata": {},
   "source": [
    "# Research Question\n",
    "\n",
    "Is there a correlation between crimes (such as theft, assault, disturbing the peace, dui, vandalism, and vehicle break-ins) and the location and areas which sell alcohol (areas which have more alcohol licenses) in the San Diego area?"
   ]
  },
  {
   "cell_type": "markdown",
   "metadata": {},
   "source": [
    "# Background and Prior Work\n",
    "\n",
    "As college students living in an urban and metropolitan area, the club and bar scene (or to better specify, the drinking scene) is abundant and no secret. San Diego in particular is renowned for its party scene; Gaslamp district, Pacific Beach, North Park, etc. Accordingly, with the plentiful number of colleges residing in San Diego County, the youth populates these locations.\n",
    "\n",
    "As such, we were curious to investigate whether there was a significant number of crime in San Diego County due to the seemingly ample number of locations serving alcohol. Often, we see that alcohol consumption is stereotyped as being related to criminality. The Alcohol Rehab Guide claims, \"alcohol plays a large role in criminal activities and violence.\" This is similar to views among many. Respectively, Pacific Beach - a crowd favorite -  is one of the highest crime neighborhoods in San Diego. The San Diego Reader states that “[m]ost of the violent crime is alcohol-related and occurs in the ‘bar-district,’ [...] in that area there are 10 times more alcohol licenses than allowed by state guidelines.” It is interesting to read two sources, one general and one more specific making the claim and or implication that there is a relationship between alcohol and crime. \n",
    "\n",
    "There has been a decent amount of research since the late 20th century on whether there really lies a relationship between these two variables. The Bureau of Justice conducted a national data analysis in 1998 on the prevalence of alcohol involvement in crime. The study found that about 36% of convicted offenders were drinking at the time of their offence; about two-thirds of these crimes were categorized as simple assaults (Alcohol and Crime). Another study conducted in 2010, sought to determine whether the density of alcohol outlets had a relationship with violent crime in those outlets. The study examined data from the 2000 Washington, DC census, they found that “alcohol outlet density is significantly associated with the violent crimes”; these crimes were most commonly categorized as robbery, assault, and sexual offences (Alcohol Outlets and Violent Crime in Washington D.C.). \n",
    "\n",
    "Although these studies found that there is some relationship between alcohol consumption and crime, they conducted their research using data from different locations in the U.S and are in a sense outdated as the data used was from 20 or so years ago. Additionally, our project is exploring data from San Diego County; which in 2018, the San Diego Union Tribune claimed that San Diego has the lowest crime rate of the big metropolitan cities. This is surprising as there are so many alcohol outlets found within the county due to the rich night-life. Therefore, we aim to determine whether this relationship does exist in modern times and is applicable to the region (San Diego County) we are looking at. Furthermore, the previous studies conducted, examine a range of crime from “simple assaults” to “violent crime” and there is no clear definition for what those categories are constituted as. For the sake of our project, we will be looking at “petty crime,” which will consist of “theft/larceny,” “assault,” “disturbing the peace,” “drug alcohol violations,” “DUI,” “vandalism,” and “vehicle break-in.”\n",
    "\n",
    "Ultimately, the relationship that we are researching is often defined as a “stereotype”; thus, we wanted to see if there is truth to this “stereotype” in modern day San Diego County. We aim to determine if there truly is a positive correlation between alcohol consumption and crime rates and possibly test for causation to see if areas which don't sell alcohol have lower crime rates in general. \n",
    "\n",
    "References (include links):\n",
    " - 1) https://www.alcoholrehabguide.org/alcohol/crimes/ \n",
    " - 2) https://www.sandiegoreader.com/news/2018/feb/12/ticker-pacific-beachs-high-crime-problem/#\n",
    " - 3) https://www.bjs.gov/content/pub/pdf/ac.pdf\n",
    " - 4) https://www.ncbi.nlm.nih.gov/pmc/articles/PMC2941368/\n",
    " - 5) https://www.sandiegouniontribune.com/news/public-safety/sd-me-fbi-crime-20180925-story.html"
   ]
  },
  {
   "cell_type": "markdown",
   "metadata": {},
   "source": [
    "# Hypothesis\n",
    "Our hypothesis is that there is a positive correlation between areas that sell alcohol and crime rates. Meaning, the more alcohol is sold in an area, the higher the crime rate."
   ]
  },
  {
   "cell_type": "markdown",
   "metadata": {},
   "source": [
    "# Dataset(s)\n",
    "\n",
    " - Dataset Name: Licensing Reports \n",
    " - Link to the dataset: https://www.abc.ca.gov/licensing/licensing-reports/\n",
    " - Number of observations: 122,086 observations (number of alcohol licenses reported)\n",
    " - Description: This dataset is a dataset of reports for licenses given from the CA Department of Alcoholic Beverage Control. We obtained the Data Export which is updated daily for license information. Some important columns for this dataset is the columns: [License Type, Lic or App, Type Status, Prem Zip]. Each row is a different alchohol license. \n",
    " <br>\n",
    " <br>\n",
    " - Dataset Name: Public Crime Data Extract\n",
    " - Link to the dataset: https://www.sandag.org/index.asp?classid=14&subclassid=21&projectid=446&fuseaction=projects.detail\n",
    " - Number of observations: 61,604 observations (crimes reported)\n",
    " - Description: This dataset is a dataset of crimes reported within San Diego given by SANDAG. It is the most recent 180 days of San Diego regional crime data. This data contains the columns: [Crime, agency, Description, activityDate, BLOCK_ADDRESS, ZipCode, community]. Each row is a different crime reported. \n",
    "\n",
    "Since we have multiple datasets, we plan to combine these datasets by merging the two dataframes through the zip codes. We will find the counts of alcohol licenses (Licensing Reports df) and use these frequencies in order to see how places with higher counts of licenses affect the counts of crimes as well as types of crimes (Public Crime Data Extract df).    "
   ]
  },
  {
   "cell_type": "markdown",
   "metadata": {},
   "source": [
    "# Setup"
   ]
  },
  {
   "cell_type": "code",
   "execution_count": 1,
   "metadata": {},
   "outputs": [],
   "source": [
    "import warnings\n",
    "warnings.filterwarnings(\"ignore\", message=\"numpy.dtype size changed\")\n",
    "warnings.filterwarnings(\"ignore\", message=\"numpy.ufunc size changed\")\n",
    "\n",
    "import numpy as np\n",
    "import matplotlib.pyplot as plt\n",
    "import pandas as pd\n",
    "import seaborn as sns\n",
    "%matplotlib inline\n",
    "import ipywidgets as widgets\n",
    "from ipywidgets import interact, interactive, fixed, interact_manual\n",
    "\n",
    "import patsy\n",
    "import statsmodels.api as sm"
   ]
  },
  {
   "cell_type": "markdown",
   "metadata": {},
   "source": [
    "### Import Crime Data"
   ]
  },
  {
   "cell_type": "code",
   "execution_count": 2,
   "metadata": {},
   "outputs": [
    {
     "name": "stdout",
     "output_type": "stream",
     "text": [
      "(61604, 7)\n"
     ]
    },
    {
     "data": {
      "text/html": [
       "<div>\n",
       "<style scoped>\n",
       "    .dataframe tbody tr th:only-of-type {\n",
       "        vertical-align: middle;\n",
       "    }\n",
       "\n",
       "    .dataframe tbody tr th {\n",
       "        vertical-align: top;\n",
       "    }\n",
       "\n",
       "    .dataframe thead th {\n",
       "        text-align: right;\n",
       "    }\n",
       "</style>\n",
       "<table border=\"1\" class=\"dataframe\">\n",
       "  <thead>\n",
       "    <tr style=\"text-align: right;\">\n",
       "      <th></th>\n",
       "      <th>Crime</th>\n",
       "      <th>agency</th>\n",
       "      <th>Description</th>\n",
       "      <th>activityDate</th>\n",
       "      <th>BLOCK_ADDRESS</th>\n",
       "      <th>ZipCode</th>\n",
       "      <th>community</th>\n",
       "    </tr>\n",
       "  </thead>\n",
       "  <tbody>\n",
       "    <tr>\n",
       "      <th>0</th>\n",
       "      <td>CM_LEGEND</td>\n",
       "      <td>agency</td>\n",
       "      <td>Charge_Description_Orig</td>\n",
       "      <td>activityDate</td>\n",
       "      <td>BLOCK_ADDRESS</td>\n",
       "      <td>ZipCode</td>\n",
       "      <td>community</td>\n",
       "    </tr>\n",
       "    <tr>\n",
       "      <th>1</th>\n",
       "      <td>THEFT/LARCENY</td>\n",
       "      <td>OCEANSIDE</td>\n",
       "      <td>PETTY THEFT(All Other Larceny) (M)</td>\n",
       "      <td>12/29/2019 18:11:00</td>\n",
       "      <td>1800  BLOCK COLLEGE BOULEVARD</td>\n",
       "      <td>92056</td>\n",
       "      <td>OCEANSIDE</td>\n",
       "    </tr>\n",
       "    <tr>\n",
       "      <th>2</th>\n",
       "      <td>THEFT/LARCENY</td>\n",
       "      <td>CHULA VISTA</td>\n",
       "      <td>PETTY THEFT(Shoplift) (M)</td>\n",
       "      <td>1/2/2020 20:15:00</td>\n",
       "      <td>600  BLOCK PALOMAR STREET</td>\n",
       "      <td>91911</td>\n",
       "      <td>CHULA VISTA</td>\n",
       "    </tr>\n",
       "    <tr>\n",
       "      <th>3</th>\n",
       "      <td>DUI</td>\n",
       "      <td>SAN DIEGO</td>\n",
       "      <td>DUI ALC/0.08 PERCENT (M)</td>\n",
       "      <td>1/1/2020 2:36:00</td>\n",
       "      <td>4000  BLOCK RUEDA DRIVE</td>\n",
       "      <td>92124</td>\n",
       "      <td>SAN DIEGO</td>\n",
       "    </tr>\n",
       "    <tr>\n",
       "      <th>4</th>\n",
       "      <td>MOTOR VEHICLE THEFT</td>\n",
       "      <td>CHULA VISTA</td>\n",
       "      <td>TAKE VEHICLE W/O OWNER'S CONSENT/VEHICLE THEFT...</td>\n",
       "      <td>1/6/2020 17:00:00</td>\n",
       "      <td>1200  BLOCK ATWATER STREET</td>\n",
       "      <td>91913</td>\n",
       "      <td>CHULA VISTA</td>\n",
       "    </tr>\n",
       "  </tbody>\n",
       "</table>\n",
       "</div>"
      ],
      "text/plain": [
       "                 Crime       agency  \\\n",
       "0            CM_LEGEND       agency   \n",
       "1        THEFT/LARCENY    OCEANSIDE   \n",
       "2        THEFT/LARCENY  CHULA VISTA   \n",
       "3                  DUI    SAN DIEGO   \n",
       "4  MOTOR VEHICLE THEFT  CHULA VISTA   \n",
       "\n",
       "                                         Description         activityDate  \\\n",
       "0                            Charge_Description_Orig         activityDate   \n",
       "1                 PETTY THEFT(All Other Larceny) (M)  12/29/2019 18:11:00   \n",
       "2                          PETTY THEFT(Shoplift) (M)    1/2/2020 20:15:00   \n",
       "3                           DUI ALC/0.08 PERCENT (M)     1/1/2020 2:36:00   \n",
       "4  TAKE VEHICLE W/O OWNER'S CONSENT/VEHICLE THEFT...    1/6/2020 17:00:00   \n",
       "\n",
       "                   BLOCK_ADDRESS  ZipCode    community  \n",
       "0                  BLOCK_ADDRESS  ZipCode    community  \n",
       "1  1800  BLOCK COLLEGE BOULEVARD    92056    OCEANSIDE  \n",
       "2      600  BLOCK PALOMAR STREET    91911  CHULA VISTA  \n",
       "3        4000  BLOCK RUEDA DRIVE    92124    SAN DIEGO  \n",
       "4     1200  BLOCK ATWATER STREET    91913  CHULA VISTA  "
      ]
     },
     "execution_count": 2,
     "metadata": {},
     "output_type": "execute_result"
    }
   ],
   "source": [
    "df = pd.read_csv('https://raw.githubusercontent.com/COGS108/group025_wi20/master/ARJISPublicCrime030420.txt?token=AL64AM2CUKSURKDZTYF3E2K6PJ6JE'\n",
    "                     ,names=['Crime', 'agency', 'Description', 'activityDate', 'BLOCK_ADDRESS', 'ZipCode', 'community'])\n",
    "print(df.shape)\n",
    "df.head()"
   ]
  },
  {
   "cell_type": "code",
   "execution_count": 3,
   "metadata": {},
   "outputs": [
    {
     "name": "stdout",
     "output_type": "stream",
     "text": [
      "(122086, 26)\n"
     ]
    },
    {
     "name": "stderr",
     "output_type": "stream",
     "text": [
      "/opt/conda/lib/python3.6/site-packages/IPython/core/interactiveshell.py:3020: DtypeWarning: Columns (10) have mixed types. Specify dtype option on import or set low_memory=False.\n",
      "  interactivity=interactivity, compiler=compiler, result=result)\n"
     ]
    },
    {
     "data": {
      "text/html": [
       "<div>\n",
       "<style scoped>\n",
       "    .dataframe tbody tr th:only-of-type {\n",
       "        vertical-align: middle;\n",
       "    }\n",
       "\n",
       "    .dataframe tbody tr th {\n",
       "        vertical-align: top;\n",
       "    }\n",
       "\n",
       "    .dataframe thead th {\n",
       "        text-align: right;\n",
       "    }\n",
       "</style>\n",
       "<table border=\"1\" class=\"dataframe\">\n",
       "  <thead>\n",
       "    <tr style=\"text-align: right;\">\n",
       "      <th></th>\n",
       "      <th>License Type</th>\n",
       "      <th>File Number</th>\n",
       "      <th>Lic or App</th>\n",
       "      <th>Type Status</th>\n",
       "      <th>Type Orig Iss Date</th>\n",
       "      <th>Expir Date</th>\n",
       "      <th>Fee Codes</th>\n",
       "      <th>Dup Counts</th>\n",
       "      <th>Master Ind</th>\n",
       "      <th>Term in # of Months</th>\n",
       "      <th>...</th>\n",
       "      <th>Prem State</th>\n",
       "      <th>Prem Zip</th>\n",
       "      <th>DBA Name</th>\n",
       "      <th>Mail Addr 1</th>\n",
       "      <th>Mail Addr 2</th>\n",
       "      <th>Mail City</th>\n",
       "      <th>Mail State</th>\n",
       "      <th>Mail Zip</th>\n",
       "      <th>Prem County</th>\n",
       "      <th>Prem Census Tract #</th>\n",
       "    </tr>\n",
       "  </thead>\n",
       "  <tbody>\n",
       "    <tr>\n",
       "      <th>0</th>\n",
       "      <td>20</td>\n",
       "      <td>585942</td>\n",
       "      <td>LIC</td>\n",
       "      <td>ACTIVE</td>\n",
       "      <td>29-Mar-18</td>\n",
       "      <td>31-Aug-20</td>\n",
       "      <td></td>\n",
       "      <td></td>\n",
       "      <td>Y</td>\n",
       "      <td>12</td>\n",
       "      <td>...</td>\n",
       "      <td>CA</td>\n",
       "      <td>94558-7551</td>\n",
       "      <td>INTERVINE INC</td>\n",
       "      <td></td>\n",
       "      <td></td>\n",
       "      <td></td>\n",
       "      <td></td>\n",
       "      <td></td>\n",
       "      <td>NAPA</td>\n",
       "      <td>2010.05</td>\n",
       "    </tr>\n",
       "    <tr>\n",
       "      <th>1</th>\n",
       "      <td>21</td>\n",
       "      <td>590293</td>\n",
       "      <td>LIC</td>\n",
       "      <td>ACTIVE</td>\n",
       "      <td>29-Mar-18</td>\n",
       "      <td>29-Feb-20</td>\n",
       "      <td></td>\n",
       "      <td></td>\n",
       "      <td>Y</td>\n",
       "      <td>12</td>\n",
       "      <td>...</td>\n",
       "      <td>CA</td>\n",
       "      <td>95112-2414</td>\n",
       "      <td>EL DORADO LIQUOR &amp; MARKET</td>\n",
       "      <td></td>\n",
       "      <td></td>\n",
       "      <td></td>\n",
       "      <td></td>\n",
       "      <td></td>\n",
       "      <td>SANTA CLARA</td>\n",
       "      <td>5031.12</td>\n",
       "    </tr>\n",
       "    <tr>\n",
       "      <th>2</th>\n",
       "      <td>41</td>\n",
       "      <td>589231</td>\n",
       "      <td>LIC</td>\n",
       "      <td>ACTIVE</td>\n",
       "      <td>29-Mar-18</td>\n",
       "      <td>29-Feb-20</td>\n",
       "      <td></td>\n",
       "      <td></td>\n",
       "      <td>Y</td>\n",
       "      <td>12</td>\n",
       "      <td>...</td>\n",
       "      <td>CA</td>\n",
       "      <td>95134</td>\n",
       "      <td>GO FISH POKE BAR</td>\n",
       "      <td></td>\n",
       "      <td></td>\n",
       "      <td></td>\n",
       "      <td></td>\n",
       "      <td></td>\n",
       "      <td>SANTA CLARA</td>\n",
       "      <td>5050.06</td>\n",
       "    </tr>\n",
       "    <tr>\n",
       "      <th>3</th>\n",
       "      <td>20</td>\n",
       "      <td>584534</td>\n",
       "      <td>LIC</td>\n",
       "      <td>ACTIVE</td>\n",
       "      <td>29-Mar-18</td>\n",
       "      <td>30-Nov-20</td>\n",
       "      <td></td>\n",
       "      <td></td>\n",
       "      <td>Y</td>\n",
       "      <td>12</td>\n",
       "      <td>...</td>\n",
       "      <td>CA</td>\n",
       "      <td>95112-3015</td>\n",
       "      <td>EL SOL MARKET</td>\n",
       "      <td></td>\n",
       "      <td></td>\n",
       "      <td></td>\n",
       "      <td></td>\n",
       "      <td></td>\n",
       "      <td>SANTA CLARA</td>\n",
       "      <td>5001</td>\n",
       "    </tr>\n",
       "    <tr>\n",
       "      <th>4</th>\n",
       "      <td>41</td>\n",
       "      <td>584534</td>\n",
       "      <td>LIC</td>\n",
       "      <td>ACTIVE</td>\n",
       "      <td>29-Mar-18</td>\n",
       "      <td>30-Nov-20</td>\n",
       "      <td></td>\n",
       "      <td></td>\n",
       "      <td>Y</td>\n",
       "      <td>12</td>\n",
       "      <td>...</td>\n",
       "      <td>CA</td>\n",
       "      <td>95112-3015</td>\n",
       "      <td>EL SOL MARKET</td>\n",
       "      <td></td>\n",
       "      <td></td>\n",
       "      <td></td>\n",
       "      <td></td>\n",
       "      <td></td>\n",
       "      <td>SANTA CLARA</td>\n",
       "      <td>5001</td>\n",
       "    </tr>\n",
       "  </tbody>\n",
       "</table>\n",
       "<p>5 rows × 26 columns</p>\n",
       "</div>"
      ],
      "text/plain": [
       "   License Type  File Number Lic or App Type Status Type Orig Iss Date  \\\n",
       "0            20       585942        LIC      ACTIVE          29-Mar-18   \n",
       "1            21       590293        LIC      ACTIVE          29-Mar-18   \n",
       "2            41       589231        LIC      ACTIVE          29-Mar-18   \n",
       "3            20       584534        LIC      ACTIVE          29-Mar-18   \n",
       "4            41       584534        LIC      ACTIVE          29-Mar-18   \n",
       "\n",
       "  Expir Date Fee Codes Dup Counts Master Ind  Term in # of Months  ...  \\\n",
       "0  31-Aug-20                               Y                   12  ...   \n",
       "1  29-Feb-20                               Y                   12  ...   \n",
       "2  29-Feb-20                               Y                   12  ...   \n",
       "3  30-Nov-20                               Y                   12  ...   \n",
       "4  30-Nov-20                               Y                   12  ...   \n",
       "\n",
       "   Prem State    Prem Zip                   DBA Name Mail Addr 1 Mail Addr 2  \\\n",
       "0          CA  94558-7551              INTERVINE INC                           \n",
       "1          CA  95112-2414  EL DORADO LIQUOR & MARKET                           \n",
       "2          CA       95134           GO FISH POKE BAR                           \n",
       "3          CA  95112-3015              EL SOL MARKET                           \n",
       "4          CA  95112-3015              EL SOL MARKET                           \n",
       "\n",
       "  Mail City Mail State Mail Zip  Prem County Prem Census Tract #  \n",
       "0                                       NAPA             2010.05  \n",
       "1                                SANTA CLARA             5031.12  \n",
       "2                                SANTA CLARA             5050.06  \n",
       "3                                SANTA CLARA                5001  \n",
       "4                                SANTA CLARA                5001  \n",
       "\n",
       "[5 rows x 26 columns]"
      ]
     },
     "execution_count": 3,
     "metadata": {},
     "output_type": "execute_result"
    }
   ],
   "source": [
    "#Import Alcohol Licence Data\n",
    "alc = pd.read_csv(\"https://raw.githubusercontent.com/COGS108/group025_wi20/master/ABC_WeeklyDataExport.csv?token=AL64AM3OZ5NIEXT63MMC22C6PJ6KU\")\n",
    "print(alc.shape)\n",
    "alc.head()"
   ]
  },
  {
   "cell_type": "markdown",
   "metadata": {},
   "source": [
    "### Import Legend for Alcohol Licences"
   ]
  },
  {
   "cell_type": "code",
   "execution_count": 4,
   "metadata": {},
   "outputs": [
    {
     "data": {
      "text/html": [
       "<div>\n",
       "<style scoped>\n",
       "    .dataframe tbody tr th:only-of-type {\n",
       "        vertical-align: middle;\n",
       "    }\n",
       "\n",
       "    .dataframe tbody tr th {\n",
       "        vertical-align: top;\n",
       "    }\n",
       "\n",
       "    .dataframe thead th {\n",
       "        text-align: right;\n",
       "    }\n",
       "</style>\n",
       "<table border=\"1\" class=\"dataframe\">\n",
       "  <thead>\n",
       "    <tr style=\"text-align: right;\">\n",
       "      <th></th>\n",
       "      <th>License Number</th>\n",
       "      <th>License Type</th>\n",
       "    </tr>\n",
       "  </thead>\n",
       "  <tbody>\n",
       "    <tr>\n",
       "      <th>0</th>\n",
       "      <td>1</td>\n",
       "      <td>Beer Manufacturer</td>\n",
       "    </tr>\n",
       "    <tr>\n",
       "      <th>1</th>\n",
       "      <td>2</td>\n",
       "      <td>Winegrower</td>\n",
       "    </tr>\n",
       "    <tr>\n",
       "      <th>2</th>\n",
       "      <td>3</td>\n",
       "      <td>Brandy Manufacturer</td>\n",
       "    </tr>\n",
       "    <tr>\n",
       "      <th>3</th>\n",
       "      <td>4</td>\n",
       "      <td>Distilled Spirits Manufacturer</td>\n",
       "    </tr>\n",
       "    <tr>\n",
       "      <th>4</th>\n",
       "      <td>5</td>\n",
       "      <td>Distilled Spirits Manufacturer’s Agent</td>\n",
       "    </tr>\n",
       "  </tbody>\n",
       "</table>\n",
       "</div>"
      ],
      "text/plain": [
       "   License Number                            License Type\n",
       "0               1                       Beer Manufacturer\n",
       "1               2                              Winegrower\n",
       "2               3                     Brandy Manufacturer\n",
       "3               4         Distilled Spirits Manufacturer \n",
       "4               5  Distilled Spirits Manufacturer’s Agent"
      ]
     },
     "execution_count": 4,
     "metadata": {},
     "output_type": "execute_result"
    }
   ],
   "source": [
    "legend = pd.read_csv('https://raw.githubusercontent.com/COGS108/group025_wi20/master/License%20Types.csv?token=AL64AM7XH5SPPPILLZEGZTS6PJ6MU')\n",
    "legend = legend[['License Number', 'License Type']]\n",
    "leg_dict = dict(zip(legend['License Number'], legend['License Type']))\n",
    "legend.head()"
   ]
  },
  {
   "cell_type": "markdown",
   "metadata": {},
   "source": [
    "# Data Cleaning\n",
    "\n",
    "In this section we cleaned both of our datasets. \n",
    "\n",
    "For the Crime dataset, we first narrowed the type of crimes to theft, assault, disturbing the peace, dui, vandalism, and vehicle break-ins. Additionally, we then cleaned the datasets by dropping the rows that do not have the type of crimes we are looking for. We then dropped the columns which we felt would be privacy violations or columns that we don't find useful. These columns for the crime dataset were 'activityDate', 'BLOCK_ADDRESS', 'community', and 'agency'. \n",
    "\n",
    "For the Alcohol License dataset, we filtered through the dataset by finding only active licenses so we removed any rows that was still an application or any rows that was no longer active. We then grabbed the columns we felt would be useful which were 'License Type', 'Geo Code', 'Prem Zip'. The rest of the columns were not useful for the analysis we were looking to do. Some of the zip codes in this dataset had 9 digits and were in string form, so we cleaned it to only include the first 5 digits instead. Then we created a new DataFrame where we checked if the zip codes were contained in our crime dataset, as we are only interested in the licenses in San Diego."
   ]
  },
  {
   "cell_type": "markdown",
   "metadata": {},
   "source": [
    "### Clean Up Crime Data"
   ]
  },
  {
   "cell_type": "code",
   "execution_count": 5,
   "metadata": {},
   "outputs": [],
   "source": [
    "def find_alc_crime(description):\n",
    "    description = description.lower()\n",
    "    \n",
    "    if 'theft' in description:\n",
    "        description = True\n",
    "    elif 'assault' in description:\n",
    "          description = True\n",
    "    elif 'disturbing' in description:\n",
    "          description = True\n",
    "    elif 'dui' in description:\n",
    "          description = True\n",
    "    elif 'vandalism' in description:\n",
    "          description = True\n",
    "    elif 'vehicle break-in' in description:\n",
    "          description = True\n",
    "    else:\n",
    "        description = False\n",
    "\n",
    "    return description"
   ]
  },
  {
   "cell_type": "code",
   "execution_count": 6,
   "metadata": {},
   "outputs": [],
   "source": [
    "# Save the zip codes to use during cleaning of the alcohol df\n",
    "zip_codes = df['ZipCode'].dropna().unique() "
   ]
  },
  {
   "cell_type": "code",
   "execution_count": 7,
   "metadata": {},
   "outputs": [
    {
     "data": {
      "text/html": [
       "<div>\n",
       "<style scoped>\n",
       "    .dataframe tbody tr th:only-of-type {\n",
       "        vertical-align: middle;\n",
       "    }\n",
       "\n",
       "    .dataframe tbody tr th {\n",
       "        vertical-align: top;\n",
       "    }\n",
       "\n",
       "    .dataframe thead th {\n",
       "        text-align: right;\n",
       "    }\n",
       "</style>\n",
       "<table border=\"1\" class=\"dataframe\">\n",
       "  <thead>\n",
       "    <tr style=\"text-align: right;\">\n",
       "      <th></th>\n",
       "      <th>Crime</th>\n",
       "      <th>Description</th>\n",
       "      <th>ZipCode</th>\n",
       "      <th>ALC_related</th>\n",
       "    </tr>\n",
       "  </thead>\n",
       "  <tbody>\n",
       "    <tr>\n",
       "      <th>1</th>\n",
       "      <td>THEFT/LARCENY</td>\n",
       "      <td>PETTY THEFT(All Other Larceny) (M)</td>\n",
       "      <td>92056</td>\n",
       "      <td>True</td>\n",
       "    </tr>\n",
       "    <tr>\n",
       "      <th>2</th>\n",
       "      <td>THEFT/LARCENY</td>\n",
       "      <td>PETTY THEFT(Shoplift) (M)</td>\n",
       "      <td>91911</td>\n",
       "      <td>True</td>\n",
       "    </tr>\n",
       "    <tr>\n",
       "      <th>3</th>\n",
       "      <td>DUI</td>\n",
       "      <td>DUI ALC/0.08 PERCENT (M)</td>\n",
       "      <td>92124</td>\n",
       "      <td>True</td>\n",
       "    </tr>\n",
       "    <tr>\n",
       "      <th>4</th>\n",
       "      <td>MOTOR VEHICLE THEFT</td>\n",
       "      <td>TAKE VEHICLE W/O OWNER'S CONSENT/VEHICLE THEFT...</td>\n",
       "      <td>91913</td>\n",
       "      <td>True</td>\n",
       "    </tr>\n",
       "    <tr>\n",
       "      <th>7</th>\n",
       "      <td>DUI</td>\n",
       "      <td>DUI ALCOHOL (M)</td>\n",
       "      <td>92027</td>\n",
       "      <td>True</td>\n",
       "    </tr>\n",
       "  </tbody>\n",
       "</table>\n",
       "</div>"
      ],
      "text/plain": [
       "                 Crime                                        Description  \\\n",
       "1        THEFT/LARCENY                 PETTY THEFT(All Other Larceny) (M)   \n",
       "2        THEFT/LARCENY                          PETTY THEFT(Shoplift) (M)   \n",
       "3                  DUI                           DUI ALC/0.08 PERCENT (M)   \n",
       "4  MOTOR VEHICLE THEFT  TAKE VEHICLE W/O OWNER'S CONSENT/VEHICLE THEFT...   \n",
       "7                  DUI                                    DUI ALCOHOL (M)   \n",
       "\n",
       "  ZipCode  ALC_related  \n",
       "1   92056         True  \n",
       "2   91911         True  \n",
       "3   92124         True  \n",
       "4   91913         True  \n",
       "7   92027         True  "
      ]
     },
     "execution_count": 7,
     "metadata": {},
     "output_type": "execute_result"
    }
   ],
   "source": [
    "# Find only the crimes we want to look at\n",
    "df['ALC_related'] = df['Crime'].apply(find_alc_crime)\n",
    "df = df.dropna(subset=['ZipCode'])\n",
    "# Drop the crimes we don't want to look at\n",
    "drop_indices = df.index[df['ALC_related'] == False].tolist()\n",
    "df_ALC = df.drop(drop_indices, axis=0)\n",
    "# Drop columns which might be privacy violations as well as columns that we don't find useful.\n",
    "df_ALC = df_ALC.drop(columns=['activityDate', 'BLOCK_ADDRESS', 'community', 'agency'])\n",
    "df_ALC.head()"
   ]
  },
  {
   "cell_type": "markdown",
   "metadata": {},
   "source": [
    "### Clean Up Alcohol License Data"
   ]
  },
  {
   "cell_type": "code",
   "execution_count": 8,
   "metadata": {},
   "outputs": [
    {
     "data": {
      "text/html": [
       "<div>\n",
       "<style scoped>\n",
       "    .dataframe tbody tr th:only-of-type {\n",
       "        vertical-align: middle;\n",
       "    }\n",
       "\n",
       "    .dataframe tbody tr th {\n",
       "        vertical-align: top;\n",
       "    }\n",
       "\n",
       "    .dataframe thead th {\n",
       "        text-align: right;\n",
       "    }\n",
       "</style>\n",
       "<table border=\"1\" class=\"dataframe\">\n",
       "  <thead>\n",
       "    <tr style=\"text-align: right;\">\n",
       "      <th></th>\n",
       "      <th>License Type</th>\n",
       "      <th>Geo Code</th>\n",
       "      <th>Prem Zip</th>\n",
       "    </tr>\n",
       "  </thead>\n",
       "  <tbody>\n",
       "    <tr>\n",
       "      <th>0</th>\n",
       "      <td>20</td>\n",
       "      <td>2802</td>\n",
       "      <td>94558-7551</td>\n",
       "    </tr>\n",
       "    <tr>\n",
       "      <th>1</th>\n",
       "      <td>21</td>\n",
       "      <td>4313</td>\n",
       "      <td>95112-2414</td>\n",
       "    </tr>\n",
       "    <tr>\n",
       "      <th>2</th>\n",
       "      <td>41</td>\n",
       "      <td>4313</td>\n",
       "      <td>95134</td>\n",
       "    </tr>\n",
       "    <tr>\n",
       "      <th>3</th>\n",
       "      <td>20</td>\n",
       "      <td>4313</td>\n",
       "      <td>95112-3015</td>\n",
       "    </tr>\n",
       "    <tr>\n",
       "      <th>4</th>\n",
       "      <td>41</td>\n",
       "      <td>4313</td>\n",
       "      <td>95112-3015</td>\n",
       "    </tr>\n",
       "  </tbody>\n",
       "</table>\n",
       "</div>"
      ],
      "text/plain": [
       "   License Type Geo Code    Prem Zip\n",
       "0            20     2802  94558-7551\n",
       "1            21     4313  95112-2414\n",
       "2            41     4313       95134\n",
       "3            20     4313  95112-3015\n",
       "4            41     4313  95112-3015"
      ]
     },
     "execution_count": 8,
     "metadata": {},
     "output_type": "execute_result"
    }
   ],
   "source": [
    "# Clean the df by finding only active licenses\n",
    "alc = alc.loc[alc['Type Status'] == 'ACTIVE']\n",
    "alc = alc.loc[alc['Lic or App'] == 'LIC']\n",
    "# Grab only the columns we wanted \n",
    "alc = alc[['License Type', 'Geo Code', 'Prem Zip']]\n",
    "alc.head()"
   ]
  },
  {
   "cell_type": "code",
   "execution_count": 9,
   "metadata": {},
   "outputs": [],
   "source": [
    "def filt_zip(x):\n",
    "    \"\"\"An apply function to only take the first 5 digits of the zip code\"\"\"\n",
    "    return x[:5]\n",
    "\n",
    "def filter_zips(x):\n",
    "    \"\"\"A function to convert our integer zip code list into a string\"\"\"\n",
    "    return str(x)[:5]\n",
    "\n",
    "#Apply these to the correct columns \n",
    "alc['Prem Zip'] = alc['Prem Zip'].apply(filt_zip)\n",
    "zips = list(map(filter_zips,zip_codes[1:]))"
   ]
  },
  {
   "cell_type": "code",
   "execution_count": 10,
   "metadata": {},
   "outputs": [
    {
     "data": {
      "text/html": [
       "<div>\n",
       "<style scoped>\n",
       "    .dataframe tbody tr th:only-of-type {\n",
       "        vertical-align: middle;\n",
       "    }\n",
       "\n",
       "    .dataframe tbody tr th {\n",
       "        vertical-align: top;\n",
       "    }\n",
       "\n",
       "    .dataframe thead th {\n",
       "        text-align: right;\n",
       "    }\n",
       "</style>\n",
       "<table border=\"1\" class=\"dataframe\">\n",
       "  <thead>\n",
       "    <tr style=\"text-align: right;\">\n",
       "      <th></th>\n",
       "      <th>License Type</th>\n",
       "      <th>Geo Code</th>\n",
       "      <th>Prem Zip</th>\n",
       "    </tr>\n",
       "  </thead>\n",
       "  <tbody>\n",
       "    <tr>\n",
       "      <th>19</th>\n",
       "      <td>42</td>\n",
       "      <td>3710</td>\n",
       "      <td>92121</td>\n",
       "    </tr>\n",
       "    <tr>\n",
       "      <th>22</th>\n",
       "      <td>47</td>\n",
       "      <td>1933</td>\n",
       "      <td>90038</td>\n",
       "    </tr>\n",
       "    <tr>\n",
       "      <th>49</th>\n",
       "      <td>58</td>\n",
       "      <td>1933</td>\n",
       "      <td>90068</td>\n",
       "    </tr>\n",
       "    <tr>\n",
       "      <th>51</th>\n",
       "      <td>47</td>\n",
       "      <td>3710</td>\n",
       "      <td>92101</td>\n",
       "    </tr>\n",
       "    <tr>\n",
       "      <th>54</th>\n",
       "      <td>47</td>\n",
       "      <td>1933</td>\n",
       "      <td>90068</td>\n",
       "    </tr>\n",
       "  </tbody>\n",
       "</table>\n",
       "</div>"
      ],
      "text/plain": [
       "    License Type Geo Code Prem Zip\n",
       "19            42     3710    92121\n",
       "22            47     1933    90038\n",
       "49            58     1933    90068\n",
       "51            47     3710    92101\n",
       "54            47     1933    90068"
      ]
     },
     "execution_count": 10,
     "metadata": {},
     "output_type": "execute_result"
    }
   ],
   "source": [
    "def sd_zips(x):\n",
    "    \"\"\"An apply function to check our df for San Diego zip codes\"\"\"\n",
    "    if x in zips:\n",
    "        return True\n",
    "    else:\n",
    "        return False\n",
    "\n",
    "#A new DataFrame with only San Diego zip codes \n",
    "SD_alc = alc.loc[alc['Prem Zip'].apply(sd_zips)]\n",
    "SD_alc.head()"
   ]
  },
  {
   "cell_type": "markdown",
   "metadata": {},
   "source": [
    "# Data Analysis & Results\n",
    "Include cells that describe the steps in your data analysis."
   ]
  },
  {
   "cell_type": "code",
   "execution_count": 11,
   "metadata": {},
   "outputs": [
    {
     "data": {
      "text/html": [
       "<div>\n",
       "<style scoped>\n",
       "    .dataframe tbody tr th:only-of-type {\n",
       "        vertical-align: middle;\n",
       "    }\n",
       "\n",
       "    .dataframe tbody tr th {\n",
       "        vertical-align: top;\n",
       "    }\n",
       "\n",
       "    .dataframe thead th {\n",
       "        text-align: right;\n",
       "    }\n",
       "</style>\n",
       "<table border=\"1\" class=\"dataframe\">\n",
       "  <thead>\n",
       "    <tr style=\"text-align: right;\">\n",
       "      <th></th>\n",
       "      <th>Crime</th>\n",
       "    </tr>\n",
       "    <tr>\n",
       "      <th>ZipCode</th>\n",
       "      <th></th>\n",
       "    </tr>\n",
       "  </thead>\n",
       "  <tbody>\n",
       "    <tr>\n",
       "      <th>89119</th>\n",
       "      <td>1</td>\n",
       "    </tr>\n",
       "    <tr>\n",
       "      <th>90068</th>\n",
       "      <td>1</td>\n",
       "    </tr>\n",
       "    <tr>\n",
       "      <th>90069</th>\n",
       "      <td>1</td>\n",
       "    </tr>\n",
       "    <tr>\n",
       "      <th>91901</th>\n",
       "      <td>115</td>\n",
       "    </tr>\n",
       "    <tr>\n",
       "      <th>91902</th>\n",
       "      <td>82</td>\n",
       "    </tr>\n",
       "  </tbody>\n",
       "</table>\n",
       "</div>"
      ],
      "text/plain": [
       "         Crime\n",
       "ZipCode       \n",
       "89119        1\n",
       "90068        1\n",
       "90069        1\n",
       "91901      115\n",
       "91902       82"
      ]
     },
     "execution_count": 11,
     "metadata": {},
     "output_type": "execute_result"
    }
   ],
   "source": [
    "# Counts of Alchohol-Related Crime \n",
    "ALC_groups = df_ALC.groupby(df_ALC['ZipCode']).count()\n",
    "ALC_groups = ALC_groups.drop(['Description', 'ALC_related'], axis=1)\n",
    "ALC_groups.head()"
   ]
  },
  {
   "cell_type": "markdown",
   "metadata": {},
   "source": [
    "#### Visualization of the Top 20 Zip Codes with the Highest Levels of Crime\n",
    "\n",
    "This chart is sorted from largest crime count to lowest so we have grabbed the top 20. We can see that one zip code has a significantly larger crime count in comparison to the rest of the zip codes. "
   ]
  },
  {
   "cell_type": "code",
   "execution_count": 12,
   "metadata": {},
   "outputs": [
    {
     "data": {
      "text/plain": [
       "<matplotlib.axes._subplots.AxesSubplot at 0x7f0082159198>"
      ]
     },
     "execution_count": 12,
     "metadata": {},
     "output_type": "execute_result"
    },
    {
     "data": {
      "image/png": "[encoded data removed]",
      "text/plain": [
       "<Figure size 432x288 with 1 Axes>"
      ]
     },
     "metadata": {
      "needs_background": "light"
     },
     "output_type": "display_data"
    }
   ],
   "source": [
    "ALC_groups.sort_values(by=['Crime'], ascending=False)[:20].plot(kind=\"bar\", color='Brown', title='Top 20 ZipCode by Crime')"
   ]
  },
  {
   "cell_type": "code",
   "execution_count": 13,
   "metadata": {},
   "outputs": [
    {
     "data": {
      "text/html": [
       "<div>\n",
       "<style scoped>\n",
       "    .dataframe tbody tr th:only-of-type {\n",
       "        vertical-align: middle;\n",
       "    }\n",
       "\n",
       "    .dataframe tbody tr th {\n",
       "        vertical-align: top;\n",
       "    }\n",
       "\n",
       "    .dataframe thead th {\n",
       "        text-align: right;\n",
       "    }\n",
       "</style>\n",
       "<table border=\"1\" class=\"dataframe\">\n",
       "  <thead>\n",
       "    <tr style=\"text-align: right;\">\n",
       "      <th></th>\n",
       "      <th>License</th>\n",
       "    </tr>\n",
       "  </thead>\n",
       "  <tbody>\n",
       "    <tr>\n",
       "      <th>92101</th>\n",
       "      <td>788</td>\n",
       "    </tr>\n",
       "    <tr>\n",
       "      <th>90069</th>\n",
       "      <td>296</td>\n",
       "    </tr>\n",
       "    <tr>\n",
       "      <th>92109</th>\n",
       "      <td>259</td>\n",
       "    </tr>\n",
       "    <tr>\n",
       "      <th>92037</th>\n",
       "      <td>244</td>\n",
       "    </tr>\n",
       "    <tr>\n",
       "      <th>92110</th>\n",
       "      <td>241</td>\n",
       "    </tr>\n",
       "  </tbody>\n",
       "</table>\n",
       "</div>"
      ],
      "text/plain": [
       "       License\n",
       "92101      788\n",
       "90069      296\n",
       "92109      259\n",
       "92037      244\n",
       "92110      241"
      ]
     },
     "execution_count": 13,
     "metadata": {},
     "output_type": "execute_result"
    }
   ],
   "source": [
    "alc_counts = SD_alc['Prem Zip'].value_counts()\n",
    "alc_counts = alc_counts.to_frame()\n",
    "alc_counts['License'] = alc_counts['Prem Zip']\n",
    "alc_counts = alc_counts.drop(['Prem Zip'], axis=1)\n",
    "alc_counts.head()"
   ]
  },
  {
   "cell_type": "markdown",
   "metadata": {},
   "source": [
    "#### Visualization of the Top 20 Zip Codes with the Highest Counts of Alcohol License\n",
    "\n",
    "This chart is sorted from largest alcohol license count to lowest and we have grabbed the top 20. We can see that the same zip code also has the most alcohol licenses."
   ]
  },
  {
   "cell_type": "code",
   "execution_count": 14,
   "metadata": {},
   "outputs": [
    {
     "data": {
      "text/plain": [
       "<matplotlib.axes._subplots.AxesSubplot at 0x7f0082024080>"
      ]
     },
     "execution_count": 14,
     "metadata": {},
     "output_type": "execute_result"
    },
    {
     "data": {
      "image/png": "[encoded data removed]",
      "text/plain": [
       "<Figure size 432x288 with 1 Axes>"
      ]
     },
     "metadata": {
      "needs_background": "light"
     },
     "output_type": "display_data"
    }
   ],
   "source": [
    "alc_counts[:20].plot(kind='bar', title='Top 20 ZipCodes by License Count')"
   ]
  },
  {
   "cell_type": "markdown",
   "metadata": {},
   "source": [
    "#### Merge the Two DataFrames"
   ]
  },
  {
   "cell_type": "code",
   "execution_count": 15,
   "metadata": {},
   "outputs": [
    {
     "data": {
      "text/html": [
       "<div>\n",
       "<style scoped>\n",
       "    .dataframe tbody tr th:only-of-type {\n",
       "        vertical-align: middle;\n",
       "    }\n",
       "\n",
       "    .dataframe tbody tr th {\n",
       "        vertical-align: top;\n",
       "    }\n",
       "\n",
       "    .dataframe thead th {\n",
       "        text-align: right;\n",
       "    }\n",
       "</style>\n",
       "<table border=\"1\" class=\"dataframe\">\n",
       "  <thead>\n",
       "    <tr style=\"text-align: right;\">\n",
       "      <th></th>\n",
       "      <th>Crime</th>\n",
       "      <th>License</th>\n",
       "    </tr>\n",
       "  </thead>\n",
       "  <tbody>\n",
       "    <tr>\n",
       "      <th>89119</th>\n",
       "      <td>1.0</td>\n",
       "      <td>1.0</td>\n",
       "    </tr>\n",
       "    <tr>\n",
       "      <th>90068</th>\n",
       "      <td>1.0</td>\n",
       "      <td>36.0</td>\n",
       "    </tr>\n",
       "    <tr>\n",
       "      <th>90069</th>\n",
       "      <td>1.0</td>\n",
       "      <td>296.0</td>\n",
       "    </tr>\n",
       "    <tr>\n",
       "      <th>91901</th>\n",
       "      <td>115.0</td>\n",
       "      <td>50.0</td>\n",
       "    </tr>\n",
       "    <tr>\n",
       "      <th>91902</th>\n",
       "      <td>82.0</td>\n",
       "      <td>32.0</td>\n",
       "    </tr>\n",
       "  </tbody>\n",
       "</table>\n",
       "</div>"
      ],
      "text/plain": [
       "       Crime  License\n",
       "89119    1.0      1.0\n",
       "90068    1.0     36.0\n",
       "90069    1.0    296.0\n",
       "91901  115.0     50.0\n",
       "91902   82.0     32.0"
      ]
     },
     "execution_count": 15,
     "metadata": {},
     "output_type": "execute_result"
    }
   ],
   "source": [
    "# the 'Crime' column is the column of crime counts for each zip code\n",
    "# the 'License' column has the counts of the License \n",
    "counts = pd.merge(ALC_groups, alc_counts, how ='outer', left_index=True, right_index=True).dropna()\n",
    "counts.head()"
   ]
  },
  {
   "cell_type": "markdown",
   "metadata": {},
   "source": [
    "#### A scatterplot of crime counts plotted against license counts"
   ]
  },
  {
   "cell_type": "code",
   "execution_count": 16,
   "metadata": {},
   "outputs": [
    {
     "name": "stderr",
     "output_type": "stream",
     "text": [
      "/opt/conda/lib/python3.6/site-packages/scipy/stats/stats.py:1713: FutureWarning: Using a non-tuple sequence for multidimensional indexing is deprecated; use `arr[tuple(seq)]` instead of `arr[seq]`. In the future this will be interpreted as an array index, `arr[np.array(seq)]`, which will result either in an error or a different result.\n",
      "  return np.add.reduce(sorted[indexer] * weights, axis=axis) / sumval\n"
     ]
    },
    {
     "data": {
      "text/plain": [
       "<seaborn.axisgrid.FacetGrid at 0x7f0081f2f828>"
      ]
     },
     "execution_count": 16,
     "metadata": {},
     "output_type": "execute_result"
    },
    {
     "data": {
      "image/png": "[encoded data removed]",
      "text/plain": [
       "<Figure size 360x360 with 1 Axes>"
      ]
     },
     "metadata": {
      "needs_background": "light"
     },
     "output_type": "display_data"
    }
   ],
   "source": [
    "sns.lmplot(x='Crime', y='License', data=counts, line_kws={'color': 'Brown'})"
   ]
  },
  {
   "cell_type": "markdown",
   "metadata": {},
   "source": [
    "#### OLS Regression for Crime and Licenses\n",
    "Through this we can see that when we can see that with a p-value of 0.000 and an alpha level of 0.01, we can say that 'License' can significantly predict 'Crime'. Using the R-Squared value, of 0.574, we can see that License and Crime rates are positively correlated, however it is not an extremely strong correlation either. "
   ]
  },
  {
   "cell_type": "code",
   "execution_count": 17,
   "metadata": {},
   "outputs": [
    {
     "name": "stdout",
     "output_type": "stream",
     "text": [
      "                            OLS Regression Results                            \n",
      "==============================================================================\n",
      "Dep. Variable:                  Crime   R-squared:                       0.574\n",
      "Model:                            OLS   Adj. R-squared:                  0.570\n",
      "Method:                 Least Squares   F-statistic:                     142.8\n",
      "Date:                Tue, 17 Mar 2020   Prob (F-statistic):           2.33e-21\n",
      "Time:                        17:00:30   Log-Likelihood:                -743.13\n",
      "No. Observations:                 108   AIC:                             1490.\n",
      "Df Residuals:                     106   BIC:                             1496.\n",
      "Df Model:                           1                                         \n",
      "Covariance Type:            nonrobust                                         \n",
      "==============================================================================\n",
      "                 coef    std err          t      P>|t|      [0.025      0.975]\n",
      "------------------------------------------------------------------------------\n",
      "Intercept     84.6505     30.501      2.775      0.007      24.178     145.123\n",
      "License        2.8570      0.239     11.950      0.000       2.383       3.331\n",
      "==============================================================================\n",
      "Omnibus:                        9.230   Durbin-Watson:                   1.312\n",
      "Prob(Omnibus):                  0.010   Jarque-Bera (JB):               18.425\n",
      "Skew:                          -0.211   Prob(JB):                     9.98e-05\n",
      "Kurtosis:                       4.979   Cond. No.                         170.\n",
      "==============================================================================\n",
      "\n",
      "Warnings:\n",
      "[1] Standard Errors assume that the covariance matrix of the errors is correctly specified.\n"
     ]
    }
   ],
   "source": [
    "outcome, predictor = patsy.dmatrices('Crime ~ License', counts)\n",
    "mod = sm.OLS(outcome, predictor)\n",
    "res = mod.fit()\n",
    "print(res.summary())"
   ]
  },
  {
   "cell_type": "markdown",
   "metadata": {},
   "source": [
    "#### Visualization of the Counts of Specific Crimes\n",
    "A bar graph was created to display and visualize the counts of the six category of crimes we are looking at. \"THEFT/Larceny\" has the largest number of crimes (9,271), \"ASSAULT\" has the second largest number (7,348), and \"VEHICLE BREAK-IN/THEFT\" has the third largest number of crimes(6,782).\n",
    "\n",
    "It is interesting that \"THEFT/LARCENY\" has the greatest number of crimes associated with this category, as the previous studies used for the background and prior work focused their research on assault related crimes."
   ]
  },
  {
   "cell_type": "code",
   "execution_count": 18,
   "metadata": {},
   "outputs": [
    {
     "data": {
      "text/plain": [
       "Crime\n",
       "ASSAULT                7348\n",
       "DUI                    2495\n",
       "MOTOR VEHICLE THEFT    4805\n",
       "THEFT/LARCENY          9271\n",
       "VANDALISM              4537\n",
       "dtype: int64"
      ]
     },
     "execution_count": 18,
     "metadata": {},
     "output_type": "execute_result"
    }
   ],
   "source": [
    "# Drop all irrelevant columns of df_ALC and create new crime dataframe\n",
    "df_Crime = df_ALC.drop(columns=['Description', 'ZipCode' , 'ALC_related'], axis = 1)\n",
    "# Groupby crime and create new column that counts each crime\n",
    "df_Crime['Count'] = df_Crime.groupby('Crime')['Crime'].transform('count')\n",
    "df_Crime = df_Crime.groupby(['Crime']).size()\n",
    "df_Crime.head()"
   ]
  },
  {
   "cell_type": "code",
   "execution_count": 19,
   "metadata": {},
   "outputs": [
    {
     "data": {
      "text/plain": [
       "Text(0, 0.5, 'Crime')"
      ]
     },
     "execution_count": 19,
     "metadata": {},
     "output_type": "execute_result"
    },
    {
     "data": {
      "image/png": "[encoded data removed]",
      "text/plain": [
       "<Figure size 432x288 with 1 Axes>"
      ]
     },
     "metadata": {
      "needs_background": "light"
     },
     "output_type": "display_data"
    }
   ],
   "source": [
    "#Creates the bar graph \n",
    "Crime_Counts = df_Crime.plot.barh(title = 'Crime Counts in San Diego County', x='Crime', y='Count', rot=0, Color = 'Brown')\n",
    "Crime_Counts.set_xlabel(\"Counts\")\n",
    "Crime_Counts.set_ylabel(\"Crime\")"
   ]
  },
  {
   "cell_type": "markdown",
   "metadata": {},
   "source": [
    "#### Specific Crimes Per Zipcode\n",
    "We can use the groupby function to organize by specific crimes within each zipcode. This will allow us to analyze the relationship between the number of alcohol licenses and these specific crimes."
   ]
  },
  {
   "cell_type": "code",
   "execution_count": 20,
   "metadata": {},
   "outputs": [
    {
     "data": {
      "text/html": [
       "<div>\n",
       "<style scoped>\n",
       "    .dataframe tbody tr th:only-of-type {\n",
       "        vertical-align: middle;\n",
       "    }\n",
       "\n",
       "    .dataframe tbody tr th {\n",
       "        vertical-align: top;\n",
       "    }\n",
       "\n",
       "    .dataframe thead th {\n",
       "        text-align: right;\n",
       "    }\n",
       "</style>\n",
       "<table border=\"1\" class=\"dataframe\">\n",
       "  <thead>\n",
       "    <tr style=\"text-align: right;\">\n",
       "      <th></th>\n",
       "      <th></th>\n",
       "      <th>0</th>\n",
       "    </tr>\n",
       "    <tr>\n",
       "      <th>ZipCode</th>\n",
       "      <th>Crime</th>\n",
       "      <th></th>\n",
       "    </tr>\n",
       "  </thead>\n",
       "  <tbody>\n",
       "    <tr>\n",
       "      <th>89119</th>\n",
       "      <th>THEFT/LARCENY</th>\n",
       "      <td>1</td>\n",
       "    </tr>\n",
       "    <tr>\n",
       "      <th>90068</th>\n",
       "      <th>THEFT/LARCENY</th>\n",
       "      <td>1</td>\n",
       "    </tr>\n",
       "    <tr>\n",
       "      <th>90069</th>\n",
       "      <th>THEFT/LARCENY</th>\n",
       "      <td>1</td>\n",
       "    </tr>\n",
       "    <tr>\n",
       "      <th rowspan=\"6\" valign=\"top\">91901</th>\n",
       "      <th>ASSAULT</th>\n",
       "      <td>32</td>\n",
       "    </tr>\n",
       "    <tr>\n",
       "      <th>DUI</th>\n",
       "      <td>3</td>\n",
       "    </tr>\n",
       "    <tr>\n",
       "      <th>MOTOR VEHICLE THEFT</th>\n",
       "      <td>22</td>\n",
       "    </tr>\n",
       "    <tr>\n",
       "      <th>THEFT/LARCENY</th>\n",
       "      <td>28</td>\n",
       "    </tr>\n",
       "    <tr>\n",
       "      <th>VANDALISM</th>\n",
       "      <td>13</td>\n",
       "    </tr>\n",
       "    <tr>\n",
       "      <th>VEHICLE BREAK-IN/THEFT</th>\n",
       "      <td>17</td>\n",
       "    </tr>\n",
       "    <tr>\n",
       "      <th rowspan=\"5\" valign=\"top\">91902</th>\n",
       "      <th>ASSAULT</th>\n",
       "      <td>17</td>\n",
       "    </tr>\n",
       "    <tr>\n",
       "      <th>MOTOR VEHICLE THEFT</th>\n",
       "      <td>15</td>\n",
       "    </tr>\n",
       "    <tr>\n",
       "      <th>THEFT/LARCENY</th>\n",
       "      <td>7</td>\n",
       "    </tr>\n",
       "    <tr>\n",
       "      <th>VANDALISM</th>\n",
       "      <td>8</td>\n",
       "    </tr>\n",
       "    <tr>\n",
       "      <th>VEHICLE BREAK-IN/THEFT</th>\n",
       "      <td>35</td>\n",
       "    </tr>\n",
       "    <tr>\n",
       "      <th>91905</th>\n",
       "      <th>ASSAULT</th>\n",
       "      <td>2</td>\n",
       "    </tr>\n",
       "  </tbody>\n",
       "</table>\n",
       "</div>"
      ],
      "text/plain": [
       "                                 0\n",
       "ZipCode Crime                     \n",
       "89119   THEFT/LARCENY            1\n",
       "90068   THEFT/LARCENY            1\n",
       "90069   THEFT/LARCENY            1\n",
       "91901   ASSAULT                 32\n",
       "        DUI                      3\n",
       "        MOTOR VEHICLE THEFT     22\n",
       "        THEFT/LARCENY           28\n",
       "        VANDALISM               13\n",
       "        VEHICLE BREAK-IN/THEFT  17\n",
       "91902   ASSAULT                 17\n",
       "        MOTOR VEHICLE THEFT     15\n",
       "        THEFT/LARCENY            7\n",
       "        VANDALISM                8\n",
       "        VEHICLE BREAK-IN/THEFT  35\n",
       "91905   ASSAULT                  2"
      ]
     },
     "execution_count": 20,
     "metadata": {},
     "output_type": "execute_result"
    }
   ],
   "source": [
    "#Groupby ZipCode and drop all unnecessary columns \n",
    "ALC_groups = df_ALC.groupby(df_ALC['ZipCode']).count()\n",
    "ALC_groups = ALC_groups.drop(['Description', 'ALC_related'], axis=1)\n",
    "ALC_groups[ALC_groups['Crime'] > 0]\n",
    "\n",
    "ALC_crimes = df_ALC.groupby(['ZipCode', 'Crime']).size()\n",
    "ALC_crimes_df = pd.DataFrame(ALC_crimes)\n",
    "ALC_crimes_df.head(15)"
   ]
  },
  {
   "cell_type": "markdown",
   "metadata": {},
   "source": [
    "#### Assault Crimes Analysis\n",
    "\n",
    "Looking deeper into the crime data, we can perform a much more specific analysis on certain types of crime. Here we will be performing a similar analysis to the one we performed above but on Assault crimes alone. According to the sources we provided in the background for this project, alcohol outlet density should be significantly associated with violent crimes (Alcohol Outlets and Violent Crime in Washington D.C.). We can perform OLS Regression on the number of assault crimes and alcohol licenses in each zipcode in order to see if that claim holds up."
   ]
  },
  {
   "cell_type": "markdown",
   "metadata": {},
   "source": [
    "First we must create a new dataframe that contains only the amount of assault crimes in each neighborhood."
   ]
  },
  {
   "cell_type": "code",
   "execution_count": 21,
   "metadata": {},
   "outputs": [
    {
     "data": {
      "text/html": [
       "<div>\n",
       "<style scoped>\n",
       "    .dataframe tbody tr th:only-of-type {\n",
       "        vertical-align: middle;\n",
       "    }\n",
       "\n",
       "    .dataframe tbody tr th {\n",
       "        vertical-align: top;\n",
       "    }\n",
       "\n",
       "    .dataframe thead th {\n",
       "        text-align: right;\n",
       "    }\n",
       "</style>\n",
       "<table border=\"1\" class=\"dataframe\">\n",
       "  <thead>\n",
       "    <tr style=\"text-align: right;\">\n",
       "      <th></th>\n",
       "      <th>0</th>\n",
       "    </tr>\n",
       "    <tr>\n",
       "      <th>ZipCode</th>\n",
       "      <th></th>\n",
       "    </tr>\n",
       "  </thead>\n",
       "  <tbody>\n",
       "    <tr>\n",
       "      <th>91901</th>\n",
       "      <td>32</td>\n",
       "    </tr>\n",
       "    <tr>\n",
       "      <th>91902</th>\n",
       "      <td>17</td>\n",
       "    </tr>\n",
       "    <tr>\n",
       "      <th>91905</th>\n",
       "      <td>2</td>\n",
       "    </tr>\n",
       "    <tr>\n",
       "      <th>91906</th>\n",
       "      <td>9</td>\n",
       "    </tr>\n",
       "    <tr>\n",
       "      <th>91910</th>\n",
       "      <td>203</td>\n",
       "    </tr>\n",
       "    <tr>\n",
       "      <th>91911</th>\n",
       "      <td>158</td>\n",
       "    </tr>\n",
       "    <tr>\n",
       "      <th>91913</th>\n",
       "      <td>27</td>\n",
       "    </tr>\n",
       "    <tr>\n",
       "      <th>91914</th>\n",
       "      <td>16</td>\n",
       "    </tr>\n",
       "    <tr>\n",
       "      <th>91915</th>\n",
       "      <td>15</td>\n",
       "    </tr>\n",
       "    <tr>\n",
       "      <th>91917</th>\n",
       "      <td>2</td>\n",
       "    </tr>\n",
       "  </tbody>\n",
       "</table>\n",
       "</div>"
      ],
      "text/plain": [
       "           0\n",
       "ZipCode     \n",
       "91901     32\n",
       "91902     17\n",
       "91905      2\n",
       "91906      9\n",
       "91910    203\n",
       "91911    158\n",
       "91913     27\n",
       "91914     16\n",
       "91915     15\n",
       "91917      2"
      ]
     },
     "execution_count": 21,
     "metadata": {},
     "output_type": "execute_result"
    }
   ],
   "source": [
    "#Drop all entries in our dataframe that are unrelated to assault.\n",
    "crime_drop = df_ALC.index[df_ALC['Crime'] != 'ASSAULT'].tolist()\n",
    "Assault_df = df_ALC.drop(crime_drop, axis=0)\n",
    "#Group the remaining data by zipcode\n",
    "ALC_assault = Assault_df.groupby(['ZipCode']).size()\n",
    "ALC_assault_df = pd.DataFrame(ALC_assault)\n",
    "ALC_assault_df.head(10)"
   ]
  },
  {
   "cell_type": "markdown",
   "metadata": {},
   "source": [
    "#### Visualization of the first 20 ZipCodes in our data and their number of assaults"
   ]
  },
  {
   "cell_type": "code",
   "execution_count": 22,
   "metadata": {},
   "outputs": [
    {
     "data": {
      "text/plain": [
       "<matplotlib.legend.Legend at 0x7f0081daac50>"
      ]
     },
     "execution_count": 22,
     "metadata": {},
     "output_type": "execute_result"
    },
    {
     "data": {
      "image/png": "[encoded data removed]",
      "text/plain": [
       "<Figure size 432x288 with 1 Axes>"
      ]
     },
     "metadata": {
      "needs_background": "light"
     },
     "output_type": "display_data"
    }
   ],
   "source": [
    "ag = ALC_assault_df[:20].plot(kind='bar', title='Assaults per ZipCode',color='Red')\n",
    "ag.set_xlabel(\"ZipCodes\")\n",
    "ag.set_ylabel(\"Assaults\")\n",
    "ag.legend([\"Assaults\"])"
   ]
  },
  {
   "cell_type": "markdown",
   "metadata": {},
   "source": [
    "We then can combine the dataframe that contains the number of assaults per zipcode with the license counts per zipcode so that we can later perform OLS Regression on this data."
   ]
  },
  {
   "cell_type": "code",
   "execution_count": 23,
   "metadata": {},
   "outputs": [
    {
     "data": {
      "text/html": [
       "<div>\n",
       "<style scoped>\n",
       "    .dataframe tbody tr th:only-of-type {\n",
       "        vertical-align: middle;\n",
       "    }\n",
       "\n",
       "    .dataframe tbody tr th {\n",
       "        vertical-align: top;\n",
       "    }\n",
       "\n",
       "    .dataframe thead th {\n",
       "        text-align: right;\n",
       "    }\n",
       "</style>\n",
       "<table border=\"1\" class=\"dataframe\">\n",
       "  <thead>\n",
       "    <tr style=\"text-align: right;\">\n",
       "      <th></th>\n",
       "      <th>AssaultCounts</th>\n",
       "      <th>LicenseCounts</th>\n",
       "    </tr>\n",
       "  </thead>\n",
       "  <tbody>\n",
       "    <tr>\n",
       "      <th>91901</th>\n",
       "      <td>32.0</td>\n",
       "      <td>50.0</td>\n",
       "    </tr>\n",
       "    <tr>\n",
       "      <th>91902</th>\n",
       "      <td>17.0</td>\n",
       "      <td>32.0</td>\n",
       "    </tr>\n",
       "    <tr>\n",
       "      <th>91905</th>\n",
       "      <td>2.0</td>\n",
       "      <td>4.0</td>\n",
       "    </tr>\n",
       "    <tr>\n",
       "      <th>91906</th>\n",
       "      <td>9.0</td>\n",
       "      <td>13.0</td>\n",
       "    </tr>\n",
       "    <tr>\n",
       "      <th>91910</th>\n",
       "      <td>203.0</td>\n",
       "      <td>167.0</td>\n",
       "    </tr>\n",
       "  </tbody>\n",
       "</table>\n",
       "</div>"
      ],
      "text/plain": [
       "       AssaultCounts  LicenseCounts\n",
       "91901           32.0           50.0\n",
       "91902           17.0           32.0\n",
       "91905            2.0            4.0\n",
       "91906            9.0           13.0\n",
       "91910          203.0          167.0"
      ]
     },
     "execution_count": 23,
     "metadata": {},
     "output_type": "execute_result"
    }
   ],
   "source": [
    "Assault_counts = pd.merge(ALC_assault_df, alc_counts, how ='outer', left_index=True, right_index=True).dropna()\n",
    "Assault_counts.columns = ['AssaultCounts', 'LicenseCounts']\n",
    "Assault_counts.head()"
   ]
  },
  {
   "cell_type": "markdown",
   "metadata": {},
   "source": [
    "#### A scatterplot of assault crimes plotted against license counts"
   ]
  },
  {
   "cell_type": "code",
   "execution_count": 24,
   "metadata": {},
   "outputs": [
    {
     "data": {
      "text/plain": [
       "<seaborn.axisgrid.FacetGrid at 0x7f00813f4710>"
      ]
     },
     "execution_count": 24,
     "metadata": {},
     "output_type": "execute_result"
    },
    {
     "data": {
      "image/png": "[encoded data removed]",
      "text/plain": [
       "<Figure size 360x360 with 1 Axes>"
      ]
     },
     "metadata": {
      "needs_background": "light"
     },
     "output_type": "display_data"
    }
   ],
   "source": [
    "sns.lmplot(x='AssaultCounts', y='LicenseCounts', data=Assault_counts, line_kws={'color': 'red'})"
   ]
  },
  {
   "cell_type": "markdown",
   "metadata": {},
   "source": [
    "#### OLS Regression for Assault Crimes and Licenses\n",
    "\n",
    "We can see that performing an OLS Regression on assault crime counts and license counts gives us a p-value of 0.000 and an R_Squared value of 0.563. This is very similar to the results for OLS Regression when considering all crimes regardless of type. This means that we can say that based on the p-value, 'LicenseCounts' can predict 'AssaultCounts' as we reject the null hypothesis as our p-value is below 0.05. Additionally, based on the R-Squared value, we can see that, much like with all crimes, there is a positive correlation between the two, albeit not a strong one. \n",
    "\n",
    "In regards to claims made by the sources in the background that there is a significant association between alcohol outlet density and violent crimes, we can tell from this OLS Regression that there is some truth to this claim. There definitely appears to be a positive correlation between the two, however, the signifigance of this correlation may not be as great as the source claims. Overall however, we do observe some kind of positive correlation between violent assault crimes and alcohol license counts. And this discrepancy in results could come from a bias in the sources' data, where the data may have been effected by ecological fallacy."
   ]
  },
  {
   "cell_type": "code",
   "execution_count": 25,
   "metadata": {},
   "outputs": [
    {
     "name": "stdout",
     "output_type": "stream",
     "text": [
      "                            OLS Regression Results                            \n",
      "==============================================================================\n",
      "Dep. Variable:          AssaultCounts   R-squared:                       0.563\n",
      "Model:                            OLS   Adj. R-squared:                  0.558\n",
      "Method:                 Least Squares   F-statistic:                     119.8\n",
      "Date:                Tue, 17 Mar 2020   Prob (F-statistic):           2.10e-18\n",
      "Time:                        17:00:31   Log-Likelihood:                -535.90\n",
      "No. Observations:                  95   AIC:                             1076.\n",
      "Df Residuals:                      93   BIC:                             1081.\n",
      "Df Model:                           1                                         \n",
      "Covariance Type:            nonrobust                                         \n",
      "=================================================================================\n",
      "                    coef    std err          t      P>|t|      [0.025      0.975]\n",
      "---------------------------------------------------------------------------------\n",
      "Intercept         5.2878      9.643      0.548      0.585     -13.861      24.437\n",
      "LicenseCounts     0.8047      0.074     10.945      0.000       0.659       0.951\n",
      "==============================================================================\n",
      "Omnibus:                       32.816   Durbin-Watson:                   1.607\n",
      "Prob(Omnibus):                  0.000   Jarque-Bera (JB):               86.578\n",
      "Skew:                           1.190   Prob(JB):                     1.58e-19\n",
      "Kurtosis:                       7.026   Cond. No.                         179.\n",
      "==============================================================================\n",
      "\n",
      "Warnings:\n",
      "[1] Standard Errors assume that the covariance matrix of the errors is correctly specified.\n"
     ]
    }
   ],
   "source": [
    "as_outcome, as_predictor = patsy.dmatrices('AssaultCounts ~ LicenseCounts', Assault_counts)\n",
    "as_mod = sm.OLS(as_outcome, as_predictor)\n",
    "as_res = as_mod.fit()\n",
    "print(as_res.summary())"
   ]
  },
  {
   "cell_type": "markdown",
   "metadata": {},
   "source": [
    "#### DUI Crimes Analysis\n",
    "\n",
    "While we have selected the crimes that seem the most related to alcohol, we can't be sure if all of the crimes in our dataset are actually related to alcohol or drinking in any way. However, we can be confident in our assumption that DUI crimes are related to alcohol/drinking. While DUI crimes include all kinds of substance abuse and not just alcohol, it can be assumed that there will be a higher correlation between license counts and DUI crimes than between license counts and all of the crimes at once."
   ]
  },
  {
   "cell_type": "code",
   "execution_count": 26,
   "metadata": {},
   "outputs": [
    {
     "data": {
      "text/html": [
       "<div>\n",
       "<style scoped>\n",
       "    .dataframe tbody tr th:only-of-type {\n",
       "        vertical-align: middle;\n",
       "    }\n",
       "\n",
       "    .dataframe tbody tr th {\n",
       "        vertical-align: top;\n",
       "    }\n",
       "\n",
       "    .dataframe thead th {\n",
       "        text-align: right;\n",
       "    }\n",
       "</style>\n",
       "<table border=\"1\" class=\"dataframe\">\n",
       "  <thead>\n",
       "    <tr style=\"text-align: right;\">\n",
       "      <th></th>\n",
       "      <th>DUICounts</th>\n",
       "      <th>LicenseCounts</th>\n",
       "    </tr>\n",
       "  </thead>\n",
       "  <tbody>\n",
       "    <tr>\n",
       "      <th>91901</th>\n",
       "      <td>3.0</td>\n",
       "      <td>50.0</td>\n",
       "    </tr>\n",
       "    <tr>\n",
       "      <th>91910</th>\n",
       "      <td>73.0</td>\n",
       "      <td>167.0</td>\n",
       "    </tr>\n",
       "    <tr>\n",
       "      <th>91911</th>\n",
       "      <td>48.0</td>\n",
       "      <td>114.0</td>\n",
       "    </tr>\n",
       "    <tr>\n",
       "      <th>91913</th>\n",
       "      <td>19.0</td>\n",
       "      <td>16.0</td>\n",
       "    </tr>\n",
       "    <tr>\n",
       "      <th>91914</th>\n",
       "      <td>2.0</td>\n",
       "      <td>18.0</td>\n",
       "    </tr>\n",
       "  </tbody>\n",
       "</table>\n",
       "</div>"
      ],
      "text/plain": [
       "       DUICounts  LicenseCounts\n",
       "91901        3.0           50.0\n",
       "91910       73.0          167.0\n",
       "91911       48.0          114.0\n",
       "91913       19.0           16.0\n",
       "91914        2.0           18.0"
      ]
     },
     "execution_count": 26,
     "metadata": {},
     "output_type": "execute_result"
    }
   ],
   "source": [
    "#Drop all entries in our dataframe that are unrelated to DUI crime.\n",
    "dui_drop = df_ALC.index[df_ALC['Crime'] != 'DUI'].tolist()\n",
    "dui_df = df_ALC.drop(dui_drop, axis=0)\n",
    "#Group the remaining data by zipcode\n",
    "ALC_dui = dui_df.groupby(['ZipCode']).size()\n",
    "ALC_dui_df = pd.DataFrame(ALC_dui)\n",
    "#Merge with license count data\n",
    "DUI_counts = pd.merge(ALC_dui_df, alc_counts, how ='outer', left_index=True, right_index=True).dropna()\n",
    "DUI_counts.columns = ['DUICounts', 'LicenseCounts']\n",
    "DUI_counts.head()"
   ]
  },
  {
   "cell_type": "markdown",
   "metadata": {},
   "source": [
    "#### Visualization of the first 20 ZipCodes in our data and their number of DUIs"
   ]
  },
  {
   "cell_type": "code",
   "execution_count": 27,
   "metadata": {},
   "outputs": [
    {
     "data": {
      "text/plain": [
       "<matplotlib.legend.Legend at 0x7f008133aeb8>"
      ]
     },
     "execution_count": 27,
     "metadata": {},
     "output_type": "execute_result"
    },
    {
     "data": {
      "image/png": "[encoded data removed]",
      "text/plain": [
       "<Figure size 432x288 with 1 Axes>"
      ]
     },
     "metadata": {
      "needs_background": "light"
     },
     "output_type": "display_data"
    }
   ],
   "source": [
    "ag = ALC_dui_df[:20].plot(kind='bar', title='DUI Crimes per ZipCode',color='Green')\n",
    "ag.set_xlabel(\"ZipCodes\")\n",
    "ag.set_ylabel(\"DUI Crimes\")\n",
    "ag.legend([\"DUIs\"])"
   ]
  },
  {
   "cell_type": "markdown",
   "metadata": {},
   "source": [
    "#### A scatterplot of DUI crimes plotted against license counts"
   ]
  },
  {
   "cell_type": "code",
   "execution_count": 28,
   "metadata": {},
   "outputs": [
    {
     "data": {
      "text/plain": [
       "<seaborn.axisgrid.FacetGrid at 0x7f007ffa0e80>"
      ]
     },
     "execution_count": 28,
     "metadata": {},
     "output_type": "execute_result"
    },
    {
     "data": {
      "image/png": "[encoded data removed]",
      "text/plain": [
       "<Figure size 360x360 with 1 Axes>"
      ]
     },
     "metadata": {
      "needs_background": "light"
     },
     "output_type": "display_data"
    }
   ],
   "source": [
    "sns.lmplot(x='DUICounts', y='LicenseCounts', data=DUI_counts, line_kws={'color': 'green'})"
   ]
  },
  {
   "cell_type": "markdown",
   "metadata": {},
   "source": [
    "#### OLS Regression for DUI Crimes and License\n",
    "\n",
    "Performing this OLS Regression provides some surprising results. While we had expected there to be a stronger correlation between DUIs and Alcohol Licenses, we can actually see that with an R-squared value of around 0.184, there is only a weak positive correlation between the two. However, given that we have a p-value of 0.000, we can reject the null hypothesis and claim there to be some relation between the two.\n",
    "\n",
    "These results may seem surprising at first, but they actually make sense. Just because someone purchased alcohol in a specific area doesn't mean that they got pulled over in that same area. It makes sense that we don't see a strong correlation between License counts and DUIs because presumably, by the time the intoxicated person has been pulled over and received the DUI, they have already left the area in which they got intoxicated in the first place. Based on this, it is not surprising that we don't see an extremely strong correlation between the two values."
   ]
  },
  {
   "cell_type": "code",
   "execution_count": 29,
   "metadata": {},
   "outputs": [
    {
     "name": "stdout",
     "output_type": "stream",
     "text": [
      "                            OLS Regression Results                            \n",
      "==============================================================================\n",
      "Dep. Variable:              DUICounts   R-squared:                       0.184\n",
      "Model:                            OLS   Adj. R-squared:                  0.173\n",
      "Method:                 Least Squares   F-statistic:                     16.70\n",
      "Date:                Tue, 17 Mar 2020   Prob (F-statistic):           0.000110\n",
      "Time:                        17:00:32   Log-Likelihood:                -368.69\n",
      "No. Observations:                  76   AIC:                             741.4\n",
      "Df Residuals:                      74   BIC:                             746.0\n",
      "Df Model:                           1                                         \n",
      "Covariance Type:            nonrobust                                         \n",
      "=================================================================================\n",
      "                    coef    std err          t      P>|t|      [0.025      0.975]\n",
      "---------------------------------------------------------------------------------\n",
      "Intercept        17.3420      5.206      3.331      0.001       6.968      27.716\n",
      "LicenseCounts     0.1479      0.036      4.087      0.000       0.076       0.220\n",
      "==============================================================================\n",
      "Omnibus:                       49.186   Durbin-Watson:                   1.783\n",
      "Prob(Omnibus):                  0.000   Jarque-Bera (JB):              161.445\n",
      "Skew:                           2.110   Prob(JB):                     8.76e-36\n",
      "Kurtosis:                       8.760   Cond. No.                         208.\n",
      "==============================================================================\n",
      "\n",
      "Warnings:\n",
      "[1] Standard Errors assume that the covariance matrix of the errors is correctly specified.\n"
     ]
    }
   ],
   "source": [
    "dui_outcome, dui_predictor = patsy.dmatrices('DUICounts ~ LicenseCounts', DUI_counts)\n",
    "dui_mod = sm.OLS(dui_outcome, dui_predictor)\n",
    "dui_res = dui_mod.fit()\n",
    "print(dui_res.summary())"
   ]
  },
  {
   "cell_type": "markdown",
   "metadata": {},
   "source": [
    "# Ethics & Privacy\n",
    "\n",
    "The data was provided by websites online however it can be utilized as long as credit and citations are provided, as done in the 'Datasets' section. On top of that, as long as the study of “human subjects” have given informed consent and has a clear understanding we are allowed to use the data/dataset. Since we are using crime data it would be best and more ethical to ensure there is no identifiable information in our datasets. We've removed anything we considered to be 'identifiable' to ensure it followed the 'Safe Harbor' methods. We removed addresses from both datasets as well as times and dates. However, we kept the zipcodes with the full 5 digits. This was due to the fact that without using the full 5 digits, our analyses would not have given significant results. \n",
    "\n",
    "Collective Bias: Additionally, since we are using crime data, it can lead to unintended biases. For example, minorities are more likely to be targeted as perpetrators of crimes. Additionally, many minorities live in 'poorer' neighborhoods and would be clumped up geographically. So, when we are analyzing our data we were aware that it might pick up on those biases more than the areas which sell alcohol. \n",
    "\n",
    "In order to mitigate these issues, in our presentation and communication step (the 'Conclusion & Discussion' section), we would include possible biases in the dataset as sort of a 'disclaimer' before presenting our results. By presenting these potential biases, the readers would at least be informed about these biases and could take them into account with our results.\n",
    "\n"
   ]
  },
  {
   "cell_type": "markdown",
   "metadata": {},
   "source": [
    "# Conclusion & Discussion\n",
    "\n",
    "In conclusion, we did see a positive correlation between crime rates and alcohol licenses in specific zip code. Our graphs indicate a positive r-squared value although the correlation is not extremely strong. This aligns with our initial hypothesis. Something really interesting that we saw was the zip code with the most crime rates (by a long shot) aligns with the zip code with the most alcohol licenses. The zip code 92101 is the zip code region corresponding to the Gaslamp Quarter in San Diego. This area is known to have a lot of bars/clubs so it makes sense that there is a lot of alcohol licenses there. What’s interesting to note is that this region has more than twice the amount of crimes as any other region in San Diego. This leads us to believe that there is some factor or association heavily between alcohol and crime in this region but we cannot state causation.\n",
    "\n",
    "Our analysis also shows the different types of crimes in each region as well as how they correlate to alcohol license counts. According to a study conducted in Washington, DC in 2000 claimed that “alcohol outlet density is significantly associated with the violent crimes” (Alcohol Outlets and Violent Crime in Washington DC). As we performed our analysis, we learned that there is definitely some merit to this claim, but it is still not certain as to how significant the correlation actually is, as we do not wish to make too many assumptions about the data. Accordingly, as seen in the bar graph of the crimes recorded in San Diego County, the largest number of crimes that occurred were categorized as “theft/larceny” with “assault” having the second largest number of crimes recorded. Although this does not support the previous research that was performed, it is supportive of our analysis as the correlation is not as significant as we initially predicted based on previous research in Washington. Furthermore, the research performed in Washington may be biased as the locations in which they were examining alcohol outlets is unsure; it could have been in impoverished neighborhoods that have a significant number of violent crimes.\n",
    "\n",
    "We also performed specified analysis on DUI crimes in particular. Our initial hypothesis in this case was that there would be a strong correlation between alcohol license counts and DUI offenses, but we were surprised to find that this was not necessarily the case. Through OLS Regression we learned that while there was a positive correlation between alcohol license density and recorded DUIs, that this correlation was not as strong as one would expect. This could be a result of DUI offenders being caught after they had already driven away from where they got intoxicated at. In our crime data, we found that the zip code of 92008 contained the most DUI offenses, and this zip code corresponds to the city of Carlsbad. While we may not be able to make too many assumptions from this, it is of note that there is a large section of the 5-Freeway that runs through this zip code, so the high number of DUIs in that region could come from people commuting along this freeway after a night of partying or drinking. Additionally, it may be the case that many of these DUI cases were not rooted in the offender being drunk at all. They may have been high off of some other substance, as all accounts of inebriated driving would fall under the umbrella of DUIs. Overall, while we may not have received the results that we expected to find going into this analysis of DUI crimes, the results did actually make sense once we started to look beyond just the numbers alone and move past our initial expectations. \n",
    "\n",
    "One thing to note, is that there may have been potential biases in our datasets and analyses. Since we were using crime data, it could have led to unintended biases. We have seen that minorities generally live in 'poorer' neighborhoods and could have higher levels of crime. When we are analyzing our data we were aware that it might pick up on those biases more than the areas which sell alcohol so it is important to mention this in our discussions of our results.\n",
    "\n",
    "The limitations of our analysis included time restriction: we were only able to use crime data from a certain time frame, 8 weeks prior to the day we pulled the data (March 9 2020). This is to limit the size of our data because we wanted to work with current but also most significant crime data. We also restricted ourselves to only active licenses, not looking at licenses that were active currently but disabled during the past 8 weeks. We also had restrictions of only being able to cluster by zip code, realistically we would have liked to use streets or smaller regions to analyze the crimes/alcohol licenses.\n",
    "\n"
   ]
  },
  {
   "cell_type": "markdown",
   "metadata": {},
   "source": [
    "# Team Contributions\n",
    " - Background -- Brianna and Nicholas \n",
    " - Datasets Section -- Neghena \n",
    " - Alcohol License Cleaning -- Neghena, Richard, and Jie\n",
    " - Crime Data Cleaning -- Nicholas and Brianna\n",
    " - Crime Counts x License Counts Analysis -- Neghena, Richard, and Jie\n",
    " - Crime Types Analysis -- Brianna and Nicholas \n",
    " - Ethics & Privacy -- Richard \n",
    " - Conclusion -- Everyone"
   ]
  },
  {
   "cell_type": "code",
   "execution_count": null,
   "metadata": {},
   "outputs": [],
   "source": []
  }
 ],
 "metadata": {
  "kernelspec": {
   "display_name": "Python 3",
   "language": "python",
   "name": "python3"
  },
  "language_info": {
   "codemirror_mode": {
    "name": "ipython",
    "version": 3
   },
   "file_extension": ".py",
   "mimetype": "text/x-python",
   "name": "python",
   "nbconvert_exporter": "python",
   "pygments_lexer": "ipython3",
   "version": "3.7.0"
  }
 },
 "nbformat": 4,
 "nbformat_minor": 2
}
