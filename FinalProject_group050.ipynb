{
 "cells": [
  {
   "cell_type": "markdown",
   "metadata": {},
   "source": [
    "# COGS 108 - Final Project"
   ]
  },
  {
   "cell_type": "markdown",
   "metadata": {},
   "source": [
    "# Names\n",
    "\n",
    "  - Brianna Lehane\n",
    "       - Written Descriptions, Data Analysis\n",
    "  - Alexa Hurtado\n",
    "       - Data Cleaning, Data Analysis\n",
    "  - Karam Singh\n",
    "       - EDA, Data Analysis"
   ]
  },
  {
   "cell_type": "markdown",
   "metadata": {},
   "source": [
    "# Overview\n",
    "\n",
    "This study aims to prove and analyze the powerful effect music has on emotion. There are a myriad of musical genres that express different variations of emotions. Some of these genres’ names directly reflect the kind of emotion they look to evoke or express in their music, such as Blues or Soul. Since 1894, music of all different genres have been ranked on the Billboard Top 100 charts based on its popularity; this ranking takes into account sales and how widely listened to the song is (Molanphy, 2013). But what components of a song make this song popular? What emotions are people most widely looking to evoke when listening to music? Using a Spotify data set, we set to investigate the relationship between genre, bpm, danceability, loudness and valence in a song. "
   ]
  },
  {
   "cell_type": "markdown",
   "metadata": {},
   "source": [
    "# Background\n",
    "\n",
    "Music and cognition have a historically important relationship. According to an Oxford University paper titled Music and emotion: theory and research, “It is an ancient, and very pervasive, idea that music expresses emotion” (Scherer and Zentner, 361). Music is powerful for many reasons. Music can affect a person’s productivity, memory, and stress levels (Harvard, 2011). One of music’s most impactful abilities is its effect on human emotion. The sound waves music produces sends vibrations through the ear, eardrum, and all the way through to the hair cells, which, in turn, release chemical neurotransmitters that activate the auditory nerve, sending miniature electric currents to the auditory cortex in the temporal lobe of the brain (Harvard, 2011). With more ways to listen to music today than ever, music listening is becoming more popular. In fact, the music industry gained more than $8 billion dollars in 2017 alone (Christman, 2018).\n",
    "\n",
    "There are hundreds of different genres of music, some specifically targeting certain emotions, such as Blues or Soul. Of all these emotion-evoking genres, what makes music popular? There are a number of patterns in recent popular songs, such as having a female artist, being up-tempo, and having a well-known artist (Interiano et al, 2018). In fact, the general framework of contemporary popular music has such a common pattern that there has been a term created for these catchy tunes; earworms. \n",
    "\n",
    "As we have stated, data has shown that popular contemporary music follows some kind of pattern. But is there a pattern in a specific mood or emotion that can be tracked in popular music? By studying the most popular moods music listeners are seeking, we hope our data analysis can provide insight to musicians and producers looking to understand listener habits as they try to find success in this saturated industry. We also hope our date can inform music listeners about what emotional components of a song makes it so darn catchy!\n",
    "\n",
    "References:\n",
    "Harvard, 2011: https://www.health.harvard.edu/staying-healthy/music-and-health\n",
    "Interiano et al, 2018: https://royalsocietypublishing.org/doi/full/10.1098/rsos.171274\n",
    "Zentner, Scherer, 2008: https://www.ncbi.nlm.nih.gov/pubmed/18729581\n",
    "Christman, 2018: https://www.billboard.com/articles/business/8257558/us-music-industry-2017-highest-revenue-in-decade-fueled-paid-subscriptions"
   ]
  },
  {
   "cell_type": "markdown",
   "metadata": {},
   "source": [
    "# Research Question\n",
    "\n",
    "Based on our data set, we aim to analyze if the Spotify music values our research team has characterized as ‘fun’ correlate with the popularity of a song. Using the parameters valence, bpm, danceability and how does the perceived ‘fun-ness’ of a song reflect how popular it is between 2008 and 2019? Can ‘fun-ness’ predict a hit song? In other words, can we predict the popularity of a song based on these ‘fun’ features?"
   ]
  },
  {
   "cell_type": "markdown",
   "metadata": {},
   "source": [
    "# Hypothesis\n",
    "\n",
    "We hypothesize that an increase across five parameters we have deemed to quantify fun (bpm, loudness, danceability, valence, and energy) will increase the popularity of the song. We will be finding this by also hypothesizing that when running a multiple linear regression model on these parameters we will be able to successfully predict the popularity of that song. "
   ]
  },
  {
   "cell_type": "markdown",
   "metadata": {},
   "source": [
    "# Dataset\n",
    "\n",
    "We used a Spotify API dataset. \n",
    "\n",
    "In this set, Spotify created quantifiable parameters to measure descriptive characteristics. These measures include valence, “the musical positiveness conveyed in a track,” danceability, “how suitable a track is for dancing based on a combination of musical elements including tempo, rhythm stability, beat strength, and overall regularity”, and energy, which “...represents a perceptual measure of intensity and activity” (Spotify for Developers). Seeing as songs can be so many things, our study, using Spotify’s data characteristics, aims to study the relationship between how ‘fun’ (eliciting happiness, joy, excitement) is and the song’s popularity. \n",
    "\n",
    "Dataset:\n",
    "https://www.kaggle.com/leonardopena/top-spotify-songs-from-20102019-by-year"
   ]
  },
  {
   "cell_type": "markdown",
   "metadata": {},
   "source": [
    "We begin by importing all the necessary libraries and packages needed to complete our data analysis"
   ]
  },
  {
   "cell_type": "code",
   "execution_count": 14,
   "metadata": {},
   "outputs": [],
   "source": [
    "%matplotlib inline\n",
    "\n",
    "import numpy as np\n",
    "import pandas as pd\n",
    "import matplotlib.pyplot as plt\n",
    "import sklearn\n",
    "import seaborn as sns\n",
    "import statsmodels.api as sm\n",
    "from sklearn import linear_model\n",
    "import patsy\n",
    "import statsmodels.api as sm\n",
    "import scipy.stats as stats\n",
    "from scipy.stats import ttest_ind, chisquare, normaltest\n"
   ]
  },
  {
   "cell_type": "code",
   "execution_count": 2,
   "metadata": {},
   "outputs": [],
   "source": [
    "#We begin by importing the file into a pandas Dataframe\n",
    "Main_FilePath = \"Downloads/top-spotify-songs-from-20102019-by-year/top10s.csv\"\n",
    "Main_Music_Dataset = pd.read_csv(Main_FilePath, encoding = \"ISO-8859-1\")\n"
   ]
  },
  {
   "cell_type": "code",
   "execution_count": 3,
   "metadata": {},
   "outputs": [
    {
     "data": {
      "text/html": [
       "<div>\n",
       "<style scoped>\n",
       "    .dataframe tbody tr th:only-of-type {\n",
       "        vertical-align: middle;\n",
       "    }\n",
       "\n",
       "    .dataframe tbody tr th {\n",
       "        vertical-align: top;\n",
       "    }\n",
       "\n",
       "    .dataframe thead th {\n",
       "        text-align: right;\n",
       "    }\n",
       "</style>\n",
       "<table border=\"1\" class=\"dataframe\">\n",
       "  <thead>\n",
       "    <tr style=\"text-align: right;\">\n",
       "      <th></th>\n",
       "      <th>Unnamed: 0</th>\n",
       "      <th>title</th>\n",
       "      <th>artist</th>\n",
       "      <th>top genre</th>\n",
       "      <th>year</th>\n",
       "      <th>bpm</th>\n",
       "      <th>nrgy</th>\n",
       "      <th>dnce</th>\n",
       "      <th>dB</th>\n",
       "      <th>live</th>\n",
       "      <th>val</th>\n",
       "      <th>dur</th>\n",
       "      <th>acous</th>\n",
       "      <th>spch</th>\n",
       "      <th>pop</th>\n",
       "    </tr>\n",
       "  </thead>\n",
       "  <tbody>\n",
       "    <tr>\n",
       "      <th>0</th>\n",
       "      <td>1</td>\n",
       "      <td>Hey, Soul Sister</td>\n",
       "      <td>Train</td>\n",
       "      <td>neo mellow</td>\n",
       "      <td>2010</td>\n",
       "      <td>97</td>\n",
       "      <td>89</td>\n",
       "      <td>67</td>\n",
       "      <td>-4</td>\n",
       "      <td>8</td>\n",
       "      <td>80</td>\n",
       "      <td>217</td>\n",
       "      <td>19</td>\n",
       "      <td>4</td>\n",
       "      <td>83</td>\n",
       "    </tr>\n",
       "    <tr>\n",
       "      <th>1</th>\n",
       "      <td>2</td>\n",
       "      <td>Love The Way You Lie</td>\n",
       "      <td>Eminem</td>\n",
       "      <td>detroit hip hop</td>\n",
       "      <td>2010</td>\n",
       "      <td>87</td>\n",
       "      <td>93</td>\n",
       "      <td>75</td>\n",
       "      <td>-5</td>\n",
       "      <td>52</td>\n",
       "      <td>64</td>\n",
       "      <td>263</td>\n",
       "      <td>24</td>\n",
       "      <td>23</td>\n",
       "      <td>82</td>\n",
       "    </tr>\n",
       "    <tr>\n",
       "      <th>2</th>\n",
       "      <td>3</td>\n",
       "      <td>TiK ToK</td>\n",
       "      <td>Kesha</td>\n",
       "      <td>dance pop</td>\n",
       "      <td>2010</td>\n",
       "      <td>120</td>\n",
       "      <td>84</td>\n",
       "      <td>76</td>\n",
       "      <td>-3</td>\n",
       "      <td>29</td>\n",
       "      <td>71</td>\n",
       "      <td>200</td>\n",
       "      <td>10</td>\n",
       "      <td>14</td>\n",
       "      <td>80</td>\n",
       "    </tr>\n",
       "    <tr>\n",
       "      <th>3</th>\n",
       "      <td>4</td>\n",
       "      <td>Bad Romance</td>\n",
       "      <td>Lady Gaga</td>\n",
       "      <td>dance pop</td>\n",
       "      <td>2010</td>\n",
       "      <td>119</td>\n",
       "      <td>92</td>\n",
       "      <td>70</td>\n",
       "      <td>-4</td>\n",
       "      <td>8</td>\n",
       "      <td>71</td>\n",
       "      <td>295</td>\n",
       "      <td>0</td>\n",
       "      <td>4</td>\n",
       "      <td>79</td>\n",
       "    </tr>\n",
       "    <tr>\n",
       "      <th>4</th>\n",
       "      <td>5</td>\n",
       "      <td>Just the Way You Are</td>\n",
       "      <td>Bruno Mars</td>\n",
       "      <td>pop</td>\n",
       "      <td>2010</td>\n",
       "      <td>109</td>\n",
       "      <td>84</td>\n",
       "      <td>64</td>\n",
       "      <td>-5</td>\n",
       "      <td>9</td>\n",
       "      <td>43</td>\n",
       "      <td>221</td>\n",
       "      <td>2</td>\n",
       "      <td>4</td>\n",
       "      <td>78</td>\n",
       "    </tr>\n",
       "  </tbody>\n",
       "</table>\n",
       "</div>"
      ],
      "text/plain": [
       "   Unnamed: 0                 title      artist        top genre  year  bpm  \\\n",
       "0           1      Hey, Soul Sister       Train       neo mellow  2010   97   \n",
       "1           2  Love The Way You Lie      Eminem  detroit hip hop  2010   87   \n",
       "2           3               TiK ToK       Kesha        dance pop  2010  120   \n",
       "3           4           Bad Romance   Lady Gaga        dance pop  2010  119   \n",
       "4           5  Just the Way You Are  Bruno Mars              pop  2010  109   \n",
       "\n",
       "   nrgy  dnce  dB  live  val  dur  acous  spch  pop  \n",
       "0    89    67  -4     8   80  217     19     4   83  \n",
       "1    93    75  -5    52   64  263     24    23   82  \n",
       "2    84    76  -3    29   71  200     10    14   80  \n",
       "3    92    70  -4     8   71  295      0     4   79  \n",
       "4    84    64  -5     9   43  221      2     4   78  "
      ]
     },
     "execution_count": 3,
     "metadata": {},
     "output_type": "execute_result"
    }
   ],
   "source": [
    "Main_Music_Dataset.head()"
   ]
  },
  {
   "cell_type": "markdown",
   "metadata": {},
   "source": [
    "# Data Cleaning\n",
    "\n",
    "For the cleaning process, we start by removing all columns in our dataframe that were not applicable to determining the ‘funness’ of the song. We kept data columns; bpm, loudness, danceability, valence. We also eliminated any initial outliers, including genres with fewer than 40 songs. Since we are using a Spotify dataset, we decided it would only make sense to analyze the popularity of songs that have been released after the application launched in 2008. The timespan of analysis is 2010-2019. The data will be ordered by year of release. To set up our data, we ordered data by year. We separated and created sub-data sets based on the year. "
   ]
  },
  {
   "cell_type": "code",
   "execution_count": 4,
   "metadata": {},
   "outputs": [],
   "source": [
    "#Initialize a new Dataframe where we will clean and wrangle data\n",
    "#Here we are dropping all columns we will not be using in our analysis\n",
    "\n",
    "Cleaned_Dataset = Main_Music_Dataset.drop(labels = [\"live\", \"dur\", \"acous\", \"spch\"], axis = 1)"
   ]
  },
  {
   "cell_type": "code",
   "execution_count": 5,
   "metadata": {},
   "outputs": [],
   "source": [
    "#renaming columns so there's more clarity in what they mean\n",
    "\n",
    "Cleaned_Dataset.columns = [\"Index\", \"Title\", \"Artist\", \"Genre\", \"Year\", \"BPM\", \"Energy\", \"Dance\", \"Loudness\", \"Valence\", \"Popularity\"]"
   ]
  },
  {
   "cell_type": "code",
   "execution_count": 6,
   "metadata": {},
   "outputs": [
    {
     "data": {
      "text/html": [
       "<div>\n",
       "<style scoped>\n",
       "    .dataframe tbody tr th:only-of-type {\n",
       "        vertical-align: middle;\n",
       "    }\n",
       "\n",
       "    .dataframe tbody tr th {\n",
       "        vertical-align: top;\n",
       "    }\n",
       "\n",
       "    .dataframe thead th {\n",
       "        text-align: right;\n",
       "    }\n",
       "</style>\n",
       "<table border=\"1\" class=\"dataframe\">\n",
       "  <thead>\n",
       "    <tr style=\"text-align: right;\">\n",
       "      <th></th>\n",
       "      <th>Index</th>\n",
       "      <th>Title</th>\n",
       "      <th>Artist</th>\n",
       "      <th>Genre</th>\n",
       "      <th>Year</th>\n",
       "      <th>BPM</th>\n",
       "      <th>Energy</th>\n",
       "      <th>Dance</th>\n",
       "      <th>Loudness</th>\n",
       "      <th>Valence</th>\n",
       "      <th>Popularity</th>\n",
       "    </tr>\n",
       "  </thead>\n",
       "  <tbody>\n",
       "    <tr>\n",
       "      <th>0</th>\n",
       "      <td>1</td>\n",
       "      <td>Hey, Soul Sister</td>\n",
       "      <td>Train</td>\n",
       "      <td>neo mellow</td>\n",
       "      <td>2010</td>\n",
       "      <td>97</td>\n",
       "      <td>89</td>\n",
       "      <td>67</td>\n",
       "      <td>-4</td>\n",
       "      <td>80</td>\n",
       "      <td>83</td>\n",
       "    </tr>\n",
       "    <tr>\n",
       "      <th>1</th>\n",
       "      <td>2</td>\n",
       "      <td>Love The Way You Lie</td>\n",
       "      <td>Eminem</td>\n",
       "      <td>detroit hip hop</td>\n",
       "      <td>2010</td>\n",
       "      <td>87</td>\n",
       "      <td>93</td>\n",
       "      <td>75</td>\n",
       "      <td>-5</td>\n",
       "      <td>64</td>\n",
       "      <td>82</td>\n",
       "    </tr>\n",
       "    <tr>\n",
       "      <th>2</th>\n",
       "      <td>3</td>\n",
       "      <td>TiK ToK</td>\n",
       "      <td>Kesha</td>\n",
       "      <td>dance pop</td>\n",
       "      <td>2010</td>\n",
       "      <td>120</td>\n",
       "      <td>84</td>\n",
       "      <td>76</td>\n",
       "      <td>-3</td>\n",
       "      <td>71</td>\n",
       "      <td>80</td>\n",
       "    </tr>\n",
       "    <tr>\n",
       "      <th>3</th>\n",
       "      <td>4</td>\n",
       "      <td>Bad Romance</td>\n",
       "      <td>Lady Gaga</td>\n",
       "      <td>dance pop</td>\n",
       "      <td>2010</td>\n",
       "      <td>119</td>\n",
       "      <td>92</td>\n",
       "      <td>70</td>\n",
       "      <td>-4</td>\n",
       "      <td>71</td>\n",
       "      <td>79</td>\n",
       "    </tr>\n",
       "    <tr>\n",
       "      <th>4</th>\n",
       "      <td>5</td>\n",
       "      <td>Just the Way You Are</td>\n",
       "      <td>Bruno Mars</td>\n",
       "      <td>pop</td>\n",
       "      <td>2010</td>\n",
       "      <td>109</td>\n",
       "      <td>84</td>\n",
       "      <td>64</td>\n",
       "      <td>-5</td>\n",
       "      <td>43</td>\n",
       "      <td>78</td>\n",
       "    </tr>\n",
       "  </tbody>\n",
       "</table>\n",
       "</div>"
      ],
      "text/plain": [
       "   Index                 Title      Artist            Genre  Year  BPM  \\\n",
       "0      1      Hey, Soul Sister       Train       neo mellow  2010   97   \n",
       "1      2  Love The Way You Lie      Eminem  detroit hip hop  2010   87   \n",
       "2      3               TiK ToK       Kesha        dance pop  2010  120   \n",
       "3      4           Bad Romance   Lady Gaga        dance pop  2010  119   \n",
       "4      5  Just the Way You Are  Bruno Mars              pop  2010  109   \n",
       "\n",
       "   Energy  Dance  Loudness  Valence  Popularity  \n",
       "0      89     67        -4       80          83  \n",
       "1      93     75        -5       64          82  \n",
       "2      84     76        -3       71          80  \n",
       "3      92     70        -4       71          79  \n",
       "4      84     64        -5       43          78  "
      ]
     },
     "execution_count": 6,
     "metadata": {},
     "output_type": "execute_result"
    }
   ],
   "source": [
    "Cleaned_Dataset.head()"
   ]
  },
  {
   "cell_type": "code",
   "execution_count": 7,
   "metadata": {},
   "outputs": [],
   "source": [
    "#Sorting by year of songs so we can start to organize this \n",
    "\n",
    "Cleaned_Dataset = Cleaned_Dataset.sort_values(by = [\"Year\"], ascending = False).reset_index(drop = True)"
   ]
  },
  {
   "cell_type": "code",
   "execution_count": 8,
   "metadata": {},
   "outputs": [
    {
     "data": {
      "text/html": [
       "<div>\n",
       "<style scoped>\n",
       "    .dataframe tbody tr th:only-of-type {\n",
       "        vertical-align: middle;\n",
       "    }\n",
       "\n",
       "    .dataframe tbody tr th {\n",
       "        vertical-align: top;\n",
       "    }\n",
       "\n",
       "    .dataframe thead th {\n",
       "        text-align: right;\n",
       "    }\n",
       "</style>\n",
       "<table border=\"1\" class=\"dataframe\">\n",
       "  <thead>\n",
       "    <tr style=\"text-align: right;\">\n",
       "      <th></th>\n",
       "      <th>Index</th>\n",
       "      <th>Title</th>\n",
       "      <th>Artist</th>\n",
       "      <th>Genre</th>\n",
       "      <th>Year</th>\n",
       "      <th>BPM</th>\n",
       "      <th>Energy</th>\n",
       "      <th>Dance</th>\n",
       "      <th>Loudness</th>\n",
       "      <th>Valence</th>\n",
       "      <th>Popularity</th>\n",
       "    </tr>\n",
       "  </thead>\n",
       "  <tbody>\n",
       "    <tr>\n",
       "      <th>0</th>\n",
       "      <td>603</td>\n",
       "      <td>Kills You Slowly</td>\n",
       "      <td>The Chainsmokers</td>\n",
       "      <td>electropop</td>\n",
       "      <td>2019</td>\n",
       "      <td>150</td>\n",
       "      <td>44</td>\n",
       "      <td>70</td>\n",
       "      <td>-9</td>\n",
       "      <td>23</td>\n",
       "      <td>67</td>\n",
       "    </tr>\n",
       "    <tr>\n",
       "      <th>1</th>\n",
       "      <td>588</td>\n",
       "      <td>I Don't Care (with Justin Bieber)</td>\n",
       "      <td>Ed Sheeran</td>\n",
       "      <td>pop</td>\n",
       "      <td>2019</td>\n",
       "      <td>102</td>\n",
       "      <td>68</td>\n",
       "      <td>80</td>\n",
       "      <td>-5</td>\n",
       "      <td>84</td>\n",
       "      <td>85</td>\n",
       "    </tr>\n",
       "    <tr>\n",
       "      <th>2</th>\n",
       "      <td>574</td>\n",
       "      <td>Lose You To Love Me</td>\n",
       "      <td>Selena Gomez</td>\n",
       "      <td>dance pop</td>\n",
       "      <td>2019</td>\n",
       "      <td>102</td>\n",
       "      <td>34</td>\n",
       "      <td>51</td>\n",
       "      <td>-9</td>\n",
       "      <td>9</td>\n",
       "      <td>97</td>\n",
       "    </tr>\n",
       "    <tr>\n",
       "      <th>3</th>\n",
       "      <td>575</td>\n",
       "      <td>Someone You Loved</td>\n",
       "      <td>Lewis Capaldi</td>\n",
       "      <td>pop</td>\n",
       "      <td>2019</td>\n",
       "      <td>110</td>\n",
       "      <td>41</td>\n",
       "      <td>50</td>\n",
       "      <td>-6</td>\n",
       "      <td>45</td>\n",
       "      <td>96</td>\n",
       "    </tr>\n",
       "    <tr>\n",
       "      <th>4</th>\n",
       "      <td>576</td>\n",
       "      <td>Señorita</td>\n",
       "      <td>Shawn Mendes</td>\n",
       "      <td>canadian pop</td>\n",
       "      <td>2019</td>\n",
       "      <td>117</td>\n",
       "      <td>54</td>\n",
       "      <td>76</td>\n",
       "      <td>-6</td>\n",
       "      <td>75</td>\n",
       "      <td>95</td>\n",
       "    </tr>\n",
       "  </tbody>\n",
       "</table>\n",
       "</div>"
      ],
      "text/plain": [
       "   Index                              Title            Artist         Genre  \\\n",
       "0    603                   Kills You Slowly  The Chainsmokers    electropop   \n",
       "1    588  I Don't Care (with Justin Bieber)        Ed Sheeran           pop   \n",
       "2    574                Lose You To Love Me      Selena Gomez     dance pop   \n",
       "3    575                  Someone You Loved     Lewis Capaldi           pop   \n",
       "4    576                           Señorita      Shawn Mendes  canadian pop   \n",
       "\n",
       "   Year  BPM  Energy  Dance  Loudness  Valence  Popularity  \n",
       "0  2019  150      44     70        -9       23          67  \n",
       "1  2019  102      68     80        -5       84          85  \n",
       "2  2019  102      34     51        -9        9          97  \n",
       "3  2019  110      41     50        -6       45          96  \n",
       "4  2019  117      54     76        -6       75          95  "
      ]
     },
     "execution_count": 8,
     "metadata": {},
     "output_type": "execute_result"
    }
   ],
   "source": [
    "Cleaned_Dataset.head()"
   ]
  },
  {
   "cell_type": "code",
   "execution_count": 9,
   "metadata": {},
   "outputs": [
    {
     "data": {
      "text/plain": [
       "2010    51\n",
       "2011    53\n",
       "2012    35\n",
       "2013    71\n",
       "2014    58\n",
       "2015    95\n",
       "2016    80\n",
       "2017    65\n",
       "2018    64\n",
       "2019    31\n",
       "Name: Year, dtype: int64"
      ]
     },
     "execution_count": 9,
     "metadata": {},
     "output_type": "execute_result"
    }
   ],
   "source": [
    "Cleaned_Dataset[\"Year\"].value_counts(sort = False)"
   ]
  },
  {
   "cell_type": "code",
   "execution_count": 10,
   "metadata": {},
   "outputs": [],
   "source": [
    "#Separating Datasets into different individual years so we can do linear regression on each \n",
    "#individually then compare\n",
    "\n",
    "Dataset_2019 = pd.DataFrame(Cleaned_Dataset[Cleaned_Dataset[\"Year\"] == 2019]).reset_index(drop = True)\n",
    "Dataset_2018 = pd.DataFrame(Cleaned_Dataset[Cleaned_Dataset[\"Year\"] == 2018]).reset_index(drop = True)\n",
    "Dataset_2017 = pd.DataFrame(Cleaned_Dataset[Cleaned_Dataset[\"Year\"] == 2017]).reset_index(drop = True)\n",
    "Dataset_2016 = pd.DataFrame(Cleaned_Dataset[Cleaned_Dataset[\"Year\"] == 2016]).reset_index(drop = True)\n",
    "Dataset_2015 = pd.DataFrame(Cleaned_Dataset[Cleaned_Dataset[\"Year\"] == 2015]).reset_index(drop = True)\n",
    "Dataset_2014 = pd.DataFrame(Cleaned_Dataset[Cleaned_Dataset[\"Year\"] == 2014]).reset_index(drop = True)\n",
    "Dataset_2013 = pd.DataFrame(Cleaned_Dataset[Cleaned_Dataset[\"Year\"] == 2013]).reset_index(drop = True)\n",
    "Dataset_2012 = pd.DataFrame(Cleaned_Dataset[Cleaned_Dataset[\"Year\"] == 2012]).reset_index(drop = True)\n",
    "Dataset_2011 = pd.DataFrame(Cleaned_Dataset[Cleaned_Dataset[\"Year\"] == 2011]).reset_index(drop = True)\n",
    "Dataset_2010 = pd.DataFrame(Cleaned_Dataset[Cleaned_Dataset[\"Year\"] == 2010]).reset_index(drop = True)"
   ]
  },
  {
   "cell_type": "code",
   "execution_count": 11,
   "metadata": {},
   "outputs": [
    {
     "data": {
      "text/html": [
       "<div>\n",
       "<style scoped>\n",
       "    .dataframe tbody tr th:only-of-type {\n",
       "        vertical-align: middle;\n",
       "    }\n",
       "\n",
       "    .dataframe tbody tr th {\n",
       "        vertical-align: top;\n",
       "    }\n",
       "\n",
       "    .dataframe thead th {\n",
       "        text-align: right;\n",
       "    }\n",
       "</style>\n",
       "<table border=\"1\" class=\"dataframe\">\n",
       "  <thead>\n",
       "    <tr style=\"text-align: right;\">\n",
       "      <th></th>\n",
       "      <th>Index</th>\n",
       "      <th>Title</th>\n",
       "      <th>Artist</th>\n",
       "      <th>Genre</th>\n",
       "      <th>Year</th>\n",
       "      <th>BPM</th>\n",
       "      <th>Energy</th>\n",
       "      <th>Dance</th>\n",
       "      <th>Loudness</th>\n",
       "      <th>Valence</th>\n",
       "      <th>Popularity</th>\n",
       "    </tr>\n",
       "  </thead>\n",
       "  <tbody>\n",
       "    <tr>\n",
       "      <th>0</th>\n",
       "      <td>603</td>\n",
       "      <td>Kills You Slowly</td>\n",
       "      <td>The Chainsmokers</td>\n",
       "      <td>electropop</td>\n",
       "      <td>2019</td>\n",
       "      <td>150</td>\n",
       "      <td>44</td>\n",
       "      <td>70</td>\n",
       "      <td>-9</td>\n",
       "      <td>23</td>\n",
       "      <td>67</td>\n",
       "    </tr>\n",
       "    <tr>\n",
       "      <th>1</th>\n",
       "      <td>588</td>\n",
       "      <td>I Don't Care (with Justin Bieber)</td>\n",
       "      <td>Ed Sheeran</td>\n",
       "      <td>pop</td>\n",
       "      <td>2019</td>\n",
       "      <td>102</td>\n",
       "      <td>68</td>\n",
       "      <td>80</td>\n",
       "      <td>-5</td>\n",
       "      <td>84</td>\n",
       "      <td>85</td>\n",
       "    </tr>\n",
       "    <tr>\n",
       "      <th>2</th>\n",
       "      <td>574</td>\n",
       "      <td>Lose You To Love Me</td>\n",
       "      <td>Selena Gomez</td>\n",
       "      <td>dance pop</td>\n",
       "      <td>2019</td>\n",
       "      <td>102</td>\n",
       "      <td>34</td>\n",
       "      <td>51</td>\n",
       "      <td>-9</td>\n",
       "      <td>9</td>\n",
       "      <td>97</td>\n",
       "    </tr>\n",
       "    <tr>\n",
       "      <th>3</th>\n",
       "      <td>575</td>\n",
       "      <td>Someone You Loved</td>\n",
       "      <td>Lewis Capaldi</td>\n",
       "      <td>pop</td>\n",
       "      <td>2019</td>\n",
       "      <td>110</td>\n",
       "      <td>41</td>\n",
       "      <td>50</td>\n",
       "      <td>-6</td>\n",
       "      <td>45</td>\n",
       "      <td>96</td>\n",
       "    </tr>\n",
       "    <tr>\n",
       "      <th>4</th>\n",
       "      <td>576</td>\n",
       "      <td>Señorita</td>\n",
       "      <td>Shawn Mendes</td>\n",
       "      <td>canadian pop</td>\n",
       "      <td>2019</td>\n",
       "      <td>117</td>\n",
       "      <td>54</td>\n",
       "      <td>76</td>\n",
       "      <td>-6</td>\n",
       "      <td>75</td>\n",
       "      <td>95</td>\n",
       "    </tr>\n",
       "  </tbody>\n",
       "</table>\n",
       "</div>"
      ],
      "text/plain": [
       "   Index                              Title            Artist         Genre  \\\n",
       "0    603                   Kills You Slowly  The Chainsmokers    electropop   \n",
       "1    588  I Don't Care (with Justin Bieber)        Ed Sheeran           pop   \n",
       "2    574                Lose You To Love Me      Selena Gomez     dance pop   \n",
       "3    575                  Someone You Loved     Lewis Capaldi           pop   \n",
       "4    576                           Señorita      Shawn Mendes  canadian pop   \n",
       "\n",
       "   Year  BPM  Energy  Dance  Loudness  Valence  Popularity  \n",
       "0  2019  150      44     70        -9       23          67  \n",
       "1  2019  102      68     80        -5       84          85  \n",
       "2  2019  102      34     51        -9        9          97  \n",
       "3  2019  110      41     50        -6       45          96  \n",
       "4  2019  117      54     76        -6       75          95  "
      ]
     },
     "execution_count": 11,
     "metadata": {},
     "output_type": "execute_result"
    }
   ],
   "source": [
    "#We have now separated into different years and datasets\n",
    "Dataset_2019.head()"
   ]
  },
  {
   "cell_type": "markdown",
   "metadata": {},
   "source": [
    "# Descriptive and Exploratory Data Analysis\n",
    "\n",
    "Now we want to analyze the data and find the stats for each feature. Here we are going to run some tests on our data. We will start by checking the distributions. We will start by seeing if the data is normally distributed. To run a normality test we will be using the normaltest function to test for normality of the distribution. However before doing this we should pull out the necessary data which we will be running the normality tests on. We will be running the normality tests on each column for 'fun'. \n",
    "\n",
    "This means that we will have to pull out the columns for each dataset. Below we are using bpm as an example"
   ]
  },
  {
   "cell_type": "code",
   "execution_count": 15,
   "metadata": {},
   "outputs": [
    {
     "name": "stdout",
     "output_type": "stream",
     "text": [
      "4.767531702257407\n",
      "0.09220270124978908\n"
     ]
    }
   ],
   "source": [
    "# here we are running the normaltest on the bpm column for the 2019 Dataframe \n",
    "bpm = Dataset_2019['BPM'].values\n",
    "s_bpm = stats.normaltest(bpm)[0]\n",
    "p_bpm = stats.normaltest(bpm)[1]\n",
    "print(s_bpm)\n",
    "print(p_bpm)\n"
   ]
  },
  {
   "cell_type": "code",
   "execution_count": 16,
   "metadata": {},
   "outputs": [],
   "source": [
    "# Here because we see that the p value here is greater than the alpha value (p>0.01)\n",
    "# We accept the null hypothesis. \n",
    "# This means that the values for BPM in this dataset follows a normal distribution. We will then do the same thing for the rest\n",
    "# of the columns in the dataset"
   ]
  },
  {
   "cell_type": "code",
   "execution_count": 17,
   "metadata": {},
   "outputs": [
    {
     "name": "stdout",
     "output_type": "stream",
     "text": [
      "4.51151802840859\n",
      "0.10479397342825336\n"
     ]
    }
   ],
   "source": [
    "Energy = Dataset_2019['Energy'].values\n",
    "Energy = Dataset_2019['Energy'].values\n",
    "s_Energy = stats.normaltest(Energy)[0]\n",
    "p_Energy = stats.normaltest(Energy)[1]\n",
    "print(s_Energy)\n",
    "print(p_Energy)"
   ]
  },
  {
   "cell_type": "code",
   "execution_count": 18,
   "metadata": {},
   "outputs": [],
   "source": [
    "#For the energy values in this Dataframe for 2019 we see that because p>0.01 we accept the null hypothesis. \n",
    "#the Energy data for 2019 does follow a normal distribution. "
   ]
  },
  {
   "cell_type": "code",
   "execution_count": 19,
   "metadata": {},
   "outputs": [
    {
     "name": "stdout",
     "output_type": "stream",
     "text": [
      "1.54629753330108\n",
      "0.4615574411208211\n"
     ]
    }
   ],
   "source": [
    "Dance = Dataset_2019['Dance'].values\n",
    "s_Dance = stats.normaltest(Dance)[0]\n",
    "p_Dance = stats.normaltest(Dance)[1]\n",
    "print(s_Dance)\n",
    "print(p_Dance)"
   ]
  },
  {
   "cell_type": "code",
   "execution_count": 20,
   "metadata": {},
   "outputs": [],
   "source": [
    "#Here we see that because p>0.01, the Dance values are following a normal distribution."
   ]
  },
  {
   "cell_type": "code",
   "execution_count": 21,
   "metadata": {},
   "outputs": [
    {
     "name": "stdout",
     "output_type": "stream",
     "text": [
      "0.6143060361135761\n",
      "0.7355380416938431\n"
     ]
    }
   ],
   "source": [
    "Loudness = Dataset_2019['Loudness'].values\n",
    "s_Loudness = stats.normaltest(Loudness)[0]\n",
    "p_Loudness = stats.normaltest(Loudness)[1]\n",
    "print(s_Loudness)\n",
    "print(p_Loudness)"
   ]
  },
  {
   "cell_type": "code",
   "execution_count": 22,
   "metadata": {},
   "outputs": [],
   "source": [
    "#The loudness follows a normal distribution because the p-value is greater than 0.01 "
   ]
  },
  {
   "cell_type": "code",
   "execution_count": 23,
   "metadata": {},
   "outputs": [
    {
     "name": "stdout",
     "output_type": "stream",
     "text": [
      "0.3664824258194452\n",
      "0.8325673055319263\n"
     ]
    }
   ],
   "source": [
    "Valence = Dataset_2019['Valence'].values\n",
    "s_Valence = stats.normaltest(Valence)[0]\n",
    "p_Valence = stats.normaltest(Valence)[1]\n",
    "print(s_Valence)\n",
    "print(p_Valence)"
   ]
  },
  {
   "cell_type": "code",
   "execution_count": 24,
   "metadata": {},
   "outputs": [],
   "source": [
    "#The valence follows a normal distribution as well "
   ]
  },
  {
   "cell_type": "code",
   "execution_count": 25,
   "metadata": {},
   "outputs": [
    {
     "name": "stdout",
     "output_type": "stream",
     "text": [
      "0.7711395793869441\n",
      "0.6800630328818376\n"
     ]
    }
   ],
   "source": [
    "Popularity = Dataset_2019['Popularity'].values\n",
    "s_Popularity = stats.normaltest(Popularity)[0]\n",
    "p_Popularity = stats.normaltest(Popularity)[1]\n",
    "print(s_Popularity)\n",
    "print(p_Popularity)"
   ]
  },
  {
   "cell_type": "code",
   "execution_count": 26,
   "metadata": {},
   "outputs": [],
   "source": [
    "#Here we realize that because we aren't going to be using t-tests to compare the\n",
    "#However despite this the normality tests were still a good exercise in statistics however it did not prove to be entirely \n",
    "#useful due to the fact that it doesn't make much sense to compare the variables for the different years against each \n",
    "# other. "
   ]
  },
  {
   "cell_type": "code",
   "execution_count": 27,
   "metadata": {},
   "outputs": [],
   "source": [
    "#In the next few sections we are attempting to visualize the mean values for the variables over the last decade."
   ]
  },
  {
   "cell_type": "code",
   "execution_count": 28,
   "metadata": {},
   "outputs": [
    {
     "data": {
      "text/html": [
       "<div>\n",
       "<style scoped>\n",
       "    .dataframe tbody tr th:only-of-type {\n",
       "        vertical-align: middle;\n",
       "    }\n",
       "\n",
       "    .dataframe tbody tr th {\n",
       "        vertical-align: top;\n",
       "    }\n",
       "\n",
       "    .dataframe thead th {\n",
       "        text-align: right;\n",
       "    }\n",
       "</style>\n",
       "<table border=\"1\" class=\"dataframe\">\n",
       "  <thead>\n",
       "    <tr style=\"text-align: right;\">\n",
       "      <th></th>\n",
       "      <th>Index</th>\n",
       "      <th>BPM</th>\n",
       "      <th>Energy</th>\n",
       "      <th>Dance</th>\n",
       "      <th>Loudness</th>\n",
       "      <th>Valence</th>\n",
       "      <th>Popularity</th>\n",
       "    </tr>\n",
       "    <tr>\n",
       "      <th>Year</th>\n",
       "      <th></th>\n",
       "      <th></th>\n",
       "      <th></th>\n",
       "      <th></th>\n",
       "      <th></th>\n",
       "      <th></th>\n",
       "      <th></th>\n",
       "    </tr>\n",
       "  </thead>\n",
       "  <tbody>\n",
       "    <tr>\n",
       "      <th>2010</th>\n",
       "      <td>26.0</td>\n",
       "      <td>122.058824</td>\n",
       "      <td>77.901961</td>\n",
       "      <td>64.529412</td>\n",
       "      <td>-4.901961</td>\n",
       "      <td>57.000000</td>\n",
       "      <td>64.254902</td>\n",
       "    </tr>\n",
       "    <tr>\n",
       "      <th>2011</th>\n",
       "      <td>78.0</td>\n",
       "      <td>119.075472</td>\n",
       "      <td>74.886792</td>\n",
       "      <td>63.641509</td>\n",
       "      <td>-5.018868</td>\n",
       "      <td>53.698113</td>\n",
       "      <td>61.867925</td>\n",
       "    </tr>\n",
       "    <tr>\n",
       "      <th>2012</th>\n",
       "      <td>122.0</td>\n",
       "      <td>121.085714</td>\n",
       "      <td>75.485714</td>\n",
       "      <td>65.714286</td>\n",
       "      <td>-4.857143</td>\n",
       "      <td>64.171429</td>\n",
       "      <td>67.771429</td>\n",
       "    </tr>\n",
       "    <tr>\n",
       "      <th>2013</th>\n",
       "      <td>175.0</td>\n",
       "      <td>121.676056</td>\n",
       "      <td>73.873239</td>\n",
       "      <td>62.042254</td>\n",
       "      <td>-5.140845</td>\n",
       "      <td>53.183099</td>\n",
       "      <td>63.985915</td>\n",
       "    </tr>\n",
       "    <tr>\n",
       "      <th>2014</th>\n",
       "      <td>239.5</td>\n",
       "      <td>123.000000</td>\n",
       "      <td>67.775862</td>\n",
       "      <td>62.534483</td>\n",
       "      <td>-5.775862</td>\n",
       "      <td>52.086207</td>\n",
       "      <td>62.706897</td>\n",
       "    </tr>\n",
       "    <tr>\n",
       "      <th>2015</th>\n",
       "      <td>316.0</td>\n",
       "      <td>119.768421</td>\n",
       "      <td>70.336842</td>\n",
       "      <td>63.663158</td>\n",
       "      <td>-5.621053</td>\n",
       "      <td>52.526316</td>\n",
       "      <td>64.568421</td>\n",
       "    </tr>\n",
       "    <tr>\n",
       "      <th>2016</th>\n",
       "      <td>403.5</td>\n",
       "      <td>114.325000</td>\n",
       "      <td>67.237500</td>\n",
       "      <td>63.325000</td>\n",
       "      <td>-6.712500</td>\n",
       "      <td>45.150000</td>\n",
       "      <td>64.162500</td>\n",
       "    </tr>\n",
       "    <tr>\n",
       "      <th>2017</th>\n",
       "      <td>476.0</td>\n",
       "      <td>116.800000</td>\n",
       "      <td>69.169231</td>\n",
       "      <td>65.369231</td>\n",
       "      <td>-5.615385</td>\n",
       "      <td>52.276923</td>\n",
       "      <td>69.015385</td>\n",
       "    </tr>\n",
       "    <tr>\n",
       "      <th>2018</th>\n",
       "      <td>540.5</td>\n",
       "      <td>114.593750</td>\n",
       "      <td>65.468750</td>\n",
       "      <td>67.203125</td>\n",
       "      <td>-5.671875</td>\n",
       "      <td>48.765625</td>\n",
       "      <td>72.437500</td>\n",
       "    </tr>\n",
       "    <tr>\n",
       "      <th>2019</th>\n",
       "      <td>588.0</td>\n",
       "      <td>112.451613</td>\n",
       "      <td>64.741935</td>\n",
       "      <td>69.709677</td>\n",
       "      <td>-5.774194</td>\n",
       "      <td>50.806452</td>\n",
       "      <td>84.354839</td>\n",
       "    </tr>\n",
       "  </tbody>\n",
       "</table>\n",
       "</div>"
      ],
      "text/plain": [
       "      Index         BPM     Energy      Dance  Loudness    Valence  Popularity\n",
       "Year                                                                          \n",
       "2010   26.0  122.058824  77.901961  64.529412 -4.901961  57.000000   64.254902\n",
       "2011   78.0  119.075472  74.886792  63.641509 -5.018868  53.698113   61.867925\n",
       "2012  122.0  121.085714  75.485714  65.714286 -4.857143  64.171429   67.771429\n",
       "2013  175.0  121.676056  73.873239  62.042254 -5.140845  53.183099   63.985915\n",
       "2014  239.5  123.000000  67.775862  62.534483 -5.775862  52.086207   62.706897\n",
       "2015  316.0  119.768421  70.336842  63.663158 -5.621053  52.526316   64.568421\n",
       "2016  403.5  114.325000  67.237500  63.325000 -6.712500  45.150000   64.162500\n",
       "2017  476.0  116.800000  69.169231  65.369231 -5.615385  52.276923   69.015385\n",
       "2018  540.5  114.593750  65.468750  67.203125 -5.671875  48.765625   72.437500\n",
       "2019  588.0  112.451613  64.741935  69.709677 -5.774194  50.806452   84.354839"
      ]
     },
     "execution_count": 28,
     "metadata": {},
     "output_type": "execute_result"
    }
   ],
   "source": [
    "Cleaned_Dataset.groupby('Year').mean()"
   ]
  },
  {
   "cell_type": "code",
   "execution_count": 29,
   "metadata": {},
   "outputs": [
    {
     "data": {
      "text/html": [
       "<div>\n",
       "<style scoped>\n",
       "    .dataframe tbody tr th:only-of-type {\n",
       "        vertical-align: middle;\n",
       "    }\n",
       "\n",
       "    .dataframe tbody tr th {\n",
       "        vertical-align: top;\n",
       "    }\n",
       "\n",
       "    .dataframe thead th {\n",
       "        text-align: right;\n",
       "    }\n",
       "</style>\n",
       "<table border=\"1\" class=\"dataframe\">\n",
       "  <thead>\n",
       "    <tr style=\"text-align: right;\">\n",
       "      <th></th>\n",
       "      <th>Index</th>\n",
       "      <th>BPM</th>\n",
       "      <th>Energy</th>\n",
       "      <th>Dance</th>\n",
       "      <th>Loudness</th>\n",
       "      <th>Valence</th>\n",
       "      <th>Popularity</th>\n",
       "    </tr>\n",
       "    <tr>\n",
       "      <th>Year</th>\n",
       "      <th></th>\n",
       "      <th></th>\n",
       "      <th></th>\n",
       "      <th></th>\n",
       "      <th></th>\n",
       "      <th></th>\n",
       "      <th></th>\n",
       "    </tr>\n",
       "  </thead>\n",
       "  <tbody>\n",
       "    <tr>\n",
       "      <th>2010</th>\n",
       "      <td>26.0</td>\n",
       "      <td>122.058824</td>\n",
       "      <td>77.901961</td>\n",
       "      <td>64.529412</td>\n",
       "      <td>-4.901961</td>\n",
       "      <td>57.000000</td>\n",
       "      <td>64.254902</td>\n",
       "    </tr>\n",
       "    <tr>\n",
       "      <th>2011</th>\n",
       "      <td>78.0</td>\n",
       "      <td>119.075472</td>\n",
       "      <td>74.886792</td>\n",
       "      <td>63.641509</td>\n",
       "      <td>-5.018868</td>\n",
       "      <td>53.698113</td>\n",
       "      <td>61.867925</td>\n",
       "    </tr>\n",
       "    <tr>\n",
       "      <th>2012</th>\n",
       "      <td>122.0</td>\n",
       "      <td>121.085714</td>\n",
       "      <td>75.485714</td>\n",
       "      <td>65.714286</td>\n",
       "      <td>-4.857143</td>\n",
       "      <td>64.171429</td>\n",
       "      <td>67.771429</td>\n",
       "    </tr>\n",
       "    <tr>\n",
       "      <th>2013</th>\n",
       "      <td>175.0</td>\n",
       "      <td>121.676056</td>\n",
       "      <td>73.873239</td>\n",
       "      <td>62.042254</td>\n",
       "      <td>-5.140845</td>\n",
       "      <td>53.183099</td>\n",
       "      <td>63.985915</td>\n",
       "    </tr>\n",
       "    <tr>\n",
       "      <th>2014</th>\n",
       "      <td>239.5</td>\n",
       "      <td>123.000000</td>\n",
       "      <td>67.775862</td>\n",
       "      <td>62.534483</td>\n",
       "      <td>-5.775862</td>\n",
       "      <td>52.086207</td>\n",
       "      <td>62.706897</td>\n",
       "    </tr>\n",
       "    <tr>\n",
       "      <th>2015</th>\n",
       "      <td>316.0</td>\n",
       "      <td>119.768421</td>\n",
       "      <td>70.336842</td>\n",
       "      <td>63.663158</td>\n",
       "      <td>-5.621053</td>\n",
       "      <td>52.526316</td>\n",
       "      <td>64.568421</td>\n",
       "    </tr>\n",
       "    <tr>\n",
       "      <th>2016</th>\n",
       "      <td>403.5</td>\n",
       "      <td>114.325000</td>\n",
       "      <td>67.237500</td>\n",
       "      <td>63.325000</td>\n",
       "      <td>-6.712500</td>\n",
       "      <td>45.150000</td>\n",
       "      <td>64.162500</td>\n",
       "    </tr>\n",
       "    <tr>\n",
       "      <th>2017</th>\n",
       "      <td>476.0</td>\n",
       "      <td>116.800000</td>\n",
       "      <td>69.169231</td>\n",
       "      <td>65.369231</td>\n",
       "      <td>-5.615385</td>\n",
       "      <td>52.276923</td>\n",
       "      <td>69.015385</td>\n",
       "    </tr>\n",
       "    <tr>\n",
       "      <th>2018</th>\n",
       "      <td>540.5</td>\n",
       "      <td>114.593750</td>\n",
       "      <td>65.468750</td>\n",
       "      <td>67.203125</td>\n",
       "      <td>-5.671875</td>\n",
       "      <td>48.765625</td>\n",
       "      <td>72.437500</td>\n",
       "    </tr>\n",
       "    <tr>\n",
       "      <th>2019</th>\n",
       "      <td>588.0</td>\n",
       "      <td>112.451613</td>\n",
       "      <td>64.741935</td>\n",
       "      <td>69.709677</td>\n",
       "      <td>-5.774194</td>\n",
       "      <td>50.806452</td>\n",
       "      <td>84.354839</td>\n",
       "    </tr>\n",
       "  </tbody>\n",
       "</table>\n",
       "</div>"
      ],
      "text/plain": [
       "      Index         BPM     Energy      Dance  Loudness    Valence  Popularity\n",
       "Year                                                                          \n",
       "2010   26.0  122.058824  77.901961  64.529412 -4.901961  57.000000   64.254902\n",
       "2011   78.0  119.075472  74.886792  63.641509 -5.018868  53.698113   61.867925\n",
       "2012  122.0  121.085714  75.485714  65.714286 -4.857143  64.171429   67.771429\n",
       "2013  175.0  121.676056  73.873239  62.042254 -5.140845  53.183099   63.985915\n",
       "2014  239.5  123.000000  67.775862  62.534483 -5.775862  52.086207   62.706897\n",
       "2015  316.0  119.768421  70.336842  63.663158 -5.621053  52.526316   64.568421\n",
       "2016  403.5  114.325000  67.237500  63.325000 -6.712500  45.150000   64.162500\n",
       "2017  476.0  116.800000  69.169231  65.369231 -5.615385  52.276923   69.015385\n",
       "2018  540.5  114.593750  65.468750  67.203125 -5.671875  48.765625   72.437500\n",
       "2019  588.0  112.451613  64.741935  69.709677 -5.774194  50.806452   84.354839"
      ]
     },
     "execution_count": 29,
     "metadata": {},
     "output_type": "execute_result"
    }
   ],
   "source": [
    "#Here we acquire a data set that gives all the mean values for all of the years by variable. So we acquire a data set\n",
    "#that gives all of the mean values for all of the variables that has been grouped by year. \n",
    "Cleaned_Dataset = Cleaned_Dataset.groupby('Year').mean()\n",
    "Cleaned_Dataset"
   ]
  },
  {
   "cell_type": "code",
   "execution_count": 30,
   "metadata": {},
   "outputs": [
    {
     "data": {
      "image/png": "[encoded data removed]",
      "text/plain": [
       "<Figure size 432x288 with 1 Axes>"
      ]
     },
     "metadata": {
      "needs_background": "light"
     },
     "output_type": "display_data"
    }
   ],
   "source": [
    "#Here we are plotting all of the mean variables over the last decade. \n",
    "ax = Cleaned_Dataset.plot.line()\n",
    "ax.legend(loc=0)\n",
    "ax.set_title('Trends over the 2010\\'s')\n",
    "plt.show()"
   ]
  },
  {
   "cell_type": "markdown",
   "metadata": {},
   "source": [
    "# Finding Linear Relationships Between Features\n",
    "\n",
    "Now we want to see if there is a linear relationship between variables and popularity before doing linear regression. We will  be looking at relationships between BPM and Popularity as well as Dance and Popularity for each year to analyze linear relationships between these factors in order to predict how well our multiple linear regression will function later on."
   ]
  },
  {
   "cell_type": "code",
   "execution_count": 31,
   "metadata": {},
   "outputs": [
    {
     "data": {
      "image/png": "[encoded data removed]",
      "text/plain": [
       "<Figure size 432x288 with 1 Axes>"
      ]
     },
     "metadata": {
      "needs_background": "light"
     },
     "output_type": "display_data"
    },
    {
     "data": {
      "image/png": "[encoded data removed]",
      "text/plain": [
       "<Figure size 432x288 with 1 Axes>"
      ]
     },
     "metadata": {
      "needs_background": "light"
     },
     "output_type": "display_data"
    }
   ],
   "source": [
    "#Let's start with the year 2010\n",
    "#We will look at the relationships between BPM and Popularity\n",
    "\n",
    "plt.scatter(Dataset_2010[\"BPM\"], Dataset_2010[\"Popularity\"], color = \"red\")\n",
    "plt.xlabel(\"BPM\", fontsize = 14)\n",
    "plt.ylabel(\"Popularity\", fontsize = 14)\n",
    "plt.grid(True)\n",
    "plt.show()\n",
    "\n",
    "#Now we can look at relationship between Dance and Popularity\n",
    "\n",
    "plt.scatter(Dataset_2010[\"Dance\"], Dataset_2010[\"Popularity\"], color = \"red\")\n",
    "plt.xlabel(\"Dance\", fontsize = 14)\n",
    "plt.ylabel(\"Popularity\", fontsize = 14)\n",
    "plt.grid(True)\n",
    "plt.show()"
   ]
  },
  {
   "cell_type": "code",
   "execution_count": 32,
   "metadata": {},
   "outputs": [
    {
     "data": {
      "image/png": "[encoded data removed]",
      "text/plain": [
       "<Figure size 432x288 with 1 Axes>"
      ]
     },
     "metadata": {
      "needs_background": "light"
     },
     "output_type": "display_data"
    },
    {
     "data": {
      "image/png": "[encoded data removed]",
      "text/plain": [
       "<Figure size 432x288 with 1 Axes>"
      ]
     },
     "metadata": {
      "needs_background": "light"
     },
     "output_type": "display_data"
    }
   ],
   "source": [
    "#Let's analyze the same for the rest of the years\n",
    "#Year 2011\n",
    "\n",
    "plt.scatter(Dataset_2011[\"BPM\"], Dataset_2011[\"Popularity\"], color = \"green\")\n",
    "plt.xlabel(\"BPM\", fontsize = 14)\n",
    "plt.ylabel(\"Popularity\", fontsize = 14)\n",
    "plt.grid(True)\n",
    "plt.show()\n",
    "\n",
    "plt.scatter(Dataset_2011[\"Dance\"], Dataset_2011[\"Popularity\"], color = \"green\")\n",
    "plt.xlabel(\"Dance\", fontsize = 14)\n",
    "plt.ylabel(\"Popularity\", fontsize = 14)\n",
    "plt.grid(True)\n",
    "plt.show()"
   ]
  },
  {
   "cell_type": "code",
   "execution_count": 33,
   "metadata": {},
   "outputs": [
    {
     "data": {
      "image/png": "[encoded data removed]",
      "text/plain": [
       "<Figure size 432x288 with 1 Axes>"
      ]
     },
     "metadata": {
      "needs_background": "light"
     },
     "output_type": "display_data"
    },
    {
     "data": {
      "image/png": "[encoded data removed]",
      "text/plain": [
       "<Figure size 432x288 with 1 Axes>"
      ]
     },
     "metadata": {
      "needs_background": "light"
     },
     "output_type": "display_data"
    }
   ],
   "source": [
    "#Year 2012\n",
    "\n",
    "plt.scatter(Dataset_2012[\"BPM\"], Dataset_2012[\"Popularity\"], color = \"blue\")\n",
    "plt.xlabel(\"BPM\", fontsize = 14)\n",
    "plt.ylabel(\"Popularity\", fontsize = 14)\n",
    "plt.grid(True)\n",
    "plt.show()\n",
    "\n",
    "plt.scatter(Dataset_2012[\"Dance\"], Dataset_2012[\"Popularity\"], color = \"blue\")\n",
    "plt.xlabel(\"Dance\", fontsize = 14)\n",
    "plt.ylabel(\"Popularity\", fontsize = 14)\n",
    "plt.grid(True)\n",
    "plt.show()"
   ]
  },
  {
   "cell_type": "code",
   "execution_count": 34,
   "metadata": {},
   "outputs": [
    {
     "data": {
      "image/png": "[encoded data removed]",
      "text/plain": [
       "<Figure size 432x288 with 1 Axes>"
      ]
     },
     "metadata": {
      "needs_background": "light"
     },
     "output_type": "display_data"
    },
    {
     "data": {
      "image/png": "[encoded data removed]",
      "text/plain": [
       "<Figure size 432x288 with 1 Axes>"
      ]
     },
     "metadata": {
      "needs_background": "light"
     },
     "output_type": "display_data"
    }
   ],
   "source": [
    "#Year 2013\n",
    "\n",
    "plt.scatter(Dataset_2013[\"BPM\"], Dataset_2013[\"Popularity\"], color = \"brown\")\n",
    "plt.xlabel(\"BPM\", fontsize = 14)\n",
    "plt.ylabel(\"Popularity\", fontsize = 14)\n",
    "plt.grid(True)\n",
    "plt.show()\n",
    "\n",
    "plt.scatter(Dataset_2013[\"Dance\"], Dataset_2013[\"Popularity\"], color = \"brown\")\n",
    "plt.xlabel(\"Dance\", fontsize = 14)\n",
    "plt.ylabel(\"Popularity\", fontsize = 14)\n",
    "plt.grid(True)\n",
    "plt.show()"
   ]
  },
  {
   "cell_type": "code",
   "execution_count": 35,
   "metadata": {},
   "outputs": [
    {
     "data": {
      "image/png": "[encoded data removed]",
      "text/plain": [
       "<Figure size 432x288 with 1 Axes>"
      ]
     },
     "metadata": {
      "needs_background": "light"
     },
     "output_type": "display_data"
    },
    {
     "data": {
      "image/png": "[encoded data removed]",
      "text/plain": [
       "<Figure size 432x288 with 1 Axes>"
      ]
     },
     "metadata": {
      "needs_background": "light"
     },
     "output_type": "display_data"
    }
   ],
   "source": [
    "#Year 2014\n",
    "\n",
    "plt.scatter(Dataset_2014[\"BPM\"], Dataset_2014[\"Popularity\"], color = \"orange\")\n",
    "plt.xlabel(\"BPM\", fontsize = 14)\n",
    "plt.ylabel(\"Popularity\", fontsize = 14)\n",
    "plt.grid(True)\n",
    "plt.show()\n",
    "\n",
    "plt.scatter(Dataset_2014[\"Dance\"], Dataset_2014[\"Popularity\"], color = \"orange\")\n",
    "plt.xlabel(\"Dance\", fontsize = 14)\n",
    "plt.ylabel(\"Popularity\", fontsize = 14)\n",
    "plt.grid(True)\n",
    "plt.show()"
   ]
  },
  {
   "cell_type": "code",
   "execution_count": 36,
   "metadata": {},
   "outputs": [
    {
     "data": {
      "image/png": "[encoded data removed]",
      "text/plain": [
       "<Figure size 432x288 with 1 Axes>"
      ]
     },
     "metadata": {
      "needs_background": "light"
     },
     "output_type": "display_data"
    },
    {
     "data": {
      "image/png": "[encoded data removed]",
      "text/plain": [
       "<Figure size 432x288 with 1 Axes>"
      ]
     },
     "metadata": {
      "needs_background": "light"
     },
     "output_type": "display_data"
    }
   ],
   "source": [
    "#Year 2015\n",
    "\n",
    "plt.scatter(Dataset_2015[\"BPM\"], Dataset_2015[\"Popularity\"], color = \"black\")\n",
    "plt.xlabel(\"BPM\", fontsize = 14)\n",
    "plt.ylabel(\"Popularity\", fontsize = 14)\n",
    "plt.grid(True)\n",
    "plt.show()\n",
    "\n",
    "plt.scatter(Dataset_2015[\"Dance\"], Dataset_2015[\"Popularity\"], color = \"black\")\n",
    "plt.xlabel(\"Dance\", fontsize = 14)\n",
    "plt.ylabel(\"Popularity\", fontsize = 14)\n",
    "plt.grid(True)\n",
    "plt.show()"
   ]
  },
  {
   "cell_type": "code",
   "execution_count": 37,
   "metadata": {},
   "outputs": [
    {
     "data": {
      "image/png": "[encoded data removed]",
      "text/plain": [
       "<Figure size 432x288 with 1 Axes>"
      ]
     },
     "metadata": {
      "needs_background": "light"
     },
     "output_type": "display_data"
    },
    {
     "data": {
      "image/png": "[encoded data removed]",
      "text/plain": [
       "<Figure size 432x288 with 1 Axes>"
      ]
     },
     "metadata": {
      "needs_background": "light"
     },
     "output_type": "display_data"
    }
   ],
   "source": [
    "#Year 2016\n",
    "\n",
    "plt.scatter(Dataset_2016[\"BPM\"], Dataset_2016[\"Popularity\"], color = \"pink\")\n",
    "plt.xlabel(\"BPM\", fontsize = 14)\n",
    "plt.ylabel(\"Popularity\", fontsize = 14)\n",
    "plt.grid(True)\n",
    "plt.show()\n",
    "\n",
    "plt.scatter(Dataset_2016[\"Dance\"], Dataset_2016[\"Popularity\"], color = \"pink\")\n",
    "plt.xlabel(\"Dance\", fontsize = 14)\n",
    "plt.ylabel(\"Popularity\", fontsize = 14)\n",
    "plt.grid(True)\n",
    "plt.show()"
   ]
  },
  {
   "cell_type": "code",
   "execution_count": 38,
   "metadata": {},
   "outputs": [
    {
     "data": {
      "image/png": "[encoded data removed]",
      "text/plain": [
       "<Figure size 432x288 with 1 Axes>"
      ]
     },
     "metadata": {
      "needs_background": "light"
     },
     "output_type": "display_data"
    },
    {
     "data": {
      "image/png": "[encoded data removed]",
      "text/plain": [
       "<Figure size 432x288 with 1 Axes>"
      ]
     },
     "metadata": {
      "needs_background": "light"
     },
     "output_type": "display_data"
    }
   ],
   "source": [
    "#Year 2017\n",
    "\n",
    "plt.scatter(Dataset_2017[\"BPM\"], Dataset_2017[\"Popularity\"], color = \"purple\")\n",
    "plt.xlabel(\"BPM\", fontsize = 14)\n",
    "plt.ylabel(\"Popularity\", fontsize = 14)\n",
    "plt.grid(True)\n",
    "plt.show()\n",
    "\n",
    "plt.scatter(Dataset_2017[\"Dance\"], Dataset_2017[\"Popularity\"], color = \"purple\")\n",
    "plt.xlabel(\"Dance\", fontsize = 14)\n",
    "plt.ylabel(\"Popularity\", fontsize = 14)\n",
    "plt.grid(True)\n",
    "plt.show()"
   ]
  },
  {
   "cell_type": "code",
   "execution_count": 39,
   "metadata": {},
   "outputs": [
    {
     "data": {
      "image/png": "[encoded data removed]",
      "text/plain": [
       "<Figure size 432x288 with 1 Axes>"
      ]
     },
     "metadata": {
      "needs_background": "light"
     },
     "output_type": "display_data"
    },
    {
     "data": {
      "image/png": "[encoded data removed]",
      "text/plain": [
       "<Figure size 432x288 with 1 Axes>"
      ]
     },
     "metadata": {
      "needs_background": "light"
     },
     "output_type": "display_data"
    }
   ],
   "source": [
    "#Year 2018\n",
    "\n",
    "plt.scatter(Dataset_2018[\"BPM\"], Dataset_2018[\"Popularity\"], color = \"grey\")\n",
    "plt.xlabel(\"BPM\", fontsize = 14)\n",
    "plt.ylabel(\"Popularity\", fontsize = 14)\n",
    "plt.grid(True)\n",
    "plt.show()\n",
    "\n",
    "plt.scatter(Dataset_2018[\"Dance\"], Dataset_2018[\"Popularity\"], color = \"grey\")\n",
    "plt.xlabel(\"Dance\", fontsize = 14)\n",
    "plt.ylabel(\"Popularity\", fontsize = 14)\n",
    "plt.grid(True)\n",
    "plt.show()"
   ]
  },
  {
   "cell_type": "code",
   "execution_count": 40,
   "metadata": {},
   "outputs": [
    {
     "data": {
      "image/png": "[encoded data removed]",
      "text/plain": [
       "<Figure size 432x288 with 1 Axes>"
      ]
     },
     "metadata": {
      "needs_background": "light"
     },
     "output_type": "display_data"
    },
    {
     "data": {
      "image/png": "[encoded data removed]",
      "text/plain": [
       "<Figure size 432x288 with 1 Axes>"
      ]
     },
     "metadata": {
      "needs_background": "light"
     },
     "output_type": "display_data"
    }
   ],
   "source": [
    "#Year 2019\n",
    "\n",
    "plt.scatter(Dataset_2019[\"BPM\"], Dataset_2019[\"Popularity\"], color = \"hotpink\")\n",
    "plt.xlabel(\"BPM\", fontsize = 14)\n",
    "plt.ylabel(\"Popularity\", fontsize = 14)\n",
    "plt.grid(True)\n",
    "plt.show()\n",
    "\n",
    "plt.scatter(Dataset_2019[\"Dance\"], Dataset_2019[\"Popularity\"], color = \"hotpink\")\n",
    "plt.xlabel(\"Dance\", fontsize = 14)\n",
    "plt.ylabel(\"Popularity\", fontsize = 14)\n",
    "plt.grid(True)\n",
    "plt.show()"
   ]
  },
  {
   "cell_type": "markdown",
   "metadata": {},
   "source": [
    "# Multiple Linear Regression to Create Predictor Model\n",
    "\n",
    "Now we have shown the relationships between at least two variables, testing to see if there even are strong linear \n",
    "relationships between features and popularity which would make good models for popularity predictions. As we can see\n",
    "though, there aren't many strong linear relationships in any of the years that correlate strongly with popularity. \n",
    "We will still create predictor models though for each year to see if any year does in fact have a strong predictor for \n",
    "popularity based on the features of BPM, Energy, Dance, Valence, and Loudness, which we categorized as \"Fun\" features. \n",
    "We will be using **multiple linear regression** using sci-kit learn and statsmodels for each year's dataset to analyze this. "
   ]
  },
  {
   "cell_type": "code",
   "execution_count": 41,
   "metadata": {},
   "outputs": [
    {
     "data": {
      "text/html": [
       "<div>\n",
       "<style scoped>\n",
       "    .dataframe tbody tr th:only-of-type {\n",
       "        vertical-align: middle;\n",
       "    }\n",
       "\n",
       "    .dataframe tbody tr th {\n",
       "        vertical-align: top;\n",
       "    }\n",
       "\n",
       "    .dataframe thead th {\n",
       "        text-align: right;\n",
       "    }\n",
       "</style>\n",
       "<table border=\"1\" class=\"dataframe\">\n",
       "  <thead>\n",
       "    <tr style=\"text-align: right;\">\n",
       "      <th></th>\n",
       "      <th>Index</th>\n",
       "      <th>Title</th>\n",
       "      <th>Artist</th>\n",
       "      <th>Genre</th>\n",
       "      <th>Year</th>\n",
       "      <th>BPM</th>\n",
       "      <th>Energy</th>\n",
       "      <th>Dance</th>\n",
       "      <th>Loudness</th>\n",
       "      <th>Valence</th>\n",
       "      <th>Popularity</th>\n",
       "    </tr>\n",
       "  </thead>\n",
       "  <tbody>\n",
       "    <tr>\n",
       "      <th>0</th>\n",
       "      <td>14</td>\n",
       "      <td>Telephone</td>\n",
       "      <td>Lady Gaga</td>\n",
       "      <td>dance pop</td>\n",
       "      <td>2010</td>\n",
       "      <td>122</td>\n",
       "      <td>83</td>\n",
       "      <td>83</td>\n",
       "      <td>-6</td>\n",
       "      <td>71</td>\n",
       "      <td>73</td>\n",
       "    </tr>\n",
       "    <tr>\n",
       "      <th>1</th>\n",
       "      <td>25</td>\n",
       "      <td>All The Right Moves</td>\n",
       "      <td>OneRepublic</td>\n",
       "      <td>dance pop</td>\n",
       "      <td>2010</td>\n",
       "      <td>146</td>\n",
       "      <td>95</td>\n",
       "      <td>53</td>\n",
       "      <td>-4</td>\n",
       "      <td>65</td>\n",
       "      <td>65</td>\n",
       "    </tr>\n",
       "    <tr>\n",
       "      <th>2</th>\n",
       "      <td>24</td>\n",
       "      <td>Misery</td>\n",
       "      <td>Maroon 5</td>\n",
       "      <td>pop</td>\n",
       "      <td>2010</td>\n",
       "      <td>103</td>\n",
       "      <td>81</td>\n",
       "      <td>70</td>\n",
       "      <td>-5</td>\n",
       "      <td>73</td>\n",
       "      <td>65</td>\n",
       "    </tr>\n",
       "    <tr>\n",
       "      <th>3</th>\n",
       "      <td>23</td>\n",
       "      <td>Take It Off</td>\n",
       "      <td>Kesha</td>\n",
       "      <td>dance pop</td>\n",
       "      <td>2010</td>\n",
       "      <td>125</td>\n",
       "      <td>68</td>\n",
       "      <td>73</td>\n",
       "      <td>-5</td>\n",
       "      <td>74</td>\n",
       "      <td>66</td>\n",
       "    </tr>\n",
       "    <tr>\n",
       "      <th>4</th>\n",
       "      <td>22</td>\n",
       "      <td>Whataya Want from Me</td>\n",
       "      <td>Adam Lambert</td>\n",
       "      <td>australian pop</td>\n",
       "      <td>2010</td>\n",
       "      <td>186</td>\n",
       "      <td>68</td>\n",
       "      <td>44</td>\n",
       "      <td>-5</td>\n",
       "      <td>45</td>\n",
       "      <td>66</td>\n",
       "    </tr>\n",
       "  </tbody>\n",
       "</table>\n",
       "</div>"
      ],
      "text/plain": [
       "   Index                 Title        Artist           Genre  Year  BPM  \\\n",
       "0     14             Telephone     Lady Gaga       dance pop  2010  122   \n",
       "1     25   All The Right Moves   OneRepublic       dance pop  2010  146   \n",
       "2     24                Misery      Maroon 5             pop  2010  103   \n",
       "3     23           Take It Off         Kesha       dance pop  2010  125   \n",
       "4     22  Whataya Want from Me  Adam Lambert  australian pop  2010  186   \n",
       "\n",
       "   Energy  Dance  Loudness  Valence  Popularity  \n",
       "0      83     83        -6       71          73  \n",
       "1      95     53        -4       65          65  \n",
       "2      81     70        -5       73          65  \n",
       "3      68     73        -5       74          66  \n",
       "4      68     44        -5       45          66  "
      ]
     },
     "execution_count": 41,
     "metadata": {},
     "output_type": "execute_result"
    }
   ],
   "source": [
    "#Let's start with 2010\n",
    "\n",
    "Dataset_2010.head()"
   ]
  },
  {
   "cell_type": "code",
   "execution_count": 42,
   "metadata": {},
   "outputs": [
    {
     "name": "stdout",
     "output_type": "stream",
     "text": [
      "Intercept: \n",
      " 48.46488126581923\n",
      "Coefficients: \n",
      " [ 0.00882285 -0.18146673  0.10974871 -2.52858497  0.16443306]\n",
      "Predicted Popularity: \n",
      " [70.43493001]\n",
      "                            OLS Regression Results                            \n",
      "==============================================================================\n",
      "Dep. Variable:             Popularity   R-squared:                       0.128\n",
      "Model:                            OLS   Adj. R-squared:                  0.032\n",
      "Method:                 Least Squares   F-statistic:                     1.326\n",
      "Date:                Thu, 19 Mar 2020   Prob (F-statistic):              0.270\n",
      "Time:                        13:31:40   Log-Likelihood:                -200.05\n",
      "No. Observations:                  51   AIC:                             412.1\n",
      "Df Residuals:                      45   BIC:                             423.7\n",
      "Df Model:                           5                                         \n",
      "Covariance Type:            nonrobust                                         \n",
      "==============================================================================\n",
      "                 coef    std err          t      P>|t|      [0.025      0.975]\n",
      "------------------------------------------------------------------------------\n",
      "const         48.4649     20.080      2.414      0.020       8.022      88.908\n",
      "BPM            0.0088      0.075      0.117      0.907      -0.143       0.161\n",
      "Energy        -0.1815      0.155     -1.168      0.249      -0.494       0.131\n",
      "Dance          0.1097      0.147      0.745      0.460      -0.187       0.406\n",
      "Loudness      -2.5286      1.544     -1.637      0.109      -5.639       0.582\n",
      "Valence        0.1644      0.114      1.443      0.156      -0.065       0.394\n",
      "==============================================================================\n",
      "Omnibus:                       32.786   Durbin-Watson:                   0.920\n",
      "Prob(Omnibus):                  0.000   Jarque-Bera (JB):              100.234\n",
      "Skew:                          -1.676   Prob(JB):                     1.72e-22\n",
      "Kurtosis:                       8.994   Cond. No.                     1.88e+03\n",
      "==============================================================================\n",
      "\n",
      "Warnings:\n",
      "[1] Standard Errors assume that the covariance matrix of the errors is correctly specified.\n",
      "[2] The condition number is large, 1.88e+03. This might indicate that there are\n",
      "strong multicollinearity or other numerical problems.\n"
     ]
    },
    {
     "name": "stderr",
     "output_type": "stream",
     "text": [
      "C:\\Users\\alexa\\Anaconda3\\lib\\site-packages\\numpy\\core\\fromnumeric.py:2389: FutureWarning: Method .ptp is deprecated and will be removed in a future version. Use numpy.ptp instead.\n",
      "  return ptp(axis=axis, out=out, **kwargs)\n"
     ]
    }
   ],
   "source": [
    "#Year 2010\n",
    "\n",
    "#Setting the X variables that will be predictors for Y\n",
    "X = Dataset_2010[[\"BPM\",\"Energy\", \"Dance\", \"Loudness\", \"Valence\"]]\n",
    "Y = Dataset_2010[\"Popularity\"]\n",
    "\n",
    "#using sklearn\n",
    "regression = linear_model.LinearRegression()\n",
    "regression.fit(X,Y)\n",
    "\n",
    "print(\"Intercept: \\n\" ,regression.intercept_)\n",
    "print(\"Coefficients: \\n\", regression.coef_)\n",
    "\n",
    "#Using the features from the first song of the 2010 dataset to see how accurate popularity predictor is\n",
    "#Predicted popularity should be close to 73 (the actual popularity value of this song) if there's strong linear relationship\n",
    "New_BPM = 122\n",
    "New_Energy = 83\n",
    "New_Dance = 83\n",
    "New_Loudness = -6\n",
    "New_Valence = 71\n",
    "\n",
    "print(\"Predicted Popularity: \\n\", regression.predict([[New_BPM, New_Energy, New_Dance, New_Loudness, New_Valence]]))\n",
    "\n",
    "#used statsmodels here as well \n",
    "X = sm.add_constant(X)\n",
    "\n",
    "model = sm.OLS(Y,X).fit()\n",
    "popularity_prediction = model.predict(X)\n",
    "\n",
    "print(model.summary())\n"
   ]
  },
  {
   "cell_type": "code",
   "execution_count": 43,
   "metadata": {},
   "outputs": [],
   "source": [
    "#Predicted probablity is 70 compared to the 73 we should have gotten\n",
    "#Somewhat close to expected value"
   ]
  },
  {
   "cell_type": "code",
   "execution_count": 44,
   "metadata": {},
   "outputs": [
    {
     "data": {
      "text/html": [
       "<div>\n",
       "<style scoped>\n",
       "    .dataframe tbody tr th:only-of-type {\n",
       "        vertical-align: middle;\n",
       "    }\n",
       "\n",
       "    .dataframe tbody tr th {\n",
       "        vertical-align: top;\n",
       "    }\n",
       "\n",
       "    .dataframe thead th {\n",
       "        text-align: right;\n",
       "    }\n",
       "</style>\n",
       "<table border=\"1\" class=\"dataframe\">\n",
       "  <thead>\n",
       "    <tr style=\"text-align: right;\">\n",
       "      <th></th>\n",
       "      <th>Index</th>\n",
       "      <th>Title</th>\n",
       "      <th>Artist</th>\n",
       "      <th>Genre</th>\n",
       "      <th>Year</th>\n",
       "      <th>BPM</th>\n",
       "      <th>Energy</th>\n",
       "      <th>Dance</th>\n",
       "      <th>Loudness</th>\n",
       "      <th>Valence</th>\n",
       "      <th>Popularity</th>\n",
       "    </tr>\n",
       "  </thead>\n",
       "  <tbody>\n",
       "    <tr>\n",
       "      <th>0</th>\n",
       "      <td>71</td>\n",
       "      <td>Just Cant Get Enough</td>\n",
       "      <td>The Black Eyed Peas</td>\n",
       "      <td>dance pop</td>\n",
       "      <td>2011</td>\n",
       "      <td>94</td>\n",
       "      <td>63</td>\n",
       "      <td>66</td>\n",
       "      <td>-9</td>\n",
       "      <td>26</td>\n",
       "      <td>71</td>\n",
       "    </tr>\n",
       "    <tr>\n",
       "      <th>1</th>\n",
       "      <td>66</td>\n",
       "      <td>Best Thing I Never Had</td>\n",
       "      <td>Beyoncé</td>\n",
       "      <td>dance pop</td>\n",
       "      <td>2011</td>\n",
       "      <td>99</td>\n",
       "      <td>65</td>\n",
       "      <td>55</td>\n",
       "      <td>-4</td>\n",
       "      <td>30</td>\n",
       "      <td>73</td>\n",
       "    </tr>\n",
       "    <tr>\n",
       "      <th>2</th>\n",
       "      <td>67</td>\n",
       "      <td>Party Rock Anthem</td>\n",
       "      <td>LMFAO</td>\n",
       "      <td>dance pop</td>\n",
       "      <td>2011</td>\n",
       "      <td>130</td>\n",
       "      <td>74</td>\n",
       "      <td>75</td>\n",
       "      <td>-4</td>\n",
       "      <td>35</td>\n",
       "      <td>72</td>\n",
       "    </tr>\n",
       "    <tr>\n",
       "      <th>3</th>\n",
       "      <td>68</td>\n",
       "      <td>We R Who We R</td>\n",
       "      <td>Kesha</td>\n",
       "      <td>dance pop</td>\n",
       "      <td>2011</td>\n",
       "      <td>120</td>\n",
       "      <td>82</td>\n",
       "      <td>74</td>\n",
       "      <td>-5</td>\n",
       "      <td>65</td>\n",
       "      <td>72</td>\n",
       "    </tr>\n",
       "    <tr>\n",
       "      <th>4</th>\n",
       "      <td>69</td>\n",
       "      <td>Price Tag</td>\n",
       "      <td>Jessie J</td>\n",
       "      <td>australian pop</td>\n",
       "      <td>2011</td>\n",
       "      <td>175</td>\n",
       "      <td>83</td>\n",
       "      <td>64</td>\n",
       "      <td>-4</td>\n",
       "      <td>68</td>\n",
       "      <td>72</td>\n",
       "    </tr>\n",
       "  </tbody>\n",
       "</table>\n",
       "</div>"
      ],
      "text/plain": [
       "   Index                   Title               Artist           Genre  Year  \\\n",
       "0     71   Just Cant Get Enough  The Black Eyed Peas       dance pop  2011   \n",
       "1     66  Best Thing I Never Had              Beyoncé       dance pop  2011   \n",
       "2     67       Party Rock Anthem                LMFAO       dance pop  2011   \n",
       "3     68           We R Who We R                Kesha       dance pop  2011   \n",
       "4     69               Price Tag             Jessie J  australian pop  2011   \n",
       "\n",
       "   BPM  Energy  Dance  Loudness  Valence  Popularity  \n",
       "0   94      63     66        -9       26          71  \n",
       "1   99      65     55        -4       30          73  \n",
       "2  130      74     75        -4       35          72  \n",
       "3  120      82     74        -5       65          72  \n",
       "4  175      83     64        -4       68          72  "
      ]
     },
     "execution_count": 44,
     "metadata": {},
     "output_type": "execute_result"
    }
   ],
   "source": [
    "#Year 2011 predictor \n",
    "\n",
    "Dataset_2011.head()"
   ]
  },
  {
   "cell_type": "code",
   "execution_count": 45,
   "metadata": {},
   "outputs": [
    {
     "name": "stdout",
     "output_type": "stream",
     "text": [
      "Intercept: \n",
      " 56.76860681902299\n",
      "Coefficients: \n",
      " [ 0.11767085 -0.09398451  0.08569877  0.49351828 -0.09034381]\n",
      "Predicted Popularity: \n",
      " [60.77415802]\n",
      "                            OLS Regression Results                            \n",
      "==============================================================================\n",
      "Dep. Variable:             Popularity   R-squared:                       0.037\n",
      "Model:                            OLS   Adj. R-squared:                 -0.065\n",
      "Method:                 Least Squares   F-statistic:                    0.3617\n",
      "Date:                Thu, 19 Mar 2020   Prob (F-statistic):              0.872\n",
      "Time:                        13:31:40   Log-Likelihood:                -220.84\n",
      "No. Observations:                  53   AIC:                             453.7\n",
      "Df Residuals:                      47   BIC:                             465.5\n",
      "Df Model:                           5                                         \n",
      "Covariance Type:            nonrobust                                         \n",
      "==============================================================================\n",
      "                 coef    std err          t      P>|t|      [0.025      0.975]\n",
      "------------------------------------------------------------------------------\n",
      "const         56.7686     28.528      1.990      0.052      -0.622     114.159\n",
      "BPM            0.1177      0.115      1.022      0.312      -0.114       0.349\n",
      "Energy        -0.0940      0.244     -0.386      0.701      -0.584       0.396\n",
      "Dance          0.0857      0.260      0.330      0.743      -0.437       0.608\n",
      "Loudness       0.4935      2.313      0.213      0.832      -4.160       5.147\n",
      "Valence       -0.0903      0.147     -0.616      0.541      -0.385       0.205\n",
      "==============================================================================\n",
      "Omnibus:                       21.249   Durbin-Watson:                   0.615\n",
      "Prob(Omnibus):                  0.000   Jarque-Bera (JB):               28.397\n",
      "Skew:                          -1.513   Prob(JB):                     6.82e-07\n",
      "Kurtosis:                       4.923   Cond. No.                     2.08e+03\n",
      "==============================================================================\n",
      "\n",
      "Warnings:\n",
      "[1] Standard Errors assume that the covariance matrix of the errors is correctly specified.\n",
      "[2] The condition number is large, 2.08e+03. This might indicate that there are\n",
      "strong multicollinearity or other numerical problems.\n"
     ]
    },
    {
     "name": "stderr",
     "output_type": "stream",
     "text": [
      "C:\\Users\\alexa\\Anaconda3\\lib\\site-packages\\numpy\\core\\fromnumeric.py:2389: FutureWarning: Method .ptp is deprecated and will be removed in a future version. Use numpy.ptp instead.\n",
      "  return ptp(axis=axis, out=out, **kwargs)\n"
     ]
    }
   ],
   "source": [
    "X = Dataset_2011[[\"BPM\",\"Energy\", \"Dance\", \"Loudness\", \"Valence\"]]\n",
    "Y = Dataset_2011[\"Popularity\"]\n",
    "\n",
    "\n",
    "regression = linear_model.LinearRegression()\n",
    "regression.fit(X,Y)\n",
    "\n",
    "print(\"Intercept: \\n\" ,regression.intercept_)\n",
    "print(\"Coefficients: \\n\", regression.coef_)\n",
    "\n",
    "#Using the features from the first song of the 2011 dataset to see how accurate popularity predictor is\n",
    "#Predicted popularity should be close to 71 (the actual popularity value of this song) if there's strong linear relationship\n",
    "New_BPM = 94\n",
    "New_Energy = 63\n",
    "New_Dance = 66\n",
    "New_Loudness = -9\n",
    "New_Valence = 26\n",
    "\n",
    "print(\"Predicted Popularity: \\n\", regression.predict([[New_BPM, New_Energy, New_Dance, New_Loudness, New_Valence]]))\n",
    "\n",
    "X = sm.add_constant(X)\n",
    "\n",
    "model = sm.OLS(Y,X).fit()\n",
    "popularity_prediction = model.predict(X)\n",
    "\n",
    "print(model.summary())"
   ]
  },
  {
   "cell_type": "code",
   "execution_count": 46,
   "metadata": {},
   "outputs": [],
   "source": [
    "#Predicted popularity is 60 when it should have been 71\n",
    "#Value is significantly farther from expected"
   ]
  },
  {
   "cell_type": "code",
   "execution_count": 47,
   "metadata": {},
   "outputs": [
    {
     "data": {
      "text/html": [
       "<div>\n",
       "<style scoped>\n",
       "    .dataframe tbody tr th:only-of-type {\n",
       "        vertical-align: middle;\n",
       "    }\n",
       "\n",
       "    .dataframe tbody tr th {\n",
       "        vertical-align: top;\n",
       "    }\n",
       "\n",
       "    .dataframe thead th {\n",
       "        text-align: right;\n",
       "    }\n",
       "</style>\n",
       "<table border=\"1\" class=\"dataframe\">\n",
       "  <thead>\n",
       "    <tr style=\"text-align: right;\">\n",
       "      <th></th>\n",
       "      <th>Index</th>\n",
       "      <th>Title</th>\n",
       "      <th>Artist</th>\n",
       "      <th>Genre</th>\n",
       "      <th>Year</th>\n",
       "      <th>BPM</th>\n",
       "      <th>Energy</th>\n",
       "      <th>Dance</th>\n",
       "      <th>Loudness</th>\n",
       "      <th>Valence</th>\n",
       "      <th>Popularity</th>\n",
       "    </tr>\n",
       "  </thead>\n",
       "  <tbody>\n",
       "    <tr>\n",
       "      <th>0</th>\n",
       "      <td>120</td>\n",
       "      <td>Glad You Came</td>\n",
       "      <td>The Wanted</td>\n",
       "      <td>boy band</td>\n",
       "      <td>2012</td>\n",
       "      <td>127</td>\n",
       "      <td>85</td>\n",
       "      <td>72</td>\n",
       "      <td>-4</td>\n",
       "      <td>45</td>\n",
       "      <td>72</td>\n",
       "    </tr>\n",
       "    <tr>\n",
       "      <th>1</th>\n",
       "      <td>113</td>\n",
       "      <td>Set Fire to the Rain</td>\n",
       "      <td>Adele</td>\n",
       "      <td>british soul</td>\n",
       "      <td>2012</td>\n",
       "      <td>108</td>\n",
       "      <td>68</td>\n",
       "      <td>61</td>\n",
       "      <td>-4</td>\n",
       "      <td>47</td>\n",
       "      <td>76</td>\n",
       "    </tr>\n",
       "    <tr>\n",
       "      <th>2</th>\n",
       "      <td>119</td>\n",
       "      <td>Good Time</td>\n",
       "      <td>Owl City</td>\n",
       "      <td>pop</td>\n",
       "      <td>2012</td>\n",
       "      <td>126</td>\n",
       "      <td>87</td>\n",
       "      <td>56</td>\n",
       "      <td>-4</td>\n",
       "      <td>68</td>\n",
       "      <td>73</td>\n",
       "    </tr>\n",
       "    <tr>\n",
       "      <th>3</th>\n",
       "      <td>118</td>\n",
       "      <td>One More Night</td>\n",
       "      <td>Maroon 5</td>\n",
       "      <td>pop</td>\n",
       "      <td>2012</td>\n",
       "      <td>93</td>\n",
       "      <td>82</td>\n",
       "      <td>72</td>\n",
       "      <td>-3</td>\n",
       "      <td>62</td>\n",
       "      <td>73</td>\n",
       "    </tr>\n",
       "    <tr>\n",
       "      <th>4</th>\n",
       "      <td>117</td>\n",
       "      <td>Starships</td>\n",
       "      <td>Nicki Minaj</td>\n",
       "      <td>dance pop</td>\n",
       "      <td>2012</td>\n",
       "      <td>125</td>\n",
       "      <td>72</td>\n",
       "      <td>75</td>\n",
       "      <td>-2</td>\n",
       "      <td>75</td>\n",
       "      <td>73</td>\n",
       "    </tr>\n",
       "  </tbody>\n",
       "</table>\n",
       "</div>"
      ],
      "text/plain": [
       "   Index                 Title       Artist         Genre  Year  BPM  Energy  \\\n",
       "0    120         Glad You Came   The Wanted      boy band  2012  127      85   \n",
       "1    113  Set Fire to the Rain        Adele  british soul  2012  108      68   \n",
       "2    119             Good Time     Owl City           pop  2012  126      87   \n",
       "3    118        One More Night     Maroon 5           pop  2012   93      82   \n",
       "4    117             Starships  Nicki Minaj     dance pop  2012  125      72   \n",
       "\n",
       "   Dance  Loudness  Valence  Popularity  \n",
       "0     72        -4       45          72  \n",
       "1     61        -4       47          76  \n",
       "2     56        -4       68          73  \n",
       "3     72        -3       62          73  \n",
       "4     75        -2       75          73  "
      ]
     },
     "execution_count": 47,
     "metadata": {},
     "output_type": "execute_result"
    }
   ],
   "source": [
    "#Year 2012\n",
    "\n",
    "Dataset_2012.head()"
   ]
  },
  {
   "cell_type": "code",
   "execution_count": 48,
   "metadata": {},
   "outputs": [
    {
     "name": "stdout",
     "output_type": "stream",
     "text": [
      "Intercept: \n",
      " 83.56260634882551\n",
      "Coefficients: \n",
      " [ 0.0663748  -0.45293145  0.41721186  1.08585645 -0.18358612]\n",
      "Predicted Popularity: \n",
      " [70.92748569]\n",
      "                            OLS Regression Results                            \n",
      "==============================================================================\n",
      "Dep. Variable:             Popularity   R-squared:                       0.202\n",
      "Model:                            OLS   Adj. R-squared:                  0.065\n",
      "Method:                 Least Squares   F-statistic:                     1.472\n",
      "Date:                Thu, 19 Mar 2020   Prob (F-statistic):              0.229\n",
      "Time:                        13:31:41   Log-Likelihood:                -138.86\n",
      "No. Observations:                  35   AIC:                             289.7\n",
      "Df Residuals:                      29   BIC:                             299.1\n",
      "Df Model:                           5                                         \n",
      "Covariance Type:            nonrobust                                         \n",
      "==============================================================================\n",
      "                 coef    std err          t      P>|t|      [0.025      0.975]\n",
      "------------------------------------------------------------------------------\n",
      "const         83.5626     35.482      2.355      0.025      10.994     156.131\n",
      "BPM            0.0664      0.127      0.523      0.605      -0.193       0.326\n",
      "Energy        -0.4529      0.228     -1.985      0.057      -0.920       0.014\n",
      "Dance          0.4172      0.289      1.443      0.160      -0.174       1.009\n",
      "Loudness       1.0859      2.043      0.531      0.599      -3.094       5.265\n",
      "Valence       -0.1836      0.151     -1.215      0.234      -0.493       0.126\n",
      "==============================================================================\n",
      "Omnibus:                       42.282   Durbin-Watson:                   0.930\n",
      "Prob(Omnibus):                  0.000   Jarque-Bera (JB):              169.438\n",
      "Skew:                          -2.661   Prob(JB):                     1.61e-37\n",
      "Kurtosis:                      12.374   Cond. No.                     2.55e+03\n",
      "==============================================================================\n",
      "\n",
      "Warnings:\n",
      "[1] Standard Errors assume that the covariance matrix of the errors is correctly specified.\n",
      "[2] The condition number is large, 2.55e+03. This might indicate that there are\n",
      "strong multicollinearity or other numerical problems.\n"
     ]
    },
    {
     "name": "stderr",
     "output_type": "stream",
     "text": [
      "C:\\Users\\alexa\\Anaconda3\\lib\\site-packages\\numpy\\core\\fromnumeric.py:2389: FutureWarning: Method .ptp is deprecated and will be removed in a future version. Use numpy.ptp instead.\n",
      "  return ptp(axis=axis, out=out, **kwargs)\n"
     ]
    }
   ],
   "source": [
    "X = Dataset_2012[[\"BPM\",\"Energy\", \"Dance\", \"Loudness\", \"Valence\"]]\n",
    "Y = Dataset_2012[\"Popularity\"]\n",
    "\n",
    "\n",
    "regression = linear_model.LinearRegression()\n",
    "regression.fit(X,Y)\n",
    "\n",
    "print(\"Intercept: \\n\" ,regression.intercept_)\n",
    "print(\"Coefficients: \\n\", regression.coef_)\n",
    "\n",
    "#Using the features from the first song of the 2012 dataset to see how accurate popularity predictor is\n",
    "#Predicted popularity should be close to 72 (the actual popularity value of this song) if there's strong linear relationship\n",
    "New_BPM = 127\n",
    "New_Energy = 85\n",
    "New_Dance = 72\n",
    "New_Loudness = -4\n",
    "New_Valence = 45\n",
    "\n",
    "print(\"Predicted Popularity: \\n\", regression.predict([[New_BPM, New_Energy, New_Dance, New_Loudness, New_Valence]]))\n",
    "\n",
    "X = sm.add_constant(X)\n",
    "\n",
    "model = sm.OLS(Y,X).fit()\n",
    "popularity_prediction = model.predict(X)\n",
    "\n",
    "print(model.summary())"
   ]
  },
  {
   "cell_type": "code",
   "execution_count": 49,
   "metadata": {},
   "outputs": [],
   "source": [
    "#Predicted popularity is 71 and actual is 72 \n",
    "#Relatively good predictor for this year"
   ]
  },
  {
   "cell_type": "code",
   "execution_count": 50,
   "metadata": {},
   "outputs": [
    {
     "data": {
      "text/html": [
       "<div>\n",
       "<style scoped>\n",
       "    .dataframe tbody tr th:only-of-type {\n",
       "        vertical-align: middle;\n",
       "    }\n",
       "\n",
       "    .dataframe tbody tr th {\n",
       "        vertical-align: top;\n",
       "    }\n",
       "\n",
       "    .dataframe thead th {\n",
       "        text-align: right;\n",
       "    }\n",
       "</style>\n",
       "<table border=\"1\" class=\"dataframe\">\n",
       "  <thead>\n",
       "    <tr style=\"text-align: right;\">\n",
       "      <th></th>\n",
       "      <th>Index</th>\n",
       "      <th>Title</th>\n",
       "      <th>Artist</th>\n",
       "      <th>Genre</th>\n",
       "      <th>Year</th>\n",
       "      <th>BPM</th>\n",
       "      <th>Energy</th>\n",
       "      <th>Dance</th>\n",
       "      <th>Loudness</th>\n",
       "      <th>Valence</th>\n",
       "      <th>Popularity</th>\n",
       "    </tr>\n",
       "  </thead>\n",
       "  <tbody>\n",
       "    <tr>\n",
       "      <th>0</th>\n",
       "      <td>158</td>\n",
       "      <td>Everybody Talks</td>\n",
       "      <td>Neon Trees</td>\n",
       "      <td>indie pop</td>\n",
       "      <td>2013</td>\n",
       "      <td>155</td>\n",
       "      <td>92</td>\n",
       "      <td>47</td>\n",
       "      <td>-4</td>\n",
       "      <td>73</td>\n",
       "      <td>74</td>\n",
       "    </tr>\n",
       "    <tr>\n",
       "      <th>1</th>\n",
       "      <td>164</td>\n",
       "      <td>Work Bitch</td>\n",
       "      <td>Britney Spears</td>\n",
       "      <td>dance pop</td>\n",
       "      <td>2013</td>\n",
       "      <td>128</td>\n",
       "      <td>82</td>\n",
       "      <td>63</td>\n",
       "      <td>-7</td>\n",
       "      <td>85</td>\n",
       "      <td>71</td>\n",
       "    </tr>\n",
       "    <tr>\n",
       "      <th>2</th>\n",
       "      <td>159</td>\n",
       "      <td>Hold On, We're Going Home</td>\n",
       "      <td>Drake</td>\n",
       "      <td>canadian hip hop</td>\n",
       "      <td>2013</td>\n",
       "      <td>100</td>\n",
       "      <td>41</td>\n",
       "      <td>77</td>\n",
       "      <td>-7</td>\n",
       "      <td>29</td>\n",
       "      <td>73</td>\n",
       "    </tr>\n",
       "    <tr>\n",
       "      <th>3</th>\n",
       "      <td>160</td>\n",
       "      <td>Best Song Ever</td>\n",
       "      <td>One Direction</td>\n",
       "      <td>boy band</td>\n",
       "      <td>2013</td>\n",
       "      <td>118</td>\n",
       "      <td>88</td>\n",
       "      <td>65</td>\n",
       "      <td>-3</td>\n",
       "      <td>49</td>\n",
       "      <td>73</td>\n",
       "    </tr>\n",
       "    <tr>\n",
       "      <th>4</th>\n",
       "      <td>161</td>\n",
       "      <td>Kiss You</td>\n",
       "      <td>One Direction</td>\n",
       "      <td>boy band</td>\n",
       "      <td>2013</td>\n",
       "      <td>90</td>\n",
       "      <td>93</td>\n",
       "      <td>63</td>\n",
       "      <td>-3</td>\n",
       "      <td>91</td>\n",
       "      <td>73</td>\n",
       "    </tr>\n",
       "  </tbody>\n",
       "</table>\n",
       "</div>"
      ],
      "text/plain": [
       "   Index                      Title          Artist             Genre  Year  \\\n",
       "0    158            Everybody Talks      Neon Trees         indie pop  2013   \n",
       "1    164                 Work Bitch  Britney Spears         dance pop  2013   \n",
       "2    159  Hold On, We're Going Home           Drake  canadian hip hop  2013   \n",
       "3    160             Best Song Ever   One Direction          boy band  2013   \n",
       "4    161                   Kiss You   One Direction          boy band  2013   \n",
       "\n",
       "   BPM  Energy  Dance  Loudness  Valence  Popularity  \n",
       "0  155      92     47        -4       73          74  \n",
       "1  128      82     63        -7       85          71  \n",
       "2  100      41     77        -7       29          73  \n",
       "3  118      88     65        -3       49          73  \n",
       "4   90      93     63        -3       91          73  "
      ]
     },
     "execution_count": 50,
     "metadata": {},
     "output_type": "execute_result"
    }
   ],
   "source": [
    "#Year 2013\n",
    "\n",
    "Dataset_2013.head()"
   ]
  },
  {
   "cell_type": "code",
   "execution_count": 51,
   "metadata": {},
   "outputs": [
    {
     "name": "stdout",
     "output_type": "stream",
     "text": [
      "Intercept: \n",
      " 66.28760606975807\n",
      "Coefficients: \n",
      " [ 0.02382258 -0.05000192 -0.07094011  0.08474761  0.06262205]\n",
      "Predicted Popularity: \n",
      " [66.27816298]\n",
      "                            OLS Regression Results                            \n",
      "==============================================================================\n",
      "Dep. Variable:             Popularity   R-squared:                       0.011\n",
      "Model:                            OLS   Adj. R-squared:                 -0.065\n",
      "Method:                 Least Squares   F-statistic:                    0.1479\n",
      "Date:                Thu, 19 Mar 2020   Prob (F-statistic):              0.980\n",
      "Time:                        13:31:41   Log-Likelihood:                -281.21\n",
      "No. Observations:                  71   AIC:                             574.4\n",
      "Df Residuals:                      65   BIC:                             588.0\n",
      "Df Model:                           5                                         \n",
      "Covariance Type:            nonrobust                                         \n",
      "==============================================================================\n",
      "                 coef    std err          t      P>|t|      [0.025      0.975]\n",
      "------------------------------------------------------------------------------\n",
      "const         66.2876     22.104      2.999      0.004      22.142     110.433\n",
      "BPM            0.0238      0.066      0.360      0.720      -0.108       0.156\n",
      "Energy        -0.0500      0.161     -0.310      0.757      -0.372       0.272\n",
      "Dance         -0.0709      0.164     -0.432      0.667      -0.399       0.257\n",
      "Loudness       0.0847      1.382      0.061      0.951      -2.675       2.845\n",
      "Valence        0.0626      0.095      0.661      0.511      -0.127       0.252\n",
      "==============================================================================\n",
      "Omnibus:                        5.027   Durbin-Watson:                   0.201\n",
      "Prob(Omnibus):                  0.081   Jarque-Bera (JB):                5.042\n",
      "Skew:                          -0.637   Prob(JB):                       0.0804\n",
      "Kurtosis:                       2.715   Cond. No.                     2.33e+03\n",
      "==============================================================================\n",
      "\n",
      "Warnings:\n",
      "[1] Standard Errors assume that the covariance matrix of the errors is correctly specified.\n",
      "[2] The condition number is large, 2.33e+03. This might indicate that there are\n",
      "strong multicollinearity or other numerical problems.\n"
     ]
    },
    {
     "name": "stderr",
     "output_type": "stream",
     "text": [
      "C:\\Users\\alexa\\Anaconda3\\lib\\site-packages\\numpy\\core\\fromnumeric.py:2389: FutureWarning: Method .ptp is deprecated and will be removed in a future version. Use numpy.ptp instead.\n",
      "  return ptp(axis=axis, out=out, **kwargs)\n"
     ]
    }
   ],
   "source": [
    "X = Dataset_2013[[\"BPM\",\"Energy\", \"Dance\", \"Loudness\", \"Valence\"]]\n",
    "Y = Dataset_2013[\"Popularity\"]\n",
    "\n",
    "\n",
    "regression = linear_model.LinearRegression()\n",
    "regression.fit(X,Y)\n",
    "\n",
    "print(\"Intercept: \\n\" ,regression.intercept_)\n",
    "print(\"Coefficients: \\n\", regression.coef_)\n",
    "\n",
    "#Using the features from the first song of the 2013 dataset to see how accurate popularity predictor is\n",
    "#Predicted popularity should be close to 74 (the actual popularity value of this song) if there's strong linear relationship\n",
    "New_BPM = 155\n",
    "New_Energy = 92\n",
    "New_Dance = 47\n",
    "New_Loudness = -4\n",
    "New_Valence = 73\n",
    "\n",
    "print(\"Predicted Popularity: \\n\", regression.predict([[New_BPM, New_Energy, New_Dance, New_Loudness, New_Valence]]))\n",
    "\n",
    "X = sm.add_constant(X)\n",
    "\n",
    "model = sm.OLS(Y,X).fit()\n",
    "popularity_prediction = model.predict(X)\n",
    "\n",
    "print(model.summary())"
   ]
  },
  {
   "cell_type": "code",
   "execution_count": 52,
   "metadata": {},
   "outputs": [],
   "source": [
    "#Predicted popularity is 66 when should have been 74\n",
    "#Relatively poor predictor for what value should have been"
   ]
  },
  {
   "cell_type": "code",
   "execution_count": 53,
   "metadata": {},
   "outputs": [
    {
     "data": {
      "text/html": [
       "<div>\n",
       "<style scoped>\n",
       "    .dataframe tbody tr th:only-of-type {\n",
       "        vertical-align: middle;\n",
       "    }\n",
       "\n",
       "    .dataframe tbody tr th {\n",
       "        vertical-align: top;\n",
       "    }\n",
       "\n",
       "    .dataframe thead th {\n",
       "        text-align: right;\n",
       "    }\n",
       "</style>\n",
       "<table border=\"1\" class=\"dataframe\">\n",
       "  <thead>\n",
       "    <tr style=\"text-align: right;\">\n",
       "      <th></th>\n",
       "      <th>Index</th>\n",
       "      <th>Title</th>\n",
       "      <th>Artist</th>\n",
       "      <th>Genre</th>\n",
       "      <th>Year</th>\n",
       "      <th>BPM</th>\n",
       "      <th>Energy</th>\n",
       "      <th>Dance</th>\n",
       "      <th>Loudness</th>\n",
       "      <th>Valence</th>\n",
       "      <th>Popularity</th>\n",
       "    </tr>\n",
       "  </thead>\n",
       "  <tbody>\n",
       "    <tr>\n",
       "      <th>0</th>\n",
       "      <td>230</td>\n",
       "      <td>She Looks So Perfect</td>\n",
       "      <td>5 Seconds of Summer</td>\n",
       "      <td>boy band</td>\n",
       "      <td>2014</td>\n",
       "      <td>160</td>\n",
       "      <td>95</td>\n",
       "      <td>49</td>\n",
       "      <td>-4</td>\n",
       "      <td>44</td>\n",
       "      <td>71</td>\n",
       "    </tr>\n",
       "    <tr>\n",
       "      <th>1</th>\n",
       "      <td>225</td>\n",
       "      <td>Love Me Again</td>\n",
       "      <td>John Newman</td>\n",
       "      <td>pop</td>\n",
       "      <td>2014</td>\n",
       "      <td>126</td>\n",
       "      <td>89</td>\n",
       "      <td>50</td>\n",
       "      <td>-5</td>\n",
       "      <td>21</td>\n",
       "      <td>73</td>\n",
       "    </tr>\n",
       "    <tr>\n",
       "      <th>2</th>\n",
       "      <td>226</td>\n",
       "      <td>Latch</td>\n",
       "      <td>Disclosure</td>\n",
       "      <td>house</td>\n",
       "      <td>2014</td>\n",
       "      <td>122</td>\n",
       "      <td>73</td>\n",
       "      <td>50</td>\n",
       "      <td>-5</td>\n",
       "      <td>52</td>\n",
       "      <td>72</td>\n",
       "    </tr>\n",
       "    <tr>\n",
       "      <th>3</th>\n",
       "      <td>227</td>\n",
       "      <td>Adore You</td>\n",
       "      <td>Miley Cyrus</td>\n",
       "      <td>dance pop</td>\n",
       "      <td>2014</td>\n",
       "      <td>120</td>\n",
       "      <td>66</td>\n",
       "      <td>58</td>\n",
       "      <td>-5</td>\n",
       "      <td>20</td>\n",
       "      <td>72</td>\n",
       "    </tr>\n",
       "    <tr>\n",
       "      <th>4</th>\n",
       "      <td>228</td>\n",
       "      <td>Love Never Felt So Good</td>\n",
       "      <td>Michael Jackson</td>\n",
       "      <td>pop</td>\n",
       "      <td>2014</td>\n",
       "      <td>118</td>\n",
       "      <td>72</td>\n",
       "      <td>78</td>\n",
       "      <td>-6</td>\n",
       "      <td>71</td>\n",
       "      <td>71</td>\n",
       "    </tr>\n",
       "  </tbody>\n",
       "</table>\n",
       "</div>"
      ],
      "text/plain": [
       "   Index                    Title               Artist      Genre  Year  BPM  \\\n",
       "0    230     She Looks So Perfect  5 Seconds of Summer   boy band  2014  160   \n",
       "1    225            Love Me Again          John Newman        pop  2014  126   \n",
       "2    226                    Latch           Disclosure      house  2014  122   \n",
       "3    227                Adore You          Miley Cyrus  dance pop  2014  120   \n",
       "4    228  Love Never Felt So Good      Michael Jackson        pop  2014  118   \n",
       "\n",
       "   Energy  Dance  Loudness  Valence  Popularity  \n",
       "0      95     49        -4       44          71  \n",
       "1      89     50        -5       21          73  \n",
       "2      73     50        -5       52          72  \n",
       "3      66     58        -5       20          72  \n",
       "4      72     78        -6       71          71  "
      ]
     },
     "execution_count": 53,
     "metadata": {},
     "output_type": "execute_result"
    }
   ],
   "source": [
    "#Year 2014\n",
    "\n",
    "Dataset_2014.head()"
   ]
  },
  {
   "cell_type": "code",
   "execution_count": 54,
   "metadata": {},
   "outputs": [
    {
     "name": "stdout",
     "output_type": "stream",
     "text": [
      "Intercept: \n",
      " 87.51192043527968\n",
      "Coefficients: \n",
      " [ 0.08395913 -0.22530767 -0.14470518  2.92697087  0.11698428]\n",
      "Predicted Popularity: \n",
      " [65.89002472]\n",
      "                            OLS Regression Results                            \n",
      "==============================================================================\n",
      "Dep. Variable:             Popularity   R-squared:                       0.091\n",
      "Model:                            OLS   Adj. R-squared:                  0.004\n",
      "Method:                 Least Squares   F-statistic:                     1.040\n",
      "Date:                Thu, 19 Mar 2020   Prob (F-statistic):              0.404\n",
      "Time:                        13:31:42   Log-Likelihood:                -238.17\n",
      "No. Observations:                  58   AIC:                             488.3\n",
      "Df Residuals:                      52   BIC:                             500.7\n",
      "Df Model:                           5                                         \n",
      "Covariance Type:            nonrobust                                         \n",
      "==============================================================================\n",
      "                 coef    std err          t      P>|t|      [0.025      0.975]\n",
      "------------------------------------------------------------------------------\n",
      "const         87.5119     23.502      3.724      0.000      40.352     134.672\n",
      "BPM            0.0840      0.086      0.975      0.334      -0.089       0.257\n",
      "Energy        -0.2253      0.191     -1.182      0.243      -0.608       0.157\n",
      "Dance         -0.1447      0.202     -0.718      0.476      -0.549       0.260\n",
      "Loudness       2.9270      1.801      1.626      0.110      -0.686       6.540\n",
      "Valence        0.1170      0.120      0.978      0.332      -0.123       0.357\n",
      "==============================================================================\n",
      "Omnibus:                       22.199   Durbin-Watson:                   0.653\n",
      "Prob(Omnibus):                  0.000   Jarque-Bera (JB):               33.610\n",
      "Skew:                          -1.363   Prob(JB):                     5.03e-08\n",
      "Kurtosis:                       5.545   Cond. No.                     1.90e+03\n",
      "==============================================================================\n",
      "\n",
      "Warnings:\n",
      "[1] Standard Errors assume that the covariance matrix of the errors is correctly specified.\n",
      "[2] The condition number is large, 1.9e+03. This might indicate that there are\n",
      "strong multicollinearity or other numerical problems.\n"
     ]
    },
    {
     "name": "stderr",
     "output_type": "stream",
     "text": [
      "C:\\Users\\alexa\\Anaconda3\\lib\\site-packages\\numpy\\core\\fromnumeric.py:2389: FutureWarning: Method .ptp is deprecated and will be removed in a future version. Use numpy.ptp instead.\n",
      "  return ptp(axis=axis, out=out, **kwargs)\n"
     ]
    }
   ],
   "source": [
    "X = Dataset_2014[[\"BPM\",\"Energy\", \"Dance\", \"Loudness\", \"Valence\"]]\n",
    "Y = Dataset_2014[\"Popularity\"]\n",
    "\n",
    "\n",
    "regression = linear_model.LinearRegression()\n",
    "regression.fit(X,Y)\n",
    "\n",
    "print(\"Intercept: \\n\" ,regression.intercept_)\n",
    "print(\"Coefficients: \\n\", regression.coef_)\n",
    "\n",
    "#Using the features from the first song of the 2014 dataset to see how accurate popularity predictor is\n",
    "#Predicted popularity should be close to 71 (the actual popularity value of this song) if there's strong linear relationship\n",
    "New_BPM = 160\n",
    "New_Energy = 95\n",
    "New_Dance = 49\n",
    "New_Loudness = -4\n",
    "New_Valence = 44\n",
    "\n",
    "print(\"Predicted Popularity: \\n\", regression.predict([[New_BPM, New_Energy, New_Dance, New_Loudness, New_Valence]]))\n",
    "\n",
    "X = sm.add_constant(X)\n",
    "\n",
    "model = sm.OLS(Y,X).fit()\n",
    "popularity_prediction = model.predict(X)\n",
    "\n",
    "print(model.summary())"
   ]
  },
  {
   "cell_type": "code",
   "execution_count": 55,
   "metadata": {},
   "outputs": [],
   "source": [
    "#Predicted popularity is 65 when it should be 71\n",
    "#Not the best predictor"
   ]
  },
  {
   "cell_type": "code",
   "execution_count": 56,
   "metadata": {},
   "outputs": [
    {
     "data": {
      "text/html": [
       "<div>\n",
       "<style scoped>\n",
       "    .dataframe tbody tr th:only-of-type {\n",
       "        vertical-align: middle;\n",
       "    }\n",
       "\n",
       "    .dataframe tbody tr th {\n",
       "        vertical-align: top;\n",
       "    }\n",
       "\n",
       "    .dataframe thead th {\n",
       "        text-align: right;\n",
       "    }\n",
       "</style>\n",
       "<table border=\"1\" class=\"dataframe\">\n",
       "  <thead>\n",
       "    <tr style=\"text-align: right;\">\n",
       "      <th></th>\n",
       "      <th>Index</th>\n",
       "      <th>Title</th>\n",
       "      <th>Artist</th>\n",
       "      <th>Genre</th>\n",
       "      <th>Year</th>\n",
       "      <th>BPM</th>\n",
       "      <th>Energy</th>\n",
       "      <th>Dance</th>\n",
       "      <th>Loudness</th>\n",
       "      <th>Valence</th>\n",
       "      <th>Popularity</th>\n",
       "    </tr>\n",
       "  </thead>\n",
       "  <tbody>\n",
       "    <tr>\n",
       "      <th>0</th>\n",
       "      <td>321</td>\n",
       "      <td>I Really Like You</td>\n",
       "      <td>Carly Rae Jepsen</td>\n",
       "      <td>canadian pop</td>\n",
       "      <td>2015</td>\n",
       "      <td>122</td>\n",
       "      <td>81</td>\n",
       "      <td>62</td>\n",
       "      <td>-5</td>\n",
       "      <td>60</td>\n",
       "      <td>66</td>\n",
       "    </tr>\n",
       "    <tr>\n",
       "      <th>1</th>\n",
       "      <td>322</td>\n",
       "      <td>BO$$</td>\n",
       "      <td>Fifth Harmony</td>\n",
       "      <td>dance pop</td>\n",
       "      <td>2015</td>\n",
       "      <td>103</td>\n",
       "      <td>87</td>\n",
       "      <td>81</td>\n",
       "      <td>-5</td>\n",
       "      <td>74</td>\n",
       "      <td>66</td>\n",
       "    </tr>\n",
       "    <tr>\n",
       "      <th>2</th>\n",
       "      <td>323</td>\n",
       "      <td>Sugar</td>\n",
       "      <td>Maroon 5</td>\n",
       "      <td>pop</td>\n",
       "      <td>2015</td>\n",
       "      <td>120</td>\n",
       "      <td>79</td>\n",
       "      <td>75</td>\n",
       "      <td>-7</td>\n",
       "      <td>88</td>\n",
       "      <td>66</td>\n",
       "    </tr>\n",
       "    <tr>\n",
       "      <th>3</th>\n",
       "      <td>324</td>\n",
       "      <td>Focus</td>\n",
       "      <td>Ariana Grande</td>\n",
       "      <td>dance pop</td>\n",
       "      <td>2015</td>\n",
       "      <td>100</td>\n",
       "      <td>88</td>\n",
       "      <td>67</td>\n",
       "      <td>-6</td>\n",
       "      <td>79</td>\n",
       "      <td>66</td>\n",
       "    </tr>\n",
       "    <tr>\n",
       "      <th>4</th>\n",
       "      <td>325</td>\n",
       "      <td>All About That Bass</td>\n",
       "      <td>Meghan Trainor</td>\n",
       "      <td>dance pop</td>\n",
       "      <td>2015</td>\n",
       "      <td>134</td>\n",
       "      <td>88</td>\n",
       "      <td>81</td>\n",
       "      <td>-4</td>\n",
       "      <td>96</td>\n",
       "      <td>65</td>\n",
       "    </tr>\n",
       "  </tbody>\n",
       "</table>\n",
       "</div>"
      ],
      "text/plain": [
       "   Index                Title            Artist         Genre  Year  BPM  \\\n",
       "0    321    I Really Like You  Carly Rae Jepsen  canadian pop  2015  122   \n",
       "1    322                 BO$$     Fifth Harmony     dance pop  2015  103   \n",
       "2    323                Sugar          Maroon 5           pop  2015  120   \n",
       "3    324                Focus     Ariana Grande     dance pop  2015  100   \n",
       "4    325  All About That Bass    Meghan Trainor     dance pop  2015  134   \n",
       "\n",
       "   Energy  Dance  Loudness  Valence  Popularity  \n",
       "0      81     62        -5       60          66  \n",
       "1      87     81        -5       74          66  \n",
       "2      79     75        -7       88          66  \n",
       "3      88     67        -6       79          66  \n",
       "4      88     81        -4       96          65  "
      ]
     },
     "execution_count": 56,
     "metadata": {},
     "output_type": "execute_result"
    }
   ],
   "source": [
    "#Year 2015\n",
    "\n",
    "Dataset_2015.head()"
   ]
  },
  {
   "cell_type": "code",
   "execution_count": 57,
   "metadata": {},
   "outputs": [
    {
     "name": "stdout",
     "output_type": "stream",
     "text": [
      "Intercept: \n",
      " 68.43398160100823\n",
      "Coefficients: \n",
      " [-0.02942686 -0.04576655 -0.02571096 -0.20286017  0.06424352]\n",
      "Predicted Popularity: \n",
      " [64.41164703]\n",
      "                            OLS Regression Results                            \n",
      "==============================================================================\n",
      "Dep. Variable:             Popularity   R-squared:                       0.013\n",
      "Model:                            OLS   Adj. R-squared:                 -0.043\n",
      "Method:                 Least Squares   F-statistic:                    0.2287\n",
      "Date:                Thu, 19 Mar 2020   Prob (F-statistic):              0.949\n",
      "Time:                        13:31:43   Log-Likelihood:                -386.76\n",
      "No. Observations:                  95   AIC:                             785.5\n",
      "Df Residuals:                      89   BIC:                             800.8\n",
      "Df Model:                           5                                         \n",
      "Covariance Type:            nonrobust                                         \n",
      "==============================================================================\n",
      "                 coef    std err          t      P>|t|      [0.025      0.975]\n",
      "------------------------------------------------------------------------------\n",
      "const         68.4340     18.054      3.790      0.000      32.560     104.307\n",
      "BPM           -0.0294      0.059     -0.501      0.618      -0.146       0.087\n",
      "Energy        -0.0458      0.130     -0.351      0.726      -0.305       0.213\n",
      "Dance         -0.0257      0.141     -0.183      0.855      -0.305       0.253\n",
      "Loudness      -0.2029      1.213     -0.167      0.868      -2.612       2.207\n",
      "Valence        0.0642      0.087      0.739      0.462      -0.108       0.237\n",
      "==============================================================================\n",
      "Omnibus:                       38.774   Durbin-Watson:                   0.351\n",
      "Prob(Omnibus):                  0.000   Jarque-Bera (JB):               88.209\n",
      "Skew:                          -1.529   Prob(JB):                     7.01e-20\n",
      "Kurtosis:                       6.597   Cond. No.                     1.96e+03\n",
      "==============================================================================\n",
      "\n",
      "Warnings:\n",
      "[1] Standard Errors assume that the covariance matrix of the errors is correctly specified.\n",
      "[2] The condition number is large, 1.96e+03. This might indicate that there are\n",
      "strong multicollinearity or other numerical problems.\n"
     ]
    },
    {
     "name": "stderr",
     "output_type": "stream",
     "text": [
      "C:\\Users\\alexa\\Anaconda3\\lib\\site-packages\\numpy\\core\\fromnumeric.py:2389: FutureWarning: Method .ptp is deprecated and will be removed in a future version. Use numpy.ptp instead.\n",
      "  return ptp(axis=axis, out=out, **kwargs)\n"
     ]
    }
   ],
   "source": [
    "\n",
    "X = Dataset_2015[[\"BPM\",\"Energy\", \"Dance\", \"Loudness\", \"Valence\"]]\n",
    "Y = Dataset_2015[\"Popularity\"]\n",
    "\n",
    "\n",
    "regression = linear_model.LinearRegression()\n",
    "regression.fit(X,Y)\n",
    "\n",
    "print(\"Intercept: \\n\" ,regression.intercept_)\n",
    "print(\"Coefficients: \\n\", regression.coef_)\n",
    "\n",
    "#Using the features from the first song of the 2015 dataset to see how accurate popularity predictor is\n",
    "#Predicted popularity should be close to 66 (the actual popularity value of this song) if there's strong linear relationship\n",
    "New_BPM = 122\n",
    "New_Energy = 81\n",
    "New_Dance = 62\n",
    "New_Loudness = -5\n",
    "New_Valence = 60\n",
    "\n",
    "print(\"Predicted Popularity: \\n\", regression.predict([[New_BPM, New_Energy, New_Dance, New_Loudness, New_Valence]]))\n",
    "\n",
    "X = sm.add_constant(X)\n",
    "\n",
    "model = sm.OLS(Y,X).fit()\n",
    "popularity_prediction = model.predict(X)\n",
    "\n",
    "print(model.summary())"
   ]
  },
  {
   "cell_type": "code",
   "execution_count": 58,
   "metadata": {},
   "outputs": [],
   "source": [
    "#Predicted popularity is 64 and actual is 66, not bad predictor for this year"
   ]
  },
  {
   "cell_type": "code",
   "execution_count": 59,
   "metadata": {},
   "outputs": [
    {
     "data": {
      "text/html": [
       "<div>\n",
       "<style scoped>\n",
       "    .dataframe tbody tr th:only-of-type {\n",
       "        vertical-align: middle;\n",
       "    }\n",
       "\n",
       "    .dataframe tbody tr th {\n",
       "        vertical-align: top;\n",
       "    }\n",
       "\n",
       "    .dataframe thead th {\n",
       "        text-align: right;\n",
       "    }\n",
       "</style>\n",
       "<table border=\"1\" class=\"dataframe\">\n",
       "  <thead>\n",
       "    <tr style=\"text-align: right;\">\n",
       "      <th></th>\n",
       "      <th>Index</th>\n",
       "      <th>Title</th>\n",
       "      <th>Artist</th>\n",
       "      <th>Genre</th>\n",
       "      <th>Year</th>\n",
       "      <th>BPM</th>\n",
       "      <th>Energy</th>\n",
       "      <th>Dance</th>\n",
       "      <th>Loudness</th>\n",
       "      <th>Valence</th>\n",
       "      <th>Popularity</th>\n",
       "    </tr>\n",
       "  </thead>\n",
       "  <tbody>\n",
       "    <tr>\n",
       "      <th>0</th>\n",
       "      <td>386</td>\n",
       "      <td>Confident</td>\n",
       "      <td>Demi Lovato</td>\n",
       "      <td>dance pop</td>\n",
       "      <td>2016</td>\n",
       "      <td>130</td>\n",
       "      <td>75</td>\n",
       "      <td>59</td>\n",
       "      <td>-6</td>\n",
       "      <td>34</td>\n",
       "      <td>75</td>\n",
       "    </tr>\n",
       "    <tr>\n",
       "      <th>1</th>\n",
       "      <td>393</td>\n",
       "      <td>Close</td>\n",
       "      <td>Nick Jonas</td>\n",
       "      <td>dance pop</td>\n",
       "      <td>2016</td>\n",
       "      <td>124</td>\n",
       "      <td>62</td>\n",
       "      <td>65</td>\n",
       "      <td>-5</td>\n",
       "      <td>40</td>\n",
       "      <td>72</td>\n",
       "    </tr>\n",
       "    <tr>\n",
       "      <th>2</th>\n",
       "      <td>385</td>\n",
       "      <td>Electric Love</td>\n",
       "      <td>BØRNS</td>\n",
       "      <td>electropop</td>\n",
       "      <td>2016</td>\n",
       "      <td>120</td>\n",
       "      <td>80</td>\n",
       "      <td>61</td>\n",
       "      <td>-8</td>\n",
       "      <td>52</td>\n",
       "      <td>76</td>\n",
       "    </tr>\n",
       "    <tr>\n",
       "      <th>3</th>\n",
       "      <td>387</td>\n",
       "      <td>Too Good</td>\n",
       "      <td>Drake</td>\n",
       "      <td>canadian hip hop</td>\n",
       "      <td>2016</td>\n",
       "      <td>118</td>\n",
       "      <td>65</td>\n",
       "      <td>79</td>\n",
       "      <td>-8</td>\n",
       "      <td>39</td>\n",
       "      <td>74</td>\n",
       "    </tr>\n",
       "    <tr>\n",
       "      <th>4</th>\n",
       "      <td>388</td>\n",
       "      <td>Roses</td>\n",
       "      <td>The Chainsmokers</td>\n",
       "      <td>electropop</td>\n",
       "      <td>2016</td>\n",
       "      <td>100</td>\n",
       "      <td>80</td>\n",
       "      <td>71</td>\n",
       "      <td>-7</td>\n",
       "      <td>34</td>\n",
       "      <td>74</td>\n",
       "    </tr>\n",
       "  </tbody>\n",
       "</table>\n",
       "</div>"
      ],
      "text/plain": [
       "   Index          Title            Artist             Genre  Year  BPM  \\\n",
       "0    386      Confident       Demi Lovato         dance pop  2016  130   \n",
       "1    393          Close        Nick Jonas         dance pop  2016  124   \n",
       "2    385  Electric Love             BØRNS        electropop  2016  120   \n",
       "3    387       Too Good             Drake  canadian hip hop  2016  118   \n",
       "4    388          Roses  The Chainsmokers        electropop  2016  100   \n",
       "\n",
       "   Energy  Dance  Loudness  Valence  Popularity  \n",
       "0      75     59        -6       34          75  \n",
       "1      62     65        -5       40          72  \n",
       "2      80     61        -8       52          76  \n",
       "3      65     79        -8       39          74  \n",
       "4      80     71        -7       34          74  "
      ]
     },
     "execution_count": 59,
     "metadata": {},
     "output_type": "execute_result"
    }
   ],
   "source": [
    "#Year 2016\n",
    "\n",
    "Dataset_2016.head()"
   ]
  },
  {
   "cell_type": "code",
   "execution_count": 60,
   "metadata": {},
   "outputs": [
    {
     "name": "stdout",
     "output_type": "stream",
     "text": [
      "Intercept: \n",
      " 78.05272532332924\n",
      "Coefficients: \n",
      " [-0.01780832 -0.0583745   0.07444689  1.30649132 -0.08579978]\n",
      "Predicted Popularity: \n",
      " [64.99578232]\n",
      "                            OLS Regression Results                            \n",
      "==============================================================================\n",
      "Dep. Variable:             Popularity   R-squared:                       0.222\n",
      "Model:                            OLS   Adj. R-squared:                  0.170\n",
      "Method:                 Least Squares   F-statistic:                     4.231\n",
      "Date:                Thu, 19 Mar 2020   Prob (F-statistic):            0.00194\n",
      "Time:                        13:31:43   Log-Likelihood:                -325.94\n",
      "No. Observations:                  80   AIC:                             663.9\n",
      "Df Residuals:                      74   BIC:                             678.2\n",
      "Df Model:                           5                                         \n",
      "Covariance Type:            nonrobust                                         \n",
      "==============================================================================\n",
      "                 coef    std err          t      P>|t|      [0.025      0.975]\n",
      "------------------------------------------------------------------------------\n",
      "const         78.0527     19.752      3.952      0.000      38.697     117.409\n",
      "BPM           -0.0178      0.086     -0.207      0.836      -0.189       0.153\n",
      "Energy        -0.0584      0.119     -0.490      0.625      -0.296       0.179\n",
      "Dance          0.0744      0.169      0.440      0.661      -0.263       0.412\n",
      "Loudness       1.3065      0.438      2.985      0.004       0.435       2.178\n",
      "Valence       -0.0858      0.106     -0.809      0.421      -0.297       0.125\n",
      "==============================================================================\n",
      "Omnibus:                       10.753   Durbin-Watson:                   0.321\n",
      "Prob(Omnibus):                  0.005   Jarque-Bera (JB):               11.375\n",
      "Skew:                          -0.917   Prob(JB):                      0.00339\n",
      "Kurtosis:                       3.223   Cond. No.                     1.87e+03\n",
      "==============================================================================\n",
      "\n",
      "Warnings:\n",
      "[1] Standard Errors assume that the covariance matrix of the errors is correctly specified.\n",
      "[2] The condition number is large, 1.87e+03. This might indicate that there are\n",
      "strong multicollinearity or other numerical problems.\n"
     ]
    },
    {
     "name": "stderr",
     "output_type": "stream",
     "text": [
      "C:\\Users\\alexa\\Anaconda3\\lib\\site-packages\\numpy\\core\\fromnumeric.py:2389: FutureWarning: Method .ptp is deprecated and will be removed in a future version. Use numpy.ptp instead.\n",
      "  return ptp(axis=axis, out=out, **kwargs)\n"
     ]
    }
   ],
   "source": [
    "X = Dataset_2016[[\"BPM\",\"Energy\", \"Dance\", \"Loudness\", \"Valence\"]]\n",
    "Y = Dataset_2016[\"Popularity\"]\n",
    "\n",
    "\n",
    "regression = linear_model.LinearRegression()\n",
    "regression.fit(X,Y)\n",
    "\n",
    "print(\"Intercept: \\n\" ,regression.intercept_)\n",
    "print(\"Coefficients: \\n\", regression.coef_)\n",
    "\n",
    "#Using the features from the first song of the 2016 dataset to see how accurate popularity predictor is\n",
    "#Predicted popularity should be close to 75 (the actual popularity value of this song) if there's strong linear relationship\n",
    "New_BPM = 130\n",
    "New_Energy = 75\n",
    "New_Dance = 59\n",
    "New_Loudness = -6\n",
    "New_Valence = 34\n",
    "\n",
    "print(\"Predicted Popularity: \\n\", regression.predict([[New_BPM, New_Energy, New_Dance, New_Loudness, New_Valence]]))\n",
    "\n",
    "X = sm.add_constant(X)\n",
    "\n",
    "model = sm.OLS(Y,X).fit()\n",
    "popularity_prediction = model.predict(X)\n",
    "\n",
    "print(model.summary())"
   ]
  },
  {
   "cell_type": "code",
   "execution_count": 61,
   "metadata": {},
   "outputs": [],
   "source": [
    "#Predicted popularity is 65 when it should be 75\n",
    "#Features in this year were not the best predictors for popularity of songs"
   ]
  },
  {
   "cell_type": "code",
   "execution_count": 62,
   "metadata": {},
   "outputs": [
    {
     "data": {
      "text/html": [
       "<div>\n",
       "<style scoped>\n",
       "    .dataframe tbody tr th:only-of-type {\n",
       "        vertical-align: middle;\n",
       "    }\n",
       "\n",
       "    .dataframe tbody tr th {\n",
       "        vertical-align: top;\n",
       "    }\n",
       "\n",
       "    .dataframe thead th {\n",
       "        text-align: right;\n",
       "    }\n",
       "</style>\n",
       "<table border=\"1\" class=\"dataframe\">\n",
       "  <thead>\n",
       "    <tr style=\"text-align: right;\">\n",
       "      <th></th>\n",
       "      <th>Index</th>\n",
       "      <th>Title</th>\n",
       "      <th>Artist</th>\n",
       "      <th>Genre</th>\n",
       "      <th>Year</th>\n",
       "      <th>BPM</th>\n",
       "      <th>Energy</th>\n",
       "      <th>Dance</th>\n",
       "      <th>Loudness</th>\n",
       "      <th>Valence</th>\n",
       "      <th>Popularity</th>\n",
       "    </tr>\n",
       "  </thead>\n",
       "  <tbody>\n",
       "    <tr>\n",
       "      <th>0</th>\n",
       "      <td>468</td>\n",
       "      <td>Slide (feat. Frank Ocean &amp; Migos)</td>\n",
       "      <td>Calvin Harris</td>\n",
       "      <td>dance pop</td>\n",
       "      <td>2017</td>\n",
       "      <td>104</td>\n",
       "      <td>80</td>\n",
       "      <td>74</td>\n",
       "      <td>-3</td>\n",
       "      <td>51</td>\n",
       "      <td>75</td>\n",
       "    </tr>\n",
       "    <tr>\n",
       "      <th>1</th>\n",
       "      <td>462</td>\n",
       "      <td>Despacito - Remix</td>\n",
       "      <td>Luis Fonsi</td>\n",
       "      <td>latin</td>\n",
       "      <td>2017</td>\n",
       "      <td>178</td>\n",
       "      <td>82</td>\n",
       "      <td>65</td>\n",
       "      <td>-4</td>\n",
       "      <td>82</td>\n",
       "      <td>76</td>\n",
       "    </tr>\n",
       "    <tr>\n",
       "      <th>2</th>\n",
       "      <td>463</td>\n",
       "      <td>The Greatest</td>\n",
       "      <td>Sia</td>\n",
       "      <td>australian dance</td>\n",
       "      <td>2017</td>\n",
       "      <td>192</td>\n",
       "      <td>73</td>\n",
       "      <td>67</td>\n",
       "      <td>-6</td>\n",
       "      <td>73</td>\n",
       "      <td>76</td>\n",
       "    </tr>\n",
       "    <tr>\n",
       "      <th>3</th>\n",
       "      <td>464</td>\n",
       "      <td>There for You</td>\n",
       "      <td>Martin Garrix</td>\n",
       "      <td>big room</td>\n",
       "      <td>2017</td>\n",
       "      <td>106</td>\n",
       "      <td>64</td>\n",
       "      <td>61</td>\n",
       "      <td>-8</td>\n",
       "      <td>13</td>\n",
       "      <td>76</td>\n",
       "    </tr>\n",
       "    <tr>\n",
       "      <th>4</th>\n",
       "      <td>465</td>\n",
       "      <td>Paris</td>\n",
       "      <td>The Chainsmokers</td>\n",
       "      <td>electropop</td>\n",
       "      <td>2017</td>\n",
       "      <td>100</td>\n",
       "      <td>64</td>\n",
       "      <td>65</td>\n",
       "      <td>-7</td>\n",
       "      <td>25</td>\n",
       "      <td>76</td>\n",
       "    </tr>\n",
       "  </tbody>\n",
       "</table>\n",
       "</div>"
      ],
      "text/plain": [
       "   Index                              Title            Artist  \\\n",
       "0    468  Slide (feat. Frank Ocean & Migos)     Calvin Harris   \n",
       "1    462                  Despacito - Remix        Luis Fonsi   \n",
       "2    463                       The Greatest               Sia   \n",
       "3    464                      There for You     Martin Garrix   \n",
       "4    465                              Paris  The Chainsmokers   \n",
       "\n",
       "              Genre  Year  BPM  Energy  Dance  Loudness  Valence  Popularity  \n",
       "0         dance pop  2017  104      80     74        -3       51          75  \n",
       "1             latin  2017  178      82     65        -4       82          76  \n",
       "2  australian dance  2017  192      73     67        -6       73          76  \n",
       "3          big room  2017  106      64     61        -8       13          76  \n",
       "4        electropop  2017  100      64     65        -7       25          76  "
      ]
     },
     "execution_count": 62,
     "metadata": {},
     "output_type": "execute_result"
    }
   ],
   "source": [
    "#Year 2017\n",
    "\n",
    "Dataset_2017.head()"
   ]
  },
  {
   "cell_type": "code",
   "execution_count": 63,
   "metadata": {},
   "outputs": [
    {
     "name": "stdout",
     "output_type": "stream",
     "text": [
      "Intercept: \n",
      " 76.17779403033025\n",
      "Coefficients: \n",
      " [ 3.38167509e-02 -1.93245644e-01  1.42245550e-01  1.24964006e+00\n",
      " -5.13152776e-04]\n",
      "Predicted Popularity: \n",
      " [70.98616439]\n",
      "                            OLS Regression Results                            \n",
      "==============================================================================\n",
      "Dep. Variable:             Popularity   R-squared:                       0.084\n",
      "Model:                            OLS   Adj. R-squared:                  0.007\n",
      "Method:                 Least Squares   F-statistic:                     1.088\n",
      "Date:                Thu, 19 Mar 2020   Prob (F-statistic):              0.377\n",
      "Time:                        13:31:48   Log-Likelihood:                -244.62\n",
      "No. Observations:                  65   AIC:                             501.2\n",
      "Df Residuals:                      59   BIC:                             514.3\n",
      "Df Model:                           5                                         \n",
      "Covariance Type:            nonrobust                                         \n",
      "==============================================================================\n",
      "                 coef    std err          t      P>|t|      [0.025      0.975]\n",
      "------------------------------------------------------------------------------\n",
      "const         76.1778     14.707      5.180      0.000      46.749     105.607\n",
      "BPM            0.0338      0.051      0.662      0.510      -0.068       0.136\n",
      "Energy        -0.1932      0.110     -1.752      0.085      -0.414       0.027\n",
      "Dance          0.1422      0.107      1.331      0.188      -0.072       0.356\n",
      "Loudness       1.2496      0.995      1.256      0.214      -0.742       3.241\n",
      "Valence       -0.0005      0.076     -0.007      0.995      -0.154       0.153\n",
      "==============================================================================\n",
      "Omnibus:                        4.353   Durbin-Watson:                   0.424\n",
      "Prob(Omnibus):                  0.113   Jarque-Bera (JB):                4.300\n",
      "Skew:                          -0.599   Prob(JB):                        0.116\n",
      "Kurtosis:                       2.611   Cond. No.                     1.75e+03\n",
      "==============================================================================\n",
      "\n",
      "Warnings:\n",
      "[1] Standard Errors assume that the covariance matrix of the errors is correctly specified.\n",
      "[2] The condition number is large, 1.75e+03. This might indicate that there are\n",
      "strong multicollinearity or other numerical problems.\n"
     ]
    },
    {
     "name": "stderr",
     "output_type": "stream",
     "text": [
      "C:\\Users\\alexa\\Anaconda3\\lib\\site-packages\\numpy\\core\\fromnumeric.py:2389: FutureWarning: Method .ptp is deprecated and will be removed in a future version. Use numpy.ptp instead.\n",
      "  return ptp(axis=axis, out=out, **kwargs)\n"
     ]
    }
   ],
   "source": [
    "X = Dataset_2017[[\"BPM\",\"Energy\", \"Dance\", \"Loudness\", \"Valence\"]]\n",
    "Y = Dataset_2017[\"Popularity\"]\n",
    "\n",
    "\n",
    "regression = linear_model.LinearRegression()\n",
    "regression.fit(X,Y)\n",
    "\n",
    "print(\"Intercept: \\n\" ,regression.intercept_)\n",
    "print(\"Coefficients: \\n\", regression.coef_)\n",
    "\n",
    "#Using the features from the first song of the 2017 dataset to see how accurate popularity predictor is\n",
    "#Predicted popularity should be close to 75 (the actual popularity value of this song) if there's strong linear relationship\n",
    "New_BPM = 104\n",
    "New_Energy = 80\n",
    "New_Dance = 74\n",
    "New_Loudness = -3\n",
    "New_Valence = 51\n",
    "\n",
    "print(\"Predicted Popularity: \\n\", regression.predict([[New_BPM, New_Energy, New_Dance, New_Loudness, New_Valence]]))\n",
    "\n",
    "X = sm.add_constant(X)\n",
    "\n",
    "model = sm.OLS(Y,X).fit()\n",
    "popularity_prediction = model.predict(X)\n",
    "\n",
    "print(model.summary())"
   ]
  },
  {
   "cell_type": "code",
   "execution_count": 64,
   "metadata": {},
   "outputs": [],
   "source": [
    "#Predicted popularity is 71 when it should be 75\n",
    "#Not the best but not the worst for this year"
   ]
  },
  {
   "cell_type": "code",
   "execution_count": 65,
   "metadata": {},
   "outputs": [
    {
     "data": {
      "text/html": [
       "<div>\n",
       "<style scoped>\n",
       "    .dataframe tbody tr th:only-of-type {\n",
       "        vertical-align: middle;\n",
       "    }\n",
       "\n",
       "    .dataframe tbody tr th {\n",
       "        vertical-align: top;\n",
       "    }\n",
       "\n",
       "    .dataframe thead th {\n",
       "        text-align: right;\n",
       "    }\n",
       "</style>\n",
       "<table border=\"1\" class=\"dataframe\">\n",
       "  <thead>\n",
       "    <tr style=\"text-align: right;\">\n",
       "      <th></th>\n",
       "      <th>Index</th>\n",
       "      <th>Title</th>\n",
       "      <th>Artist</th>\n",
       "      <th>Genre</th>\n",
       "      <th>Year</th>\n",
       "      <th>BPM</th>\n",
       "      <th>Energy</th>\n",
       "      <th>Dance</th>\n",
       "      <th>Loudness</th>\n",
       "      <th>Valence</th>\n",
       "      <th>Popularity</th>\n",
       "    </tr>\n",
       "  </thead>\n",
       "  <tbody>\n",
       "    <tr>\n",
       "      <th>0</th>\n",
       "      <td>531</td>\n",
       "      <td>Him &amp; I (with Halsey)</td>\n",
       "      <td>G-Eazy</td>\n",
       "      <td>hip hop</td>\n",
       "      <td>2018</td>\n",
       "      <td>88</td>\n",
       "      <td>73</td>\n",
       "      <td>59</td>\n",
       "      <td>-6</td>\n",
       "      <td>19</td>\n",
       "      <td>78</td>\n",
       "    </tr>\n",
       "    <tr>\n",
       "      <th>1</th>\n",
       "      <td>526</td>\n",
       "      <td>These Days</td>\n",
       "      <td>Rudimental</td>\n",
       "      <td>dance pop</td>\n",
       "      <td>2018</td>\n",
       "      <td>92</td>\n",
       "      <td>81</td>\n",
       "      <td>65</td>\n",
       "      <td>-4</td>\n",
       "      <td>55</td>\n",
       "      <td>80</td>\n",
       "    </tr>\n",
       "    <tr>\n",
       "      <th>2</th>\n",
       "      <td>527</td>\n",
       "      <td>What Lovers Do (feat. SZA)</td>\n",
       "      <td>Maroon 5</td>\n",
       "      <td>pop</td>\n",
       "      <td>2018</td>\n",
       "      <td>110</td>\n",
       "      <td>60</td>\n",
       "      <td>80</td>\n",
       "      <td>-5</td>\n",
       "      <td>42</td>\n",
       "      <td>79</td>\n",
       "    </tr>\n",
       "    <tr>\n",
       "      <th>3</th>\n",
       "      <td>528</td>\n",
       "      <td>Finesse - Remix; feat. Cardi B</td>\n",
       "      <td>Bruno Mars</td>\n",
       "      <td>pop</td>\n",
       "      <td>2018</td>\n",
       "      <td>105</td>\n",
       "      <td>86</td>\n",
       "      <td>70</td>\n",
       "      <td>-5</td>\n",
       "      <td>93</td>\n",
       "      <td>78</td>\n",
       "    </tr>\n",
       "    <tr>\n",
       "      <th>4</th>\n",
       "      <td>529</td>\n",
       "      <td>Perfect Duet (Ed Sheeran &amp; Beyoncé)</td>\n",
       "      <td>Ed Sheeran</td>\n",
       "      <td>pop</td>\n",
       "      <td>2018</td>\n",
       "      <td>95</td>\n",
       "      <td>30</td>\n",
       "      <td>59</td>\n",
       "      <td>-7</td>\n",
       "      <td>36</td>\n",
       "      <td>78</td>\n",
       "    </tr>\n",
       "  </tbody>\n",
       "</table>\n",
       "</div>"
      ],
      "text/plain": [
       "   Index                                Title      Artist      Genre  Year  \\\n",
       "0    531                Him & I (with Halsey)      G-Eazy    hip hop  2018   \n",
       "1    526                           These Days  Rudimental  dance pop  2018   \n",
       "2    527           What Lovers Do (feat. SZA)    Maroon 5        pop  2018   \n",
       "3    528       Finesse - Remix; feat. Cardi B  Bruno Mars        pop  2018   \n",
       "4    529  Perfect Duet (Ed Sheeran & Beyoncé)  Ed Sheeran        pop  2018   \n",
       "\n",
       "   BPM  Energy  Dance  Loudness  Valence  Popularity  \n",
       "0   88      73     59        -6       19          78  \n",
       "1   92      81     65        -4       55          80  \n",
       "2  110      60     80        -5       42          79  \n",
       "3  105      86     70        -5       93          78  \n",
       "4   95      30     59        -7       36          78  "
      ]
     },
     "execution_count": 65,
     "metadata": {},
     "output_type": "execute_result"
    }
   ],
   "source": [
    "#Year 2018\n",
    "\n",
    "Dataset_2018.head()"
   ]
  },
  {
   "cell_type": "code",
   "execution_count": 66,
   "metadata": {},
   "outputs": [
    {
     "name": "stdout",
     "output_type": "stream",
     "text": [
      "Intercept: \n",
      " 92.43770744292375\n",
      "Coefficients: \n",
      " [ 0.04185673 -0.19015447 -0.03406762  2.3948199   0.07228491]\n",
      "Predicted Popularity: \n",
      " [67.2343272]\n",
      "                            OLS Regression Results                            \n",
      "==============================================================================\n",
      "Dep. Variable:             Popularity   R-squared:                       0.108\n",
      "Model:                            OLS   Adj. R-squared:                  0.031\n",
      "Method:                 Least Squares   F-statistic:                     1.409\n",
      "Date:                Thu, 19 Mar 2020   Prob (F-statistic):              0.234\n",
      "Time:                        13:31:49   Log-Likelihood:                -233.17\n",
      "No. Observations:                  64   AIC:                             478.3\n",
      "Df Residuals:                      58   BIC:                             491.3\n",
      "Df Model:                           5                                         \n",
      "Covariance Type:            nonrobust                                         \n",
      "==============================================================================\n",
      "                 coef    std err          t      P>|t|      [0.025      0.975]\n",
      "------------------------------------------------------------------------------\n",
      "const         92.4377     15.118      6.114      0.000      62.176     122.700\n",
      "BPM            0.0419      0.056      0.743      0.460      -0.071       0.155\n",
      "Energy        -0.1902      0.120     -1.588      0.118      -0.430       0.049\n",
      "Dance         -0.0341      0.102     -0.334      0.740      -0.238       0.170\n",
      "Loudness       2.3948      1.047      2.286      0.026       0.298       4.491\n",
      "Valence        0.0723      0.064      1.122      0.267      -0.057       0.201\n",
      "==============================================================================\n",
      "Omnibus:                        9.195   Durbin-Watson:                   0.658\n",
      "Prob(Omnibus):                  0.010   Jarque-Bera (JB):                8.820\n",
      "Skew:                          -0.870   Prob(JB):                       0.0122\n",
      "Kurtosis:                       3.529   Cond. No.                     1.96e+03\n",
      "==============================================================================\n",
      "\n",
      "Warnings:\n",
      "[1] Standard Errors assume that the covariance matrix of the errors is correctly specified.\n",
      "[2] The condition number is large, 1.96e+03. This might indicate that there are\n",
      "strong multicollinearity or other numerical problems.\n"
     ]
    },
    {
     "name": "stderr",
     "output_type": "stream",
     "text": [
      "C:\\Users\\alexa\\Anaconda3\\lib\\site-packages\\numpy\\core\\fromnumeric.py:2389: FutureWarning: Method .ptp is deprecated and will be removed in a future version. Use numpy.ptp instead.\n",
      "  return ptp(axis=axis, out=out, **kwargs)\n"
     ]
    }
   ],
   "source": [
    "X = Dataset_2018[[\"BPM\",\"Energy\", \"Dance\", \"Loudness\", \"Valence\"]]\n",
    "Y = Dataset_2018[\"Popularity\"]\n",
    "\n",
    "\n",
    "regression = linear_model.LinearRegression()\n",
    "regression.fit(X,Y)\n",
    "\n",
    "print(\"Intercept: \\n\" ,regression.intercept_)\n",
    "print(\"Coefficients: \\n\", regression.coef_)\n",
    "\n",
    "#Using the features from the first song of the 2018 dataset to see how accurate popularity predictor is\n",
    "#Predicted popularity should be close to 78 (the actual popularity value of this song) if there's strong linear relationship\n",
    "New_BPM = 88\n",
    "New_Energy = 73\n",
    "New_Dance = 59\n",
    "New_Loudness = -6\n",
    "New_Valence = 19\n",
    "\n",
    "print(\"Predicted Popularity: \\n\", regression.predict([[New_BPM, New_Energy, New_Dance, New_Loudness, New_Valence]]))\n",
    "\n",
    "X = sm.add_constant(X)\n",
    "\n",
    "model = sm.OLS(Y,X).fit()\n",
    "popularity_prediction = model.predict(X)\n",
    "\n",
    "print(model.summary())"
   ]
  },
  {
   "cell_type": "code",
   "execution_count": 67,
   "metadata": {},
   "outputs": [],
   "source": [
    "#Predicted popularity is 67 when it should be 78\n",
    "#Features were not the best predictors for this year"
   ]
  },
  {
   "cell_type": "code",
   "execution_count": 68,
   "metadata": {},
   "outputs": [
    {
     "data": {
      "text/html": [
       "<div>\n",
       "<style scoped>\n",
       "    .dataframe tbody tr th:only-of-type {\n",
       "        vertical-align: middle;\n",
       "    }\n",
       "\n",
       "    .dataframe tbody tr th {\n",
       "        vertical-align: top;\n",
       "    }\n",
       "\n",
       "    .dataframe thead th {\n",
       "        text-align: right;\n",
       "    }\n",
       "</style>\n",
       "<table border=\"1\" class=\"dataframe\">\n",
       "  <thead>\n",
       "    <tr style=\"text-align: right;\">\n",
       "      <th></th>\n",
       "      <th>Index</th>\n",
       "      <th>Title</th>\n",
       "      <th>Artist</th>\n",
       "      <th>Genre</th>\n",
       "      <th>Year</th>\n",
       "      <th>BPM</th>\n",
       "      <th>Energy</th>\n",
       "      <th>Dance</th>\n",
       "      <th>Loudness</th>\n",
       "      <th>Valence</th>\n",
       "      <th>Popularity</th>\n",
       "    </tr>\n",
       "  </thead>\n",
       "  <tbody>\n",
       "    <tr>\n",
       "      <th>0</th>\n",
       "      <td>603</td>\n",
       "      <td>Kills You Slowly</td>\n",
       "      <td>The Chainsmokers</td>\n",
       "      <td>electropop</td>\n",
       "      <td>2019</td>\n",
       "      <td>150</td>\n",
       "      <td>44</td>\n",
       "      <td>70</td>\n",
       "      <td>-9</td>\n",
       "      <td>23</td>\n",
       "      <td>67</td>\n",
       "    </tr>\n",
       "    <tr>\n",
       "      <th>1</th>\n",
       "      <td>588</td>\n",
       "      <td>I Don't Care (with Justin Bieber)</td>\n",
       "      <td>Ed Sheeran</td>\n",
       "      <td>pop</td>\n",
       "      <td>2019</td>\n",
       "      <td>102</td>\n",
       "      <td>68</td>\n",
       "      <td>80</td>\n",
       "      <td>-5</td>\n",
       "      <td>84</td>\n",
       "      <td>85</td>\n",
       "    </tr>\n",
       "    <tr>\n",
       "      <th>2</th>\n",
       "      <td>574</td>\n",
       "      <td>Lose You To Love Me</td>\n",
       "      <td>Selena Gomez</td>\n",
       "      <td>dance pop</td>\n",
       "      <td>2019</td>\n",
       "      <td>102</td>\n",
       "      <td>34</td>\n",
       "      <td>51</td>\n",
       "      <td>-9</td>\n",
       "      <td>9</td>\n",
       "      <td>97</td>\n",
       "    </tr>\n",
       "    <tr>\n",
       "      <th>3</th>\n",
       "      <td>575</td>\n",
       "      <td>Someone You Loved</td>\n",
       "      <td>Lewis Capaldi</td>\n",
       "      <td>pop</td>\n",
       "      <td>2019</td>\n",
       "      <td>110</td>\n",
       "      <td>41</td>\n",
       "      <td>50</td>\n",
       "      <td>-6</td>\n",
       "      <td>45</td>\n",
       "      <td>96</td>\n",
       "    </tr>\n",
       "    <tr>\n",
       "      <th>4</th>\n",
       "      <td>576</td>\n",
       "      <td>Señorita</td>\n",
       "      <td>Shawn Mendes</td>\n",
       "      <td>canadian pop</td>\n",
       "      <td>2019</td>\n",
       "      <td>117</td>\n",
       "      <td>54</td>\n",
       "      <td>76</td>\n",
       "      <td>-6</td>\n",
       "      <td>75</td>\n",
       "      <td>95</td>\n",
       "    </tr>\n",
       "  </tbody>\n",
       "</table>\n",
       "</div>"
      ],
      "text/plain": [
       "   Index                              Title            Artist         Genre  \\\n",
       "0    603                   Kills You Slowly  The Chainsmokers    electropop   \n",
       "1    588  I Don't Care (with Justin Bieber)        Ed Sheeran           pop   \n",
       "2    574                Lose You To Love Me      Selena Gomez     dance pop   \n",
       "3    575                  Someone You Loved     Lewis Capaldi           pop   \n",
       "4    576                           Señorita      Shawn Mendes  canadian pop   \n",
       "\n",
       "   Year  BPM  Energy  Dance  Loudness  Valence  Popularity  \n",
       "0  2019  150      44     70        -9       23          67  \n",
       "1  2019  102      68     80        -5       84          85  \n",
       "2  2019  102      34     51        -9        9          97  \n",
       "3  2019  110      41     50        -6       45          96  \n",
       "4  2019  117      54     76        -6       75          95  "
      ]
     },
     "execution_count": 68,
     "metadata": {},
     "output_type": "execute_result"
    }
   ],
   "source": [
    "#Year 2019\n",
    "Dataset_2019.head()"
   ]
  },
  {
   "cell_type": "code",
   "execution_count": 69,
   "metadata": {},
   "outputs": [
    {
     "name": "stdout",
     "output_type": "stream",
     "text": [
      "Intercept: \n",
      " 145.6732046826455\n",
      "Coefficients: \n",
      " [-0.11181934 -0.45153094 -0.07030163  3.11901555  0.06690861]\n",
      "Predicted Popularity: \n",
      " [77.57958672]\n",
      "                            OLS Regression Results                            \n",
      "==============================================================================\n",
      "Dep. Variable:             Popularity   R-squared:                       0.477\n",
      "Model:                            OLS   Adj. R-squared:                  0.373\n",
      "Method:                 Least Squares   F-statistic:                     4.569\n",
      "Date:                Thu, 19 Mar 2020   Prob (F-statistic):            0.00427\n",
      "Time:                        13:31:50   Log-Likelihood:                -98.995\n",
      "No. Observations:                  31   AIC:                             210.0\n",
      "Df Residuals:                      25   BIC:                             218.6\n",
      "Df Model:                           5                                         \n",
      "Covariance Type:            nonrobust                                         \n",
      "==============================================================================\n",
      "                 coef    std err          t      P>|t|      [0.025      0.975]\n",
      "------------------------------------------------------------------------------\n",
      "const        145.6732     15.354      9.488      0.000     114.051     177.296\n",
      "BPM           -0.1118      0.062     -1.799      0.084      -0.240       0.016\n",
      "Energy        -0.4515      0.104     -4.359      0.000      -0.665      -0.238\n",
      "Dance         -0.0703      0.119     -0.591      0.560      -0.315       0.175\n",
      "Loudness       3.1190      1.039      3.003      0.006       0.980       5.258\n",
      "Valence        0.0669      0.065      1.026      0.315      -0.067       0.201\n",
      "==============================================================================\n",
      "Omnibus:                        3.974   Durbin-Watson:                   1.556\n",
      "Prob(Omnibus):                  0.137   Jarque-Bera (JB):                1.981\n",
      "Skew:                          -0.322   Prob(JB):                        0.371\n",
      "Kurtosis:                       1.943   Cond. No.                     2.05e+03\n",
      "==============================================================================\n",
      "\n",
      "Warnings:\n",
      "[1] Standard Errors assume that the covariance matrix of the errors is correctly specified.\n",
      "[2] The condition number is large, 2.05e+03. This might indicate that there are\n",
      "strong multicollinearity or other numerical problems.\n"
     ]
    },
    {
     "name": "stderr",
     "output_type": "stream",
     "text": [
      "C:\\Users\\alexa\\Anaconda3\\lib\\site-packages\\numpy\\core\\fromnumeric.py:2389: FutureWarning: Method .ptp is deprecated and will be removed in a future version. Use numpy.ptp instead.\n",
      "  return ptp(axis=axis, out=out, **kwargs)\n"
     ]
    }
   ],
   "source": [
    "\n",
    "\n",
    "X = Dataset_2019[[\"BPM\",\"Energy\", \"Dance\", \"Loudness\", \"Valence\"]]\n",
    "Y = Dataset_2019[\"Popularity\"]\n",
    "\n",
    "\n",
    "regression = linear_model.LinearRegression()\n",
    "regression.fit(X,Y)\n",
    "\n",
    "print(\"Intercept: \\n\" ,regression.intercept_)\n",
    "print(\"Coefficients: \\n\", regression.coef_)\n",
    "\n",
    "#Using the features from the first song of the 2019 dataset to see how accurate popularity predictor is\n",
    "#Predicted popularity should be close to 67 (the actual popularity value of this song) if there's strong linear relationship\n",
    "New_BPM = 150\n",
    "New_Energy = 44\n",
    "New_Dance = 70\n",
    "New_Loudness = -9\n",
    "New_Valence = 23\n",
    "\n",
    "print(\"Predicted Popularity: \\n\", regression.predict([[New_BPM, New_Energy, New_Dance, New_Loudness, New_Valence]]))\n",
    "\n",
    "X = sm.add_constant(X)\n",
    "\n",
    "model = sm.OLS(Y,X).fit()\n",
    "popularity_prediction = model.predict(X)\n",
    "\n",
    "print(model.summary())"
   ]
  },
  {
   "cell_type": "code",
   "execution_count": 70,
   "metadata": {},
   "outputs": [],
   "source": [
    "#The predicted popularity was 77 when the actual was 67\n",
    "#Features for this year were not the best predicors for popularity"
   ]
  },
  {
   "cell_type": "markdown",
   "metadata": {},
   "source": [
    "# Results for Multiple Linear Regression on Predicting Popularity\n",
    "\n",
    "Features in all years were not as good predictors as we would have expected for popularity.\n",
    "Maybe this is because we did not see much linearity when doing scatter plots to test for \n",
    "correlation between features and popularity.\n",
    "\n",
    "However the years that did show strongest relationships\n",
    "for popularity predictions from music features were **2010**, **2012**, and **2015**. In general though, the scatter plots showed\n",
    "there was not a strong linear relationship between popularity and other features to begin with. Our multiple linear regression\n",
    "and prediction models further emphasize this fault. \n",
    "\n",
    "\n",
    "# Finding Linearity between factors and Valence\n",
    "\n",
    "While we were playing around with the data, however, we noticed there was more of a linear relationship between other \n",
    "features and valence, meaning with these datasets we are perhaps better able to predict the valence of songs. Scatter plots are \n",
    "shown below to demonstrate these linear relationships "
   ]
  },
  {
   "cell_type": "code",
   "execution_count": 71,
   "metadata": {},
   "outputs": [
    {
     "data": {
      "text/html": [
       "<div>\n",
       "<style scoped>\n",
       "    .dataframe tbody tr th:only-of-type {\n",
       "        vertical-align: middle;\n",
       "    }\n",
       "\n",
       "    .dataframe tbody tr th {\n",
       "        vertical-align: top;\n",
       "    }\n",
       "\n",
       "    .dataframe thead th {\n",
       "        text-align: right;\n",
       "    }\n",
       "</style>\n",
       "<table border=\"1\" class=\"dataframe\">\n",
       "  <thead>\n",
       "    <tr style=\"text-align: right;\">\n",
       "      <th></th>\n",
       "      <th>Index</th>\n",
       "      <th>Title</th>\n",
       "      <th>Artist</th>\n",
       "      <th>Genre</th>\n",
       "      <th>Year</th>\n",
       "      <th>BPM</th>\n",
       "      <th>Energy</th>\n",
       "      <th>Dance</th>\n",
       "      <th>Loudness</th>\n",
       "      <th>Valence</th>\n",
       "      <th>Popularity</th>\n",
       "    </tr>\n",
       "  </thead>\n",
       "  <tbody>\n",
       "    <tr>\n",
       "      <th>0</th>\n",
       "      <td>14</td>\n",
       "      <td>Telephone</td>\n",
       "      <td>Lady Gaga</td>\n",
       "      <td>dance pop</td>\n",
       "      <td>2010</td>\n",
       "      <td>122</td>\n",
       "      <td>83</td>\n",
       "      <td>83</td>\n",
       "      <td>-6</td>\n",
       "      <td>71</td>\n",
       "      <td>73</td>\n",
       "    </tr>\n",
       "    <tr>\n",
       "      <th>1</th>\n",
       "      <td>25</td>\n",
       "      <td>All The Right Moves</td>\n",
       "      <td>OneRepublic</td>\n",
       "      <td>dance pop</td>\n",
       "      <td>2010</td>\n",
       "      <td>146</td>\n",
       "      <td>95</td>\n",
       "      <td>53</td>\n",
       "      <td>-4</td>\n",
       "      <td>65</td>\n",
       "      <td>65</td>\n",
       "    </tr>\n",
       "    <tr>\n",
       "      <th>2</th>\n",
       "      <td>24</td>\n",
       "      <td>Misery</td>\n",
       "      <td>Maroon 5</td>\n",
       "      <td>pop</td>\n",
       "      <td>2010</td>\n",
       "      <td>103</td>\n",
       "      <td>81</td>\n",
       "      <td>70</td>\n",
       "      <td>-5</td>\n",
       "      <td>73</td>\n",
       "      <td>65</td>\n",
       "    </tr>\n",
       "    <tr>\n",
       "      <th>3</th>\n",
       "      <td>23</td>\n",
       "      <td>Take It Off</td>\n",
       "      <td>Kesha</td>\n",
       "      <td>dance pop</td>\n",
       "      <td>2010</td>\n",
       "      <td>125</td>\n",
       "      <td>68</td>\n",
       "      <td>73</td>\n",
       "      <td>-5</td>\n",
       "      <td>74</td>\n",
       "      <td>66</td>\n",
       "    </tr>\n",
       "    <tr>\n",
       "      <th>4</th>\n",
       "      <td>22</td>\n",
       "      <td>Whataya Want from Me</td>\n",
       "      <td>Adam Lambert</td>\n",
       "      <td>australian pop</td>\n",
       "      <td>2010</td>\n",
       "      <td>186</td>\n",
       "      <td>68</td>\n",
       "      <td>44</td>\n",
       "      <td>-5</td>\n",
       "      <td>45</td>\n",
       "      <td>66</td>\n",
       "    </tr>\n",
       "  </tbody>\n",
       "</table>\n",
       "</div>"
      ],
      "text/plain": [
       "   Index                 Title        Artist           Genre  Year  BPM  \\\n",
       "0     14             Telephone     Lady Gaga       dance pop  2010  122   \n",
       "1     25   All The Right Moves   OneRepublic       dance pop  2010  146   \n",
       "2     24                Misery      Maroon 5             pop  2010  103   \n",
       "3     23           Take It Off         Kesha       dance pop  2010  125   \n",
       "4     22  Whataya Want from Me  Adam Lambert  australian pop  2010  186   \n",
       "\n",
       "   Energy  Dance  Loudness  Valence  Popularity  \n",
       "0      83     83        -6       71          73  \n",
       "1      95     53        -4       65          65  \n",
       "2      81     70        -5       73          65  \n",
       "3      68     73        -5       74          66  \n",
       "4      68     44        -5       45          66  "
      ]
     },
     "execution_count": 71,
     "metadata": {},
     "output_type": "execute_result"
    }
   ],
   "source": [
    "Dataset_2010.head()"
   ]
  },
  {
   "cell_type": "code",
   "execution_count": 72,
   "metadata": {},
   "outputs": [
    {
     "data": {
      "image/png": "[encoded data removed]",
      "text/plain": [
       "<Figure size 432x288 with 1 Axes>"
      ]
     },
     "metadata": {
      "needs_background": "light"
     },
     "output_type": "display_data"
    },
    {
     "data": {
      "image/png": "[encoded data removed]",
      "text/plain": [
       "<Figure size 432x288 with 1 Axes>"
      ]
     },
     "metadata": {
      "needs_background": "light"
     },
     "output_type": "display_data"
    }
   ],
   "source": [
    "#Testing BPM versus Valence for 2010\n",
    "\n",
    "plt.scatter(Dataset_2010[\"Dance\"], Dataset_2010[\"Valence\"], color = \"red\")\n",
    "plt.xlabel(\"Dance\", fontsize = 14)\n",
    "plt.ylabel(\"Valence\", fontsize = 14)\n",
    "plt.grid(True)\n",
    "plt.show()\n",
    "\n",
    "plt.scatter(Dataset_2010[\"Energy\"], Dataset_2010[\"Valence\"], color = \"red\")\n",
    "plt.xlabel(\"Energy\", fontsize = 14)\n",
    "plt.ylabel(\"Valence\", fontsize = 14)\n",
    "plt.grid(True)\n",
    "plt.show()\n",
    "#Testing Energy Versus Valence "
   ]
  },
  {
   "cell_type": "code",
   "execution_count": 73,
   "metadata": {},
   "outputs": [
    {
     "data": {
      "image/png": "[encoded data removed]",
      "text/plain": [
       "<Figure size 432x288 with 1 Axes>"
      ]
     },
     "metadata": {
      "needs_background": "light"
     },
     "output_type": "display_data"
    },
    {
     "data": {
      "image/png": "[encoded data removed]",
      "text/plain": [
       "<Figure size 432x288 with 1 Axes>"
      ]
     },
     "metadata": {
      "needs_background": "light"
     },
     "output_type": "display_data"
    }
   ],
   "source": [
    "#Year 2011\n",
    "\n",
    "\n",
    "plt.scatter(Dataset_2011[\"Dance\"], Dataset_2011[\"Valence\"], color = \"green\")\n",
    "plt.xlabel(\"Dance\", fontsize = 14)\n",
    "plt.ylabel(\"Valence\", fontsize = 14)\n",
    "plt.grid(True)\n",
    "plt.show()\n",
    "\n",
    "plt.scatter(Dataset_2011[\"Energy\"], Dataset_2011[\"Valence\"], color = \"green\")\n",
    "plt.xlabel(\"Energy\", fontsize = 14)\n",
    "plt.ylabel(\"Valence\", fontsize = 14)\n",
    "plt.grid(True)\n",
    "plt.show()"
   ]
  },
  {
   "cell_type": "code",
   "execution_count": 74,
   "metadata": {},
   "outputs": [
    {
     "data": {
      "image/png": "[encoded data removed]",
      "text/plain": [
       "<Figure size 432x288 with 1 Axes>"
      ]
     },
     "metadata": {
      "needs_background": "light"
     },
     "output_type": "display_data"
    },
    {
     "data": {
      "image/png": "[encoded data removed]",
      "text/plain": [
       "<Figure size 432x288 with 1 Axes>"
      ]
     },
     "metadata": {
      "needs_background": "light"
     },
     "output_type": "display_data"
    }
   ],
   "source": [
    "#Year 2012\n",
    "\n",
    "plt.scatter(Dataset_2012[\"Dance\"], Dataset_2012[\"Valence\"], color = \"blue\")\n",
    "plt.xlabel(\"Dance\", fontsize = 14)\n",
    "plt.ylabel(\"Valence\", fontsize = 14)\n",
    "plt.grid(True)\n",
    "plt.show()\n",
    "\n",
    "plt.scatter(Dataset_2012[\"Energy\"], Dataset_2012[\"Valence\"], color = \"blue\")\n",
    "plt.xlabel(\"Energy\", fontsize = 14)\n",
    "plt.ylabel(\"Valence\", fontsize = 14)\n",
    "plt.grid(True)\n",
    "plt.show()"
   ]
  },
  {
   "cell_type": "code",
   "execution_count": 75,
   "metadata": {},
   "outputs": [
    {
     "data": {
      "image/png": "[encoded data removed]",
      "text/plain": [
       "<Figure size 432x288 with 1 Axes>"
      ]
     },
     "metadata": {
      "needs_background": "light"
     },
     "output_type": "display_data"
    },
    {
     "data": {
      "image/png": "[encoded data removed]",
      "text/plain": [
       "<Figure size 432x288 with 1 Axes>"
      ]
     },
     "metadata": {
      "needs_background": "light"
     },
     "output_type": "display_data"
    }
   ],
   "source": [
    "#Year 2013\n",
    "\n",
    "plt.scatter(Dataset_2013[\"Dance\"], Dataset_2013[\"Valence\"], color = \"brown\")\n",
    "plt.xlabel(\"Dance\", fontsize = 14)\n",
    "plt.ylabel(\"Valence\", fontsize = 14)\n",
    "plt.grid(True)\n",
    "plt.show()\n",
    "\n",
    "plt.scatter(Dataset_2013[\"Energy\"], Dataset_2013[\"Valence\"], color = \"brown\")\n",
    "plt.xlabel(\"Energy\", fontsize = 14)\n",
    "plt.ylabel(\"Valence\", fontsize = 14)\n",
    "plt.grid(True)\n",
    "plt.show()"
   ]
  },
  {
   "cell_type": "code",
   "execution_count": 76,
   "metadata": {},
   "outputs": [
    {
     "data": {
      "image/png": "[encoded data removed]",
      "text/plain": [
       "<Figure size 432x288 with 1 Axes>"
      ]
     },
     "metadata": {
      "needs_background": "light"
     },
     "output_type": "display_data"
    },
    {
     "data": {
      "image/png": "[encoded data removed]",
      "text/plain": [
       "<Figure size 432x288 with 1 Axes>"
      ]
     },
     "metadata": {
      "needs_background": "light"
     },
     "output_type": "display_data"
    }
   ],
   "source": [
    "#Year 2014\n",
    "\n",
    "plt.scatter(Dataset_2014[\"Dance\"], Dataset_2014[\"Valence\"], color = \"orange\")\n",
    "plt.xlabel(\"Dance\", fontsize = 14)\n",
    "plt.ylabel(\"Valence\", fontsize = 14)\n",
    "plt.grid(True)\n",
    "plt.show()\n",
    "\n",
    "plt.scatter(Dataset_2014[\"Energy\"], Dataset_2014[\"Valence\"], color = \"orange\")\n",
    "plt.xlabel(\"Energy\", fontsize = 14)\n",
    "plt.ylabel(\"Valence\", fontsize = 14)\n",
    "plt.grid(True)\n",
    "plt.show()"
   ]
  },
  {
   "cell_type": "code",
   "execution_count": 77,
   "metadata": {},
   "outputs": [
    {
     "data": {
      "image/png": "[encoded data removed]",
      "text/plain": [
       "<Figure size 432x288 with 1 Axes>"
      ]
     },
     "metadata": {
      "needs_background": "light"
     },
     "output_type": "display_data"
    },
    {
     "data": {
      "image/png": "[encoded data removed]",
      "text/plain": [
       "<Figure size 432x288 with 1 Axes>"
      ]
     },
     "metadata": {
      "needs_background": "light"
     },
     "output_type": "display_data"
    }
   ],
   "source": [
    "#Year 2015\n",
    "\n",
    "plt.scatter(Dataset_2015[\"Dance\"], Dataset_2015[\"Valence\"], color = \"black\")\n",
    "plt.xlabel(\"Dance\", fontsize = 14)\n",
    "plt.ylabel(\"Valence\", fontsize = 14)\n",
    "plt.grid(True)\n",
    "plt.show()\n",
    "\n",
    "plt.scatter(Dataset_2015[\"Energy\"], Dataset_2015[\"Valence\"], color = \"black\")\n",
    "plt.xlabel(\"Energy\", fontsize = 14)\n",
    "plt.ylabel(\"Valence\", fontsize = 14)\n",
    "plt.grid(True)\n",
    "plt.show()"
   ]
  },
  {
   "cell_type": "code",
   "execution_count": 78,
   "metadata": {},
   "outputs": [
    {
     "data": {
      "image/png": "[encoded data removed]",
      "text/plain": [
       "<Figure size 432x288 with 1 Axes>"
      ]
     },
     "metadata": {
      "needs_background": "light"
     },
     "output_type": "display_data"
    },
    {
     "data": {
      "image/png": "[encoded data removed]",
      "text/plain": [
       "<Figure size 432x288 with 1 Axes>"
      ]
     },
     "metadata": {
      "needs_background": "light"
     },
     "output_type": "display_data"
    }
   ],
   "source": [
    "#Year 2016\n",
    "\n",
    "plt.scatter(Dataset_2016[\"Dance\"], Dataset_2016[\"Valence\"], color = \"pink\")\n",
    "plt.xlabel(\"Dance\", fontsize = 14)\n",
    "plt.ylabel(\"Valence\", fontsize = 14)\n",
    "plt.grid(True)\n",
    "plt.show()\n",
    "\n",
    "plt.scatter(Dataset_2016[\"Energy\"], Dataset_2016[\"Valence\"], color = \"pink\")\n",
    "plt.xlabel(\"Energy\", fontsize = 14)\n",
    "plt.ylabel(\"Valence\", fontsize = 14)\n",
    "plt.grid(True)\n",
    "plt.show()"
   ]
  },
  {
   "cell_type": "code",
   "execution_count": 79,
   "metadata": {},
   "outputs": [
    {
     "data": {
      "image/png": "[encoded data removed]",
      "text/plain": [
       "<Figure size 432x288 with 1 Axes>"
      ]
     },
     "metadata": {
      "needs_background": "light"
     },
     "output_type": "display_data"
    },
    {
     "data": {
      "image/png": "[encoded data removed]",
      "text/plain": [
       "<Figure size 432x288 with 1 Axes>"
      ]
     },
     "metadata": {
      "needs_background": "light"
     },
     "output_type": "display_data"
    }
   ],
   "source": [
    "#Year 2017\n",
    "\n",
    "plt.scatter(Dataset_2017[\"Dance\"], Dataset_2017[\"Valence\"], color = \"purple\")\n",
    "plt.xlabel(\"Dance\", fontsize = 14)\n",
    "plt.ylabel(\"Valence\", fontsize = 14)\n",
    "plt.grid(True)\n",
    "plt.show()\n",
    "\n",
    "plt.scatter(Dataset_2017[\"Energy\"], Dataset_2017[\"Valence\"], color = \"purple\")\n",
    "plt.xlabel(\"Energy\", fontsize = 14)\n",
    "plt.ylabel(\"Valence\", fontsize = 14)\n",
    "plt.grid(True)\n",
    "plt.show()"
   ]
  },
  {
   "cell_type": "code",
   "execution_count": 80,
   "metadata": {},
   "outputs": [
    {
     "data": {
      "image/png": "[encoded data removed]",
      "text/plain": [
       "<Figure size 432x288 with 1 Axes>"
      ]
     },
     "metadata": {
      "needs_background": "light"
     },
     "output_type": "display_data"
    },
    {
     "data": {
      "image/png": "[encoded data removed]",
      "text/plain": [
       "<Figure size 432x288 with 1 Axes>"
      ]
     },
     "metadata": {
      "needs_background": "light"
     },
     "output_type": "display_data"
    }
   ],
   "source": [
    "#Year 2018\n",
    "\n",
    "plt.scatter(Dataset_2018[\"Dance\"], Dataset_2018[\"Valence\"], color = \"grey\")\n",
    "plt.xlabel(\"Dance\", fontsize = 14)\n",
    "plt.ylabel(\"Valence\", fontsize = 14)\n",
    "plt.grid(True)\n",
    "plt.show()\n",
    "\n",
    "plt.scatter(Dataset_2018[\"Energy\"], Dataset_2018[\"Valence\"], color = \"grey\")\n",
    "plt.xlabel(\"Energy\", fontsize = 14)\n",
    "plt.ylabel(\"Valence\", fontsize = 14)\n",
    "plt.grid(True)\n",
    "plt.show()"
   ]
  },
  {
   "cell_type": "code",
   "execution_count": 81,
   "metadata": {},
   "outputs": [
    {
     "data": {
      "image/png": "[encoded data removed]",
      "text/plain": [
       "<Figure size 432x288 with 1 Axes>"
      ]
     },
     "metadata": {
      "needs_background": "light"
     },
     "output_type": "display_data"
    },
    {
     "data": {
      "image/png": "[encoded data removed]",
      "text/plain": [
       "<Figure size 432x288 with 1 Axes>"
      ]
     },
     "metadata": {
      "needs_background": "light"
     },
     "output_type": "display_data"
    }
   ],
   "source": [
    "#Year 2019\n",
    "\n",
    "plt.scatter(Dataset_2019[\"Dance\"], Dataset_2019[\"Valence\"], color = \"hotpink\")\n",
    "plt.xlabel(\"Dance\", fontsize = 14)\n",
    "plt.ylabel(\"Valence\", fontsize = 14)\n",
    "plt.grid(True)\n",
    "plt.show()\n",
    "\n",
    "plt.scatter(Dataset_2019[\"Energy\"], Dataset_2019[\"Valence\"], color = \"hotpink\")\n",
    "plt.xlabel(\"Energy\", fontsize = 14)\n",
    "plt.ylabel(\"Valence\", fontsize = 14)\n",
    "plt.grid(True)\n",
    "plt.show()"
   ]
  },
  {
   "cell_type": "markdown",
   "metadata": {},
   "source": [
    "# Multiple Linear Regression to predict Valence from Features\n",
    "\n",
    "The years that show the most linearity between Dance and Energy and Valence are 2010, 2014, and 2016. So we will be using multiple linear regression on those years to see if we can use Dance and Energy values of a song to predict the Valence of that song. \n",
    "\n",
    "(The valence number of a song is representative of the positive tone a song carries.) "
   ]
  },
  {
   "cell_type": "code",
   "execution_count": 82,
   "metadata": {},
   "outputs": [
    {
     "data": {
      "text/html": [
       "<div>\n",
       "<style scoped>\n",
       "    .dataframe tbody tr th:only-of-type {\n",
       "        vertical-align: middle;\n",
       "    }\n",
       "\n",
       "    .dataframe tbody tr th {\n",
       "        vertical-align: top;\n",
       "    }\n",
       "\n",
       "    .dataframe thead th {\n",
       "        text-align: right;\n",
       "    }\n",
       "</style>\n",
       "<table border=\"1\" class=\"dataframe\">\n",
       "  <thead>\n",
       "    <tr style=\"text-align: right;\">\n",
       "      <th></th>\n",
       "      <th>Index</th>\n",
       "      <th>Title</th>\n",
       "      <th>Artist</th>\n",
       "      <th>Genre</th>\n",
       "      <th>Year</th>\n",
       "      <th>BPM</th>\n",
       "      <th>Energy</th>\n",
       "      <th>Dance</th>\n",
       "      <th>Loudness</th>\n",
       "      <th>Valence</th>\n",
       "      <th>Popularity</th>\n",
       "    </tr>\n",
       "  </thead>\n",
       "  <tbody>\n",
       "    <tr>\n",
       "      <th>0</th>\n",
       "      <td>14</td>\n",
       "      <td>Telephone</td>\n",
       "      <td>Lady Gaga</td>\n",
       "      <td>dance pop</td>\n",
       "      <td>2010</td>\n",
       "      <td>122</td>\n",
       "      <td>83</td>\n",
       "      <td>83</td>\n",
       "      <td>-6</td>\n",
       "      <td>71</td>\n",
       "      <td>73</td>\n",
       "    </tr>\n",
       "    <tr>\n",
       "      <th>1</th>\n",
       "      <td>25</td>\n",
       "      <td>All The Right Moves</td>\n",
       "      <td>OneRepublic</td>\n",
       "      <td>dance pop</td>\n",
       "      <td>2010</td>\n",
       "      <td>146</td>\n",
       "      <td>95</td>\n",
       "      <td>53</td>\n",
       "      <td>-4</td>\n",
       "      <td>65</td>\n",
       "      <td>65</td>\n",
       "    </tr>\n",
       "    <tr>\n",
       "      <th>2</th>\n",
       "      <td>24</td>\n",
       "      <td>Misery</td>\n",
       "      <td>Maroon 5</td>\n",
       "      <td>pop</td>\n",
       "      <td>2010</td>\n",
       "      <td>103</td>\n",
       "      <td>81</td>\n",
       "      <td>70</td>\n",
       "      <td>-5</td>\n",
       "      <td>73</td>\n",
       "      <td>65</td>\n",
       "    </tr>\n",
       "    <tr>\n",
       "      <th>3</th>\n",
       "      <td>23</td>\n",
       "      <td>Take It Off</td>\n",
       "      <td>Kesha</td>\n",
       "      <td>dance pop</td>\n",
       "      <td>2010</td>\n",
       "      <td>125</td>\n",
       "      <td>68</td>\n",
       "      <td>73</td>\n",
       "      <td>-5</td>\n",
       "      <td>74</td>\n",
       "      <td>66</td>\n",
       "    </tr>\n",
       "    <tr>\n",
       "      <th>4</th>\n",
       "      <td>22</td>\n",
       "      <td>Whataya Want from Me</td>\n",
       "      <td>Adam Lambert</td>\n",
       "      <td>australian pop</td>\n",
       "      <td>2010</td>\n",
       "      <td>186</td>\n",
       "      <td>68</td>\n",
       "      <td>44</td>\n",
       "      <td>-5</td>\n",
       "      <td>45</td>\n",
       "      <td>66</td>\n",
       "    </tr>\n",
       "  </tbody>\n",
       "</table>\n",
       "</div>"
      ],
      "text/plain": [
       "   Index                 Title        Artist           Genre  Year  BPM  \\\n",
       "0     14             Telephone     Lady Gaga       dance pop  2010  122   \n",
       "1     25   All The Right Moves   OneRepublic       dance pop  2010  146   \n",
       "2     24                Misery      Maroon 5             pop  2010  103   \n",
       "3     23           Take It Off         Kesha       dance pop  2010  125   \n",
       "4     22  Whataya Want from Me  Adam Lambert  australian pop  2010  186   \n",
       "\n",
       "   Energy  Dance  Loudness  Valence  Popularity  \n",
       "0      83     83        -6       71          73  \n",
       "1      95     53        -4       65          65  \n",
       "2      81     70        -5       73          65  \n",
       "3      68     73        -5       74          66  \n",
       "4      68     44        -5       45          66  "
      ]
     },
     "execution_count": 82,
     "metadata": {},
     "output_type": "execute_result"
    }
   ],
   "source": [
    "#Year 2010 Analysis\n",
    "\n",
    "Dataset_2010.head()"
   ]
  },
  {
   "cell_type": "code",
   "execution_count": 83,
   "metadata": {},
   "outputs": [
    {
     "name": "stdout",
     "output_type": "stream",
     "text": [
      "Intercept: \n",
      " -32.03674355658168\n",
      "Coefficients: \n",
      " [0.70576115 0.52776812]\n",
      "Predicted Valence: \n",
      " [70.34618559]\n",
      "                            OLS Regression Results                            \n",
      "==============================================================================\n",
      "Dep. Variable:                Valence   R-squared:                       0.438\n",
      "Model:                            OLS   Adj. R-squared:                  0.414\n",
      "Method:                 Least Squares   F-statistic:                     18.68\n",
      "Date:                Thu, 19 Mar 2020   Prob (F-statistic):           1.00e-06\n",
      "Time:                        13:32:19   Log-Likelihood:                -214.83\n",
      "No. Observations:                  51   AIC:                             435.7\n",
      "Df Residuals:                      48   BIC:                             441.5\n",
      "Df Model:                           2                                         \n",
      "Covariance Type:            nonrobust                                         \n",
      "==============================================================================\n",
      "                 coef    std err          t      P>|t|      [0.025      0.975]\n",
      "------------------------------------------------------------------------------\n",
      "const        -32.0367     14.762     -2.170      0.035     -61.718      -2.356\n",
      "Energy         0.7058      0.165      4.273      0.000       0.374       1.038\n",
      "Dance          0.5278      0.171      3.080      0.003       0.183       0.872\n",
      "==============================================================================\n",
      "Omnibus:                        4.607   Durbin-Watson:                   2.305\n",
      "Prob(Omnibus):                  0.100   Jarque-Bera (JB):                1.978\n",
      "Skew:                           0.062   Prob(JB):                        0.372\n",
      "Kurtosis:                       2.043   Cond. No.                         642.\n",
      "==============================================================================\n",
      "\n",
      "Warnings:\n",
      "[1] Standard Errors assume that the covariance matrix of the errors is correctly specified.\n"
     ]
    },
    {
     "name": "stderr",
     "output_type": "stream",
     "text": [
      "C:\\Users\\alexa\\Anaconda3\\lib\\site-packages\\numpy\\core\\fromnumeric.py:2389: FutureWarning: Method .ptp is deprecated and will be removed in a future version. Use numpy.ptp instead.\n",
      "  return ptp(axis=axis, out=out, **kwargs)\n"
     ]
    }
   ],
   "source": [
    "X = Dataset_2010[[\"Energy\", \"Dance\"]]\n",
    "Y = Dataset_2010[\"Valence\"]\n",
    "\n",
    "\n",
    "regression = linear_model.LinearRegression()\n",
    "regression.fit(X,Y)\n",
    "\n",
    "print(\"Intercept: \\n\" ,regression.intercept_)\n",
    "print(\"Coefficients: \\n\", regression.coef_)\n",
    "\n",
    "#Using the features from the first song of the 2010 dataset to see how accurate valence predictor is\n",
    "#Predicted valence should be close to 71 (the actual valence value of this song) if there's strong linear relationship\n",
    "\n",
    "New_Energy = 83\n",
    "New_Dance = 83\n",
    "\n",
    "\n",
    "print(\"Predicted Valence: \\n\", regression.predict([[ New_Energy, New_Dance]]))\n",
    "\n",
    "X = sm.add_constant(X)\n",
    "\n",
    "model = sm.OLS(Y,X).fit()\n",
    "valence_prediction = model.predict(X)\n",
    "\n",
    "print(model.summary())"
   ]
  },
  {
   "cell_type": "code",
   "execution_count": 84,
   "metadata": {},
   "outputs": [],
   "source": [
    "#Predictor worked very well, the predicted valence was 70.3 and actual is 71, very close values."
   ]
  },
  {
   "cell_type": "code",
   "execution_count": 85,
   "metadata": {},
   "outputs": [
    {
     "data": {
      "text/html": [
       "<div>\n",
       "<style scoped>\n",
       "    .dataframe tbody tr th:only-of-type {\n",
       "        vertical-align: middle;\n",
       "    }\n",
       "\n",
       "    .dataframe tbody tr th {\n",
       "        vertical-align: top;\n",
       "    }\n",
       "\n",
       "    .dataframe thead th {\n",
       "        text-align: right;\n",
       "    }\n",
       "</style>\n",
       "<table border=\"1\" class=\"dataframe\">\n",
       "  <thead>\n",
       "    <tr style=\"text-align: right;\">\n",
       "      <th></th>\n",
       "      <th>Index</th>\n",
       "      <th>Title</th>\n",
       "      <th>Artist</th>\n",
       "      <th>Genre</th>\n",
       "      <th>Year</th>\n",
       "      <th>BPM</th>\n",
       "      <th>Energy</th>\n",
       "      <th>Dance</th>\n",
       "      <th>Loudness</th>\n",
       "      <th>Valence</th>\n",
       "      <th>Popularity</th>\n",
       "    </tr>\n",
       "  </thead>\n",
       "  <tbody>\n",
       "    <tr>\n",
       "      <th>0</th>\n",
       "      <td>230</td>\n",
       "      <td>She Looks So Perfect</td>\n",
       "      <td>5 Seconds of Summer</td>\n",
       "      <td>boy band</td>\n",
       "      <td>2014</td>\n",
       "      <td>160</td>\n",
       "      <td>95</td>\n",
       "      <td>49</td>\n",
       "      <td>-4</td>\n",
       "      <td>44</td>\n",
       "      <td>71</td>\n",
       "    </tr>\n",
       "    <tr>\n",
       "      <th>1</th>\n",
       "      <td>225</td>\n",
       "      <td>Love Me Again</td>\n",
       "      <td>John Newman</td>\n",
       "      <td>pop</td>\n",
       "      <td>2014</td>\n",
       "      <td>126</td>\n",
       "      <td>89</td>\n",
       "      <td>50</td>\n",
       "      <td>-5</td>\n",
       "      <td>21</td>\n",
       "      <td>73</td>\n",
       "    </tr>\n",
       "    <tr>\n",
       "      <th>2</th>\n",
       "      <td>226</td>\n",
       "      <td>Latch</td>\n",
       "      <td>Disclosure</td>\n",
       "      <td>house</td>\n",
       "      <td>2014</td>\n",
       "      <td>122</td>\n",
       "      <td>73</td>\n",
       "      <td>50</td>\n",
       "      <td>-5</td>\n",
       "      <td>52</td>\n",
       "      <td>72</td>\n",
       "    </tr>\n",
       "    <tr>\n",
       "      <th>3</th>\n",
       "      <td>227</td>\n",
       "      <td>Adore You</td>\n",
       "      <td>Miley Cyrus</td>\n",
       "      <td>dance pop</td>\n",
       "      <td>2014</td>\n",
       "      <td>120</td>\n",
       "      <td>66</td>\n",
       "      <td>58</td>\n",
       "      <td>-5</td>\n",
       "      <td>20</td>\n",
       "      <td>72</td>\n",
       "    </tr>\n",
       "    <tr>\n",
       "      <th>4</th>\n",
       "      <td>228</td>\n",
       "      <td>Love Never Felt So Good</td>\n",
       "      <td>Michael Jackson</td>\n",
       "      <td>pop</td>\n",
       "      <td>2014</td>\n",
       "      <td>118</td>\n",
       "      <td>72</td>\n",
       "      <td>78</td>\n",
       "      <td>-6</td>\n",
       "      <td>71</td>\n",
       "      <td>71</td>\n",
       "    </tr>\n",
       "  </tbody>\n",
       "</table>\n",
       "</div>"
      ],
      "text/plain": [
       "   Index                    Title               Artist      Genre  Year  BPM  \\\n",
       "0    230     She Looks So Perfect  5 Seconds of Summer   boy band  2014  160   \n",
       "1    225            Love Me Again          John Newman        pop  2014  126   \n",
       "2    226                    Latch           Disclosure      house  2014  122   \n",
       "3    227                Adore You          Miley Cyrus  dance pop  2014  120   \n",
       "4    228  Love Never Felt So Good      Michael Jackson        pop  2014  118   \n",
       "\n",
       "   Energy  Dance  Loudness  Valence  Popularity  \n",
       "0      95     49        -4       44          71  \n",
       "1      89     50        -5       21          73  \n",
       "2      73     50        -5       52          72  \n",
       "3      66     58        -5       20          72  \n",
       "4      72     78        -6       71          71  "
      ]
     },
     "execution_count": 85,
     "metadata": {},
     "output_type": "execute_result"
    }
   ],
   "source": [
    "#Year 2014 Analysis\n",
    "\n",
    "Dataset_2014.head()"
   ]
  },
  {
   "cell_type": "code",
   "execution_count": 86,
   "metadata": {},
   "outputs": [
    {
     "name": "stdout",
     "output_type": "stream",
     "text": [
      "Intercept: \n",
      " -38.404811643994684\n",
      "Coefficients: \n",
      " [0.40831148 1.00452347]\n",
      "Predicted Valence: \n",
      " [49.60642944]\n",
      "                            OLS Regression Results                            \n",
      "==============================================================================\n",
      "Dep. Variable:                Valence   R-squared:                       0.518\n",
      "Model:                            OLS   Adj. R-squared:                  0.500\n",
      "Method:                 Least Squares   F-statistic:                     29.54\n",
      "Date:                Thu, 19 Mar 2020   Prob (F-statistic):           1.93e-09\n",
      "Time:                        13:32:19   Log-Likelihood:                -247.45\n",
      "No. Observations:                  58   AIC:                             500.9\n",
      "Df Residuals:                      55   BIC:                             507.1\n",
      "Df Model:                           2                                         \n",
      "Covariance Type:            nonrobust                                         \n",
      "==============================================================================\n",
      "                 coef    std err          t      P>|t|      [0.025      0.975]\n",
      "------------------------------------------------------------------------------\n",
      "const        -38.4048     12.104     -3.173      0.002     -62.663     -14.147\n",
      "Energy         0.4083      0.131      3.107      0.003       0.145       0.672\n",
      "Dance          1.0045      0.168      5.995      0.000       0.669       1.340\n",
      "==============================================================================\n",
      "Omnibus:                        0.170   Durbin-Watson:                   1.886\n",
      "Prob(Omnibus):                  0.919   Jarque-Bera (JB):                0.215\n",
      "Skew:                           0.119   Prob(JB):                        0.898\n",
      "Kurtosis:                       2.821   Cond. No.                         490.\n",
      "==============================================================================\n",
      "\n",
      "Warnings:\n",
      "[1] Standard Errors assume that the covariance matrix of the errors is correctly specified.\n"
     ]
    },
    {
     "name": "stderr",
     "output_type": "stream",
     "text": [
      "C:\\Users\\alexa\\Anaconda3\\lib\\site-packages\\numpy\\core\\fromnumeric.py:2389: FutureWarning: Method .ptp is deprecated and will be removed in a future version. Use numpy.ptp instead.\n",
      "  return ptp(axis=axis, out=out, **kwargs)\n"
     ]
    }
   ],
   "source": [
    "X = Dataset_2014[[\"Energy\", \"Dance\"]]\n",
    "Y = Dataset_2014[\"Valence\"]\n",
    "\n",
    "\n",
    "regression = linear_model.LinearRegression()\n",
    "regression.fit(X,Y)\n",
    "\n",
    "print(\"Intercept: \\n\" ,regression.intercept_)\n",
    "print(\"Coefficients: \\n\", regression.coef_)\n",
    "\n",
    "#Using the features from the first song of the 2014 dataset to see how accurate valence predictor is\n",
    "#Predicted valence should be close to 44 (the actual valence value of this song) if there's strong linear relationship\n",
    "\n",
    "New_Energy = 95\n",
    "New_Dance = 49\n",
    "\n",
    "\n",
    "print(\"Predicted Valence: \\n\", regression.predict([[New_Energy, New_Dance]]))\n",
    "\n",
    "X = sm.add_constant(X)\n",
    "\n",
    "model = sm.OLS(Y,X).fit()\n",
    "valence_prediction = model.predict(X)\n",
    "\n",
    "print(model.summary())"
   ]
  },
  {
   "cell_type": "code",
   "execution_count": 87,
   "metadata": {},
   "outputs": [],
   "source": [
    "#Predicted was 49 and actual is 44, only 5 difference. "
   ]
  },
  {
   "cell_type": "code",
   "execution_count": 88,
   "metadata": {},
   "outputs": [
    {
     "data": {
      "text/html": [
       "<div>\n",
       "<style scoped>\n",
       "    .dataframe tbody tr th:only-of-type {\n",
       "        vertical-align: middle;\n",
       "    }\n",
       "\n",
       "    .dataframe tbody tr th {\n",
       "        vertical-align: top;\n",
       "    }\n",
       "\n",
       "    .dataframe thead th {\n",
       "        text-align: right;\n",
       "    }\n",
       "</style>\n",
       "<table border=\"1\" class=\"dataframe\">\n",
       "  <thead>\n",
       "    <tr style=\"text-align: right;\">\n",
       "      <th></th>\n",
       "      <th>Index</th>\n",
       "      <th>Title</th>\n",
       "      <th>Artist</th>\n",
       "      <th>Genre</th>\n",
       "      <th>Year</th>\n",
       "      <th>BPM</th>\n",
       "      <th>Energy</th>\n",
       "      <th>Dance</th>\n",
       "      <th>Loudness</th>\n",
       "      <th>Valence</th>\n",
       "      <th>Popularity</th>\n",
       "    </tr>\n",
       "  </thead>\n",
       "  <tbody>\n",
       "    <tr>\n",
       "      <th>0</th>\n",
       "      <td>386</td>\n",
       "      <td>Confident</td>\n",
       "      <td>Demi Lovato</td>\n",
       "      <td>dance pop</td>\n",
       "      <td>2016</td>\n",
       "      <td>130</td>\n",
       "      <td>75</td>\n",
       "      <td>59</td>\n",
       "      <td>-6</td>\n",
       "      <td>34</td>\n",
       "      <td>75</td>\n",
       "    </tr>\n",
       "    <tr>\n",
       "      <th>1</th>\n",
       "      <td>393</td>\n",
       "      <td>Close</td>\n",
       "      <td>Nick Jonas</td>\n",
       "      <td>dance pop</td>\n",
       "      <td>2016</td>\n",
       "      <td>124</td>\n",
       "      <td>62</td>\n",
       "      <td>65</td>\n",
       "      <td>-5</td>\n",
       "      <td>40</td>\n",
       "      <td>72</td>\n",
       "    </tr>\n",
       "    <tr>\n",
       "      <th>2</th>\n",
       "      <td>385</td>\n",
       "      <td>Electric Love</td>\n",
       "      <td>BØRNS</td>\n",
       "      <td>electropop</td>\n",
       "      <td>2016</td>\n",
       "      <td>120</td>\n",
       "      <td>80</td>\n",
       "      <td>61</td>\n",
       "      <td>-8</td>\n",
       "      <td>52</td>\n",
       "      <td>76</td>\n",
       "    </tr>\n",
       "    <tr>\n",
       "      <th>3</th>\n",
       "      <td>387</td>\n",
       "      <td>Too Good</td>\n",
       "      <td>Drake</td>\n",
       "      <td>canadian hip hop</td>\n",
       "      <td>2016</td>\n",
       "      <td>118</td>\n",
       "      <td>65</td>\n",
       "      <td>79</td>\n",
       "      <td>-8</td>\n",
       "      <td>39</td>\n",
       "      <td>74</td>\n",
       "    </tr>\n",
       "    <tr>\n",
       "      <th>4</th>\n",
       "      <td>388</td>\n",
       "      <td>Roses</td>\n",
       "      <td>The Chainsmokers</td>\n",
       "      <td>electropop</td>\n",
       "      <td>2016</td>\n",
       "      <td>100</td>\n",
       "      <td>80</td>\n",
       "      <td>71</td>\n",
       "      <td>-7</td>\n",
       "      <td>34</td>\n",
       "      <td>74</td>\n",
       "    </tr>\n",
       "  </tbody>\n",
       "</table>\n",
       "</div>"
      ],
      "text/plain": [
       "   Index          Title            Artist             Genre  Year  BPM  \\\n",
       "0    386      Confident       Demi Lovato         dance pop  2016  130   \n",
       "1    393          Close        Nick Jonas         dance pop  2016  124   \n",
       "2    385  Electric Love             BØRNS        electropop  2016  120   \n",
       "3    387       Too Good             Drake  canadian hip hop  2016  118   \n",
       "4    388          Roses  The Chainsmokers        electropop  2016  100   \n",
       "\n",
       "   Energy  Dance  Loudness  Valence  Popularity  \n",
       "0      75     59        -6       34          75  \n",
       "1      62     65        -5       40          72  \n",
       "2      80     61        -8       52          76  \n",
       "3      65     79        -8       39          74  \n",
       "4      80     71        -7       34          74  "
      ]
     },
     "execution_count": 88,
     "metadata": {},
     "output_type": "execute_result"
    }
   ],
   "source": [
    "#Year 2016 Analysis\n",
    "\n",
    "Dataset_2016.head()"
   ]
  },
  {
   "cell_type": "code",
   "execution_count": 89,
   "metadata": {},
   "outputs": [
    {
     "name": "stdout",
     "output_type": "stream",
     "text": [
      "Intercept: \n",
      " -22.84004831972633\n",
      "Coefficients: \n",
      " [0.28126634 0.77502413]\n",
      "Predicted Valence: \n",
      " [43.98135056]\n",
      "                            OLS Regression Results                            \n",
      "==============================================================================\n",
      "Dep. Variable:                Valence   R-squared:                       0.406\n",
      "Model:                            OLS   Adj. R-squared:                  0.391\n",
      "Method:                 Least Squares   F-statistic:                     26.34\n",
      "Date:                Thu, 19 Mar 2020   Prob (F-statistic):           1.92e-09\n",
      "Time:                        13:32:22   Log-Likelihood:                -336.11\n",
      "No. Observations:                  80   AIC:                             678.2\n",
      "Df Residuals:                      77   BIC:                             685.4\n",
      "Df Model:                           2                                         \n",
      "Covariance Type:            nonrobust                                         \n",
      "==============================================================================\n",
      "                 coef    std err          t      P>|t|      [0.025      0.975]\n",
      "------------------------------------------------------------------------------\n",
      "const        -22.8400      9.597     -2.380      0.020     -41.950      -3.730\n",
      "Energy         0.2813      0.104      2.711      0.008       0.075       0.488\n",
      "Dance          0.7750      0.137      5.637      0.000       0.501       1.049\n",
      "==============================================================================\n",
      "Omnibus:                        4.585   Durbin-Watson:                   1.926\n",
      "Prob(Omnibus):                  0.101   Jarque-Bera (JB):                2.462\n",
      "Skew:                           0.169   Prob(JB):                        0.292\n",
      "Kurtosis:                       2.209   Cond. No.                         491.\n",
      "==============================================================================\n",
      "\n",
      "Warnings:\n",
      "[1] Standard Errors assume that the covariance matrix of the errors is correctly specified.\n"
     ]
    },
    {
     "name": "stderr",
     "output_type": "stream",
     "text": [
      "C:\\Users\\alexa\\Anaconda3\\lib\\site-packages\\numpy\\core\\fromnumeric.py:2389: FutureWarning: Method .ptp is deprecated and will be removed in a future version. Use numpy.ptp instead.\n",
      "  return ptp(axis=axis, out=out, **kwargs)\n"
     ]
    }
   ],
   "source": [
    "X = Dataset_2016[[\"Energy\", \"Dance\"]]\n",
    "Y = Dataset_2016[\"Valence\"]\n",
    "\n",
    "\n",
    "regression = linear_model.LinearRegression()\n",
    "regression.fit(X,Y)\n",
    "\n",
    "print(\"Intercept: \\n\" ,regression.intercept_)\n",
    "print(\"Coefficients: \\n\", regression.coef_)\n",
    "\n",
    "#Using the features from the first song of the 2016 dataset to see how accurate valence predictor is\n",
    "#Predicted valence should be close to 34 (the actual valence value of this song) if there's strong linear relationship\n",
    "\n",
    "New_Energy = 75\n",
    "New_Dance = 59\n",
    "\n",
    "\n",
    "print(\"Predicted Valence: \\n\", regression.predict([[New_Energy, New_Dance]]))\n",
    "\n",
    "X = sm.add_constant(X)\n",
    "\n",
    "model = sm.OLS(Y,X).fit()\n",
    "valence_prediction = model.predict(X)\n",
    "\n",
    "print(model.summary())"
   ]
  },
  {
   "cell_type": "code",
   "execution_count": 90,
   "metadata": {},
   "outputs": [],
   "source": [
    "#Predicted was 43 but actual was 34, meaning this year maybe did not have as good a linear\n",
    "#relationship between dance and energy and valence"
   ]
  },
  {
   "cell_type": "markdown",
   "metadata": {},
   "source": [
    "# Ethical Considerations / Limitations\n",
    "\n",
    "Based on Spotify’s policies, we complied that we use the services for our own internal, personal, non-commercial use, and not on behalf of or for the benefit of any third party therefore we have the permission to use the data. Since what we are doing is a non-profit school project that is not for the benefit of any third party, we believe that we have permission to use the data. We obtained this dataset from  Kaggle user Leonardo Henrique who publicly put out this data and collected it from Spotify in order for others to analyze.  (Spotify terms of use: https://developer.spotify.com/terms/). Using this public data for the intended analysis does not pose any breach of data privacy or ethical concerns. \n",
    " \n",
    "We have given explicit credit to Spotify for publicly supplying this data set and all of the quantifications they created within the dataset (valence, danceability, etc).\n",
    " \n",
    "Since this is not a surveyed dataset, we did not have to factor individual consent into our ethical compliance concerns. \n",
    " \n",
    "The characteristics we used to measure how fun a song is are not organically quantifiable; they were created by the Spotify data team. We understand that this could provide a level of bias. Also, our team decided which of Spotify’s data characteristics we believed could fall under the category of ‘fun’. Our perception of fun is key to how the data is shaped.\n",
    " \n",
    "Our dataset was taken from Spotify but we extracted this dataset specifically from Leonardo Henrique, who collected this data and put it on Kaggle for public use. He extracted the numbers and data in order for others to publicly use. \n",
    " \n",
    "Since Spotify was released in 2008, we were only able to study a short time frame of popular music. Spotify has also grown in popularity over the time frame we analyzed, so the relationship between the popularity of the app and the popularity of the music may have contributed to our data.\n",
    " \n"
   ]
  },
  {
   "cell_type": "markdown",
   "metadata": {},
   "source": [
    "# Results/ Discussion\n",
    "\n",
    "In the end, our hypothesis was disproved; there was very little relationship between popularity and the components of the music. We were trying to predict popularity based on these factors of ‘fun-ness’ such as BPM, Energy, Dance, Loudness and Valence but we saw that there was no strong linear relationship between the two sufficient enough to create a strong predictor model.\n",
    "\n",
    "In regards to how the years differed in their features and how they predicted popularity, we did find that there were certain years where these ‘fun-ness’ features did more accurately predict the popularity of the song. Regardless there was still no strong linear relationships in any of the years that would provide consistent enough prediction results.\n",
    "\n",
    "However in our EDA portion of the assignment we found linear relationships between Dance and Energy and Valence. Meaning when we ran the same multiple linear regression on these two parameters, Dance and Energy,  trying to predict valence, we came out with more successful results. The predictions were far more accurate. This led us to believe that maybe had we focused on less parameters as a means of predicting popularity this would have resulted in a higher performing predictor. \n",
    "\n",
    "If we were to replicate this study, we might experiment with different music streaming services to analyze whether the source of the music has a correlation with the music’s popularity. Spotify was launched in 2008, which limits the number of years and music listeners \n",
    "\n",
    "If we had access to a music streaming service with a longer history, we would also consider modifying the study to analyze the popularity of music over different timeframes. \n",
    "\n",
    "If we were to replicate this study, we might also narrow down how many parameters we used to measure fun. It is possible that some of our parameters might have correlated toward fun while others were confounding variables, but since we tested them as a single unit it is difficult to know.\n",
    "\n"
   ]
  },
  {
   "cell_type": "code",
   "execution_count": null,
   "metadata": {},
   "outputs": [],
   "source": []
  }
 ],
 "metadata": {
  "kernelspec": {
   "display_name": "Python 3",
   "language": "python",
   "name": "python3"
  },
  "language_info": {
   "codemirror_mode": {
    "name": "ipython",
    "version": 3
   },
   "file_extension": ".py",
   "mimetype": "text/x-python",
   "name": "python",
   "nbconvert_exporter": "python",
   "pygments_lexer": "ipython3",
   "version": "3.7.0"
  }
 },
 "nbformat": 4,
 "nbformat_minor": 2
}
