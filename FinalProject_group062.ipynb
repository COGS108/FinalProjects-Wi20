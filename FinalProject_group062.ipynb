{
 "cells": [
  {
   "cell_type": "markdown",
   "metadata": {},
   "source": [
    "# COGS 108 - Final Project"
   ]
  },
  {
   "cell_type": "markdown",
   "metadata": {},
   "source": [
    "## Overview\n",
    "The goal of this project was to measure and analyze the distribution of San Diego police traffic stops along the lines of race of the subject, time of day of the stop, and region the stop takes place in. More importantly, we wanted to find which of these factors points most clearly to a correlation between its own distribution and the police stop. In order to do this, we took public data from 2010 to 2017 about San Diego police traffic stops, compiled it all together, then divided it along the lines of subject race, region, and time of day, separately, then compared it to population demographics in San Diego in order to draw a conclusion. Analyzing this information allowed us to find the impact of each of these factors, and how they contribute to the frequency of police stops. In the end, we found the strongest relationship between a person’s gender and their likeliness to be pulled over."
   ]
  },
  {
   "cell_type": "markdown",
   "metadata": {},
   "source": [
    "## Names\n",
    "- Nevan Samadhana \n",
    "- Matthew Crooks \n",
    "- Kelvin Nguyen \n",
    "- Shannon He\n",
    "- Nicholas Klopp"
   ]
  },
  {
   "cell_type": "markdown",
   "metadata": {},
   "source": [
    "## Research Question\n",
    "We are interested in seeing who the San Diego police department pull over more. We wanted to find if a person's trait such as gender, race, or age affected their pullover rate or if other factors did such as time of day or day of month. We wanted to find ***which single variable contributes most to the probability that an individual is pulled over by San Diego police for a traffic stop?***   "
   ]
  },
  {
   "cell_type": "markdown",
   "metadata": {},
   "source": [
    "## Background and Prior Work\n",
    "Ever since high school, our group has seen news articles pop up and attract widespread attention regarding police traffic stops. Therefore, we wondered if we could dedicate this project towards finding an answer to the question: is the motivation behind pulling citizens over purely innocuous within San Diego county? <br><br> \n",
    "According to Voice of San Diego and the UC San Diego Extension Center for Research black people were being discriminated against. They  found that black people were stopped at a disproportionate rate. They found that even though Blacks only made up four percent of San Diego’s population they made up eight percent of the people being stopped overall by police. This was in the time period between July 2018 and July 2019 that included 41,036 stops made by police. This is compared to whites and hispanics who were stopped proportionately to their population. Hispanics make up 31 percent of San Diego’s population but only made up 29 percent of the police stops. Whites make up 54 percent of San Diego's population and made up 54 percent of the police stops. They also found that blacks were being searched at a higher rate compared to other ethnic backgrounds. The Voice of San Diego and UC San Diego Extension Center found that of the police stops they were being searched twenty-two percent of the time. This is compared to whites who were being searched only seventeen percent of the time. They also found that when they searched black people property seizures were lower at only fourteen percent compared to white that had their property seized eighteen percent of the time.(1)\n",
    "\n",
    "As a result they concluded that there is bias being made against black people in San Diego county. \n",
    "Another report done by the ACLU also found that there were discriminatory patterns being incited by the San Diego police department. They found that “San Diego police are 219% more likely to stop black people than white people and 25% more likely to search and 59% more likely to use force against black people during these stops”. The San Diego police says this is because Blacks make up more of the homeless population. ACLU also found that “black people were 163% more likely to be stopped for a traffic violation than white people and 86% more likely to be stopped for moving violations specifically (i.e., actions like speeding or running a red light). This suggests black people were more likely than white people to be stopped on the street and also more likely than white people to be stopped in traffic”. \n",
    "These findings align with our group's belief that blacks are being discriminated against by the police. We will investigate whether we find the same findings as these reports and on top of that we will investigate What factors contribute towards the highest probability of being pulled over for a traffic stop? Does the subject race/time of day/region affect pullover rate and which factor contributes most towards pullover rate?(2)\n",
    "\n",
    "References (include links):\n",
    "\n",
    "1) https://www.voiceofsandiego.org/topics/public-safety/san-diego-law-enforcement-searches-blacks-more-finds-contraband-on-them-less/ <br>\n",
    "2) https://www.sandiegouniontribune.com/opinion/commentary/story/2019-12-18/san-diego-police-bias-aclu-report"
   ]
  },
  {
   "cell_type": "markdown",
   "metadata": {},
   "source": [
    "## Hypothesis\n",
    "Out of all of the factors, we believe that the strongest relationship exists between subject race and traffic stops. \n",
    "<br>\n",
    "\n",
    "We proposed this hypothesis because, we are constantly inundated with stories about black men being targeted by police like those in Ferguson, Missouri and Eric Garner in New York. Regardless of what side of the political spectrum you sit on, it is impossible to escape these news stories, and therefore, we have been conditioned to think that a relationship does exist between subject race and their likelihood of being pulled over.\n"
   ]
  },
  {
   "cell_type": "markdown",
   "metadata": {},
   "source": [
    "## Dataset(s)\n",
    "\n",
    "Dataset Name: Crime Data from 2010 to Present <br>\n",
    "Link to the dataset: https://data.lacity.org/api/views/63jg-8b9z/rows.csv?accessType=DOWNLOAD <br>\n",
    "Number of observations: 2.09 million <br>\n",
    "Description: LA city's dataset of crime starting in 2010. It includes all of the crime reports made within LA city during that time.<br><br>\n",
    "\n",
    "\n",
    "Dataset Name: Traffic stop data 2014<br>\n",
    "Link to the dataset:\n",
    "https://data.sandiego.gov/datasets/police-vehicle-stops/<br>\n",
    "Number of observations: 144164<br>\n",
    "Description: SD city’s dataset of traffic stops in 2014. It includes all of the police reports of traffic stops. The dataset has variables such as stop_id, stop_cause, service_area, subject_race, subject_sex, subject_age, date_time, date_stop, time_stop, sd_resident, arrested, searched, obtained_consent, contraband_found, and property_seized.<br><br>\n",
    "\n",
    "Dataset Name: Traffic stop data 2015<br>\n",
    "Link to the dataset:\n",
    "https://data.sandiego.gov/datasets/police-vehicle-stops/<br>\n",
    "Number of observations: 115422<br>\n",
    "Description: SD city’s dataset of traffic stops in 2015. It includes all of the police reports of traffic stops. The dataset has variables such as stop_id, stop_cause, service_area, subject_race, subject_sex, subject_age, date_time, date_stop, time_stop, sd_resident, arrested, searched, obtained_consent, contraband_found, and property_seized.<br><br>\n",
    "\n",
    "Dataset Name: Traffic stop data 2016<br>\n",
    "Link to the dataset:\n",
    "https://data.sandiego.gov/datasets/police-vehicle-stops/<br>\n",
    "Number of observations: 103051<br>\n",
    "Description: SD city’s dataset of traffic stops in 2016. It includes all of the police reports of traffic stops. The dataset has variables such as stop_id, stop_cause, service_area, subject_race, subject_sex, subject_age, date_time, date_stop, time_stop, sd_resident, arrested, searched, obtained_consent, contraband_found, and property_seized.<br><br>\n",
    "\n",
    "Dataset Name: Traffic stop data 2017<br>\n",
    "Link to the dataset:\n",
    "https://data.sandiego.gov/datasets/police-vehicle-stops/<br>\n",
    "Number of observations: 103362<br>\n",
    "Description: SD city’s dataset of traffic stops in 2017. It includes all of the police reports of traffic stops. The dataset has variables such as stop_id, stop_cause, service_area, subject_race, subject_sex, subject_age, date_time, date_stop, time_stop, sd_resident, arrested, searched, obtained_consent, contraband_found, and property_seized.<br><br>\n",
    " \n",
    "Dataset Name: U.S. Census Bureau San Diego Demographic Table<br>\n",
    "Link to the dataset:\n",
    "https://www.census.gov/quickfacts/fact/table/sandiegocountycalifornia,CA/PST045218<br>\n",
    "Data used: Gender breakdown and Race breakdown<br>\n",
    "In this case, it was difficult to translate this website into a csv or easily digestible data file such as csv or json. Therefore, because we took a very minimal amount of data off of the website (<10 values), we found that it was much easier to just hard code these values into our project. While not correct in every sense, this was the best decision in order to maximize our time spent on data analysis.\n",
    "<br><br>\n",
    "\n",
    "Because we are using multiple datasets, we stored each csv file as a dataframe, and then concatenated all of dataframes into one.The dataset we are using is a public data set created by the San Diego Police Department so they can analyze if any discrimination is occuring within San Diego. Specific variables that we would like to examine would include the police stop id, stop cause, service area, subject race, subject sex, subject age, date of the police stop, whether the person was a San Diego resident or not, whether they were arrested or not, whether they were searched or not, the division where they were stoped and their main race (we grouped the races into four major groups White, Asian, Hispanic, and Blacks). The sample size that spans several years from 2014-2017. This data has been collected through sources that we have found on San Diego’s public data site and have been generally “clean” CSV databases.\n"
   ]
  },
  {
   "cell_type": "markdown",
   "metadata": {},
   "source": [
    "## Setup"
   ]
  },
  {
   "cell_type": "code",
   "execution_count": 1,
   "metadata": {},
   "outputs": [],
   "source": [
    "import numpy as np\n",
    "import pandas as pd\n",
    "import matplotlib.pyplot as plt\n",
    "import seaborn as sns\n",
    "import re \n",
    "from scipy.stats import chisquare\n",
    "from scipy import stats\n",
    "from scipy.stats import ttest_ind, chisquare, normaltest\n",
    "from sklearn.preprocessing import LabelEncoder\n",
    "from sklearn.model_selection import train_test_split\n",
    "import statsmodels.api as sm"
   ]
  },
  {
   "cell_type": "markdown",
   "metadata": {},
   "source": [
    "## Data Cleaning "
   ]
  },
  {
   "cell_type": "markdown",
   "metadata": {},
   "source": [
    "- The datasets that we are working with are not very clean and require quite a bit of standardizing. \n",
    "- San Diego police officers make frequent mistakes due to human error when inputting details for their traffic stops. \n",
    "- A lot of the “uncleanliness” lies behind the unique ways of identifying the same information, ie. ‘female’, ‘f’, ‘F’ being entered by police when recording the gender. For that reason, you can see below that our primary focus when we started cleaning was to standardize values given identical information but different ways of writing it.\n",
    "- A few of the columns, because they were in large part left blank by police when originally filling out a report (ie. obtained consent), we decided to drop because the data we procured wouldn’t be representative of the entire sample. Also once we ran our data cleaning methods to standardize the data, we didn’t run into any further problems with any null values.\n",
    "- The date of the traffic stop is stripped, and two new columns are created to analyze the day and month of those stops. \n",
    "- A new \"division\" column is also created which maps the integer division of the stop to its respective geographic location i.e \"110\" means the stop was performed in the \"Northern\" division of San Diego county. \n",
    "- We standardized the subject_race in order to focus on a few \"main\" races. Asian races such as \"Laotian\" or \"Japanese\" were mapped into \"Asian\", and we mapped low frequency minority groups who were not Black, Hispanic, or Asian into \"Other\". \n"
   ]
  },
  {
   "cell_type": "code",
   "execution_count": 2,
   "metadata": {},
   "outputs": [],
   "source": [
    "# Load datasets from 2014-2017\n",
    "year_2014 = pd.read_csv('vehicle_stops_2014_datasd_v1.csv')\n",
    "year_2015 = pd.read_csv('vehicle_stops_2015_datasd_v1.csv')\n",
    "year_2016 = pd.read_csv('vehicle_stops_2016_datasd_v1.csv')\n",
    "year_2017 = pd.read_csv('vehicle_stops_2017_datasd_v1.csv')\n",
    "\n",
    "# Combine datasets into a list\n",
    "pd_list = [year_2014,year_2015,year_2016,year_2017]\n",
    "all_years = pd.concat(pd_list)"
   ]
  },
  {
   "cell_type": "markdown",
   "metadata": {},
   "source": [
    "We chose to standardize the data for the age column of our data to remove extreme outliers that were most likely mistakes on data entry. For example, we had some values that were as high as 1000 which makes little sense."
   ]
  },
  {
   "cell_type": "code",
   "execution_count": 3,
   "metadata": {},
   "outputs": [],
   "source": [
    "# Standardized function for age\n",
    "def clean_age(string):\n",
    "    string = str(string)\n",
    "    if string == 'nan':\n",
    "        return np.nan\n",
    "    pattern = re.compile(r'[^\\d+]')\n",
    "    string = pattern.sub('',string)\n",
    "    if string.isnumeric() == False:\n",
    "        return np.nan\n",
    "    string = string.strip()\n",
    "    string = int(string)\n",
    "    if string >= 16 and string < 100:\n",
    "        return string\n",
    "    else:\n",
    "        return np.nan"
   ]
  },
  {
   "cell_type": "code",
   "execution_count": 4,
   "metadata": {},
   "outputs": [],
   "source": [
    "# Standardizr 'age' column\n",
    "all_years['subject_age'] = all_years['subject_age'].apply(clean_age)"
   ]
  },
  {
   "cell_type": "markdown",
   "metadata": {},
   "source": [
    "Standardize the reasons for being pulled over in a traffic stop, making sure that there aren’t over 10 different ways of not specifying a reason."
   ]
  },
  {
   "cell_type": "code",
   "execution_count": 5,
   "metadata": {},
   "outputs": [],
   "source": [
    "#Standardize function for stop cause \n",
    "def clean_stop_cause(string):\n",
    "    string = str(string)\n",
    "    notMarked = [\"not secified\", \"NOT SPECIFIED\",'NOT CHECKED','No Cause Specified on a Card','not marked not marked', 'NOTHING MARKED', 'not marked','none listed','not noted','not listed','no cause listed', 'not marked  not marked','none noted', 'CAUSE NOT LISTED ACTION NOT LISTED', 'NOT MARKED', 'nan']\n",
    "    bicycle = [\"Bicycle\", \"Bicycle Bicycle\"]\n",
    "    pedestrian = [\"PedestrianPedestrian\"]\n",
    "    movingViolation = [\"Moving Violation\", \"&Moving Violation\"]\n",
    "    equipmentViolation = [\"Equipment Violation\", \"&Equipment Violation\"]\n",
    "    h_and_s = ['MUNI, County, H&S Code','Muni, County, H&S Code']\n",
    "    if string in notMarked:\n",
    "        output = \"Not Marked\"\n",
    "    elif string in bicycle:\n",
    "        output = \"Bicycle\"\n",
    "    elif string in pedestrian:\n",
    "        output = \"Pedestrian\"\n",
    "    elif string in movingViolation:\n",
    "        output = \"Moving Violation\"\n",
    "    elif string in equipmentViolation:\n",
    "        output = \"Equipment Violation\"\n",
    "    elif string in h_and_s:\n",
    "        output = \"MUNI, County, H&S Code\"\n",
    "    else:\n",
    "        output = string\n",
    "    \n",
    "    return output "
   ]
  },
  {
   "cell_type": "code",
   "execution_count": 6,
   "metadata": {},
   "outputs": [],
   "source": [
    "all_years[\"stop_cause\"] = all_years[\"stop_cause\"].apply(clean_stop_cause)"
   ]
  },
  {
   "cell_type": "markdown",
   "metadata": {},
   "source": [
    "Standardize the subject’s race to ensure erroneous values such as numbers and ‘bicycle’ are taken care of."
   ]
  },
  {
   "cell_type": "code",
   "execution_count": 7,
   "metadata": {},
   "outputs": [],
   "source": [
    "# Standardize 'subject_race' column\n",
    "def clean_subject_race(string):\n",
    "    string = str(string)\n",
    "    none = [\"2\", \"5\", \"4\", \"1\", \"NOT MARKED\", \"37\", \"3\", \"26\", \"32\", \"55\", \"48\", \"28\", \"BICYCLE\", \"Pedestrian\"]\n",
    "    if string in none:\n",
    "        return \"None\"\n",
    "    else:\n",
    "        return string"
   ]
  },
  {
   "cell_type": "code",
   "execution_count": 8,
   "metadata": {},
   "outputs": [],
   "source": [
    "all_years[\"subject_race\"] = all_years[\"subject_race\"].apply(clean_subject_race)"
   ]
  },
  {
   "cell_type": "code",
   "execution_count": 9,
   "metadata": {},
   "outputs": [],
   "source": [
    "#Standardize date_stop column \n",
    "def clean_date_stop(date):\n",
    "    date = date.split('-')\n",
    "    day = date[-1]\n",
    "    day = day.strip()\n",
    "    return day"
   ]
  },
  {
   "cell_type": "markdown",
   "metadata": {},
   "source": [
    "Create a new column in our dataframe for the day of the month that the stop occurred. The values inside this column should only include values from 1-31 which you can see in the next line is exactly what our code achieves."
   ]
  },
  {
   "cell_type": "code",
   "execution_count": 10,
   "metadata": {},
   "outputs": [],
   "source": [
    "all_years['day'] = all_years['date_stop'].apply(clean_date_stop)"
   ]
  },
  {
   "cell_type": "code",
   "execution_count": 11,
   "metadata": {},
   "outputs": [],
   "source": [
    "def clean_month_stop(date):\n",
    "    date = str(date)\n",
    "    date = date.split(\"-\")\n",
    "    month = date[-2]\n",
    "    month = month.strip()\n",
    "    return month "
   ]
  },
  {
   "cell_type": "markdown",
   "metadata": {},
   "source": [
    "Create a new column in our dataframe for the month of the year that the stop occurred. The values inside this column only include values from 1-12(Jan-Dec)."
   ]
  },
  {
   "cell_type": "code",
   "execution_count": 12,
   "metadata": {},
   "outputs": [],
   "source": [
    "all_years[\"month\"] = all_years[\"date_stop\"].apply(clean_month_stop)"
   ]
  },
  {
   "cell_type": "markdown",
   "metadata": {},
   "source": [
    "Standardize the SD resident column to only include ‘Y’, ‘N’, or no response "
   ]
  },
  {
   "cell_type": "code",
   "execution_count": 13,
   "metadata": {},
   "outputs": [],
   "source": [
    "# Standardize 'sd_resident' column\n",
    "all_years[all_years['sd_resident']== 'y'] = 'Y'\n",
    "all_years[all_years['sd_resident']== 'n'] = 'N'\n",
    "all_years[all_years['sd_resident']== ' '] = None"
   ]
  },
  {
   "cell_type": "markdown",
   "metadata": {},
   "source": [
    "Standardize the arrested column to only include ‘Y’, ‘N’, or no response "
   ]
  },
  {
   "cell_type": "code",
   "execution_count": 14,
   "metadata": {},
   "outputs": [],
   "source": [
    "# Standardize 'arrested' column\n",
    "all_years[all_years['arrested']== 'y'] = 'Y'\n",
    "all_years[all_years['arrested']== 'n'] = 'N'\n",
    "all_years[all_years['arrested']== ' '] = None\n",
    "all_years[all_years['arrested']== 'b'] = None\n",
    "all_years[all_years['arrested']== 'M'] = None"
   ]
  },
  {
   "cell_type": "markdown",
   "metadata": {},
   "source": [
    "Standardize the searched column to only include ‘Y’, ‘N’, or no response "
   ]
  },
  {
   "cell_type": "code",
   "execution_count": 15,
   "metadata": {},
   "outputs": [],
   "source": [
    "# Standardize 'searched' column\n",
    "all_years[all_years['searched']== 'y'] = 'Y'\n",
    "all_years[all_years['searched']== 'n'] = 'N'\n",
    "all_years[all_years['searched']== ' '] = None"
   ]
  },
  {
   "cell_type": "markdown",
   "metadata": {},
   "source": [
    "Since the only data we want are the factors that contribute to a probability of being pulled over at traffic stops, columns below might not be one of these factors so that we should drop them at this point.\n"
   ]
  },
  {
   "cell_type": "code",
   "execution_count": 16,
   "metadata": {},
   "outputs": [],
   "source": [
    "# Drop all the useless features\n",
    "all_years = all_years.drop(columns=['obtained_consent','contraband_found','property_seized','date_time'],axis=1)"
   ]
  },
  {
   "cell_type": "markdown",
   "metadata": {},
   "source": [
    "Standardize ‘division’ by changing the area code into general division in San Diego, and map the area code into a new column ‘division’. Plus, since all the unknown area codes are not helpful for our analysis, we mark all of these unknown areas with a ‘0’."
   ]
  },
  {
   "cell_type": "code",
   "execution_count": 17,
   "metadata": {},
   "outputs": [],
   "source": [
    "# Change the area code into general divisions\n",
    "division = {'110':'Northern','320':'Eastern','610':'Western',\"930\":'NorthWestern','820':'MidCity','710':'Southern','120':'Northern','230':'NorthEastern','240':'NorthEastern','720':'Southern',\"430\":'SouthEastern','310':'Eastern','510':'Central',\"Unknown\":None,\"810\":'MidCity','440':'SouthEastern','830':'MidCity',\"520\":'Central',\"620\":'Western',\"630\":\"Western\",\"130\":'Northern',\"530\":'Central',\"840\":'MidCity'}\n",
    "# Change any unknown area into '0'\n",
    "all_years['service_area'].loc[all_years.service_area == 'Unknown'] = '0'\n",
    "# Map the area code into new column 'division'\n",
    "all_years['division'] = all_years['service_area'].map(division)"
   ]
  },
  {
   "cell_type": "markdown",
   "metadata": {},
   "source": [
    "Standardize ‘race’ by changing the letter representations into full-named races which makes them easier to identify, and map the original subject_race into a new column ‘race’."
   ]
  },
  {
   "cell_type": "code",
   "execution_count": 18,
   "metadata": {},
   "outputs": [],
   "source": [
    "# Gives out the full name of races instead of single letters\n",
    "race = {\"W\":\"White\", \"A\":\"Other Asian\",\"B\":\"Black\",\"C\":\"Chinese\",\"D\":\"Cambodian\",\"F\":\"Filipino\",\"G\":\"Guamanian\",\"H\":\"Hispanic\",\"I\":\"Indian\",\"J\":\"Japanese\",\"K\":\"Korean\",\"L\":\"Laotian\",\"O\":\"Other\",\"P\":\"Pacific Islander\",\"S\":\"Samoan\",\"U\":\"Hawaiian\",\"V\":\"Vietnamese\",\"Z\":\"Asian Indian\",\"X\":\"TBD\",}\n",
    "# Map the 'subject_race'(single letter) into new column 'race'\n",
    "all_years[\"race\"] = all_years[\"subject_race\"].map(race)"
   ]
  },
  {
   "cell_type": "markdown",
   "metadata": {},
   "source": [
    "Transform all races into a few general race groups, and map all the races to a new column ‘main_race’; also, drop any missing values in ‘main_race’ column."
   ]
  },
  {
   "cell_type": "code",
   "execution_count": 19,
   "metadata": {},
   "outputs": [],
   "source": [
    "# Take out the races we want to analyze into general race groups\n",
    "main_races = {\"White\":\"White\", \"Other Asian\": 'Asian',\"Black\":\"Black\",\"Chinese\":'Asian',\"Cambodian\":\"Asian\",\"Filipino\":'Asian',\"Guamanian\":'Other',\"Hispanic\":\"Hispanic\",\"Indian\":'Other',\"Japanaese\":'Asian',\"Korean\":\"Asian\",\"Laotian\":'Asian',\"Other\":'Other',\"Pacific Islander\":'Asian',\"Samoan\":\"Other\",\"Hawaiian\":'Other',\"Vietnamese\":'Asian',\"Asian Indian\":'Asian',\"TBD\":'Other'}\n",
    "# Map races into a new column for 'main_race' that we want to analyze\n",
    "all_years[\"main_race\"] = all_years[\"race\"].map(main_races)\n",
    "# Drop all missing values in 'main_race'\n",
    "all_years = all_years.dropna(subset = [\"main_race\"])"
   ]
  },
  {
   "cell_type": "code",
   "execution_count": 20,
   "metadata": {
    "scrolled": true
   },
   "outputs": [
    {
     "data": {
      "text/html": [
       "<div>\n",
       "<style scoped>\n",
       "    .dataframe tbody tr th:only-of-type {\n",
       "        vertical-align: middle;\n",
       "    }\n",
       "\n",
       "    .dataframe tbody tr th {\n",
       "        vertical-align: top;\n",
       "    }\n",
       "\n",
       "    .dataframe thead th {\n",
       "        text-align: right;\n",
       "    }\n",
       "</style>\n",
       "<table border=\"1\" class=\"dataframe\">\n",
       "  <thead>\n",
       "    <tr style=\"text-align: right;\">\n",
       "      <th></th>\n",
       "      <th>stop_id</th>\n",
       "      <th>stop_cause</th>\n",
       "      <th>service_area</th>\n",
       "      <th>subject_race</th>\n",
       "      <th>subject_sex</th>\n",
       "      <th>subject_age</th>\n",
       "      <th>date_stop</th>\n",
       "      <th>time_stop</th>\n",
       "      <th>sd_resident</th>\n",
       "      <th>arrested</th>\n",
       "      <th>searched</th>\n",
       "      <th>day</th>\n",
       "      <th>month</th>\n",
       "      <th>division</th>\n",
       "      <th>race</th>\n",
       "      <th>main_race</th>\n",
       "    </tr>\n",
       "  </thead>\n",
       "  <tbody>\n",
       "    <tr>\n",
       "      <th>0</th>\n",
       "      <td>1044975</td>\n",
       "      <td>Moving Violation</td>\n",
       "      <td>110</td>\n",
       "      <td>W</td>\n",
       "      <td>M</td>\n",
       "      <td>24</td>\n",
       "      <td>2014-01-01</td>\n",
       "      <td>1:25</td>\n",
       "      <td>Y</td>\n",
       "      <td>N</td>\n",
       "      <td>N</td>\n",
       "      <td>01</td>\n",
       "      <td>01</td>\n",
       "      <td>Northern</td>\n",
       "      <td>White</td>\n",
       "      <td>White</td>\n",
       "    </tr>\n",
       "    <tr>\n",
       "      <th>1</th>\n",
       "      <td>1044976</td>\n",
       "      <td>Moving Violation</td>\n",
       "      <td>320</td>\n",
       "      <td>W</td>\n",
       "      <td>M</td>\n",
       "      <td>42</td>\n",
       "      <td>2014-01-01</td>\n",
       "      <td>5:47</td>\n",
       "      <td>Y</td>\n",
       "      <td>N</td>\n",
       "      <td>N</td>\n",
       "      <td>01</td>\n",
       "      <td>01</td>\n",
       "      <td>Eastern</td>\n",
       "      <td>White</td>\n",
       "      <td>White</td>\n",
       "    </tr>\n",
       "    <tr>\n",
       "      <th>2</th>\n",
       "      <td>1044977</td>\n",
       "      <td>Moving Violation</td>\n",
       "      <td>320</td>\n",
       "      <td>L</td>\n",
       "      <td>M</td>\n",
       "      <td>29</td>\n",
       "      <td>2014-01-01</td>\n",
       "      <td>7:46</td>\n",
       "      <td>Y</td>\n",
       "      <td>N</td>\n",
       "      <td>N</td>\n",
       "      <td>01</td>\n",
       "      <td>01</td>\n",
       "      <td>Eastern</td>\n",
       "      <td>Laotian</td>\n",
       "      <td>Asian</td>\n",
       "    </tr>\n",
       "    <tr>\n",
       "      <th>3</th>\n",
       "      <td>1044978</td>\n",
       "      <td>Moving Violation</td>\n",
       "      <td>610</td>\n",
       "      <td>W</td>\n",
       "      <td>M</td>\n",
       "      <td>23</td>\n",
       "      <td>2014-01-01</td>\n",
       "      <td>8:10</td>\n",
       "      <td>Y</td>\n",
       "      <td>N</td>\n",
       "      <td>N</td>\n",
       "      <td>01</td>\n",
       "      <td>01</td>\n",
       "      <td>Western</td>\n",
       "      <td>White</td>\n",
       "      <td>White</td>\n",
       "    </tr>\n",
       "    <tr>\n",
       "      <th>4</th>\n",
       "      <td>1044980</td>\n",
       "      <td>Equipment Violation</td>\n",
       "      <td>930</td>\n",
       "      <td>H</td>\n",
       "      <td>M</td>\n",
       "      <td>35</td>\n",
       "      <td>2014-01-01</td>\n",
       "      <td>8:35</td>\n",
       "      <td>N</td>\n",
       "      <td>N</td>\n",
       "      <td>N</td>\n",
       "      <td>01</td>\n",
       "      <td>01</td>\n",
       "      <td>NorthWestern</td>\n",
       "      <td>Hispanic</td>\n",
       "      <td>Hispanic</td>\n",
       "    </tr>\n",
       "  </tbody>\n",
       "</table>\n",
       "</div>"
      ],
      "text/plain": [
       "   stop_id           stop_cause service_area subject_race subject_sex  \\\n",
       "0  1044975     Moving Violation          110            W           M   \n",
       "1  1044976     Moving Violation          320            W           M   \n",
       "2  1044977     Moving Violation          320            L           M   \n",
       "3  1044978     Moving Violation          610            W           M   \n",
       "4  1044980  Equipment Violation          930            H           M   \n",
       "\n",
       "  subject_age   date_stop time_stop sd_resident arrested searched day month  \\\n",
       "0          24  2014-01-01      1:25           Y        N        N  01    01   \n",
       "1          42  2014-01-01      5:47           Y        N        N  01    01   \n",
       "2          29  2014-01-01      7:46           Y        N        N  01    01   \n",
       "3          23  2014-01-01      8:10           Y        N        N  01    01   \n",
       "4          35  2014-01-01      8:35           N        N        N  01    01   \n",
       "\n",
       "       division      race main_race  \n",
       "0      Northern     White     White  \n",
       "1       Eastern     White     White  \n",
       "2       Eastern   Laotian     Asian  \n",
       "3       Western     White     White  \n",
       "4  NorthWestern  Hispanic  Hispanic  "
      ]
     },
     "execution_count": 20,
     "metadata": {},
     "output_type": "execute_result"
    }
   ],
   "source": [
    "all_years.head()"
   ]
  },
  {
   "cell_type": "markdown",
   "metadata": {},
   "source": [
    "## Data Analysis & Results"
   ]
  },
  {
   "cell_type": "markdown",
   "metadata": {},
   "source": [
    "### EDA"
   ]
  },
  {
   "cell_type": "markdown",
   "metadata": {},
   "source": [
    " - Now that we have cleaned and standardized most of our data, let's do some exploratory data analysis.\n",
    " - We will start by doing some visualizations for frequency of traffic stops for the variables which we would like to analyze."
   ]
  },
  {
   "cell_type": "code",
   "execution_count": 21,
   "metadata": {
    "scrolled": true
   },
   "outputs": [
    {
     "data": {
      "text/plain": [
       "Text(0, 0.5, 'counts')"
      ]
     },
     "execution_count": 21,
     "metadata": {},
     "output_type": "execute_result"
    },
    {
     "data": {
      "image/png": "[encoded data removed]",
      "text/plain": [
       "<Figure size 432x288 with 1 Axes>"
      ]
     },
     "metadata": {
      "needs_background": "light"
     },
     "output_type": "display_data"
    },
    {
     "data": {
      "image/png": "[encoded data removed]",
      "text/plain": [
       "<Figure size 432x288 with 1 Axes>"
      ]
     },
     "metadata": {
      "needs_background": "light"
     },
     "output_type": "display_data"
    },
    {
     "data": {
      "image/png": "[encoded data removed]",
      "text/plain": [
       "<Figure size 432x288 with 1 Axes>"
      ]
     },
     "metadata": {
      "needs_background": "light"
     },
     "output_type": "display_data"
    },
    {
     "data": {
      "image/png": "[encoded data removed]",
      "text/plain": [
       "<Figure size 432x288 with 1 Axes>"
      ]
     },
     "metadata": {
      "needs_background": "light"
     },
     "output_type": "display_data"
    }
   ],
   "source": [
    "stop_cause = all_years[\"stop_cause\"].value_counts().to_frame()\n",
    "stop_plot = stop_cause.plot(kind = \"bar\", title = \"Traffic Stops by Stop Cause\")\n",
    "stop_plot.set_xlabel('reasons')\n",
    "stop_plot.set_ylabel('count')\n",
    "\n",
    "division = all_years[\"division\"].value_counts().to_frame()\n",
    "d = division.plot(kind = \"bar\", title = \"Traffic Stops by Stop Location\")\n",
    "d.set_xlabel('divisions')\n",
    "d.set_ylabel('count')\n",
    "\n",
    "race = all_years[\"main_race\"].value_counts().to_frame()\n",
    "r = race.plot(kind = \"bar\", title = \"Traffic Stops by Subject Race\")\n",
    "r.set_xlabel('races')\n",
    "r.set_ylabel('counts')\n",
    "\n",
    "sex = all_years['subject_sex'].value_counts().to_frame()\n",
    "s = sex.plot(kind= 'bar', title = 'Traffic Stops by Subject Sex')\n",
    "s.set_xlabel('sexs')\n",
    "s.set_ylabel('counts')"
   ]
  },
  {
   "cell_type": "code",
   "execution_count": 22,
   "metadata": {},
   "outputs": [
    {
     "data": {
      "image/png": "[encoded data removed]",
      "text/plain": [
       "<Figure size 432x288 with 1 Axes>"
      ]
     },
     "metadata": {
      "needs_background": "light"
     },
     "output_type": "display_data"
    },
    {
     "data": {
      "image/png": "[encoded data removed]",
      "text/plain": [
       "<Figure size 432x288 with 1 Axes>"
      ]
     },
     "metadata": {
      "needs_background": "light"
     },
     "output_type": "display_data"
    },
    {
     "data": {
      "image/png": "[encoded data removed]",
      "text/plain": [
       "<Figure size 432x288 with 1 Axes>"
      ]
     },
     "metadata": {
      "needs_background": "light"
     },
     "output_type": "display_data"
    }
   ],
   "source": [
    "month = (all_years[\"month\"].groupby(all_years[\"month\"]).count()).plot(kind=\"bar\", title = \"Traffic Stops by Stop Month\")\n",
    "plt.ylabel('count')\n",
    "plt.show()\n",
    "day = (all_years[\"day\"].groupby(all_years[\"day\"]).count()).plot(kind=\"bar\", title = \"Traffic Stops by Stop Day\")\n",
    "plt.ylabel('count')\n",
    "plt.show()\n",
    "age = (all_years[\"subject_age\"].groupby(all_years[\"subject_age\"]).count()).plot(kind=\"bar\", title = \"Traffic Stops by Subject Age\")\n",
    "plt.ylabel('count')\n",
    "plt.show()"
   ]
  },
  {
   "cell_type": "markdown",
   "metadata": {},
   "source": [
    "- Examining our results above, we see that the graphs for Traffic Stops by Stop Day and Traffic Stops by Stop Month are relatively uniform so it doesn't seem as though they should be further analyzed. \n",
    "- Taking a look at the Traffic Stops by Stop Cause graph, we see that the causes are only due to moving violations and equipment violations. These are logical and also don't require further analysis.  \n",
    "- For the graph on Subject Race, we can see that the subject race which is pulled over most often is white, hispanic, and then black. At first glance, there is a skewed, unimodal distribution with whites subjected to traffic stops at higher rates than all other demographics, police officers are more sensitive to white individuals. Before we jump to any conclusions, we should first take a look at the population's demographic makeup.\n",
    "- For the histogram on subject age, we can easily see that there is a skewed distribution with young people being pulled over at a much higher rate than their older counterparts. It would be interesting to dip into this data further and really look to see if there is any greater relationship.\n",
    "\n"
   ]
  },
  {
   "cell_type": "code",
   "execution_count": 23,
   "metadata": {},
   "outputs": [
    {
     "data": {
      "text/html": [
       "<div>\n",
       "<style scoped>\n",
       "    .dataframe tbody tr th:only-of-type {\n",
       "        vertical-align: middle;\n",
       "    }\n",
       "\n",
       "    .dataframe tbody tr th {\n",
       "        vertical-align: top;\n",
       "    }\n",
       "\n",
       "    .dataframe thead th {\n",
       "        text-align: right;\n",
       "    }\n",
       "</style>\n",
       "<table border=\"1\" class=\"dataframe\">\n",
       "  <thead>\n",
       "    <tr style=\"text-align: right;\">\n",
       "      <th></th>\n",
       "      <th>subject_sex</th>\n",
       "      <th>subject_age</th>\n",
       "      <th>division</th>\n",
       "      <th>main_race</th>\n",
       "    </tr>\n",
       "  </thead>\n",
       "  <tbody>\n",
       "    <tr>\n",
       "      <th>0</th>\n",
       "      <td>M</td>\n",
       "      <td>24</td>\n",
       "      <td>Northern</td>\n",
       "      <td>White</td>\n",
       "    </tr>\n",
       "    <tr>\n",
       "      <th>1</th>\n",
       "      <td>M</td>\n",
       "      <td>42</td>\n",
       "      <td>Eastern</td>\n",
       "      <td>White</td>\n",
       "    </tr>\n",
       "    <tr>\n",
       "      <th>2</th>\n",
       "      <td>M</td>\n",
       "      <td>29</td>\n",
       "      <td>Eastern</td>\n",
       "      <td>Asian</td>\n",
       "    </tr>\n",
       "    <tr>\n",
       "      <th>3</th>\n",
       "      <td>M</td>\n",
       "      <td>23</td>\n",
       "      <td>Western</td>\n",
       "      <td>White</td>\n",
       "    </tr>\n",
       "    <tr>\n",
       "      <th>4</th>\n",
       "      <td>M</td>\n",
       "      <td>35</td>\n",
       "      <td>NorthWestern</td>\n",
       "      <td>Hispanic</td>\n",
       "    </tr>\n",
       "  </tbody>\n",
       "</table>\n",
       "</div>"
      ],
      "text/plain": [
       "  subject_sex subject_age      division main_race\n",
       "0           M          24      Northern     White\n",
       "1           M          42       Eastern     White\n",
       "2           M          29       Eastern     Asian\n",
       "3           M          23       Western     White\n",
       "4           M          35  NorthWestern  Hispanic"
      ]
     },
     "execution_count": 23,
     "metadata": {},
     "output_type": "execute_result"
    }
   ],
   "source": [
    "clean_df = all_years.drop(columns=['stop_id','stop_cause','service_area','sd_resident','arrested','searched','race','day','month','time_stop','date_stop','subject_race'])\n",
    "clean_df.head()"
   ]
  },
  {
   "cell_type": "code",
   "execution_count": 24,
   "metadata": {},
   "outputs": [
    {
     "data": {
      "image/png": "[encoded data removed]",
      "text/plain": [
       "<Figure size 432x432 with 1 Axes>"
      ]
     },
     "metadata": {},
     "output_type": "display_data"
    }
   ],
   "source": [
    "race_percentage = {\"White\": 45.2, \"Asian\": 12.6, \"Black\": 5.5, \"Hispanic\": 34.0, \"Other\": 2.7}\n",
    "race_df = pd.DataFrame({'percentage': [45.2, 12.6, 5.5, 34.0, 2.7]},\n",
    "                  index=[\"White\",\"Asian\" ,\"Black\", \"Hispanic\", \"Other\"])\n",
    "race_plot = race_df.plot.pie(y='percentage', figsize=(6, 6),title=\"San Diego Demographic breakdown\")"
   ]
  },
  {
   "cell_type": "markdown",
   "metadata": {},
   "source": [
    "The pie chart above provides a visualization of the makeup of San Diego county. We can see that the largest demographic consists of white individuals which account for about half of the population. What's interesting is that Black people only contribute to about 5% of the population, and yet have been pulled over a little more than 50,000 times in the last four years. Let's perform some further analysis by normalizing the data.  "
   ]
  },
  {
   "cell_type": "markdown",
   "metadata": {},
   "source": [
    "### Analysis"
   ]
  },
  {
   "cell_type": "markdown",
   "metadata": {},
   "source": [
    "- what analytical approaches you are going to do (ie.expected vs actual and what anaytical approaches you are going to use)"
   ]
  },
  {
   "cell_type": "code",
   "execution_count": 25,
   "metadata": {},
   "outputs": [],
   "source": [
    "def normalize(makeup):\n",
    "    total = len(all_years)\n",
    "    return int((makeup/100) * total)"
   ]
  },
  {
   "cell_type": "code",
   "execution_count": 26,
   "metadata": {
    "scrolled": true
   },
   "outputs": [
    {
     "data": {
      "text/html": [
       "<div>\n",
       "<style scoped>\n",
       "    .dataframe tbody tr th:only-of-type {\n",
       "        vertical-align: middle;\n",
       "    }\n",
       "\n",
       "    .dataframe tbody tr th {\n",
       "        vertical-align: top;\n",
       "    }\n",
       "\n",
       "    .dataframe thead th {\n",
       "        text-align: right;\n",
       "    }\n",
       "</style>\n",
       "<table border=\"1\" class=\"dataframe\">\n",
       "  <thead>\n",
       "    <tr style=\"text-align: right;\">\n",
       "      <th></th>\n",
       "      <th>actual</th>\n",
       "      <th>makeup</th>\n",
       "      <th>expected</th>\n",
       "    </tr>\n",
       "  </thead>\n",
       "  <tbody>\n",
       "    <tr>\n",
       "      <th>White</th>\n",
       "      <td>195324</td>\n",
       "      <td>45.2</td>\n",
       "      <td>208956</td>\n",
       "    </tr>\n",
       "    <tr>\n",
       "      <th>Hispanic</th>\n",
       "      <td>141188</td>\n",
       "      <td>34.0</td>\n",
       "      <td>157179</td>\n",
       "    </tr>\n",
       "    <tr>\n",
       "      <th>Black</th>\n",
       "      <td>51564</td>\n",
       "      <td>5.5</td>\n",
       "      <td>25426</td>\n",
       "    </tr>\n",
       "    <tr>\n",
       "      <th>Other</th>\n",
       "      <td>38595</td>\n",
       "      <td>2.7</td>\n",
       "      <td>12481</td>\n",
       "    </tr>\n",
       "    <tr>\n",
       "      <th>Asian</th>\n",
       "      <td>35623</td>\n",
       "      <td>12.6</td>\n",
       "      <td>58249</td>\n",
       "    </tr>\n",
       "  </tbody>\n",
       "</table>\n",
       "</div>"
      ],
      "text/plain": [
       "          actual  makeup  expected\n",
       "White     195324    45.2    208956\n",
       "Hispanic  141188    34.0    157179\n",
       "Black      51564     5.5     25426\n",
       "Other      38595     2.7     12481\n",
       "Asian      35623    12.6     58249"
      ]
     },
     "execution_count": 26,
     "metadata": {},
     "output_type": "execute_result"
    }
   ],
   "source": [
    "total = len(all_years)\n",
    "temp = []\n",
    "for i in race_percentage:\n",
    "    temp.append(race_percentage[i])\n",
    "race[\"makeup\"] = race.index\n",
    "race[\"makeup\"].replace({\"White\": race_percentage[\"White\"], \"Hispanic\": race_percentage[\"Hispanic\"], \"Other\": race_percentage[\"Other\"],\"Asian\": race_percentage[\"Asian\"],\"Black\": race_percentage[\"Black\"]}, inplace=True)\n",
    "\n",
    "race[\"expected\"] = race[\"makeup\"].apply(normalize)\n",
    "race.rename(columns={\"main_race\":\"actual\"}, inplace=True)\n",
    "race"
   ]
  },
  {
   "cell_type": "code",
   "execution_count": 27,
   "metadata": {},
   "outputs": [
    {
     "data": {
      "text/plain": [
       "Text(0, 0.5, 'counts')"
      ]
     },
     "execution_count": 27,
     "metadata": {},
     "output_type": "execute_result"
    },
    {
     "data": {
      "image/png": "[encoded data removed]",
      "text/plain": [
       "<Figure size 432x288 with 1 Axes>"
      ]
     },
     "metadata": {
      "needs_background": "light"
     },
     "output_type": "display_data"
    }
   ],
   "source": [
    "r = race[[\"actual\", \"expected\"]].plot(kind = \"bar\", title = \"Expected V.S Actual Traffic Stops by Race\")\n",
    "r.set_xlabel('races')\n",
    "r.set_ylabel('counts')"
   ]
  },
  {
   "cell_type": "markdown",
   "metadata": {},
   "source": [
    "The expected values for White and Hispanic individuals are quite similar to their actual values while Black, Other and Asians are quite far from their actual scores. In order to further analyze the data in a quantitative manner, let's perfrom a chi-squared test to check for significance. "
   ]
  },
  {
   "cell_type": "code",
   "execution_count": 28,
   "metadata": {},
   "outputs": [
    {
     "data": {
      "text/plain": [
       "Power_divergenceResult(statistic=92813.2348783202, pvalue=0.0)"
      ]
     },
     "execution_count": 28,
     "metadata": {},
     "output_type": "execute_result"
    }
   ],
   "source": [
    "#chi squared test T\n",
    "stats.chisquare(race.actual.values, race.expected.values)"
   ]
  },
  {
   "cell_type": "markdown",
   "metadata": {},
   "source": [
    "This is below 0.01 and shows that it is statistically significant. This means there’s a very low chance that we’d see this result if the police were pulling over subjects evenly across all races. From the chi square test we can see that race plays a role in who the police pulls over for traffic stops. This aligns with previous findings that found that the San Diego police department were being discriminatory. We will also look at categories such as sex and age. From the plots drawn above it seems like males are getting pulled over at a disproportionate rate then females and that younger people are being pulled over a lot more than older people.\n"
   ]
  },
  {
   "cell_type": "code",
   "execution_count": 29,
   "metadata": {},
   "outputs": [],
   "source": [
    "def grouped_age(age):\n",
    "    if age < 35:\n",
    "        age = 'young'\n",
    "    elif age < 55:\n",
    "        age = 'middle'\n",
    "    else:\n",
    "        age = 'old'\n",
    "    return age"
   ]
  },
  {
   "cell_type": "code",
   "execution_count": 30,
   "metadata": {},
   "outputs": [],
   "source": [
    "clean_df = clean_df.dropna()\n",
    "clean_df['subject_age'] = clean_df['subject_age'].astype(int)\n",
    "clean_df[\"grouped_age\"] = clean_df['subject_age'].apply(grouped_age)\n"
   ]
  },
  {
   "cell_type": "code",
   "execution_count": 31,
   "metadata": {},
   "outputs": [],
   "source": [
    "young = (7+9+17)/77*100\n",
    "middle = (16+12+4)/77*100\n",
    "old = (3+5+4+1)/77*100\n",
    "len_young = len(clean_df[clean_df['grouped_age']=='young'])\n",
    "len_middle = len(clean_df[clean_df['grouped_age']=='middle'])\n",
    "len_old = len(clean_df[clean_df['grouped_age']=='old'])"
   ]
  },
  {
   "cell_type": "code",
   "execution_count": 32,
   "metadata": {},
   "outputs": [
    {
     "data": {
      "text/plain": [
       "Text(0, 0.5, 'count')"
      ]
     },
     "execution_count": 32,
     "metadata": {},
     "output_type": "execute_result"
    },
    {
     "data": {
      "image/png": "[encoded data removed]",
      "text/plain": [
       "<Figure size 432x432 with 1 Axes>"
      ]
     },
     "metadata": {
      "needs_background": "light"
     },
     "output_type": "display_data"
    }
   ],
   "source": [
    "##### age_percentage = {'young':young, \"middle\":middle, 'old':old}\n",
    "age_df = pd.DataFrame({'percentage': [young,middle,old]},\n",
    "                  index=['Young','Middle','Old'])\n",
    "age_plot = age_df.plot.bar(y='percentage', figsize=(6, 6),title=\"San Diego Age by Percent\",legend=False)\n",
    "for p in age_plot.patches:\n",
    "    age_plot.annotate(str(p.get_height()), xy=(p.get_x(), p.get_height()))\n",
    "age_plot.set_xlabel('ages')\n",
    "age_plot.set_ylabel('count')"
   ]
  },
  {
   "cell_type": "markdown",
   "metadata": {},
   "source": [
    "This shows the young and middle aged people are pulled over much more than older people in San Diego. Note that the young age group is composed of people aged 16 to 34. Middle aged runs from 35 to 54, and the old age group is 55 and over."
   ]
  },
  {
   "cell_type": "code",
   "execution_count": 33,
   "metadata": {},
   "outputs": [
    {
     "data": {
      "text/html": [
       "<div>\n",
       "<style scoped>\n",
       "    .dataframe tbody tr th:only-of-type {\n",
       "        vertical-align: middle;\n",
       "    }\n",
       "\n",
       "    .dataframe tbody tr th {\n",
       "        vertical-align: top;\n",
       "    }\n",
       "\n",
       "    .dataframe thead th {\n",
       "        text-align: right;\n",
       "    }\n",
       "</style>\n",
       "<table border=\"1\" class=\"dataframe\">\n",
       "  <thead>\n",
       "    <tr style=\"text-align: right;\">\n",
       "      <th></th>\n",
       "      <th>percentage</th>\n",
       "      <th>actual</th>\n",
       "      <th>makeup</th>\n",
       "      <th>expected</th>\n",
       "    </tr>\n",
       "  </thead>\n",
       "  <tbody>\n",
       "    <tr>\n",
       "      <th>Young</th>\n",
       "      <td>42.857143</td>\n",
       "      <td>220719</td>\n",
       "      <td>42.85</td>\n",
       "      <td>198092</td>\n",
       "    </tr>\n",
       "    <tr>\n",
       "      <th>Middle</th>\n",
       "      <td>41.558442</td>\n",
       "      <td>152165</td>\n",
       "      <td>41.55</td>\n",
       "      <td>192083</td>\n",
       "    </tr>\n",
       "    <tr>\n",
       "      <th>Old</th>\n",
       "      <td>16.883117</td>\n",
       "      <td>60346</td>\n",
       "      <td>16.80</td>\n",
       "      <td>77665</td>\n",
       "    </tr>\n",
       "  </tbody>\n",
       "</table>\n",
       "</div>"
      ],
      "text/plain": [
       "        percentage  actual  makeup  expected\n",
       "Young    42.857143  220719   42.85    198092\n",
       "Middle   41.558442  152165   41.55    192083\n",
       "Old      16.883117   60346   16.80     77665"
      ]
     },
     "execution_count": 33,
     "metadata": {},
     "output_type": "execute_result"
    }
   ],
   "source": [
    "total = len(all_years)\n",
    "temp = []\n",
    "age_percentage = {'Young':young, 'Middle':middle, \"Old\":old}\n",
    "for i in age_percentage:\n",
    "    temp.append(age_percentage[i])\n",
    "age_df['actual'] = [len_young,len_middle,len_old]\n",
    "age_df[\"makeup\"] = age_df.index\n",
    "age_df['makeup'] = [42.85,41.55,16.8]\n",
    "age_df[\"expected\"] = age_df[\"makeup\"].apply(normalize)\n",
    "#age_df.rename(columns={\"grouped_age\":\"actual\"}, inplace=True)\n",
    "age_df"
   ]
  },
  {
   "cell_type": "code",
   "execution_count": 34,
   "metadata": {},
   "outputs": [
    {
     "data": {
      "text/plain": [
       "Text(0, 0.5, 'count')"
      ]
     },
     "execution_count": 34,
     "metadata": {},
     "output_type": "execute_result"
    },
    {
     "data": {
      "image/png": "[encoded data removed]",
      "text/plain": [
       "<Figure size 432x288 with 1 Axes>"
      ]
     },
     "metadata": {
      "needs_background": "light"
     },
     "output_type": "display_data"
    }
   ],
   "source": [
    "age = age_df[[\"actual\", \"expected\"]].plot(kind = \"bar\", title = \"Expected V.S Actual Traffic Stops by Age\")\n",
    "age.set_xlabel('ages')\n",
    "age.set_ylabel('count')"
   ]
  },
  {
   "cell_type": "code",
   "execution_count": 35,
   "metadata": {},
   "outputs": [
    {
     "data": {
      "text/plain": [
       "Power_divergenceResult(statistic=14742.24914815308, pvalue=0.0)"
      ]
     },
     "execution_count": 35,
     "metadata": {},
     "output_type": "execute_result"
    }
   ],
   "source": [
    "stats.chisquare(age_df.actual.values, age_df.expected.values)"
   ]
  },
  {
   "cell_type": "markdown",
   "metadata": {},
   "source": [
    "This is below 0.01 and shows that it is statistically significant. This means there’s a very low chance that we’d see this result if the police were pulling over subjects evenly across all ages. From the chi square test we can see that age plays a role in who the police pulls over for traffic stops. This aligns with popular belief that younger drivers are more reckless and as a result get pulled over more. From this we can conclues that younger people are more likely to get pulled over than people who are older."
   ]
  },
  {
   "cell_type": "code",
   "execution_count": 36,
   "metadata": {},
   "outputs": [
    {
     "data": {
      "text/plain": [
       "Text(0, 0.5, 'count')"
      ]
     },
     "execution_count": 36,
     "metadata": {},
     "output_type": "execute_result"
    },
    {
     "data": {
      "image/png": "[encoded data removed]",
      "text/plain": [
       "<Figure size 432x432 with 1 Axes>"
      ]
     },
     "metadata": {
      "needs_background": "light"
     },
     "output_type": "display_data"
    }
   ],
   "source": [
    "#plot San Diego gender proportion\n",
    "Male = 50.42\n",
    "Female = 49.58\n",
    "sex_percentage = {'Male':50.42, \"Female\":49.58}\n",
    "sex_df = pd.DataFrame({'percentage': [50.42,49.58]},\n",
    "                  index=['Male','Female'])\n",
    "sex_plot = sex_df.plot.bar(y='percentage', figsize=(6, 6),title=\"San Diego Gender by Percent\",legend=False)\n",
    "for p in sex_plot.patches:\n",
    "    sex_plot.annotate(str(p.get_height()), xy=(p.get_x(), p.get_height()))\n",
    "sex_plot.set_xlabel('genders')\n",
    "sex_plot.set_ylabel('count')"
   ]
  },
  {
   "cell_type": "code",
   "execution_count": 37,
   "metadata": {},
   "outputs": [],
   "source": [
    "#Create df of actual and expected counts of pull overs for sex\n",
    "total = len(all_years)\n",
    "temp = []\n",
    "for i in sex_percentage:\n",
    "    temp.append(sex_percentage[i])\n",
    "sex[\"makeup\"] = sex.index\n",
    "sex[\"makeup\"].replace({\"M\": 50.42, \"F\": 49.58, 'X':0.0}, inplace=True)\n",
    "sex[\"expected\"] = sex[\"makeup\"].apply(normalize)\n",
    "sex.rename(columns={\"subject_sex\":\"actual\"}, inplace=True)"
   ]
  },
  {
   "cell_type": "code",
   "execution_count": 38,
   "metadata": {},
   "outputs": [
    {
     "data": {
      "text/plain": [
       "Text(0, 0.5, 'counts')"
      ]
     },
     "execution_count": 38,
     "metadata": {},
     "output_type": "execute_result"
    },
    {
     "data": {
      "image/png": "[encoded data removed]",
      "text/plain": [
       "<Figure size 432x288 with 1 Axes>"
      ]
     },
     "metadata": {
      "needs_background": "light"
     },
     "output_type": "display_data"
    }
   ],
   "source": [
    "#plot expected vs actual for sex\n",
    "ax = sex[[\"actual\", \"expected\"]].plot(kind = \"bar\", title = \"Expected V.S Actual Traffic Stops by Sex\")\n",
    "ax.set_xlabel(\"genders\")\n",
    "ax.set_ylabel(\"counts\")"
   ]
  },
  {
   "cell_type": "code",
   "execution_count": 40,
   "metadata": {},
   "outputs": [
    {
     "data": {
      "text/plain": [
       "Power_divergenceResult(statistic=inf, pvalue=0.0)"
      ]
     },
     "execution_count": 40,
     "metadata": {},
     "output_type": "execute_result"
    }
   ],
   "source": [
    "#chi square test for sex\n",
    "stats.chisquare(sex.actual.values, sex.expected.values)"
   ]
  },
  {
   "cell_type": "markdown",
   "metadata": {},
   "source": [
    "This is below 0.01 and shows that it is statistically significant. This means there’s a very low chance that we’d see this result if the police were pulling over subjects evenly across all genders. From the chi square test we can see that gender plays a role in who the police pulls over for traffic stops. This aligns with popular belief that males are more aggressive drivers and as a result are more likely to get pulled over.  "
   ]
  },
  {
   "cell_type": "markdown",
   "metadata": {},
   "source": [
    "#### Correlation"
   ]
  },
  {
   "cell_type": "code",
   "execution_count": 41,
   "metadata": {},
   "outputs": [],
   "source": [
    "#Drop na for age so we can graph\n",
    "dropnans = all_years.dropna()\n",
    "h_W = dropnans[dropnans['main_race'] == 'White']['subject_age'].values\n",
    "h_B = dropnans[dropnans['main_race'] == 'Black']['subject_age'].values"
   ]
  },
  {
   "cell_type": "code",
   "execution_count": 42,
   "metadata": {},
   "outputs": [],
   "source": [
    "#Do the normal test for white and black race\n",
    "st_W = normaltest(h_W)[0]\n",
    "p_W = normaltest(h_W)[1]\n",
    "st_B = normaltest(h_B)[0]\n",
    "p_B = normaltest(h_B)[1]"
   ]
  },
  {
   "cell_type": "code",
   "execution_count": 43,
   "metadata": {},
   "outputs": [],
   "source": [
    "#Drop all of the null values so we can create a correlation matrix\n",
    "clean_df = clean_df.dropna()"
   ]
  },
  {
   "cell_type": "code",
   "execution_count": 44,
   "metadata": {},
   "outputs": [],
   "source": [
    "#Hot encode the gender category \n",
    "onehot = clean_df.replace('M',1)\n",
    "onehot = onehot.replace('F',0)"
   ]
  },
  {
   "cell_type": "code",
   "execution_count": 45,
   "metadata": {},
   "outputs": [],
   "source": [
    "#Hot encode all of the string categories so we can create a correlation matrix\n",
    "le_division = LabelEncoder()\n",
    "le_main_race = LabelEncoder()\n",
    "onehot['division_encoded'] = le_division.fit_transform(onehot.division)\n",
    "onehot['main_race_encoded'] = le_main_race.fit_transform(onehot.main_race)"
   ]
  },
  {
   "cell_type": "code",
   "execution_count": 46,
   "metadata": {},
   "outputs": [],
   "source": [
    "#Drop all columns we are not investigating \n",
    "onehot = onehot.drop(columns=['main_race','division'])"
   ]
  },
  {
   "cell_type": "code",
   "execution_count": 47,
   "metadata": {},
   "outputs": [
    {
     "data": {
      "text/html": [
       "<div>\n",
       "<style scoped>\n",
       "    .dataframe tbody tr th:only-of-type {\n",
       "        vertical-align: middle;\n",
       "    }\n",
       "\n",
       "    .dataframe tbody tr th {\n",
       "        vertical-align: top;\n",
       "    }\n",
       "\n",
       "    .dataframe thead th {\n",
       "        text-align: right;\n",
       "    }\n",
       "</style>\n",
       "<table border=\"1\" class=\"dataframe\">\n",
       "  <thead>\n",
       "    <tr style=\"text-align: right;\">\n",
       "      <th></th>\n",
       "      <th>subject_age</th>\n",
       "      <th>division_encoded</th>\n",
       "      <th>main_race_encoded</th>\n",
       "    </tr>\n",
       "  </thead>\n",
       "  <tbody>\n",
       "    <tr>\n",
       "      <th>subject_age</th>\n",
       "      <td>1.000000</td>\n",
       "      <td>0.030001</td>\n",
       "      <td>0.076579</td>\n",
       "    </tr>\n",
       "    <tr>\n",
       "      <th>division_encoded</th>\n",
       "      <td>0.030001</td>\n",
       "      <td>1.000000</td>\n",
       "      <td>-0.024054</td>\n",
       "    </tr>\n",
       "    <tr>\n",
       "      <th>main_race_encoded</th>\n",
       "      <td>0.076579</td>\n",
       "      <td>-0.024054</td>\n",
       "      <td>1.000000</td>\n",
       "    </tr>\n",
       "  </tbody>\n",
       "</table>\n",
       "</div>"
      ],
      "text/plain": [
       "                   subject_age  division_encoded  main_race_encoded\n",
       "subject_age           1.000000          0.030001           0.076579\n",
       "division_encoded      0.030001          1.000000          -0.024054\n",
       "main_race_encoded     0.076579         -0.024054           1.000000"
      ]
     },
     "execution_count": 47,
     "metadata": {},
     "output_type": "execute_result"
    }
   ],
   "source": [
    "#Create a correlation matrix\n",
    "onehot.corr()"
   ]
  },
  {
   "cell_type": "code",
   "execution_count": 48,
   "metadata": {},
   "outputs": [
    {
     "data": {
      "image/png": "[encoded data removed]",
      "text/plain": [
       "<Figure size 288x288 with 1 Axes>"
      ]
     },
     "metadata": {
      "needs_background": "light"
     },
     "output_type": "display_data"
    }
   ],
   "source": [
    "#plot the correlation matrix\n",
    "plt.matshow(onehot.corr())\n",
    "plt.title('Correlation Matrix for factors')\n",
    "plt.ylabel('race    sex      age')\n",
    "plt.xlabel('age     sex     race')\n",
    "plt.show()"
   ]
  },
  {
   "cell_type": "markdown",
   "metadata": {},
   "source": [
    "The matrix plot shows the correlations between each factors. It shows the correlation between sex, age, and race. From the chart and the picture above we can highly conclude that the variables are not correlated with one another."
   ]
  },
  {
   "cell_type": "markdown",
   "metadata": {},
   "source": [
    "#### Building Logit Model"
   ]
  },
  {
   "cell_type": "markdown",
   "metadata": {},
   "source": [
    "In order to use Logistic Regression on our data set we must first do post-stratification. Post-statification is \"a method for adjusting the sampling weights, usually to account for underrep- resented groups in the population\" (Wiki). This is because our data set only contains data of people that are pulled over. We had a missing data problem where it’s missing not at random. As of this point we are only investigating three variables race, sex, and age. To do post-stratification we create a not pulled over dataset containing data that is representative of the actual population of San Diego. We assign this data to not pulled over and then concat this dataset to our original dataset.  "
   ]
  },
  {
   "cell_type": "code",
   "execution_count": 49,
   "metadata": {},
   "outputs": [],
   "source": [
    "#Function to create race datafame\n",
    "def pickrace():\n",
    "    value = ['White','Asian','Black','Hispanic','Other']\n",
    "    probabilites = [.452,.126,.055,.34,.027]\n",
    "    race = np.random.choice(value,433230,p=probabilites)\n",
    "    return race"
   ]
  },
  {
   "cell_type": "code",
   "execution_count": 50,
   "metadata": {},
   "outputs": [],
   "source": [
    "#Function to create sex datafame\n",
    "def picksex():\n",
    "    {'Male':50.42, \"Female\":49.58}\n",
    "    value = ['M','F']\n",
    "    probabilites = [.5042,.4958]\n",
    "    sex = np.random.choice(value,433230,p=probabilites)\n",
    "    return sex"
   ]
  },
  {
   "cell_type": "code",
   "execution_count": 51,
   "metadata": {},
   "outputs": [],
   "source": [
    "#Function to create age datafame\n",
    "def pickage():\n",
    "    value = ['young','middle','old']\n",
    "    probabilities = [.425,.413,.162]\n",
    "    age = np.random.choice(value,433230,p=probabilities)\n",
    "    return age"
   ]
  },
  {
   "cell_type": "code",
   "execution_count": 52,
   "metadata": {},
   "outputs": [],
   "source": [
    "race = pickrace()\n",
    "sex = picksex()\n",
    "age = pickage()"
   ]
  },
  {
   "cell_type": "code",
   "execution_count": 53,
   "metadata": {},
   "outputs": [],
   "source": [
    "race = pd.DataFrame(race,columns=['main_race'])\n",
    "sex = pd.DataFrame(sex,columns=['subject_sex'])\n",
    "age = pd.DataFrame(age,columns=['grouped_age'])"
   ]
  },
  {
   "cell_type": "code",
   "execution_count": 54,
   "metadata": {},
   "outputs": [],
   "source": [
    "#Create not pulled over dataframe\n",
    "nulldf = pd.concat([sex,race,age],axis=1)\n",
    "nulldf['pull_over'] = 0"
   ]
  },
  {
   "cell_type": "code",
   "execution_count": 55,
   "metadata": {},
   "outputs": [],
   "source": [
    "clean_df['pull_over'] = 1\n",
    "cleandf = clean_df.drop(columns=['subject_age','division'])"
   ]
  },
  {
   "cell_type": "code",
   "execution_count": 56,
   "metadata": {},
   "outputs": [
    {
     "data": {
      "text/html": [
       "<div>\n",
       "<style scoped>\n",
       "    .dataframe tbody tr th:only-of-type {\n",
       "        vertical-align: middle;\n",
       "    }\n",
       "\n",
       "    .dataframe tbody tr th {\n",
       "        vertical-align: top;\n",
       "    }\n",
       "\n",
       "    .dataframe thead th {\n",
       "        text-align: right;\n",
       "    }\n",
       "</style>\n",
       "<table border=\"1\" class=\"dataframe\">\n",
       "  <thead>\n",
       "    <tr style=\"text-align: right;\">\n",
       "      <th></th>\n",
       "      <th>subject_sex</th>\n",
       "      <th>main_race</th>\n",
       "      <th>grouped_age</th>\n",
       "      <th>pull_over</th>\n",
       "    </tr>\n",
       "  </thead>\n",
       "  <tbody>\n",
       "    <tr>\n",
       "      <th>0</th>\n",
       "      <td>M</td>\n",
       "      <td>White</td>\n",
       "      <td>young</td>\n",
       "      <td>1</td>\n",
       "    </tr>\n",
       "    <tr>\n",
       "      <th>1</th>\n",
       "      <td>M</td>\n",
       "      <td>White</td>\n",
       "      <td>middle</td>\n",
       "      <td>1</td>\n",
       "    </tr>\n",
       "    <tr>\n",
       "      <th>2</th>\n",
       "      <td>M</td>\n",
       "      <td>Asian</td>\n",
       "      <td>young</td>\n",
       "      <td>1</td>\n",
       "    </tr>\n",
       "    <tr>\n",
       "      <th>3</th>\n",
       "      <td>M</td>\n",
       "      <td>White</td>\n",
       "      <td>young</td>\n",
       "      <td>1</td>\n",
       "    </tr>\n",
       "    <tr>\n",
       "      <th>4</th>\n",
       "      <td>M</td>\n",
       "      <td>Hispanic</td>\n",
       "      <td>middle</td>\n",
       "      <td>1</td>\n",
       "    </tr>\n",
       "    <tr>\n",
       "      <th>...</th>\n",
       "      <td>...</td>\n",
       "      <td>...</td>\n",
       "      <td>...</td>\n",
       "      <td>...</td>\n",
       "    </tr>\n",
       "    <tr>\n",
       "      <th>433225</th>\n",
       "      <td>M</td>\n",
       "      <td>Hispanic</td>\n",
       "      <td>young</td>\n",
       "      <td>0</td>\n",
       "    </tr>\n",
       "    <tr>\n",
       "      <th>433226</th>\n",
       "      <td>M</td>\n",
       "      <td>White</td>\n",
       "      <td>middle</td>\n",
       "      <td>0</td>\n",
       "    </tr>\n",
       "    <tr>\n",
       "      <th>433227</th>\n",
       "      <td>F</td>\n",
       "      <td>White</td>\n",
       "      <td>middle</td>\n",
       "      <td>0</td>\n",
       "    </tr>\n",
       "    <tr>\n",
       "      <th>433228</th>\n",
       "      <td>F</td>\n",
       "      <td>White</td>\n",
       "      <td>young</td>\n",
       "      <td>0</td>\n",
       "    </tr>\n",
       "    <tr>\n",
       "      <th>433229</th>\n",
       "      <td>M</td>\n",
       "      <td>Hispanic</td>\n",
       "      <td>middle</td>\n",
       "      <td>0</td>\n",
       "    </tr>\n",
       "  </tbody>\n",
       "</table>\n",
       "<p>866460 rows × 4 columns</p>\n",
       "</div>"
      ],
      "text/plain": [
       "       subject_sex main_race grouped_age  pull_over\n",
       "0                M     White       young          1\n",
       "1                M     White      middle          1\n",
       "2                M     Asian       young          1\n",
       "3                M     White       young          1\n",
       "4                M  Hispanic      middle          1\n",
       "...            ...       ...         ...        ...\n",
       "433225           M  Hispanic       young          0\n",
       "433226           M     White      middle          0\n",
       "433227           F     White      middle          0\n",
       "433228           F     White       young          0\n",
       "433229           M  Hispanic      middle          0\n",
       "\n",
       "[866460 rows x 4 columns]"
      ]
     },
     "execution_count": 56,
     "metadata": {},
     "output_type": "execute_result"
    }
   ],
   "source": [
    "#Concat not pulled with original dataframe\n",
    "model_df = pd.concat([cleandf,nulldf], axis=0)\n",
    "model_df"
   ]
  },
  {
   "cell_type": "code",
   "execution_count": 57,
   "metadata": {},
   "outputs": [],
   "source": [
    "cols=['subject_sex','main_race','grouped_age']\n",
    "X=model_df[cols]\n",
    "y=model_df['pull_over']"
   ]
  },
  {
   "cell_type": "code",
   "execution_count": 58,
   "metadata": {},
   "outputs": [
    {
     "data": {
      "text/html": [
       "<div>\n",
       "<style scoped>\n",
       "    .dataframe tbody tr th:only-of-type {\n",
       "        vertical-align: middle;\n",
       "    }\n",
       "\n",
       "    .dataframe tbody tr th {\n",
       "        vertical-align: top;\n",
       "    }\n",
       "\n",
       "    .dataframe thead th {\n",
       "        text-align: right;\n",
       "    }\n",
       "</style>\n",
       "<table border=\"1\" class=\"dataframe\">\n",
       "  <thead>\n",
       "    <tr style=\"text-align: right;\">\n",
       "      <th></th>\n",
       "      <th>pull_over</th>\n",
       "      <th>sex_encoded</th>\n",
       "      <th>main_race_encoded</th>\n",
       "      <th>group_age_encoded</th>\n",
       "    </tr>\n",
       "  </thead>\n",
       "  <tbody>\n",
       "    <tr>\n",
       "      <th>0</th>\n",
       "      <td>1</td>\n",
       "      <td>1</td>\n",
       "      <td>4</td>\n",
       "      <td>2</td>\n",
       "    </tr>\n",
       "    <tr>\n",
       "      <th>1</th>\n",
       "      <td>1</td>\n",
       "      <td>1</td>\n",
       "      <td>4</td>\n",
       "      <td>0</td>\n",
       "    </tr>\n",
       "    <tr>\n",
       "      <th>2</th>\n",
       "      <td>1</td>\n",
       "      <td>1</td>\n",
       "      <td>0</td>\n",
       "      <td>2</td>\n",
       "    </tr>\n",
       "    <tr>\n",
       "      <th>3</th>\n",
       "      <td>1</td>\n",
       "      <td>1</td>\n",
       "      <td>4</td>\n",
       "      <td>2</td>\n",
       "    </tr>\n",
       "    <tr>\n",
       "      <th>4</th>\n",
       "      <td>1</td>\n",
       "      <td>1</td>\n",
       "      <td>2</td>\n",
       "      <td>0</td>\n",
       "    </tr>\n",
       "    <tr>\n",
       "      <th>...</th>\n",
       "      <td>...</td>\n",
       "      <td>...</td>\n",
       "      <td>...</td>\n",
       "      <td>...</td>\n",
       "    </tr>\n",
       "    <tr>\n",
       "      <th>433225</th>\n",
       "      <td>0</td>\n",
       "      <td>1</td>\n",
       "      <td>2</td>\n",
       "      <td>2</td>\n",
       "    </tr>\n",
       "    <tr>\n",
       "      <th>433226</th>\n",
       "      <td>0</td>\n",
       "      <td>1</td>\n",
       "      <td>4</td>\n",
       "      <td>0</td>\n",
       "    </tr>\n",
       "    <tr>\n",
       "      <th>433227</th>\n",
       "      <td>0</td>\n",
       "      <td>0</td>\n",
       "      <td>4</td>\n",
       "      <td>0</td>\n",
       "    </tr>\n",
       "    <tr>\n",
       "      <th>433228</th>\n",
       "      <td>0</td>\n",
       "      <td>0</td>\n",
       "      <td>4</td>\n",
       "      <td>2</td>\n",
       "    </tr>\n",
       "    <tr>\n",
       "      <th>433229</th>\n",
       "      <td>0</td>\n",
       "      <td>1</td>\n",
       "      <td>2</td>\n",
       "      <td>0</td>\n",
       "    </tr>\n",
       "  </tbody>\n",
       "</table>\n",
       "<p>866460 rows × 4 columns</p>\n",
       "</div>"
      ],
      "text/plain": [
       "        pull_over  sex_encoded  main_race_encoded  group_age_encoded\n",
       "0               1            1                  4                  2\n",
       "1               1            1                  4                  0\n",
       "2               1            1                  0                  2\n",
       "3               1            1                  4                  2\n",
       "4               1            1                  2                  0\n",
       "...           ...          ...                ...                ...\n",
       "433225          0            1                  2                  2\n",
       "433226          0            1                  4                  0\n",
       "433227          0            0                  4                  0\n",
       "433228          0            0                  4                  2\n",
       "433229          0            1                  2                  0\n",
       "\n",
       "[866460 rows x 4 columns]"
      ]
     },
     "execution_count": 58,
     "metadata": {},
     "output_type": "execute_result"
    }
   ],
   "source": [
    "#Change data so it can be put into the model. Use onehot encoding to transform categorical data to numerical\n",
    "le_sex = LabelEncoder()\n",
    "le_age = LabelEncoder()\n",
    "le_main_race = LabelEncoder()\n",
    "model_df['sex_encoded'] = le_sex.fit_transform(model_df.subject_sex)\n",
    "model_df['main_race_encoded'] = le_main_race.fit_transform(model_df.main_race)\n",
    "model_df['group_age_encoded'] = le_age.fit_transform(model_df.grouped_age)\n",
    "\n",
    "model_input = model_df.drop(columns=['subject_sex','main_race','grouped_age'])\n",
    "model_input"
   ]
  },
  {
   "cell_type": "markdown",
   "metadata": {},
   "source": [
    "#### Test Train Split"
   ]
  },
  {
   "cell_type": "code",
   "execution_count": 59,
   "metadata": {},
   "outputs": [],
   "source": [
    "#Create a train and test set\n",
    "from sklearn.model_selection import train_test_split\n",
    "X_train, X_test, y_train, y_test = train_test_split(model_input.drop('pull_over',axis=1), \n",
    "                                                    model_input['pull_over'], test_size=0.20, \n",
    "                                                    random_state=101)"
   ]
  },
  {
   "cell_type": "markdown",
   "metadata": {},
   "source": [
    "#### Training and Predicting"
   ]
  },
  {
   "cell_type": "code",
   "execution_count": 61,
   "metadata": {},
   "outputs": [
    {
     "name": "stderr",
     "output_type": "stream",
     "text": [
      "/opt/conda/lib/python3.6/site-packages/sklearn/linear_model/logistic.py:432: FutureWarning: Default solver will be changed to 'lbfgs' in 0.22. Specify a solver to silence this warning.\n",
      "  FutureWarning)\n"
     ]
    }
   ],
   "source": [
    "#Make predictions with our logistic regression model\n",
    "from sklearn.linear_model import LogisticRegression\n",
    "logmodel = LogisticRegression()\n",
    "logmodel.fit(X_train,y_train)\n",
    "predictions = logmodel.predict(X_test)"
   ]
  },
  {
   "cell_type": "code",
   "execution_count": 62,
   "metadata": {},
   "outputs": [
    {
     "name": "stdout",
     "output_type": "stream",
     "text": [
      "              precision    recall  f1-score   support\n",
      "\n",
      "           0       0.58      0.50      0.54     86476\n",
      "           1       0.56      0.65      0.60     86816\n",
      "\n",
      "    accuracy                           0.57    173292\n",
      "   macro avg       0.57      0.57      0.57    173292\n",
      "weighted avg       0.57      0.57      0.57    173292\n",
      "\n"
     ]
    }
   ],
   "source": [
    "#Print result of our logistic model\n",
    "from sklearn.metrics import classification_report\n",
    "print(classification_report(y_test,predictions))"
   ]
  },
  {
   "cell_type": "markdown",
   "metadata": {},
   "source": [
    "From our model we were only able to achieve a 58% accuracy on guessing whether someone was pulled over or not with logistic regression."
   ]
  },
  {
   "cell_type": "code",
   "execution_count": 63,
   "metadata": {},
   "outputs": [
    {
     "name": "stdout",
     "output_type": "stream",
     "text": [
      "Optimization terminated successfully.\n",
      "         Current function value: 0.684786\n",
      "         Iterations 4\n"
     ]
    }
   ],
   "source": [
    "#Create another logisitc regression model with statsmodels to find which variable contributed the most\n",
    "logit = sm.Logit(model_input['pull_over'], model_input[['sex_encoded','main_race_encoded','group_age_encoded']])\n",
    "result = logit.fit()"
   ]
  },
  {
   "cell_type": "code",
   "execution_count": 64,
   "metadata": {},
   "outputs": [
    {
     "name": "stdout",
     "output_type": "stream",
     "text": [
      "                          Results: Logit\n",
      "===================================================================\n",
      "Model:              Logit            Pseudo R-squared: 0.012       \n",
      "Dependent Variable: pull_over        AIC:              1186686.0642\n",
      "Date:               2020-03-19 12:29 BIC:              1186721.0807\n",
      "No. Observations:   866460           Log-Likelihood:   -5.9334e+05 \n",
      "Df Model:           2                LL-Null:          -6.0058e+05 \n",
      "Df Residuals:       866457           LLR p-value:      0.0000      \n",
      "Converged:          1.0000           Scale:            1.0000      \n",
      "No. Iterations:     4.0000                                         \n",
      "-------------------------------------------------------------------\n",
      "                    Coef.  Std.Err.    z     P>|z|   [0.025  0.975]\n",
      "-------------------------------------------------------------------\n",
      "sex_encoded         0.4113   0.0040 103.4797 0.0000  0.4035  0.4191\n",
      "main_race_encoded  -0.0889   0.0011 -79.9005 0.0000 -0.0910 -0.0867\n",
      "group_age_encoded   0.0698   0.0021  32.7274 0.0000  0.0656  0.0740\n",
      "===================================================================\n",
      "\n"
     ]
    }
   ],
   "source": [
    "print(result.summary2())"
   ]
  },
  {
   "cell_type": "markdown",
   "metadata": {},
   "source": [
    "From this summary we are able to see that sex plays the most significant role in whether someone gets pulled over or not"
   ]
  },
  {
   "cell_type": "code",
   "execution_count": 65,
   "metadata": {},
   "outputs": [
    {
     "name": "stdout",
     "output_type": "stream",
     "text": [
      "sex_encoded\n"
     ]
    }
   ],
   "source": [
    "# Print out the corresponded factor of the maximum coefficient in the model result\n",
    "print(result.params.idxmax())"
   ]
  },
  {
   "cell_type": "code",
   "execution_count": 64,
   "metadata": {},
   "outputs": [
    {
     "name": "stdout",
     "output_type": "stream",
     "text": [
      "Optimization terminated successfully.\n",
      "         Current function value: 0.684752\n",
      "         Iterations 4\n",
      "Optimization terminated successfully.\n",
      "         Current function value: 0.684752\n",
      "         Iterations 4\n",
      "Optimization terminated successfully.\n",
      "         Current function value: 0.684752\n",
      "         Iterations 4\n",
      "Optimization terminated successfully.\n",
      "         Current function value: 0.684752\n",
      "         Iterations 4\n",
      "Optimization terminated successfully.\n",
      "         Current function value: 0.684752\n",
      "         Iterations 4\n",
      "Optimization terminated successfully.\n",
      "         Current function value: 0.684752\n",
      "         Iterations 4\n",
      "Optimization terminated successfully.\n",
      "         Current function value: 0.684752\n",
      "         Iterations 4\n",
      "Optimization terminated successfully.\n",
      "         Current function value: 0.684752\n",
      "         Iterations 4\n",
      "Optimization terminated successfully.\n",
      "         Current function value: 0.684752\n",
      "         Iterations 4\n",
      "Optimization terminated successfully.\n",
      "         Current function value: 0.684752\n",
      "         Iterations 4\n",
      "Optimization terminated successfully.\n",
      "         Current function value: 0.684752\n",
      "         Iterations 4\n",
      "Optimization terminated successfully.\n",
      "         Current function value: 0.684752\n",
      "         Iterations 4\n",
      "Optimization terminated successfully.\n",
      "         Current function value: 0.684752\n",
      "         Iterations 4\n",
      "Optimization terminated successfully.\n",
      "         Current function value: 0.684752\n",
      "         Iterations 4\n",
      "Optimization terminated successfully.\n",
      "         Current function value: 0.684752\n",
      "         Iterations 4\n",
      "Optimization terminated successfully.\n",
      "         Current function value: 0.684752\n",
      "         Iterations 4\n",
      "Optimization terminated successfully.\n",
      "         Current function value: 0.684752\n",
      "         Iterations 4\n",
      "Optimization terminated successfully.\n",
      "         Current function value: 0.684752\n",
      "         Iterations 4\n",
      "Optimization terminated successfully.\n",
      "         Current function value: 0.684752\n",
      "         Iterations 4\n",
      "Optimization terminated successfully.\n",
      "         Current function value: 0.684752\n",
      "         Iterations 4\n",
      "Optimization terminated successfully.\n",
      "         Current function value: 0.684752\n",
      "         Iterations 4\n",
      "Optimization terminated successfully.\n",
      "         Current function value: 0.684752\n",
      "         Iterations 4\n",
      "Optimization terminated successfully.\n",
      "         Current function value: 0.684752\n",
      "         Iterations 4\n",
      "Optimization terminated successfully.\n",
      "         Current function value: 0.684752\n",
      "         Iterations 4\n",
      "Optimization terminated successfully.\n",
      "         Current function value: 0.684752\n",
      "         Iterations 4\n",
      "Optimization terminated successfully.\n",
      "         Current function value: 0.684752\n",
      "         Iterations 4\n",
      "Optimization terminated successfully.\n",
      "         Current function value: 0.684752\n",
      "         Iterations 4\n",
      "Optimization terminated successfully.\n",
      "         Current function value: 0.684752\n",
      "         Iterations 4\n",
      "Optimization terminated successfully.\n",
      "         Current function value: 0.684752\n",
      "         Iterations 4\n",
      "Optimization terminated successfully.\n",
      "         Current function value: 0.684752\n",
      "         Iterations 4\n",
      "Optimization terminated successfully.\n",
      "         Current function value: 0.684752\n",
      "         Iterations 4\n",
      "Optimization terminated successfully.\n",
      "         Current function value: 0.684752\n",
      "         Iterations 4\n",
      "Optimization terminated successfully.\n",
      "         Current function value: 0.684752\n",
      "         Iterations 4\n",
      "Optimization terminated successfully.\n",
      "         Current function value: 0.684752\n",
      "         Iterations 4\n",
      "Optimization terminated successfully.\n",
      "         Current function value: 0.684752\n",
      "         Iterations 4\n",
      "Optimization terminated successfully.\n",
      "         Current function value: 0.684752\n",
      "         Iterations 4\n",
      "Optimization terminated successfully.\n",
      "         Current function value: 0.684752\n",
      "         Iterations 4\n",
      "Optimization terminated successfully.\n",
      "         Current function value: 0.684752\n",
      "         Iterations 4\n",
      "Optimization terminated successfully.\n",
      "         Current function value: 0.684752\n",
      "         Iterations 4\n",
      "Optimization terminated successfully.\n",
      "         Current function value: 0.684752\n",
      "         Iterations 4\n",
      "Optimization terminated successfully.\n",
      "         Current function value: 0.684752\n",
      "         Iterations 4\n",
      "Optimization terminated successfully.\n",
      "         Current function value: 0.684752\n",
      "         Iterations 4\n",
      "Optimization terminated successfully.\n",
      "         Current function value: 0.684752\n",
      "         Iterations 4\n",
      "Optimization terminated successfully.\n",
      "         Current function value: 0.684752\n",
      "         Iterations 4\n",
      "Optimization terminated successfully.\n",
      "         Current function value: 0.684752\n",
      "         Iterations 4\n",
      "Optimization terminated successfully.\n",
      "         Current function value: 0.684752\n",
      "         Iterations 4\n",
      "Optimization terminated successfully.\n",
      "         Current function value: 0.684752\n",
      "         Iterations 4\n",
      "Optimization terminated successfully.\n",
      "         Current function value: 0.684752\n",
      "         Iterations 4\n",
      "Optimization terminated successfully.\n",
      "         Current function value: 0.684752\n",
      "         Iterations 4\n",
      "Optimization terminated successfully.\n",
      "         Current function value: 0.684752\n",
      "         Iterations 4\n",
      "Optimization terminated successfully.\n",
      "         Current function value: 0.684752\n",
      "         Iterations 4\n",
      "Optimization terminated successfully.\n",
      "         Current function value: 0.684752\n",
      "         Iterations 4\n",
      "Optimization terminated successfully.\n",
      "         Current function value: 0.684752\n",
      "         Iterations 4\n",
      "Optimization terminated successfully.\n",
      "         Current function value: 0.684752\n",
      "         Iterations 4\n",
      "Optimization terminated successfully.\n",
      "         Current function value: 0.684752\n",
      "         Iterations 4\n",
      "Optimization terminated successfully.\n",
      "         Current function value: 0.684752\n",
      "         Iterations 4\n",
      "Optimization terminated successfully.\n",
      "         Current function value: 0.684752\n",
      "         Iterations 4\n",
      "Optimization terminated successfully.\n",
      "         Current function value: 0.684752\n",
      "         Iterations 4\n",
      "Optimization terminated successfully.\n",
      "         Current function value: 0.684752\n",
      "         Iterations 4\n",
      "Optimization terminated successfully.\n",
      "         Current function value: 0.684752\n",
      "         Iterations 4\n",
      "Optimization terminated successfully.\n",
      "         Current function value: 0.684752\n",
      "         Iterations 4\n",
      "Optimization terminated successfully.\n",
      "         Current function value: 0.684752\n",
      "         Iterations 4\n",
      "Optimization terminated successfully.\n",
      "         Current function value: 0.684752\n",
      "         Iterations 4\n",
      "Optimization terminated successfully.\n",
      "         Current function value: 0.684752\n",
      "         Iterations 4\n",
      "Optimization terminated successfully.\n",
      "         Current function value: 0.684752\n",
      "         Iterations 4\n",
      "Optimization terminated successfully.\n",
      "         Current function value: 0.684752\n",
      "         Iterations 4\n",
      "Optimization terminated successfully.\n",
      "         Current function value: 0.684752\n",
      "         Iterations 4\n",
      "Optimization terminated successfully.\n",
      "         Current function value: 0.684752\n",
      "         Iterations 4\n",
      "Optimization terminated successfully.\n",
      "         Current function value: 0.684752\n",
      "         Iterations 4\n",
      "Optimization terminated successfully.\n",
      "         Current function value: 0.684752\n",
      "         Iterations 4\n",
      "Optimization terminated successfully.\n",
      "         Current function value: 0.684752\n",
      "         Iterations 4\n",
      "Optimization terminated successfully.\n",
      "         Current function value: 0.684752\n",
      "         Iterations 4\n",
      "Optimization terminated successfully.\n",
      "         Current function value: 0.684752\n",
      "         Iterations 4\n",
      "Optimization terminated successfully.\n",
      "         Current function value: 0.684752\n",
      "         Iterations 4\n",
      "Optimization terminated successfully.\n",
      "         Current function value: 0.684752\n",
      "         Iterations 4\n",
      "Optimization terminated successfully.\n",
      "         Current function value: 0.684752\n",
      "         Iterations 4\n",
      "Optimization terminated successfully.\n",
      "         Current function value: 0.684752\n",
      "         Iterations 4\n",
      "Optimization terminated successfully.\n",
      "         Current function value: 0.684752\n",
      "         Iterations 4\n",
      "Optimization terminated successfully.\n",
      "         Current function value: 0.684752\n",
      "         Iterations 4\n",
      "Optimization terminated successfully.\n",
      "         Current function value: 0.684752\n",
      "         Iterations 4\n",
      "Optimization terminated successfully.\n",
      "         Current function value: 0.684752\n",
      "         Iterations 4\n"
     ]
    },
    {
     "name": "stdout",
     "output_type": "stream",
     "text": [
      "Optimization terminated successfully.\n",
      "         Current function value: 0.684752\n",
      "         Iterations 4\n",
      "Optimization terminated successfully.\n",
      "         Current function value: 0.684752\n",
      "         Iterations 4\n",
      "Optimization terminated successfully.\n",
      "         Current function value: 0.684752\n",
      "         Iterations 4\n",
      "Optimization terminated successfully.\n",
      "         Current function value: 0.684752\n",
      "         Iterations 4\n",
      "Optimization terminated successfully.\n",
      "         Current function value: 0.684752\n",
      "         Iterations 4\n",
      "Optimization terminated successfully.\n",
      "         Current function value: 0.684752\n",
      "         Iterations 4\n",
      "Optimization terminated successfully.\n",
      "         Current function value: 0.684752\n",
      "         Iterations 4\n",
      "Optimization terminated successfully.\n",
      "         Current function value: 0.684752\n",
      "         Iterations 4\n",
      "Optimization terminated successfully.\n",
      "         Current function value: 0.684752\n",
      "         Iterations 4\n",
      "Optimization terminated successfully.\n",
      "         Current function value: 0.684752\n",
      "         Iterations 4\n",
      "Optimization terminated successfully.\n",
      "         Current function value: 0.684752\n",
      "         Iterations 4\n",
      "Optimization terminated successfully.\n",
      "         Current function value: 0.684752\n",
      "         Iterations 4\n",
      "Optimization terminated successfully.\n",
      "         Current function value: 0.684752\n",
      "         Iterations 4\n",
      "Optimization terminated successfully.\n",
      "         Current function value: 0.684752\n",
      "         Iterations 4\n",
      "Optimization terminated successfully.\n",
      "         Current function value: 0.684752\n",
      "         Iterations 4\n",
      "Optimization terminated successfully.\n",
      "         Current function value: 0.684752\n",
      "         Iterations 4\n",
      "Optimization terminated successfully.\n",
      "         Current function value: 0.684752\n",
      "         Iterations 4\n",
      "Optimization terminated successfully.\n",
      "         Current function value: 0.684752\n",
      "         Iterations 4\n",
      "Optimization terminated successfully.\n",
      "         Current function value: 0.684752\n",
      "         Iterations 4\n"
     ]
    }
   ],
   "source": [
    "#We need to bootstrap our logistic regression model because we used post-stratistication\n",
    "variables = []\n",
    "for i in range(100):\n",
    "     model_input = model_input.sample(frac=1)\n",
    "     logit = sm.Logit(model_input['pull_over'], model_input[['sex_encoded','main_race_encoded','group_age_encoded']])\n",
    "     result = logit.fit()\n",
    "     variables.append(result.params.idxmax())"
   ]
  },
  {
   "cell_type": "code",
   "execution_count": 65,
   "metadata": {},
   "outputs": [
    {
     "name": "stdout",
     "output_type": "stream",
     "text": [
      "['sex_encoded']\n"
     ]
    }
   ],
   "source": [
    "#Out put the unique variables of the most significant variables\n",
    "def unique(list1): \n",
    "    x = np.array(list1) \n",
    "    print(np.unique(x))\n",
    "\n",
    "unique(variables)"
   ]
  },
  {
   "cell_type": "markdown",
   "metadata": {},
   "source": [
    "After using bootstrapping we can confirm that sex is indeed the most significant variable. We needed to do boot-strapping because we used post stratification."
   ]
  },
  {
   "cell_type": "code",
   "execution_count": 5,
   "metadata": {},
   "outputs": [
    {
     "data": {
      "image/png": "[encoded data removed]",
      "text/plain": [
       "<Figure size 432x288 with 1 Axes>"
      ]
     },
     "metadata": {
      "needs_background": "light"
     },
     "output_type": "display_data"
    }
   ],
   "source": [
    "height = [100, 0, 0 ]\n",
    "bars = ('sex', 'age', 'race')\n",
    "y_pos = np.arange(len(bars))\n",
    " \n",
    "# Create bars\n",
    "plt.bar(y_pos, height)\n",
    "\n",
    "plt.title('Most significant factor')\n",
    "\n",
    "plt.xlabel('factors')\n",
    "plt.ylabel('count')\n",
    "# Create names on the x-axis\n",
    "plt.xticks(y_pos, bars)\n",
    " \n",
    "# Show graphic\n",
    "plt.show()\n"
   ]
  },
  {
   "cell_type": "markdown",
   "metadata": {},
   "source": [
    "This chart shows that out of the 100 bootstraps, sex was the most signifant factor in getting pulled over. Sex was the most significant factor in getting pulled over in every single iteration of the bootstrap. "
   ]
  },
  {
   "cell_type": "markdown",
   "metadata": {},
   "source": [
    "## Ethics and Privacy"
   ]
  },
  {
   "cell_type": "markdown",
   "metadata": {},
   "source": [
    "In our research we considered the nine things that could ruin people's lives with data science. First off we considered our research question which was to find the most signifcant factor in pull overs. Our research question is ethical and well posed. We wanted to see if the police were discriminating against a certain subgroup of people or doing anything else unethical. Secondly we considered the implications of our research. Our research would affect the drivers and police department of San Diego and potentially the nation. From our research, police departments can try to address any potential discriminations helping the drivers of San Diego. One potential uninteded consequence could be riots because of public outrage from the findings (although this is very unlikely). We also considered the data we used. The data is publicly avaliable from the San Diego city website. The source is reliable and conforms to typical privacy concerns. The data is unable to trace back to anyone's identity. There does not seem to be any bias in our data also. Forth we considered informed consent. Informed consent does not apply to our research cause it does not have information about a single person, it is just pullover data. Fifth we considered privacy. Our data can not be traced back to a single person or police officer. Sixth we considered evaluation. The project would be considered successful if we found factors that contribute to getting pulled over. From this we will be able identify if there is any potential discriminations and as a result can help address it. Seventh we considered our analysis. Our analysis will be a correlation question. We will consider any confounding factors when conducting our research and make sure that it is accurate. Our research is also transparent. We will tell the people what techniques and models were used to find factors contributing to getting pulled over. Lastly we considered the long term effects of our research. We will continuously monitor the effects of the research question and see if the police traffic stops change over time.    \n",
    "\n",
    "As far as privacy concerns go, there aren’t too many that aren’t taken care of. The data we’re using is readily available for us to use in our project, as it’s public government data. All the identifying factors of any individual recorded in the data was also removed - age, sex, and race were recorded, but none of the personal identifiers listed in the Safe Harbour Method were recorded. As far as the privacy rights of those pulled over are concerned, it is unclear whether they themselves gave consent to their data being used like this - however, there isn’t exactly anything we can do about that. We’re also sure to keep in mind the overall socioeconomic traits of the area we’re working with, and how the social climate of San Diego may affect the biases of those who collected the data. <br>\n",
    "\n",
    "Publishing this data could be problematic because analysis of the data can easily be used to support the direct opposite of what it implies. When comparing the statistics of police pull-overs along the lines of different races or different genders, the data only tells us “which race is pulled over more often”, or “which gender is pulled over more often”. This in particular would most likely point to a pattern in police behavior more than it would point to anything specific that those pulled over were doing. However, one could easily analyze this and use the data to implicitly support something the data does not say, such as “this race commits more crimes on the road than other races in the data”. Needless to say, we don’t really want this mistaken analysis to occur, and because of that, we’ll be sure to provide a disclaimer or note that any conclusions drawn from this data don’t provide any information about the causes of these stops. As an extra precaution, it might also be a good idea to not publicize this data.\n"
   ]
  },
  {
   "cell_type": "markdown",
   "metadata": {},
   "source": [
    "## Conclusion & Discussion"
   ]
  },
  {
   "cell_type": "markdown",
   "metadata": {},
   "source": [
    "In conclusion our hypothesis was incorrect. We predicted that the greatest contributor to whether a person gets pulled over or not was their race. Contrary to our belief, from our data exploration and analysis we found that the greatest factor contributing to someone getting pulled over was a person's gender. We found that males are getting pulled over at a disproportionate rate compared to females. Even though males make up almost a perfect half of San Diego’s population, they made up 65 percent of the pull overs in San Diego. After exploring all the variables we found that the race, gender, and age were significant variables. We found this by using the chi-square test. To conclude that gender was the most significant out of those three we created a logistic regression model and looked at the largest coefficient. We found that gender contributed the most to whether a person got pulled over or not. <br>\n",
    "\n",
    "This project had two major limitation that we ran into while conducting the analysis. One of the major limitation of the project was the dataset only included data of people who got pulled over. There was no data for people who did not get pulled over so we could not create any models based on the dataset we got. We had to get advice from Professor Ellis on how to impute data that was not missing at random. We came to the conclusion that we should do post-stratisfication and bootstraping to solve the issue. Another problem was the binary form of this data proved to be quite a challenge to work with. Instead of being able to perform more common data analysis techniques such as linear regression to the data we had to approach Professor Ellis and use her expertise to help us to understand how to perform a logistic regression. The binary nature means that apart from the histograms in the EDA section, it was especially difficult to include data visualization as a part of our data analysis.<br>\n",
    "\n",
    "This project has the potential to really aid the San Diego police force. While we found that gender was the largest factor for traffic stops, this shouldn’t hide the fact that age and especially race were also significant variables. This project should be a wake up call to not just the San Diego police force, but to forces around the country to constantly be re-evaluating their techniques and practices to make sure they serve the citizens as best they can.\n"
   ]
  },
  {
   "cell_type": "markdown",
   "metadata": {},
   "source": [
    "## Team Contributions"
   ]
  },
  {
   "cell_type": "markdown",
   "metadata": {},
   "source": [
    "- Overview (NICK)\n",
    "- Research question (MATTHEW + NEVAN)\n",
    "- Background & Prior Work (MATTHEW)\n",
    "- Hypothesis, Datasets (MATTHEW + KELVIN + SHANNON)\n",
    "- Data Cleaning (NEVAN + SHANNON + KELVIN + MATTHEW)\n",
    "- Data Analysis: EDA (NEVAN + KELVIN), Analysis (NEVAN + KELVIN + SHANNON), Visualization (KELVIN + SHANNON)\n",
    "- Ethics and Privacy (NICK)\n",
    "- Conclusion (MATTHEW + NEVAN + KELVIN)"
   ]
  }
 ],
 "metadata": {
  "kernelspec": {
   "display_name": "Python 3",
   "language": "python",
   "name": "python3"
  },
  "language_info": {
   "codemirror_mode": {
    "name": "ipython",
    "version": 3
   },
   "file_extension": ".py",
   "mimetype": "text/x-python",
   "name": "python",
   "nbconvert_exporter": "python",
   "pygments_lexer": "ipython3",
   "version": "3.7.0"
  }
 },
 "nbformat": 4,
 "nbformat_minor": 2
}
