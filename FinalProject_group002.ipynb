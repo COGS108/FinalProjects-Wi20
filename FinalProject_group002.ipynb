{
 "cells": [
  {
   "cell_type": "markdown",
   "metadata": {
    "slideshow": {
     "slide_type": "skip"
    }
   },
   "source": [
    "# COGS 108 - Final Project "
   ]
  },
  {
   "cell_type": "markdown",
   "metadata": {
    "slideshow": {
     "slide_type": "slide"
    }
   },
   "source": [
    "<html> \n",
    "    <img src = \"Cover_photo.jpeg\"> \n",
    "</html>\n",
    "    "
   ]
  },
  {
   "cell_type": "markdown",
   "metadata": {
    "slideshow": {
     "slide_type": "slide"
    }
   },
   "source": [
    "# Overview"
   ]
  },
  {
   "cell_type": "markdown",
   "metadata": {
    "slideshow": {
     "slide_type": "subslide"
    }
   },
   "source": [
    "&nbsp;&nbsp;&nbsp;&nbsp; Our project explores the athletes from Olympic Dataset from 1912 to 2016, where we attempt to identify the optical age range for athletes being sucessful. Specifically, we define being sucessful as whether or not an athlete won a medal. We split the original athletes dataset into two groups: athletes with medals and those without and subsequently plot data and perform statistical testing to try to determine the optimal age range. Next, we further define more specific optical age ranges for athletes with respect to sex and season using similar approach. Finally, we obtain multiple optical age ranges, where some are more general and others are more specific."
   ]
  },
  {
   "cell_type": "markdown",
   "metadata": {
    "slideshow": {
     "slide_type": "slide"
    }
   },
   "source": [
    "# Names\n",
    "\n",
    "- Ruoyu Liu\n",
    "- Ting Yang Hung\n",
    "- Yijun Liu\n",
    "- Yiluo Qin\n",
    "- Yu-chieh Chen"
   ]
  },
  {
   "cell_type": "markdown",
   "metadata": {
    "slideshow": {
     "slide_type": "skip"
    }
   },
   "source": [
    "# Research Question"
   ]
  },
  {
   "cell_type": "markdown",
   "metadata": {
    "slideshow": {
     "slide_type": "skip"
    }
   },
   "source": [
    "What is the optimal age range for being successful, for example getting medals, at Olympic Games?"
   ]
  },
  {
   "cell_type": "markdown",
   "metadata": {
    "slideshow": {
     "slide_type": "skip"
    }
   },
   "source": [
    "## Background and Prior Work"
   ]
  },
  {
   "cell_type": "markdown",
   "metadata": {
    "slideshow": {
     "slide_type": "skip"
    }
   },
   "source": [
    "### Background"
   ]
  },
  {
   "cell_type": "markdown",
   "metadata": {
    "slideshow": {
     "slide_type": "skip"
    }
   },
   "source": [
    "&nbsp;&nbsp;&nbsp;&nbsp; All the members on our team are genuinely interested in sports. For example, I am particularly a big fan of soccer, and my favourite soccer team is FC Barcelona, a spanish soccer team with super stars like Lionel Messi. Another team member was a promising swimmer, and his idol has always been Michael Phelps, who is considered to be one the greatest athletes in Olympic history. Therefore, we came together and decided we want to discover something interesting regarding sports. We then decided to explore Olympic datasets because the Olympics symbolizes the pinnacle of almost all kinds of sports events. The Olympics also is considered a global celebration for all the athletes from the globe to compete and to achieve higher standards. We were very excited to further explore this dataset and find interesting results.<br>\n",
    "\n",
    "&nbsp;&nbsp;&nbsp;&nbsp; Our hypothesis is that the optimal age to be successful at the Olympics is between 20 to 25 years old. Historically, according to many other popular sports such as basketball, soccer, swimming, and football. The blooming age of an athlete is around age 20. For example, most of the world records in swimming were set by swimmers in their early 20s. Additionally, most players who won their Ballon D’or(FIFA Best Player of the Year) were around 25 years old. As a result, we hypothesized that the most likely age range for an athlete to succeed at the Olympics is from 20 to 25 years old.<br>\n",
    "\n",
    "&nbsp;&nbsp;&nbsp;&nbsp; Testing our hypothesis is important because we could predict how long we possibly need to wait to see a given athlete to succeed at the Olympics. For those who have already won medals in the past Olympics, we could approximately predict how many years left for him/her to maintain at the highest competitive level. Furthermore, assuming our hypothesis is correct, we could even tell our friends to train harder if they want to compete at the highest sports events! In general, our hypothesis would serve as an indicator predicting a lot of useful information in many fields of sports.<br>\n",
    "\n"
   ]
  },
  {
   "cell_type": "markdown",
   "metadata": {
    "slideshow": {
     "slide_type": "skip"
    }
   },
   "source": [
    "### Prior Work"
   ]
  },
  {
   "cell_type": "markdown",
   "metadata": {
    "slideshow": {
     "slide_type": "skip"
    }
   },
   "source": [
    "&nbsp;&nbsp;&nbsp;&nbsp; From National Geographic Magazine<sup>[1]</sup>, I noticed that although the article agrees that the majority of athletes won gold medals in their early and mid 20s, there were some great exceptions that simply prove age really is just a number. The article uses Michael Phelps as a great example to show that even people who retire from the Olympics can make a great comeback. As the article writes: “Thirty-one-year-old Michael Phelps won his 20th and 21st gold medals as part of this year's Olympics in Rio de Janeiro—impressive feats for a swimmer his age.” What really determines an athlete’s success is not age but really is his/her talent and how much commitment he/she put into the games and training.<br>\n",
    "\n",
    "&nbsp;&nbsp;&nbsp;&nbsp; According to TIME<sup>[2]</sup>, there is “no specific age limit to compete in the Olympic Games.” Age restriction varies according to sports; however, we actually see a surge of young athletes compete in recent Olympics games. For example, American snowboarder, Chloe Kim took home a gold medalist in the 2018 Winter Olympics at age 17! Being a young athlete and has achieved such high performance, no doubt she would shine in the next decade. Definitely she has a bright future in front of her. Therefore, based on such statistics, it is actually possible the optimal age is getting younger and younger. Or we might witness a longer span of optimalgolden age. Instead of only 5 years like we hypothesize, the actual optimal age span might be larger. <br>\n",
    "\n",
    "&nbsp;&nbsp;&nbsp;&nbsp; With everything researched, we are very excited to delve into our dataset and find out the results ourselves.\n",
    "\n"
   ]
  },
  {
   "cell_type": "markdown",
   "metadata": {
    "slideshow": {
     "slide_type": "skip"
    }
   },
   "source": [
    "### References"
   ]
  },
  {
   "cell_type": "markdown",
   "metadata": {
    "slideshow": {
     "slide_type": "skip"
    }
   },
   "source": [
    "- 1) Brady, Heather. “Meet the Olympians Who Prove Age Really Is Just a Number.” National Geographic, 11 Aug. 2016, www.nationalgeographic.com/news/2016/08/oldest-olympians-compete-games-2016-rio/#close.\n",
    "- 2) Quackenbush, Casey. “How Old Do You Have to Be to Compete in the Olympics?” Time, Time, 13 Feb. 2018, time.com/5154982/age-requirement-olympics-2018/.\n",
    "- 3) Rgriffin. “120 Years of Olympic History: Athletes and Results.” Kaggle, 15 June 2018, www.kaggle.com/heesoo37/120-years-of-olympic-history-athletes-and-results."
   ]
  },
  {
   "cell_type": "markdown",
   "metadata": {
    "slideshow": {
     "slide_type": "slide"
    }
   },
   "source": [
    "# Hypothesis\n"
   ]
  },
  {
   "cell_type": "markdown",
   "metadata": {
    "slideshow": {
     "slide_type": "subslide"
    }
   },
   "source": [
    "Under majority conditions, athletes get enough practice and have the physical conditions to achieve their peak. Therefore, we hypothesize the optimal age range is between 20 - 25 for athletes to be successful in Olympics games. "
   ]
  },
  {
   "cell_type": "markdown",
   "metadata": {
    "slideshow": {
     "slide_type": "slide"
    }
   },
   "source": [
    "# Dataset(s)"
   ]
  },
  {
   "cell_type": "markdown",
   "metadata": {
    "slideshow": {
     "slide_type": "subslide"
    }
   },
   "source": [
    "- Dataset Name: athelete_events\n",
    "- Link to the dataset: https://www.kaggle.com/heesoo37/120-years-of-olympic-history-athletes-and-results\n",
    "- Number of observations: 271116 observations, with a total of 15 attributes\n",
    "- athlete_events dataset:\n",
    "This dataset includes a comprehensive documentation of all the atheletes' records in the competition. The dataset includes crucial attributes for answering our question such as ID, Name, Age, Event, and Medal. From this information, we are able to investigate the golden age for the atheletes.\n",
    "\n",
    "\n",
    "- Metadata: "
   ]
  },
  {
   "cell_type": "markdown",
   "metadata": {
    "slideshow": {
     "slide_type": "subslide"
    }
   },
   "source": [
    "| Column Name | Type | Description | \n",
    "|---|---|---|\n",
    "| `ID` | int | Unique number (id) for each athlete | \n",
    "| `Name` | str | The name of the athlete's |\n",
    "| `Sex` | str | M or F; The gender of the athlete | \n",
    "| `Age` | int | The age of the athlete (depend on the participated year) |\n",
    "| `Height` | float | The height of the athlete in centimeters |\n",
    "| `Weight` | float |  The weight of the athlete in kilograms |\n",
    "| `Team` | str |  Team name |\n",
    "| `NOC` | str |  National Olympic Committee in 3-letter code |\n",
    "| `Games` | str |  Year and season of the Olympics |\n",
    "| `Year` | int | The year of the olympics |\n",
    "| `Season` | str | Summer or Winter; Season type of the Olympics game |\n",
    "| `City` | str | Host city |\n",
    "| `Sport` | str | Sport type of the game that the athlete participated in |\n",
    "| `Event` | str | The game event | \n",
    "| `Medal` | str | Gold, Silver, Bronze, or NA; the prize that the athlete earned | "
   ]
  },
  {
   "cell_type": "markdown",
   "metadata": {
    "slideshow": {
     "slide_type": "skip"
    }
   },
   "source": [
    "# Setup"
   ]
  },
  {
   "cell_type": "code",
   "execution_count": 1,
   "metadata": {
    "slideshow": {
     "slide_type": "skip"
    }
   },
   "outputs": [],
   "source": [
    "import pandas as pd\n",
    "import numpy as np\n",
    "import matplotlib.pyplot as plt\n",
    "from scipy import stats\n",
    "from matplotlib.patches import Polygon"
   ]
  },
  {
   "cell_type": "markdown",
   "metadata": {
    "slideshow": {
     "slide_type": "slide"
    }
   },
   "source": [
    "# Data Cleaning"
   ]
  },
  {
   "cell_type": "markdown",
   "metadata": {
    "slideshow": {
     "slide_type": "skip"
    }
   },
   "source": [
    "Describe your data cleaning steps here."
   ]
  },
  {
   "cell_type": "code",
   "execution_count": 2,
   "metadata": {
    "slideshow": {
     "slide_type": "subslide"
    }
   },
   "outputs": [
    {
     "data": {
      "text/html": [
       "<div>\n",
       "<style scoped>\n",
       "    .dataframe tbody tr th:only-of-type {\n",
       "        vertical-align: middle;\n",
       "    }\n",
       "\n",
       "    .dataframe tbody tr th {\n",
       "        vertical-align: top;\n",
       "    }\n",
       "\n",
       "    .dataframe thead th {\n",
       "        text-align: right;\n",
       "    }\n",
       "</style>\n",
       "<table border=\"1\" class=\"dataframe\">\n",
       "  <thead>\n",
       "    <tr style=\"text-align: right;\">\n",
       "      <th></th>\n",
       "      <th>ID</th>\n",
       "      <th>Name</th>\n",
       "      <th>Sex</th>\n",
       "      <th>Age</th>\n",
       "      <th>Height</th>\n",
       "      <th>Weight</th>\n",
       "      <th>Team</th>\n",
       "      <th>NOC</th>\n",
       "      <th>Games</th>\n",
       "      <th>Year</th>\n",
       "      <th>Season</th>\n",
       "      <th>City</th>\n",
       "      <th>Sport</th>\n",
       "      <th>Event</th>\n",
       "      <th>Medal</th>\n",
       "    </tr>\n",
       "  </thead>\n",
       "  <tbody>\n",
       "    <tr>\n",
       "      <td>0</td>\n",
       "      <td>1</td>\n",
       "      <td>A Dijiang</td>\n",
       "      <td>M</td>\n",
       "      <td>24.0</td>\n",
       "      <td>180.0</td>\n",
       "      <td>80.0</td>\n",
       "      <td>China</td>\n",
       "      <td>CHN</td>\n",
       "      <td>1992 Summer</td>\n",
       "      <td>1992</td>\n",
       "      <td>Summer</td>\n",
       "      <td>Barcelona</td>\n",
       "      <td>Basketball</td>\n",
       "      <td>Basketball Men's Basketball</td>\n",
       "      <td>NaN</td>\n",
       "    </tr>\n",
       "    <tr>\n",
       "      <td>1</td>\n",
       "      <td>2</td>\n",
       "      <td>A Lamusi</td>\n",
       "      <td>M</td>\n",
       "      <td>23.0</td>\n",
       "      <td>170.0</td>\n",
       "      <td>60.0</td>\n",
       "      <td>China</td>\n",
       "      <td>CHN</td>\n",
       "      <td>2012 Summer</td>\n",
       "      <td>2012</td>\n",
       "      <td>Summer</td>\n",
       "      <td>London</td>\n",
       "      <td>Judo</td>\n",
       "      <td>Judo Men's Extra-Lightweight</td>\n",
       "      <td>NaN</td>\n",
       "    </tr>\n",
       "    <tr>\n",
       "      <td>2</td>\n",
       "      <td>3</td>\n",
       "      <td>Gunnar Nielsen Aaby</td>\n",
       "      <td>M</td>\n",
       "      <td>24.0</td>\n",
       "      <td>NaN</td>\n",
       "      <td>NaN</td>\n",
       "      <td>Denmark</td>\n",
       "      <td>DEN</td>\n",
       "      <td>1920 Summer</td>\n",
       "      <td>1920</td>\n",
       "      <td>Summer</td>\n",
       "      <td>Antwerpen</td>\n",
       "      <td>Football</td>\n",
       "      <td>Football Men's Football</td>\n",
       "      <td>NaN</td>\n",
       "    </tr>\n",
       "    <tr>\n",
       "      <td>3</td>\n",
       "      <td>4</td>\n",
       "      <td>Edgar Lindenau Aabye</td>\n",
       "      <td>M</td>\n",
       "      <td>34.0</td>\n",
       "      <td>NaN</td>\n",
       "      <td>NaN</td>\n",
       "      <td>Denmark/Sweden</td>\n",
       "      <td>DEN</td>\n",
       "      <td>1900 Summer</td>\n",
       "      <td>1900</td>\n",
       "      <td>Summer</td>\n",
       "      <td>Paris</td>\n",
       "      <td>Tug-Of-War</td>\n",
       "      <td>Tug-Of-War Men's Tug-Of-War</td>\n",
       "      <td>Gold</td>\n",
       "    </tr>\n",
       "    <tr>\n",
       "      <td>4</td>\n",
       "      <td>5</td>\n",
       "      <td>Christine Jacoba Aaftink</td>\n",
       "      <td>F</td>\n",
       "      <td>21.0</td>\n",
       "      <td>185.0</td>\n",
       "      <td>82.0</td>\n",
       "      <td>Netherlands</td>\n",
       "      <td>NED</td>\n",
       "      <td>1988 Winter</td>\n",
       "      <td>1988</td>\n",
       "      <td>Winter</td>\n",
       "      <td>Calgary</td>\n",
       "      <td>Speed Skating</td>\n",
       "      <td>Speed Skating Women's 500 metres</td>\n",
       "      <td>NaN</td>\n",
       "    </tr>\n",
       "  </tbody>\n",
       "</table>\n",
       "</div>"
      ],
      "text/plain": [
       "   ID                      Name Sex   Age  Height  Weight            Team  \\\n",
       "0   1                 A Dijiang   M  24.0   180.0    80.0           China   \n",
       "1   2                  A Lamusi   M  23.0   170.0    60.0           China   \n",
       "2   3       Gunnar Nielsen Aaby   M  24.0     NaN     NaN         Denmark   \n",
       "3   4      Edgar Lindenau Aabye   M  34.0     NaN     NaN  Denmark/Sweden   \n",
       "4   5  Christine Jacoba Aaftink   F  21.0   185.0    82.0     Netherlands   \n",
       "\n",
       "   NOC        Games  Year  Season       City          Sport  \\\n",
       "0  CHN  1992 Summer  1992  Summer  Barcelona     Basketball   \n",
       "1  CHN  2012 Summer  2012  Summer     London           Judo   \n",
       "2  DEN  1920 Summer  1920  Summer  Antwerpen       Football   \n",
       "3  DEN  1900 Summer  1900  Summer      Paris     Tug-Of-War   \n",
       "4  NED  1988 Winter  1988  Winter    Calgary  Speed Skating   \n",
       "\n",
       "                              Event Medal  \n",
       "0       Basketball Men's Basketball   NaN  \n",
       "1      Judo Men's Extra-Lightweight   NaN  \n",
       "2           Football Men's Football   NaN  \n",
       "3       Tug-Of-War Men's Tug-Of-War  Gold  \n",
       "4  Speed Skating Women's 500 metres   NaN  "
      ]
     },
     "execution_count": 2,
     "metadata": {},
     "output_type": "execute_result"
    }
   ],
   "source": [
    "# Read csv\n",
    "athlete = pd.read_csv('athlete_events.csv')\n",
    "athlete.head()"
   ]
  },
  {
   "cell_type": "code",
   "execution_count": 3,
   "metadata": {
    "slideshow": {
     "slide_type": "notes"
    }
   },
   "outputs": [],
   "source": [
    "# replace medal to integer (Ordinal Encoding)\n",
    "athlete['Medal'] = athlete['Medal'].replace({'Gold':3,'Silver':2,'Bronze':1,None:0})"
   ]
  },
  {
   "cell_type": "code",
   "execution_count": 4,
   "metadata": {
    "slideshow": {
     "slide_type": "notes"
    }
   },
   "outputs": [],
   "source": [
    "# drop duplicate row\n",
    "athlete = athlete[athlete.duplicated()==False]"
   ]
  },
  {
   "cell_type": "code",
   "execution_count": 5,
   "metadata": {
    "slideshow": {
     "slide_type": "notes"
    }
   },
   "outputs": [],
   "source": [
    "# drop weight, height, games, team, city, id, and name columns\n",
    "athlete.drop(columns=['Weight','Height','Games','Team','City','ID','Name'],inplace=True)"
   ]
  },
  {
   "cell_type": "code",
   "execution_count": 6,
   "metadata": {
    "slideshow": {
     "slide_type": "notes"
    }
   },
   "outputs": [],
   "source": [
    "# add a column called got_medal ( 0 means the person doesn't get the medal)\n",
    "athlete['got_medal']= athlete['Medal'].apply(lambda x: 0 if x == 0 else 1)"
   ]
  },
  {
   "cell_type": "code",
   "execution_count": 7,
   "metadata": {
    "slideshow": {
     "slide_type": "notes"
    }
   },
   "outputs": [],
   "source": [
    "# Get event title\n",
    "athlete['Event'] = athlete.apply(lambda x: ''.join([i+' ' \n",
    "                                        for i in x['Event'].split(' ')[len(x['Sport'].split(' '))+1:]]),axis=1)"
   ]
  },
  {
   "cell_type": "code",
   "execution_count": 8,
   "metadata": {
    "slideshow": {
     "slide_type": "skip"
    }
   },
   "outputs": [
    {
     "data": {
      "text/plain": [
       "Sex           object\n",
       "Age          float64\n",
       "NOC           object\n",
       "Year           int64\n",
       "Season        object\n",
       "Sport         object\n",
       "Event         object\n",
       "Medal          int64\n",
       "got_medal      int64\n",
       "dtype: object"
      ]
     },
     "execution_count": 8,
     "metadata": {},
     "output_type": "execute_result"
    }
   ],
   "source": [
    "# Check type\n",
    "athlete.dtypes"
   ]
  },
  {
   "cell_type": "code",
   "execution_count": 9,
   "metadata": {
    "slideshow": {
     "slide_type": "slide"
    }
   },
   "outputs": [
    {
     "data": {
      "text/plain": [
       "Year\n",
       "1896    0.428947\n",
       "1900    0.405690\n",
       "1904    0.210607\n",
       "1906    0.428736\n",
       "1908    0.207559\n",
       "1912    0.038614\n",
       "1920    0.196878\n",
       "1924    0.198025\n",
       "1928    0.176403\n",
       "1932    0.108271\n",
       "1936    0.027848\n",
       "1948    0.157930\n",
       "1952    0.029600\n",
       "1956    0.099161\n",
       "1960    0.023931\n",
       "1964    0.005907\n",
       "1968    0.011261\n",
       "1972    0.008027\n",
       "1976    0.004951\n",
       "1980    0.020924\n",
       "1984    0.018640\n",
       "1988    0.007495\n",
       "1992    0.002681\n",
       "1994    0.000633\n",
       "1996    0.000581\n",
       "1998    0.000555\n",
       "2000    0.000072\n",
       "2002    0.000000\n",
       "2004    0.000000\n",
       "2006    0.000000\n",
       "2008    0.000147\n",
       "2010    0.000000\n",
       "2012    0.000000\n",
       "2014    0.000000\n",
       "2016    0.000000\n",
       "Name: isNull, dtype: float64"
      ]
     },
     "execution_count": 9,
     "metadata": {},
     "output_type": "execute_result"
    }
   ],
   "source": [
    "# get the means of the age in different years that are null\n",
    "athlete.assign(isNull = athlete['Age'].isna()).groupby('Year')['isNull'].mean()"
   ]
  },
  {
   "cell_type": "code",
   "execution_count": 10,
   "metadata": {
    "slideshow": {
     "slide_type": "subslide"
    }
   },
   "outputs": [],
   "source": [
    "# only keeps the year that is after 1908\n",
    "athlete = athlete[athlete['Year']> 1908]"
   ]
  },
  {
   "cell_type": "code",
   "execution_count": 11,
   "metadata": {
    "slideshow": {
     "slide_type": "skip"
    }
   },
   "outputs": [],
   "source": [
    "# drop the columns that does not have age (age is np.NaN)\n",
    "athlete.dropna(subset=['Age'],inplace=True)"
   ]
  },
  {
   "cell_type": "code",
   "execution_count": 12,
   "metadata": {
    "slideshow": {
     "slide_type": "slide"
    }
   },
   "outputs": [
    {
     "data": {
      "text/html": [
       "<div>\n",
       "<style scoped>\n",
       "    .dataframe tbody tr th:only-of-type {\n",
       "        vertical-align: middle;\n",
       "    }\n",
       "\n",
       "    .dataframe tbody tr th {\n",
       "        vertical-align: top;\n",
       "    }\n",
       "\n",
       "    .dataframe thead th {\n",
       "        text-align: right;\n",
       "    }\n",
       "</style>\n",
       "<table border=\"1\" class=\"dataframe\">\n",
       "  <thead>\n",
       "    <tr style=\"text-align: right;\">\n",
       "      <th></th>\n",
       "      <th>Sex</th>\n",
       "      <th>Age</th>\n",
       "      <th>NOC</th>\n",
       "      <th>Year</th>\n",
       "      <th>Season</th>\n",
       "      <th>Sport</th>\n",
       "      <th>Event</th>\n",
       "      <th>Medal</th>\n",
       "      <th>got_medal</th>\n",
       "    </tr>\n",
       "  </thead>\n",
       "  <tbody>\n",
       "    <tr>\n",
       "      <td>0</td>\n",
       "      <td>M</td>\n",
       "      <td>24.0</td>\n",
       "      <td>CHN</td>\n",
       "      <td>1992</td>\n",
       "      <td>Summer</td>\n",
       "      <td>Basketball</td>\n",
       "      <td>Basketball</td>\n",
       "      <td>0</td>\n",
       "      <td>0</td>\n",
       "    </tr>\n",
       "    <tr>\n",
       "      <td>1</td>\n",
       "      <td>M</td>\n",
       "      <td>23.0</td>\n",
       "      <td>CHN</td>\n",
       "      <td>2012</td>\n",
       "      <td>Summer</td>\n",
       "      <td>Judo</td>\n",
       "      <td>Extra-Lightweight</td>\n",
       "      <td>0</td>\n",
       "      <td>0</td>\n",
       "    </tr>\n",
       "    <tr>\n",
       "      <td>2</td>\n",
       "      <td>M</td>\n",
       "      <td>24.0</td>\n",
       "      <td>DEN</td>\n",
       "      <td>1920</td>\n",
       "      <td>Summer</td>\n",
       "      <td>Football</td>\n",
       "      <td>Football</td>\n",
       "      <td>0</td>\n",
       "      <td>0</td>\n",
       "    </tr>\n",
       "    <tr>\n",
       "      <td>4</td>\n",
       "      <td>F</td>\n",
       "      <td>21.0</td>\n",
       "      <td>NED</td>\n",
       "      <td>1988</td>\n",
       "      <td>Winter</td>\n",
       "      <td>Speed Skating</td>\n",
       "      <td>500 metres</td>\n",
       "      <td>0</td>\n",
       "      <td>0</td>\n",
       "    </tr>\n",
       "    <tr>\n",
       "      <td>5</td>\n",
       "      <td>F</td>\n",
       "      <td>21.0</td>\n",
       "      <td>NED</td>\n",
       "      <td>1988</td>\n",
       "      <td>Winter</td>\n",
       "      <td>Speed Skating</td>\n",
       "      <td>1,000 metres</td>\n",
       "      <td>0</td>\n",
       "      <td>0</td>\n",
       "    </tr>\n",
       "  </tbody>\n",
       "</table>\n",
       "</div>"
      ],
      "text/plain": [
       "  Sex   Age  NOC  Year  Season          Sport               Event  Medal  \\\n",
       "0   M  24.0  CHN  1992  Summer     Basketball         Basketball       0   \n",
       "1   M  23.0  CHN  2012  Summer           Judo  Extra-Lightweight       0   \n",
       "2   M  24.0  DEN  1920  Summer       Football           Football       0   \n",
       "4   F  21.0  NED  1988  Winter  Speed Skating         500 metres       0   \n",
       "5   F  21.0  NED  1988  Winter  Speed Skating       1,000 metres       0   \n",
       "\n",
       "   got_medal  \n",
       "0          0  \n",
       "1          0  \n",
       "2          0  \n",
       "4          0  \n",
       "5          0  "
      ]
     },
     "execution_count": 12,
     "metadata": {},
     "output_type": "execute_result"
    }
   ],
   "source": [
    "athlete.head()"
   ]
  },
  {
   "cell_type": "markdown",
   "metadata": {
    "slideshow": {
     "slide_type": "slide"
    }
   },
   "source": [
    "# Optimal Age Boxplot"
   ]
  },
  {
   "cell_type": "code",
   "execution_count": 13,
   "metadata": {
    "slideshow": {
     "slide_type": "subslide"
    }
   },
   "outputs": [
    {
     "data": {
      "text/plain": [
       "Text(0, 0.5, 'People')"
      ]
     },
     "execution_count": 13,
     "metadata": {},
     "output_type": "execute_result"
    },
    {
     "data": {
      "image/png": "[encoded data removed]",
      "text/plain": [
       "<Figure size 864x288 with 1 Axes>"
      ]
     },
     "metadata": {
      "needs_background": "light"
     },
     "output_type": "display_data"
    }
   ],
   "source": [
    "green_diamond = dict(markerfacecolor='g', marker='D')\n",
    "fig3, ax1 = plt.subplots(figsize=(12,4))\n",
    "ax1.boxplot(athlete['Age'], vert=False, flierprops=green_diamond)\n",
    "ax1.xaxis.grid(True, linestyle='-', which='major', color='lightgrey',alpha=0.5)\n",
    "ax1.set_title('Age Distribution')\n",
    "ax1.set_xlabel('Age')\n",
    "ax1.set_ylabel('People')"
   ]
  },
  {
   "cell_type": "code",
   "execution_count": 14,
   "metadata": {
    "slideshow": {
     "slide_type": "subslide"
    }
   },
   "outputs": [
    {
     "name": "stdout",
     "output_type": "stream",
     "text": [
      "Age 37.5 percentile: 23.0\n",
      "Age 62.5 percentile: 26.0\n"
     ]
    }
   ],
   "source": [
    "print(\"Age 37.5 percentile:\", np.percentile(athlete['Age'], 37.5, axis = 0))\n",
    "print(\"Age 62.5 percentile:\", np.percentile(athlete['Age'], 62.5, axis = 0))"
   ]
  },
  {
   "cell_type": "markdown",
   "metadata": {
    "slideshow": {
     "slide_type": "subslide"
    }
   },
   "source": [
    "<b> Majority of participants in Olympics have age range from 23 - 26. <b>\n",
    "    <br>"
   ]
  },
  {
   "cell_type": "markdown",
   "metadata": {
    "slideshow": {
     "slide_type": "slide"
    }
   },
   "source": [
    "# Data Analysis & Results"
   ]
  },
  {
   "cell_type": "markdown",
   "metadata": {
    "slideshow": {
     "slide_type": "slide"
    }
   },
   "source": [
    "## Age"
   ]
  },
  {
   "cell_type": "code",
   "execution_count": 15,
   "metadata": {
    "slideshow": {
     "slide_type": "subslide"
    }
   },
   "outputs": [
    {
     "data": {
      "text/plain": [
       "got_medal\n",
       "0    AxesSubplot(0.125,0.125;0.775x0.755)\n",
       "1    AxesSubplot(0.125,0.125;0.775x0.755)\n",
       "Name: Age, dtype: object"
      ]
     },
     "execution_count": 15,
     "metadata": {},
     "output_type": "execute_result"
    },
    {
     "data": {
      "image/png": "[encoded data removed]",
      "text/plain": [
       "<Figure size 432x288 with 1 Axes>"
      ]
     },
     "metadata": {
      "needs_background": "light"
     },
     "output_type": "display_data"
    }
   ],
   "source": [
    "athlete.groupby('got_medal')['Age'].plot(kind='kde',legend=True)"
   ]
  },
  {
   "cell_type": "code",
   "execution_count": 16,
   "metadata": {
    "slideshow": {
     "slide_type": "subslide"
    }
   },
   "outputs": [
    {
     "data": {
      "text/plain": [
       "(25.84854547420785, 25.34127480081237, 0.5072706733954782)"
      ]
     },
     "execution_count": 16,
     "metadata": {},
     "output_type": "execute_result"
    }
   ],
   "source": [
    "got = athlete[athlete['got_medal']==1]['Age'].mean()\n",
    "no_got = athlete[athlete['got_medal']==0]['Age'].mean()\n",
    "got,no_got, got - no_got"
   ]
  },
  {
   "cell_type": "markdown",
   "metadata": {
    "slideshow": {
     "slide_type": "skip"
    }
   },
   "source": [
    "<b> We find that the distributions of athletes who get medals and those don't get medals look very similar. However, the average age still have a difference about 0.5. Thus, we want to check if the 0.5 difference is a significant difference. We use t-test package and permutation test to double check if 0.5 is a significant difference. <b>"
   ]
  },
  {
   "cell_type": "markdown",
   "metadata": {
    "slideshow": {
     "slide_type": "slide"
    }
   },
   "source": [
    "### Overview of Age Distribution between medals and no medals"
   ]
  },
  {
   "cell_type": "markdown",
   "metadata": {
    "slideshow": {
     "slide_type": "skip"
    }
   },
   "source": [
    "**Medal data**: plot the comparison of the data and a normal distribution\n",
    "\n",
    "This plots a histogram, with the hypothetical normal distribution (with same mean and variance)"
   ]
  },
  {
   "cell_type": "code",
   "execution_count": 17,
   "metadata": {
    "slideshow": {
     "slide_type": "subslide"
    }
   },
   "outputs": [
    {
     "data": {
      "image/png": "[encoded data removed]",
      "text/plain": [
       "<Figure size 432x288 with 1 Axes>"
      ]
     },
     "metadata": {
      "needs_background": "light"
     },
     "output_type": "display_data"
    }
   ],
   "source": [
    "athlete_age_medals = athlete[athlete['got_medal']==1]['Age']\n",
    "xs = np.arange(athlete_age_medals.min(), athlete_age_medals.max(), 0.1)\n",
    "fit = stats.norm.pdf(xs, np.mean(athlete_age_medals), np.std(athlete_age_medals))\n",
    "plt.plot(xs, fit, label = 'Normal Dist.', lw = 4)\n",
    "plt.hist(athlete_age_medals, density = True, label = 'Actual Data');\n",
    "plt.title('Age With Medals')\n",
    "plt.legend();"
   ]
  },
  {
   "cell_type": "markdown",
   "metadata": {
    "slideshow": {
     "slide_type": "skip"
    }
   },
   "source": [
    "**No medal data**: plot the comparison of the data and a normal distribution\n",
    "\n",
    "This plots a histogram, with the hypothetical normal distribution (with same mean and variance)"
   ]
  },
  {
   "cell_type": "code",
   "execution_count": 18,
   "metadata": {
    "slideshow": {
     "slide_type": "subslide"
    }
   },
   "outputs": [
    {
     "data": {
      "image/png": "[encoded data removed]",
      "text/plain": [
       "<Figure size 432x288 with 1 Axes>"
      ]
     },
     "metadata": {
      "needs_background": "light"
     },
     "output_type": "display_data"
    }
   ],
   "source": [
    "athlete_age_no_medals = athlete[athlete['got_medal']==0]['Age']\n",
    "xs = np.arange(athlete_age_no_medals.min(), athlete_age_no_medals.max(), 0.1)\n",
    "fit = stats.norm.pdf(xs, np.mean(athlete_age_no_medals), np.std(athlete_age_no_medals))\n",
    "plt.plot(xs, fit, label = 'Normal Dist.', lw = 4)\n",
    "plt.hist(athlete_age_no_medals, density = True, label = 'Actual Data');\n",
    "plt.title('Age Without Medals')\n",
    "plt.legend();"
   ]
  },
  {
   "cell_type": "code",
   "execution_count": 19,
   "metadata": {
    "slideshow": {
     "slide_type": "subslide"
    }
   },
   "outputs": [
    {
     "name": "stdout",
     "output_type": "stream",
     "text": [
      "Average age of people who get medal is \t\t\t 25.85 inches\n",
      "Average age of people who does not get medal is \t 25.34 inches\n"
     ]
    }
   ],
   "source": [
    "# Print out the average age for the two groups \n",
    "print('Average age of people who get medal is \\t\\t\\t {:2.2f} inches'.format(athlete_age_medals.mean()))\n",
    "print('Average age of people who does not get medal is \\t {:2.2f} inches'.format(athlete_age_no_medals.mean()))"
   ]
  },
  {
   "cell_type": "markdown",
   "metadata": {
    "slideshow": {
     "slide_type": "skip"
    }
   },
   "source": [
    "<b> From the above plots, we found that both athletes' ages with medals won and those with no medals won have a normal distribution. Therefore, for the later t-test, we can be assure that the resulting p value will deterministically tell us to either reject our null hypothesis. Later, we printed the means for both ditributions and figured out that there was a roughly 0.5 age difference. We will later perform the t-test to test if the age difference is significant or not. <b>"
   ]
  },
  {
   "cell_type": "markdown",
   "metadata": {
    "slideshow": {
     "slide_type": "slide"
    }
   },
   "source": [
    "### Permutation Test"
   ]
  },
  {
   "cell_type": "code",
   "execution_count": 20,
   "metadata": {
    "slideshow": {
     "slide_type": "subslide"
    }
   },
   "outputs": [
    {
     "data": {
      "text/plain": [
       "Ttest_indResult(statistic=14.789012546725141, pvalue=1.8083165169764167e-49)"
      ]
     },
     "execution_count": 20,
     "metadata": {},
     "output_type": "execute_result"
    }
   ],
   "source": [
    "stats.ttest_ind(athlete_age_medals, athlete_age_no_medals)"
   ]
  },
  {
   "cell_type": "markdown",
   "metadata": {
    "slideshow": {
     "slide_type": "skip"
    }
   },
   "source": [
    "<b> In addition, we did a t-test to see whether there is a difference in age distribution between athletes who won medals and those who did not. In this case, our null hypothesis stating that there is no difference in age distribution between athletes who won medals and athletes who did not. What we got for our p-value is close to zero, which suggests us to reject our null hypothesis and turns for our alternative hypothesis that there is a difference between the age distribution be between athletes who won medals and athletes who did not. <b>"
   ]
  },
  {
   "cell_type": "code",
   "execution_count": 21,
   "metadata": {
    "slideshow": {
     "slide_type": "skip"
    }
   },
   "outputs": [],
   "source": [
    "#### Hypothesis testingn for observed mean\n",
    "n_repetitions = 500\n",
    "\n",
    "means = []\n",
    "for i in range(n_repetitions):\n",
    "    # shuffle the gender column\n",
    "    shuffled_col = (\n",
    "        athlete['Age']\n",
    "        .sample(replace=False, frac=1)\n",
    "        .reset_index(drop=True)\n",
    "    )\n",
    "    \n",
    "    # put them in a table\n",
    "    shuffled = (\n",
    "        athlete\n",
    "        .assign(**{\n",
    "            'Age': shuffled_col,\n",
    "            'medal_not': athlete['Medal'] == 0\n",
    "        })\n",
    "    )\n",
    "    \n",
    "    # compute the differences in means\n",
    "    mean = shuffled.groupby('medal_not')['Age'].mean().diff().abs().iloc[-1]\n",
    "    \n",
    "    means.append(mean)"
   ]
  },
  {
   "cell_type": "code",
   "execution_count": 22,
   "metadata": {
    "slideshow": {
     "slide_type": "subslide"
    }
   },
   "outputs": [
    {
     "data": {
      "image/png": "[encoded data removed]",
      "text/plain": [
       "<Figure size 432x288 with 1 Axes>"
      ]
     },
     "metadata": {
      "needs_background": "light"
     },
     "output_type": "display_data"
    }
   ],
   "source": [
    "obs = (athlete.loc[athlete.Medal!= 0].Age.mean() - athlete.loc[athlete.Medal == 0].Age.mean())\n",
    "pval = np.mean(np.array(means) > obs)\n",
    "pd.Series(means).plot(kind='hist', density=True, alpha=0.8, title='p-value: %f' % pval)\n",
    "plt.scatter(obs, 0, color='red', s=40);"
   ]
  },
  {
   "cell_type": "markdown",
   "metadata": {
    "slideshow": {
     "slide_type": "slide"
    }
   },
   "source": [
    "### Permutation Test Conclusion"
   ]
  },
  {
   "cell_type": "markdown",
   "metadata": {
    "slideshow": {
     "slide_type": "skip"
    }
   },
   "source": [
    "After we getting our data, we observed that there is an approximately 0.6 years old differences beween athletes who won medals and athletes who did not. Therefore, we want to discover whether there is a difference in age between these two groups, or more specifically, the 0.6 years old difference is meaningful.\n",
    "\n",
    "* Null hypothesis -- there is no difference in age between athletes who won medals and athletes who did not.\n",
    "* Alternative hypothesis -- there is a difference in age between athletes who won medals and athletes who did not.\n",
    "\n",
    "\n",
    "After deciding our Null Hypothesis and Alternative Hypothesis, we perform a permutation test, choosing a significance level = 0.05. This permutation test gives us a p-value = 0.0, which is smaller than our significance level, meaning we need to reject our null hypothesis, and concluding that there is a difference in ahe between athletes who won medals and athletes who did not."
   ]
  },
  {
   "cell_type": "markdown",
   "metadata": {
    "slideshow": {
     "slide_type": "slide"
    }
   },
   "source": [
    "### Optimal Age Ranges for Medal vs No Medal"
   ]
  },
  {
   "cell_type": "code",
   "execution_count": 23,
   "metadata": {
    "slideshow": {
     "slide_type": "subslide"
    }
   },
   "outputs": [],
   "source": [
    "age_medal = athlete[athlete['got_medal'] == 1]['Age']\n",
    "age_no_medal = athlete[athlete['got_medal'] == 0]['Age']\n",
    "data = [age_medal, age_no_medal]"
   ]
  },
  {
   "cell_type": "code",
   "execution_count": 24,
   "metadata": {
    "slideshow": {
     "slide_type": "subslide"
    }
   },
   "outputs": [
    {
     "data": {
      "text/plain": [
       "([<matplotlib.axis.YTick at 0x1a2482f510>,\n",
       "  <matplotlib.axis.YTick at 0x181ed7b750>],\n",
       " <a list of 2 Text yticklabel objects>)"
      ]
     },
     "execution_count": 24,
     "metadata": {},
     "output_type": "execute_result"
    },
    {
     "data": {
      "image/png": "[encoded data removed]",
      "text/plain": [
       "<Figure size 864x288 with 1 Axes>"
      ]
     },
     "metadata": {
      "needs_background": "light"
     },
     "output_type": "display_data"
    }
   ],
   "source": [
    "green_diamond = dict(markerfacecolor='g', marker='D')\n",
    "fig3, ax1 = plt.subplots(figsize=(12,4))\n",
    "ax1.boxplot(data, vert=False, flierprops=green_diamond)\n",
    "ax1.xaxis.grid(True, linestyle='-', which='major', color='lightgrey',alpha=0.5)\n",
    "ax1.set_title('Medal vs. Age')\n",
    "ax1.set_xlabel('Age Distribution')\n",
    "ax1.set_ylabel('medal vs. no medal')\n",
    "plt.yticks(np.arange(1,3), ('has_medal','no_medal'))"
   ]
  },
  {
   "cell_type": "code",
   "execution_count": 25,
   "metadata": {
    "slideshow": {
     "slide_type": "subslide"
    }
   },
   "outputs": [
    {
     "name": "stdout",
     "output_type": "stream",
     "text": [
      "medal's 37.5 percentile: 24.0\n",
      "medal's 62.5 percentile: 27.0\n",
      "no medal's 37.5 percentile: 23.0\n",
      "no medal's 62.5 percentile: 26.0\n"
     ]
    }
   ],
   "source": [
    "print(\"medal's 37.5 percentile:\", np.percentile(age_medal, 37.5, axis = 0))\n",
    "print(\"medal's 62.5 percentile:\", np.percentile(age_medal, 62.5, axis = 0))\n",
    "\n",
    "print(\"no medal's 37.5 percentile:\", np.percentile(age_no_medal, 37.5, axis = 0))\n",
    "print(\"no medal's 62.5 percentile:\", np.percentile(age_no_medal, 62.5, axis = 0))"
   ]
  },
  {
   "cell_type": "markdown",
   "metadata": {
    "slideshow": {
     "slide_type": "subslide"
    }
   },
   "source": [
    "The optimal age range for getting `medals` is 24 - 27."
   ]
  },
  {
   "cell_type": "markdown",
   "metadata": {
    "slideshow": {
     "slide_type": "skip"
    }
   },
   "source": [
    "------------------------------------------------------------------------------------------------------------------------------"
   ]
  },
  {
   "cell_type": "markdown",
   "metadata": {
    "slideshow": {
     "slide_type": "slide"
    }
   },
   "source": [
    "## Gender"
   ]
  },
  {
   "cell_type": "code",
   "execution_count": 26,
   "metadata": {
    "slideshow": {
     "slide_type": "skip"
    }
   },
   "outputs": [
    {
     "name": "stdout",
     "output_type": "stream",
     "text": [
      "athletes who do not get medals\n"
     ]
    },
    {
     "data": {
      "text/html": [
       "<div>\n",
       "<style scoped>\n",
       "    .dataframe tbody tr th:only-of-type {\n",
       "        vertical-align: middle;\n",
       "    }\n",
       "\n",
       "    .dataframe tbody tr th {\n",
       "        vertical-align: top;\n",
       "    }\n",
       "\n",
       "    .dataframe thead th {\n",
       "        text-align: right;\n",
       "    }\n",
       "</style>\n",
       "<table border=\"1\" class=\"dataframe\">\n",
       "  <thead>\n",
       "    <tr style=\"text-align: right;\">\n",
       "      <th></th>\n",
       "      <th>Age</th>\n",
       "    </tr>\n",
       "    <tr>\n",
       "      <th>Sex</th>\n",
       "      <th></th>\n",
       "    </tr>\n",
       "  </thead>\n",
       "  <tbody>\n",
       "    <tr>\n",
       "      <td>F</td>\n",
       "      <td>23.545034</td>\n",
       "    </tr>\n",
       "    <tr>\n",
       "      <td>M</td>\n",
       "      <td>26.068144</td>\n",
       "    </tr>\n",
       "  </tbody>\n",
       "</table>\n",
       "</div>"
      ],
      "text/plain": [
       "           Age\n",
       "Sex           \n",
       "F    23.545034\n",
       "M    26.068144"
      ]
     },
     "metadata": {},
     "output_type": "display_data"
    },
    {
     "name": "stdout",
     "output_type": "stream",
     "text": [
      "athletes who get medals\n"
     ]
    },
    {
     "data": {
      "text/html": [
       "<div>\n",
       "<style scoped>\n",
       "    .dataframe tbody tr th:only-of-type {\n",
       "        vertical-align: middle;\n",
       "    }\n",
       "\n",
       "    .dataframe tbody tr th {\n",
       "        vertical-align: top;\n",
       "    }\n",
       "\n",
       "    .dataframe thead th {\n",
       "        text-align: right;\n",
       "    }\n",
       "</style>\n",
       "<table border=\"1\" class=\"dataframe\">\n",
       "  <thead>\n",
       "    <tr style=\"text-align: right;\">\n",
       "      <th></th>\n",
       "      <th>Age</th>\n",
       "    </tr>\n",
       "    <tr>\n",
       "      <th>Sex</th>\n",
       "      <th></th>\n",
       "    </tr>\n",
       "  </thead>\n",
       "  <tbody>\n",
       "    <tr>\n",
       "      <td>F</td>\n",
       "      <td>24.473167</td>\n",
       "    </tr>\n",
       "    <tr>\n",
       "      <td>M</td>\n",
       "      <td>26.445810</td>\n",
       "    </tr>\n",
       "  </tbody>\n",
       "</table>\n",
       "</div>"
      ],
      "text/plain": [
       "           Age\n",
       "Sex           \n",
       "F    24.473167\n",
       "M    26.445810"
      ]
     },
     "metadata": {},
     "output_type": "display_data"
    },
    {
     "data": {
      "text/plain": [
       "<BarContainer object of 2 artists>"
      ]
     },
     "execution_count": 26,
     "metadata": {},
     "output_type": "execute_result"
    },
    {
     "data": {
      "image/png": "[encoded data removed]",
      "text/plain": [
       "<Figure size 432x288 with 2 Axes>"
      ]
     },
     "metadata": {
      "needs_background": "light"
     },
     "output_type": "display_data"
    }
   ],
   "source": [
    "gender = athlete[athlete['got_medal']==False].groupby(['Sex'])['Age'].mean().reset_index()\n",
    "gender_medal = athlete[athlete['got_medal']==True].groupby(['Sex'])['Age'].mean().reset_index()\n",
    "print('athletes who do not get medals')\n",
    "display(gender.set_index('Sex'))\n",
    "print('athletes who get medals')\n",
    "display(gender_medal.set_index('Sex'))\n",
    "fig, axes = plt.subplots(1,2)\n",
    "axes[0].bar(gender['Sex'],gender['Age'])\n",
    "axes[1].bar(gender_medal['Sex'],gender_medal['Age'])"
   ]
  },
  {
   "cell_type": "markdown",
   "metadata": {
    "slideshow": {
     "slide_type": "skip"
    }
   },
   "source": [
    "Here, the bar chart indicates that on average, within those two groups -- athletes with medals and athletes without, we found that males tend to have a higher average age than females."
   ]
  },
  {
   "cell_type": "code",
   "execution_count": 27,
   "metadata": {
    "slideshow": {
     "slide_type": "skip"
    }
   },
   "outputs": [
    {
     "data": {
      "text/plain": [
       "Ttest_indResult(statistic=-30.791569409443806, pvalue=1.3531323792160763e-205)"
      ]
     },
     "execution_count": 27,
     "metadata": {},
     "output_type": "execute_result"
    }
   ],
   "source": [
    "## for with medals\n",
    "with_medals = athlete[athlete['got_medal']==1]\n",
    "stats.ttest_ind(with_medals.loc[with_medals['Sex'] == 'F']['Age'].dropna(),\n",
    "                with_medals.loc[with_medals['Sex'] == 'M']['Age'].dropna())"
   ]
  },
  {
   "cell_type": "code",
   "execution_count": 28,
   "metadata": {
    "slideshow": {
     "slide_type": "skip"
    }
   },
   "outputs": [
    {
     "data": {
      "text/plain": [
       "Ttest_indResult(statistic=-88.08056048165984, pvalue=0.0)"
      ]
     },
     "execution_count": 28,
     "metadata": {},
     "output_type": "execute_result"
    }
   ],
   "source": [
    "## for without medals\n",
    "without_medals = athlete[athlete['got_medal']==0]\n",
    "stats.ttest_ind(without_medals.loc[without_medals['Sex'] == 'F']['Age'].dropna(),\n",
    "                without_medals.loc[without_medals['Sex'] == 'M']['Age'].dropna())"
   ]
  },
  {
   "cell_type": "markdown",
   "metadata": {
    "slideshow": {
     "slide_type": "skip"
    }
   },
   "source": [
    "<b> From the t-test, we notice that, no matter for athletes with or without medals, the age distribution between Sex has a difference. In this case, our null hypothesis states that there is no difference in age distribution between females and males. What we got for our p-value are both close to 0, no matter for athletes with medals or those without medals. Therefore, in both groups (athletes with medals or athletes without medals), we conclude that there is a differences in age distribution between females and males. <b>"
   ]
  },
  {
   "cell_type": "code",
   "execution_count": 29,
   "metadata": {
    "slideshow": {
     "slide_type": "skip"
    }
   },
   "outputs": [
    {
     "data": {
      "text/plain": [
       "<matplotlib.axes._subplots.AxesSubplot at 0x1a1fb43350>"
      ]
     },
     "execution_count": 29,
     "metadata": {},
     "output_type": "execute_result"
    },
    {
     "data": {
      "image/png": "[encoded data removed]",
      "text/plain": [
       "<Figure size 432x288 with 1 Axes>"
      ]
     },
     "metadata": {
      "needs_background": "light"
     },
     "output_type": "display_data"
    }
   ],
   "source": [
    "gender = athlete[athlete['got_medal']==True].pivot_table(columns = 'Sex',index='Year', values='Age',aggfunc = 'mean')\n",
    "gender.plot()"
   ]
  },
  {
   "cell_type": "code",
   "execution_count": 30,
   "metadata": {
    "slideshow": {
     "slide_type": "skip"
    }
   },
   "outputs": [
    {
     "data": {
      "text/plain": [
       "<matplotlib.axes._subplots.AxesSubplot at 0x1a201c1190>"
      ]
     },
     "execution_count": 30,
     "metadata": {},
     "output_type": "execute_result"
    },
    {
     "data": {
      "image/png": "[encoded data removed]",
      "text/plain": [
       "<Figure size 432x288 with 1 Axes>"
      ]
     },
     "metadata": {
      "needs_background": "light"
     },
     "output_type": "display_data"
    }
   ],
   "source": [
    "gender = athlete[athlete['got_medal'] == False].pivot_table(columns = 'Sex',index='Year', values='Age',aggfunc = 'mean')\n",
    "gender.plot()"
   ]
  },
  {
   "cell_type": "markdown",
   "metadata": {
    "slideshow": {
     "slide_type": "skip"
    }
   },
   "source": [
    "<b> From the above plots, we observed that as the years pass by, the average age differences between female athletes and male athletes are shrinking, no matter for the athletes won medals or not. <b>"
   ]
  },
  {
   "cell_type": "code",
   "execution_count": 31,
   "metadata": {
    "slideshow": {
     "slide_type": "skip"
    }
   },
   "outputs": [
    {
     "data": {
      "text/plain": [
       "<matplotlib.axes._subplots.AxesSubplot at 0x1a1ffeead0>"
      ]
     },
     "execution_count": 31,
     "metadata": {},
     "output_type": "execute_result"
    },
    {
     "data": {
      "image/png": "[encoded data removed]",
      "text/plain": [
       "<Figure size 432x288 with 1 Axes>"
      ]
     },
     "metadata": {
      "needs_background": "light"
     },
     "output_type": "display_data"
    }
   ],
   "source": [
    "age_diff = athlete.groupby(['Year','Sex'])['Age'].mean().reset_index()\n",
    "age_diff.groupby('Year')['Age'].diff().dropna().to_frame().set_index(age_diff.Year.unique()).plot()"
   ]
  },
  {
   "cell_type": "code",
   "execution_count": 32,
   "metadata": {
    "slideshow": {
     "slide_type": "skip"
    }
   },
   "outputs": [
    {
     "data": {
      "text/plain": [
       "<matplotlib.axes._subplots.AxesSubplot at 0x1a202006d0>"
      ]
     },
     "execution_count": 32,
     "metadata": {},
     "output_type": "execute_result"
    },
    {
     "data": {
      "image/png": "[encoded data removed]",
      "text/plain": [
       "<Figure size 432x288 with 1 Axes>"
      ]
     },
     "metadata": {
      "needs_background": "light"
     },
     "output_type": "display_data"
    }
   ],
   "source": [
    "age_diff = athlete[athlete['got_medal']==False].groupby(['Year','Sex'])['Age'].mean().reset_index()\n",
    "age_diff.groupby('Year')['Age'].diff().dropna().to_frame().set_index(age_diff.Year.unique()).plot()"
   ]
  },
  {
   "cell_type": "code",
   "execution_count": 33,
   "metadata": {
    "slideshow": {
     "slide_type": "skip"
    }
   },
   "outputs": [
    {
     "data": {
      "text/plain": [
       "<matplotlib.axes._subplots.AxesSubplot at 0x1a254b2310>"
      ]
     },
     "execution_count": 33,
     "metadata": {},
     "output_type": "execute_result"
    },
    {
     "data": {
      "image/png": "[encoded data removed]",
      "text/plain": [
       "<Figure size 432x288 with 1 Axes>"
      ]
     },
     "metadata": {
      "needs_background": "light"
     },
     "output_type": "display_data"
    }
   ],
   "source": [
    "age_diff = athlete[athlete['got_medal']==True].groupby(['Year','Sex'])['Age'].mean().reset_index()\n",
    "age_diff.groupby('Year')['Age'].diff().dropna().to_frame().set_index(age_diff.Year.unique()).plot()"
   ]
  },
  {
   "cell_type": "markdown",
   "metadata": {
    "slideshow": {
     "slide_type": "skip"
    }
   },
   "source": [
    "These two plots further justify the age difference between sex is decreasing in the 2 groups (athletes with medals and athletes without medals)."
   ]
  },
  {
   "cell_type": "markdown",
   "metadata": {
    "slideshow": {
     "slide_type": "slide"
    }
   },
   "source": [
    "### Optimal Age Ranges for Female vs Male"
   ]
  },
  {
   "cell_type": "code",
   "execution_count": 34,
   "metadata": {
    "slideshow": {
     "slide_type": "subslide"
    }
   },
   "outputs": [],
   "source": [
    "age_female = athlete[(athlete['got_medal'] == 1)&(athlete['Sex']=='F')]['Age']\n",
    "age_male = athlete[(athlete['got_medal'] == 1)&(athlete['Sex']=='M')]['Age']\n",
    "data = [age_female, age_male]"
   ]
  },
  {
   "cell_type": "code",
   "execution_count": 35,
   "metadata": {
    "slideshow": {
     "slide_type": "subslide"
    }
   },
   "outputs": [
    {
     "data": {
      "text/plain": [
       "([<matplotlib.axis.YTick at 0x1a24820510>,\n",
       "  <matplotlib.axis.YTick at 0x1a2494aa50>],\n",
       " <a list of 2 Text yticklabel objects>)"
      ]
     },
     "execution_count": 35,
     "metadata": {},
     "output_type": "execute_result"
    },
    {
     "data": {
      "image/png": "[encoded data removed]",
      "text/plain": [
       "<Figure size 864x288 with 1 Axes>"
      ]
     },
     "metadata": {
      "needs_background": "light"
     },
     "output_type": "display_data"
    }
   ],
   "source": [
    "green_diamond = dict(markerfacecolor='g', marker='D')\n",
    "fig3, ax1 = plt.subplots(figsize=(12,4))\n",
    "ax1.boxplot(data, vert=False, flierprops=green_diamond)\n",
    "# Add a horizontal grid to the plot, but make it very light in color\n",
    "# so we can use it for reading data values but not be distracting\n",
    "ax1.xaxis.grid(True, linestyle='-', which='major', color='lightgrey',alpha=0.5)\n",
    "# Hide these grid behind plot objects\n",
    "ax1.set_title('Sex vs Age')\n",
    "ax1.set_xlabel('Age Distribution')\n",
    "ax1.set_ylabel('Sex')\n",
    "plt.yticks(np.arange(1,3), ('Female', 'Male'))"
   ]
  },
  {
   "cell_type": "code",
   "execution_count": 36,
   "metadata": {
    "slideshow": {
     "slide_type": "subslide"
    }
   },
   "outputs": [
    {
     "name": "stdout",
     "output_type": "stream",
     "text": [
      "Female's 37.5 percentile: 23.0\n",
      "Female's 62.5 percentile: 26.0\n",
      "Male's 37.5 percentile: 24.0\n",
      "Male's 62.5 percentile: 27.0\n"
     ]
    }
   ],
   "source": [
    "print(\"Female's 37.5 percentile:\", np.percentile(age_female, 37.5, axis = 0))\n",
    "print(\"Female's 62.5 percentile:\", np.percentile(age_female, 62.5, axis = 0))\n",
    "\n",
    "print(\"Male's 37.5 percentile:\", np.percentile(age_male, 37.5, axis = 0))\n",
    "print(\"Male's 62.5 percentile:\", np.percentile(age_male, 62.5, axis = 0))"
   ]
  },
  {
   "cell_type": "markdown",
   "metadata": {
    "slideshow": {
     "slide_type": "subslide"
    }
   },
   "source": [
    "<b>Findings:<b>\n",
    "* The optimal age for `female` getting medals is 23-26\n",
    "* The optimal age for `male` getting medals is 24-27"
   ]
  },
  {
   "cell_type": "markdown",
   "metadata": {
    "slideshow": {
     "slide_type": "skip"
    }
   },
   "source": [
    "------------------------------------------------------------------------------------------------------------------------------"
   ]
  },
  {
   "cell_type": "markdown",
   "metadata": {
    "slideshow": {
     "slide_type": "slide"
    }
   },
   "source": [
    "## Season"
   ]
  },
  {
   "cell_type": "markdown",
   "metadata": {
    "slideshow": {
     "slide_type": "skip"
    }
   },
   "source": [
    "### a) Age & Season"
   ]
  },
  {
   "cell_type": "markdown",
   "metadata": {
    "slideshow": {
     "slide_type": "skip"
    }
   },
   "source": [
    "<b> In this part, we try to discover the average age differences between Summer and Winter Olympics and try to test whether the age distributions between Summer and Winter Olympics have significant differences. <b>"
   ]
  },
  {
   "cell_type": "code",
   "execution_count": 37,
   "metadata": {
    "slideshow": {
     "slide_type": "skip"
    }
   },
   "outputs": [
    {
     "data": {
      "text/plain": [
       "Season\n",
       "Summer    25.502896\n",
       "Winter    25.039147\n",
       "Name: Age, dtype: float64"
      ]
     },
     "metadata": {},
     "output_type": "display_data"
    },
    {
     "data": {
      "text/plain": [
       "<matplotlib.axes._subplots.AxesSubplot at 0x1a24a0f790>"
      ]
     },
     "execution_count": 37,
     "metadata": {},
     "output_type": "execute_result"
    },
    {
     "data": {
      "image/png": "[encoded data removed]",
      "text/plain": [
       "<Figure size 432x288 with 1 Axes>"
      ]
     },
     "metadata": {
      "needs_background": "light"
     },
     "output_type": "display_data"
    }
   ],
   "source": [
    "season_df = athlete.groupby('Season')['Age'].mean()\n",
    "display(season_df)\n",
    "season_df.plot(kind='bar')"
   ]
  },
  {
   "cell_type": "markdown",
   "metadata": {
    "slideshow": {
     "slide_type": "skip"
    }
   },
   "source": [
    "<b> This bar chart suggests that the average ages for both summer and winter are very similar. There only exists an approximately 0.5 age difference between summer and winter groups, slightly suggesting there is a difference in age distribution between these two groups. To further discover whether there is a difference, we perform following t-test. <b>"
   ]
  },
  {
   "cell_type": "code",
   "execution_count": 38,
   "metadata": {
    "slideshow": {
     "slide_type": "skip"
    }
   },
   "outputs": [
    {
     "data": {
      "text/plain": [
       "Ttest_indResult(statistic=15.040707692283027, pvalue=4.179255122632089e-51)"
      ]
     },
     "execution_count": 38,
     "metadata": {},
     "output_type": "execute_result"
    }
   ],
   "source": [
    "## for general age distribution between seasons\n",
    "stats.ttest_ind(athlete.loc[athlete['Season'] == 'Summer']['Age'].dropna(),\n",
    "                athlete.loc[athlete['Season'] == 'Winter']['Age'].dropna())"
   ]
  },
  {
   "cell_type": "markdown",
   "metadata": {
    "slideshow": {
     "slide_type": "skip"
    }
   },
   "source": [
    "<b> This t-test justifies that we <i>reject</i> our null hypothesis that there is no difference between age distributions in summer and winter Olympic seasons. We are in favor of our alternative hypothesis, which states that the age distribution between summer and winter Olympic seasons is different. </b>"
   ]
  },
  {
   "cell_type": "markdown",
   "metadata": {
    "slideshow": {
     "slide_type": "skip"
    }
   },
   "source": [
    "<br>\n",
    "<br>"
   ]
  },
  {
   "cell_type": "markdown",
   "metadata": {
    "slideshow": {
     "slide_type": "skip"
    }
   },
   "source": [
    "To dive deeper into athletes who won medals in Olympics with perspective to Summer and Winter Seasons, we did following exploration."
   ]
  },
  {
   "cell_type": "markdown",
   "metadata": {
    "slideshow": {
     "slide_type": "skip"
    }
   },
   "source": [
    "### b) Age & Seasons for Atheltes with Medals"
   ]
  },
  {
   "cell_type": "markdown",
   "metadata": {
    "slideshow": {
     "slide_type": "skip"
    }
   },
   "source": [
    "Under the group of athletes with Medals, we try to discover whether there is difference in age distribution:"
   ]
  },
  {
   "cell_type": "code",
   "execution_count": 39,
   "metadata": {
    "slideshow": {
     "slide_type": "skip"
    }
   },
   "outputs": [
    {
     "data": {
      "text/plain": [
       "Season\n",
       "Summer    25.809481\n",
       "Winter    26.063688\n",
       "Name: Age, dtype: float64"
      ]
     },
     "metadata": {},
     "output_type": "display_data"
    },
    {
     "data": {
      "text/plain": [
       "<matplotlib.axes._subplots.AxesSubplot at 0x1a2abd7850>"
      ]
     },
     "execution_count": 39,
     "metadata": {},
     "output_type": "execute_result"
    },
    {
     "data": {
      "image/png": "[encoded data removed]",
      "text/plain": [
       "<Figure size 432x288 with 1 Axes>"
      ]
     },
     "metadata": {
      "needs_background": "light"
     },
     "output_type": "display_data"
    }
   ],
   "source": [
    "season_df = athlete[athlete['got_medal']==1].groupby(['Season'])['Age'].mean()\n",
    "display(season_df)\n",
    "season_df.plot(kind='bar')"
   ]
  },
  {
   "cell_type": "markdown",
   "metadata": {
    "slideshow": {
     "slide_type": "skip"
    }
   },
   "source": [
    "<b> This bar chart suggests that the differences in average age between Summer and Winter seasons is small, and approximately equal to 2 years old. To further discover whether there exists a differences in age distribution, we did following t-test:"
   ]
  },
  {
   "cell_type": "code",
   "execution_count": 40,
   "metadata": {
    "slideshow": {
     "slide_type": "skip"
    }
   },
   "outputs": [
    {
     "data": {
      "text/plain": [
       "Ttest_indResult(statistic=-3.075735419606377, pvalue=0.00210137255599842)"
      ]
     },
     "execution_count": 40,
     "metadata": {},
     "output_type": "execute_result"
    }
   ],
   "source": [
    "## for summer, t-test for athletes got medal or not\n",
    "stats.ttest_ind(athlete[athlete['got_medal']==1].loc[with_medals['Season'] == 'Summer']['Age'],\n",
    "                athlete[athlete['got_medal']==1].loc[with_medals['Season'] == 'Winter']['Age'])"
   ]
  },
  {
   "cell_type": "markdown",
   "metadata": {
    "slideshow": {
     "slide_type": "skip"
    }
   },
   "source": [
    "<b> In this case, our t-test gives back a pvalue = 0.002, which is smaller than the general significance level =0.05, therefore, we <i>reject</i> our Null hypothesis that there is no differences in age distribution between Summer and Winter Olympic seasons for athletes who won medals."
   ]
  },
  {
   "cell_type": "markdown",
   "metadata": {
    "slideshow": {
     "slide_type": "skip"
    }
   },
   "source": [
    "### c) Age & Seasons & Sex for Atheltes with Medals"
   ]
  },
  {
   "cell_type": "markdown",
   "metadata": {
    "slideshow": {
     "slide_type": "skip"
    }
   },
   "source": [
    "In this section, we are trying to see whether there is a difference between age distribution with perspective to `Sex` and `Season` for athletes with medals"
   ]
  },
  {
   "cell_type": "code",
   "execution_count": 41,
   "metadata": {
    "slideshow": {
     "slide_type": "skip"
    }
   },
   "outputs": [
    {
     "name": "stdout",
     "output_type": "stream",
     "text": [
      "Female\n"
     ]
    },
    {
     "data": {
      "text/plain": [
       "Season\n",
       "Summer    24.335535\n",
       "Winter    25.186637\n",
       "Name: Age, dtype: float64"
      ]
     },
     "metadata": {},
     "output_type": "display_data"
    },
    {
     "data": {
      "text/plain": [
       "<matplotlib.axes._subplots.AxesSubplot at 0x1a2aa6af10>"
      ]
     },
     "execution_count": 41,
     "metadata": {},
     "output_type": "execute_result"
    },
    {
     "data": {
      "image/png": "[encoded data removed]",
      "text/plain": [
       "<Figure size 432x288 with 1 Axes>"
      ]
     },
     "metadata": {
      "needs_background": "light"
     },
     "output_type": "display_data"
    }
   ],
   "source": [
    "print('Female')\n",
    "season_df = athlete[(athlete['got_medal']==1) & (athlete['Sex']=='F')].groupby(['Season'])['Age'].mean()\n",
    "display(season_df)\n",
    "season_df.plot(kind='bar')"
   ]
  },
  {
   "cell_type": "code",
   "execution_count": 42,
   "metadata": {
    "slideshow": {
     "slide_type": "skip"
    }
   },
   "outputs": [
    {
     "name": "stdout",
     "output_type": "stream",
     "text": [
      "Male\n"
     ]
    },
    {
     "data": {
      "text/plain": [
       "Season\n",
       "Summer    26.440865\n",
       "Winter    26.473793\n",
       "Name: Age, dtype: float64"
      ]
     },
     "metadata": {},
     "output_type": "display_data"
    },
    {
     "data": {
      "text/plain": [
       "<matplotlib.axes._subplots.AxesSubplot at 0x1a27dac490>"
      ]
     },
     "execution_count": 42,
     "metadata": {},
     "output_type": "execute_result"
    },
    {
     "data": {
      "image/png": "[encoded data removed]",
      "text/plain": [
       "<Figure size 432x288 with 1 Axes>"
      ]
     },
     "metadata": {
      "needs_background": "light"
     },
     "output_type": "display_data"
    }
   ],
   "source": [
    "print('Male')\n",
    "season_df = athlete[(athlete['got_medal']==1) & (athlete['Sex']=='M')].groupby(['Season'])['Age'].mean()\n",
    "display(season_df)\n",
    "season_df.plot(kind='bar')"
   ]
  },
  {
   "cell_type": "markdown",
   "metadata": {
    "slideshow": {
     "slide_type": "skip"
    }
   },
   "source": [
    "<b> The above 2 bar chart indicate that, for females, there exists an approximately 1 year difference in average age between Summer and Winter seasons for atheltes who won medals. For males, there exists an approximately 0.03 year difference. Therefore, we are curious about whether this specific difference suggests there are differences in age distributions for these two groups. Therefore, we perform following t-tests:"
   ]
  },
  {
   "cell_type": "code",
   "execution_count": 43,
   "metadata": {
    "slideshow": {
     "slide_type": "skip"
    }
   },
   "outputs": [
    {
     "name": "stdout",
     "output_type": "stream",
     "text": [
      "Female\n"
     ]
    },
    {
     "data": {
      "text/plain": [
       "Ttest_indResult(statistic=-6.402427599851293, pvalue=1.5904466084555113e-10)"
      ]
     },
     "execution_count": 43,
     "metadata": {},
     "output_type": "execute_result"
    }
   ],
   "source": [
    "print('Female')\n",
    "females_w_medals = athlete[(athlete['got_medal'] == 1)&(athlete['Sex']=='F')]\n",
    "stats.ttest_ind(females_w_medals.loc[females_w_medals['Season'] == 'Summer']['Age'],\n",
    "                females_w_medals.loc[females_w_medals['Season'] == 'Winter']['Age'])"
   ]
  },
  {
   "cell_type": "code",
   "execution_count": 44,
   "metadata": {
    "slideshow": {
     "slide_type": "skip"
    }
   },
   "outputs": [
    {
     "name": "stdout",
     "output_type": "stream",
     "text": [
      "Male\n"
     ]
    },
    {
     "data": {
      "text/plain": [
       "Ttest_indResult(statistic=-0.32268241640130196, pvalue=0.7469383861973562)"
      ]
     },
     "execution_count": 44,
     "metadata": {},
     "output_type": "execute_result"
    }
   ],
   "source": [
    "print('Male')\n",
    "males_w_medals = athlete[(athlete['got_medal'] == 1)&(athlete['Sex']=='M')]\n",
    "stats.ttest_ind(males_w_medals.loc[males_w_medals['Season'] == 'Summer']['Age'],\n",
    "                males_w_medals.loc[males_w_medals['Season'] == 'Winter']['Age'])"
   ]
  },
  {
   "cell_type": "markdown",
   "metadata": {
    "slideshow": {
     "slide_type": "skip"
    }
   },
   "source": [
    "<b> Interesting findings here: \n",
    "* For females, we <i>reject</i> our Null hypothesis and conclude that there has differences in age distribution with perspective to Summer or Winter seasons for female athletes who won medals, as the pvalue is approximately to 0; \n",
    "* However, for males, there is no difference in age distribution with perspective to Summer or Winter seasons for athletes who won medals since the p-value we got is 0.74, which is far larger than the genral significance level 0.05. Therefore, in the male case, we <i> cannot reject</i> our Null hypothesis, and conclude that, there is no difference in age distribution with perspective to Summer and Winter seasons for male athletes who won medals."
   ]
  },
  {
   "cell_type": "markdown",
   "metadata": {
    "slideshow": {
     "slide_type": "skip"
    }
   },
   "source": [
    "<br>"
   ]
  },
  {
   "cell_type": "markdown",
   "metadata": {
    "slideshow": {
     "slide_type": "skip"
    }
   },
   "source": [
    "<b>Such interesting findings lead us to wonder: why when combining genders, the t-tests show different result. So, we consider one specific sport, gymnastics, to discover whether the age for participating in sports, for example, gymnastics which only hold in summer, will result such differences."
   ]
  },
  {
   "cell_type": "code",
   "execution_count": 45,
   "metadata": {
    "slideshow": {
     "slide_type": "skip"
    }
   },
   "outputs": [
    {
     "data": {
      "text/plain": [
       "Season\n",
       "Summer    1969\n",
       "dtype: int64"
      ]
     },
     "execution_count": 45,
     "metadata": {},
     "output_type": "execute_result"
    }
   ],
   "source": [
    "athlete.loc[(athlete['got_medal'] == 1) & (athlete['Sport'] == 'Gymnastics')].groupby('Season').size()"
   ]
  },
  {
   "cell_type": "code",
   "execution_count": 46,
   "metadata": {
    "slideshow": {
     "slide_type": "skip"
    }
   },
   "outputs": [
    {
     "data": {
      "text/plain": [
       "Sex\n",
       "F    20.200000\n",
       "M    25.022763\n",
       "Name: Age, dtype: float64"
      ]
     },
     "execution_count": 46,
     "metadata": {},
     "output_type": "execute_result"
    }
   ],
   "source": [
    "athlete.loc[(athlete['got_medal'] == 1) & (athlete['Sport'] == 'Gymnastics')].groupby('Sex')['Age'].mean()"
   ]
  },
  {
   "cell_type": "markdown",
   "metadata": {
    "slideshow": {
     "slide_type": "skip"
    }
   },
   "source": [
    "<b> The above statistic indicates that, for gymnastics, female athletes who won medals tends to had a smaller age than male athletes who won medals. As the data shows, female athletes who won medals is around `20`, which is much smaller than the average age `24.4` for females who won medals. However, male athletes who won medals is around `25`, which is much closer to `26.4` than female's data. Thus, we understand that the reason why female get different optimal age ranges for different season is due to the fact that some sports like gymnastics which only hold in summer have a smaller average age than female overall."
   ]
  },
  {
   "cell_type": "markdown",
   "metadata": {
    "slideshow": {
     "slide_type": "skip"
    }
   },
   "source": [
    "<br>"
   ]
  },
  {
   "cell_type": "markdown",
   "metadata": {
    "slideshow": {
     "slide_type": "slide"
    }
   },
   "source": [
    "### Optimal Age Ranges for Winter vs Summer"
   ]
  },
  {
   "cell_type": "code",
   "execution_count": 47,
   "metadata": {
    "slideshow": {
     "slide_type": "subslide"
    }
   },
   "outputs": [],
   "source": [
    "summer_f = athlete[(athlete['got_medal'] == 1)&(athlete['Sex']=='F')&(athlete['Season']=='Summer')]['Age']\n",
    "winter_f = athlete[(athlete['got_medal'] == 1)&(athlete['Sex']=='F')&(athlete['Season']=='Winter')]['Age']\n",
    "data = [summer_f, winter_f]"
   ]
  },
  {
   "cell_type": "code",
   "execution_count": 48,
   "metadata": {
    "slideshow": {
     "slide_type": "subslide"
    }
   },
   "outputs": [
    {
     "data": {
      "text/plain": [
       "([<matplotlib.axis.YTick at 0x1a2535c650>,\n",
       "  <matplotlib.axis.YTick at 0x1a25357d90>],\n",
       " <a list of 2 Text yticklabel objects>)"
      ]
     },
     "execution_count": 48,
     "metadata": {},
     "output_type": "execute_result"
    },
    {
     "data": {
      "image/png": "[encoded data removed]",
      "text/plain": [
       "<Figure size 864x288 with 1 Axes>"
      ]
     },
     "metadata": {
      "needs_background": "light"
     },
     "output_type": "display_data"
    }
   ],
   "source": [
    "green_diamond = dict(markerfacecolor='g', marker='D')\n",
    "fig3, ax1 = plt.subplots(figsize=(12,4))\n",
    "ax1.boxplot(data, vert=False, flierprops=green_diamond)\n",
    "# Add a horizontal grid to the plot, but make it very light in color\n",
    "# so we can use it for reading data values but not be distracting\n",
    "ax1.xaxis.grid(True, linestyle='-', which='major', color='lightgrey',alpha=0.5)\n",
    "# Hide these grid behind plot objects\n",
    "ax1.set_title('Season vs Age')\n",
    "ax1.set_xlabel('Age Distribution')\n",
    "ax1.set_ylabel('Season')\n",
    "plt.yticks(np.arange(1,3), ('summer', 'winter'))"
   ]
  },
  {
   "cell_type": "code",
   "execution_count": 49,
   "metadata": {
    "slideshow": {
     "slide_type": "subslide"
    }
   },
   "outputs": [
    {
     "name": "stdout",
     "output_type": "stream",
     "text": [
      "Summer female's 37.5 percentile: 22.0\n",
      "Summer female's 62.5 percentile: 26.0\n",
      "Winter female's 37.5 percentile: 23.0\n",
      "Winter female's 62.5 percentile: 26.0\n"
     ]
    }
   ],
   "source": [
    "print(\"Summer female's 37.5 percentile:\", np.percentile(summer_f, 37.5, axis = 0))\n",
    "print(\"Summer female's 62.5 percentile:\", np.percentile(summer_f, 62.5, axis = 0))\n",
    "\n",
    "print(\"Winter female's 37.5 percentile:\", np.percentile(winter_f, 37.5, axis = 0))\n",
    "print(\"Winter female's 62.5 percentile:\", np.percentile(winter_f, 62.5, axis = 0))"
   ]
  },
  {
   "cell_type": "code",
   "execution_count": 50,
   "metadata": {
    "slideshow": {
     "slide_type": "slide"
    }
   },
   "outputs": [],
   "source": [
    "summer_m = athlete[(athlete['got_medal'] == 1)&(athlete['Sex']=='M')&(athlete['Season']=='Summer')]['Age']\n",
    "winter_m = athlete[(athlete['got_medal'] == 1)&(athlete['Sex']=='M')&(athlete['Season']=='Winter')]['Age']\n",
    "data = [summer_m, winter_m]"
   ]
  },
  {
   "cell_type": "code",
   "execution_count": 51,
   "metadata": {
    "slideshow": {
     "slide_type": "subslide"
    }
   },
   "outputs": [
    {
     "data": {
      "text/plain": [
       "([<matplotlib.axis.YTick at 0x1a27f0aad0>,\n",
       "  <matplotlib.axis.YTick at 0x1a27f0a250>],\n",
       " <a list of 2 Text yticklabel objects>)"
      ]
     },
     "execution_count": 51,
     "metadata": {},
     "output_type": "execute_result"
    },
    {
     "data": {
      "image/png": "[encoded data removed]",
      "text/plain": [
       "<Figure size 864x288 with 1 Axes>"
      ]
     },
     "metadata": {
      "needs_background": "light"
     },
     "output_type": "display_data"
    }
   ],
   "source": [
    "green_diamond = dict(markerfacecolor='g', marker='D')\n",
    "fig3, ax1 = plt.subplots(figsize=(12,4))\n",
    "ax1.boxplot(data, vert=False, flierprops=green_diamond)\n",
    "# Add a horizontal grid to the plot, but make it very light in color\n",
    "# so we can use it for reading data values but not be distracting\n",
    "ax1.xaxis.grid(True, linestyle='-', which='major', color='lightgrey',alpha=0.5)\n",
    "# Hide these grid behind plot objects\n",
    "ax1.set_title('Season vs Age')\n",
    "ax1.set_xlabel('Age Distribution')\n",
    "ax1.set_ylabel('Season')\n",
    "plt.yticks(np.arange(1,3), ('Summer', 'Winter'))"
   ]
  },
  {
   "cell_type": "code",
   "execution_count": 52,
   "metadata": {
    "slideshow": {
     "slide_type": "subslide"
    }
   },
   "outputs": [
    {
     "name": "stdout",
     "output_type": "stream",
     "text": [
      "Summer male's 37.5 percentile: 24.0\n",
      "Summer male's 62.5 percentile: 27.0\n",
      "Winter male's 37.5 percentile: 24.0\n",
      "Winter male's 62.5 percentile: 27.0\n"
     ]
    }
   ],
   "source": [
    "print(\"Summer male's 37.5 percentile:\", np.percentile(summer_m, 37.5, axis = 0))\n",
    "print(\"Summer male's 62.5 percentile:\", np.percentile(summer_m, 62.5, axis = 0))\n",
    "\n",
    "print(\"Winter male's 37.5 percentile:\", np.percentile(winter_m, 37.5, axis = 0))\n",
    "print(\"Winter male's 62.5 percentile:\", np.percentile(winter_m, 62.5, axis = 0))"
   ]
  },
  {
   "cell_type": "markdown",
   "metadata": {
    "slideshow": {
     "slide_type": "slide"
    }
   },
   "source": [
    "* The optimal age range for `Female` participating in `Summer` Olympic is 22-26\n",
    "* The optimal age range for `Female` participating in `Winter` Olympic is 23-26\n",
    "* The optimal age range for `Male` participating in `Summer` Olympic is 24-27\n",
    "* The optimal age range for `Male` participating in `Winter` Olympic is 24-27"
   ]
  },
  {
   "cell_type": "markdown",
   "metadata": {
    "slideshow": {
     "slide_type": "slide"
    }
   },
   "source": [
    "# Ethics & Privacy"
   ]
  },
  {
   "cell_type": "markdown",
   "metadata": {
    "slideshow": {
     "slide_type": "subslide"
    }
   },
   "source": [
    "&nbsp;&nbsp;&nbsp;&nbsp; The data is from Kaggle, which is an open-source platform. Therefore, we have the permission to use this dataset and there is no privacy concern to deal with. Also, the Olympic Games are internationalized and the information of the athletes are shared to the public, there are no privacy issues about recording and analyzing these open data, including events they participated in, medals they earned, or the countries they represented.\n",
    "\n",
    "&nbsp;&nbsp;&nbsp;&nbsp; However, since the date for this dataset varies from 1896 to 2016, the data for weight and height from the earlier years may not be accurate due to the malfunctioness of machines in those years. Also, the name for athletes might not be accurate and our goal has nothing to deal with names of athletes. So, we would like to drop `name`, `weight`, and `height` columns from our dataset. \n",
    "\n",
    "&nbsp;&nbsp;&nbsp;&nbsp; What's more, the dataset might have a gender bias in earlier years. For instance, in 1896, women represented 0% of the dataset. Women began to appear in 1900. Until 1996, the percentage of women in those data entries reached about 50%. Thus, the dataset has a clear gender bias before 1996. Therefore, to be more accurate in analysis, we decide to separate females from males and to discover the “optimal age” for each group.\n",
    "\n",
    "If our analysis justifies that athletes between age 20 and 25 could win the most medals, this will possibly lead to the discriminations on athletes who were not in this age range between age 20 and 25. Also, this research might cause talented athletes outside this age range being overlooked by sponsers and failed in their paths as athletes on Olympics Games."
   ]
  },
  {
   "cell_type": "markdown",
   "metadata": {
    "slideshow": {
     "slide_type": "slide"
    }
   },
   "source": [
    "## Optimal Age Range Decision Tree"
   ]
  },
  {
   "cell_type": "markdown",
   "metadata": {
    "slideshow": {
     "slide_type": "subslide"
    }
   },
   "source": [
    "<img src='tree.jpg'>"
   ]
  },
  {
   "cell_type": "markdown",
   "metadata": {
    "slideshow": {
     "slide_type": "slide"
    }
   },
   "source": [
    "# Conclusion & Discussion"
   ]
  },
  {
   "cell_type": "markdown",
   "metadata": {
    "slideshow": {
     "slide_type": "subslide"
    }
   },
   "source": [
    "&nbsp;&nbsp;&nbsp;&nbsp;Our project focuses on finding the optimal age of athletes in the Olympic games. We attempt to verify the correctness of our hypothesis: The optimal age is between 20 - 25 for athletes to get successful in the Olympic games. We find a dataset on Kaggle and use it as our dataset for this analysis. Our leading question is “What is the optimal age for athletes to be successful”. In our analysis, we clean the dataset by dropping the duplicate rows and columns that are not related to our hypothesis. In addition, we check the number of NaN values in the ‘Age’ column and decide to drop the years that have a high proportion of NaN values. \n",
    "\n",
    "&nbsp;&nbsp;&nbsp;&nbsp;For data analysis, we first use the “Age” column to find out the optimal age range. We then separate the dataset into ‘medal’ and ‘no medal’ to define what we mean by successful. We find out a 0.5 age difference and then using a permutation test and t-test to prove that 0.5 is a significant difference. Thus, we decide that getting a medal means being successful. Later on, we develop data analysis in the ‘Gender’ and ‘Season’ category. We decide to use the middle 25% athletes as our optimal age range since there are many outliners. As a result, the overall optimal age is around 24 - 27. However, the female’s optimal age range is smaller than the male’s, which is 23 - 26 and 24 - 27 accordingly. In addition, we further calculate a more specific optical age ranges with respect to Sex and Season.\n",
    "\n",
    "\n",
    "&nbsp;&nbsp;&nbsp;&nbsp;Our analysis has some limitations. First of all, it is hard to do a deeper analysis of the ‘Sport’ or ‘NOC’ column since they have too many unique values. Secondly, our data is not completed. We decide to drop the NaN in the ‘Age’ column, which reduces the size of our dataset. In addition, since most of the data are categorical data, it is not suitable  to use the regression model like linear regression. Lastly,  since the Olympics only happen once every four years, it is extremely hard to define the true optimal age range because of the gap . In the upcoming Tokyo Olympics game, our predicted optimal age range might be a helpful resource to determine the athletes who can be successful."
   ]
  },
  {
   "cell_type": "markdown",
   "metadata": {
    "slideshow": {
     "slide_type": "skip"
    }
   },
   "source": [
    "# Team Contributions"
   ]
  },
  {
   "cell_type": "markdown",
   "metadata": {
    "slideshow": {
     "slide_type": "skip"
    }
   },
   "source": [
    "- `Rouyu Liu`: She offers a significant amount of contributions on the conceptual framework. For instance, She helped to define ways of approaching our hypothesis through statistics.\n",
    "- `Ting-Yang Hung`: He contributed on data visualizations and statistical testings (t-test, permutation-test) as well as explaining the outcome obtained from each testing in a simplified manner.\n",
    "- `Yijun Liu`: She contributed mostly on visualization the data through plotting as well as explaining what each plot represents. In addition, she had written codes for most of the hypothesis/permutation tests. \n",
    "- `Yiluo Qin`: He contributed mostly on plotting the data as well as offering suggestions on which plot option can best convey that ideas that we are trying to deliver across to the audiances.\n",
    "- `Yu-Chieh Chen`: She did most of the data cleaning. For instance, she dropped the unncessary columns that are not related to the hypothesis and replace the null values to a for meaningful value(such as ordinal encoding). Also, she plotted many plots for data as well as polishing the plots."
   ]
  }
 ],
 "metadata": {
  "kernelspec": {
   "display_name": "Python 3",
   "language": "python",
   "name": "python3"
  },
  "language_info": {
   "codemirror_mode": {
    "name": "ipython",
    "version": 3
   },
   "file_extension": ".py",
   "mimetype": "text/x-python",
   "name": "python",
   "nbconvert_exporter": "python",
   "pygments_lexer": "ipython3",
   "version": "3.7.0"
  }
 },
 "nbformat": 4,
 "nbformat_minor": 2
}
