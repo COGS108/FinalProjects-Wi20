{
 "cells": [
  {
   "cell_type": "markdown",
   "metadata": {},
   "source": [
    "# COGS 108 - Final Project "
   ]
  },
  {
   "cell_type": "markdown",
   "metadata": {},
   "source": [
    "# Overview"
   ]
  },
  {
   "cell_type": "markdown",
   "metadata": {},
   "source": [
    "Our group decided to analyze how important economic factors might have an influence on an interesting topic such as their performance at the Olympics. The datasets have information gathered from various countries around the world that have won medals in the Olympic games and we have information about that country's GDP in each of those years. With this we can observe how changes in a country's GDP have any influence over the number of medals won in that year. We are using the number of medals (gold, silver, bronze) to indicate how successful the country performed in the Olympic Games."
   ]
  },
  {
   "cell_type": "markdown",
   "metadata": {},
   "source": [
    "# Names\n",
    "\n",
    "- Niyonika Sheth\n",
    "- Sudiksha Sarvepalli\n",
    "- Maneesha Nagabandi\n",
    "- Charul Sharma\n",
    "- Jaikrish Chitrarasu"
   ]
  },
  {
   "cell_type": "markdown",
   "metadata": {},
   "source": [
    "# Research Question"
   ]
  },
  {
   "cell_type": "markdown",
   "metadata": {},
   "source": [
    "**Does economic status have an influence on how well a country performs at the Olympics?**\n"
   ]
  },
  {
   "cell_type": "markdown",
   "metadata": {},
   "source": [
    "## Background and Prior Work"
   ]
  },
  {
   "cell_type": "markdown",
   "metadata": {},
   "source": [
    "World Development Indicators (WDI) by World Bank includes data spanning up to 56 years—from 1960 to 2016. WDI frames global trends with indicators on population, population density, urbanization, GNI, and GDP. These indicators measure the world’s economy and progress toward improving lives, achieving sustainable development, providing support for vulnerable populations, and reducing gender disparities. World Development Indicators Data is the primary World Bank collection of development indicators, compiled from officially-recognized international sources. It presents the most current and accurate global development data available, and includes national, regional and global estimates. From this vast dataset comes the simplified dataset with Country, regional and world GDP in current US Dollars ($). We found this simplified data as a \"Certified\" dataset on Datahub. \n",
    "\tThe dataset on Summer Olympics Medals contains a workbook that contains 2 files. The first file is a list of all the medal winners in the Summer Olympics from 1976 Montreal to 2008 Beijing. It includes each and every medal awarded within the period. There's another file by the name 'Country Codes' which was used as a lookup for the countries in the 'Medalists' file.\n",
    "\tBefore we started this project, our group had a general understanding that the countries with the best economies were the ones that had the most representation in the Olympics. We thought that most winners were mainly from first world developed countries that could spare the economic resources on an elite training program.. Of course there are outliers, like Usain Bolt, who come from developing nations that generally don’t have training programs on par with those of the developed nations.\n",
    "\n",
    "References (include links):\n",
    "- 1) https://www.smithsonianmag.com/science-nature/can-statistical-model-accurately-predict-olympic-medal-counts-180949627/\n",
    "\tThis article discusses a model that was created by data scientists that wanted to see if information such as GDP, latitude, geographic area, and total value of exports could be used to predict the 2014 Sochi Winter Olympics. They had a similar goal to ours, but I don’t think that latitude or geographic area will be important factors to indicate a Country will do well in the olympics. \n",
    "\n",
    "- 2) http://re-design.dimiter.eu/?p=868\n",
    "This person tries to find a correlation between Population and Olympic Medals. He concludes there is a strong correlation. Our Project will be slightly different because we will be looking for a correlation between GDP and Olympic Medals."
   ]
  },
  {
   "cell_type": "markdown",
   "metadata": {},
   "source": [
    "# Hypothesis\n"
   ]
  },
  {
   "cell_type": "markdown",
   "metadata": {},
   "source": [
    "Our main hypothesis is that a country’s GDP has an influence on the overall performance of that country in the Olympics, in that better economic performance can result in better resources to support and train athletes and lead to better Olympic performance. We predict higher economic performance for a year would have a positive correlation with the performance of the athletes, measured by the number of gold, silver, and/or bronze medals received that year. \n"
   ]
  },
  {
   "cell_type": "markdown",
   "metadata": {},
   "source": [
    "# Dataset(s)"
   ]
  },
  {
   "cell_type": "markdown",
   "metadata": {},
   "source": [
    "**Dataset 1**\n",
    "Link to Dataset: https://www.kaggle.com/divyansh22/summer-olympics-medals\n",
    "Name of Dataset: Summer-Olympic-medals-1976-to-2008.xlsx\n",
    "Observations: 15316 rows/observations, 11 columns/features\n",
    "Variables: City, Year, Sport, Discipline, Event, Athlete, Gender, Country_Code, Country, Event_gender, Medal\n",
    "\n",
    "Since the dataset provides information about the Country, year, and Medals, we can perform EDA to observe medals are won by each country and make visualizations about the GDP and the number of medals won. The dataset also provides information about the Sport and Discipline so we could possibly try to observe any trends in how different countries are better at some events than others regardless of their GDP. Additionally, since the dataset stores information for many years we can observe how any changes within each country’s GDP over the years affected their involvement in the Olympics over time and compare with the other countries.\n",
    "\n",
    "**Dataset 2**\n",
    "Ideal Dataset about worldwide GDP over the past decade and has features/variables at least for the Country_Code or Country, Year, and GDP. Each observation would represent a country’s GDP for a certain year.\n",
    "\n",
    "Link to Dataset:https://datahub.io/core/gdp#readme\n",
    "Name of Dataset: GDP (current US$)\n",
    "Observations: 11,508 rows/observations, 4 columns/features\n",
    "Variables: Country Name, Country Code, Year, Value(GDP)\n",
    "\n",
    "This dataset lists the GDP values for countries over a range of years, this can be used to measure each country’s economy and progress in developments. Since GDP is a good indicator of the economic status of a country, and since this dataset has a lot of information for each country and each type of indicator has its own row for each country and year, we can filter to only focus on the GDP for each unique country in the dataset.\n",
    "\n",
    "Additionally, since this dataset also has the country_code/country_name, we would be able to join tables with the Olympics dataset and gather information from both datasets. We would be able to filter both the datasets to have overlapping years and countries with each other so we could compare both the Olympic performance and the GDP for a country during the same years to help make observations about our research question.\n",
    "\n",
    "We can use information from the Olympics dataset and the country’s GDP dataset to visualize any correlations between the GDP of a country and how many medals are received for each country over the various Olympic years."
   ]
  },
  {
   "cell_type": "markdown",
   "metadata": {},
   "source": [
    "# Setup"
   ]
  },
  {
   "cell_type": "code",
   "execution_count": 65,
   "metadata": {},
   "outputs": [
    {
     "name": "stdout",
     "output_type": "stream",
     "text": [
      "\n",
      "The following command must be run outside of the IPython shell:\n",
      "\n",
      "    $ pip install patsy\n",
      "\n",
      "The Python package manager (pip) can only be used from outside of IPython.\n",
      "Please reissue the `pip` command in a separate terminal or command prompt.\n",
      "\n",
      "See the Python documentation for more information on how to install packages:\n",
      "\n",
      "    https://docs.python.org/3/installing/\n"
     ]
    }
   ],
   "source": [
    "pip install patsy"
   ]
  },
  {
   "cell_type": "code",
   "execution_count": 66,
   "metadata": {},
   "outputs": [
    {
     "name": "stdout",
     "output_type": "stream",
     "text": [
      "\n",
      "The following command must be run outside of the IPython shell:\n",
      "\n",
      "    $ pip install statsmodels\n",
      "\n",
      "The Python package manager (pip) can only be used from outside of IPython.\n",
      "Please reissue the `pip` command in a separate terminal or command prompt.\n",
      "\n",
      "See the Python documentation for more information on how to install packages:\n",
      "\n",
      "    https://docs.python.org/3/installing/\n"
     ]
    }
   ],
   "source": [
    "pip install statsmodels"
   ]
  },
  {
   "cell_type": "code",
   "execution_count": 67,
   "metadata": {},
   "outputs": [],
   "source": [
    "## YOUR CODE HERE\n",
    "import pandas as pd\n",
    "import numpy as np\n",
    "import seaborn as sns\n",
    "\n",
    "import patsy\n",
    "import statsmodels.api as sm\n",
    "import scipy.stats as stats\n",
    "import matplotlib.pyplot as plt\n",
    "from scipy.stats import ttest_ind, chisquare, normaltest\n"
   ]
  },
  {
   "cell_type": "markdown",
   "metadata": {},
   "source": [
    "# Data Cleaning"
   ]
  },
  {
   "cell_type": "markdown",
   "metadata": {},
   "source": [
    "Describe your data cleaning steps here."
   ]
  },
  {
   "cell_type": "code",
   "execution_count": 4,
   "metadata": {},
   "outputs": [],
   "source": [
    "## YOUR CODE HERE\n",
    "## FEEL FREE TO ADD MULTIPLE CELLS PER SECTION"
   ]
  },
  {
   "cell_type": "code",
   "execution_count": 5,
   "metadata": {},
   "outputs": [
    {
     "data": {
      "text/html": [
       "<div>\n",
       "<style scoped>\n",
       "    .dataframe tbody tr th:only-of-type {\n",
       "        vertical-align: middle;\n",
       "    }\n",
       "\n",
       "    .dataframe tbody tr th {\n",
       "        vertical-align: top;\n",
       "    }\n",
       "\n",
       "    .dataframe thead th {\n",
       "        text-align: right;\n",
       "    }\n",
       "</style>\n",
       "<table border=\"1\" class=\"dataframe\">\n",
       "  <thead>\n",
       "    <tr style=\"text-align: right;\">\n",
       "      <th></th>\n",
       "      <th>City</th>\n",
       "      <th>Year</th>\n",
       "      <th>Sport</th>\n",
       "      <th>Discipline</th>\n",
       "      <th>Event</th>\n",
       "      <th>Athlete</th>\n",
       "      <th>Gender</th>\n",
       "      <th>Country_Code</th>\n",
       "      <th>Country</th>\n",
       "      <th>Event_gender</th>\n",
       "      <th>Medal</th>\n",
       "    </tr>\n",
       "  </thead>\n",
       "  <tbody>\n",
       "    <tr>\n",
       "      <th>0</th>\n",
       "      <td>Montreal</td>\n",
       "      <td>1976.0</td>\n",
       "      <td>Aquatics</td>\n",
       "      <td>Diving</td>\n",
       "      <td>3m springboard</td>\n",
       "      <td>KÖHLER, Christa</td>\n",
       "      <td>Women</td>\n",
       "      <td>GDR</td>\n",
       "      <td>East Germany</td>\n",
       "      <td>W</td>\n",
       "      <td>Silver</td>\n",
       "    </tr>\n",
       "    <tr>\n",
       "      <th>1</th>\n",
       "      <td>Montreal</td>\n",
       "      <td>1976.0</td>\n",
       "      <td>Aquatics</td>\n",
       "      <td>Diving</td>\n",
       "      <td>3m springboard</td>\n",
       "      <td>KOSENKOV, Aleksandr</td>\n",
       "      <td>Men</td>\n",
       "      <td>URS</td>\n",
       "      <td>Soviet Union</td>\n",
       "      <td>M</td>\n",
       "      <td>Bronze</td>\n",
       "    </tr>\n",
       "    <tr>\n",
       "      <th>2</th>\n",
       "      <td>Montreal</td>\n",
       "      <td>1976.0</td>\n",
       "      <td>Aquatics</td>\n",
       "      <td>Diving</td>\n",
       "      <td>3m springboard</td>\n",
       "      <td>BOGGS, Philip George</td>\n",
       "      <td>Men</td>\n",
       "      <td>USA</td>\n",
       "      <td>United States</td>\n",
       "      <td>M</td>\n",
       "      <td>Gold</td>\n",
       "    </tr>\n",
       "    <tr>\n",
       "      <th>3</th>\n",
       "      <td>Montreal</td>\n",
       "      <td>1976.0</td>\n",
       "      <td>Aquatics</td>\n",
       "      <td>Diving</td>\n",
       "      <td>3m springboard</td>\n",
       "      <td>CAGNOTTO, Giorgio Franco</td>\n",
       "      <td>Men</td>\n",
       "      <td>ITA</td>\n",
       "      <td>Italy</td>\n",
       "      <td>M</td>\n",
       "      <td>Silver</td>\n",
       "    </tr>\n",
       "    <tr>\n",
       "      <th>4</th>\n",
       "      <td>Montreal</td>\n",
       "      <td>1976.0</td>\n",
       "      <td>Aquatics</td>\n",
       "      <td>Diving</td>\n",
       "      <td>10m platform</td>\n",
       "      <td>WILSON, Deborah Keplar</td>\n",
       "      <td>Women</td>\n",
       "      <td>USA</td>\n",
       "      <td>United States</td>\n",
       "      <td>W</td>\n",
       "      <td>Bronze</td>\n",
       "    </tr>\n",
       "    <tr>\n",
       "      <th>...</th>\n",
       "      <td>...</td>\n",
       "      <td>...</td>\n",
       "      <td>...</td>\n",
       "      <td>...</td>\n",
       "      <td>...</td>\n",
       "      <td>...</td>\n",
       "      <td>...</td>\n",
       "      <td>...</td>\n",
       "      <td>...</td>\n",
       "      <td>...</td>\n",
       "      <td>...</td>\n",
       "    </tr>\n",
       "    <tr>\n",
       "      <th>15428</th>\n",
       "      <td>Beijing</td>\n",
       "      <td>2008.0</td>\n",
       "      <td>Wrestling</td>\n",
       "      <td>Wrestling Gre-R</td>\n",
       "      <td>66 - 74kg</td>\n",
       "      <td>GUENOT, Christophe</td>\n",
       "      <td>Men</td>\n",
       "      <td>FRA</td>\n",
       "      <td>France</td>\n",
       "      <td>M</td>\n",
       "      <td>Bronze</td>\n",
       "    </tr>\n",
       "    <tr>\n",
       "      <th>15429</th>\n",
       "      <td>Beijing</td>\n",
       "      <td>2008.0</td>\n",
       "      <td>Wrestling</td>\n",
       "      <td>Wrestling Gre-R</td>\n",
       "      <td>66 - 74kg</td>\n",
       "      <td>KVIRKELIA, Manuchar</td>\n",
       "      <td>Men</td>\n",
       "      <td>GEO</td>\n",
       "      <td>Georgia</td>\n",
       "      <td>M</td>\n",
       "      <td>Gold</td>\n",
       "    </tr>\n",
       "    <tr>\n",
       "      <th>15430</th>\n",
       "      <td>Beijing</td>\n",
       "      <td>2008.0</td>\n",
       "      <td>Wrestling</td>\n",
       "      <td>Wrestling Gre-R</td>\n",
       "      <td>55 - 60kg</td>\n",
       "      <td>RAHIMOV, Vitaliy</td>\n",
       "      <td>Men</td>\n",
       "      <td>AZE</td>\n",
       "      <td>Azerbaijan</td>\n",
       "      <td>M</td>\n",
       "      <td>Silver</td>\n",
       "    </tr>\n",
       "    <tr>\n",
       "      <th>15431</th>\n",
       "      <td>Beijing</td>\n",
       "      <td>2008.0</td>\n",
       "      <td>Wrestling</td>\n",
       "      <td>Wrestling Gre-R</td>\n",
       "      <td>60 - 66kg</td>\n",
       "      <td>GUENOT, Steeve</td>\n",
       "      <td>Men</td>\n",
       "      <td>FRA</td>\n",
       "      <td>France</td>\n",
       "      <td>M</td>\n",
       "      <td>Gold</td>\n",
       "    </tr>\n",
       "    <tr>\n",
       "      <th>15432</th>\n",
       "      <td>Beijing</td>\n",
       "      <td>2008.0</td>\n",
       "      <td>Wrestling</td>\n",
       "      <td>Wrestling Gre-R</td>\n",
       "      <td>96 - 120kg</td>\n",
       "      <td>LOPEZ, Mijain</td>\n",
       "      <td>Men</td>\n",
       "      <td>CUB</td>\n",
       "      <td>Cuba</td>\n",
       "      <td>M</td>\n",
       "      <td>Gold</td>\n",
       "    </tr>\n",
       "  </tbody>\n",
       "</table>\n",
       "<p>15433 rows × 11 columns</p>\n",
       "</div>"
      ],
      "text/plain": [
       "           City    Year      Sport       Discipline           Event  \\\n",
       "0      Montreal  1976.0   Aquatics           Diving  3m springboard   \n",
       "1      Montreal  1976.0   Aquatics           Diving  3m springboard   \n",
       "2      Montreal  1976.0   Aquatics           Diving  3m springboard   \n",
       "3      Montreal  1976.0   Aquatics           Diving  3m springboard   \n",
       "4      Montreal  1976.0   Aquatics           Diving    10m platform   \n",
       "...         ...     ...        ...              ...             ...   \n",
       "15428   Beijing  2008.0  Wrestling  Wrestling Gre-R       66 - 74kg   \n",
       "15429   Beijing  2008.0  Wrestling  Wrestling Gre-R       66 - 74kg   \n",
       "15430   Beijing  2008.0  Wrestling  Wrestling Gre-R       55 - 60kg   \n",
       "15431   Beijing  2008.0  Wrestling  Wrestling Gre-R       60 - 66kg   \n",
       "15432   Beijing  2008.0  Wrestling  Wrestling Gre-R      96 - 120kg   \n",
       "\n",
       "                        Athlete Gender Country_Code        Country  \\\n",
       "0               KÖHLER, Christa  Women          GDR   East Germany   \n",
       "1           KOSENKOV, Aleksandr    Men          URS   Soviet Union   \n",
       "2          BOGGS, Philip George    Men          USA  United States   \n",
       "3      CAGNOTTO, Giorgio Franco    Men          ITA          Italy   \n",
       "4        WILSON, Deborah Keplar  Women          USA  United States   \n",
       "...                         ...    ...          ...            ...   \n",
       "15428        GUENOT, Christophe    Men          FRA         France   \n",
       "15429       KVIRKELIA, Manuchar    Men          GEO        Georgia   \n",
       "15430          RAHIMOV, Vitaliy    Men          AZE     Azerbaijan   \n",
       "15431            GUENOT, Steeve    Men          FRA         France   \n",
       "15432             LOPEZ, Mijain    Men          CUB           Cuba   \n",
       "\n",
       "      Event_gender   Medal  \n",
       "0                W  Silver  \n",
       "1                M  Bronze  \n",
       "2                M    Gold  \n",
       "3                M  Silver  \n",
       "4                W  Bronze  \n",
       "...            ...     ...  \n",
       "15428            M  Bronze  \n",
       "15429            M    Gold  \n",
       "15430            M  Silver  \n",
       "15431            M    Gold  \n",
       "15432            M    Gold  \n",
       "\n",
       "[15433 rows x 11 columns]"
      ]
     },
     "execution_count": 5,
     "metadata": {},
     "output_type": "execute_result"
    }
   ],
   "source": [
    "olympics_df = pd.read_csv('Summer-Olympic-medals-1976-to-2008.csv', encoding='ISO-8859-1')\n",
    "olympics_df"
   ]
  },
  {
   "cell_type": "code",
   "execution_count": 6,
   "metadata": {},
   "outputs": [
    {
     "data": {
      "text/plain": [
       "0"
      ]
     },
     "execution_count": 6,
     "metadata": {},
     "output_type": "execute_result"
    }
   ],
   "source": [
    "(olympics_df['Country_Code'] == 'SST').sum()"
   ]
  },
  {
   "cell_type": "markdown",
   "metadata": {},
   "source": [
    "### Perform analysis to check for null values"
   ]
  },
  {
   "cell_type": "code",
   "execution_count": 7,
   "metadata": {},
   "outputs": [
    {
     "data": {
      "text/plain": [
       "City            117\n",
       "Year            117\n",
       "Sport           117\n",
       "Discipline      117\n",
       "Event           117\n",
       "Athlete         117\n",
       "Gender          117\n",
       "Country_Code    117\n",
       "Country         117\n",
       "Event_gender    117\n",
       "Medal           117\n",
       "dtype: int64"
      ]
     },
     "execution_count": 7,
     "metadata": {},
     "output_type": "execute_result"
    }
   ],
   "source": [
    "olympics_df.isnull().sum()"
   ]
  },
  {
   "cell_type": "markdown",
   "metadata": {},
   "source": [
    "When checking for null values, we found that there were 117 rows that had null values for every column so we dropped all those rows with null values."
   ]
  },
  {
   "cell_type": "code",
   "execution_count": 8,
   "metadata": {},
   "outputs": [],
   "source": [
    "olympics_df = olympics_df.dropna()"
   ]
  },
  {
   "cell_type": "code",
   "execution_count": 9,
   "metadata": {},
   "outputs": [
    {
     "data": {
      "text/plain": [
       "City            0\n",
       "Year            0\n",
       "Sport           0\n",
       "Discipline      0\n",
       "Event           0\n",
       "Athlete         0\n",
       "Gender          0\n",
       "Country_Code    0\n",
       "Country         0\n",
       "Event_gender    0\n",
       "Medal           0\n",
       "dtype: int64"
      ]
     },
     "execution_count": 9,
     "metadata": {},
     "output_type": "execute_result"
    }
   ],
   "source": [
    "#check results from dropping null values\n",
    "olympics_df.isnull().sum()"
   ]
  },
  {
   "cell_type": "code",
   "execution_count": 10,
   "metadata": {},
   "outputs": [],
   "source": [
    "gdp = pd.read_csv('gdp_csv.csv')"
   ]
  },
  {
   "cell_type": "code",
   "execution_count": 11,
   "metadata": {},
   "outputs": [
    {
     "data": {
      "text/html": [
       "<div>\n",
       "<style scoped>\n",
       "    .dataframe tbody tr th:only-of-type {\n",
       "        vertical-align: middle;\n",
       "    }\n",
       "\n",
       "    .dataframe tbody tr th {\n",
       "        vertical-align: top;\n",
       "    }\n",
       "\n",
       "    .dataframe thead th {\n",
       "        text-align: right;\n",
       "    }\n",
       "</style>\n",
       "<table border=\"1\" class=\"dataframe\">\n",
       "  <thead>\n",
       "    <tr style=\"text-align: right;\">\n",
       "      <th></th>\n",
       "      <th>Country Name</th>\n",
       "      <th>Country Code</th>\n",
       "      <th>Year</th>\n",
       "      <th>Value</th>\n",
       "    </tr>\n",
       "  </thead>\n",
       "  <tbody>\n",
       "    <tr>\n",
       "      <th>2306</th>\n",
       "      <td>Afghanistan</td>\n",
       "      <td>AFG</td>\n",
       "      <td>1960</td>\n",
       "      <td>5.377778e+08</td>\n",
       "    </tr>\n",
       "    <tr>\n",
       "      <th>2307</th>\n",
       "      <td>Afghanistan</td>\n",
       "      <td>AFG</td>\n",
       "      <td>1961</td>\n",
       "      <td>5.488889e+08</td>\n",
       "    </tr>\n",
       "    <tr>\n",
       "      <th>2308</th>\n",
       "      <td>Afghanistan</td>\n",
       "      <td>AFG</td>\n",
       "      <td>1962</td>\n",
       "      <td>5.466667e+08</td>\n",
       "    </tr>\n",
       "    <tr>\n",
       "      <th>2309</th>\n",
       "      <td>Afghanistan</td>\n",
       "      <td>AFG</td>\n",
       "      <td>1963</td>\n",
       "      <td>7.511112e+08</td>\n",
       "    </tr>\n",
       "    <tr>\n",
       "      <th>2310</th>\n",
       "      <td>Afghanistan</td>\n",
       "      <td>AFG</td>\n",
       "      <td>1964</td>\n",
       "      <td>8.000000e+08</td>\n",
       "    </tr>\n",
       "  </tbody>\n",
       "</table>\n",
       "</div>"
      ],
      "text/plain": [
       "     Country Name Country Code  Year         Value\n",
       "2306  Afghanistan          AFG  1960  5.377778e+08\n",
       "2307  Afghanistan          AFG  1961  5.488889e+08\n",
       "2308  Afghanistan          AFG  1962  5.466667e+08\n",
       "2309  Afghanistan          AFG  1963  7.511112e+08\n",
       "2310  Afghanistan          AFG  1964  8.000000e+08"
      ]
     },
     "execution_count": 11,
     "metadata": {},
     "output_type": "execute_result"
    }
   ],
   "source": [
    "gdp = gdp.iloc[2306:]\n",
    "gdp.head()"
   ]
  },
  {
   "cell_type": "code",
   "execution_count": 12,
   "metadata": {},
   "outputs": [
    {
     "data": {
      "text/plain": [
       "dtype('float64')"
      ]
     },
     "execution_count": 12,
     "metadata": {},
     "output_type": "execute_result"
    }
   ],
   "source": [
    "#check value type of GDP value column and it is already of type float so this column does not need any transformations\n",
    "#for our data anlysis\n",
    "gdp[\"Value\"].dtype"
   ]
  },
  {
   "cell_type": "markdown",
   "metadata": {},
   "source": [
    "We compared what countries were actually involved in the dataset about the olympic games and filtered out the gdp dataset so that we only look at the information from the overlapping countries between these two datasets."
   ]
  },
  {
   "cell_type": "code",
   "execution_count": 13,
   "metadata": {},
   "outputs": [
    {
     "data": {
      "text/plain": [
       "128"
      ]
     },
     "execution_count": 13,
     "metadata": {},
     "output_type": "execute_result"
    }
   ],
   "source": [
    "num_olympic_countries = olympics_df['Country_Code'].nunique()\n",
    "num_olympic_countries"
   ]
  },
  {
   "cell_type": "code",
   "execution_count": 14,
   "metadata": {},
   "outputs": [],
   "source": [
    "olympic_countries = olympics_df['Country_Code'].unique()"
   ]
  },
  {
   "cell_type": "code",
   "execution_count": 15,
   "metadata": {},
   "outputs": [
    {
     "data": {
      "text/plain": [
       "76"
      ]
     },
     "execution_count": 15,
     "metadata": {},
     "output_type": "execute_result"
    }
   ],
   "source": [
    "num_gdp_countries = gdp.loc[gdp['Country Code'].isin(olympic_countries)]['Country Code'].nunique()\n",
    "num_gdp_countries "
   ]
  },
  {
   "cell_type": "markdown",
   "metadata": {},
   "source": [
    "#### Merge both the dataframes to result in a final dataframe with GDP and olympics information"
   ]
  },
  {
   "cell_type": "code",
   "execution_count": 16,
   "metadata": {
    "scrolled": false
   },
   "outputs": [
    {
     "data": {
      "text/html": [
       "<div>\n",
       "<style scoped>\n",
       "    .dataframe tbody tr th:only-of-type {\n",
       "        vertical-align: middle;\n",
       "    }\n",
       "\n",
       "    .dataframe tbody tr th {\n",
       "        vertical-align: top;\n",
       "    }\n",
       "\n",
       "    .dataframe thead th {\n",
       "        text-align: right;\n",
       "    }\n",
       "</style>\n",
       "<table border=\"1\" class=\"dataframe\">\n",
       "  <thead>\n",
       "    <tr style=\"text-align: right;\">\n",
       "      <th></th>\n",
       "      <th>City</th>\n",
       "      <th>Year</th>\n",
       "      <th>Sport</th>\n",
       "      <th>Discipline</th>\n",
       "      <th>Event</th>\n",
       "      <th>Athlete</th>\n",
       "      <th>Gender</th>\n",
       "      <th>Country_Code</th>\n",
       "      <th>Country</th>\n",
       "      <th>Event_gender</th>\n",
       "      <th>Medal</th>\n",
       "      <th>Country Name</th>\n",
       "      <th>Country Code</th>\n",
       "      <th>Value</th>\n",
       "    </tr>\n",
       "  </thead>\n",
       "  <tbody>\n",
       "    <tr>\n",
       "      <th>0</th>\n",
       "      <td>Montreal</td>\n",
       "      <td>1976.0</td>\n",
       "      <td>Aquatics</td>\n",
       "      <td>Diving</td>\n",
       "      <td>3m springboard</td>\n",
       "      <td>BOGGS, Philip George</td>\n",
       "      <td>Men</td>\n",
       "      <td>USA</td>\n",
       "      <td>United States</td>\n",
       "      <td>M</td>\n",
       "      <td>Gold</td>\n",
       "      <td>United States</td>\n",
       "      <td>USA</td>\n",
       "      <td>1.877587e+12</td>\n",
       "    </tr>\n",
       "    <tr>\n",
       "      <th>1</th>\n",
       "      <td>Montreal</td>\n",
       "      <td>1976.0</td>\n",
       "      <td>Aquatics</td>\n",
       "      <td>Diving</td>\n",
       "      <td>10m platform</td>\n",
       "      <td>WILSON, Deborah Keplar</td>\n",
       "      <td>Women</td>\n",
       "      <td>USA</td>\n",
       "      <td>United States</td>\n",
       "      <td>W</td>\n",
       "      <td>Bronze</td>\n",
       "      <td>United States</td>\n",
       "      <td>USA</td>\n",
       "      <td>1.877587e+12</td>\n",
       "    </tr>\n",
       "    <tr>\n",
       "      <th>2</th>\n",
       "      <td>Montreal</td>\n",
       "      <td>1976.0</td>\n",
       "      <td>Aquatics</td>\n",
       "      <td>Diving</td>\n",
       "      <td>10m platform</td>\n",
       "      <td>LOUGANIS, Gregory</td>\n",
       "      <td>Men</td>\n",
       "      <td>USA</td>\n",
       "      <td>United States</td>\n",
       "      <td>M</td>\n",
       "      <td>Silver</td>\n",
       "      <td>United States</td>\n",
       "      <td>USA</td>\n",
       "      <td>1.877587e+12</td>\n",
       "    </tr>\n",
       "    <tr>\n",
       "      <th>3</th>\n",
       "      <td>Montreal</td>\n",
       "      <td>1976.0</td>\n",
       "      <td>Aquatics</td>\n",
       "      <td>Diving</td>\n",
       "      <td>3m springboard</td>\n",
       "      <td>POTTER-MCINGVALE, Cynthia</td>\n",
       "      <td>Women</td>\n",
       "      <td>USA</td>\n",
       "      <td>United States</td>\n",
       "      <td>W</td>\n",
       "      <td>Bronze</td>\n",
       "      <td>United States</td>\n",
       "      <td>USA</td>\n",
       "      <td>1.877587e+12</td>\n",
       "    </tr>\n",
       "    <tr>\n",
       "      <th>4</th>\n",
       "      <td>Montreal</td>\n",
       "      <td>1976.0</td>\n",
       "      <td>Aquatics</td>\n",
       "      <td>Diving</td>\n",
       "      <td>3m springboard</td>\n",
       "      <td>CHANDLER, Jennifer Kay</td>\n",
       "      <td>Women</td>\n",
       "      <td>USA</td>\n",
       "      <td>United States</td>\n",
       "      <td>W</td>\n",
       "      <td>Gold</td>\n",
       "      <td>United States</td>\n",
       "      <td>USA</td>\n",
       "      <td>1.877587e+12</td>\n",
       "    </tr>\n",
       "  </tbody>\n",
       "</table>\n",
       "</div>"
      ],
      "text/plain": [
       "       City    Year     Sport Discipline           Event  \\\n",
       "0  Montreal  1976.0  Aquatics     Diving  3m springboard   \n",
       "1  Montreal  1976.0  Aquatics     Diving    10m platform   \n",
       "2  Montreal  1976.0  Aquatics     Diving    10m platform   \n",
       "3  Montreal  1976.0  Aquatics     Diving  3m springboard   \n",
       "4  Montreal  1976.0  Aquatics     Diving  3m springboard   \n",
       "\n",
       "                     Athlete Gender Country_Code        Country Event_gender  \\\n",
       "0       BOGGS, Philip George    Men          USA  United States            M   \n",
       "1     WILSON, Deborah Keplar  Women          USA  United States            W   \n",
       "2          LOUGANIS, Gregory    Men          USA  United States            M   \n",
       "3  POTTER-MCINGVALE, Cynthia  Women          USA  United States            W   \n",
       "4     CHANDLER, Jennifer Kay  Women          USA  United States            W   \n",
       "\n",
       "    Medal   Country Name Country Code         Value  \n",
       "0    Gold  United States          USA  1.877587e+12  \n",
       "1  Bronze  United States          USA  1.877587e+12  \n",
       "2  Silver  United States          USA  1.877587e+12  \n",
       "3  Bronze  United States          USA  1.877587e+12  \n",
       "4    Gold  United States          USA  1.877587e+12  "
      ]
     },
     "execution_count": 16,
     "metadata": {},
     "output_type": "execute_result"
    }
   ],
   "source": [
    "#merged the datasets on the 'Year' and 'Country Code' features\n",
    "final_df = olympics_df.merge(gdp, how='inner', left_on=['Country_Code','Year'], right_on=['Country Code', 'Year'])\n",
    "final_df.head()"
   ]
  },
  {
   "cell_type": "markdown",
   "metadata": {},
   "source": [
    "When we merged two datasets on the Country Code the variable names were different in each of these datasets so it repeated two columns for country codes in the final_df so we can drop one of those repetitive columns."
   ]
  },
  {
   "cell_type": "code",
   "execution_count": 17,
   "metadata": {},
   "outputs": [
    {
     "data": {
      "text/html": [
       "<div>\n",
       "<style scoped>\n",
       "    .dataframe tbody tr th:only-of-type {\n",
       "        vertical-align: middle;\n",
       "    }\n",
       "\n",
       "    .dataframe tbody tr th {\n",
       "        vertical-align: top;\n",
       "    }\n",
       "\n",
       "    .dataframe thead th {\n",
       "        text-align: right;\n",
       "    }\n",
       "</style>\n",
       "<table border=\"1\" class=\"dataframe\">\n",
       "  <thead>\n",
       "    <tr style=\"text-align: right;\">\n",
       "      <th></th>\n",
       "      <th>City</th>\n",
       "      <th>Year</th>\n",
       "      <th>Sport</th>\n",
       "      <th>Discipline</th>\n",
       "      <th>Event</th>\n",
       "      <th>Athlete</th>\n",
       "      <th>Gender</th>\n",
       "      <th>Country_Code</th>\n",
       "      <th>Country</th>\n",
       "      <th>Event_gender</th>\n",
       "      <th>Medal</th>\n",
       "      <th>Country Name</th>\n",
       "      <th>Value</th>\n",
       "    </tr>\n",
       "  </thead>\n",
       "  <tbody>\n",
       "    <tr>\n",
       "      <th>0</th>\n",
       "      <td>Montreal</td>\n",
       "      <td>1976.0</td>\n",
       "      <td>Aquatics</td>\n",
       "      <td>Diving</td>\n",
       "      <td>3m springboard</td>\n",
       "      <td>BOGGS, Philip George</td>\n",
       "      <td>Men</td>\n",
       "      <td>USA</td>\n",
       "      <td>United States</td>\n",
       "      <td>M</td>\n",
       "      <td>Gold</td>\n",
       "      <td>United States</td>\n",
       "      <td>1.877587e+12</td>\n",
       "    </tr>\n",
       "    <tr>\n",
       "      <th>1</th>\n",
       "      <td>Montreal</td>\n",
       "      <td>1976.0</td>\n",
       "      <td>Aquatics</td>\n",
       "      <td>Diving</td>\n",
       "      <td>10m platform</td>\n",
       "      <td>WILSON, Deborah Keplar</td>\n",
       "      <td>Women</td>\n",
       "      <td>USA</td>\n",
       "      <td>United States</td>\n",
       "      <td>W</td>\n",
       "      <td>Bronze</td>\n",
       "      <td>United States</td>\n",
       "      <td>1.877587e+12</td>\n",
       "    </tr>\n",
       "    <tr>\n",
       "      <th>2</th>\n",
       "      <td>Montreal</td>\n",
       "      <td>1976.0</td>\n",
       "      <td>Aquatics</td>\n",
       "      <td>Diving</td>\n",
       "      <td>10m platform</td>\n",
       "      <td>LOUGANIS, Gregory</td>\n",
       "      <td>Men</td>\n",
       "      <td>USA</td>\n",
       "      <td>United States</td>\n",
       "      <td>M</td>\n",
       "      <td>Silver</td>\n",
       "      <td>United States</td>\n",
       "      <td>1.877587e+12</td>\n",
       "    </tr>\n",
       "    <tr>\n",
       "      <th>3</th>\n",
       "      <td>Montreal</td>\n",
       "      <td>1976.0</td>\n",
       "      <td>Aquatics</td>\n",
       "      <td>Diving</td>\n",
       "      <td>3m springboard</td>\n",
       "      <td>POTTER-MCINGVALE, Cynthia</td>\n",
       "      <td>Women</td>\n",
       "      <td>USA</td>\n",
       "      <td>United States</td>\n",
       "      <td>W</td>\n",
       "      <td>Bronze</td>\n",
       "      <td>United States</td>\n",
       "      <td>1.877587e+12</td>\n",
       "    </tr>\n",
       "    <tr>\n",
       "      <th>4</th>\n",
       "      <td>Montreal</td>\n",
       "      <td>1976.0</td>\n",
       "      <td>Aquatics</td>\n",
       "      <td>Diving</td>\n",
       "      <td>3m springboard</td>\n",
       "      <td>CHANDLER, Jennifer Kay</td>\n",
       "      <td>Women</td>\n",
       "      <td>USA</td>\n",
       "      <td>United States</td>\n",
       "      <td>W</td>\n",
       "      <td>Gold</td>\n",
       "      <td>United States</td>\n",
       "      <td>1.877587e+12</td>\n",
       "    </tr>\n",
       "    <tr>\n",
       "      <th>...</th>\n",
       "      <td>...</td>\n",
       "      <td>...</td>\n",
       "      <td>...</td>\n",
       "      <td>...</td>\n",
       "      <td>...</td>\n",
       "      <td>...</td>\n",
       "      <td>...</td>\n",
       "      <td>...</td>\n",
       "      <td>...</td>\n",
       "      <td>...</td>\n",
       "      <td>...</td>\n",
       "      <td>...</td>\n",
       "      <td>...</td>\n",
       "    </tr>\n",
       "    <tr>\n",
       "      <th>9981</th>\n",
       "      <td>Beijing</td>\n",
       "      <td>2008.0</td>\n",
       "      <td>Taekwondo</td>\n",
       "      <td>Taekwondo</td>\n",
       "      <td>- 49 kg</td>\n",
       "      <td>CONTRERAS RIVERO, Dalia</td>\n",
       "      <td>Women</td>\n",
       "      <td>VEN</td>\n",
       "      <td>Venezuela</td>\n",
       "      <td>W</td>\n",
       "      <td>Bronze</td>\n",
       "      <td>Venezuela, RB</td>\n",
       "      <td>3.159534e+11</td>\n",
       "    </tr>\n",
       "    <tr>\n",
       "      <th>9982</th>\n",
       "      <td>Beijing</td>\n",
       "      <td>2008.0</td>\n",
       "      <td>Weightlifting</td>\n",
       "      <td>Weightlifting</td>\n",
       "      <td>62kg</td>\n",
       "      <td>SALAZAR, Diego</td>\n",
       "      <td>Men</td>\n",
       "      <td>COL</td>\n",
       "      <td>Colombia</td>\n",
       "      <td>M</td>\n",
       "      <td>Silver</td>\n",
       "      <td>Colombia</td>\n",
       "      <td>2.439824e+11</td>\n",
       "    </tr>\n",
       "    <tr>\n",
       "      <th>9983</th>\n",
       "      <td>Beijing</td>\n",
       "      <td>2008.0</td>\n",
       "      <td>Wrestling</td>\n",
       "      <td>Wrestling Free.</td>\n",
       "      <td>48 - 55kg</td>\n",
       "      <td>RENTERIA, Jackeline</td>\n",
       "      <td>Women</td>\n",
       "      <td>COL</td>\n",
       "      <td>Colombia</td>\n",
       "      <td>W</td>\n",
       "      <td>Bronze</td>\n",
       "      <td>Colombia</td>\n",
       "      <td>2.439824e+11</td>\n",
       "    </tr>\n",
       "    <tr>\n",
       "      <th>9984</th>\n",
       "      <td>Beijing</td>\n",
       "      <td>2008.0</td>\n",
       "      <td>Wrestling</td>\n",
       "      <td>Wrestling Gre-R</td>\n",
       "      <td>60 - 66kg</td>\n",
       "      <td>BEGALIEV, Kanatbek</td>\n",
       "      <td>Men</td>\n",
       "      <td>KGZ</td>\n",
       "      <td>Kyrgyzstan</td>\n",
       "      <td>M</td>\n",
       "      <td>Silver</td>\n",
       "      <td>Kyrgyz Republic</td>\n",
       "      <td>5.139958e+09</td>\n",
       "    </tr>\n",
       "    <tr>\n",
       "      <th>9985</th>\n",
       "      <td>Beijing</td>\n",
       "      <td>2008.0</td>\n",
       "      <td>Wrestling</td>\n",
       "      <td>Wrestling Gre-R</td>\n",
       "      <td>55 - 60kg</td>\n",
       "      <td>TIUMENBAEV, Ruslan</td>\n",
       "      <td>Men</td>\n",
       "      <td>KGZ</td>\n",
       "      <td>Kyrgyzstan</td>\n",
       "      <td>M</td>\n",
       "      <td>Bronze</td>\n",
       "      <td>Kyrgyz Republic</td>\n",
       "      <td>5.139958e+09</td>\n",
       "    </tr>\n",
       "  </tbody>\n",
       "</table>\n",
       "<p>9986 rows × 13 columns</p>\n",
       "</div>"
      ],
      "text/plain": [
       "          City    Year          Sport       Discipline           Event  \\\n",
       "0     Montreal  1976.0       Aquatics           Diving  3m springboard   \n",
       "1     Montreal  1976.0       Aquatics           Diving    10m platform   \n",
       "2     Montreal  1976.0       Aquatics           Diving    10m platform   \n",
       "3     Montreal  1976.0       Aquatics           Diving  3m springboard   \n",
       "4     Montreal  1976.0       Aquatics           Diving  3m springboard   \n",
       "...        ...     ...            ...              ...             ...   \n",
       "9981   Beijing  2008.0      Taekwondo        Taekwondo         - 49 kg   \n",
       "9982   Beijing  2008.0  Weightlifting    Weightlifting            62kg   \n",
       "9983   Beijing  2008.0      Wrestling  Wrestling Free.       48 - 55kg   \n",
       "9984   Beijing  2008.0      Wrestling  Wrestling Gre-R       60 - 66kg   \n",
       "9985   Beijing  2008.0      Wrestling  Wrestling Gre-R       55 - 60kg   \n",
       "\n",
       "                        Athlete Gender Country_Code        Country  \\\n",
       "0          BOGGS, Philip George    Men          USA  United States   \n",
       "1        WILSON, Deborah Keplar  Women          USA  United States   \n",
       "2             LOUGANIS, Gregory    Men          USA  United States   \n",
       "3     POTTER-MCINGVALE, Cynthia  Women          USA  United States   \n",
       "4        CHANDLER, Jennifer Kay  Women          USA  United States   \n",
       "...                         ...    ...          ...            ...   \n",
       "9981    CONTRERAS RIVERO, Dalia  Women          VEN      Venezuela   \n",
       "9982             SALAZAR, Diego    Men          COL       Colombia   \n",
       "9983        RENTERIA, Jackeline  Women          COL       Colombia   \n",
       "9984         BEGALIEV, Kanatbek    Men          KGZ     Kyrgyzstan   \n",
       "9985         TIUMENBAEV, Ruslan    Men          KGZ     Kyrgyzstan   \n",
       "\n",
       "     Event_gender   Medal     Country Name         Value  \n",
       "0               M    Gold    United States  1.877587e+12  \n",
       "1               W  Bronze    United States  1.877587e+12  \n",
       "2               M  Silver    United States  1.877587e+12  \n",
       "3               W  Bronze    United States  1.877587e+12  \n",
       "4               W    Gold    United States  1.877587e+12  \n",
       "...           ...     ...              ...           ...  \n",
       "9981            W  Bronze    Venezuela, RB  3.159534e+11  \n",
       "9982            M  Silver         Colombia  2.439824e+11  \n",
       "9983            W  Bronze         Colombia  2.439824e+11  \n",
       "9984            M  Silver  Kyrgyz Republic  5.139958e+09  \n",
       "9985            M  Bronze  Kyrgyz Republic  5.139958e+09  \n",
       "\n",
       "[9986 rows x 13 columns]"
      ]
     },
     "execution_count": 17,
     "metadata": {},
     "output_type": "execute_result"
    }
   ],
   "source": [
    "final_df = final_df.drop(['Country Code'] , axis = 1)\n",
    "final_df"
   ]
  },
  {
   "cell_type": "markdown",
   "metadata": {},
   "source": [
    "Summary of our data cleaning process: \n",
    "\n",
    "First, we looked to see how messy the actual data values were which involved checking for nulls and for the data types of certain columns. We checked what the rows with null values looked like and found that for those rows there was a null value for every column so we just dropped all those rows from the Olympics dataset and then there were no null values in the GDP dataset. The main column we had to check the data type for was GDP to make sure those values were all numerical values so that we could perform aggregate functions and calculations on those values. \n",
    "\n",
    "\n",
    "We used two datasets and they both were already fairly clean and did not require too much preprocessing before we could actually use the data for analysis. For example, since we had to merge our two datasets eventually on a common column, we had to check to make sure that column had similar values that it could merge on. The Country Code columns have universal codes for countries so we didn’t have to perform any cleaning there to make sure those codes matched with each other between the two datasets. "
   ]
  },
  {
   "cell_type": "markdown",
   "metadata": {},
   "source": [
    "# Data Visualizations"
   ]
  },
  {
   "cell_type": "code",
   "execution_count": 18,
   "metadata": {},
   "outputs": [
    {
     "data": {
      "image/png": "[encoded data removed]",
      "text/plain": [
       "<Figure size 432x288 with 1 Axes>"
      ]
     },
     "metadata": {
      "needs_background": "light"
     },
     "output_type": "display_data"
    }
   ],
   "source": [
    "perCountryMedalsDf = final_df.groupby(['Year', 'Country'], as_index = False).agg({'Medal': ['count'], 'Value': ['mean']})\n",
    "\n",
    "perCountryMedalsDf.columns = ['Year', 'Country', 'Medal_count', 'gdp_mean']\n",
    "\n",
    "ax = sns.scatterplot(data=perCountryMedalsDf, x='gdp_mean', y=\"Medal_count\", )\n",
    "ax.set_xscale('log')\n",
    "ax.set_yscale('log')\n"
   ]
  },
  {
   "cell_type": "markdown",
   "metadata": {},
   "source": [
    "This visualization displays the relationship between our two main variables, a country's gdp and the number of medals they won at the Olympics. We grouped the data by year and country to pull out the different gdp's and the corresponding number of medals. After scaling both axes logarithmically, we see a linear relationship between a country's GDP and the number of medals they won in a given year. "
   ]
  },
  {
   "cell_type": "code",
   "execution_count": 19,
   "metadata": {},
   "outputs": [
    {
     "data": {
      "text/html": [
       "<div>\n",
       "<style scoped>\n",
       "    .dataframe tbody tr th:only-of-type {\n",
       "        vertical-align: middle;\n",
       "    }\n",
       "\n",
       "    .dataframe tbody tr th {\n",
       "        vertical-align: top;\n",
       "    }\n",
       "\n",
       "    .dataframe thead th {\n",
       "        text-align: right;\n",
       "    }\n",
       "</style>\n",
       "<table border=\"1\" class=\"dataframe\">\n",
       "  <thead>\n",
       "    <tr style=\"text-align: right;\">\n",
       "      <th></th>\n",
       "      <th>Year</th>\n",
       "      <th>Country</th>\n",
       "      <th>Medal_count</th>\n",
       "      <th>gdp_mean</th>\n",
       "      <th>category_val</th>\n",
       "    </tr>\n",
       "  </thead>\n",
       "  <tbody>\n",
       "    <tr>\n",
       "      <th>0</th>\n",
       "      <td>1976.0</td>\n",
       "      <td>Australia</td>\n",
       "      <td>24</td>\n",
       "      <td>1.049742e+11</td>\n",
       "      <td>low GDP</td>\n",
       "    </tr>\n",
       "    <tr>\n",
       "      <th>1</th>\n",
       "      <td>1976.0</td>\n",
       "      <td>Austria</td>\n",
       "      <td>1</td>\n",
       "      <td>4.295998e+10</td>\n",
       "      <td>low GDP</td>\n",
       "    </tr>\n",
       "    <tr>\n",
       "      <th>2</th>\n",
       "      <td>1976.0</td>\n",
       "      <td>Belgium</td>\n",
       "      <td>9</td>\n",
       "      <td>7.149454e+10</td>\n",
       "      <td>low GDP</td>\n",
       "    </tr>\n",
       "    <tr>\n",
       "      <th>3</th>\n",
       "      <td>1976.0</td>\n",
       "      <td>Brazil</td>\n",
       "      <td>3</td>\n",
       "      <td>1.526780e+11</td>\n",
       "      <td>low GDP</td>\n",
       "    </tr>\n",
       "    <tr>\n",
       "      <th>4</th>\n",
       "      <td>1976.0</td>\n",
       "      <td>Canada</td>\n",
       "      <td>20</td>\n",
       "      <td>2.065756e+11</td>\n",
       "      <td>low GDP</td>\n",
       "    </tr>\n",
       "    <tr>\n",
       "      <th>...</th>\n",
       "      <td>...</td>\n",
       "      <td>...</td>\n",
       "      <td>...</td>\n",
       "      <td>...</td>\n",
       "      <td>...</td>\n",
       "    </tr>\n",
       "    <tr>\n",
       "      <th>352</th>\n",
       "      <td>2008.0</td>\n",
       "      <td>Ukraine</td>\n",
       "      <td>31</td>\n",
       "      <td>1.799924e+11</td>\n",
       "      <td>low GDP</td>\n",
       "    </tr>\n",
       "    <tr>\n",
       "      <th>353</th>\n",
       "      <td>2008.0</td>\n",
       "      <td>United Kingdom</td>\n",
       "      <td>77</td>\n",
       "      <td>2.890564e+12</td>\n",
       "      <td>low GDP</td>\n",
       "    </tr>\n",
       "    <tr>\n",
       "      <th>354</th>\n",
       "      <td>2008.0</td>\n",
       "      <td>United States</td>\n",
       "      <td>315</td>\n",
       "      <td>1.471858e+13</td>\n",
       "      <td>high GDP</td>\n",
       "    </tr>\n",
       "    <tr>\n",
       "      <th>355</th>\n",
       "      <td>2008.0</td>\n",
       "      <td>Uzbekistan</td>\n",
       "      <td>6</td>\n",
       "      <td>2.954944e+10</td>\n",
       "      <td>low GDP</td>\n",
       "    </tr>\n",
       "    <tr>\n",
       "      <th>356</th>\n",
       "      <td>2008.0</td>\n",
       "      <td>Venezuela</td>\n",
       "      <td>1</td>\n",
       "      <td>3.159534e+11</td>\n",
       "      <td>low GDP</td>\n",
       "    </tr>\n",
       "  </tbody>\n",
       "</table>\n",
       "<p>357 rows × 5 columns</p>\n",
       "</div>"
      ],
      "text/plain": [
       "       Year         Country  Medal_count      gdp_mean category_val\n",
       "0    1976.0       Australia           24  1.049742e+11      low GDP\n",
       "1    1976.0         Austria            1  4.295998e+10      low GDP\n",
       "2    1976.0         Belgium            9  7.149454e+10      low GDP\n",
       "3    1976.0          Brazil            3  1.526780e+11      low GDP\n",
       "4    1976.0          Canada           20  2.065756e+11      low GDP\n",
       "..      ...             ...          ...           ...          ...\n",
       "352  2008.0         Ukraine           31  1.799924e+11      low GDP\n",
       "353  2008.0  United Kingdom           77  2.890564e+12      low GDP\n",
       "354  2008.0   United States          315  1.471858e+13     high GDP\n",
       "355  2008.0      Uzbekistan            6  2.954944e+10      low GDP\n",
       "356  2008.0       Venezuela            1  3.159534e+11      low GDP\n",
       "\n",
       "[357 rows x 5 columns]"
      ]
     },
     "execution_count": 19,
     "metadata": {},
     "output_type": "execute_result"
    }
   ],
   "source": [
    "## function to categorize high and low based on year ranges\n",
    "\n",
    "#Calculate midpoint GDP level to categorize a country has having higher GDP value if it has a value above this\n",
    "#midpoint for a certain year or lower GDP if it has a value lower than the calculated midpoint\n",
    "\n",
    "midpoint_val = (perCountryMedalsDf['gdp_mean'].max() - perCountryMedalsDf['gdp_mean'].min())/2\n",
    "perCountryMedalsDf['category_val'] = perCountryMedalsDf['gdp_mean'].apply(lambda x: \"low GDP\" if x <= midpoint_val else \"high GDP\")\n",
    "perCountryMedalsDf[perCountryMedalsDf['category_val'] == 'high GDP'].shape, perCountryMedalsDf[perCountryMedalsDf['category_val'] == 'low GDP'].shape\n",
    "perCountryMedalsDf"
   ]
  },
  {
   "cell_type": "code",
   "execution_count": 20,
   "metadata": {},
   "outputs": [
    {
     "data": {
      "text/plain": [
       "((1087, 14), (8899, 14))"
      ]
     },
     "execution_count": 20,
     "metadata": {},
     "output_type": "execute_result"
    }
   ],
   "source": [
    "midpoint_val = (final_df['Value'].max() - final_df['Value'].min())/2\n",
    "final_df['category_val'] = final_df['Value'].apply(lambda x: \"low GDP\" if x <= midpoint_val else \"high GDP\")\n",
    "final_df[final_df['category_val'] == 'high GDP'].shape, final_df[final_df['category_val'] == 'low GDP'].shape"
   ]
  },
  {
   "cell_type": "markdown",
   "metadata": {},
   "source": [
    "Next, we chose three countries (USA, GBR, CHN) to take a closer look at the data to see if there are any trends in the GDP changes over the years vs. the total number of medals received for each of these countries. We chose these three countries to see if the trends were consistent for both high and low GDP countries. We chose the United States because it is a country with a consistently high GDP. We then chose Great Britain because as another country with a high GDP, we could use its graphs to make sure the patterns we were seeing for United States were similar. Lastly, we chose China because it has a low GDP."
   ]
  },
  {
   "cell_type": "markdown",
   "metadata": {},
   "source": [
    "### Data Visualization for USA: GDP growth over the years vs. medals received for each Olympics"
   ]
  },
  {
   "cell_type": "code",
   "execution_count": 64,
   "metadata": {},
   "outputs": [
    {
     "data": {
      "text/plain": [
       "[Text(0, 0.5, 'GDP')]"
      ]
     },
     "execution_count": 64,
     "metadata": {},
     "output_type": "execute_result"
    },
    {
     "data": {
      "image/png": "[encoded data removed]",
      "text/plain": [
       "<Figure size 432x288 with 1 Axes>"
      ]
     },
     "metadata": {
      "needs_background": "light"
     },
     "output_type": "display_data"
    }
   ],
   "source": [
    "sns.lineplot(x=\"Year\", y=\"Value\", data=final_df[final_df[\"Country_Code\"]==\"USA\"], color='royalblue').set(ylabel='GDP')\n"
   ]
  },
  {
   "cell_type": "code",
   "execution_count": 63,
   "metadata": {},
   "outputs": [
    {
     "data": {
      "text/plain": [
       "Year\n",
       "1976.0    155\n",
       "1984.0    333\n",
       "1988.0    193\n",
       "1992.0    224\n",
       "1996.0    260\n",
       "2000.0    248\n",
       "2004.0    264\n",
       "2008.0    315\n",
       "Name: Medal, dtype: int64"
      ]
     },
     "execution_count": 63,
     "metadata": {},
     "output_type": "execute_result"
    },
    {
     "data": {
      "image/png": "[encoded data removed]",
      "text/plain": [
       "<Figure size 432x288 with 1 Axes>"
      ]
     },
     "metadata": {
      "needs_background": "light"
     },
     "output_type": "display_data"
    }
   ],
   "source": [
    "usa_df = final_df[final_df[\"Country_Code\"]==\"USA\"]\n",
    "sns.barplot(x = 'Year', y = 'Medal', data = usa_df.groupby('Year')['Medal'].count().reset_index(), color='royalblue').set(ylabel='Number of Medals')\n",
    "\n",
    "usa_df.groupby('Year')['Medal'].count()"
   ]
  },
  {
   "cell_type": "markdown",
   "metadata": {},
   "source": [
    "This visualization displays the trend in GDP changes over the years vs. the number of medals recieved for the United States. We chose this country, as it has a consistently high GDP. We scaled the axes in sets of 5 years and the GDP by 0.2. By plotting the overall trend, there appears to be a generally positive correlation between the medals won and the GDP over the span of 30 years with a few outliers as demonstrated by a potential increase or decrease in the number of medals won while the GDP consistently increases."
   ]
  },
  {
   "cell_type": "code",
   "execution_count": 58,
   "metadata": {
    "scrolled": true
   },
   "outputs": [
    {
     "data": {
      "text/plain": [
       "Year    category_val\n",
       "1976.0  low GDP         155\n",
       "1984.0  low GDP         333\n",
       "1988.0  low GDP         193\n",
       "1992.0  low GDP         224\n",
       "1996.0  high GDP        260\n",
       "2000.0  high GDP        248\n",
       "2004.0  high GDP        264\n",
       "2008.0  high GDP        315\n",
       "Name: Medal, dtype: int64"
      ]
     },
     "execution_count": 58,
     "metadata": {},
     "output_type": "execute_result"
    }
   ],
   "source": [
    "usa_info = usa_df.groupby(['Year', 'category_val'])['Medal'].count()\n",
    "usa_info"
   ]
  },
  {
   "cell_type": "markdown",
   "metadata": {},
   "source": [
    "### Data Visualization for Great Britain: gdp growth over the years vs medals received for each Olympics"
   ]
  },
  {
   "cell_type": "code",
   "execution_count": 59,
   "metadata": {},
   "outputs": [
    {
     "data": {
      "text/plain": [
       "[Text(0, 0.5, 'GDP')]"
      ]
     },
     "execution_count": 59,
     "metadata": {},
     "output_type": "execute_result"
    },
    {
     "data": {
      "image/png": "[encoded data removed]",
      "text/plain": [
       "<Figure size 432x288 with 1 Axes>"
      ]
     },
     "metadata": {
      "needs_background": "light"
     },
     "output_type": "display_data"
    }
   ],
   "source": [
    "sns.lineplot(x=\"Year\", y=\"Value\", data=final_df[final_df[\"Country_Code\"]==\"GBR\"], color='#9b59b6').set(ylabel='GDP')"
   ]
  },
  {
   "cell_type": "code",
   "execution_count": 60,
   "metadata": {},
   "outputs": [
    {
     "data": {
      "text/plain": [
       "Year\n",
       "1976.0    32\n",
       "1980.0    45\n",
       "1984.0    72\n",
       "1988.0    53\n",
       "1992.0    50\n",
       "1996.0    26\n",
       "2000.0    55\n",
       "2004.0    57\n",
       "2008.0    77\n",
       "Name: Medal, dtype: int64"
      ]
     },
     "execution_count": 60,
     "metadata": {},
     "output_type": "execute_result"
    },
    {
     "data": {
      "image/png": "[encoded data removed]",
      "text/plain": [
       "<Figure size 432x288 with 1 Axes>"
      ]
     },
     "metadata": {
      "needs_background": "light"
     },
     "output_type": "display_data"
    }
   ],
   "source": [
    "gbr_df = final_df[final_df[\"Country_Code\"]==\"GBR\"]\n",
    "sns.barplot(x = 'Year', y = 'Medal', data = gbr_df.groupby('Year')['Medal'].count().reset_index(), color='#9b59b6').set(ylabel='Number of Medals')\n",
    "\n",
    "gbr_df.groupby('Year')['Medal'].count()"
   ]
  },
  {
   "cell_type": "markdown",
   "metadata": {},
   "source": [
    "This visualization displays the trend in GDP changes over the years vs. the number of medals recieved for Great Britain. We chose this country, as it also has a high GDP. We scaled the axes in sets of 5 years and the GDP by 0.5. By plotting the overall trend, there appears to be a generally positive correlation between the medals won and the GDP over the span of 30 years; however, there also are a number of outliers as GDP steadily increases while the number of medals both increases and decreases. This visualization regarding Great Britain appears to have the largest number of outliers, compared to the United States and China."
   ]
  },
  {
   "cell_type": "markdown",
   "metadata": {},
   "source": [
    "### Data Visualization for China: gdp growth over the years vs medals received for each Olympics"
   ]
  },
  {
   "cell_type": "code",
   "execution_count": 61,
   "metadata": {},
   "outputs": [
    {
     "data": {
      "text/plain": [
       "[Text(0, 0.5, 'GDP')]"
      ]
     },
     "execution_count": 61,
     "metadata": {},
     "output_type": "execute_result"
    },
    {
     "data": {
      "image/png": "[encoded data removed]",
      "text/plain": [
       "<Figure size 432x288 with 1 Axes>"
      ]
     },
     "metadata": {
      "needs_background": "light"
     },
     "output_type": "display_data"
    }
   ],
   "source": [
    "sns.lineplot(x=\"Year\", y=\"Value\", data=final_df[final_df[\"Country_Code\"]==\"CHN\"],color='crimson').set(ylabel='GDP')"
   ]
  },
  {
   "cell_type": "code",
   "execution_count": 54,
   "metadata": {
    "scrolled": true
   },
   "outputs": [
    {
     "data": {
      "text/plain": [
       "Year\n",
       "1984.0     76\n",
       "1988.0     53\n",
       "1992.0     83\n",
       "1996.0    110\n",
       "2000.0     79\n",
       "2004.0     94\n",
       "2008.0    184\n",
       "Name: Medal, dtype: int64"
      ]
     },
     "execution_count": 54,
     "metadata": {},
     "output_type": "execute_result"
    },
    {
     "data": {
      "image/png": "[encoded data removed]",
      "text/plain": [
       "<Figure size 432x288 with 1 Axes>"
      ]
     },
     "metadata": {
      "needs_background": "light"
     },
     "output_type": "display_data"
    }
   ],
   "source": [
    "chn_df = final_df[final_df[\"Country_Code\"]==\"CHN\"]\n",
    "sns.barplot(x = 'Year', y = 'Medal', data = chn_df.groupby('Year')['Medal'].count().reset_index(), color='crimson').set(ylabel='Number of Medals')\n",
    "\n",
    "chn_df.groupby('Year')['Medal'].count()"
   ]
  },
  {
   "cell_type": "markdown",
   "metadata": {},
   "source": [
    "This visualization displays the trend in GDP changes over the years vs. the number of medals recieved for China. We chose this country, as it also has a high GDP. We scaled the axes in sets of 5 years and the GDP in increments of 1.0. By plotting the overall trend, there appears to be a weaker positive correlation between the medals won and the GDP over the span of 30 years; however, looking at the barplot, there are also a number of outliers as GDP steadily increases while the number of medals both increases and decreases. This visualization regarding China appears to have the least number of outliers, compared to the United States and China, and we hypothesize that this is due to China having the lowest GDP of the three countries."
   ]
  },
  {
   "cell_type": "markdown",
   "metadata": {},
   "source": [
    "# Data Analysis & Results"
   ]
  },
  {
   "cell_type": "markdown",
   "metadata": {},
   "source": [
    "### **Perform T-test on Low and High GDP Distributions**"
   ]
  },
  {
   "cell_type": "code",
   "execution_count": 28,
   "metadata": {},
   "outputs": [],
   "source": [
    "low_dist = perCountryMedalsDf[perCountryMedalsDf['category_val']=='low GDP']['Medal_count']\n",
    "high_dist = perCountryMedalsDf[perCountryMedalsDf['category_val']=='high GDP']['Medal_count']"
   ]
  },
  {
   "cell_type": "code",
   "execution_count": 29,
   "metadata": {},
   "outputs": [
    {
     "data": {
      "text/plain": [
       "(25.209631728045327, 271.75)"
      ]
     },
     "execution_count": 29,
     "metadata": {},
     "output_type": "execute_result"
    }
   ],
   "source": [
    "avg_low_dist = low_dist.mean()\n",
    "avg_high_dist = high_dist.mean()\n",
    "avg_low_dist, avg_high_dist"
   ]
  },
  {
   "cell_type": "markdown",
   "metadata": {},
   "source": [
    "There seems to be a difference in the average medals won for countries with low gdp vs. high gdp. To statistically test the difference, we will use a t-test."
   ]
  },
  {
   "cell_type": "code",
   "execution_count": 30,
   "metadata": {},
   "outputs": [
    {
     "name": "stdout",
     "output_type": "stream",
     "text": [
      "Data Science accomplished, there is a significant difference!\n"
     ]
    },
    {
     "data": {
      "text/plain": [
       "(-12.490578971595877, 6.310365935586765e-30)"
      ]
     },
     "execution_count": 30,
     "metadata": {},
     "output_type": "execute_result"
    }
   ],
   "source": [
    "t_val, p_val = ttest_ind(low_dist, high_dist)\n",
    "t_val, p_val\n",
    "# Check if statistical test passes significance, using an alpha value of 0.01. This code provided.\n",
    "if p_val < 0.01:\n",
    "    print('Data Science accomplished, there is a significant difference!')\n",
    "else:\n",
    "    print('There is NOT a significant difference!')\n",
    "t_val, p_val"
   ]
  },
  {
   "cell_type": "markdown",
   "metadata": {},
   "source": [
    "### **Creating a Linear Model using Statsmodel and Patsy**"
   ]
  },
  {
   "cell_type": "code",
   "execution_count": 31,
   "metadata": {},
   "outputs": [
    {
     "name": "stdout",
     "output_type": "stream",
     "text": [
      "                            OLS Regression Results                            \n",
      "==============================================================================\n",
      "Dep. Variable:            Medal_count   R-squared:                       0.543\n",
      "Model:                            OLS   Adj. R-squared:                  0.542\n",
      "Method:                 Least Squares   F-statistic:                     422.6\n",
      "Date:                Thu, 19 Mar 2020   Prob (F-statistic):           2.05e-62\n",
      "Time:                        16:48:40   Log-Likelihood:                -1740.8\n",
      "No. Observations:                 357   AIC:                             3486.\n",
      "Df Residuals:                     355   BIC:                             3493.\n",
      "Df Model:                           1                                         \n",
      "Covariance Type:            nonrobust                                         \n",
      "==============================================================================\n",
      "                 coef    std err          t      P>|t|      [0.025      0.975]\n",
      "------------------------------------------------------------------------------\n",
      "Intercept     15.4448      1.791      8.623      0.000      11.922      18.967\n",
      "gdp_mean    2.359e-11   1.15e-12     20.558      0.000    2.13e-11    2.58e-11\n",
      "==============================================================================\n",
      "Omnibus:                      240.212   Durbin-Watson:                   1.995\n",
      "Prob(Omnibus):                  0.000   Jarque-Bera (JB):             2823.556\n",
      "Skew:                           2.698   Prob(JB):                         0.00\n",
      "Kurtosis:                      15.677   Cond. No.                     1.66e+12\n",
      "==============================================================================\n",
      "\n",
      "Warnings:\n",
      "[1] Standard Errors assume that the covariance matrix of the errors is correctly specified.\n",
      "[2] The condition number is large, 1.66e+12. This might indicate that there are\n",
      "strong multicollinearity or other numerical problems.\n"
     ]
    }
   ],
   "source": [
    "outcome, predictors = patsy.dmatrices('Medal_count ~ gdp_mean', perCountryMedalsDf)\n",
    "mod = sm.OLS(outcome, predictors)\n",
    "res = mod.fit()\n",
    "print(res.summary())"
   ]
  },
  {
   "cell_type": "markdown",
   "metadata": {},
   "source": [
    "According to this statsmodel, the R-squared value is 0.543 and a good R-squared model is between 0-1 and has a value ~0.5 which means that our model is a good fit. The model that we can obtain from these above results is that: medals count  = 15.4448 + 2.359e-11 * gdp in which medals count is the variable we are predicting using our model and gdp is the predictor variable. Additionally, using an alpha value of 0.05, our predicted variable (medal_count) is significant since the p-value is less than our stated alpha value which means we reject the null hypothesis that the country's gdp value has no effect on the number of medals won in the corresponding year in the Olympics and the 'Intercept' variable is also significant so we can still include that variable in our final model. "
   ]
  },
  {
   "cell_type": "markdown",
   "metadata": {},
   "source": [
    "### **Checking the Linear Model**"
   ]
  },
  {
   "cell_type": "code",
   "execution_count": 32,
   "metadata": {},
   "outputs": [
    {
     "data": {
      "image/png": "[encoded data removed]",
      "text/plain": [
       "<Figure size 432x288 with 1 Axes>"
      ]
     },
     "metadata": {
      "needs_background": "light"
     },
     "output_type": "display_data"
    }
   ],
   "source": [
    "## Plot the model fit line\n",
    "\n",
    "# Plot the orginal data (as before)\n",
    "plt.scatter(perCountryMedalsDf['Medal_count'], perCountryMedalsDf['gdp_mean'], alpha=0.3, label='Data');\n",
    "\n",
    "# Generate and plot the model fit line\n",
    "xs = np.arange(perCountryMedalsDf['Medal_count'].min(), perCountryMedalsDf['Medal_count'].max())\n",
    "ys = 0.7817 * xs\n",
    "plt.plot(xs, ys, '--k', linewidth=2, label='Model')\n",
    "\n",
    "plt.ylabel('Medal_count')\n",
    "plt.xlabel('gdp_mean')\n",
    "plt.legend();"
   ]
  },
  {
   "cell_type": "markdown",
   "metadata": {},
   "source": [
    "# Ethics & Privacy"
   ]
  },
  {
   "cell_type": "markdown",
   "metadata": {},
   "source": [
    "* We have permission to use this data because we found the Olympics datasets on Kaggle, a free public source of datasets, and the GDP dataset is sourced from The World Bank. \n",
    "* There aren't privacy concerns regarding our datasets because this is generally well-known data. Anyone can know how many people won the past Olympics.\n",
    "* There is no bias in either of our datasets because these are pure facts reported by unbiased professionals (in the case of the economy dataset), and public verifiable facts (in the case of the Olympic Medals Dataset)\n",
    "* We couldn't find any other issues that were potentially problematic in terms of data privacy and equitable impact because both of these datasets were public, and their use wouldn't affect any individual or group negatively through our use of it."
   ]
  },
  {
   "cell_type": "markdown",
   "metadata": {},
   "source": [
    "# Conclusion & Discussion"
   ]
  },
  {
   "cell_type": "markdown",
   "metadata": {},
   "source": [
    "This project was designed to understand the influence of a country's economic factors on their performance in the Olympics. We used two datasets -- one from Kaggle, a public dataset source, and one from the World Bank -- for our analysis. Data regarding the economic factors, measured by the country's GDP, and the Olympic performance, measured by the number of medals (gold, silver, bronze) obtained that corresponding year, were filtered through and merged into a final dataframe. Through cleaning by removing null values and identifying and removing repeated columns, we were able to produce a datafram containing columns of similar values and uniform units for analysis. \n",
    "\n",
    "We first used our dataframe to create a data visualization in the form of a scatterplot, which showed a linear relationship between a country's GDP and the number of Olympic medals obtained that year. We then decided to narrow our examination by examining the data between three countries, the United States and Britain for their high GDPs and China for its low. Using lineplots and bargraphs for each country, we were able to study the trends of GDP changes vs. the number of medals won by a country over the span of 30 years. By then running a t-test, we were able to statistically test the difference in the average number of medals obtained per country in high vs. low gdp countries. Our test resulted in an alpha value of 0.05 allowing us to reject our null hypothesis that a country's GDP has no effect on the number of medals obtained that year.\n",
    "\n",
    "A limitation is that we were unable to have information regarding the number of athletes sent from each country for each of the Olympics. That information would have been able to act as a measure of success or detail more about a country's overall performance at the Olympics. It also would have helped as an opportunity to add more detailed visualizations regarding the rations between the number of medals won to how many athletes actually competed for a country, instead of just analyzing the overall number of medals won to a country's GDP level. Another limitation was that the Olympics dataset only containing information on the countries that won any medals and did not contain any information about other competing countries. This could have helped to provide a more accurate and detailed analysis as there would be more observations between all the competing countries' performance and their corresponding GDP. This is why we were unable to include information about the GDP's of many countries while merging our dataset as they were not a part of our Olympic dataset. \n",
    "\n",
    "We believe this work will impact society as it changes how we judge and percieve the success of countries at sporting events, such as the Olympics. It also reminds us that there is more to any picture than what meets the eye, in the sense that there will always be implicit unfairness and bias. Particular countries do not have access to specific resources of success or are overall more poor as individuals. All of this plays into a country's success and shows us that how a country is doing economically impacts it in other areas, simply because of how society is structured."
   ]
  },
  {
   "cell_type": "markdown",
   "metadata": {},
   "source": [
    "# Team Contributions"
   ]
  },
  {
   "cell_type": "markdown",
   "metadata": {},
   "source": [
    "- Niyonika Sheth: Ethics & Privacy, data sets, data visualizations, data analysis\n",
    "- Sudiksha Sarvepalli: Data cleaning, data sets, data visualizations, data analysis, conclusion\n",
    "- Maneesha Nagabandi: Project timeline proposal, data visualization, conclusion\n",
    "- Charul Sharma: Team expectations, data visualization, conclusion\n",
    "- Jaikrish Chitrarasu: Hypothesis, background and prior work, project check-in, data visualization "
   ]
  }
 ],
 "metadata": {
  "kernelspec": {
   "display_name": "Python 3",
   "language": "python",
   "name": "python3"
  },
  "language_info": {
   "codemirror_mode": {
    "name": "ipython",
    "version": 3
   },
   "file_extension": ".py",
   "mimetype": "text/x-python",
   "name": "python",
   "nbconvert_exporter": "python",
   "pygments_lexer": "ipython3",
   "version": "3.7.0"
  }
 },
 "nbformat": 4,
 "nbformat_minor": 2
}
