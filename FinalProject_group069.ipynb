{
 "cells": [
  {
   "cell_type": "markdown",
   "metadata": {},
   "source": [
    "# COGS 108 Group 069"
   ]
  },
  {
   "cell_type": "markdown",
   "metadata": {},
   "source": [
    "# Overview\n",
    "\n",
    "Our project saught to draw a relationship between giving women benefits such as maternity leaves and their participation in the workforce as a way to mobilize companies to allow women to balance their personal and professional lives. Too often, women are forced to choose between their career and their families and research has shown that pregnancy and the time right after giving birth play a crucial role in determining whether a woman will return to the workforce. We believe that allowing women reasonable length maternity leaves will allow them to spend the critical time with their families that they need so that they can return to work after feeling happy and healthy."
   ]
  },
  {
   "cell_type": "markdown",
   "metadata": {},
   "source": [
    "# Names\n",
    "\n",
    "- Shreya Pagaldipti\n",
    "- Aditi Gaur\n",
    "- Manan Surana\n",
    "- Ritik Raina"
   ]
  },
  {
   "cell_type": "markdown",
   "metadata": {},
   "source": [
    "# Research Question\n",
    "\n",
    "Is the amount of paid maternity leave provided by companies a predictor of female participation in the workplace, or is female participation in the workplace a predictor of the amount of paid maternity leave provided by companies? Does this prediction hold for women of different races?\n",
    "\n",
    "Subquestion: Is paid maternity leave a predictor of the number of women in executive/managerial positions in a company?\n"
   ]
  },
  {
   "cell_type": "markdown",
   "metadata": {},
   "source": [
    "# Background and Prior Work\n",
    "\n",
    "Over the past few decades, the workplace has made strides in becoming more inclusive towards groups who have historically been minorities. However, there is still progress to be made in making our workplaces suitable and productive places for all of its members. For the women who wish to have families as well as lead their professional lives, lack of resources such as paid maternity leave makes these women more likely to quit their jobs postpartum. State and federal governments have begun to recognize the importance of paid maternity leaves as a method of allowing women to balance both their family and professional lives. However, these mandated leaves are not paid and have done little to improve the employee retention rate for new mothers. As market demand for paid maternity leaves has grown, many tech giants have adopted paid maternity leave policies. These companies have seen significant increases in their new mother retention rates. For example, when Accenture adopted a 16 week paid maternity leave, they saw a 40% reduction in the number of moms leaving their jobs after giving birth (reference 1).\n",
    "It is important to note that it is not only the employees reaping the benefits of paid maternity leave. Paid maternity leave has been proven to be good for business. In a 2011 study conducted by California’s Center for Economic and Policy Research, after California enacted paid maternity leave laws, 91% of businesses found that the new policies either had a positive impact on profitability or no impact at all, meaning that there were no negative consequences to the new laws (reference 2). Women who work for companies that provide maternity leave are much less likely to quit their jobs after starting their families, and have a much higher chance of returning to work after leave.\n",
    "\n",
    "Although many companies have started to adopt paid maternity leave into their business models, the vast majority of them still do not have any such accommodations. The current lack of paid maternity leave has also had a serious impact on women’s health. Only 4 states currently have paid maternity leave policies, and around 25% of women go back to work only 10 days after giving birth. Women feel a need to go back to work too early, which is harmful for both them and their children. Women who aren’t able to bond with their children for enough time have an increased risk of postpartum depression, and have more trouble breastfeeding (reference 2).\n",
    "\n",
    "Prior work: FairyGodBoss, a startup company that provides a career community for women, crowdsourced data on thousands of companies, providing data on their paid maternity leaves and unpaid maternity leaves. Their goal is to provide a platform where data on companies can be viewed in a comprehensive way (reference 3). The Institute for Women’s Policy Research conducted rigorous research on public policy in each state, aiming to provide a thorough analysis on the status of women in the states. The project’s key program areas where Economics, Work and Family, Poverty and Income Security, Health and Safety, and Democracy and Society (reference 4).\n",
    "For our project, we wish to investigate and quantify just how much of a difference paid maternity leaves can make in women’s participation in the workforce.\n",
    "\n",
    "- 1)https://www.fastcompany.com/3064070/why-offering-paid-maternity-leave-is-good-for-business\n",
    "- 2)https://www.techrepublic.com/article/10-things-you-need-to-know-about-maternity-leave-in-the-us/\n",
    "- 3)https://fairygodboss.com/maternity-leave-resource-center?sortBy=paidMaternity&order=desc&page=1\n",
    "- 4) https://statusofwomendata.org/about/\n"
   ]
  },
  {
   "cell_type": "markdown",
   "metadata": {},
   "source": [
    "# Hypothesis\n",
    "\n",
    "We hypothesize that paid maternity leave will be a predictor for female participation in the workplace; we anticipate that female participation will be higher in companies that provide more paid maternity leave. We also hypothesize that this prediction will hold stronger for women of some races over others; we believe that women who belong to ethnic minorities, who may not be prominent populations of certain workforce industries, may not reap the same benefits of paid maternity leave as much as ethnic majorities. We also hypothesize that there will be a correlation between paid maternity leave and the number of women in companies holding executive/managerial positions."
   ]
  },
  {
   "cell_type": "markdown",
   "metadata": {},
   "source": [
    "# Data\n",
    "\n",
    "We used four datasets in our investigation:\n",
    "\n",
    "The first dataset:\n",
    "- Dataset name: Parental Leave Resource Center\n",
    "- Link to dataset (if applicable): https://fairygodboss.com/maternity-leave-resource-center?sortBy=paidMaternity&order=desc&page=1\n",
    "- Number of rows: 3620\n",
    "- Features: This dataset is from FairyGodBoss, a startup company that serves as a career community for women. FairyGodBoss provides a Parental Leave Resource Center, which provides crowdsourced information on companies, mainly their industry, paid/unpaid maternity leave in weeks, and paid/unpaid paternity leave in weeks.\n",
    "\n",
    "The second dataset:\n",
    "- Dataset name: Employed persons by detailed industry, sex, race, and Hispanic or Latino ethnicity\n",
    "- Link to dataset (if applicable): https://www.bls.gov/cps/cpsaat18.htm\n",
    "- Number of rows: 13\n",
    "- Features: This dataset is from the United States Bureau of Labor Statistics. It provides a breakdown of different industries, the total number of people employed in each industry (in thousands), and gives a percentage of the total number of people employed in each industry who are Women, White, Black/African American, Hispanic, or Asian.\n",
    "\n",
    "The third dataset:\n",
    "- Dataset name: Gender Differences Across Occupations\n",
    "- Link to dataset (if applicable): https://statusofwomendata.org/explore-the-data/employment-and-earnings/\n",
    "- Number of rows: 7\n",
    "- Features: This dataset stems from a project done by the Institute for Women’s Policy Research. The “Status of Women in the States” project provides multiple datasets on the economic status of women in the US, and an analysis on workplace flexibility. This dataset in particular shows the percentage of women of different races working in different industries, to give a breakdown of how women of different races are distributed throughout industries in the US.\n",
    "\n",
    "The fourth dataset:\n",
    "- Dataset name: Silicon Valley Diversity Data\n",
    "- Link to dataset (if applicable): https://www.kaggle.com/rtatman/silicon-valley-diversity-data\n",
    "- Number of rows: 4500\n",
    "- Features: This data was compiled by Reveal from The Center for Investigative Reporting and allows us to analyze the diversity of the top 23 companies in the Silicon Valley. This dataset contains information about how many female and male executives/managers there are in each of these companies as well as more information about the overall demographics of the companies. \n",
    "\n",
    "We will be using the information for each company from the first dataset and wrangling it so we can group the companies by the industry they belong to and get an idea of how much maternity leave each industry offers. We can then analyze that data in tandem with the second dataset which tells us what percentage of the workforce are women for each industry. Then, we will take a closer look at the ethnic demographics in each industry and see whether the relationship between maternity leave and female participation in the workforce holds up for women of different ethnicities.\n",
    "\n",
    "To analyze our sub-question, we will be looking at the fourth dataset which contains information about how many female managers/executives each company represented in the dataset has. We will combine this with the maternity leave data we have from the first dataset to plot the correlations between the number of female managers/executives in a company and the maternity leave offered by that company."
   ]
  },
  {
   "cell_type": "markdown",
   "metadata": {},
   "source": [
    "### Let's start!"
   ]
  },
  {
   "cell_type": "markdown",
   "metadata": {},
   "source": [
    "# Data Cleaning and Wrangling"
   ]
  },
  {
   "cell_type": "code",
   "execution_count": 1,
   "metadata": {},
   "outputs": [],
   "source": [
    "%matplotlib inline\n",
    "\n",
    "import csv\n",
    "import time\n",
    "import numpy as np\n",
    "import pandas as pd\n",
    "import matplotlib.pyplot as plt\n",
    "import seaborn as sns\n",
    "import statistics\n",
    "\n",
    "import patsy\n",
    "import statsmodels.api as sm\n",
    "import scipy.stats as stats\n",
    "from scipy.stats import ttest_ind, chisquare, normaltest"
   ]
  },
  {
   "cell_type": "markdown",
   "metadata": {},
   "source": [
    "Importing CSV containing the maternity leave data for over 3000 companies as well as which industry each company belongs to."
   ]
  },
  {
   "cell_type": "markdown",
   "metadata": {},
   "source": [
    "### First Dataset"
   ]
  },
  {
   "cell_type": "code",
   "execution_count": 2,
   "metadata": {},
   "outputs": [
    {
     "name": "stdout",
     "output_type": "stream",
     "text": [
      "The shape of the data: (3620, 4)\n"
     ]
    },
    {
     "data": {
      "text/html": [
       "<div>\n",
       "<style scoped>\n",
       "    .dataframe tbody tr th:only-of-type {\n",
       "        vertical-align: middle;\n",
       "    }\n",
       "\n",
       "    .dataframe tbody tr th {\n",
       "        vertical-align: top;\n",
       "    }\n",
       "\n",
       "    .dataframe thead th {\n",
       "        text-align: right;\n",
       "    }\n",
       "</style>\n",
       "<table border=\"1\" class=\"dataframe\">\n",
       "  <thead>\n",
       "    <tr style=\"text-align: right;\">\n",
       "      <th></th>\n",
       "      <th>Company</th>\n",
       "      <th>Industry</th>\n",
       "      <th>Maternity_Leave_Paid</th>\n",
       "      <th>Maternity_Leave_Unpaid</th>\n",
       "    </tr>\n",
       "  </thead>\n",
       "  <tbody>\n",
       "    <tr>\n",
       "      <th>0</th>\n",
       "      <td>AP Staffing</td>\n",
       "      <td>Business Services: Staffing &amp; Outsourcing</td>\n",
       "      <td>6.0</td>\n",
       "      <td>6.0</td>\n",
       "    </tr>\n",
       "    <tr>\n",
       "      <th>1</th>\n",
       "      <td>Applied Research Associates</td>\n",
       "      <td>Industrial: Engineering</td>\n",
       "      <td>11.0</td>\n",
       "      <td>17.0</td>\n",
       "    </tr>\n",
       "    <tr>\n",
       "      <th>2</th>\n",
       "      <td>Avaya</td>\n",
       "      <td>Technology: B2B Tech Services</td>\n",
       "      <td>15.0</td>\n",
       "      <td>2.0</td>\n",
       "    </tr>\n",
       "    <tr>\n",
       "      <th>3</th>\n",
       "      <td>Chipotle Mexican Grill</td>\n",
       "      <td>Hospitality: Restaurants</td>\n",
       "      <td>2.0</td>\n",
       "      <td>10.0</td>\n",
       "    </tr>\n",
       "    <tr>\n",
       "      <th>4</th>\n",
       "      <td>DoorDash</td>\n",
       "      <td>Technology: Consumer Internet</td>\n",
       "      <td>8.0</td>\n",
       "      <td>4.0</td>\n",
       "    </tr>\n",
       "  </tbody>\n",
       "</table>\n",
       "</div>"
      ],
      "text/plain": [
       "                       Company                                   Industry  \\\n",
       "0                  AP Staffing  Business Services: Staffing & Outsourcing   \n",
       "1  Applied Research Associates                    Industrial: Engineering   \n",
       "2                        Avaya              Technology: B2B Tech Services   \n",
       "3       Chipotle Mexican Grill                   Hospitality: Restaurants   \n",
       "4                     DoorDash              Technology: Consumer Internet   \n",
       "\n",
       "   Maternity_Leave_Paid  Maternity_Leave_Unpaid  \n",
       "0                   6.0                     6.0  \n",
       "1                  11.0                    17.0  \n",
       "2                  15.0                     2.0  \n",
       "3                   2.0                    10.0  \n",
       "4                   8.0                     4.0  "
      ]
     },
     "execution_count": 2,
     "metadata": {},
     "output_type": "execute_result"
    }
   ],
   "source": [
    "df_companies = pd.read_csv('firstdataframe.csv')\n",
    "print(\"The shape of the data: \" + str(df_companies.shape))\n",
    "df_companies.head()"
   ]
  },
  {
   "cell_type": "markdown",
   "metadata": {},
   "source": [
    "We can see that our dataframe contains 3,620 companies. For each company, we are given the industry that the company belongs to, the length of the paid maternity leave that company offers, and the length of the unpaid maternity leave that company offers.\n",
    "\n",
    "We now want to see whether we have any null values in our data."
   ]
  },
  {
   "cell_type": "code",
   "execution_count": 3,
   "metadata": {},
   "outputs": [
    {
     "name": "stdout",
     "output_type": "stream",
     "text": [
      "[False]\n",
      "[False  True]\n",
      "[False]\n",
      "[ True]\n"
     ]
    }
   ],
   "source": [
    "df_companies_missing = df_companies[df_companies.isna().any(axis=1)]\n",
    "print(df_companies_missing['Company'].isna().unique())\n",
    "print(df_companies_missing['Industry'].isna().unique())\n",
    "print(df_companies_missing['Maternity_Leave_Paid'].isna().unique())\n",
    "print(df_companies_missing['Maternity_Leave_Unpaid'].isna().unique())"
   ]
  },
  {
   "cell_type": "markdown",
   "metadata": {},
   "source": [
    "We can see that the null values exist in the Industry column and the Maternity_Leave_Unpaid column. We believe the null values in the Maternity_Leave_Unpaid column exist because those companies have paid maternity leave policies and no not specify an unpaid one.\n",
    "\n",
    "However, we need to investigate what companies are not associated with an industry so that we can proceed with further industry based analysis. "
   ]
  },
  {
   "cell_type": "code",
   "execution_count": 4,
   "metadata": {},
   "outputs": [
    {
     "data": {
      "text/html": [
       "<div>\n",
       "<style scoped>\n",
       "    .dataframe tbody tr th:only-of-type {\n",
       "        vertical-align: middle;\n",
       "    }\n",
       "\n",
       "    .dataframe tbody tr th {\n",
       "        vertical-align: top;\n",
       "    }\n",
       "\n",
       "    .dataframe thead th {\n",
       "        text-align: right;\n",
       "    }\n",
       "</style>\n",
       "<table border=\"1\" class=\"dataframe\">\n",
       "  <thead>\n",
       "    <tr style=\"text-align: right;\">\n",
       "      <th></th>\n",
       "      <th>Company</th>\n",
       "      <th>Industry</th>\n",
       "      <th>Maternity_Leave_Paid</th>\n",
       "      <th>Maternity_Leave_Unpaid</th>\n",
       "    </tr>\n",
       "  </thead>\n",
       "  <tbody>\n",
       "    <tr>\n",
       "      <th>2827</th>\n",
       "      <td>DialogTech</td>\n",
       "      <td>NaN</td>\n",
       "      <td>12.0</td>\n",
       "      <td>NaN</td>\n",
       "    </tr>\n",
       "    <tr>\n",
       "      <th>2840</th>\n",
       "      <td>10,000ft</td>\n",
       "      <td>NaN</td>\n",
       "      <td>12.0</td>\n",
       "      <td>NaN</td>\n",
       "    </tr>\n",
       "    <tr>\n",
       "      <th>2841</th>\n",
       "      <td>Automobile Club of Southern California</td>\n",
       "      <td>NaN</td>\n",
       "      <td>0.0</td>\n",
       "      <td>NaN</td>\n",
       "    </tr>\n",
       "    <tr>\n",
       "      <th>2842</th>\n",
       "      <td>Co Collective</td>\n",
       "      <td>NaN</td>\n",
       "      <td>12.0</td>\n",
       "      <td>NaN</td>\n",
       "    </tr>\n",
       "    <tr>\n",
       "      <th>2853</th>\n",
       "      <td>Struck</td>\n",
       "      <td>NaN</td>\n",
       "      <td>12.0</td>\n",
       "      <td>NaN</td>\n",
       "    </tr>\n",
       "    <tr>\n",
       "      <th>2859</th>\n",
       "      <td>Wondersauce</td>\n",
       "      <td>NaN</td>\n",
       "      <td>12.0</td>\n",
       "      <td>NaN</td>\n",
       "    </tr>\n",
       "    <tr>\n",
       "      <th>2904</th>\n",
       "      <td>HCSS</td>\n",
       "      <td>NaN</td>\n",
       "      <td>0.0</td>\n",
       "      <td>NaN</td>\n",
       "    </tr>\n",
       "    <tr>\n",
       "      <th>2924</th>\n",
       "      <td>Franciscan Alliance</td>\n",
       "      <td>NaN</td>\n",
       "      <td>6.0</td>\n",
       "      <td>NaN</td>\n",
       "    </tr>\n",
       "    <tr>\n",
       "      <th>3382</th>\n",
       "      <td>Children's Hospital Colorado</td>\n",
       "      <td>NaN</td>\n",
       "      <td>10.0</td>\n",
       "      <td>NaN</td>\n",
       "    </tr>\n",
       "  </tbody>\n",
       "</table>\n",
       "</div>"
      ],
      "text/plain": [
       "                                     Company Industry  Maternity_Leave_Paid  \\\n",
       "2827                              DialogTech      NaN                  12.0   \n",
       "2840                                10,000ft      NaN                  12.0   \n",
       "2841  Automobile Club of Southern California      NaN                   0.0   \n",
       "2842                           Co Collective      NaN                  12.0   \n",
       "2853                                  Struck      NaN                  12.0   \n",
       "2859                             Wondersauce      NaN                  12.0   \n",
       "2904                                    HCSS      NaN                   0.0   \n",
       "2924                     Franciscan Alliance      NaN                   6.0   \n",
       "3382            Children's Hospital Colorado      NaN                  10.0   \n",
       "\n",
       "      Maternity_Leave_Unpaid  \n",
       "2827                     NaN  \n",
       "2840                     NaN  \n",
       "2841                     NaN  \n",
       "2842                     NaN  \n",
       "2853                     NaN  \n",
       "2859                     NaN  \n",
       "2904                     NaN  \n",
       "2924                     NaN  \n",
       "3382                     NaN  "
      ]
     },
     "execution_count": 4,
     "metadata": {},
     "output_type": "execute_result"
    }
   ],
   "source": [
    "df_companies_missing_industry = df_companies_missing[df_companies_missing['Industry'].isna()]\n",
    "df_companies_missing_industry"
   ]
  },
  {
   "cell_type": "markdown",
   "metadata": {},
   "source": [
    "Since there are only a small number of companies who have not been classified as a certain industry, we can manually try to find the closest fit for them."
   ]
  },
  {
   "cell_type": "code",
   "execution_count": 5,
   "metadata": {},
   "outputs": [],
   "source": [
    "df_companies.loc[df_companies['Company']=='DialogTech', 'Industry'] = 'Technology: Software'\n",
    "df_companies.loc[df_companies['Company']=='10,000ft', 'Industry'] = 'Technology: Software'\n",
    "df_companies.loc[df_companies['Company']=='Automobile Club of Southern California', 'Industry'] = 'Nonprofit: Civic & Social'\n",
    "df_companies.loc[df_companies['Company']=='Co Collective', 'Industry'] = 'Consulting Services'\n",
    "df_companies.loc[df_companies['Company']=='Struck', 'Industry'] = 'Industrial: Equipment Manufacturing'\n",
    "df_companies.loc[df_companies['Company']=='Wondersauce', 'Industry'] = 'Technology: B2B Tech Services'\n",
    "df_companies.loc[df_companies['Company']=='HCSS', 'Industry'] = 'Technology: Software'\n",
    "df_companies.loc[df_companies['Company']=='Franciscan Alliance', 'Industry'] = 'Healthcare: Hospitals & Clinics'\n",
    "df_companies.loc[df_companies['Company']==\"Children's Hospital Colorado\", 'Industry'] = 'Healthcare: Hospitals & Clinics'"
   ]
  },
  {
   "cell_type": "code",
   "execution_count": 6,
   "metadata": {},
   "outputs": [
    {
     "data": {
      "text/plain": [
       "array([False])"
      ]
     },
     "execution_count": 6,
     "metadata": {},
     "output_type": "execute_result"
    }
   ],
   "source": [
    "df_companies['Industry'].isna().unique()"
   ]
  },
  {
   "cell_type": "markdown",
   "metadata": {},
   "source": [
    "We can see that none of our industries are now null. Now we can take care of the null values in our unpaid maternity leave column by replacing them with 0. This is a valid way to handle these null values since all of the companies in this dataset offer paid maternity leaves."
   ]
  },
  {
   "cell_type": "code",
   "execution_count": 7,
   "metadata": {},
   "outputs": [
    {
     "data": {
      "text/plain": [
       "array([False])"
      ]
     },
     "execution_count": 7,
     "metadata": {},
     "output_type": "execute_result"
    }
   ],
   "source": [
    "df_companies['Maternity_Leave_Unpaid'] = df_companies['Maternity_Leave_Unpaid'].fillna(0.0)\n",
    "df_companies['Maternity_Leave_Unpaid'].isna().unique()"
   ]
  },
  {
   "cell_type": "markdown",
   "metadata": {},
   "source": [
    "Now that we have explored the data contained in our first dataset and handled all null values appropriately, we can move on to wrangling our next dataset."
   ]
  },
  {
   "cell_type": "markdown",
   "metadata": {},
   "source": [
    "### Second Dataset"
   ]
  },
  {
   "cell_type": "markdown",
   "metadata": {},
   "source": [
    "Importing CSV containing information for how many women work in each industry. Rename columns to be cleaner to prevent issues in further analysis."
   ]
  },
  {
   "cell_type": "code",
   "execution_count": 8,
   "metadata": {},
   "outputs": [
    {
     "data": {
      "text/html": [
       "<div>\n",
       "<style scoped>\n",
       "    .dataframe tbody tr th:only-of-type {\n",
       "        vertical-align: middle;\n",
       "    }\n",
       "\n",
       "    .dataframe tbody tr th {\n",
       "        vertical-align: top;\n",
       "    }\n",
       "\n",
       "    .dataframe thead th {\n",
       "        text-align: right;\n",
       "    }\n",
       "</style>\n",
       "<table border=\"1\" class=\"dataframe\">\n",
       "  <thead>\n",
       "    <tr style=\"text-align: right;\">\n",
       "      <th></th>\n",
       "      <th>Industry</th>\n",
       "      <th>Total</th>\n",
       "      <th>perc_women</th>\n",
       "      <th>perc_white</th>\n",
       "      <th>perc_black</th>\n",
       "      <th>perc_asian</th>\n",
       "      <th>perc_hispanic</th>\n",
       "    </tr>\n",
       "  </thead>\n",
       "  <tbody>\n",
       "    <tr>\n",
       "      <th>0</th>\n",
       "      <td>Total, 16 years and over</td>\n",
       "      <td>157538</td>\n",
       "      <td>47.0</td>\n",
       "      <td>77.7</td>\n",
       "      <td>12.3</td>\n",
       "      <td>6.5</td>\n",
       "      <td>17.6</td>\n",
       "    </tr>\n",
       "    <tr>\n",
       "      <th>1</th>\n",
       "      <td>Agriculture, forestry, fishing, and hunting</td>\n",
       "      <td>2425</td>\n",
       "      <td>26.2</td>\n",
       "      <td>93.0</td>\n",
       "      <td>2.2</td>\n",
       "      <td>1.7</td>\n",
       "      <td>27.5</td>\n",
       "    </tr>\n",
       "    <tr>\n",
       "      <th>2</th>\n",
       "      <td>Mining, quarrying, and oil and gas extraction</td>\n",
       "      <td>750</td>\n",
       "      <td>15.8</td>\n",
       "      <td>86.7</td>\n",
       "      <td>5.1</td>\n",
       "      <td>3.7</td>\n",
       "      <td>20.1</td>\n",
       "    </tr>\n",
       "    <tr>\n",
       "      <th>3</th>\n",
       "      <td>Construction</td>\n",
       "      <td>11373</td>\n",
       "      <td>10.3</td>\n",
       "      <td>88.1</td>\n",
       "      <td>6.4</td>\n",
       "      <td>1.9</td>\n",
       "      <td>30.4</td>\n",
       "    </tr>\n",
       "    <tr>\n",
       "      <th>4</th>\n",
       "      <td>Manufacturing</td>\n",
       "      <td>15741</td>\n",
       "      <td>29.4</td>\n",
       "      <td>79.5</td>\n",
       "      <td>10.4</td>\n",
       "      <td>6.8</td>\n",
       "      <td>16.8</td>\n",
       "    </tr>\n",
       "    <tr>\n",
       "      <th>5</th>\n",
       "      <td>Wholesale and retail trade</td>\n",
       "      <td>19742</td>\n",
       "      <td>44.2</td>\n",
       "      <td>78.6</td>\n",
       "      <td>11.7</td>\n",
       "      <td>5.7</td>\n",
       "      <td>18.1</td>\n",
       "    </tr>\n",
       "    <tr>\n",
       "      <th>6</th>\n",
       "      <td>Transportation and utilities</td>\n",
       "      <td>8991</td>\n",
       "      <td>24.1</td>\n",
       "      <td>71.0</td>\n",
       "      <td>20.1</td>\n",
       "      <td>5.6</td>\n",
       "      <td>18.8</td>\n",
       "    </tr>\n",
       "    <tr>\n",
       "      <th>7</th>\n",
       "      <td>Information</td>\n",
       "      <td>2766</td>\n",
       "      <td>40.5</td>\n",
       "      <td>76.9</td>\n",
       "      <td>11.3</td>\n",
       "      <td>8.5</td>\n",
       "      <td>12.5</td>\n",
       "    </tr>\n",
       "    <tr>\n",
       "      <th>8</th>\n",
       "      <td>Financial activities</td>\n",
       "      <td>10765</td>\n",
       "      <td>52.6</td>\n",
       "      <td>79.6</td>\n",
       "      <td>10.5</td>\n",
       "      <td>7.5</td>\n",
       "      <td>12.9</td>\n",
       "    </tr>\n",
       "    <tr>\n",
       "      <th>9</th>\n",
       "      <td>Professional and business services</td>\n",
       "      <td>19606</td>\n",
       "      <td>41.3</td>\n",
       "      <td>77.4</td>\n",
       "      <td>10.0</td>\n",
       "      <td>9.6</td>\n",
       "      <td>16.0</td>\n",
       "    </tr>\n",
       "    <tr>\n",
       "      <th>10</th>\n",
       "      <td>Education and health services</td>\n",
       "      <td>35894</td>\n",
       "      <td>74.8</td>\n",
       "      <td>75.3</td>\n",
       "      <td>15.1</td>\n",
       "      <td>6.4</td>\n",
       "      <td>13.5</td>\n",
       "    </tr>\n",
       "    <tr>\n",
       "      <th>11</th>\n",
       "      <td>Leisure and hospitality</td>\n",
       "      <td>14643</td>\n",
       "      <td>51.2</td>\n",
       "      <td>74.6</td>\n",
       "      <td>13.1</td>\n",
       "      <td>6.9</td>\n",
       "      <td>24.0</td>\n",
       "    </tr>\n",
       "    <tr>\n",
       "      <th>12</th>\n",
       "      <td>Other services</td>\n",
       "      <td>7617</td>\n",
       "      <td>53.9</td>\n",
       "      <td>77.7</td>\n",
       "      <td>10.6</td>\n",
       "      <td>8.4</td>\n",
       "      <td>19.9</td>\n",
       "    </tr>\n",
       "    <tr>\n",
       "      <th>13</th>\n",
       "      <td>Public administration</td>\n",
       "      <td>7225</td>\n",
       "      <td>45.7</td>\n",
       "      <td>73.9</td>\n",
       "      <td>17.5</td>\n",
       "      <td>4.7</td>\n",
       "      <td>12.5</td>\n",
       "    </tr>\n",
       "  </tbody>\n",
       "</table>\n",
       "</div>"
      ],
      "text/plain": [
       "                                         Industry   Total  perc_women  \\\n",
       "0                        Total, 16 years and over  157538        47.0   \n",
       "1     Agriculture, forestry, fishing, and hunting    2425        26.2   \n",
       "2   Mining, quarrying, and oil and gas extraction     750        15.8   \n",
       "3                                    Construction   11373        10.3   \n",
       "4                                   Manufacturing   15741        29.4   \n",
       "5                      Wholesale and retail trade   19742        44.2   \n",
       "6                    Transportation and utilities    8991        24.1   \n",
       "7                                     Information    2766        40.5   \n",
       "8                            Financial activities   10765        52.6   \n",
       "9              Professional and business services   19606        41.3   \n",
       "10                  Education and health services   35894        74.8   \n",
       "11                        Leisure and hospitality   14643        51.2   \n",
       "12                                 Other services    7617        53.9   \n",
       "13                          Public administration    7225        45.7   \n",
       "\n",
       "    perc_white  perc_black  perc_asian  perc_hispanic  \n",
       "0         77.7        12.3         6.5           17.6  \n",
       "1         93.0         2.2         1.7           27.5  \n",
       "2         86.7         5.1         3.7           20.1  \n",
       "3         88.1         6.4         1.9           30.4  \n",
       "4         79.5        10.4         6.8           16.8  \n",
       "5         78.6        11.7         5.7           18.1  \n",
       "6         71.0        20.1         5.6           18.8  \n",
       "7         76.9        11.3         8.5           12.5  \n",
       "8         79.6        10.5         7.5           12.9  \n",
       "9         77.4        10.0         9.6           16.0  \n",
       "10        75.3        15.1         6.4           13.5  \n",
       "11        74.6        13.1         6.9           24.0  \n",
       "12        77.7        10.6         8.4           19.9  \n",
       "13        73.9        17.5         4.7           12.5  "
      ]
     },
     "execution_count": 8,
     "metadata": {},
     "output_type": "execute_result"
    }
   ],
   "source": [
    "df_industries = pd.read_csv('cpsaat18.csv')\n",
    "df_industries.columns = ['Industry', 'Total', 'perc_women', 'perc_white', 'perc_black', 'perc_asian', 'perc_hispanic']\n",
    "df_industries"
   ]
  },
  {
   "cell_type": "markdown",
   "metadata": {},
   "source": [
    "Since this dataset is pretty small, we can see that there are no null values and all of the percentages are in reasonable format. However, we must rename some of our industries to make them more suited for data analysis."
   ]
  },
  {
   "cell_type": "code",
   "execution_count": 9,
   "metadata": {},
   "outputs": [
    {
     "data": {
      "text/html": [
       "<div>\n",
       "<style scoped>\n",
       "    .dataframe tbody tr th:only-of-type {\n",
       "        vertical-align: middle;\n",
       "    }\n",
       "\n",
       "    .dataframe tbody tr th {\n",
       "        vertical-align: top;\n",
       "    }\n",
       "\n",
       "    .dataframe thead th {\n",
       "        text-align: right;\n",
       "    }\n",
       "</style>\n",
       "<table border=\"1\" class=\"dataframe\">\n",
       "  <thead>\n",
       "    <tr style=\"text-align: right;\">\n",
       "      <th></th>\n",
       "      <th>Industry</th>\n",
       "      <th>Total</th>\n",
       "      <th>perc_women</th>\n",
       "      <th>perc_white</th>\n",
       "      <th>perc_black</th>\n",
       "      <th>perc_asian</th>\n",
       "      <th>perc_hispanic</th>\n",
       "    </tr>\n",
       "  </thead>\n",
       "  <tbody>\n",
       "    <tr>\n",
       "      <th>0</th>\n",
       "      <td>Total, 16 years and over</td>\n",
       "      <td>157538</td>\n",
       "      <td>47.0</td>\n",
       "      <td>77.7</td>\n",
       "      <td>12.3</td>\n",
       "      <td>6.5</td>\n",
       "      <td>17.6</td>\n",
       "    </tr>\n",
       "    <tr>\n",
       "      <th>1</th>\n",
       "      <td>Agriculture</td>\n",
       "      <td>2425</td>\n",
       "      <td>26.2</td>\n",
       "      <td>93.0</td>\n",
       "      <td>2.2</td>\n",
       "      <td>1.7</td>\n",
       "      <td>27.5</td>\n",
       "    </tr>\n",
       "    <tr>\n",
       "      <th>2</th>\n",
       "      <td>Mining</td>\n",
       "      <td>750</td>\n",
       "      <td>15.8</td>\n",
       "      <td>86.7</td>\n",
       "      <td>5.1</td>\n",
       "      <td>3.7</td>\n",
       "      <td>20.1</td>\n",
       "    </tr>\n",
       "    <tr>\n",
       "      <th>3</th>\n",
       "      <td>Construction</td>\n",
       "      <td>11373</td>\n",
       "      <td>10.3</td>\n",
       "      <td>88.1</td>\n",
       "      <td>6.4</td>\n",
       "      <td>1.9</td>\n",
       "      <td>30.4</td>\n",
       "    </tr>\n",
       "    <tr>\n",
       "      <th>4</th>\n",
       "      <td>Manufacturing</td>\n",
       "      <td>15741</td>\n",
       "      <td>29.4</td>\n",
       "      <td>79.5</td>\n",
       "      <td>10.4</td>\n",
       "      <td>6.8</td>\n",
       "      <td>16.8</td>\n",
       "    </tr>\n",
       "    <tr>\n",
       "      <th>5</th>\n",
       "      <td>Retail</td>\n",
       "      <td>19742</td>\n",
       "      <td>44.2</td>\n",
       "      <td>78.6</td>\n",
       "      <td>11.7</td>\n",
       "      <td>5.7</td>\n",
       "      <td>18.1</td>\n",
       "    </tr>\n",
       "    <tr>\n",
       "      <th>6</th>\n",
       "      <td>Transportation</td>\n",
       "      <td>8991</td>\n",
       "      <td>24.1</td>\n",
       "      <td>71.0</td>\n",
       "      <td>20.1</td>\n",
       "      <td>5.6</td>\n",
       "      <td>18.8</td>\n",
       "    </tr>\n",
       "    <tr>\n",
       "      <th>7</th>\n",
       "      <td>Information</td>\n",
       "      <td>2766</td>\n",
       "      <td>40.5</td>\n",
       "      <td>76.9</td>\n",
       "      <td>11.3</td>\n",
       "      <td>8.5</td>\n",
       "      <td>12.5</td>\n",
       "    </tr>\n",
       "    <tr>\n",
       "      <th>8</th>\n",
       "      <td>Financial</td>\n",
       "      <td>10765</td>\n",
       "      <td>52.6</td>\n",
       "      <td>79.6</td>\n",
       "      <td>10.5</td>\n",
       "      <td>7.5</td>\n",
       "      <td>12.9</td>\n",
       "    </tr>\n",
       "    <tr>\n",
       "      <th>9</th>\n",
       "      <td>Professional and business services</td>\n",
       "      <td>19606</td>\n",
       "      <td>41.3</td>\n",
       "      <td>77.4</td>\n",
       "      <td>10.0</td>\n",
       "      <td>9.6</td>\n",
       "      <td>16.0</td>\n",
       "    </tr>\n",
       "    <tr>\n",
       "      <th>10</th>\n",
       "      <td>Education and health services</td>\n",
       "      <td>35894</td>\n",
       "      <td>74.8</td>\n",
       "      <td>75.3</td>\n",
       "      <td>15.1</td>\n",
       "      <td>6.4</td>\n",
       "      <td>13.5</td>\n",
       "    </tr>\n",
       "    <tr>\n",
       "      <th>11</th>\n",
       "      <td>Leisure and hospitality</td>\n",
       "      <td>14643</td>\n",
       "      <td>51.2</td>\n",
       "      <td>74.6</td>\n",
       "      <td>13.1</td>\n",
       "      <td>6.9</td>\n",
       "      <td>24.0</td>\n",
       "    </tr>\n",
       "    <tr>\n",
       "      <th>12</th>\n",
       "      <td>Other services</td>\n",
       "      <td>7617</td>\n",
       "      <td>53.9</td>\n",
       "      <td>77.7</td>\n",
       "      <td>10.6</td>\n",
       "      <td>8.4</td>\n",
       "      <td>19.9</td>\n",
       "    </tr>\n",
       "    <tr>\n",
       "      <th>13</th>\n",
       "      <td>Public administration</td>\n",
       "      <td>7225</td>\n",
       "      <td>45.7</td>\n",
       "      <td>73.9</td>\n",
       "      <td>17.5</td>\n",
       "      <td>4.7</td>\n",
       "      <td>12.5</td>\n",
       "    </tr>\n",
       "  </tbody>\n",
       "</table>\n",
       "</div>"
      ],
      "text/plain": [
       "                              Industry   Total  perc_women  perc_white  \\\n",
       "0             Total, 16 years and over  157538        47.0        77.7   \n",
       "1                          Agriculture    2425        26.2        93.0   \n",
       "2                               Mining     750        15.8        86.7   \n",
       "3                         Construction   11373        10.3        88.1   \n",
       "4                        Manufacturing   15741        29.4        79.5   \n",
       "5                               Retail   19742        44.2        78.6   \n",
       "6                       Transportation    8991        24.1        71.0   \n",
       "7                          Information    2766        40.5        76.9   \n",
       "8                            Financial   10765        52.6        79.6   \n",
       "9   Professional and business services   19606        41.3        77.4   \n",
       "10       Education and health services   35894        74.8        75.3   \n",
       "11             Leisure and hospitality   14643        51.2        74.6   \n",
       "12                      Other services    7617        53.9        77.7   \n",
       "13               Public administration    7225        45.7        73.9   \n",
       "\n",
       "    perc_black  perc_asian  perc_hispanic  \n",
       "0         12.3         6.5           17.6  \n",
       "1          2.2         1.7           27.5  \n",
       "2          5.1         3.7           20.1  \n",
       "3          6.4         1.9           30.4  \n",
       "4         10.4         6.8           16.8  \n",
       "5         11.7         5.7           18.1  \n",
       "6         20.1         5.6           18.8  \n",
       "7         11.3         8.5           12.5  \n",
       "8         10.5         7.5           12.9  \n",
       "9         10.0         9.6           16.0  \n",
       "10        15.1         6.4           13.5  \n",
       "11        13.1         6.9           24.0  \n",
       "12        10.6         8.4           19.9  \n",
       "13        17.5         4.7           12.5  "
      ]
     },
     "execution_count": 9,
     "metadata": {},
     "output_type": "execute_result"
    }
   ],
   "source": [
    "def rename_industries(industry):\n",
    "    if 'Agriculture' in industry:\n",
    "        out = 'Agriculture'\n",
    "    elif 'Mining,' in industry:\n",
    "        out = 'Mining'\n",
    "    elif 'retail' in industry:\n",
    "        out = 'Retail'\n",
    "    elif 'Transportation' in industry:\n",
    "        out = 'Transportation'\n",
    "    elif 'Financial' in industry:\n",
    "        out = 'Financial'\n",
    "    else:\n",
    "        out = industry\n",
    "    return out\n",
    "\n",
    "df_industries['Industry'] = df_industries['Industry'].apply(rename_industries)\n",
    "df_industries"
   ]
  },
  {
   "cell_type": "markdown",
   "metadata": {},
   "source": [
    "We also do not have much use for the first row that contains the total number of employees reported in this survey, so we can drop this first row. "
   ]
  },
  {
   "cell_type": "code",
   "execution_count": 10,
   "metadata": {},
   "outputs": [
    {
     "data": {
      "text/html": [
       "<div>\n",
       "<style scoped>\n",
       "    .dataframe tbody tr th:only-of-type {\n",
       "        vertical-align: middle;\n",
       "    }\n",
       "\n",
       "    .dataframe tbody tr th {\n",
       "        vertical-align: top;\n",
       "    }\n",
       "\n",
       "    .dataframe thead th {\n",
       "        text-align: right;\n",
       "    }\n",
       "</style>\n",
       "<table border=\"1\" class=\"dataframe\">\n",
       "  <thead>\n",
       "    <tr style=\"text-align: right;\">\n",
       "      <th></th>\n",
       "      <th>Industry</th>\n",
       "      <th>Total</th>\n",
       "      <th>perc_women</th>\n",
       "      <th>perc_white</th>\n",
       "      <th>perc_black</th>\n",
       "      <th>perc_asian</th>\n",
       "      <th>perc_hispanic</th>\n",
       "    </tr>\n",
       "  </thead>\n",
       "  <tbody>\n",
       "    <tr>\n",
       "      <th>1</th>\n",
       "      <td>Agriculture</td>\n",
       "      <td>2425</td>\n",
       "      <td>26.2</td>\n",
       "      <td>93.0</td>\n",
       "      <td>2.2</td>\n",
       "      <td>1.7</td>\n",
       "      <td>27.5</td>\n",
       "    </tr>\n",
       "    <tr>\n",
       "      <th>2</th>\n",
       "      <td>Mining</td>\n",
       "      <td>750</td>\n",
       "      <td>15.8</td>\n",
       "      <td>86.7</td>\n",
       "      <td>5.1</td>\n",
       "      <td>3.7</td>\n",
       "      <td>20.1</td>\n",
       "    </tr>\n",
       "    <tr>\n",
       "      <th>3</th>\n",
       "      <td>Construction</td>\n",
       "      <td>11373</td>\n",
       "      <td>10.3</td>\n",
       "      <td>88.1</td>\n",
       "      <td>6.4</td>\n",
       "      <td>1.9</td>\n",
       "      <td>30.4</td>\n",
       "    </tr>\n",
       "    <tr>\n",
       "      <th>4</th>\n",
       "      <td>Manufacturing</td>\n",
       "      <td>15741</td>\n",
       "      <td>29.4</td>\n",
       "      <td>79.5</td>\n",
       "      <td>10.4</td>\n",
       "      <td>6.8</td>\n",
       "      <td>16.8</td>\n",
       "    </tr>\n",
       "    <tr>\n",
       "      <th>5</th>\n",
       "      <td>Retail</td>\n",
       "      <td>19742</td>\n",
       "      <td>44.2</td>\n",
       "      <td>78.6</td>\n",
       "      <td>11.7</td>\n",
       "      <td>5.7</td>\n",
       "      <td>18.1</td>\n",
       "    </tr>\n",
       "    <tr>\n",
       "      <th>6</th>\n",
       "      <td>Transportation</td>\n",
       "      <td>8991</td>\n",
       "      <td>24.1</td>\n",
       "      <td>71.0</td>\n",
       "      <td>20.1</td>\n",
       "      <td>5.6</td>\n",
       "      <td>18.8</td>\n",
       "    </tr>\n",
       "    <tr>\n",
       "      <th>7</th>\n",
       "      <td>Information</td>\n",
       "      <td>2766</td>\n",
       "      <td>40.5</td>\n",
       "      <td>76.9</td>\n",
       "      <td>11.3</td>\n",
       "      <td>8.5</td>\n",
       "      <td>12.5</td>\n",
       "    </tr>\n",
       "    <tr>\n",
       "      <th>8</th>\n",
       "      <td>Financial</td>\n",
       "      <td>10765</td>\n",
       "      <td>52.6</td>\n",
       "      <td>79.6</td>\n",
       "      <td>10.5</td>\n",
       "      <td>7.5</td>\n",
       "      <td>12.9</td>\n",
       "    </tr>\n",
       "    <tr>\n",
       "      <th>9</th>\n",
       "      <td>Professional and business services</td>\n",
       "      <td>19606</td>\n",
       "      <td>41.3</td>\n",
       "      <td>77.4</td>\n",
       "      <td>10.0</td>\n",
       "      <td>9.6</td>\n",
       "      <td>16.0</td>\n",
       "    </tr>\n",
       "    <tr>\n",
       "      <th>10</th>\n",
       "      <td>Education and health services</td>\n",
       "      <td>35894</td>\n",
       "      <td>74.8</td>\n",
       "      <td>75.3</td>\n",
       "      <td>15.1</td>\n",
       "      <td>6.4</td>\n",
       "      <td>13.5</td>\n",
       "    </tr>\n",
       "    <tr>\n",
       "      <th>11</th>\n",
       "      <td>Leisure and hospitality</td>\n",
       "      <td>14643</td>\n",
       "      <td>51.2</td>\n",
       "      <td>74.6</td>\n",
       "      <td>13.1</td>\n",
       "      <td>6.9</td>\n",
       "      <td>24.0</td>\n",
       "    </tr>\n",
       "    <tr>\n",
       "      <th>12</th>\n",
       "      <td>Other services</td>\n",
       "      <td>7617</td>\n",
       "      <td>53.9</td>\n",
       "      <td>77.7</td>\n",
       "      <td>10.6</td>\n",
       "      <td>8.4</td>\n",
       "      <td>19.9</td>\n",
       "    </tr>\n",
       "    <tr>\n",
       "      <th>13</th>\n",
       "      <td>Public administration</td>\n",
       "      <td>7225</td>\n",
       "      <td>45.7</td>\n",
       "      <td>73.9</td>\n",
       "      <td>17.5</td>\n",
       "      <td>4.7</td>\n",
       "      <td>12.5</td>\n",
       "    </tr>\n",
       "  </tbody>\n",
       "</table>\n",
       "</div>"
      ],
      "text/plain": [
       "                              Industry  Total  perc_women  perc_white  \\\n",
       "1                          Agriculture   2425        26.2        93.0   \n",
       "2                               Mining    750        15.8        86.7   \n",
       "3                         Construction  11373        10.3        88.1   \n",
       "4                        Manufacturing  15741        29.4        79.5   \n",
       "5                               Retail  19742        44.2        78.6   \n",
       "6                       Transportation   8991        24.1        71.0   \n",
       "7                          Information   2766        40.5        76.9   \n",
       "8                            Financial  10765        52.6        79.6   \n",
       "9   Professional and business services  19606        41.3        77.4   \n",
       "10       Education and health services  35894        74.8        75.3   \n",
       "11             Leisure and hospitality  14643        51.2        74.6   \n",
       "12                      Other services   7617        53.9        77.7   \n",
       "13               Public administration   7225        45.7        73.9   \n",
       "\n",
       "    perc_black  perc_asian  perc_hispanic  \n",
       "1          2.2         1.7           27.5  \n",
       "2          5.1         3.7           20.1  \n",
       "3          6.4         1.9           30.4  \n",
       "4         10.4         6.8           16.8  \n",
       "5         11.7         5.7           18.1  \n",
       "6         20.1         5.6           18.8  \n",
       "7         11.3         8.5           12.5  \n",
       "8         10.5         7.5           12.9  \n",
       "9         10.0         9.6           16.0  \n",
       "10        15.1         6.4           13.5  \n",
       "11        13.1         6.9           24.0  \n",
       "12        10.6         8.4           19.9  \n",
       "13        17.5         4.7           12.5  "
      ]
     },
     "execution_count": 10,
     "metadata": {},
     "output_type": "execute_result"
    }
   ],
   "source": [
    "df_industries = df_industries.drop(df_industries.index[0])\n",
    "df_industries"
   ]
  },
  {
   "cell_type": "markdown",
   "metadata": {},
   "source": [
    "Now, we need to clean the industries in df_companies to match with the values in df_industries, for consistency. We create a new column called mod_industry for the new, cleaned industry names."
   ]
  },
  {
   "cell_type": "code",
   "execution_count": 11,
   "metadata": {},
   "outputs": [
    {
     "data": {
      "text/html": [
       "<div>\n",
       "<style scoped>\n",
       "    .dataframe tbody tr th:only-of-type {\n",
       "        vertical-align: middle;\n",
       "    }\n",
       "\n",
       "    .dataframe tbody tr th {\n",
       "        vertical-align: top;\n",
       "    }\n",
       "\n",
       "    .dataframe thead th {\n",
       "        text-align: right;\n",
       "    }\n",
       "</style>\n",
       "<table border=\"1\" class=\"dataframe\">\n",
       "  <thead>\n",
       "    <tr style=\"text-align: right;\">\n",
       "      <th></th>\n",
       "      <th>Company</th>\n",
       "      <th>Industry</th>\n",
       "      <th>Maternity_Leave_Paid</th>\n",
       "      <th>Maternity_Leave_Unpaid</th>\n",
       "      <th>mod_industry</th>\n",
       "    </tr>\n",
       "  </thead>\n",
       "  <tbody>\n",
       "    <tr>\n",
       "      <th>0</th>\n",
       "      <td>AP Staffing</td>\n",
       "      <td>Business Services: Staffing &amp; Outsourcing</td>\n",
       "      <td>6.0</td>\n",
       "      <td>6.0</td>\n",
       "      <td>Professional and business services</td>\n",
       "    </tr>\n",
       "    <tr>\n",
       "      <th>1</th>\n",
       "      <td>Applied Research Associates</td>\n",
       "      <td>Industrial: Engineering</td>\n",
       "      <td>11.0</td>\n",
       "      <td>17.0</td>\n",
       "      <td>Construction</td>\n",
       "    </tr>\n",
       "    <tr>\n",
       "      <th>2</th>\n",
       "      <td>Avaya</td>\n",
       "      <td>Technology: B2B Tech Services</td>\n",
       "      <td>15.0</td>\n",
       "      <td>2.0</td>\n",
       "      <td>Information</td>\n",
       "    </tr>\n",
       "    <tr>\n",
       "      <th>3</th>\n",
       "      <td>Chipotle Mexican Grill</td>\n",
       "      <td>Hospitality: Restaurants</td>\n",
       "      <td>2.0</td>\n",
       "      <td>10.0</td>\n",
       "      <td>Leisure and hospitality</td>\n",
       "    </tr>\n",
       "    <tr>\n",
       "      <th>4</th>\n",
       "      <td>DoorDash</td>\n",
       "      <td>Technology: Consumer Internet</td>\n",
       "      <td>8.0</td>\n",
       "      <td>4.0</td>\n",
       "      <td>Information</td>\n",
       "    </tr>\n",
       "    <tr>\n",
       "      <th>...</th>\n",
       "      <td>...</td>\n",
       "      <td>...</td>\n",
       "      <td>...</td>\n",
       "      <td>...</td>\n",
       "      <td>...</td>\n",
       "    </tr>\n",
       "    <tr>\n",
       "      <th>3615</th>\n",
       "      <td>TF Cornerstone</td>\n",
       "      <td>Real Estate: Development &amp; Management</td>\n",
       "      <td>12.0</td>\n",
       "      <td>0.0</td>\n",
       "      <td>Financial</td>\n",
       "    </tr>\n",
       "    <tr>\n",
       "      <th>3616</th>\n",
       "      <td>The Atlantic</td>\n",
       "      <td>Media: Magazines</td>\n",
       "      <td>12.0</td>\n",
       "      <td>0.0</td>\n",
       "      <td>Leisure and hospitality</td>\n",
       "    </tr>\n",
       "    <tr>\n",
       "      <th>3617</th>\n",
       "      <td>Thryv</td>\n",
       "      <td>Technology: Software</td>\n",
       "      <td>6.0</td>\n",
       "      <td>0.0</td>\n",
       "      <td>Information</td>\n",
       "    </tr>\n",
       "    <tr>\n",
       "      <th>3618</th>\n",
       "      <td>Virgina Commonwealth University</td>\n",
       "      <td>Educational Services: College &amp; Universities</td>\n",
       "      <td>4.0</td>\n",
       "      <td>0.0</td>\n",
       "      <td>Education and health services</td>\n",
       "    </tr>\n",
       "    <tr>\n",
       "      <th>3619</th>\n",
       "      <td>WealthVest</td>\n",
       "      <td>Finance: Asset Management</td>\n",
       "      <td>0.0</td>\n",
       "      <td>0.0</td>\n",
       "      <td>Financial</td>\n",
       "    </tr>\n",
       "  </tbody>\n",
       "</table>\n",
       "<p>3620 rows × 5 columns</p>\n",
       "</div>"
      ],
      "text/plain": [
       "                              Company  \\\n",
       "0                         AP Staffing   \n",
       "1         Applied Research Associates   \n",
       "2                               Avaya   \n",
       "3              Chipotle Mexican Grill   \n",
       "4                            DoorDash   \n",
       "...                               ...   \n",
       "3615                   TF Cornerstone   \n",
       "3616                     The Atlantic   \n",
       "3617                            Thryv   \n",
       "3618  Virgina Commonwealth University   \n",
       "3619                       WealthVest   \n",
       "\n",
       "                                          Industry  Maternity_Leave_Paid  \\\n",
       "0        Business Services: Staffing & Outsourcing                   6.0   \n",
       "1                          Industrial: Engineering                  11.0   \n",
       "2                    Technology: B2B Tech Services                  15.0   \n",
       "3                         Hospitality: Restaurants                   2.0   \n",
       "4                    Technology: Consumer Internet                   8.0   \n",
       "...                                            ...                   ...   \n",
       "3615         Real Estate: Development & Management                  12.0   \n",
       "3616                              Media: Magazines                  12.0   \n",
       "3617                          Technology: Software                   6.0   \n",
       "3618  Educational Services: College & Universities                   4.0   \n",
       "3619                     Finance: Asset Management                   0.0   \n",
       "\n",
       "      Maternity_Leave_Unpaid                        mod_industry  \n",
       "0                        6.0  Professional and business services  \n",
       "1                       17.0                        Construction  \n",
       "2                        2.0                         Information  \n",
       "3                       10.0             Leisure and hospitality  \n",
       "4                        4.0                         Information  \n",
       "...                      ...                                 ...  \n",
       "3615                     0.0                           Financial  \n",
       "3616                     0.0             Leisure and hospitality  \n",
       "3617                     0.0                         Information  \n",
       "3618                     0.0       Education and health services  \n",
       "3619                     0.0                           Financial  \n",
       "\n",
       "[3620 rows x 5 columns]"
      ]
     },
     "execution_count": 11,
     "metadata": {},
     "output_type": "execute_result"
    }
   ],
   "source": [
    "def classify_industries(industry):\n",
    "    if 'Technology' in industry:\n",
    "        out = 'Information'\n",
    "    elif 'Agriculture' in industry or 'Maritime' in industry:\n",
    "        out = 'Agriculture'\n",
    "    elif 'Information' in industry or 'Telecommunications' in industry:\n",
    "        out = 'Information'\n",
    "    elif 'Natural Resources' in industry:\n",
    "        out = 'Mining'\n",
    "    elif 'Finance' in industry:\n",
    "        out = 'Financial'\n",
    "    elif 'Manufacturing' in industry or 'Manufacturers' in industry or 'Textiles' in industry:\n",
    "        out = 'Manufacturing'\n",
    "    elif 'Aerospace' in industry or 'Packaging' in industry:\n",
    "        out = 'Manufacturing'\n",
    "    elif 'Transportation' in industry:\n",
    "        out = 'Transportation'\n",
    "    elif 'Healthcare' in industry or 'Educational' in industry:\n",
    "        out = 'Education and health services'\n",
    "    elif 'Pharmaceutical' in industry or 'Pharmacies' in industry:\n",
    "        out = 'Education and health services'\n",
    "    elif 'Retail' in industry:\n",
    "        out = 'Retail'\n",
    "    elif 'Wholesale' in industry or 'Cosmetics' in industry or 'Sporting Goods' in industry:\n",
    "        out = 'Retail'\n",
    "    elif 'Hospitality' in industry or 'Leisure' in industry or 'Fitness' in industry:\n",
    "        out = 'Leisure and hospitality'\n",
    "    elif 'Media' in industry or 'Photography' in industry or 'Art' in industry:\n",
    "        out = 'Leisure and hospitality'\n",
    "    elif 'Printing' in industry or 'Publishing' in industry:\n",
    "        out = 'Leisure and hospitality'\n",
    "    elif 'Design' in industry or 'Sport' in industry:\n",
    "        out = 'Leisure and hospitality'\n",
    "    elif 'Advertising' in industry or 'Consulting' in industry:\n",
    "        out = 'Professional and business services'\n",
    "    elif 'Services' in industry or 'Firm' in industry:\n",
    "        out = 'Professional and business services'\n",
    "    elif 'Business' in industry or 'Public Relations' in industry:\n",
    "        out = 'Professional and business services'\n",
    "    elif 'Insurance' in industry or 'Real Estate' in industry:\n",
    "        out = 'Financial'\n",
    "    elif 'Government' in industry or 'Defense & Space' in industry:\n",
    "        out = 'Public administration'\n",
    "    elif 'Industrial' in industry:\n",
    "        out = 'Construction'\n",
    "    elif 'Consumer' in industry:\n",
    "        out = 'Manufacturing'\n",
    "    elif 'Nonprofit' in industry or 'Philanthropy' in industry:\n",
    "        out = 'Other services'\n",
    "    elif 'Automotive' in industry:\n",
    "        out = 'Manufacturing'\n",
    "    elif 'Wholesaler' in industry:\n",
    "        out = 'Retail'\n",
    "    else:\n",
    "        out = industry\n",
    "    return out\n",
    "\n",
    "df_companies['mod_industry'] = df_companies['Industry'].apply(classify_industries)\n",
    "df_companies"
   ]
  },
  {
   "cell_type": "markdown",
   "metadata": {},
   "source": [
    "Let's see the number of unique industry names now."
   ]
  },
  {
   "cell_type": "code",
   "execution_count": 12,
   "metadata": {},
   "outputs": [
    {
     "data": {
      "text/plain": [
       "array(['Professional and business services', 'Construction',\n",
       "       'Information', 'Leisure and hospitality', 'Financial',\n",
       "       'Manufacturing', 'Education and health services',\n",
       "       'Public administration', 'Other services', 'Retail', 'Mining',\n",
       "       'Agriculture', 'Transportation', 'Conglomerate'], dtype=object)"
      ]
     },
     "execution_count": 12,
     "metadata": {},
     "output_type": "execute_result"
    }
   ],
   "source": [
    "df_companies['mod_industry'].unique()"
   ]
  },
  {
   "cell_type": "markdown",
   "metadata": {},
   "source": [
    "Now, let's calculate the average weeks of paid maternity leave for each unique industry. We create a dictionary called avg_leave_by_industry that maps a unique industry from the mod_industry column to the average paid leave (in weeks) of all companies in that industry."
   ]
  },
  {
   "cell_type": "code",
   "execution_count": 13,
   "metadata": {
    "scrolled": true
   },
   "outputs": [
    {
     "name": "stdout",
     "output_type": "stream",
     "text": [
      "Industry: Agriculture | Average Leave: 4.8 | Range: 8.0 | Standard Deviation: 3.0331501776206204\n",
      "Industry: Conglomerate | Average Leave: 9.15 | Range: 15.0 | Standard Deviation: 4.784523661417787\n",
      "Industry: Construction | Average Leave: 7.326530612244898 | Range: 52.0 | Standard Deviation: 8.19325283162742\n",
      "Industry: Education and health services | Average Leave: 7.0862800565770865 | Range: 52.0 | Standard Deviation: 6.790390322481876\n",
      "Industry: Financial | Average Leave: 9.596560846560847 | Range: 52.0 | Standard Deviation: 6.771316773451121\n",
      "Industry: Information | Average Leave: 10.218340611353712 | Range: 52.0 | Standard Deviation: 7.731580095304722\n",
      "Industry: Leisure and hospitality | Average Leave: 8.070588235294117 | Range: 52.0 | Standard Deviation: 6.776153593789968\n",
      "Industry: Manufacturing | Average Leave: 7.673333333333333 | Range: 52.0 | Standard Deviation: 6.148729543572396\n",
      "Industry: Mining | Average Leave: 8.65 | Range: 52.0 | Standard Deviation: 6.4026648863624605\n",
      "Industry: Other services | Average Leave: 7.708074534161491 | Range: 52.0 | Standard Deviation: 7.203419111394945\n",
      "Industry: Professional and business services | Average Leave: 10.060143626570916 | Range: 52.0 | Standard Deviation: 7.083105747459515\n",
      "Industry: Public administration | Average Leave: 7.888888888888889 | Range: 52.0 | Standard Deviation: 9.060103205012076\n",
      "Industry: Retail | Average Leave: 6.897435897435898 | Range: 28.0 | Standard Deviation: 5.008592814439178\n",
      "Industry: Transportation | Average Leave: 6.782051282051282 | Range: 26.0 | Standard Deviation: 4.766653454489394\n"
     ]
    }
   ],
   "source": [
    "avg_leave_by_industry = {}\n",
    "std_by_industry = {}\n",
    "range_by_industry = {}\n",
    "grps = df_companies.groupby(df_companies['mod_industry'])\n",
    "for group in grps:\n",
    "    ind = group[0]\n",
    "    grp = group[1]\n",
    "    std = statistics.stdev(grp['Maternity_Leave_Paid'])\n",
    "    avg = grp['Maternity_Leave_Paid'].mean()\n",
    "    maximum = grp['Maternity_Leave_Paid'].max()\n",
    "    minimum = grp['Maternity_Leave_Paid'].min()\n",
    "    rng = maximum - minimum\n",
    "    std_by_industry[ind] = std\n",
    "    avg_leave_by_industry[ind] = avg\n",
    "    range_by_industry[ind] = rng\n",
    "    print('Industry: ' + ind + ' | Average Leave: ' + str(avg) + ' | Range: ' + str(rng) + ' | Standard Deviation: ' + str(std))\n"
   ]
  },
  {
   "cell_type": "markdown",
   "metadata": {},
   "source": [
    "We can see that the standard deviations of the paid maternity leaves by industry are pretty consistent with their ranges. More specifically, industries that see the same range in paid maternity leave lengths see a similar standard deviation. This means that we can conduct analysis based on averages of these values knowing that the distribution of the data is relatively consistent over the different industries. \n",
    "\n",
    "With this in mind, we can now add the average paid maternity leave for each industry as a column in df_industries."
   ]
  },
  {
   "cell_type": "code",
   "execution_count": 14,
   "metadata": {},
   "outputs": [
    {
     "data": {
      "text/html": [
       "<div>\n",
       "<style scoped>\n",
       "    .dataframe tbody tr th:only-of-type {\n",
       "        vertical-align: middle;\n",
       "    }\n",
       "\n",
       "    .dataframe tbody tr th {\n",
       "        vertical-align: top;\n",
       "    }\n",
       "\n",
       "    .dataframe thead th {\n",
       "        text-align: right;\n",
       "    }\n",
       "</style>\n",
       "<table border=\"1\" class=\"dataframe\">\n",
       "  <thead>\n",
       "    <tr style=\"text-align: right;\">\n",
       "      <th></th>\n",
       "      <th>Industry</th>\n",
       "      <th>Total</th>\n",
       "      <th>perc_women</th>\n",
       "      <th>perc_white</th>\n",
       "      <th>perc_black</th>\n",
       "      <th>perc_asian</th>\n",
       "      <th>perc_hispanic</th>\n",
       "      <th>Avg_Maternity_Leave</th>\n",
       "    </tr>\n",
       "  </thead>\n",
       "  <tbody>\n",
       "    <tr>\n",
       "      <th>1</th>\n",
       "      <td>Agriculture</td>\n",
       "      <td>2425</td>\n",
       "      <td>26.2</td>\n",
       "      <td>93.0</td>\n",
       "      <td>2.2</td>\n",
       "      <td>1.7</td>\n",
       "      <td>27.5</td>\n",
       "      <td>4.800000</td>\n",
       "    </tr>\n",
       "    <tr>\n",
       "      <th>2</th>\n",
       "      <td>Mining</td>\n",
       "      <td>750</td>\n",
       "      <td>15.8</td>\n",
       "      <td>86.7</td>\n",
       "      <td>5.1</td>\n",
       "      <td>3.7</td>\n",
       "      <td>20.1</td>\n",
       "      <td>8.650000</td>\n",
       "    </tr>\n",
       "    <tr>\n",
       "      <th>3</th>\n",
       "      <td>Construction</td>\n",
       "      <td>11373</td>\n",
       "      <td>10.3</td>\n",
       "      <td>88.1</td>\n",
       "      <td>6.4</td>\n",
       "      <td>1.9</td>\n",
       "      <td>30.4</td>\n",
       "      <td>7.326531</td>\n",
       "    </tr>\n",
       "    <tr>\n",
       "      <th>4</th>\n",
       "      <td>Manufacturing</td>\n",
       "      <td>15741</td>\n",
       "      <td>29.4</td>\n",
       "      <td>79.5</td>\n",
       "      <td>10.4</td>\n",
       "      <td>6.8</td>\n",
       "      <td>16.8</td>\n",
       "      <td>7.673333</td>\n",
       "    </tr>\n",
       "    <tr>\n",
       "      <th>5</th>\n",
       "      <td>Retail</td>\n",
       "      <td>19742</td>\n",
       "      <td>44.2</td>\n",
       "      <td>78.6</td>\n",
       "      <td>11.7</td>\n",
       "      <td>5.7</td>\n",
       "      <td>18.1</td>\n",
       "      <td>6.897436</td>\n",
       "    </tr>\n",
       "    <tr>\n",
       "      <th>6</th>\n",
       "      <td>Transportation</td>\n",
       "      <td>8991</td>\n",
       "      <td>24.1</td>\n",
       "      <td>71.0</td>\n",
       "      <td>20.1</td>\n",
       "      <td>5.6</td>\n",
       "      <td>18.8</td>\n",
       "      <td>6.782051</td>\n",
       "    </tr>\n",
       "    <tr>\n",
       "      <th>7</th>\n",
       "      <td>Information</td>\n",
       "      <td>2766</td>\n",
       "      <td>40.5</td>\n",
       "      <td>76.9</td>\n",
       "      <td>11.3</td>\n",
       "      <td>8.5</td>\n",
       "      <td>12.5</td>\n",
       "      <td>10.218341</td>\n",
       "    </tr>\n",
       "    <tr>\n",
       "      <th>8</th>\n",
       "      <td>Financial</td>\n",
       "      <td>10765</td>\n",
       "      <td>52.6</td>\n",
       "      <td>79.6</td>\n",
       "      <td>10.5</td>\n",
       "      <td>7.5</td>\n",
       "      <td>12.9</td>\n",
       "      <td>9.596561</td>\n",
       "    </tr>\n",
       "    <tr>\n",
       "      <th>9</th>\n",
       "      <td>Professional and business services</td>\n",
       "      <td>19606</td>\n",
       "      <td>41.3</td>\n",
       "      <td>77.4</td>\n",
       "      <td>10.0</td>\n",
       "      <td>9.6</td>\n",
       "      <td>16.0</td>\n",
       "      <td>10.060144</td>\n",
       "    </tr>\n",
       "    <tr>\n",
       "      <th>10</th>\n",
       "      <td>Education and health services</td>\n",
       "      <td>35894</td>\n",
       "      <td>74.8</td>\n",
       "      <td>75.3</td>\n",
       "      <td>15.1</td>\n",
       "      <td>6.4</td>\n",
       "      <td>13.5</td>\n",
       "      <td>7.086280</td>\n",
       "    </tr>\n",
       "    <tr>\n",
       "      <th>11</th>\n",
       "      <td>Leisure and hospitality</td>\n",
       "      <td>14643</td>\n",
       "      <td>51.2</td>\n",
       "      <td>74.6</td>\n",
       "      <td>13.1</td>\n",
       "      <td>6.9</td>\n",
       "      <td>24.0</td>\n",
       "      <td>8.070588</td>\n",
       "    </tr>\n",
       "    <tr>\n",
       "      <th>12</th>\n",
       "      <td>Other services</td>\n",
       "      <td>7617</td>\n",
       "      <td>53.9</td>\n",
       "      <td>77.7</td>\n",
       "      <td>10.6</td>\n",
       "      <td>8.4</td>\n",
       "      <td>19.9</td>\n",
       "      <td>7.708075</td>\n",
       "    </tr>\n",
       "    <tr>\n",
       "      <th>13</th>\n",
       "      <td>Public administration</td>\n",
       "      <td>7225</td>\n",
       "      <td>45.7</td>\n",
       "      <td>73.9</td>\n",
       "      <td>17.5</td>\n",
       "      <td>4.7</td>\n",
       "      <td>12.5</td>\n",
       "      <td>7.888889</td>\n",
       "    </tr>\n",
       "  </tbody>\n",
       "</table>\n",
       "</div>"
      ],
      "text/plain": [
       "                              Industry  Total  perc_women  perc_white  \\\n",
       "1                          Agriculture   2425        26.2        93.0   \n",
       "2                               Mining    750        15.8        86.7   \n",
       "3                         Construction  11373        10.3        88.1   \n",
       "4                        Manufacturing  15741        29.4        79.5   \n",
       "5                               Retail  19742        44.2        78.6   \n",
       "6                       Transportation   8991        24.1        71.0   \n",
       "7                          Information   2766        40.5        76.9   \n",
       "8                            Financial  10765        52.6        79.6   \n",
       "9   Professional and business services  19606        41.3        77.4   \n",
       "10       Education and health services  35894        74.8        75.3   \n",
       "11             Leisure and hospitality  14643        51.2        74.6   \n",
       "12                      Other services   7617        53.9        77.7   \n",
       "13               Public administration   7225        45.7        73.9   \n",
       "\n",
       "    perc_black  perc_asian  perc_hispanic  Avg_Maternity_Leave  \n",
       "1          2.2         1.7           27.5             4.800000  \n",
       "2          5.1         3.7           20.1             8.650000  \n",
       "3          6.4         1.9           30.4             7.326531  \n",
       "4         10.4         6.8           16.8             7.673333  \n",
       "5         11.7         5.7           18.1             6.897436  \n",
       "6         20.1         5.6           18.8             6.782051  \n",
       "7         11.3         8.5           12.5            10.218341  \n",
       "8         10.5         7.5           12.9             9.596561  \n",
       "9         10.0         9.6           16.0            10.060144  \n",
       "10        15.1         6.4           13.5             7.086280  \n",
       "11        13.1         6.9           24.0             8.070588  \n",
       "12        10.6         8.4           19.9             7.708075  \n",
       "13        17.5         4.7           12.5             7.888889  "
      ]
     },
     "execution_count": 14,
     "metadata": {},
     "output_type": "execute_result"
    }
   ],
   "source": [
    "df_industries['Avg_Maternity_Leave']= df_industries['Industry'].map(avg_leave_by_industry)\n",
    "df_industries"
   ]
  },
  {
   "cell_type": "markdown",
   "metadata": {},
   "source": [
    "This dataset now looks ready for us to begin analysis with it. This means we can move on to preparing our next dataset.\n",
    "\n",
    "This next dataset will help prepare us to investigate the correlation between paid maternity leave in certain industries and the inclusion of different races of women in those same industries. We use a dataset provided by statusofwomendata.org. We then clean the column names to match the industry names used in our other datasets, so that we can complete accurate analysis."
   ]
  },
  {
   "cell_type": "markdown",
   "metadata": {},
   "source": [
    "### Third Dataset"
   ]
  },
  {
   "cell_type": "code",
   "execution_count": 15,
   "metadata": {},
   "outputs": [
    {
     "data": {
      "text/html": [
       "<div>\n",
       "<style scoped>\n",
       "    .dataframe tbody tr th:only-of-type {\n",
       "        vertical-align: middle;\n",
       "    }\n",
       "\n",
       "    .dataframe tbody tr th {\n",
       "        vertical-align: top;\n",
       "    }\n",
       "\n",
       "    .dataframe thead th {\n",
       "        text-align: right;\n",
       "    }\n",
       "</style>\n",
       "<table border=\"1\" class=\"dataframe\">\n",
       "  <thead>\n",
       "    <tr style=\"text-align: right;\">\n",
       "      <th></th>\n",
       "      <th>Race</th>\n",
       "      <th>Financial</th>\n",
       "      <th>Professional and business services</th>\n",
       "      <th>Leisure and hospitality</th>\n",
       "      <th>Retail</th>\n",
       "      <th>Public administration</th>\n",
       "      <th>Construction</th>\n",
       "      <th>Transportation</th>\n",
       "      <th>Total Number of Women Workers</th>\n",
       "    </tr>\n",
       "  </thead>\n",
       "  <tbody>\n",
       "    <tr>\n",
       "      <th>0</th>\n",
       "      <td>White</td>\n",
       "      <td>15.0%</td>\n",
       "      <td>28.9%</td>\n",
       "      <td>18.3%</td>\n",
       "      <td>11.2%</td>\n",
       "      <td>21.2%</td>\n",
       "      <td>0.7%</td>\n",
       "      <td>4.6%</td>\n",
       "      <td>45,190,472</td>\n",
       "    </tr>\n",
       "    <tr>\n",
       "      <th>1</th>\n",
       "      <td>Hispanic</td>\n",
       "      <td>8.9%</td>\n",
       "      <td>15.9%</td>\n",
       "      <td>32.3%</td>\n",
       "      <td>12.5%</td>\n",
       "      <td>19.0%</td>\n",
       "      <td>2.0%</td>\n",
       "      <td>9.5%</td>\n",
       "      <td>9,863,162</td>\n",
       "    </tr>\n",
       "    <tr>\n",
       "      <th>2</th>\n",
       "      <td>Black</td>\n",
       "      <td>11.1%</td>\n",
       "      <td>21.8%</td>\n",
       "      <td>28.2%</td>\n",
       "      <td>11.1%</td>\n",
       "      <td>20.1%</td>\n",
       "      <td>0.6%</td>\n",
       "      <td>7.0%</td>\n",
       "      <td>8,590,191</td>\n",
       "    </tr>\n",
       "    <tr>\n",
       "      <th>3</th>\n",
       "      <td>Asian/Pacific Islander</td>\n",
       "      <td>15.8%</td>\n",
       "      <td>32.0%</td>\n",
       "      <td>20.6%</td>\n",
       "      <td>10.1%</td>\n",
       "      <td>14.4%</td>\n",
       "      <td>0.4%</td>\n",
       "      <td>6.7%</td>\n",
       "      <td>3,851,339</td>\n",
       "    </tr>\n",
       "    <tr>\n",
       "      <th>4</th>\n",
       "      <td>Native American</td>\n",
       "      <td>10.1%</td>\n",
       "      <td>20.8%</td>\n",
       "      <td>27.5%</td>\n",
       "      <td>11.0%</td>\n",
       "      <td>22.5%</td>\n",
       "      <td>1.7%</td>\n",
       "      <td>6.5%</td>\n",
       "      <td>375,834</td>\n",
       "    </tr>\n",
       "    <tr>\n",
       "      <th>5</th>\n",
       "      <td>Other Race or Two or More Races</td>\n",
       "      <td>13.2%</td>\n",
       "      <td>25.8%</td>\n",
       "      <td>23.6%</td>\n",
       "      <td>13.3%</td>\n",
       "      <td>18.7%</td>\n",
       "      <td>1.0%</td>\n",
       "      <td>4.5%</td>\n",
       "      <td>1,294,923</td>\n",
       "    </tr>\n",
       "    <tr>\n",
       "      <th>6</th>\n",
       "      <td>All Women</td>\n",
       "      <td>13.7%</td>\n",
       "      <td>26.3%</td>\n",
       "      <td>21.8%</td>\n",
       "      <td>11.4%</td>\n",
       "      <td>20.3%</td>\n",
       "      <td>0.9%</td>\n",
       "      <td>5.7%</td>\n",
       "      <td>69,165,921</td>\n",
       "    </tr>\n",
       "  </tbody>\n",
       "</table>\n",
       "</div>"
      ],
      "text/plain": [
       "                              Race Financial  \\\n",
       "0                            White     15.0%   \n",
       "1                         Hispanic      8.9%   \n",
       "2                            Black     11.1%   \n",
       "3           Asian/Pacific Islander     15.8%   \n",
       "4                  Native American     10.1%   \n",
       "5  Other Race or Two or More Races     13.2%   \n",
       "6                        All Women     13.7%   \n",
       "\n",
       "  Professional and business services Leisure and hospitality Retail  \\\n",
       "0                              28.9%                   18.3%  11.2%   \n",
       "1                              15.9%                   32.3%  12.5%   \n",
       "2                              21.8%                   28.2%  11.1%   \n",
       "3                              32.0%                   20.6%  10.1%   \n",
       "4                              20.8%                   27.5%  11.0%   \n",
       "5                              25.8%                   23.6%  13.3%   \n",
       "6                              26.3%                   21.8%  11.4%   \n",
       "\n",
       "  Public administration Construction Transportation  \\\n",
       "0                 21.2%         0.7%           4.6%   \n",
       "1                 19.0%         2.0%           9.5%   \n",
       "2                 20.1%         0.6%           7.0%   \n",
       "3                 14.4%         0.4%           6.7%   \n",
       "4                 22.5%         1.7%           6.5%   \n",
       "5                 18.7%         1.0%           4.5%   \n",
       "6                 20.3%         0.9%           5.7%   \n",
       "\n",
       "  Total Number of Women Workers  \n",
       "0                   45,190,472   \n",
       "1                    9,863,162   \n",
       "2                    8,590,191   \n",
       "3                    3,851,339   \n",
       "4                      375,834   \n",
       "5                    1,294,923   \n",
       "6                   69,165,921   "
      ]
     },
     "execution_count": 15,
     "metadata": {},
     "output_type": "execute_result"
    }
   ],
   "source": [
    "df_industries_race = pd.read_csv('women_in_industries_byrace.csv')\n",
    "df_industries_race = df_industries_race.dropna()\n",
    "df_industries_race.rename( columns={'Unnamed: 0':'Race', 'Management, Business, and Financial':'Financial', 'Professional and Related':'Professional and business services', 'Service':'Leisure and hospitality', 'Sales and Related':'Retail', 'Office and Administrative Support':'Public administration', 'Natural Resources, Construction, and Maintenance': 'Construction', 'Production, Transportation, and Material Moving':'Transportation'}, inplace=True )\n",
    "df_industries_race"
   ]
  },
  {
   "cell_type": "markdown",
   "metadata": {},
   "source": [
    "Since this dataset provides percentages, we want to convert them to a format that can be analyzed. We also want to transpose the dataset, since we want to make analyses by race."
   ]
  },
  {
   "cell_type": "code",
   "execution_count": 16,
   "metadata": {},
   "outputs": [
    {
     "data": {
      "text/html": [
       "<div>\n",
       "<style scoped>\n",
       "    .dataframe tbody tr th:only-of-type {\n",
       "        vertical-align: middle;\n",
       "    }\n",
       "\n",
       "    .dataframe tbody tr th {\n",
       "        vertical-align: top;\n",
       "    }\n",
       "\n",
       "    .dataframe thead th {\n",
       "        text-align: right;\n",
       "    }\n",
       "</style>\n",
       "<table border=\"1\" class=\"dataframe\">\n",
       "  <thead>\n",
       "    <tr style=\"text-align: right;\">\n",
       "      <th></th>\n",
       "      <th>0</th>\n",
       "      <th>1</th>\n",
       "      <th>2</th>\n",
       "      <th>3</th>\n",
       "      <th>4</th>\n",
       "      <th>5</th>\n",
       "      <th>6</th>\n",
       "    </tr>\n",
       "  </thead>\n",
       "  <tbody>\n",
       "    <tr>\n",
       "      <th>Race</th>\n",
       "      <td>White</td>\n",
       "      <td>Hispanic</td>\n",
       "      <td>Black</td>\n",
       "      <td>Asian/Pacific Islander</td>\n",
       "      <td>Native American</td>\n",
       "      <td>Other Race or Two or More Races</td>\n",
       "      <td>All Women</td>\n",
       "    </tr>\n",
       "    <tr>\n",
       "      <th>Financial</th>\n",
       "      <td>15.0%</td>\n",
       "      <td>8.9%</td>\n",
       "      <td>11.1%</td>\n",
       "      <td>15.8%</td>\n",
       "      <td>10.1%</td>\n",
       "      <td>13.2%</td>\n",
       "      <td>13.7%</td>\n",
       "    </tr>\n",
       "    <tr>\n",
       "      <th>Professional and business services</th>\n",
       "      <td>28.9%</td>\n",
       "      <td>15.9%</td>\n",
       "      <td>21.8%</td>\n",
       "      <td>32.0%</td>\n",
       "      <td>20.8%</td>\n",
       "      <td>25.8%</td>\n",
       "      <td>26.3%</td>\n",
       "    </tr>\n",
       "    <tr>\n",
       "      <th>Leisure and hospitality</th>\n",
       "      <td>18.3%</td>\n",
       "      <td>32.3%</td>\n",
       "      <td>28.2%</td>\n",
       "      <td>20.6%</td>\n",
       "      <td>27.5%</td>\n",
       "      <td>23.6%</td>\n",
       "      <td>21.8%</td>\n",
       "    </tr>\n",
       "    <tr>\n",
       "      <th>Retail</th>\n",
       "      <td>11.2%</td>\n",
       "      <td>12.5%</td>\n",
       "      <td>11.1%</td>\n",
       "      <td>10.1%</td>\n",
       "      <td>11.0%</td>\n",
       "      <td>13.3%</td>\n",
       "      <td>11.4%</td>\n",
       "    </tr>\n",
       "    <tr>\n",
       "      <th>Public administration</th>\n",
       "      <td>21.2%</td>\n",
       "      <td>19.0%</td>\n",
       "      <td>20.1%</td>\n",
       "      <td>14.4%</td>\n",
       "      <td>22.5%</td>\n",
       "      <td>18.7%</td>\n",
       "      <td>20.3%</td>\n",
       "    </tr>\n",
       "    <tr>\n",
       "      <th>Construction</th>\n",
       "      <td>0.7%</td>\n",
       "      <td>2.0%</td>\n",
       "      <td>0.6%</td>\n",
       "      <td>0.4%</td>\n",
       "      <td>1.7%</td>\n",
       "      <td>1.0%</td>\n",
       "      <td>0.9%</td>\n",
       "    </tr>\n",
       "    <tr>\n",
       "      <th>Transportation</th>\n",
       "      <td>4.6%</td>\n",
       "      <td>9.5%</td>\n",
       "      <td>7.0%</td>\n",
       "      <td>6.7%</td>\n",
       "      <td>6.5%</td>\n",
       "      <td>4.5%</td>\n",
       "      <td>5.7%</td>\n",
       "    </tr>\n",
       "    <tr>\n",
       "      <th>Total Number of Women Workers</th>\n",
       "      <td>45,190,472</td>\n",
       "      <td>9,863,162</td>\n",
       "      <td>8,590,191</td>\n",
       "      <td>3,851,339</td>\n",
       "      <td>375,834</td>\n",
       "      <td>1,294,923</td>\n",
       "      <td>69,165,921</td>\n",
       "    </tr>\n",
       "  </tbody>\n",
       "</table>\n",
       "</div>"
      ],
      "text/plain": [
       "                                               0            1            2  \\\n",
       "Race                                       White     Hispanic        Black   \n",
       "Financial                                  15.0%         8.9%        11.1%   \n",
       "Professional and business services         28.9%        15.9%        21.8%   \n",
       "Leisure and hospitality                    18.3%        32.3%        28.2%   \n",
       "Retail                                     11.2%        12.5%        11.1%   \n",
       "Public administration                      21.2%        19.0%        20.1%   \n",
       "Construction                                0.7%         2.0%         0.6%   \n",
       "Transportation                              4.6%         9.5%         7.0%   \n",
       "Total Number of Women Workers        45,190,472    9,863,162    8,590,191    \n",
       "\n",
       "                                                         3                4  \\\n",
       "Race                                Asian/Pacific Islander  Native American   \n",
       "Financial                                            15.8%            10.1%   \n",
       "Professional and business services                   32.0%            20.8%   \n",
       "Leisure and hospitality                              20.6%            27.5%   \n",
       "Retail                                               10.1%            11.0%   \n",
       "Public administration                                14.4%            22.5%   \n",
       "Construction                                          0.4%             1.7%   \n",
       "Transportation                                        6.7%             6.5%   \n",
       "Total Number of Women Workers                   3,851,339          375,834    \n",
       "\n",
       "                                                                  5  \\\n",
       "Race                                Other Race or Two or More Races   \n",
       "Financial                                                     13.2%   \n",
       "Professional and business services                            25.8%   \n",
       "Leisure and hospitality                                       23.6%   \n",
       "Retail                                                        13.3%   \n",
       "Public administration                                         18.7%   \n",
       "Construction                                                   1.0%   \n",
       "Transportation                                                 4.5%   \n",
       "Total Number of Women Workers                            1,294,923    \n",
       "\n",
       "                                               6  \n",
       "Race                                   All Women  \n",
       "Financial                                  13.7%  \n",
       "Professional and business services         26.3%  \n",
       "Leisure and hospitality                    21.8%  \n",
       "Retail                                     11.4%  \n",
       "Public administration                      20.3%  \n",
       "Construction                                0.9%  \n",
       "Transportation                              5.7%  \n",
       "Total Number of Women Workers        69,165,921   "
      ]
     },
     "execution_count": 16,
     "metadata": {},
     "output_type": "execute_result"
    }
   ],
   "source": [
    "df_industries_race = df_industries_race.transpose()\n",
    "df_industries_race"
   ]
  },
  {
   "cell_type": "code",
   "execution_count": 17,
   "metadata": {},
   "outputs": [
    {
     "data": {
      "text/html": [
       "<div>\n",
       "<style scoped>\n",
       "    .dataframe tbody tr th:only-of-type {\n",
       "        vertical-align: middle;\n",
       "    }\n",
       "\n",
       "    .dataframe tbody tr th {\n",
       "        vertical-align: top;\n",
       "    }\n",
       "\n",
       "    .dataframe thead th {\n",
       "        text-align: right;\n",
       "    }\n",
       "</style>\n",
       "<table border=\"1\" class=\"dataframe\">\n",
       "  <thead>\n",
       "    <tr style=\"text-align: right;\">\n",
       "      <th></th>\n",
       "      <th>White</th>\n",
       "      <th>Hispanic</th>\n",
       "      <th>Black</th>\n",
       "      <th>Asian</th>\n",
       "      <th>Native American</th>\n",
       "      <th>Mixed/Other</th>\n",
       "      <th>All Women</th>\n",
       "    </tr>\n",
       "  </thead>\n",
       "  <tbody>\n",
       "    <tr>\n",
       "      <th>Financial</th>\n",
       "      <td>15.0%</td>\n",
       "      <td>8.9%</td>\n",
       "      <td>11.1%</td>\n",
       "      <td>15.8%</td>\n",
       "      <td>10.1%</td>\n",
       "      <td>13.2%</td>\n",
       "      <td>13.7%</td>\n",
       "    </tr>\n",
       "    <tr>\n",
       "      <th>Professional and business services</th>\n",
       "      <td>28.9%</td>\n",
       "      <td>15.9%</td>\n",
       "      <td>21.8%</td>\n",
       "      <td>32.0%</td>\n",
       "      <td>20.8%</td>\n",
       "      <td>25.8%</td>\n",
       "      <td>26.3%</td>\n",
       "    </tr>\n",
       "    <tr>\n",
       "      <th>Leisure and hospitality</th>\n",
       "      <td>18.3%</td>\n",
       "      <td>32.3%</td>\n",
       "      <td>28.2%</td>\n",
       "      <td>20.6%</td>\n",
       "      <td>27.5%</td>\n",
       "      <td>23.6%</td>\n",
       "      <td>21.8%</td>\n",
       "    </tr>\n",
       "    <tr>\n",
       "      <th>Retail</th>\n",
       "      <td>11.2%</td>\n",
       "      <td>12.5%</td>\n",
       "      <td>11.1%</td>\n",
       "      <td>10.1%</td>\n",
       "      <td>11.0%</td>\n",
       "      <td>13.3%</td>\n",
       "      <td>11.4%</td>\n",
       "    </tr>\n",
       "    <tr>\n",
       "      <th>Public administration</th>\n",
       "      <td>21.2%</td>\n",
       "      <td>19.0%</td>\n",
       "      <td>20.1%</td>\n",
       "      <td>14.4%</td>\n",
       "      <td>22.5%</td>\n",
       "      <td>18.7%</td>\n",
       "      <td>20.3%</td>\n",
       "    </tr>\n",
       "    <tr>\n",
       "      <th>Construction</th>\n",
       "      <td>0.7%</td>\n",
       "      <td>2.0%</td>\n",
       "      <td>0.6%</td>\n",
       "      <td>0.4%</td>\n",
       "      <td>1.7%</td>\n",
       "      <td>1.0%</td>\n",
       "      <td>0.9%</td>\n",
       "    </tr>\n",
       "    <tr>\n",
       "      <th>Transportation</th>\n",
       "      <td>4.6%</td>\n",
       "      <td>9.5%</td>\n",
       "      <td>7.0%</td>\n",
       "      <td>6.7%</td>\n",
       "      <td>6.5%</td>\n",
       "      <td>4.5%</td>\n",
       "      <td>5.7%</td>\n",
       "    </tr>\n",
       "  </tbody>\n",
       "</table>\n",
       "</div>"
      ],
      "text/plain": [
       "                                    White Hispanic  Black  Asian  \\\n",
       "Financial                           15.0%     8.9%  11.1%  15.8%   \n",
       "Professional and business services  28.9%    15.9%  21.8%  32.0%   \n",
       "Leisure and hospitality             18.3%    32.3%  28.2%  20.6%   \n",
       "Retail                              11.2%    12.5%  11.1%  10.1%   \n",
       "Public administration               21.2%    19.0%  20.1%  14.4%   \n",
       "Construction                         0.7%     2.0%   0.6%   0.4%   \n",
       "Transportation                       4.6%     9.5%   7.0%   6.7%   \n",
       "\n",
       "                                   Native American Mixed/Other All Women  \n",
       "Financial                                    10.1%       13.2%     13.7%  \n",
       "Professional and business services           20.8%       25.8%     26.3%  \n",
       "Leisure and hospitality                      27.5%       23.6%     21.8%  \n",
       "Retail                                       11.0%       13.3%     11.4%  \n",
       "Public administration                        22.5%       18.7%     20.3%  \n",
       "Construction                                  1.7%        1.0%      0.9%  \n",
       "Transportation                                6.5%        4.5%      5.7%  "
      ]
     },
     "execution_count": 17,
     "metadata": {},
     "output_type": "execute_result"
    }
   ],
   "source": [
    "df_industries_race = df_industries_race.rename( columns={0: 'White', 1:'Hispanic', 2:'Black', 3:'Asian', 4:'Native American', 5:'Mixed/Other', 6:'All Women'} )\n",
    "df_industries_race = df_industries_race.drop(['Race'])\n",
    "df_industries_race = df_industries_race.drop(['Total Number of Women Workers'])\n",
    "df_industries_race"
   ]
  },
  {
   "cell_type": "code",
   "execution_count": 18,
   "metadata": {},
   "outputs": [],
   "source": [
    "def convert(string):\n",
    "    string = string.replace('%', '')\n",
    "    output = float(string)\n",
    "    return output"
   ]
  },
  {
   "cell_type": "code",
   "execution_count": 19,
   "metadata": {},
   "outputs": [],
   "source": [
    "df_industries_race['White'] = df_industries_race['White'].apply(convert)\n",
    "df_industries_race['Hispanic'] = df_industries_race['Hispanic'].apply(convert)\n",
    "df_industries_race['Black'] = df_industries_race['Black'].apply(convert)\n",
    "df_industries_race['Asian'] = df_industries_race['Asian'].apply(convert)\n",
    "df_industries_race['Native American'] = df_industries_race['Native American'].apply(convert)\n",
    "df_industries_race['Mixed/Other'] = df_industries_race['Mixed/Other'].apply(convert)\n",
    "df_industries_race['All Women'] = df_industries_race['All Women'].apply(convert)"
   ]
  },
  {
   "cell_type": "code",
   "execution_count": 20,
   "metadata": {},
   "outputs": [
    {
     "data": {
      "text/html": [
       "<div>\n",
       "<style scoped>\n",
       "    .dataframe tbody tr th:only-of-type {\n",
       "        vertical-align: middle;\n",
       "    }\n",
       "\n",
       "    .dataframe tbody tr th {\n",
       "        vertical-align: top;\n",
       "    }\n",
       "\n",
       "    .dataframe thead th {\n",
       "        text-align: right;\n",
       "    }\n",
       "</style>\n",
       "<table border=\"1\" class=\"dataframe\">\n",
       "  <thead>\n",
       "    <tr style=\"text-align: right;\">\n",
       "      <th></th>\n",
       "      <th>White</th>\n",
       "      <th>Hispanic</th>\n",
       "      <th>Black</th>\n",
       "      <th>Asian</th>\n",
       "      <th>Native</th>\n",
       "      <th>Mixed</th>\n",
       "      <th>All Women</th>\n",
       "      <th>Avg_Maternity_Leave</th>\n",
       "    </tr>\n",
       "  </thead>\n",
       "  <tbody>\n",
       "    <tr>\n",
       "      <th>Financial</th>\n",
       "      <td>15.0</td>\n",
       "      <td>8.9</td>\n",
       "      <td>11.1</td>\n",
       "      <td>15.8</td>\n",
       "      <td>10.1</td>\n",
       "      <td>13.2</td>\n",
       "      <td>13.7</td>\n",
       "      <td>9.596561</td>\n",
       "    </tr>\n",
       "    <tr>\n",
       "      <th>Professional and business services</th>\n",
       "      <td>28.9</td>\n",
       "      <td>15.9</td>\n",
       "      <td>21.8</td>\n",
       "      <td>32.0</td>\n",
       "      <td>20.8</td>\n",
       "      <td>25.8</td>\n",
       "      <td>26.3</td>\n",
       "      <td>10.060144</td>\n",
       "    </tr>\n",
       "    <tr>\n",
       "      <th>Leisure and hospitality</th>\n",
       "      <td>18.3</td>\n",
       "      <td>32.3</td>\n",
       "      <td>28.2</td>\n",
       "      <td>20.6</td>\n",
       "      <td>27.5</td>\n",
       "      <td>23.6</td>\n",
       "      <td>21.8</td>\n",
       "      <td>8.070588</td>\n",
       "    </tr>\n",
       "    <tr>\n",
       "      <th>Retail</th>\n",
       "      <td>11.2</td>\n",
       "      <td>12.5</td>\n",
       "      <td>11.1</td>\n",
       "      <td>10.1</td>\n",
       "      <td>11.0</td>\n",
       "      <td>13.3</td>\n",
       "      <td>11.4</td>\n",
       "      <td>6.897436</td>\n",
       "    </tr>\n",
       "    <tr>\n",
       "      <th>Public administration</th>\n",
       "      <td>21.2</td>\n",
       "      <td>19.0</td>\n",
       "      <td>20.1</td>\n",
       "      <td>14.4</td>\n",
       "      <td>22.5</td>\n",
       "      <td>18.7</td>\n",
       "      <td>20.3</td>\n",
       "      <td>7.888889</td>\n",
       "    </tr>\n",
       "    <tr>\n",
       "      <th>Construction</th>\n",
       "      <td>0.7</td>\n",
       "      <td>2.0</td>\n",
       "      <td>0.6</td>\n",
       "      <td>0.4</td>\n",
       "      <td>1.7</td>\n",
       "      <td>1.0</td>\n",
       "      <td>0.9</td>\n",
       "      <td>7.326531</td>\n",
       "    </tr>\n",
       "    <tr>\n",
       "      <th>Transportation</th>\n",
       "      <td>4.6</td>\n",
       "      <td>9.5</td>\n",
       "      <td>7.0</td>\n",
       "      <td>6.7</td>\n",
       "      <td>6.5</td>\n",
       "      <td>4.5</td>\n",
       "      <td>5.7</td>\n",
       "      <td>6.782051</td>\n",
       "    </tr>\n",
       "  </tbody>\n",
       "</table>\n",
       "</div>"
      ],
      "text/plain": [
       "                                    White  Hispanic  Black  Asian  Native  \\\n",
       "Financial                            15.0       8.9   11.1   15.8    10.1   \n",
       "Professional and business services   28.9      15.9   21.8   32.0    20.8   \n",
       "Leisure and hospitality              18.3      32.3   28.2   20.6    27.5   \n",
       "Retail                               11.2      12.5   11.1   10.1    11.0   \n",
       "Public administration                21.2      19.0   20.1   14.4    22.5   \n",
       "Construction                          0.7       2.0    0.6    0.4     1.7   \n",
       "Transportation                        4.6       9.5    7.0    6.7     6.5   \n",
       "\n",
       "                                    Mixed  All Women  Avg_Maternity_Leave  \n",
       "Financial                            13.2       13.7             9.596561  \n",
       "Professional and business services   25.8       26.3            10.060144  \n",
       "Leisure and hospitality              23.6       21.8             8.070588  \n",
       "Retail                               13.3       11.4             6.897436  \n",
       "Public administration                18.7       20.3             7.888889  \n",
       "Construction                          1.0        0.9             7.326531  \n",
       "Transportation                        4.5        5.7             6.782051  "
      ]
     },
     "execution_count": 20,
     "metadata": {},
     "output_type": "execute_result"
    }
   ],
   "source": [
    "df_industries_race['Avg_Maternity_Leave']= pd.Series(avg_leave_by_industry)\n",
    "df_industries_race.rename(columns={'Native American':'Native'}, inplace=True)\n",
    "df_industries_race.rename(columns={'Mixed/Other':'Mixed'}, inplace=True)\n",
    "df_industries_race"
   ]
  },
  {
   "cell_type": "markdown",
   "metadata": {},
   "source": [
    "Now that the data has been cleaned and wrangled, let's do some exploratory graphs."
   ]
  },
  {
   "cell_type": "markdown",
   "metadata": {},
   "source": [
    "# Exploratory Analysis"
   ]
  },
  {
   "cell_type": "code",
   "execution_count": 21,
   "metadata": {},
   "outputs": [
    {
     "data": {
      "image/png": "[encoded data removed]",
      "text/plain": [
       "<Figure size 2160x720 with 1 Axes>"
      ]
     },
     "metadata": {
      "needs_background": "light"
     },
     "output_type": "display_data"
    }
   ],
   "source": [
    "ax1 = df_industries.plot.bar('Industry', 'Avg_Maternity_Leave', figsize=(30, 10), legend=False, color=(1,0,1))\n",
    "ax1.set_title(\"Average Paid Maternity Leave by Industry\", fontsize=40)\n",
    "ax1.set_xlabel(\"Industry\", fontsize=30)\n",
    "ax1.set_ylabel(\"Paid Maternity Leave(Weeks)\", fontsize=30)\n",
    "ax1.tick_params(labelsize=20)\n",
    "f2 = plt.gcf()"
   ]
  },
  {
   "cell_type": "markdown",
   "metadata": {},
   "source": [
    "We can see, looking at the graph above, that industries like agriculture, retail, and transportation have relatively low weeks of paid maternity leave compared to industries like Information, Finance, and Professional Business services. \n",
    "\n",
    "Let's explore the range of average maternity leaves across the industries."
   ]
  },
  {
   "cell_type": "code",
   "execution_count": 22,
   "metadata": {},
   "outputs": [
    {
     "name": "stdout",
     "output_type": "stream",
     "text": [
      "The range of average maternity leaves is: 5.418340611353712\n"
     ]
    }
   ],
   "source": [
    "max_avg_leave = df_industries['Avg_Maternity_Leave'].max()\n",
    "min_avg_leave = df_industries['Avg_Maternity_Leave'].min()\n",
    "range_avg_leave = max_avg_leave - min_avg_leave\n",
    "print(\"The range of average maternity leaves is: \" + str(range_avg_leave))"
   ]
  },
  {
   "cell_type": "markdown",
   "metadata": {},
   "source": [
    "Now, we want to explore how women of different races are distributed amongst these industries. This will help us gain a better understanding of whether racial distributions are correlated with maternity leaves at all."
   ]
  },
  {
   "cell_type": "code",
   "execution_count": 23,
   "metadata": {},
   "outputs": [
    {
     "data": {
      "image/png": "[encoded data removed]",
      "text/plain": [
       "<Figure size 720x360 with 1 Axes>"
      ]
     },
     "metadata": {},
     "output_type": "display_data"
    }
   ],
   "source": [
    "plot = df_industries_race.plot.pie(y='White', figsize=(10,5), legend=False)\n",
    "plot.set_title(\"White Women In Industries\", fontsize=30)\n",
    "fig = plt.gcf()"
   ]
  },
  {
   "cell_type": "markdown",
   "metadata": {},
   "source": [
    "In the plot above, we can see that the majority of working White women work in professional and business services. We also see from earlier data exploration that professional and business services was an industry with one of the highest average paid maternity leave lengths. This tells us that a higher percentage of White women in the workforce may be correlated with longer paid maternity leaves for those workplaces."
   ]
  },
  {
   "cell_type": "code",
   "execution_count": 24,
   "metadata": {},
   "outputs": [
    {
     "data": {
      "image/png": "[encoded data removed]",
      "text/plain": [
       "<Figure size 720x360 with 1 Axes>"
      ]
     },
     "metadata": {},
     "output_type": "display_data"
    }
   ],
   "source": [
    "plot = df_industries_race.plot.pie(y='Black', figsize=(10,5), legend=False)\n",
    "plot.set_title(\"Black Women In Industries\", fontsize=30)\n",
    "fig = plt.gcf()"
   ]
  },
  {
   "cell_type": "code",
   "execution_count": 25,
   "metadata": {},
   "outputs": [
    {
     "data": {
      "image/png": "[encoded data removed]",
      "text/plain": [
       "<Figure size 720x360 with 1 Axes>"
      ]
     },
     "metadata": {},
     "output_type": "display_data"
    }
   ],
   "source": [
    "plot = df_industries_race.plot.pie(y='Hispanic', figsize=(10,5), legend=False)\n",
    "plot.set_title(\"Hispanic Women In Industries\", fontsize=30)\n",
    "fig = plt.gcf()"
   ]
  },
  {
   "cell_type": "code",
   "execution_count": 26,
   "metadata": {
    "scrolled": true
   },
   "outputs": [
    {
     "data": {
      "image/png": "[encoded data removed]",
      "text/plain": [
       "<Figure size 720x360 with 1 Axes>"
      ]
     },
     "metadata": {},
     "output_type": "display_data"
    }
   ],
   "source": [
    "plot = df_industries_race.plot.pie(y='Native', figsize=(10,5), legend=False)\n",
    "plot.set_title(\"Native American Women In Industries\", fontsize=30)\n",
    "fig = plt.gcf()"
   ]
  },
  {
   "cell_type": "markdown",
   "metadata": {},
   "source": [
    "We find that the majority of working Black, Hispanic, and Native American women work in leisure and hospitality. Earlier, we found that this industry has an average of 8 weeks offered in paid maternity leave. This is the third highest maternity leave duration that we found in our earlier analysis. This suggests that there may be a correlation between the presence of minority women in an industry and a higher average maternity leave duration. "
   ]
  },
  {
   "cell_type": "code",
   "execution_count": 27,
   "metadata": {},
   "outputs": [
    {
     "data": {
      "image/png": "[encoded data removed]",
      "text/plain": [
       "<Figure size 720x360 with 1 Axes>"
      ]
     },
     "metadata": {},
     "output_type": "display_data"
    }
   ],
   "source": [
    "plot = df_industries_race.plot.pie(y='Asian', figsize=(10,5), legend=False)\n",
    "plot.set_title(\"Asian Women In Industries\", fontsize=30)\n",
    "fig = plt.gcf()"
   ]
  },
  {
   "cell_type": "markdown",
   "metadata": {},
   "source": [
    "We find that the majority of working Asian women work in professional and business services and leisure and hospitality, two of the industries we discussed earlier. Taking the results of this graph into account, it becomes clear that while professional and business services may offer the longest average maternity leave, leisure and hospitality services offer one of the longest average paid maternity leaves as well and this may in fact be correlated with more women of all demographics represented in these industries."
   ]
  },
  {
   "cell_type": "code",
   "execution_count": 28,
   "metadata": {},
   "outputs": [
    {
     "data": {
      "image/png": "[encoded data removed]",
      "text/plain": [
       "<Figure size 720x360 with 1 Axes>"
      ]
     },
     "metadata": {},
     "output_type": "display_data"
    }
   ],
   "source": [
    "plot = df_industries_race.plot.pie(y='Mixed', figsize=(10,5), legend=False)\n",
    "plot.set_title(\"Mixed Race Women In Industries\", fontsize=30)\n",
    "fig = plt.gcf()"
   ]
  },
  {
   "cell_type": "markdown",
   "metadata": {},
   "source": [
    "Now that we have explored the distributions of women in this different industries, it is time to look at some more quantifiable data concerning how much paid maternity leave women of different ethnicities have access to on average."
   ]
  },
  {
   "cell_type": "code",
   "execution_count": 29,
   "metadata": {},
   "outputs": [
    {
     "data": {
      "text/html": [
       "<div>\n",
       "<style scoped>\n",
       "    .dataframe tbody tr th:only-of-type {\n",
       "        vertical-align: middle;\n",
       "    }\n",
       "\n",
       "    .dataframe tbody tr th {\n",
       "        vertical-align: top;\n",
       "    }\n",
       "\n",
       "    .dataframe thead th {\n",
       "        text-align: right;\n",
       "    }\n",
       "</style>\n",
       "<table border=\"1\" class=\"dataframe\">\n",
       "  <thead>\n",
       "    <tr style=\"text-align: right;\">\n",
       "      <th></th>\n",
       "      <th>White</th>\n",
       "      <th>Hispanic</th>\n",
       "      <th>Black</th>\n",
       "      <th>Asian</th>\n",
       "      <th>Native</th>\n",
       "      <th>Mixed</th>\n",
       "      <th>All Women</th>\n",
       "      <th>Avg_Maternity_Leave</th>\n",
       "    </tr>\n",
       "  </thead>\n",
       "  <tbody>\n",
       "    <tr>\n",
       "      <th>Financial</th>\n",
       "      <td>15.0</td>\n",
       "      <td>8.9</td>\n",
       "      <td>11.1</td>\n",
       "      <td>15.8</td>\n",
       "      <td>10.1</td>\n",
       "      <td>13.2</td>\n",
       "      <td>13.7</td>\n",
       "      <td>9.596561</td>\n",
       "    </tr>\n",
       "    <tr>\n",
       "      <th>Professional and business services</th>\n",
       "      <td>28.9</td>\n",
       "      <td>15.9</td>\n",
       "      <td>21.8</td>\n",
       "      <td>32.0</td>\n",
       "      <td>20.8</td>\n",
       "      <td>25.8</td>\n",
       "      <td>26.3</td>\n",
       "      <td>10.060144</td>\n",
       "    </tr>\n",
       "    <tr>\n",
       "      <th>Leisure and hospitality</th>\n",
       "      <td>18.3</td>\n",
       "      <td>32.3</td>\n",
       "      <td>28.2</td>\n",
       "      <td>20.6</td>\n",
       "      <td>27.5</td>\n",
       "      <td>23.6</td>\n",
       "      <td>21.8</td>\n",
       "      <td>8.070588</td>\n",
       "    </tr>\n",
       "    <tr>\n",
       "      <th>Retail</th>\n",
       "      <td>11.2</td>\n",
       "      <td>12.5</td>\n",
       "      <td>11.1</td>\n",
       "      <td>10.1</td>\n",
       "      <td>11.0</td>\n",
       "      <td>13.3</td>\n",
       "      <td>11.4</td>\n",
       "      <td>6.897436</td>\n",
       "    </tr>\n",
       "    <tr>\n",
       "      <th>Public administration</th>\n",
       "      <td>21.2</td>\n",
       "      <td>19.0</td>\n",
       "      <td>20.1</td>\n",
       "      <td>14.4</td>\n",
       "      <td>22.5</td>\n",
       "      <td>18.7</td>\n",
       "      <td>20.3</td>\n",
       "      <td>7.888889</td>\n",
       "    </tr>\n",
       "    <tr>\n",
       "      <th>Construction</th>\n",
       "      <td>0.7</td>\n",
       "      <td>2.0</td>\n",
       "      <td>0.6</td>\n",
       "      <td>0.4</td>\n",
       "      <td>1.7</td>\n",
       "      <td>1.0</td>\n",
       "      <td>0.9</td>\n",
       "      <td>7.326531</td>\n",
       "    </tr>\n",
       "    <tr>\n",
       "      <th>Transportation</th>\n",
       "      <td>4.6</td>\n",
       "      <td>9.5</td>\n",
       "      <td>7.0</td>\n",
       "      <td>6.7</td>\n",
       "      <td>6.5</td>\n",
       "      <td>4.5</td>\n",
       "      <td>5.7</td>\n",
       "      <td>6.782051</td>\n",
       "    </tr>\n",
       "  </tbody>\n",
       "</table>\n",
       "</div>"
      ],
      "text/plain": [
       "                                    White  Hispanic  Black  Asian  Native  \\\n",
       "Financial                            15.0       8.9   11.1   15.8    10.1   \n",
       "Professional and business services   28.9      15.9   21.8   32.0    20.8   \n",
       "Leisure and hospitality              18.3      32.3   28.2   20.6    27.5   \n",
       "Retail                               11.2      12.5   11.1   10.1    11.0   \n",
       "Public administration                21.2      19.0   20.1   14.4    22.5   \n",
       "Construction                          0.7       2.0    0.6    0.4     1.7   \n",
       "Transportation                        4.6       9.5    7.0    6.7     6.5   \n",
       "\n",
       "                                    Mixed  All Women  Avg_Maternity_Leave  \n",
       "Financial                            13.2       13.7             9.596561  \n",
       "Professional and business services   25.8       26.3            10.060144  \n",
       "Leisure and hospitality              23.6       21.8             8.070588  \n",
       "Retail                               13.3       11.4             6.897436  \n",
       "Public administration                18.7       20.3             7.888889  \n",
       "Construction                          1.0        0.9             7.326531  \n",
       "Transportation                        4.5        5.7             6.782051  "
      ]
     },
     "execution_count": 29,
     "metadata": {},
     "output_type": "execute_result"
    }
   ],
   "source": [
    "df_industries_race"
   ]
  },
  {
   "cell_type": "code",
   "execution_count": 30,
   "metadata": {},
   "outputs": [
    {
     "name": "stdout",
     "output_type": "stream",
     "text": [
      "The average paid maternity leave in weeks for white women is 8.632000620339284\n"
     ]
    }
   ],
   "source": [
    "paid_leave_by_race = {}\n",
    "output = 0\n",
    "for i, row in df_industries_race.iterrows():\n",
    "    weighted_percent = (df_industries_race['White'][i])/100\n",
    "    output += weighted_percent*(df_industries_race['Avg_Maternity_Leave'][i])\n",
    "\n",
    "print('The average paid maternity leave in weeks for white women is ' + str(output))\n",
    "paid_leave_by_race['White'] = output"
   ]
  },
  {
   "cell_type": "code",
   "execution_count": 31,
   "metadata": {},
   "outputs": [
    {
     "name": "stdout",
     "output_type": "stream",
     "text": [
      "The average paid maternity leave in weeks for hispanic women is 8.212350612076836\n"
     ]
    }
   ],
   "source": [
    "output = 0\n",
    "for i, row in df_industries_race.iterrows():\n",
    "    weighted_percent = (df_industries_race['Hispanic'][i])/100\n",
    "    output += weighted_percent*(df_industries_race['Avg_Maternity_Leave'][i])\n",
    "\n",
    "print('The average paid maternity leave in weeks for hispanic women is ' + str(output))\n",
    "paid_leave_by_race['Hispanic'] = output"
   ]
  },
  {
   "cell_type": "code",
   "execution_count": 32,
   "metadata": {},
   "outputs": [
    {
     "name": "stdout",
     "output_type": "stream",
     "text": [
      "The average paid maternity leave in weeks for black women is 8.404220271612765\n"
     ]
    }
   ],
   "source": [
    "output = 0\n",
    "for i, row in df_industries_race.iterrows():\n",
    "    weighted_percent = (df_industries_race['Black'][i])/100\n",
    "    output += weighted_percent*(df_industries_race['Avg_Maternity_Leave'][i])\n",
    "\n",
    "print('The average paid maternity leave in weeks for black women is ' + str(output))\n",
    "paid_leave_by_race['Black'] = output"
   ]
  },
  {
   "cell_type": "code",
   "execution_count": 33,
   "metadata": {},
   "outputs": [
    {
     "name": "stdout",
     "output_type": "stream",
     "text": [
      "The average paid maternity leave in weeks for asian women is 8.714388334717336\n"
     ]
    }
   ],
   "source": [
    "output = 0\n",
    "for i, row in df_industries_race.iterrows():\n",
    "    weighted_percent = (df_industries_race['Asian'][i])/100\n",
    "    output += weighted_percent*(df_industries_race['Avg_Maternity_Leave'][i])\n",
    "\n",
    "print('The average paid maternity leave in weeks for asian women is ' + str(output))\n",
    "paid_leave_by_race['Asian'] = output"
   ]
  },
  {
   "cell_type": "code",
   "execution_count": 34,
   "metadata": {},
   "outputs": [
    {
     "name": "stdout",
     "output_type": "stream",
     "text": [
      "The average paid maternity leave in weeks for Native American women is 8.380276586994725\n"
     ]
    }
   ],
   "source": [
    "output = 0\n",
    "for i, row in df_industries_race.iterrows():\n",
    "    weighted_percent = (df_industries_race['Native'][i])/100\n",
    "    output += weighted_percent*(df_industries_race['Avg_Maternity_Leave'][i])\n",
    "\n",
    "print('The average paid maternity leave in weeks for Native American women is ' + str(output))\n",
    "paid_leave_by_race['Native American'] = output"
   ]
  },
  {
   "cell_type": "code",
   "execution_count": 35,
   "metadata": {},
   "outputs": [
    {
     "name": "stdout",
     "output_type": "stream",
     "text": [
      "The average paid maternity leave in weeks for mixed race women is 8.537960721326693\n"
     ]
    }
   ],
   "source": [
    "output = 0\n",
    "for i, row in df_industries_race.iterrows():\n",
    "    weighted_percent = (df_industries_race['Mixed'][i])/100\n",
    "    output += weighted_percent*(df_industries_race['Avg_Maternity_Leave'][i])\n",
    "\n",
    "print('The average paid maternity leave in weeks for mixed race women is ' + str(output))\n",
    "paid_leave_by_race['Mixed Race'] = output"
   ]
  },
  {
   "cell_type": "code",
   "execution_count": 36,
   "metadata": {},
   "outputs": [
    {
     "data": {
      "text/plain": [
       "{'White': 8.632000620339284,\n",
       " 'Hispanic': 8.212350612076836,\n",
       " 'Black': 8.404220271612765,\n",
       " 'Asian': 8.714388334717336,\n",
       " 'Native American': 8.380276586994725,\n",
       " 'Mixed Race': 8.537960721326693}"
      ]
     },
     "execution_count": 36,
     "metadata": {},
     "output_type": "execute_result"
    }
   ],
   "source": [
    "paid_leave_by_race"
   ]
  },
  {
   "cell_type": "markdown",
   "metadata": {},
   "source": [
    "We can add a visual to better see how the paid weeks of leave compare for women of each race."
   ]
  },
  {
   "cell_type": "code",
   "execution_count": 37,
   "metadata": {},
   "outputs": [
    {
     "data": {
      "image/png": "[encoded data removed]",
      "text/plain": [
       "<Figure size 1080x504 with 1 Axes>"
      ]
     },
     "metadata": {
      "needs_background": "light"
     },
     "output_type": "display_data"
    }
   ],
   "source": [
    "plt.bar(range(len(paid_leave_by_race)), list(paid_leave_by_race.values()), width=0.6, align='center', color=(0,0.8,0.8))\n",
    "plt.xticks(range(len(paid_leave_by_race)), list(paid_leave_by_race.keys()))\n",
    "plt.title(\"Average Paid Maternity Leave (week) by Race\", fontsize=30)\n",
    "plt.xlabel('Race', fontsize=18)\n",
    "plt.ylabel('Paid Maternity Leave (week)', fontsize=16)\n",
    "fig = plt.gcf()\n",
    "fig.set_size_inches(15,7)"
   ]
  },
  {
   "cell_type": "markdown",
   "metadata": {},
   "source": [
    "We can see there is a slight difference between the average paid maternity leave of women in different races, but it isn't likely to have a significant impact on our analysis of correlations between participation of women in races in different industries and their paid maternity leaves."
   ]
  },
  {
   "cell_type": "markdown",
   "metadata": {},
   "source": [
    "### Testing Distributions"
   ]
  },
  {
   "cell_type": "markdown",
   "metadata": {},
   "source": [
    "Before we proceed with linear regression testing, we want to make sure our data follows a somewhat normal distribution. "
   ]
  },
  {
   "cell_type": "code",
   "execution_count": 38,
   "metadata": {},
   "outputs": [
    {
     "data": {
      "image/png": "[encoded data removed]",
      "text/plain": [
       "<Figure size 432x288 with 1 Axes>"
      ]
     },
     "metadata": {
      "needs_background": "light"
     },
     "output_type": "display_data"
    }
   ],
   "source": [
    "h_mat_leaves = df_companies['Maternity_Leave_Paid'].values\n",
    "xs = np.arange(h_mat_leaves.min(), h_mat_leaves.max(), 1)\n",
    "fit = stats.norm.pdf(xs, np.mean(h_mat_leaves), np.std(h_mat_leaves))\n",
    "# most easily done using matplotlib\n",
    "plt.plot(xs, fit, label = 'Normal Dist.', lw = 4)\n",
    "plt.hist(h_mat_leaves, density = True, label = 'Actual Data');\n",
    "plt.title('Company - Length of Maternity Leaves')\n",
    "plt.legend();"
   ]
  },
  {
   "cell_type": "markdown",
   "metadata": {},
   "source": [
    "With the exception of the outlier at the end, we can see that our data does infact follow a somewhat normal distribution. We will consider this distribution to be normal enough to pursue linear regression testing."
   ]
  },
  {
   "cell_type": "markdown",
   "metadata": {},
   "source": [
    "# Data Analysis"
   ]
  },
  {
   "cell_type": "markdown",
   "metadata": {},
   "source": [
    "Now, since we have a column that tells us the average maternity leave in weeks for every industry, we can investigate the correlation between the percentage of women who make up the labor forces of these industries and the average maternity leaves of these industries."
   ]
  },
  {
   "cell_type": "markdown",
   "metadata": {},
   "source": [
    "### Does the percentage of women working in that industry affect the average paid maternity leave in an industry?"
   ]
  },
  {
   "cell_type": "markdown",
   "metadata": {},
   "source": [
    "We can start by fitting a line to our data that concerns the percentage of women in each industry and the industry's average maternity leave."
   ]
  },
  {
   "cell_type": "code",
   "execution_count": 39,
   "metadata": {
    "scrolled": true
   },
   "outputs": [
    {
     "data": {
      "image/png": "[encoded data removed]",
      "text/plain": [
       "<Figure size 360x360 with 1 Axes>"
      ]
     },
     "metadata": {
      "needs_background": "light"
     },
     "output_type": "display_data"
    }
   ],
   "source": [
    "g = sns.lmplot(x='perc_women',y='Avg_Maternity_Leave',data=df_industries,fit_reg=True)\n",
    "g = (g.set_axis_labels(\"Women (%)\", \"Average Paid Maternity Leave\"))"
   ]
  },
  {
   "cell_type": "markdown",
   "metadata": {},
   "source": [
    "This plot does not look convincing. The points are very varied and do not seem to be consistently close to the line. We can see that the number of points below and above the line look somewhat balanced but it seems like there is not an obvious linear relationship between the percentage that women comprise in its workforce and the average maternity leave in an industry.\n",
    "\n",
    "We will still go on to fit a linear regression model to the data and analyze the information it gives us."
   ]
  },
  {
   "cell_type": "code",
   "execution_count": 40,
   "metadata": {},
   "outputs": [
    {
     "name": "stdout",
     "output_type": "stream",
     "text": [
      "                             OLS Regression Results                            \n",
      "===============================================================================\n",
      "Dep. Variable:     Avg_Maternity_Leave   R-squared:                       0.029\n",
      "Model:                             OLS   Adj. R-squared:                 -0.059\n",
      "Method:                  Least Squares   F-statistic:                    0.3310\n",
      "Date:                 Thu, 19 Mar 2020   Prob (F-statistic):              0.577\n",
      "Time:                         15:19:29   Log-Likelihood:                -22.872\n",
      "No. Observations:                   13   AIC:                             49.74\n",
      "Df Residuals:                       11   BIC:                             50.87\n",
      "Df Model:                            1                                         \n",
      "Covariance Type:             nonrobust                                         \n",
      "==============================================================================\n",
      "                 coef    std err          t      P>|t|      [0.025      0.975]\n",
      "------------------------------------------------------------------------------\n",
      "Intercept      7.3417      1.066      6.888      0.000       4.996       9.688\n",
      "perc_women     0.0143      0.025      0.575      0.577      -0.041       0.069\n",
      "==============================================================================\n",
      "Omnibus:                        0.096   Durbin-Watson:                   1.704\n",
      "Prob(Omnibus):                  0.953   Jarque-Bera (JB):                0.098\n",
      "Skew:                          -0.080   Prob(JB):                        0.952\n",
      "Kurtosis:                       2.607   Cond. No.                         108.\n",
      "==============================================================================\n",
      "\n",
      "Warnings:\n",
      "[1] Standard Errors assume that the covariance matrix of the errors is correctly specified.\n"
     ]
    },
    {
     "name": "stderr",
     "output_type": "stream",
     "text": [
      "/Library/Frameworks/Python.framework/Versions/3.8/lib/python3.8/site-packages/scipy/stats/stats.py:1534: UserWarning: kurtosistest only valid for n>=20 ... continuing anyway, n=13\n",
      "  warnings.warn(\"kurtosistest only valid for n>=20 ... continuing \"\n"
     ]
    }
   ],
   "source": [
    "outcome, predictors = patsy.dmatrices('Avg_Maternity_Leave ~ perc_women', df_industries)\n",
    "mod_1 = sm.OLS(outcome, predictors)\n",
    "res_1 = mod_1.fit()\n",
    "print(res_1.summary())"
   ]
  },
  {
   "cell_type": "markdown",
   "metadata": {},
   "source": [
    "Our suspicions were correct. We see a very small beta value, which means that how many women are in an industry is not a good predictor of the average maternity leave in that industry. We can also see that the p value is significantly high. This means that we fail to reject the null hypothesis and our results are likely due to random chance alone. "
   ]
  },
  {
   "cell_type": "markdown",
   "metadata": {},
   "source": [
    "However, perhaps there is more of a relationship in the reverse direction. What if the length of the maternity leave offered by an industry is a better predictor of the percentage of women in that industry? We will proceed to investigate this reverse relationship."
   ]
  },
  {
   "cell_type": "markdown",
   "metadata": {},
   "source": [
    "### Does the average maternity leave offered by an industry affect the percentage of women in that industry?"
   ]
  },
  {
   "cell_type": "code",
   "execution_count": 41,
   "metadata": {},
   "outputs": [
    {
     "data": {
      "image/png": "[encoded data removed]",
      "text/plain": [
       "<Figure size 360x360 with 1 Axes>"
      ]
     },
     "metadata": {
      "needs_background": "light"
     },
     "output_type": "display_data"
    }
   ],
   "source": [
    "g = sns.lmplot(x='Avg_Maternity_Leave',y='perc_women',data=df_industries,fit_reg=True)\n",
    "g = (g.set_axis_labels(\"Average Paid Maternity Leave\", \"Women(%)\"))"
   ]
  },
  {
   "cell_type": "markdown",
   "metadata": {},
   "source": [
    "This plot looks more convincing than the plot we saw before. While we still have outliers and the points are still varying distances away from the line, we can see that this line fits this data better than the previous plot.\n",
    "\n",
    "We will go on to quantify just how much better this line fits our data than the model previously."
   ]
  },
  {
   "cell_type": "code",
   "execution_count": 42,
   "metadata": {},
   "outputs": [
    {
     "name": "stdout",
     "output_type": "stream",
     "text": [
      "                            OLS Regression Results                            \n",
      "==============================================================================\n",
      "Dep. Variable:             perc_women   R-squared:                       0.029\n",
      "Model:                            OLS   Adj. R-squared:                 -0.059\n",
      "Method:                 Least Squares   F-statistic:                    0.3310\n",
      "Date:                Thu, 19 Mar 2020   Prob (F-statistic):              0.577\n",
      "Time:                        15:19:29   Log-Likelihood:                -55.084\n",
      "No. Observations:                  13   AIC:                             114.2\n",
      "Df Residuals:                      11   BIC:                             115.3\n",
      "Df Model:                           1                                         \n",
      "Covariance Type:            nonrobust                                         \n",
      "=======================================================================================\n",
      "                          coef    std err          t      P>|t|      [0.025      0.975]\n",
      "---------------------------------------------------------------------------------------\n",
      "Intercept              23.1319     28.433      0.814      0.433     -39.448      85.712\n",
      "Avg_Maternity_Leave     2.0367      3.540      0.575      0.577      -5.754       9.828\n",
      "==============================================================================\n",
      "Omnibus:                        0.810   Durbin-Watson:                   1.115\n",
      "Prob(Omnibus):                  0.667   Jarque-Bera (JB):                0.190\n",
      "Skew:                           0.295   Prob(JB):                        0.910\n",
      "Kurtosis:                       2.957   Cond. No.                         45.9\n",
      "==============================================================================\n",
      "\n",
      "Warnings:\n",
      "[1] Standard Errors assume that the covariance matrix of the errors is correctly specified.\n"
     ]
    }
   ],
   "source": [
    "outcome, predictors = patsy.dmatrices('perc_women ~ Avg_Maternity_Leave', df_industries)\n",
    "mod_1 = sm.OLS(outcome, predictors)\n",
    "res_1 = mod_1.fit()\n",
    "print(res_1.summary())"
   ]
  },
  {
   "cell_type": "markdown",
   "metadata": {},
   "source": [
    "We can see that the beta value is much larger for this model at approximately 2.04, up from 0.02 in the previous model. However, our p value is still extremely high, which means that we fail to reject the null hypothesis. We have several guesses as to why this might be the case, which we will elaborate upon in our conclusion."
   ]
  },
  {
   "cell_type": "markdown",
   "metadata": {},
   "source": [
    "We will proceed to investigate the relationships between female demographics in different industries and the maternity leaves in those industries. "
   ]
  },
  {
   "cell_type": "markdown",
   "metadata": {},
   "source": [
    "### Are women of different races impacted more/less by maternity leave?"
   ]
  },
  {
   "cell_type": "markdown",
   "metadata": {},
   "source": [
    "Since we have already established that maternity leave is a better predictor of female participation in the workforce than the other way around, we will further investigate whether this relationship holds up to women of different ethnicities."
   ]
  },
  {
   "cell_type": "code",
   "execution_count": 43,
   "metadata": {},
   "outputs": [
    {
     "data": {
      "text/plain": [
       "Text(0, 0.5, 'White Women (%)')"
      ]
     },
     "execution_count": 43,
     "metadata": {},
     "output_type": "execute_result"
    },
    {
     "data": {
      "image/png": "[encoded data removed]",
      "text/plain": [
       "<Figure size 432x288 with 1 Axes>"
      ]
     },
     "metadata": {
      "needs_background": "light"
     },
     "output_type": "display_data"
    }
   ],
   "source": [
    "g = sns.regplot(df_industries_race[('Avg_Maternity_Leave')],df_industries_race[('White')],line_kws={\"color\":\"red\"})\n",
    "g.set_xlabel(\"Average Paid Maternity Leave\")\n",
    "g.set_ylabel(\"White Women (%)\")"
   ]
  },
  {
   "cell_type": "code",
   "execution_count": 44,
   "metadata": {},
   "outputs": [
    {
     "name": "stdout",
     "output_type": "stream",
     "text": [
      "                            OLS Regression Results                            \n",
      "==============================================================================\n",
      "Dep. Variable:                  White   R-squared:                       0.542\n",
      "Model:                            OLS   Adj. R-squared:                  0.450\n",
      "Method:                 Least Squares   F-statistic:                     5.914\n",
      "Date:                Thu, 19 Mar 2020   Prob (F-statistic):             0.0592\n",
      "Time:                        15:19:29   Log-Likelihood:                -22.574\n",
      "No. Observations:                   7   AIC:                             49.15\n",
      "Df Residuals:                       5   BIC:                             49.04\n",
      "Df Model:                           1                                         \n",
      "Covariance Type:            nonrobust                                         \n",
      "=======================================================================================\n",
      "                          coef    std err          t      P>|t|      [0.025      0.975]\n",
      "---------------------------------------------------------------------------------------\n",
      "Intercept             -30.7296     18.704     -1.643      0.161     -78.809      17.350\n",
      "Avg_Maternity_Leave     5.5633      2.288      2.432      0.059      -0.317      11.444\n",
      "==============================================================================\n",
      "Omnibus:                          nan   Durbin-Watson:                   1.923\n",
      "Prob(Omnibus):                    nan   Jarque-Bera (JB):                0.693\n",
      "Skew:                          -0.374   Prob(JB):                        0.707\n",
      "Kurtosis:                       1.652   Cond. No.                         57.0\n",
      "==============================================================================\n",
      "\n",
      "Warnings:\n",
      "[1] Standard Errors assume that the covariance matrix of the errors is correctly specified.\n"
     ]
    },
    {
     "name": "stderr",
     "output_type": "stream",
     "text": [
      "/Library/Frameworks/Python.framework/Versions/3.8/lib/python3.8/site-packages/statsmodels/stats/stattools.py:70: ValueWarning: omni_normtest is not valid with less than 8 observations; 7 samples were given.\n",
      "  warn(\"omni_normtest is not valid with less than 8 observations; %i \"\n"
     ]
    }
   ],
   "source": [
    "outcome_white, predictors_white = patsy.dmatrices('White ~ Avg_Maternity_Leave', df_industries_race)\n",
    "mod_white = sm.OLS(outcome_white, predictors_white)\n",
    "res_white = mod_white.fit()\n",
    "print(res_white.summary())"
   ]
  },
  {
   "cell_type": "markdown",
   "metadata": {},
   "source": [
    "Our beta value seems to suggest a strong positive relationship between the maternity leave offered by an industry and the percentage of White women working for that industry. Even though our p-value is higher than we would like it to be, we think that this data is indicative of a potential relationship between maternity leave and White female participation in the workforce."
   ]
  },
  {
   "cell_type": "code",
   "execution_count": 45,
   "metadata": {
    "scrolled": true
   },
   "outputs": [
    {
     "data": {
      "text/plain": [
       "Text(0, 0.5, 'Hispanic Women(%)')"
      ]
     },
     "execution_count": 45,
     "metadata": {},
     "output_type": "execute_result"
    },
    {
     "data": {
      "image/png": "[encoded data removed]",
      "text/plain": [
       "<Figure size 432x288 with 1 Axes>"
      ]
     },
     "metadata": {
      "needs_background": "light"
     },
     "output_type": "display_data"
    }
   ],
   "source": [
    "g = sns.regplot(df_industries_race[('Avg_Maternity_Leave')],df_industries_race[('Hispanic')],line_kws={\"color\":\"orange\"})\n",
    "g.set_xlabel(\"Average Paid Maternity Leave\")\n",
    "g.set_ylabel(\"Hispanic Women(%)\")"
   ]
  },
  {
   "cell_type": "code",
   "execution_count": 46,
   "metadata": {},
   "outputs": [
    {
     "name": "stdout",
     "output_type": "stream",
     "text": [
      "                            OLS Regression Results                            \n",
      "==============================================================================\n",
      "Dep. Variable:               Hispanic   R-squared:                       0.024\n",
      "Model:                            OLS   Adj. R-squared:                 -0.171\n",
      "Method:                 Least Squares   F-statistic:                    0.1240\n",
      "Date:                Thu, 19 Mar 2020   Prob (F-statistic):              0.739\n",
      "Time:                        15:19:29   Log-Likelihood:                -25.155\n",
      "No. Observations:                   7   AIC:                             54.31\n",
      "Df Residuals:                       5   BIC:                             54.20\n",
      "Df Model:                           1                                         \n",
      "Covariance Type:            nonrobust                                         \n",
      "=======================================================================================\n",
      "                          coef    std err          t      P>|t|      [0.025      0.975]\n",
      "---------------------------------------------------------------------------------------\n",
      "Intercept               4.8805     27.042      0.180      0.864     -64.633      74.394\n",
      "Avg_Maternity_Leave     1.1645      3.308      0.352      0.739      -7.338       9.667\n",
      "==============================================================================\n",
      "Omnibus:                          nan   Durbin-Watson:                   2.018\n",
      "Prob(Omnibus):                    nan   Jarque-Bera (JB):                0.856\n",
      "Skew:                           0.857   Prob(JB):                        0.652\n",
      "Kurtosis:                       2.997   Cond. No.                         57.0\n",
      "==============================================================================\n",
      "\n",
      "Warnings:\n",
      "[1] Standard Errors assume that the covariance matrix of the errors is correctly specified.\n"
     ]
    },
    {
     "name": "stderr",
     "output_type": "stream",
     "text": [
      "/Library/Frameworks/Python.framework/Versions/3.8/lib/python3.8/site-packages/statsmodels/stats/stattools.py:70: ValueWarning: omni_normtest is not valid with less than 8 observations; 7 samples were given.\n",
      "  warn(\"omni_normtest is not valid with less than 8 observations; %i \"\n"
     ]
    }
   ],
   "source": [
    "outcome_hispanic, predictors_hispanic = patsy.dmatrices('Hispanic ~ Avg_Maternity_Leave', df_industries_race)\n",
    "mod_hispanic = sm.OLS(outcome_hispanic, predictors_hispanic)\n",
    "res_hispanic = mod_hispanic.fit()\n",
    "print(res_hispanic.summary())"
   ]
  },
  {
   "cell_type": "markdown",
   "metadata": {},
   "source": [
    "We can see that there is less of a positive relationship between maternity leave and Hispanic female participation in the workforce. We also have a significantly higher p value and cannot trust this result as much as the one prior. This could perhaps be due to insufficient data concerning Hispanic women in our dataset. We will refrain from drawing any conclusions for Hispanic females in the workforce. "
   ]
  },
  {
   "cell_type": "code",
   "execution_count": 47,
   "metadata": {},
   "outputs": [
    {
     "data": {
      "text/plain": [
       "Text(0, 0.5, 'Black Women(%)')"
      ]
     },
     "execution_count": 47,
     "metadata": {},
     "output_type": "execute_result"
    },
    {
     "data": {
      "image/png": "[encoded data removed]",
      "text/plain": [
       "<Figure size 432x288 with 1 Axes>"
      ]
     },
     "metadata": {
      "needs_background": "light"
     },
     "output_type": "display_data"
    }
   ],
   "source": [
    "g = sns.regplot(df_industries_race[('Avg_Maternity_Leave')],df_industries_race[('Black')],line_kws={\"color\":\"green\"})\n",
    "g.set_xlabel(\"Average Paid Maternity Leave\")\n",
    "g.set_ylabel(\"Black Women(%)\")"
   ]
  },
  {
   "cell_type": "code",
   "execution_count": 48,
   "metadata": {},
   "outputs": [
    {
     "name": "stdout",
     "output_type": "stream",
     "text": [
      "                            OLS Regression Results                            \n",
      "==============================================================================\n",
      "Dep. Variable:                  Black   R-squared:                       0.194\n",
      "Model:                            OLS   Adj. R-squared:                  0.033\n",
      "Method:                 Least Squares   F-statistic:                     1.203\n",
      "Date:                Thu, 19 Mar 2020   Prob (F-statistic):              0.323\n",
      "Time:                        15:19:30   Log-Likelihood:                -24.417\n",
      "No. Observations:                   7   AIC:                             52.83\n",
      "Df Residuals:                       5   BIC:                             52.73\n",
      "Df Model:                           1                                         \n",
      "Covariance Type:            nonrobust                                         \n",
      "=======================================================================================\n",
      "                          coef    std err          t      P>|t|      [0.025      0.975]\n",
      "---------------------------------------------------------------------------------------\n",
      "Intercept             -12.1333     24.338     -0.499      0.639     -74.696      50.429\n",
      "Avg_Maternity_Leave     3.2643      2.977      1.097      0.323      -4.388      10.916\n",
      "==============================================================================\n",
      "Omnibus:                          nan   Durbin-Watson:                   1.911\n",
      "Prob(Omnibus):                    nan   Jarque-Bera (JB):                0.303\n",
      "Skew:                           0.304   Prob(JB):                        0.860\n",
      "Kurtosis:                       2.182   Cond. No.                         57.0\n",
      "==============================================================================\n",
      "\n",
      "Warnings:\n",
      "[1] Standard Errors assume that the covariance matrix of the errors is correctly specified.\n"
     ]
    },
    {
     "name": "stderr",
     "output_type": "stream",
     "text": [
      "/Library/Frameworks/Python.framework/Versions/3.8/lib/python3.8/site-packages/statsmodels/stats/stattools.py:70: ValueWarning: omni_normtest is not valid with less than 8 observations; 7 samples were given.\n",
      "  warn(\"omni_normtest is not valid with less than 8 observations; %i \"\n"
     ]
    }
   ],
   "source": [
    "outcome_black, predictors_black = patsy.dmatrices('Black ~ Avg_Maternity_Leave', df_industries_race)\n",
    "mod_black = sm.OLS(outcome_black, predictors_black)\n",
    "res_black = mod_black.fit()\n",
    "print(res_black.summary())"
   ]
  },
  {
   "cell_type": "markdown",
   "metadata": {},
   "source": [
    "We see a strong positive relationship between maternity leave length and Black women participation in the workforce. However, our p-value is still quite high. This means we cannot confidently make any conclusions about the relationship between maternity leave length and Black women participation in the workforce. However, we believe it is likely that maternity leave is a predictor of Black women participation in the workforce."
   ]
  },
  {
   "cell_type": "code",
   "execution_count": 49,
   "metadata": {},
   "outputs": [
    {
     "data": {
      "text/plain": [
       "Text(0, 0.5, 'Asian Women(%)')"
      ]
     },
     "execution_count": 49,
     "metadata": {},
     "output_type": "execute_result"
    },
    {
     "data": {
      "image/png": "[encoded data removed]",
      "text/plain": [
       "<Figure size 432x288 with 1 Axes>"
      ]
     },
     "metadata": {
      "needs_background": "light"
     },
     "output_type": "display_data"
    }
   ],
   "source": [
    "g = sns.regplot(df_industries_race[('Avg_Maternity_Leave')],df_industries_race[('Asian')],line_kws={\"color\":\"blue\"})\n",
    "g.set_xlabel(\"Average Paid Maternity Leave\")\n",
    "g.set_ylabel(\"Asian Women(%)\")"
   ]
  },
  {
   "cell_type": "code",
   "execution_count": 50,
   "metadata": {
    "scrolled": true
   },
   "outputs": [
    {
     "name": "stdout",
     "output_type": "stream",
     "text": [
      "                            OLS Regression Results                            \n",
      "==============================================================================\n",
      "Dep. Variable:                  Asian   R-squared:                       0.633\n",
      "Model:                            OLS   Adj. R-squared:                  0.560\n",
      "Method:                 Least Squares   F-statistic:                     8.624\n",
      "Date:                Thu, 19 Mar 2020   Prob (F-statistic):             0.0324\n",
      "Time:                        15:19:30   Log-Likelihood:                -22.139\n",
      "No. Observations:                   7   AIC:                             48.28\n",
      "Df Residuals:                       5   BIC:                             48.17\n",
      "Df Model:                           1                                         \n",
      "Covariance Type:            nonrobust                                         \n",
      "=======================================================================================\n",
      "                          coef    std err          t      P>|t|      [0.025      0.975]\n",
      "---------------------------------------------------------------------------------------\n",
      "Intercept             -36.7812     17.577     -2.093      0.091     -81.963       8.401\n",
      "Avg_Maternity_Leave     6.3132      2.150      2.937      0.032       0.787      11.839\n",
      "==============================================================================\n",
      "Omnibus:                          nan   Durbin-Watson:                   1.725\n",
      "Prob(Omnibus):                    nan   Jarque-Bera (JB):                0.863\n",
      "Skew:                          -0.617   Prob(JB):                        0.650\n",
      "Kurtosis:                       1.801   Cond. No.                         57.0\n",
      "==============================================================================\n",
      "\n",
      "Warnings:\n",
      "[1] Standard Errors assume that the covariance matrix of the errors is correctly specified.\n"
     ]
    },
    {
     "name": "stderr",
     "output_type": "stream",
     "text": [
      "/Library/Frameworks/Python.framework/Versions/3.8/lib/python3.8/site-packages/statsmodels/stats/stattools.py:70: ValueWarning: omni_normtest is not valid with less than 8 observations; 7 samples were given.\n",
      "  warn(\"omni_normtest is not valid with less than 8 observations; %i \"\n"
     ]
    }
   ],
   "source": [
    "outcome_asian, predictors_asian = patsy.dmatrices('Asian ~ Avg_Maternity_Leave', df_industries_race)\n",
    "mod_asian = sm.OLS(outcome_asian, predictors_asian)\n",
    "res_asian = mod_asian.fit()\n",
    "print(res_asian.summary())"
   ]
  },
  {
   "cell_type": "markdown",
   "metadata": {},
   "source": [
    "The results above show us a very strong correlation between the average maternity leave in an industry and the participation of Asian women in those industries. Our p-value is lower than 0.05, which means we can say with some confidence that this positive relationship exists. \n",
    "\n",
    "However, it is important to note that there may be several confounding variables we have not taken into account in this analysis that may change these results. We will discuss some of these in our conclusion."
   ]
  },
  {
   "cell_type": "code",
   "execution_count": 51,
   "metadata": {},
   "outputs": [
    {
     "data": {
      "text/plain": [
       "Text(0, 0.5, 'Native American Women(%)')"
      ]
     },
     "execution_count": 51,
     "metadata": {},
     "output_type": "execute_result"
    },
    {
     "data": {
      "image/png": "[encoded data removed]",
      "text/plain": [
       "<Figure size 432x288 with 1 Axes>"
      ]
     },
     "metadata": {
      "needs_background": "light"
     },
     "output_type": "display_data"
    }
   ],
   "source": [
    "g = sns.regplot(df_industries_race[('Avg_Maternity_Leave')],df_industries_race[('Native')],line_kws={\"color\":\"brown\"})\n",
    "g.set_xlabel(\"Average Paid Maternity Leave\")\n",
    "g.set_ylabel(\"Native American Women(%)\")"
   ]
  },
  {
   "cell_type": "code",
   "execution_count": 52,
   "metadata": {},
   "outputs": [
    {
     "name": "stdout",
     "output_type": "stream",
     "text": [
      "                            OLS Regression Results                            \n",
      "==============================================================================\n",
      "Dep. Variable:                 Native   R-squared:                       0.152\n",
      "Model:                            OLS   Adj. R-squared:                 -0.017\n",
      "Method:                 Least Squares   F-statistic:                    0.8984\n",
      "Date:                Thu, 19 Mar 2020   Prob (F-statistic):              0.387\n",
      "Time:                        15:19:30   Log-Likelihood:                -24.511\n",
      "No. Observations:                   7   AIC:                             53.02\n",
      "Df Residuals:                       5   BIC:                             52.91\n",
      "Df Model:                           1                                         \n",
      "Covariance Type:            nonrobust                                         \n",
      "=======================================================================================\n",
      "                          coef    std err          t      P>|t|      [0.025      0.975]\n",
      "---------------------------------------------------------------------------------------\n",
      "Intercept              -8.8292     24.665     -0.358      0.735     -72.232      54.574\n",
      "Avg_Maternity_Leave     2.8594      3.017      0.948      0.387      -4.895      10.614\n",
      "==============================================================================\n",
      "Omnibus:                          nan   Durbin-Watson:                   1.992\n",
      "Prob(Omnibus):                    nan   Jarque-Bera (JB):                0.503\n",
      "Skew:                           0.328   Prob(JB):                        0.777\n",
      "Kurtosis:                       1.862   Cond. No.                         57.0\n",
      "==============================================================================\n",
      "\n",
      "Warnings:\n",
      "[1] Standard Errors assume that the covariance matrix of the errors is correctly specified.\n"
     ]
    },
    {
     "name": "stderr",
     "output_type": "stream",
     "text": [
      "/Library/Frameworks/Python.framework/Versions/3.8/lib/python3.8/site-packages/statsmodels/stats/stattools.py:70: ValueWarning: omni_normtest is not valid with less than 8 observations; 7 samples were given.\n",
      "  warn(\"omni_normtest is not valid with less than 8 observations; %i \"\n"
     ]
    }
   ],
   "source": [
    "outcome_native, predictors_native = patsy.dmatrices('Native ~ Avg_Maternity_Leave', df_industries_race)\n",
    "mod_native = sm.OLS(outcome_native, predictors_native)\n",
    "res_native = mod_native.fit()\n",
    "print(res_native.summary())"
   ]
  },
  {
   "cell_type": "code",
   "execution_count": 53,
   "metadata": {},
   "outputs": [
    {
     "data": {
      "text/plain": [
       "Text(0, 0.5, 'Mixed Race Women(%)')"
      ]
     },
     "execution_count": 53,
     "metadata": {},
     "output_type": "execute_result"
    },
    {
     "data": {
      "image/png": "[encoded data removed]",
      "text/plain": [
       "<Figure size 432x288 with 1 Axes>"
      ]
     },
     "metadata": {
      "needs_background": "light"
     },
     "output_type": "display_data"
    }
   ],
   "source": [
    "g = sns.regplot(df_industries_race[('Avg_Maternity_Leave')],df_industries_race[('Mixed')],line_kws={\"color\":\"gray\"})\n",
    "g.set_xlabel(\"Average Paid Maternity Leave\")\n",
    "g.set_ylabel(\"Mixed Race Women(%)\")"
   ]
  },
  {
   "cell_type": "code",
   "execution_count": 54,
   "metadata": {},
   "outputs": [
    {
     "name": "stdout",
     "output_type": "stream",
     "text": [
      "                            OLS Regression Results                            \n",
      "==============================================================================\n",
      "Dep. Variable:                  Mixed   R-squared:                       0.382\n",
      "Model:                            OLS   Adj. R-squared:                  0.259\n",
      "Method:                 Least Squares   F-statistic:                     3.096\n",
      "Date:                Thu, 19 Mar 2020   Prob (F-statistic):              0.139\n",
      "Time:                        15:19:30   Log-Likelihood:                -23.278\n",
      "No. Observations:                   7   AIC:                             50.56\n",
      "Df Residuals:                       5   BIC:                             50.45\n",
      "Df Model:                           1                                         \n",
      "Covariance Type:            nonrobust                                         \n",
      "=======================================================================================\n",
      "                          coef    std err          t      P>|t|      [0.025      0.975]\n",
      "---------------------------------------------------------------------------------------\n",
      "Intercept             -21.7027     20.681     -1.049      0.342     -74.864      31.459\n",
      "Avg_Maternity_Leave     4.4509      2.529      1.760      0.139      -2.051      10.953\n",
      "==============================================================================\n",
      "Omnibus:                          nan   Durbin-Watson:                   1.414\n",
      "Prob(Omnibus):                    nan   Jarque-Bera (JB):                0.646\n",
      "Skew:                          -0.206   Prob(JB):                        0.724\n",
      "Kurtosis:                       1.570   Cond. No.                         57.0\n",
      "==============================================================================\n",
      "\n",
      "Warnings:\n",
      "[1] Standard Errors assume that the covariance matrix of the errors is correctly specified.\n"
     ]
    },
    {
     "name": "stderr",
     "output_type": "stream",
     "text": [
      "/Library/Frameworks/Python.framework/Versions/3.8/lib/python3.8/site-packages/statsmodels/stats/stattools.py:70: ValueWarning: omni_normtest is not valid with less than 8 observations; 7 samples were given.\n",
      "  warn(\"omni_normtest is not valid with less than 8 observations; %i \"\n"
     ]
    }
   ],
   "source": [
    "outcome_mixed, predictors_mixed = patsy.dmatrices('Mixed ~ Avg_Maternity_Leave', df_industries_race)\n",
    "mod_mixed = sm.OLS(outcome_mixed, predictors_mixed)\n",
    "res_mixed = mod_mixed.fit()\n",
    "print(res_mixed.summary())"
   ]
  },
  {
   "cell_type": "markdown",
   "metadata": {},
   "source": [
    "For both Native American women and Mixed Race women, we find that the results are a little bit too inconclusive to make any inferences about the effect of maternity leave on the labor force participation of these ethnicities of women. "
   ]
  },
  {
   "cell_type": "markdown",
   "metadata": {},
   "source": [
    "## Sub Question - Is the number of women in managerial positions related to the maternity leave offered by the company? (Applicable to Silicon Valley companies only)"
   ]
  },
  {
   "cell_type": "markdown",
   "metadata": {},
   "source": [
    "### Data Wrangling"
   ]
  },
  {
   "cell_type": "markdown",
   "metadata": {},
   "source": [
    "Creating the dataframe which includes the gender demographics of certain companies"
   ]
  },
  {
   "cell_type": "code",
   "execution_count": 55,
   "metadata": {},
   "outputs": [
    {
     "data": {
      "text/html": [
       "<div>\n",
       "<style scoped>\n",
       "    .dataframe tbody tr th:only-of-type {\n",
       "        vertical-align: middle;\n",
       "    }\n",
       "\n",
       "    .dataframe tbody tr th {\n",
       "        vertical-align: top;\n",
       "    }\n",
       "\n",
       "    .dataframe thead th {\n",
       "        text-align: right;\n",
       "    }\n",
       "</style>\n",
       "<table border=\"1\" class=\"dataframe\">\n",
       "  <thead>\n",
       "    <tr style=\"text-align: right;\">\n",
       "      <th></th>\n",
       "      <th>company</th>\n",
       "      <th>year</th>\n",
       "      <th>race</th>\n",
       "      <th>gender</th>\n",
       "      <th>job_category</th>\n",
       "      <th>count</th>\n",
       "    </tr>\n",
       "  </thead>\n",
       "  <tbody>\n",
       "    <tr>\n",
       "      <th>0</th>\n",
       "      <td>23andMe</td>\n",
       "      <td>2016</td>\n",
       "      <td>Hispanic_or_Latino</td>\n",
       "      <td>male</td>\n",
       "      <td>Executives</td>\n",
       "      <td>0</td>\n",
       "    </tr>\n",
       "    <tr>\n",
       "      <th>1</th>\n",
       "      <td>23andMe</td>\n",
       "      <td>2016</td>\n",
       "      <td>Hispanic_or_Latino</td>\n",
       "      <td>male</td>\n",
       "      <td>Managers</td>\n",
       "      <td>1</td>\n",
       "    </tr>\n",
       "    <tr>\n",
       "      <th>2</th>\n",
       "      <td>23andMe</td>\n",
       "      <td>2016</td>\n",
       "      <td>Hispanic_or_Latino</td>\n",
       "      <td>male</td>\n",
       "      <td>Professionals</td>\n",
       "      <td>7</td>\n",
       "    </tr>\n",
       "    <tr>\n",
       "      <th>3</th>\n",
       "      <td>23andMe</td>\n",
       "      <td>2016</td>\n",
       "      <td>Hispanic_or_Latino</td>\n",
       "      <td>male</td>\n",
       "      <td>Technicians</td>\n",
       "      <td>0</td>\n",
       "    </tr>\n",
       "    <tr>\n",
       "      <th>4</th>\n",
       "      <td>23andMe</td>\n",
       "      <td>2016</td>\n",
       "      <td>Hispanic_or_Latino</td>\n",
       "      <td>male</td>\n",
       "      <td>Sales workers</td>\n",
       "      <td>0</td>\n",
       "    </tr>\n",
       "    <tr>\n",
       "      <th>...</th>\n",
       "      <td>...</td>\n",
       "      <td>...</td>\n",
       "      <td>...</td>\n",
       "      <td>...</td>\n",
       "      <td>...</td>\n",
       "      <td>...</td>\n",
       "    </tr>\n",
       "    <tr>\n",
       "      <th>4495</th>\n",
       "      <td>Sanmina</td>\n",
       "      <td>2016</td>\n",
       "      <td>Overall_totals</td>\n",
       "      <td>NaN</td>\n",
       "      <td>laborers and helpers</td>\n",
       "      <td>4</td>\n",
       "    </tr>\n",
       "    <tr>\n",
       "      <th>4496</th>\n",
       "      <td>Sanmina</td>\n",
       "      <td>2016</td>\n",
       "      <td>Overall_totals</td>\n",
       "      <td>NaN</td>\n",
       "      <td>Service workers</td>\n",
       "      <td>57</td>\n",
       "    </tr>\n",
       "    <tr>\n",
       "      <th>4497</th>\n",
       "      <td>Sanmina</td>\n",
       "      <td>2016</td>\n",
       "      <td>Overall_totals</td>\n",
       "      <td>NaN</td>\n",
       "      <td>Totals</td>\n",
       "      <td>5205</td>\n",
       "    </tr>\n",
       "    <tr>\n",
       "      <th>4498</th>\n",
       "      <td>Sanmina</td>\n",
       "      <td>2016</td>\n",
       "      <td>Overall_totals</td>\n",
       "      <td>NaN</td>\n",
       "      <td>Previous_totals</td>\n",
       "      <td>5615</td>\n",
       "    </tr>\n",
       "    <tr>\n",
       "      <th>4499</th>\n",
       "      <td>Sanmina</td>\n",
       "      <td>2016</td>\n",
       "      <td>Overall_totals</td>\n",
       "      <td>NaN</td>\n",
       "      <td>Managers</td>\n",
       "      <td>591</td>\n",
       "    </tr>\n",
       "  </tbody>\n",
       "</table>\n",
       "<p>4500 rows × 6 columns</p>\n",
       "</div>"
      ],
      "text/plain": [
       "      company  year                race gender          job_category count\n",
       "0     23andMe  2016  Hispanic_or_Latino   male            Executives     0\n",
       "1     23andMe  2016  Hispanic_or_Latino   male              Managers     1\n",
       "2     23andMe  2016  Hispanic_or_Latino   male         Professionals     7\n",
       "3     23andMe  2016  Hispanic_or_Latino   male           Technicians     0\n",
       "4     23andMe  2016  Hispanic_or_Latino   male         Sales workers     0\n",
       "...       ...   ...                 ...    ...                   ...   ...\n",
       "4495  Sanmina  2016      Overall_totals    NaN  laborers and helpers     4\n",
       "4496  Sanmina  2016      Overall_totals    NaN       Service workers    57\n",
       "4497  Sanmina  2016      Overall_totals    NaN                Totals  5205\n",
       "4498  Sanmina  2016      Overall_totals    NaN       Previous_totals  5615\n",
       "4499  Sanmina  2016      Overall_totals    NaN              Managers   591\n",
       "\n",
       "[4500 rows x 6 columns]"
      ]
     },
     "execution_count": 55,
     "metadata": {},
     "output_type": "execute_result"
    }
   ],
   "source": [
    "df_companies_gender = pd.read_csv('https://raw.githubusercontent.com/cirlabs/Silicon-Valley-Diversity-Data/master/Reveal_EEO1_for_2016.csv')\n",
    "df_companies_gender"
   ]
  },
  {
   "cell_type": "markdown",
   "metadata": {},
   "source": [
    "We will begin by analyzing our values and whether we have any missing fields in our data."
   ]
  },
  {
   "cell_type": "code",
   "execution_count": 56,
   "metadata": {},
   "outputs": [
    {
     "name": "stdout",
     "output_type": "stream",
     "text": [
      "[False]\n",
      "[False]\n",
      "[nan]\n",
      "[False]\n",
      "[False]\n"
     ]
    },
    {
     "data": {
      "text/html": [
       "<div>\n",
       "<style scoped>\n",
       "    .dataframe tbody tr th:only-of-type {\n",
       "        vertical-align: middle;\n",
       "    }\n",
       "\n",
       "    .dataframe tbody tr th {\n",
       "        vertical-align: top;\n",
       "    }\n",
       "\n",
       "    .dataframe thead th {\n",
       "        text-align: right;\n",
       "    }\n",
       "</style>\n",
       "<table border=\"1\" class=\"dataframe\">\n",
       "  <thead>\n",
       "    <tr style=\"text-align: right;\">\n",
       "      <th></th>\n",
       "      <th>company</th>\n",
       "      <th>year</th>\n",
       "      <th>race</th>\n",
       "      <th>gender</th>\n",
       "      <th>job_category</th>\n",
       "      <th>count</th>\n",
       "    </tr>\n",
       "  </thead>\n",
       "  <tbody>\n",
       "    <tr>\n",
       "      <th>168</th>\n",
       "      <td>23andMe</td>\n",
       "      <td>2016</td>\n",
       "      <td>Overall_totals</td>\n",
       "      <td>NaN</td>\n",
       "      <td>Executives</td>\n",
       "      <td>17</td>\n",
       "    </tr>\n",
       "    <tr>\n",
       "      <th>169</th>\n",
       "      <td>23andMe</td>\n",
       "      <td>2016</td>\n",
       "      <td>Overall_totals</td>\n",
       "      <td>NaN</td>\n",
       "      <td>Managers</td>\n",
       "      <td>65</td>\n",
       "    </tr>\n",
       "    <tr>\n",
       "      <th>170</th>\n",
       "      <td>23andMe</td>\n",
       "      <td>2016</td>\n",
       "      <td>Overall_totals</td>\n",
       "      <td>NaN</td>\n",
       "      <td>Professionals</td>\n",
       "      <td>169</td>\n",
       "    </tr>\n",
       "    <tr>\n",
       "      <th>171</th>\n",
       "      <td>23andMe</td>\n",
       "      <td>2016</td>\n",
       "      <td>Overall_totals</td>\n",
       "      <td>NaN</td>\n",
       "      <td>Technicians</td>\n",
       "      <td>0</td>\n",
       "    </tr>\n",
       "    <tr>\n",
       "      <th>172</th>\n",
       "      <td>23andMe</td>\n",
       "      <td>2016</td>\n",
       "      <td>Overall_totals</td>\n",
       "      <td>NaN</td>\n",
       "      <td>Sales workers</td>\n",
       "      <td>0</td>\n",
       "    </tr>\n",
       "    <tr>\n",
       "      <th>...</th>\n",
       "      <td>...</td>\n",
       "      <td>...</td>\n",
       "      <td>...</td>\n",
       "      <td>...</td>\n",
       "      <td>...</td>\n",
       "      <td>...</td>\n",
       "    </tr>\n",
       "    <tr>\n",
       "      <th>4495</th>\n",
       "      <td>Sanmina</td>\n",
       "      <td>2016</td>\n",
       "      <td>Overall_totals</td>\n",
       "      <td>NaN</td>\n",
       "      <td>laborers and helpers</td>\n",
       "      <td>4</td>\n",
       "    </tr>\n",
       "    <tr>\n",
       "      <th>4496</th>\n",
       "      <td>Sanmina</td>\n",
       "      <td>2016</td>\n",
       "      <td>Overall_totals</td>\n",
       "      <td>NaN</td>\n",
       "      <td>Service workers</td>\n",
       "      <td>57</td>\n",
       "    </tr>\n",
       "    <tr>\n",
       "      <th>4497</th>\n",
       "      <td>Sanmina</td>\n",
       "      <td>2016</td>\n",
       "      <td>Overall_totals</td>\n",
       "      <td>NaN</td>\n",
       "      <td>Totals</td>\n",
       "      <td>5205</td>\n",
       "    </tr>\n",
       "    <tr>\n",
       "      <th>4498</th>\n",
       "      <td>Sanmina</td>\n",
       "      <td>2016</td>\n",
       "      <td>Overall_totals</td>\n",
       "      <td>NaN</td>\n",
       "      <td>Previous_totals</td>\n",
       "      <td>5615</td>\n",
       "    </tr>\n",
       "    <tr>\n",
       "      <th>4499</th>\n",
       "      <td>Sanmina</td>\n",
       "      <td>2016</td>\n",
       "      <td>Overall_totals</td>\n",
       "      <td>NaN</td>\n",
       "      <td>Managers</td>\n",
       "      <td>591</td>\n",
       "    </tr>\n",
       "  </tbody>\n",
       "</table>\n",
       "<p>300 rows × 6 columns</p>\n",
       "</div>"
      ],
      "text/plain": [
       "      company  year            race gender          job_category count\n",
       "168   23andMe  2016  Overall_totals    NaN            Executives    17\n",
       "169   23andMe  2016  Overall_totals    NaN              Managers    65\n",
       "170   23andMe  2016  Overall_totals    NaN         Professionals   169\n",
       "171   23andMe  2016  Overall_totals    NaN           Technicians     0\n",
       "172   23andMe  2016  Overall_totals    NaN         Sales workers     0\n",
       "...       ...   ...             ...    ...                   ...   ...\n",
       "4495  Sanmina  2016  Overall_totals    NaN  laborers and helpers     4\n",
       "4496  Sanmina  2016  Overall_totals    NaN       Service workers    57\n",
       "4497  Sanmina  2016  Overall_totals    NaN                Totals  5205\n",
       "4498  Sanmina  2016  Overall_totals    NaN       Previous_totals  5615\n",
       "4499  Sanmina  2016  Overall_totals    NaN              Managers   591\n",
       "\n",
       "[300 rows x 6 columns]"
      ]
     },
     "execution_count": 56,
     "metadata": {},
     "output_type": "execute_result"
    }
   ],
   "source": [
    "df_companies_gender_missing = df_companies_gender[df_companies_gender.isna().any(axis=1)]\n",
    "print(df_companies_gender_missing['company'].isna().unique())\n",
    "print(df_companies_gender_missing['race'].isna().unique())\n",
    "print(df_companies_gender_missing['gender'].unique())\n",
    "print(df_companies_gender_missing['job_category'].isna().unique())\n",
    "print(df_companies_gender_missing['count'].isna().unique())\n",
    "df_companies_gender_missing"
   ]
  },
  {
   "cell_type": "markdown",
   "metadata": {},
   "source": [
    "We can see that the only column with null values is the gender column and this happens only when companies are reporting their overall totals. This makes sense because overall totals would include employees of all genders. However, we can still proceed to get rid of these rows since we are only interested in the data concerning the female employees at these companies."
   ]
  },
  {
   "cell_type": "code",
   "execution_count": 57,
   "metadata": {},
   "outputs": [
    {
     "data": {
      "text/html": [
       "<div>\n",
       "<style scoped>\n",
       "    .dataframe tbody tr th:only-of-type {\n",
       "        vertical-align: middle;\n",
       "    }\n",
       "\n",
       "    .dataframe tbody tr th {\n",
       "        vertical-align: top;\n",
       "    }\n",
       "\n",
       "    .dataframe thead th {\n",
       "        text-align: right;\n",
       "    }\n",
       "</style>\n",
       "<table border=\"1\" class=\"dataframe\">\n",
       "  <thead>\n",
       "    <tr style=\"text-align: right;\">\n",
       "      <th></th>\n",
       "      <th>company</th>\n",
       "      <th>year</th>\n",
       "      <th>race</th>\n",
       "      <th>gender</th>\n",
       "      <th>job_category</th>\n",
       "      <th>count</th>\n",
       "    </tr>\n",
       "  </thead>\n",
       "  <tbody>\n",
       "    <tr>\n",
       "      <th>0</th>\n",
       "      <td>23andMe</td>\n",
       "      <td>2016</td>\n",
       "      <td>Hispanic_or_Latino</td>\n",
       "      <td>male</td>\n",
       "      <td>Executives</td>\n",
       "      <td>0</td>\n",
       "    </tr>\n",
       "    <tr>\n",
       "      <th>1</th>\n",
       "      <td>23andMe</td>\n",
       "      <td>2016</td>\n",
       "      <td>Hispanic_or_Latino</td>\n",
       "      <td>male</td>\n",
       "      <td>Managers</td>\n",
       "      <td>1</td>\n",
       "    </tr>\n",
       "    <tr>\n",
       "      <th>2</th>\n",
       "      <td>23andMe</td>\n",
       "      <td>2016</td>\n",
       "      <td>Hispanic_or_Latino</td>\n",
       "      <td>male</td>\n",
       "      <td>Professionals</td>\n",
       "      <td>7</td>\n",
       "    </tr>\n",
       "    <tr>\n",
       "      <th>3</th>\n",
       "      <td>23andMe</td>\n",
       "      <td>2016</td>\n",
       "      <td>Hispanic_or_Latino</td>\n",
       "      <td>male</td>\n",
       "      <td>Technicians</td>\n",
       "      <td>0</td>\n",
       "    </tr>\n",
       "    <tr>\n",
       "      <th>4</th>\n",
       "      <td>23andMe</td>\n",
       "      <td>2016</td>\n",
       "      <td>Hispanic_or_Latino</td>\n",
       "      <td>male</td>\n",
       "      <td>Sales workers</td>\n",
       "      <td>0</td>\n",
       "    </tr>\n",
       "    <tr>\n",
       "      <th>...</th>\n",
       "      <td>...</td>\n",
       "      <td>...</td>\n",
       "      <td>...</td>\n",
       "      <td>...</td>\n",
       "      <td>...</td>\n",
       "      <td>...</td>\n",
       "    </tr>\n",
       "    <tr>\n",
       "      <th>4483</th>\n",
       "      <td>Sanmina</td>\n",
       "      <td>2016</td>\n",
       "      <td>White</td>\n",
       "      <td>male</td>\n",
       "      <td>laborers and helpers</td>\n",
       "      <td>2</td>\n",
       "    </tr>\n",
       "    <tr>\n",
       "      <th>4484</th>\n",
       "      <td>Sanmina</td>\n",
       "      <td>2016</td>\n",
       "      <td>White</td>\n",
       "      <td>male</td>\n",
       "      <td>Service workers</td>\n",
       "      <td>32</td>\n",
       "    </tr>\n",
       "    <tr>\n",
       "      <th>4485</th>\n",
       "      <td>Sanmina</td>\n",
       "      <td>2016</td>\n",
       "      <td>White</td>\n",
       "      <td>male</td>\n",
       "      <td>Totals</td>\n",
       "      <td>1821</td>\n",
       "    </tr>\n",
       "    <tr>\n",
       "      <th>4486</th>\n",
       "      <td>Sanmina</td>\n",
       "      <td>2016</td>\n",
       "      <td>White</td>\n",
       "      <td>male</td>\n",
       "      <td>Previous_totals</td>\n",
       "      <td>1854</td>\n",
       "    </tr>\n",
       "    <tr>\n",
       "      <th>4487</th>\n",
       "      <td>Sanmina</td>\n",
       "      <td>2016</td>\n",
       "      <td>White</td>\n",
       "      <td>male</td>\n",
       "      <td>Managers</td>\n",
       "      <td>304</td>\n",
       "    </tr>\n",
       "  </tbody>\n",
       "</table>\n",
       "<p>4200 rows × 6 columns</p>\n",
       "</div>"
      ],
      "text/plain": [
       "      company  year                race gender          job_category count\n",
       "0     23andMe  2016  Hispanic_or_Latino   male            Executives     0\n",
       "1     23andMe  2016  Hispanic_or_Latino   male              Managers     1\n",
       "2     23andMe  2016  Hispanic_or_Latino   male         Professionals     7\n",
       "3     23andMe  2016  Hispanic_or_Latino   male           Technicians     0\n",
       "4     23andMe  2016  Hispanic_or_Latino   male         Sales workers     0\n",
       "...       ...   ...                 ...    ...                   ...   ...\n",
       "4483  Sanmina  2016               White   male  laborers and helpers     2\n",
       "4484  Sanmina  2016               White   male       Service workers    32\n",
       "4485  Sanmina  2016               White   male                Totals  1821\n",
       "4486  Sanmina  2016               White   male       Previous_totals  1854\n",
       "4487  Sanmina  2016               White   male              Managers   304\n",
       "\n",
       "[4200 rows x 6 columns]"
      ]
     },
     "execution_count": 57,
     "metadata": {},
     "output_type": "execute_result"
    }
   ],
   "source": [
    "df_companies_gender = df_companies_gender[df_companies_gender['race'] != 'Overall_totals']\n",
    "df_companies_gender"
   ]
  },
  {
   "cell_type": "markdown",
   "metadata": {},
   "source": [
    "We have gotten rid of all the null values, but we still need to inspect our count column to see if the values are as we expect."
   ]
  },
  {
   "cell_type": "code",
   "execution_count": 58,
   "metadata": {},
   "outputs": [
    {
     "data": {
      "text/plain": [
       "array(['0', '1', '7', '8', 'na', '5', '11', '9', '30', '61', '2', '102',\n",
       "       '23', '3', '31', '4', '18', '37', '22', '84', '6', '25', '39',\n",
       "       '10', '51', '75', '33', '170', '141', '50', '60', '16', '38',\n",
       "       '164', '147', '56', '1197', '1325', '742', '96', '3416', '3286',\n",
       "       '26', '80', '74', '19', '15', '310', '673', '115', '1121', '972',\n",
       "       '46', '28', '534', '403', '266', '119', '1337', '1239', '27',\n",
       "       '244', '392', '720', '620', '13', '32', '24', '68', '49', '103',\n",
       "       '352', '91', '14', '607', '452', '20', '279', '358', '194', '35',\n",
       "       '214', '138', '12', '478', '431', '171', '225', '411', '799',\n",
       "       '1709', '2562', '672', '132', '6300', '5774', '149', '382', '617',\n",
       "       '1260', '666', '97', '3171', '2746', '73', '3903', '9012', '7646',\n",
       "       '8414', '1948', '57', '31121', '31135', '172', '273', '1382',\n",
       "       '1937', '324', '4103', '3821', '34', '107', '250', '243', '1389',\n",
       "       '6972', '725', '1031', '338', '44', '10521', '8751', '48', '180',\n",
       "       '173', '55', '287', '386', '78', '981', '846', '1441', '2635',\n",
       "       '2696', '3622', '1774', '12207', '11967', '116', '127', '1242',\n",
       "       '1043', '423', '2964', '2463', '17', '112', '500', '2650', '269',\n",
       "       '579', '498', '4517', '3832', '88', '98', '90', '215', '241', '94',\n",
       "       '677', '529', '898', '187', '1289', '1233', '89', '72', '104',\n",
       "       '624', '585', '179', '2768', '9764', '2718', '15502', '15209',\n",
       "       '85', '614', '117', '824', '786', '53', '1259', '8207', '9722',\n",
       "       '9344', '162', '36', '222', '203', '778', '2867', '866', '283',\n",
       "       '4842', '4644', '40', '348', '459', '440', '356', '3264', '69',\n",
       "       '62', '3769', '126', '71', '154', '268', '42', '67', '129', '265',\n",
       "       '584', '937', '603', '2188', '3732', '76', '357', '315', '1393',\n",
       "       '1775', '1735', '47', '363', '351', '560', '1298', '2942', '43',\n",
       "       '508', '591', '829', '878', '209', '291', '219', '133', '212',\n",
       "       '144', '254', '694', '2830', '95', '41', '4117', '3302', '101',\n",
       "       '152', '323', '2440', '2907', '2138', '135', '148', '983', '155',\n",
       "       '150', '1702', '70', '157', '1112', '1400', '942', '340', '1107',\n",
       "       '29', '81', '52', '1634', '1216', '197', '376', '106', '59', '776',\n",
       "       '566', '4444', '13883', '765', '63', '19625', '16961', '393',\n",
       "       '650', '532', '1738', '8622', '10604', '8315', '86', '389', '520',\n",
       "       '418', '2365', '65', '777', '401', '6962', '5937', '122', '224',\n",
       "       '450', '1189', '3509', '185', '5044', '3948', '344', '294', '286',\n",
       "       '183', '728', '3016', '189', '359', '1566', '130', '1086', '3617',\n",
       "       '1208', '916', '7066', '34705', '120', '335', '2551', '737',\n",
       "       '1074', '7269', '45', '64', '557', '427', '1665', '193', '375',\n",
       "       '293', '3000', '16433', '114', '184', '2281', '66', '442', '597',\n",
       "       '3049', '159', '1392', '226', '1983', '619', '1004', '422', '3402',\n",
       "       '16352', '2147', '2970', '355', '25709', '137', '1229', '325',\n",
       "       '108', '1985', '3531', '275', '191', '4565', '231', '87', '1372',\n",
       "       '7869', '381', '1526', '21', '12062', '941', '125', '472', '1749',\n",
       "       '1662', '2069', '54', '188', '322', '1654', '3224', '3335', '623',\n",
       "       '123', '1138', '1131', '3173', '12352', '4263', '767', '258',\n",
       "       '20965', '22886', '142', '891', '461', '1573', '1453', '79',\n",
       "       '1456', '10992', '914', '113', '13533', '12230', '83', '213',\n",
       "       '208', '280', '151', '497', '414', '945', '3536', '680', '535',\n",
       "       '5956', '6137', '474', '220', '4998', '374', '92', '5915', '5146',\n",
       "       '93', '82', '111', '163', '216', '1019', '264', '1847', '2262',\n",
       "       '820', '77', '571', '1357', '1510', '128', '733', '118', '169',\n",
       "       '134', '124', '1122', '2034', '1969', '99', '205', '1257', '1579',\n",
       "       '1520', '174', '716', '528', '1527', '1460', '836', '235', '523',\n",
       "       '131', '156', '395', '210', '253', '136', '139', '271', '1502',\n",
       "       '2035', '1851', '245', '1741', '2193', '1950', '161', '259', '207',\n",
       "       '469', '480', '246', '236', '165', '228', '58', '378', '1318',\n",
       "       '3199', '2074', '6773', '5564', '176', '347', '1854', '2389',\n",
       "       '1903', '168', '554', '1464', '753', '206', '3022', '2452', '876',\n",
       "       '1188', '943', '705', '260', '143', '158', '177', '790', '1132',\n",
       "       '1353', '516', '609', '722', '314', '598', '656', '233', '326',\n",
       "       '412', '1525', '195', '2245', '1247', '1468', '109', '550', '890',\n",
       "       '146', '430', '518', '221', '192', '110', '350', '307', '175',\n",
       "       '304', '669', '1326', '1050', '3251', '3092', '181', '300', '1429',\n",
       "       '1830', '1616', '467', '606', '1264', '2456', '2346', '533', '464',\n",
       "       '703', '1012', '848', '397', '485', '631', '858', '1075', '1433',\n",
       "       '167', '218', '451', '962', '1812', '506', '2897', '3812', '517',\n",
       "       '100', '239', '488', '667', '263', '731', '182', '202', '437',\n",
       "       '230', '458', '1195', '316', '1821'], dtype=object)"
      ]
     },
     "execution_count": 58,
     "metadata": {},
     "output_type": "execute_result"
    }
   ],
   "source": [
    "df_companies_gender['count'].unique()"
   ]
  },
  {
   "cell_type": "markdown",
   "metadata": {},
   "source": [
    "We can see that there is a value we don't expect: 'na'. We will further investigate which counts are na and if we can find any patterns between them."
   ]
  },
  {
   "cell_type": "code",
   "execution_count": 59,
   "metadata": {},
   "outputs": [
    {
     "data": {
      "text/html": [
       "<div>\n",
       "<style scoped>\n",
       "    .dataframe tbody tr th:only-of-type {\n",
       "        vertical-align: middle;\n",
       "    }\n",
       "\n",
       "    .dataframe tbody tr th {\n",
       "        vertical-align: top;\n",
       "    }\n",
       "\n",
       "    .dataframe thead th {\n",
       "        text-align: right;\n",
       "    }\n",
       "</style>\n",
       "<table border=\"1\" class=\"dataframe\">\n",
       "  <thead>\n",
       "    <tr style=\"text-align: right;\">\n",
       "      <th></th>\n",
       "      <th>company</th>\n",
       "      <th>year</th>\n",
       "      <th>race</th>\n",
       "      <th>gender</th>\n",
       "      <th>job_category</th>\n",
       "      <th>count</th>\n",
       "    </tr>\n",
       "  </thead>\n",
       "  <tbody>\n",
       "    <tr>\n",
       "      <th>11</th>\n",
       "      <td>23andMe</td>\n",
       "      <td>2016</td>\n",
       "      <td>Hispanic_or_Latino</td>\n",
       "      <td>male</td>\n",
       "      <td>Previous_totals</td>\n",
       "      <td>na</td>\n",
       "    </tr>\n",
       "    <tr>\n",
       "      <th>23</th>\n",
       "      <td>23andMe</td>\n",
       "      <td>2016</td>\n",
       "      <td>Hispanic_or_Latino</td>\n",
       "      <td>female</td>\n",
       "      <td>Previous_totals</td>\n",
       "      <td>na</td>\n",
       "    </tr>\n",
       "    <tr>\n",
       "      <th>35</th>\n",
       "      <td>23andMe</td>\n",
       "      <td>2016</td>\n",
       "      <td>White</td>\n",
       "      <td>male</td>\n",
       "      <td>Previous_totals</td>\n",
       "      <td>na</td>\n",
       "    </tr>\n",
       "    <tr>\n",
       "      <th>47</th>\n",
       "      <td>23andMe</td>\n",
       "      <td>2016</td>\n",
       "      <td>Black_or_African_American</td>\n",
       "      <td>male</td>\n",
       "      <td>Previous_totals</td>\n",
       "      <td>na</td>\n",
       "    </tr>\n",
       "    <tr>\n",
       "      <th>59</th>\n",
       "      <td>23andMe</td>\n",
       "      <td>2016</td>\n",
       "      <td>Native_Hawaiian_or_Pacific_Islander</td>\n",
       "      <td>male</td>\n",
       "      <td>Previous_totals</td>\n",
       "      <td>na</td>\n",
       "    </tr>\n",
       "    <tr>\n",
       "      <th>71</th>\n",
       "      <td>23andMe</td>\n",
       "      <td>2016</td>\n",
       "      <td>Asian</td>\n",
       "      <td>male</td>\n",
       "      <td>Previous_totals</td>\n",
       "      <td>na</td>\n",
       "    </tr>\n",
       "    <tr>\n",
       "      <th>83</th>\n",
       "      <td>23andMe</td>\n",
       "      <td>2016</td>\n",
       "      <td>American_Indian_Alaskan_Native</td>\n",
       "      <td>male</td>\n",
       "      <td>Previous_totals</td>\n",
       "      <td>na</td>\n",
       "    </tr>\n",
       "    <tr>\n",
       "      <th>95</th>\n",
       "      <td>23andMe</td>\n",
       "      <td>2016</td>\n",
       "      <td>Two_or_more_races</td>\n",
       "      <td>male</td>\n",
       "      <td>Previous_totals</td>\n",
       "      <td>na</td>\n",
       "    </tr>\n",
       "    <tr>\n",
       "      <th>107</th>\n",
       "      <td>23andMe</td>\n",
       "      <td>2016</td>\n",
       "      <td>White</td>\n",
       "      <td>female</td>\n",
       "      <td>Previous_totals</td>\n",
       "      <td>na</td>\n",
       "    </tr>\n",
       "    <tr>\n",
       "      <th>119</th>\n",
       "      <td>23andMe</td>\n",
       "      <td>2016</td>\n",
       "      <td>Black_or_African_American</td>\n",
       "      <td>female</td>\n",
       "      <td>Previous_totals</td>\n",
       "      <td>na</td>\n",
       "    </tr>\n",
       "    <tr>\n",
       "      <th>131</th>\n",
       "      <td>23andMe</td>\n",
       "      <td>2016</td>\n",
       "      <td>Native_Hawaiian_or_Pacific_Islander</td>\n",
       "      <td>female</td>\n",
       "      <td>Previous_totals</td>\n",
       "      <td>na</td>\n",
       "    </tr>\n",
       "    <tr>\n",
       "      <th>143</th>\n",
       "      <td>23andMe</td>\n",
       "      <td>2016</td>\n",
       "      <td>Asian</td>\n",
       "      <td>female</td>\n",
       "      <td>Previous_totals</td>\n",
       "      <td>na</td>\n",
       "    </tr>\n",
       "    <tr>\n",
       "      <th>155</th>\n",
       "      <td>23andMe</td>\n",
       "      <td>2016</td>\n",
       "      <td>American_Indian_Alaskan_Native</td>\n",
       "      <td>female</td>\n",
       "      <td>Previous_totals</td>\n",
       "      <td>na</td>\n",
       "    </tr>\n",
       "    <tr>\n",
       "      <th>167</th>\n",
       "      <td>23andMe</td>\n",
       "      <td>2016</td>\n",
       "      <td>Two_or_more_races</td>\n",
       "      <td>female</td>\n",
       "      <td>Previous_totals</td>\n",
       "      <td>na</td>\n",
       "    </tr>\n",
       "    <tr>\n",
       "      <th>1631</th>\n",
       "      <td>HPE</td>\n",
       "      <td>2016</td>\n",
       "      <td>Hispanic_or_Latino</td>\n",
       "      <td>male</td>\n",
       "      <td>Previous_totals</td>\n",
       "      <td>na</td>\n",
       "    </tr>\n",
       "    <tr>\n",
       "      <th>1643</th>\n",
       "      <td>HPE</td>\n",
       "      <td>2016</td>\n",
       "      <td>Hispanic_or_Latino</td>\n",
       "      <td>female</td>\n",
       "      <td>Previous_totals</td>\n",
       "      <td>na</td>\n",
       "    </tr>\n",
       "    <tr>\n",
       "      <th>1655</th>\n",
       "      <td>HPE</td>\n",
       "      <td>2016</td>\n",
       "      <td>White</td>\n",
       "      <td>male</td>\n",
       "      <td>Previous_totals</td>\n",
       "      <td>na</td>\n",
       "    </tr>\n",
       "    <tr>\n",
       "      <th>1667</th>\n",
       "      <td>HPE</td>\n",
       "      <td>2016</td>\n",
       "      <td>Black_or_African_American</td>\n",
       "      <td>male</td>\n",
       "      <td>Previous_totals</td>\n",
       "      <td>na</td>\n",
       "    </tr>\n",
       "    <tr>\n",
       "      <th>1679</th>\n",
       "      <td>HPE</td>\n",
       "      <td>2016</td>\n",
       "      <td>Native_Hawaiian_or_Pacific_Islander</td>\n",
       "      <td>male</td>\n",
       "      <td>Previous_totals</td>\n",
       "      <td>na</td>\n",
       "    </tr>\n",
       "    <tr>\n",
       "      <th>1691</th>\n",
       "      <td>HPE</td>\n",
       "      <td>2016</td>\n",
       "      <td>Asian</td>\n",
       "      <td>male</td>\n",
       "      <td>Previous_totals</td>\n",
       "      <td>na</td>\n",
       "    </tr>\n",
       "    <tr>\n",
       "      <th>1703</th>\n",
       "      <td>HPE</td>\n",
       "      <td>2016</td>\n",
       "      <td>American_Indian_Alaskan_Native</td>\n",
       "      <td>male</td>\n",
       "      <td>Previous_totals</td>\n",
       "      <td>na</td>\n",
       "    </tr>\n",
       "    <tr>\n",
       "      <th>1715</th>\n",
       "      <td>HPE</td>\n",
       "      <td>2016</td>\n",
       "      <td>Two_or_more_races</td>\n",
       "      <td>male</td>\n",
       "      <td>Previous_totals</td>\n",
       "      <td>na</td>\n",
       "    </tr>\n",
       "    <tr>\n",
       "      <th>1727</th>\n",
       "      <td>HPE</td>\n",
       "      <td>2016</td>\n",
       "      <td>White</td>\n",
       "      <td>female</td>\n",
       "      <td>Previous_totals</td>\n",
       "      <td>na</td>\n",
       "    </tr>\n",
       "    <tr>\n",
       "      <th>1739</th>\n",
       "      <td>HPE</td>\n",
       "      <td>2016</td>\n",
       "      <td>Black_or_African_American</td>\n",
       "      <td>female</td>\n",
       "      <td>Previous_totals</td>\n",
       "      <td>na</td>\n",
       "    </tr>\n",
       "    <tr>\n",
       "      <th>1751</th>\n",
       "      <td>HPE</td>\n",
       "      <td>2016</td>\n",
       "      <td>Native_Hawaiian_or_Pacific_Islander</td>\n",
       "      <td>female</td>\n",
       "      <td>Previous_totals</td>\n",
       "      <td>na</td>\n",
       "    </tr>\n",
       "    <tr>\n",
       "      <th>1763</th>\n",
       "      <td>HPE</td>\n",
       "      <td>2016</td>\n",
       "      <td>Asian</td>\n",
       "      <td>female</td>\n",
       "      <td>Previous_totals</td>\n",
       "      <td>na</td>\n",
       "    </tr>\n",
       "    <tr>\n",
       "      <th>1775</th>\n",
       "      <td>HPE</td>\n",
       "      <td>2016</td>\n",
       "      <td>American_Indian_Alaskan_Native</td>\n",
       "      <td>female</td>\n",
       "      <td>Previous_totals</td>\n",
       "      <td>na</td>\n",
       "    </tr>\n",
       "    <tr>\n",
       "      <th>1787</th>\n",
       "      <td>HPE</td>\n",
       "      <td>2016</td>\n",
       "      <td>Two_or_more_races</td>\n",
       "      <td>female</td>\n",
       "      <td>Previous_totals</td>\n",
       "      <td>na</td>\n",
       "    </tr>\n",
       "    <tr>\n",
       "      <th>3251</th>\n",
       "      <td>Square</td>\n",
       "      <td>2016</td>\n",
       "      <td>Hispanic_or_Latino</td>\n",
       "      <td>male</td>\n",
       "      <td>Previous_totals</td>\n",
       "      <td>na</td>\n",
       "    </tr>\n",
       "    <tr>\n",
       "      <th>3263</th>\n",
       "      <td>Square</td>\n",
       "      <td>2016</td>\n",
       "      <td>Hispanic_or_Latino</td>\n",
       "      <td>female</td>\n",
       "      <td>Previous_totals</td>\n",
       "      <td>na</td>\n",
       "    </tr>\n",
       "    <tr>\n",
       "      <th>3275</th>\n",
       "      <td>Square</td>\n",
       "      <td>2016</td>\n",
       "      <td>White</td>\n",
       "      <td>male</td>\n",
       "      <td>Previous_totals</td>\n",
       "      <td>na</td>\n",
       "    </tr>\n",
       "    <tr>\n",
       "      <th>3287</th>\n",
       "      <td>Square</td>\n",
       "      <td>2016</td>\n",
       "      <td>Black_or_African_American</td>\n",
       "      <td>male</td>\n",
       "      <td>Previous_totals</td>\n",
       "      <td>na</td>\n",
       "    </tr>\n",
       "    <tr>\n",
       "      <th>3299</th>\n",
       "      <td>Square</td>\n",
       "      <td>2016</td>\n",
       "      <td>Native_Hawaiian_or_Pacific_Islander</td>\n",
       "      <td>male</td>\n",
       "      <td>Previous_totals</td>\n",
       "      <td>na</td>\n",
       "    </tr>\n",
       "    <tr>\n",
       "      <th>3311</th>\n",
       "      <td>Square</td>\n",
       "      <td>2016</td>\n",
       "      <td>Asian</td>\n",
       "      <td>male</td>\n",
       "      <td>Previous_totals</td>\n",
       "      <td>na</td>\n",
       "    </tr>\n",
       "    <tr>\n",
       "      <th>3323</th>\n",
       "      <td>Square</td>\n",
       "      <td>2016</td>\n",
       "      <td>American_Indian_Alaskan_Native</td>\n",
       "      <td>male</td>\n",
       "      <td>Previous_totals</td>\n",
       "      <td>na</td>\n",
       "    </tr>\n",
       "    <tr>\n",
       "      <th>3335</th>\n",
       "      <td>Square</td>\n",
       "      <td>2016</td>\n",
       "      <td>Two_or_more_races</td>\n",
       "      <td>male</td>\n",
       "      <td>Previous_totals</td>\n",
       "      <td>na</td>\n",
       "    </tr>\n",
       "    <tr>\n",
       "      <th>3347</th>\n",
       "      <td>Square</td>\n",
       "      <td>2016</td>\n",
       "      <td>White</td>\n",
       "      <td>female</td>\n",
       "      <td>Previous_totals</td>\n",
       "      <td>na</td>\n",
       "    </tr>\n",
       "    <tr>\n",
       "      <th>3359</th>\n",
       "      <td>Square</td>\n",
       "      <td>2016</td>\n",
       "      <td>Black_or_African_American</td>\n",
       "      <td>female</td>\n",
       "      <td>Previous_totals</td>\n",
       "      <td>na</td>\n",
       "    </tr>\n",
       "    <tr>\n",
       "      <th>3371</th>\n",
       "      <td>Square</td>\n",
       "      <td>2016</td>\n",
       "      <td>Native_Hawaiian_or_Pacific_Islander</td>\n",
       "      <td>female</td>\n",
       "      <td>Previous_totals</td>\n",
       "      <td>na</td>\n",
       "    </tr>\n",
       "    <tr>\n",
       "      <th>3383</th>\n",
       "      <td>Square</td>\n",
       "      <td>2016</td>\n",
       "      <td>Asian</td>\n",
       "      <td>female</td>\n",
       "      <td>Previous_totals</td>\n",
       "      <td>na</td>\n",
       "    </tr>\n",
       "    <tr>\n",
       "      <th>3395</th>\n",
       "      <td>Square</td>\n",
       "      <td>2016</td>\n",
       "      <td>American_Indian_Alaskan_Native</td>\n",
       "      <td>female</td>\n",
       "      <td>Previous_totals</td>\n",
       "      <td>na</td>\n",
       "    </tr>\n",
       "    <tr>\n",
       "      <th>3407</th>\n",
       "      <td>Square</td>\n",
       "      <td>2016</td>\n",
       "      <td>Two_or_more_races</td>\n",
       "      <td>female</td>\n",
       "      <td>Previous_totals</td>\n",
       "      <td>na</td>\n",
       "    </tr>\n",
       "    <tr>\n",
       "      <th>3611</th>\n",
       "      <td>Uber</td>\n",
       "      <td>2016</td>\n",
       "      <td>Hispanic_or_Latino</td>\n",
       "      <td>male</td>\n",
       "      <td>Previous_totals</td>\n",
       "      <td>na</td>\n",
       "    </tr>\n",
       "    <tr>\n",
       "      <th>3623</th>\n",
       "      <td>Uber</td>\n",
       "      <td>2016</td>\n",
       "      <td>Hispanic_or_Latino</td>\n",
       "      <td>female</td>\n",
       "      <td>Previous_totals</td>\n",
       "      <td>na</td>\n",
       "    </tr>\n",
       "    <tr>\n",
       "      <th>3635</th>\n",
       "      <td>Uber</td>\n",
       "      <td>2016</td>\n",
       "      <td>White</td>\n",
       "      <td>male</td>\n",
       "      <td>Previous_totals</td>\n",
       "      <td>na</td>\n",
       "    </tr>\n",
       "    <tr>\n",
       "      <th>3647</th>\n",
       "      <td>Uber</td>\n",
       "      <td>2016</td>\n",
       "      <td>Black_or_African_American</td>\n",
       "      <td>male</td>\n",
       "      <td>Previous_totals</td>\n",
       "      <td>na</td>\n",
       "    </tr>\n",
       "    <tr>\n",
       "      <th>3659</th>\n",
       "      <td>Uber</td>\n",
       "      <td>2016</td>\n",
       "      <td>Native_Hawaiian_or_Pacific_Islander</td>\n",
       "      <td>male</td>\n",
       "      <td>Previous_totals</td>\n",
       "      <td>na</td>\n",
       "    </tr>\n",
       "    <tr>\n",
       "      <th>3671</th>\n",
       "      <td>Uber</td>\n",
       "      <td>2016</td>\n",
       "      <td>Asian</td>\n",
       "      <td>male</td>\n",
       "      <td>Previous_totals</td>\n",
       "      <td>na</td>\n",
       "    </tr>\n",
       "    <tr>\n",
       "      <th>3683</th>\n",
       "      <td>Uber</td>\n",
       "      <td>2016</td>\n",
       "      <td>American_Indian_Alaskan_Native</td>\n",
       "      <td>male</td>\n",
       "      <td>Previous_totals</td>\n",
       "      <td>na</td>\n",
       "    </tr>\n",
       "    <tr>\n",
       "      <th>3695</th>\n",
       "      <td>Uber</td>\n",
       "      <td>2016</td>\n",
       "      <td>Two_or_more_races</td>\n",
       "      <td>male</td>\n",
       "      <td>Previous_totals</td>\n",
       "      <td>na</td>\n",
       "    </tr>\n",
       "    <tr>\n",
       "      <th>3707</th>\n",
       "      <td>Uber</td>\n",
       "      <td>2016</td>\n",
       "      <td>White</td>\n",
       "      <td>female</td>\n",
       "      <td>Previous_totals</td>\n",
       "      <td>na</td>\n",
       "    </tr>\n",
       "    <tr>\n",
       "      <th>3719</th>\n",
       "      <td>Uber</td>\n",
       "      <td>2016</td>\n",
       "      <td>Black_or_African_American</td>\n",
       "      <td>female</td>\n",
       "      <td>Previous_totals</td>\n",
       "      <td>na</td>\n",
       "    </tr>\n",
       "    <tr>\n",
       "      <th>3731</th>\n",
       "      <td>Uber</td>\n",
       "      <td>2016</td>\n",
       "      <td>Native_Hawaiian_or_Pacific_Islander</td>\n",
       "      <td>female</td>\n",
       "      <td>Previous_totals</td>\n",
       "      <td>na</td>\n",
       "    </tr>\n",
       "    <tr>\n",
       "      <th>3743</th>\n",
       "      <td>Uber</td>\n",
       "      <td>2016</td>\n",
       "      <td>Asian</td>\n",
       "      <td>female</td>\n",
       "      <td>Previous_totals</td>\n",
       "      <td>na</td>\n",
       "    </tr>\n",
       "    <tr>\n",
       "      <th>3755</th>\n",
       "      <td>Uber</td>\n",
       "      <td>2016</td>\n",
       "      <td>American_Indian_Alaskan_Native</td>\n",
       "      <td>female</td>\n",
       "      <td>Previous_totals</td>\n",
       "      <td>na</td>\n",
       "    </tr>\n",
       "    <tr>\n",
       "      <th>3767</th>\n",
       "      <td>Uber</td>\n",
       "      <td>2016</td>\n",
       "      <td>Two_or_more_races</td>\n",
       "      <td>female</td>\n",
       "      <td>Previous_totals</td>\n",
       "      <td>na</td>\n",
       "    </tr>\n",
       "  </tbody>\n",
       "</table>\n",
       "</div>"
      ],
      "text/plain": [
       "      company  year                                 race  gender  \\\n",
       "11    23andMe  2016                   Hispanic_or_Latino    male   \n",
       "23    23andMe  2016                   Hispanic_or_Latino  female   \n",
       "35    23andMe  2016                                White    male   \n",
       "47    23andMe  2016            Black_or_African_American    male   \n",
       "59    23andMe  2016  Native_Hawaiian_or_Pacific_Islander    male   \n",
       "71    23andMe  2016                                Asian    male   \n",
       "83    23andMe  2016       American_Indian_Alaskan_Native    male   \n",
       "95    23andMe  2016                    Two_or_more_races    male   \n",
       "107   23andMe  2016                                White  female   \n",
       "119   23andMe  2016            Black_or_African_American  female   \n",
       "131   23andMe  2016  Native_Hawaiian_or_Pacific_Islander  female   \n",
       "143   23andMe  2016                                Asian  female   \n",
       "155   23andMe  2016       American_Indian_Alaskan_Native  female   \n",
       "167   23andMe  2016                    Two_or_more_races  female   \n",
       "1631      HPE  2016                   Hispanic_or_Latino    male   \n",
       "1643      HPE  2016                   Hispanic_or_Latino  female   \n",
       "1655      HPE  2016                                White    male   \n",
       "1667      HPE  2016            Black_or_African_American    male   \n",
       "1679      HPE  2016  Native_Hawaiian_or_Pacific_Islander    male   \n",
       "1691      HPE  2016                                Asian    male   \n",
       "1703      HPE  2016       American_Indian_Alaskan_Native    male   \n",
       "1715      HPE  2016                    Two_or_more_races    male   \n",
       "1727      HPE  2016                                White  female   \n",
       "1739      HPE  2016            Black_or_African_American  female   \n",
       "1751      HPE  2016  Native_Hawaiian_or_Pacific_Islander  female   \n",
       "1763      HPE  2016                                Asian  female   \n",
       "1775      HPE  2016       American_Indian_Alaskan_Native  female   \n",
       "1787      HPE  2016                    Two_or_more_races  female   \n",
       "3251   Square  2016                   Hispanic_or_Latino    male   \n",
       "3263   Square  2016                   Hispanic_or_Latino  female   \n",
       "3275   Square  2016                                White    male   \n",
       "3287   Square  2016            Black_or_African_American    male   \n",
       "3299   Square  2016  Native_Hawaiian_or_Pacific_Islander    male   \n",
       "3311   Square  2016                                Asian    male   \n",
       "3323   Square  2016       American_Indian_Alaskan_Native    male   \n",
       "3335   Square  2016                    Two_or_more_races    male   \n",
       "3347   Square  2016                                White  female   \n",
       "3359   Square  2016            Black_or_African_American  female   \n",
       "3371   Square  2016  Native_Hawaiian_or_Pacific_Islander  female   \n",
       "3383   Square  2016                                Asian  female   \n",
       "3395   Square  2016       American_Indian_Alaskan_Native  female   \n",
       "3407   Square  2016                    Two_or_more_races  female   \n",
       "3611     Uber  2016                   Hispanic_or_Latino    male   \n",
       "3623     Uber  2016                   Hispanic_or_Latino  female   \n",
       "3635     Uber  2016                                White    male   \n",
       "3647     Uber  2016            Black_or_African_American    male   \n",
       "3659     Uber  2016  Native_Hawaiian_or_Pacific_Islander    male   \n",
       "3671     Uber  2016                                Asian    male   \n",
       "3683     Uber  2016       American_Indian_Alaskan_Native    male   \n",
       "3695     Uber  2016                    Two_or_more_races    male   \n",
       "3707     Uber  2016                                White  female   \n",
       "3719     Uber  2016            Black_or_African_American  female   \n",
       "3731     Uber  2016  Native_Hawaiian_or_Pacific_Islander  female   \n",
       "3743     Uber  2016                                Asian  female   \n",
       "3755     Uber  2016       American_Indian_Alaskan_Native  female   \n",
       "3767     Uber  2016                    Two_or_more_races  female   \n",
       "\n",
       "         job_category count  \n",
       "11    Previous_totals    na  \n",
       "23    Previous_totals    na  \n",
       "35    Previous_totals    na  \n",
       "47    Previous_totals    na  \n",
       "59    Previous_totals    na  \n",
       "71    Previous_totals    na  \n",
       "83    Previous_totals    na  \n",
       "95    Previous_totals    na  \n",
       "107   Previous_totals    na  \n",
       "119   Previous_totals    na  \n",
       "131   Previous_totals    na  \n",
       "143   Previous_totals    na  \n",
       "155   Previous_totals    na  \n",
       "167   Previous_totals    na  \n",
       "1631  Previous_totals    na  \n",
       "1643  Previous_totals    na  \n",
       "1655  Previous_totals    na  \n",
       "1667  Previous_totals    na  \n",
       "1679  Previous_totals    na  \n",
       "1691  Previous_totals    na  \n",
       "1703  Previous_totals    na  \n",
       "1715  Previous_totals    na  \n",
       "1727  Previous_totals    na  \n",
       "1739  Previous_totals    na  \n",
       "1751  Previous_totals    na  \n",
       "1763  Previous_totals    na  \n",
       "1775  Previous_totals    na  \n",
       "1787  Previous_totals    na  \n",
       "3251  Previous_totals    na  \n",
       "3263  Previous_totals    na  \n",
       "3275  Previous_totals    na  \n",
       "3287  Previous_totals    na  \n",
       "3299  Previous_totals    na  \n",
       "3311  Previous_totals    na  \n",
       "3323  Previous_totals    na  \n",
       "3335  Previous_totals    na  \n",
       "3347  Previous_totals    na  \n",
       "3359  Previous_totals    na  \n",
       "3371  Previous_totals    na  \n",
       "3383  Previous_totals    na  \n",
       "3395  Previous_totals    na  \n",
       "3407  Previous_totals    na  \n",
       "3611  Previous_totals    na  \n",
       "3623  Previous_totals    na  \n",
       "3635  Previous_totals    na  \n",
       "3647  Previous_totals    na  \n",
       "3659  Previous_totals    na  \n",
       "3671  Previous_totals    na  \n",
       "3683  Previous_totals    na  \n",
       "3695  Previous_totals    na  \n",
       "3707  Previous_totals    na  \n",
       "3719  Previous_totals    na  \n",
       "3731  Previous_totals    na  \n",
       "3743  Previous_totals    na  \n",
       "3755  Previous_totals    na  \n",
       "3767  Previous_totals    na  "
      ]
     },
     "execution_count": 59,
     "metadata": {},
     "output_type": "execute_result"
    }
   ],
   "source": [
    "df_companies_gender[df_companies_gender['count']=='na']"
   ]
  },
  {
   "cell_type": "markdown",
   "metadata": {},
   "source": [
    "We can see that the rows that have 'na' values for the count are the ones of type 'Previous_totals'. Since this is not relevant to our data analysis, we can disregard these rows. "
   ]
  },
  {
   "cell_type": "code",
   "execution_count": 60,
   "metadata": {},
   "outputs": [
    {
     "data": {
      "text/html": [
       "<div>\n",
       "<style scoped>\n",
       "    .dataframe tbody tr th:only-of-type {\n",
       "        vertical-align: middle;\n",
       "    }\n",
       "\n",
       "    .dataframe tbody tr th {\n",
       "        vertical-align: top;\n",
       "    }\n",
       "\n",
       "    .dataframe thead th {\n",
       "        text-align: right;\n",
       "    }\n",
       "</style>\n",
       "<table border=\"1\" class=\"dataframe\">\n",
       "  <thead>\n",
       "    <tr style=\"text-align: right;\">\n",
       "      <th></th>\n",
       "      <th>company</th>\n",
       "      <th>year</th>\n",
       "      <th>race</th>\n",
       "      <th>gender</th>\n",
       "      <th>job_category</th>\n",
       "      <th>count</th>\n",
       "    </tr>\n",
       "  </thead>\n",
       "  <tbody>\n",
       "    <tr>\n",
       "      <th>0</th>\n",
       "      <td>23andMe</td>\n",
       "      <td>2016</td>\n",
       "      <td>Hispanic_or_Latino</td>\n",
       "      <td>male</td>\n",
       "      <td>Executives</td>\n",
       "      <td>0</td>\n",
       "    </tr>\n",
       "    <tr>\n",
       "      <th>1</th>\n",
       "      <td>23andMe</td>\n",
       "      <td>2016</td>\n",
       "      <td>Hispanic_or_Latino</td>\n",
       "      <td>male</td>\n",
       "      <td>Managers</td>\n",
       "      <td>1</td>\n",
       "    </tr>\n",
       "    <tr>\n",
       "      <th>2</th>\n",
       "      <td>23andMe</td>\n",
       "      <td>2016</td>\n",
       "      <td>Hispanic_or_Latino</td>\n",
       "      <td>male</td>\n",
       "      <td>Professionals</td>\n",
       "      <td>7</td>\n",
       "    </tr>\n",
       "    <tr>\n",
       "      <th>3</th>\n",
       "      <td>23andMe</td>\n",
       "      <td>2016</td>\n",
       "      <td>Hispanic_or_Latino</td>\n",
       "      <td>male</td>\n",
       "      <td>Technicians</td>\n",
       "      <td>0</td>\n",
       "    </tr>\n",
       "    <tr>\n",
       "      <th>4</th>\n",
       "      <td>23andMe</td>\n",
       "      <td>2016</td>\n",
       "      <td>Hispanic_or_Latino</td>\n",
       "      <td>male</td>\n",
       "      <td>Sales workers</td>\n",
       "      <td>0</td>\n",
       "    </tr>\n",
       "    <tr>\n",
       "      <th>...</th>\n",
       "      <td>...</td>\n",
       "      <td>...</td>\n",
       "      <td>...</td>\n",
       "      <td>...</td>\n",
       "      <td>...</td>\n",
       "      <td>...</td>\n",
       "    </tr>\n",
       "    <tr>\n",
       "      <th>4483</th>\n",
       "      <td>Sanmina</td>\n",
       "      <td>2016</td>\n",
       "      <td>White</td>\n",
       "      <td>male</td>\n",
       "      <td>laborers and helpers</td>\n",
       "      <td>2</td>\n",
       "    </tr>\n",
       "    <tr>\n",
       "      <th>4484</th>\n",
       "      <td>Sanmina</td>\n",
       "      <td>2016</td>\n",
       "      <td>White</td>\n",
       "      <td>male</td>\n",
       "      <td>Service workers</td>\n",
       "      <td>32</td>\n",
       "    </tr>\n",
       "    <tr>\n",
       "      <th>4485</th>\n",
       "      <td>Sanmina</td>\n",
       "      <td>2016</td>\n",
       "      <td>White</td>\n",
       "      <td>male</td>\n",
       "      <td>Totals</td>\n",
       "      <td>1821</td>\n",
       "    </tr>\n",
       "    <tr>\n",
       "      <th>4486</th>\n",
       "      <td>Sanmina</td>\n",
       "      <td>2016</td>\n",
       "      <td>White</td>\n",
       "      <td>male</td>\n",
       "      <td>Previous_totals</td>\n",
       "      <td>1854</td>\n",
       "    </tr>\n",
       "    <tr>\n",
       "      <th>4487</th>\n",
       "      <td>Sanmina</td>\n",
       "      <td>2016</td>\n",
       "      <td>White</td>\n",
       "      <td>male</td>\n",
       "      <td>Managers</td>\n",
       "      <td>304</td>\n",
       "    </tr>\n",
       "  </tbody>\n",
       "</table>\n",
       "<p>4144 rows × 6 columns</p>\n",
       "</div>"
      ],
      "text/plain": [
       "      company  year                race gender          job_category  count\n",
       "0     23andMe  2016  Hispanic_or_Latino   male            Executives      0\n",
       "1     23andMe  2016  Hispanic_or_Latino   male              Managers      1\n",
       "2     23andMe  2016  Hispanic_or_Latino   male         Professionals      7\n",
       "3     23andMe  2016  Hispanic_or_Latino   male           Technicians      0\n",
       "4     23andMe  2016  Hispanic_or_Latino   male         Sales workers      0\n",
       "...       ...   ...                 ...    ...                   ...    ...\n",
       "4483  Sanmina  2016               White   male  laborers and helpers      2\n",
       "4484  Sanmina  2016               White   male       Service workers     32\n",
       "4485  Sanmina  2016               White   male                Totals   1821\n",
       "4486  Sanmina  2016               White   male       Previous_totals   1854\n",
       "4487  Sanmina  2016               White   male              Managers    304\n",
       "\n",
       "[4144 rows x 6 columns]"
      ]
     },
     "execution_count": 60,
     "metadata": {},
     "output_type": "execute_result"
    }
   ],
   "source": [
    "df_companies_gender = df_companies_gender[df_companies_gender['count'] != 'na']\n",
    "df_companies_gender = df_companies_gender.astype({\"count\": int})\n",
    "df_companies_gender"
   ]
  },
  {
   "cell_type": "markdown",
   "metadata": {},
   "source": [
    "We can now proceed to wrangle our data and create a dataframe that contains the number of female executives/managers in a company as well as how much maternity leave that company offers."
   ]
  },
  {
   "cell_type": "code",
   "execution_count": 61,
   "metadata": {},
   "outputs": [],
   "source": [
    "# 'data comprises of the followiing Series'\n",
    "data = {'company': [], 'executives_or_managers_count': [], 'maternity_leave_paid': [], 'maternity_leave_unpaid': [], 'total_pop': [], 'e_or_m_ratio':[]}\n",
    "\n",
    "# The following loops will append a companys total number of female executives/managers as \n",
    "# compared to their paid/unpaid maternity leave\n",
    "for company in df_companies_gender['company'].unique():\n",
    "    rows = df_companies_gender[df_companies_gender['company'] == company]\n",
    "    total_pop = rows['count'].sum()\n",
    "    data['total_pop'].append(rows['count'].sum())\n",
    "    rows = rows[(rows['job_category'] == 'Executives') | (rows['job_category'] == 'Managers')]\n",
    "    rows = rows[rows['gender'] == 'female']\n",
    "    rows['count'] = rows['count'].astype(int)\n",
    "    data['company'].append(company)\n",
    "    executives_or_managers_count = rows['count'].sum()\n",
    "    data['executives_or_managers_count'].append(rows['count'].sum())\n",
    "    data['maternity_leave_paid'].append(0)\n",
    "    data['maternity_leave_unpaid'].append(0)\n",
    "    data['e_or_m_ratio'].append(executives_or_managers_count/total_pop)\n",
    "\n",
    "for company in df_companies_gender['company'].unique():\n",
    "    if company in df_companies['Company'].unique().tolist():\n",
    "        index = data['company'].index(company)\n",
    "        data['maternity_leave_paid'][index] = int(df_companies[df_companies['Company']==company]['Maternity_Leave_Paid'].values)\n",
    "        try:\n",
    "            data['maternity_leave_unpaid'][index] = int(df_companies[df_companies['Company']==company]['Maternity_Leave_Unpaid'].values)\n",
    "        except:\n",
    "            data['maternity_leave_unpaid'][index] = 0\n",
    "        "
   ]
  },
  {
   "cell_type": "code",
   "execution_count": 62,
   "metadata": {},
   "outputs": [
    {
     "data": {
      "text/html": [
       "<div>\n",
       "<style scoped>\n",
       "    .dataframe tbody tr th:only-of-type {\n",
       "        vertical-align: middle;\n",
       "    }\n",
       "\n",
       "    .dataframe tbody tr th {\n",
       "        vertical-align: top;\n",
       "    }\n",
       "\n",
       "    .dataframe thead th {\n",
       "        text-align: right;\n",
       "    }\n",
       "</style>\n",
       "<table border=\"1\" class=\"dataframe\">\n",
       "  <thead>\n",
       "    <tr style=\"text-align: right;\">\n",
       "      <th></th>\n",
       "      <th>company</th>\n",
       "      <th>executives_or_managers_count</th>\n",
       "      <th>maternity_leave_paid</th>\n",
       "      <th>maternity_leave_unpaid</th>\n",
       "      <th>total_pop</th>\n",
       "      <th>e_or_m_ratio</th>\n",
       "    </tr>\n",
       "  </thead>\n",
       "  <tbody>\n",
       "    <tr>\n",
       "      <th>0</th>\n",
       "      <td>23andMe</td>\n",
       "      <td>37</td>\n",
       "      <td>0</td>\n",
       "      <td>0</td>\n",
       "      <td>594</td>\n",
       "      <td>0.062290</td>\n",
       "    </tr>\n",
       "    <tr>\n",
       "      <th>1</th>\n",
       "      <td>Adobe</td>\n",
       "      <td>868</td>\n",
       "      <td>0</td>\n",
       "      <td>0</td>\n",
       "      <td>20905</td>\n",
       "      <td>0.041521</td>\n",
       "    </tr>\n",
       "    <tr>\n",
       "      <th>2</th>\n",
       "      <td>Airbnb</td>\n",
       "      <td>159</td>\n",
       "      <td>0</td>\n",
       "      <td>0</td>\n",
       "      <td>5235</td>\n",
       "      <td>0.030372</td>\n",
       "    </tr>\n",
       "    <tr>\n",
       "      <th>3</th>\n",
       "      <td>Apple</td>\n",
       "      <td>2270</td>\n",
       "      <td>18</td>\n",
       "      <td>0</td>\n",
       "      <td>226878</td>\n",
       "      <td>0.010005</td>\n",
       "    </tr>\n",
       "    <tr>\n",
       "      <th>4</th>\n",
       "      <td>Cisco</td>\n",
       "      <td>1342</td>\n",
       "      <td>13</td>\n",
       "      <td>0</td>\n",
       "      <td>111366</td>\n",
       "      <td>0.012050</td>\n",
       "    </tr>\n",
       "  </tbody>\n",
       "</table>\n",
       "</div>"
      ],
      "text/plain": [
       "   company  executives_or_managers_count  maternity_leave_paid  \\\n",
       "0  23andMe                            37                     0   \n",
       "1    Adobe                           868                     0   \n",
       "2   Airbnb                           159                     0   \n",
       "3    Apple                          2270                    18   \n",
       "4    Cisco                          1342                    13   \n",
       "\n",
       "   maternity_leave_unpaid  total_pop  e_or_m_ratio  \n",
       "0                       0        594      0.062290  \n",
       "1                       0      20905      0.041521  \n",
       "2                       0       5235      0.030372  \n",
       "3                       0     226878      0.010005  \n",
       "4                       0     111366      0.012050  "
      ]
     },
     "execution_count": 62,
     "metadata": {},
     "output_type": "execute_result"
    }
   ],
   "source": [
    "df_executive = pd.DataFrame(data)\n",
    "df_executive = df_executive.sort_values(by='company', ascending=True)\n",
    "df_executive.head()"
   ]
  },
  {
   "cell_type": "markdown",
   "metadata": {},
   "source": [
    "We can see that some companies do not have maternity leave data contained in df_companies. For these companies, we manually found their maternity leave durations. We will input them below."
   ]
  },
  {
   "cell_type": "code",
   "execution_count": 63,
   "metadata": {},
   "outputs": [],
   "source": [
    "# Some company rows neeeded to be manually implemented, hence the below adjustments. \n",
    "df_executive.at[0,'maternity_leave_paid'] = 16\n",
    "df_executive.at[1,'maternity_leave_paid'] = 26\n",
    "df_executive.at[2,'maternity_leave_paid'] = 12\n",
    "df_executive.at[5,'maternity_leave_paid'] = 24\n",
    "df_executive.at[9,'maternity_leave_paid'] = 26\n",
    "df_executive.at[10,'maternity_leave_paid'] = 8\n",
    "df_executive.at[10,'maternity_leave_unpaid'] = 12\n",
    "df_executive.at[11,'maternity_leave_paid'] = 12\n",
    "df_executive.at[11,'maternity_leave_unpaid'] = 9\n",
    "df_executive.at[12,'maternity_leave_paid'] = 12\n",
    "df_executive.at[12,'maternity_leave_unpaid'] = 4\n",
    "df_executive.at[15,'maternity_leave_paid'] = 22\n",
    "df_executive.at[11,'maternity_leave_paid'] = 12\n",
    "df_executive.at[21,'maternity_leave_paid'] = 4\n",
    "df_executive.at[16,'maternity_leave_unpaid'] = 16\n",
    "df_executive.at[6,'maternity_leave_unpaid'] = 6\n",
    "df_executive.at[22,'maternity_leave_unpaid'] = 6\n",
    "df_executive.at[20,'maternity_leave_unpaid'] = 1\n",
    "df_executive.at[8,'maternity_leave_unpaid'] = 9\n",
    "df_executive.at[5,'maternity_leave_unpaid'] = 6\n",
    "df_executive.at[17,'maternity_leave_unpaid'] = 4\n",
    "df_executive.at[3,'maternity_leave_unpaid'] = 9\n",
    "df_executive.at[7,'maternity_leave_paid'] = 24"
   ]
  },
  {
   "cell_type": "markdown",
   "metadata": {},
   "source": [
    "For the purposes of investigating this question, we will total up both paid and unpaid maternity leave in the companies so that we can get a more informed picture of whether more female executives in a company is correlated with more benefits for women in those companies. "
   ]
  },
  {
   "cell_type": "code",
   "execution_count": 64,
   "metadata": {},
   "outputs": [],
   "source": [
    "# Adding the total maternity leaves (weeks) including both paid and unpaid ones.\n",
    "df_executive['total_maternity_leave'] = df_executive['maternity_leave_paid'] + df_executive['maternity_leave_unpaid']\n",
    "df_executive.reset_index(inplace=True)"
   ]
  },
  {
   "cell_type": "markdown",
   "metadata": {},
   "source": [
    "### Exploratory Analysis"
   ]
  },
  {
   "cell_type": "markdown",
   "metadata": {},
   "source": [
    "We can now investigate things like the range of maternity leaves we have in our data."
   ]
  },
  {
   "cell_type": "code",
   "execution_count": 65,
   "metadata": {},
   "outputs": [
    {
     "name": "stdout",
     "output_type": "stream",
     "text": [
      "The range is: 28 weeks.\n"
     ]
    }
   ],
   "source": [
    "r_maternity_roles = df_executive['total_maternity_leave'].max() - df_executive['total_maternity_leave'].min()\n",
    "print(\"The range is: \" + str(r_maternity_roles) + \" weeks.\")"
   ]
  },
  {
   "cell_type": "markdown",
   "metadata": {},
   "source": [
    "Now we will begin to consider whether our data is normally distributed enough to use linear regression on it."
   ]
  },
  {
   "cell_type": "code",
   "execution_count": 66,
   "metadata": {},
   "outputs": [
    {
     "data": {
      "text/plain": [
       "array([16, 26, 12, 27, 13, 22, 24, 19, 26, 20, 21, 16, 18, 12, 12, 22, 22,\n",
       "       32, 24,  6, 16, 20, 18,  4, 30])"
      ]
     },
     "execution_count": 66,
     "metadata": {},
     "output_type": "execute_result"
    }
   ],
   "source": [
    "h_maternity_roles = df_executive['total_maternity_leave'].values\n",
    "h_maternity_roles"
   ]
  },
  {
   "cell_type": "code",
   "execution_count": 67,
   "metadata": {},
   "outputs": [
    {
     "name": "stdout",
     "output_type": "stream",
     "text": [
      "The p value is: 0.7668665285196126\n",
      "This distribution can be considered to be normally distributed\n"
     ]
    }
   ],
   "source": [
    "# The following describes if the data could be a normal distribution\n",
    "st_maternity_leave, p_maternity_leave= normaltest(h_maternity_roles)\n",
    "print(\"The p value is: \" + str(p_maternity_leave))\n",
    "if p_maternity_leave < 0.01:\n",
    "    print(\"This distribution cannot be considered to be normally distributed\")\n",
    "else:\n",
    "    print(\"This distribution can be considered to be normally distributed\")"
   ]
  },
  {
   "cell_type": "code",
   "execution_count": 68,
   "metadata": {},
   "outputs": [
    {
     "data": {
      "image/png": "[encoded data removed]",
      "text/plain": [
       "<Figure size 432x288 with 1 Axes>"
      ]
     },
     "metadata": {
      "needs_background": "light"
     },
     "output_type": "display_data"
    }
   ],
   "source": [
    "xs = np.arange(h_maternity_roles.min(), h_maternity_roles.max(), 0.05)\n",
    "fit = stats.norm.pdf(xs, np.mean(h_maternity_roles), np.std(h_maternity_roles))\n",
    "# most easily done using matplotlib\n",
    "plt.plot(xs, fit, label = 'Normal Dist.', lw = 2)\n",
    "plt.hist(h_maternity_roles, density = True, label = 'Actual Data');\n",
    "plt.title('Maternity Leaves Offered by Companies in Weeks')\n",
    "plt.legend();"
   ]
  },
  {
   "cell_type": "markdown",
   "metadata": {},
   "source": [
    "Given the p-value of this distribution as well as the peaks in the above plot, we will consider this data to be normal enough to proceed with linear regression. "
   ]
  },
  {
   "cell_type": "markdown",
   "metadata": {},
   "source": [
    "### Data Analysis"
   ]
  },
  {
   "cell_type": "markdown",
   "metadata": {},
   "source": [
    "In this section, we will investigate two distinct relationships. First, we will explore the relationship between the ratio of female executives/managers in a company as the independent variable and the length of that company's maternity leave as the dependent variable. \n",
    "\n",
    "Then, we will explore the reverse relationship where the ratio of female executives/managers in a company as the dependent variable and the length of that company's maternity leave as the independent variable.\n",
    "\n",
    "The goal is to see which one of these variables is the bigger predictor of the second."
   ]
  },
  {
   "cell_type": "code",
   "execution_count": 69,
   "metadata": {
    "scrolled": true
   },
   "outputs": [
    {
     "data": {
      "image/png": "[encoded data removed]",
      "text/plain": [
       "<Figure size 360x360 with 1 Axes>"
      ]
     },
     "metadata": {
      "needs_background": "light"
     },
     "output_type": "display_data"
    }
   ],
   "source": [
    "# This graph shows the relationship between the ratio of female executives/managers within a company as the independent \n",
    "# variable and its maternity leave as the dependent variable!\n",
    "g = sns.lmplot(x='e_or_m_ratio',y='total_maternity_leave',data=df_executive,fit_reg=True)\n",
    "g = (g.set_axis_labels(\"Female Executive Ratio\", \"Maternity Leave\"))"
   ]
  },
  {
   "cell_type": "markdown",
   "metadata": {},
   "source": [
    "Given the plot above, we can see that the number of points above and below the line are somewhat balanced. However, most of the points are varied distances from the line. This tells us that there may be a positive relationship between the ratio of female executives/managers in a company and the length of that company's maternity leave, but we do not have convincing evidence yet."
   ]
  },
  {
   "cell_type": "code",
   "execution_count": 70,
   "metadata": {
    "scrolled": true
   },
   "outputs": [
    {
     "name": "stdout",
     "output_type": "stream",
     "text": [
      "                              OLS Regression Results                             \n",
      "=================================================================================\n",
      "Dep. Variable:     total_maternity_leave   R-squared:                       0.012\n",
      "Model:                               OLS   Adj. R-squared:                 -0.031\n",
      "Method:                    Least Squares   F-statistic:                    0.2848\n",
      "Date:                   Thu, 19 Mar 2020   Prob (F-statistic):              0.599\n",
      "Time:                           15:19:32   Log-Likelihood:                -83.076\n",
      "No. Observations:                     25   AIC:                             170.2\n",
      "Df Residuals:                         23   BIC:                             172.6\n",
      "Df Model:                              1                                         \n",
      "Covariance Type:               nonrobust                                         \n",
      "================================================================================\n",
      "                   coef    std err          t      P>|t|      [0.025      0.975]\n",
      "--------------------------------------------------------------------------------\n",
      "Intercept       17.8614      2.743      6.513      0.000      12.188      23.535\n",
      "e_or_m_ratio    61.1554    114.600      0.534      0.599    -175.913     298.224\n",
      "==============================================================================\n",
      "Omnibus:                        0.143   Durbin-Watson:                   2.199\n",
      "Prob(Omnibus):                  0.931   Jarque-Bera (JB):                0.248\n",
      "Skew:                          -0.155   Prob(JB):                        0.883\n",
      "Kurtosis:                       2.624   Cond. No.                         81.9\n",
      "==============================================================================\n",
      "\n",
      "Warnings:\n",
      "[1] Standard Errors assume that the covariance matrix of the errors is correctly specified.\n"
     ]
    }
   ],
   "source": [
    "outcome_1, predictors_1 = patsy.dmatrices('total_maternity_leave ~ e_or_m_ratio', df_executive)\n",
    "mod_1 = sm.OLS(outcome_1, predictors_1)\n",
    "res_1 = mod_1.fit()\n",
    "print(res_1.summary())"
   ]
  },
  {
   "cell_type": "markdown",
   "metadata": {},
   "source": [
    "The results above display an extremely high beta value, which would suggest a strong positive relationship between the ratio of female executives/managers in a company and that company's maternity leave length. However, our p-value is significantly high, which means these results could be due to random chance alone. \n",
    "\n",
    "We can proceed to test the relationship in the reverse direction."
   ]
  },
  {
   "cell_type": "code",
   "execution_count": 71,
   "metadata": {
    "scrolled": false
   },
   "outputs": [
    {
     "data": {
      "image/png": "[encoded data removed]",
      "text/plain": [
       "<Figure size 360x360 with 1 Axes>"
      ]
     },
     "metadata": {
      "needs_background": "light"
     },
     "output_type": "display_data"
    }
   ],
   "source": [
    "# This graph shows the relationship between a company's maternity leave as the independent variable and the\n",
    "# number of female executives/managers in that company as the dependent variable!\n",
    "g = sns.lmplot(y='e_or_m_ratio',x='total_maternity_leave',data=df_executive,fit_reg=True)\n",
    "g = (g.set_axis_labels(\"Maternity Leave\", \"Female Executive Ratio\"))"
   ]
  },
  {
   "cell_type": "markdown",
   "metadata": {},
   "source": [
    "We see a larger imbalance in the number of points above and below the line as well as a lot of variance between the distance of the points to the line. \n",
    "\n",
    "We will proceed to quantify this linear relationship with linear regression."
   ]
  },
  {
   "cell_type": "code",
   "execution_count": 72,
   "metadata": {},
   "outputs": [
    {
     "name": "stdout",
     "output_type": "stream",
     "text": [
      "                            OLS Regression Results                            \n",
      "==============================================================================\n",
      "Dep. Variable:           e_or_m_ratio   R-squared:                       0.012\n",
      "Model:                            OLS   Adj. R-squared:                 -0.031\n",
      "Method:                 Least Squares   F-statistic:                    0.2848\n",
      "Date:                Thu, 19 Mar 2020   Prob (F-statistic):              0.599\n",
      "Time:                        15:19:32   Log-Likelihood:                 74.808\n",
      "No. Observations:                  25   AIC:                            -145.6\n",
      "Df Residuals:                      23   BIC:                            -143.2\n",
      "Df Model:                           1                                         \n",
      "Covariance Type:            nonrobust                                         \n",
      "=========================================================================================\n",
      "                            coef    std err          t      P>|t|      [0.025      0.975]\n",
      "-----------------------------------------------------------------------------------------\n",
      "Intercept                 0.0168      0.008      2.205      0.038       0.001       0.032\n",
      "total_maternity_leave     0.0002      0.000      0.534      0.599      -0.001       0.001\n",
      "==============================================================================\n",
      "Omnibus:                       18.712   Durbin-Watson:                   1.103\n",
      "Prob(Omnibus):                  0.000   Jarque-Bera (JB):               24.194\n",
      "Skew:                           1.622   Prob(JB):                     5.58e-06\n",
      "Kurtosis:                       6.563   Cond. No.                         61.0\n",
      "==============================================================================\n",
      "\n",
      "Warnings:\n",
      "[1] Standard Errors assume that the covariance matrix of the errors is correctly specified.\n"
     ]
    }
   ],
   "source": [
    "outcome_1, predictors_1 = patsy.dmatrices('e_or_m_ratio ~ total_maternity_leave', df_executive)\n",
    "mod_1 = sm.OLS(outcome_1, predictors_1)\n",
    "res_1 = mod_1.fit()\n",
    "print(res_1.summary())"
   ]
  },
  {
   "cell_type": "markdown",
   "metadata": {},
   "source": [
    "The results above show a much weaker positive relationship between the number of female executives/managers in a company as the dependent variable and the length of that company's maternity leave as the independent variable. Our p-value is also still quite high.\n",
    "\n",
    "This would suggest to us that the presence of more female executives/managers in a Silicon Valley company is a bigger predictor of the length of maternity leave offered by that company than the other way around. This result is different from that of our main analysis in which we learned that the presence of more women in an industry is a larger predictor of the maternity leave in that industry than the other way around.\n",
    "\n",
    "It is also important to note, however, that our p-value and beta values are quite high and this may be a result of our small sample size or the presence of outliers in our data. We can attempt to eliminate some of the outliers in our data and conduct analysis again."
   ]
  },
  {
   "cell_type": "code",
   "execution_count": 73,
   "metadata": {},
   "outputs": [
    {
     "data": {
      "text/html": [
       "<div>\n",
       "<style scoped>\n",
       "    .dataframe tbody tr th:only-of-type {\n",
       "        vertical-align: middle;\n",
       "    }\n",
       "\n",
       "    .dataframe tbody tr th {\n",
       "        vertical-align: top;\n",
       "    }\n",
       "\n",
       "    .dataframe thead th {\n",
       "        text-align: right;\n",
       "    }\n",
       "</style>\n",
       "<table border=\"1\" class=\"dataframe\">\n",
       "  <thead>\n",
       "    <tr style=\"text-align: right;\">\n",
       "      <th></th>\n",
       "      <th>index</th>\n",
       "      <th>company</th>\n",
       "      <th>executives_or_managers_count</th>\n",
       "      <th>maternity_leave_paid</th>\n",
       "      <th>maternity_leave_unpaid</th>\n",
       "      <th>total_pop</th>\n",
       "      <th>e_or_m_ratio</th>\n",
       "      <th>total_maternity_leave</th>\n",
       "    </tr>\n",
       "  </thead>\n",
       "  <tbody>\n",
       "    <tr>\n",
       "      <th>0</th>\n",
       "      <td>0</td>\n",
       "      <td>23andMe</td>\n",
       "      <td>37</td>\n",
       "      <td>16</td>\n",
       "      <td>0</td>\n",
       "      <td>594</td>\n",
       "      <td>0.062290</td>\n",
       "      <td>16</td>\n",
       "    </tr>\n",
       "    <tr>\n",
       "      <th>1</th>\n",
       "      <td>1</td>\n",
       "      <td>Adobe</td>\n",
       "      <td>868</td>\n",
       "      <td>26</td>\n",
       "      <td>0</td>\n",
       "      <td>20905</td>\n",
       "      <td>0.041521</td>\n",
       "      <td>26</td>\n",
       "    </tr>\n",
       "    <tr>\n",
       "      <th>2</th>\n",
       "      <td>2</td>\n",
       "      <td>Airbnb</td>\n",
       "      <td>159</td>\n",
       "      <td>12</td>\n",
       "      <td>0</td>\n",
       "      <td>5235</td>\n",
       "      <td>0.030372</td>\n",
       "      <td>12</td>\n",
       "    </tr>\n",
       "    <tr>\n",
       "      <th>4</th>\n",
       "      <td>4</td>\n",
       "      <td>Cisco</td>\n",
       "      <td>1342</td>\n",
       "      <td>13</td>\n",
       "      <td>0</td>\n",
       "      <td>111366</td>\n",
       "      <td>0.012050</td>\n",
       "      <td>13</td>\n",
       "    </tr>\n",
       "    <tr>\n",
       "      <th>5</th>\n",
       "      <td>6</td>\n",
       "      <td>Facebook</td>\n",
       "      <td>638</td>\n",
       "      <td>16</td>\n",
       "      <td>6</td>\n",
       "      <td>30928</td>\n",
       "      <td>0.020629</td>\n",
       "      <td>22</td>\n",
       "    </tr>\n",
       "    <tr>\n",
       "      <th>7</th>\n",
       "      <td>8</td>\n",
       "      <td>HP Inc.</td>\n",
       "      <td>612</td>\n",
       "      <td>10</td>\n",
       "      <td>9</td>\n",
       "      <td>99377</td>\n",
       "      <td>0.006158</td>\n",
       "      <td>19</td>\n",
       "    </tr>\n",
       "    <tr>\n",
       "      <th>8</th>\n",
       "      <td>9</td>\n",
       "      <td>HPE</td>\n",
       "      <td>1860</td>\n",
       "      <td>26</td>\n",
       "      <td>0</td>\n",
       "      <td>103978</td>\n",
       "      <td>0.017888</td>\n",
       "      <td>26</td>\n",
       "    </tr>\n",
       "    <tr>\n",
       "      <th>9</th>\n",
       "      <td>10</td>\n",
       "      <td>Intel</td>\n",
       "      <td>1548</td>\n",
       "      <td>8</td>\n",
       "      <td>12</td>\n",
       "      <td>162003</td>\n",
       "      <td>0.009555</td>\n",
       "      <td>20</td>\n",
       "    </tr>\n",
       "    <tr>\n",
       "      <th>10</th>\n",
       "      <td>11</td>\n",
       "      <td>Intuit</td>\n",
       "      <td>420</td>\n",
       "      <td>12</td>\n",
       "      <td>9</td>\n",
       "      <td>18186</td>\n",
       "      <td>0.023095</td>\n",
       "      <td>21</td>\n",
       "    </tr>\n",
       "    <tr>\n",
       "      <th>11</th>\n",
       "      <td>12</td>\n",
       "      <td>LinkedIn</td>\n",
       "      <td>424</td>\n",
       "      <td>12</td>\n",
       "      <td>4</td>\n",
       "      <td>19589</td>\n",
       "      <td>0.021645</td>\n",
       "      <td>16</td>\n",
       "    </tr>\n",
       "    <tr>\n",
       "      <th>12</th>\n",
       "      <td>13</td>\n",
       "      <td>Lyft</td>\n",
       "      <td>99</td>\n",
       "      <td>18</td>\n",
       "      <td>0</td>\n",
       "      <td>3401</td>\n",
       "      <td>0.029109</td>\n",
       "      <td>18</td>\n",
       "    </tr>\n",
       "    <tr>\n",
       "      <th>13</th>\n",
       "      <td>14</td>\n",
       "      <td>MobileIron</td>\n",
       "      <td>18</td>\n",
       "      <td>12</td>\n",
       "      <td>0</td>\n",
       "      <td>1569</td>\n",
       "      <td>0.011472</td>\n",
       "      <td>12</td>\n",
       "    </tr>\n",
       "    <tr>\n",
       "      <th>14</th>\n",
       "      <td>23</td>\n",
       "      <td>NetApp</td>\n",
       "      <td>273</td>\n",
       "      <td>12</td>\n",
       "      <td>0</td>\n",
       "      <td>18901</td>\n",
       "      <td>0.014444</td>\n",
       "      <td>12</td>\n",
       "    </tr>\n",
       "    <tr>\n",
       "      <th>15</th>\n",
       "      <td>15</td>\n",
       "      <td>Nvidia</td>\n",
       "      <td>183</td>\n",
       "      <td>22</td>\n",
       "      <td>0</td>\n",
       "      <td>15425</td>\n",
       "      <td>0.011864</td>\n",
       "      <td>22</td>\n",
       "    </tr>\n",
       "    <tr>\n",
       "      <th>16</th>\n",
       "      <td>22</td>\n",
       "      <td>PayPal</td>\n",
       "      <td>778</td>\n",
       "      <td>16</td>\n",
       "      <td>6</td>\n",
       "      <td>29935</td>\n",
       "      <td>0.025990</td>\n",
       "      <td>22</td>\n",
       "    </tr>\n",
       "    <tr>\n",
       "      <th>17</th>\n",
       "      <td>16</td>\n",
       "      <td>Pinterest</td>\n",
       "      <td>18</td>\n",
       "      <td>16</td>\n",
       "      <td>16</td>\n",
       "      <td>2475</td>\n",
       "      <td>0.007273</td>\n",
       "      <td>32</td>\n",
       "    </tr>\n",
       "    <tr>\n",
       "      <th>18</th>\n",
       "      <td>17</td>\n",
       "      <td>Salesforce</td>\n",
       "      <td>865</td>\n",
       "      <td>20</td>\n",
       "      <td>4</td>\n",
       "      <td>41401</td>\n",
       "      <td>0.020893</td>\n",
       "      <td>24</td>\n",
       "    </tr>\n",
       "    <tr>\n",
       "      <th>19</th>\n",
       "      <td>24</td>\n",
       "      <td>Sanmina</td>\n",
       "      <td>179</td>\n",
       "      <td>6</td>\n",
       "      <td>0</td>\n",
       "      <td>16025</td>\n",
       "      <td>0.011170</td>\n",
       "      <td>6</td>\n",
       "    </tr>\n",
       "    <tr>\n",
       "      <th>20</th>\n",
       "      <td>18</td>\n",
       "      <td>Square</td>\n",
       "      <td>87</td>\n",
       "      <td>16</td>\n",
       "      <td>0</td>\n",
       "      <td>3422</td>\n",
       "      <td>0.025424</td>\n",
       "      <td>16</td>\n",
       "    </tr>\n",
       "    <tr>\n",
       "      <th>21</th>\n",
       "      <td>19</td>\n",
       "      <td>Twitter</td>\n",
       "      <td>155</td>\n",
       "      <td>20</td>\n",
       "      <td>0</td>\n",
       "      <td>9237</td>\n",
       "      <td>0.016780</td>\n",
       "      <td>20</td>\n",
       "    </tr>\n",
       "    <tr>\n",
       "      <th>22</th>\n",
       "      <td>20</td>\n",
       "      <td>Uber</td>\n",
       "      <td>269</td>\n",
       "      <td>17</td>\n",
       "      <td>1</td>\n",
       "      <td>11770</td>\n",
       "      <td>0.022855</td>\n",
       "      <td>18</td>\n",
       "    </tr>\n",
       "    <tr>\n",
       "      <th>23</th>\n",
       "      <td>21</td>\n",
       "      <td>View</td>\n",
       "      <td>8</td>\n",
       "      <td>4</td>\n",
       "      <td>0</td>\n",
       "      <td>1272</td>\n",
       "      <td>0.006289</td>\n",
       "      <td>4</td>\n",
       "    </tr>\n",
       "    <tr>\n",
       "      <th>24</th>\n",
       "      <td>5</td>\n",
       "      <td>eBay</td>\n",
       "      <td>619</td>\n",
       "      <td>24</td>\n",
       "      <td>6</td>\n",
       "      <td>24082</td>\n",
       "      <td>0.025704</td>\n",
       "      <td>30</td>\n",
       "    </tr>\n",
       "  </tbody>\n",
       "</table>\n",
       "</div>"
      ],
      "text/plain": [
       "    index     company  executives_or_managers_count  maternity_leave_paid  \\\n",
       "0       0     23andMe                            37                    16   \n",
       "1       1       Adobe                           868                    26   \n",
       "2       2      Airbnb                           159                    12   \n",
       "4       4       Cisco                          1342                    13   \n",
       "5       6    Facebook                           638                    16   \n",
       "7       8     HP Inc.                           612                    10   \n",
       "8       9         HPE                          1860                    26   \n",
       "9      10       Intel                          1548                     8   \n",
       "10     11      Intuit                           420                    12   \n",
       "11     12    LinkedIn                           424                    12   \n",
       "12     13        Lyft                            99                    18   \n",
       "13     14  MobileIron                            18                    12   \n",
       "14     23      NetApp                           273                    12   \n",
       "15     15      Nvidia                           183                    22   \n",
       "16     22      PayPal                           778                    16   \n",
       "17     16   Pinterest                            18                    16   \n",
       "18     17  Salesforce                           865                    20   \n",
       "19     24     Sanmina                           179                     6   \n",
       "20     18      Square                            87                    16   \n",
       "21     19     Twitter                           155                    20   \n",
       "22     20        Uber                           269                    17   \n",
       "23     21        View                             8                     4   \n",
       "24      5        eBay                           619                    24   \n",
       "\n",
       "    maternity_leave_unpaid  total_pop  e_or_m_ratio  total_maternity_leave  \n",
       "0                        0        594      0.062290                     16  \n",
       "1                        0      20905      0.041521                     26  \n",
       "2                        0       5235      0.030372                     12  \n",
       "4                        0     111366      0.012050                     13  \n",
       "5                        6      30928      0.020629                     22  \n",
       "7                        9      99377      0.006158                     19  \n",
       "8                        0     103978      0.017888                     26  \n",
       "9                       12     162003      0.009555                     20  \n",
       "10                       9      18186      0.023095                     21  \n",
       "11                       4      19589      0.021645                     16  \n",
       "12                       0       3401      0.029109                     18  \n",
       "13                       0       1569      0.011472                     12  \n",
       "14                       0      18901      0.014444                     12  \n",
       "15                       0      15425      0.011864                     22  \n",
       "16                       6      29935      0.025990                     22  \n",
       "17                      16       2475      0.007273                     32  \n",
       "18                       4      41401      0.020893                     24  \n",
       "19                       0      16025      0.011170                      6  \n",
       "20                       0       3422      0.025424                     16  \n",
       "21                       0       9237      0.016780                     20  \n",
       "22                       1      11770      0.022855                     18  \n",
       "23                       0       1272      0.006289                      4  \n",
       "24                       6      24082      0.025704                     30  "
      ]
     },
     "execution_count": 73,
     "metadata": {},
     "output_type": "execute_result"
    }
   ],
   "source": [
    "df_executive_no_outliers = df_executive[df_executive['executives_or_managers_count'] < 2000]\n",
    "df_executive_no_outliers"
   ]
  },
  {
   "cell_type": "code",
   "execution_count": 74,
   "metadata": {},
   "outputs": [
    {
     "data": {
      "image/png": "[encoded data removed]",
      "text/plain": [
       "<Figure size 360x360 with 1 Axes>"
      ]
     },
     "metadata": {
      "needs_background": "light"
     },
     "output_type": "display_data"
    }
   ],
   "source": [
    "g = sns.lmplot(x='e_or_m_ratio',y='total_maternity_leave',data=df_executive_no_outliers,fit_reg=True)\n",
    "g = (g.set_axis_labels(\"Female Executive Ratio\", \"Maternity Leave\"))"
   ]
  },
  {
   "cell_type": "markdown",
   "metadata": {},
   "source": [
    "We can see that the number of points above and below the line are more balanced than before. Furthermore, we can also see that more of the points are closer to the line than before.\n",
    "\n",
    "We can use another type of visualization to get a better feel for our data before fitting a linear regression model to it. "
   ]
  },
  {
   "cell_type": "code",
   "execution_count": 75,
   "metadata": {},
   "outputs": [
    {
     "data": {
      "image/png": "[encoded data removed]",
      "text/plain": [
       "<Figure size 432x432 with 3 Axes>"
      ]
     },
     "metadata": {
      "needs_background": "light"
     },
     "output_type": "display_data"
    }
   ],
   "source": [
    "g = sns.jointplot(y=\"total_maternity_leave\", x=\"e_or_m_ratio\", data=df_executive_no_outliers, kind=\"kde\", color='orange')\n",
    "g.fig.suptitle('Executives/Managers Count v.s. Maternity Leave Data')\n",
    "g = (g.set_axis_labels(\"Female Executive Ratio\", \"Maternity Leave\"))"
   ]
  },
  {
   "cell_type": "markdown",
   "metadata": {},
   "source": [
    "From the plot above, we can see that our two variables in question are somewhat normally distributed and we can indeed see a relationship between increasing total maternity leave length and a higher ratio of female executives/managers."
   ]
  },
  {
   "cell_type": "code",
   "execution_count": 76,
   "metadata": {},
   "outputs": [
    {
     "name": "stdout",
     "output_type": "stream",
     "text": [
      "                              OLS Regression Results                             \n",
      "=================================================================================\n",
      "Dep. Variable:     total_maternity_leave   R-squared:                       0.019\n",
      "Model:                               OLS   Adj. R-squared:                 -0.028\n",
      "Method:                    Least Squares   F-statistic:                    0.4097\n",
      "Date:                   Thu, 19 Mar 2020   Prob (F-statistic):              0.529\n",
      "Time:                           15:19:33   Log-Likelihood:                -76.330\n",
      "No. Observations:                     23   AIC:                             156.7\n",
      "Df Residuals:                         21   BIC:                             158.9\n",
      "Df Model:                              1                                         \n",
      "Covariance Type:               nonrobust                                         \n",
      "================================================================================\n",
      "                   coef    std err          t      P>|t|      [0.025      0.975]\n",
      "--------------------------------------------------------------------------------\n",
      "Intercept       17.0104      2.833      6.003      0.000      11.118      22.903\n",
      "e_or_m_ratio    75.3700    117.756      0.640      0.529    -169.517     320.257\n",
      "==============================================================================\n",
      "Omnibus:                        0.031   Durbin-Watson:                   1.934\n",
      "Prob(Omnibus):                  0.985   Jarque-Bera (JB):                0.081\n",
      "Skew:                           0.007   Prob(JB):                        0.960\n",
      "Kurtosis:                       2.710   Cond. No.                         80.8\n",
      "==============================================================================\n",
      "\n",
      "Warnings:\n",
      "[1] Standard Errors assume that the covariance matrix of the errors is correctly specified.\n"
     ]
    }
   ],
   "source": [
    "outcome_1, predictors_1 = patsy.dmatrices('total_maternity_leave ~ e_or_m_ratio', df_executive_no_outliers)\n",
    "mod_1 = sm.OLS(outcome_1, predictors_1)\n",
    "res_1 = mod_1.fit()\n",
    "print(res_1.summary())"
   ]
  },
  {
   "cell_type": "markdown",
   "metadata": {},
   "source": [
    "Based on the results above, our intuition was somewhat correct. We see the beta value go up and the p-value go down by a little bit. \n",
    "\n",
    "We think that this analysis shows us that it is likely that some positive relationship exists between the length of the maternity leave in a Silicon Valley company and the ratio of female executives/managers in that company. However, we cannot say that there is one conclusively based on this analysis."
   ]
  },
  {
   "cell_type": "markdown",
   "metadata": {},
   "source": [
    "# Ethics and Privacy\n",
    "\n",
    "FairyGodBoss’s data is available for public use, as its mission is to spread awareness through data on different companies’ policies on maternity and paternity leave. FairyGodBoss attempts to avoid spreading misinformation from crowdsourcing by displaying consensus numbers or the median, if there are any conflicts in reports. This makes their data more reliable. The amount of bias in their data-collection is limited due to the nature of crowdsourcing. We are confident that this source is a reliable representation of the data we need. \n",
    "\n",
    "The US Bureau of Labor Statistics made their data available for public use. This data was recorded in 2020, so we assume that the data is accurate and up-to-date. The Bureau of Labor Statistics does acknowledge that anybody who identified as Latino in the census, regardless of their race, was recorded as Latino in this dataset, which may account for inaccuracies. Data is not shown for all races either, indicating a bias towards races with more prominent populations in the US. However, since we decided to only use the Bureau of Labor Statistics’ data on women in industries, and chose not to use the other data points, we believe the data we are using is reliable and unbiased for our purposes. \n",
    "\n",
    "Our data from the Institute for Women’s policy research is also made public. Their data comes from a well-funded project aimed to create an in-depth, qualitative analysis of public policy in the US by state and how it impacts women. We believe their data to be reliable.\n",
    "\n",
    "Our dataset from the The Center for Investigative Reporting contains anonymous data about the demographics of the companies in the Silicon Valley. While we are not concerned about compromising anyone's identity in this data, we are a little bit concerned with having the companies be representative of such a small subset of companies - namely those in the Silicon Valley. Since this data is so detailed and gives us the exact numbers of females and males in managerial positions as well as their racial breakdowns, we decided to use this data while keeping in mind that our analysis can only be applicable to businesses in the Silicon Valley.\n",
    "\n",
    "We strove to clean and wrangle data in such a way that no information was compromised unethically, in order to ensure that the conclusions we reached were accurate and matched with the data provided. Due to the nature of our topic and the scope of this project, we were not able to address all of the confounding variables that affect a historically intricate topic like women in the workforce. Thus, we attempted to acknowledge the limitations of our analysis and explain what factors we believed may have been impacting our results.\n",
    "\n",
    "We want to note that we investigate this topic only in the hopes that finding some relationship between maternity leave and female participation in the labor force will shed light on how providing employees benefits such as maternity leave can help women contribute their talents in the workforce. We are not suggesting that women should return to work after having children or berating those women who choose not to. We simply wish to illustrate that maternity leave may be beneficial to those women who seek to have families as well as pursue a job in the workforce.\n",
    "\n",
    "Lastly, we wish to establish that the data we have used in our analysis was not ideal and, therefore, there are some limitations to our analysis that we will clearly discuss and lay out throughout the analysis as well as in the conclusion. \n"
   ]
  },
  {
   "cell_type": "markdown",
   "metadata": {},
   "source": [
    "# Discussion and Conclusion\n",
    "\n",
    "We found that paid maternity leave predicted female participation in the workforce more than female participation in the workforce predicted maternity leave. This is an initial finding we feel could be strengthened with further analysis given that the correlations we found were not very confident. While we cannot conclude with certainty that there is a strong relationship between female participation in the workforce and paid maternity leave, we believe that we have seen some good evidence as to why it is worthwhile to further investigate this topic. Given more time and the ability to collect more relevant data, we believe we would have been able to gain more conclusive results. \n",
    "\n",
    "Additionally, we could see that there were stronger relationships between Asian women and White women’s participation in the workforce and paid maternity than Hispanic, Black, Native American, and Mixed women’s participation in the workforce and paid maternity leave. This could be due to confounding factors such as access to good education, opportunities, redlining, and arguably, institutional racism. However, there weren’t significant differences in correlations recorded.\n",
    "\n",
    "Furthermore, we found that having more female executives and managers in Silicon Valley companies may be predictive of those companies offering more maternity leave to its employees. While this was not a conclusive finding due to us only having such detailed data from 23 companies in the Silicon Valley, we believe that results may be more strongly in favor with a richer dataset.\n",
    "\n",
    "The lack of a convincing conclusion to our analysis can be due to a myriad of things. Qualitative data on this topic was difficult to find, and we cannot say that the data we found provides a comprehensive view of paid maternity leave across the workforce in the US. The companies that provided data on paid maternity leave may be skewed, as well as data on race participation in different industries in the workforce. When we mapped the industries from our third dataset to match the industries in the previous datasets we were using, we lost some accuracy to our data, which caused our conclusions to lack full integrity. Our data on our subquestion regarding companies with women in executive positions contained very few rows, which led our analysis to be weaker than if there was more data available. \n",
    "\n",
    "Although we acknowledge there were limitations to our findings, we believe studying patterns regarding maternity leave and female participation in the workforce yields many benefits. We believe optimistically that increasing maternity leave creates for more female participation in the workplace, thereby benefiting our communities and collective interest. Further investigating how to diversify the workforce more, while enabling women to build families in the safest way financially and medically, could result in a shift in public policy that allows more women to participate in the workforce. "
   ]
  },
  {
   "cell_type": "markdown",
   "metadata": {},
   "source": [
    "# Group Contribution\n",
    "\n",
    "All group members contributed equally to this project."
   ]
  }
 ],
 "metadata": {
  "kernelspec": {
   "display_name": "Python 3",
   "language": "python",
   "name": "python3"
  },
  "language_info": {
   "codemirror_mode": {
    "name": "ipython",
    "version": 3
   },
   "file_extension": ".py",
   "mimetype": "text/x-python",
   "name": "python",
   "nbconvert_exporter": "python",
   "pygments_lexer": "ipython3",
   "version": "3.7.0"
  }
 },
 "nbformat": 4,
 "nbformat_minor": 2
}
