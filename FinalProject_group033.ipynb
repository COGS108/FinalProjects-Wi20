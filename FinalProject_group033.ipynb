{
 "cells": [
  {
   "cell_type": "markdown",
   "metadata": {},
   "source": [
    "# Cogs 108 Final Project"
   ]
  },
  {
   "cell_type": "markdown",
   "metadata": {},
   "source": [
    "# Overview "
   ]
  },
  {
   "cell_type": "markdown",
   "metadata": {},
   "source": [
    "The hospitality industry is something that is often overlooked, there are numerous factors(features) that a hotel has to take into consideration to estimate demand over different periods of time and fluctuations as a result of seasonality. Every traveller has a different profile - business travellers, families, families with children, length of stay, frequency of travel. All these profiles somewhere define how likely each set of hotel bookings is prone to cancellations. Preparing(Predicting) for these cancellations can bring in a lot of revenue for these hotels - a classic estimation problem. By predicting the rate of cancellation across different groups hotels can approach each group of customers with a different payment strategy. These payment strategies include charging the customer a security deposit on their reservation, or allowing them to book commitment free if there's a lower chance of them cancelling the booking and therefore creating a maximal situation on the pareto optimal curve between experience and flexibility for the users and costs for the hotel. "
   ]
  },
  {
   "cell_type": "markdown",
   "metadata": {},
   "source": [
    "## Team \n",
    "- Neel Shah  \n",
    "- Ethan Khong\n",
    "- Alex Pham\n",
    "- Pratyush Juneja"
   ]
  },
  {
   "cell_type": "markdown",
   "metadata": {},
   "source": [
    "# Research Quesiton \n",
    "\n",
    "Which of the following factors from arrival time, length of stay, previous cancellations, family type plays the most significant role in affecting the rate of cancellation for Hotel Bookings."
   ]
  },
  {
   "cell_type": "markdown",
   "metadata": {},
   "source": [
    "# Background and Prior Work "
   ]
  },
  {
   "cell_type": "markdown",
   "metadata": {},
   "source": [
    "### The Problem \n",
    "Amid the coronavirus pandemic there is a lot of press about hotel cancellation policies and how they're dynamically changing amidst hotels taking in millions of losses due to travel bans and itinerary cancellations.\n",
    "A travel itinerary consists of multiple components - transport, hotels, local transport and tourism.\n",
    "Modes of tansport(flights, cruises) have higher proportion of people who have insurances and coverages to cover their losses. For consumers with respect to hotel bookings they are more prone to find cheaper deals on third party websites rather than book directly through hotel company portals which limits the coverage provided by hotels. This effect is balanced out by the fact that the hotel companies offer flexible cancellations and the ability to book rooms without financial commitment. Although the idea of having a one fit for all strategy with flexible hotel bookings doesn't allow hotels to maximize revenue or handle the load of guests. \n",
    "<br /> \n",
    "### The role data plays\n",
    "The hotel industry as a whole is very underrated in the context of how volatile a business it is. The purpose which data serves in this instance is to create a layer of abstraction for the companies to be able to minimize this volatility. Tourism trends, competition(AirBnb), political volatility - all factor in the larger context of understanding of the volatility, the part this dataset and the problem statement focus on is individual booking and the chance of cancellation on a case-by-base basis. We plan to look at larger trends on the timeline as well in addition to the geographical impacts to make sure we're not pushing a customer type into a category given a situation out of one's control - a form of handling real life(not numerical) outliers.\n",
    "<br /> \n",
    "\n",
    "\n",
    "### Background Information\n",
    "The two projects we found most related to ours were **Using Data Science to Predict Hotel Booking Cancellations** and **Predicting Hotel Cancellations with Machine Learning** \n",
    "\n",
    "When looking at previous research done in this particular area a study conducted by Nuno Antonio, Anda de Almeida, and Luis Nunes the hospitality industry was looked at as a whole and a tool was used to create an automated machine learning based support system to predict the cancellation of hotel bookings (Antonio, N.).  The goal of the system was to make accurate predictions on the hotel's net demand and be able to make decisions on whether or not to accept or reject bookings. The model takes into account critical aspects of the hotel industry such as overbooking which is important to balance losses. The study stated that the model was able to identify the relative cancellation rate according to a wide variety of factors such as nationally, language, and other personal information not accessible. This left a gap that allowed future research to focus on predictive power of particular features such as arrival time, family members, etc. \n",
    "\n",
    "Another model used to predict cancellations was conducted by Michael Grogan who used a neural network type model (LSTM) to predict fluctuations in cancellations on a week to week basis to help chains allocate capacity better. His work built off the ideas presented in the paper written by Antonio, Almeida, and Nunes. The model predicted the cancellation trends 86% of the time with comparisons ran amongst other tests and models. The information within this model highlighted the country of origin and other factors to be major contributors to predicting the change of cancellation on a week-to-week basis. This allows a general framework to build off of when looking at the overall hotel booking data and where to guide attention to.  \n",
    "\n",
    "### References\n",
    "\n",
    "Antonio, N., de Almeida, A. and Nunes, L., 2019. An Automated Machine Learning Based Decision Support System to Predict Hotel Booking Cancellations. Data Science Journal, 18(1), p.32. DOI: http://doi.org/10.5334/dsj-2019-032\n",
    "\n",
    "Michael, G. 2019, Predicting Hotel Cancellations with Machine Learning, https://github.com/MGCodesandStats/hotel-modelling\n",
    "\n"
   ]
  },
  {
   "cell_type": "markdown",
   "metadata": {},
   "source": [
    "# Hypothesis "
   ]
  },
  {
   "cell_type": "markdown",
   "metadata": {},
   "source": [
    "Traveling with children can be stressful and add a lot of headache when planning a family vacation. An article published by National Geographic offers parents a detailed step-by-step process on how to travel with children suggesting the difficulty associated with traveling with young passengers. \n",
    "\n",
    "Given this information we predict that the higher number of children under a reservation will result in an increase rate of cancellation amongst hotel bookings."
   ]
  },
  {
   "cell_type": "markdown",
   "metadata": {},
   "source": [
    "# Dataset(s)\n",
    "Dataset Name: Hotel Booking Data <br /> \n",
    "Link to the dataset: https://www.kaggle.com/jessemostipak/hotel-booking-demand <br /> \n",
    "Number of observations: This dataset contains 20,600 rows and 32 columns <br /> \n",
    "\n",
    "The dataset being used was created by Jesse Mostipak and consists of data gathered from a city hotel and resort hotel. All personal information of guests who participated has been removed and information such as parking spaces, number of children, and more can be found within the dataset to be used for EDA and predictive modeling. \n"
   ]
  },
  {
   "cell_type": "markdown",
   "metadata": {},
   "source": [
    "# Setup\n",
    "We mainly use the following Python packages in this project: <br />\n",
    "\n",
    "NumPy: A package that is used to perform scientific computation in Python. It allows us to use a powerful N- dimensional array object along with powerful broadcasting capabilities and mathematical concepts like Linear Algebra, which is critical to Linear Regression we use later. <br />\n",
    "\n",
    "Pandas: Open source library that allows us to utilize powerful data structures and data analysis in Python.<br />\n",
    "\n",
    "Seaborn: A Python data visualization library built on matplotlib that allows for the drawing of visually  appealing graphs.<br />\n",
    "\n",
    "SciPy: Open source software that enables us to work on Mathematics, Science and Engineering projects.<br />\n",
    "\n",
    "Scikit-learn: An effective package that allows us to perform data mining and data analysis. It was originally built on NumPy, \n",
    "\n",
    "SciPy and matplotlib.<br />"
   ]
  },
  {
   "cell_type": "code",
   "execution_count": 1,
   "metadata": {},
   "outputs": [],
   "source": [
    "import numpy as np\n",
    "import pandas as pd\n",
    "import matplotlib.pyplot as plt\n",
    "\n",
    "import seaborn as sns\n",
    "sns.set()\n",
    "sns.set_context('talk')\n",
    "\n",
    "import warnings\n",
    "warnings.filterwarnings('ignore')\n",
    "\n",
    "import patsy\n",
    "import statsmodels.api as sm\n",
    "import scipy.stats as stats\n",
    "from scipy.stats import ttest_ind, chisquare, normaltest\n",
    "# Note: the statsmodels import may print out a 'FutureWarning'. Thats fine."
   ]
  },
  {
   "cell_type": "markdown",
   "metadata": {},
   "source": [
    "# Data Cleaning"
   ]
  },
  {
   "cell_type": "code",
   "execution_count": 2,
   "metadata": {},
   "outputs": [],
   "source": [
    "path = r'C:\\Users\\ETHAN\\Downloads\\hotel-booking-demand-20200314T035807Z-001\\hotel-booking-demand/hotel_bookings.csv'\n",
    "hotel = pd.read_csv(path)"
   ]
  },
  {
   "cell_type": "code",
   "execution_count": 3,
   "metadata": {
    "scrolled": false
   },
   "outputs": [
    {
     "data": {
      "text/plain": [
       "hotel                                  0\n",
       "is_canceled                            0\n",
       "lead_time                              0\n",
       "arrival_date_year                      0\n",
       "arrival_date_month                     0\n",
       "arrival_date_week_number               0\n",
       "arrival_date_day_of_month              0\n",
       "stays_in_weekend_nights                0\n",
       "stays_in_week_nights                   0\n",
       "adults                                 0\n",
       "children                               4\n",
       "babies                                 0\n",
       "meal                                   0\n",
       "country                              488\n",
       "market_segment                         0\n",
       "distribution_channel                   0\n",
       "is_repeated_guest                      0\n",
       "previous_cancellations                 0\n",
       "previous_bookings_not_canceled         0\n",
       "reserved_room_type                     0\n",
       "assigned_room_type                     0\n",
       "booking_changes                        0\n",
       "deposit_type                           0\n",
       "agent                              16340\n",
       "company                           112593\n",
       "days_in_waiting_list                   0\n",
       "customer_type                          0\n",
       "adr                                    0\n",
       "required_car_parking_spaces            0\n",
       "total_of_special_requests              0\n",
       "reservation_status                     0\n",
       "reservation_status_date                0\n",
       "dtype: int64"
      ]
     },
     "execution_count": 3,
     "metadata": {},
     "output_type": "execute_result"
    }
   ],
   "source": [
    "# Show missing values\n",
    "hotel.isna().sum() "
   ]
  },
  {
   "cell_type": "code",
   "execution_count": 4,
   "metadata": {},
   "outputs": [],
   "source": [
    "# Replace missing values within each column based off of dictionary\n",
    "\n",
    "nan = {\"children\": 0.0,\"country\": \"Unknown\", \"agent\": 0, \"company\": 0} \n",
    "\n",
    "hotel_clean = hotel.fillna(nan) "
   ]
  },
  {
   "cell_type": "code",
   "execution_count": 5,
   "metadata": {},
   "outputs": [],
   "source": [
    "# Rename undefined to SC within meal column to specify no meal package was ordered with the room. \n",
    "\n",
    "hotel_clean['meal'].replace(\"Undefined\",\"SC\", inplace  = True)"
   ]
  },
  {
   "cell_type": "code",
   "execution_count": 6,
   "metadata": {},
   "outputs": [
    {
     "data": {
      "text/plain": [
       "119390"
      ]
     },
     "execution_count": 6,
     "metadata": {},
     "output_type": "execute_result"
    }
   ],
   "source": [
    "len(hotel_clean)\n"
   ]
  },
  {
   "cell_type": "code",
   "execution_count": 7,
   "metadata": {},
   "outputs": [],
   "source": [
    "# Dropping entries with no requests\n",
    "\n",
    "zero = list(hotel_clean.loc[hotel_clean[\"adults\"]+hotel_clean['children']+hotel_clean['babies']==0].index)\n",
    "\n",
    "hotel_clean.drop(hotel_clean.index[zero],inplace = True)"
   ]
  },
  {
   "cell_type": "code",
   "execution_count": 8,
   "metadata": {},
   "outputs": [
    {
     "data": {
      "text/plain": [
       "180"
      ]
     },
     "execution_count": 8,
     "metadata": {},
     "output_type": "execute_result"
    }
   ],
   "source": [
    "# Dropping entries with no requests\n",
    "\n",
    "zero = list(hotel_clean.loc[hotel_clean[\"adults\"]+hotel_clean['children']+hotel_clean['babies']==0].index)\n",
    "\n",
    "hotel_clean.drop(hotel_clean.index[zero],inplace = True)\n",
    "\n",
    "len(hotel_clean)\n",
    "\n",
    "len(hotel)\n",
    "\n",
    "len(hotel)-len(hotel_clean)\n",
    "\n",
    "#180 records removed"
   ]
  },
  {
   "cell_type": "code",
   "execution_count": 9,
   "metadata": {},
   "outputs": [
    {
     "data": {
      "text/plain": [
       "119210"
      ]
     },
     "execution_count": 9,
     "metadata": {},
     "output_type": "execute_result"
    }
   ],
   "source": [
    "len(hotel_clean)"
   ]
  },
  {
   "cell_type": "code",
   "execution_count": 10,
   "metadata": {
    "scrolled": true
   },
   "outputs": [
    {
     "data": {
      "text/plain": [
       "hotel                             0\n",
       "is_canceled                       0\n",
       "lead_time                         0\n",
       "arrival_date_year                 0\n",
       "arrival_date_month                0\n",
       "arrival_date_week_number          0\n",
       "arrival_date_day_of_month         0\n",
       "stays_in_weekend_nights           0\n",
       "stays_in_week_nights              0\n",
       "adults                            0\n",
       "children                          0\n",
       "babies                            0\n",
       "meal                              0\n",
       "country                           0\n",
       "market_segment                    0\n",
       "distribution_channel              0\n",
       "is_repeated_guest                 0\n",
       "previous_cancellations            0\n",
       "previous_bookings_not_canceled    0\n",
       "reserved_room_type                0\n",
       "assigned_room_type                0\n",
       "booking_changes                   0\n",
       "deposit_type                      0\n",
       "agent                             0\n",
       "company                           0\n",
       "days_in_waiting_list              0\n",
       "customer_type                     0\n",
       "adr                               0\n",
       "required_car_parking_spaces       0\n",
       "total_of_special_requests         0\n",
       "reservation_status                0\n",
       "reservation_status_date           0\n",
       "dtype: int64"
      ]
     },
     "execution_count": 10,
     "metadata": {},
     "output_type": "execute_result"
    }
   ],
   "source": [
    "hotel_clean.isna().sum() # Show if missing values were removed"
   ]
  },
  {
   "cell_type": "markdown",
   "metadata": {},
   "source": [
    "# Data Analysis & Results "
   ]
  },
  {
   "cell_type": "markdown",
   "metadata": {},
   "source": [
    "## EDA"
   ]
  },
  {
   "cell_type": "code",
   "execution_count": 11,
   "metadata": {},
   "outputs": [],
   "source": [
    "import pandas as pd\n",
    "import os\n",
    "import matplotlib.pyplot as plt\n",
    "import numpy as np\n",
    "\n",
    "# df = pd.read_csv(\"Downloads/hotel-booking-demand/hotel_bookings.csv\")\n",
    "df = hotel_clean\n",
    "\n",
    "#You can rename the dataframe to something else here if needed\n",
    "#df = \n",
    "\n"
   ]
  },
  {
   "cell_type": "code",
   "execution_count": 12,
   "metadata": {},
   "outputs": [
    {
     "data": {
      "text/plain": [
       "hotel                              object\n",
       "is_canceled                         int64\n",
       "lead_time                           int64\n",
       "arrival_date_year                   int64\n",
       "arrival_date_month                 object\n",
       "arrival_date_week_number            int64\n",
       "arrival_date_day_of_month           int64\n",
       "stays_in_weekend_nights             int64\n",
       "stays_in_week_nights                int64\n",
       "adults                              int64\n",
       "children                          float64\n",
       "babies                              int64\n",
       "meal                               object\n",
       "country                            object\n",
       "market_segment                     object\n",
       "distribution_channel               object\n",
       "is_repeated_guest                   int64\n",
       "previous_cancellations              int64\n",
       "previous_bookings_not_canceled      int64\n",
       "reserved_room_type                 object\n",
       "assigned_room_type                 object\n",
       "booking_changes                     int64\n",
       "deposit_type                       object\n",
       "agent                             float64\n",
       "company                           float64\n",
       "days_in_waiting_list                int64\n",
       "customer_type                      object\n",
       "adr                               float64\n",
       "required_car_parking_spaces         int64\n",
       "total_of_special_requests           int64\n",
       "reservation_status                 object\n",
       "reservation_status_date            object\n",
       "dtype: object"
      ]
     },
     "execution_count": 12,
     "metadata": {},
     "output_type": "execute_result"
    }
   ],
   "source": [
    "#Checking the column types\n",
    "df.dtypes\n",
    "\n"
   ]
  },
  {
   "cell_type": "code",
   "execution_count": 13,
   "metadata": {},
   "outputs": [
    {
     "data": {
      "text/html": [
       "<div>\n",
       "<style scoped>\n",
       "    .dataframe tbody tr th:only-of-type {\n",
       "        vertical-align: middle;\n",
       "    }\n",
       "\n",
       "    .dataframe tbody tr th {\n",
       "        vertical-align: top;\n",
       "    }\n",
       "\n",
       "    .dataframe thead th {\n",
       "        text-align: right;\n",
       "    }\n",
       "</style>\n",
       "<table border=\"1\" class=\"dataframe\">\n",
       "  <thead>\n",
       "    <tr style=\"text-align: right;\">\n",
       "      <th></th>\n",
       "      <th>hotel</th>\n",
       "      <th>is_canceled</th>\n",
       "      <th>lead_time</th>\n",
       "      <th>arrival_date_year</th>\n",
       "      <th>arrival_date_month</th>\n",
       "      <th>arrival_date_week_number</th>\n",
       "      <th>arrival_date_day_of_month</th>\n",
       "      <th>stays_in_weekend_nights</th>\n",
       "      <th>stays_in_week_nights</th>\n",
       "      <th>adults</th>\n",
       "      <th>...</th>\n",
       "      <th>deposit_type</th>\n",
       "      <th>agent</th>\n",
       "      <th>company</th>\n",
       "      <th>days_in_waiting_list</th>\n",
       "      <th>customer_type</th>\n",
       "      <th>adr</th>\n",
       "      <th>required_car_parking_spaces</th>\n",
       "      <th>total_of_special_requests</th>\n",
       "      <th>reservation_status</th>\n",
       "      <th>reservation_status_date</th>\n",
       "    </tr>\n",
       "  </thead>\n",
       "  <tbody>\n",
       "    <tr>\n",
       "      <td>0</td>\n",
       "      <td>Resort Hotel</td>\n",
       "      <td>0</td>\n",
       "      <td>342</td>\n",
       "      <td>2015</td>\n",
       "      <td>July</td>\n",
       "      <td>27</td>\n",
       "      <td>1</td>\n",
       "      <td>0</td>\n",
       "      <td>0</td>\n",
       "      <td>2</td>\n",
       "      <td>...</td>\n",
       "      <td>No Deposit</td>\n",
       "      <td>0.0</td>\n",
       "      <td>0.0</td>\n",
       "      <td>0</td>\n",
       "      <td>Transient</td>\n",
       "      <td>0.0</td>\n",
       "      <td>0</td>\n",
       "      <td>0</td>\n",
       "      <td>Check-Out</td>\n",
       "      <td>2015-07-01</td>\n",
       "    </tr>\n",
       "    <tr>\n",
       "      <td>1</td>\n",
       "      <td>Resort Hotel</td>\n",
       "      <td>0</td>\n",
       "      <td>737</td>\n",
       "      <td>2015</td>\n",
       "      <td>July</td>\n",
       "      <td>27</td>\n",
       "      <td>1</td>\n",
       "      <td>0</td>\n",
       "      <td>0</td>\n",
       "      <td>2</td>\n",
       "      <td>...</td>\n",
       "      <td>No Deposit</td>\n",
       "      <td>0.0</td>\n",
       "      <td>0.0</td>\n",
       "      <td>0</td>\n",
       "      <td>Transient</td>\n",
       "      <td>0.0</td>\n",
       "      <td>0</td>\n",
       "      <td>0</td>\n",
       "      <td>Check-Out</td>\n",
       "      <td>2015-07-01</td>\n",
       "    </tr>\n",
       "    <tr>\n",
       "      <td>2</td>\n",
       "      <td>Resort Hotel</td>\n",
       "      <td>0</td>\n",
       "      <td>7</td>\n",
       "      <td>2015</td>\n",
       "      <td>July</td>\n",
       "      <td>27</td>\n",
       "      <td>1</td>\n",
       "      <td>0</td>\n",
       "      <td>1</td>\n",
       "      <td>1</td>\n",
       "      <td>...</td>\n",
       "      <td>No Deposit</td>\n",
       "      <td>0.0</td>\n",
       "      <td>0.0</td>\n",
       "      <td>0</td>\n",
       "      <td>Transient</td>\n",
       "      <td>75.0</td>\n",
       "      <td>0</td>\n",
       "      <td>0</td>\n",
       "      <td>Check-Out</td>\n",
       "      <td>2015-07-02</td>\n",
       "    </tr>\n",
       "    <tr>\n",
       "      <td>3</td>\n",
       "      <td>Resort Hotel</td>\n",
       "      <td>0</td>\n",
       "      <td>13</td>\n",
       "      <td>2015</td>\n",
       "      <td>July</td>\n",
       "      <td>27</td>\n",
       "      <td>1</td>\n",
       "      <td>0</td>\n",
       "      <td>1</td>\n",
       "      <td>1</td>\n",
       "      <td>...</td>\n",
       "      <td>No Deposit</td>\n",
       "      <td>304.0</td>\n",
       "      <td>0.0</td>\n",
       "      <td>0</td>\n",
       "      <td>Transient</td>\n",
       "      <td>75.0</td>\n",
       "      <td>0</td>\n",
       "      <td>0</td>\n",
       "      <td>Check-Out</td>\n",
       "      <td>2015-07-02</td>\n",
       "    </tr>\n",
       "    <tr>\n",
       "      <td>4</td>\n",
       "      <td>Resort Hotel</td>\n",
       "      <td>0</td>\n",
       "      <td>14</td>\n",
       "      <td>2015</td>\n",
       "      <td>July</td>\n",
       "      <td>27</td>\n",
       "      <td>1</td>\n",
       "      <td>0</td>\n",
       "      <td>2</td>\n",
       "      <td>2</td>\n",
       "      <td>...</td>\n",
       "      <td>No Deposit</td>\n",
       "      <td>240.0</td>\n",
       "      <td>0.0</td>\n",
       "      <td>0</td>\n",
       "      <td>Transient</td>\n",
       "      <td>98.0</td>\n",
       "      <td>0</td>\n",
       "      <td>1</td>\n",
       "      <td>Check-Out</td>\n",
       "      <td>2015-07-03</td>\n",
       "    </tr>\n",
       "  </tbody>\n",
       "</table>\n",
       "<p>5 rows × 32 columns</p>\n",
       "</div>"
      ],
      "text/plain": [
       "          hotel  is_canceled  lead_time  arrival_date_year arrival_date_month  \\\n",
       "0  Resort Hotel            0        342               2015               July   \n",
       "1  Resort Hotel            0        737               2015               July   \n",
       "2  Resort Hotel            0          7               2015               July   \n",
       "3  Resort Hotel            0         13               2015               July   \n",
       "4  Resort Hotel            0         14               2015               July   \n",
       "\n",
       "   arrival_date_week_number  arrival_date_day_of_month  \\\n",
       "0                        27                          1   \n",
       "1                        27                          1   \n",
       "2                        27                          1   \n",
       "3                        27                          1   \n",
       "4                        27                          1   \n",
       "\n",
       "   stays_in_weekend_nights  stays_in_week_nights  adults  ...  deposit_type  \\\n",
       "0                        0                     0       2  ...    No Deposit   \n",
       "1                        0                     0       2  ...    No Deposit   \n",
       "2                        0                     1       1  ...    No Deposit   \n",
       "3                        0                     1       1  ...    No Deposit   \n",
       "4                        0                     2       2  ...    No Deposit   \n",
       "\n",
       "   agent company days_in_waiting_list customer_type   adr  \\\n",
       "0    0.0     0.0                    0     Transient   0.0   \n",
       "1    0.0     0.0                    0     Transient   0.0   \n",
       "2    0.0     0.0                    0     Transient  75.0   \n",
       "3  304.0     0.0                    0     Transient  75.0   \n",
       "4  240.0     0.0                    0     Transient  98.0   \n",
       "\n",
       "   required_car_parking_spaces  total_of_special_requests  reservation_status  \\\n",
       "0                            0                          0           Check-Out   \n",
       "1                            0                          0           Check-Out   \n",
       "2                            0                          0           Check-Out   \n",
       "3                            0                          0           Check-Out   \n",
       "4                            0                          1           Check-Out   \n",
       "\n",
       "  reservation_status_date  \n",
       "0              2015-07-01  \n",
       "1              2015-07-01  \n",
       "2              2015-07-02  \n",
       "3              2015-07-02  \n",
       "4              2015-07-03  \n",
       "\n",
       "[5 rows x 32 columns]"
      ]
     },
     "execution_count": 13,
     "metadata": {},
     "output_type": "execute_result"
    }
   ],
   "source": [
    "#Peek at some rows\n",
    "df.head()\n",
    "\n"
   ]
  },
  {
   "cell_type": "code",
   "execution_count": 14,
   "metadata": {},
   "outputs": [
    {
     "data": {
      "text/html": [
       "<div>\n",
       "<style scoped>\n",
       "    .dataframe tbody tr th:only-of-type {\n",
       "        vertical-align: middle;\n",
       "    }\n",
       "\n",
       "    .dataframe tbody tr th {\n",
       "        vertical-align: top;\n",
       "    }\n",
       "\n",
       "    .dataframe thead th {\n",
       "        text-align: right;\n",
       "    }\n",
       "</style>\n",
       "<table border=\"1\" class=\"dataframe\">\n",
       "  <thead>\n",
       "    <tr style=\"text-align: right;\">\n",
       "      <th></th>\n",
       "      <th>is_canceled</th>\n",
       "      <th>lead_time</th>\n",
       "      <th>arrival_date_year</th>\n",
       "      <th>arrival_date_week_number</th>\n",
       "      <th>arrival_date_day_of_month</th>\n",
       "      <th>stays_in_weekend_nights</th>\n",
       "      <th>stays_in_week_nights</th>\n",
       "      <th>adults</th>\n",
       "      <th>children</th>\n",
       "      <th>babies</th>\n",
       "      <th>is_repeated_guest</th>\n",
       "      <th>previous_cancellations</th>\n",
       "      <th>previous_bookings_not_canceled</th>\n",
       "      <th>booking_changes</th>\n",
       "      <th>agent</th>\n",
       "      <th>company</th>\n",
       "      <th>days_in_waiting_list</th>\n",
       "      <th>adr</th>\n",
       "      <th>required_car_parking_spaces</th>\n",
       "      <th>total_of_special_requests</th>\n",
       "    </tr>\n",
       "  </thead>\n",
       "  <tbody>\n",
       "    <tr>\n",
       "      <td>count</td>\n",
       "      <td>119210.000000</td>\n",
       "      <td>119210.000000</td>\n",
       "      <td>119210.000000</td>\n",
       "      <td>119210.000000</td>\n",
       "      <td>119210.000000</td>\n",
       "      <td>119210.000000</td>\n",
       "      <td>119210.000000</td>\n",
       "      <td>119210.000000</td>\n",
       "      <td>119210.000000</td>\n",
       "      <td>119210.000000</td>\n",
       "      <td>119210.000000</td>\n",
       "      <td>119210.000000</td>\n",
       "      <td>119210.000000</td>\n",
       "      <td>119210.000000</td>\n",
       "      <td>119210.000000</td>\n",
       "      <td>119210.000000</td>\n",
       "      <td>119210.000000</td>\n",
       "      <td>119210.000000</td>\n",
       "      <td>119210.000000</td>\n",
       "      <td>119210.000000</td>\n",
       "    </tr>\n",
       "    <tr>\n",
       "      <td>mean</td>\n",
       "      <td>0.370766</td>\n",
       "      <td>104.109227</td>\n",
       "      <td>2016.156472</td>\n",
       "      <td>27.163376</td>\n",
       "      <td>15.798717</td>\n",
       "      <td>0.927053</td>\n",
       "      <td>2.499195</td>\n",
       "      <td>1.859206</td>\n",
       "      <td>0.104043</td>\n",
       "      <td>0.007961</td>\n",
       "      <td>0.031499</td>\n",
       "      <td>0.087191</td>\n",
       "      <td>0.137094</td>\n",
       "      <td>0.218799</td>\n",
       "      <td>74.889078</td>\n",
       "      <td>10.735400</td>\n",
       "      <td>2.321215</td>\n",
       "      <td>101.969092</td>\n",
       "      <td>0.062553</td>\n",
       "      <td>0.571504</td>\n",
       "    </tr>\n",
       "    <tr>\n",
       "      <td>std</td>\n",
       "      <td>0.483012</td>\n",
       "      <td>106.875450</td>\n",
       "      <td>0.707485</td>\n",
       "      <td>13.601107</td>\n",
       "      <td>8.781070</td>\n",
       "      <td>0.995117</td>\n",
       "      <td>1.897106</td>\n",
       "      <td>0.575186</td>\n",
       "      <td>0.398836</td>\n",
       "      <td>0.097509</td>\n",
       "      <td>0.174663</td>\n",
       "      <td>0.844918</td>\n",
       "      <td>1.498137</td>\n",
       "      <td>0.638504</td>\n",
       "      <td>107.168884</td>\n",
       "      <td>53.830143</td>\n",
       "      <td>17.598002</td>\n",
       "      <td>50.434007</td>\n",
       "      <td>0.245360</td>\n",
       "      <td>0.792876</td>\n",
       "    </tr>\n",
       "    <tr>\n",
       "      <td>min</td>\n",
       "      <td>0.000000</td>\n",
       "      <td>0.000000</td>\n",
       "      <td>2015.000000</td>\n",
       "      <td>1.000000</td>\n",
       "      <td>1.000000</td>\n",
       "      <td>0.000000</td>\n",
       "      <td>0.000000</td>\n",
       "      <td>0.000000</td>\n",
       "      <td>0.000000</td>\n",
       "      <td>0.000000</td>\n",
       "      <td>0.000000</td>\n",
       "      <td>0.000000</td>\n",
       "      <td>0.000000</td>\n",
       "      <td>0.000000</td>\n",
       "      <td>0.000000</td>\n",
       "      <td>0.000000</td>\n",
       "      <td>0.000000</td>\n",
       "      <td>-6.380000</td>\n",
       "      <td>0.000000</td>\n",
       "      <td>0.000000</td>\n",
       "    </tr>\n",
       "    <tr>\n",
       "      <td>25%</td>\n",
       "      <td>0.000000</td>\n",
       "      <td>18.000000</td>\n",
       "      <td>2016.000000</td>\n",
       "      <td>16.000000</td>\n",
       "      <td>8.000000</td>\n",
       "      <td>0.000000</td>\n",
       "      <td>1.000000</td>\n",
       "      <td>2.000000</td>\n",
       "      <td>0.000000</td>\n",
       "      <td>0.000000</td>\n",
       "      <td>0.000000</td>\n",
       "      <td>0.000000</td>\n",
       "      <td>0.000000</td>\n",
       "      <td>0.000000</td>\n",
       "      <td>7.000000</td>\n",
       "      <td>0.000000</td>\n",
       "      <td>0.000000</td>\n",
       "      <td>69.500000</td>\n",
       "      <td>0.000000</td>\n",
       "      <td>0.000000</td>\n",
       "    </tr>\n",
       "    <tr>\n",
       "      <td>50%</td>\n",
       "      <td>0.000000</td>\n",
       "      <td>69.000000</td>\n",
       "      <td>2016.000000</td>\n",
       "      <td>28.000000</td>\n",
       "      <td>16.000000</td>\n",
       "      <td>1.000000</td>\n",
       "      <td>2.000000</td>\n",
       "      <td>2.000000</td>\n",
       "      <td>0.000000</td>\n",
       "      <td>0.000000</td>\n",
       "      <td>0.000000</td>\n",
       "      <td>0.000000</td>\n",
       "      <td>0.000000</td>\n",
       "      <td>0.000000</td>\n",
       "      <td>9.000000</td>\n",
       "      <td>0.000000</td>\n",
       "      <td>0.000000</td>\n",
       "      <td>94.950000</td>\n",
       "      <td>0.000000</td>\n",
       "      <td>0.000000</td>\n",
       "    </tr>\n",
       "    <tr>\n",
       "      <td>75%</td>\n",
       "      <td>1.000000</td>\n",
       "      <td>161.000000</td>\n",
       "      <td>2017.000000</td>\n",
       "      <td>38.000000</td>\n",
       "      <td>23.000000</td>\n",
       "      <td>2.000000</td>\n",
       "      <td>3.000000</td>\n",
       "      <td>2.000000</td>\n",
       "      <td>0.000000</td>\n",
       "      <td>0.000000</td>\n",
       "      <td>0.000000</td>\n",
       "      <td>0.000000</td>\n",
       "      <td>0.000000</td>\n",
       "      <td>0.000000</td>\n",
       "      <td>152.000000</td>\n",
       "      <td>0.000000</td>\n",
       "      <td>0.000000</td>\n",
       "      <td>126.000000</td>\n",
       "      <td>0.000000</td>\n",
       "      <td>1.000000</td>\n",
       "    </tr>\n",
       "    <tr>\n",
       "      <td>max</td>\n",
       "      <td>1.000000</td>\n",
       "      <td>737.000000</td>\n",
       "      <td>2017.000000</td>\n",
       "      <td>53.000000</td>\n",
       "      <td>31.000000</td>\n",
       "      <td>19.000000</td>\n",
       "      <td>50.000000</td>\n",
       "      <td>55.000000</td>\n",
       "      <td>10.000000</td>\n",
       "      <td>10.000000</td>\n",
       "      <td>1.000000</td>\n",
       "      <td>26.000000</td>\n",
       "      <td>72.000000</td>\n",
       "      <td>18.000000</td>\n",
       "      <td>535.000000</td>\n",
       "      <td>543.000000</td>\n",
       "      <td>391.000000</td>\n",
       "      <td>5400.000000</td>\n",
       "      <td>8.000000</td>\n",
       "      <td>5.000000</td>\n",
       "    </tr>\n",
       "  </tbody>\n",
       "</table>\n",
       "</div>"
      ],
      "text/plain": [
       "         is_canceled      lead_time  arrival_date_year  \\\n",
       "count  119210.000000  119210.000000      119210.000000   \n",
       "mean        0.370766     104.109227        2016.156472   \n",
       "std         0.483012     106.875450           0.707485   \n",
       "min         0.000000       0.000000        2015.000000   \n",
       "25%         0.000000      18.000000        2016.000000   \n",
       "50%         0.000000      69.000000        2016.000000   \n",
       "75%         1.000000     161.000000        2017.000000   \n",
       "max         1.000000     737.000000        2017.000000   \n",
       "\n",
       "       arrival_date_week_number  arrival_date_day_of_month  \\\n",
       "count             119210.000000              119210.000000   \n",
       "mean                  27.163376                  15.798717   \n",
       "std                   13.601107                   8.781070   \n",
       "min                    1.000000                   1.000000   \n",
       "25%                   16.000000                   8.000000   \n",
       "50%                   28.000000                  16.000000   \n",
       "75%                   38.000000                  23.000000   \n",
       "max                   53.000000                  31.000000   \n",
       "\n",
       "       stays_in_weekend_nights  stays_in_week_nights         adults  \\\n",
       "count            119210.000000         119210.000000  119210.000000   \n",
       "mean                  0.927053              2.499195       1.859206   \n",
       "std                   0.995117              1.897106       0.575186   \n",
       "min                   0.000000              0.000000       0.000000   \n",
       "25%                   0.000000              1.000000       2.000000   \n",
       "50%                   1.000000              2.000000       2.000000   \n",
       "75%                   2.000000              3.000000       2.000000   \n",
       "max                  19.000000             50.000000      55.000000   \n",
       "\n",
       "            children         babies  is_repeated_guest  \\\n",
       "count  119210.000000  119210.000000      119210.000000   \n",
       "mean        0.104043       0.007961           0.031499   \n",
       "std         0.398836       0.097509           0.174663   \n",
       "min         0.000000       0.000000           0.000000   \n",
       "25%         0.000000       0.000000           0.000000   \n",
       "50%         0.000000       0.000000           0.000000   \n",
       "75%         0.000000       0.000000           0.000000   \n",
       "max        10.000000      10.000000           1.000000   \n",
       "\n",
       "       previous_cancellations  previous_bookings_not_canceled  \\\n",
       "count           119210.000000                   119210.000000   \n",
       "mean                 0.087191                        0.137094   \n",
       "std                  0.844918                        1.498137   \n",
       "min                  0.000000                        0.000000   \n",
       "25%                  0.000000                        0.000000   \n",
       "50%                  0.000000                        0.000000   \n",
       "75%                  0.000000                        0.000000   \n",
       "max                 26.000000                       72.000000   \n",
       "\n",
       "       booking_changes          agent        company  days_in_waiting_list  \\\n",
       "count    119210.000000  119210.000000  119210.000000         119210.000000   \n",
       "mean          0.218799      74.889078      10.735400              2.321215   \n",
       "std           0.638504     107.168884      53.830143             17.598002   \n",
       "min           0.000000       0.000000       0.000000              0.000000   \n",
       "25%           0.000000       7.000000       0.000000              0.000000   \n",
       "50%           0.000000       9.000000       0.000000              0.000000   \n",
       "75%           0.000000     152.000000       0.000000              0.000000   \n",
       "max          18.000000     535.000000     543.000000            391.000000   \n",
       "\n",
       "                 adr  required_car_parking_spaces  total_of_special_requests  \n",
       "count  119210.000000                119210.000000              119210.000000  \n",
       "mean      101.969092                     0.062553                   0.571504  \n",
       "std        50.434007                     0.245360                   0.792876  \n",
       "min        -6.380000                     0.000000                   0.000000  \n",
       "25%        69.500000                     0.000000                   0.000000  \n",
       "50%        94.950000                     0.000000                   0.000000  \n",
       "75%       126.000000                     0.000000                   1.000000  \n",
       "max      5400.000000                     8.000000                   5.000000  "
      ]
     },
     "execution_count": 14,
     "metadata": {},
     "output_type": "execute_result"
    }
   ],
   "source": [
    "#Get statistics on columns\n",
    "df.describe()\n",
    "\n"
   ]
  },
  {
   "cell_type": "markdown",
   "metadata": {},
   "source": [
    "# Reservations w/ and w/o Children"
   ]
  },
  {
   "cell_type": "code",
   "execution_count": 15,
   "metadata": {},
   "outputs": [
    {
     "data": {
      "text/html": [
       "<div>\n",
       "<style scoped>\n",
       "    .dataframe tbody tr th:only-of-type {\n",
       "        vertical-align: middle;\n",
       "    }\n",
       "\n",
       "    .dataframe tbody tr th {\n",
       "        vertical-align: top;\n",
       "    }\n",
       "\n",
       "    .dataframe thead th {\n",
       "        text-align: right;\n",
       "    }\n",
       "</style>\n",
       "<table border=\"1\" class=\"dataframe\">\n",
       "  <thead>\n",
       "    <tr style=\"text-align: right;\">\n",
       "      <th></th>\n",
       "      <th>is_canceled</th>\n",
       "      <th>lead_time</th>\n",
       "      <th>arrival_date_year</th>\n",
       "      <th>arrival_date_week_number</th>\n",
       "      <th>arrival_date_day_of_month</th>\n",
       "      <th>stays_in_weekend_nights</th>\n",
       "      <th>stays_in_week_nights</th>\n",
       "      <th>adults</th>\n",
       "      <th>children</th>\n",
       "      <th>babies</th>\n",
       "      <th>is_repeated_guest</th>\n",
       "      <th>previous_cancellations</th>\n",
       "      <th>previous_bookings_not_canceled</th>\n",
       "      <th>booking_changes</th>\n",
       "      <th>agent</th>\n",
       "      <th>company</th>\n",
       "      <th>days_in_waiting_list</th>\n",
       "      <th>adr</th>\n",
       "      <th>required_car_parking_spaces</th>\n",
       "      <th>total_of_special_requests</th>\n",
       "    </tr>\n",
       "  </thead>\n",
       "  <tbody>\n",
       "    <tr>\n",
       "      <td>count</td>\n",
       "      <td>119210.000000</td>\n",
       "      <td>119210.000000</td>\n",
       "      <td>119210.000000</td>\n",
       "      <td>119210.000000</td>\n",
       "      <td>119210.000000</td>\n",
       "      <td>119210.000000</td>\n",
       "      <td>119210.000000</td>\n",
       "      <td>119210.000000</td>\n",
       "      <td>119210.000000</td>\n",
       "      <td>119210.000000</td>\n",
       "      <td>119210.000000</td>\n",
       "      <td>119210.000000</td>\n",
       "      <td>119210.000000</td>\n",
       "      <td>119210.000000</td>\n",
       "      <td>119210.000000</td>\n",
       "      <td>119210.000000</td>\n",
       "      <td>119210.000000</td>\n",
       "      <td>119210.000000</td>\n",
       "      <td>119210.000000</td>\n",
       "      <td>119210.000000</td>\n",
       "    </tr>\n",
       "    <tr>\n",
       "      <td>mean</td>\n",
       "      <td>0.370766</td>\n",
       "      <td>104.109227</td>\n",
       "      <td>2016.156472</td>\n",
       "      <td>27.163376</td>\n",
       "      <td>15.798717</td>\n",
       "      <td>0.927053</td>\n",
       "      <td>2.499195</td>\n",
       "      <td>1.859206</td>\n",
       "      <td>0.104043</td>\n",
       "      <td>0.007961</td>\n",
       "      <td>0.031499</td>\n",
       "      <td>0.087191</td>\n",
       "      <td>0.137094</td>\n",
       "      <td>0.218799</td>\n",
       "      <td>74.889078</td>\n",
       "      <td>10.735400</td>\n",
       "      <td>2.321215</td>\n",
       "      <td>101.969092</td>\n",
       "      <td>0.062553</td>\n",
       "      <td>0.571504</td>\n",
       "    </tr>\n",
       "    <tr>\n",
       "      <td>std</td>\n",
       "      <td>0.483012</td>\n",
       "      <td>106.875450</td>\n",
       "      <td>0.707485</td>\n",
       "      <td>13.601107</td>\n",
       "      <td>8.781070</td>\n",
       "      <td>0.995117</td>\n",
       "      <td>1.897106</td>\n",
       "      <td>0.575186</td>\n",
       "      <td>0.398836</td>\n",
       "      <td>0.097509</td>\n",
       "      <td>0.174663</td>\n",
       "      <td>0.844918</td>\n",
       "      <td>1.498137</td>\n",
       "      <td>0.638504</td>\n",
       "      <td>107.168884</td>\n",
       "      <td>53.830143</td>\n",
       "      <td>17.598002</td>\n",
       "      <td>50.434007</td>\n",
       "      <td>0.245360</td>\n",
       "      <td>0.792876</td>\n",
       "    </tr>\n",
       "    <tr>\n",
       "      <td>min</td>\n",
       "      <td>0.000000</td>\n",
       "      <td>0.000000</td>\n",
       "      <td>2015.000000</td>\n",
       "      <td>1.000000</td>\n",
       "      <td>1.000000</td>\n",
       "      <td>0.000000</td>\n",
       "      <td>0.000000</td>\n",
       "      <td>0.000000</td>\n",
       "      <td>0.000000</td>\n",
       "      <td>0.000000</td>\n",
       "      <td>0.000000</td>\n",
       "      <td>0.000000</td>\n",
       "      <td>0.000000</td>\n",
       "      <td>0.000000</td>\n",
       "      <td>0.000000</td>\n",
       "      <td>0.000000</td>\n",
       "      <td>0.000000</td>\n",
       "      <td>-6.380000</td>\n",
       "      <td>0.000000</td>\n",
       "      <td>0.000000</td>\n",
       "    </tr>\n",
       "    <tr>\n",
       "      <td>25%</td>\n",
       "      <td>0.000000</td>\n",
       "      <td>18.000000</td>\n",
       "      <td>2016.000000</td>\n",
       "      <td>16.000000</td>\n",
       "      <td>8.000000</td>\n",
       "      <td>0.000000</td>\n",
       "      <td>1.000000</td>\n",
       "      <td>2.000000</td>\n",
       "      <td>0.000000</td>\n",
       "      <td>0.000000</td>\n",
       "      <td>0.000000</td>\n",
       "      <td>0.000000</td>\n",
       "      <td>0.000000</td>\n",
       "      <td>0.000000</td>\n",
       "      <td>7.000000</td>\n",
       "      <td>0.000000</td>\n",
       "      <td>0.000000</td>\n",
       "      <td>69.500000</td>\n",
       "      <td>0.000000</td>\n",
       "      <td>0.000000</td>\n",
       "    </tr>\n",
       "    <tr>\n",
       "      <td>50%</td>\n",
       "      <td>0.000000</td>\n",
       "      <td>69.000000</td>\n",
       "      <td>2016.000000</td>\n",
       "      <td>28.000000</td>\n",
       "      <td>16.000000</td>\n",
       "      <td>1.000000</td>\n",
       "      <td>2.000000</td>\n",
       "      <td>2.000000</td>\n",
       "      <td>0.000000</td>\n",
       "      <td>0.000000</td>\n",
       "      <td>0.000000</td>\n",
       "      <td>0.000000</td>\n",
       "      <td>0.000000</td>\n",
       "      <td>0.000000</td>\n",
       "      <td>9.000000</td>\n",
       "      <td>0.000000</td>\n",
       "      <td>0.000000</td>\n",
       "      <td>94.950000</td>\n",
       "      <td>0.000000</td>\n",
       "      <td>0.000000</td>\n",
       "    </tr>\n",
       "    <tr>\n",
       "      <td>75%</td>\n",
       "      <td>1.000000</td>\n",
       "      <td>161.000000</td>\n",
       "      <td>2017.000000</td>\n",
       "      <td>38.000000</td>\n",
       "      <td>23.000000</td>\n",
       "      <td>2.000000</td>\n",
       "      <td>3.000000</td>\n",
       "      <td>2.000000</td>\n",
       "      <td>0.000000</td>\n",
       "      <td>0.000000</td>\n",
       "      <td>0.000000</td>\n",
       "      <td>0.000000</td>\n",
       "      <td>0.000000</td>\n",
       "      <td>0.000000</td>\n",
       "      <td>152.000000</td>\n",
       "      <td>0.000000</td>\n",
       "      <td>0.000000</td>\n",
       "      <td>126.000000</td>\n",
       "      <td>0.000000</td>\n",
       "      <td>1.000000</td>\n",
       "    </tr>\n",
       "    <tr>\n",
       "      <td>max</td>\n",
       "      <td>1.000000</td>\n",
       "      <td>737.000000</td>\n",
       "      <td>2017.000000</td>\n",
       "      <td>53.000000</td>\n",
       "      <td>31.000000</td>\n",
       "      <td>19.000000</td>\n",
       "      <td>50.000000</td>\n",
       "      <td>55.000000</td>\n",
       "      <td>10.000000</td>\n",
       "      <td>10.000000</td>\n",
       "      <td>1.000000</td>\n",
       "      <td>26.000000</td>\n",
       "      <td>72.000000</td>\n",
       "      <td>18.000000</td>\n",
       "      <td>535.000000</td>\n",
       "      <td>543.000000</td>\n",
       "      <td>391.000000</td>\n",
       "      <td>5400.000000</td>\n",
       "      <td>8.000000</td>\n",
       "      <td>5.000000</td>\n",
       "    </tr>\n",
       "  </tbody>\n",
       "</table>\n",
       "</div>"
      ],
      "text/plain": [
       "         is_canceled      lead_time  arrival_date_year  \\\n",
       "count  119210.000000  119210.000000      119210.000000   \n",
       "mean        0.370766     104.109227        2016.156472   \n",
       "std         0.483012     106.875450           0.707485   \n",
       "min         0.000000       0.000000        2015.000000   \n",
       "25%         0.000000      18.000000        2016.000000   \n",
       "50%         0.000000      69.000000        2016.000000   \n",
       "75%         1.000000     161.000000        2017.000000   \n",
       "max         1.000000     737.000000        2017.000000   \n",
       "\n",
       "       arrival_date_week_number  arrival_date_day_of_month  \\\n",
       "count             119210.000000              119210.000000   \n",
       "mean                  27.163376                  15.798717   \n",
       "std                   13.601107                   8.781070   \n",
       "min                    1.000000                   1.000000   \n",
       "25%                   16.000000                   8.000000   \n",
       "50%                   28.000000                  16.000000   \n",
       "75%                   38.000000                  23.000000   \n",
       "max                   53.000000                  31.000000   \n",
       "\n",
       "       stays_in_weekend_nights  stays_in_week_nights         adults  \\\n",
       "count            119210.000000         119210.000000  119210.000000   \n",
       "mean                  0.927053              2.499195       1.859206   \n",
       "std                   0.995117              1.897106       0.575186   \n",
       "min                   0.000000              0.000000       0.000000   \n",
       "25%                   0.000000              1.000000       2.000000   \n",
       "50%                   1.000000              2.000000       2.000000   \n",
       "75%                   2.000000              3.000000       2.000000   \n",
       "max                  19.000000             50.000000      55.000000   \n",
       "\n",
       "            children         babies  is_repeated_guest  \\\n",
       "count  119210.000000  119210.000000      119210.000000   \n",
       "mean        0.104043       0.007961           0.031499   \n",
       "std         0.398836       0.097509           0.174663   \n",
       "min         0.000000       0.000000           0.000000   \n",
       "25%         0.000000       0.000000           0.000000   \n",
       "50%         0.000000       0.000000           0.000000   \n",
       "75%         0.000000       0.000000           0.000000   \n",
       "max        10.000000      10.000000           1.000000   \n",
       "\n",
       "       previous_cancellations  previous_bookings_not_canceled  \\\n",
       "count           119210.000000                   119210.000000   \n",
       "mean                 0.087191                        0.137094   \n",
       "std                  0.844918                        1.498137   \n",
       "min                  0.000000                        0.000000   \n",
       "25%                  0.000000                        0.000000   \n",
       "50%                  0.000000                        0.000000   \n",
       "75%                  0.000000                        0.000000   \n",
       "max                 26.000000                       72.000000   \n",
       "\n",
       "       booking_changes          agent        company  days_in_waiting_list  \\\n",
       "count    119210.000000  119210.000000  119210.000000         119210.000000   \n",
       "mean          0.218799      74.889078      10.735400              2.321215   \n",
       "std           0.638504     107.168884      53.830143             17.598002   \n",
       "min           0.000000       0.000000       0.000000              0.000000   \n",
       "25%           0.000000       7.000000       0.000000              0.000000   \n",
       "50%           0.000000       9.000000       0.000000              0.000000   \n",
       "75%           0.000000     152.000000       0.000000              0.000000   \n",
       "max          18.000000     535.000000     543.000000            391.000000   \n",
       "\n",
       "                 adr  required_car_parking_spaces  total_of_special_requests  \n",
       "count  119210.000000                119210.000000              119210.000000  \n",
       "mean      101.969092                     0.062553                   0.571504  \n",
       "std        50.434007                     0.245360                   0.792876  \n",
       "min        -6.380000                     0.000000                   0.000000  \n",
       "25%        69.500000                     0.000000                   0.000000  \n",
       "50%        94.950000                     0.000000                   0.000000  \n",
       "75%       126.000000                     0.000000                   1.000000  \n",
       "max      5400.000000                     8.000000                   5.000000  "
      ]
     },
     "execution_count": 15,
     "metadata": {},
     "output_type": "execute_result"
    }
   ],
   "source": [
    "#Comparison of COUNTS of cancelled reservations and non canceled based on number of children\n",
    "df.describe()"
   ]
  },
  {
   "cell_type": "code",
   "execution_count": 16,
   "metadata": {},
   "outputs": [
    {
     "data": {
      "text/html": [
       "<div>\n",
       "<style scoped>\n",
       "    .dataframe tbody tr th:only-of-type {\n",
       "        vertical-align: middle;\n",
       "    }\n",
       "\n",
       "    .dataframe tbody tr th {\n",
       "        vertical-align: top;\n",
       "    }\n",
       "\n",
       "    .dataframe thead th {\n",
       "        text-align: right;\n",
       "    }\n",
       "</style>\n",
       "<table border=\"1\" class=\"dataframe\">\n",
       "  <thead>\n",
       "    <tr style=\"text-align: right;\">\n",
       "      <th></th>\n",
       "      <th></th>\n",
       "      <th>children</th>\n",
       "    </tr>\n",
       "    <tr>\n",
       "      <th>is_canceled</th>\n",
       "      <th>children</th>\n",
       "      <th></th>\n",
       "    </tr>\n",
       "  </thead>\n",
       "  <tbody>\n",
       "    <tr>\n",
       "      <td rowspan=\"4\" valign=\"top\">0</td>\n",
       "      <td>0.0</td>\n",
       "      <td>69547</td>\n",
       "    </tr>\n",
       "    <tr>\n",
       "      <td>1.0</td>\n",
       "      <td>3294</td>\n",
       "    </tr>\n",
       "    <tr>\n",
       "      <td>2.0</td>\n",
       "      <td>2111</td>\n",
       "    </tr>\n",
       "    <tr>\n",
       "      <td>3.0</td>\n",
       "      <td>59</td>\n",
       "    </tr>\n",
       "    <tr>\n",
       "      <td rowspan=\"5\" valign=\"top\">1</td>\n",
       "      <td>0.0</td>\n",
       "      <td>41073</td>\n",
       "    </tr>\n",
       "    <tr>\n",
       "      <td>1.0</td>\n",
       "      <td>1567</td>\n",
       "    </tr>\n",
       "    <tr>\n",
       "      <td>2.0</td>\n",
       "      <td>1541</td>\n",
       "    </tr>\n",
       "    <tr>\n",
       "      <td>3.0</td>\n",
       "      <td>17</td>\n",
       "    </tr>\n",
       "    <tr>\n",
       "      <td>10.0</td>\n",
       "      <td>1</td>\n",
       "    </tr>\n",
       "  </tbody>\n",
       "</table>\n",
       "</div>"
      ],
      "text/plain": [
       "                      children\n",
       "is_canceled children          \n",
       "0           0.0          69547\n",
       "            1.0           3294\n",
       "            2.0           2111\n",
       "            3.0             59\n",
       "1           0.0          41073\n",
       "            1.0           1567\n",
       "            2.0           1541\n",
       "            3.0             17\n",
       "            10.0             1"
      ]
     },
     "execution_count": 16,
     "metadata": {},
     "output_type": "execute_result"
    }
   ],
   "source": [
    "#Comparison of COUNTS of cancelled reservations and non canceled based on number of children\n",
    "df.groupby('is_canceled')['children'].value_counts().to_frame()"
   ]
  },
  {
   "cell_type": "code",
   "execution_count": 17,
   "metadata": {},
   "outputs": [
    {
     "data": {
      "text/html": [
       "<div>\n",
       "<style scoped>\n",
       "    .dataframe tbody tr th:only-of-type {\n",
       "        vertical-align: middle;\n",
       "    }\n",
       "\n",
       "    .dataframe tbody tr th {\n",
       "        vertical-align: top;\n",
       "    }\n",
       "\n",
       "    .dataframe thead th {\n",
       "        text-align: right;\n",
       "    }\n",
       "</style>\n",
       "<table border=\"1\" class=\"dataframe\">\n",
       "  <thead>\n",
       "    <tr style=\"text-align: right;\">\n",
       "      <th></th>\n",
       "      <th></th>\n",
       "      <th>is_canceled</th>\n",
       "    </tr>\n",
       "    <tr>\n",
       "      <th>children</th>\n",
       "      <th>is_canceled</th>\n",
       "      <th></th>\n",
       "    </tr>\n",
       "  </thead>\n",
       "  <tbody>\n",
       "    <tr>\n",
       "      <td rowspan=\"2\" valign=\"top\">0.0</td>\n",
       "      <td>0</td>\n",
       "      <td>0.628702</td>\n",
       "    </tr>\n",
       "    <tr>\n",
       "      <td>1</td>\n",
       "      <td>0.371298</td>\n",
       "    </tr>\n",
       "    <tr>\n",
       "      <td rowspan=\"2\" valign=\"top\">1.0</td>\n",
       "      <td>0</td>\n",
       "      <td>0.677638</td>\n",
       "    </tr>\n",
       "    <tr>\n",
       "      <td>1</td>\n",
       "      <td>0.322362</td>\n",
       "    </tr>\n",
       "    <tr>\n",
       "      <td rowspan=\"2\" valign=\"top\">2.0</td>\n",
       "      <td>0</td>\n",
       "      <td>0.578039</td>\n",
       "    </tr>\n",
       "    <tr>\n",
       "      <td>1</td>\n",
       "      <td>0.421961</td>\n",
       "    </tr>\n",
       "    <tr>\n",
       "      <td rowspan=\"2\" valign=\"top\">3.0</td>\n",
       "      <td>0</td>\n",
       "      <td>0.776316</td>\n",
       "    </tr>\n",
       "    <tr>\n",
       "      <td>1</td>\n",
       "      <td>0.223684</td>\n",
       "    </tr>\n",
       "    <tr>\n",
       "      <td>10.0</td>\n",
       "      <td>1</td>\n",
       "      <td>1.000000</td>\n",
       "    </tr>\n",
       "  </tbody>\n",
       "</table>\n",
       "</div>"
      ],
      "text/plain": [
       "                      is_canceled\n",
       "children is_canceled             \n",
       "0.0      0               0.628702\n",
       "         1               0.371298\n",
       "1.0      0               0.677638\n",
       "         1               0.322362\n",
       "2.0      0               0.578039\n",
       "         1               0.421961\n",
       "3.0      0               0.776316\n",
       "         1               0.223684\n",
       "10.0     1               1.000000"
      ]
     },
     "execution_count": 17,
     "metadata": {},
     "output_type": "execute_result"
    }
   ],
   "source": [
    "#Comparison of PERCENTAGES of cancelled reservations and non canceled based on number of children\n",
    "df.groupby('children')['is_canceled'].value_counts(normalize = True).to_frame()"
   ]
  },
  {
   "cell_type": "code",
   "execution_count": 18,
   "metadata": {},
   "outputs": [
    {
     "data": {
      "text/html": [
       "<div>\n",
       "<style scoped>\n",
       "    .dataframe tbody tr th:only-of-type {\n",
       "        vertical-align: middle;\n",
       "    }\n",
       "\n",
       "    .dataframe tbody tr th {\n",
       "        vertical-align: top;\n",
       "    }\n",
       "\n",
       "    .dataframe thead th {\n",
       "        text-align: right;\n",
       "    }\n",
       "</style>\n",
       "<table border=\"1\" class=\"dataframe\">\n",
       "  <thead>\n",
       "    <tr style=\"text-align: right;\">\n",
       "      <th></th>\n",
       "      <th>is_canceled</th>\n",
       "    </tr>\n",
       "    <tr>\n",
       "      <th>children</th>\n",
       "      <th></th>\n",
       "    </tr>\n",
       "  </thead>\n",
       "  <tbody>\n",
       "    <tr>\n",
       "      <td>0.0</td>\n",
       "      <td>0.371298</td>\n",
       "    </tr>\n",
       "    <tr>\n",
       "      <td>1.0</td>\n",
       "      <td>0.322362</td>\n",
       "    </tr>\n",
       "    <tr>\n",
       "      <td>2.0</td>\n",
       "      <td>0.421961</td>\n",
       "    </tr>\n",
       "    <tr>\n",
       "      <td>3.0</td>\n",
       "      <td>0.223684</td>\n",
       "    </tr>\n",
       "    <tr>\n",
       "      <td>10.0</td>\n",
       "      <td>1.000000</td>\n",
       "    </tr>\n",
       "  </tbody>\n",
       "</table>\n",
       "</div>"
      ],
      "text/plain": [
       "          is_canceled\n",
       "children             \n",
       "0.0          0.371298\n",
       "1.0          0.322362\n",
       "2.0          0.421961\n",
       "3.0          0.223684\n",
       "10.0         1.000000"
      ]
     },
     "execution_count": 18,
     "metadata": {},
     "output_type": "execute_result"
    }
   ],
   "source": [
    "#Same as above but only shows the percentage of canceled reservations\n",
    "df.groupby('children')['is_canceled'].value_counts(normalize = True)[:,1].to_frame()"
   ]
  },
  {
   "cell_type": "markdown",
   "metadata": {},
   "source": [
    "The above table can be read like, for example, for reservations with 0 children, 37% were cancelled. \n",
    "\n",
    "These tables all focus on the number of children, but what may be a deciding factor is whether or not a reservation has children on it at all. So let's take a look at that."
   ]
  },
  {
   "cell_type": "code",
   "execution_count": 19,
   "metadata": {},
   "outputs": [],
   "source": [
    "#Create a boolean feature for whether or not a reservation has kids on it\n",
    "df['has_kids'] = df['children'].apply(lambda x: x > 0)"
   ]
  },
  {
   "cell_type": "code",
   "execution_count": 20,
   "metadata": {},
   "outputs": [
    {
     "data": {
      "text/html": [
       "<div>\n",
       "<style scoped>\n",
       "    .dataframe tbody tr th:only-of-type {\n",
       "        vertical-align: middle;\n",
       "    }\n",
       "\n",
       "    .dataframe tbody tr th {\n",
       "        vertical-align: top;\n",
       "    }\n",
       "\n",
       "    .dataframe thead th {\n",
       "        text-align: right;\n",
       "    }\n",
       "</style>\n",
       "<table border=\"1\" class=\"dataframe\">\n",
       "  <thead>\n",
       "    <tr style=\"text-align: right;\">\n",
       "      <th></th>\n",
       "      <th></th>\n",
       "      <th>is_canceled</th>\n",
       "    </tr>\n",
       "    <tr>\n",
       "      <th>has_kids</th>\n",
       "      <th>is_canceled</th>\n",
       "      <th></th>\n",
       "    </tr>\n",
       "  </thead>\n",
       "  <tbody>\n",
       "    <tr>\n",
       "      <td rowspan=\"2\" valign=\"top\">False</td>\n",
       "      <td>0</td>\n",
       "      <td>0.628702</td>\n",
       "    </tr>\n",
       "    <tr>\n",
       "      <td>1</td>\n",
       "      <td>0.371298</td>\n",
       "    </tr>\n",
       "    <tr>\n",
       "      <td rowspan=\"2\" valign=\"top\">True</td>\n",
       "      <td>0</td>\n",
       "      <td>0.636088</td>\n",
       "    </tr>\n",
       "    <tr>\n",
       "      <td>1</td>\n",
       "      <td>0.363912</td>\n",
       "    </tr>\n",
       "  </tbody>\n",
       "</table>\n",
       "</div>"
      ],
      "text/plain": [
       "                      is_canceled\n",
       "has_kids is_canceled             \n",
       "False    0               0.628702\n",
       "         1               0.371298\n",
       "True     0               0.636088\n",
       "         1               0.363912"
      ]
     },
     "execution_count": 20,
     "metadata": {},
     "output_type": "execute_result"
    }
   ],
   "source": [
    "df.groupby('has_kids')['is_canceled'].value_counts(normalize=True).to_frame()"
   ]
  },
  {
   "cell_type": "markdown",
   "metadata": {},
   "source": [
    "Below are two bar graphs visualizing the above table."
   ]
  },
  {
   "cell_type": "code",
   "execution_count": 21,
   "metadata": {},
   "outputs": [
    {
     "data": {
      "image/png": "[encoded data removed]",
      "text/plain": [
       "<Figure size 720x360 with 1 Axes>"
      ]
     },
     "metadata": {
      "needs_background": "light"
     },
     "output_type": "display_data"
    }
   ],
   "source": [
    "#Plot of COUNTS of canceled reservations based on whether or not a reservation has kids\n",
    "df.groupby('is_canceled')['has_kids'].value_counts()[1].plot(kind='bar', color=['purple','teal'], figsize=(10,5));\n",
    "plt.title(\"Canceled Reservations by has_kids\");\n",
    "plt.ylabel(\"Number of Cancelled Reservations\");"
   ]
  },
  {
   "cell_type": "code",
   "execution_count": 22,
   "metadata": {},
   "outputs": [
    {
     "data": {
      "text/html": [
       "<div>\n",
       "<style scoped>\n",
       "    .dataframe tbody tr th:only-of-type {\n",
       "        vertical-align: middle;\n",
       "    }\n",
       "\n",
       "    .dataframe tbody tr th {\n",
       "        vertical-align: top;\n",
       "    }\n",
       "\n",
       "    .dataframe thead th {\n",
       "        text-align: right;\n",
       "    }\n",
       "</style>\n",
       "<table border=\"1\" class=\"dataframe\">\n",
       "  <thead>\n",
       "    <tr style=\"text-align: right;\">\n",
       "      <th></th>\n",
       "      <th>has_kids</th>\n",
       "    </tr>\n",
       "    <tr>\n",
       "      <th>has_kids</th>\n",
       "      <th></th>\n",
       "    </tr>\n",
       "  </thead>\n",
       "  <tbody>\n",
       "    <tr>\n",
       "      <td>False</td>\n",
       "      <td>41073</td>\n",
       "    </tr>\n",
       "    <tr>\n",
       "      <td>True</td>\n",
       "      <td>3126</td>\n",
       "    </tr>\n",
       "  </tbody>\n",
       "</table>\n",
       "</div>"
      ],
      "text/plain": [
       "          has_kids\n",
       "has_kids          \n",
       "False        41073\n",
       "True          3126"
      ]
     },
     "execution_count": 22,
     "metadata": {},
     "output_type": "execute_result"
    }
   ],
   "source": [
    "df.groupby('is_canceled')['has_kids'].value_counts()[1].to_frame()"
   ]
  },
  {
   "cell_type": "code",
   "execution_count": 23,
   "metadata": {},
   "outputs": [
    {
     "data": {
      "image/png": "[encoded data removed]",
      "text/plain": [
       "<Figure size 720x360 with 1 Axes>"
      ]
     },
     "metadata": {
      "needs_background": "light"
     },
     "output_type": "display_data"
    }
   ],
   "source": [
    "#Plot of COUNTS of NOT canceled reservations based on whether or not a reservation has kids\n",
    "df.groupby('is_canceled')['has_kids'].value_counts()[0].plot(kind='bar', color=['purple','teal'], figsize=(10,5));\n",
    "plt.title(\"Not Cancelled Reservations by has_kids\");\n",
    "plt.ylabel(\"Number of Not Cancelled Reservations\");"
   ]
  },
  {
   "cell_type": "code",
   "execution_count": 24,
   "metadata": {},
   "outputs": [
    {
     "data": {
      "text/html": [
       "<div>\n",
       "<style scoped>\n",
       "    .dataframe tbody tr th:only-of-type {\n",
       "        vertical-align: middle;\n",
       "    }\n",
       "\n",
       "    .dataframe tbody tr th {\n",
       "        vertical-align: top;\n",
       "    }\n",
       "\n",
       "    .dataframe thead th {\n",
       "        text-align: right;\n",
       "    }\n",
       "</style>\n",
       "<table border=\"1\" class=\"dataframe\">\n",
       "  <thead>\n",
       "    <tr style=\"text-align: right;\">\n",
       "      <th></th>\n",
       "      <th>has_kids</th>\n",
       "    </tr>\n",
       "    <tr>\n",
       "      <th>has_kids</th>\n",
       "      <th></th>\n",
       "    </tr>\n",
       "  </thead>\n",
       "  <tbody>\n",
       "    <tr>\n",
       "      <td>False</td>\n",
       "      <td>69547</td>\n",
       "    </tr>\n",
       "    <tr>\n",
       "      <td>True</td>\n",
       "      <td>5464</td>\n",
       "    </tr>\n",
       "  </tbody>\n",
       "</table>\n",
       "</div>"
      ],
      "text/plain": [
       "          has_kids\n",
       "has_kids          \n",
       "False        69547\n",
       "True          5464"
      ]
     },
     "execution_count": 24,
     "metadata": {},
     "output_type": "execute_result"
    }
   ],
   "source": [
    "df.groupby('is_canceled')['has_kids'].value_counts()[0].to_frame()"
   ]
  },
  {
   "cell_type": "markdown",
   "metadata": {},
   "source": [
    "Based off of visualizing the data we have so far, it doesn't actually look like having kids has much of a noticeable affect on whether or not a reservation is canceled. However, we can solidify our confidence in such by formally doing a **permutation test**."
   ]
  },
  {
   "cell_type": "markdown",
   "metadata": {},
   "source": [
    "## Permutation Test\n",
    "\n",
    "A permutation test tells us whether or not two distributions are the same or not. We can use this to see if partitioning the dataset into 2 distributions (having kids and not having kids) will significantly affect whether or not a reservation is canceled, as the distribution for cancelled reservations could possibly change."
   ]
  },
  {
   "cell_type": "code",
   "execution_count": 25,
   "metadata": {},
   "outputs": [],
   "source": [
    "#Make a dataframe to use in the permutation test (it only has the columns we need)\n",
    "permute_df = df[['is_canceled','has_kids']]"
   ]
  },
  {
   "cell_type": "code",
   "execution_count": 26,
   "metadata": {},
   "outputs": [],
   "source": [
    "#Here, we're gonna do a permutation test to gather some simulated test statistics\n",
    "n_repetitions = 500\n",
    "\n",
    "differences = []\n",
    "for _ in range(n_repetitions):\n",
    "    \n",
    "    # shuffle the weights\n",
    "    # Could be the labels instead, either one. \n",
    "    shuffled_weights = (\n",
    "        permute_df['is_canceled']\n",
    "        .sample(replace=False, frac=1)\n",
    "        .reset_index(drop=True)\n",
    "    )\n",
    "    \n",
    "    # put them in a table\n",
    "    # So this is adding the shuffled column as an additional column in the original df\n",
    "    shuffled = (\n",
    "        permute_df\n",
    "        .assign(**{'Shuffled Is Canceled': shuffled_weights})\n",
    "    )\n",
    "    \n",
    "\n",
    "    #This is the difference between the shuffled weights means\n",
    "    difference = abs(shuffled.groupby('Shuffled Is Canceled')['has_kids'].value_counts()[1].diff().iloc[-1])\n",
    "    \n",
    "    # add it to the list of results\n",
    "    differences.append(difference)"
   ]
  },
  {
   "cell_type": "code",
   "execution_count": 27,
   "metadata": {},
   "outputs": [],
   "source": [
    "#Observed test statistic from the dataset\n",
    "observed = abs(permute_df.groupby('is_canceled')['has_kids'].value_counts()[1].diff().iloc[-1])"
   ]
  },
  {
   "cell_type": "code",
   "execution_count": 28,
   "metadata": {},
   "outputs": [
    {
     "data": {
      "image/png": "[encoded data removed]",
      "text/plain": [
       "<Figure size 432x288 with 1 Axes>"
      ]
     },
     "metadata": {
      "needs_background": "light"
     },
     "output_type": "display_data"
    }
   ],
   "source": [
    "title = 'Absolute Differences in Cancellations'\n",
    "pd.Series(differences).plot(kind='hist', density=True, title=title)\n",
    "plt.xlabel('Cancellations')\n",
    "plt.scatter(observed, 0, color='red', s=40);\n"
   ]
  },
  {
   "cell_type": "code",
   "execution_count": 29,
   "metadata": {},
   "outputs": [
    {
     "data": {
      "text/plain": [
       "0.016"
      ]
     },
     "execution_count": 29,
     "metadata": {},
     "output_type": "execute_result"
    }
   ],
   "source": [
    "#Pvalue\n",
    "np.count_nonzero(differences >= observed) / n_repetitions"
   ]
  },
  {
   "cell_type": "markdown",
   "metadata": {},
   "source": [
    "We now have evidence to show that the number of kids present in a reservation may not have much influence over whether or not it is canceled."
   ]
  },
  {
   "cell_type": "markdown",
   "metadata": {},
   "source": [
    "# Correlation, Pre-processing, and Model"
   ]
  },
  {
   "cell_type": "code",
   "execution_count": 30,
   "metadata": {},
   "outputs": [],
   "source": [
    "import seaborn as sns\n",
    "import warnings\n",
    "\n",
    "warnings.simplefilter(\"ignore\")\n",
    "hotel_clean = hotel_clean.sample(frac = 0.2, replace = True, random_state = 1)\n",
    "hotel_categorical = hotel_clean[['is_canceled','lead_time', 'adults', 'adr', 'children', 'babies']]\n",
    "# hotel_categorical = hotel_categorical.sample(frac=0.2, replace=True, random_state=1)"
   ]
  },
  {
   "cell_type": "markdown",
   "metadata": {},
   "source": [
    "## Correlation matrix of features "
   ]
  },
  {
   "cell_type": "code",
   "execution_count": 31,
   "metadata": {},
   "outputs": [
    {
     "data": {
      "text/plain": [
       "<seaborn.axisgrid.PairGrid at 0x2db670357c8>"
      ]
     },
     "execution_count": 31,
     "metadata": {},
     "output_type": "execute_result"
    },
    {
     "data": {
      "image/png": "[encoded data removed]",
      "text/plain": [
       "<Figure size 1141.1x1080 with 42 Axes>"
      ]
     },
     "metadata": {},
     "output_type": "display_data"
    }
   ],
   "source": [
    "sns.set(style=\"ticks\")\n",
    "sns.pairplot(hotel_categorical, hue = 'children')"
   ]
  },
  {
   "cell_type": "markdown",
   "metadata": {},
   "source": [
    "## Pearson Correlation Heatmap"
   ]
  },
  {
   "cell_type": "code",
   "execution_count": 32,
   "metadata": {},
   "outputs": [
    {
     "data": {
      "text/plain": [
       "<matplotlib.axes._subplots.AxesSubplot at 0x2db6c9d1d88>"
      ]
     },
     "execution_count": 32,
     "metadata": {},
     "output_type": "execute_result"
    },
    {
     "data": {
      "image/png": "[encoded data removed]",
      "text/plain": [
       "<Figure size 432x288 with 2 Axes>"
      ]
     },
     "metadata": {},
     "output_type": "display_data"
    }
   ],
   "source": [
    "cor = hotel_categorical.corr()\n",
    "sns.heatmap(cor, annot=True)"
   ]
  },
  {
   "cell_type": "code",
   "execution_count": 33,
   "metadata": {},
   "outputs": [
    {
     "data": {
      "text/html": [
       "<div>\n",
       "<style scoped>\n",
       "    .dataframe tbody tr th:only-of-type {\n",
       "        vertical-align: middle;\n",
       "    }\n",
       "\n",
       "    .dataframe tbody tr th {\n",
       "        vertical-align: top;\n",
       "    }\n",
       "\n",
       "    .dataframe thead th {\n",
       "        text-align: right;\n",
       "    }\n",
       "</style>\n",
       "<table border=\"1\" class=\"dataframe\">\n",
       "  <thead>\n",
       "    <tr style=\"text-align: right;\">\n",
       "      <th></th>\n",
       "      <th>is_canceled</th>\n",
       "      <th>lead_time</th>\n",
       "      <th>adults</th>\n",
       "      <th>adr</th>\n",
       "      <th>children</th>\n",
       "      <th>babies</th>\n",
       "    </tr>\n",
       "  </thead>\n",
       "  <tbody>\n",
       "    <tr>\n",
       "      <td>is_canceled</td>\n",
       "      <td>1.000000</td>\n",
       "      <td>0.288486</td>\n",
       "      <td>0.057406</td>\n",
       "      <td>0.042724</td>\n",
       "      <td>0.007126</td>\n",
       "      <td>-0.017170</td>\n",
       "    </tr>\n",
       "    <tr>\n",
       "      <td>lead_time</td>\n",
       "      <td>0.288486</td>\n",
       "      <td>1.000000</td>\n",
       "      <td>0.124706</td>\n",
       "      <td>-0.064843</td>\n",
       "      <td>-0.038275</td>\n",
       "      <td>-0.021998</td>\n",
       "    </tr>\n",
       "    <tr>\n",
       "      <td>adults</td>\n",
       "      <td>0.057406</td>\n",
       "      <td>0.124706</td>\n",
       "      <td>1.000000</td>\n",
       "      <td>0.276142</td>\n",
       "      <td>0.038526</td>\n",
       "      <td>0.022297</td>\n",
       "    </tr>\n",
       "    <tr>\n",
       "      <td>adr</td>\n",
       "      <td>0.042724</td>\n",
       "      <td>-0.064843</td>\n",
       "      <td>0.276142</td>\n",
       "      <td>1.000000</td>\n",
       "      <td>0.342121</td>\n",
       "      <td>0.043118</td>\n",
       "    </tr>\n",
       "    <tr>\n",
       "      <td>children</td>\n",
       "      <td>0.007126</td>\n",
       "      <td>-0.038275</td>\n",
       "      <td>0.038526</td>\n",
       "      <td>0.342121</td>\n",
       "      <td>1.000000</td>\n",
       "      <td>0.033273</td>\n",
       "    </tr>\n",
       "    <tr>\n",
       "      <td>babies</td>\n",
       "      <td>-0.017170</td>\n",
       "      <td>-0.021998</td>\n",
       "      <td>0.022297</td>\n",
       "      <td>0.043118</td>\n",
       "      <td>0.033273</td>\n",
       "      <td>1.000000</td>\n",
       "    </tr>\n",
       "  </tbody>\n",
       "</table>\n",
       "</div>"
      ],
      "text/plain": [
       "             is_canceled  lead_time    adults       adr  children    babies\n",
       "is_canceled     1.000000   0.288486  0.057406  0.042724  0.007126 -0.017170\n",
       "lead_time       0.288486   1.000000  0.124706 -0.064843 -0.038275 -0.021998\n",
       "adults          0.057406   0.124706  1.000000  0.276142  0.038526  0.022297\n",
       "adr             0.042724  -0.064843  0.276142  1.000000  0.342121  0.043118\n",
       "children        0.007126  -0.038275  0.038526  0.342121  1.000000  0.033273\n",
       "babies         -0.017170  -0.021998  0.022297  0.043118  0.033273  1.000000"
      ]
     },
     "execution_count": 33,
     "metadata": {},
     "output_type": "execute_result"
    }
   ],
   "source": [
    "cor"
   ]
  },
  {
   "cell_type": "code",
   "execution_count": 34,
   "metadata": {},
   "outputs": [
    {
     "data": {
      "text/html": [
       "<div>\n",
       "<style scoped>\n",
       "    .dataframe tbody tr th:only-of-type {\n",
       "        vertical-align: middle;\n",
       "    }\n",
       "\n",
       "    .dataframe tbody tr th {\n",
       "        vertical-align: top;\n",
       "    }\n",
       "\n",
       "    .dataframe thead th {\n",
       "        text-align: right;\n",
       "    }\n",
       "</style>\n",
       "<table border=\"1\" class=\"dataframe\">\n",
       "  <thead>\n",
       "    <tr style=\"text-align: right;\">\n",
       "      <th></th>\n",
       "      <th>is_canceled</th>\n",
       "      <th>lead_time</th>\n",
       "      <th>adults</th>\n",
       "      <th>adr</th>\n",
       "      <th>children</th>\n",
       "      <th>babies</th>\n",
       "    </tr>\n",
       "  </thead>\n",
       "  <tbody>\n",
       "    <tr>\n",
       "      <td>98634</td>\n",
       "      <td>0</td>\n",
       "      <td>256</td>\n",
       "      <td>2</td>\n",
       "      <td>95.40</td>\n",
       "      <td>0.0</td>\n",
       "      <td>0</td>\n",
       "    </tr>\n",
       "    <tr>\n",
       "      <td>77759</td>\n",
       "      <td>0</td>\n",
       "      <td>17</td>\n",
       "      <td>1</td>\n",
       "      <td>0.00</td>\n",
       "      <td>0.0</td>\n",
       "      <td>0</td>\n",
       "    </tr>\n",
       "    <tr>\n",
       "      <td>5198</td>\n",
       "      <td>0</td>\n",
       "      <td>206</td>\n",
       "      <td>2</td>\n",
       "      <td>52.98</td>\n",
       "      <td>0.0</td>\n",
       "      <td>0</td>\n",
       "    </tr>\n",
       "    <tr>\n",
       "      <td>98141</td>\n",
       "      <td>0</td>\n",
       "      <td>21</td>\n",
       "      <td>2</td>\n",
       "      <td>170.00</td>\n",
       "      <td>0.0</td>\n",
       "      <td>0</td>\n",
       "    </tr>\n",
       "    <tr>\n",
       "      <td>50082</td>\n",
       "      <td>1</td>\n",
       "      <td>40</td>\n",
       "      <td>3</td>\n",
       "      <td>135.76</td>\n",
       "      <td>0.0</td>\n",
       "      <td>0</td>\n",
       "    </tr>\n",
       "  </tbody>\n",
       "</table>\n",
       "</div>"
      ],
      "text/plain": [
       "       is_canceled  lead_time  adults     adr  children  babies\n",
       "98634            0        256       2   95.40       0.0       0\n",
       "77759            0         17       1    0.00       0.0       0\n",
       "5198             0        206       2   52.98       0.0       0\n",
       "98141            0         21       2  170.00       0.0       0\n",
       "50082            1         40       3  135.76       0.0       0"
      ]
     },
     "execution_count": 34,
     "metadata": {},
     "output_type": "execute_result"
    }
   ],
   "source": [
    "hotel_categorical.head()"
   ]
  },
  {
   "cell_type": "code",
   "execution_count": 35,
   "metadata": {},
   "outputs": [],
   "source": [
    "total_cancelations = hotel_categorical[\"is_canceled\"].sum()\n"
   ]
  },
  {
   "cell_type": "code",
   "execution_count": 36,
   "metadata": {},
   "outputs": [
    {
     "data": {
      "text/plain": [
       "lead_time                         0.288486\n",
       "total_of_special_requests         0.232724\n",
       "required_car_parking_spaces       0.198776\n",
       "booking_changes                   0.136437\n",
       "previous_cancellations            0.112911\n",
       "company                           0.082657\n",
       "is_repeated_guest                 0.081908\n",
       "adults                            0.057406\n",
       "previous_bookings_not_canceled    0.054054\n",
       "days_in_waiting_list              0.053176\n",
       "agent                             0.047131\n",
       "adr                               0.042724\n",
       "stays_in_week_nights              0.028127\n",
       "babies                            0.017170\n",
       "arrival_date_week_number          0.013753\n",
       "stays_in_weekend_nights           0.009557\n",
       "children                          0.007126\n",
       "arrival_date_day_of_month         0.006672\n",
       "arrival_date_year                 0.003491\n",
       "has_kids                          0.001096\n",
       "Name: is_canceled, dtype: float64"
      ]
     },
     "execution_count": 36,
     "metadata": {},
     "output_type": "execute_result"
    }
   ],
   "source": [
    "cancel_corr = hotel_clean.corr()[\"is_canceled\"]\n",
    "cancel_corr.abs().sort_values(ascending=False)[1:]"
   ]
  },
  {
   "cell_type": "markdown",
   "metadata": {},
   "source": [
    "## Preprocessing. Separation of numerical and categorical columns."
   ]
  },
  {
   "cell_type": "code",
   "execution_count": 37,
   "metadata": {},
   "outputs": [],
   "source": [
    "# We preprocessed the columns after splitting the data into\n",
    "# 1. Numerical and Categorical Data <br>\n",
    "# 2. X,y splits for preprocessing the training and test data\n",
    "\n",
    "from sklearn.impute import SimpleImputer\n",
    "from sklearn.pipeline import Pipeline\n",
    "from sklearn.preprocessing import OneHotEncoder\n",
    "from sklearn.compose import ColumnTransformer\n",
    "\n",
    "numerical = [\"lead_time\",\"arrival_date_week_number\",\"arrival_date_day_of_month\",\n",
    "                \"stays_in_weekend_nights\",\"stays_in_week_nights\",\"adults\",\"children\",\n",
    "                \"babies\",\"is_repeated_guest\", \"previous_cancellations\",\n",
    "                \"previous_bookings_not_canceled\",\"agent\",\"company\",\n",
    "                \"required_car_parking_spaces\", \"total_of_special_requests\", \"adr\"]\n",
    "\n",
    "categorical = [\"hotel\",\"arrival_date_month\",\"meal\",\"market_segment\",\n",
    "                \"distribution_channel\",\"reserved_room_type\",\"deposit_type\",\"customer_type\"]\n",
    "\n",
    "features = numerical + categorical \n",
    "#test data and training data\n",
    "X = hotel_clean.drop([\"is_canceled\"], axis=1)[features]\n",
    "y = hotel_clean[\"is_canceled\"]\n",
    "\n",
    "numerical_transformer = SimpleImputer(strategy=\"constant\")\n",
    "\n",
    "categorical_transformer = Pipeline(steps=[\n",
    "    (\"imputer\", SimpleImputer(strategy=\"constant\", fill_value=0)),\n",
    "    (\"onehot\", OneHotEncoder(handle_unknown='ignore'))])\n",
    "\n",
    "preprocessor = ColumnTransformer(transformers=[(\"numerical\", numerical_transformer, numerical),\n",
    "                                               (\"categorical\", categorical_transformer, numerical)])"
   ]
  },
  {
   "cell_type": "code",
   "execution_count": 38,
   "metadata": {},
   "outputs": [
    {
     "name": "stdout",
     "output_type": "stream",
     "text": [
      "0.8114908785908995\n"
     ]
    }
   ],
   "source": [
    "from sklearn.linear_model import LogisticRegression\n",
    "from sklearn.model_selection import train_test_split\n",
    "from sklearn.pipeline import Pipeline\n",
    "from sklearn.metrics import accuracy_score\n",
    "X_train, X_test, y_train, y_test = train_test_split(X, y, test_size=0.2, random_state=1)\n",
    "model = LogisticRegression(n_jobs=-1)\n",
    "pl = Pipeline(steps=[('preprocessor', preprocessor),\n",
    "                              ('model', model)])\n",
    "\n",
    "\n",
    "pl.fit(X_train, y_train)\n",
    "preds = pl.predict(X_test)\n",
    "score = accuracy_score(y_test, preds)\n",
    "print(score)"
   ]
  },
  {
   "cell_type": "markdown",
   "metadata": {},
   "source": [
    "# Ethics & Privacy\n",
    "\n",
    "When thinking about the ethics and privacy involved with our research question we carefully examined the dataset we were using. The main concern would be ensuring the privacy of guests staying at hotels ensuring their identity and information were safe.  The data set we used was taken from Kaggle and created by Jesse Mostipak who created the data set for anyone looking to practice data analysis and create predictive models. In terms of privacy concerns the data set is focused primarily on booking information taken from hotels which doesn’t contain any personal information from any guests who stayed at these locations. While the data contains numbers related to how many adults, children, or babies the guests had when staying at the resort, it was stated that all personally identifying information had already been removed from the dataset. When examining the dataset for potential biases it was noted that the set took booking information between a city and resort hotel. This could explain certain trends seen within the data such as what time of year customers were most likely to spend at either one of these destinations. Perhaps the summer time brought in more customers for the resort hotel while the customer hotel had more guests during the fall due to conferences or events being held around that time. \n",
    "\n",
    "When working with this data set there are still some factors unknown about how exactly the data was collected. While we know the information came from a city or resort hotel the information about where exactly these hotels were located wasn’t known and could affect interpretations about the data. The limited data about the guests also makes it difficult to examine patterns about things such as which countries might travel more or highlight the different hotel marketing systems within different countries. Working with this data sample with limited information about things such as this makes it difficult to learn the specifics and draw more precise conclusions on the overall population of hotels.\n",
    "\n",
    "After analyzing the data and looking for potential biases the number of children and babies could be factors to consider. However, these numbers were the lowest in the model which suggests that the bias may not be sigificant, but is still worth noting. "
   ]
  },
  {
   "cell_type": "markdown",
   "metadata": {},
   "source": [
    "# Conclusion & Discussion"
   ]
  },
  {
   "cell_type": "markdown",
   "metadata": {},
   "source": [
    "We originally expected the number of children in a reservation to highly influence whether or not a reservation would be cancelled. By grouping the data and obtaining the relevant distributions, we saw that both cancelled and not cancelled reservations had nearly the same percentage of reservations with children. This was evidence of our hypothesis being incorrect. We performed a permutation test to ensure that was the case. Additionally, we created a classification model and obtained the coefficients for each feature. These all displayed results that show that we were wrong in our original hypothesis, and the number of children does not significantly impact whether or not a reservation would be canceled\n",
    "\n",
    "\n",
    "After looking at different features of the data set and extracting information based on various EDA's we finally came to a point where we looked at the most important features based on the correlation matrix and pearson correlation heat maps to find which essential features should be considered in the model. For the choice of model for classification, we chose to stick with logistic regression, which is a vetted model to use for binary predictions (i.e canceled or not). Other models we could have used are Random Forest or SVM's although after doing some research across features and effectiveness across models with the addition of flexibility for hyper parameter tuning Logistic Regression made the most sense. To be able to do the regression we had to first preprocess the data which included the splitting of numerical and categorical data to then impute and encode the data for appropriate functioning of the pipeline and model. Pipelines - as we learnt about in class allow a bunch of preprocessing and modelling tools to be consolidated into one fit and transform sequence.\n",
    "\n",
    "The limitations of our analysis is restricted to the dataset used. Building off the work done within this project some future steps to take would be to identify potential factors that could help in the overall analysis of a customer's cancellation. Within the dataset there was no room for free response or explanations as to why a customer cancelled their reservation. A simple survey asking why the customer cancelled their reservation with general options such as personal issues, costs, etc could help hotel’s understand what they can improve on. Other potential factors that could offer potential insight would be looking at the previous number of reservations a customer had with the same hotel and perhaps an in depth look at other hotels within the area, location, restaurants, and tourist attractions could help in providing hotel’s a comprehensive analysis as to what they could improve on.  \n",
    "\n"
   ]
  },
  {
   "cell_type": "markdown",
   "metadata": {},
   "source": [
    "# Team Contributions"
   ]
  },
  {
   "cell_type": "markdown",
   "metadata": {},
   "source": [
    "**Neel Shah**\n",
    " - Along with one of my teammates I worked on the initial part of the writeup - background research and dataset discoveries. Additionally, I worked on the preprocessing and model creation for the final list of features created after the EDA performed by my other teammates.\n",
    "\n",
    "**Alex Pham**\n",
    "- Handled the EDA in regards to the number of children. Created distributions and performed a permutation test to discover whether or not the number of children had an influence over whether or not a hotel reservation would be canceled.\n",
    "\n",
    "**Pratyush Juneja**\n",
    " - Worked on initial EDA based on finding how many values were missing, how many of those value could be reused or saved if they had important information in the other columns and wrote a basic script to clean the data. Helped out in discussion and planning of the model afterwards.\n",
    " \n",
    "\n",
    "**Ethan Khong**\n",
    " - Was responsible for compiling overall notebook with each member's work. Conducted background research on related projects as well as discussed ethics and privacy considerations with regards to data set and overall project. Examined some correlations amongst different factors relating to cancellations within hotel booking dataset. "
   ]
  },
  {
   "cell_type": "code",
   "execution_count": null,
   "metadata": {},
   "outputs": [],
   "source": []
  }
 ],
 "metadata": {
  "kernelspec": {
   "display_name": "Python 3",
   "language": "python",
   "name": "python3"
  },
  "language_info": {
   "codemirror_mode": {
    "name": "ipython",
    "version": 3
   },
   "file_extension": ".py",
   "mimetype": "text/x-python",
   "name": "python",
   "nbconvert_exporter": "python",
   "pygments_lexer": "ipython3",
   "version": "3.7.0"
  }
 },
 "nbformat": 4,
 "nbformat_minor": 2
}
