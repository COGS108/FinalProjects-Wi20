{
 "cells": [
  {
   "cell_type": "markdown",
   "metadata": {},
   "source": [
    "# COGS 108 - Final Project"
   ]
  },
  {
   "cell_type": "markdown",
   "metadata": {},
   "source": [
    "# Overview"
   ]
  },
  {
   "cell_type": "markdown",
   "metadata": {},
   "source": [
    "Our project is focused on finding the relationship between income level and diabetes rate in California. We are attempting to see if low income correlates to high diabetes rate in California. We will look into how multiple factors, such as poverty, in-take nutriention, types of in-take food and number of hosipitals, relate to income level and affect diabetes rate in California."
   ]
  },
  {
   "cell_type": "markdown",
   "metadata": {},
   "source": [
    "# Names\n",
    "\n",
    "- Baojun Tang\n",
    "- Shuyang Miao\n",
    "- Yijia He\n",
    "- Juncong Shi"
   ]
  },
  {
   "cell_type": "markdown",
   "metadata": {},
   "source": [
    "# Research Question"
   ]
  },
  {
   "cell_type": "markdown",
   "metadata": {},
   "source": [
    "Is there a relationship between the diabetes rate of Californians and their income level?"
   ]
  },
  {
   "cell_type": "markdown",
   "metadata": {},
   "source": [
    "## Background and Prior Work"
   ]
  },
  {
   "cell_type": "markdown",
   "metadata": {},
   "source": [
    "\n",
    "\n",
    "\n",
    "  Diabetes is a serious chronic disease as a result of insufficient production of insulin from the pancreas. According to statistics, 30.3 million people have been diagnosed with diabetes in the United States, which encompasses about 9.4% of the total population. It is the seventh leading cause of death and studies have shown that it has been increasingly prevalent in counties of middle to low income. As a group, we are aware of the rising prevalence rate of diabetes in the United States. However, due to the vast amount of data available for use, we have decided to focus our project only on the statistics of diabetes in California. \n",
    "\n",
    "  In William Aiken’s article “Diabetes, Obesity, and Income”, he explored the potential relationship between diabetes rate and income level across each county in New York State. In his article, the conclusion expressed a strong relationship between these two factors. In some counties with higher income levels, the residents tend to have lower diabetes rates and vice versa. We were inspired by Aiken’s research in New York state, and we want to explore how income and diabetes are related in California since California and New York are the largest states on the west coast and east coast respectively. The residence in these two states are different in their lifestyle and their diet, so there might be a completely different conclusion concerning the relationship between diabetes and income if our focus is in California.\n",
    "\n",
    "  Another article “Learning to Address Health Inequality in the United States with a Bayesian Decision NetLearning to Address Health Inequality in the United States with a Bayesian Decision Network” attempted to decrease the longevity gap and health inequality by analyzing a county-level data source in the factors of healthcare, socio-economic, behavior, education, and demographic features. They built a web-application to make quantitative estimates and potential policy decisions for decreasing health inequality based on the factors of population diversity, poverty, preventive quality, smoking, education, exercise and obesity. \n",
    "\t\t\t\n",
    "References (include links):\n",
    "- 1)William, Aiken: Diabetes, Obesity and Income at NYC Data Science Academy, Nov 18, 2015 https://nycdatascience.com/blog/student-works/diabetes-obesity-and-income/\n",
    "\n",
    "- 2)Tavpritesh Sethi,Anant Mittal,Shubham Maheshwari, Samarth Chugh: Learning to Address Health Inequality in the United States with a Bayesian Decision Network , \n",
    "https://www.google.com/url?client=internal-element-cse&cx=016314354884912110518:gwmynp16xuu&q=https://www.aaai.org/ojs/index.php/AAAI/article/view/3849/3727&sa=U&ved=2ahUKEwjpgpyeqa_nAhUyIjQIHTuxD5oQFjABegQIBhAB&usg=AOvVaw0ukQNqwBZT8-XagjAp-xOe"
   ]
  },
  {
   "cell_type": "markdown",
   "metadata": {},
   "source": [
    "# Hypothesis\n"
   ]
  },
  {
   "cell_type": "markdown",
   "metadata": {},
   "source": [
    "Californians at higher income levels are less likely to get diabetes than those who are at lower income levels. This is due to differences in eating habits and unequal allocation of medical resources\n"
   ]
  },
  {
   "cell_type": "markdown",
   "metadata": {},
   "source": [
    "# Data"
   ]
  },
  {
   "cell_type": "markdown",
   "metadata": {},
   "source": [
    "\n",
    "- Dataset Name: Income per capita across each county in California\n",
    "- Link to the dataset: https://en.wikipedia.org/wiki/List_of_California_locations_by_income\n",
    "- Number of observations: 58\n",
    "\n",
    "This dataset is from Wikipedia, that is available for the public use. The dataset includes a total of 3 variables with each containing 58 observations. Variables are the county in California, income per capita in each county, the population of each county. This dataset yields information about income per capita in each county in California. Per capita income measures the average income earned per person in a given area in a specified year. This particular dataset presents the estimated average per capita income of each county in California based on numbers collected from 2010 to 2014. We plan to use this dataset to represent the income level of each county in California.\n",
    "\n",
    "\n",
    "\n",
    "\n",
    "\n",
    "- Dataset Name: Diabetes Atlas County Data\n",
    "- Link to the dataset: https://gis.cdc.gov/grasp/diabetes/DiabetesAtlas.html#\n",
    "- Number of observations: 59\n",
    "\n",
    "This dataset is from the Centers for Disease Control and Prevention of the United States, that is available for the public use. The dataset includes a total of 6 variables with each containing 59 observations. Variables are the county, state, CountyFIPS, percentage, lower limit. This dataset yields information about the percentage of diabetes in each county in California in 2016. We appended the number of hospitals in each county in this dataset for future use. We plan to use this dataset to represent the diabetes rate of each county in California.\n",
    "\n",
    "\n",
    "\n",
    "\n",
    "\n",
    "- Dataset Name: Average daily intake of nutrients by food source and demographic characteristics\n",
    "- Link to the dataset: https://www.ers.usda.gov/data-products/food-consumption-and-nutrient-intakes/\n",
    "- Number of observations: 2\n",
    "\n",
    "This dataset is from United States Department of Agriculture Economic Research Service (USDA ERS), that is available for the public use. After our modification of the dataset, it includes a total of 9 variables with each containing 2 observations. This dataset yields information about average daily individual nutrient intakes for low-income and high-income groups in California base on numbers collected from 2007 to 2010.\n",
    "\n",
    "\n",
    "\n",
    "\n",
    "\n",
    "- Dataset Name: Average daily intake of food by food source and demographic characteristics\n",
    "- Link to the dataset: https://www.ers.usda.gov/data-products/food-consumption-and-nutrient-intakes/\n",
    "- Number of observations: 2\n",
    "\n",
    "This dataset is from United States Department of Agriculture Economic Research Service (USDA ERS), that is available for the public use. After our modification of the dataset, it includes a total of 9 variables with each containing 2 observations. This dataset yields information about average daily individual food intakes for low-income and high-income groups in California base on numbers collected from 2007 to 2010..\n",
    "\n",
    "\n",
    "\n",
    "\n",
    "\n",
    "- Dataset Name: USDA Food Environment Atlas\n",
    "- Link to the dataset: https://www.ers.usda.gov/data-products/food-environment-atlas/data-access-and-documentation-downloads/\n",
    "- Number of observations: 58\n",
    "\n",
    "This dataset is from United States Department of Agriculture Economic Research Service (USDA ERS), that is available for the public use. After our modification, the dataset includes a total of 8 variables with each containing 58 observations. However, in this dataset, we only extracted the variable of poverty rate in each county in California. This dataset is based on numbers collected in the year of 2018. We plan to use this dataset to represent the income level of each county in California.\n",
    "\n",
    "\n",
    "\n",
    "\n",
    "\n",
    "- Dataset Name: List of hospitals in California\n",
    "- Link to the dataset: https://en.wikipedia.org/wiki/List_of_hospitals_in_California#Yuba_County\n",
    "- Number of observations: 58\n",
    "\n",
    "This particular wikipedia page keeps a record of all hospitals in California. We came up with our own dataset by mannually counting the number of hospitals in each county. We then combined this dataset with the diabetes rate by county dataset for convenience. We attempt to use this dataset to address the general allocation of medical recourse in California. This dataset is based on numbers collected in the year of 2018. We plan to use this dataset to represent the allocation of medical resources throughout counties in California."
   ]
  },
  {
   "cell_type": "markdown",
   "metadata": {},
   "source": [
    "# Setup"
   ]
  },
  {
   "cell_type": "code",
   "execution_count": 1,
   "metadata": {},
   "outputs": [],
   "source": [
    "import numpy as np\n",
    "import pandas as pd\n",
    "import matplotlib.pyplot as plt\n",
    "plt.rcParams.update({'font.size': 18})\n",
    "\n",
    "import seaborn as sns\n",
    "sns.set()\n",
    "sns.set_context('talk')\n",
    "\n",
    "import patsy\n",
    "import statsmodels.api as sm\n",
    "import scipy.stats as stats\n",
    "from scipy.stats import ttest_ind, chisquare, normaltest\n",
    "\n",
    "import pandas as pd\n",
    "import requests\n",
    "import bs4\n",
    "from bs4 import BeautifulSoup"
   ]
  },
  {
   "cell_type": "markdown",
   "metadata": {},
   "source": [
    "### Loading The Datasets"
   ]
  },
  {
   "cell_type": "code",
   "execution_count": 2,
   "metadata": {},
   "outputs": [],
   "source": [
    "#Scraping target wikipedia page\n",
    "wiki = \"https://en.wikipedia.org/wiki/List_of_California_locations_by_income\"\n",
    "page = requests.get(wiki)\n",
    "soup = BeautifulSoup(page.content, 'html.parser')"
   ]
  },
  {
   "cell_type": "code",
   "execution_count": 3,
   "metadata": {},
   "outputs": [],
   "source": [
    "right_table = soup.find(\"table\", class_ = \"wikitable sortable\")"
   ]
  },
  {
   "cell_type": "code",
   "execution_count": 4,
   "metadata": {},
   "outputs": [],
   "source": [
    "#Codes from A4\n",
    "#Finding and extracting columns in the target table from the website \n",
    "list_a, list_b, list_c = [],[],[]\n",
    "for row in right_table.findAll('tr'):\n",
    "    \n",
    "    cells = row.findAll('td')\n",
    "    \n",
    "    #Skip rows that are not 6 columns long \n",
    "    if len(cells) != 6:\n",
    "        continue\n",
    "\n",
    "    #Catch columns of interest\n",
    "    try:\n",
    "        list_a.append(cells[0].find('a').text)\n",
    "        list_b.append(cells[1].find(text=True))\n",
    "        list_c.append(cells[3].find(text=True))\n",
    "    except:\n",
    "        break"
   ]
  },
  {
   "cell_type": "code",
   "execution_count": 5,
   "metadata": {},
   "outputs": [
    {
     "data": {
      "text/html": [
       "<div>\n",
       "<style scoped>\n",
       "    .dataframe tbody tr th:only-of-type {\n",
       "        vertical-align: middle;\n",
       "    }\n",
       "\n",
       "    .dataframe tbody tr th {\n",
       "        vertical-align: top;\n",
       "    }\n",
       "\n",
       "    .dataframe thead th {\n",
       "        text-align: right;\n",
       "    }\n",
       "</style>\n",
       "<table border=\"1\" class=\"dataframe\">\n",
       "  <thead>\n",
       "    <tr style=\"text-align: right;\">\n",
       "      <th></th>\n",
       "      <th>County</th>\n",
       "      <th>Per_capita_income</th>\n",
       "      <th>Population</th>\n",
       "    </tr>\n",
       "  </thead>\n",
       "  <tbody>\n",
       "    <tr>\n",
       "      <th>0</th>\n",
       "      <td>Alameda</td>\n",
       "      <td>$36,439</td>\n",
       "      <td>1,559,308</td>\n",
       "    </tr>\n",
       "    <tr>\n",
       "      <th>1</th>\n",
       "      <td>Alpine</td>\n",
       "      <td>$24,375</td>\n",
       "      <td>1,202</td>\n",
       "    </tr>\n",
       "    <tr>\n",
       "      <th>2</th>\n",
       "      <td>Amador</td>\n",
       "      <td>$27,373</td>\n",
       "      <td>37,159</td>\n",
       "    </tr>\n",
       "    <tr>\n",
       "      <th>3</th>\n",
       "      <td>Butte</td>\n",
       "      <td>$24,430</td>\n",
       "      <td>221,578</td>\n",
       "    </tr>\n",
       "    <tr>\n",
       "      <th>4</th>\n",
       "      <td>Calaveras</td>\n",
       "      <td>$29,296</td>\n",
       "      <td>44,921</td>\n",
       "    </tr>\n",
       "  </tbody>\n",
       "</table>\n",
       "</div>"
      ],
      "text/plain": [
       "      County Per_capita_income Population\n",
       "0    Alameda           $36,439  1,559,308\n",
       "1     Alpine           $24,375      1,202\n",
       "2     Amador           $27,373     37,159\n",
       "3      Butte           $24,430    221,578\n",
       "4  Calaveras           $29,296     44,921"
      ]
     },
     "execution_count": 5,
     "metadata": {},
     "output_type": "execute_result"
    }
   ],
   "source": [
    "#Putting the extracted information into a pandas dataframe\n",
    "df_income = pd.DataFrame(list_a, columns = [\"County\"])\n",
    "df_income[\"Per_capita_income\"] = list_c\n",
    "df_income[\"Population\"] = list_b\n",
    "df_income.head()"
   ]
  },
  {
   "cell_type": "markdown",
   "metadata": {},
   "source": [
    "This is the data from wikipedia listing each county's income per capita and their population. This data would aid us in the analyzing of the relationship between income and poverty, which is the first part of our assumption. The variable we care about reside in the second column of this table, which is the income per capita."
   ]
  },
  {
   "cell_type": "code",
   "execution_count": 6,
   "metadata": {},
   "outputs": [
    {
     "data": {
      "text/plain": [
       "(58, 3)"
      ]
     },
     "execution_count": 6,
     "metadata": {},
     "output_type": "execute_result"
    }
   ],
   "source": [
    "df_income.shape"
   ]
  },
  {
   "cell_type": "code",
   "execution_count": 7,
   "metadata": {},
   "outputs": [
    {
     "data": {
      "text/html": [
       "<div>\n",
       "<style scoped>\n",
       "    .dataframe tbody tr th:only-of-type {\n",
       "        vertical-align: middle;\n",
       "    }\n",
       "\n",
       "    .dataframe tbody tr th {\n",
       "        vertical-align: top;\n",
       "    }\n",
       "\n",
       "    .dataframe thead th {\n",
       "        text-align: right;\n",
       "    }\n",
       "</style>\n",
       "<table border=\"1\" class=\"dataframe\">\n",
       "  <thead>\n",
       "    <tr style=\"text-align: right;\">\n",
       "      <th></th>\n",
       "      <th>County</th>\n",
       "      <th>State</th>\n",
       "      <th>CountyFIPS</th>\n",
       "      <th>Percentage</th>\n",
       "      <th>Lower Limit</th>\n",
       "      <th>Number of hospitals</th>\n",
       "    </tr>\n",
       "  </thead>\n",
       "  <tbody>\n",
       "    <tr>\n",
       "      <th>0</th>\n",
       "      <td>Alameda County</td>\n",
       "      <td>California</td>\n",
       "      <td>6001.0</td>\n",
       "      <td>6.7</td>\n",
       "      <td>5.6</td>\n",
       "      <td>21.0</td>\n",
       "    </tr>\n",
       "    <tr>\n",
       "      <th>1</th>\n",
       "      <td>Alpine County</td>\n",
       "      <td>California</td>\n",
       "      <td>6003.0</td>\n",
       "      <td>4.6</td>\n",
       "      <td>0.9</td>\n",
       "      <td>1.0</td>\n",
       "    </tr>\n",
       "    <tr>\n",
       "      <th>2</th>\n",
       "      <td>Amador County</td>\n",
       "      <td>California</td>\n",
       "      <td>6005.0</td>\n",
       "      <td>10.4</td>\n",
       "      <td>5.3</td>\n",
       "      <td>1.0</td>\n",
       "    </tr>\n",
       "    <tr>\n",
       "      <th>3</th>\n",
       "      <td>Butte County</td>\n",
       "      <td>California</td>\n",
       "      <td>6007.0</td>\n",
       "      <td>8.7</td>\n",
       "      <td>6.2</td>\n",
       "      <td>5.0</td>\n",
       "    </tr>\n",
       "    <tr>\n",
       "      <th>4</th>\n",
       "      <td>Calaveras County</td>\n",
       "      <td>California</td>\n",
       "      <td>6009.0</td>\n",
       "      <td>8.3</td>\n",
       "      <td>3.1</td>\n",
       "      <td>1.0</td>\n",
       "    </tr>\n",
       "  </tbody>\n",
       "</table>\n",
       "</div>"
      ],
      "text/plain": [
       "             County       State  CountyFIPS  Percentage  Lower Limit  \\\n",
       "0    Alameda County  California      6001.0         6.7          5.6   \n",
       "1     Alpine County  California      6003.0         4.6          0.9   \n",
       "2     Amador County  California      6005.0        10.4          5.3   \n",
       "3      Butte County  California      6007.0         8.7          6.2   \n",
       "4  Calaveras County  California      6009.0         8.3          3.1   \n",
       "\n",
       "   Number of hospitals  \n",
       "0                 21.0  \n",
       "1                  1.0  \n",
       "2                  1.0  \n",
       "3                  5.0  \n",
       "4                  1.0  "
      ]
     },
     "execution_count": 7,
     "metadata": {},
     "output_type": "execute_result"
    }
   ],
   "source": [
    "#Import csv\n",
    "df_diabetes = pd.read_csv('DiabetesAtlasCountyData.csv')\n",
    "df_diabetes.head()"
   ]
  },
  {
   "cell_type": "markdown",
   "metadata": {},
   "source": [
    "This table is the diabete rate for each county in California. This table have six columns, but we are mainly interested in last three columns.The **countyFIPS**(Federal Information Processing Standard) serves as an identifer for each county, and could be used as an ID across several tables. The **percentage** indicate the percentage of population that have diabeste across the county, and the lower limit indicate (). The last column indicate the **number of hospitals** in each county."
   ]
  },
  {
   "cell_type": "code",
   "execution_count": 8,
   "metadata": {},
   "outputs": [
    {
     "data": {
      "text/plain": [
       "(59, 6)"
      ]
     },
     "execution_count": 8,
     "metadata": {},
     "output_type": "execute_result"
    }
   ],
   "source": [
    "df_diabetes.shape"
   ]
  },
  {
   "cell_type": "code",
   "execution_count": 9,
   "metadata": {},
   "outputs": [
    {
     "data": {
      "text/html": [
       "<div>\n",
       "<style scoped>\n",
       "    .dataframe tbody tr th:only-of-type {\n",
       "        vertical-align: middle;\n",
       "    }\n",
       "\n",
       "    .dataframe tbody tr th {\n",
       "        vertical-align: top;\n",
       "    }\n",
       "\n",
       "    .dataframe thead th {\n",
       "        text-align: right;\n",
       "    }\n",
       "</style>\n",
       "<table border=\"1\" class=\"dataframe\">\n",
       "  <thead>\n",
       "    <tr style=\"text-align: right;\">\n",
       "      <th></th>\n",
       "      <th>Income groups</th>\n",
       "      <th>Energy(calories)</th>\n",
       "      <th>Calcium(mg)</th>\n",
       "      <th>Cholesterol(mg)</th>\n",
       "      <th>Fiber(gm)</th>\n",
       "      <th>Iron(mg)</th>\n",
       "      <th>Saturated _fat(gm)</th>\n",
       "      <th>Total_fat(gm)</th>\n",
       "      <th>Sodium(mg)</th>\n",
       "    </tr>\n",
       "  </thead>\n",
       "  <tbody>\n",
       "    <tr>\n",
       "      <th>0</th>\n",
       "      <td>Lower_income</td>\n",
       "      <td>1969.64</td>\n",
       "      <td>933.10</td>\n",
       "      <td>258.14</td>\n",
       "      <td>14.77</td>\n",
       "      <td>14.45</td>\n",
       "      <td>24.13</td>\n",
       "      <td>72.01</td>\n",
       "      <td>3174.65</td>\n",
       "    </tr>\n",
       "    <tr>\n",
       "      <th>1</th>\n",
       "      <td>Higher_income</td>\n",
       "      <td>2091.43</td>\n",
       "      <td>1020.77</td>\n",
       "      <td>269.30</td>\n",
       "      <td>16.61</td>\n",
       "      <td>15.79</td>\n",
       "      <td>26.41</td>\n",
       "      <td>79.55</td>\n",
       "      <td>3494.15</td>\n",
       "    </tr>\n",
       "  </tbody>\n",
       "</table>\n",
       "</div>"
      ],
      "text/plain": [
       "         Income groups  Energy(calories)  Calcium(mg)  Cholesterol(mg)  \\\n",
       "0         Lower_income           1969.64       933.10           258.14   \n",
       "1        Higher_income           2091.43      1020.77           269.30   \n",
       "\n",
       "   Fiber(gm)  Iron(mg)  Saturated _fat(gm)  Total_fat(gm)  Sodium(mg)  \n",
       "0      14.77     14.45               24.13          72.01     3174.65  \n",
       "1      16.61     15.79               26.41          79.55     3494.15  "
      ]
     },
     "execution_count": 9,
     "metadata": {},
     "output_type": "execute_result"
    }
   ],
   "source": [
    "#Import csv\n",
    "df_nutrition = pd.read_csv('nutrient_table1.csv')\n",
    "df_nutrition"
   ]
  },
  {
   "cell_type": "markdown",
   "metadata": {},
   "source": [
    "This table initially includes average daily intake of food by food source and demographic characteristics, and the food includes fruits, different type of vegetable, different type of grains, etc. Compared with different group of people, child, adult, high income and low income. After our modification, we select only two observation, the higher income and lower income, in our dataset, which combined all the entry that labeled \"higer_income\" and \"lower_income\". The variables includes **average energy** and **nutrient intake** for high/low income group, and there are 7 nutrient type under our observation. These are Calcium, Cholesterol, Fiber, Iron, Saturated fat, total fat and sodium."
   ]
  },
  {
   "cell_type": "code",
   "execution_count": 10,
   "metadata": {},
   "outputs": [
    {
     "data": {
      "text/plain": [
       "(2, 9)"
      ]
     },
     "execution_count": 10,
     "metadata": {},
     "output_type": "execute_result"
    }
   ],
   "source": [
    "df_nutrition.shape"
   ]
  },
  {
   "cell_type": "code",
   "execution_count": 11,
   "metadata": {},
   "outputs": [
    {
     "data": {
      "text/html": [
       "<div>\n",
       "<style scoped>\n",
       "    .dataframe tbody tr th:only-of-type {\n",
       "        vertical-align: middle;\n",
       "    }\n",
       "\n",
       "    .dataframe tbody tr th {\n",
       "        vertical-align: top;\n",
       "    }\n",
       "\n",
       "    .dataframe thead th {\n",
       "        text-align: right;\n",
       "    }\n",
       "</style>\n",
       "<table border=\"1\" class=\"dataframe\">\n",
       "  <thead>\n",
       "    <tr style=\"text-align: right;\">\n",
       "      <th></th>\n",
       "      <th>Income groups</th>\n",
       "      <th>Fruits(cups)</th>\n",
       "      <th>Vegetables: total (cups)</th>\n",
       "      <th>Dairy (cups)</th>\n",
       "      <th>Grains: total (ounces)</th>\n",
       "      <th>Protein foods (ounces)</th>\n",
       "      <th>Added sugars (tsp)</th>\n",
       "      <th>Oils (grams)</th>\n",
       "      <th>Solid fats (grams)</th>\n",
       "    </tr>\n",
       "  </thead>\n",
       "  <tbody>\n",
       "    <tr>\n",
       "      <th>0</th>\n",
       "      <td>Lower income</td>\n",
       "      <td>1.01</td>\n",
       "      <td>1.26</td>\n",
       "      <td>1.67</td>\n",
       "      <td>6.34</td>\n",
       "      <td>5.29</td>\n",
       "      <td>18.59</td>\n",
       "      <td>19.12</td>\n",
       "      <td>35.72</td>\n",
       "    </tr>\n",
       "    <tr>\n",
       "      <th>1</th>\n",
       "      <td>Higher income</td>\n",
       "      <td>1.08</td>\n",
       "      <td>1.53</td>\n",
       "      <td>1.83</td>\n",
       "      <td>6.54</td>\n",
       "      <td>5.93</td>\n",
       "      <td>17.18</td>\n",
       "      <td>22.43</td>\n",
       "      <td>38.53</td>\n",
       "    </tr>\n",
       "    <tr>\n",
       "      <th>2</th>\n",
       "      <td>NaN</td>\n",
       "      <td>NaN</td>\n",
       "      <td>NaN</td>\n",
       "      <td>NaN</td>\n",
       "      <td>NaN</td>\n",
       "      <td>NaN</td>\n",
       "      <td>NaN</td>\n",
       "      <td>NaN</td>\n",
       "      <td>NaN</td>\n",
       "    </tr>\n",
       "    <tr>\n",
       "      <th>3</th>\n",
       "      <td>NaN</td>\n",
       "      <td>NaN</td>\n",
       "      <td>NaN</td>\n",
       "      <td>NaN</td>\n",
       "      <td>NaN</td>\n",
       "      <td>NaN</td>\n",
       "      <td>NaN</td>\n",
       "      <td>NaN</td>\n",
       "      <td>NaN</td>\n",
       "    </tr>\n",
       "    <tr>\n",
       "      <th>4</th>\n",
       "      <td>NaN</td>\n",
       "      <td>NaN</td>\n",
       "      <td>NaN</td>\n",
       "      <td>NaN</td>\n",
       "      <td>NaN</td>\n",
       "      <td>NaN</td>\n",
       "      <td>NaN</td>\n",
       "      <td>NaN</td>\n",
       "      <td>NaN</td>\n",
       "    </tr>\n",
       "  </tbody>\n",
       "</table>\n",
       "</div>"
      ],
      "text/plain": [
       "   Income groups  Fruits(cups)  Vegetables: total (cups)  Dairy (cups)  \\\n",
       "0   Lower income          1.01                      1.26          1.67   \n",
       "1  Higher income          1.08                      1.53          1.83   \n",
       "2            NaN           NaN                       NaN           NaN   \n",
       "3            NaN           NaN                       NaN           NaN   \n",
       "4            NaN           NaN                       NaN           NaN   \n",
       "\n",
       "   Grains: total (ounces)  Protein foods (ounces)  Added sugars (tsp)  \\\n",
       "0                    6.34                    5.29               18.59   \n",
       "1                    6.54                    5.93               17.18   \n",
       "2                     NaN                     NaN                 NaN   \n",
       "3                     NaN                     NaN                 NaN   \n",
       "4                     NaN                     NaN                 NaN   \n",
       "\n",
       "   Oils (grams)  Solid fats (grams)  \n",
       "0         19.12               35.72  \n",
       "1         22.43               38.53  \n",
       "2           NaN                 NaN  \n",
       "3           NaN                 NaN  \n",
       "4           NaN                 NaN  "
      ]
     },
     "execution_count": 11,
     "metadata": {},
     "output_type": "execute_result"
    }
   ],
   "source": [
    "#Import csv\n",
    "df_food = pd.read_csv(\"food_table1.csv\")\n",
    "df_food.head()"
   ]
  },
  {
   "cell_type": "markdown",
   "metadata": {},
   "source": [
    "This is our modification of the table, which compares the low income and high income population's nutrient intake by type of fruit/vegetable/grain etc. The variables under observation are different type of food. We can clearly see that these data show contrast between lower income level and higher income level. Obviously, people that are at higher income level tend to consume more of these food than people at lower income level. This would help us in analyzing the relationship between income level and diabetes in the following parts."
   ]
  },
  {
   "cell_type": "code",
   "execution_count": 12,
   "metadata": {},
   "outputs": [
    {
     "data": {
      "text/plain": [
       "(93, 9)"
      ]
     },
     "execution_count": 12,
     "metadata": {},
     "output_type": "execute_result"
    }
   ],
   "source": [
    "df_food.shape"
   ]
  },
  {
   "cell_type": "code",
   "execution_count": 13,
   "metadata": {},
   "outputs": [
    {
     "data": {
      "text/html": [
       "<div>\n",
       "<style scoped>\n",
       "    .dataframe tbody tr th:only-of-type {\n",
       "        vertical-align: middle;\n",
       "    }\n",
       "\n",
       "    .dataframe tbody tr th {\n",
       "        vertical-align: top;\n",
       "    }\n",
       "\n",
       "    .dataframe thead th {\n",
       "        text-align: right;\n",
       "    }\n",
       "</style>\n",
       "<table border=\"1\" class=\"dataframe\">\n",
       "  <thead>\n",
       "    <tr style=\"text-align: right;\">\n",
       "      <th></th>\n",
       "      <th>FIPS</th>\n",
       "      <th>State</th>\n",
       "      <th>County</th>\n",
       "      <th>PCT_DIABETES_ADULTS08</th>\n",
       "      <th>PCT_DIABETES_ADULTS13</th>\n",
       "      <th>PCT_OBESE_ADULTS08</th>\n",
       "      <th>PCT_OBESE_ADULTS13</th>\n",
       "      <th>POVRATE15</th>\n",
       "    </tr>\n",
       "  </thead>\n",
       "  <tbody>\n",
       "    <tr>\n",
       "      <th>0</th>\n",
       "      <td>6001</td>\n",
       "      <td>CA</td>\n",
       "      <td>Alameda</td>\n",
       "      <td>7.6</td>\n",
       "      <td>8.5</td>\n",
       "      <td>19.5</td>\n",
       "      <td>20.0</td>\n",
       "      <td>11.5</td>\n",
       "    </tr>\n",
       "    <tr>\n",
       "      <th>1</th>\n",
       "      <td>6003</td>\n",
       "      <td>CA</td>\n",
       "      <td>Alpine</td>\n",
       "      <td>8.4</td>\n",
       "      <td>10.3</td>\n",
       "      <td>24.6</td>\n",
       "      <td>23.4</td>\n",
       "      <td>19.0</td>\n",
       "    </tr>\n",
       "    <tr>\n",
       "      <th>2</th>\n",
       "      <td>6005</td>\n",
       "      <td>CA</td>\n",
       "      <td>Amador</td>\n",
       "      <td>9.3</td>\n",
       "      <td>10.2</td>\n",
       "      <td>24.6</td>\n",
       "      <td>25.5</td>\n",
       "      <td>13.1</td>\n",
       "    </tr>\n",
       "    <tr>\n",
       "      <th>3</th>\n",
       "      <td>6007</td>\n",
       "      <td>CA</td>\n",
       "      <td>Butte</td>\n",
       "      <td>8.3</td>\n",
       "      <td>10.2</td>\n",
       "      <td>24.4</td>\n",
       "      <td>25.9</td>\n",
       "      <td>21.4</td>\n",
       "    </tr>\n",
       "    <tr>\n",
       "      <th>4</th>\n",
       "      <td>6009</td>\n",
       "      <td>CA</td>\n",
       "      <td>Calaveras</td>\n",
       "      <td>7.3</td>\n",
       "      <td>10.0</td>\n",
       "      <td>24.4</td>\n",
       "      <td>23.5</td>\n",
       "      <td>13.0</td>\n",
       "    </tr>\n",
       "  </tbody>\n",
       "</table>\n",
       "</div>"
      ],
      "text/plain": [
       "   FIPS State     County  PCT_DIABETES_ADULTS08  PCT_DIABETES_ADULTS13  \\\n",
       "0  6001    CA    Alameda                    7.6                    8.5   \n",
       "1  6003    CA     Alpine                    8.4                   10.3   \n",
       "2  6005    CA     Amador                    9.3                   10.2   \n",
       "3  6007    CA      Butte                    8.3                   10.2   \n",
       "4  6009    CA  Calaveras                    7.3                   10.0   \n",
       "\n",
       "   PCT_OBESE_ADULTS08  PCT_OBESE_ADULTS13  POVRATE15  \n",
       "0                19.5                20.0       11.5  \n",
       "1                24.6                23.4       19.0  \n",
       "2                24.6                25.5       13.1  \n",
       "3                24.4                25.9       21.4  \n",
       "4                24.4                23.5       13.0  "
      ]
     },
     "execution_count": 13,
     "metadata": {},
     "output_type": "execute_result"
    }
   ],
   "source": [
    "#import pre-cleaned dataset of poverty and diabetes by selecting the variables we may need\n",
    "df_poverty = pd.read_csv('cleaned_data_poverty.csv')\n",
    "df_poverty.head()"
   ]
  },
  {
   "cell_type": "code",
   "execution_count": 14,
   "metadata": {},
   "outputs": [
    {
     "data": {
      "text/plain": [
       "(58, 8)"
      ]
     },
     "execution_count": 14,
     "metadata": {},
     "output_type": "execute_result"
    }
   ],
   "source": [
    "df_poverty.shape"
   ]
  },
  {
   "cell_type": "markdown",
   "metadata": {},
   "source": [
    "### Data Cleaning"
   ]
  },
  {
   "cell_type": "code",
   "execution_count": 15,
   "metadata": {},
   "outputs": [],
   "source": [
    "#Creating a function that converts string variables into intergers and downscale the values for better sensitivity and resolution.\n",
    "def become_int (string_input):\n",
    "    string_input = string_input.replace(\"$\", \"\")\n",
    "    string_input = string_input.replace(\",\", \"\")\n",
    "    string_input = string_input.replace(\"\\n\", \"\") \n",
    "    string_input = int(string_input)\n",
    "    string_input = string_input / 10000\n",
    "    return string_input"
   ]
  },
  {
   "cell_type": "code",
   "execution_count": 16,
   "metadata": {
    "scrolled": true
   },
   "outputs": [
    {
     "data": {
      "text/html": [
       "<div>\n",
       "<style scoped>\n",
       "    .dataframe tbody tr th:only-of-type {\n",
       "        vertical-align: middle;\n",
       "    }\n",
       "\n",
       "    .dataframe tbody tr th {\n",
       "        vertical-align: top;\n",
       "    }\n",
       "\n",
       "    .dataframe thead th {\n",
       "        text-align: right;\n",
       "    }\n",
       "</style>\n",
       "<table border=\"1\" class=\"dataframe\">\n",
       "  <thead>\n",
       "    <tr style=\"text-align: right;\">\n",
       "      <th></th>\n",
       "      <th>County</th>\n",
       "      <th>Per_capita_income</th>\n",
       "      <th>Population</th>\n",
       "    </tr>\n",
       "  </thead>\n",
       "  <tbody>\n",
       "    <tr>\n",
       "      <th>0</th>\n",
       "      <td>Alameda</td>\n",
       "      <td>3.6439</td>\n",
       "      <td>155.9308</td>\n",
       "    </tr>\n",
       "    <tr>\n",
       "      <th>1</th>\n",
       "      <td>Alpine</td>\n",
       "      <td>2.4375</td>\n",
       "      <td>0.1202</td>\n",
       "    </tr>\n",
       "    <tr>\n",
       "      <th>2</th>\n",
       "      <td>Amador</td>\n",
       "      <td>2.7373</td>\n",
       "      <td>3.7159</td>\n",
       "    </tr>\n",
       "    <tr>\n",
       "      <th>3</th>\n",
       "      <td>Butte</td>\n",
       "      <td>2.4430</td>\n",
       "      <td>22.1578</td>\n",
       "    </tr>\n",
       "    <tr>\n",
       "      <th>4</th>\n",
       "      <td>Calaveras</td>\n",
       "      <td>2.9296</td>\n",
       "      <td>4.4921</td>\n",
       "    </tr>\n",
       "  </tbody>\n",
       "</table>\n",
       "</div>"
      ],
      "text/plain": [
       "      County  Per_capita_income  Population\n",
       "0    Alameda             3.6439    155.9308\n",
       "1     Alpine             2.4375      0.1202\n",
       "2     Amador             2.7373      3.7159\n",
       "3      Butte             2.4430     22.1578\n",
       "4  Calaveras             2.9296      4.4921"
      ]
     },
     "execution_count": 16,
     "metadata": {},
     "output_type": "execute_result"
    }
   ],
   "source": [
    "#Apply function to dataframe\n",
    "df_income[\"Per_capita_income\"] = df_income[\"Per_capita_income\"].apply(become_int)\n",
    "df_income[\"Population\"] = df_income[\"Population\"].apply(become_int)\n",
    "df_income.head()"
   ]
  },
  {
   "cell_type": "code",
   "execution_count": 17,
   "metadata": {},
   "outputs": [
    {
     "data": {
      "text/html": [
       "<div>\n",
       "<style scoped>\n",
       "    .dataframe tbody tr th:only-of-type {\n",
       "        vertical-align: middle;\n",
       "    }\n",
       "\n",
       "    .dataframe tbody tr th {\n",
       "        vertical-align: top;\n",
       "    }\n",
       "\n",
       "    .dataframe thead th {\n",
       "        text-align: right;\n",
       "    }\n",
       "</style>\n",
       "<table border=\"1\" class=\"dataframe\">\n",
       "  <thead>\n",
       "    <tr style=\"text-align: right;\">\n",
       "      <th></th>\n",
       "      <th>County</th>\n",
       "      <th>Percentage</th>\n",
       "      <th>Number of hospitals</th>\n",
       "    </tr>\n",
       "  </thead>\n",
       "  <tbody>\n",
       "    <tr>\n",
       "      <th>0</th>\n",
       "      <td>Alameda County</td>\n",
       "      <td>6.7</td>\n",
       "      <td>21.0</td>\n",
       "    </tr>\n",
       "    <tr>\n",
       "      <th>1</th>\n",
       "      <td>Alpine County</td>\n",
       "      <td>4.6</td>\n",
       "      <td>1.0</td>\n",
       "    </tr>\n",
       "    <tr>\n",
       "      <th>2</th>\n",
       "      <td>Amador County</td>\n",
       "      <td>10.4</td>\n",
       "      <td>1.0</td>\n",
       "    </tr>\n",
       "    <tr>\n",
       "      <th>3</th>\n",
       "      <td>Butte County</td>\n",
       "      <td>8.7</td>\n",
       "      <td>5.0</td>\n",
       "    </tr>\n",
       "    <tr>\n",
       "      <th>4</th>\n",
       "      <td>Calaveras County</td>\n",
       "      <td>8.3</td>\n",
       "      <td>1.0</td>\n",
       "    </tr>\n",
       "  </tbody>\n",
       "</table>\n",
       "</div>"
      ],
      "text/plain": [
       "             County  Percentage  Number of hospitals\n",
       "0    Alameda County         6.7                 21.0\n",
       "1     Alpine County         4.6                  1.0\n",
       "2     Amador County        10.4                  1.0\n",
       "3      Butte County         8.7                  5.0\n",
       "4  Calaveras County         8.3                  1.0"
      ]
     },
     "execution_count": 17,
     "metadata": {},
     "output_type": "execute_result"
    }
   ],
   "source": [
    "#Drop rows that contain N/A values and drop columns that are not of interest.\n",
    "df_diabetes = df_diabetes.dropna(axis = 0)\n",
    "df_diabetes = df_diabetes.drop(columns = [\"State\", \"CountyFIPS\", \"Lower Limit\"])\n",
    "df_diabetes.head()"
   ]
  },
  {
   "cell_type": "code",
   "execution_count": 18,
   "metadata": {},
   "outputs": [],
   "source": [
    "#rename columns to easier read\n",
    "df_diabetes.columns = (['County', 'Diabetes', 'Number_of_hospitals'])"
   ]
  },
  {
   "cell_type": "code",
   "execution_count": 19,
   "metadata": {},
   "outputs": [
    {
     "data": {
      "text/html": [
       "<div>\n",
       "<style scoped>\n",
       "    .dataframe tbody tr th:only-of-type {\n",
       "        vertical-align: middle;\n",
       "    }\n",
       "\n",
       "    .dataframe tbody tr th {\n",
       "        vertical-align: top;\n",
       "    }\n",
       "\n",
       "    .dataframe thead th {\n",
       "        text-align: right;\n",
       "    }\n",
       "</style>\n",
       "<table border=\"1\" class=\"dataframe\">\n",
       "  <thead>\n",
       "    <tr style=\"text-align: right;\">\n",
       "      <th></th>\n",
       "      <th>County</th>\n",
       "      <th>POVRATE15</th>\n",
       "    </tr>\n",
       "  </thead>\n",
       "  <tbody>\n",
       "    <tr>\n",
       "      <th>0</th>\n",
       "      <td>Alameda</td>\n",
       "      <td>11.5</td>\n",
       "    </tr>\n",
       "    <tr>\n",
       "      <th>1</th>\n",
       "      <td>Alpine</td>\n",
       "      <td>19.0</td>\n",
       "    </tr>\n",
       "    <tr>\n",
       "      <th>2</th>\n",
       "      <td>Amador</td>\n",
       "      <td>13.1</td>\n",
       "    </tr>\n",
       "    <tr>\n",
       "      <th>3</th>\n",
       "      <td>Butte</td>\n",
       "      <td>21.4</td>\n",
       "    </tr>\n",
       "    <tr>\n",
       "      <th>4</th>\n",
       "      <td>Calaveras</td>\n",
       "      <td>13.0</td>\n",
       "    </tr>\n",
       "  </tbody>\n",
       "</table>\n",
       "</div>"
      ],
      "text/plain": [
       "      County  POVRATE15\n",
       "0    Alameda       11.5\n",
       "1     Alpine       19.0\n",
       "2     Amador       13.1\n",
       "3      Butte       21.4\n",
       "4  Calaveras       13.0"
      ]
     },
     "execution_count": 19,
     "metadata": {},
     "output_type": "execute_result"
    }
   ],
   "source": [
    "#drop unnecessary columns in df_poverty\n",
    "df_poverty = df_poverty.drop(columns = ['State', 'FIPS', 'PCT_DIABETES_ADULTS08', 'PCT_OBESE_ADULTS08', 'PCT_DIABETES_ADULTS13', 'PCT_OBESE_ADULTS13'])\n",
    "df_poverty.head()"
   ]
  },
  {
   "cell_type": "code",
   "execution_count": 20,
   "metadata": {},
   "outputs": [
    {
     "data": {
      "text/html": [
       "<div>\n",
       "<style scoped>\n",
       "    .dataframe tbody tr th:only-of-type {\n",
       "        vertical-align: middle;\n",
       "    }\n",
       "\n",
       "    .dataframe tbody tr th {\n",
       "        vertical-align: top;\n",
       "    }\n",
       "\n",
       "    .dataframe thead th {\n",
       "        text-align: right;\n",
       "    }\n",
       "</style>\n",
       "<table border=\"1\" class=\"dataframe\">\n",
       "  <thead>\n",
       "    <tr style=\"text-align: right;\">\n",
       "      <th></th>\n",
       "      <th>County</th>\n",
       "      <th>Poverty</th>\n",
       "    </tr>\n",
       "  </thead>\n",
       "  <tbody>\n",
       "    <tr>\n",
       "      <th>0</th>\n",
       "      <td>Alameda</td>\n",
       "      <td>11.5</td>\n",
       "    </tr>\n",
       "    <tr>\n",
       "      <th>1</th>\n",
       "      <td>Alpine</td>\n",
       "      <td>19.0</td>\n",
       "    </tr>\n",
       "    <tr>\n",
       "      <th>2</th>\n",
       "      <td>Amador</td>\n",
       "      <td>13.1</td>\n",
       "    </tr>\n",
       "    <tr>\n",
       "      <th>3</th>\n",
       "      <td>Butte</td>\n",
       "      <td>21.4</td>\n",
       "    </tr>\n",
       "    <tr>\n",
       "      <th>4</th>\n",
       "      <td>Calaveras</td>\n",
       "      <td>13.0</td>\n",
       "    </tr>\n",
       "  </tbody>\n",
       "</table>\n",
       "</div>"
      ],
      "text/plain": [
       "      County  Poverty\n",
       "0    Alameda     11.5\n",
       "1     Alpine     19.0\n",
       "2     Amador     13.1\n",
       "3      Butte     21.4\n",
       "4  Calaveras     13.0"
      ]
     },
     "execution_count": 20,
     "metadata": {},
     "output_type": "execute_result"
    }
   ],
   "source": [
    "# Rename columns for easier use\n",
    "df_poverty.columns = (['County', 'Poverty'])\n",
    "df_poverty.head()"
   ]
  },
  {
   "cell_type": "code",
   "execution_count": 21,
   "metadata": {},
   "outputs": [
    {
     "data": {
      "text/plain": [
       "0"
      ]
     },
     "execution_count": 21,
     "metadata": {},
     "output_type": "execute_result"
    }
   ],
   "source": [
    "# Check how many data points have null data in any column in df_poverty\n",
    "null_rows = df_poverty.isnull().any(axis=1).sum()\n",
    "null_rows"
   ]
  },
  {
   "cell_type": "code",
   "execution_count": 22,
   "metadata": {},
   "outputs": [
    {
     "data": {
      "text/plain": [
       "0"
      ]
     },
     "execution_count": 22,
     "metadata": {},
     "output_type": "execute_result"
    }
   ],
   "source": [
    "# The data set uses \"-9999\" as a signal for null data\n",
    "# Find any cells that have this kind of null data\n",
    "null_rows = df_poverty[df_poverty.values == \"-9999\"].any(axis=1).sum()\n",
    "null_rows"
   ]
  },
  {
   "cell_type": "code",
   "execution_count": 23,
   "metadata": {},
   "outputs": [
    {
     "data": {
      "text/plain": [
       "(58, 2)"
      ]
     },
     "execution_count": 23,
     "metadata": {},
     "output_type": "execute_result"
    }
   ],
   "source": [
    "# Drop any cells that have null data\n",
    "df_poverty = df_poverty.dropna()\n",
    "df_poverty.shape"
   ]
  },
  {
   "cell_type": "code",
   "execution_count": 24,
   "metadata": {
    "scrolled": true
   },
   "outputs": [
    {
     "data": {
      "text/html": [
       "<div>\n",
       "<style scoped>\n",
       "    .dataframe tbody tr th:only-of-type {\n",
       "        vertical-align: middle;\n",
       "    }\n",
       "\n",
       "    .dataframe tbody tr th {\n",
       "        vertical-align: top;\n",
       "    }\n",
       "\n",
       "    .dataframe thead th {\n",
       "        text-align: right;\n",
       "    }\n",
       "</style>\n",
       "<table border=\"1\" class=\"dataframe\">\n",
       "  <thead>\n",
       "    <tr style=\"text-align: right;\">\n",
       "      <th></th>\n",
       "      <th>Poverty</th>\n",
       "    </tr>\n",
       "  </thead>\n",
       "  <tbody>\n",
       "    <tr>\n",
       "      <th>count</th>\n",
       "      <td>58.000000</td>\n",
       "    </tr>\n",
       "    <tr>\n",
       "      <th>mean</th>\n",
       "      <td>16.294828</td>\n",
       "    </tr>\n",
       "    <tr>\n",
       "      <th>std</th>\n",
       "      <td>5.064684</td>\n",
       "    </tr>\n",
       "    <tr>\n",
       "      <th>min</th>\n",
       "      <td>7.500000</td>\n",
       "    </tr>\n",
       "    <tr>\n",
       "      <th>25%</th>\n",
       "      <td>12.400000</td>\n",
       "    </tr>\n",
       "    <tr>\n",
       "      <th>50%</th>\n",
       "      <td>15.900000</td>\n",
       "    </tr>\n",
       "    <tr>\n",
       "      <th>75%</th>\n",
       "      <td>20.300000</td>\n",
       "    </tr>\n",
       "    <tr>\n",
       "      <th>max</th>\n",
       "      <td>27.200000</td>\n",
       "    </tr>\n",
       "  </tbody>\n",
       "</table>\n",
       "</div>"
      ],
      "text/plain": [
       "         Poverty\n",
       "count  58.000000\n",
       "mean   16.294828\n",
       "std     5.064684\n",
       "min     7.500000\n",
       "25%    12.400000\n",
       "50%    15.900000\n",
       "75%    20.300000\n",
       "max    27.200000"
      ]
     },
     "execution_count": 24,
     "metadata": {},
     "output_type": "execute_result"
    }
   ],
   "source": [
    "df_poverty.describe()"
   ]
  },
  {
   "cell_type": "code",
   "execution_count": 25,
   "metadata": {},
   "outputs": [
    {
     "data": {
      "text/html": [
       "<div>\n",
       "<style scoped>\n",
       "    .dataframe tbody tr th:only-of-type {\n",
       "        vertical-align: middle;\n",
       "    }\n",
       "\n",
       "    .dataframe tbody tr th {\n",
       "        vertical-align: top;\n",
       "    }\n",
       "\n",
       "    .dataframe thead th {\n",
       "        text-align: right;\n",
       "    }\n",
       "</style>\n",
       "<table border=\"1\" class=\"dataframe\">\n",
       "  <thead>\n",
       "    <tr style=\"text-align: right;\">\n",
       "      <th></th>\n",
       "      <th>Income groups</th>\n",
       "      <th>Fruits(cups)</th>\n",
       "      <th>Vegetables: total (cups)</th>\n",
       "      <th>Dairy (cups)</th>\n",
       "      <th>Grains: total (ounces)</th>\n",
       "      <th>Protein foods (ounces)</th>\n",
       "      <th>Added sugars (tsp)</th>\n",
       "      <th>Oils (grams)</th>\n",
       "      <th>Solid fats (grams)</th>\n",
       "    </tr>\n",
       "  </thead>\n",
       "  <tbody>\n",
       "    <tr>\n",
       "      <th>0</th>\n",
       "      <td>Lower income</td>\n",
       "      <td>1.01</td>\n",
       "      <td>1.26</td>\n",
       "      <td>1.67</td>\n",
       "      <td>6.34</td>\n",
       "      <td>5.29</td>\n",
       "      <td>18.59</td>\n",
       "      <td>19.12</td>\n",
       "      <td>35.72</td>\n",
       "    </tr>\n",
       "    <tr>\n",
       "      <th>1</th>\n",
       "      <td>Higher income</td>\n",
       "      <td>1.08</td>\n",
       "      <td>1.53</td>\n",
       "      <td>1.83</td>\n",
       "      <td>6.54</td>\n",
       "      <td>5.93</td>\n",
       "      <td>17.18</td>\n",
       "      <td>22.43</td>\n",
       "      <td>38.53</td>\n",
       "    </tr>\n",
       "  </tbody>\n",
       "</table>\n",
       "</div>"
      ],
      "text/plain": [
       "   Income groups  Fruits(cups)  Vegetables: total (cups)  Dairy (cups)  \\\n",
       "0   Lower income          1.01                      1.26          1.67   \n",
       "1  Higher income          1.08                      1.53          1.83   \n",
       "\n",
       "   Grains: total (ounces)  Protein foods (ounces)  Added sugars (tsp)  \\\n",
       "0                    6.34                    5.29               18.59   \n",
       "1                    6.54                    5.93               17.18   \n",
       "\n",
       "   Oils (grams)  Solid fats (grams)  \n",
       "0         19.12               35.72  \n",
       "1         22.43               38.53  "
      ]
     },
     "execution_count": 25,
     "metadata": {},
     "output_type": "execute_result"
    }
   ],
   "source": [
    "#Drop rows that contain N/A values\n",
    "df_food = df_food.dropna(axis = 0)\n",
    "df_food"
   ]
  },
  {
   "cell_type": "markdown",
   "metadata": {},
   "source": [
    "# Data Analysis & Results"
   ]
  },
  {
   "cell_type": "code",
   "execution_count": 26,
   "metadata": {},
   "outputs": [
    {
     "data": {
      "text/html": [
       "<div>\n",
       "<style scoped>\n",
       "    .dataframe tbody tr th:only-of-type {\n",
       "        vertical-align: middle;\n",
       "    }\n",
       "\n",
       "    .dataframe tbody tr th {\n",
       "        vertical-align: top;\n",
       "    }\n",
       "\n",
       "    .dataframe thead th {\n",
       "        text-align: right;\n",
       "    }\n",
       "</style>\n",
       "<table border=\"1\" class=\"dataframe\">\n",
       "  <thead>\n",
       "    <tr style=\"text-align: right;\">\n",
       "      <th></th>\n",
       "      <th>County</th>\n",
       "      <th>Diabetes</th>\n",
       "      <th>Number_of_hospitals</th>\n",
       "      <th>Per_capita_income</th>\n",
       "      <th>Population</th>\n",
       "      <th>Poverty</th>\n",
       "    </tr>\n",
       "  </thead>\n",
       "  <tbody>\n",
       "    <tr>\n",
       "      <th>0</th>\n",
       "      <td>Alameda County</td>\n",
       "      <td>6.7</td>\n",
       "      <td>21.0</td>\n",
       "      <td>3.6439</td>\n",
       "      <td>155.9308</td>\n",
       "      <td>11.5</td>\n",
       "    </tr>\n",
       "    <tr>\n",
       "      <th>1</th>\n",
       "      <td>Alpine County</td>\n",
       "      <td>4.6</td>\n",
       "      <td>1.0</td>\n",
       "      <td>2.4375</td>\n",
       "      <td>0.1202</td>\n",
       "      <td>19.0</td>\n",
       "    </tr>\n",
       "    <tr>\n",
       "      <th>2</th>\n",
       "      <td>Amador County</td>\n",
       "      <td>10.4</td>\n",
       "      <td>1.0</td>\n",
       "      <td>2.7373</td>\n",
       "      <td>3.7159</td>\n",
       "      <td>13.1</td>\n",
       "    </tr>\n",
       "    <tr>\n",
       "      <th>3</th>\n",
       "      <td>Butte County</td>\n",
       "      <td>8.7</td>\n",
       "      <td>5.0</td>\n",
       "      <td>2.4430</td>\n",
       "      <td>22.1578</td>\n",
       "      <td>21.4</td>\n",
       "    </tr>\n",
       "    <tr>\n",
       "      <th>4</th>\n",
       "      <td>Calaveras County</td>\n",
       "      <td>8.3</td>\n",
       "      <td>1.0</td>\n",
       "      <td>2.9296</td>\n",
       "      <td>4.4921</td>\n",
       "      <td>13.0</td>\n",
       "    </tr>\n",
       "  </tbody>\n",
       "</table>\n",
       "</div>"
      ],
      "text/plain": [
       "             County  Diabetes  Number_of_hospitals  Per_capita_income  \\\n",
       "0    Alameda County       6.7                 21.0             3.6439   \n",
       "1     Alpine County       4.6                  1.0             2.4375   \n",
       "2     Amador County      10.4                  1.0             2.7373   \n",
       "3      Butte County       8.7                  5.0             2.4430   \n",
       "4  Calaveras County       8.3                  1.0             2.9296   \n",
       "\n",
       "   Population  Poverty  \n",
       "0    155.9308     11.5  \n",
       "1      0.1202     19.0  \n",
       "2      3.7159     13.1  \n",
       "3     22.1578     21.4  \n",
       "4      4.4921     13.0  "
      ]
     },
     "execution_count": 26,
     "metadata": {},
     "output_type": "execute_result"
    }
   ],
   "source": [
    "#Merge the datasets\n",
    "df_merge = df_diabetes\n",
    "df_merge[\"Per_capita_income\"] = df_income[\"Per_capita_income\"]\n",
    "df_merge[\"Population\"] = df_income[\"Population\"]\n",
    "df_merge['Poverty'] = df_poverty['Poverty']\n",
    "df_merge.head()"
   ]
  },
  {
   "cell_type": "code",
   "execution_count": 27,
   "metadata": {},
   "outputs": [
    {
     "data": {
      "text/html": [
       "<div>\n",
       "<style scoped>\n",
       "    .dataframe tbody tr th:only-of-type {\n",
       "        vertical-align: middle;\n",
       "    }\n",
       "\n",
       "    .dataframe tbody tr th {\n",
       "        vertical-align: top;\n",
       "    }\n",
       "\n",
       "    .dataframe thead th {\n",
       "        text-align: right;\n",
       "    }\n",
       "</style>\n",
       "<table border=\"1\" class=\"dataframe\">\n",
       "  <thead>\n",
       "    <tr style=\"text-align: right;\">\n",
       "      <th></th>\n",
       "      <th>Diabetes</th>\n",
       "      <th>Number_of_hospitals</th>\n",
       "      <th>Per_capita_income</th>\n",
       "      <th>Population</th>\n",
       "      <th>Poverty</th>\n",
       "    </tr>\n",
       "  </thead>\n",
       "  <tbody>\n",
       "    <tr>\n",
       "      <th>Diabetes</th>\n",
       "      <td>1.000000</td>\n",
       "      <td>-0.061385</td>\n",
       "      <td>-0.513750</td>\n",
       "      <td>-0.056881</td>\n",
       "      <td>0.389240</td>\n",
       "    </tr>\n",
       "    <tr>\n",
       "      <th>Number_of_hospitals</th>\n",
       "      <td>-0.061385</td>\n",
       "      <td>1.000000</td>\n",
       "      <td>0.132889</td>\n",
       "      <td>0.990839</td>\n",
       "      <td>-0.076931</td>\n",
       "    </tr>\n",
       "    <tr>\n",
       "      <th>Per_capita_income</th>\n",
       "      <td>-0.513750</td>\n",
       "      <td>0.132889</td>\n",
       "      <td>1.000000</td>\n",
       "      <td>0.129885</td>\n",
       "      <td>-0.804634</td>\n",
       "    </tr>\n",
       "    <tr>\n",
       "      <th>Population</th>\n",
       "      <td>-0.056881</td>\n",
       "      <td>0.990839</td>\n",
       "      <td>0.129885</td>\n",
       "      <td>1.000000</td>\n",
       "      <td>-0.084417</td>\n",
       "    </tr>\n",
       "    <tr>\n",
       "      <th>Poverty</th>\n",
       "      <td>0.389240</td>\n",
       "      <td>-0.076931</td>\n",
       "      <td>-0.804634</td>\n",
       "      <td>-0.084417</td>\n",
       "      <td>1.000000</td>\n",
       "    </tr>\n",
       "  </tbody>\n",
       "</table>\n",
       "</div>"
      ],
      "text/plain": [
       "                     Diabetes  Number_of_hospitals  Per_capita_income  \\\n",
       "Diabetes             1.000000            -0.061385          -0.513750   \n",
       "Number_of_hospitals -0.061385             1.000000           0.132889   \n",
       "Per_capita_income   -0.513750             0.132889           1.000000   \n",
       "Population          -0.056881             0.990839           0.129885   \n",
       "Poverty              0.389240            -0.076931          -0.804634   \n",
       "\n",
       "                     Population   Poverty  \n",
       "Diabetes              -0.056881  0.389240  \n",
       "Number_of_hospitals    0.990839 -0.076931  \n",
       "Per_capita_income      0.129885 -0.804634  \n",
       "Population             1.000000 -0.084417  \n",
       "Poverty               -0.084417  1.000000  "
      ]
     },
     "execution_count": 27,
     "metadata": {},
     "output_type": "execute_result"
    }
   ],
   "source": [
    "#Perforom preliminary Pearson correlation test to investigate correlations between variables\n",
    "df_merge.corr(method = \"pearson\")"
   ]
  },
  {
   "cell_type": "markdown",
   "metadata": {},
   "source": [
    "This correlation table shows that diabetes are likely to be correlated with per capita income of each county, and the poverty rate. It is positively correlated with per capita income and negatively with poverty rate, which is what we expected to be. Among all the variable, we found that per capita income is most correlated with diabete rate, with a correlation coefficient (|r|) of 0.513\n",
    "\n",
    "It appears that there is a strong, negative correlation between per capita income and poverty rate of each county. This is reasonable because both variables are supposed to communicate information about income level.\n",
    "\n",
    "It appear that there is a very strong, positive correlation between population and number of hospital in each county."
   ]
  },
  {
   "cell_type": "markdown",
   "metadata": {},
   "source": [
    "## Diabetes vs Per capita income"
   ]
  },
  {
   "cell_type": "code",
   "execution_count": 28,
   "metadata": {},
   "outputs": [
    {
     "name": "stdout",
     "output_type": "stream",
     "text": [
      "                            OLS Regression Results                            \n",
      "==============================================================================\n",
      "Dep. Variable:               Diabetes   R-squared:                       0.264\n",
      "Model:                            OLS   Adj. R-squared:                  0.251\n",
      "Method:                 Least Squares   F-statistic:                     20.08\n",
      "Date:                Thu, 19 Mar 2020   Prob (F-statistic):           3.71e-05\n",
      "Time:                        22:36:07   Log-Likelihood:                -139.00\n",
      "No. Observations:                  58   AIC:                             282.0\n",
      "Df Residuals:                      56   BIC:                             286.1\n",
      "Df Model:                           1                                         \n",
      "Covariance Type:            nonrobust                                         \n",
      "=====================================================================================\n",
      "                        coef    std err          t      P>|t|      [0.025      0.975]\n",
      "-------------------------------------------------------------------------------------\n",
      "Intercept            13.9115      1.258     11.061      0.000      11.392      16.431\n",
      "Per_capita_income    -1.9585      0.437     -4.481      0.000      -2.834      -1.083\n",
      "==============================================================================\n",
      "Omnibus:                       33.839   Durbin-Watson:                   1.947\n",
      "Prob(Omnibus):                  0.000   Jarque-Bera (JB):               88.087\n",
      "Skew:                           1.719   Prob(JB):                     7.45e-20\n",
      "Kurtosis:                       7.963   Cond. No.                         11.3\n",
      "==============================================================================\n",
      "\n",
      "Warnings:\n",
      "[1] Standard Errors assume that the covariance matrix of the errors is correctly specified.\n"
     ]
    }
   ],
   "source": [
    "#Perform a linear regression test on income level and diabetes rate in search for correlation\n",
    "outcome_1, predictors_1 = patsy.dmatrices('Diabetes ~ Per_capita_income', df_merge)\n",
    "mod_1 = sm.OLS(outcome_1, predictors_1)\n",
    "res_1 = mod_1.fit()\n",
    "print(res_1.summary())"
   ]
  },
  {
   "cell_type": "code",
   "execution_count": 29,
   "metadata": {},
   "outputs": [
    {
     "data": {
      "image/png": "[encoded data removed]",
      "text/plain": [
       "<Figure size 1224x504 with 1 Axes>"
      ]
     },
     "metadata": {
      "needs_background": "light"
     },
     "output_type": "display_data"
    }
   ],
   "source": [
    "#Scatter plot of income level and diabetes rate + the best fit line for the two variables\n",
    "plt.figure(figsize=(17, 7))\n",
    "plt.scatter(df_merge['Per_capita_income'], df_merge['Diabetes'])\n",
    "\n",
    "x = np.arange(1, 6)\n",
    "y = -1.9585 * x + 13.9115\n",
    "plt.plot(x, y, '--r', linewidth=4)\n",
    "plt.xlabel('Per_capita_income ($10000)')\n",
    "plt.ylabel('Diabetes Rate per County')\n",
    "plt.suptitle('Diabetes Rate by Income')\n",
    "plt.show()"
   ]
  },
  {
   "cell_type": "markdown",
   "metadata": {},
   "source": [
    "We use linear regression model to analyze the relationship between income per capita and diabete rates. In the above visualization, x axis is the per capita income, and the y axis is the diabete rate for each county. There are a few outliers in this visualization, namely the four dots way above the regression line. If those were to be removed, the regression line would be less inclined. \n",
    "\n",
    "From this regression result, we learned that per capita income and diabetes rate per county are negatively related, meaning the lower per capita income a county has, the higher chances for the county residents to have diabete. Which is what we expected. From the OLS regression result, we found that the p value is smaller than 0.05, indicating that per capita income is an important predictor of diabetes rate. We also found that the R-squared value is 0.264, indicating that this linear model is not an ideal model of the relationship between per capita income and diabete rate."
   ]
  },
  {
   "cell_type": "markdown",
   "metadata": {},
   "source": [
    "## Diabete vs Poverty rate\n",
    "In addition to income per capita, we also explored the relationship between diabetes rate and poverty rate for each county. Here, we first perform a base 10 logarithmic transform of the poverty rate data. The reason for doing a logarithmic transform is to make the data more sensible in visualization and more intuitional for us to understand."
   ]
  },
  {
   "cell_type": "code",
   "execution_count": 30,
   "metadata": {},
   "outputs": [
    {
     "data": {
      "text/plain": [
       "array([[<matplotlib.axes._subplots.AxesSubplot object at 0x7f7084b39c18>,\n",
       "        <matplotlib.axes._subplots.AxesSubplot object at 0x7f70848c1358>]],\n",
       "      dtype=object)"
      ]
     },
     "execution_count": 30,
     "metadata": {},
     "output_type": "execute_result"
    },
    {
     "data": {
      "image/png": "[encoded data removed]",
      "text/plain": [
       "<Figure size 1224x360 with 2 Axes>"
      ]
     },
     "metadata": {
      "needs_background": "light"
     },
     "output_type": "display_data"
    }
   ],
   "source": [
    "# Do a log10 transform of poverty\n",
    "df_merge['Poverty10'] = df_merge['Poverty'].transform(np.log10)\n",
    "\n",
    "# Plot histogram of poverty and poverty10\n",
    "df_merge.hist(['Poverty', 'Poverty10'], bins = 25, grid = False, figsize = (17, 5))"
   ]
  },
  {
   "cell_type": "code",
   "execution_count": 31,
   "metadata": {},
   "outputs": [
    {
     "name": "stdout",
     "output_type": "stream",
     "text": [
      "                            OLS Regression Results                            \n",
      "==============================================================================\n",
      "Dep. Variable:               Diabetes   R-squared:                       0.154\n",
      "Model:                            OLS   Adj. R-squared:                  0.139\n",
      "Method:                 Least Squares   F-statistic:                     10.22\n",
      "Date:                Thu, 19 Mar 2020   Prob (F-statistic):            0.00228\n",
      "Time:                        22:36:08   Log-Likelihood:                -143.03\n",
      "No. Observations:                  58   AIC:                             290.1\n",
      "Df Residuals:                      56   BIC:                             294.2\n",
      "Df Model:                           1                                         \n",
      "Covariance Type:            nonrobust                                         \n",
      "==============================================================================\n",
      "                 coef    std err          t      P>|t|      [0.025      0.975]\n",
      "------------------------------------------------------------------------------\n",
      "Intercept     -1.7239      3.222     -0.535      0.595      -8.178       4.730\n",
      "Poverty10      8.5961      2.688      3.197      0.002       3.211      13.982\n",
      "==============================================================================\n",
      "Omnibus:                       43.493   Durbin-Watson:                   1.944\n",
      "Prob(Omnibus):                  0.000   Jarque-Bera (JB):              155.335\n",
      "Skew:                           2.124   Prob(JB):                     1.86e-34\n",
      "Kurtosis:                       9.800   Cond. No.                         17.1\n",
      "==============================================================================\n",
      "\n",
      "Warnings:\n",
      "[1] Standard Errors assume that the covariance matrix of the errors is correctly specified.\n"
     ]
    }
   ],
   "source": [
    "#linear regression of diabetes from poverty\n",
    "outcome_2, predictor_2 = patsy.dmatrices('Diabetes ~ Poverty10', df_merge)\n",
    "mod = sm.OLS(outcome_2, predictor_2)\n",
    "res = mod.fit()\n",
    "print(res.summary())"
   ]
  },
  {
   "cell_type": "code",
   "execution_count": 32,
   "metadata": {
    "scrolled": true
   },
   "outputs": [
    {
     "data": {
      "image/png": "[encoded data removed]",
      "text/plain": [
       "<Figure size 1224x504 with 1 Axes>"
      ]
     },
     "metadata": {
      "needs_background": "light"
     },
     "output_type": "display_data"
    }
   ],
   "source": [
    "# Scatter plot of poverty and diabetes with linear regression\n",
    "plt.figure(figsize = (17, 7))\n",
    "plt.scatter(df_merge['Poverty10'], df_merge['Diabetes'])\n",
    "x = np.arange(.5, 2.0)\n",
    "y = 8.5961 * x - 1.7239\n",
    "plt.plot(x, y, '--k', linewidth=4)\n",
    "plt.xlabel('Poverty Rate')\n",
    "plt.ylabel('Diabetes Rate')\n",
    "plt.suptitle('Diabetes Rate by Poverty')\n",
    "plt.show()"
   ]
  },
  {
   "cell_type": "markdown",
   "metadata": {},
   "source": [
    "We use linear regression model to analyze the relationship between poverty rate and diabete rates. In the above visualization, x axis is the poverty rate for each county, and the y axis is the diabete rate for each county. There are a few outliers in this visualization, mainly the two blue dots way above the regression line on the right hand side. If those were to be removed, the regression line would be less inclined, and the coefficient to be less than the prediction result.\n",
    "\n",
    "From this regression result, we learned that poverty rate and diabetes rate per county are positively related. The result means that the higher poverty rate a county has, the higher chances for the county residents to have diabete, which is what we expected. From the OLS regression result, we found that the p value is smaller than 0.05, indicating that poverty rate is an important predictor of diabetes rate. We also found that the R-squared value is 0.154, indicating that this linear model is not an ideal model of the relationship between poverty rate and diabete rate.\n",
    "\n"
   ]
  },
  {
   "cell_type": "markdown",
   "metadata": {},
   "source": [
    "## Number of hospitals vs per capita income\n",
    "We are also interested in the relationship between number of hospital of a county and the per capita income of the county. We wonder if the income level would potentially affect the number of hospital, which indicate the medical resource of a county. This could be a potential confounding variable for our study."
   ]
  },
  {
   "cell_type": "code",
   "execution_count": 33,
   "metadata": {},
   "outputs": [
    {
     "name": "stdout",
     "output_type": "stream",
     "text": [
      "                             OLS Regression Results                            \n",
      "===============================================================================\n",
      "Dep. Variable:     Number_of_hospitals   R-squared:                       0.018\n",
      "Model:                             OLS   Adj. R-squared:                  0.000\n",
      "Method:                  Least Squares   F-statistic:                     1.007\n",
      "Date:                 Thu, 19 Mar 2020   Prob (F-statistic):              0.320\n",
      "Time:                         22:36:09   Log-Likelihood:                -247.80\n",
      "No. Observations:                   58   AIC:                             499.6\n",
      "Df Residuals:                       56   BIC:                             503.7\n",
      "Df Model:                            1                                         \n",
      "Covariance Type:             nonrobust                                         \n",
      "=====================================================================================\n",
      "                        coef    std err          t      P>|t|      [0.025      0.975]\n",
      "-------------------------------------------------------------------------------------\n",
      "Intercept             0.3585      8.208      0.044      0.965     -16.084      16.801\n",
      "Per_capita_income     2.8619      2.852      1.003      0.320      -2.852       8.576\n",
      "==============================================================================\n",
      "Omnibus:                      104.058   Durbin-Watson:                   2.051\n",
      "Prob(Omnibus):                  0.000   Jarque-Bera (JB):             2848.238\n",
      "Skew:                           5.411   Prob(JB):                         0.00\n",
      "Kurtosis:                      35.580   Cond. No.                         11.3\n",
      "==============================================================================\n",
      "\n",
      "Warnings:\n",
      "[1] Standard Errors assume that the covariance matrix of the errors is correctly specified.\n"
     ]
    }
   ],
   "source": [
    "#Perform a inear regression test on income level and number of hospital in search for correlation\n",
    "outcome_3, predictors_3 = patsy.dmatrices('Number_of_hospitals ~ Per_capita_income', df_merge)\n",
    "mod_3 = sm.OLS(outcome_3, predictors_3)\n",
    "res_3 = mod_3.fit()\n",
    "print(res_3.summary())"
   ]
  },
  {
   "cell_type": "code",
   "execution_count": 34,
   "metadata": {},
   "outputs": [
    {
     "data": {
      "image/png": "[encoded data removed]",
      "text/plain": [
       "<Figure size 1224x504 with 1 Axes>"
      ]
     },
     "metadata": {
      "needs_background": "light"
     },
     "output_type": "display_data"
    }
   ],
   "source": [
    "#Scatter plot of income level and number of hospital + the best fit line for the two variables\n",
    "plt.figure(figsize=(17, 7))\n",
    "plt.scatter(df_merge['Per_capita_income'], df_merge['Number_of_hospitals'])\n",
    "\n",
    "x = np.arange(1, 6)\n",
    "y = 2.8619 * x + 0.3585\n",
    "plt.plot(x, y, '--r', linewidth=4)\n",
    "plt.xlabel('Per_capita_income($10000)')\n",
    "plt.ylabel('Number of hospitals per County')\n",
    "plt.suptitle('Number of hospitals by Income')\n",
    "plt.show()"
   ]
  },
  {
   "cell_type": "markdown",
   "metadata": {},
   "source": [
    "We use linear regression model to analyze the relationship between per capita income and number of hospital in a county. In the above visualization, x axis is the per capita income for each county, and the y axis is the number of hospital for each county. There are one outliers in this visualization. If it were to be removed, the regression line would be less inclined, and the coefficient to be less than the prediction result.\n",
    "\n",
    "From the OLS regression result, we found that the p value is larger than 0.05, indicating that per capita income is not an important predictor of number of hospitals in a county. We also found that the R-squared value is 0.018, indicating that this linear model is far away from being called ideal for the relationship between per capita income and number of hospitals in a county.\n"
   ]
  },
  {
   "cell_type": "markdown",
   "metadata": {},
   "source": [
    "## Number of hospitals vs Population\n",
    "After we found out that the relationship between income level and number of hospital is not significant, we are interested in if population of a county would potentially affect the number of hospital in a county."
   ]
  },
  {
   "cell_type": "code",
   "execution_count": 35,
   "metadata": {},
   "outputs": [
    {
     "name": "stdout",
     "output_type": "stream",
     "text": [
      "                             OLS Regression Results                            \n",
      "===============================================================================\n",
      "Dep. Variable:     Number_of_hospitals   R-squared:                       0.982\n",
      "Model:                             OLS   Adj. R-squared:                  0.981\n",
      "Method:                  Least Squares   F-statistic:                     3014.\n",
      "Date:                 Thu, 19 Mar 2020   Prob (F-statistic):           2.18e-50\n",
      "Time:                         22:36:09   Log-Likelihood:                -132.20\n",
      "No. Observations:                   58   AIC:                             268.4\n",
      "Df Residuals:                       56   BIC:                             272.5\n",
      "Df Model:                            1                                         \n",
      "Covariance Type:             nonrobust                                         \n",
      "==============================================================================\n",
      "                 coef    std err          t      P>|t|      [0.025      0.975]\n",
      "------------------------------------------------------------------------------\n",
      "Intercept      0.3045      0.348      0.876      0.385      -0.392       1.001\n",
      "Population     0.1212      0.002     54.903      0.000       0.117       0.126\n",
      "==============================================================================\n",
      "Omnibus:                       24.875   Durbin-Watson:                   2.094\n",
      "Prob(Omnibus):                  0.000   Jarque-Bera (JB):               49.589\n",
      "Skew:                          -1.333   Prob(JB):                     1.71e-11\n",
      "Kurtosis:                       6.663   Cond. No.                         173.\n",
      "==============================================================================\n",
      "\n",
      "Warnings:\n",
      "[1] Standard Errors assume that the covariance matrix of the errors is correctly specified.\n"
     ]
    }
   ],
   "source": [
    "#Perform a inear regression test on population and number of hospital in search for correlation\n",
    "outcome_4, predictors_4 = patsy.dmatrices('Number_of_hospitals ~ Population', df_merge)\n",
    "mod_4 = sm.OLS(outcome_4, predictors_4)\n",
    "res_4 = mod_4.fit()\n",
    "print(res_4.summary())"
   ]
  },
  {
   "cell_type": "code",
   "execution_count": 36,
   "metadata": {
    "scrolled": true
   },
   "outputs": [
    {
     "data": {
      "image/png": "[encoded data removed]",
      "text/plain": [
       "<Figure size 1224x504 with 1 Axes>"
      ]
     },
     "metadata": {
      "needs_background": "light"
     },
     "output_type": "display_data"
    }
   ],
   "source": [
    "#Scatter plot of population and number of hospital + the best fit line for the two variables\n",
    "plt.figure(figsize=(17, 7))\n",
    "plt.scatter(df_merge['Population'], df_merge['Number_of_hospitals'])\n",
    "\n",
    "x = np.arange(0, 1000)\n",
    "y = 0.1212 * x + 0.3045\n",
    "plt.plot(x, y, '--r', linewidth=4)\n",
    "plt.xlabel('Population(10000 people)')\n",
    "plt.ylabel('Number of hospitals per County')\n",
    "plt.suptitle('Number of hospitals by Population')\n",
    "plt.show()"
   ]
  },
  {
   "cell_type": "markdown",
   "metadata": {},
   "source": [
    "We use linear regression model to analyze the relationship between population and number of hospital. In the above visualization, x axis is the county population, and the y axis is the number of hospital for each county. There are no outliers in this visualization.\n",
    "\n",
    "From this regression result, we learned that population and number of hospital per county are positively and strongly related.  The result means that the higher a county's population is, the higher the number of hospital a county possesses. From the OLS regression result, we found that the p value is smaller than 0.05, indicating that population is an important predictor of the number of hospital in a county. We also found that the R-squared value is 0.982, indicating that this linear model is a very ideal model of the relationship between population and number of hospitals in a county."
   ]
  },
  {
   "cell_type": "markdown",
   "metadata": {},
   "source": [
    "## Different diet preference for high and low income level people\n",
    "\n",
    "Studies discover that excessive amount of fat, cholesterol, salt, and sugar intake will likely induce diabetes. So we explore the difference in diet preference for high income population vs low income population to see if this is a potential factors that affect diabete rate.\n"
   ]
  },
  {
   "cell_type": "code",
   "execution_count": 37,
   "metadata": {},
   "outputs": [
    {
     "data": {
      "text/plain": [
       "<matplotlib.axes._subplots.AxesSubplot at 0x7f708492a8d0>"
      ]
     },
     "execution_count": 37,
     "metadata": {},
     "output_type": "execute_result"
    },
    {
     "data": {
      "image/png": "[encoded data removed]",
      "text/plain": [
       "<Figure size 720x1440 with 1 Axes>"
      ]
     },
     "metadata": {
      "needs_background": "light"
     },
     "output_type": "display_data"
    }
   ],
   "source": [
    "#Do a grouped bar plot to demonstrate the difference between the general nutrition intake of higher income group and that of lower income group\n",
    "pd.concat([df_nutrition.loc[0, \"Energy(calories)\":].rename(\"Lower_income\"), df_nutrition.loc[1, \"Energy(calories)\":].rename(\"Higher_income\")],axis=1).plot.bar(figsize=(10,20))"
   ]
  },
  {
   "cell_type": "markdown",
   "metadata": {},
   "source": []
  },
  {
   "cell_type": "code",
   "execution_count": 38,
   "metadata": {},
   "outputs": [
    {
     "data": {
      "text/plain": [
       "<matplotlib.axes._subplots.AxesSubplot at 0x7f70847e26a0>"
      ]
     },
     "execution_count": 38,
     "metadata": {},
     "output_type": "execute_result"
    },
    {
     "data": {
      "image/png": "[encoded data removed]",
      "text/plain": [
       "<Figure size 720x1440 with 1 Axes>"
      ]
     },
     "metadata": {
      "needs_background": "light"
     },
     "output_type": "display_data"
    }
   ],
   "source": [
    "#Do a grouped bar plot to demonstrate the difference between the general food intake of higher income group and that of lower income group\n",
    "pd.concat([df_food.loc[0, \"Fruits(cups)\":].rename(\"Lower_income\"), df_food.loc[1, \"Fruits(cups)\":].rename(\"Higher_income\")],axis=1).plot.bar(figsize=(10,20))"
   ]
  },
  {
   "cell_type": "markdown",
   "metadata": {},
   "source": [
    "These group bar charts indicate that the higher income group averagely consume more of everything daily than the lower income except for added sugars. According to the dataset, the higher income group averagely consume 17.18 teaspoons of added sugar daily, while the lower income group averagely consume 18.59 teaspoons of added sugar daily. \n",
    "\n",
    "One thing to notice is that the higher income group averagely consume more frits and vegatables daily than the lower income group. According to the dataset, the higher income group averagely consume 1.08 cups of added sugar daily, while the lower income group averagely consume 1.01 teaspoons of added sugar daily. The higher income group averagely consume 1.53 cups of added sugar daily, while the lower income group averagely consume 1.26 teaspoons of added sugar daily.\n",
    "\n",
    "While studies do suggest that consuming fibers help prevent diabetes, the difference between the average daily intake of fibers of the higher income group and that of the lower income group is too small to be called significant. The relatively more significant difference between the average daily intake of added sugars of the higher income group and that of the lower income group might indicate that added sugar consumption is the factor that is influencing diabetes rate of counties."
   ]
  },
  {
   "cell_type": "markdown",
   "metadata": {},
   "source": [
    "# Ethics & Privacy"
   ]
  },
  {
   "cell_type": "markdown",
   "metadata": {},
   "source": [
    "All data involved in this project are published for public use by Wikipedia, the United States Department of Agriculture, Centers for Disease Control and Prevention. They are available for us to use without restrictions. The data was gathered with the knowledge and consent of participants, who were made aware of potential future use of the gathered data. Name, SSN, location and other sensitive, detailed personal information are not included in these datasets. \n",
    "\n",
    "We hypothesis that people of lower-income are more prone to diabetes because of unhealthy diets and discriminative medical resource allocation. We are not making the point that people who have low income are unhealthy and tend to have diabetes. The purpose of this research is to bring attention to the welfare and the potential health risk for the lower-income group. We are conducting this research in the hope of prompting governmental diary aids and improving health awareness among the lower-income communities."
   ]
  },
  {
   "cell_type": "markdown",
   "metadata": {},
   "source": [
    "# Conclusion & Discussion"
   ]
  },
  {
   "cell_type": "markdown",
   "metadata": {},
   "source": [
    "Our project aimed to study the relationship between income level and the rate of diabetes in the state of California. We hypothesize that people with low-income levels will be more prone to diabetes due to bad dietary choices and lack of medical resources. To test out the hypothesis, we separate income into two aspects, poverty rate, and per capita income. We then make several plots and models to examine the correlations between diabetes rate and income. The results confirmed the first part of our hypothesis: per capita income of a county and the poverty rate of a county are proven to be important predictors of diabetes rate of a county; while per capita income is negatively correlated with diabetes rate, poverty rate is positively correlated with diabetes rate. To test out the second part of our hypothesis regarding the relationship between diabetes rate, income level, and food choice, we plotted two grouped bar plots that demonstrate the difference between the general food intake of higher income group and that of lower income group. The finding that the lower income group averagely consume significantly more added sugar than the higher income group indicates that the relationship between income level and diabetes rate is possiblely a result of distinctive food choice. To test out the second part of our hypothesis regarding the relationship between diabetes rate, income level, and allocation of medical resources, we examine the relationship between the income level of a county and the number of hospitals in the county using a linear regression test. It turns out that there is a weak correlation between the income level of a county and the number of hospitals in the county. However, after examining the relationship between the population of a county and the number of hospitals in the county usirng a linear regression test, we find out that the number of hospitals in a county is positively significantly correlated with the population of the county. These results indicate that the relationship between income level and diabetes rate is not likely a result of discriminative medical resource allocation.\n",
    "\n",
    "#### Limitations:\n",
    "Data on food and nutrition intake is generalized to the entire American population instead of the California population.\n",
    "Per capita income per county might not be specific enough for the purpose of this project. A certain county could include communities that are of high income and communities that are of low income simultaneously.\n",
    "\n",
    "In addition, we analyzed the income level per capita in each county in California. It may not represent all population in each county well, since people like children, seniors, housewives and the homeless may not have income.\n",
    "\n",
    "#### Confounding Variables:\n",
    "Food choice is a possible confounding variable for the correlation between income level and diabete rate. We anticipated that personal food choice is largely influenced by one's personal values, which is further correlated with his/her personal economic status. We correctly addressed this in our hypothesis. Scientific researches indicate that excessive sugar intake is likely a factor that causes diabetes. Our findings indicate that people in the lower income group are more prone to diabetes possibly due to excessive sugar intake."
   ]
  },
  {
   "cell_type": "markdown",
   "metadata": {},
   "source": [
    "# Team Contributions"
   ]
  },
  {
   "cell_type": "markdown",
   "metadata": {},
   "source": [
    "- Baojun Tang: Project Proposal, looking for datasets, all codes except parts about poverty rate, annotation, conclusion.\n",
    "- Shuyang Miao: analyzing and providing annotation to each table.\n",
    "- Yijia He: Project Proposal, Overview, Datasets, Ethics&Privacy, Codes about df_poverty (including loading, cleaning and analyzing this dataset)\n",
    "- Juncong Shi: Project Proposal，Conclustion& Discussion"
   ]
  },
  {
   "cell_type": "code",
   "execution_count": null,
   "metadata": {},
   "outputs": [],
   "source": []
  }
 ],
 "metadata": {
  "kernelspec": {
   "display_name": "Python 3",
   "language": "python",
   "name": "python3"
  },
  "language_info": {
   "codemirror_mode": {
    "name": "ipython",
    "version": 3
   },
   "file_extension": ".py",
   "mimetype": "text/x-python",
   "name": "python",
   "nbconvert_exporter": "python",
   "pygments_lexer": "ipython3",
   "version": "3.7.0"
  }
 },
 "nbformat": 4,
 "nbformat_minor": 2
}
