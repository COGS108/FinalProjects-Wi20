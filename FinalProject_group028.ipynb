{
 "cells": [
  {
   "cell_type": "markdown",
   "metadata": {
    "colab_type": "text",
    "id": "sM2a1yWACfKG"
   },
   "source": [
    "#__Title:__ COGS 108  Final Project - Kickstarter Success"
   ]
  },
  {
   "cell_type": "markdown",
   "metadata": {
    "colab_type": "text",
    "id": "RyWsDj6aCnoy"
   },
   "source": [
    "#__Overview:__\n",
    "\n",
    "We are interested in looking at the correlation between the success rate of kickstarter technology, design, game companies in the United States and the U.S. stock market (NASDAQ, NYSE, and AMEX). By looking at that relationship, we are wondering if we can predict whether the kickstarter company can be successful in the next three years. We can use past stock prices to predict what type of industries and companies would be successful in the future and we can look at the old kickstarter companies to find the probability of investors getting their money back in the same industries. With these, we can see if a pattern exists and use it to predict the success rate of future kickstarters. \n"
   ]
  },
  {
   "cell_type": "markdown",
   "metadata": {
    "colab_type": "text",
    "id": "O38K2-x7CsFx"
   },
   "source": [
    "#__Names:__\n",
    "\n",
    "*   Mandy Wu\n",
    "*   Cydney Chung\n",
    "*   Taeho Yum \n",
    "*   Tae Kwang (Jason) Chung\n",
    "*   Yong Hoon Do\n",
    "\n"
   ]
  },
  {
   "cell_type": "markdown",
   "metadata": {
    "colab_type": "text",
    "id": "J3cLWGbwgaFS"
   },
   "source": [
    "#__Research Questions:__\n",
    "Is it possible to predict the success rate of Kickstarter technology, design, and games companies in the United States from 2017-2019? If so, how accurate will it be?\n",
    "\n",
    "Based on the U.S. stock trends and investor’s probability of getting their money back, does Kickstarter companies success rates reflect consumer demands?\n"
   ]
  },
  {
   "cell_type": "markdown",
   "metadata": {
    "colab_type": "text",
    "id": "nxITCjZFEXlH"
   },
   "source": [
    "#__Background and Prior Work:__ \n",
    "\n",
    "It would be interesting to see what type of companies would be more popular in the long run and how consumer products would change. From the success of certain companies, we can predict what type of companies will affect our lives in the future. On the other hand, the stock market fluctuates depending on demand and taking that into account, we hypothesized that the Kickstarter success will also depend on the demand and will fit into the same trends as the stock market. We decided to examine Kickstarter companies because they serve as an initial platform for popular products. Kickstarter is one of the famous crowdfunding platforms focused on creativity. The company's mission is to help bring creative projects to life. Projects can include anything from music to technology. It allows project owners to crowdfund for their idea or prototype products. The projects are supported by people called backers who pledge money to fund the product. The process for Kickstarter is all-or-nothing, so if the funding goal is not reached by the deadline, the project fails and backers get their money back. One example of the successful companies backed by Kickstarter is Pebble watch. This product is the most funded project in Kickstarter history, at the time. The NASDAQ, NYSE, and AMEX are stock markets predominantly in the U.S. where people exchange stocks and can check stock prices. NASDAQ is an American exchange that is completely online and tends to lean towards technology companies. NYSE is the largest U.S. stock exchange in volume and has the strictest requirements of the three markets that we are looking at. NYSE also has a physical trading floor where people can exchange stocks. AMEX is similar to NYSE but they are on a smaller scale with less strict requirements and listings. AMEX also traded exchange-traded funds, mutual funds and stocks alongside one another. \n",
    "\n",
    "Some prior works relating to our projects are another COGS 108 project on Kickstarter. They focused on the different states that Kickstarter has: Successful, Failed, Canceled, and Suspended. Their project was geared toward analysis while ours is more geared towards predicting the success and failure rate in Kickstarter. Another project was done by Adebola Lamidi on predicting the success rate of Kickstarter campaigns. His project focuses on all of the Kickstarter companies from 2009-2011. This is different from our project because we are only focusing on certain types of company categories (technology, design, and game) and we are using different features such as stock trends and pledged amounts to help us predict the success rate of Kickstarter companies. \n",
    "\n",
    "\n",
    "\n",
    "\n",
    "References:\n",
    "\n",
    "https://github.com/COGS108/FinalProjects-Sp19/blob/master/FinalProject_Group102.ipynb\n",
    "\n",
    "https://towardsdatascience.com/predicting-the-success-of-kickstarter-campaigns-3f4a976419b9\n",
    "\n"
   ]
  },
  {
   "cell_type": "markdown",
   "metadata": {
    "colab_type": "text",
    "id": "pV9L_6A3EqTC"
   },
   "source": [
    "# __Hypothesis:__\n",
    "\n",
    "Yes, we think we are able to predict the success of Kickstarter companies. We do not believe that there will be a high accuracy due to confounding variables that could influence the different factors and their relationship. We do think that the success of the Kickstarter companies would reflect the consumer demands. \n"
   ]
  },
  {
   "cell_type": "markdown",
   "metadata": {
    "colab_type": "text",
    "id": "_-DvsUHnhFJc"
   },
   "source": [
    "#__Datasets:__\n",
    "\n",
    "*Dataset name:* Kickstarter Datasets\n",
    "\n",
    "*Link:* https://webrobots.io/kickstarter-datasets/\n",
    "\n",
    "*Number of observations:* 7,200,000+\n",
    "\n",
    "*Features and Explanation:* There are 37 features and we chose to use\n",
    "backers_count, category, country, created_at, deadline, goal, state, \n",
    "state_changed_at, usd_pledged. We chose these so we could further wrangle the \n",
    "data into a workable size and that would be relevant in our analysis. These \n",
    "features will help us determine when the companies were in operation, where, \n",
    "how much money that they had asked for in order to succeed, how many people \n",
    "were interested and supported the company and how much money that they had \n",
    "actually acquired to work on their products. These are important to our \n",
    "analysis because we want to find a trend over time based off of the backers, \n",
    "pledges, and goals and see how that would coincide with the data from the stock\n",
    "markets.\n",
    "\n",
    "Dataset name: US historical stock prices with earnings data: 20 years of\n",
    "NASDAQ, NYSE, and AMEX daily stock prices\n",
    "\n",
    "Link:https://www.kaggle.com/tsaustin/us-historical-stock-prices-with-earnings-data#stock_prices_latest.csv\n",
    "\n",
    "Number of observations: 21,180,000+\n",
    "\n",
    "Features and Explanation: There are 9 features and we choose symbol, date,\n",
    "close_adjusted, and volume. These features will help us determine the price and\n",
    "volume of the companies at a certain date. We can use this information to \n",
    "construct a price trend for the companies and see a pattern of change \n",
    "throughout the years. \n",
    "\n",
    "Other sources used:\n",
    "\n",
    "API: https://financialmodelingprep.com/api/v3/company/profile/{symbol}\n",
    "\n",
    "Explanation: This API was used to find the category and name of the companies\n",
    "from the stock market to match with the symbol given in the US historical \n",
    "stock prices with earnings data: 20 years of NASDAQ, NYSE, and AMEX daily \n",
    "stock prices dataset. We need the category of these companies because we have \n",
    "to match certain types of Kickstarter companies to these categories in the \n",
    "stock market.  "
   ]
  },
  {
   "cell_type": "markdown",
   "metadata": {
    "colab_type": "text",
    "id": "mofiy7tqi69T"
   },
   "source": [
    "#__Setup:__"
   ]
  },
  {
   "cell_type": "code",
   "execution_count": 0,
   "metadata": {
    "colab": {},
    "colab_type": "code",
    "id": "myCppWKXv_3g"
   },
   "outputs": [],
   "source": [
    "import pandas as pd\n",
    "import numpy as np\n",
    "\n",
    "# plotting tools\n",
    "import seaborn as sns\n",
    "import matplotlib.pyplot as plt\n",
    "\n",
    "# for k-fold validation\n",
    "from sklearn.model_selection import train_test_split\n",
    "\n",
    "# ML models\n",
    "from sklearn.linear_model import LogisticRegression\n",
    "from sklearn.linear_model import LinearRegression\n",
    "from sklearn.linear_model import SGDClassifier\n",
    "from sklearn.ensemble import RandomForestClassifier\n",
    "from sklearn.datasets import make_classification"
   ]
  },
  {
   "cell_type": "markdown",
   "metadata": {
    "colab_type": "text",
    "id": "CmeVJhxqjRX_"
   },
   "source": [
    "#__Data Cleaning:__"
   ]
  },
  {
   "cell_type": "markdown",
   "metadata": {
    "colab_type": "text",
    "id": "Fr-q-EtuANcB"
   },
   "source": [
    "For the U.S. stock market data, we narrowed down from 9 features to 4. We only\n",
    "used stock data from 2017-2019. For the Kickstarter data, we also used data \n",
    "from 2017-2019 and we took out unnecessary columns that were not needed for \n",
    "analysis. There are a total of 37 features and we narrowed it down to the \n",
    "features that we need for our models. In the end, we kept backers_count, \n",
    "category, country, created_a, deadline, state_changed_at, goal, usd_pledge, \n",
    "state. Since we are only focusing on the United States Kickstarter companies \n",
    "and only certain categories of industries, we drop the unnecessary rows from \n",
    "our data. \n"
   ]
  },
  {
   "cell_type": "code",
   "execution_count": 0,
   "metadata": {
    "colab": {},
    "colab_type": "code",
    "id": "x13bjRRa7i7t"
   },
   "outputs": [],
   "source": [
    "def clean_stock_dataset():\n",
    "  import pandas as pd\n",
    "  import os\n",
    "  import zipfile\n",
    "  import requests\n",
    "  from bs4 import BeautifulSoup\n",
    "\n",
    "  def fetch_company_info(symbol):\n",
    "      url = lambda x: 'https://financialmodelingprep.com/api/v3/company/profile/' + x\n",
    "      res = requests.get(url(symbol)).json()\n",
    "      if 'profile' not in res or 'industry' not in res['profile'] or 'companyName' not in res['profile']:\n",
    "          return (symbol, '', '')\n",
    "      industry = res['profile']['industry']\n",
    "      name = res['profile']['companyName']\n",
    "      return (symbol, name, industry)\n",
    "\n",
    "  def build_stocks_dict(df):\n",
    "      unique_symbols = df.symbol.unique()\n",
    "      res = dict()\n",
    "      for symbol in unique_symbols:\n",
    "          cinfo = fetch_company_info(symbol)\n",
    "          if not cinfo:\n",
    "              continue\n",
    "          res[symbol] = cinfo\n",
    "      return res\n",
    "\n",
    "\n",
    "  print('reading stocks..')\n",
    "  df = pd.read_csv('stocks.csv')\n",
    "\n",
    "  print('fetching stock data from the API..')\n",
    "  infos = build_stocks_dict(df)\n",
    "\n",
    "  def get_industry(symbol):\n",
    "      if symbol not in infos:\n",
    "          return ''\n",
    "      return infos[symbol][2]\n",
    "\n",
    "  def get_company_name(symbol):\n",
    "      if symbol not in infos:\n",
    "          return ''\n",
    "      return infos[symbol][1]\n",
    "\n",
    "  print('creating new columns..')\n",
    "  df['company_name'] = df['symbol'].apply(get_company_name)\n",
    "  df['industry'] = df['symbol'].apply(get_industry)\n",
    "  print(df.head())\n",
    "\n",
    "  print('writing newstocks.csv')\n",
    "  df.to_csv('newstocks.csv')\n",
    "  print('done')\n",
    "\n",
    "def average_category_stock_increase():\n",
    "  from tqdm import tqdm\n",
    "\n",
    "\n",
    "  f = open('newstocks.csv', 'r')\n",
    "  lines = f.readlines()\n",
    "\n",
    "  stockD = {}\n",
    "  print('Reading CSV File...')\n",
    "  header = True\n",
    "\n",
    "  for line in tqdm(lines):\n",
    "    # line = [date, symbol, close_adjusted, volume, company_name, primary_category]\n",
    "    if header:\n",
    "      header = False\n",
    "      continue\n",
    "    line = line.strip('\\n').split(',')\n",
    "    if line[1] not in stockD:\n",
    "      stockD[line[1]] = [line[2], line[2], line[-1]]\n",
    "    else:\n",
    "      start_val = stockD[line[1]][0]\n",
    "      category = stockD[line[1]][2]\n",
    "      stockD[line[1]] = [start_val, line[2], category]\n",
    "  f.close()\n",
    "\n",
    "  tech_trend = [0.0, 0]\n",
    "  design_trend = [0.0, 0]\n",
    "  game_trend = [0.0, 0]\n",
    "\n",
    "  for key in stockD.keys():\n",
    "    start_val = float(stockD[key][0])\n",
    "    end_val = float(stockD[key][1])\n",
    "    category = stockD[key][2]\n",
    "    val_change = (end_val - start_val) / start_val\n",
    "    if category == 'technology':\n",
    "      val = tech_trend[0]\n",
    "      num = tech_trend[1]\n",
    "      tech_trend = [val + val_change, num + 1]\n",
    "    elif category == 'design':\n",
    "      val = design_trend[0]\n",
    "      num = design_trend[1]\n",
    "      design_trend = [val + val_change, num + 1]\n",
    "    elif category == 'game':\n",
    "      val = game_trend[0]\n",
    "      num = game_trend[1]\n",
    "      game_trend = [val + val_change, num + 1]\n",
    "\n",
    "  print('Stech =', tech_trend[0] / tech_trend[1])\n",
    "  print('Sdesign =', design_trend[0] / design_trend[1])\n",
    "  print('Sgame =', game_trend[0] / game_trend[1])\n",
    "\n",
    "  print('Number of tech companies =', tech_trend[1])\n",
    "  print('Number of design companies =', design_trend[1])\n",
    "  print('Number of game companies =', game_trend[1])"
   ]
  },
  {
   "cell_type": "code",
   "execution_count": 0,
   "metadata": {
    "colab": {},
    "colab_type": "code",
    "id": "3zEK28Y77wyX"
   },
   "outputs": [],
   "source": [
    "def download_and_clean_kickstarter_dataset():\n",
    "  import pandas as pd\n",
    "  import os\n",
    "  import zipfile\n",
    "  import wget\n",
    "  import urllib\n",
    "  import requests\n",
    "  from bs4 import BeautifulSoup\n",
    "  import json\n",
    "\n",
    "\n",
    "  def extract_primary_category(category):\n",
    "      slug = json.loads(category)['slug'].split('/')\n",
    "      if len(slug) < 1:\n",
    "          return None\n",
    "      return slug[0]\n",
    "\n",
    "  def extract_secondary_category(category):\n",
    "      slug = json.loads(category)['slug'].split('/')\n",
    "      if len(slug) < 2:\n",
    "          return None\n",
    "      return slug[1]\n",
    "\n",
    "  def filter_raw_csv(raw_file_name, result_file_name):\n",
    "      df = pd.read_csv(raw_file_name)\n",
    "      columns = ['backers_count', 'category', 'country', 'created_at', 'deadline', 'goal', 'state', 'state_changed_at', 'usd_pledged']\n",
    "      df = df[columns]\n",
    "      df = df[df.country == 'US']\n",
    "      df = df.drop(columns=['country'])\n",
    "      df = df[df.category.str.contains(\"technology\") | df.category.str.contains(\"design\") | df.category.str.contains(\"game\")]\n",
    "      df['primary_category'] = df['category'].apply(extract_primary_category)\n",
    "      df['secondary_category'] = df['category'].apply(extract_secondary_category)\n",
    "      df = df.drop(columns=['category'])\n",
    "      df = df[(df.state == 'failed') | (df.state == 'successful')]\n",
    "      df.to_csv(result_file_name, mode='a', index=False, header=None)\n",
    "\n",
    "  def add_header(result_file_name):\n",
    "      f = open(result_file_name, 'r')\n",
    "      temp = f.read()\n",
    "      f.close()\n",
    "      f = open(result_file_name, 'w')\n",
    "      f.write(\"backers_count,category,created_at,deadline,goal,state,state_changed_at,usd_pledged\\n\")\n",
    "      f.write(temp)\n",
    "      f.close()\n",
    "\n",
    "\n",
    "  # Download all the csv files as zip per month\n",
    "  page = requests.get('https://webrobots.io/kickstarter-datasets/')\n",
    "  soup = BeautifulSoup(page.text, features='html.parser')\n",
    "  table = soup.findAll('div', class_='fusion-text')[0]\n",
    "\n",
    "  links = list()\n",
    "  for href in table.findAll('a'):\n",
    "      link = href['href']\n",
    "      if 'zip' in link:\n",
    "          links.append((href['href'], link.split(\"/\")[-1]))\n",
    "\n",
    "  for link, filename in links[0:38]:\n",
    "      wget.download(link)\n",
    "\n",
    "\n",
    "\n",
    "  # Move all .zip files to zips/ folder\n",
    "  # Unzip all the zip files and store the raw data into datas/\n",
    "  # Filter out unnecessary data and store the final result to results/\n",
    "  zip_name = 'zips/'\n",
    "  results_dir = 'results/result'\n",
    "\n",
    "  os.system('mkdir zips datas results')\n",
    "  os.system('mv *.zip zips')\n",
    "  os.system('rm -rf datas/*')\n",
    "  os.system('rm -rf results/*')\n",
    "\n",
    "  for z in os.listdir(zip_name):\n",
    "      s = ''.join(filter(lambda i : i.isdigit(), z))\n",
    "      s = s[0:8]\n",
    "      with zipfile.ZipFile(zip_name + z, 'r') as zip_ref:\n",
    "          dir_name = 'datas/data' + s\n",
    "          result_file_name = results_dir + s + '.csv'\n",
    "          zip_ref.extractall(dir_name)\n",
    "          for f in os.listdir(dir_name):\n",
    "              filter_raw_csv(dir_name + '/' + f, result_file_name)\n",
    "          add_header(result_file_name)\n",
    "\n",
    "\n",
    "\n",
    "  # Merge result csv files by year\n",
    "  target_year = [2017, 2018, 2019, 2020]\n",
    "  for f in os.listdir('results/'):\n",
    "      num = ''.join(filter(lambda i : i.isdigit(), f))\n",
    "      year = num[0:4]\n",
    "      if int(year) in target_year:\n",
    "          resFile = open('results/' + f, 'r')\n",
    "          data = resFile.read().splitlines(True)\n",
    "          resFile.close()\n",
    "          resFile = open(results_dir + year + '.csv', 'a')\n",
    "          resFile.writelines(data[1:])\n",
    "  for year in target_year:\n",
    "      fin_res_file = results_dir + str(year) + '.csv'\n",
    "      add_header(fin_res_file)"
   ]
  },
  {
   "cell_type": "markdown",
   "metadata": {
    "colab_type": "text",
    "id": "sLaVmASljR22"
   },
   "source": [
    "#__Data Analysis and Results:__"
   ]
  },
  {
   "cell_type": "markdown",
   "metadata": {
    "colab_type": "text",
    "id": "JaRxEsc1yNL-"
   },
   "source": [
    "# **Descriptive Analysis**"
   ]
  },
  {
   "cell_type": "code",
   "execution_count": 0,
   "metadata": {
    "colab": {},
    "colab_type": "code",
    "id": "9nRatPdhyVSy"
   },
   "outputs": [],
   "source": [
    "#Read data\n",
    "ks2017 = pd.read_csv('result2017.csv')\n",
    "ks2018 = pd.read_csv('result2018.csv')\n",
    "ks2019 = pd.read_csv('result2019.csv')\n",
    "\n",
    "#merge all 3years\n",
    "kickstarter = pd.concat([ks2017,ks2018,ks2019])\n",
    "\n",
    "#get rid of unwanted states\n",
    "mask = (kickstarter[\"state\"] == \"successful\") | (kickstarter[\"state\"] == \"failed\")\n",
    "kickstarter = kickstarter.loc[mask]\n",
    "\n",
    "#split dataset into categories\n",
    "mask = kickstarter['primary_category']==\"technology\"\n",
    "ks_tech = kickstarter.loc[mask]\n",
    "\n",
    "mask = kickstarter['primary_category']==\"games\"\n",
    "ks_games = kickstarter.loc[mask]\n",
    "\n",
    "mask = kickstarter['primary_category']==\"design\"\n",
    "ks_design = kickstarter.loc[mask]"
   ]
  },
  {
   "cell_type": "code",
   "execution_count": 0,
   "metadata": {
    "colab": {},
    "colab_type": "code",
    "id": "bW6qhxi2yVM4"
   },
   "outputs": [],
   "source": [
    "#set theme\n",
    "sns.set(style=\"darkgrid\")\n"
   ]
  },
  {
   "cell_type": "code",
   "execution_count": 0,
   "metadata": {
    "colab": {
     "base_uri": "https://localhost:8080/",
     "height": 284
    },
    "colab_type": "code",
    "id": "oszgaiOl5Oso",
    "outputId": "6810d789-b67e-49cd-9043-d92837692678"
   },
   "outputs": [
    {
     "data": {
      "text/html": [
       "<div>\n",
       "<style scoped>\n",
       "    .dataframe tbody tr th:only-of-type {\n",
       "        vertical-align: middle;\n",
       "    }\n",
       "\n",
       "    .dataframe tbody tr th {\n",
       "        vertical-align: top;\n",
       "    }\n",
       "\n",
       "    .dataframe thead th {\n",
       "        text-align: right;\n",
       "    }\n",
       "</style>\n",
       "<table border=\"1\" class=\"dataframe\">\n",
       "  <thead>\n",
       "    <tr style=\"text-align: right;\">\n",
       "      <th></th>\n",
       "      <th>backers_count</th>\n",
       "      <th>created_at</th>\n",
       "      <th>deadline</th>\n",
       "      <th>goal</th>\n",
       "      <th>state_changed_at</th>\n",
       "      <th>usd_pledged</th>\n",
       "    </tr>\n",
       "  </thead>\n",
       "  <tbody>\n",
       "    <tr>\n",
       "      <th>count</th>\n",
       "      <td>931677.000000</td>\n",
       "      <td>9.316770e+05</td>\n",
       "      <td>9.316770e+05</td>\n",
       "      <td>9.316770e+05</td>\n",
       "      <td>9.316770e+05</td>\n",
       "      <td>9.316770e+05</td>\n",
       "    </tr>\n",
       "    <tr>\n",
       "      <th>mean</th>\n",
       "      <td>469.411314</td>\n",
       "      <td>1.426900e+09</td>\n",
       "      <td>1.434817e+09</td>\n",
       "      <td>5.843645e+04</td>\n",
       "      <td>1.434817e+09</td>\n",
       "      <td>4.376040e+04</td>\n",
       "    </tr>\n",
       "    <tr>\n",
       "      <th>std</th>\n",
       "      <td>2374.816340</td>\n",
       "      <td>6.403713e+07</td>\n",
       "      <td>6.407349e+07</td>\n",
       "      <td>1.122819e+06</td>\n",
       "      <td>6.407364e+07</td>\n",
       "      <td>2.329506e+05</td>\n",
       "    </tr>\n",
       "    <tr>\n",
       "      <th>min</th>\n",
       "      <td>0.000000</td>\n",
       "      <td>1.240638e+09</td>\n",
       "      <td>1.243872e+09</td>\n",
       "      <td>1.000000e+00</td>\n",
       "      <td>1.243872e+09</td>\n",
       "      <td>0.000000e+00</td>\n",
       "    </tr>\n",
       "    <tr>\n",
       "      <th>25%</th>\n",
       "      <td>5.000000</td>\n",
       "      <td>1.382314e+09</td>\n",
       "      <td>1.392968e+09</td>\n",
       "      <td>3.000000e+03</td>\n",
       "      <td>1.392968e+09</td>\n",
       "      <td>1.720000e+02</td>\n",
       "    </tr>\n",
       "    <tr>\n",
       "      <th>50%</th>\n",
       "      <td>50.000000</td>\n",
       "      <td>1.425356e+09</td>\n",
       "      <td>1.432306e+09</td>\n",
       "      <td>1.000000e+04</td>\n",
       "      <td>1.432306e+09</td>\n",
       "      <td>3.328000e+03</td>\n",
       "    </tr>\n",
       "    <tr>\n",
       "      <th>75%</th>\n",
       "      <td>269.000000</td>\n",
       "      <td>1.470755e+09</td>\n",
       "      <td>1.478794e+09</td>\n",
       "      <td>3.000000e+04</td>\n",
       "      <td>1.478794e+09</td>\n",
       "      <td>2.029800e+04</td>\n",
       "    </tr>\n",
       "    <tr>\n",
       "      <th>max</th>\n",
       "      <td>219382.000000</td>\n",
       "      <td>1.574781e+09</td>\n",
       "      <td>1.576120e+09</td>\n",
       "      <td>1.000000e+08</td>\n",
       "      <td>1.576120e+09</td>\n",
       "      <td>2.033899e+07</td>\n",
       "    </tr>\n",
       "  </tbody>\n",
       "</table>\n",
       "</div>"
      ],
      "text/plain": [
       "       backers_count    created_at  ...  state_changed_at   usd_pledged\n",
       "count  931677.000000  9.316770e+05  ...      9.316770e+05  9.316770e+05\n",
       "mean      469.411314  1.426900e+09  ...      1.434817e+09  4.376040e+04\n",
       "std      2374.816340  6.403713e+07  ...      6.407364e+07  2.329506e+05\n",
       "min         0.000000  1.240638e+09  ...      1.243872e+09  0.000000e+00\n",
       "25%         5.000000  1.382314e+09  ...      1.392968e+09  1.720000e+02\n",
       "50%        50.000000  1.425356e+09  ...      1.432306e+09  3.328000e+03\n",
       "75%       269.000000  1.470755e+09  ...      1.478794e+09  2.029800e+04\n",
       "max    219382.000000  1.574781e+09  ...      1.576120e+09  2.033899e+07\n",
       "\n",
       "[8 rows x 6 columns]"
      ]
     },
     "execution_count": 8,
     "metadata": {
      "tags": []
     },
     "output_type": "execute_result"
    }
   ],
   "source": [
    "kickstarter.describe()"
   ]
  },
  {
   "cell_type": "markdown",
   "metadata": {
    "colab_type": "text",
    "id": "yc-OHZNUTZhQ"
   },
   "source": [
    "This summarizes our overall Kickstarter data set and includes all the industries together. The columns that we focused on were backers_count, goal, and usd_pledge. The backers_count averaged at ~470 backers. The average amount for goal was higher than the usd_pledge that was received. The goal is higher on average than the pledge amount so companies ask for money than the amount that they were given. "
   ]
  },
  {
   "cell_type": "code",
   "execution_count": 0,
   "metadata": {
    "colab": {
     "base_uri": "https://localhost:8080/",
     "height": 284
    },
    "colab_type": "code",
    "id": "FHHtI0SK5omm",
    "outputId": "3ee31804-9777-4a47-a3f6-8103b599fad5"
   },
   "outputs": [
    {
     "data": {
      "text/html": [
       "<div>\n",
       "<style scoped>\n",
       "    .dataframe tbody tr th:only-of-type {\n",
       "        vertical-align: middle;\n",
       "    }\n",
       "\n",
       "    .dataframe tbody tr th {\n",
       "        vertical-align: top;\n",
       "    }\n",
       "\n",
       "    .dataframe thead th {\n",
       "        text-align: right;\n",
       "    }\n",
       "</style>\n",
       "<table border=\"1\" class=\"dataframe\">\n",
       "  <thead>\n",
       "    <tr style=\"text-align: right;\">\n",
       "      <th></th>\n",
       "      <th>backers_count</th>\n",
       "      <th>created_at</th>\n",
       "      <th>deadline</th>\n",
       "      <th>goal</th>\n",
       "      <th>state_changed_at</th>\n",
       "      <th>usd_pledged</th>\n",
       "    </tr>\n",
       "  </thead>\n",
       "  <tbody>\n",
       "    <tr>\n",
       "      <th>count</th>\n",
       "      <td>446926.000000</td>\n",
       "      <td>4.469260e+05</td>\n",
       "      <td>4.469260e+05</td>\n",
       "      <td>4.469260e+05</td>\n",
       "      <td>4.469260e+05</td>\n",
       "      <td>4.469260e+05</td>\n",
       "    </tr>\n",
       "    <tr>\n",
       "      <th>mean</th>\n",
       "      <td>329.508252</td>\n",
       "      <td>1.433542e+09</td>\n",
       "      <td>1.441749e+09</td>\n",
       "      <td>7.530793e+04</td>\n",
       "      <td>1.441750e+09</td>\n",
       "      <td>4.397509e+04</td>\n",
       "    </tr>\n",
       "    <tr>\n",
       "      <th>std</th>\n",
       "      <td>1734.476196</td>\n",
       "      <td>5.420911e+07</td>\n",
       "      <td>5.391720e+07</td>\n",
       "      <td>1.123149e+06</td>\n",
       "      <td>5.391766e+07</td>\n",
       "      <td>1.997631e+05</td>\n",
       "    </tr>\n",
       "    <tr>\n",
       "      <th>min</th>\n",
       "      <td>0.000000</td>\n",
       "      <td>1.240638e+09</td>\n",
       "      <td>1.243872e+09</td>\n",
       "      <td>1.000000e+00</td>\n",
       "      <td>1.243872e+09</td>\n",
       "      <td>0.000000e+00</td>\n",
       "    </tr>\n",
       "    <tr>\n",
       "      <th>25%</th>\n",
       "      <td>3.000000</td>\n",
       "      <td>1.405023e+09</td>\n",
       "      <td>1.411928e+09</td>\n",
       "      <td>5.000000e+03</td>\n",
       "      <td>1.411928e+09</td>\n",
       "      <td>5.100000e+01</td>\n",
       "    </tr>\n",
       "    <tr>\n",
       "      <th>50%</th>\n",
       "      <td>20.000000</td>\n",
       "      <td>1.430626e+09</td>\n",
       "      <td>1.437782e+09</td>\n",
       "      <td>1.500000e+04</td>\n",
       "      <td>1.437782e+09</td>\n",
       "      <td>1.529000e+03</td>\n",
       "    </tr>\n",
       "    <tr>\n",
       "      <th>75%</th>\n",
       "      <td>147.000000</td>\n",
       "      <td>1.469541e+09</td>\n",
       "      <td>1.478111e+09</td>\n",
       "      <td>5.000000e+04</td>\n",
       "      <td>1.478111e+09</td>\n",
       "      <td>1.741300e+04</td>\n",
       "    </tr>\n",
       "    <tr>\n",
       "      <th>max</th>\n",
       "      <td>105857.000000</td>\n",
       "      <td>1.574550e+09</td>\n",
       "      <td>1.576092e+09</td>\n",
       "      <td>1.000000e+08</td>\n",
       "      <td>1.576092e+09</td>\n",
       "      <td>7.850867e+06</td>\n",
       "    </tr>\n",
       "  </tbody>\n",
       "</table>\n",
       "</div>"
      ],
      "text/plain": [
       "       backers_count    created_at  ...  state_changed_at   usd_pledged\n",
       "count  446926.000000  4.469260e+05  ...      4.469260e+05  4.469260e+05\n",
       "mean      329.508252  1.433542e+09  ...      1.441750e+09  4.397509e+04\n",
       "std      1734.476196  5.420911e+07  ...      5.391766e+07  1.997631e+05\n",
       "min         0.000000  1.240638e+09  ...      1.243872e+09  0.000000e+00\n",
       "25%         3.000000  1.405023e+09  ...      1.411928e+09  5.100000e+01\n",
       "50%        20.000000  1.430626e+09  ...      1.437782e+09  1.529000e+03\n",
       "75%       147.000000  1.469541e+09  ...      1.478111e+09  1.741300e+04\n",
       "max    105857.000000  1.574550e+09  ...      1.576092e+09  7.850867e+06\n",
       "\n",
       "[8 rows x 6 columns]"
      ]
     },
     "execution_count": 9,
     "metadata": {
      "tags": []
     },
     "output_type": "execute_result"
    }
   ],
   "source": [
    "ks_tech.describe()"
   ]
  },
  {
   "cell_type": "markdown",
   "metadata": {
    "colab_type": "text",
    "id": "92rgiqy_TahQ"
   },
   "source": [
    "This chart summarizes only the technology companies within the Kickstarter data. The number of backers averaged ~330 and the pattern of the average goal being higher than the usd_pledge continues in this section. The goal average is a lot larger than the pledge average."
   ]
  },
  {
   "cell_type": "code",
   "execution_count": 0,
   "metadata": {
    "colab": {
     "base_uri": "https://localhost:8080/",
     "height": 284
    },
    "colab_type": "code",
    "id": "J2rJG6w_5oRb",
    "outputId": "0ba0588f-b330-49cd-c0ea-81039d317e9e"
   },
   "outputs": [
    {
     "data": {
      "text/html": [
       "<div>\n",
       "<style scoped>\n",
       "    .dataframe tbody tr th:only-of-type {\n",
       "        vertical-align: middle;\n",
       "    }\n",
       "\n",
       "    .dataframe tbody tr th {\n",
       "        vertical-align: top;\n",
       "    }\n",
       "\n",
       "    .dataframe thead th {\n",
       "        text-align: right;\n",
       "    }\n",
       "</style>\n",
       "<table border=\"1\" class=\"dataframe\">\n",
       "  <thead>\n",
       "    <tr style=\"text-align: right;\">\n",
       "      <th></th>\n",
       "      <th>backers_count</th>\n",
       "      <th>created_at</th>\n",
       "      <th>deadline</th>\n",
       "      <th>goal</th>\n",
       "      <th>state_changed_at</th>\n",
       "      <th>usd_pledged</th>\n",
       "    </tr>\n",
       "  </thead>\n",
       "  <tbody>\n",
       "    <tr>\n",
       "      <th>count</th>\n",
       "      <td>301679.000000</td>\n",
       "      <td>3.016790e+05</td>\n",
       "      <td>3.016790e+05</td>\n",
       "      <td>3.016790e+05</td>\n",
       "      <td>3.016790e+05</td>\n",
       "      <td>3.016790e+05</td>\n",
       "    </tr>\n",
       "    <tr>\n",
       "      <th>mean</th>\n",
       "      <td>680.439338</td>\n",
       "      <td>1.424575e+09</td>\n",
       "      <td>1.432156e+09</td>\n",
       "      <td>4.044546e+04</td>\n",
       "      <td>1.432156e+09</td>\n",
       "      <td>4.271609e+04</td>\n",
       "    </tr>\n",
       "    <tr>\n",
       "      <th>std</th>\n",
       "      <td>3251.014660</td>\n",
       "      <td>6.992331e+07</td>\n",
       "      <td>6.999479e+07</td>\n",
       "      <td>1.105591e+06</td>\n",
       "      <td>6.999478e+07</td>\n",
       "      <td>2.453793e+05</td>\n",
       "    </tr>\n",
       "    <tr>\n",
       "      <th>min</th>\n",
       "      <td>0.000000</td>\n",
       "      <td>1.240998e+09</td>\n",
       "      <td>1.245043e+09</td>\n",
       "      <td>1.000000e+00</td>\n",
       "      <td>1.245043e+09</td>\n",
       "      <td>0.000000e+00</td>\n",
       "    </tr>\n",
       "    <tr>\n",
       "      <th>25%</th>\n",
       "      <td>14.000000</td>\n",
       "      <td>1.366678e+09</td>\n",
       "      <td>1.375073e+09</td>\n",
       "      <td>2.000000e+03</td>\n",
       "      <td>1.375073e+09</td>\n",
       "      <td>5.200000e+02</td>\n",
       "    </tr>\n",
       "    <tr>\n",
       "      <th>50%</th>\n",
       "      <td>107.000000</td>\n",
       "      <td>1.421877e+09</td>\n",
       "      <td>1.428950e+09</td>\n",
       "      <td>6.500000e+03</td>\n",
       "      <td>1.428950e+09</td>\n",
       "      <td>5.000000e+03</td>\n",
       "    </tr>\n",
       "    <tr>\n",
       "      <th>75%</th>\n",
       "      <td>402.000000</td>\n",
       "      <td>1.474293e+09</td>\n",
       "      <td>1.481060e+09</td>\n",
       "      <td>1.650000e+04</td>\n",
       "      <td>1.481060e+09</td>\n",
       "      <td>1.922701e+04</td>\n",
       "    </tr>\n",
       "    <tr>\n",
       "      <th>max</th>\n",
       "      <td>219382.000000</td>\n",
       "      <td>1.574781e+09</td>\n",
       "      <td>1.576107e+09</td>\n",
       "      <td>1.000000e+08</td>\n",
       "      <td>1.576107e+09</td>\n",
       "      <td>1.239314e+07</td>\n",
       "    </tr>\n",
       "  </tbody>\n",
       "</table>\n",
       "</div>"
      ],
      "text/plain": [
       "       backers_count    created_at  ...  state_changed_at   usd_pledged\n",
       "count  301679.000000  3.016790e+05  ...      3.016790e+05  3.016790e+05\n",
       "mean      680.439338  1.424575e+09  ...      1.432156e+09  4.271609e+04\n",
       "std      3251.014660  6.992331e+07  ...      6.999478e+07  2.453793e+05\n",
       "min         0.000000  1.240998e+09  ...      1.245043e+09  0.000000e+00\n",
       "25%        14.000000  1.366678e+09  ...      1.375073e+09  5.200000e+02\n",
       "50%       107.000000  1.421877e+09  ...      1.428950e+09  5.000000e+03\n",
       "75%       402.000000  1.474293e+09  ...      1.481060e+09  1.922701e+04\n",
       "max    219382.000000  1.574781e+09  ...      1.576107e+09  1.239314e+07\n",
       "\n",
       "[8 rows x 6 columns]"
      ]
     },
     "execution_count": 10,
     "metadata": {
      "tags": []
     },
     "output_type": "execute_result"
    }
   ],
   "source": [
    "ks_games.describe()"
   ]
  },
  {
   "cell_type": "markdown",
   "metadata": {
    "colab_type": "text",
    "id": "iU1A8t8gTbcR"
   },
   "source": [
    "This chart summarizes only the games companies within the Kickstarter data. The number of backers averaged ~680. The average goal was lower than the usd_pledge."
   ]
  },
  {
   "cell_type": "code",
   "execution_count": 0,
   "metadata": {
    "colab": {
     "base_uri": "https://localhost:8080/",
     "height": 284
    },
    "colab_type": "code",
    "id": "Sn6SukA85xV3",
    "outputId": "21ed79a6-978e-4163-cf72-ff8ca958681b"
   },
   "outputs": [
    {
     "data": {
      "text/html": [
       "<div>\n",
       "<style scoped>\n",
       "    .dataframe tbody tr th:only-of-type {\n",
       "        vertical-align: middle;\n",
       "    }\n",
       "\n",
       "    .dataframe tbody tr th {\n",
       "        vertical-align: top;\n",
       "    }\n",
       "\n",
       "    .dataframe thead th {\n",
       "        text-align: right;\n",
       "    }\n",
       "</style>\n",
       "<table border=\"1\" class=\"dataframe\">\n",
       "  <thead>\n",
       "    <tr style=\"text-align: right;\">\n",
       "      <th></th>\n",
       "      <th>backers_count</th>\n",
       "      <th>created_at</th>\n",
       "      <th>deadline</th>\n",
       "      <th>goal</th>\n",
       "      <th>state_changed_at</th>\n",
       "      <th>usd_pledged</th>\n",
       "    </tr>\n",
       "  </thead>\n",
       "  <tbody>\n",
       "    <tr>\n",
       "      <th>count</th>\n",
       "      <td>183072.000000</td>\n",
       "      <td>1.830720e+05</td>\n",
       "      <td>1.830720e+05</td>\n",
       "      <td>1.830720e+05</td>\n",
       "      <td>1.830720e+05</td>\n",
       "      <td>1.830720e+05</td>\n",
       "    </tr>\n",
       "    <tr>\n",
       "      <th>mean</th>\n",
       "      <td>463.203882</td>\n",
       "      <td>1.414516e+09</td>\n",
       "      <td>1.422280e+09</td>\n",
       "      <td>4.689564e+04</td>\n",
       "      <td>1.422280e+09</td>\n",
       "      <td>4.495720e+04</td>\n",
       "    </tr>\n",
       "    <tr>\n",
       "      <th>std</th>\n",
       "      <td>1954.349600</td>\n",
       "      <td>7.327004e+07</td>\n",
       "      <td>7.373320e+07</td>\n",
       "      <td>1.149273e+06</td>\n",
       "      <td>7.373303e+07</td>\n",
       "      <td>2.820014e+05</td>\n",
       "    </tr>\n",
       "    <tr>\n",
       "      <th>min</th>\n",
       "      <td>0.000000</td>\n",
       "      <td>1.241023e+09</td>\n",
       "      <td>1.246726e+09</td>\n",
       "      <td>1.000000e+00</td>\n",
       "      <td>1.246726e+09</td>\n",
       "      <td>0.000000e+00</td>\n",
       "    </tr>\n",
       "    <tr>\n",
       "      <th>25%</th>\n",
       "      <td>15.000000</td>\n",
       "      <td>1.356913e+09</td>\n",
       "      <td>1.365812e+09</td>\n",
       "      <td>2.000000e+03</td>\n",
       "      <td>1.365812e+09</td>\n",
       "      <td>6.370000e+02</td>\n",
       "    </tr>\n",
       "    <tr>\n",
       "      <th>50%</th>\n",
       "      <td>91.000000</td>\n",
       "      <td>1.404871e+09</td>\n",
       "      <td>1.410822e+09</td>\n",
       "      <td>6.666000e+03</td>\n",
       "      <td>1.410822e+09</td>\n",
       "      <td>6.256000e+03</td>\n",
       "    </tr>\n",
       "    <tr>\n",
       "      <th>75%</th>\n",
       "      <td>335.000000</td>\n",
       "      <td>1.466716e+09</td>\n",
       "      <td>1.475264e+09</td>\n",
       "      <td>1.750000e+04</td>\n",
       "      <td>1.475264e+09</td>\n",
       "      <td>2.683700e+04</td>\n",
       "    </tr>\n",
       "    <tr>\n",
       "      <th>max</th>\n",
       "      <td>154926.000000</td>\n",
       "      <td>1.574464e+09</td>\n",
       "      <td>1.576120e+09</td>\n",
       "      <td>8.000000e+07</td>\n",
       "      <td>1.576120e+09</td>\n",
       "      <td>2.033899e+07</td>\n",
       "    </tr>\n",
       "  </tbody>\n",
       "</table>\n",
       "</div>"
      ],
      "text/plain": [
       "       backers_count    created_at  ...  state_changed_at   usd_pledged\n",
       "count  183072.000000  1.830720e+05  ...      1.830720e+05  1.830720e+05\n",
       "mean      463.203882  1.414516e+09  ...      1.422280e+09  4.495720e+04\n",
       "std      1954.349600  7.327004e+07  ...      7.373303e+07  2.820014e+05\n",
       "min         0.000000  1.241023e+09  ...      1.246726e+09  0.000000e+00\n",
       "25%        15.000000  1.356913e+09  ...      1.365812e+09  6.370000e+02\n",
       "50%        91.000000  1.404871e+09  ...      1.410822e+09  6.256000e+03\n",
       "75%       335.000000  1.466716e+09  ...      1.475264e+09  2.683700e+04\n",
       "max    154926.000000  1.574464e+09  ...      1.576120e+09  2.033899e+07\n",
       "\n",
       "[8 rows x 6 columns]"
      ]
     },
     "execution_count": 11,
     "metadata": {
      "tags": []
     },
     "output_type": "execute_result"
    }
   ],
   "source": [
    "ks_design.describe()"
   ]
  },
  {
   "cell_type": "markdown",
   "metadata": {
    "colab_type": "text",
    "id": "u9ORYJkUTcUl"
   },
   "source": [
    "This chart summarizes only the games companies within the Kickstarter data. The number of backers averaged ~460. The average goal was higher than the usd_pledge. "
   ]
  },
  {
   "cell_type": "markdown",
   "metadata": {
    "colab_type": "text",
    "id": "_qbOLzcr6Ht6"
   },
   "source": [
    "**things to notice**\n",
    "\n",
    "**- mean goal :** tech>design>games\n",
    "\n",
    "**- mean backers count:** games>design>tech\n",
    "\n",
    "**- mean usd_pledged :** design>tech>games\n",
    "\n",
    "Although the overall design has the highest average pledge amount, the pledge average of games was higher than its own goal average. This is different from design and technology because their goal amount was higher than their pledge amount. Technology had the highest mean goal however it’s pledge amount average was not that high and could explain the successes and failures of the companies under technology. \n"
   ]
  },
  {
   "cell_type": "markdown",
   "metadata": {
    "colab_type": "text",
    "id": "gQDi_rM2zgHB"
   },
   "source": [
    "Barplot of percentage of categories"
   ]
  },
  {
   "cell_type": "code",
   "execution_count": 0,
   "metadata": {
    "colab": {
     "base_uri": "https://localhost:8080/",
     "height": 301
    },
    "colab_type": "code",
    "id": "GdWiP9Q3yVG8",
    "outputId": "6fa5faa8-2da7-4448-9de4-20ef8ce44a94"
   },
   "outputs": [
    {
     "data": {
      "image/png": "[encoded data removed]",
      "text/plain": [
       "<Figure size 432x288 with 1 Axes>"
      ]
     },
     "metadata": {
      "tags": []
     },
     "output_type": "display_data"
    }
   ],
   "source": [
    "#Distribution of categories\n",
    "ax = sns.countplot(x='primary_category',data=kickstarter);\n",
    "plt.title('Percentages of Categories')\n",
    "total = len(kickstarter['primary_category'])\n",
    "for p in ax.patches:\n",
    "        percentage = '{:.1f}%'.format(100 * p.get_height()/total)\n",
    "        ax.text(p.get_x()+p.get_width()/2.,p.get_height() + 3000,percentage,ha=\"center\") \n",
    "plt.show()"
   ]
  },
  {
   "cell_type": "markdown",
   "metadata": {
    "colab_type": "text",
    "id": "-4IBqA21kcXc"
   },
   "source": [
    "This bar plot shows the percentage of each type of companies in our dataset. We have the largest sample size for technology companies and the smallest sample size for design companies. \n"
   ]
  },
  {
   "cell_type": "markdown",
   "metadata": {
    "colab_type": "text",
    "id": "wl4mkHdsznLT"
   },
   "source": [
    "Barplot of State for the whole and each 3 categories"
   ]
  },
  {
   "cell_type": "code",
   "execution_count": 0,
   "metadata": {
    "colab": {
     "base_uri": "https://localhost:8080/",
     "height": 301
    },
    "colab_type": "code",
    "id": "rDlrsJNGyVCc",
    "outputId": "215ab3d8-d61f-46eb-d14f-9466ee3461fe"
   },
   "outputs": [
    {
     "data": {
      "image/png": "[encoded data removed]",
      "text/plain": [
       "<Figure size 432x288 with 1 Axes>"
      ]
     },
     "metadata": {
      "tags": []
     },
     "output_type": "display_data"
    }
   ],
   "source": [
    "#Distribution of state for whole data\n",
    "ax = sns.countplot(x='state',order=['successful', 'failed'],data=kickstarter);\n",
    "plt.title('States for Whole Categories')\n",
    "total = len(kickstarter['state'])\n",
    "for p in ax.patches:\n",
    "        percentage = '{:.1f}%'.format(100 * p.get_height()/total)\n",
    "        ax.text(p.get_x()+p.get_width()/2.,p.get_height() + 3000,percentage,ha=\"center\") \n",
    "plt.show()"
   ]
  },
  {
   "cell_type": "markdown",
   "metadata": {
    "colab_type": "text",
    "id": "04w43QsEUFPa"
   },
   "source": [
    "Overall, Kickstarter companies in our dataset are more likely to be successful. 55.2% of the companies in our data succeeded and 44.8% of the companies failed."
   ]
  },
  {
   "cell_type": "code",
   "execution_count": 0,
   "metadata": {
    "colab": {
     "base_uri": "https://localhost:8080/",
     "height": 301
    },
    "colab_type": "code",
    "id": "TSiCmKtLyU81",
    "outputId": "b72b09ae-452b-4be6-c16e-8c6fe38bebcb"
   },
   "outputs": [
    {
     "data": {
      "image/png": "[encoded data removed]",
      "text/plain": [
       "<Figure size 432x288 with 1 Axes>"
      ]
     },
     "metadata": {
      "tags": []
     },
     "output_type": "display_data"
    }
   ],
   "source": [
    "#Distribution of state for tech\n",
    "ax = sns.countplot(x='state',order=['successful', 'failed'],data=ks_tech);\n",
    "plt.title('States for Technology Category')\n",
    "total = len(ks_tech['state'])\n",
    "for p in ax.patches:\n",
    "        percentage = '{:.1f}%'.format(100 * p.get_height()/total)\n",
    "        ax.text(p.get_x()+p.get_width()/2.,p.get_height() + 2000,percentage,ha=\"center\") \n",
    "plt.show()"
   ]
  },
  {
   "cell_type": "markdown",
   "metadata": {
    "colab_type": "text",
    "id": "7078rKQuCthQ"
   },
   "source": [
    "39.7% of the technology companies succeeded and 60.3% of them failed.\n"
   ]
  },
  {
   "cell_type": "code",
   "execution_count": 0,
   "metadata": {
    "colab": {
     "base_uri": "https://localhost:8080/",
     "height": 301
    },
    "colab_type": "code",
    "id": "xYwwRMatyU3b",
    "outputId": "07b456e7-1483-4b86-8a65-11d05eb011f1"
   },
   "outputs": [
    {
     "data": {
      "image/png": "[encoded data removed]",
      "text/plain": [
       "<Figure size 432x288 with 1 Axes>"
      ]
     },
     "metadata": {
      "tags": []
     },
     "output_type": "display_data"
    }
   ],
   "source": [
    "#Distribution of state for games\n",
    "ax =sns.countplot(x='state',data=ks_games);\n",
    "plt.title('States for Games Category')\n",
    "total = len(ks_games['state'])\n",
    "for p in ax.patches:\n",
    "        percentage = '{:.1f}%'.format(100 * p.get_height()/total)\n",
    "        ax.text(p.get_x()+p.get_width()/2.,p.get_height() + 2000,percentage,ha=\"center\") \n",
    "plt.show()"
   ]
  },
  {
   "cell_type": "markdown",
   "metadata": {
    "colab_type": "text",
    "id": "AIJH69J7CvZR"
   },
   "source": [
    "68% of the games companies succeeded and 32% of them failed.\n"
   ]
  },
  {
   "cell_type": "code",
   "execution_count": 0,
   "metadata": {
    "colab": {
     "base_uri": "https://localhost:8080/",
     "height": 301
    },
    "colab_type": "code",
    "id": "gqTGBy9oyUyM",
    "outputId": "ee6f6285-beec-43df-d07d-7df4dd0b551e"
   },
   "outputs": [
    {
     "data": {
      "image/png": "[encoded data removed]",
      "text/plain": [
       "<Figure size 432x288 with 1 Axes>"
      ]
     },
     "metadata": {
      "tags": []
     },
     "output_type": "display_data"
    }
   ],
   "source": [
    "#Distribution of state for design\n",
    "ax=sns.countplot(x='state',data=ks_design);\n",
    "plt.title('States for Design Category')\n",
    "total = len(ks_design['state'])\n",
    "for p in ax.patches:\n",
    "        percentage = '{:.1f}%'.format(100 * p.get_height()/total)\n",
    "        ax.text(p.get_x()+p.get_width()/2.,p.get_height() + 2000,percentage,ha=\"center\") \n",
    "plt.show()"
   ]
  },
  {
   "cell_type": "markdown",
   "metadata": {
    "colab_type": "text",
    "id": "E5W2B4A7Cw7f"
   },
   "source": [
    "71.8% of the design companies succeeded and 28.2% of them failed."
   ]
  },
  {
   "cell_type": "markdown",
   "metadata": {
    "colab_type": "text",
    "id": "WaNSD3bLvRMg"
   },
   "source": [
    "For these barplot visualizations, we can infer the probability of success and failure for each of the categories. For technology, the percentage of success was less than percentage of failure. For games and design, the percentage of companies that were considered successful was a lot higher than the ones that failed. Based on the visualizations, we can learn that in game and design categories, more companies succeeded than failed, while in technology category more companies failed than succeeded. "
   ]
  },
  {
   "cell_type": "markdown",
   "metadata": {
    "colab_type": "text",
    "id": "O7SZ7MZKzzwp"
   },
   "source": [
    "**Boxplots of Number of Backers for Each 3 Categories**"
   ]
  },
  {
   "cell_type": "markdown",
   "metadata": {
    "colab_type": "text",
    "id": "s8TBjb-YLv0c"
   },
   "source": [
    "We used boxplots to visualize the distribution of number of backers, pledged amount, and goal amount in each state from different categories. This will help investigate the features of successful companies and failed companies."
   ]
  },
  {
   "cell_type": "code",
   "execution_count": 0,
   "metadata": {
    "colab": {
     "base_uri": "https://localhost:8080/",
     "height": 301
    },
    "colab_type": "code",
    "id": "QOEVobwZE1Sf",
    "outputId": "6dee390f-f79e-4ed6-9c4b-e7d735d4f625"
   },
   "outputs": [
    {
     "data": {
      "image/png": "[encoded data removed]",
      "text/plain": [
       "<Figure size 432x288 with 1 Axes>"
      ]
     },
     "metadata": {
      "tags": []
     },
     "output_type": "display_data"
    }
   ],
   "source": [
    "#Reduce the data to 90% quantile to remove outliers\n",
    "sm = ks_tech[\"backers_count\"].quantile(.90)\n",
    "tech_small = ks_tech[ks_tech['backers_count']<sm]\n",
    "\n",
    "#Boxplot of number of backers for tech category, reduced.\n",
    "ax = sns.boxplot(x=tech_small[\"state\"],y=tech_small[\"backers_count\"],order=['successful', 'failed'])\n",
    "plt.title('Number of Backers for Technology Categories in Different States')\n",
    "ax.set(ylabel='number of backers', xlabel='state')\n",
    "plt.show()"
   ]
  },
  {
   "cell_type": "markdown",
   "metadata": {
    "colab_type": "text",
    "id": "u9L-rFzBJuzC"
   },
   "source": [
    "From this plot we can see that in technology category, successful kickstarter companies attracted more number of backers than failed kickstarter companies.\n"
   ]
  },
  {
   "cell_type": "code",
   "execution_count": 0,
   "metadata": {
    "colab": {
     "base_uri": "https://localhost:8080/",
     "height": 301
    },
    "colab_type": "code",
    "id": "A6Vtbq5XE587",
    "outputId": "874b3b89-fb59-4730-c468-2f0dbc1433de"
   },
   "outputs": [
    {
     "data": {
      "image/png": "[encoded data removed]",
      "text/plain": [
       "<Figure size 432x288 with 1 Axes>"
      ]
     },
     "metadata": {
      "tags": []
     },
     "output_type": "display_data"
    }
   ],
   "source": [
    "#Reduce the data to 90% quantile to remove outliers\n",
    "sm = ks_games[\"backers_count\"].quantile(.90)\n",
    "game_small = ks_games[ks_games['backers_count']<sm]\n",
    "\n",
    "#Boxplot of number of backers for games category, reduced.\n",
    "ax = sns.boxplot(x=game_small[\"state\"],y=game_small[\"backers_count\"])\n",
    "plt.title('Number of Backers for Games Categories in Different States')\n",
    "ax.set(ylabel='number of backers', xlabel='state')\n",
    "plt.show()"
   ]
  },
  {
   "cell_type": "markdown",
   "metadata": {
    "colab_type": "text",
    "id": "I5Zl4CCAJy2K"
   },
   "source": [
    "Similarly, in games category, successful kickstarter companies attracted more number of backers than failed kickstarter companies.\n"
   ]
  },
  {
   "cell_type": "code",
   "execution_count": 0,
   "metadata": {
    "colab": {
     "base_uri": "https://localhost:8080/",
     "height": 301
    },
    "colab_type": "code",
    "id": "PFeoiAeKFAwV",
    "outputId": "03d1dda9-c44d-4c00-d557-0079b78ea17d"
   },
   "outputs": [
    {
     "data": {
      "image/png": "[encoded data removed]",
      "text/plain": [
       "<Figure size 432x288 with 1 Axes>"
      ]
     },
     "metadata": {
      "tags": []
     },
     "output_type": "display_data"
    }
   ],
   "source": [
    "#Reduce the data to 90% quantile to remove outliers\n",
    "sm = ks_design[\"backers_count\"].quantile(.90)\n",
    "design_small = ks_design[ks_design['backers_count']<sm]\n",
    "\n",
    "#Boxplot of number of backers for design category, reduced.\n",
    "ax = sns.boxplot(x=design_small[\"state\"],y=design_small[\"backers_count\"])\n",
    "plt.title('Number of Backers for Design Categories in Different States')\n",
    "ax.set(ylabel='number of backers', xlabel='state')\n",
    "plt.show()"
   ]
  },
  {
   "cell_type": "markdown",
   "metadata": {
    "colab_type": "text",
    "id": "B0K7uDTNJ4B8"
   },
   "source": [
    "Similarly in design category, successful kickstarter companies attracted more number of backers than failed kickstarter companies."
   ]
  },
  {
   "cell_type": "markdown",
   "metadata": {
    "colab_type": "text",
    "id": "8NFTIGDTKC3A"
   },
   "source": [
    "It is notable that In all three categories, interquartile range for failed companies stayed near zero while successful companies had about 200. Failed companies mostly couldn't attract any backers while successful companies appealed to hundreds of people. These visualization indicates that kickstarter companies would need enough number of backers in order to succeed"
   ]
  },
  {
   "cell_type": "markdown",
   "metadata": {
    "colab_type": "text",
    "id": "A6KpNeH0K02_"
   },
   "source": [
    "**Boxplots of Pledged Amounts for Each 3 Categories**"
   ]
  },
  {
   "cell_type": "code",
   "execution_count": 0,
   "metadata": {
    "colab": {
     "base_uri": "https://localhost:8080/",
     "height": 301
    },
    "colab_type": "code",
    "id": "eM4sSQinFHUX",
    "outputId": "22d470e9-ad67-4c36-faaf-876208ee7469"
   },
   "outputs": [
    {
     "data": {
      "image/png": "[encoded data removed]",
      "text/plain": [
       "<Figure size 432x288 with 1 Axes>"
      ]
     },
     "metadata": {
      "tags": []
     },
     "output_type": "display_data"
    }
   ],
   "source": [
    "#Reduce the data to 90% quantile to remove outliers\n",
    "sm = ks_tech[\"usd_pledged\"].quantile(.90)\n",
    "tech_small = ks_tech[ks_tech['usd_pledged']<sm]\n",
    "\n",
    "#Boxplot of usd_pledged for tech category, reduced.\n",
    "ax = sns.boxplot(x=tech_small[\"state\"],y=tech_small[\"usd_pledged\"],order=['successful', 'failed'])\n",
    "plt.title('Pledged Amount for Technology Categories in Different States')\n",
    "ax.set(xlabel='Pledged Amount($)', ylabel='state')\n",
    "plt.show()"
   ]
  },
  {
   "cell_type": "markdown",
   "metadata": {
    "colab_type": "text",
    "id": "f_U_vedhKTf5"
   },
   "source": [
    "From this plot, we can see that in technology category, pledged amounts for successful kickstarters are much greater than those for failed kickstarters."
   ]
  },
  {
   "cell_type": "code",
   "execution_count": 0,
   "metadata": {
    "colab": {
     "base_uri": "https://localhost:8080/",
     "height": 301
    },
    "colab_type": "code",
    "id": "XP1FnrFqFOze",
    "outputId": "9e0e9387-c0b9-45a1-e6e2-d29d7d8d34a2"
   },
   "outputs": [
    {
     "data": {
      "image/png": "[encoded data removed]",
      "text/plain": [
       "<Figure size 432x288 with 1 Axes>"
      ]
     },
     "metadata": {
      "tags": []
     },
     "output_type": "display_data"
    }
   ],
   "source": [
    "#Reduce the data to 90% quantile to remove outliers\n",
    "sm = ks_games[\"usd_pledged\"].quantile(.90)\n",
    "game_small = ks_games[ks_games['usd_pledged']<sm]\n",
    "\n",
    "#Boxplot of number of backers for games category, reduced.\n",
    "ax = sns.boxplot(x=game_small[\"state\"],y=game_small[\"usd_pledged\"])\n",
    "plt.title('Pledged Amount($) for Games Categories in Different States')\n",
    "ax.set(ylabel='Pledged Amount($)', xlabel='state')\n",
    "plt.show()"
   ]
  },
  {
   "cell_type": "markdown",
   "metadata": {
    "colab_type": "text",
    "id": "g7mPhJS3KXHc"
   },
   "source": [
    "Similarly, we can see that in games category, pledged amounts for successful kickstarters are much greater than those for failed kickstarters. \n"
   ]
  },
  {
   "cell_type": "code",
   "execution_count": 0,
   "metadata": {
    "colab": {
     "base_uri": "https://localhost:8080/",
     "height": 301
    },
    "colab_type": "code",
    "id": "Xo6WW-vSFUZV",
    "outputId": "2709aec0-98c4-4000-9d5e-adc9a66b80a1"
   },
   "outputs": [
    {
     "data": {
      "image/png": "[encoded data removed]",
      "text/plain": [
       "<Figure size 432x288 with 1 Axes>"
      ]
     },
     "metadata": {
      "tags": []
     },
     "output_type": "display_data"
    }
   ],
   "source": [
    "#Reduce the data to 90% quantile to remove outliers\n",
    "sm = ks_design[\"usd_pledged\"].quantile(.90)\n",
    "design_small = ks_design[ks_design['usd_pledged']<sm]\n",
    "\n",
    "#Boxplot of number of backers for games category, reduced.\n",
    "ax = sns.boxplot(x=design_small[\"state\"],y=design_small[\"usd_pledged\"])\n",
    "plt.title('Pledged Amount($) for Design Categories in Different States')\n",
    "ax.set(ylabel='Pledged Amount($)', xlabel='state')\n",
    "plt.show()"
   ]
  },
  {
   "cell_type": "markdown",
   "metadata": {
    "colab_type": "text",
    "id": "MOiwQbasKaX-"
   },
   "source": [
    "Similarly, we can see that in design category, pledged amounts for successful kickstarters are much greater than those for failed kickstarters. "
   ]
  },
  {
   "cell_type": "markdown",
   "metadata": {
    "colab_type": "text",
    "id": "OZPBcqlXLAzk"
   },
   "source": [
    "From these visualizations we can see that in all three categories, interquartile range for failed companies stayed near zero while successful companies had about 20000. Failed companies mostly did not gain enough money to support their business while successful companies accrued enough money for their project. It hints that greater pledged amount is the key to be a successful kickstarter.\n"
   ]
  },
  {
   "cell_type": "markdown",
   "metadata": {
    "colab_type": "text",
    "id": "b0VXIQ1Xz--d"
   },
   "source": [
    "**Boxplot of Goal Amount for Each 3 Categories**"
   ]
  },
  {
   "cell_type": "code",
   "execution_count": 0,
   "metadata": {
    "colab": {
     "base_uri": "https://localhost:8080/",
     "height": 301
    },
    "colab_type": "code",
    "id": "rVkvXRdqFgZv",
    "outputId": "e4c07dbe-70a7-43bb-c003-6c2c3466e281"
   },
   "outputs": [
    {
     "data": {
      "image/png": "[encoded data removed]",
      "text/plain": [
       "<Figure size 432x288 with 1 Axes>"
      ]
     },
     "metadata": {
      "tags": []
     },
     "output_type": "display_data"
    }
   ],
   "source": [
    "#Reduce the data to 90% quantile to remove outliers\n",
    "sm = ks_tech[\"goal\"].quantile(.90)\n",
    "tech_small = ks_tech[ks_tech['goal']<sm]\n",
    "\n",
    "#Boxplot of goal for tech category, reduced.\n",
    "ax = sns.boxplot(x=tech_small[\"state\"],y=tech_small[\"goal\"],order=['successful', 'failed'])\n",
    "plt.title('Goal Amount for Technology Categories in Different States')\n",
    "ax.set(ylabel='Goal Amount($)', xlabel='state')\n",
    "plt.show()"
   ]
  },
  {
   "cell_type": "markdown",
   "metadata": {
    "colab_type": "text",
    "id": "TVp5EACJLWBE"
   },
   "source": [
    "From this plot, we can see that in technology category, failed kickstarters tend to have greater goal amount than successful kickstarters did.\n"
   ]
  },
  {
   "cell_type": "code",
   "execution_count": 0,
   "metadata": {
    "colab": {
     "base_uri": "https://localhost:8080/",
     "height": 301
    },
    "colab_type": "code",
    "id": "LFbpYI_7FqSK",
    "outputId": "d00a8b58-cf30-41e2-deb2-3eb5b6103f57"
   },
   "outputs": [
    {
     "data": {
      "image/png": "[encoded data removed]",
      "text/plain": [
       "<Figure size 432x288 with 1 Axes>"
      ]
     },
     "metadata": {
      "tags": []
     },
     "output_type": "display_data"
    }
   ],
   "source": [
    "#Reduce the data to 90% quantile to remove outliers\n",
    "sm = ks_games[\"goal\"].quantile(.90)\n",
    "game_small = ks_games[ks_games['goal']<sm]\n",
    "\n",
    "#Boxplot of goal for games category, reduced.\n",
    "ax = sns.boxplot(x=game_small[\"state\"],y=game_small[\"goal\"])\n",
    "plt.title('Goal Amount for Games Categories in Different States')\n",
    "ax.set(ylabel='Goal Amount($)', xlabel='state')\n",
    "plt.show()"
   ]
  },
  {
   "cell_type": "markdown",
   "metadata": {
    "colab_type": "text",
    "id": "thQjkk2nLZzh"
   },
   "source": [
    "Similarly, we can see that in games category, failed kickstarters tend to have greater goal amount than successful kickstarters did.\n"
   ]
  },
  {
   "cell_type": "code",
   "execution_count": 0,
   "metadata": {
    "colab": {
     "base_uri": "https://localhost:8080/",
     "height": 301
    },
    "colab_type": "code",
    "id": "2gSwk0mfFwjB",
    "outputId": "3ec28f45-9b86-4997-9fe6-a22f17ad39e6"
   },
   "outputs": [
    {
     "data": {
      "image/png": "[encoded data removed]",
      "text/plain": [
       "<Figure size 432x288 with 1 Axes>"
      ]
     },
     "metadata": {
      "tags": []
     },
     "output_type": "display_data"
    }
   ],
   "source": [
    "#Reduce the data to 90% quantile to remove outliers\n",
    "sm = ks_design[\"goal\"].quantile(.90)\n",
    "design_small = ks_design[ks_design['goal']<sm]\n",
    "\n",
    "\n",
    "#Boxplot of goal for design category, reduced.\n",
    "ax = sns.boxplot(x=design_small[\"state\"],y=design_small[\"goal\"])\n",
    "plt.title('Goal Amount for Design Categories in Different States')\n",
    "ax.set(ylabel='Goal Amount($)', xlabel='state')\n",
    "plt.show()"
   ]
  },
  {
   "cell_type": "markdown",
   "metadata": {
    "colab_type": "text",
    "id": "xDZBkL3BLc_J"
   },
   "source": [
    "From this plot, we can see that in design category, successful kickstarters tend to have greater goal amount than failed kickstarters did.\n"
   ]
  },
  {
   "cell_type": "markdown",
   "metadata": {
    "colab_type": "text",
    "id": "XZ-YZr1aLdqe"
   },
   "source": [
    "It is notable that In technology and games categories, failed companies tend to have larger goal amounts than successful projects did. However, in design category, successful companies tend to have larger goal amounts than failed projects did. Unlike number of backers and pledged amount, the trend of goal amount among state differed from categories."
   ]
  },
  {
   "cell_type": "markdown",
   "metadata": {
    "colab_type": "text",
    "id": "yXZCaReyMDj-"
   },
   "source": [
    "Overall, from the boxplot, we could infer that in technology and games categories,successful companies tend to have greater number of backers, greater pledged amount, and less goal amount. And in design category while all the other stayed the same, greater goal amount was a tendency for successful companies. Now, we will actually build a model that will predict the state of the company given its category, number of backers, pledged amount, and goal amount. "
   ]
  },
  {
   "cell_type": "markdown",
   "metadata": {
    "colab_type": "text",
    "id": "BaEEWIZkyHP2"
   },
   "source": [
    "# **Modeling Part**"
   ]
  },
  {
   "cell_type": "code",
   "execution_count": 0,
   "metadata": {
    "colab": {},
    "colab_type": "code",
    "id": "BmRoSCRxw_bB"
   },
   "outputs": [],
   "source": [
    "# stocks_df = pd.read_csv('newstocks.csv')\n",
    "df1 = pd.read_csv('result2017.csv')\n",
    "df2 = pd.read_csv('result2018.csv')\n",
    "df3 = pd.read_csv('result2019.csv')\n",
    "kickstarter_df = pd.concat([df1, df2, df3], ignore_index=True)"
   ]
  },
  {
   "cell_type": "code",
   "execution_count": 0,
   "metadata": {
    "colab": {
     "base_uri": "https://localhost:8080/",
     "height": 419
    },
    "colab_type": "code",
    "id": "Ht2qt5l6xzFm",
    "outputId": "bd3bd213-49c0-407f-e5eb-4722a00029d8"
   },
   "outputs": [
    {
     "data": {
      "text/html": [
       "<div>\n",
       "<style scoped>\n",
       "    .dataframe tbody tr th:only-of-type {\n",
       "        vertical-align: middle;\n",
       "    }\n",
       "\n",
       "    .dataframe tbody tr th {\n",
       "        vertical-align: top;\n",
       "    }\n",
       "\n",
       "    .dataframe thead th {\n",
       "        text-align: right;\n",
       "    }\n",
       "</style>\n",
       "<table border=\"1\" class=\"dataframe\">\n",
       "  <thead>\n",
       "    <tr style=\"text-align: right;\">\n",
       "      <th></th>\n",
       "      <th>backers_count</th>\n",
       "      <th>created_at</th>\n",
       "      <th>deadline</th>\n",
       "      <th>goal</th>\n",
       "      <th>state</th>\n",
       "      <th>state_changed_at</th>\n",
       "      <th>usd_pledged</th>\n",
       "      <th>primary_category</th>\n",
       "      <th>secondary_category</th>\n",
       "    </tr>\n",
       "  </thead>\n",
       "  <tbody>\n",
       "    <tr>\n",
       "      <th>0</th>\n",
       "      <td>29</td>\n",
       "      <td>1433360140</td>\n",
       "      <td>1437939730</td>\n",
       "      <td>10000.0</td>\n",
       "      <td>failed</td>\n",
       "      <td>1437939730</td>\n",
       "      <td>1937.00</td>\n",
       "      <td>technology</td>\n",
       "      <td>gadgets</td>\n",
       "    </tr>\n",
       "    <tr>\n",
       "      <th>1</th>\n",
       "      <td>2</td>\n",
       "      <td>1441391288</td>\n",
       "      <td>1444832430</td>\n",
       "      <td>100000.0</td>\n",
       "      <td>failed</td>\n",
       "      <td>1444832432</td>\n",
       "      <td>36.00</td>\n",
       "      <td>technology</td>\n",
       "      <td>gadgets</td>\n",
       "    </tr>\n",
       "    <tr>\n",
       "      <th>2</th>\n",
       "      <td>1</td>\n",
       "      <td>1469329044</td>\n",
       "      <td>1470850185</td>\n",
       "      <td>10000.0</td>\n",
       "      <td>failed</td>\n",
       "      <td>1470850185</td>\n",
       "      <td>35.00</td>\n",
       "      <td>technology</td>\n",
       "      <td>gadgets</td>\n",
       "    </tr>\n",
       "    <tr>\n",
       "      <th>3</th>\n",
       "      <td>63</td>\n",
       "      <td>1437019307</td>\n",
       "      <td>1440782414</td>\n",
       "      <td>15000.0</td>\n",
       "      <td>failed</td>\n",
       "      <td>1440782414</td>\n",
       "      <td>7375.00</td>\n",
       "      <td>technology</td>\n",
       "      <td>gadgets</td>\n",
       "    </tr>\n",
       "    <tr>\n",
       "      <th>4</th>\n",
       "      <td>1</td>\n",
       "      <td>1436193182</td>\n",
       "      <td>1438785180</td>\n",
       "      <td>7500.0</td>\n",
       "      <td>failed</td>\n",
       "      <td>1438785180</td>\n",
       "      <td>25.00</td>\n",
       "      <td>technology</td>\n",
       "      <td>gadgets</td>\n",
       "    </tr>\n",
       "    <tr>\n",
       "      <th>...</th>\n",
       "      <td>...</td>\n",
       "      <td>...</td>\n",
       "      <td>...</td>\n",
       "      <td>...</td>\n",
       "      <td>...</td>\n",
       "      <td>...</td>\n",
       "      <td>...</td>\n",
       "      <td>...</td>\n",
       "      <td>...</td>\n",
       "    </tr>\n",
       "    <tr>\n",
       "      <th>1031363</th>\n",
       "      <td>1</td>\n",
       "      <td>1435614038</td>\n",
       "      <td>1439519012</td>\n",
       "      <td>40000.0</td>\n",
       "      <td>failed</td>\n",
       "      <td>1439519014</td>\n",
       "      <td>100.00</td>\n",
       "      <td>technology</td>\n",
       "      <td>fabrication tools</td>\n",
       "    </tr>\n",
       "    <tr>\n",
       "      <th>1031364</th>\n",
       "      <td>200</td>\n",
       "      <td>1448106944</td>\n",
       "      <td>1454684964</td>\n",
       "      <td>10000.0</td>\n",
       "      <td>successful</td>\n",
       "      <td>1454684964</td>\n",
       "      <td>12505.51</td>\n",
       "      <td>games</td>\n",
       "      <td>puzzles</td>\n",
       "    </tr>\n",
       "    <tr>\n",
       "      <th>1031365</th>\n",
       "      <td>5</td>\n",
       "      <td>1526931737</td>\n",
       "      <td>1531033200</td>\n",
       "      <td>68888.0</td>\n",
       "      <td>canceled</td>\n",
       "      <td>1530163837</td>\n",
       "      <td>252.00</td>\n",
       "      <td>games</td>\n",
       "      <td>puzzles</td>\n",
       "    </tr>\n",
       "    <tr>\n",
       "      <th>1031366</th>\n",
       "      <td>309</td>\n",
       "      <td>1461959873</td>\n",
       "      <td>1470671965</td>\n",
       "      <td>90000.0</td>\n",
       "      <td>successful</td>\n",
       "      <td>1470671965</td>\n",
       "      <td>109304.00</td>\n",
       "      <td>technology</td>\n",
       "      <td>fabrication tools</td>\n",
       "    </tr>\n",
       "    <tr>\n",
       "      <th>1031367</th>\n",
       "      <td>3</td>\n",
       "      <td>1456471382</td>\n",
       "      <td>1463371498</td>\n",
       "      <td>10000.0</td>\n",
       "      <td>failed</td>\n",
       "      <td>1463371499</td>\n",
       "      <td>29.00</td>\n",
       "      <td>games</td>\n",
       "      <td>puzzles</td>\n",
       "    </tr>\n",
       "  </tbody>\n",
       "</table>\n",
       "<p>1031368 rows × 9 columns</p>\n",
       "</div>"
      ],
      "text/plain": [
       "         backers_count  created_at  ...  primary_category  secondary_category\n",
       "0                   29  1433360140  ...        technology             gadgets\n",
       "1                    2  1441391288  ...        technology             gadgets\n",
       "2                    1  1469329044  ...        technology             gadgets\n",
       "3                   63  1437019307  ...        technology             gadgets\n",
       "4                    1  1436193182  ...        technology             gadgets\n",
       "...                ...         ...  ...               ...                 ...\n",
       "1031363              1  1435614038  ...        technology   fabrication tools\n",
       "1031364            200  1448106944  ...             games             puzzles\n",
       "1031365              5  1526931737  ...             games             puzzles\n",
       "1031366            309  1461959873  ...        technology   fabrication tools\n",
       "1031367              3  1456471382  ...             games             puzzles\n",
       "\n",
       "[1031368 rows x 9 columns]"
      ]
     },
     "execution_count": 4,
     "metadata": {
      "tags": []
     },
     "output_type": "execute_result"
    }
   ],
   "source": [
    "kickstarter_df"
   ]
  },
  {
   "cell_type": "code",
   "execution_count": 0,
   "metadata": {
    "colab": {
     "base_uri": "https://localhost:8080/",
     "height": 119
    },
    "colab_type": "code",
    "id": "6JxXnmpMxD2x",
    "outputId": "bcb9d01d-8d46-44a8-b36e-404fa5394f35"
   },
   "outputs": [
    {
     "name": "stderr",
     "output_type": "stream",
     "text": [
      "/usr/local/lib/python3.6/dist-packages/ipykernel_launcher.py:10: SettingWithCopyWarning: \n",
      "A value is trying to be set on a copy of a slice from a DataFrame.\n",
      "Try using .loc[row_indexer,col_indexer] = value instead\n",
      "\n",
      "See the caveats in the documentation: http://pandas.pydata.org/pandas-docs/stable/user_guide/indexing.html#returning-a-view-versus-a-copy\n",
      "  # Remove the CWD from sys.path while we load stuff.\n"
     ]
    }
   ],
   "source": [
    "future_trend_dict = { 'technology': 25.601547405434047,\n",
    "                     'design': 0.25960780014819734,\n",
    "                     'game': -0.08662255731298997 }\n",
    "\n",
    "kickstarter_df.replace('live', np.nan, inplace = True)\n",
    "kickstarter_df.replace('canceled', np.nan, inplace = True)\n",
    "kickstarter_df.replace('suspended', np.nan, inplace = True)\n",
    "kickstarter_df = kickstarter_df.dropna()\n",
    "\n",
    "kickstarter_df['state_val'] = kickstarter_df.state.apply(lambda x: 1 if x == 'successful' else -1)"
   ]
  },
  {
   "cell_type": "code",
   "execution_count": 0,
   "metadata": {
    "colab": {
     "base_uri": "https://localhost:8080/",
     "height": 68
    },
    "colab_type": "code",
    "id": "lknGROTOoKcl",
    "outputId": "ea546dfe-5e22-4e29-9755-41c45c439406"
   },
   "outputs": [
    {
     "name": "stdout",
     "output_type": "stream",
     "text": [
      "avg goal:  21281.709866453293\n",
      "avg usd_pledge:  77885.04323234805\n",
      "avg backers_count:  839.2877073914066\n"
     ]
    }
   ],
   "source": [
    "goalmean = kickstarter_df[kickstarter_df.state_val == 1].goal.mean()\n",
    "pledgemean = kickstarter_df[kickstarter_df.state_val == 1].usd_pledged.mean()\n",
    "backermean = kickstarter_df[kickstarter_df.state_val == 1].backers_count.mean()\n",
    "\n",
    "print('avg goal: ', goalmean)\n",
    "print('avg usd_pledge: ', pledgemean)\n",
    "print('avg backers_count: ', backermean)"
   ]
  },
  {
   "cell_type": "code",
   "execution_count": 0,
   "metadata": {
    "colab": {
     "base_uri": "https://localhost:8080/",
     "height": 85
    },
    "colab_type": "code",
    "id": "dc7vQqXFxIEY",
    "outputId": "b63bd7c4-7ed8-4357-84a4-947c7223db09"
   },
   "outputs": [
    {
     "name": "stderr",
     "output_type": "stream",
     "text": [
      "/usr/local/lib/python3.6/dist-packages/ipykernel_launcher.py:1: FutureWarning: Method .as_matrix will be removed in a future version. Use .values instead.\n",
      "  \"\"\"Entry point for launching an IPython kernel.\n",
      "/usr/local/lib/python3.6/dist-packages/ipykernel_launcher.py:2: FutureWarning: Method .as_matrix will be removed in a future version. Use .values instead.\n",
      "  \n"
     ]
    }
   ],
   "source": [
    "X = kickstarter_df[['backers_count', 'goal', 'usd_pledged']].as_matrix()\n",
    "y = kickstarter_df.state.apply(lambda x: 1 if x == 'successful' else -1).as_matrix()\n",
    "\n",
    "X_train, X_test, y_train, y_test = train_test_split(X, y, test_size=0.25, random_state=10)"
   ]
  },
  {
   "cell_type": "markdown",
   "metadata": {
    "colab_type": "text",
    "id": "5bQGZMoZs9sm"
   },
   "source": [
    "# Features\n",
    "\n",
    "We are using three features for our training datasets, and predicting a binary value whether the Kickstarter product is going to be successful or not.\n",
    "\n",
    "* `backers_count`: the number of people supporting the product.\n",
    "* `goal`: the USD amount that the company aims.\n",
    "* `usd_pledged`: the actual USD amount supported by backers.\n",
    "\n",
    "The predicting label `y` is\n",
    "\n",
    "* `0`: fail\n",
    "* `1`: successful"
   ]
  },
  {
   "cell_type": "markdown",
   "metadata": {
    "colab_type": "text",
    "id": "ZN_kzgrNsYzS"
   },
   "source": [
    "# Random Forest Classifier"
   ]
  },
  {
   "cell_type": "code",
   "execution_count": 0,
   "metadata": {
    "colab": {
     "base_uri": "https://localhost:8080/",
     "height": 34
    },
    "colab_type": "code",
    "id": "9q4RA15pxVcS",
    "outputId": "f17db4fb-5bd5-4635-e824-fd68aa67f4b5"
   },
   "outputs": [
    {
     "data": {
      "text/plain": [
       "0.8968954526972968"
      ]
     },
     "execution_count": 30,
     "metadata": {
      "tags": []
     },
     "output_type": "execute_result"
    }
   ],
   "source": [
    "rforest_clf = RandomForestClassifier(max_depth=2, random_state=0).fit(X_train, y_train)\n",
    "rforest_clf.score(X_test, y_test)"
   ]
  },
  {
   "cell_type": "markdown",
   "metadata": {
    "colab_type": "text",
    "id": "qMVMgMLAsXar"
   },
   "source": [
    "We used Random Forest Classifier in hope that the model avoids overfitting problems with our data. The reported accuracy rate with 75% of randomized training data and 25% of the remaining datasets for test is 0.89."
   ]
  },
  {
   "cell_type": "markdown",
   "metadata": {
    "colab_type": "text",
    "id": "cZtpDWeqsPSv"
   },
   "source": [
    "# Linear Regression"
   ]
  },
  {
   "cell_type": "code",
   "execution_count": 0,
   "metadata": {
    "colab": {
     "base_uri": "https://localhost:8080/",
     "height": 34
    },
    "colab_type": "code",
    "id": "UHucMhnjxWB2",
    "outputId": "ddbd27e1-4ae7-4431-88f3-526c58a8e8a5"
   },
   "outputs": [
    {
     "data": {
      "text/plain": [
       "0.030905039003420676"
      ]
     },
     "execution_count": 31,
     "metadata": {
      "tags": []
     },
     "output_type": "execute_result"
    }
   ],
   "source": [
    "reg = LinearRegression().fit(X_train, y_train)\n",
    "reg.score(X_test, y_test)"
   ]
  },
  {
   "cell_type": "markdown",
   "metadata": {
    "colab_type": "text",
    "id": "AxlMQIgAsF8n"
   },
   "source": [
    "The accuracy rate is as low as 0.03 with 75% of randomized training datasets, and 25% of the remaining datasets. This should yield a conclusion that the features are not linear and that they cannot be fully separable\n"
   ]
  },
  {
   "cell_type": "markdown",
   "metadata": {
    "colab_type": "text",
    "id": "OcbDdBWqsjhu"
   },
   "source": [
    "# Logistics Regression"
   ]
  },
  {
   "cell_type": "code",
   "execution_count": 0,
   "metadata": {
    "colab": {
     "base_uri": "https://localhost:8080/",
     "height": 34
    },
    "colab_type": "code",
    "id": "2q3F2xzHxa8d",
    "outputId": "0b61cb25-2d1c-4f90-ff06-8fc82bfb5ca1"
   },
   "outputs": [
    {
     "data": {
      "text/plain": [
       "0.9994054098955533"
      ]
     },
     "execution_count": 32,
     "metadata": {
      "tags": []
     },
     "output_type": "execute_result"
    }
   ],
   "source": [
    "log_clf = LogisticRegression().fit(X_train, y_train)\n",
    "log_clf.score(X_test, y_test)"
   ]
  },
  {
   "cell_type": "markdown",
   "metadata": {
    "colab_type": "text",
    "id": "oA_F4gpSsiV0"
   },
   "source": [
    "Since we are predicting a binary value, one of the best models that we were expecting which would give the best result is Logistics Regression. As the reported accuracy rate is as high as 0.9994, the model fits pretty well into our features."
   ]
  },
  {
   "cell_type": "markdown",
   "metadata": {
    "colab_type": "text",
    "id": "aXKmNKP7sv5s"
   },
   "source": [
    "# Stochastic Gradient Descent Classifier"
   ]
  },
  {
   "cell_type": "code",
   "execution_count": 0,
   "metadata": {
    "colab": {
     "base_uri": "https://localhost:8080/",
     "height": 34
    },
    "colab_type": "code",
    "id": "l-RfN-4Wxejx",
    "outputId": "a34e9420-cfdd-4f5f-ab73-b59eaf1f3a24"
   },
   "outputs": [
    {
     "data": {
      "text/plain": [
       "0.9999519081533168"
      ]
     },
     "execution_count": 38,
     "metadata": {
      "tags": []
     },
     "output_type": "execute_result"
    }
   ],
   "source": [
    "sgd_clf = SGDClassifier(max_iter=40).fit(X_train, y_train)\n",
    "sgd_clf.score(X_test, y_test)"
   ]
  },
  {
   "cell_type": "markdown",
   "metadata": {
    "colab_type": "text",
    "id": "GPqIy5eIsuzq"
   },
   "source": [
    "We thought that another model which would give the best result in predicting whether the Kickstarter product is going to be successful or failed is SGD since the y label is a binary value. The reported accuracy is as high as 0.99995. It means that this model fits very well into our features!"
   ]
  },
  {
   "cell_type": "markdown",
   "metadata": {
    "colab_type": "text",
    "id": "WOOZAdyP7596"
   },
   "source": [
    "We used these approaches because we want a high accuracy rate for the predictions and prevent overfitting problems in our data. "
   ]
  },
  {
   "cell_type": "markdown",
   "metadata": {
    "colab_type": "text",
    "id": "j-16J_4xkQj6"
   },
   "source": [
    "#__Ethics & Privacy:__\n",
    "The data that we gathered is public, so we have permission to use this data. All of the stock market data is public, so there should not be any ethical or privacy issues. All of the Kickstarter data collected comes from a scraper robot that searches through Kickstarter projects, so the Kickstarter company allows people to explore these projects that they had on their website. Although the dataset is public, the Kickstarter platform excludes certain countries in Asia, Middle East, South America, and Africa that may be important to the economy and this may pose an ethical issue because our datasets ignore certain racial groups. This issue can be solved by incorporating several different platforms similar to Kickstarter in our data so that it is more inclusive. \n"
   ]
  },
  {
   "cell_type": "markdown",
   "metadata": {
    "colab_type": "text",
    "id": "afqPPpR0kKNz"
   },
   "source": [
    "#__Conclusion & Discussion:__\n",
    "\n",
    "Our project focuses on the success rate of technology, design, and games Kickstarter companies from 2017-2019 in the United States. Our group wanted to know if it was possible to predict the success of a Kickstarter company based on an estimate of their goal and pledge amount as well as how many backers that they have. We also wanted to know how precise that prediction could be. Looking at the U.S. stock market, we wanted to see if the success of the Kickstarter companies would reflect consumer demand. The data that we used was the information released by Kickstarter about the crowdfunded companies under them. We also used data about the stock market to help understand trends and analyze consumer demands. \n",
    "\n",
    "Our hypothesis is partially correct. We are able to predict the success of the Kickstarter Companies. The machine learning model that we used had a high accuracy so that part of our hypothesis is incorrect. For the most part, Kickstarter companies do reflect the consumer demand based off of the U.S. stock market. However, companies under the games category in Kickstarter are very popular but the stock market shows that games are decreasing in popularity. We plotted the success state (successful or failed) for the Kickstarter companies to compare their success rate. These companies all have a success rate of over 50%, therefore, they are more likely to succeed. We also compared the number of backers, goal amount, and pledge amount for these companies based on their success state. We believe these factors are important indicators of the success of the companies. Based on our results, we found out that successful companies have more backers and pledged amounts than the failed ones. We can conclude that backers and pledged amounts are important factors that can dictate the success of the companies. For the goal amount indicator, technology and game companies who failed have a higher goal amount than their successful counterparts. This means that they probably set a goal amount that is too high to be achieved, and it might have led to their failure. The design goal amount did not follow this pattern, instead, it has a higher goal amount for successful companies than failed companies. We figured that there might be other confounding variables that may have contributed to this difference. For our machine learning models, we chose to use the Linear Regression model, but the accuracy rate of 3%  for the binary value (success or fail)  is too low, so we decided to use another model. We used the Stochastic Gradient Descent Classifier model since it has a high accuracy for binary value. It has an accuracy rate of 99.9%. Then we used Logistic Regression because we are able to predict the binary value on a higher accuracy rate, which is 99.9%. Lastly, we used Random Forest Classifier to avoid overfitting problems in our data.\n",
    "\n",
    "Some limitations of our projects are that our scope is too narrow since we are only focusing on the United States and certain categories of companies. Given the large number of datasets we have, we also decided to narrow down our project on 2017-2019 to help us predict the next future success rate of Kickstarter companies in those categories in the next 3 years. There may be bias and we may not accurately predict the future success rate of Kickstarters in the future only basing our predictions on 3 years of data. Since our project is geared towards only one country, we cannot generalize our results globally and only apply it to Kickstarters in the United States. To deal with these issues if we were to continue this project, we should get a larger set of data that would better represent the global economy by looking at other startup companies around the world and by also looking at the global stock market. \n",
    "\n",
    "The impact of this project on society would be that there is more information supporting the fact there is a large demand for products within the technology, game, and design industries. It also shows that as these industries gain popularity, there will continue to be an increase in the innovative projects concerning them. With these innovations and increased popularity, there will obviously be a demand for the improvement of former products or demand for new products that would work better than the ones that were being used prior. In addition, the model that was made can be used to predict how high one of the variables should be to be successful. When using this model you should also take into account the stock market trend. For the past 3 years, technology companies stocks had a 2560% increase. Design companies had a 25% increase. Games companies had a 9% decrease. Tracking the trends of the stock market of the past three years, we could see a pattern of technology and design continually increasing. If future companies were to crowdfund for these categories, they are more likely to be successful because the stock market trends reflect the consumer demands. We ended up extracting the most important features for successful crowdfunding at Kickstarter. Based on our analysis, we found that it would give a strong signal to say that a candidate Kickstarter product will certainly be successful if their aimed USD pledged is more than \\$21,281.70 and their actual pledged USD amount is more than $77,885.04 with more than 839 supporters. Those numbers are average values of the past successful products at Kickstarter.\n",
    "\n",
    "\n"
   ]
  },
  {
   "cell_type": "markdown",
   "metadata": {
    "colab_type": "text",
    "id": "InkNlEYuk9vg"
   },
   "source": [
    "#__Team Contributions:__\n",
    "\n",
    "Everyone was joining the weekly meeting, and each member equally contributed their efforts to the project.\n",
    "\n",
    "* Jason: wrote a whole pipleline to clean the kickstarter datasets.\n",
    "* Taeho: discovered the real stock market datasets, and visualized the datasets for the analytical purpose.\n",
    "* Mandy: wrote the project writeup, provided additional analytical viewpoints, and managed meeting schedule.\n",
    "* Cydney: wrote the project writeup, provided additional analytical viewpoints, and managed meeting schedule.\n",
    "* Yong: wrote a script to clean the stock datasets, and also being in charge of managing the project."
   ]
  }
 ],
 "metadata": {
  "colab": {
   "collapsed_sections": [],
   "name": "Cogs 108 Final Project.ipynb",
   "provenance": [],
   "toc_visible": true
  },
  "kernelspec": {
   "display_name": "Python 3",
   "language": "python",
   "name": "python3"
  },
  "language_info": {
   "codemirror_mode": {
    "name": "ipython",
    "version": 3
   },
   "file_extension": ".py",
   "mimetype": "text/x-python",
   "name": "python",
   "nbconvert_exporter": "python",
   "pygments_lexer": "ipython3",
   "version": "3.7.0"
  }
 },
 "nbformat": 4,
 "nbformat_minor": 1
}
