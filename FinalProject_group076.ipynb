{
 "cells": [
  {
   "cell_type": "markdown",
   "metadata": {
    "colab_type": "text",
    "id": "YqvrU_qpIL03"
   },
   "source": [
    "# COGS 108 - Final Project Group 076"
   ]
  },
  {
   "cell_type": "markdown",
   "metadata": {
    "colab_type": "text",
    "id": "D6N3gHIRIL07"
   },
   "source": [
    "# Overview"
   ]
  },
  {
   "cell_type": "markdown",
   "metadata": {
    "colab_type": "text",
    "id": "qWgrQGpCIL08"
   },
   "source": [
    "For our project we sought out to investigate which factors of a student’s life had significant impacts on their test scores in school. Throughout the project, we looked at variables such as weekday alcohol consumption, parental education levels, travel time to school, family relation quality, study time, and absences. Then after plotting the distribution of these variables, we analyzed the significance of their effect on test score outcomes on the g1, g2, and g3 test using a variety of statistical tests. Finally we looked at the relationships between these outcomes and determined which variables had a significant impact and which ones did not."
   ]
  },
  {
   "cell_type": "markdown",
   "metadata": {
    "colab_type": "text",
    "id": "BEqzCcHWIL08"
   },
   "source": [
    "# Names\n",
    "\n",
    "- Alyssa Sangalang Ramiro\n",
    "- Bryan Truong\n",
    "- Jacob Chazen\n",
    "- Ryan Wey\n",
    "- Trinity Pham"
   ]
  },
  {
   "cell_type": "markdown",
   "metadata": {
    "colab_type": "text",
    "id": "dDMqsi-eIL0-"
   },
   "source": [
    "# Research Question"
   ]
  },
  {
   "cell_type": "markdown",
   "metadata": {
    "colab_type": "text",
    "id": "JvccVw3WIL0_"
   },
   "source": [
    "What are the greatest indicators of a student's academic success?"
   ]
  },
  {
   "cell_type": "markdown",
   "metadata": {
    "colab_type": "text",
    "id": "nHxpJo6xIL1A"
   },
   "source": [
    "## Background and Prior Work"
   ]
  },
  {
   "cell_type": "markdown",
   "metadata": {
    "colab_type": "text",
    "id": "3U8vm_CLIL1A"
   },
   "source": [
    "As students, examining the greatest indicators of student success is interesting to us as a means of broadening our perspective toward our fellow peers. A number of factors can influence the academic performance of students, but it’s not feasible to try and address all of them at the same time. For educational institutions and schools, particularly public schools, it is important to first focus on improving factors which affect the most number of students positively, or are most correlated with educational improvements. To summarize some of the sources we found (mostly from journals/news), family background is highly connected with student academic outcomes. That is, students with more adverse backgrounds (e.g. lower income, lower parental attention, etc) tend to score lower on testing. However, standardized tests cannot accurately determine a student’s success in higher education, so there must be other factors that contribute to the student’s success (1). \"The most important indicator of whether or not a student will graduate from college is largely out of his or her control: household income (2).\" If we can determine what are teh greatest indicators of a student's success, we can help more students. Other factors that affect a student's succes are a student's \"socioeconomic status (SES) and parents' education\" which both \"have a significant effect on students' overall academic achievement (4).\" Furthermore, studies have shown that absences hurt academic performances (5). \n",
    "\n",
    "Much of the team feels strongly about this topic and have experience regarding student success as well. As a peer counselor in high school, Jacob often worked with at risk students and learned what factors in and outside the classroom were instrumental to student success and what blockages resulted in students being at risk for failing a subject. Similarly, Ryan was a math tutor at a learning center which worked with, in particular, students who were already struggling in school, and he has similar background with identifying factors that lead to academic success or struggle. In addition, while taking the Dimensions of Culture classes at UCSD, Bryan learned that most students that come from backgrounds/neighborhoods of low income had a great correlation with academic success. This would be due to the nature of the mentality of success in these areas, and academics would usually not be viewed as something important. The schools would also not have the funds to provide resources to the students, such as extracurricular activities, to promote the growth and knowledge of the students. \n",
    "\n",
    " \t\n",
    "\n",
    "\n",
    "\n",
    "References (include links):\n",
    "- 1) https://phys.org/news/2010-08-standardized-indicator-success.html\n",
    "- 2) https://www.americaspromise.org/news/pbs-newshour-biggest-predictor-college-success-family-income\n",
    "- 3) https://globaljournals.org/GJMBR_Volume12/3-Factors-Affecting-Students-Academic.pdf\n",
    "- 4) https://preview.tinyurl.com/ql88huw\n",
    "- 5) https://www.epi.org/publication/student-absenteeism-who-misses-school-and-how-missing-school-matters-for-performance/"
   ]
  },
  {
   "cell_type": "markdown",
   "metadata": {
    "colab_type": "text",
    "id": "G6yqt44bIL1B"
   },
   "source": [
    "# Hypothesis\n"
   ]
  },
  {
   "cell_type": "markdown",
   "metadata": {
    "colab_type": "text",
    "id": "oQZs6t0NIL1C"
   },
   "source": [
    "Academic success is tied to: low alcohol consumption, high parent education level, low travel time, high study time and low absences. According to the research papers we looked at, a parent’s education level as well as a lack of absences have a significant effect on a student’s academic achievement. As for alcohol consumption, study time, and travel time, we postulated on these based on our own observations in the real world of these effects."
   ]
  },
  {
   "cell_type": "markdown",
   "metadata": {
    "colab_type": "text",
    "id": "Vu3QH3IIIL1D"
   },
   "source": [
    "# Dataset(s)"
   ]
  },
  {
   "cell_type": "markdown",
   "metadata": {
    "colab_type": "text",
    "id": "PmAdr5WuIL1D"
   },
   "source": [
    "*Fill in your dataset information here*\n",
    "\n",
    "(Copy this information for each dataset)\n",
    "- Dataset Name: Student Alcohol Consumption\n",
    "- Link to the dataset: https://www.kaggle.com/uciml/student-alcohol-consumption\n",
    "- Number of observations: 395 (mat) 649 (por)\n",
    "\n",
    "The dataset is gathered from 2 schools in Portugal. It records school, student sex, age, address, family size, parent cohabitation status, Mother's education, father's education, Mother's job, Father's job, reason to choose school (close to home, reputation etc), student's guardian, home to school travel time, study time, failure, extra educational support, family educational support, extra paid classes, extra curricular activities, attended nursery school, pursued higher education, internet access at home, in a romantic relationship, quality of family relationships, freetime after school, how often do they go out with friends, daily alcohol consumption, weekend alcohol consumption, health status, absences, G1 - first periodic grade, G2 - second periodic grade, G3 - final grade.\n",
    "\n",
    "The datasets for each of the schools contain the same variables and thus can be combined into one dataframe."
   ]
  },
  {
   "cell_type": "markdown",
   "metadata": {
    "colab_type": "text",
    "id": "snqdJCYNIL1E"
   },
   "source": [
    "# Setup"
   ]
  },
  {
   "cell_type": "code",
   "execution_count": 0,
   "metadata": {
    "colab": {},
    "colab_type": "code",
    "id": "ZITk4_34IL1F"
   },
   "outputs": [],
   "source": [
    "import pandas as pd\n",
    "import seaborn as sns\n",
    "import matplotlib.pyplot as plt\n",
    "import os\n",
    "from scipy import stats\n",
    "import patsy\n",
    "import statsmodels.api as sm\n",
    "import numpy as np\n",
    "\n",
    "\n",
    "\n",
    "student_alc_consumption_path = \"student-alcohol-consumption/student-mat.csv\"\n",
    "student_alc_consumption_por_path = \"student-alcohol-consumption/student-por.csv\"\n",
    "# path = os.path.join(os.getcwd, student_alc_consumption_path)\n",
    "df = pd.read_csv(student_alc_consumption_path)\n",
    "df['test_subject'] = 'math'\n",
    "df_por = pd.read_csv(student_alc_consumption_por_path) # results from a school in portugal\n",
    "df_por['test_subject'] = 'reading'\n",
    "0\n",
    "df_merged = pd.concat([df,df_por])\n"
   ]
  },
  {
   "cell_type": "code",
   "execution_count": 0,
   "metadata": {
    "colab": {
     "base_uri": "https://localhost:8080/",
     "height": 222
    },
    "colab_type": "code",
    "id": "pd6lZPOBnGAb",
    "outputId": "1cd3d088-5ac3-42ad-f60b-13c43f608fa5"
   },
   "outputs": [
    {
     "data": {
      "text/html": [
       "<div>\n",
       "<style scoped>\n",
       "    .dataframe tbody tr th:only-of-type {\n",
       "        vertical-align: middle;\n",
       "    }\n",
       "\n",
       "    .dataframe tbody tr th {\n",
       "        vertical-align: top;\n",
       "    }\n",
       "\n",
       "    .dataframe thead th {\n",
       "        text-align: right;\n",
       "    }\n",
       "</style>\n",
       "<table border=\"1\" class=\"dataframe\">\n",
       "  <thead>\n",
       "    <tr style=\"text-align: right;\">\n",
       "      <th></th>\n",
       "      <th>school</th>\n",
       "      <th>sex</th>\n",
       "      <th>age</th>\n",
       "      <th>address</th>\n",
       "      <th>famsize</th>\n",
       "      <th>Pstatus</th>\n",
       "      <th>Medu</th>\n",
       "      <th>Fedu</th>\n",
       "      <th>Mjob</th>\n",
       "      <th>Fjob</th>\n",
       "      <th>reason</th>\n",
       "      <th>guardian</th>\n",
       "      <th>traveltime</th>\n",
       "      <th>studytime</th>\n",
       "      <th>failures</th>\n",
       "      <th>schoolsup</th>\n",
       "      <th>famsup</th>\n",
       "      <th>paid</th>\n",
       "      <th>activities</th>\n",
       "      <th>nursery</th>\n",
       "      <th>higher</th>\n",
       "      <th>internet</th>\n",
       "      <th>romantic</th>\n",
       "      <th>famrel</th>\n",
       "      <th>freetime</th>\n",
       "      <th>goout</th>\n",
       "      <th>Dalc</th>\n",
       "      <th>Walc</th>\n",
       "      <th>health</th>\n",
       "      <th>absences</th>\n",
       "      <th>G1</th>\n",
       "      <th>G2</th>\n",
       "      <th>G3</th>\n",
       "      <th>test_subject</th>\n",
       "    </tr>\n",
       "  </thead>\n",
       "  <tbody>\n",
       "    <tr>\n",
       "      <th>0</th>\n",
       "      <td>GP</td>\n",
       "      <td>F</td>\n",
       "      <td>18</td>\n",
       "      <td>U</td>\n",
       "      <td>GT3</td>\n",
       "      <td>A</td>\n",
       "      <td>4</td>\n",
       "      <td>4</td>\n",
       "      <td>at_home</td>\n",
       "      <td>teacher</td>\n",
       "      <td>course</td>\n",
       "      <td>mother</td>\n",
       "      <td>2</td>\n",
       "      <td>2</td>\n",
       "      <td>0</td>\n",
       "      <td>yes</td>\n",
       "      <td>no</td>\n",
       "      <td>no</td>\n",
       "      <td>no</td>\n",
       "      <td>yes</td>\n",
       "      <td>yes</td>\n",
       "      <td>no</td>\n",
       "      <td>no</td>\n",
       "      <td>4</td>\n",
       "      <td>3</td>\n",
       "      <td>4</td>\n",
       "      <td>1</td>\n",
       "      <td>1</td>\n",
       "      <td>3</td>\n",
       "      <td>6</td>\n",
       "      <td>5</td>\n",
       "      <td>6</td>\n",
       "      <td>6</td>\n",
       "      <td>math</td>\n",
       "    </tr>\n",
       "    <tr>\n",
       "      <th>1</th>\n",
       "      <td>GP</td>\n",
       "      <td>F</td>\n",
       "      <td>17</td>\n",
       "      <td>U</td>\n",
       "      <td>GT3</td>\n",
       "      <td>T</td>\n",
       "      <td>1</td>\n",
       "      <td>1</td>\n",
       "      <td>at_home</td>\n",
       "      <td>other</td>\n",
       "      <td>course</td>\n",
       "      <td>father</td>\n",
       "      <td>1</td>\n",
       "      <td>2</td>\n",
       "      <td>0</td>\n",
       "      <td>no</td>\n",
       "      <td>yes</td>\n",
       "      <td>no</td>\n",
       "      <td>no</td>\n",
       "      <td>no</td>\n",
       "      <td>yes</td>\n",
       "      <td>yes</td>\n",
       "      <td>no</td>\n",
       "      <td>5</td>\n",
       "      <td>3</td>\n",
       "      <td>3</td>\n",
       "      <td>1</td>\n",
       "      <td>1</td>\n",
       "      <td>3</td>\n",
       "      <td>4</td>\n",
       "      <td>5</td>\n",
       "      <td>5</td>\n",
       "      <td>6</td>\n",
       "      <td>math</td>\n",
       "    </tr>\n",
       "    <tr>\n",
       "      <th>2</th>\n",
       "      <td>GP</td>\n",
       "      <td>F</td>\n",
       "      <td>15</td>\n",
       "      <td>U</td>\n",
       "      <td>LE3</td>\n",
       "      <td>T</td>\n",
       "      <td>1</td>\n",
       "      <td>1</td>\n",
       "      <td>at_home</td>\n",
       "      <td>other</td>\n",
       "      <td>other</td>\n",
       "      <td>mother</td>\n",
       "      <td>1</td>\n",
       "      <td>2</td>\n",
       "      <td>3</td>\n",
       "      <td>yes</td>\n",
       "      <td>no</td>\n",
       "      <td>yes</td>\n",
       "      <td>no</td>\n",
       "      <td>yes</td>\n",
       "      <td>yes</td>\n",
       "      <td>yes</td>\n",
       "      <td>no</td>\n",
       "      <td>4</td>\n",
       "      <td>3</td>\n",
       "      <td>2</td>\n",
       "      <td>2</td>\n",
       "      <td>3</td>\n",
       "      <td>3</td>\n",
       "      <td>10</td>\n",
       "      <td>7</td>\n",
       "      <td>8</td>\n",
       "      <td>10</td>\n",
       "      <td>math</td>\n",
       "    </tr>\n",
       "    <tr>\n",
       "      <th>3</th>\n",
       "      <td>GP</td>\n",
       "      <td>F</td>\n",
       "      <td>15</td>\n",
       "      <td>U</td>\n",
       "      <td>GT3</td>\n",
       "      <td>T</td>\n",
       "      <td>4</td>\n",
       "      <td>2</td>\n",
       "      <td>health</td>\n",
       "      <td>services</td>\n",
       "      <td>home</td>\n",
       "      <td>mother</td>\n",
       "      <td>1</td>\n",
       "      <td>3</td>\n",
       "      <td>0</td>\n",
       "      <td>no</td>\n",
       "      <td>yes</td>\n",
       "      <td>yes</td>\n",
       "      <td>yes</td>\n",
       "      <td>yes</td>\n",
       "      <td>yes</td>\n",
       "      <td>yes</td>\n",
       "      <td>yes</td>\n",
       "      <td>3</td>\n",
       "      <td>2</td>\n",
       "      <td>2</td>\n",
       "      <td>1</td>\n",
       "      <td>1</td>\n",
       "      <td>5</td>\n",
       "      <td>2</td>\n",
       "      <td>15</td>\n",
       "      <td>14</td>\n",
       "      <td>15</td>\n",
       "      <td>math</td>\n",
       "    </tr>\n",
       "    <tr>\n",
       "      <th>4</th>\n",
       "      <td>GP</td>\n",
       "      <td>F</td>\n",
       "      <td>16</td>\n",
       "      <td>U</td>\n",
       "      <td>GT3</td>\n",
       "      <td>T</td>\n",
       "      <td>3</td>\n",
       "      <td>3</td>\n",
       "      <td>other</td>\n",
       "      <td>other</td>\n",
       "      <td>home</td>\n",
       "      <td>father</td>\n",
       "      <td>1</td>\n",
       "      <td>2</td>\n",
       "      <td>0</td>\n",
       "      <td>no</td>\n",
       "      <td>yes</td>\n",
       "      <td>yes</td>\n",
       "      <td>no</td>\n",
       "      <td>yes</td>\n",
       "      <td>yes</td>\n",
       "      <td>no</td>\n",
       "      <td>no</td>\n",
       "      <td>4</td>\n",
       "      <td>3</td>\n",
       "      <td>2</td>\n",
       "      <td>1</td>\n",
       "      <td>2</td>\n",
       "      <td>5</td>\n",
       "      <td>4</td>\n",
       "      <td>6</td>\n",
       "      <td>10</td>\n",
       "      <td>10</td>\n",
       "      <td>math</td>\n",
       "    </tr>\n",
       "  </tbody>\n",
       "</table>\n",
       "</div>"
      ],
      "text/plain": [
       "  school sex  age address famsize  ... absences  G1  G2  G3 test_subject\n",
       "0     GP   F   18       U     GT3  ...        6   5   6   6         math\n",
       "1     GP   F   17       U     GT3  ...        4   5   5   6         math\n",
       "2     GP   F   15       U     LE3  ...       10   7   8  10         math\n",
       "3     GP   F   15       U     GT3  ...        2  15  14  15         math\n",
       "4     GP   F   16       U     GT3  ...        4   6  10  10         math\n",
       "\n",
       "[5 rows x 34 columns]"
      ]
     },
     "execution_count": 5,
     "metadata": {
      "tags": []
     },
     "output_type": "execute_result"
    }
   ],
   "source": [
    "df_merged.head()"
   ]
  },
  {
   "cell_type": "markdown",
   "metadata": {
    "colab_type": "text",
    "id": "eVu_PUpDIL1I"
   },
   "source": [
    "# Data Cleaning"
   ]
  },
  {
   "cell_type": "markdown",
   "metadata": {
    "colab_type": "text",
    "id": "uS86vf-aIL1J"
   },
   "source": [
    "Describe your data cleaning steps here."
   ]
  },
  {
   "cell_type": "code",
   "execution_count": 0,
   "metadata": {
    "colab": {
     "base_uri": "https://localhost:8080/",
     "height": 69
    },
    "colab_type": "code",
    "id": "8Z1U4nkHIL1K",
    "outputId": "c9c6e92f-5ace-4747-e0f8-da6f3433d69f"
   },
   "outputs": [
    {
     "name": "stdout",
     "output_type": "stream",
     "text": [
      "True\n",
      "True\n",
      "True\n"
     ]
    }
   ],
   "source": [
    "# check if there are any rows with null values\n",
    "rows_with_na = df[df.isnull().any(axis=1)]\n",
    "print(rows_with_na.empty)\n",
    "\n",
    "# same as above, with df_por \n",
    "rows_with_na_por = df_por[df_por.isnull().any(axis=1)]\n",
    "print(rows_with_na_por.empty)\n",
    "\n",
    "# repeat for meged df\n",
    "rows_with_na_merged = df_merged[df_merged.isnull().any(axis=1)]\n",
    "print(rows_with_na_merged.empty)\n"
   ]
  },
  {
   "cell_type": "markdown",
   "metadata": {
    "colab_type": "text",
    "id": "WLNZHATeIL1M"
   },
   "source": [
    "Here we will rename some of our columns to a more readable name."
   ]
  },
  {
   "cell_type": "code",
   "execution_count": 0,
   "metadata": {
    "colab": {
     "base_uri": "https://localhost:8080/",
     "height": 487
    },
    "colab_type": "code",
    "id": "WFu4qpBaIL1N",
    "outputId": "9f86b3bc-c678-469d-9317-ac4c60fd5b33"
   },
   "outputs": [
    {
     "data": {
      "text/html": [
       "<div>\n",
       "<style scoped>\n",
       "    .dataframe tbody tr th:only-of-type {\n",
       "        vertical-align: middle;\n",
       "    }\n",
       "\n",
       "    .dataframe tbody tr th {\n",
       "        vertical-align: top;\n",
       "    }\n",
       "\n",
       "    .dataframe thead th {\n",
       "        text-align: right;\n",
       "    }\n",
       "</style>\n",
       "<table border=\"1\" class=\"dataframe\">\n",
       "  <thead>\n",
       "    <tr style=\"text-align: right;\">\n",
       "      <th></th>\n",
       "      <th>school</th>\n",
       "      <th>sex</th>\n",
       "      <th>age</th>\n",
       "      <th>address</th>\n",
       "      <th>famsize</th>\n",
       "      <th>parents living situation</th>\n",
       "      <th>mother education</th>\n",
       "      <th>father education</th>\n",
       "      <th>mother job</th>\n",
       "      <th>father job</th>\n",
       "      <th>reason</th>\n",
       "      <th>guardian</th>\n",
       "      <th>commutetime</th>\n",
       "      <th>studytime</th>\n",
       "      <th>classes failed</th>\n",
       "      <th>school educational support</th>\n",
       "      <th>family education support</th>\n",
       "      <th>paid</th>\n",
       "      <th>extra curriculars</th>\n",
       "      <th>go to nursery school</th>\n",
       "      <th>wants higher education</th>\n",
       "      <th>has internet</th>\n",
       "      <th>romantic relationship</th>\n",
       "      <th>family relation quality</th>\n",
       "      <th>freetime</th>\n",
       "      <th>go out with friends frequency</th>\n",
       "      <th>workday alc consumed</th>\n",
       "      <th>weekend alc consumed</th>\n",
       "      <th>how healthy</th>\n",
       "      <th>absences</th>\n",
       "      <th>g1 score</th>\n",
       "      <th>g2 score</th>\n",
       "      <th>g3 score</th>\n",
       "      <th>test_subject</th>\n",
       "    </tr>\n",
       "  </thead>\n",
       "  <tbody>\n",
       "    <tr>\n",
       "      <th>0</th>\n",
       "      <td>GP</td>\n",
       "      <td>F</td>\n",
       "      <td>18</td>\n",
       "      <td>U</td>\n",
       "      <td>GT3</td>\n",
       "      <td>A</td>\n",
       "      <td>4</td>\n",
       "      <td>4</td>\n",
       "      <td>at_home</td>\n",
       "      <td>teacher</td>\n",
       "      <td>course</td>\n",
       "      <td>mother</td>\n",
       "      <td>2</td>\n",
       "      <td>2</td>\n",
       "      <td>0</td>\n",
       "      <td>yes</td>\n",
       "      <td>no</td>\n",
       "      <td>no</td>\n",
       "      <td>no</td>\n",
       "      <td>yes</td>\n",
       "      <td>yes</td>\n",
       "      <td>no</td>\n",
       "      <td>no</td>\n",
       "      <td>4</td>\n",
       "      <td>3</td>\n",
       "      <td>4</td>\n",
       "      <td>1</td>\n",
       "      <td>1</td>\n",
       "      <td>3</td>\n",
       "      <td>6</td>\n",
       "      <td>5</td>\n",
       "      <td>6</td>\n",
       "      <td>6</td>\n",
       "      <td>math</td>\n",
       "    </tr>\n",
       "    <tr>\n",
       "      <th>1</th>\n",
       "      <td>GP</td>\n",
       "      <td>F</td>\n",
       "      <td>17</td>\n",
       "      <td>U</td>\n",
       "      <td>GT3</td>\n",
       "      <td>T</td>\n",
       "      <td>1</td>\n",
       "      <td>1</td>\n",
       "      <td>at_home</td>\n",
       "      <td>other</td>\n",
       "      <td>course</td>\n",
       "      <td>father</td>\n",
       "      <td>1</td>\n",
       "      <td>2</td>\n",
       "      <td>0</td>\n",
       "      <td>no</td>\n",
       "      <td>yes</td>\n",
       "      <td>no</td>\n",
       "      <td>no</td>\n",
       "      <td>no</td>\n",
       "      <td>yes</td>\n",
       "      <td>yes</td>\n",
       "      <td>no</td>\n",
       "      <td>5</td>\n",
       "      <td>3</td>\n",
       "      <td>3</td>\n",
       "      <td>1</td>\n",
       "      <td>1</td>\n",
       "      <td>3</td>\n",
       "      <td>4</td>\n",
       "      <td>5</td>\n",
       "      <td>5</td>\n",
       "      <td>6</td>\n",
       "      <td>math</td>\n",
       "    </tr>\n",
       "    <tr>\n",
       "      <th>2</th>\n",
       "      <td>GP</td>\n",
       "      <td>F</td>\n",
       "      <td>15</td>\n",
       "      <td>U</td>\n",
       "      <td>LE3</td>\n",
       "      <td>T</td>\n",
       "      <td>1</td>\n",
       "      <td>1</td>\n",
       "      <td>at_home</td>\n",
       "      <td>other</td>\n",
       "      <td>other</td>\n",
       "      <td>mother</td>\n",
       "      <td>1</td>\n",
       "      <td>2</td>\n",
       "      <td>3</td>\n",
       "      <td>yes</td>\n",
       "      <td>no</td>\n",
       "      <td>yes</td>\n",
       "      <td>no</td>\n",
       "      <td>yes</td>\n",
       "      <td>yes</td>\n",
       "      <td>yes</td>\n",
       "      <td>no</td>\n",
       "      <td>4</td>\n",
       "      <td>3</td>\n",
       "      <td>2</td>\n",
       "      <td>2</td>\n",
       "      <td>3</td>\n",
       "      <td>3</td>\n",
       "      <td>10</td>\n",
       "      <td>7</td>\n",
       "      <td>8</td>\n",
       "      <td>10</td>\n",
       "      <td>math</td>\n",
       "    </tr>\n",
       "    <tr>\n",
       "      <th>3</th>\n",
       "      <td>GP</td>\n",
       "      <td>F</td>\n",
       "      <td>15</td>\n",
       "      <td>U</td>\n",
       "      <td>GT3</td>\n",
       "      <td>T</td>\n",
       "      <td>4</td>\n",
       "      <td>2</td>\n",
       "      <td>health</td>\n",
       "      <td>services</td>\n",
       "      <td>home</td>\n",
       "      <td>mother</td>\n",
       "      <td>1</td>\n",
       "      <td>3</td>\n",
       "      <td>0</td>\n",
       "      <td>no</td>\n",
       "      <td>yes</td>\n",
       "      <td>yes</td>\n",
       "      <td>yes</td>\n",
       "      <td>yes</td>\n",
       "      <td>yes</td>\n",
       "      <td>yes</td>\n",
       "      <td>yes</td>\n",
       "      <td>3</td>\n",
       "      <td>2</td>\n",
       "      <td>2</td>\n",
       "      <td>1</td>\n",
       "      <td>1</td>\n",
       "      <td>5</td>\n",
       "      <td>2</td>\n",
       "      <td>15</td>\n",
       "      <td>14</td>\n",
       "      <td>15</td>\n",
       "      <td>math</td>\n",
       "    </tr>\n",
       "    <tr>\n",
       "      <th>4</th>\n",
       "      <td>GP</td>\n",
       "      <td>F</td>\n",
       "      <td>16</td>\n",
       "      <td>U</td>\n",
       "      <td>GT3</td>\n",
       "      <td>T</td>\n",
       "      <td>3</td>\n",
       "      <td>3</td>\n",
       "      <td>other</td>\n",
       "      <td>other</td>\n",
       "      <td>home</td>\n",
       "      <td>father</td>\n",
       "      <td>1</td>\n",
       "      <td>2</td>\n",
       "      <td>0</td>\n",
       "      <td>no</td>\n",
       "      <td>yes</td>\n",
       "      <td>yes</td>\n",
       "      <td>no</td>\n",
       "      <td>yes</td>\n",
       "      <td>yes</td>\n",
       "      <td>no</td>\n",
       "      <td>no</td>\n",
       "      <td>4</td>\n",
       "      <td>3</td>\n",
       "      <td>2</td>\n",
       "      <td>1</td>\n",
       "      <td>2</td>\n",
       "      <td>5</td>\n",
       "      <td>4</td>\n",
       "      <td>6</td>\n",
       "      <td>10</td>\n",
       "      <td>10</td>\n",
       "      <td>math</td>\n",
       "    </tr>\n",
       "    <tr>\n",
       "      <th>...</th>\n",
       "      <td>...</td>\n",
       "      <td>...</td>\n",
       "      <td>...</td>\n",
       "      <td>...</td>\n",
       "      <td>...</td>\n",
       "      <td>...</td>\n",
       "      <td>...</td>\n",
       "      <td>...</td>\n",
       "      <td>...</td>\n",
       "      <td>...</td>\n",
       "      <td>...</td>\n",
       "      <td>...</td>\n",
       "      <td>...</td>\n",
       "      <td>...</td>\n",
       "      <td>...</td>\n",
       "      <td>...</td>\n",
       "      <td>...</td>\n",
       "      <td>...</td>\n",
       "      <td>...</td>\n",
       "      <td>...</td>\n",
       "      <td>...</td>\n",
       "      <td>...</td>\n",
       "      <td>...</td>\n",
       "      <td>...</td>\n",
       "      <td>...</td>\n",
       "      <td>...</td>\n",
       "      <td>...</td>\n",
       "      <td>...</td>\n",
       "      <td>...</td>\n",
       "      <td>...</td>\n",
       "      <td>...</td>\n",
       "      <td>...</td>\n",
       "      <td>...</td>\n",
       "      <td>...</td>\n",
       "    </tr>\n",
       "    <tr>\n",
       "      <th>390</th>\n",
       "      <td>MS</td>\n",
       "      <td>M</td>\n",
       "      <td>20</td>\n",
       "      <td>U</td>\n",
       "      <td>LE3</td>\n",
       "      <td>A</td>\n",
       "      <td>2</td>\n",
       "      <td>2</td>\n",
       "      <td>services</td>\n",
       "      <td>services</td>\n",
       "      <td>course</td>\n",
       "      <td>other</td>\n",
       "      <td>1</td>\n",
       "      <td>2</td>\n",
       "      <td>2</td>\n",
       "      <td>no</td>\n",
       "      <td>yes</td>\n",
       "      <td>yes</td>\n",
       "      <td>no</td>\n",
       "      <td>yes</td>\n",
       "      <td>yes</td>\n",
       "      <td>no</td>\n",
       "      <td>no</td>\n",
       "      <td>5</td>\n",
       "      <td>5</td>\n",
       "      <td>4</td>\n",
       "      <td>4</td>\n",
       "      <td>5</td>\n",
       "      <td>4</td>\n",
       "      <td>11</td>\n",
       "      <td>9</td>\n",
       "      <td>9</td>\n",
       "      <td>9</td>\n",
       "      <td>math</td>\n",
       "    </tr>\n",
       "    <tr>\n",
       "      <th>391</th>\n",
       "      <td>MS</td>\n",
       "      <td>M</td>\n",
       "      <td>17</td>\n",
       "      <td>U</td>\n",
       "      <td>LE3</td>\n",
       "      <td>T</td>\n",
       "      <td>3</td>\n",
       "      <td>1</td>\n",
       "      <td>services</td>\n",
       "      <td>services</td>\n",
       "      <td>course</td>\n",
       "      <td>mother</td>\n",
       "      <td>2</td>\n",
       "      <td>1</td>\n",
       "      <td>0</td>\n",
       "      <td>no</td>\n",
       "      <td>no</td>\n",
       "      <td>no</td>\n",
       "      <td>no</td>\n",
       "      <td>no</td>\n",
       "      <td>yes</td>\n",
       "      <td>yes</td>\n",
       "      <td>no</td>\n",
       "      <td>2</td>\n",
       "      <td>4</td>\n",
       "      <td>5</td>\n",
       "      <td>3</td>\n",
       "      <td>4</td>\n",
       "      <td>2</td>\n",
       "      <td>3</td>\n",
       "      <td>14</td>\n",
       "      <td>16</td>\n",
       "      <td>16</td>\n",
       "      <td>math</td>\n",
       "    </tr>\n",
       "    <tr>\n",
       "      <th>392</th>\n",
       "      <td>MS</td>\n",
       "      <td>M</td>\n",
       "      <td>21</td>\n",
       "      <td>R</td>\n",
       "      <td>GT3</td>\n",
       "      <td>T</td>\n",
       "      <td>1</td>\n",
       "      <td>1</td>\n",
       "      <td>other</td>\n",
       "      <td>other</td>\n",
       "      <td>course</td>\n",
       "      <td>other</td>\n",
       "      <td>1</td>\n",
       "      <td>1</td>\n",
       "      <td>3</td>\n",
       "      <td>no</td>\n",
       "      <td>no</td>\n",
       "      <td>no</td>\n",
       "      <td>no</td>\n",
       "      <td>no</td>\n",
       "      <td>yes</td>\n",
       "      <td>no</td>\n",
       "      <td>no</td>\n",
       "      <td>5</td>\n",
       "      <td>5</td>\n",
       "      <td>3</td>\n",
       "      <td>3</td>\n",
       "      <td>3</td>\n",
       "      <td>3</td>\n",
       "      <td>3</td>\n",
       "      <td>10</td>\n",
       "      <td>8</td>\n",
       "      <td>7</td>\n",
       "      <td>math</td>\n",
       "    </tr>\n",
       "    <tr>\n",
       "      <th>393</th>\n",
       "      <td>MS</td>\n",
       "      <td>M</td>\n",
       "      <td>18</td>\n",
       "      <td>R</td>\n",
       "      <td>LE3</td>\n",
       "      <td>T</td>\n",
       "      <td>3</td>\n",
       "      <td>2</td>\n",
       "      <td>services</td>\n",
       "      <td>other</td>\n",
       "      <td>course</td>\n",
       "      <td>mother</td>\n",
       "      <td>3</td>\n",
       "      <td>1</td>\n",
       "      <td>0</td>\n",
       "      <td>no</td>\n",
       "      <td>no</td>\n",
       "      <td>no</td>\n",
       "      <td>no</td>\n",
       "      <td>no</td>\n",
       "      <td>yes</td>\n",
       "      <td>yes</td>\n",
       "      <td>no</td>\n",
       "      <td>4</td>\n",
       "      <td>4</td>\n",
       "      <td>1</td>\n",
       "      <td>3</td>\n",
       "      <td>4</td>\n",
       "      <td>5</td>\n",
       "      <td>0</td>\n",
       "      <td>11</td>\n",
       "      <td>12</td>\n",
       "      <td>10</td>\n",
       "      <td>math</td>\n",
       "    </tr>\n",
       "    <tr>\n",
       "      <th>394</th>\n",
       "      <td>MS</td>\n",
       "      <td>M</td>\n",
       "      <td>19</td>\n",
       "      <td>U</td>\n",
       "      <td>LE3</td>\n",
       "      <td>T</td>\n",
       "      <td>1</td>\n",
       "      <td>1</td>\n",
       "      <td>other</td>\n",
       "      <td>at_home</td>\n",
       "      <td>course</td>\n",
       "      <td>father</td>\n",
       "      <td>1</td>\n",
       "      <td>1</td>\n",
       "      <td>0</td>\n",
       "      <td>no</td>\n",
       "      <td>no</td>\n",
       "      <td>no</td>\n",
       "      <td>no</td>\n",
       "      <td>yes</td>\n",
       "      <td>yes</td>\n",
       "      <td>yes</td>\n",
       "      <td>no</td>\n",
       "      <td>3</td>\n",
       "      <td>2</td>\n",
       "      <td>3</td>\n",
       "      <td>3</td>\n",
       "      <td>3</td>\n",
       "      <td>5</td>\n",
       "      <td>5</td>\n",
       "      <td>8</td>\n",
       "      <td>9</td>\n",
       "      <td>9</td>\n",
       "      <td>math</td>\n",
       "    </tr>\n",
       "  </tbody>\n",
       "</table>\n",
       "<p>395 rows × 34 columns</p>\n",
       "</div>"
      ],
      "text/plain": [
       "    school sex  age address  ... g1 score g2 score  g3 score  test_subject\n",
       "0       GP   F   18       U  ...        5        6         6          math\n",
       "1       GP   F   17       U  ...        5        5         6          math\n",
       "2       GP   F   15       U  ...        7        8        10          math\n",
       "3       GP   F   15       U  ...       15       14        15          math\n",
       "4       GP   F   16       U  ...        6       10        10          math\n",
       "..     ...  ..  ...     ...  ...      ...      ...       ...           ...\n",
       "390     MS   M   20       U  ...        9        9         9          math\n",
       "391     MS   M   17       U  ...       14       16        16          math\n",
       "392     MS   M   21       R  ...       10        8         7          math\n",
       "393     MS   M   18       R  ...       11       12        10          math\n",
       "394     MS   M   19       U  ...        8        9         9          math\n",
       "\n",
       "[395 rows x 34 columns]"
      ]
     },
     "execution_count": 7,
     "metadata": {
      "tags": []
     },
     "output_type": "execute_result"
    }
   ],
   "source": [
    "columns_to_rename = {'Pstatus':'parents living situation', 'Medu':'mother education', 'Fedu': 'father education', 'Mjob': 'mother job', 'Fjob': 'father job', 'traveltime':'commutetime', 'failures': 'classes failed', 'schoolsup': 'school educational support', 'famsup':'family education support', 'activities':'extra curriculars', 'nursery' : 'go to nursery school', 'higher': 'wants higher education', 'internet': 'has internet', 'romantic': 'romantic relationship', 'famrel': 'family relation quality', 'goout':'go out with friends frequency', 'Dalc':'workday alc consumed', 'Walc': 'weekend alc consumed','health': 'how healthy', 'G1': 'g1 score', 'G2': 'g2 score', 'G3': 'g3 score' }\n",
    "df.rename(columns=columns_to_rename, inplace=True)\n",
    "df_por.rename(columns=columns_to_rename, inplace=True)\n",
    "df_merged.rename(columns=columns_to_rename, inplace=True)\n",
    "df"
   ]
  },
  {
   "cell_type": "markdown",
   "metadata": {
    "colab_type": "text",
    "id": "iI9Gu0EWIL1P"
   },
   "source": [
    "# Data Analysis & Results"
   ]
  },
  {
   "cell_type": "markdown",
   "metadata": {
    "colab_type": "text",
    "id": "REmAuafwIL1Q"
   },
   "source": [
    "Include cells that describe the steps in your data analysis."
   ]
  },
  {
   "cell_type": "markdown",
   "metadata": {
    "colab_type": "text",
    "id": "-t7v1rJaIL1R"
   },
   "source": [
    "First we look at student alcohol consumption"
   ]
  },
  {
   "cell_type": "code",
   "execution_count": 0,
   "metadata": {
    "colab": {},
    "colab_type": "code",
    "id": "jZLtNctmIL1R"
   },
   "outputs": [],
   "source": [
    "# first we look at student alcohol consumption here are the workday, weekend, and aggregate counts here I will use the merged data\n",
    "workday_counts = df_merged['workday alc consumed'].value_counts()\n",
    "weekend_counts = df_merged['weekend alc consumed'].value_counts()\n",
    "aggregate_counts = workday_counts.add(weekend_counts)\n"
   ]
  },
  {
   "cell_type": "markdown",
   "metadata": {
    "colab_type": "text",
    "id": "H6COwam1IL1U"
   },
   "source": [
    "Here are barplots of weekday, weekend, and aggregate counts for reported alcohol consumption. Values range from 1 (very low) to 5 (very high)."
   ]
  },
  {
   "cell_type": "code",
   "execution_count": 0,
   "metadata": {
    "colab": {
     "base_uri": "https://localhost:8080/",
     "height": 282
    },
    "colab_type": "code",
    "id": "kD7L2_znIL1U",
    "outputId": "1a601b55-7712-4899-db79-cfa6852f3386"
   },
   "outputs": [
    {
     "data": {
      "text/plain": [
       "<matplotlib.axes._subplots.AxesSubplot at 0x7fbc27689cf8>"
      ]
     },
     "execution_count": 156,
     "metadata": {
      "tags": []
     },
     "output_type": "execute_result"
    },
    {
     "data": {
      "image/png": "[encoded data removed]",
      "text/plain": [
       "<Figure size 432x288 with 1 Axes>"
      ]
     },
     "metadata": {
      "tags": []
     },
     "output_type": "display_data"
    }
   ],
   "source": [
    "# workday counts\n",
    "sns.barplot(x=workday_counts.index, y=workday_counts)"
   ]
  },
  {
   "cell_type": "code",
   "execution_count": 0,
   "metadata": {
    "colab": {
     "base_uri": "https://localhost:8080/",
     "height": 282
    },
    "colab_type": "code",
    "id": "s-xfZdCxroKw",
    "outputId": "7dc83021-535e-47c7-dbc1-3e15953d2872"
   },
   "outputs": [
    {
     "data": {
      "text/plain": [
       "<matplotlib.axes._subplots.AxesSubplot at 0x7fbc2765f160>"
      ]
     },
     "execution_count": 157,
     "metadata": {
      "tags": []
     },
     "output_type": "execute_result"
    },
    {
     "data": {
      "image/png": "[encoded data removed]",
      "text/plain": [
       "<Figure size 432x288 with 1 Axes>"
      ]
     },
     "metadata": {
      "tags": []
     },
     "output_type": "display_data"
    }
   ],
   "source": [
    "# weekend counts\n",
    "sns.barplot(x=weekend_counts.index, y=weekend_counts)"
   ]
  },
  {
   "cell_type": "code",
   "execution_count": 0,
   "metadata": {
    "colab": {
     "base_uri": "https://localhost:8080/",
     "height": 282
    },
    "colab_type": "code",
    "id": "qCZxNGkdsACE",
    "outputId": "58e2b165-f61c-4be7-8faa-c46f01b26c89"
   },
   "outputs": [
    {
     "data": {
      "text/plain": [
       "<matplotlib.axes._subplots.AxesSubplot at 0x7fbc275f52e8>"
      ]
     },
     "execution_count": 158,
     "metadata": {
      "tags": []
     },
     "output_type": "execute_result"
    },
    {
     "data": {
      "image/png": "[encoded data removed]",
      "text/plain": [
       "<Figure size 432x288 with 1 Axes>"
      ]
     },
     "metadata": {
      "tags": []
     },
     "output_type": "display_data"
    }
   ],
   "source": [
    "# aggregate counts\n",
    "sns.barplot(x=aggregate_counts.index, y=aggregate_counts)"
   ]
  },
  {
   "cell_type": "markdown",
   "metadata": {
    "colab_type": "text",
    "id": "9EmCulwrIL1X"
   },
   "source": [
    "Most people are skewed towards very little "
   ]
  },
  {
   "cell_type": "markdown",
   "metadata": {
    "colab_type": "text",
    "id": "pXMDBwsgIL1Y"
   },
   "source": [
    "Here is a barplot comparing workday alcohol consumption to score on the standardized test"
   ]
  },
  {
   "cell_type": "code",
   "execution_count": 0,
   "metadata": {
    "colab": {
     "base_uri": "https://localhost:8080/",
     "height": 534
    },
    "colab_type": "code",
    "id": "M8S4GEpIIL1Y",
    "outputId": "7bf3db34-190b-4aa8-be06-b767164a4186"
   },
   "outputs": [
    {
     "name": "stdout",
     "output_type": "stream",
     "text": [
      "      workday alc consumed  variable  value\n",
      "0                        1  g1 score      5\n",
      "1                        1  g1 score      5\n",
      "2                        2  g1 score      7\n",
      "3                        1  g1 score     15\n",
      "4                        1  g1 score      6\n",
      "...                    ...       ...    ...\n",
      "3127                     1  g3 score     10\n",
      "3128                     1  g3 score     16\n",
      "3129                     1  g3 score      9\n",
      "3130                     3  g3 score     10\n",
      "3131                     3  g3 score     11\n",
      "\n",
      "[3132 rows x 3 columns]\n"
     ]
    },
    {
     "data": {
      "text/plain": [
       "<matplotlib.axes._subplots.AxesSubplot at 0x7fbc27561828>"
      ]
     },
     "execution_count": 159,
     "metadata": {
      "tags": []
     },
     "output_type": "execute_result"
    },
    {
     "data": {
      "image/png": "[encoded data removed]",
      "text/plain": [
       "<Figure size 432x288 with 1 Axes>"
      ]
     },
     "metadata": {
      "tags": []
     },
     "output_type": "display_data"
    }
   ],
   "source": [
    "# Use melt function to reorder one variable and test scores as 3 columns with rows for each value\n",
    "# To use, id_vars should be your desired x-axis variable, value_vars should be the desired y-axis variable(s)\n",
    "data = df_merged.melt(id_vars = ['workday alc consumed'], value_vars = ['g1 score', 'g2 score', 'g3 score'])\n",
    "print(data)\n",
    "# plotting using seaborn barplot function, using 'variable' column from melted DataFrame to create a grouped barplot\n",
    "sns.barplot(x = 'workday alc consumed', y = 'value', hue = 'variable' , data = data)"
   ]
  },
  {
   "cell_type": "markdown",
   "metadata": {
    "colab_type": "text",
    "id": "c7tnPINwIL1b"
   },
   "source": [
    "In these barplots, their appears to be no strong trend. We proceed to try again by plotting the distribution of test scores with regard to weekday alcohol consumption, focusing on the student's g3 score."
   ]
  },
  {
   "cell_type": "code",
   "execution_count": 0,
   "metadata": {
    "colab": {
     "base_uri": "https://localhost:8080/",
     "height": 386
    },
    "colab_type": "code",
    "id": "05_Pw19iIL1c",
    "outputId": "8bd89b43-e09d-446b-fde5-2c2666458fc9"
   },
   "outputs": [
    {
     "data": {
      "text/plain": [
       "<seaborn.axisgrid.FacetGrid at 0x7fbc275f5eb8>"
      ]
     },
     "execution_count": 160,
     "metadata": {
      "tags": []
     },
     "output_type": "execute_result"
    },
    {
     "data": {
      "image/png": "[encoded data removed]",
      "text/plain": [
       "<Figure size 360x360 with 1 Axes>"
      ]
     },
     "metadata": {
      "tags": []
     },
     "output_type": "display_data"
    }
   ],
   "source": [
    "sns.catplot(x='workday alc consumed', y = 'g3 score', data=df_merged)"
   ]
  },
  {
   "cell_type": "markdown",
   "metadata": {
    "colab_type": "text",
    "id": "ddhXyzQNIL1f"
   },
   "source": [
    "I will now set out to do a t-test between very low (1) and more alcohol consumption (2-5) focusing on weekday alcohol consumption. My hypothesis are as follows:\n",
    "\n",
    "H0: The mean g3 test score of students that consume little to no alcohol is less than or equal to that of students that consume more than a little alcohol during weekdays.\n",
    "\n",
    "H_alt: The mean g3 score of students that consume little to no alcohol is higher than that of students that consume more than a little alcohol during weekdays."
   ]
  },
  {
   "cell_type": "code",
   "execution_count": 0,
   "metadata": {
    "colab": {
     "base_uri": "https://localhost:8080/",
     "height": 85
    },
    "colab_type": "code",
    "id": "-6QUCwQcL62j",
    "outputId": "7816324f-a78f-4d00-978e-79cd2b1a684e"
   },
   "outputs": [
    {
     "name": "stdout",
     "output_type": "stream",
     "text": [
      "1.2050593768638916e-28\n",
      "2.436595501084314e-12\n",
      "both distributions are approximately normal\n",
      "standard deviations are 3.8484739970951853 and 3.7665350938840625\n"
     ]
    }
   ],
   "source": [
    "low_alc_g3 = df_merged.loc[df_merged['workday alc consumed'] == 1]['g3 score']\n",
    "more_alc_g3 = df_merged.loc[df_merged['workday alc consumed'].isin([2,3,4,5])]['g3 score']\n",
    "z_1, p_1 = stats.normaltest(low_alc_g3)\n",
    "print(p_1)\n",
    "\n",
    "z_5, p_5 = stats.normaltest(more_alc_g3)\n",
    "print(p_5)\n",
    "\n",
    "if (p_1 and p_5) < 0.05:\n",
    "  print (\"both distributions are approximately normal\")\n",
    "\n",
    "std_low_alc = np.std(low_alc_g3)\n",
    "std_more_alc = np.std(more_alc_g3)\n",
    "\n",
    "print(\"standard deviations are \" + str(std_low_alc) + \" and \" + str(std_more_alc))"
   ]
  },
  {
   "cell_type": "markdown",
   "metadata": {
    "colab_type": "text",
    "id": "sbbbtWBuqKgd"
   },
   "source": [
    "Both distributions are approximately normal and have similar though not equivalent variances so we will not assume equal variances for the t-test below."
   ]
  },
  {
   "cell_type": "code",
   "execution_count": 0,
   "metadata": {
    "colab": {
     "base_uri": "https://localhost:8080/",
     "height": 34
    },
    "colab_type": "code",
    "id": "D0i2W3Ninmsf",
    "outputId": "1fbee959-eede-4340-a586-d5640ff2d4e3"
   },
   "outputs": [
    {
     "name": "stdout",
     "output_type": "stream",
     "text": [
      "p value is 1.8549777929542484e-06\n"
     ]
    }
   ],
   "source": [
    "# performing t-test\n",
    "\n",
    "t_stat, p_val = stats.ttest_ind(low_alc_g3, more_alc_g3, equal_var=False)\n",
    "\n",
    "# since we are performing a one sided t-test\n",
    "p_val /= 2\n",
    "\n",
    "print(\"p value is \" + str(p_val))"
   ]
  },
  {
   "cell_type": "markdown",
   "metadata": {
    "colab_type": "text",
    "id": "QAy8N939qttH"
   },
   "source": [
    "Since the p value is less than the alpha level 0.05. There is evidence to say the mean test scores of those that consume very little to no alcohol during the week and those that consume more than that is a difference."
   ]
  },
  {
   "cell_type": "markdown",
   "metadata": {
    "colab_type": "text",
    "id": "pfAxQBl-IL1g"
   },
   "source": [
    "## Mother and Father Education"
   ]
  },
  {
   "cell_type": "markdown",
   "metadata": {
    "colab_type": "text",
    "id": "b5yCzrzXIL1h"
   },
   "source": [
    "Next, we will look at the parent's education level and determine if a parent's education level influences the student's academic performance. If a parent's education level does influenced a student's academic performance, we want to look at which parent has a greater influence on a student's academic performance."
   ]
  },
  {
   "cell_type": "markdown",
   "metadata": {
    "colab_type": "text",
    "id": "3tVy4txdIL1h"
   },
   "source": [
    "First, we will look the mother's education level and determine if a mother's education level influences a child's academic performance."
   ]
  },
  {
   "cell_type": "code",
   "execution_count": 0,
   "metadata": {
    "colab": {
     "base_uri": "https://localhost:8080/",
     "height": 296
    },
    "colab_type": "code",
    "id": "ly6o4ucWIL1i",
    "outputId": "c8905501-dda0-4a38-ca35-67ca4b7ef94b"
   },
   "outputs": [
    {
     "data": {
      "text/plain": [
       "<matplotlib.axes._subplots.AxesSubplot at 0x7fbc27421390>"
      ]
     },
     "execution_count": 163,
     "metadata": {
      "tags": []
     },
     "output_type": "execute_result"
    },
    {
     "data": {
      "image/png": "[encoded data removed]",
      "text/plain": [
       "<Figure size 432x288 with 1 Axes>"
      ]
     },
     "metadata": {
      "tags": []
     },
     "output_type": "display_data"
    }
   ],
   "source": [
    "# melts the data to separate the grading period scores into separate observations\n",
    "mother_education = df.melt(id_vars = ['mother education'], value_vars = ['g1 score', 'g2 score', 'g3 score'])\n",
    "sns.barplot(x = 'mother education', y = 'value', hue = 'variable' , data = mother_education)"
   ]
  },
  {
   "cell_type": "markdown",
   "metadata": {
    "colab_type": "text",
    "id": "SODxsi1xIL1m"
   },
   "source": [
    "The x-axis indicates the mother's education level. The numerics correspond to a education level: <br>\n",
    "0 - none, <br>\n",
    "1 - primary education (4th grade), <br>\n",
    "2 – 5th to 9th grade, <br>\n",
    "3 – secondary education, <br>\n",
    "4 – higher education. <br>\n",
    "The y-axis indicates the grade the student received with a grading scheme from 0 to 20. <br>\n",
    "<br>\n",
    "From the barplot, excluding the none barplot, there seems to be a positive trend correlated with the mother's education and student academic performance. Since it is unclear from the data if none indicates that the mother is not in the student's life or has no education, we will perform two analyses, one without the none parametric and one with. <br>\n",
    "As seen in the following barplot, the same is true for the father's education level."
   ]
  },
  {
   "cell_type": "code",
   "execution_count": 0,
   "metadata": {
    "colab": {
     "base_uri": "https://localhost:8080/",
     "height": 296
    },
    "colab_type": "code",
    "id": "05-7vGATIL1n",
    "outputId": "593127e8-a432-44f5-a72a-cfadc0a0e21e"
   },
   "outputs": [
    {
     "data": {
      "text/plain": [
       "<matplotlib.axes._subplots.AxesSubplot at 0x7fbc2734dcf8>"
      ]
     },
     "execution_count": 164,
     "metadata": {
      "tags": []
     },
     "output_type": "execute_result"
    },
    {
     "data": {
      "image/png": "[encoded data removed]",
      "text/plain": [
       "<Figure size 432x288 with 1 Axes>"
      ]
     },
     "metadata": {
      "tags": []
     },
     "output_type": "display_data"
    }
   ],
   "source": [
    "# melts the data to separate the grading period scores into separate observations\n",
    "father_education = df.melt(id_vars = ['father education'], value_vars = ['g1 score', 'g2 score', 'g3 score'])\n",
    "sns.barplot(x = 'father education', y = 'value', hue = 'variable' , data = father_education)"
   ]
  },
  {
   "cell_type": "markdown",
   "metadata": {
    "colab_type": "text",
    "id": "ghS9YrSw6Gq5"
   },
   "source": [
    "The following barplot visualizes the differences in the average scores of students between two parent's education levels."
   ]
  },
  {
   "cell_type": "code",
   "execution_count": 0,
   "metadata": {
    "colab": {
     "base_uri": "https://localhost:8080/",
     "height": 296
    },
    "colab_type": "code",
    "id": "FEel0s-pIL1p",
    "outputId": "ebe3a016-9963-4e76-e018-5b820626d902"
   },
   "outputs": [
    {
     "data": {
      "text/plain": [
       "<matplotlib.axes._subplots.AxesSubplot at 0x7fbc274772b0>"
      ]
     },
     "execution_count": 165,
     "metadata": {
      "tags": []
     },
     "output_type": "execute_result"
    },
    {
     "data": {
      "image/png": "[encoded data removed]",
      "text/plain": [
       "<Figure size 432x288 with 1 Axes>"
      ]
     },
     "metadata": {
      "tags": []
     },
     "output_type": "display_data"
    }
   ],
   "source": [
    "# melts the data to separate the variables, mother and father education, into separate observations\n",
    "both = df.melt(id_vars = ['g3 score'], value_vars = ['mother education', 'father education'])\n",
    "sns.barplot(x = 'value', y = 'g3 score', hue = 'variable' , data = both)"
   ]
  },
  {
   "cell_type": "markdown",
   "metadata": {
    "colab_type": "text",
    "id": "Wf2CkHrC8EgW"
   },
   "source": [
    "Visually, we notice that there is an upward trend of education level (excluding the education level of 0). Additionally, the effect of mother education level and father education level on student academic performance appears to be similar."
   ]
  },
  {
   "cell_type": "markdown",
   "metadata": {
    "colab_type": "text",
    "id": "itv1aDI2IL1s"
   },
   "source": [
    "Since our variables transformed from their categorical value to a numeric rank, we want to utilize a statistical tool to determine if each rank were selected from the same populations, having the same distribution. The Wilcoxon rank-sum test (Mann Whitney U Test) is a useful test to determine this, but only between two samples. To speed things up, we will utilize Kruskal–Wallis H test which tests the null hypothesis that the population median of all of the groups are equal for ordinal data. <br>"
   ]
  },
  {
   "cell_type": "markdown",
   "metadata": {
    "colab_type": "text",
    "id": "Ly7fV3rNIL1u"
   },
   "source": [
    "#### mother education (including education level none)"
   ]
  },
  {
   "cell_type": "code",
   "execution_count": 0,
   "metadata": {
    "colab": {
     "base_uri": "https://localhost:8080/",
     "height": 34
    },
    "colab_type": "code",
    "id": "K_knRU8hIL1v",
    "outputId": "d15d585d-e385-4f7e-da11-f103ea366361"
   },
   "outputs": [
    {
     "data": {
      "text/plain": [
       "KruskalResult(statistic=70.6216159901289, pvalue=1.6778257263874645e-14)"
      ]
     },
     "execution_count": 166,
     "metadata": {
      "tags": []
     },
     "output_type": "execute_result"
    }
   ],
   "source": [
    "# seperates each score by mother's education level and retrieves the array\n",
    "mRank0 = mother_education[mother_education['mother education'] == 0]['value']\n",
    "mRank1 = mother_education[mother_education['mother education'] == 1]['value']\n",
    "mRank2 = mother_education[mother_education['mother education'] == 2]['value']\n",
    "mRank3 = mother_education[mother_education['mother education'] == 3]['value']\n",
    "mRank4 = mother_education[mother_education['mother education'] == 4]['value']\n",
    "stats.kruskal(mRank0, mRank1, mRank2, mRank3, mRank4)"
   ]
  },
  {
   "cell_type": "markdown",
   "metadata": {
    "colab_type": "text",
    "id": "N5gUxzXeIL1x"
   },
   "source": [
    "#### mother education (excluding education level none)"
   ]
  },
  {
   "cell_type": "code",
   "execution_count": 0,
   "metadata": {
    "colab": {
     "base_uri": "https://localhost:8080/",
     "height": 34
    },
    "colab_type": "code",
    "id": "bDQkX3VnIL1x",
    "outputId": "f24c76b6-a1df-456b-800a-83048c177297"
   },
   "outputs": [
    {
     "data": {
      "text/plain": [
       "KruskalResult(statistic=68.5467268871623, pvalue=8.737825942552774e-15)"
      ]
     },
     "execution_count": 167,
     "metadata": {
      "tags": []
     },
     "output_type": "execute_result"
    }
   ],
   "source": [
    "stats.kruskal(mRank1, mRank2, mRank3, mRank4)"
   ]
  },
  {
   "cell_type": "markdown",
   "metadata": {
    "colab_type": "text",
    "id": "GxrghoR5IL1z"
   },
   "source": [
    "#### father education (including education level none)"
   ]
  },
  {
   "cell_type": "code",
   "execution_count": 0,
   "metadata": {
    "colab": {
     "base_uri": "https://localhost:8080/",
     "height": 34
    },
    "colab_type": "code",
    "id": "4UFyO0LLIL10",
    "outputId": "57ef631b-5548-481d-8afe-aba6b27b4c1e"
   },
   "outputs": [
    {
     "data": {
      "text/plain": [
       "KruskalResult(statistic=55.33382718245614, pvalue=2.7656233508253057e-11)"
      ]
     },
     "execution_count": 168,
     "metadata": {
      "tags": []
     },
     "output_type": "execute_result"
    }
   ],
   "source": [
    "# seperates each score by father's education level and retrieves the array\n",
    "fRank0 = father_education[father_education['father education'] == 0]['value']\n",
    "fRank1 = father_education[father_education['father education'] == 1]['value']\n",
    "fRank2 = father_education[father_education['father education'] == 2]['value']\n",
    "fRank3 = father_education[father_education['father education'] == 3]['value']\n",
    "fRank4 = father_education[father_education['father education'] == 4]['value']\n",
    "stats.kruskal(fRank0, fRank1, fRank2, fRank3, fRank4)"
   ]
  },
  {
   "cell_type": "markdown",
   "metadata": {
    "colab_type": "text",
    "id": "eWJhAex_IL12"
   },
   "source": [
    "#### father education (excluding education level none)"
   ]
  },
  {
   "cell_type": "code",
   "execution_count": 0,
   "metadata": {
    "colab": {
     "base_uri": "https://localhost:8080/",
     "height": 34
    },
    "colab_type": "code",
    "id": "aLBZd_eLIL13",
    "outputId": "8ce47308-be24-4026-eb99-541d590a2514"
   },
   "outputs": [
    {
     "data": {
      "text/plain": [
       "KruskalResult(statistic=53.269650556501475, pvalue=1.6060424630288087e-11)"
      ]
     },
     "execution_count": 169,
     "metadata": {
      "tags": []
     },
     "output_type": "execute_result"
    }
   ],
   "source": [
    "stats.kruskal(fRank1, fRank2, fRank3, fRank4)"
   ]
  },
  {
   "cell_type": "markdown",
   "metadata": {
    "colab_type": "text",
    "id": "uOizjfL-IL15"
   },
   "source": [
    "Since the p-value of mother education and father education (both including and excluding education level none) is less than 0.05, this means that the population median is not equal and we can reject the null hypothesis. This suggests that a parent's education level has an effect on the student's academic performance."
   ]
  },
  {
   "cell_type": "markdown",
   "metadata": {
    "colab_type": "text",
    "id": "KvNTftknIL16"
   },
   "source": [
    "We want to further investigate if a student's academic performance is affected by a parent's education level by comparing the students that received educational support from family and those that were not able to receive educational support from family."
   ]
  },
  {
   "cell_type": "markdown",
   "metadata": {
    "colab_type": "text",
    "id": "HbSHhlGr76hA"
   },
   "source": [
    "#### students with family education support"
   ]
  },
  {
   "cell_type": "code",
   "execution_count": 0,
   "metadata": {
    "colab": {},
    "colab_type": "code",
    "id": "D922z92YIL17"
   },
   "outputs": [],
   "source": [
    "# retrieves only observations where students received family education support\n",
    "data_fam_support = df[df['family education support'] == 'yes']"
   ]
  },
  {
   "cell_type": "markdown",
   "metadata": {
    "colab_type": "text",
    "id": "fe0hYbXCBq-g"
   },
   "source": [
    "First, we will look at mother education."
   ]
  },
  {
   "cell_type": "code",
   "execution_count": 0,
   "metadata": {
    "colab": {
     "base_uri": "https://localhost:8080/",
     "height": 296
    },
    "colab_type": "code",
    "id": "-ShxkORUIL19",
    "outputId": "bd7e156d-ee2f-4c18-8283-1fcd38e87020"
   },
   "outputs": [
    {
     "data": {
      "text/plain": [
       "<matplotlib.axes._subplots.AxesSubplot at 0x7fbc272196d8>"
      ]
     },
     "execution_count": 171,
     "metadata": {
      "tags": []
     },
     "output_type": "execute_result"
    },
    {
     "data": {
      "image/png": "[encoded data removed]",
      "text/plain": [
       "<Figure size 432x288 with 1 Axes>"
      ]
     },
     "metadata": {
      "tags": []
     },
     "output_type": "display_data"
    }
   ],
   "source": [
    "# melts the data to separate the grading period scores into separate observations\n",
    "mother_education = data_fam_support.melt(id_vars = ['mother education'], value_vars = ['g1 score', 'g2 score', 'g3 score'])\n",
    "sns.barplot(x = 'mother education', y = 'value', hue = 'variable' , data = mother_education)"
   ]
  },
  {
   "cell_type": "markdown",
   "metadata": {
    "colab_type": "text",
    "id": "TIz-ky78bJOM"
   },
   "source": [
    "We will ignore mother education and father education of 0 because there is only one observation, and we have tested that even with the education level of 0 included that parent education level has an effect on academic performance."
   ]
  },
  {
   "cell_type": "code",
   "execution_count": 0,
   "metadata": {
    "colab": {
     "base_uri": "https://localhost:8080/",
     "height": 34
    },
    "colab_type": "code",
    "id": "lUdgFu_DDIaO",
    "outputId": "e5b83447-0b85-4e15-9c03-3b8cd11ec9d7"
   },
   "outputs": [
    {
     "data": {
      "text/plain": [
       "KruskalResult(statistic=50.88616612735676, pvalue=5.1730364848326246e-11)"
      ]
     },
     "execution_count": 172,
     "metadata": {
      "tags": []
     },
     "output_type": "execute_result"
    }
   ],
   "source": [
    "# seperates each score by mother's education level and retrieves the array\n",
    "mRank1 = mother_education[mother_education['mother education'] == 1]['value']\n",
    "mRank2 = mother_education[mother_education['mother education'] == 2]['value']\n",
    "mRank3 = mother_education[mother_education['mother education'] == 3]['value']\n",
    "mRank4 = mother_education[mother_education['mother education'] == 4]['value']\n",
    "stats.kruskal(mRank1, mRank2, mRank3, mRank4)"
   ]
  },
  {
   "cell_type": "markdown",
   "metadata": {
    "colab_type": "text",
    "id": "eXFPBdZCBuPA"
   },
   "source": [
    "Next, we will look at father education."
   ]
  },
  {
   "cell_type": "code",
   "execution_count": 0,
   "metadata": {
    "colab": {
     "base_uri": "https://localhost:8080/",
     "height": 296
    },
    "colab_type": "code",
    "id": "QKSap0_QIL1-",
    "outputId": "083b10c7-46d0-43c4-8d52-c6c126da269b"
   },
   "outputs": [
    {
     "data": {
      "text/plain": [
       "<matplotlib.axes._subplots.AxesSubplot at 0x7fbc27254e48>"
      ]
     },
     "execution_count": 173,
     "metadata": {
      "tags": []
     },
     "output_type": "execute_result"
    },
    {
     "data": {
      "image/png": "[encoded data removed]",
      "text/plain": [
       "<Figure size 432x288 with 1 Axes>"
      ]
     },
     "metadata": {
      "tags": []
     },
     "output_type": "display_data"
    }
   ],
   "source": [
    "# melts the data to separate the grading period scores into separate observations\n",
    "father_education = data_fam_support.melt(id_vars = ['father education'], value_vars = ['g1 score', 'g2 score', 'g3 score'])\n",
    "sns.barplot(x = 'father education', y = 'value', hue = 'variable' , data = father_education)"
   ]
  },
  {
   "cell_type": "code",
   "execution_count": 0,
   "metadata": {
    "colab": {
     "base_uri": "https://localhost:8080/",
     "height": 34
    },
    "colab_type": "code",
    "id": "vUxMn9RqDNXp",
    "outputId": "241002d0-2522-4382-dd90-7a6c149ac4f9"
   },
   "outputs": [
    {
     "data": {
      "text/plain": [
       "KruskalResult(statistic=46.09673608468335, pvalue=5.409142587460578e-10)"
      ]
     },
     "execution_count": 174,
     "metadata": {
      "tags": []
     },
     "output_type": "execute_result"
    }
   ],
   "source": [
    "# seperates each score by father's education level and retrieves the array\n",
    "fRank1 = father_education[father_education['father education'] == 1]['value']\n",
    "fRank2 = father_education[father_education['father education'] == 2]['value']\n",
    "fRank3 = father_education[father_education['father education'] == 3]['value']\n",
    "fRank4 = father_education[father_education['father education'] == 4]['value']\n",
    "stats.kruskal(fRank1, fRank2, fRank3, fRank4)"
   ]
  },
  {
   "cell_type": "markdown",
   "metadata": {
    "colab_type": "text",
    "id": "yVNMQ9JHB9xk"
   },
   "source": [
    "Since the p-value of mother education and father education\n",
    "is less than 0.05, this means that the population median is not equal and we can reject the null hypothesis. This suggests that the result remains the same that parent education has an effect on a student's academic performance when the student is provided family educational support.\n"
   ]
  },
  {
   "cell_type": "markdown",
   "metadata": {
    "colab_type": "text",
    "id": "nTej_J1G8ASI"
   },
   "source": [
    "#### students without family education support"
   ]
  },
  {
   "cell_type": "code",
   "execution_count": 0,
   "metadata": {
    "colab": {},
    "colab_type": "code",
    "id": "q2tbR1De-8G9"
   },
   "outputs": [],
   "source": [
    "# retrieves only observations where students did not receive family education support\n",
    "data_no_fam_support = df[df['family education support'] == 'no']"
   ]
  },
  {
   "cell_type": "markdown",
   "metadata": {
    "colab_type": "text",
    "id": "VV4RaPAVCQsM"
   },
   "source": [
    "First, we will look at mother education."
   ]
  },
  {
   "cell_type": "code",
   "execution_count": 0,
   "metadata": {
    "colab": {
     "base_uri": "https://localhost:8080/",
     "height": 296
    },
    "colab_type": "code",
    "id": "dIz3BAQCAawf",
    "outputId": "ff05846e-a2b1-4de0-8b4e-0c623608da27"
   },
   "outputs": [
    {
     "data": {
      "text/plain": [
       "<matplotlib.axes._subplots.AxesSubplot at 0x7fbc2714e828>"
      ]
     },
     "execution_count": 176,
     "metadata": {
      "tags": []
     },
     "output_type": "execute_result"
    },
    {
     "data": {
      "image/png": "[encoded data removed]",
      "text/plain": [
       "<Figure size 432x288 with 1 Axes>"
      ]
     },
     "metadata": {
      "tags": []
     },
     "output_type": "display_data"
    }
   ],
   "source": [
    "# melts the data to separate the grading period scores into separate observations\n",
    "mother_education = data_no_fam_support.melt(id_vars = ['mother education'], value_vars = ['g1 score', 'g2 score', 'g3 score'])\n",
    "sns.barplot(x = 'mother education', y = 'value', hue = 'variable' , data = mother_education)"
   ]
  },
  {
   "cell_type": "code",
   "execution_count": 0,
   "metadata": {
    "colab": {
     "base_uri": "https://localhost:8080/",
     "height": 34
    },
    "colab_type": "code",
    "id": "ZuKuzjNSIL2C",
    "outputId": "7e1a09d6-9a6a-4d87-a9f0-767ac32068d2"
   },
   "outputs": [
    {
     "data": {
      "text/plain": [
       "KruskalResult(statistic=30.784117408193357, pvalue=9.438307698262965e-07)"
      ]
     },
     "execution_count": 177,
     "metadata": {
      "tags": []
     },
     "output_type": "execute_result"
    }
   ],
   "source": [
    "# seperates each score by mother's education level and retrieves the array\n",
    "mRank1 = mother_education[mother_education['mother education'] == 1]['value']\n",
    "mRank2 = mother_education[mother_education['mother education'] == 2]['value']\n",
    "mRank3 = mother_education[mother_education['mother education'] == 3]['value']\n",
    "mRank4 = mother_education[mother_education['mother education'] == 4]['value']\n",
    "stats.kruskal(mRank1, mRank2, mRank3, mRank4)"
   ]
  },
  {
   "cell_type": "markdown",
   "metadata": {
    "colab_type": "text",
    "id": "G7EdrmNZCT3j"
   },
   "source": [
    "Next, we will look at father education."
   ]
  },
  {
   "cell_type": "code",
   "execution_count": 0,
   "metadata": {
    "colab": {
     "base_uri": "https://localhost:8080/",
     "height": 296
    },
    "colab_type": "code",
    "id": "WKeO0NSuCNUX",
    "outputId": "fab742be-d0c4-4e5f-f74f-280e28b786e3"
   },
   "outputs": [
    {
     "data": {
      "text/plain": [
       "<matplotlib.axes._subplots.AxesSubplot at 0x7fbc26fdae48>"
      ]
     },
     "execution_count": 178,
     "metadata": {
      "tags": []
     },
     "output_type": "execute_result"
    },
    {
     "data": {
      "image/png": "[encoded data removed]",
      "text/plain": [
       "<Figure size 432x288 with 1 Axes>"
      ]
     },
     "metadata": {
      "tags": []
     },
     "output_type": "display_data"
    }
   ],
   "source": [
    "# melts the data to separate the grading period scores into separate observations\n",
    "father_education = data_no_fam_support.melt(id_vars = ['father education'], value_vars = ['g1 score', 'g2 score', 'g3 score'])\n",
    "sns.barplot(x = 'father education', y = 'value', hue = 'variable' , data = father_education)"
   ]
  },
  {
   "cell_type": "code",
   "execution_count": 0,
   "metadata": {
    "colab": {
     "base_uri": "https://localhost:8080/",
     "height": 34
    },
    "colab_type": "code",
    "id": "O1ZMC-60IL2F",
    "outputId": "19e70065-37e5-4fd6-a2cf-59aa6e19cb8e"
   },
   "outputs": [
    {
     "data": {
      "text/plain": [
       "KruskalResult(statistic=19.618302461728387, pvalue=0.00020363859795606684)"
      ]
     },
     "execution_count": 179,
     "metadata": {
      "tags": []
     },
     "output_type": "execute_result"
    }
   ],
   "source": [
    "# seperates each score by father's education level and retrieves the array\n",
    "fRank1 = father_education[father_education['father education'] == 1]['value']\n",
    "fRank2 = father_education[father_education['father education'] == 2]['value']\n",
    "fRank3 = father_education[father_education['father education'] == 3]['value']\n",
    "fRank4 = father_education[father_education['father education'] == 4]['value']\n",
    "stats.kruskal(fRank1, fRank2, fRank3, fRank4)"
   ]
  },
  {
   "cell_type": "markdown",
   "metadata": {
    "colab_type": "text",
    "id": "7rgZjvxOZKzl"
   },
   "source": [
    "Since the p-value of mother education and father education is less than 0.05, this means that the population median is not equal and we can reject the null hypothesis. This suggests that the result remains the same that parent education has an effect on the student's academic performance although a student did not receive educational support. This suggests that a parent's education still has an effect on a student's score although family did not directly provide educational support."
   ]
  },
  {
   "cell_type": "markdown",
   "metadata": {
    "colab_type": "text",
    "id": "XyKhk7GDDXZV"
   },
   "source": [
    "## Guardian"
   ]
  },
  {
   "cell_type": "markdown",
   "metadata": {
    "colab_type": "text",
    "id": "MkViZ_YOaCee"
   },
   "source": [
    "Since parent education level does effect a student's academnic performance, we want to examine whether a student's guardian would affect a student's performance."
   ]
  },
  {
   "cell_type": "code",
   "execution_count": 0,
   "metadata": {
    "colab": {},
    "colab_type": "code",
    "id": "U3jEyEPtIL2K"
   },
   "outputs": [],
   "source": [
    "mother_guardian = df[df['guardian'] == 'mother']\n",
    "father_guardian = df[df['guardian'] == 'father']\n",
    "other_guardian = df[df['guardian'] == 'other']"
   ]
  },
  {
   "cell_type": "markdown",
   "metadata": {
    "colab_type": "text",
    "id": "SW6Mm6gE3xvX"
   },
   "source": [
    "First, we will examine the mother and father education for students that listed mother as their guardian."
   ]
  },
  {
   "cell_type": "code",
   "execution_count": 0,
   "metadata": {
    "colab": {
     "base_uri": "https://localhost:8080/",
     "height": 296
    },
    "colab_type": "code",
    "id": "-1LxDO84DoFE",
    "outputId": "219572f1-8df5-4772-ad36-3e94aa516508"
   },
   "outputs": [
    {
     "data": {
      "text/plain": [
       "<matplotlib.axes._subplots.AxesSubplot at 0x7fbc26c5d940>"
      ]
     },
     "execution_count": 191,
     "metadata": {
      "tags": []
     },
     "output_type": "execute_result"
    },
    {
     "data": {
      "image/png": "[encoded data removed]",
      "text/plain": [
       "<Figure size 432x288 with 1 Axes>"
      ]
     },
     "metadata": {
      "tags": []
     },
     "output_type": "display_data"
    }
   ],
   "source": [
    "# melts the data to separate the grading period scores into separate observations\n",
    "mother_education = mother_guardian.melt(id_vars = ['mother education'], value_vars = ['g1 score', 'g2 score', 'g3 score'])\n",
    "sns.barplot(x = 'mother education', y = 'value', hue = 'variable' , data = mother_education)"
   ]
  },
  {
   "cell_type": "code",
   "execution_count": 0,
   "metadata": {
    "colab": {
     "base_uri": "https://localhost:8080/",
     "height": 34
    },
    "colab_type": "code",
    "id": "v5jGJ8bdb0HM",
    "outputId": "0c350d9c-3f5c-42cf-cfe2-e25002ed504a"
   },
   "outputs": [
    {
     "data": {
      "text/plain": [
       "KruskalResult(statistic=60.3271603713667, pvalue=5.004354288164904e-13)"
      ]
     },
     "execution_count": 192,
     "metadata": {
      "tags": []
     },
     "output_type": "execute_result"
    }
   ],
   "source": [
    "# seperates each score by mother's education level and retrieves the array\n",
    "mRank1 = mother_education[mother_education['mother education'] == 1]['value']\n",
    "mRank2 = mother_education[mother_education['mother education'] == 2]['value']\n",
    "mRank3 = mother_education[mother_education['mother education'] == 3]['value']\n",
    "mRank4 = mother_education[mother_education['mother education'] == 4]['value']\n",
    "stats.kruskal(mRank1, mRank2, mRank3, mRank4)"
   ]
  },
  {
   "cell_type": "code",
   "execution_count": 0,
   "metadata": {
    "colab": {
     "base_uri": "https://localhost:8080/",
     "height": 296
    },
    "colab_type": "code",
    "id": "NMUKybHuD4hM",
    "outputId": "b9eb304f-e46c-407e-80fc-a5c63d6cd407"
   },
   "outputs": [
    {
     "data": {
      "text/plain": [
       "<matplotlib.axes._subplots.AxesSubplot at 0x7fbc26f77ba8>"
      ]
     },
     "execution_count": 183,
     "metadata": {
      "tags": []
     },
     "output_type": "execute_result"
    },
    {
     "data": {
      "image/png": "[encoded data removed]",
      "text/plain": [
       "<Figure size 432x288 with 1 Axes>"
      ]
     },
     "metadata": {
      "tags": []
     },
     "output_type": "display_data"
    }
   ],
   "source": [
    "father_education = mother_guardian.melt(id_vars = ['father education'], value_vars = ['g1 score', 'g2 score', 'g3 score'])\n",
    "sns.barplot(x = 'father education', y = 'value', hue = 'variable' , data = father_education)"
   ]
  },
  {
   "cell_type": "code",
   "execution_count": 0,
   "metadata": {
    "colab": {
     "base_uri": "https://localhost:8080/",
     "height": 34
    },
    "colab_type": "code",
    "id": "nVkc1PPDcI3g",
    "outputId": "c639e92a-9fd1-4ff4-8cd2-7ba14cce37b8"
   },
   "outputs": [
    {
     "data": {
      "text/plain": [
       "KruskalResult(statistic=48.93468938848338, pvalue=1.3468938267989546e-10)"
      ]
     },
     "execution_count": 184,
     "metadata": {
      "tags": []
     },
     "output_type": "execute_result"
    }
   ],
   "source": [
    "# seperates each score by father's education level and retrieves the array\n",
    "fRank1 = father_education[father_education['father education'] == 1]['value']\n",
    "fRank2 = father_education[father_education['father education'] == 2]['value']\n",
    "fRank3 = father_education[father_education['father education'] == 3]['value']\n",
    "fRank4 = father_education[father_education['father education'] == 4]['value']\n",
    "stats.kruskal(fRank1, fRank2, fRank3, fRank4)"
   ]
  },
  {
   "cell_type": "markdown",
   "metadata": {
    "colab_type": "text",
    "id": "eZlr2fg6ah9c"
   },
   "source": [
    "Next, we will examine the mother and father eduation for students that listed father as their guardian."
   ]
  },
  {
   "cell_type": "code",
   "execution_count": 0,
   "metadata": {
    "colab": {
     "base_uri": "https://localhost:8080/",
     "height": 296
    },
    "colab_type": "code",
    "id": "J9FgIYyqaihR",
    "outputId": "b976b83a-22bb-455e-c336-494584287d9d"
   },
   "outputs": [
    {
     "data": {
      "text/plain": [
       "<matplotlib.axes._subplots.AxesSubplot at 0x7fbc26d80f28>"
      ]
     },
     "execution_count": 185,
     "metadata": {
      "tags": []
     },
     "output_type": "execute_result"
    },
    {
     "data": {
      "image/png": "[encoded data removed]",
      "text/plain": [
       "<Figure size 432x288 with 1 Axes>"
      ]
     },
     "metadata": {
      "tags": []
     },
     "output_type": "display_data"
    }
   ],
   "source": [
    "# melts the data to separate the grading period scores into separate observations\n",
    "mother_education = father_guardian.melt(id_vars = ['mother education'], value_vars = ['g1 score', 'g2 score', 'g3 score'])\n",
    "sns.barplot(x = 'mother education', y = 'value', hue = 'variable' , data = mother_education)"
   ]
  },
  {
   "cell_type": "code",
   "execution_count": 0,
   "metadata": {
    "colab": {
     "base_uri": "https://localhost:8080/",
     "height": 34
    },
    "colab_type": "code",
    "id": "mOSvOO5zb10T",
    "outputId": "62a6040e-ccba-424a-ccbe-565653f92256"
   },
   "outputs": [
    {
     "data": {
      "text/plain": [
       "KruskalResult(statistic=10.19769426849239, pvalue=0.016958293722199647)"
      ]
     },
     "execution_count": 186,
     "metadata": {
      "tags": []
     },
     "output_type": "execute_result"
    }
   ],
   "source": [
    "# seperates each score by mother's education level and retrieves the array\n",
    "mRank1 = mother_education[mother_education['mother education'] == 1]['value']\n",
    "mRank2 = mother_education[mother_education['mother education'] == 2]['value']\n",
    "mRank3 = mother_education[mother_education['mother education'] == 3]['value']\n",
    "mRank4 = mother_education[mother_education['mother education'] == 4]['value']\n",
    "stats.kruskal(mRank1, mRank2, mRank3, mRank4)"
   ]
  },
  {
   "cell_type": "code",
   "execution_count": 0,
   "metadata": {
    "colab": {
     "base_uri": "https://localhost:8080/",
     "height": 298
    },
    "colab_type": "code",
    "id": "yhWkfsYycPHQ",
    "outputId": "beb01ec4-ed25-4e72-c0d3-a8cf7af59c1b"
   },
   "outputs": [
    {
     "data": {
      "text/plain": [
       "<matplotlib.axes._subplots.AxesSubplot at 0x7fbc26d15828>"
      ]
     },
     "execution_count": 187,
     "metadata": {
      "tags": []
     },
     "output_type": "execute_result"
    },
    {
     "data": {
      "image/png": "[encoded data removed]",
      "text/plain": [
       "<Figure size 432x288 with 1 Axes>"
      ]
     },
     "metadata": {
      "tags": []
     },
     "output_type": "display_data"
    }
   ],
   "source": [
    "father_education = father_guardian.melt(id_vars = ['father education'], value_vars = ['g1 score', 'g2 score', 'g3 score'])\n",
    "sns.barplot(x = 'father education', y = 'value', hue = 'variable' , data = father_education)"
   ]
  },
  {
   "cell_type": "code",
   "execution_count": 0,
   "metadata": {
    "colab": {
     "base_uri": "https://localhost:8080/",
     "height": 34
    },
    "colab_type": "code",
    "id": "1wYJzRixa6GV",
    "outputId": "e7da654d-5f4c-4c59-8a3a-99f9734dca59"
   },
   "outputs": [
    {
     "data": {
      "text/plain": [
       "KruskalResult(statistic=13.517268183890868, pvalue=0.0036416128427983695)"
      ]
     },
     "execution_count": 188,
     "metadata": {
      "tags": []
     },
     "output_type": "execute_result"
    }
   ],
   "source": [
    "# seperates each score by father's education level and retrieves the array\n",
    "fRank1 = father_education[father_education['father education'] == 1]['value']\n",
    "fRank2 = father_education[father_education['father education'] == 2]['value']\n",
    "fRank3 = father_education[father_education['father education'] == 3]['value']\n",
    "fRank4 = father_education[father_education['father education'] == 4]['value']\n",
    "stats.kruskal(fRank1, fRank2, fRank3, fRank4)"
   ]
  },
  {
   "cell_type": "markdown",
   "metadata": {
    "colab_type": "text",
    "id": "phCmWR46IL2O"
   },
   "source": [
    "Since the p-value of mother education and father education is less than 0.05, this means that the population median is not equal and we can reject the null hypothesis. This suggests that the result remains the same that parent education has an effect on the student's academic performance although a student had a different guardian."
   ]
  },
  {
   "cell_type": "markdown",
   "metadata": {
    "colab_type": "text",
    "id": "vdrm94_G4S6L"
   },
   "source": [
    "Finally, we will examine the mother and father eduation for students that listed other as their guardian."
   ]
  },
  {
   "cell_type": "code",
   "execution_count": 0,
   "metadata": {
    "colab": {
     "base_uri": "https://localhost:8080/",
     "height": 296
    },
    "colab_type": "code",
    "id": "ZYNZgj3_4dT7",
    "outputId": "be59182f-f976-4262-9bf8-83b4f4328bb9"
   },
   "outputs": [
    {
     "data": {
      "text/plain": [
       "<matplotlib.axes._subplots.AxesSubplot at 0x7fbc26b882b0>"
      ]
     },
     "execution_count": 193,
     "metadata": {
      "tags": []
     },
     "output_type": "execute_result"
    },
    {
     "data": {
      "image/png": "[encoded data removed]",
      "text/plain": [
       "<Figure size 432x288 with 1 Axes>"
      ]
     },
     "metadata": {
      "tags": []
     },
     "output_type": "display_data"
    }
   ],
   "source": [
    "# melts the data to separate the grading period scores into separate observations\n",
    "mother_education = other_guardian.melt(id_vars = ['mother education'], value_vars = ['g1 score', 'g2 score', 'g3 score'])\n",
    "sns.barplot(x = 'mother education', y = 'value', hue = 'variable' , data = mother_education)"
   ]
  },
  {
   "cell_type": "code",
   "execution_count": 0,
   "metadata": {
    "colab": {
     "base_uri": "https://localhost:8080/",
     "height": 34
    },
    "colab_type": "code",
    "id": "XgxZT5S-4hAL",
    "outputId": "7af80dfb-f59e-4d1e-8814-cd1dbfaeb7b4"
   },
   "outputs": [
    {
     "data": {
      "text/plain": [
       "KruskalResult(statistic=2.9324019722643904, pvalue=0.40216531680878564)"
      ]
     },
     "execution_count": 194,
     "metadata": {
      "tags": []
     },
     "output_type": "execute_result"
    }
   ],
   "source": [
    "# seperates each score by mother's education level and retrieve the array\n",
    "mRank1 = mother_education[mother_education['mother education'] == 1]['value']\n",
    "mRank2 = mother_education[mother_education['mother education'] == 2]['value']\n",
    "mRank3 = mother_education[mother_education['mother education'] == 3]['value']\n",
    "mRank4 = mother_education[mother_education['mother education'] == 4]['value']\n",
    "stats.kruskal(mRank1, mRank2, mRank3, mRank4)"
   ]
  },
  {
   "cell_type": "code",
   "execution_count": 0,
   "metadata": {
    "colab": {
     "base_uri": "https://localhost:8080/",
     "height": 298
    },
    "colab_type": "code",
    "id": "Ap8EpLPx4igQ",
    "outputId": "716c5c5b-f7ef-49d8-feeb-6707d6a9e0c3"
   },
   "outputs": [
    {
     "data": {
      "text/plain": [
       "<matplotlib.axes._subplots.AxesSubplot at 0x7fbc26d157f0>"
      ]
     },
     "execution_count": 195,
     "metadata": {
      "tags": []
     },
     "output_type": "execute_result"
    },
    {
     "data": {
      "image/png": "[encoded data removed]",
      "text/plain": [
       "<Figure size 432x288 with 1 Axes>"
      ]
     },
     "metadata": {
      "tags": []
     },
     "output_type": "display_data"
    }
   ],
   "source": [
    "father_education = other_guardian.melt(id_vars = ['father education'], value_vars = ['g1 score', 'g2 score', 'g3 score'])\n",
    "sns.barplot(x = 'father education', y = 'value', hue = 'variable' , data = father_education)"
   ]
  },
  {
   "cell_type": "code",
   "execution_count": 0,
   "metadata": {
    "colab": {},
    "colab_type": "code",
    "id": "XCpJ6AUg4oP1"
   },
   "outputs": [],
   "source": [
    "# seperates each score by father's education level and retrieve the array\n",
    "fRank1 = father_education[father_education['father education'] == 1]['value']\n",
    "fRank2 = father_education[father_education['father education'] == 2]['value']\n",
    "fRank3 = father_education[father_education['father education'] == 3]['value']\n",
    "fRank4 = father_education[father_education['father education'] == 4]['value']\n",
    "stats.kruskal(fRank1, fRank2, fRank3, fRank4)"
   ]
  },
  {
   "cell_type": "markdown",
   "metadata": {
    "colab_type": "text",
    "id": "K7doceDB4tNi"
   },
   "source": [
    "Since the p-value of mother education and father education is greater than 0.05, this means that the population median is are equal and we can accept the null hypothesis. This indicates that mother and father education does not effect the academic performance of a student when the student lists other as their guardian.\n",
    "\n",
    "When a student's guardian is neither mother nor father, parent education level does not have an effect on a student's academic performance."
   ]
  },
  {
   "cell_type": "markdown",
   "metadata": {
    "colab_type": "text",
    "id": "IoX3eohl4vja"
   },
   "source": [
    "Overall, our analysis indicates that both mother and father education effects students that listed either mother or father as their guardian. When the student lists \"other\" as their guardian, mother and father education does not have effect on a student's academic performance.\n",
    "\n",
    "For future analysis, we would collect data on the education level of other to determine if guardian education level affects student academic performance to confirm the results that the student's guardian and their education level effects a student's performance.\n"
   ]
  },
  {
   "cell_type": "markdown",
   "metadata": {
    "colab_type": "text",
    "id": "aYwQLS1nIL2Q"
   },
   "source": [
    "\n",
    "## Travel Time"
   ]
  },
  {
   "cell_type": "markdown",
   "metadata": {
    "colab_type": "text",
    "id": "csRX-BgHvkGc"
   },
   "source": [
    "Student commute times were surveyed and grouped into ranks by researchers: rank 1 was 0-15 minutes, rank 2 was 15-30 minutes, and so on. \n",
    "\n",
    "The barplot below shows the distribution of commute time responses. \n",
    "\n",
    "####Commute Time Data"
   ]
  },
  {
   "cell_type": "code",
   "execution_count": 0,
   "metadata": {
    "colab": {
     "base_uri": "https://localhost:8080/",
     "height": 283
    },
    "colab_type": "code",
    "id": "zNxoz_F6wR9V",
    "outputId": "0990bfbb-6cfb-4ffd-dfab-e16f5df6c6e3"
   },
   "outputs": [
    {
     "data": {
      "text/plain": [
       "<matplotlib.axes._subplots.AxesSubplot at 0x7f90fc80f048>"
      ]
     },
     "execution_count": 59,
     "metadata": {
      "tags": []
     },
     "output_type": "execute_result"
    },
    {
     "data": {
      "image/png": "[encoded data removed]",
      "text/plain": [
       "<Figure size 432x288 with 1 Axes>"
      ]
     },
     "metadata": {
      "tags": []
     },
     "output_type": "display_data"
    }
   ],
   "source": [
    "#df_merged\n",
    "commutetime_counts = df_merged['commutetime'].value_counts()\n",
    "sns.barplot(x = commutetime_counts.index, y = commutetime_counts)"
   ]
  },
  {
   "cell_type": "markdown",
   "metadata": {
    "colab_type": "text",
    "id": "dzImwGsb3ZSX"
   },
   "source": [
    "####Commute Time Response Counts: Countplot\n",
    "\n",
    "The barplot shows a skew towards higher travel times; most students have commutes between 0 and 30 minutes. This finding makes sense intuitively-- families may choose living places closer to school, or more likely, students are often registered into districts and only given choices of schools to attend that fit within a certain radius. Overall though, this suggests on the surface that there is likely nothing unusual about the average travel time of students in our dataset that should be taken note of in analysis."
   ]
  },
  {
   "cell_type": "markdown",
   "metadata": {
    "colab_type": "text",
    "id": "LDnViXUw4rUV"
   },
   "source": [
    "The below barplot shows mean G1, G2, and G3 test scores in reading and math, for each category of commute time response. \n"
   ]
  },
  {
   "cell_type": "code",
   "execution_count": 0,
   "metadata": {
    "colab": {
     "base_uri": "https://localhost:8080/",
     "height": 626
    },
    "colab_type": "code",
    "id": "81LJ89XvIL2R",
    "outputId": "46c8a193-64f1-4643-d237-287e72e692c5"
   },
   "outputs": [
    {
     "name": "stdout",
     "output_type": "stream",
     "text": [
      "      commutetime  variable  value test_subject\n",
      "0               2  g1 score      5         math\n",
      "1               1  g1 score      5         math\n",
      "2               1  g1 score      7         math\n",
      "3               1  g1 score     15         math\n",
      "4               1  g1 score      6         math\n",
      "...           ...       ...    ...          ...\n",
      "1942            1  g3 score     10      reading\n",
      "1943            1  g3 score     16      reading\n",
      "1944            2  g3 score      9      reading\n",
      "1945            2  g3 score     10      reading\n",
      "1946            3  g3 score     11      reading\n",
      "\n",
      "[3132 rows x 4 columns]\n"
     ]
    },
    {
     "data": {
      "image/png": "[encoded data removed]",
      "text/plain": [
       "<Figure size 798.875x360 with 2 Axes>"
      ]
     },
     "metadata": {
      "tags": []
     },
     "output_type": "display_data"
    }
   ],
   "source": [
    "# grouped barplot\n",
    "# Use melt function to reorder one variable and test scores as 3 columns with rows for each value\n",
    "# To use, id_vars should be your desired x-axis variable, value_vars should be the desired y-axis variable(s)\n",
    "commutetime_melt = df.melt(id_vars = ['commutetime'], value_vars = ['g1 score', 'g2 score', 'g3 score'])\n",
    "# adding a column to identify test subject; will be used later to separate catplot\n",
    "commutetime_melt['test_subject'] = 'math'\n",
    "\n",
    "# same as above, but with reading score data frame\n",
    "commutetime_melt_por = df_por.melt(id_vars = ['commutetime'], value_vars = ['g1 score', 'g2 score', 'g3 score'])\n",
    "commutetime_melt_por['test_subject'] = 'reading'\n",
    "\n",
    "# appending the dataframes to use with sns.catplot\n",
    "commutetime_melt = commutetime_melt.append(commutetime_melt_por)\n",
    "print(commutetime_melt)\n",
    "\n",
    "# plotting using seaborn catplot function, using 'variable' column from melted DataFrame to create a grouped barplot\n",
    "# result is two barplots side-by-side, separated by subject\n",
    "commutetime_barplot = sns.catplot(x='commutetime', y='value',\n",
    "                hue='variable', col='test_subject',\n",
    "                data=commutetime_melt, kind=\"bar\",);"
   ]
  },
  {
   "cell_type": "markdown",
   "metadata": {
    "colab_type": "text",
    "id": "wttrBIV8IL2U"
   },
   "source": [
    "####Test Scores by Commute Time Response: Barplot\n",
    "\n",
    "The plot above shows data grouped by student-reported commute times to school, with each numerical increase representing a 30 minute increase in commute times. Their G1, G2, and cumulative G3 scores are plotted within the groups. \n",
    "\n",
    "There is a generally downward trend as student commute time increases, and this particularly impacts the G2 and G3 scores. Meanwhile, G1 scores are affected, but not as drastically.\n",
    "\n",
    "Considering that G2 and G3 are later in the year, with G3 being a cumulative score, the data may indicate that the effect of high commute time on students' ability to study and prepare for tests, is impacted by commute time (i.e. time not able to be spent studying or learning), and this effect compounds as the year goes on. This may explain why the later test scores are impacted more severely."
   ]
  },
  {
   "cell_type": "markdown",
   "metadata": {
    "colab_type": "text",
    "id": "spjxHv9J-4_r"
   },
   "source": [
    "Below is another attempt to visualize possible trends in the distribution, again separated by testing subject and with commute time responses as our categories."
   ]
  },
  {
   "cell_type": "code",
   "execution_count": 0,
   "metadata": {
    "colab": {
     "base_uri": "https://localhost:8080/",
     "height": 369
    },
    "colab_type": "code",
    "id": "RJddzcsf6aOG",
    "outputId": "0af4bc99-de37-482f-9a48-3c67eb2b4115"
   },
   "outputs": [
    {
     "data": {
      "image/png": "[encoded data removed]",
      "text/plain": [
       "<Figure size 798.875x360 with 2 Axes>"
      ]
     },
     "metadata": {
      "tags": []
     },
     "output_type": "display_data"
    }
   ],
   "source": [
    "commutetime_stripplot = sns.catplot(x='commutetime', y='value',\n",
    "                hue='variable', col='test_subject',\n",
    "                data=commutetime_melt, kind=\"strip\",);\n"
   ]
  },
  {
   "cell_type": "markdown",
   "metadata": {
    "colab_type": "text",
    "id": "IHY0XcZV_OTU"
   },
   "source": [
    "####Testing Scores by Commute Time: Catplot"
   ]
  },
  {
   "cell_type": "markdown",
   "metadata": {
    "colab_type": "text",
    "id": "eXGigFsx_UsV"
   },
   "source": [
    "What can be seen from this plot is that within both testing subjects, students with lower commute times tend to have a more uniform distribution of scores across both low and high scores. However, as commute time increases, the distribution becomes less uniform and shifts towards lower scores."
   ]
  },
  {
   "cell_type": "markdown",
   "metadata": {
    "colab_type": "text",
    "id": "tB12Cn46_k_P"
   },
   "source": [
    "Before peforming any kind of numerical testing, we will check if the distributions are normal, and if not, whether there is a difference in the means, using a Kruskal test. Otherwise, we will use a t-test."
   ]
  },
  {
   "cell_type": "markdown",
   "metadata": {
    "colab_type": "text",
    "id": "eZ54V8SEOqZ8"
   },
   "source": [
    "####Statistical Testing"
   ]
  },
  {
   "cell_type": "code",
   "execution_count": 0,
   "metadata": {
    "colab": {
     "base_uri": "https://localhost:8080/",
     "height": 72
    },
    "colab_type": "code",
    "id": "20w5wRi8SVev",
    "outputId": "312b01f6-738f-43e5-e6ac-729c912610aa"
   },
   "outputs": [
    {
     "name": "stdout",
     "output_type": "stream",
     "text": [
      "The commute time distributions are likely non-normal.\n",
      "Based on a Kruskal test, there IS a significant difference in the mean test scores of students in different commute time categories.\n",
      "Based on a Kruskal test, there IS a significant difference in the mean test scores of students with commute times under 15 minutes, and those with higher commute times.\n"
     ]
    }
   ],
   "source": [
    "#obtaining all data points in each rank/category of travel time\n",
    "commutetime_rank1 = commutetime_melt[commutetime_melt['commutetime'] == 1]['value']\n",
    "commutetime_rank2 = commutetime_melt[commutetime_melt['commutetime'] == 2]['value']\n",
    "commutetime_rank3 = commutetime_melt[commutetime_melt['commutetime'] == 3]['value']\n",
    "commutetime_rank4 = commutetime_melt[commutetime_melt['commutetime'] == 4]['value']\n",
    "\n",
    "#combining travel times higher than 15 minutes into a separate table for later usage\n",
    "commutetime_ranks2plus = pd.concat([commutetime_rank2, commutetime_rank3, commutetime_rank4])\n",
    "\n",
    "#Testing commute time distributions to see if they fit normal distributions. If they are, we will perform a t-test. Else we perform a Kruskal test.\n",
    "#Both are to identify significant differences in the means.\n",
    "if ((stats.normaltest(commutetime_rank1)[1]) and stats.normaltest(commutetime_rank2)[1] and stats.normaltest(commutetime_rank3)[1] and stats.normaltest(commutetime_rank4)[1] < 0.05):\n",
    "  print(\"The commute time distributions are likely non-normal.\")\n",
    "  \n",
    "  #Kruskal test to identify if there are significant differences in the means between all groups\n",
    "  if (stats.kruskal(commutetime_rank1, commutetime_rank2, commutetime_rank3, commutetime_rank4)[1] < 0.05):\n",
    "    print(\"Based on a Kruskal test, there IS a significant difference in the mean test scores of students in different commute time categories.\")\n",
    "  else: \n",
    "    print(\"Based on a Kruskal test, there is NO significant difference in the mean test scores of students across different commute time categories.\")\n",
    "  #Kruskal test to determine if there are significant differences in the means between only students with < 15 min commute time, compared to all others\n",
    "  if (stats.kruskal(commutetime_rank1, commutetime_ranks2plus)[1] < 0.05):\n",
    "    print(\"Based on a Kruskal test, there IS a significant difference in the mean test scores of students with commute times under 15 minutes, and those with higher commute times.\")\n",
    "  else:\n",
    "    print(\"Based on a Kruskal test, there is NO a significant difference in the mean test scores of students with commute times under 15 minutes, and those with higher commute times.\")\n",
    "\n",
    "#If distributions are normal, do t-test instead comparing students with < 15 min commute and all others\n",
    "else: \n",
    "  print(\"Some of the commute time distributions are normally distributed.\")\n",
    "  commute_t_stat, commute_p_val = stats.ttest_ind(commutetime_rank1, commutetime_ranks2plus , equal_var=False)\n",
    "  if commute_p_val < 0.05:\n",
    "    print(\"Based on a t-test, there IS a significant difference in the mean test scores of students with commute times under 15 minutes, and those with higher commute times.\")\n",
    "  else:\n",
    "    print(\"Based on a t-test, there is NO a significant difference in the mean test scores of students with commute times under 15 minutes, and those with higher commute times.\")\n",
    "\n",
    "\n"
   ]
  },
  {
   "cell_type": "markdown",
   "metadata": {
    "colab_type": "text",
    "id": "QGjZvLYVMM6H"
   },
   "source": [
    "Analyzing the data shows a non-normal distribution of travel times. Based on this, we choose to perform a Kruskal-Wallis test to determine if the different groups of students (by travel time) have significant differences in their mean test scores, across both subjects. \n",
    "\n",
    "Both tests return p-values below 0.05, suggesting that students with lower commute times have a significant difference in their test scores. From the barplots made earlier, it is clear this is a positve difference in favor of those with lower commute times."
   ]
  },
  {
   "cell_type": "markdown",
   "metadata": {
    "colab_type": "text",
    "id": "NcJIRmSdIL2Z"
   },
   "source": [
    "####Conclusion\n",
    "Overall, our analysis indicates that students with shorter commute times to school score meaningfully higher on the standardized tests conducted. This suggests commute times does affect students' education quality and learning in to measurable effect. "
   ]
  },
  {
   "cell_type": "markdown",
   "metadata": {
    "colab_type": "text",
    "id": "75ovT-0MIL2Z"
   },
   "source": [
    "## Family Relation Quality"
   ]
  },
  {
   "cell_type": "markdown",
   "metadata": {
    "colab_type": "text",
    "id": "n_62kD-XIL2a"
   },
   "source": [
    "Student relation quality with their family was surveyed and grouped into ranks by researchers: ranging from 1 as \"very poor\", 3 as \"average\", and 5 as \"very good\". \n",
    "\n",
    "The barplot below shows the distribution of family relation quality responses. \n",
    "\n",
    "####Family Relation Quality Data"
   ]
  },
  {
   "cell_type": "code",
   "execution_count": 0,
   "metadata": {
    "colab": {
     "base_uri": "https://localhost:8080/",
     "height": 283
    },
    "colab_type": "code",
    "id": "l9dsd14wODZe",
    "outputId": "9454a00f-48ff-4f7a-eada-c6b82897e452"
   },
   "outputs": [
    {
     "data": {
      "text/plain": [
       "<matplotlib.axes._subplots.AxesSubplot at 0x7f90fc1cd588>"
      ]
     },
     "execution_count": 85,
     "metadata": {
      "tags": []
     },
     "output_type": "execute_result"
    },
    {
     "data": {
      "image/png": "[encoded data removed]",
      "text/plain": [
       "<Figure size 432x288 with 1 Axes>"
      ]
     },
     "metadata": {
      "tags": []
     },
     "output_type": "display_data"
    }
   ],
   "source": [
    "family_relation_counts = df_merged['family relation quality'].value_counts()\n",
    "sns.barplot(x = family_relation_counts.index, y = family_relation_counts)"
   ]
  },
  {
   "cell_type": "markdown",
   "metadata": {
    "colab_type": "text",
    "id": "7KdlF2dTOQz0"
   },
   "source": [
    "####Family Relation Quality Response Counts: Countplot\n",
    "\n",
    "The barplot shows a skew towards lower quality of family relations. Most students self-report better quality of home life and interactions with family; while a smaller, but significant proportion report having difficulties in their family and overall a lower quality of time and interaction with them. \n",
    "\n",
    "No one group of response comprises an overwhelming majority of the responses, nor does any category have very few or no responses. "
   ]
  },
  {
   "cell_type": "markdown",
   "metadata": {
    "colab_type": "text",
    "id": "nhQH638hP30n"
   },
   "source": [
    "The below barplot shows mean G1, G2, and G3 test scores in reading and math, for each category of family relation quality. \n"
   ]
  },
  {
   "cell_type": "code",
   "execution_count": 0,
   "metadata": {
    "colab": {
     "base_uri": "https://localhost:8080/",
     "height": 369
    },
    "colab_type": "code",
    "id": "FL6gZg50IL2a",
    "outputId": "5a970aee-8e31-42e2-82a0-f9b1d5e2a6d0"
   },
   "outputs": [
    {
     "data": {
      "image/png": "[encoded data removed]",
      "text/plain": [
       "<Figure size 798.875x360 with 2 Axes>"
      ]
     },
     "metadata": {
      "tags": []
     },
     "output_type": "display_data"
    }
   ],
   "source": [
    "# grouped barplot\n",
    "# Use melt function to reorder one variable and test scores as 3 columns with rows for each value\n",
    "# To use, id_vars should be your desired x-axis variable, value_vars should be the desired y-axis variable(s)\n",
    "family_relation_math_melt = df.melt(id_vars = ['family relation quality'], value_vars = ['g1 score', 'g2 score', 'g3 score'])\n",
    "# adding a column to identify test subject; will be used later to separate catplot\n",
    "family_relation_math_melt['test_subject'] = 'math'\n",
    "\n",
    "# same as above, but with reading score data frame\n",
    "family_relation_por_melt = df_por.melt(id_vars = ['family relation quality'], value_vars = ['g1 score', 'g2 score', 'g3 score'])\n",
    "family_relation_por_melt['test_subject'] = 'reading'\n",
    "\n",
    "# appending the dataframes to use with sns.catplot\n",
    "family_relation_merged_melt = family_relation_math_melt.append(family_relation_por_melt)\n",
    "\n",
    "# plotting using seaborn catplot function, using 'variable' column from melted DataFrame to create a grouped barplot\n",
    "# result is two barplots side-by-side, separated by subject\n",
    "family_relation_barplot = sns.catplot(x='family relation quality', y='value',\n",
    "                hue='variable', col='test_subject',\n",
    "                data=family_relation_merged_melt, kind=\"bar\",);"
   ]
  },
  {
   "cell_type": "markdown",
   "metadata": {
    "colab_type": "text",
    "id": "VPG2TgdKHTPS"
   },
   "source": [
    "####Testing Scores by Family Relation Quality: Barplot"
   ]
  },
  {
   "cell_type": "markdown",
   "metadata": {
    "colab_type": "text",
    "id": "FpFKoi6XIL2d"
   },
   "source": [
    "The plot above shows data grouped by student-reported family relationship quality, from 1 to 5, with each numerical increase expressing a change from \"very bad\" to \"very good\", increasing. Their G1, G2, and cumulative G3 scores for math and reading are plotted within the groups. \n",
    "\n",
    "With math scores, there is a slight downward trend as family relationship quality increases, and this particularly impacts the G2 and G3 scores. Meanwhile, G1 scores are affected, but not as drastically.\n",
    "\n",
    "However, reading scores show a slight positive trend with increasing family relation quality. One possible explanation is that parents with good relation with their children and vice versa are more likely to engage in activities such as reading, etc with their child, which may help in subjects such as reading.\n",
    "\n"
   ]
  },
  {
   "cell_type": "markdown",
   "metadata": {
    "colab_type": "text",
    "id": "mTSCh9z2Qubg"
   },
   "source": [
    "Below is another attempt to visualize possible trends in the distribution, again separated by testing subject and with family relation quality as the categories."
   ]
  },
  {
   "cell_type": "code",
   "execution_count": 0,
   "metadata": {
    "colab": {
     "base_uri": "https://localhost:8080/",
     "height": 369
    },
    "colab_type": "code",
    "id": "BQ4eJ2OFGgrA",
    "outputId": "d68729e5-865b-4ee9-b1f4-521761ad713b"
   },
   "outputs": [
    {
     "data": {
      "image/png": "[encoded data removed]",
      "text/plain": [
       "<Figure size 798.875x360 with 2 Axes>"
      ]
     },
     "metadata": {
      "tags": []
     },
     "output_type": "display_data"
    }
   ],
   "source": [
    "familyrelation_stripplot = sns.catplot(x='family relation quality', y='value',\n",
    "                hue='variable', col='test_subject',\n",
    "                data=family_relation_merged_melt, kind=\"strip\",);\n"
   ]
  },
  {
   "cell_type": "markdown",
   "metadata": {
    "colab_type": "text",
    "id": "SyoW_5xUqtDG"
   },
   "source": [
    "####Testing Scores by Family Relation Quality: Catplot"
   ]
  },
  {
   "cell_type": "markdown",
   "metadata": {
    "colab_type": "text",
    "id": "gXaCUfNPqzbI"
   },
   "source": [
    "With higher self-reported family relation quality tend to have a more uniform distribution of scores across both low and high scores. However, as the family relation quality decreases, the distribution becomes less uniformly distributed, with with less higher scores. However, this could also be attributed to there being less data points with low family relation quality. Were a larger sample size conducted, it is possible to see similar distributions."
   ]
  },
  {
   "cell_type": "markdown",
   "metadata": {
    "colab_type": "text",
    "id": "SzV91vDZrjc5"
   },
   "source": [
    "Before peforming any kind of numerical testing, we will check if the distributions are normal, and if not, whether there is a difference in the means, using a Kruskal test. Otherwise, we will use a t-test."
   ]
  },
  {
   "cell_type": "markdown",
   "metadata": {
    "colab_type": "text",
    "id": "5gGnywcIOdwD"
   },
   "source": [
    "####Statistical Testing"
   ]
  },
  {
   "cell_type": "code",
   "execution_count": 0,
   "metadata": {
    "colab": {
     "base_uri": "https://localhost:8080/",
     "height": 221
    },
    "colab_type": "code",
    "id": "NZUcHjQ6Shyy",
    "outputId": "a7c68633-be84-4b5e-c942-3c8cae0f31b0"
   },
   "outputs": [
    {
     "name": "stdout",
     "output_type": "stream",
     "text": [
      "The family relation quality distributions (math AND reading) are likely non-normal.\n",
      "Based on a Kruskal test, there IS a significant difference in the combined mean test scores of students in different family relation quality categories.\n",
      "Based on a Kruskal test, there IS a significant difference in the combined mean test scores of students reporting better family relations, and those who don't.\n",
      "\n",
      "The family relation quality distributions (math only) are likely non-normal.\n",
      "Based on a Kruskal test, there is NO significant difference in the mean math test scores of students across different family relation quality categories.\n",
      "Based on a Kruskal test, there is NO a significant difference in the mean math test scores of students reporting better family relations, and those who don't.\n",
      "\n",
      "The family relation quality distributions (reading only) are likely non-normal.\n",
      "Based on a Kruskal test, there IS a significant difference in the mean reading test scores of students in different family relation quality categories.\n",
      "Based on a Kruskal test, there IS a significant difference in the mean reading test scores of students reporting better family relations, and those who don't.\n",
      "\n"
     ]
    }
   ],
   "source": [
    "#obtaining all data points in each rank/category of family relation quality\n",
    "familyrelation_merged_rank1 = family_relation_merged_melt[family_relation_merged_melt['family relation quality'] == 1]['value']\n",
    "familyrelation_merged_rank2 = family_relation_merged_melt[family_relation_merged_melt['family relation quality'] == 2]['value']\n",
    "familyrelation_merged_rank3 = family_relation_merged_melt[family_relation_merged_melt['family relation quality'] == 3]['value']\n",
    "familyrelation_merged_rank4 = family_relation_merged_melt[family_relation_merged_melt['family relation quality'] == 4]['value']\n",
    "familyrelation_merged_rank5 = family_relation_merged_melt[family_relation_merged_melt['family relation quality'] == 5]['value']\n",
    "\n",
    "familyrelation_math_rank1 = family_relation_math_melt[family_relation_math_melt['family relation quality'] == 1]['value']\n",
    "familyrelation_math_rank2 = family_relation_math_melt[family_relation_math_melt['family relation quality'] == 2]['value']\n",
    "familyrelation_math_rank3 = family_relation_math_melt[family_relation_math_melt['family relation quality'] == 3]['value']\n",
    "familyrelation_math_rank4 = family_relation_math_melt[family_relation_math_melt['family relation quality'] == 4]['value']\n",
    "familyrelation_math_rank5 = family_relation_math_melt[family_relation_math_melt['family relation quality'] == 5]['value']\n",
    "\n",
    "familyrelation_por_rank1 = family_relation_por_melt[family_relation_por_melt['family relation quality'] == 1]['value']\n",
    "familyrelation_por_rank2 = family_relation_por_melt[family_relation_por_melt['family relation quality'] == 2]['value']\n",
    "familyrelation_por_rank3 = family_relation_por_melt[family_relation_por_melt['family relation quality'] == 3]['value']\n",
    "familyrelation_por_rank4 = family_relation_por_melt[family_relation_por_melt['family relation quality'] == 4]['value']\n",
    "familyrelation_por_rank5 = family_relation_por_melt[family_relation_por_melt['family relation quality'] == 5]['value']\n",
    "\n",
    "#Combined Scores\n",
    "#combining family relation quality responses 3 or higher into a separate table for later usage\n",
    "familyrelation_merged_ranks3plus = pd.concat([familyrelation_merged_rank3, familyrelation_merged_rank4, familyrelation_merged_rank5])\n",
    "\n",
    "#Testing family relation quality distributions to see if they fit normal distributions. If they are, we will perform a t-test. Else we perform a Kruskal test.\n",
    "#Both are to identify significant differences in the means.\n",
    "if ((stats.normaltest(familyrelation_merged_rank1)[1]) and stats.normaltest(familyrelation_merged_rank2)[1] and stats.normaltest(familyrelation_merged_rank3)[1] and stats.normaltest(familyrelation_merged_rank4)[1] and stats.normaltest(familyrelation_merged_rank5)[1] < 0.05):\n",
    "  print(\"The family relation quality distributions (math AND reading) are likely non-normal.\")\n",
    "  \n",
    "  #Kruskal test to identify if there are significant differences in the means between all groups\n",
    "  if (stats.kruskal(familyrelation_merged_rank1, familyrelation_merged_rank2, familyrelation_merged_rank3, familyrelation_merged_rank4, familyrelation_merged_rank5)[1] < 0.05):\n",
    "    print(\"Based on a Kruskal test, there IS a significant difference in the combined mean test scores of students in different family relation quality categories.\")\n",
    "  else: \n",
    "    print(\"Based on a Kruskal test, there is NO significant difference in the combined mean test scores of students across different family relation quality categories.\")\n",
    "  #Kruskal test to determine if there are significant differences in the means between only students responding 3 or higher on family relation quality, compared to all others\n",
    "  if (stats.kruskal(familyrelation_merged_rank1, familyrelation_merged_ranks3plus)[1] < 0.05):\n",
    "    print(\"Based on a Kruskal test, there IS a significant difference in the combined mean test scores of students reporting better family relations, and those who don't.\\n\")\n",
    "  else:\n",
    "    print(\"Based on a Kruskal test, there is NO a significant difference in the combined mean test scores of students reporting better family relations, and those who don't.\\n\")\n",
    "\n",
    "#If distributions are normal, do t-test instead comparing students reporting 3 or higher on family relation quality, compared to all others\n",
    "else: \n",
    "  print(\"Some of the family relation quality distributions (math AND reading) are normally distributed.\")\n",
    "  familyrelation_merged_t_stat, familyrelation_merged_p_val = stats.ttest_ind(familyrelation_merged_rank1, familyrelation_merged_ranks3plus , equal_var=False)\n",
    "  if familyrelation_merged_p_val < 0.05:\n",
    "    print(\"Based on a t-test, there IS a significant difference in the combined mean test scores of students reporting better family relations, and those who don't.\\n\")\n",
    "  else:\n",
    "    print(\"Based on a t-test, there is NO a significant difference in the combined mean test scores of students reporting better family relations, and those who don't.\\n\")\n",
    "\n",
    "#Math Scores\n",
    "#combining family relation quality responses 3 or higher into a separate table for later usage\n",
    "familyrelation_math_ranks3plus = pd.concat([familyrelation_math_rank3, familyrelation_math_rank4, familyrelation_math_rank5])\n",
    "\n",
    "#Testing family relation quality distributions to see if they fit normal distributions. If they are, we will perform a t-test. Else we perform a Kruskal test.\n",
    "#Both are to identify significant differences in the means.\n",
    "if ((stats.normaltest(familyrelation_math_rank1)[1]) and stats.normaltest(familyrelation_math_rank2)[1] and stats.normaltest(familyrelation_math_rank3)[1] and stats.normaltest(familyrelation_math_rank4)[1] and stats.normaltest(familyrelation_math_rank5)[1] < 0.05):\n",
    "  print(\"The family relation quality distributions (math only) are likely non-normal.\")\n",
    "  \n",
    "  #Kruskal test to identify if there are significant differences in the means between all groups\n",
    "  if (stats.kruskal(familyrelation_math_rank1, familyrelation_math_rank2, familyrelation_math_rank3, familyrelation_math_rank4, familyrelation_math_rank5)[1] < 0.05):\n",
    "    print(\"Based on a Kruskal test, there IS a significant difference in the mean math test scores of students in different family relation quality categories.\")\n",
    "  else: \n",
    "    print(\"Based on a Kruskal test, there is NO significant difference in the mean math test scores of students across different family relation quality categories.\")\n",
    "  #Kruskal test to determine if there are significant differences in the means between only students responding 3 or higher on family relation quality, compared to all others\n",
    "  if (stats.kruskal(familyrelation_math_rank1, familyrelation_math_ranks3plus)[1] < 0.05):\n",
    "    print(\"Based on a Kruskal test, there IS a significant difference in the mean math test scores of students reporting better family relations, and those who don't.\\n\")\n",
    "  else:\n",
    "    print(\"Based on a Kruskal test, there is NO a significant difference in the mean math test scores of students reporting better family relations, and those who don't.\\n\")\n",
    "\n",
    "#If distributions are normal, do t-test instead comparing students reporting 3 or higher on family relation quality, compared to all others\n",
    "else: \n",
    "  print(\"Some of the family relation quality distributions (math only) are normally distributed.\")\n",
    "  familyrelation_math_t_stat, familyrelation_math_p_val = stats.ttest_ind(familyrelation_math_rank1, familyrelation_math_ranks3plus , equal_var=False)\n",
    "  if familyrelation_math_p_val < 0.05:\n",
    "    print(\"Based on a t-test, there IS a significant difference in the mean math test scores of students reporting better family relations, and those who don't.\\n\")\n",
    "  else:\n",
    "    print(\"Based on a t-test, there is NO a significant difference in the mean math test scores of students reporting better family relations, and those who don't.\\n\")\n",
    "\n",
    "#Reading Scores\n",
    "#combining family relation quality responses 3 or higher into a separate table for later usage\n",
    "familyrelation_por_ranks3plus = pd.concat([familyrelation_por_rank3, familyrelation_por_rank4, familyrelation_por_rank5])\n",
    "\n",
    "#Testing family relation quality distributions to see if they fit normal distributions. If they are, we will perform a t-test. Else we perform a Kruskal test.\n",
    "#Both are to identify significant differences in the means.\n",
    "if ((stats.normaltest(familyrelation_por_rank1)[1]) and stats.normaltest(familyrelation_por_rank2)[1] and stats.normaltest(familyrelation_por_rank3)[1] and stats.normaltest(familyrelation_por_rank4)[1] and stats.normaltest(familyrelation_por_rank5)[1] < 0.05):\n",
    "  print(\"The family relation quality distributions (reading only) are likely non-normal.\")\n",
    "  \n",
    "  #Kruskal test to identify if there are significant differences in the means between all groups\n",
    "  if (stats.kruskal(familyrelation_por_rank1, familyrelation_por_rank2, familyrelation_por_rank3, familyrelation_por_rank4, familyrelation_por_rank5)[1] < 0.05):\n",
    "    print(\"Based on a Kruskal test, there IS a significant difference in the mean reading test scores of students in different family relation quality categories.\")\n",
    "  else: \n",
    "    print(\"Based on a Kruskal test, there is NO significant difference in the mean reading test scores of students across different family relation quality categories.\")\n",
    "  #Kruskal test to determine if there are significant differences in the means between only students responding 3 or higher on family relation quality, compared to all others\n",
    "  if (stats.kruskal(familyrelation_por_rank1, familyrelation_por_ranks3plus)[1] < 0.05):\n",
    "    print(\"Based on a Kruskal test, there IS a significant difference in the mean reading test scores of students reporting better family relations, and those who don't.\\n\")\n",
    "  else:\n",
    "    print(\"Based on a Kruskal test, there is NO a significant difference in the mean reading test scores of students reporting better family relations, and those who don'tn\")\n",
    "\n",
    "#If distributions are normal, do t-test instead comparing students reporting 3 or higher on family relation quality, compared to all others\n",
    "else: \n",
    "  print(\"Some of the family relation quality distributions (reading only) are normally distributed.\")\n",
    "  familyrelation_por_t_stat, familyrelation_por_p_val = stats.ttest_ind(familyrelation_por_rank1, familyrelation_por_ranks3plus , equal_var=False)\n",
    "  if familyrelation_por_p_val < 0.05:\n",
    "    print(\"Based on a t-test, there IS a significant difference in the mean test scores of students reporting better family relations, and those who don't.\\n\")\n",
    "  else:\n",
    "    print(\"Based on a t-test, there is NO a significant difference in the mean test scores of students reporting better family relations, and those who don'.\\n\")\n"
   ]
  },
  {
   "cell_type": "markdown",
   "metadata": {
    "colab_type": "text",
    "id": "cWVjWmJKIL2f"
   },
   "source": [
    "Analyzing the data shows the distribution of family relation quality responses is likely non-normal. Based on this, we choose to perform a Kruskal-Wallis test to determine if the different groups of students (grouped by family relation quality responses) have significant differences in their mean test scores, across both subjects. \n",
    "\n",
    "Both tests return p-values below 0.05, suggesting that students with lower family relation quality have a significant difference in their test scores. This conclusion is the same for when math and reading scores are combined, or analyzed separately. However, the barplots suggest that reading scores are more impacted by higher family relation quality than math scores are. "
   ]
  },
  {
   "cell_type": "markdown",
   "metadata": {
    "colab_type": "text",
    "id": "Su3xEib8IL2j"
   },
   "source": [
    "####Conclusion\n",
    "Overall, our analysis indicates that students who report higher family relation quality scored meaningfully higher on the standardized tests conducted. This suggests family relation quality does affect students' education quality and learning in to measurable effect, particularly on reading comprehension. However, the family quality scores are self-reported and more subjective than commute time and travel time surveys, which group students into predefined, specific bins. This could lead to biased results, which we should take into account.\n",
    "\n"
   ]
  },
  {
   "cell_type": "markdown",
   "metadata": {
    "colab_type": "text",
    "id": "ntWb9c1iIL2j"
   },
   "source": [
    "## Study Time\n"
   ]
  },
  {
   "cell_type": "markdown",
   "metadata": {
    "colab_type": "text",
    "id": "XHNyVKICz2Sm"
   },
   "source": [
    "Following student family relationship quality, we will look at how the length of study time influences a student's academic performance. First, we will represent the data using a bargraph to see the distribution of student responses.\n"
   ]
  },
  {
   "cell_type": "code",
   "execution_count": 0,
   "metadata": {
    "colab": {
     "base_uri": "https://localhost:8080/",
     "height": 296
    },
    "colab_type": "code",
    "id": "KyEGwSjIfKvF",
    "outputId": "a5f87d5b-6259-41d4-d593-92e67d37531e"
   },
   "outputs": [
    {
     "data": {
      "text/plain": [
       "<matplotlib.axes._subplots.AxesSubplot at 0x7fa218a18240>"
      ]
     },
     "execution_count": 8,
     "metadata": {
      "tags": []
     },
     "output_type": "execute_result"
    },
    {
     "data": {
      "image/png": "[encoded data removed]",
      "text/plain": [
       "<Figure size 432x288 with 1 Axes>"
      ]
     },
     "metadata": {
      "tags": []
     },
     "output_type": "display_data"
    }
   ],
   "source": [
    "sns.countplot(x='studytime', data=df)\n"
   ]
  },
  {
   "cell_type": "markdown",
   "metadata": {
    "colab_type": "text",
    "id": "mXmv0oI51rfr"
   },
   "source": [
    "As shown in the figure above, the students responded with numbers on a scale of 1-4, where a response of 1 means the student studied for less than 2 hours, 2 translates to 5 hours, 3 to 5-10 hours, and 4 to more than 10 hours. The data in the barplot shows a distribution in which most responses are skewed towards a 2. \n"
   ]
  },
  {
   "cell_type": "markdown",
   "metadata": {
    "colab_type": "text",
    "id": "YbbzE2eHTfUO"
   },
   "source": [
    "Next, we will look at the distribution of responses when split up and compared against the G1, G2, and G3 scores. This will allow for greater analysis and insight into whether there may be a correlation between study time and academic achievement."
   ]
  },
  {
   "cell_type": "code",
   "execution_count": 0,
   "metadata": {
    "colab": {
     "base_uri": "https://localhost:8080/",
     "height": 534
    },
    "colab_type": "code",
    "id": "bOUZ1RN7IL2k",
    "outputId": "fd27d811-3525-4ec6-aa6c-2038c59d77b1"
   },
   "outputs": [
    {
     "name": "stdout",
     "output_type": "stream",
     "text": [
      "      studytime  variable  value\n",
      "0             2  g1 score      5\n",
      "1             2  g1 score      5\n",
      "2             2  g1 score      7\n",
      "3             3  g1 score     15\n",
      "4             2  g1 score      6\n",
      "...         ...       ...    ...\n",
      "1180          2  g3 score      9\n",
      "1181          1  g3 score     16\n",
      "1182          1  g3 score      7\n",
      "1183          1  g3 score     10\n",
      "1184          1  g3 score      9\n",
      "\n",
      "[1185 rows x 3 columns]\n"
     ]
    },
    {
     "data": {
      "text/plain": [
       "<matplotlib.axes._subplots.AxesSubplot at 0x7fa2033178d0>"
      ]
     },
     "execution_count": 19,
     "metadata": {
      "tags": []
     },
     "output_type": "execute_result"
    },
    {
     "data": {
      "image/png": "[encoded data removed]",
      "text/plain": [
       "<Figure size 432x288 with 1 Axes>"
      ]
     },
     "metadata": {
      "tags": []
     },
     "output_type": "display_data"
    }
   ],
   "source": [
    "studytime_data = df.melt(id_vars = ['studytime'], value_vars = ['g1 score', 'g2 score', 'g3 score'])\n",
    "print(studytime_data)\n",
    "\n",
    "sns.barplot(x = 'studytime', y='value', hue = 'variable', data = studytime_data)"
   ]
  },
  {
   "cell_type": "markdown",
   "metadata": {
    "colab_type": "text",
    "id": "hE-0Q26TTuzk"
   },
   "source": [
    "The figure above shows the test score values of G1, G2, G3 when study time is used as the independent variable in the barplot. When looking at the data, there is a slight positive correlation in academic achievement with an increased amount of study time. For example, the values of all G1, G2, and G3 all increase when looking at a response of 2 versus a response of 3.\n",
    "\n",
    "G1 seems to show the biggest increase among all the test scores when keeping study time into account, following that G2, and then G3. With a greater amount of study time, it makes sense to see that there would be a trend seen with academic achievement as students would be better prepared to tackle course material, and in turn get better grades.\n",
    "\n",
    "However, this does not particularly show a strong trend, so we will look into this data more deeply by filtering out the school to MS (the dataset contains the schools GP and MS), and finding a positive correlation between study time and test scores through the scatterplots."
   ]
  },
  {
   "cell_type": "code",
   "execution_count": 0,
   "metadata": {
    "colab": {
     "base_uri": "https://localhost:8080/",
     "height": 1000
    },
    "colab_type": "code",
    "id": "eCejHC9RYOlZ",
    "outputId": "7f942147-cd3e-41ce-904a-b90f2c2017b9"
   },
   "outputs": [
    {
     "data": {
      "text/plain": [
       "<matplotlib.axes._subplots.AxesSubplot at 0x7fa1ff467588>"
      ]
     },
     "execution_count": 24,
     "metadata": {
      "tags": []
     },
     "output_type": "execute_result"
    },
    {
     "data": {
      "image/png": "[encoded data removed]",
      "text/plain": [
       "<Figure size 864x432 with 1 Axes>"
      ]
     },
     "metadata": {
      "tags": []
     },
     "output_type": "display_data"
    },
    {
     "data": {
      "image/png": "[encoded data removed]",
      "text/plain": [
       "<Figure size 864x432 with 1 Axes>"
      ]
     },
     "metadata": {
      "tags": []
     },
     "output_type": "display_data"
    },
    {
     "data": {
      "image/png": "[encoded data removed]",
      "text/plain": [
       "<Figure size 864x432 with 1 Axes>"
      ]
     },
     "metadata": {
      "tags": []
     },
     "output_type": "display_data"
    }
   ],
   "source": [
    "#Create a dataframe that only contains responses with school as MS\n",
    "df_school_MS = df.loc[df['school'] == 'MS']\n",
    "\n",
    "#Create G1 scatterplot and trendline\n",
    "sns.lmplot(x='studytime', y='g1 score', data=df_school_MS, \n",
    "           fit_reg=False, height=6, aspect=2, \n",
    "           x_jitter=.5, y_jitter=.5);\n",
    "sns.regplot(x=\"studytime\", y=\"g1 score\", data=df_school_MS)\n",
    "\n",
    "#Create G1 scatterplot and trendline\n",
    "sns.lmplot(x='studytime', y='g2 score', data=df_school_MS, \n",
    "           fit_reg=False, height=6, aspect=2, \n",
    "           x_jitter=.5, y_jitter=.5);\n",
    "sns.regplot(x=\"studytime\", y=\"g2 score\", data=df_school_MS)\n",
    "\n",
    "#Create G1 scatterplot and trendline\n",
    "sns.lmplot(x='studytime', y='g3 score', data=df_school_MS, \n",
    "           fit_reg=False, height=6, aspect=2, \n",
    "           x_jitter=.5, y_jitter=.5);\n",
    "sns.regplot(x=\"studytime\", y=\"g3 score\", data=df_school_MS)"
   ]
  },
  {
   "cell_type": "markdown",
   "metadata": {
    "colab_type": "text",
    "id": "y1sE8aXSYyi8"
   },
   "source": [
    "In the scatterplots above, all G1, G2, and G3 scores show a small positive correlation with study time. "
   ]
  },
  {
   "cell_type": "markdown",
   "metadata": {
    "colab_type": "text",
    "id": "-pPOQiO4cU6D"
   },
   "source": [
    "To begin further analysis of the data, we must look to see if the data is normally distributed in order to determine what test we should use. In addition, for our null hypothesis, we will conclude that study time does not have an effect on student achievement, while for our alternate hypothesis, we will conclude that study time does have an effect on student achievement."
   ]
  },
  {
   "cell_type": "code",
   "execution_count": 0,
   "metadata": {
    "colab": {
     "base_uri": "https://localhost:8080/",
     "height": 34
    },
    "colab_type": "code",
    "id": "tfBPf0wMemrG",
    "outputId": "79e57adf-07f9-42ff-da86-22026a001838"
   },
   "outputs": [
    {
     "name": "stdout",
     "output_type": "stream",
     "text": [
      "The p-values for each ranking from 1-4 is as follows 0.021380720206122233, 4.699009508078935e-07, 5.526071063185109e-08, 0.05242228033902213\n"
     ]
    }
   ],
   "source": [
    "#Isolate each ranking value of studytime\n",
    "studytime_1 = studytime_data.loc[studytime_data['studytime'] == 1]['value']\n",
    "studytime_2 = studytime_data.loc[studytime_data['studytime'] == 2]['value']\n",
    "studytime_3 = studytime_data.loc[studytime_data['studytime'] == 3]['value']\n",
    "studytime_4 = studytime_data.loc[studytime_data['studytime'] == 4]['value']\n",
    "\n",
    "#Print p-values of each ranking\n",
    "print(\"The p-values for each ranking from 1-4 is as follows \" + str(stats.normaltest(studytime_1)[1]) +\", \" + str(stats.normaltest(studytime_2)[1])+\n",
    "      \", \"+ str(stats.normaltest(studytime_3)[1]) + \", \" + str(stats.normaltest(studytime_4)[1]))"
   ]
  },
  {
   "cell_type": "markdown",
   "metadata": {
    "colab_type": "text",
    "id": "oyAr_ge0IL2n"
   },
   "source": [
    "Because not all of the p-values are less than .05, they are not normally distributed and thus, we must use a Kruskal test to check for significance. "
   ]
  },
  {
   "cell_type": "code",
   "execution_count": 0,
   "metadata": {
    "colab": {
     "base_uri": "https://localhost:8080/",
     "height": 34
    },
    "colab_type": "code",
    "id": "UB05qWw-jEut",
    "outputId": "b38708fa-fb0a-4179-ab37-94dcd762339d"
   },
   "outputs": [
    {
     "name": "stdout",
     "output_type": "stream",
     "text": [
      "There is a significant difference between the medians of each rank, so we can reject the null hypothesis and say that study time influences student achievement\n"
     ]
    }
   ],
   "source": [
    "if stats.kruskal(studytime_1, studytime_2, studytime_3, studytime_4)[1] < 0.05:\n",
    "  print (\"There is a significant difference between the medians of each rank, so we can reject the null hypothesis and say that study time influences student achievement\")\n",
    "else:\n",
    "  print (\"There is not a significant difference between the medians of each rank, so we accept the null hypothesis and say that study time does not influence student achievement\")"
   ]
  },
  {
   "cell_type": "markdown",
   "metadata": {
    "colab_type": "text",
    "id": "ySIIzqy_IL2q"
   },
   "source": [
    "Overall, with the overall trends in the barplot and scatterplots, as well as analysis of the non-normal distributed ranking data through the Kruskal test, we can conclude that there is a correlation between study time and student performance.\n"
   ]
  },
  {
   "cell_type": "markdown",
   "metadata": {
    "colab_type": "text",
    "id": "YdA3TzqkIL2r"
   },
   "source": [
    "## Absences"
   ]
  },
  {
   "cell_type": "markdown",
   "metadata": {
    "colab_type": "text",
    "id": "6uWgcvEgIL2r"
   },
   "source": [
    "There are many research studies that indicate missing school hurts academic performance (5). First we show an exploratory graph to see the data we have. First, we'll show the whole data, then separate it by schools. It is not clearly stated if the absences recorded is the cumulative amount of absences for each student. In the case that it is the cumulative amount of absences, we will use the final grades, g3 scores, to calculate the effect of absences on grades. According to the Department of Education, Chronic Absenteeism does not differ significantly by gender, but the likelihood of chronic absenteeism increases as students progess through high school.\n",
    "\n",
    "Null Hypothesis: Absences does not affect the final grade. \n",
    "\n",
    "Alternative Hypothesis: Absences affects the final grade."
   ]
  },
  {
   "cell_type": "markdown",
   "metadata": {
    "colab_type": "text",
    "id": "bpLaHZaD5SpU"
   },
   "source": [
    "First we will get the columns that we want to analyze."
   ]
  },
  {
   "cell_type": "code",
   "execution_count": 0,
   "metadata": {
    "colab": {},
    "colab_type": "code",
    "id": "M-ezWy8O5_MS"
   },
   "outputs": [],
   "source": [
    "df_absences_mat = df[['school', 'g3 score', 'absences']]\n",
    "df_absences_por = df_por[['school', 'g3 score', 'absences']]"
   ]
  },
  {
   "cell_type": "markdown",
   "metadata": {
    "colab_type": "text",
    "id": "OIlYRUpcdkJR"
   },
   "source": [
    "Next we will visualize the data to see what kind of regression we can do."
   ]
  },
  {
   "cell_type": "code",
   "execution_count": 0,
   "metadata": {
    "colab": {
     "base_uri": "https://localhost:8080/",
     "height": 1000
    },
    "colab_type": "code",
    "id": "OvpRMhIo1vd7",
    "outputId": "24ee85ef-47f1-4565-92f1-7e5680d562f3"
   },
   "outputs": [
    {
     "data": {
      "image/png": "[encoded data removed]",
      "text/plain": [
       "<Figure size 360x360 with 1 Axes>"
      ]
     },
     "metadata": {
      "tags": []
     },
     "output_type": "display_data"
    },
    {
     "data": {
      "image/png": "[encoded data removed]",
      "text/plain": [
       "<Figure size 360x360 with 1 Axes>"
      ]
     },
     "metadata": {
      "tags": []
     },
     "output_type": "display_data"
    },
    {
     "data": {
      "image/png": "[encoded data removed]",
      "text/plain": [
       "<Figure size 432x288 with 1 Axes>"
      ]
     },
     "metadata": {
      "tags": []
     },
     "output_type": "display_data"
    },
    {
     "data": {
      "image/png": "[encoded data removed]",
      "text/plain": [
       "<Figure size 432x288 with 1 Axes>"
      ]
     },
     "metadata": {
      "tags": []
     },
     "output_type": "display_data"
    }
   ],
   "source": [
    "sns.lmplot('absences', 'g3 score', data=df_absences_mat, fit_reg=False)\n",
    "plt.title(\"Grades vs Absences for Math\")\n",
    "plt.show()\n",
    "sns.lmplot('absences', 'g3 score', data=df_absences_por, fit_reg=False)\n",
    "plt.title(\"Grades vs Absences for Portuguese\")\n",
    "plt.show()\n",
    "\n",
    "sns.distplot(df_absences_mat['absences'], hist=True, label=\"Math absences\")\n",
    "sns.distplot(df_absences_por['absences'], hist=True, label=\"Portuguese absences\")\n",
    "plt.legend()\n",
    "plt.show()\n",
    "\n",
    "sns.distplot(df_absences_mat['g3 score'], hist=True, label=\"Math scores\")\n",
    "sns.distplot(df_absences_por['g3 score'], hist=True, label=\"Portuguese scores\")\n",
    "plt.legend()\n",
    "plt.show()\n"
   ]
  },
  {
   "cell_type": "markdown",
   "metadata": {
    "colab_type": "text",
    "id": "wfi6FxMRKMgg"
   },
   "source": [
    "From the the scatter plots, we can see some sort of downwards trend and in combination with the histograms we can see there are a few outliers which will be removed them from the dataset. Specifically the values where there were 0 absences, but a 0 grade was received and the data point where there were 0 absences but a grade of 1 was received. We will also remove the cases where there were more than 30 absences as well. \n",
    "We can see that the g3 scores are normally distributed, but the absences are not. However, we can still see that there is some sort of downwards trend that affects the final grade.\n"
   ]
  },
  {
   "cell_type": "code",
   "execution_count": 0,
   "metadata": {
    "colab": {
     "base_uri": "https://localhost:8080/",
     "height": 1000
    },
    "colab_type": "code",
    "id": "gLsBSBhVzFjq",
    "outputId": "ea8653f2-da93-48bd-8182-fa023dbc5dc0"
   },
   "outputs": [
    {
     "data": {
      "image/png": "[encoded data removed]",
      "text/plain": [
       "<Figure size 360x360 with 1 Axes>"
      ]
     },
     "metadata": {
      "tags": []
     },
     "output_type": "display_data"
    },
    {
     "data": {
      "image/png": "[encoded data removed]",
      "text/plain": [
       "<Figure size 360x360 with 1 Axes>"
      ]
     },
     "metadata": {
      "tags": []
     },
     "output_type": "display_data"
    },
    {
     "data": {
      "image/png": "[encoded data removed]",
      "text/plain": [
       "<Figure size 432x288 with 1 Axes>"
      ]
     },
     "metadata": {
      "tags": []
     },
     "output_type": "display_data"
    }
   ],
   "source": [
    "# get the columns we want to remove values from\n",
    "cols_of_interest = ['absences', 'g3 score']\n",
    "\n",
    "# remove rows that have absences and g3 score equal to 0\n",
    "df_absences_mat = df_absences_mat.loc[(df_absences_mat[cols_of_interest] != 0).any(axis=1)]\n",
    "df_absences_por = df_absences_por.loc[(df_absences_por[cols_of_interest] != 0).any(axis=1)]\n",
    "\n",
    "# remove rows where absences exceed 30\n",
    "df_absences_mat = df_absences_mat[df_absences_mat.absences < 30]\n",
    "df_absences_por = df_absences_por[df_absences_por.absences < 30]\n",
    "\n",
    "# remove rows where g3 score was 1 or less\n",
    "df_absences_por = df_absences_por[df_absences_por['g3 score'] > 1]\n",
    "\n",
    "\n",
    "# plot new graph\n",
    "sns.lmplot('absences', 'g3 score', data=df_absences_mat, fit_reg=False)\n",
    "plt.title(\"Grades vs Absences for Math\")\n",
    "plt.show()\n",
    "\n",
    "# plot new graph\n",
    "sns.lmplot('absences', 'g3 score', data=df_absences_por, fit_reg=False)\n",
    "plt.title(\"Grades vs Absences for Portuguese\")\n",
    "plt.show()\n",
    "\n",
    "# historgram for absences\n",
    "sns.distplot(df_absences_mat['absences'], hist=True, label=\"Math absences\", \n",
    "              bins=int(30/3))\n",
    "sns.distplot(df_absences_por['absences'], hist=True, label=\"Portuguese absences\",\n",
    "              bins=int(30/3))\n",
    "plt.legend()\n",
    "plt.show()"
   ]
  },
  {
   "cell_type": "markdown",
   "metadata": {
    "colab_type": "text",
    "id": "27aEzwp4iQ38"
   },
   "source": [
    "We will will not transform the indepentdent variable and go forward with a linear regression test."
   ]
  },
  {
   "cell_type": "code",
   "execution_count": 0,
   "metadata": {
    "colab": {
     "base_uri": "https://localhost:8080/",
     "height": 906
    },
    "colab_type": "code",
    "id": "-7nINRk6fIwu",
    "outputId": "98d4b902-f671-4426-a723-7647a96bea05"
   },
   "outputs": [
    {
     "name": "stdout",
     "output_type": "stream",
     "text": [
      "                            OLS Regression Results                            \n",
      "==============================================================================\n",
      "Dep. Variable:               g3_score   R-squared:                       0.047\n",
      "Model:                            OLS   Adj. R-squared:                  0.044\n",
      "Method:                 Least Squares   F-statistic:                     17.22\n",
      "Date:                Tue, 17 Mar 2020   Prob (F-statistic):           4.19e-05\n",
      "Time:                        00:47:15   Log-Likelihood:                -901.25\n",
      "No. Observations:                 351   AIC:                             1807.\n",
      "Df Residuals:                     349   BIC:                             1814.\n",
      "Df Model:                           1                                         \n",
      "Covariance Type:            nonrobust                                         \n",
      "==============================================================================\n",
      "                 coef    std err          t      P>|t|      [0.025      0.975]\n",
      "------------------------------------------------------------------------------\n",
      "Intercept     12.2476      0.236     51.921      0.000      11.784      12.712\n",
      "absences      -0.1223      0.029     -4.149      0.000      -0.180      -0.064\n",
      "==============================================================================\n",
      "Omnibus:                        6.051   Durbin-Watson:                   2.037\n",
      "Prob(Omnibus):                  0.049   Jarque-Bera (JB):                5.678\n",
      "Skew:                           0.259   Prob(JB):                       0.0585\n",
      "Kurtosis:                       2.654   Cond. No.                         11.3\n",
      "==============================================================================\n",
      "\n",
      "Warnings:\n",
      "[1] Standard Errors assume that the covariance matrix of the errors is correctly specified.\n",
      "                            OLS Regression Results                            \n",
      "==============================================================================\n",
      "Dep. Variable:               g3_score   R-squared:                       0.056\n",
      "Model:                            OLS   Adj. R-squared:                  0.055\n",
      "Method:                 Least Squares   F-statistic:                     37.49\n",
      "Date:                Tue, 17 Mar 2020   Prob (F-statistic):           1.61e-09\n",
      "Time:                        00:47:15   Log-Likelihood:                -1492.9\n",
      "No. Observations:                 631   AIC:                             2990.\n",
      "Df Residuals:                     629   BIC:                             2999.\n",
      "Df Model:                           1                                         \n",
      "Covariance Type:            nonrobust                                         \n",
      "==============================================================================\n",
      "                 coef    std err          t      P>|t|      [0.025      0.975]\n",
      "------------------------------------------------------------------------------\n",
      "Intercept     12.7203      0.134     95.123      0.000      12.458      12.983\n",
      "absences      -0.1429      0.023     -6.123      0.000      -0.189      -0.097\n",
      "==============================================================================\n",
      "Omnibus:                       14.655   Durbin-Watson:                   1.490\n",
      "Prob(Omnibus):                  0.001   Jarque-Bera (JB):               11.729\n",
      "Skew:                           0.248   Prob(JB):                      0.00284\n",
      "Kurtosis:                       2.552   Cond. No.                         7.55\n",
      "==============================================================================\n",
      "\n",
      "Warnings:\n",
      "[1] Standard Errors assume that the covariance matrix of the errors is correctly specified.\n"
     ]
    }
   ],
   "source": [
    "df_absences_mat.rename(columns={'g3 score': 'g3_score'}, inplace=True)\n",
    "df_absences_por.rename(columns={'g3 score': 'g3_score'}, inplace=True)\n",
    "\n",
    "\n",
    "outcome_mat, predictors_mat = patsy.dmatrices(\"g3_score ~ absences\", df_absences_mat)\n",
    "model_mat = sm.OLS(outcome_mat, predictors_mat)\n",
    "\n",
    "outcome_por, predictors_por = patsy.dmatrices(\"g3_score ~ absences\", df_absences_por)\n",
    "model_por = sm.OLS(outcome_por, predictors_por)\n",
    "\n",
    "res_mat = model_mat.fit()\n",
    "res_por = model_por.fit()\n",
    "\n",
    "print(res_mat.summary())\n",
    "print(res_por.summary())"
   ]
  },
  {
   "cell_type": "markdown",
   "metadata": {
    "colab_type": "text",
    "id": "CSOHF1TK6lMF"
   },
   "source": [
    "# Conclusion\n",
    "\n",
    "From the test, we get an R-squared value of 0.047 for the math class and an R-squared value of 0,056 for the Portuguese class. From this, we can conclude that the line does not represent any of the data and thus, we cannot conlude that absences affect the final grade with this data. However, there may be confounding variables as students with 0 absences can receive a passing grade or a failing grade. There are more variables that can affect a student's grade. \n",
    "\n",
    "**We cannot analyze the effect of absences on student's final grades**"
   ]
  },
  {
   "cell_type": "markdown",
   "metadata": {
    "colab_type": "text",
    "id": "bYpqi3mwIL2s"
   },
   "source": [
    "# Ethics & Privacy"
   ]
  },
  {
   "cell_type": "markdown",
   "metadata": {
    "colab_type": "text",
    "id": "IQk3E8_nIL2s"
   },
   "source": [
    "The data used involves student information that is for public use on Kaggle, as they provide datasets that are public domain. Since the dataset has information from real students, it is important to make sure that there are proper measures to address the privacy concerns that may arise. The dataset used is fully anonymized and has no information that is able to be used to personally identify an individual. However, there are variables such as a student’s school, age, parents’ occupation, and family size that may allow an individual to be identified, but it would be hard to exactly pinpoint a particular student with only that information at hand. As for biases in our dataset, the data come from two schools in Portugal, and it is impossible to exactly know whether or not there are any other influencing factors due to the data not providing any information on each students’ geographical data. In addition, a potential issue that may arise with our data is that, while the information is fully anonymous, the data may be used to garner a negative perception of the certain school being analyzed, as there is information on income, student alcohol consumption, and amount of student failures. To handle the issue that we identified, we analyze the data in an objective manner, and we do not link a particular school as to having a particular trait since that isn’t the intent of the study. In our analysis we only take variables and see how they influence student performance across both schools and make conclusions from that information."
   ]
  },
  {
   "cell_type": "markdown",
   "metadata": {
    "colab_type": "text",
    "id": "MxC_2f5_IL2s"
   },
   "source": [
    "# Conclusion & Discussion"
   ]
  },
  {
   "cell_type": "markdown",
   "metadata": {
    "colab_type": "text",
    "id": "-daB2TIWIL2t"
   },
   "source": [
    "To answer our original research question: “What are the greatest indicators of a student's academic success?”, we analyzed several variables provided by our dataset. The results of comparing these variables with test scores are summarized below. \n",
    " \n",
    "As far as student alcohol consumption is concerned, there appeared to be a significant difference when comparing little to no alcohol consumed during the week to more than a little alcohol consumed during the week. Using one sided t-test to compare these two groups, it was found that more alcohol consumption resulted in a lower mean test score.\n",
    "\n",
    "Regarding parent education, we determined family education to have an effect on a student’s academic performance. Since we worked with categorical variables, it cannot be concluded which parent had a higher effect on a student’s performance. We found that parent educational level affects both students who received family educational support and students that did not receive family educational support. This shows that parent education levels impact a student’s performance in school regardless whether or not students receive educational support from their family. \n",
    "Investigating further, when the guardian is either the mother or father, both the mother education level and father education level has an effect on academic performance. However, a parent’s education level does not affect a student’s academic performance when their guardian is listed as other.\n",
    "\n",
    "Increased or decreased commute time to school is another variable we sought to study. Intuitively, increased travel time would leave students less time for studying and other activities, and decrease educational performance, and vice versa. The data analysis we performed suggested such a result. Even when comparing groups of students with a less than 15 minute commute time with all others, we observed a difference. This suggests that even small increases in commute time have significant effects on educational performance.\n",
    "\n",
    "Quality of home and family life is another factor that, intuitively, may have an effect on students’ education. As this was also surveyed in our dataset, we chose to analyze this variable. Students who have reported lower family relation quality showed a significant difference in both their math and their reading scores. \n",
    "\n",
    "When analyzing study time and its effect on students’ academic success, there was shown to be a correlation between the two variables as we rejected the null hypothesis. Because not all of the rankings were normally distributed, we performed a Kruskal test on each of the rankings, and it resulted in a p-value that was less than 0.05, showing that the medians of each ranking had a significant difference and that study time does have an affect on performance. \n",
    "\n",
    "Despite studies showing that absences do in fact affect a student's grade, with the data we have, we cannot conclude that absences affect a student's grade. When comparing the final grade to the number of absences for each student, there seemed to be a downwards trend as the absences increased. Whole values were given instead of ranked values, so we performed a linear regression test with an alpha level of 0.05. However, the R-squared came out to be 0.047 for the math class and 0.056 for the Portuguese class, meaning the linear regression does not accurately fit the data, suggesting this is not the correct test for this data. So we cannot conclude absences affect the final grade. \n"
   ]
  },
  {
   "cell_type": "markdown",
   "metadata": {
    "colab_type": "text",
    "id": "6Pb4gNrIIL2u"
   },
   "source": [
    "# Team Contributions"
   ]
  },
  {
   "cell_type": "markdown",
   "metadata": {
    "colab_type": "text",
    "id": "PuTGWUAbIL2v"
   },
   "source": [
    "Jacob - Student Alcohol Consumption\n",
    "\n",
    "Trinity - Family Education and Guardianship\n",
    "\n",
    "Ryan - Travel Time and Family Relationship\n",
    "\n",
    "Bryan - Study Time\n",
    "\n",
    "Alyssa - Absences\n"
   ]
  }
 ],
 "metadata": {
  "colab": {
   "collapsed_sections": [],
   "name": "FinalProject_group076.ipynb",
   "provenance": [],
   "toc_visible": true
  },
  "kernelspec": {
   "display_name": "Python 3",
   "language": "python",
   "name": "python3"
  },
  "language_info": {
   "codemirror_mode": {
    "name": "ipython",
    "version": 3
   },
   "file_extension": ".py",
   "mimetype": "text/x-python",
   "name": "python",
   "nbconvert_exporter": "python",
   "pygments_lexer": "ipython3",
   "version": "3.7.0"
  }
 },
 "nbformat": 4,
 "nbformat_minor": 1
}
