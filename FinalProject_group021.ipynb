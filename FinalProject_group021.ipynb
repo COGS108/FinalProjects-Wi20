{
 "cells": [
  {
   "cell_type": "markdown",
   "metadata": {},
   "source": [
    "# COGS 108 - Final Project "
   ]
  },
  {
   "cell_type": "markdown",
   "metadata": {},
   "source": [
    "# Overview"
   ]
  },
  {
   "cell_type": "markdown",
   "metadata": {},
   "source": [
    "The rapid growth of tech startups in the United States stemmed our research question to focus on a staple incubator, Kickstarter, that has catalyzed the success of many startups. Our final project undergoes research that makes comparisons between the success of a tech-based kickstarter company and non-tech kickstarter company. Our analysis focused on gaining insight on the details behind the structuring details of the kickstarter campaign, in terms of prolonged time, goal amount in monetary terms, and starting date. From there, we conducted linear and logistic regression to test whether the significant difference is prevalent in the success of tech and non-tech startups, given the variables we took into account from our insights.  "
   ]
  },
  {
   "cell_type": "markdown",
   "metadata": {},
   "source": [
    "# Names\n",
    "\n",
    "- Gabrielle Avila\n",
    "- Rick Boelen\n",
    "- Kevin Dolay \n",
    "- Leland Long\n",
    "- Samson Qian\n"
   ]
  },
  {
   "cell_type": "markdown",
   "metadata": {},
   "source": [
    "# Research Question"
   ]
  },
  {
   "cell_type": "markdown",
   "metadata": {},
   "source": [
    "*Is a kickstarter successful based off of certain features? Can we predict the success of a kickstarter based off of categories such as technology and initial funding? If they overfund the milestone, are they more successful than those who under funded or barely reached the milestones set?*"
   ]
  },
  {
   "cell_type": "markdown",
   "metadata": {},
   "source": [
    "## Background and Prior Work"
   ]
  },
  {
   "cell_type": "markdown",
   "metadata": {},
   "source": [
    "      Kickstarter is a crowdfunding platform created in 2009 that backs up ideas financially to help them succeed. As of January 2020 approximately 17,347,229 have backed a kickstarter project. A professor at the University of Pennsylvania conducted a study called the Warton Crowdfunding Study, to analyze how effective the Kickstarter community is at funding and backing up new projects. The study looked at the economic and social impacts of Kickstarter. The results showed that the majority of projects deliver, and only around 1 in 10 of them will fail. One of the findings in this study showed that the projects on Kickstarter that have less than 1000 dollars backing them up, are most likely to fail. We want to look closer into how the initial funding of a Kickstarter project can affect its overall outcome. (Source 2) \n",
    " \n",
    "    Successful crowdfunding projects all seem to have similar characteristics: a plan, prototypes, references and proof of outside support. In order to get initial funding, investors tend to look for these signals. Kickstarter also has the ability to adjust access to fundings creating more equal opportunities for women in technology. A study showed that women actually have a higher chance of succeeding at crowdfunding than men due to homophily. (Source 1) We want to look closer into if there are other features that impact whether a Kickstarter project becomes successful. \n",
    "    \n",
    "    Another aspect to consider is the amount of projects per category that are successfully funded by Kickstarter. In general, film and videos have the most launched projects, at almost twice that of technology or games. However, it has almost half as much funded dollars as technology and games (source 3). This discrepancy can be inferred to be because independent movies often cost less to fund. In addition, technology’s success rate is significantly lower at 20 percent compared to film’s 40 percent. This implies a high-risk, high-reward mentality when backing technology-based projects on the site and it would be interesting to analyze if higher milestone goals would necessarily increase the success of a project. In other words, is there a correlation between higher funding expectations and success.\n",
    "    \n",
    "    However, when doing our data analysis, we must be conscious of cofactors such as promotional strategies. Many successful Kickstarters had strong marketing campaigns on social media with well established leaders in industry. This will lead to more funding, but at the same time, more experienced leaders may be the cause of the success, not just the funding alone. Additionally, successful campaigns often establish themselves as a brand and differentiate themselves from other Kickstarters (source 4). By having a skilled team that is able to achieve this, it means the project could be more successful because of that.  \n",
    "\n",
    "\n",
    "*References*:\n",
    "\n",
    "1) The Warton Crowdfunding Study: https://crowdfunding.wharton.upenn.edu\n",
    "\n",
    "2) https://www.kickstarter.com/fulfillment\n",
    "\n",
    "3) https://www.nevaehmedia.com/kickstarter-success-statistics-per-popular-categories-infographics/\n",
    "\n",
    "4) https://www.researchgate.net/publication/321439840_Success_Factors_of_Crowdfunding_Projects_on_the_Kickstarter_Platform"
   ]
  },
  {
   "cell_type": "markdown",
   "metadata": {},
   "source": [
    "# Hypothesis\n"
   ]
  },
  {
   "cell_type": "markdown",
   "metadata": {},
   "source": [
    "*We believe that projects in the technology category that receive more funding than their set milestone will be more successful than kickstarters in other categories.*"
   ]
  },
  {
   "cell_type": "markdown",
   "metadata": {},
   "source": [
    "# Datasets"
   ]
  },
  {
   "cell_type": "markdown",
   "metadata": {},
   "source": [
    "**Dataset 1**: \n",
    "- *Name*: ks-projects-201801\n",
    "- *Link*: https://www.kaggle.com/kemical/kickstarter-projects?fbclid=IwAR0oI6W3oBDSbXPGYMDX_Ey9NR4IVdUM2cxKCwoSAXFqALOpg31pamSG9mU\n",
    "- *Observations*: 378661\n",
    "- *Description*: Contains information about kickstarter projects from 2016 to 2018 and attributes that made them successful or not. \n",
    "\n",
    "\n",
    "**Dataset 2**:\n",
    "- *Name*: 400,000 Kickstarter Projects: Predict the likelihood of a successful Kickstarter project\n",
    "- *Link*: https://www.kaggle.com/toshimelonhead/400000-kickstarter-projects\n",
    "- *Observations*: (430938 rows, 30 columns)\n",
    "- *Description*: This dataset was scraped from https://webrobots.io/kickstarter-datasets/ and contains 430938 observations where each observation is an individual kickstarter campaign which is identified by ID based on the ID that kickstarter gave it. Each row is described by variables such as number of backers, description of project, amount of money raised (in USD), launch date in standard format, and location of the project.\n",
    "\n",
    "\n",
    "*How to combine*: We will combine these datasets by ID since it is standardized by kickstarter. If any IDs aren’t in both rows, we drop the row. We then combine the columns of both datasets for each row to form 1 dataset.   \n"
   ]
  },
  {
   "cell_type": "markdown",
   "metadata": {},
   "source": [
    "# Setup\n",
    "These are all the packages that we will use in the notebook, including exploring, preprocessing and modeling the data."
   ]
  },
  {
   "cell_type": "code",
   "execution_count": 1,
   "metadata": {},
   "outputs": [
    {
     "name": "stdout",
     "output_type": "stream",
     "text": [
      "['.DS_Store', '.git', '.ipynb_checkpoints', 'data', 'FinalProject_group021.ipynb', 'ProjectCheckIn.ipynb', 'ProjectProposal.ipynb', 'README.md']\n"
     ]
    }
   ],
   "source": [
    "import numpy as np\n",
    "import pandas as pd\n",
    "import matplotlib.pyplot as plt\n",
    "import seaborn as sns\n",
    "%matplotlib inline\n",
    "sns.set_style(\"whitegrid\")\n",
    "\n",
    "import warnings\n",
    "warnings.filterwarnings(\"ignore\")\n",
    "\n",
    "import patsy\n",
    "import statsmodels.api as sm\n",
    "import scipy.stats as stats\n",
    "from scipy.stats import ttest_ind, chisquare, normaltest\n",
    "from scipy.special import expit\n",
    "\n",
    "import os\n",
    "print(os.listdir(\".\"))"
   ]
  },
  {
   "cell_type": "markdown",
   "metadata": {},
   "source": [
    "# Data Cleaning\n",
    "We will use the dataset we described above with kickstart project names and their success/failure status. This dataset is very messy so we need to clean it before we can fully work with it and model. It contains missing values, outliers, extraneous values, and text data. It is important to understand these features and how they contribute to the outcome of a success/failure of a project."
   ]
  },
  {
   "cell_type": "code",
   "execution_count": 2,
   "metadata": {},
   "outputs": [
    {
     "name": "stdout",
     "output_type": "stream",
     "text": [
      "(378661, 15)\n"
     ]
    },
    {
     "data": {
      "text/html": [
       "<div>\n",
       "<style scoped>\n",
       "    .dataframe tbody tr th:only-of-type {\n",
       "        vertical-align: middle;\n",
       "    }\n",
       "\n",
       "    .dataframe tbody tr th {\n",
       "        vertical-align: top;\n",
       "    }\n",
       "\n",
       "    .dataframe thead th {\n",
       "        text-align: right;\n",
       "    }\n",
       "</style>\n",
       "<table border=\"1\" class=\"dataframe\">\n",
       "  <thead>\n",
       "    <tr style=\"text-align: right;\">\n",
       "      <th></th>\n",
       "      <th>ID</th>\n",
       "      <th>name</th>\n",
       "      <th>category</th>\n",
       "      <th>main_category</th>\n",
       "      <th>currency</th>\n",
       "      <th>deadline</th>\n",
       "      <th>goal</th>\n",
       "      <th>launched</th>\n",
       "      <th>pledged</th>\n",
       "      <th>state</th>\n",
       "      <th>backers</th>\n",
       "      <th>country</th>\n",
       "      <th>usd pledged</th>\n",
       "      <th>usd_pledged_real</th>\n",
       "      <th>usd_goal_real</th>\n",
       "    </tr>\n",
       "  </thead>\n",
       "  <tbody>\n",
       "    <tr>\n",
       "      <th>0</th>\n",
       "      <td>1000002330</td>\n",
       "      <td>The Songs of Adelaide &amp; Abullah</td>\n",
       "      <td>Poetry</td>\n",
       "      <td>Publishing</td>\n",
       "      <td>GBP</td>\n",
       "      <td>2015-10-09</td>\n",
       "      <td>1000.0</td>\n",
       "      <td>2015-08-11 12:12:28</td>\n",
       "      <td>0.0</td>\n",
       "      <td>failed</td>\n",
       "      <td>0</td>\n",
       "      <td>GB</td>\n",
       "      <td>0.0</td>\n",
       "      <td>0.0</td>\n",
       "      <td>1533.95</td>\n",
       "    </tr>\n",
       "    <tr>\n",
       "      <th>1</th>\n",
       "      <td>1000003930</td>\n",
       "      <td>Greeting From Earth: ZGAC Arts Capsule For ET</td>\n",
       "      <td>Narrative Film</td>\n",
       "      <td>Film &amp; Video</td>\n",
       "      <td>USD</td>\n",
       "      <td>2017-11-01</td>\n",
       "      <td>30000.0</td>\n",
       "      <td>2017-09-02 04:43:57</td>\n",
       "      <td>2421.0</td>\n",
       "      <td>failed</td>\n",
       "      <td>15</td>\n",
       "      <td>US</td>\n",
       "      <td>100.0</td>\n",
       "      <td>2421.0</td>\n",
       "      <td>30000.00</td>\n",
       "    </tr>\n",
       "    <tr>\n",
       "      <th>2</th>\n",
       "      <td>1000004038</td>\n",
       "      <td>Where is Hank?</td>\n",
       "      <td>Narrative Film</td>\n",
       "      <td>Film &amp; Video</td>\n",
       "      <td>USD</td>\n",
       "      <td>2013-02-26</td>\n",
       "      <td>45000.0</td>\n",
       "      <td>2013-01-12 00:20:50</td>\n",
       "      <td>220.0</td>\n",
       "      <td>failed</td>\n",
       "      <td>3</td>\n",
       "      <td>US</td>\n",
       "      <td>220.0</td>\n",
       "      <td>220.0</td>\n",
       "      <td>45000.00</td>\n",
       "    </tr>\n",
       "    <tr>\n",
       "      <th>3</th>\n",
       "      <td>1000007540</td>\n",
       "      <td>ToshiCapital Rekordz Needs Help to Complete Album</td>\n",
       "      <td>Music</td>\n",
       "      <td>Music</td>\n",
       "      <td>USD</td>\n",
       "      <td>2012-04-16</td>\n",
       "      <td>5000.0</td>\n",
       "      <td>2012-03-17 03:24:11</td>\n",
       "      <td>1.0</td>\n",
       "      <td>failed</td>\n",
       "      <td>1</td>\n",
       "      <td>US</td>\n",
       "      <td>1.0</td>\n",
       "      <td>1.0</td>\n",
       "      <td>5000.00</td>\n",
       "    </tr>\n",
       "    <tr>\n",
       "      <th>4</th>\n",
       "      <td>1000011046</td>\n",
       "      <td>Community Film Project: The Art of Neighborhoo...</td>\n",
       "      <td>Film &amp; Video</td>\n",
       "      <td>Film &amp; Video</td>\n",
       "      <td>USD</td>\n",
       "      <td>2015-08-29</td>\n",
       "      <td>19500.0</td>\n",
       "      <td>2015-07-04 08:35:03</td>\n",
       "      <td>1283.0</td>\n",
       "      <td>canceled</td>\n",
       "      <td>14</td>\n",
       "      <td>US</td>\n",
       "      <td>1283.0</td>\n",
       "      <td>1283.0</td>\n",
       "      <td>19500.00</td>\n",
       "    </tr>\n",
       "  </tbody>\n",
       "</table>\n",
       "</div>"
      ],
      "text/plain": [
       "           ID                                               name  \\\n",
       "0  1000002330                    The Songs of Adelaide & Abullah   \n",
       "1  1000003930      Greeting From Earth: ZGAC Arts Capsule For ET   \n",
       "2  1000004038                                     Where is Hank?   \n",
       "3  1000007540  ToshiCapital Rekordz Needs Help to Complete Album   \n",
       "4  1000011046  Community Film Project: The Art of Neighborhoo...   \n",
       "\n",
       "         category main_category currency    deadline     goal  \\\n",
       "0          Poetry    Publishing      GBP  2015-10-09   1000.0   \n",
       "1  Narrative Film  Film & Video      USD  2017-11-01  30000.0   \n",
       "2  Narrative Film  Film & Video      USD  2013-02-26  45000.0   \n",
       "3           Music         Music      USD  2012-04-16   5000.0   \n",
       "4    Film & Video  Film & Video      USD  2015-08-29  19500.0   \n",
       "\n",
       "              launched  pledged     state  backers country  usd pledged  \\\n",
       "0  2015-08-11 12:12:28      0.0    failed        0      GB          0.0   \n",
       "1  2017-09-02 04:43:57   2421.0    failed       15      US        100.0   \n",
       "2  2013-01-12 00:20:50    220.0    failed        3      US        220.0   \n",
       "3  2012-03-17 03:24:11      1.0    failed        1      US          1.0   \n",
       "4  2015-07-04 08:35:03   1283.0  canceled       14      US       1283.0   \n",
       "\n",
       "   usd_pledged_real  usd_goal_real  \n",
       "0               0.0        1533.95  \n",
       "1            2421.0       30000.00  \n",
       "2             220.0       45000.00  \n",
       "3               1.0        5000.00  \n",
       "4            1283.0       19500.00  "
      ]
     },
     "execution_count": 2,
     "metadata": {},
     "output_type": "execute_result"
    }
   ],
   "source": [
    "df_2018 = pd.read_csv(\"./data/ks-projects-201801.csv\")\n",
    "print(df_2018.shape)\n",
    "df_2018.head()"
   ]
  },
  {
   "cell_type": "code",
   "execution_count": 3,
   "metadata": {},
   "outputs": [
    {
     "data": {
      "text/html": [
       "<div>\n",
       "<style scoped>\n",
       "    .dataframe tbody tr th:only-of-type {\n",
       "        vertical-align: middle;\n",
       "    }\n",
       "\n",
       "    .dataframe tbody tr th {\n",
       "        vertical-align: top;\n",
       "    }\n",
       "\n",
       "    .dataframe thead th {\n",
       "        text-align: right;\n",
       "    }\n",
       "</style>\n",
       "<table border=\"1\" class=\"dataframe\">\n",
       "  <thead>\n",
       "    <tr style=\"text-align: right;\">\n",
       "      <th></th>\n",
       "      <th>ID</th>\n",
       "      <th>goal</th>\n",
       "      <th>pledged</th>\n",
       "      <th>backers</th>\n",
       "      <th>usd pledged</th>\n",
       "      <th>usd_pledged_real</th>\n",
       "      <th>usd_goal_real</th>\n",
       "    </tr>\n",
       "  </thead>\n",
       "  <tbody>\n",
       "    <tr>\n",
       "      <th>count</th>\n",
       "      <td>3.786610e+05</td>\n",
       "      <td>3.786610e+05</td>\n",
       "      <td>3.786610e+05</td>\n",
       "      <td>378661.000000</td>\n",
       "      <td>3.748640e+05</td>\n",
       "      <td>3.786610e+05</td>\n",
       "      <td>3.786610e+05</td>\n",
       "    </tr>\n",
       "    <tr>\n",
       "      <th>mean</th>\n",
       "      <td>1.074731e+09</td>\n",
       "      <td>4.908079e+04</td>\n",
       "      <td>9.682979e+03</td>\n",
       "      <td>105.617476</td>\n",
       "      <td>7.036729e+03</td>\n",
       "      <td>9.058924e+03</td>\n",
       "      <td>4.545440e+04</td>\n",
       "    </tr>\n",
       "    <tr>\n",
       "      <th>std</th>\n",
       "      <td>6.190862e+08</td>\n",
       "      <td>1.183391e+06</td>\n",
       "      <td>9.563601e+04</td>\n",
       "      <td>907.185035</td>\n",
       "      <td>7.863975e+04</td>\n",
       "      <td>9.097334e+04</td>\n",
       "      <td>1.152950e+06</td>\n",
       "    </tr>\n",
       "    <tr>\n",
       "      <th>min</th>\n",
       "      <td>5.971000e+03</td>\n",
       "      <td>1.000000e-02</td>\n",
       "      <td>0.000000e+00</td>\n",
       "      <td>0.000000</td>\n",
       "      <td>0.000000e+00</td>\n",
       "      <td>0.000000e+00</td>\n",
       "      <td>1.000000e-02</td>\n",
       "    </tr>\n",
       "    <tr>\n",
       "      <th>25%</th>\n",
       "      <td>5.382635e+08</td>\n",
       "      <td>2.000000e+03</td>\n",
       "      <td>3.000000e+01</td>\n",
       "      <td>2.000000</td>\n",
       "      <td>1.698000e+01</td>\n",
       "      <td>3.100000e+01</td>\n",
       "      <td>2.000000e+03</td>\n",
       "    </tr>\n",
       "    <tr>\n",
       "      <th>50%</th>\n",
       "      <td>1.075276e+09</td>\n",
       "      <td>5.200000e+03</td>\n",
       "      <td>6.200000e+02</td>\n",
       "      <td>12.000000</td>\n",
       "      <td>3.947200e+02</td>\n",
       "      <td>6.243300e+02</td>\n",
       "      <td>5.500000e+03</td>\n",
       "    </tr>\n",
       "    <tr>\n",
       "      <th>75%</th>\n",
       "      <td>1.610149e+09</td>\n",
       "      <td>1.600000e+04</td>\n",
       "      <td>4.076000e+03</td>\n",
       "      <td>56.000000</td>\n",
       "      <td>3.034090e+03</td>\n",
       "      <td>4.050000e+03</td>\n",
       "      <td>1.550000e+04</td>\n",
       "    </tr>\n",
       "    <tr>\n",
       "      <th>max</th>\n",
       "      <td>2.147476e+09</td>\n",
       "      <td>1.000000e+08</td>\n",
       "      <td>2.033899e+07</td>\n",
       "      <td>219382.000000</td>\n",
       "      <td>2.033899e+07</td>\n",
       "      <td>2.033899e+07</td>\n",
       "      <td>1.663614e+08</td>\n",
       "    </tr>\n",
       "  </tbody>\n",
       "</table>\n",
       "</div>"
      ],
      "text/plain": [
       "                 ID          goal       pledged        backers   usd pledged  \\\n",
       "count  3.786610e+05  3.786610e+05  3.786610e+05  378661.000000  3.748640e+05   \n",
       "mean   1.074731e+09  4.908079e+04  9.682979e+03     105.617476  7.036729e+03   \n",
       "std    6.190862e+08  1.183391e+06  9.563601e+04     907.185035  7.863975e+04   \n",
       "min    5.971000e+03  1.000000e-02  0.000000e+00       0.000000  0.000000e+00   \n",
       "25%    5.382635e+08  2.000000e+03  3.000000e+01       2.000000  1.698000e+01   \n",
       "50%    1.075276e+09  5.200000e+03  6.200000e+02      12.000000  3.947200e+02   \n",
       "75%    1.610149e+09  1.600000e+04  4.076000e+03      56.000000  3.034090e+03   \n",
       "max    2.147476e+09  1.000000e+08  2.033899e+07  219382.000000  2.033899e+07   \n",
       "\n",
       "       usd_pledged_real  usd_goal_real  \n",
       "count      3.786610e+05   3.786610e+05  \n",
       "mean       9.058924e+03   4.545440e+04  \n",
       "std        9.097334e+04   1.152950e+06  \n",
       "min        0.000000e+00   1.000000e-02  \n",
       "25%        3.100000e+01   2.000000e+03  \n",
       "50%        6.243300e+02   5.500000e+03  \n",
       "75%        4.050000e+03   1.550000e+04  \n",
       "max        2.033899e+07   1.663614e+08  "
      ]
     },
     "execution_count": 3,
     "metadata": {},
     "output_type": "execute_result"
    }
   ],
   "source": [
    "df_2018.describe()"
   ]
  },
  {
   "cell_type": "markdown",
   "metadata": {},
   "source": [
    "### Missing Values & Imputation\n",
    "This data contains many missing values we need to address. It is important to understand which columns contain missing values to better understand the data and how to impute it. This is important for a better representation of the data and being able to train models to make predictions. We will impute the missing values with appropriate values."
   ]
  },
  {
   "cell_type": "code",
   "execution_count": 4,
   "metadata": {},
   "outputs": [
    {
     "data": {
      "text/plain": [
       "ID                     0\n",
       "name                   4\n",
       "category               0\n",
       "main_category          0\n",
       "currency               0\n",
       "deadline               0\n",
       "goal                   0\n",
       "launched               0\n",
       "pledged                0\n",
       "state                  0\n",
       "backers                0\n",
       "country                0\n",
       "usd pledged         3797\n",
       "usd_pledged_real       0\n",
       "usd_goal_real          0\n",
       "dtype: int64"
      ]
     },
     "execution_count": 4,
     "metadata": {},
     "output_type": "execute_result"
    }
   ],
   "source": [
    "# Check null values in first dataset, df_2018 \n",
    "df_2018.isna().sum()"
   ]
  },
  {
   "cell_type": "markdown",
   "metadata": {},
   "source": [
    "It appears that only two columns in the data have missing values, *name* and *usd pledged* which we will analyze how to impute values. *usd pledged* contains the most null values, but seems like an important feature to predicting whether a kickstart will be successful or not."
   ]
  },
  {
   "cell_type": "code",
   "execution_count": 5,
   "metadata": {},
   "outputs": [
    {
     "data": {
      "text/plain": [
       "Text(0.5,1,'Distribution of USD Pledged')"
      ]
     },
     "execution_count": 5,
     "metadata": {},
     "output_type": "execute_result"
    },
    {
     "data": {
      "image/png": "[encoded data removed]",
      "text/plain": [
       "<Figure size 432x288 with 1 Axes>"
      ]
     },
     "metadata": {
      "needs_background": "light"
     },
     "output_type": "display_data"
    }
   ],
   "source": [
    "sns.boxplot(x=\"usd pledged\", data=df_2018)\n",
    "plt.title(\"Distribution of USD Pledged\")"
   ]
  },
  {
   "cell_type": "markdown",
   "metadata": {},
   "source": [
    "The distribution of the amount pledged looks heavily skewed with very large outliers. However, we shouldn't simply omit these outliers since they may be associated with the projects that are more successful. Because of this heavily skewed distribution, imputing with the mean would bias the data since it will be larger with the outlier. Therefore, median is a more accurate value to impute by, as it will be more representative of the data as a whole."
   ]
  },
  {
   "cell_type": "code",
   "execution_count": 6,
   "metadata": {},
   "outputs": [],
   "source": [
    "df_2018[\"usd pledged\"] = df_2018[\"usd pledged\"].fillna(df_2018[\"usd pledged\"].median())"
   ]
  },
  {
   "cell_type": "markdown",
   "metadata": {},
   "source": [
    "The *name* column only has a couple of missing values, so we will impute it with a placeholder of \"No Name\", since we shouldn't simply omit these projects as they may contain important information."
   ]
  },
  {
   "cell_type": "code",
   "execution_count": 7,
   "metadata": {},
   "outputs": [],
   "source": [
    "df_2018[\"name\"] = df_2018[\"name\"].fillna(\"No name\")"
   ]
  },
  {
   "cell_type": "code",
   "execution_count": 8,
   "metadata": {},
   "outputs": [
    {
     "data": {
      "text/plain": [
       "ID                  0\n",
       "name                0\n",
       "category            0\n",
       "main_category       0\n",
       "currency            0\n",
       "deadline            0\n",
       "goal                0\n",
       "launched            0\n",
       "pledged             0\n",
       "state               0\n",
       "backers             0\n",
       "country             0\n",
       "usd pledged         0\n",
       "usd_pledged_real    0\n",
       "usd_goal_real       0\n",
       "dtype: int64"
      ]
     },
     "execution_count": 8,
     "metadata": {},
     "output_type": "execute_result"
    }
   ],
   "source": [
    "# Check number of missing values again\n",
    "df_2018.isna().sum()"
   ]
  },
  {
   "cell_type": "markdown",
   "metadata": {},
   "source": [
    "We will categorize failed and canceled projects as the same value, since projects are usually canceled due to a significant factor like insufficient funding, etc."
   ]
  },
  {
   "cell_type": "markdown",
   "metadata": {},
   "source": [
    "### Label Encoding\n",
    "There are some nominal data values that are strings, but should be represented with a numerical value. This is useful for models to take in these values as inputs or predict them as outputs. To do this, we should encode groups in columns with a value."
   ]
  },
  {
   "cell_type": "markdown",
   "metadata": {},
   "source": [
    "We will consider failed and canceled projects to be the same, since if a project was canceled then there was likely a major factor causing it to shutdown, such as insufficient funding. Therefore, we can encode failed/canceled projects with a value of 0, and successful projects with 1."
   ]
  },
  {
   "cell_type": "code",
   "execution_count": 9,
   "metadata": {},
   "outputs": [],
   "source": [
    "df_2018[\"state\"] = df_2018[\"state\"].replace({\"failed\": 0, \"canceled\": 0, \"successful\": 1}).values"
   ]
  },
  {
   "cell_type": "markdown",
   "metadata": {},
   "source": [
    "We set out to discover the importance of a kickstart's category to its success. We believed that projects in the technology category will be more successful. In order to determine if this is the case, projects in the technology category will be encoded with a 1, and all other categories with a 0."
   ]
  },
  {
   "cell_type": "code",
   "execution_count": 10,
   "metadata": {},
   "outputs": [
    {
     "data": {
      "text/plain": [
       "Film & Video    63585\n",
       "Music           51918\n",
       "Publishing      39874\n",
       "Games           35231\n",
       "Technology      32569\n",
       "Design          30070\n",
       "Art             28153\n",
       "Food            24602\n",
       "Fashion         22816\n",
       "Theater         10913\n",
       "Comics          10819\n",
       "Photography     10779\n",
       "Crafts           8809\n",
       "Journalism       4755\n",
       "Dance            3768\n",
       "Name: main_category, dtype: int64"
      ]
     },
     "execution_count": 10,
     "metadata": {},
     "output_type": "execute_result"
    }
   ],
   "source": [
    "# Distribution of main category of projects\n",
    "df_2018[\"main_category\"].value_counts()"
   ]
  },
  {
   "cell_type": "code",
   "execution_count": 11,
   "metadata": {},
   "outputs": [],
   "source": [
    "def tech(category): \n",
    "    \"\"\"\n",
    "    Function used to transform main_category column to combine games and technology \n",
    "    \n",
    "    :param category: project category\n",
    "    :return: 1 or 0\n",
    "    \"\"\"\n",
    "    cat = category.lower()\n",
    "    if cat == \"technology\": \n",
    "        return 1 \n",
    "    else: \n",
    "        return 0 "
   ]
  },
  {
   "cell_type": "code",
   "execution_count": 12,
   "metadata": {},
   "outputs": [],
   "source": [
    "df_2018[\"main_category\"] = df_2018[\"main_category\"].apply(tech).values"
   ]
  },
  {
   "cell_type": "markdown",
   "metadata": {},
   "source": [
    "### Datetime Representation\n",
    "The dates and times of each project launch is an important factor that should be taken into consideration. Originially, the dates were represented as strings which isn't very useful and hard to work with. Pandas as a datetime object that we will convert each date to."
   ]
  },
  {
   "cell_type": "code",
   "execution_count": 13,
   "metadata": {},
   "outputs": [],
   "source": [
    "# Create a year and month column using launch date\n",
    "\n",
    "# First convert launch date to datetime object \n",
    "df_2018[\"launched\"] = pd.to_datetime(df_2018['launched'])\n",
    "\n",
    "# Create a new column with just month of launch date\n",
    "df_2018[\"month_launch\"] = pd.DatetimeIndex(df_2018[\"launched\"]).month\n",
    "\n",
    "# Create a new column with just year of launch date\n",
    "df_2018[\"year_launch\"] = pd.DatetimeIndex(df_2018[\"launched\"]).year"
   ]
  },
  {
   "cell_type": "markdown",
   "metadata": {},
   "source": [
    "The deadline of a project is important as well, so we will do the same for each value in the *deadline* column."
   ]
  },
  {
   "cell_type": "code",
   "execution_count": 14,
   "metadata": {},
   "outputs": [],
   "source": [
    "# Create a year and month column using deadline date\n",
    "\n",
    "# First convert deadline to datetime object \n",
    "df_2018[\"deadline\"] = pd.to_datetime(df_2018[\"deadline\"])\n",
    "\n",
    "#Create a new column with just month of deadline\n",
    "df_2018[\"month_deadline\"] = pd.DatetimeIndex(df_2018[\"deadline\"]).month\n",
    "\n",
    "#Create a new column with just year of deadline\n",
    "df_2018[\"year_deadline\"] = pd.DatetimeIndex(df_2018[\"deadline\"]).year"
   ]
  },
  {
   "cell_type": "markdown",
   "metadata": {},
   "source": [
    "Having both launch and deadline date as datetime objects is very useful since we can work with them easily. The duration of a project could also be a crucial factor in its success, so we will create a new column that calculates how long each project lasted. This is called **feature engineering** and is useful for improving our model performance."
   ]
  },
  {
   "cell_type": "code",
   "execution_count": 15,
   "metadata": {},
   "outputs": [],
   "source": [
    "# Create a column of project duration\n",
    "df_2018[\"duration\"] = df_2018[\"deadline\"] - df_2018[\"launched\"]"
   ]
  },
  {
   "cell_type": "markdown",
   "metadata": {},
   "source": [
    "Great! Now we can inspect our cleaned data to see what we've accomplished. The data should now be in a useable format to do further exploratory data analysis and modeling afterward."
   ]
  },
  {
   "cell_type": "code",
   "execution_count": 16,
   "metadata": {},
   "outputs": [
    {
     "data": {
      "text/html": [
       "<div>\n",
       "<style scoped>\n",
       "    .dataframe tbody tr th:only-of-type {\n",
       "        vertical-align: middle;\n",
       "    }\n",
       "\n",
       "    .dataframe tbody tr th {\n",
       "        vertical-align: top;\n",
       "    }\n",
       "\n",
       "    .dataframe thead th {\n",
       "        text-align: right;\n",
       "    }\n",
       "</style>\n",
       "<table border=\"1\" class=\"dataframe\">\n",
       "  <thead>\n",
       "    <tr style=\"text-align: right;\">\n",
       "      <th></th>\n",
       "      <th>ID</th>\n",
       "      <th>name</th>\n",
       "      <th>category</th>\n",
       "      <th>main_category</th>\n",
       "      <th>currency</th>\n",
       "      <th>deadline</th>\n",
       "      <th>goal</th>\n",
       "      <th>launched</th>\n",
       "      <th>pledged</th>\n",
       "      <th>state</th>\n",
       "      <th>backers</th>\n",
       "      <th>country</th>\n",
       "      <th>usd pledged</th>\n",
       "      <th>usd_pledged_real</th>\n",
       "      <th>usd_goal_real</th>\n",
       "      <th>month_launch</th>\n",
       "      <th>year_launch</th>\n",
       "      <th>month_deadline</th>\n",
       "      <th>year_deadline</th>\n",
       "      <th>duration</th>\n",
       "    </tr>\n",
       "  </thead>\n",
       "  <tbody>\n",
       "    <tr>\n",
       "      <th>0</th>\n",
       "      <td>1000002330</td>\n",
       "      <td>The Songs of Adelaide &amp; Abullah</td>\n",
       "      <td>Poetry</td>\n",
       "      <td>0</td>\n",
       "      <td>GBP</td>\n",
       "      <td>2015-10-09</td>\n",
       "      <td>1000.0</td>\n",
       "      <td>2015-08-11 12:12:28</td>\n",
       "      <td>0.0</td>\n",
       "      <td>0</td>\n",
       "      <td>0</td>\n",
       "      <td>GB</td>\n",
       "      <td>0.0</td>\n",
       "      <td>0.0</td>\n",
       "      <td>1533.95</td>\n",
       "      <td>8</td>\n",
       "      <td>2015</td>\n",
       "      <td>10</td>\n",
       "      <td>2015</td>\n",
       "      <td>58 days 11:47:32</td>\n",
       "    </tr>\n",
       "    <tr>\n",
       "      <th>1</th>\n",
       "      <td>1000003930</td>\n",
       "      <td>Greeting From Earth: ZGAC Arts Capsule For ET</td>\n",
       "      <td>Narrative Film</td>\n",
       "      <td>0</td>\n",
       "      <td>USD</td>\n",
       "      <td>2017-11-01</td>\n",
       "      <td>30000.0</td>\n",
       "      <td>2017-09-02 04:43:57</td>\n",
       "      <td>2421.0</td>\n",
       "      <td>0</td>\n",
       "      <td>15</td>\n",
       "      <td>US</td>\n",
       "      <td>100.0</td>\n",
       "      <td>2421.0</td>\n",
       "      <td>30000.00</td>\n",
       "      <td>9</td>\n",
       "      <td>2017</td>\n",
       "      <td>11</td>\n",
       "      <td>2017</td>\n",
       "      <td>59 days 19:16:03</td>\n",
       "    </tr>\n",
       "    <tr>\n",
       "      <th>2</th>\n",
       "      <td>1000004038</td>\n",
       "      <td>Where is Hank?</td>\n",
       "      <td>Narrative Film</td>\n",
       "      <td>0</td>\n",
       "      <td>USD</td>\n",
       "      <td>2013-02-26</td>\n",
       "      <td>45000.0</td>\n",
       "      <td>2013-01-12 00:20:50</td>\n",
       "      <td>220.0</td>\n",
       "      <td>0</td>\n",
       "      <td>3</td>\n",
       "      <td>US</td>\n",
       "      <td>220.0</td>\n",
       "      <td>220.0</td>\n",
       "      <td>45000.00</td>\n",
       "      <td>1</td>\n",
       "      <td>2013</td>\n",
       "      <td>2</td>\n",
       "      <td>2013</td>\n",
       "      <td>44 days 23:39:10</td>\n",
       "    </tr>\n",
       "    <tr>\n",
       "      <th>3</th>\n",
       "      <td>1000007540</td>\n",
       "      <td>ToshiCapital Rekordz Needs Help to Complete Album</td>\n",
       "      <td>Music</td>\n",
       "      <td>0</td>\n",
       "      <td>USD</td>\n",
       "      <td>2012-04-16</td>\n",
       "      <td>5000.0</td>\n",
       "      <td>2012-03-17 03:24:11</td>\n",
       "      <td>1.0</td>\n",
       "      <td>0</td>\n",
       "      <td>1</td>\n",
       "      <td>US</td>\n",
       "      <td>1.0</td>\n",
       "      <td>1.0</td>\n",
       "      <td>5000.00</td>\n",
       "      <td>3</td>\n",
       "      <td>2012</td>\n",
       "      <td>4</td>\n",
       "      <td>2012</td>\n",
       "      <td>29 days 20:35:49</td>\n",
       "    </tr>\n",
       "    <tr>\n",
       "      <th>4</th>\n",
       "      <td>1000011046</td>\n",
       "      <td>Community Film Project: The Art of Neighborhoo...</td>\n",
       "      <td>Film &amp; Video</td>\n",
       "      <td>0</td>\n",
       "      <td>USD</td>\n",
       "      <td>2015-08-29</td>\n",
       "      <td>19500.0</td>\n",
       "      <td>2015-07-04 08:35:03</td>\n",
       "      <td>1283.0</td>\n",
       "      <td>0</td>\n",
       "      <td>14</td>\n",
       "      <td>US</td>\n",
       "      <td>1283.0</td>\n",
       "      <td>1283.0</td>\n",
       "      <td>19500.00</td>\n",
       "      <td>7</td>\n",
       "      <td>2015</td>\n",
       "      <td>8</td>\n",
       "      <td>2015</td>\n",
       "      <td>55 days 15:24:57</td>\n",
       "    </tr>\n",
       "  </tbody>\n",
       "</table>\n",
       "</div>"
      ],
      "text/plain": [
       "           ID                                               name  \\\n",
       "0  1000002330                    The Songs of Adelaide & Abullah   \n",
       "1  1000003930      Greeting From Earth: ZGAC Arts Capsule For ET   \n",
       "2  1000004038                                     Where is Hank?   \n",
       "3  1000007540  ToshiCapital Rekordz Needs Help to Complete Album   \n",
       "4  1000011046  Community Film Project: The Art of Neighborhoo...   \n",
       "\n",
       "         category  main_category currency   deadline     goal  \\\n",
       "0          Poetry              0      GBP 2015-10-09   1000.0   \n",
       "1  Narrative Film              0      USD 2017-11-01  30000.0   \n",
       "2  Narrative Film              0      USD 2013-02-26  45000.0   \n",
       "3           Music              0      USD 2012-04-16   5000.0   \n",
       "4    Film & Video              0      USD 2015-08-29  19500.0   \n",
       "\n",
       "             launched  pledged state  backers country  usd pledged  \\\n",
       "0 2015-08-11 12:12:28      0.0     0        0      GB          0.0   \n",
       "1 2017-09-02 04:43:57   2421.0     0       15      US        100.0   \n",
       "2 2013-01-12 00:20:50    220.0     0        3      US        220.0   \n",
       "3 2012-03-17 03:24:11      1.0     0        1      US          1.0   \n",
       "4 2015-07-04 08:35:03   1283.0     0       14      US       1283.0   \n",
       "\n",
       "   usd_pledged_real  usd_goal_real  month_launch  year_launch  month_deadline  \\\n",
       "0               0.0        1533.95             8         2015              10   \n",
       "1            2421.0       30000.00             9         2017              11   \n",
       "2             220.0       45000.00             1         2013               2   \n",
       "3               1.0        5000.00             3         2012               4   \n",
       "4            1283.0       19500.00             7         2015               8   \n",
       "\n",
       "   year_deadline         duration  \n",
       "0           2015 58 days 11:47:32  \n",
       "1           2017 59 days 19:16:03  \n",
       "2           2013 44 days 23:39:10  \n",
       "3           2012 29 days 20:35:49  \n",
       "4           2015 55 days 15:24:57  "
      ]
     },
     "execution_count": 16,
     "metadata": {},
     "output_type": "execute_result"
    }
   ],
   "source": [
    "df_2018.head()"
   ]
  },
  {
   "cell_type": "markdown",
   "metadata": {},
   "source": [
    "### Feature Selection\n",
    "Now that we're done cleaning some of the columns, we don't need to use all of them for our analysis. The data contains a lot of useless information, like the currency for example, since we already have a value in USD for amount pledged. We only care about a few specific details of each project that are important to predicting whether it will be successful or not. Each feature should bring new and relevant information for each instance. Therefore, we will filter the columns to only those we need."
   ]
  },
  {
   "cell_type": "code",
   "execution_count": 17,
   "metadata": {},
   "outputs": [
    {
     "name": "stdout",
     "output_type": "stream",
     "text": [
      "(378661, 11)\n",
      "('Columns: ', ['ID', 'main_category', 'deadline', 'goal', 'launched', 'month_launch', 'year_launch', 'month_deadline', 'year_deadline', 'duration', 'state'])\n"
     ]
    },
    {
     "data": {
      "text/html": [
       "<div>\n",
       "<style scoped>\n",
       "    .dataframe tbody tr th:only-of-type {\n",
       "        vertical-align: middle;\n",
       "    }\n",
       "\n",
       "    .dataframe tbody tr th {\n",
       "        vertical-align: top;\n",
       "    }\n",
       "\n",
       "    .dataframe thead th {\n",
       "        text-align: right;\n",
       "    }\n",
       "</style>\n",
       "<table border=\"1\" class=\"dataframe\">\n",
       "  <thead>\n",
       "    <tr style=\"text-align: right;\">\n",
       "      <th></th>\n",
       "      <th>ID</th>\n",
       "      <th>main_category</th>\n",
       "      <th>deadline</th>\n",
       "      <th>goal</th>\n",
       "      <th>launched</th>\n",
       "      <th>month_launch</th>\n",
       "      <th>year_launch</th>\n",
       "      <th>month_deadline</th>\n",
       "      <th>year_deadline</th>\n",
       "      <th>duration</th>\n",
       "      <th>state</th>\n",
       "    </tr>\n",
       "  </thead>\n",
       "  <tbody>\n",
       "    <tr>\n",
       "      <th>0</th>\n",
       "      <td>1000002330</td>\n",
       "      <td>0</td>\n",
       "      <td>2015-10-09</td>\n",
       "      <td>1000.0</td>\n",
       "      <td>2015-08-11 12:12:28</td>\n",
       "      <td>8</td>\n",
       "      <td>2015</td>\n",
       "      <td>10</td>\n",
       "      <td>2015</td>\n",
       "      <td>58 days 11:47:32</td>\n",
       "      <td>0</td>\n",
       "    </tr>\n",
       "    <tr>\n",
       "      <th>1</th>\n",
       "      <td>1000003930</td>\n",
       "      <td>0</td>\n",
       "      <td>2017-11-01</td>\n",
       "      <td>30000.0</td>\n",
       "      <td>2017-09-02 04:43:57</td>\n",
       "      <td>9</td>\n",
       "      <td>2017</td>\n",
       "      <td>11</td>\n",
       "      <td>2017</td>\n",
       "      <td>59 days 19:16:03</td>\n",
       "      <td>0</td>\n",
       "    </tr>\n",
       "    <tr>\n",
       "      <th>2</th>\n",
       "      <td>1000004038</td>\n",
       "      <td>0</td>\n",
       "      <td>2013-02-26</td>\n",
       "      <td>45000.0</td>\n",
       "      <td>2013-01-12 00:20:50</td>\n",
       "      <td>1</td>\n",
       "      <td>2013</td>\n",
       "      <td>2</td>\n",
       "      <td>2013</td>\n",
       "      <td>44 days 23:39:10</td>\n",
       "      <td>0</td>\n",
       "    </tr>\n",
       "    <tr>\n",
       "      <th>3</th>\n",
       "      <td>1000007540</td>\n",
       "      <td>0</td>\n",
       "      <td>2012-04-16</td>\n",
       "      <td>5000.0</td>\n",
       "      <td>2012-03-17 03:24:11</td>\n",
       "      <td>3</td>\n",
       "      <td>2012</td>\n",
       "      <td>4</td>\n",
       "      <td>2012</td>\n",
       "      <td>29 days 20:35:49</td>\n",
       "      <td>0</td>\n",
       "    </tr>\n",
       "    <tr>\n",
       "      <th>4</th>\n",
       "      <td>1000011046</td>\n",
       "      <td>0</td>\n",
       "      <td>2015-08-29</td>\n",
       "      <td>19500.0</td>\n",
       "      <td>2015-07-04 08:35:03</td>\n",
       "      <td>7</td>\n",
       "      <td>2015</td>\n",
       "      <td>8</td>\n",
       "      <td>2015</td>\n",
       "      <td>55 days 15:24:57</td>\n",
       "      <td>0</td>\n",
       "    </tr>\n",
       "  </tbody>\n",
       "</table>\n",
       "</div>"
      ],
      "text/plain": [
       "           ID  main_category   deadline     goal            launched  \\\n",
       "0  1000002330              0 2015-10-09   1000.0 2015-08-11 12:12:28   \n",
       "1  1000003930              0 2017-11-01  30000.0 2017-09-02 04:43:57   \n",
       "2  1000004038              0 2013-02-26  45000.0 2013-01-12 00:20:50   \n",
       "3  1000007540              0 2012-04-16   5000.0 2012-03-17 03:24:11   \n",
       "4  1000011046              0 2015-08-29  19500.0 2015-07-04 08:35:03   \n",
       "\n",
       "   month_launch  year_launch  month_deadline  year_deadline         duration  \\\n",
       "0             8         2015              10           2015 58 days 11:47:32   \n",
       "1             9         2017              11           2017 59 days 19:16:03   \n",
       "2             1         2013               2           2013 44 days 23:39:10   \n",
       "3             3         2012               4           2012 29 days 20:35:49   \n",
       "4             7         2015               8           2015 55 days 15:24:57   \n",
       "\n",
       "  state  \n",
       "0     0  \n",
       "1     0  \n",
       "2     0  \n",
       "3     0  \n",
       "4     0  "
      ]
     },
     "execution_count": 17,
     "metadata": {},
     "output_type": "execute_result"
    }
   ],
   "source": [
    "final_df_2018 = df_2018[['ID', 'main_category','deadline', 'goal', 'launched', 'month_launch', \n",
    "                         'year_launch', 'month_deadline', 'year_deadline', 'duration', 'state']]\n",
    "\n",
    "print(final_df_2018.shape)\n",
    "print(\"Columns: \", list(final_df_2018.columns))\n",
    "final_df_2018.head()"
   ]
  },
  {
   "cell_type": "markdown",
   "metadata": {},
   "source": [
    "## Dataset 2\n",
    "Now we will work with and explore the second dataset from Kaggle containing over 400,000 kickstart project details. This data is similar to the first dataset with worked with, only with slight differences. Nevertheless, we will also explore this data and observe trends to compare to our first dataset."
   ]
  },
  {
   "cell_type": "code",
   "execution_count": 18,
   "metadata": {},
   "outputs": [
    {
     "name": "stdout",
     "output_type": "stream",
     "text": [
      "(430938, 30)\n"
     ]
    },
    {
     "data": {
      "text/html": [
       "<div>\n",
       "<style scoped>\n",
       "    .dataframe tbody tr th:only-of-type {\n",
       "        vertical-align: middle;\n",
       "    }\n",
       "\n",
       "    .dataframe tbody tr th {\n",
       "        vertical-align: top;\n",
       "    }\n",
       "\n",
       "    .dataframe thead th {\n",
       "        text-align: right;\n",
       "    }\n",
       "</style>\n",
       "<table border=\"1\" class=\"dataframe\">\n",
       "  <thead>\n",
       "    <tr style=\"text-align: right;\">\n",
       "      <th></th>\n",
       "      <th>Unnamed: 0</th>\n",
       "      <th>id</th>\n",
       "      <th>backers_count</th>\n",
       "      <th>blurb</th>\n",
       "      <th>currency</th>\n",
       "      <th>goal</th>\n",
       "      <th>launched_at</th>\n",
       "      <th>deadline</th>\n",
       "      <th>location.country</th>\n",
       "      <th>name</th>\n",
       "      <th>...</th>\n",
       "      <th>days_to_deadline</th>\n",
       "      <th>goal_USD</th>\n",
       "      <th>category_name</th>\n",
       "      <th>category_slug</th>\n",
       "      <th>blurb_length</th>\n",
       "      <th>location_type</th>\n",
       "      <th>location_country</th>\n",
       "      <th>location_state</th>\n",
       "      <th>location_displayable_name</th>\n",
       "      <th>binary_state</th>\n",
       "    </tr>\n",
       "  </thead>\n",
       "  <tbody>\n",
       "    <tr>\n",
       "      <th>0</th>\n",
       "      <td>0</td>\n",
       "      <td>857125548</td>\n",
       "      <td>1</td>\n",
       "      <td>Exploring paint and its place in a digital world.</td>\n",
       "      <td>USD</td>\n",
       "      <td>2000.0</td>\n",
       "      <td>2015-03-19 22:34:57</td>\n",
       "      <td>2015-04-30 23:12:00</td>\n",
       "      <td>US</td>\n",
       "      <td>Remix</td>\n",
       "      <td>...</td>\n",
       "      <td>42</td>\n",
       "      <td>2000.0000</td>\n",
       "      <td>Digital Art</td>\n",
       "      <td>art</td>\n",
       "      <td>9</td>\n",
       "      <td>Town</td>\n",
       "      <td>US</td>\n",
       "      <td>NY</td>\n",
       "      <td>New York, NY</td>\n",
       "      <td>failed</td>\n",
       "    </tr>\n",
       "    <tr>\n",
       "      <th>1</th>\n",
       "      <td>1</td>\n",
       "      <td>1038659700</td>\n",
       "      <td>2</td>\n",
       "      <td>Mike Fassio wants a side-by-side photo of me a...</td>\n",
       "      <td>USD</td>\n",
       "      <td>10.0</td>\n",
       "      <td>2014-07-17 01:55:07</td>\n",
       "      <td>2014-07-27 01:55:07</td>\n",
       "      <td>US</td>\n",
       "      <td>Photo of Grant and Hazel eating cake with bare...</td>\n",
       "      <td>...</td>\n",
       "      <td>10</td>\n",
       "      <td>10.0000</td>\n",
       "      <td>Digital Art</td>\n",
       "      <td>art</td>\n",
       "      <td>21</td>\n",
       "      <td>Town</td>\n",
       "      <td>US</td>\n",
       "      <td>WA</td>\n",
       "      <td>Seattle, WA</td>\n",
       "      <td>failed</td>\n",
       "    </tr>\n",
       "    <tr>\n",
       "      <th>2</th>\n",
       "      <td>2</td>\n",
       "      <td>1238331911</td>\n",
       "      <td>0</td>\n",
       "      <td>I need your help to get a nice graphics tablet...</td>\n",
       "      <td>USD</td>\n",
       "      <td>900.0</td>\n",
       "      <td>2014-07-30 16:29:13</td>\n",
       "      <td>2014-08-29 16:29:13</td>\n",
       "      <td>US</td>\n",
       "      <td>Minecraft Digital Art/Animations</td>\n",
       "      <td>...</td>\n",
       "      <td>30</td>\n",
       "      <td>900.0000</td>\n",
       "      <td>Digital Art</td>\n",
       "      <td>art</td>\n",
       "      <td>12</td>\n",
       "      <td>Town</td>\n",
       "      <td>US</td>\n",
       "      <td>VA</td>\n",
       "      <td>Moneta, VA</td>\n",
       "      <td>failed</td>\n",
       "    </tr>\n",
       "    <tr>\n",
       "      <th>3</th>\n",
       "      <td>3</td>\n",
       "      <td>189217262</td>\n",
       "      <td>0</td>\n",
       "      <td>I want to create a Nature Photograph Series of...</td>\n",
       "      <td>USD</td>\n",
       "      <td>900.0</td>\n",
       "      <td>2015-05-11 16:09:11</td>\n",
       "      <td>2015-05-31 16:09:11</td>\n",
       "      <td>US</td>\n",
       "      <td>Sacramento Nature Photograph Series</td>\n",
       "      <td>...</td>\n",
       "      <td>20</td>\n",
       "      <td>900.0000</td>\n",
       "      <td>Digital Art</td>\n",
       "      <td>art</td>\n",
       "      <td>17</td>\n",
       "      <td>Town</td>\n",
       "      <td>US</td>\n",
       "      <td>CA</td>\n",
       "      <td>Sacramento, CA</td>\n",
       "      <td>failed</td>\n",
       "    </tr>\n",
       "    <tr>\n",
       "      <th>4</th>\n",
       "      <td>4</td>\n",
       "      <td>1260075071</td>\n",
       "      <td>1</td>\n",
       "      <td>I want to bring colour to the world in my own ...</td>\n",
       "      <td>GBP</td>\n",
       "      <td>15000.0</td>\n",
       "      <td>2015-02-06 21:52:02</td>\n",
       "      <td>2015-03-08 20:52:02</td>\n",
       "      <td>GB</td>\n",
       "      <td>North Africa art project - my dream</td>\n",
       "      <td>...</td>\n",
       "      <td>30</td>\n",
       "      <td>22801.6545</td>\n",
       "      <td>Digital Art</td>\n",
       "      <td>art</td>\n",
       "      <td>26</td>\n",
       "      <td>County</td>\n",
       "      <td>GB</td>\n",
       "      <td>England</td>\n",
       "      <td>Essex, UK</td>\n",
       "      <td>failed</td>\n",
       "    </tr>\n",
       "  </tbody>\n",
       "</table>\n",
       "<p>5 rows × 30 columns</p>\n",
       "</div>"
      ],
      "text/plain": [
       "   Unnamed: 0          id  backers_count  \\\n",
       "0           0   857125548              1   \n",
       "1           1  1038659700              2   \n",
       "2           2  1238331911              0   \n",
       "3           3   189217262              0   \n",
       "4           4  1260075071              1   \n",
       "\n",
       "                                               blurb currency     goal  \\\n",
       "0  Exploring paint and its place in a digital world.      USD   2000.0   \n",
       "1  Mike Fassio wants a side-by-side photo of me a...      USD     10.0   \n",
       "2  I need your help to get a nice graphics tablet...      USD    900.0   \n",
       "3  I want to create a Nature Photograph Series of...      USD    900.0   \n",
       "4  I want to bring colour to the world in my own ...      GBP  15000.0   \n",
       "\n",
       "           launched_at             deadline location.country  \\\n",
       "0  2015-03-19 22:34:57  2015-04-30 23:12:00               US   \n",
       "1  2014-07-17 01:55:07  2014-07-27 01:55:07               US   \n",
       "2  2014-07-30 16:29:13  2014-08-29 16:29:13               US   \n",
       "3  2015-05-11 16:09:11  2015-05-31 16:09:11               US   \n",
       "4  2015-02-06 21:52:02  2015-03-08 20:52:02               GB   \n",
       "\n",
       "                                                name      ...       \\\n",
       "0                                              Remix      ...        \n",
       "1  Photo of Grant and Hazel eating cake with bare...      ...        \n",
       "2                   Minecraft Digital Art/Animations      ...        \n",
       "3                Sacramento Nature Photograph Series      ...        \n",
       "4                North Africa art project - my dream      ...        \n",
       "\n",
       "   days_to_deadline    goal_USD  category_name  category_slug  blurb_length  \\\n",
       "0                42   2000.0000    Digital Art            art             9   \n",
       "1                10     10.0000    Digital Art            art            21   \n",
       "2                30    900.0000    Digital Art            art            12   \n",
       "3                20    900.0000    Digital Art            art            17   \n",
       "4                30  22801.6545    Digital Art            art            26   \n",
       "\n",
       "  location_type  location_country  location_state  location_displayable_name  \\\n",
       "0          Town                US              NY               New York, NY   \n",
       "1          Town                US              WA                Seattle, WA   \n",
       "2          Town                US              VA                 Moneta, VA   \n",
       "3          Town                US              CA             Sacramento, CA   \n",
       "4        County                GB         England                  Essex, UK   \n",
       "\n",
       "   binary_state  \n",
       "0        failed  \n",
       "1        failed  \n",
       "2        failed  \n",
       "3        failed  \n",
       "4        failed  \n",
       "\n",
       "[5 rows x 30 columns]"
      ]
     },
     "execution_count": 18,
     "metadata": {},
     "output_type": "execute_result"
    }
   ],
   "source": [
    "kickstarter = pd.read_csv('./data/kickstarter.csv')\n",
    "print(kickstarter.shape)\n",
    "kickstarter.head()"
   ]
  },
  {
   "cell_type": "markdown",
   "metadata": {},
   "source": [
    "These are the columns contained in the second dataset."
   ]
  },
  {
   "cell_type": "code",
   "execution_count": 19,
   "metadata": {},
   "outputs": [
    {
     "data": {
      "text/plain": [
       "Index([u'Unnamed: 0', u'id', u'backers_count', u'blurb', u'currency', u'goal',\n",
       "       u'launched_at', u'deadline', u'location.country', u'name',\n",
       "       u'usd_pledged', u'slug', u'spotlight', u'staff_pick',\n",
       "       u'static_usd_rate', u'state', u'year', u'month', u'day', u'hour',\n",
       "       u'days_to_deadline', u'goal_USD', u'category_name', u'category_slug',\n",
       "       u'blurb_length', u'location_type', u'location_country',\n",
       "       u'location_state', u'location_displayable_name', u'binary_state'],\n",
       "      dtype='object')"
      ]
     },
     "execution_count": 19,
     "metadata": {},
     "output_type": "execute_result"
    }
   ],
   "source": [
    "kickstarter.columns"
   ]
  },
  {
   "cell_type": "markdown",
   "metadata": {},
   "source": [
    "Here is the empirical distribution of the categories of the kickstarts. It gives the counts of how many each category appears in the data. As we can see, technology kickstarts account for a big portion of the entire data."
   ]
  },
  {
   "cell_type": "code",
   "execution_count": 20,
   "metadata": {},
   "outputs": [
    {
     "data": {
      "text/plain": [
       "film & video    57156\n",
       "music           51178\n",
       "games           48388\n",
       "publishing      47175\n",
       "technology      46682\n",
       "art             34682\n",
       "design          31808\n",
       "fashion         30792\n",
       "food            26194\n",
       "comics          16270\n",
       "photography     10404\n",
       "theater          9927\n",
       "crafts           9459\n",
       "journalism       6650\n",
       "dance            4173\n",
       "Name: category_slug, dtype: int64"
      ]
     },
     "execution_count": 20,
     "metadata": {},
     "output_type": "execute_result"
    }
   ],
   "source": [
    "kickstarter['category_slug'].value_counts()"
   ]
  },
  {
   "cell_type": "markdown",
   "metadata": {},
   "source": [
    "There are some useless columns in the data that don't tell us more about the kickstart and aren't very helpful in exploration and prediction. We will drop these irrelevant columns and only use those that are important in helping us understand the data better."
   ]
  },
  {
   "cell_type": "code",
   "execution_count": 21,
   "metadata": {},
   "outputs": [],
   "source": [
    "# Only need certain columns \n",
    "kickstarter_clean = kickstarter[['id','category_slug','deadline', 'goal', \n",
    "                                 'launched_at', 'month', 'year', 'state']]"
   ]
  },
  {
   "cell_type": "markdown",
   "metadata": {},
   "source": [
    "Also, we will remain the columns so that it's more clear what each represents. The original column names are slightly inaccurate and insufficient, so renaming them will help understanding later on in exploratory data analysis."
   ]
  },
  {
   "cell_type": "code",
   "execution_count": 22,
   "metadata": {},
   "outputs": [],
   "source": [
    "# Rename columns and create deadline month and year \n",
    "kickstarter_clean.columns = ['ID', 'main_category','deadline', 'goal', 'launched', 'month_launch', 'year_launch', 'state']"
   ]
  },
  {
   "cell_type": "code",
   "execution_count": 23,
   "metadata": {},
   "outputs": [
    {
     "data": {
      "text/html": [
       "<div>\n",
       "<style scoped>\n",
       "    .dataframe tbody tr th:only-of-type {\n",
       "        vertical-align: middle;\n",
       "    }\n",
       "\n",
       "    .dataframe tbody tr th {\n",
       "        vertical-align: top;\n",
       "    }\n",
       "\n",
       "    .dataframe thead th {\n",
       "        text-align: right;\n",
       "    }\n",
       "</style>\n",
       "<table border=\"1\" class=\"dataframe\">\n",
       "  <thead>\n",
       "    <tr style=\"text-align: right;\">\n",
       "      <th></th>\n",
       "      <th>ID</th>\n",
       "      <th>main_category</th>\n",
       "      <th>deadline</th>\n",
       "      <th>goal</th>\n",
       "      <th>launched</th>\n",
       "      <th>month_launch</th>\n",
       "      <th>year_launch</th>\n",
       "      <th>state</th>\n",
       "    </tr>\n",
       "  </thead>\n",
       "  <tbody>\n",
       "    <tr>\n",
       "      <th>0</th>\n",
       "      <td>857125548</td>\n",
       "      <td>art</td>\n",
       "      <td>2015-04-30 23:12:00</td>\n",
       "      <td>2000.0</td>\n",
       "      <td>2015-03-19 22:34:57</td>\n",
       "      <td>3</td>\n",
       "      <td>2015</td>\n",
       "      <td>failed</td>\n",
       "    </tr>\n",
       "    <tr>\n",
       "      <th>1</th>\n",
       "      <td>1038659700</td>\n",
       "      <td>art</td>\n",
       "      <td>2014-07-27 01:55:07</td>\n",
       "      <td>10.0</td>\n",
       "      <td>2014-07-17 01:55:07</td>\n",
       "      <td>7</td>\n",
       "      <td>2014</td>\n",
       "      <td>failed</td>\n",
       "    </tr>\n",
       "  </tbody>\n",
       "</table>\n",
       "</div>"
      ],
      "text/plain": [
       "           ID main_category             deadline    goal             launched  \\\n",
       "0   857125548           art  2015-04-30 23:12:00  2000.0  2015-03-19 22:34:57   \n",
       "1  1038659700           art  2014-07-27 01:55:07    10.0  2014-07-17 01:55:07   \n",
       "\n",
       "   month_launch  year_launch   state  \n",
       "0             3         2015  failed  \n",
       "1             7         2014  failed  "
      ]
     },
     "execution_count": 23,
     "metadata": {},
     "output_type": "execute_result"
    }
   ],
   "source": [
    "kickstarter_clean.head(2)"
   ]
  },
  {
   "cell_type": "markdown",
   "metadata": {},
   "source": [
    "We will do the same we did with dataset 1 and convert the deadlines to datetime objects so they're more easily worked with by Pandas. This can allow us to easily compare dates between kickstarts."
   ]
  },
  {
   "cell_type": "code",
   "execution_count": 24,
   "metadata": {},
   "outputs": [],
   "source": [
    "# Create the month and year deadline columns \n",
    "\n",
    "# First convert to datetime object \n",
    "kickstarter_clean['deadline'] = pd.to_datetime(kickstarter_clean['deadline'])\n",
    "\n",
    "# Create a new column with just month \n",
    "kickstarter_clean['month_deadline'] = pd.DatetimeIndex(kickstarter_clean['deadline']).month\n",
    "\n",
    "# Create a new column with just year \n",
    "kickstarter_clean['year_deadline'] = pd.DatetimeIndex(kickstarter_clean['deadline']).year"
   ]
  },
  {
   "cell_type": "markdown",
   "metadata": {},
   "source": [
    "Now we will take a look at the outcomes of the kickstarts. This is displayed in the *state* column that contains the status of the kickstart. It appears similar to dataset 1 with categories of failed, successful, canceled, suspended. Again, we will take the same approach and encode these values into 0s and 1s to make predictions later on in modeling. We will consider a project successful if it has a successful state, or live. A project is failed if it has a failed state, or is canceled."
   ]
  },
  {
   "cell_type": "code",
   "execution_count": 25,
   "metadata": {},
   "outputs": [
    {
     "name": "stdout",
     "output_type": "stream",
     "text": [
      "set(['successful', 'failed', 'live', 'suspended', 'canceled'])\n",
      "set([0L, 1L])\n"
     ]
    }
   ],
   "source": [
    "print(set(kickstarter_clean[\"state\"]))\n",
    "\n",
    "kickstarter_clean[\"state\"] = kickstarter_clean[\"state\"].replace({\"canceled\": 0, \"failed\": 0, \"live\": 1, \"successful\": 1, \"suspended\": 1})\n",
    "\n",
    "print(set(kickstarter_clean[\"state\"]))"
   ]
  },
  {
   "cell_type": "code",
   "execution_count": 27,
   "metadata": {},
   "outputs": [],
   "source": [
    "# Fix the main_category column to be numerical  \n",
    "kickstarter_clean['main_category'] = kickstarter_clean['main_category'].apply(tech).values"
   ]
  },
  {
   "cell_type": "code",
   "execution_count": 28,
   "metadata": {},
   "outputs": [
    {
     "data": {
      "text/plain": [
       "0    384256\n",
       "1     46682\n",
       "Name: main_category, dtype: int64"
      ]
     },
     "execution_count": 28,
     "metadata": {},
     "output_type": "execute_result"
    }
   ],
   "source": [
    "kickstarter_clean['main_category'].value_counts() "
   ]
  },
  {
   "cell_type": "code",
   "execution_count": 29,
   "metadata": {},
   "outputs": [
    {
     "data": {
      "text/html": [
       "<div>\n",
       "<style scoped>\n",
       "    .dataframe tbody tr th:only-of-type {\n",
       "        vertical-align: middle;\n",
       "    }\n",
       "\n",
       "    .dataframe tbody tr th {\n",
       "        vertical-align: top;\n",
       "    }\n",
       "\n",
       "    .dataframe thead th {\n",
       "        text-align: right;\n",
       "    }\n",
       "</style>\n",
       "<table border=\"1\" class=\"dataframe\">\n",
       "  <thead>\n",
       "    <tr style=\"text-align: right;\">\n",
       "      <th></th>\n",
       "      <th>ID</th>\n",
       "      <th>main_category</th>\n",
       "      <th>deadline</th>\n",
       "      <th>goal</th>\n",
       "      <th>launched</th>\n",
       "      <th>month_launch</th>\n",
       "      <th>year_launch</th>\n",
       "      <th>state</th>\n",
       "      <th>month_deadline</th>\n",
       "      <th>year_deadline</th>\n",
       "    </tr>\n",
       "  </thead>\n",
       "  <tbody>\n",
       "    <tr>\n",
       "      <th>0</th>\n",
       "      <td>857125548</td>\n",
       "      <td>0</td>\n",
       "      <td>2015-04-30 23:12:00</td>\n",
       "      <td>2000.0</td>\n",
       "      <td>2015-03-19 22:34:57</td>\n",
       "      <td>3</td>\n",
       "      <td>2015</td>\n",
       "      <td>0</td>\n",
       "      <td>4</td>\n",
       "      <td>2015</td>\n",
       "    </tr>\n",
       "    <tr>\n",
       "      <th>1</th>\n",
       "      <td>1038659700</td>\n",
       "      <td>0</td>\n",
       "      <td>2014-07-27 01:55:07</td>\n",
       "      <td>10.0</td>\n",
       "      <td>2014-07-17 01:55:07</td>\n",
       "      <td>7</td>\n",
       "      <td>2014</td>\n",
       "      <td>0</td>\n",
       "      <td>7</td>\n",
       "      <td>2014</td>\n",
       "    </tr>\n",
       "  </tbody>\n",
       "</table>\n",
       "</div>"
      ],
      "text/plain": [
       "           ID  main_category            deadline    goal             launched  \\\n",
       "0   857125548              0 2015-04-30 23:12:00  2000.0  2015-03-19 22:34:57   \n",
       "1  1038659700              0 2014-07-27 01:55:07    10.0  2014-07-17 01:55:07   \n",
       "\n",
       "   month_launch  year_launch  state  month_deadline  year_deadline  \n",
       "0             3         2015      0               4           2015  \n",
       "1             7         2014      0               7           2014  "
      ]
     },
     "execution_count": 29,
     "metadata": {},
     "output_type": "execute_result"
    }
   ],
   "source": [
    "kickstarter_clean.head(2)"
   ]
  },
  {
   "cell_type": "code",
   "execution_count": 30,
   "metadata": {},
   "outputs": [
    {
     "data": {
      "text/plain": [
       "(809599, 11)"
      ]
     },
     "execution_count": 30,
     "metadata": {},
     "output_type": "execute_result"
    }
   ],
   "source": [
    "# Combining the two datasets kickstarter_clean and final_df_2018\n",
    "frames = [kickstarter_clean, final_df_2018]\n",
    "df = pd.concat(frames)\n",
    "df.shape"
   ]
  },
  {
   "cell_type": "code",
   "execution_count": 31,
   "metadata": {},
   "outputs": [],
   "source": [
    "# drop duplicates based off of ID column \n",
    "df_final = df.drop_duplicates(subset='ID', keep=\"first\")"
   ]
  },
  {
   "cell_type": "markdown",
   "metadata": {},
   "source": [
    "Here there are additional states we must consider. As such any kickstarter that is undefined will be marked as a failure, and category that is live or suspended will be counted as a success."
   ]
  },
  {
   "cell_type": "code",
   "execution_count": 32,
   "metadata": {},
   "outputs": [],
   "source": [
    "df_final['state'] = df_final['state'].replace({'undefined': 0, 'live': 1, 'suspended': 1})"
   ]
  },
  {
   "cell_type": "markdown",
   "metadata": {},
   "source": [
    "Here we have to drop any outliers, particularly kickstarters that start in 1970."
   ]
  },
  {
   "cell_type": "code",
   "execution_count": 33,
   "metadata": {},
   "outputs": [],
   "source": [
    "index = df_final[ df_final['year_launch'] == 1970 ].index\n",
    "df_final = df_final.drop(index)"
   ]
  },
  {
   "cell_type": "markdown",
   "metadata": {},
   "source": [
    "From here we will just check how the data looks."
   ]
  },
  {
   "cell_type": "code",
   "execution_count": 34,
   "metadata": {},
   "outputs": [
    {
     "data": {
      "text/plain": [
       "(430688, 11)"
      ]
     },
     "execution_count": 34,
     "metadata": {},
     "output_type": "execute_result"
    }
   ],
   "source": [
    "df_final.shape"
   ]
  },
  {
   "cell_type": "code",
   "execution_count": 35,
   "metadata": {},
   "outputs": [
    {
     "data": {
      "text/html": [
       "<div>\n",
       "<style scoped>\n",
       "    .dataframe tbody tr th:only-of-type {\n",
       "        vertical-align: middle;\n",
       "    }\n",
       "\n",
       "    .dataframe tbody tr th {\n",
       "        vertical-align: top;\n",
       "    }\n",
       "\n",
       "    .dataframe thead th {\n",
       "        text-align: right;\n",
       "    }\n",
       "</style>\n",
       "<table border=\"1\" class=\"dataframe\">\n",
       "  <thead>\n",
       "    <tr style=\"text-align: right;\">\n",
       "      <th></th>\n",
       "      <th>ID</th>\n",
       "      <th>deadline</th>\n",
       "      <th>duration</th>\n",
       "      <th>goal</th>\n",
       "      <th>launched</th>\n",
       "      <th>main_category</th>\n",
       "      <th>month_deadline</th>\n",
       "      <th>month_launch</th>\n",
       "      <th>state</th>\n",
       "      <th>year_deadline</th>\n",
       "      <th>year_launch</th>\n",
       "    </tr>\n",
       "  </thead>\n",
       "  <tbody>\n",
       "    <tr>\n",
       "      <th>0</th>\n",
       "      <td>857125548</td>\n",
       "      <td>2015-04-30 23:12:00</td>\n",
       "      <td>NaT</td>\n",
       "      <td>2000.0</td>\n",
       "      <td>2015-03-19 22:34:57</td>\n",
       "      <td>0</td>\n",
       "      <td>4</td>\n",
       "      <td>3</td>\n",
       "      <td>0</td>\n",
       "      <td>2015</td>\n",
       "      <td>2015</td>\n",
       "    </tr>\n",
       "    <tr>\n",
       "      <th>1</th>\n",
       "      <td>1038659700</td>\n",
       "      <td>2014-07-27 01:55:07</td>\n",
       "      <td>NaT</td>\n",
       "      <td>10.0</td>\n",
       "      <td>2014-07-17 01:55:07</td>\n",
       "      <td>0</td>\n",
       "      <td>7</td>\n",
       "      <td>7</td>\n",
       "      <td>0</td>\n",
       "      <td>2014</td>\n",
       "      <td>2014</td>\n",
       "    </tr>\n",
       "    <tr>\n",
       "      <th>2</th>\n",
       "      <td>1238331911</td>\n",
       "      <td>2014-08-29 16:29:13</td>\n",
       "      <td>NaT</td>\n",
       "      <td>900.0</td>\n",
       "      <td>2014-07-30 16:29:13</td>\n",
       "      <td>0</td>\n",
       "      <td>8</td>\n",
       "      <td>7</td>\n",
       "      <td>0</td>\n",
       "      <td>2014</td>\n",
       "      <td>2014</td>\n",
       "    </tr>\n",
       "    <tr>\n",
       "      <th>3</th>\n",
       "      <td>189217262</td>\n",
       "      <td>2015-05-31 16:09:11</td>\n",
       "      <td>NaT</td>\n",
       "      <td>900.0</td>\n",
       "      <td>2015-05-11 16:09:11</td>\n",
       "      <td>0</td>\n",
       "      <td>5</td>\n",
       "      <td>5</td>\n",
       "      <td>0</td>\n",
       "      <td>2015</td>\n",
       "      <td>2015</td>\n",
       "    </tr>\n",
       "    <tr>\n",
       "      <th>4</th>\n",
       "      <td>1260075071</td>\n",
       "      <td>2015-03-08 20:52:02</td>\n",
       "      <td>NaT</td>\n",
       "      <td>15000.0</td>\n",
       "      <td>2015-02-06 21:52:02</td>\n",
       "      <td>0</td>\n",
       "      <td>3</td>\n",
       "      <td>2</td>\n",
       "      <td>0</td>\n",
       "      <td>2015</td>\n",
       "      <td>2015</td>\n",
       "    </tr>\n",
       "  </tbody>\n",
       "</table>\n",
       "</div>"
      ],
      "text/plain": [
       "           ID            deadline duration     goal             launched  \\\n",
       "0   857125548 2015-04-30 23:12:00      NaT   2000.0  2015-03-19 22:34:57   \n",
       "1  1038659700 2014-07-27 01:55:07      NaT     10.0  2014-07-17 01:55:07   \n",
       "2  1238331911 2014-08-29 16:29:13      NaT    900.0  2014-07-30 16:29:13   \n",
       "3   189217262 2015-05-31 16:09:11      NaT    900.0  2015-05-11 16:09:11   \n",
       "4  1260075071 2015-03-08 20:52:02      NaT  15000.0  2015-02-06 21:52:02   \n",
       "\n",
       "   main_category  month_deadline  month_launch  state  year_deadline  \\\n",
       "0              0               4             3      0           2015   \n",
       "1              0               7             7      0           2014   \n",
       "2              0               8             7      0           2014   \n",
       "3              0               5             5      0           2015   \n",
       "4              0               3             2      0           2015   \n",
       "\n",
       "   year_launch  \n",
       "0         2015  \n",
       "1         2014  \n",
       "2         2014  \n",
       "3         2015  \n",
       "4         2015  "
      ]
     },
     "execution_count": 35,
     "metadata": {},
     "output_type": "execute_result"
    }
   ],
   "source": [
    "df_final.head()"
   ]
  },
  {
   "cell_type": "markdown",
   "metadata": {},
   "source": [
    "Looks like what we need! Now we can begin to do analysis."
   ]
  },
  {
   "cell_type": "markdown",
   "metadata": {},
   "source": [
    "# Data Analysis & Results"
   ]
  },
  {
   "cell_type": "markdown",
   "metadata": {},
   "source": [
    "Here's what a row in our data looks like. We will be analyzing the features of each kickstart project contained in the data, and discover trends and how certain features relate to one another."
   ]
  },
  {
   "cell_type": "code",
   "execution_count": 36,
   "metadata": {},
   "outputs": [
    {
     "data": {
      "text/html": [
       "<div>\n",
       "<style scoped>\n",
       "    .dataframe tbody tr th:only-of-type {\n",
       "        vertical-align: middle;\n",
       "    }\n",
       "\n",
       "    .dataframe tbody tr th {\n",
       "        vertical-align: top;\n",
       "    }\n",
       "\n",
       "    .dataframe thead th {\n",
       "        text-align: right;\n",
       "    }\n",
       "</style>\n",
       "<table border=\"1\" class=\"dataframe\">\n",
       "  <thead>\n",
       "    <tr style=\"text-align: right;\">\n",
       "      <th></th>\n",
       "      <th>ID</th>\n",
       "      <th>main_category</th>\n",
       "      <th>deadline</th>\n",
       "      <th>goal</th>\n",
       "      <th>launched</th>\n",
       "      <th>month_launch</th>\n",
       "      <th>year_launch</th>\n",
       "      <th>month_deadline</th>\n",
       "      <th>year_deadline</th>\n",
       "      <th>duration</th>\n",
       "      <th>state</th>\n",
       "    </tr>\n",
       "  </thead>\n",
       "  <tbody>\n",
       "    <tr>\n",
       "      <th>0</th>\n",
       "      <td>1000002330</td>\n",
       "      <td>0</td>\n",
       "      <td>2015-10-09</td>\n",
       "      <td>1000.0</td>\n",
       "      <td>2015-08-11 12:12:28</td>\n",
       "      <td>8</td>\n",
       "      <td>2015</td>\n",
       "      <td>10</td>\n",
       "      <td>2015</td>\n",
       "      <td>58 days 11:47:32</td>\n",
       "      <td>0</td>\n",
       "    </tr>\n",
       "  </tbody>\n",
       "</table>\n",
       "</div>"
      ],
      "text/plain": [
       "           ID  main_category   deadline    goal            launched  \\\n",
       "0  1000002330              0 2015-10-09  1000.0 2015-08-11 12:12:28   \n",
       "\n",
       "   month_launch  year_launch  month_deadline  year_deadline         duration  \\\n",
       "0             8         2015              10           2015 58 days 11:47:32   \n",
       "\n",
       "  state  \n",
       "0     0  "
      ]
     },
     "execution_count": 36,
     "metadata": {},
     "output_type": "execute_result"
    }
   ],
   "source": [
    "final_df_2018.head()"
   ]
  },
  {
   "cell_type": "markdown",
   "metadata": {},
   "source": [
    "### Descriptive Analysis \n",
    "In this section, we will perform descriptive analysis on the features in the data and describe their meaning and context within the overall dataset. This will help us understand which features are more important in predicting a project's success or failure."
   ]
  },
  {
   "cell_type": "code",
   "execution_count": 37,
   "metadata": {},
   "outputs": [
    {
     "data": {
      "text/plain": [
       "<matplotlib.axes._subplots.AxesSubplot at 0x1582dc88>"
      ]
     },
     "execution_count": 37,
     "metadata": {},
     "output_type": "execute_result"
    },
    {
     "data": {
      "image/png": "[encoded data removed]",
      "text/plain": [
       "<Figure size 432x288 with 1 Axes>"
      ]
     },
     "metadata": {
      "needs_background": "light"
     },
     "output_type": "display_data"
    }
   ],
   "source": [
    "sns.distplot(final_df_2018[\"goal\"], norm_hist=True)"
   ]
  },
  {
   "cell_type": "markdown",
   "metadata": {},
   "source": [
    "There appears to be outliers in the project goal feature, which is how much money they want to raise! A reason may be that some projects require significantly more funding than others based on their project details. This may be explained by the project category, which we will explore later. For now, we need to find and handle the outliers."
   ]
  },
  {
   "cell_type": "code",
   "execution_count": 38,
   "metadata": {},
   "outputs": [
    {
     "data": {
      "text/plain": [
       "<matplotlib.axes._subplots.AxesSubplot at 0x28779cf8>"
      ]
     },
     "execution_count": 38,
     "metadata": {},
     "output_type": "execute_result"
    },
    {
     "data": {
      "image/png": "[encoded data removed]",
      "text/plain": [
       "<Figure size 432x288 with 1 Axes>"
      ]
     },
     "metadata": {
      "needs_background": "light"
     },
     "output_type": "display_data"
    }
   ],
   "source": [
    "sns.boxplot(x=\"goal\", data=final_df_2018)"
   ]
  },
  {
   "cell_type": "markdown",
   "metadata": {},
   "source": [
    "The main_category label is binary, with 1 meaning the project category is *Technology* and 0 otherwise. As seen in the previous plots, there may be an association between the project category and its funding goal. Technology projects may require more to be successful. We can perform bivariate analysis to see."
   ]
  },
  {
   "cell_type": "code",
   "execution_count": 39,
   "metadata": {},
   "outputs": [
    {
     "data": {
      "text/html": [
       "<div>\n",
       "<style scoped>\n",
       "    .dataframe tbody tr th:only-of-type {\n",
       "        vertical-align: middle;\n",
       "    }\n",
       "\n",
       "    .dataframe tbody tr th {\n",
       "        vertical-align: top;\n",
       "    }\n",
       "\n",
       "    .dataframe thead th {\n",
       "        text-align: right;\n",
       "    }\n",
       "</style>\n",
       "<table border=\"1\" class=\"dataframe\">\n",
       "  <thead>\n",
       "    <tr style=\"text-align: right;\">\n",
       "      <th></th>\n",
       "      <th>goal</th>\n",
       "    </tr>\n",
       "    <tr>\n",
       "      <th>main_category</th>\n",
       "      <th></th>\n",
       "    </tr>\n",
       "  </thead>\n",
       "  <tbody>\n",
       "    <tr>\n",
       "      <th>0</th>\n",
       "      <td>42434.009318</td>\n",
       "    </tr>\n",
       "    <tr>\n",
       "      <th>1</th>\n",
       "      <td>119712.316780</td>\n",
       "    </tr>\n",
       "  </tbody>\n",
       "</table>\n",
       "</div>"
      ],
      "text/plain": [
       "                        goal\n",
       "main_category               \n",
       "0               42434.009318\n",
       "1              119712.316780"
      ]
     },
     "execution_count": 39,
     "metadata": {},
     "output_type": "execute_result"
    }
   ],
   "source": [
    "#Bivarate analysis (groupby)\n",
    "final_df_2018.groupby(\"main_category\").mean()[[\"goal\"]]"
   ]
  },
  {
   "cell_type": "markdown",
   "metadata": {},
   "source": [
    "As expected, it appears that technology projects have a much higher average funding goal than non-technology projects. The difference appears very significant, as technology projects have more than twice the average funding goal than other projects."
   ]
  },
  {
   "cell_type": "code",
   "execution_count": 40,
   "metadata": {},
   "outputs": [
    {
     "name": "stdout",
     "output_type": "stream",
     "text": [
      "Launch Years of Projects:\n",
      "[1970L, 2009L, 2010L, 2011L, 2012L, 2013L, 2014L, 2015L, 2016L, 2017L, 2018L]\n",
      "Project Deadlines:\n",
      "[2009L, 2010L, 2011L, 2012L, 2013L, 2014L, 2015L, 2016L, 2017L, 2018L]\n"
     ]
    }
   ],
   "source": [
    "print(\"Launch Years of Projects:\")\n",
    "print(sorted(set(final_df_2018[\"year_launch\"])))\n",
    "\n",
    "print(\"Project Deadlines:\")\n",
    "print(sorted(set(final_df_2018[\"year_deadline\"])))"
   ]
  },
  {
   "cell_type": "code",
   "execution_count": 41,
   "metadata": {},
   "outputs": [
    {
     "name": "stdout",
     "output_type": "stream",
     "text": [
      "('Average duration of projects in days: ', 33.48112163650336)\n"
     ]
    },
    {
     "data": {
      "text/plain": [
       "<matplotlib.axes._subplots.AxesSubplot at 0x1f5012e8>"
      ]
     },
     "execution_count": 41,
     "metadata": {},
     "output_type": "execute_result"
    },
    {
     "data": {
      "image/png": "[encoded data removed]",
      "text/plain": [
       "<Figure size 432x288 with 1 Axes>"
      ]
     },
     "metadata": {
      "needs_background": "light"
     },
     "output_type": "display_data"
    }
   ],
   "source": [
    "final_df_2018[\"days\"] = final_df_2018[\"duration\"].apply(lambda x: x.days)\n",
    "print(\"Average duration of projects in days: \", np.mean(final_df_2018[\"days\"]))\n",
    "sns.distplot(final_df_2018[\"days\"], norm_hist=True)"
   ]
  },
  {
   "cell_type": "markdown",
   "metadata": {},
   "source": [
    "The duration, in days, of tech and non-tech kickstarts seem similar to one another."
   ]
  },
  {
   "cell_type": "code",
   "execution_count": 42,
   "metadata": {},
   "outputs": [
    {
     "data": {
      "text/html": [
       "<div>\n",
       "<style scoped>\n",
       "    .dataframe tbody tr th:only-of-type {\n",
       "        vertical-align: middle;\n",
       "    }\n",
       "\n",
       "    .dataframe tbody tr th {\n",
       "        vertical-align: top;\n",
       "    }\n",
       "\n",
       "    .dataframe thead th {\n",
       "        text-align: right;\n",
       "    }\n",
       "</style>\n",
       "<table border=\"1\" class=\"dataframe\">\n",
       "  <thead>\n",
       "    <tr style=\"text-align: right;\">\n",
       "      <th></th>\n",
       "      <th>days</th>\n",
       "    </tr>\n",
       "    <tr>\n",
       "      <th>main_category</th>\n",
       "      <th></th>\n",
       "    </tr>\n",
       "  </thead>\n",
       "  <tbody>\n",
       "    <tr>\n",
       "      <th>0</th>\n",
       "      <td>33.388801</td>\n",
       "    </tr>\n",
       "    <tr>\n",
       "      <th>1</th>\n",
       "      <td>34.462157</td>\n",
       "    </tr>\n",
       "  </tbody>\n",
       "</table>\n",
       "</div>"
      ],
      "text/plain": [
       "                    days\n",
       "main_category           \n",
       "0              33.388801\n",
       "1              34.462157"
      ]
     },
     "execution_count": 42,
     "metadata": {},
     "output_type": "execute_result"
    }
   ],
   "source": [
    "final_df_2018.groupby(\"main_category\").mean()[[\"days\"]]"
   ]
  },
  {
   "cell_type": "markdown",
   "metadata": {},
   "source": [
    "Here's what the data looks like for tech kickstarts. It appears that their funding goals are very high compared to non-tech kickstarts. This observation could be useful to take into account for our model later on."
   ]
  },
  {
   "cell_type": "code",
   "execution_count": 43,
   "metadata": {},
   "outputs": [
    {
     "data": {
      "text/html": [
       "<div>\n",
       "<style scoped>\n",
       "    .dataframe tbody tr th:only-of-type {\n",
       "        vertical-align: middle;\n",
       "    }\n",
       "\n",
       "    .dataframe tbody tr th {\n",
       "        vertical-align: top;\n",
       "    }\n",
       "\n",
       "    .dataframe thead th {\n",
       "        text-align: right;\n",
       "    }\n",
       "</style>\n",
       "<table border=\"1\" class=\"dataframe\">\n",
       "  <thead>\n",
       "    <tr style=\"text-align: right;\">\n",
       "      <th></th>\n",
       "      <th>ID</th>\n",
       "      <th>main_category</th>\n",
       "      <th>deadline</th>\n",
       "      <th>goal</th>\n",
       "      <th>launched</th>\n",
       "      <th>month_launch</th>\n",
       "      <th>year_launch</th>\n",
       "      <th>month_deadline</th>\n",
       "      <th>year_deadline</th>\n",
       "      <th>duration</th>\n",
       "      <th>state</th>\n",
       "      <th>days</th>\n",
       "    </tr>\n",
       "  </thead>\n",
       "  <tbody>\n",
       "    <tr>\n",
       "      <th>65</th>\n",
       "      <td>1000245024</td>\n",
       "      <td>1</td>\n",
       "      <td>2015-07-03</td>\n",
       "      <td>50000.0</td>\n",
       "      <td>2015-06-03 05:52:43</td>\n",
       "      <td>6</td>\n",
       "      <td>2015</td>\n",
       "      <td>7</td>\n",
       "      <td>2015</td>\n",
       "      <td>29 days 18:07:17</td>\n",
       "      <td>0</td>\n",
       "      <td>29</td>\n",
       "    </tr>\n",
       "    <tr>\n",
       "      <th>67</th>\n",
       "      <td>1000256230</td>\n",
       "      <td>1</td>\n",
       "      <td>2017-07-02</td>\n",
       "      <td>2000.0</td>\n",
       "      <td>2017-06-02 12:20:21</td>\n",
       "      <td>6</td>\n",
       "      <td>2017</td>\n",
       "      <td>7</td>\n",
       "      <td>2017</td>\n",
       "      <td>29 days 11:39:39</td>\n",
       "      <td>0</td>\n",
       "      <td>29</td>\n",
       "    </tr>\n",
       "    <tr>\n",
       "      <th>70</th>\n",
       "      <td>1000260691</td>\n",
       "      <td>1</td>\n",
       "      <td>2016-03-25</td>\n",
       "      <td>87000.0</td>\n",
       "      <td>2016-02-29 20:30:27</td>\n",
       "      <td>2</td>\n",
       "      <td>2016</td>\n",
       "      <td>3</td>\n",
       "      <td>2016</td>\n",
       "      <td>24 days 03:29:33</td>\n",
       "      <td>0</td>\n",
       "      <td>24</td>\n",
       "    </tr>\n",
       "    <tr>\n",
       "      <th>71</th>\n",
       "      <td>1000261018</td>\n",
       "      <td>1</td>\n",
       "      <td>2016-08-23</td>\n",
       "      <td>100000.0</td>\n",
       "      <td>2016-07-24 13:18:36</td>\n",
       "      <td>7</td>\n",
       "      <td>2016</td>\n",
       "      <td>8</td>\n",
       "      <td>2016</td>\n",
       "      <td>29 days 10:41:24</td>\n",
       "      <td>0</td>\n",
       "      <td>29</td>\n",
       "    </tr>\n",
       "    <tr>\n",
       "      <th>98</th>\n",
       "      <td>100039820</td>\n",
       "      <td>1</td>\n",
       "      <td>2015-03-07</td>\n",
       "      <td>25000.0</td>\n",
       "      <td>2015-02-05 16:57:21</td>\n",
       "      <td>2</td>\n",
       "      <td>2015</td>\n",
       "      <td>3</td>\n",
       "      <td>2015</td>\n",
       "      <td>29 days 07:02:39</td>\n",
       "      <td>0</td>\n",
       "      <td>29</td>\n",
       "    </tr>\n",
       "  </tbody>\n",
       "</table>\n",
       "</div>"
      ],
      "text/plain": [
       "            ID  main_category   deadline      goal            launched  \\\n",
       "65  1000245024              1 2015-07-03   50000.0 2015-06-03 05:52:43   \n",
       "67  1000256230              1 2017-07-02    2000.0 2017-06-02 12:20:21   \n",
       "70  1000260691              1 2016-03-25   87000.0 2016-02-29 20:30:27   \n",
       "71  1000261018              1 2016-08-23  100000.0 2016-07-24 13:18:36   \n",
       "98   100039820              1 2015-03-07   25000.0 2015-02-05 16:57:21   \n",
       "\n",
       "    month_launch  year_launch  month_deadline  year_deadline         duration  \\\n",
       "65             6         2015               7           2015 29 days 18:07:17   \n",
       "67             6         2017               7           2017 29 days 11:39:39   \n",
       "70             2         2016               3           2016 24 days 03:29:33   \n",
       "71             7         2016               8           2016 29 days 10:41:24   \n",
       "98             2         2015               3           2015 29 days 07:02:39   \n",
       "\n",
       "   state  days  \n",
       "65     0    29  \n",
       "67     0    29  \n",
       "70     0    24  \n",
       "71     0    29  \n",
       "98     0    29  "
      ]
     },
     "execution_count": 43,
     "metadata": {},
     "output_type": "execute_result"
    }
   ],
   "source": [
    "final_df_2018[final_df_2018[\"main_category\"] == 1].head()"
   ]
  },
  {
   "cell_type": "markdown",
   "metadata": {},
   "source": [
    "There are some kickstarts with durations that last longer than 1000 days. It may be worthwhile to look into some of these kickstarts, as usually the duration could have an impact on a project's success. If it takes longer, then it could potentially say something about the kickstart itself."
   ]
  },
  {
   "cell_type": "code",
   "execution_count": 44,
   "metadata": {},
   "outputs": [
    {
     "data": {
      "text/html": [
       "<div>\n",
       "<style scoped>\n",
       "    .dataframe tbody tr th:only-of-type {\n",
       "        vertical-align: middle;\n",
       "    }\n",
       "\n",
       "    .dataframe tbody tr th {\n",
       "        vertical-align: top;\n",
       "    }\n",
       "\n",
       "    .dataframe thead th {\n",
       "        text-align: right;\n",
       "    }\n",
       "</style>\n",
       "<table border=\"1\" class=\"dataframe\">\n",
       "  <thead>\n",
       "    <tr style=\"text-align: right;\">\n",
       "      <th></th>\n",
       "      <th>ID</th>\n",
       "      <th>main_category</th>\n",
       "      <th>deadline</th>\n",
       "      <th>goal</th>\n",
       "      <th>launched</th>\n",
       "      <th>month_launch</th>\n",
       "      <th>year_launch</th>\n",
       "      <th>month_deadline</th>\n",
       "      <th>year_deadline</th>\n",
       "      <th>duration</th>\n",
       "      <th>state</th>\n",
       "      <th>days</th>\n",
       "    </tr>\n",
       "  </thead>\n",
       "  <tbody>\n",
       "    <tr>\n",
       "      <th>2842</th>\n",
       "      <td>1014746686</td>\n",
       "      <td>0</td>\n",
       "      <td>2010-09-15</td>\n",
       "      <td>5000.0</td>\n",
       "      <td>1970-01-01 01:00:00</td>\n",
       "      <td>1</td>\n",
       "      <td>1970</td>\n",
       "      <td>9</td>\n",
       "      <td>2010</td>\n",
       "      <td>14866 days 23:00:00</td>\n",
       "      <td>0</td>\n",
       "      <td>14866</td>\n",
       "    </tr>\n",
       "    <tr>\n",
       "      <th>48147</th>\n",
       "      <td>1245461087</td>\n",
       "      <td>0</td>\n",
       "      <td>2010-08-14</td>\n",
       "      <td>15000.0</td>\n",
       "      <td>1970-01-01 01:00:00</td>\n",
       "      <td>1</td>\n",
       "      <td>1970</td>\n",
       "      <td>8</td>\n",
       "      <td>2010</td>\n",
       "      <td>14834 days 23:00:00</td>\n",
       "      <td>0</td>\n",
       "      <td>14834</td>\n",
       "    </tr>\n",
       "    <tr>\n",
       "      <th>75397</th>\n",
       "      <td>1384087152</td>\n",
       "      <td>0</td>\n",
       "      <td>2010-05-21</td>\n",
       "      <td>700.0</td>\n",
       "      <td>1970-01-01 01:00:00</td>\n",
       "      <td>1</td>\n",
       "      <td>1970</td>\n",
       "      <td>5</td>\n",
       "      <td>2010</td>\n",
       "      <td>14749 days 23:00:00</td>\n",
       "      <td>0</td>\n",
       "      <td>14749</td>\n",
       "    </tr>\n",
       "    <tr>\n",
       "      <th>94579</th>\n",
       "      <td>1480763647</td>\n",
       "      <td>0</td>\n",
       "      <td>2010-06-01</td>\n",
       "      <td>4000.0</td>\n",
       "      <td>1970-01-01 01:00:00</td>\n",
       "      <td>1</td>\n",
       "      <td>1970</td>\n",
       "      <td>6</td>\n",
       "      <td>2010</td>\n",
       "      <td>14760 days 23:00:00</td>\n",
       "      <td>0</td>\n",
       "      <td>14760</td>\n",
       "    </tr>\n",
       "    <tr>\n",
       "      <th>247913</th>\n",
       "      <td>330942060</td>\n",
       "      <td>0</td>\n",
       "      <td>2010-05-04</td>\n",
       "      <td>10000.0</td>\n",
       "      <td>1970-01-01 01:00:00</td>\n",
       "      <td>1</td>\n",
       "      <td>1970</td>\n",
       "      <td>5</td>\n",
       "      <td>2010</td>\n",
       "      <td>14732 days 23:00:00</td>\n",
       "      <td>0</td>\n",
       "      <td>14732</td>\n",
       "    </tr>\n",
       "    <tr>\n",
       "      <th>273779</th>\n",
       "      <td>462917959</td>\n",
       "      <td>0</td>\n",
       "      <td>2010-04-10</td>\n",
       "      <td>500.0</td>\n",
       "      <td>1970-01-01 01:00:00</td>\n",
       "      <td>1</td>\n",
       "      <td>1970</td>\n",
       "      <td>4</td>\n",
       "      <td>2010</td>\n",
       "      <td>14708 days 23:00:00</td>\n",
       "      <td>0</td>\n",
       "      <td>14708</td>\n",
       "    </tr>\n",
       "    <tr>\n",
       "      <th>319002</th>\n",
       "      <td>69489148</td>\n",
       "      <td>0</td>\n",
       "      <td>2015-10-31</td>\n",
       "      <td>1900.0</td>\n",
       "      <td>1970-01-01 01:00:00</td>\n",
       "      <td>1</td>\n",
       "      <td>1970</td>\n",
       "      <td>10</td>\n",
       "      <td>2015</td>\n",
       "      <td>16738 days 23:00:00</td>\n",
       "      <td>suspended</td>\n",
       "      <td>16738</td>\n",
       "    </tr>\n",
       "  </tbody>\n",
       "</table>\n",
       "</div>"
      ],
      "text/plain": [
       "                ID  main_category   deadline     goal            launched  \\\n",
       "2842    1014746686              0 2010-09-15   5000.0 1970-01-01 01:00:00   \n",
       "48147   1245461087              0 2010-08-14  15000.0 1970-01-01 01:00:00   \n",
       "75397   1384087152              0 2010-05-21    700.0 1970-01-01 01:00:00   \n",
       "94579   1480763647              0 2010-06-01   4000.0 1970-01-01 01:00:00   \n",
       "247913   330942060              0 2010-05-04  10000.0 1970-01-01 01:00:00   \n",
       "273779   462917959              0 2010-04-10    500.0 1970-01-01 01:00:00   \n",
       "319002    69489148              0 2015-10-31   1900.0 1970-01-01 01:00:00   \n",
       "\n",
       "        month_launch  year_launch  month_deadline  year_deadline  \\\n",
       "2842               1         1970               9           2010   \n",
       "48147              1         1970               8           2010   \n",
       "75397              1         1970               5           2010   \n",
       "94579              1         1970               6           2010   \n",
       "247913             1         1970               5           2010   \n",
       "273779             1         1970               4           2010   \n",
       "319002             1         1970              10           2015   \n",
       "\n",
       "                  duration      state   days  \n",
       "2842   14866 days 23:00:00          0  14866  \n",
       "48147  14834 days 23:00:00          0  14834  \n",
       "75397  14749 days 23:00:00          0  14749  \n",
       "94579  14760 days 23:00:00          0  14760  \n",
       "247913 14732 days 23:00:00          0  14732  \n",
       "273779 14708 days 23:00:00          0  14708  \n",
       "319002 16738 days 23:00:00  suspended  16738  "
      ]
     },
     "execution_count": 44,
     "metadata": {},
     "output_type": "execute_result"
    }
   ],
   "source": [
    "final_df_2018[final_df_2018[\"days\"] > 1000]"
   ]
  },
  {
   "cell_type": "markdown",
   "metadata": {},
   "source": [
    "### Exploratory Analysis "
   ]
  },
  {
   "cell_type": "code",
   "execution_count": 45,
   "metadata": {},
   "outputs": [
    {
     "data": {
      "text/plain": [
       "<matplotlib.axes._subplots.AxesSubplot at 0x21ec4f98>"
      ]
     },
     "execution_count": 45,
     "metadata": {},
     "output_type": "execute_result"
    },
    {
     "data": {
      "image/png": "[encoded data removed]",
      "text/plain": [
       "<Figure size 432x288 with 1 Axes>"
      ]
     },
     "metadata": {
      "needs_background": "light"
     },
     "output_type": "display_data"
    }
   ],
   "source": [
    "df_2018 = df_2018[df_2018['year_launch'] > 1970]\n",
    "sns.barplot(x=df_2018['year_launch'], y=df_2018['usd_pledged_real'])"
   ]
  },
  {
   "cell_type": "markdown",
   "metadata": {},
   "source": [
    "Here we can see that as we continue to more current years, the amount of money pledged to kickstarters increases. \n",
    "This is likely because of the growing popularity of Kickstarter and more projects being hosted on the site. The reason 2018 is so low is because this dataset is from 2018 which means that not all the data was collected for that year yet. "
   ]
  },
  {
   "cell_type": "code",
   "execution_count": 46,
   "metadata": {},
   "outputs": [
    {
     "data": {
      "image/png": "[encoded data removed]",
      "text/plain": [
       "<Figure size 432x288 with 1 Axes>"
      ]
     },
     "metadata": {
      "needs_background": "light"
     },
     "output_type": "display_data"
    }
   ],
   "source": [
    "df_2018 = df_2018[df_2018['backers'] < 150000]\n",
    "df_2018 = df_2018[df_2018['backers'] > 5000]\n",
    "plt.scatter(df_2018['backers'], df_2018['usd_goal_real'])\n",
    "a2, b2 = np.polyfit(df_2018['backers'], df_2018['usd_goal_real'], 1)"
   ]
  },
  {
   "cell_type": "code",
   "execution_count": 47,
   "metadata": {},
   "outputs": [],
   "source": [
    "floats = a2 * np.arange(df_2018['backers'].min(), df_2018['backers'].max(), 1) + b2\n",
    "pred_goal = floats"
   ]
  },
  {
   "cell_type": "code",
   "execution_count": 48,
   "metadata": {},
   "outputs": [
    {
     "data": {
      "text/plain": [
       "[<matplotlib.lines.Line2D at 0x2d2ac0b8>]"
      ]
     },
     "execution_count": 48,
     "metadata": {},
     "output_type": "execute_result"
    },
    {
     "data": {
      "image/png": "[encoded data removed]",
      "text/plain": [
       "<Figure size 432x288 with 1 Axes>"
      ]
     },
     "metadata": {
      "needs_background": "light"
     },
     "output_type": "display_data"
    }
   ],
   "source": [
    "plt.plot(np.arange(df_2018['backers'].min(),df_2018['backers'].max(),1), pred_goal, color='RED')"
   ]
  },
  {
   "cell_type": "markdown",
   "metadata": {},
   "source": [
    "We see a strong correlation between the number of backers and the amount of money the Kickstarter project set for its goal. This implies that people possibly donate a roughly equal amount of money to Kickstarters which is why you need more backers for a larger goal rather than relying on large donations from few individuals. "
   ]
  },
  {
   "cell_type": "code",
   "execution_count": 49,
   "metadata": {},
   "outputs": [
    {
     "data": {
      "text/plain": [
       "<matplotlib.axes._subplots.AxesSubplot at 0x2d2ac5f8>"
      ]
     },
     "execution_count": 49,
     "metadata": {},
     "output_type": "execute_result"
    },
    {
     "data": {
      "image/png": "[encoded data removed]",
      "text/plain": [
       "<Figure size 432x288 with 1 Axes>"
      ]
     },
     "metadata": {
      "needs_background": "light"
     },
     "output_type": "display_data"
    }
   ],
   "source": [
    "sns.barplot(x=final_df_2018['month_launch'], y=(df_2018['pledged']))"
   ]
  },
  {
   "cell_type": "markdown",
   "metadata": {},
   "source": [
    "Here we see an interesting trend of where alternating months have higher amounts of pledged money than the months inbetween. Although its hard to say what the cause for this is, we believe it could be because after people donate their money, they need to say money for a month before they can donate to another project. Another cause for this could possibly be that tech companies/projects often operate in funding cycles where they seek investor funding in certain periods/months."
   ]
  },
  {
   "cell_type": "markdown",
   "metadata": {},
   "source": [
    "### Hypothesis Test \n",
    "\n",
    "In order to see if we can prove our original question, we must first make an alternative simpler hypothesis:\n",
    "\n",
    "Null hypothesis: The success rate for technology kickstarters is the same as all others. \n",
    "Alternative hypthesis: The success rate for technology is different from all others.\n",
    "\n",
    "This will let us know if success rate for technology kickstarters is even any difference from the success rate of the other categories. If the success rate for technology is higher then we may proceed with checking how much more successful they are."
   ]
  },
  {
   "cell_type": "code",
   "execution_count": 50,
   "metadata": {},
   "outputs": [
    {
     "name": "stdout",
     "output_type": "stream",
     "text": [
      "There is a significant difference between the two.\n",
      "('The success rate for technology is: ', 0.4)\n",
      "('The success rate for all other categories are: ', 0.5)\n"
     ]
    }
   ],
   "source": [
    "h_tech = df_final[df_final['main_category'] == 1]['state'].values\n",
    "h_nontech = df_final[df_final['main_category'] == 0]['state'].values\n",
    "t_val, p_val = ttest_ind(h_tech, h_nontech)\n",
    "if p_val < 0.01:\n",
    "    print('There is a significant difference between the two.')\n",
    "else:\n",
    "    print('There is not a significant difference between the two')\n",
    "\n",
    "h_techsuccess = pd.DataFrame(h_tech)[0].value_counts()[1]\n",
    "h_techfailures = pd.DataFrame(h_tech)[0].value_counts()[0]\n",
    "h_nontechsuccess = pd.DataFrame(h_nontech)[0].value_counts()[1]\n",
    "h_nontechfailures = pd.DataFrame(h_nontech)[0].value_counts()[0]\n",
    "\n",
    "techsuccesspercent = round(h_techsuccess/(float(h_techsuccess) + h_techfailures), 1)\n",
    "nontechsuccesspercent = round(h_nontechsuccess/(float(h_nontechfailures) + h_nontechsuccess), 1)\n",
    "\n",
    "print(\"The success rate for technology is: \", techsuccesspercent)\n",
    "print(\"The success rate for all other categories are: \", nontechsuccesspercent)"
   ]
  },
  {
   "cell_type": "markdown",
   "metadata": {},
   "source": [
    "From this we can see that there is actually a significant difference between the technology categories and all other categories. Therefore, we may reject the null hypothesis, as there is a significant difference. \n",
    "As shown, the difference of success rate is roughly 10% more for all other categories."
   ]
  },
  {
   "cell_type": "code",
   "execution_count": 51,
   "metadata": {},
   "outputs": [
    {
     "data": {
      "image/png": "[encoded data removed]",
      "text/plain": [
       "<Figure size 432x288 with 1 Axes>"
      ]
     },
     "metadata": {
      "needs_background": "light"
     },
     "output_type": "display_data"
    }
   ],
   "source": [
    "totalstatearray = [h_techsuccess, h_techfailures, h_nontechsuccess, h_nontechfailures]\n",
    "plt.bar(['Tech Success', 'Tech Fail', 'Other Success', 'Other Fail'], totalstatearray, align ='center')\n",
    "plt.title(\"Total Successes and Failures\")\n",
    "plt.xlabel('Category')\n",
    "plt.ylabel('Total Number of State')\n",
    "plt.show()"
   ]
  },
  {
   "cell_type": "markdown",
   "metadata": {},
   "source": [
    "From here we can see the total amount of successes and failures of the categories. Furthermore using the below bar graph we can actually see how many more failures there were for each category rather than successes."
   ]
  },
  {
   "cell_type": "code",
   "execution_count": 52,
   "metadata": {},
   "outputs": [
    {
     "data": {
      "image/png": "[encoded data removed]",
      "text/plain": [
       "<Figure size 432x288 with 1 Axes>"
      ]
     },
     "metadata": {
      "needs_background": "light"
     },
     "output_type": "display_data"
    }
   ],
   "source": [
    "totalstatearray2 = [h_techfailures - h_techsuccess, h_nontechfailures - h_nontechsuccess]\n",
    "plt.bar([\"Tech Failure Difference\", \"Other Failure Difference\"], totalstatearray2, align ='center')\n",
    "plt.title(\"Failures - Successes\")\n",
    "plt.xlabel('Category')\n",
    "plt.ylabel('Total Number of Additional Failures')\n",
    "plt.show()"
   ]
  },
  {
   "cell_type": "markdown",
   "metadata": {},
   "source": [
    "### Prediction"
   ]
  },
  {
   "cell_type": "markdown",
   "metadata": {},
   "source": [
    "So now that we know the success rate and how much different it is for technology and other categories, the next step is to determine if category is even a good predictor of success, or if there is some other predictor that makes more sense."
   ]
  },
  {
   "cell_type": "code",
   "execution_count": 53,
   "metadata": {},
   "outputs": [],
   "source": [
    "outcome, predictors = patsy.dmatrices(\"state ~ main_category + month_launch + year_launch + goal\", df_final)\n",
    "mod = sm.OLS(outcome, predictors)\n",
    "res = mod.fit()"
   ]
  },
  {
   "cell_type": "code",
   "execution_count": 54,
   "metadata": {},
   "outputs": [
    {
     "name": "stdout",
     "output_type": "stream",
     "text": [
      "                            OLS Regression Results                            \n",
      "==============================================================================\n",
      "Dep. Variable:                  state   R-squared:                       0.056\n",
      "Model:                            OLS   Adj. R-squared:                  0.056\n",
      "Method:                 Least Squares   F-statistic:                     6430.\n",
      "Date:                Wed, 18 Mar 2020   Prob (F-statistic):               0.00\n",
      "Time:                        20:56:48   Log-Likelihood:            -2.9988e+05\n",
      "No. Observations:              430688   AIC:                         5.998e+05\n",
      "Df Residuals:                  430683   BIC:                         5.998e+05\n",
      "Df Model:                           4                                         \n",
      "Covariance Type:            nonrobust                                         \n",
      "=================================================================================\n",
      "                    coef    std err          t      P>|t|      [0.025      0.975]\n",
      "---------------------------------------------------------------------------------\n",
      "Intercept      -102.9313      0.680   -151.306      0.000    -104.265    -101.598\n",
      "main_category    -0.1431      0.003    -54.178      0.000      -0.148      -0.138\n",
      "month_launch     -0.0023      0.000    -10.270      0.000      -0.003      -0.002\n",
      "year_launch       0.0513      0.000    152.095      0.000       0.051       0.052\n",
      "goal          -8.764e-09   6.47e-10    -13.553      0.000      -1e-08    -7.5e-09\n",
      "==============================================================================\n",
      "Omnibus:                      630.960   Durbin-Watson:                   0.447\n",
      "Prob(Omnibus):                  0.000   Jarque-Bera (JB):            56676.499\n",
      "Skew:                           0.094   Prob(JB):                         0.00\n",
      "Kurtosis:                       1.233   Cond. No.                     1.05e+09\n",
      "==============================================================================\n",
      "\n",
      "Warnings:\n",
      "[1] Standard Errors assume that the covariance matrix of the errors is correctly specified.\n",
      "[2] The condition number is large, 1.05e+09. This might indicate that there are\n",
      "strong multicollinearity or other numerical problems.\n"
     ]
    }
   ],
   "source": [
    "print(res.summary())"
   ]
  },
  {
   "cell_type": "markdown",
   "metadata": {},
   "source": [
    "From the above, we can see that, with an alpha value of .01, year seems to be significant factor of success compared to all other categories. However, since our predictions are binary, the best approach would be to try logistic regression."
   ]
  },
  {
   "cell_type": "code",
   "execution_count": 55,
   "metadata": {},
   "outputs": [
    {
     "name": "stdout",
     "output_type": "stream",
     "text": [
      "Optimization terminated successfully.\n",
      "         Current function value: 0.663489\n",
      "         Iterations 9\n",
      "                           Logit Regression Results                           \n",
      "==============================================================================\n",
      "Dep. Variable:                  state   No. Observations:               430688\n",
      "Model:                          Logit   Df Residuals:                   430683\n",
      "Method:                           MLE   Df Model:                            4\n",
      "Date:                Wed, 18 Mar 2020   Pseudo R-squ.:                 0.04210\n",
      "Time:                        20:56:50   Log-Likelihood:            -2.8576e+05\n",
      "converged:                       True   LL-Null:                   -2.9831e+05\n",
      "                                        LLR p-value:                     0.000\n",
      "=================================================================================\n",
      "                    coef    std err          z      P>|z|      [0.025      0.975]\n",
      "---------------------------------------------------------------------------------\n",
      "Intercept      -434.7438      2.990   -145.378      0.000    -440.605    -428.883\n",
      "main_category    -0.5910      0.011    -52.063      0.000      -0.613      -0.569\n",
      "month_launch     -0.0100      0.001    -10.537      0.000      -0.012      -0.008\n",
      "year_launch       0.2158      0.001    145.426      0.000       0.213       0.219\n",
      "goal           -2.45e-07   1.71e-08    -14.305      0.000   -2.79e-07   -2.11e-07\n",
      "=================================================================================\n"
     ]
    }
   ],
   "source": [
    "outcomeLog, predictorsLog = patsy.dmatrices(\"state ~ main_category + month_launch + year_launch + goal\", df_final)\n",
    "modLog = sm.Logit(outcomeLog, predictorsLog)\n",
    "resLog = modLog.fit()\n",
    "print(resLog.summary())"
   ]
  },
  {
   "cell_type": "markdown",
   "metadata": {},
   "source": [
    "Again, we see that year is more significant than all other categories even when using logistic regression. So, launch year could be a significant factor when determining success for kickstarter projects."
   ]
  },
  {
   "cell_type": "code",
   "execution_count": 56,
   "metadata": {},
   "outputs": [
    {
     "data": {
      "image/png": "[encoded data removed]",
      "text/plain": [
       "<Figure size 432x288 with 1 Axes>"
      ]
     },
     "metadata": {
      "needs_background": "light"
     },
     "output_type": "display_data"
    }
   ],
   "source": [
    "final = df_final.groupby(['year_launch']).sum()['state']\n",
    "plt.bar(final.index, final, align ='center')\n",
    "plt.title(\"Successes per Year\")\n",
    "plt.xlabel('Launch Year')\n",
    "plt.ylabel('Successes')\n",
    "plt.show()"
   ]
  },
  {
   "cell_type": "markdown",
   "metadata": {},
   "source": [
    "From the above bar graph we can actually see that there is indeed an increase per year steadily over the past 10 years. The only outlier is 2019; however, this may be due to the time the dataset was released and the amount of data that was given from the two datasets listed.\n",
    "\n",
    "Does this mean that year is the best predictor? Not necessarily, as there could be other factors. One such factor could be that there are simply just more kickstarters per year and as a result more kickstarters are successful overall."
   ]
  },
  {
   "cell_type": "markdown",
   "metadata": {},
   "source": [
    "# Ethics & Privacy"
   ]
  },
  {
   "cell_type": "markdown",
   "metadata": {},
   "source": [
    "Searching through Kickstarter, the majority of participants are startups consisting of a small workforce. We must pursue our project in a manner that is both equitable on both the website and the startups. Another stakeholder is the backers (investors) of the project, these are listed anonymously on the website, but still should be considered in the process. It is important to consider these stakeholders, as associating their names to this analysis could harm their reputation, whether it would be the individual workers or the company itself. One way to protect this is to remove any startup names and to generalize startups into categories. By not disclosing the information of name, so that PII cannot be obtained by connecting the name of startup with the individual workers. Furthermore, we will store the data in a secure google drive for only group members in order to retain any private information.\n",
    "\n",
    "Moreover, we have to take into consideration the reliability of the data. Kickstarter is a third party in the transactions of startups and donators. Kickstarter gives us access to these data metrics and so it is less likely to hold misinformation about backers. However, biases still need to be considered, such as who the investors are. When dealing with our analysis, we must be wary to not make quick conclusive statements on causation of our findings, there are many confounding variables to be considered, such as time released of the project. We will continue to monitor our models to see whether there are biases involved or confounding variables not checked.\n"
   ]
  },
  {
   "cell_type": "markdown",
   "metadata": {},
   "source": [
    "# Conclusion & Discussion"
   ]
  },
  {
   "cell_type": "markdown",
   "metadata": {},
   "source": [
    "From our hypothesis testing, we concluded that there is a significant difference in the success rates of tech kickstarter campaigns compared to non-tech kickstarter campaigns, with a 10% difference in favor of non-tech kickstarters. This does not coincide with the hypothesis we made at the start of the project. Reasons for this could an over saturation for kickstarter campaigns that are related to tech and, therefore, success favors kickstarters that demonstrate uniqueness and creativeness. Moreover, our descriptive analysis illustrated that the goal amount in USD on average was significantly higher. This could be another reason towards the logic of our final conclusion, the required monetary goals were harder to reach and succeed for tech-related kickstarters. \n",
    "\n",
    "This leads onto one of the limitations of our analysis, which was the way in which we valued a campaign’s success. We evaluated campaigns’ success with binary values on whether the campaigns reached their goal amount in USD or not. This was not reliable, because as shown by our outliers some campaigns set the amount goal to a significantly large number. Another limitation was the kickstarter could set the deadline themselves and therefore, the time limit for their own campaigns could be unlimited. Therefore, a measurement that would have been more representative of a measurement of success would have been the amount raised during the first month of all campaigns. Moreover, there are many ways to define the measurement of success. Following from our analysis, our group could have looked into profit margins, amount goal raised or total sales.\n",
    "\n",
    "However, what was more interesting to the case of our project was the takeaway that launch year was the most significant variable out of all the variables we considered. With such significance, our group could have further analyzed the prospect of launch year being a cofounder in our analysis. Tech campaigns would have most likely increased proportionately in throughout the years. On the other hand the success rates could have also increased proportionately. Therefore, we could have took this into account into our hypothesis testing through utilizing an instrumental variable.\n",
    "\n",
    "For further analysis, we would look into other startup incubator methods, such as angel investors. From there, we could compare different incubators and compare their success rates and analyze the optimal solutions for raising money for various startups."
   ]
  },
  {
   "cell_type": "markdown",
   "metadata": {},
   "source": [
    "# Team Contributions"
   ]
  },
  {
   "cell_type": "markdown",
   "metadata": {},
   "source": [
    "- Data Cleaning: Gabrielle \n",
    "- Descriptive Analysis/Preprocessing: Samson \n",
    "- Exploratory Analysis + Visualization: Leland \n",
    "- Linear Regression + Hypothesis Testing: Kevin \n",
    "- Conclusion/Overview/Discussion/Found topic idea: Rick \n",
    "- Video Creation: Everyone"
   ]
  }
 ],
 "metadata": {
  "kernelspec": {
   "display_name": "Python 3",
   "language": "python",
   "name": "python3"
  },
  "language_info": {
   "codemirror_mode": {
    "name": "ipython",
    "version": 3
   },
   "file_extension": ".py",
   "mimetype": "text/x-python",
   "name": "python",
   "nbconvert_exporter": "python",
   "pygments_lexer": "ipython3",
   "version": "3.7.0"
  }
 },
 "nbformat": 4,
 "nbformat_minor": 2
}
