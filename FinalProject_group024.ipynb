{
 "cells": [
  {
   "cell_type": "markdown",
   "metadata": {},
   "source": [
    "# COGS 108, Group024 - Final Project"
   ]
  },
  {
   "cell_type": "markdown",
   "metadata": {},
   "source": [
    "# Overview"
   ]
  },
  {
   "cell_type": "markdown",
   "metadata": {},
   "source": [
    "*For the final project, our team decided to focus on the degree to which large and small companies provide mental health programs. Initially, we concentrated on separating the columns of our data not only by size but also by attributes like gender, company location, self employment, and age to see if there were any confounding variables in our data. Our data was mainly self reported so we used sentiment analysis to determine whether participants were mentally healthy or not. After analyzing our data, our team decided that the size of the company impacted mental health to a lesser extent than wellness programs that the company provided for its employees.*"
   ]
  },
  {
   "cell_type": "markdown",
   "metadata": {},
   "source": [
    "# Names"
   ]
  },
  {
   "cell_type": "markdown",
   "metadata": {},
   "source": [
    "- Andrey Pristinsky\n",
    "- Mariam Qader\n",
    "- Cole Richmond\n",
    "- Braden Riggs\n",
    "- Taly Yukelson"
   ]
  },
  {
   "cell_type": "markdown",
   "metadata": {},
   "source": [
    "# Research Question"
   ]
  },
  {
   "cell_type": "markdown",
   "metadata": {},
   "source": [
    "In the process of developing new solutions to create economic or social impact, the burden of being a part of a small team, working long hours, and having to meet deadlines can become overwhelming. While many young, bright minds aspire to land jobs at the most prestigious technology companies, the payoff might be short-lived as employees sacrifice their mental well-being for high levels of productivity in their pursuit to “make it”. In short, **our group wants to know if there exists a correlation between an employee’s mental health and the size of the company they work for**. While small technology companies may provide their employees the opportunity for more freedom and power to impact their companies, ultimately the high expectations may be too much to handle for many of them."
   ]
  },
  {
   "cell_type": "markdown",
   "metadata": {},
   "source": [
    "## Background and Prior Work"
   ]
  },
  {
   "cell_type": "markdown",
   "metadata": {},
   "source": [
    "In his article, “Why Startups Are Harder than MIT,” Riz Virk discusses that while a startup allows its employees to impact the success of the company, ultimately the lack of stability gives rise to a high intensity climate, thus raising anxiety levels. Virk asserts that because the success of a startup depends less on the work of individuals and more on the market or a “lucky break,” lots of employees are kept in high stress situations for prolonged amounts of time causing a negative impact on their mental health. From Virk’s article, our team gathered that startups would be more detrimental to employee mental health as the environments they promote are more stressful than those at bigger companies. We want to look more into whether it is the devices that bigger companies put out for their employees or if it is the culture of the companies themselves that impact employee mental health. $^{(1)}$\n",
    "\n",
    "The technology industry fosters a high-stress environment that lacks supportive groups that help fight the mental health stigma. More employees are becoming more aware of company culture and prioritizing a work-life balance. Experts agree that the high stress fast paced environment is having an adverse effect on tech professionals’ mental health and that both large and small companies should be doing more to remedy this. $^{(2)}$\n",
    "\n",
    "\n",
    "References (include links):\n",
    "- 1) https://medium.com/swlh/why-startups-are-harder-than-mit-stress-and-the-entrepreneur-part-1-of-2-2168d1ab41d7\n",
    "- 2) https://www.mente.co.uk/2019/11/21/mental-health-in-the-tech-industry/"
   ]
  },
  {
   "cell_type": "markdown",
   "metadata": {},
   "source": [
    "# Hypothesis"
   ]
  },
  {
   "cell_type": "markdown",
   "metadata": {},
   "source": [
    "*Given our preliminary research, it is hypothesized that small tech companies will on average have a lower rate of job satisfaction and a worsened sense of mental well being than larger corporate enterprises.*\n",
    " \n",
    "*We believe that small tech companies will have a lower rate of job satisfaction because these companies offer high stress projects that force individuals to work overtime as their work has a greater impact on the company, while a big company provides its employees a standard 9-5 job that has more balance, leading to higher satisfaction.*\n"
   ]
  },
  {
   "cell_type": "markdown",
   "metadata": {},
   "source": [
    "# Dataset(s)"
   ]
  },
  {
   "cell_type": "markdown",
   "metadata": {},
   "source": [
    "### DataSet #1\n",
    "**Dataset Name**: OSMI Mental Health in Tech Survey: Raw Data 2014-2018\n",
    "\n",
    "**Link to the dataset**: https://www.kaggle.com/ekwiecinska96/mental-health-in-techology-survey-2014-and-2016\n",
    "\n",
    "**Number of observations**: 3,866\n",
    "\n",
    "### DataSet #2\n",
    "**Dataset Name**: OSMI Mental Health in Tech Survey 2019\n",
    "\n",
    "**Link to the dataset**: https://www.kaggle.com/osmihelp/osmi-mental-health-in-tech-survey-2019\n",
    "\n",
    "**Number of observations**: 352\n",
    "\n",
    "\n",
    "*The datasets we chose to use are from the mental health in tech survey conducted every year, except for 2015, by Open Sourcing Mental Illness (OSMI). This survey contains answers from tech workers about their own mental health, as well as how the company handles mental health in general. Each survey’s questions are a little different so we are going to combine all 5 of the years we have on all of the questions (columns) that are the same.*\n"
   ]
  },
  {
   "cell_type": "markdown",
   "metadata": {},
   "source": [
    "# Setup"
   ]
  },
  {
   "cell_type": "code",
   "execution_count": 1,
   "metadata": {
    "collapsed": true
   },
   "outputs": [],
   "source": [
    "import numpy as np\n",
    "import pandas as pd\n",
    "import os\n",
    "import time\n",
    "import seaborn as sns\n",
    "import matplotlib.pyplot as plt\n",
    "from bs4 import BeautifulSoup\n",
    "from urllib.request import Request, urlopen\n",
    "import string\n",
    "import nltk\n",
    "from nltk.corpus import stopwords\n",
    "from nltk.probability import FreqDist\n",
    "from collections import Counter, defaultdict\n",
    "\n",
    "# grab stopwords for sentiment analysis\n",
    "stoplist = stopwords.words('english')"
   ]
  },
  {
   "cell_type": "markdown",
   "metadata": {},
   "source": [
    "### Data Imports"
   ]
  },
  {
   "cell_type": "code",
   "execution_count": 2,
   "metadata": {
    "collapsed": true
   },
   "outputs": [],
   "source": [
    "# read in survey data\n",
    "survey2014 = pd.read_csv('data/survey_2014.csv')\n",
    "survey2016 = pd.read_csv('data/survey_2016.csv')\n",
    "survey2017 = pd.read_csv('data/survey_2017.csv')\n",
    "survey2018 = pd.read_csv('data/survey_2018.csv')\n",
    "survey2019 = pd.read_csv('data/survey_2019.csv')                "
   ]
  },
  {
   "cell_type": "markdown",
   "metadata": {},
   "source": [
    "### Exploratory Data Analysis"
   ]
  },
  {
   "cell_type": "code",
   "execution_count": 3,
   "metadata": {},
   "outputs": [
    {
     "name": "stdout",
     "output_type": "stream",
     "text": [
      "Number of Respondents per Survey: \n",
      "        2014: 1259 \n",
      "        2016: 1433 \n",
      "        2017: 756 \n",
      "        2018: 417 \n",
      "        2019: 352\n"
     ]
    }
   ],
   "source": [
    "# number of respondents per survey\n",
    "print('Number of Respondents per Survey: \\n \\\n",
    "       2014: {} \\n \\\n",
    "       2016: {} \\n \\\n",
    "       2017: {} \\n \\\n",
    "       2018: {} \\n \\\n",
    "       2019: {}'.format(survey2014.shape[0], \n",
    "                        survey2016.shape[0], \n",
    "                        survey2017.shape[0], \n",
    "                        survey2018.shape[0], \n",
    "                        survey2019.shape[0]))"
   ]
  },
  {
   "cell_type": "code",
   "execution_count": 4,
   "metadata": {},
   "outputs": [
    {
     "name": "stdout",
     "output_type": "stream",
     "text": [
      "Number of Columns per Survey: \n",
      "        2014: 27 \n",
      "        2016: 63 \n",
      "        2017: 123 \n",
      "        2018: 123 \n",
      "        2019: 82\n"
     ]
    }
   ],
   "source": [
    "# number of attributes in each survey\n",
    "print('Number of Columns per Survey: \\n \\\n",
    "       2014: {} \\n \\\n",
    "       2016: {} \\n \\\n",
    "       2017: {} \\n \\\n",
    "       2018: {} \\n \\\n",
    "       2019: {}'.format(survey2014.shape[1], \n",
    "                        survey2016.shape[1], \n",
    "                        survey2017.shape[1], \n",
    "                        survey2018.shape[1], \n",
    "                        survey2019.shape[1]))"
   ]
  },
  {
   "cell_type": "markdown",
   "metadata": {},
   "source": [
    "#### Survey - 2014"
   ]
  },
  {
   "cell_type": "code",
   "execution_count": 5,
   "metadata": {
    "collapsed": true
   },
   "outputs": [],
   "source": [
    "#Drop mental_health_consequence/phy_health_consequence/obs_consequence/timestamp/mental_vs_physical/remote_work from 2014 table (not present in other years)\n",
    "survey2014 = survey2014.drop(['Timestamp', 'mental_health_consequence', 'phys_health_consequence', 'obs_consequence', 'mental_vs_physical', 'remote_work'], axis=1)\n"
   ]
  },
  {
   "cell_type": "code",
   "execution_count": 6,
   "metadata": {
    "collapsed": true
   },
   "outputs": [],
   "source": [
    "#add null columns for 'how to improve' to 2014 (present in other datasets)\n",
    "survey2014['how to improve?'] = np.nan"
   ]
  },
  {
   "cell_type": "code",
   "execution_count": 7,
   "metadata": {
    "collapsed": true
   },
   "outputs": [],
   "source": [
    "#Rename columns to match the rest of the surveys\n",
    "survey2014 = survey2014.rename(columns={\"no_employees\": \"num_employees\"})"
   ]
  },
  {
   "cell_type": "markdown",
   "metadata": {},
   "source": [
    "#### Survey - 2016"
   ]
  },
  {
   "cell_type": "code",
   "execution_count": 8,
   "metadata": {
    "collapsed": true
   },
   "outputs": [],
   "source": [
    "#Shortening all 2016 column names\n",
    "survey2016.columns = ('self_employed', 'num_employees', 'tech_company', 'prime_role_tech?', 'benefits', \n",
    "                      'care_options', 'wellness_program', 'seek_help', 'anonymity', 'leave', 'mental_health_consequence',\n",
    "                      'phys_health_consequence', 'coworkers', 'supervisor', 'mental_vs_physical', 'obs_consequence',\n",
    "                     'have_med_coverage_w/MH?', 'know_local/online_resources_forMH?',\n",
    "                      'reveal_MHdisorder_to_clients/businessContacts?', 'client_prevQ_impacted_negatively?',\n",
    "                      'reveal_MHdisorder_to_coworkers/employees?', 'coworker_prevQ_impacted_negatively?',\n",
    "                      'MH_affected_productivity?', 'prevQ_YES_%worktime_affected', 'PREV_employers?', 'PREV_benefits',\n",
    "                      'PREV_care_options', 'PREV_wellness_program', 'PREV_seek_help', 'PREV_anonymity', 'PREV_leave',\n",
    "                      'PREV_mental_health_consequence', 'PREV_phys_health_consequence', 'PREV_coworkers',\n",
    "                      'PREV_supervisor', 'PREV_mental_vs_physical', 'PREV_obs_consequence', 'phys_health_interview',\n",
    "                      'phys_prevQ_WHY', 'mental_health_interview', 'mental_prevQ_WHY', 'MH_identified_hurt_career?',\n",
    "                      'MH-know_co-workers_view_negatively?' 'how_willing_sharing_MH_w/_friends/family?',\n",
    "                      'bad_response_toMH_issue_curr/prev_workplace?', 'prev_obs_onMH_lessLikelyReveal_curr_MH_issue?',\n",
    "                      'family_history', 'MH_disorder_past?', 'MH_disorder_currently?', 'prevQ_YES_diagnosed_condition?',\n",
    "                      'prevQ_MAYBE_believed_condition?', 'diagnosedMH_by_MDProfessional?', 'prevQ_condition_diagnosed?',\n",
    "                      'treatment', 'work_interfere_treated', 'work_interfere_not_treated', 'Age', 'Gender', 'Country',\n",
    "                      'state', 'Country_work', 'state_work', 'work_position', 'remote_work')"
   ]
  },
  {
   "cell_type": "code",
   "execution_count": 9,
   "metadata": {
    "collapsed": true
   },
   "outputs": [],
   "source": [
    "#Select Columns from 2016 we want to use\n",
    "survey2016 = survey2016[['Age', 'Gender', 'Country', 'state', 'self_employed', 'family_history',\n",
    "                         'diagnosedMH_by_MDProfessional?', 'MH_affected_productivity?','num_employees',\n",
    "                         'tech_company','benefits','care_options', 'wellness_program', 'seek_help', \n",
    "                         'anonymity', 'leave','coworkers', 'supervisor', 'mental_health_interview', \n",
    "                         'phys_health_interview']]\n",
    "#Rename 2016 columns to match the rest of surveys\n",
    "survey2016 = survey2016.rename(columns={\"diagnosedMH_by_MDProfessional?\": \"treatment\", \"MH_affected_productivity?\": \"work_interfere\"})"
   ]
  },
  {
   "cell_type": "code",
   "execution_count": 10,
   "metadata": {
    "collapsed": true,
    "scrolled": false
   },
   "outputs": [],
   "source": [
    "#add null columns for 'how to improve' and 'comments' to 2016 (present in other datasets)\n",
    "survey2016['how to improve?'] = np.nan\n",
    "survey2016['comments'] = np.nan"
   ]
  },
  {
   "cell_type": "markdown",
   "metadata": {},
   "source": [
    "#### Survey - 2017"
   ]
  },
  {
   "cell_type": "code",
   "execution_count": 11,
   "metadata": {
    "collapsed": true
   },
   "outputs": [],
   "source": [
    "#drop all unnecessary columns in 2017, not present in other surveys or to our research\n",
    "survey2017 = survey2017.drop(['#'], axis = 1)\n",
    "#Previous Emplpoyer Information\n",
    "survey2017 = survey2017.drop(survey2017.iloc[:, 29:47], axis = 1) \n",
    "#Specific MH disorder information\n",
    "survey2017 = survey2017.drop(survey2017.iloc[:, 31:70], axis = 1) "
   ]
  },
  {
   "cell_type": "code",
   "execution_count": 12,
   "metadata": {
    "collapsed": true
   },
   "outputs": [],
   "source": [
    "#Shortening all 2017 column names\n",
    "survey2017.columns = ('self_employed', 'no_employees', 'tech_company', 'prime_role_tech?', 'benefits', \n",
    "                      'care_options', 'wellness_program', 'seek_help', 'anonymity', 'leave', 'coworkers', \n",
    "                      'supervisor','mh_with_employer','employer_conversation_MH','MH_coworkers_comfort',\n",
    "                      'MH_coworkers','coworker_conversation_MH','MH_from_coworker', 'from_coworkers_MH_conversation',\n",
    "                      'PH_importance','MH_importance', 'have_med_coverage_w/MH?','know_local/online_resources_forMH?',\n",
    "                      'reveal_MHdisorder_to_clients/businessContacts?', 'client_prevQ_impacted_negatively?',\n",
    "                      'reveal_MHdisorder_to_coworkers/employees?', 'coworker_prevQ_impacted?','MH_affected_productivity?',\n",
    "                      'prevQ_YES_%worktime_affected','have_MH_disorder?','diagnosed_MH_disorder?', \n",
    "                      'MH_disorder_past','treatment_from_professional?', 'family_history', 'MH_interferes_work_treated', \n",
    "                      'MH_interferes_work_untreated','observations_of_coworkers', 'willingness to share MH issues w Friends/Family',\n",
    "                      'willingness to share PH issues with employer in interview','prevQ_why?',\n",
    "                      'willingness to share MH issues with employer in interview',\n",
    "                      'prevQ_why?','openly_identified_with_MH', 'prevQ_effect','prevQ_how', \n",
    "                      'reaction from coworkers','unsupportive responses?','prevQ_circumstances',\n",
    "                      'supportive response?','prevQ_circumstances', 'tech industry supports MH?', \n",
    "                      'how to improve?', 'comments', 'more?', 'age', 'gender', 'country','state','race','other',\n",
    "                     'country_work', 'state_work', 'start_date', 'submit_date', 'networkID')"
   ]
  },
  {
   "cell_type": "code",
   "execution_count": 13,
   "metadata": {
    "collapsed": true
   },
   "outputs": [],
   "source": [
    "#Select Columns from 2017 we want to use\n",
    "survey2017 = survey2017[['age', 'gender', 'country', 'state', 'self_employed', 'family_history',\n",
    "                         'treatment_from_professional?', 'MH_affected_productivity?','no_employees',\n",
    "                         'tech_company','benefits','care_options', 'wellness_program', 'seek_help', \n",
    "                         'anonymity', 'leave', 'MH_importance', 'PH_importance', 'MH_coworkers_comfort', \n",
    "                         'supervisor', 'willingness to share MH issues with employer in interview', \n",
    "           'willingness to share PH issues with employer in interview', 'how to improve?', 'comments']]\n",
    "#Rename 2017 columns to match the rest of surveys\n",
    "survey2017 = survey2017.rename(columns={\"age\": \"Age\", \"country\":\"Country\",\"MH_affected_productivity?\": \"work_interfere\",\n",
    "                                        'gender':'Gender','treatment_from_professional?':'treatment', 'no_employees':'num_employees',\n",
    "                                        'MH_coworkers_comfort':'coworkers', 'willingness to share MH issues with employer in interview': \n",
    "                                        'mental_health_interview','willingness to share PH issues with employer in interview': 'phys_health_interview'})\n"
   ]
  },
  {
   "cell_type": "code",
   "execution_count": 14,
   "metadata": {
    "collapsed": true
   },
   "outputs": [],
   "source": [
    "#Drop MH_importance and PH_importance from 2017 (not present in other years)\n",
    "survey2017 = survey2017.drop(['MH_importance', 'PH_importance'], axis=1)"
   ]
  },
  {
   "cell_type": "markdown",
   "metadata": {},
   "source": [
    "#### Survey - 2018"
   ]
  },
  {
   "cell_type": "code",
   "execution_count": 15,
   "metadata": {
    "collapsed": true
   },
   "outputs": [],
   "source": [
    "#drop all unnecessary columns in 2018, not present in other surveys or to our research\n",
    "survey2018 = survey2018.drop(['#'], axis = 1)\n",
    "#drop all previous employer questions, not relevant to our research\n",
    "survey2018 = survey2018.drop(survey2018.iloc[:, 29:47], axis = 1) \n",
    "#drop specific mental health disorder info, not relevant to our research\n",
    "survey2018 = survey2018.drop(survey2018.iloc[:, 31:70], axis = 1) "
   ]
  },
  {
   "cell_type": "code",
   "execution_count": 16,
   "metadata": {
    "collapsed": true
   },
   "outputs": [],
   "source": [
    "#Shortening all 2018 column names\n",
    "survey2018.columns = ('self_employed', 'no_employees', 'tech_company', 'prime_role_tech?', 'benefits', \n",
    "                      'care_options', 'wellness_program', 'seek_help', 'anonymity', 'leave', \n",
    "                      'coworkers', 'supervisor','mh_with_employer','employer_conversation_MH',\n",
    "                      'MH_coworkers_comfort', 'MH_coworkers','coworker_conversation_MH','MH_from_coworker', \n",
    "                      'from_coworkers_MH_conversation','PH_importance', 'MH_importance', \n",
    "                      'have_med_coverage_w/MH?','know_local/online_resources_forMH?',\n",
    "                      'reveal_MHdisorder_to_clients/businessContacts?','client_prevQ_impacted_negatively?',\n",
    "                      'reveal_MHdisorder_to_coworkers/employees?', 'coworker_prevQ_impacted?',\n",
    "                      'MH_affected_productivity?','prevQ_YES_%worktime_affected','have_MH_disorder?',\n",
    "                      'diagnosed_MH_disorder?', 'MH_disorder_past','treatment_from_professional?', \n",
    "                      'family_history','MH_interferes_work_treated', 'MH_interferes_work_untreated',\n",
    "                      'observations_of_coworkers','willingness to share MH issues w Friends/Family',\n",
    "                      'willingness to share PH issues with employer in interview',\n",
    "                      'prevQ_why?','willingness to share MH issues with employer in interview','prevQ_why?',\n",
    "                      'openly_identified_with_MH', 'prevQ_effect', 'prevQ_how', 'reaction from coworkers',\n",
    "                      'unsupportive responses?','prevQ_circumstances','supportive response?', 'prevQ_circumstances', \n",
    "                      'tech industry supports MH?', 'how to improve?', 'comments', 'more?', 'age', 'gender', \n",
    "                      'country','state','race','other','country_work', 'state_work', 'start_date', 'submit_date', 'networkID')                    "
   ]
  },
  {
   "cell_type": "code",
   "execution_count": 17,
   "metadata": {
    "collapsed": true
   },
   "outputs": [],
   "source": [
    "#Select Columns from 2018 we want to use\n",
    "survey2018 = survey2018[['age', 'gender', 'country', 'state', 'self_employed', 'family_history',\n",
    "                         'treatment_from_professional?', 'MH_affected_productivity?','no_employees',\n",
    "                         'tech_company','benefits','care_options', 'wellness_program', 'seek_help', \n",
    "                         'anonymity', 'leave', 'MH_importance', 'PH_importance', 'MH_coworkers_comfort', \n",
    "                         'supervisor', 'willingness to share MH issues with employer in interview', \n",
    "           'willingness to share PH issues with employer in interview', 'how to improve?', 'comments']]\n",
    "\n",
    "#Rename 2018 columns to match the rest of surveys\n",
    "survey2018 = survey2018.rename(columns={\"age\": \"Age\", \"country\":\"Country\",\n",
    "                                    \"MH_affected_productivity?\": \"work_interfere\", 'gender':'Gender',\n",
    "                                       'treatment_from_professional?':'treatment', 'no_employees':'num_employees',\n",
    "                                       'MH_coworkers_comfort':'coworkers', 'willingness to share MH issues with employer in interview': 'mental_health_interview',\n",
    "                                       'willingness to share PH issues with employer in interview': 'phys_health_interview'})"
   ]
  },
  {
   "cell_type": "code",
   "execution_count": 18,
   "metadata": {
    "collapsed": true
   },
   "outputs": [],
   "source": [
    "#Drop MH_importance and PH_importance from 2018 table (not present in other years)\n",
    "survey2018 = survey2018.drop(['MH_importance', 'PH_importance'], axis=1)"
   ]
  },
  {
   "cell_type": "markdown",
   "metadata": {},
   "source": [
    "#### Survey - 2019"
   ]
  },
  {
   "cell_type": "code",
   "execution_count": 19,
   "metadata": {
    "collapsed": true
   },
   "outputs": [],
   "source": [
    "#drop all unnecessary columns in 2017, not present in other surveys or to our research\n",
    "#drop all previous employer questions\n",
    "survey2019 = survey2019.drop(survey2019.iloc[:, 29:47], axis = 1) "
   ]
  },
  {
   "cell_type": "code",
   "execution_count": 20,
   "metadata": {
    "collapsed": true
   },
   "outputs": [],
   "source": [
    "#renamed all the 2019 columns to either match up with 2014 columns or just to shorten them\n",
    "survey2019.columns = ('self_employed', 'no_employees', 'tech_company', 'prime_role_tech?', 'benefits', \n",
    "                      'care_options', 'wellness_program', 'seek_help', 'anonymity', 'leave', \n",
    "                      'coworkers', 'supervisor', 'mh_with_employer', 'employer_conversation_MH','MH_coworkers_comfort', \n",
    "                      'MH_coworkers','coworker_conversation_MH','MH_from_coworker', 'from_coworkers_MH_conversation','PH_importance', \n",
    "                      'MH_importance', 'have_med_coverage_w/MH?','know_local/online_resources_forMH?','reveal_MHdisorder_to_clients/businessContacts?', \n",
    "                      'client_prevQ_impacted_negatively?','reveal_MHdisorder_to_coworkers/employees?', \n",
    "                      'coworker_prevQ_impacted?','MH_affected_productivity?','prevQ_YES_%worktime_affected',\n",
    "                      'have_MH_disorder?','diagnosed_MH_disorder?','diagnosed_disorders','possible_disorders', \n",
    "                      'diagnosed_disorders_again?','MH_disorder_past','treatment_from_professional?', \n",
    "                      'family_history', 'MH_interferes_work_treated', 'MH_interferes_work_untreated','observations_of_coworkers',\n",
    "                      'willingness to share MH issues w Friends/Family','willingness to share PH issues with employer in interview',\n",
    "                      'prevQ_why?','willingness to share MH issues with employer in interview',\n",
    "                      'prevQ_why?','openly_identified_with_MH','prevQ_effect', 'prevQ_how', \n",
    "                      'reaction from coworkers','unsupportive responses?','prevQ_circumstances',\n",
    "                      'supportive response?', 'prevQ_circumstances', 'tech industry supports MH?', \n",
    "                      'how to improve?', 'comments', 'more?', 'age', 'gender', 'country', 'state',\n",
    "                      'race', 'country_work', 'state_work')\n",
    "                    "
   ]
  },
  {
   "cell_type": "code",
   "execution_count": 21,
   "metadata": {
    "collapsed": true
   },
   "outputs": [],
   "source": [
    "#Select Columns from 2018 we want to use\n",
    "survey2019 = survey2019[['age', 'gender', 'country', 'state', 'self_employed', 'family_history',\n",
    "                         'treatment_from_professional?', 'MH_affected_productivity?','no_employees',\n",
    "                         'tech_company','benefits','care_options', 'wellness_program', 'seek_help', \n",
    "                         'anonymity', 'leave', 'MH_importance', 'PH_importance', 'MH_coworkers_comfort', \n",
    "                         'supervisor', 'willingness to share MH issues with employer in interview', \n",
    "                         'willingness to share PH issues with employer in interview', 'how to improve?', 'comments']]\n",
    "#Rename 2019 columns to match the rest of surveys\n",
    "survey2019 = survey2019.rename(columns={\"age\": \"Age\", \"country\":\"Country\",\n",
    "                                    \"MH_affected_productivity?\": \"work_interfere\", 'gender':'Gender',\n",
    "                                       'treatment_from_professional?':'treatment', 'no_employees':'num_employees',\n",
    "                                       'MH_coworkers_comfort':'coworkers', 'willingness to share MH issues with employer in interview': 'mental_health_interview',\n",
    "                                       'willingness to share PH issues with employer in interview': 'phys_health_interview'})"
   ]
  },
  {
   "cell_type": "code",
   "execution_count": 22,
   "metadata": {
    "collapsed": true
   },
   "outputs": [],
   "source": [
    "#Drop MH_importance and PH_importance from 2019 table (not present in other years)\n",
    "survey2019 = survey2019.drop(['MH_importance', 'PH_importance'], axis=1)"
   ]
  },
  {
   "cell_type": "markdown",
   "metadata": {},
   "source": [
    "### Full Combined Surveys Dataframe"
   ]
  },
  {
   "cell_type": "code",
   "execution_count": 23,
   "metadata": {
    "collapsed": true
   },
   "outputs": [],
   "source": [
    "#ADD year column to all surveys\n",
    "survey2019[\"year\"] = 2019\n",
    "survey2018[\"year\"] = 2018\n",
    "survey2017[\"year\"] = 2017\n",
    "survey2016[\"year\"] = 2016\n",
    "survey2014[\"year\"] = 2014"
   ]
  },
  {
   "cell_type": "code",
   "execution_count": 24,
   "metadata": {},
   "outputs": [
    {
     "data": {
      "text/html": [
       "<div>\n",
       "<style scoped>\n",
       "    .dataframe tbody tr th:only-of-type {\n",
       "        vertical-align: middle;\n",
       "    }\n",
       "\n",
       "    .dataframe tbody tr th {\n",
       "        vertical-align: top;\n",
       "    }\n",
       "\n",
       "    .dataframe thead th {\n",
       "        text-align: right;\n",
       "    }\n",
       "</style>\n",
       "<table border=\"1\" class=\"dataframe\">\n",
       "  <thead>\n",
       "    <tr style=\"text-align: right;\">\n",
       "      <th></th>\n",
       "      <th>Age</th>\n",
       "      <th>Country</th>\n",
       "      <th>Gender</th>\n",
       "      <th>anonymity</th>\n",
       "      <th>benefits</th>\n",
       "      <th>care_options</th>\n",
       "      <th>comments</th>\n",
       "      <th>coworkers</th>\n",
       "      <th>family_history</th>\n",
       "      <th>how to improve?</th>\n",
       "      <th>...</th>\n",
       "      <th>phys_health_interview</th>\n",
       "      <th>seek_help</th>\n",
       "      <th>self_employed</th>\n",
       "      <th>state</th>\n",
       "      <th>supervisor</th>\n",
       "      <th>tech_company</th>\n",
       "      <th>treatment</th>\n",
       "      <th>wellness_program</th>\n",
       "      <th>work_interfere</th>\n",
       "      <th>year</th>\n",
       "    </tr>\n",
       "  </thead>\n",
       "  <tbody>\n",
       "    <tr>\n",
       "      <th>0</th>\n",
       "      <td>37.0</td>\n",
       "      <td>United States</td>\n",
       "      <td>Female</td>\n",
       "      <td>Yes</td>\n",
       "      <td>Yes</td>\n",
       "      <td>Not sure</td>\n",
       "      <td>NaN</td>\n",
       "      <td>Some of them</td>\n",
       "      <td>No</td>\n",
       "      <td>NaN</td>\n",
       "      <td>...</td>\n",
       "      <td>Maybe</td>\n",
       "      <td>Yes</td>\n",
       "      <td>NaN</td>\n",
       "      <td>IL</td>\n",
       "      <td>Yes</td>\n",
       "      <td>Yes</td>\n",
       "      <td>Yes</td>\n",
       "      <td>No</td>\n",
       "      <td>Often</td>\n",
       "      <td>2014</td>\n",
       "    </tr>\n",
       "    <tr>\n",
       "      <th>1</th>\n",
       "      <td>44.0</td>\n",
       "      <td>United States</td>\n",
       "      <td>M</td>\n",
       "      <td>Don't know</td>\n",
       "      <td>Don't know</td>\n",
       "      <td>No</td>\n",
       "      <td>NaN</td>\n",
       "      <td>No</td>\n",
       "      <td>No</td>\n",
       "      <td>NaN</td>\n",
       "      <td>...</td>\n",
       "      <td>No</td>\n",
       "      <td>Don't know</td>\n",
       "      <td>NaN</td>\n",
       "      <td>IN</td>\n",
       "      <td>No</td>\n",
       "      <td>No</td>\n",
       "      <td>No</td>\n",
       "      <td>Don't know</td>\n",
       "      <td>Rarely</td>\n",
       "      <td>2014</td>\n",
       "    </tr>\n",
       "    <tr>\n",
       "      <th>2</th>\n",
       "      <td>32.0</td>\n",
       "      <td>Canada</td>\n",
       "      <td>Male</td>\n",
       "      <td>Don't know</td>\n",
       "      <td>No</td>\n",
       "      <td>No</td>\n",
       "      <td>NaN</td>\n",
       "      <td>Yes</td>\n",
       "      <td>No</td>\n",
       "      <td>NaN</td>\n",
       "      <td>...</td>\n",
       "      <td>Yes</td>\n",
       "      <td>No</td>\n",
       "      <td>NaN</td>\n",
       "      <td>NaN</td>\n",
       "      <td>Yes</td>\n",
       "      <td>Yes</td>\n",
       "      <td>No</td>\n",
       "      <td>No</td>\n",
       "      <td>Rarely</td>\n",
       "      <td>2014</td>\n",
       "    </tr>\n",
       "    <tr>\n",
       "      <th>3</th>\n",
       "      <td>31.0</td>\n",
       "      <td>United Kingdom</td>\n",
       "      <td>Male</td>\n",
       "      <td>No</td>\n",
       "      <td>No</td>\n",
       "      <td>Yes</td>\n",
       "      <td>NaN</td>\n",
       "      <td>Some of them</td>\n",
       "      <td>Yes</td>\n",
       "      <td>NaN</td>\n",
       "      <td>...</td>\n",
       "      <td>Maybe</td>\n",
       "      <td>No</td>\n",
       "      <td>NaN</td>\n",
       "      <td>NaN</td>\n",
       "      <td>No</td>\n",
       "      <td>Yes</td>\n",
       "      <td>Yes</td>\n",
       "      <td>No</td>\n",
       "      <td>Often</td>\n",
       "      <td>2014</td>\n",
       "    </tr>\n",
       "    <tr>\n",
       "      <th>4</th>\n",
       "      <td>31.0</td>\n",
       "      <td>United States</td>\n",
       "      <td>Male</td>\n",
       "      <td>Don't know</td>\n",
       "      <td>Yes</td>\n",
       "      <td>No</td>\n",
       "      <td>NaN</td>\n",
       "      <td>Some of them</td>\n",
       "      <td>No</td>\n",
       "      <td>NaN</td>\n",
       "      <td>...</td>\n",
       "      <td>Yes</td>\n",
       "      <td>Don't know</td>\n",
       "      <td>NaN</td>\n",
       "      <td>TX</td>\n",
       "      <td>Yes</td>\n",
       "      <td>Yes</td>\n",
       "      <td>No</td>\n",
       "      <td>Don't know</td>\n",
       "      <td>Never</td>\n",
       "      <td>2014</td>\n",
       "    </tr>\n",
       "  </tbody>\n",
       "</table>\n",
       "<p>5 rows × 23 columns</p>\n",
       "</div>"
      ],
      "text/plain": [
       "    Age         Country  Gender   anonymity    benefits care_options comments  \\\n",
       "0  37.0   United States  Female         Yes         Yes     Not sure      NaN   \n",
       "1  44.0   United States       M  Don't know  Don't know           No      NaN   \n",
       "2  32.0          Canada    Male  Don't know          No           No      NaN   \n",
       "3  31.0  United Kingdom    Male          No          No          Yes      NaN   \n",
       "4  31.0   United States    Male  Don't know         Yes           No      NaN   \n",
       "\n",
       "      coworkers family_history how to improve?  ... phys_health_interview  \\\n",
       "0  Some of them             No             NaN  ...                 Maybe   \n",
       "1            No             No             NaN  ...                    No   \n",
       "2           Yes             No             NaN  ...                   Yes   \n",
       "3  Some of them            Yes             NaN  ...                 Maybe   \n",
       "4  Some of them             No             NaN  ...                   Yes   \n",
       "\n",
       "    seek_help self_employed state supervisor tech_company treatment  \\\n",
       "0         Yes           NaN    IL        Yes          Yes       Yes   \n",
       "1  Don't know           NaN    IN         No           No        No   \n",
       "2          No           NaN   NaN        Yes          Yes        No   \n",
       "3          No           NaN   NaN         No          Yes       Yes   \n",
       "4  Don't know           NaN    TX        Yes          Yes        No   \n",
       "\n",
       "  wellness_program work_interfere  year  \n",
       "0               No          Often  2014  \n",
       "1       Don't know         Rarely  2014  \n",
       "2               No         Rarely  2014  \n",
       "3               No          Often  2014  \n",
       "4       Don't know          Never  2014  \n",
       "\n",
       "[5 rows x 23 columns]"
      ]
     },
     "execution_count": 24,
     "metadata": {},
     "output_type": "execute_result"
    }
   ],
   "source": [
    "#Concat 2014 and 2016\n",
    "fulldf = pd.concat([survey2014, survey2016], sort=True)\n",
    "#add 2017,2018 and 2019\n",
    "fulldf = pd.concat([fulldf, survey2017], sort=True)\n",
    "fulldf =  pd.concat([fulldf, survey2018], sort=True)\n",
    "fulldf =  pd.concat([fulldf, survey2019], sort=True)\n",
    "fulldf.head()"
   ]
  },
  {
   "cell_type": "code",
   "execution_count": 25,
   "metadata": {},
   "outputs": [
    {
     "data": {
      "text/html": [
       "<div>\n",
       "<style scoped>\n",
       "    .dataframe tbody tr th:only-of-type {\n",
       "        vertical-align: middle;\n",
       "    }\n",
       "\n",
       "    .dataframe tbody tr th {\n",
       "        vertical-align: top;\n",
       "    }\n",
       "\n",
       "    .dataframe thead th {\n",
       "        text-align: right;\n",
       "    }\n",
       "</style>\n",
       "<table border=\"1\" class=\"dataframe\">\n",
       "  <thead>\n",
       "    <tr style=\"text-align: right;\">\n",
       "      <th></th>\n",
       "      <th>question</th>\n",
       "    </tr>\n",
       "  </thead>\n",
       "  <tbody>\n",
       "    <tr>\n",
       "      <th>Age</th>\n",
       "      <td>Respondent age</td>\n",
       "    </tr>\n",
       "    <tr>\n",
       "      <th>Country</th>\n",
       "      <td>Respondent country</td>\n",
       "    </tr>\n",
       "    <tr>\n",
       "      <th>Gender</th>\n",
       "      <td>Respondent gender</td>\n",
       "    </tr>\n",
       "    <tr>\n",
       "      <th>anonymity</th>\n",
       "      <td>Is your anonymity protected if you choose to t...</td>\n",
       "    </tr>\n",
       "    <tr>\n",
       "      <th>benefits</th>\n",
       "      <td>Does your employer provide mental health benef...</td>\n",
       "    </tr>\n",
       "    <tr>\n",
       "      <th>care_options</th>\n",
       "      <td>Do you know the options for mental health care...</td>\n",
       "    </tr>\n",
       "    <tr>\n",
       "      <th>comments</th>\n",
       "      <td>If there is anything else you would like to te...</td>\n",
       "    </tr>\n",
       "    <tr>\n",
       "      <th>coworkers</th>\n",
       "      <td>Would you feel comfortable discussing a mental...</td>\n",
       "    </tr>\n",
       "    <tr>\n",
       "      <th>family_history</th>\n",
       "      <td>Do you have a family history of mental illness?</td>\n",
       "    </tr>\n",
       "    <tr>\n",
       "      <th>how to improve?</th>\n",
       "      <td>Briefly describe what you think the industry a...</td>\n",
       "    </tr>\n",
       "    <tr>\n",
       "      <th>leave</th>\n",
       "      <td>If a mental health issue prompted you to reque...</td>\n",
       "    </tr>\n",
       "    <tr>\n",
       "      <th>mental_health_interview</th>\n",
       "      <td>Would you bring up a mental health issue with ...</td>\n",
       "    </tr>\n",
       "    <tr>\n",
       "      <th>num_employees</th>\n",
       "      <td>How many employees does your company or organi...</td>\n",
       "    </tr>\n",
       "    <tr>\n",
       "      <th>phys_health_interview</th>\n",
       "      <td>Would you bring up a physical health issue wit...</td>\n",
       "    </tr>\n",
       "    <tr>\n",
       "      <th>seek_help</th>\n",
       "      <td>Does your employer offer resources to learn mo...</td>\n",
       "    </tr>\n",
       "    <tr>\n",
       "      <th>self_employed</th>\n",
       "      <td>Are you self-employed?</td>\n",
       "    </tr>\n",
       "    <tr>\n",
       "      <th>state</th>\n",
       "      <td>If you live in the United States, which state ...</td>\n",
       "    </tr>\n",
       "    <tr>\n",
       "      <th>supervisor</th>\n",
       "      <td>Would you feel comfortable discussing a mental...</td>\n",
       "    </tr>\n",
       "    <tr>\n",
       "      <th>tech_company</th>\n",
       "      <td>Is your employer primarily a tech company/orga...</td>\n",
       "    </tr>\n",
       "    <tr>\n",
       "      <th>treatment</th>\n",
       "      <td>Have you sought treatment for a mental health ...</td>\n",
       "    </tr>\n",
       "    <tr>\n",
       "      <th>wellness_program</th>\n",
       "      <td>Has your employer ever discussed mental health...</td>\n",
       "    </tr>\n",
       "    <tr>\n",
       "      <th>work_interfere</th>\n",
       "      <td>If you have a mental health condition, do you ...</td>\n",
       "    </tr>\n",
       "    <tr>\n",
       "      <th>year</th>\n",
       "      <td>year survey was conducted</td>\n",
       "    </tr>\n",
       "  </tbody>\n",
       "</table>\n",
       "</div>"
      ],
      "text/plain": [
       "                                                                  question\n",
       "Age                                                         Respondent age\n",
       "Country                                                 Respondent country\n",
       "Gender                                                   Respondent gender\n",
       "anonymity                Is your anonymity protected if you choose to t...\n",
       "benefits                 Does your employer provide mental health benef...\n",
       "care_options             Do you know the options for mental health care...\n",
       "comments                 If there is anything else you would like to te...\n",
       "coworkers                Would you feel comfortable discussing a mental...\n",
       "family_history             Do you have a family history of mental illness?\n",
       "how to improve?          Briefly describe what you think the industry a...\n",
       "leave                    If a mental health issue prompted you to reque...\n",
       "mental_health_interview  Would you bring up a mental health issue with ...\n",
       "num_employees            How many employees does your company or organi...\n",
       "phys_health_interview    Would you bring up a physical health issue wit...\n",
       "seek_help                Does your employer offer resources to learn mo...\n",
       "self_employed                                       Are you self-employed?\n",
       "state                    If you live in the United States, which state ...\n",
       "supervisor               Would you feel comfortable discussing a mental...\n",
       "tech_company             Is your employer primarily a tech company/orga...\n",
       "treatment                Have you sought treatment for a mental health ...\n",
       "wellness_program         Has your employer ever discussed mental health...\n",
       "work_interfere           If you have a mental health condition, do you ...\n",
       "year                                             year survey was conducted"
      ]
     },
     "execution_count": 25,
     "metadata": {},
     "output_type": "execute_result"
    }
   ],
   "source": [
    "#Column descriptions in full df\n",
    "col_desc = pd.DataFrame(index = fulldf.columns)\n",
    "col_desc['question'] = ['Respondent age', 'Respondent country','Respondent gender',\n",
    "                                   'Is your anonymity protected if you choose to take advantage of mental health or substance abuse treatment',\n",
    "                                   'Does your employer provide mental health benefits?',\n",
    "                                   'Do you know the options for mental health care your employer provides?',\n",
    "                                   'If there is anything else you would like to tell us that has not been covered by the survey questions, please use this space to do so.',\n",
    "                                   'Would you feel comfortable discussing a mental health disorder with your coworkers?',\n",
    "                                   'Do you have a family history of mental illness?',\n",
    "                                   'Briefly describe what you think the industry as a whole and/or employers could do to improve mental health support for employees.',\n",
    "                                    'If a mental health issue prompted you to request a medical leave from work, asking for that leave would be:',\n",
    "                                    'Would you bring up a mental health issue with a potential employer in an interview?',\n",
    "                                    'How many employees does your company or organization have?',\n",
    "                                    'Would you bring up a physical health issue with a potential employer in an interview?',\n",
    "                                    'Does your employer offer resources to learn more about mental health concerns and options for seeking help?',\n",
    "                                    'Are you self-employed?',\n",
    "                                    'If you live in the United States, which state or territory do you live in?',\n",
    "                                    'Would you feel comfortable discussing a mental health disorder with your supervisor?',\n",
    "                                    'Is your employer primarily a tech company/organization?',\n",
    "                                    'Have you sought treatment for a mental health condition?',\n",
    "                                    'Has your employer ever discussed mental health as part of an employee wellness program?',\n",
    "                                    'If you have a mental health condition, do you feel that it interferes with your work?',\n",
    "                                    'year survey was conducted']\n",
    "col_desc"
   ]
  },
  {
   "cell_type": "markdown",
   "metadata": {},
   "source": [
    "# Data Cleaning"
   ]
  },
  {
   "cell_type": "markdown",
   "metadata": {},
   "source": [
    "We cleaned the gender and company size in the fulldf as we thought that these would be useful in our analysis later on."
   ]
  },
  {
   "cell_type": "code",
   "execution_count": 26,
   "metadata": {
    "collapsed": true
   },
   "outputs": [],
   "source": [
    "#Function to standardize gender column in the survey \n",
    "def standardize_gender(string):\n",
    "    \"\"\"\n",
    "    Converts the gender of survey subjects \n",
    "    from a string to either male or female.\n",
    "    \"\"\"\n",
    "    #added this to account for int/float values\n",
    "    if type(string) != str:\n",
    "        return np.nan\n",
    "    \n",
    "    string = string.lower()\n",
    "    string = string.strip()\n",
    "    \n",
    "    if 'female' in string:\n",
    "        output = 'female'\n",
    "    elif string == \"f\":\n",
    "        output = 'female'\n",
    "    elif 'woman' in string:\n",
    "        output = 'female'\n",
    "    elif 'women' in string:\n",
    "        output = 'female'\n",
    "    elif 'male' in string:\n",
    "        output = 'male'\n",
    "    elif string == \"m\":\n",
    "        output = 'male'\n",
    "    elif 'man' in string:\n",
    "        output = 'male'\n",
    "    elif 'men' in string:\n",
    "        output = 'male'\n",
    "    else:\n",
    "        output = np.nan\n",
    "    return output"
   ]
  },
  {
   "cell_type": "code",
   "execution_count": 27,
   "metadata": {},
   "outputs": [
    {
     "data": {
      "text/plain": [
       "array([ 2.,  4.,  3.,  1., nan])"
      ]
     },
     "execution_count": 27,
     "metadata": {},
     "output_type": "execute_result"
    }
   ],
   "source": [
    "#standarized the gender to be able to work with either male or female\n",
    "fulldf[\"Gender\"] = fulldf[\"Gender\"].apply(standardize_gender)\n",
    "\n",
    "#Company size; had to replace values to ordinally encode it\n",
    "fulldf = fulldf.replace(\"1-5\", 1).replace(\"6-25\", 2).replace(\"26-100\", \n",
    "                3).replace(\"100-500\", 4).replace(\"500-1000\", 4).replace(\"More than 1000\", 4)\n",
    "fulldf.num_employees.unique()"
   ]
  },
  {
   "cell_type": "markdown",
   "metadata": {},
   "source": [
    "### Pre-Analysis Cleaning and Selection"
   ]
  },
  {
   "cell_type": "markdown",
   "metadata": {},
   "source": [
    "In this section below, we grabbed the columns from the fulldf that we thought would be the most useful, and developed an overall mental health experience in tech companies. From this, is where our analysis will stem."
   ]
  },
  {
   "cell_type": "code",
   "execution_count": 28,
   "metadata": {},
   "outputs": [
    {
     "data": {
      "text/plain": [
       "array([1, 0], dtype=object)"
      ]
     },
     "metadata": {},
     "output_type": "display_data"
    },
    {
     "data": {
      "text/plain": [
       "array(['Yes', 'No'], dtype=object)"
      ]
     },
     "execution_count": 28,
     "metadata": {},
     "output_type": "execute_result"
    }
   ],
   "source": [
    "#made sure we are in the right values for tech_company before we query below\n",
    "fulldf['tech_company'] = fulldf['tech_company'].replace(np.nan, 0).replace(\"No\", 0).replace(\"Yes\", 1)\n",
    "display(fulldf['tech_company'].unique())\n",
    "#before creating a new table below, made sure that the 0 and 1 was replaced with \n",
    "#the according string before performing standardization\n",
    "fulldf[\"treatment\"] = fulldf[\"treatment\"].replace(to_replace=0, value='No').replace(to_replace=1, value='Yes')\n",
    "fulldf['treatment'].unique()"
   ]
  },
  {
   "cell_type": "markdown",
   "metadata": {},
   "source": [
    "We grabbed the columns that we thought had a direct impact from the company to the individual in providing the neccessary resources and providing a safe work environment for them. We made sure we were only looking at the responses that were tech companies, which as seen below explains why we query by 1.0 for a response of yes for tech companies. We ignore null values for tech because we can't identify if they are or aren't tech."
   ]
  },
  {
   "cell_type": "code",
   "execution_count": 29,
   "metadata": {},
   "outputs": [
    {
     "data": {
      "text/html": [
       "<div>\n",
       "<style scoped>\n",
       "    .dataframe tbody tr th:only-of-type {\n",
       "        vertical-align: middle;\n",
       "    }\n",
       "\n",
       "    .dataframe tbody tr th {\n",
       "        vertical-align: top;\n",
       "    }\n",
       "\n",
       "    .dataframe thead th {\n",
       "        text-align: right;\n",
       "    }\n",
       "</style>\n",
       "<table border=\"1\" class=\"dataframe\">\n",
       "  <thead>\n",
       "    <tr style=\"text-align: right;\">\n",
       "      <th></th>\n",
       "      <th>tech_company</th>\n",
       "      <th>anonymity</th>\n",
       "      <th>benefits</th>\n",
       "      <th>care_options</th>\n",
       "      <th>coworkers</th>\n",
       "      <th>leave</th>\n",
       "      <th>seek_help</th>\n",
       "      <th>supervisor</th>\n",
       "      <th>treatment</th>\n",
       "      <th>wellness_program</th>\n",
       "    </tr>\n",
       "  </thead>\n",
       "  <tbody>\n",
       "    <tr>\n",
       "      <th>0</th>\n",
       "      <td>1</td>\n",
       "      <td>Yes</td>\n",
       "      <td>Yes</td>\n",
       "      <td>Not sure</td>\n",
       "      <td>Some of them</td>\n",
       "      <td>Somewhat easy</td>\n",
       "      <td>Yes</td>\n",
       "      <td>Yes</td>\n",
       "      <td>Yes</td>\n",
       "      <td>No</td>\n",
       "    </tr>\n",
       "    <tr>\n",
       "      <th>2</th>\n",
       "      <td>1</td>\n",
       "      <td>Don't know</td>\n",
       "      <td>No</td>\n",
       "      <td>No</td>\n",
       "      <td>Yes</td>\n",
       "      <td>Somewhat difficult</td>\n",
       "      <td>No</td>\n",
       "      <td>Yes</td>\n",
       "      <td>No</td>\n",
       "      <td>No</td>\n",
       "    </tr>\n",
       "    <tr>\n",
       "      <th>3</th>\n",
       "      <td>1</td>\n",
       "      <td>No</td>\n",
       "      <td>No</td>\n",
       "      <td>Yes</td>\n",
       "      <td>Some of them</td>\n",
       "      <td>Somewhat difficult</td>\n",
       "      <td>No</td>\n",
       "      <td>No</td>\n",
       "      <td>Yes</td>\n",
       "      <td>No</td>\n",
       "    </tr>\n",
       "    <tr>\n",
       "      <th>4</th>\n",
       "      <td>1</td>\n",
       "      <td>Don't know</td>\n",
       "      <td>Yes</td>\n",
       "      <td>No</td>\n",
       "      <td>Some of them</td>\n",
       "      <td>Don't know</td>\n",
       "      <td>Don't know</td>\n",
       "      <td>Yes</td>\n",
       "      <td>No</td>\n",
       "      <td>Don't know</td>\n",
       "    </tr>\n",
       "    <tr>\n",
       "      <th>5</th>\n",
       "      <td>1</td>\n",
       "      <td>Don't know</td>\n",
       "      <td>Yes</td>\n",
       "      <td>Not sure</td>\n",
       "      <td>Yes</td>\n",
       "      <td>Don't know</td>\n",
       "      <td>Don't know</td>\n",
       "      <td>Yes</td>\n",
       "      <td>No</td>\n",
       "      <td>No</td>\n",
       "    </tr>\n",
       "  </tbody>\n",
       "</table>\n",
       "</div>"
      ],
      "text/plain": [
       "  tech_company   anonymity benefits care_options     coworkers  \\\n",
       "0            1         Yes      Yes     Not sure  Some of them   \n",
       "2            1  Don't know       No           No           Yes   \n",
       "3            1          No       No          Yes  Some of them   \n",
       "4            1  Don't know      Yes           No  Some of them   \n",
       "5            1  Don't know      Yes     Not sure           Yes   \n",
       "\n",
       "                leave   seek_help supervisor treatment wellness_program  \n",
       "0       Somewhat easy         Yes        Yes       Yes               No  \n",
       "2  Somewhat difficult          No        Yes        No               No  \n",
       "3  Somewhat difficult          No         No       Yes               No  \n",
       "4          Don't know  Don't know        Yes        No       Don't know  \n",
       "5          Don't know  Don't know        Yes        No               No  "
      ]
     },
     "execution_count": 29,
     "metadata": {},
     "output_type": "execute_result"
    }
   ],
   "source": [
    "#grabbed relevant columns for assessing company's help for mental health\n",
    "company_help = fulldf[['tech_company', 'anonymity', 'benefits', 'care_options', 'coworkers',\n",
    "                       'leave', 'seek_help', 'supervisor', 'treatment',\n",
    "                       'wellness_program']]\n",
    "#queried to find the tech companies\n",
    "tech_company_help = company_help.query('tech_company == 1.0')\n",
    "tech_company_help.head()"
   ]
  },
  {
   "cell_type": "markdown",
   "metadata": {},
   "source": [
    "Looked at the proportion of null values before doing deep cleaning on the data. As seen below, almost all of the columns from this that we will be using as an assessment contains values, which is important to be able to provide an accurate result without missing data."
   ]
  },
  {
   "cell_type": "code",
   "execution_count": 30,
   "metadata": {},
   "outputs": [
    {
     "data": {
      "text/plain": [
       "{'anonymity': 1.0,\n",
       " 'benefits': 1.0,\n",
       " 'care_options': 0.9265927977839336,\n",
       " 'coworkers': 1.0,\n",
       " 'leave': 1.0,\n",
       " 'seek_help': 1.0,\n",
       " 'supervisor': 1.0,\n",
       " 'tech_company': 1.0,\n",
       " 'treatment': 1.0,\n",
       " 'wellness_program': 1.0}"
      ]
     },
     "execution_count": 30,
     "metadata": {},
     "output_type": "execute_result"
    }
   ],
   "source": [
    "props = {}\n",
    "#Iterate through columns\n",
    "for col in tech_company_help.columns:\n",
    "    #Find the total length of the column\n",
    "    tot = len(tech_company_help[col])\n",
    "    #Find the number of non-null values\n",
    "    non_null = len(tech_company_help[col].dropna())\n",
    "    #Calculate the proportion of non-nulls & put it in a dic for later use\n",
    "    props[col] = (non_null / tot)\n",
    "props\n",
    "#This is the proportion of non-null values for each column"
   ]
  },
  {
   "cell_type": "code",
   "execution_count": 31,
   "metadata": {},
   "outputs": [
    {
     "data": {
      "text/plain": [
       "('tech_company', array([1], dtype=object))"
      ]
     },
     "metadata": {},
     "output_type": "display_data"
    },
    {
     "data": {
      "text/plain": [
       "('anonymity', array(['Yes', \"Don't know\", 'No', \"I don't know\"], dtype=object))"
      ]
     },
     "metadata": {},
     "output_type": "display_data"
    },
    {
     "data": {
      "text/plain": [
       "('benefits',\n",
       " array(['Yes', 'No', \"Don't know\", 'Not eligible for coverage / N/A',\n",
       "        \"I don't know\", 'Not eligible for coverage / NA'], dtype=object))"
      ]
     },
     "metadata": {},
     "output_type": "display_data"
    },
    {
     "data": {
      "text/plain": [
       "('care_options',\n",
       " array(['Not sure', 'No', 'Yes', nan, 'I am not sure'], dtype=object))"
      ]
     },
     "metadata": {},
     "output_type": "display_data"
    },
    {
     "data": {
      "text/plain": [
       "('coworkers', array(['Some of them', 'Yes', 'No', 'Maybe'], dtype=object))"
      ]
     },
     "metadata": {},
     "output_type": "display_data"
    },
    {
     "data": {
      "text/plain": [
       "('leave', array(['Somewhat easy', 'Somewhat difficult', \"Don't know\",\n",
       "        'Very difficult', 'Very easy', 'Neither easy nor difficult',\n",
       "        \"I don't know\", 'Difficult'], dtype=object))"
      ]
     },
     "metadata": {},
     "output_type": "display_data"
    },
    {
     "data": {
      "text/plain": [
       "('seek_help', array(['Yes', 'No', \"Don't know\", \"I don't know\"], dtype=object))"
      ]
     },
     "metadata": {},
     "output_type": "display_data"
    },
    {
     "data": {
      "text/plain": [
       "('supervisor', array(['Yes', 'No', 'Some of them', 'Maybe'], dtype=object))"
      ]
     },
     "metadata": {},
     "output_type": "display_data"
    },
    {
     "data": {
      "text/plain": [
       "('treatment', array(['Yes', 'No'], dtype=object))"
      ]
     },
     "metadata": {},
     "output_type": "display_data"
    },
    {
     "data": {
      "text/plain": [
       "('wellness_program',\n",
       " array(['No', \"Don't know\", 'Yes', \"I don't know\"], dtype=object))"
      ]
     },
     "metadata": {},
     "output_type": "display_data"
    }
   ],
   "source": [
    "#looking at values from tech_company to standardize\n",
    "for i in tech_company_help.columns:\n",
    "    display((i, tech_company_help[i].unique()))"
   ]
  },
  {
   "cell_type": "code",
   "execution_count": 32,
   "metadata": {
    "collapsed": true
   },
   "outputs": [],
   "source": [
    "# looks at and replaces the values into num values so we could work with the sustainability score\n",
    "# for the purpose of obtaining a score, we will be generalizing leave to -2, -1, 0, 1, 2\n",
    "difficulty_dict = {'Very difficult' : -2, 'Somewhat difficult' : -1, \"I don't know\" : 0,\n",
    "                   'Somewhat easy' : 1, 'Very easy' : 2, 'Difficult' : -2, 'Neither easy nor difficult' : 1,\n",
    "                   \"Don't know\" : 0}\n",
    "\n",
    "tech_company_help = tech_company_help.replace({'leave': difficulty_dict})\n",
    "\n",
    "#generalized the rest of the columns that we will be looking at for generating a score\n",
    "generalized_dict = {\"Don't know\" : 0, \"I don't know\" : 0, 'Not eligible for coverage / N/A' : 0,\n",
    "                    'Not eligible for coverage / NA' : 0, np.nan : 0, 'Yes' : 2, 'No' : -2, 'Some of them' : 1,\n",
    "                   'Maybe' : 1, 'I am not sure' : 0, 'Not sure' : 0}\n",
    "\n",
    "tech_company_help = tech_company_help.replace({'anonymity': generalized_dict})\n",
    "tech_company_help = tech_company_help.replace({'benefits': generalized_dict})\n",
    "tech_company_help = tech_company_help.replace({'care_options': generalized_dict})\n",
    "tech_company_help = tech_company_help.replace({'coworkers': generalized_dict})\n",
    "tech_company_help = tech_company_help.replace({'seek_help': generalized_dict})\n",
    "tech_company_help = tech_company_help.replace({'supervisor': generalized_dict})\n",
    "tech_company_help = tech_company_help.replace({'treatment': generalized_dict})\n",
    "tech_company_help = tech_company_help.replace({'wellness_program': generalized_dict})"
   ]
  },
  {
   "cell_type": "code",
   "execution_count": 33,
   "metadata": {},
   "outputs": [
    {
     "data": {
      "text/plain": [
       "('tech_company', array([1], dtype=object))"
      ]
     },
     "metadata": {},
     "output_type": "display_data"
    },
    {
     "data": {
      "text/plain": [
       "('anonymity', array([2, 0, -2], dtype=object))"
      ]
     },
     "metadata": {},
     "output_type": "display_data"
    },
    {
     "data": {
      "text/plain": [
       "('benefits', array([2, -2, 0], dtype=object))"
      ]
     },
     "metadata": {},
     "output_type": "display_data"
    },
    {
     "data": {
      "text/plain": [
       "('care_options', array([ 0, -2,  2]))"
      ]
     },
     "metadata": {},
     "output_type": "display_data"
    },
    {
     "data": {
      "text/plain": [
       "('coworkers', array([1, 2, -2], dtype=object))"
      ]
     },
     "metadata": {},
     "output_type": "display_data"
    },
    {
     "data": {
      "text/plain": [
       "('leave', array([ 1, -1,  0, -2,  2]))"
      ]
     },
     "metadata": {},
     "output_type": "display_data"
    },
    {
     "data": {
      "text/plain": [
       "('seek_help', array([2, -2, 0], dtype=object))"
      ]
     },
     "metadata": {},
     "output_type": "display_data"
    },
    {
     "data": {
      "text/plain": [
       "('supervisor', array([2, -2, 1], dtype=object))"
      ]
     },
     "metadata": {},
     "output_type": "display_data"
    },
    {
     "data": {
      "text/plain": [
       "('treatment', array([2, -2], dtype=object))"
      ]
     },
     "metadata": {},
     "output_type": "display_data"
    },
    {
     "data": {
      "text/plain": [
       "('wellness_program', array([-2, 0, 2], dtype=object))"
      ]
     },
     "metadata": {},
     "output_type": "display_data"
    }
   ],
   "source": [
    "#looking at values from tech_company to make sure they are all standardized\n",
    "for i in tech_company_help.columns:\n",
    "    display((i, tech_company_help[i].unique()))"
   ]
  },
  {
   "cell_type": "code",
   "execution_count": 34,
   "metadata": {},
   "outputs": [
    {
     "data": {
      "text/plain": [
       "tech_company        int64\n",
       "anonymity           int64\n",
       "benefits            int64\n",
       "care_options        int64\n",
       "coworkers           int64\n",
       "leave               int64\n",
       "seek_help           int64\n",
       "supervisor          int64\n",
       "treatment           int64\n",
       "wellness_program    int64\n",
       "dtype: object"
      ]
     },
     "execution_count": 34,
     "metadata": {},
     "output_type": "execute_result"
    }
   ],
   "source": [
    "#convert the columns to all ints before I sum together values\n",
    "tech_company_help = tech_company_help.apply(pd.to_numeric)\n",
    "tech_company_help.dtypes"
   ]
  },
  {
   "cell_type": "markdown",
   "metadata": {},
   "source": [
    "As you can see above, all the values are generalized to either -2, -1, 0, 1, 2, and from this we will create a new column that contains the value of it being an overall positive or negative experience for each individual."
   ]
  },
  {
   "cell_type": "code",
   "execution_count": 35,
   "metadata": {},
   "outputs": [
    {
     "data": {
      "text/html": [
       "<div>\n",
       "<style scoped>\n",
       "    .dataframe tbody tr th:only-of-type {\n",
       "        vertical-align: middle;\n",
       "    }\n",
       "\n",
       "    .dataframe tbody tr th {\n",
       "        vertical-align: top;\n",
       "    }\n",
       "\n",
       "    .dataframe thead th {\n",
       "        text-align: right;\n",
       "    }\n",
       "</style>\n",
       "<table border=\"1\" class=\"dataframe\">\n",
       "  <thead>\n",
       "    <tr style=\"text-align: right;\">\n",
       "      <th></th>\n",
       "      <th>tech_company</th>\n",
       "      <th>anonymity</th>\n",
       "      <th>benefits</th>\n",
       "      <th>care_options</th>\n",
       "      <th>coworkers</th>\n",
       "      <th>leave</th>\n",
       "      <th>seek_help</th>\n",
       "      <th>supervisor</th>\n",
       "      <th>treatment</th>\n",
       "      <th>wellness_program</th>\n",
       "      <th>summed_cols</th>\n",
       "    </tr>\n",
       "  </thead>\n",
       "  <tbody>\n",
       "    <tr>\n",
       "      <th>0</th>\n",
       "      <td>1</td>\n",
       "      <td>2</td>\n",
       "      <td>2</td>\n",
       "      <td>0</td>\n",
       "      <td>1</td>\n",
       "      <td>1</td>\n",
       "      <td>2</td>\n",
       "      <td>2</td>\n",
       "      <td>2</td>\n",
       "      <td>-2</td>\n",
       "      <td>10</td>\n",
       "    </tr>\n",
       "    <tr>\n",
       "      <th>2</th>\n",
       "      <td>1</td>\n",
       "      <td>0</td>\n",
       "      <td>-2</td>\n",
       "      <td>-2</td>\n",
       "      <td>2</td>\n",
       "      <td>-1</td>\n",
       "      <td>-2</td>\n",
       "      <td>2</td>\n",
       "      <td>-2</td>\n",
       "      <td>-2</td>\n",
       "      <td>-7</td>\n",
       "    </tr>\n",
       "    <tr>\n",
       "      <th>3</th>\n",
       "      <td>1</td>\n",
       "      <td>-2</td>\n",
       "      <td>-2</td>\n",
       "      <td>2</td>\n",
       "      <td>1</td>\n",
       "      <td>-1</td>\n",
       "      <td>-2</td>\n",
       "      <td>-2</td>\n",
       "      <td>2</td>\n",
       "      <td>-2</td>\n",
       "      <td>-6</td>\n",
       "    </tr>\n",
       "    <tr>\n",
       "      <th>4</th>\n",
       "      <td>1</td>\n",
       "      <td>0</td>\n",
       "      <td>2</td>\n",
       "      <td>-2</td>\n",
       "      <td>1</td>\n",
       "      <td>0</td>\n",
       "      <td>0</td>\n",
       "      <td>2</td>\n",
       "      <td>-2</td>\n",
       "      <td>0</td>\n",
       "      <td>1</td>\n",
       "    </tr>\n",
       "    <tr>\n",
       "      <th>5</th>\n",
       "      <td>1</td>\n",
       "      <td>0</td>\n",
       "      <td>2</td>\n",
       "      <td>0</td>\n",
       "      <td>2</td>\n",
       "      <td>0</td>\n",
       "      <td>0</td>\n",
       "      <td>2</td>\n",
       "      <td>-2</td>\n",
       "      <td>-2</td>\n",
       "      <td>2</td>\n",
       "    </tr>\n",
       "  </tbody>\n",
       "</table>\n",
       "</div>"
      ],
      "text/plain": [
       "   tech_company  anonymity  benefits  care_options  coworkers  leave  \\\n",
       "0             1          2         2             0          1      1   \n",
       "2             1          0        -2            -2          2     -1   \n",
       "3             1         -2        -2             2          1     -1   \n",
       "4             1          0         2            -2          1      0   \n",
       "5             1          0         2             0          2      0   \n",
       "\n",
       "   seek_help  supervisor  treatment  wellness_program  summed_cols  \n",
       "0          2           2          2                -2           10  \n",
       "2         -2           2         -2                -2           -7  \n",
       "3         -2          -2          2                -2           -6  \n",
       "4          0           2         -2                 0            1  \n",
       "5          0           2         -2                -2            2  "
      ]
     },
     "execution_count": 35,
     "metadata": {},
     "output_type": "execute_result"
    }
   ],
   "source": [
    "tech_company_help['summed_cols'] = tech_company_help.drop('tech_company', axis=1).sum(axis=1)\n",
    "tech_company_help.head()"
   ]
  },
  {
   "cell_type": "code",
   "execution_count": 36,
   "metadata": {},
   "outputs": [
    {
     "data": {
      "text/html": [
       "<div>\n",
       "<style scoped>\n",
       "    .dataframe tbody tr th:only-of-type {\n",
       "        vertical-align: middle;\n",
       "    }\n",
       "\n",
       "    .dataframe tbody tr th {\n",
       "        vertical-align: top;\n",
       "    }\n",
       "\n",
       "    .dataframe thead th {\n",
       "        text-align: right;\n",
       "    }\n",
       "</style>\n",
       "<table border=\"1\" class=\"dataframe\">\n",
       "  <thead>\n",
       "    <tr style=\"text-align: right;\">\n",
       "      <th></th>\n",
       "      <th>tech_company</th>\n",
       "      <th>anonymity</th>\n",
       "      <th>benefits</th>\n",
       "      <th>care_options</th>\n",
       "      <th>coworkers</th>\n",
       "      <th>leave</th>\n",
       "      <th>seek_help</th>\n",
       "      <th>supervisor</th>\n",
       "      <th>treatment</th>\n",
       "      <th>wellness_program</th>\n",
       "      <th>summed_cols</th>\n",
       "      <th>overall_MH_experience</th>\n",
       "    </tr>\n",
       "  </thead>\n",
       "  <tbody>\n",
       "    <tr>\n",
       "      <th>0</th>\n",
       "      <td>1</td>\n",
       "      <td>2</td>\n",
       "      <td>2</td>\n",
       "      <td>0</td>\n",
       "      <td>1</td>\n",
       "      <td>1</td>\n",
       "      <td>2</td>\n",
       "      <td>2</td>\n",
       "      <td>2</td>\n",
       "      <td>-2</td>\n",
       "      <td>10</td>\n",
       "      <td>Positive</td>\n",
       "    </tr>\n",
       "  </tbody>\n",
       "</table>\n",
       "</div>"
      ],
      "text/plain": [
       "   tech_company  anonymity  benefits  care_options  coworkers  leave  \\\n",
       "0             1          2         2             0          1      1   \n",
       "\n",
       "   seek_help  supervisor  treatment  wellness_program  summed_cols  \\\n",
       "0          2           2          2                -2           10   \n",
       "\n",
       "  overall_MH_experience  \n",
       "0              Positive  "
      ]
     },
     "execution_count": 36,
     "metadata": {},
     "output_type": "execute_result"
    }
   ],
   "source": [
    "#made a function to convert the experiences to the according strings of positive, negative, or neutral\n",
    "def calc_experience(x):\n",
    "    if x > 0:\n",
    "        return 'Positive'\n",
    "    elif x < 0:\n",
    "        return 'Negative'\n",
    "    else:\n",
    "        return 'Neutral'\n",
    "\n",
    "    #applied the function and made a new column with the new values\n",
    "tech_company_help['overall_MH_experience'] = tech_company_help['summed_cols'].apply(calc_experience)\n",
    "#can see that it worked below\n",
    "tech_company_help.head(1)"
   ]
  },
  {
   "cell_type": "markdown",
   "metadata": {},
   "source": [
    "From what is shown below, it seems that overall people had slightly more positive experiences than negative, but it seemed to be a fine balance between positive vs negative experiences from company's support for mental health."
   ]
  },
  {
   "cell_type": "code",
   "execution_count": 37,
   "metadata": {},
   "outputs": [
    {
     "data": {
      "text/plain": [
       "Positive    1459\n",
       "Negative    1270\n",
       "Neutral      159\n",
       "Name: overall_MH_experience, dtype: int64"
      ]
     },
     "execution_count": 37,
     "metadata": {},
     "output_type": "execute_result"
    }
   ],
   "source": [
    "tech_company_help['overall_MH_experience'].value_counts()"
   ]
  },
  {
   "cell_type": "markdown",
   "metadata": {},
   "source": [
    "# Data Analysis & Results"
   ]
  },
  {
   "cell_type": "markdown",
   "metadata": {},
   "source": [
    "Which variables are the best predictors of the final mental health score and the overall mental health experience at a company? How effective is the size of a company at predicting either of these metrics?\n",
    "\n",
    "First lets take a look at our cleaned data, and its distribution:"
   ]
  },
  {
   "cell_type": "code",
   "execution_count": 38,
   "metadata": {
    "collapsed": true
   },
   "outputs": [],
   "source": [
    "distribution_of_values = tech_company_help['summed_cols'].value_counts()"
   ]
  },
  {
   "cell_type": "code",
   "execution_count": 96,
   "metadata": {},
   "outputs": [
    {
     "data": {
      "image/png": "[encoded data removed]",
      "text/plain": [
       "<Figure size 720x720 with 1 Axes>"
      ]
     },
     "execution_count": 96,
     "metadata": {},
     "output_type": "execute_result"
    }
   ],
   "source": [
    "fig, ax = plt.subplots(figsize = (10,10))\n",
    "ax.bar(distribution_of_values.index, distribution_of_values)\n",
    "ax.set_ylabel('Count')\n",
    "ax.set_xlabel('Score')\n",
    "ax.set_title('Distribution of Scores')\n",
    "tech_company_help.describe()\n",
    "plt.figure(1)"
   ]
  },
  {
   "cell_type": "markdown",
   "metadata": {},
   "source": [
    "As you can see from the graph above our data is very normally distributed, centering around a score of zero. This makes sense as zero represents an average score, not too good, not too bad. \n",
    "\n",
    "Now lets take a look at which variables are effective predictors of this final score. We know that the final score is made up of the summation of the individual scores of each column, using linear regression we want to see which column on its own best predicts a high score in other columns. For example does a company that scores highly for payed mental health leave on average also score highly in its other columns. Lets find out:"
   ]
  },
  {
   "cell_type": "code",
   "execution_count": 40,
   "metadata": {
    "collapsed": true
   },
   "outputs": [],
   "source": [
    "import statsmodels.api as sm"
   ]
  },
  {
   "cell_type": "code",
   "execution_count": 41,
   "metadata": {
    "collapsed": true
   },
   "outputs": [],
   "source": [
    "holder = {}\n",
    "y = tech_company_help[\"summed_cols\"] #Predicted column\n",
    "\n",
    "\n",
    "for i in tech_company_help.columns: #Loop through columns to see which one scores the highest\n",
    "    \n",
    "    if i == \"summed_cols\": #Ignore the final column\n",
    "        break  \n",
    "        \n",
    "    X = tech_company_help[i]\n",
    "    model = sm.OLS(y, X).fit()\n",
    "    predictions = model.predict(X)\n",
    "    \n",
    "    holder[i] = model.rsquared # We use r-squared as our evaluation metric"
   ]
  },
  {
   "cell_type": "code",
   "execution_count": 42,
   "metadata": {},
   "outputs": [
    {
     "data": {
      "text/plain": [
       "tech_company        0.000000\n",
       "treatment           0.186111\n",
       "leave               0.187477\n",
       "wellness_program    0.190402\n",
       "coworkers           0.262628\n",
       "anonymity           0.273046\n",
       "seek_help           0.293013\n",
       "supervisor          0.294179\n",
       "care_options        0.298957\n",
       "benefits            0.388871\n",
       "dtype: float64"
      ]
     },
     "execution_count": 42,
     "metadata": {},
     "output_type": "execute_result"
    }
   ],
   "source": [
    "pd.Series(holder).sort_values()"
   ]
  },
  {
   "cell_type": "markdown",
   "metadata": {},
   "source": [
    "Based off of the linear model we can see that benifits is the best predictor of the total score, hence companies that provide mental health benefits as part of healthcare coverage typically score higher in all the other columns regarding the company's mental health culture.\n",
    "\n",
    "Now lets explore the effectiveness of company size, as a predictor of the company's mental health culture:\n",
    "\n"
   ]
  },
  {
   "cell_type": "code",
   "execution_count": 43,
   "metadata": {},
   "outputs": [
    {
     "data": {
      "text/plain": [
       "4.0    1342\n",
       "3.0     699\n",
       "2.0     614\n",
       "1.0     233\n",
       "Name: num_employees, dtype: int64"
      ]
     },
     "execution_count": 43,
     "metadata": {},
     "output_type": "execute_result"
    }
   ],
   "source": [
    "#Distribution of responses by company size\n",
    "fulldf_tech_only = fulldf.query('tech_company == 1.0')\n",
    "fulldf_tech_only[\"num_employees\"].value_counts()"
   ]
  },
  {
   "cell_type": "code",
   "execution_count": 44,
   "metadata": {},
   "outputs": [
    {
     "data": {
      "text/plain": [
       "0.04805315954152156"
      ]
     },
     "execution_count": 44,
     "metadata": {},
     "output_type": "execute_result"
    }
   ],
   "source": [
    "y = tech_company_help[\"summed_cols\"]\n",
    "X = fulldf_tech_only[\"num_employees\"]\n",
    "\n",
    "model = sm.OLS(y, X).fit()\n",
    "predictions = model.predict(X)\n",
    "model.rsquared"
   ]
  },
  {
   "cell_type": "markdown",
   "metadata": {},
   "source": [
    "As we can see from the r-squared score above, the size of the company isn't an effective metric to evaluate the final mental health score, especially when compaired to mental health benefits as part of healthcare coverage as a predictor. The size of the company is on a range of [1,2,3,4] whereas the benifits attribute is on a range of [-2,-1,0,1,2]. \n",
    "\n",
    "Maybe the range advantage benifits has makes it a better predictor. Lets see how the effectiveness of our attributes change when we evaluate on the binned \"overall mental health experience\":"
   ]
  },
  {
   "cell_type": "code",
   "execution_count": 45,
   "metadata": {
    "collapsed": true
   },
   "outputs": [],
   "source": [
    "#Replace strings with ints\n",
    "overall = tech_company_help['overall_MH_experience'].replace(\"Positive\", 1).replace(\"Negative\", -1).replace(\"Neutral\", 1)"
   ]
  },
  {
   "cell_type": "code",
   "execution_count": 46,
   "metadata": {},
   "outputs": [
    {
     "data": {
      "text/plain": [
       "0.032169104604203635"
      ]
     },
     "execution_count": 46,
     "metadata": {},
     "output_type": "execute_result"
    }
   ],
   "source": [
    "y = overall\n",
    "X = fulldf_tech_only[\"num_employees\"]\n",
    "model = sm.OLS(y, X).fit()\n",
    "predictions = model.predict(X)\n",
    "model.rsquared"
   ]
  },
  {
   "cell_type": "markdown",
   "metadata": {},
   "source": [
    "As you can see from the r-squared score above, the number of employees in a company still isn't a good predictor for a company's mental health rating.\n",
    "\n",
    "If we are using \"overall mental health experience\" as our score however the question becomes more of a classification problem. Hence lets explore prediction through a random forest model:"
   ]
  },
  {
   "cell_type": "code",
   "execution_count": 47,
   "metadata": {},
   "outputs": [
    {
     "name": "stderr",
     "output_type": "stream",
     "text": [
      "/Users/colerichmond/anaconda3/lib/python3.6/site-packages/sklearn/ensemble/weight_boosting.py:29: DeprecationWarning: numpy.core.umath_tests is an internal NumPy module and should not be imported. It will be removed in a future NumPy release.\n",
      "  from numpy.core.umath_tests import inner1d\n"
     ]
    }
   ],
   "source": [
    "from sklearn.ensemble import RandomForestRegressor\n",
    "from sklearn.model_selection import train_test_split\n",
    "import numpy as np\n"
   ]
  },
  {
   "cell_type": "code",
   "execution_count": 48,
   "metadata": {
    "collapsed": true
   },
   "outputs": [],
   "source": [
    "#Lets add the number of employees collumn back into our evaluation dataframe\n",
    "tech_company_help['num_employees'] = fulldf_tech_only[\"num_employees\"]"
   ]
  },
  {
   "cell_type": "markdown",
   "metadata": {},
   "source": [
    "Lets start with predicting the summed score:"
   ]
  },
  {
   "cell_type": "code",
   "execution_count": 49,
   "metadata": {
    "collapsed": true
   },
   "outputs": [],
   "source": [
    "# Variables for use in our model\n",
    "variables = ['anonymity', 'benefits', 'care_options', 'coworkers',\n",
    "       'leave', 'seek_help', 'supervisor', 'treatment', 'wellness_program', 'num_employees']\n",
    "\n",
    "tract_data = tech_company_help.dropna(subset=['summed_cols'])\n",
    "X = tract_data[variables] # all the different predictor variables\n",
    "y = tract_data['summed_cols'] # score column\n",
    "\n",
    "#Splitting the data into a 67-33 split\n",
    "X_train, X_test, y_train, y_test = train_test_split(X, y, test_size=0.33, random_state=42)"
   ]
  },
  {
   "cell_type": "code",
   "execution_count": 50,
   "metadata": {
    "collapsed": true
   },
   "outputs": [],
   "source": [
    "#creating the model\n",
    "regr = RandomForestRegressor(n_estimators=1000)"
   ]
  },
  {
   "cell_type": "code",
   "execution_count": 51,
   "metadata": {},
   "outputs": [
    {
     "data": {
      "text/plain": [
       "RandomForestRegressor(bootstrap=True, criterion='mse', max_depth=None,\n",
       "           max_features='auto', max_leaf_nodes=None,\n",
       "           min_impurity_decrease=0.0, min_impurity_split=None,\n",
       "           min_samples_leaf=1, min_samples_split=2,\n",
       "           min_weight_fraction_leaf=0.0, n_estimators=1000, n_jobs=1,\n",
       "           oob_score=False, random_state=None, verbose=0, warm_start=False)"
      ]
     },
     "execution_count": 51,
     "metadata": {},
     "output_type": "execute_result"
    }
   ],
   "source": [
    "#fitting the model\n",
    "regr.fit(X_train[variables], y_train)"
   ]
  },
  {
   "cell_type": "code",
   "execution_count": 52,
   "metadata": {},
   "outputs": [
    {
     "name": "stdout",
     "output_type": "stream",
     "text": [
      "R^2 on Train set: 0.9978966703324097\n",
      "R^2 on Test set: 0.9838491308835404\n"
     ]
    }
   ],
   "source": [
    "# Checking R^2 error values on Train and Test sets\n",
    "print(f\"R^2 on Train set: {regr.score(X_train[variables], y_train)}\")\n",
    "print(f\"R^2 on Test set: {regr.score(X_test[variables], y_test)}\")"
   ]
  },
  {
   "cell_type": "markdown",
   "metadata": {},
   "source": [
    "As we can see this model is very accurate, this makes sense because predicting the summed column is literally adding all of the columns together. We don't really care about this score, rather we care more about how the model weighted each individual attributein making its final prediction, this can be seen below:\n",
    "\n"
   ]
  },
  {
   "cell_type": "code",
   "execution_count": 53,
   "metadata": {},
   "outputs": [
    {
     "name": "stdout",
     "output_type": "stream",
     "text": [
      "Importance of variables for decision making:\n",
      " [['wellness_program' '0.3451014761712894']\n",
      " ['treatment' '0.18107833167693987']\n",
      " ['supervisor' '0.1415255456785429']\n",
      " ['seek_help' '0.08561975666432219']\n",
      " ['num_employees' '0.06952353260120661']\n",
      " ['leave' '0.06389211479256023']\n",
      " ['coworkers' '0.04858644851003181']\n",
      " ['care_options' '0.03426016598654506']\n",
      " ['benefits' '0.025600146507516453']\n",
      " ['anonymity' '0.004812481411045043']]\n"
     ]
    }
   ],
   "source": [
    "# Which explanatory variables played the major roles?\n",
    "#Here we can see the random forest classifier values wellness_program quite highly\n",
    "print(f\"\"\"Importance of variables for decision making:\\n {\n",
    "            np.sort([[variables[i], regr.feature_importances_[i]] for i in range(len(variables))], axis=0)[::-1]}\"\"\")"
   ]
  },
  {
   "cell_type": "markdown",
   "metadata": {},
   "source": [
    "Clearly the model chose to weight wellness_program as quite important for evaluating the final score. Where as number of employees fell quite low. Interestingly enough benifits in this model is ranked second to last for its use in the random forest model, suggesting the benifits might be more effective as the only metric for predicting the mental health score of a company but when used in conjunction with other variables it becomes less important.\n",
    "\n",
    "Now lets see how this changes when instead we are predicting whetehr the overall mental health experience of the company was possitive, neutral, or negative:\n",
    "\n"
   ]
  },
  {
   "cell_type": "code",
   "execution_count": 54,
   "metadata": {
    "collapsed": true
   },
   "outputs": [],
   "source": [
    "variables = ['anonymity', 'benefits', 'care_options', 'coworkers',\n",
    "       'leave', 'seek_help', 'supervisor', 'treatment', 'wellness_program', \"num_employees\"]\n",
    "\n",
    "#replace with numeric values\n",
    "overall = tech_company_help['overall_MH_experience'].replace(\"Positive\", 1).replace(\"Negative\", -1).replace(\"Neutral\", 1)\n",
    "\n",
    "X = tract_data[variables]\n",
    "y = overall\n",
    "\n",
    "X_train, X_test, y_train, y_test = train_test_split(X, y, test_size=0.33, random_state=42)"
   ]
  },
  {
   "cell_type": "code",
   "execution_count": 55,
   "metadata": {
    "collapsed": true
   },
   "outputs": [],
   "source": [
    "#creating the model\n",
    "regr = RandomForestRegressor(n_estimators=1000)"
   ]
  },
  {
   "cell_type": "code",
   "execution_count": 56,
   "metadata": {},
   "outputs": [
    {
     "data": {
      "text/plain": [
       "RandomForestRegressor(bootstrap=True, criterion='mse', max_depth=None,\n",
       "           max_features='auto', max_leaf_nodes=None,\n",
       "           min_impurity_decrease=0.0, min_impurity_split=None,\n",
       "           min_samples_leaf=1, min_samples_split=2,\n",
       "           min_weight_fraction_leaf=0.0, n_estimators=1000, n_jobs=1,\n",
       "           oob_score=False, random_state=None, verbose=0, warm_start=False)"
      ]
     },
     "execution_count": 56,
     "metadata": {},
     "output_type": "execute_result"
    }
   ],
   "source": [
    "#fitting the model\n",
    "regr.fit(X_train[variables], y_train)"
   ]
  },
  {
   "cell_type": "code",
   "execution_count": 57,
   "metadata": {},
   "outputs": [
    {
     "name": "stdout",
     "output_type": "stream",
     "text": [
      "R^2 on Train set: 0.9785444279936107\n",
      "R^2 on Test set: 0.8798522893898456\n"
     ]
    }
   ],
   "source": [
    "# Checking R^2 error values on Train and Test sets\n",
    "print(f\"R^2 on Train set: {regr.score(X_train[variables], y_train)}\")\n",
    "print(f\"R^2 on Test set: {regr.score(X_test[variables], y_test)}\")"
   ]
  },
  {
   "cell_type": "markdown",
   "metadata": {},
   "source": [
    "As you can see the score on the test set dropped a little bit, this makes sense though as the model can't just add all the values together like in the previous example. In this case the model has to draw a correlation between a medium scoring company and whether it is classified as neutral or possitive, a cut off point we the user knows but where the model doesn't precisely know. In this case the model got pretty good at understanding that high scores are possitive and low scores are negative but likely struggled with the fringe cases such as whetehr an experience was negative or neutral ect.\n",
    "\n"
   ]
  },
  {
   "cell_type": "code",
   "execution_count": 58,
   "metadata": {},
   "outputs": [
    {
     "name": "stdout",
     "output_type": "stream",
     "text": [
      "Importance of variables for decision making:\n",
      " [['wellness_program' '0.2815067013816242']\n",
      " ['treatment' '0.14185485263157507']\n",
      " ['supervisor' '0.11373013207206409']\n",
      " ['seek_help' '0.08546636715618586']\n",
      " ['num_employees' '0.08213172505151253']\n",
      " ['leave' '0.0819511706706362']\n",
      " ['coworkers' '0.07328193666144837']\n",
      " ['care_options' '0.0700563288611046']\n",
      " ['benefits' '0.04848461970883014']\n",
      " ['anonymity' '0.021536165805018853']]\n"
     ]
    }
   ],
   "source": [
    "# Which explanatory variables played the major roles?\n",
    "#Here we can see the random forest classifier values wellness_program quite highly\n",
    "print(f\"\"\"Importance of variables for decision making:\\n {\n",
    "            np.sort([[variables[i], regr.feature_importances_[i]] for i in range(len(variables))], axis=0)[::-1]}\"\"\")"
   ]
  },
  {
   "cell_type": "markdown",
   "metadata": {},
   "source": [
    "Here we can clearly see wellness_program is still the front runner in its contribution to the predictive success of the model. The order hasn't changed much however the model is now better distributing the predictive weight across other attributes. Although number off employees has seen a minor boost in its weighting, it still doesn't seem like an effecive metric for evaluating the mental health experience of employees within there company. Hence through our use of regression and classification models we can see that the size of the company (By number of employees) doesn't correlate to the quality of mental health experienced by the employees, rather metrics such as providing mental health benefits as part of healthcare coverage or discussing mental health as part of an employee wellness program.\n",
    "\n"
   ]
  },
  {
   "cell_type": "markdown",
   "metadata": {},
   "source": [
    "## Glassdoor Sentiment Analysis"
   ]
  },
  {
   "cell_type": "markdown",
   "metadata": {},
   "source": [
    "&nbsp;&nbsp;&nbsp;&nbsp; After taking a look at what people consider to be the most important features of a company as it related to their mental and physcial well-being, we thought it would be helpful to aquire reviews from a source that doesn't focus strictly on mental and physcial health. For us, that source is *Glassdoor*. This site allows both current and former employees to anonymously review their employers. We hope to use these reviews, in conjunction with their respective ratings, to interpret and classify the emotion within review text data using text analysis techniques seen in lecture. If we are able to identify patterns in the positive or negative sentiments of a company, we can then compare their respective ratings with the scores we found above to see if similarities exist across our various sources.\n",
    "\n",
    "&nbsp;&nbsp;&nbsp;&nbsp; We'll begin by creating a function to extract the following features from an employee's review. Each review left by an employee looks something like this:\n",
    "<br /> \n",
    "<br />\n",
    "\n",
    "\n",
    "<div style=\"text-align:center\"><img src=\"imgs/glassdoor_review.png\" ,width=\"800\" /></div>\n",
    "\n",
    "<br /> \n",
    "\n",
    "&nbsp;&nbsp;&nbsp;&nbsp; In addition to the overall rating given to a company by an employee they can also leave sub-ratings for the following features:\n",
    "\n",
    "- *Work/Life Balance*\n",
    "- *Culture & Values*\n",
    "- *Career Opportunities*\n",
    "- *Compensation & Benefits*\n",
    "- *Senior Management*\n",
    "\n",
    "&nbsp;&nbsp;&nbsp;&nbsp; The following function (`review_scraper`) grabs all of the necessary attributes of a rating assuming they are available:"
   ]
  },
  {
   "cell_type": "code",
   "execution_count": 59,
   "metadata": {
    "collapsed": true
   },
   "outputs": [],
   "source": [
    "def review_scraper(url):\n",
    "    \n",
    "    # make global dataframe variable\n",
    "    global data\n",
    "    \n",
    "    # initialize lists for ratings\n",
    "    work_life_balance = []\n",
    "    culture_values = []\n",
    "    career_opportunities = []\n",
    "    comp_benefits = []\n",
    "    senior_management = [] \n",
    "    \n",
    "    # make glassdoor request\n",
    "    hdr = {'User-Agent': 'Mozilla/5.0'}\n",
    "    req = Request(url,headers=hdr)\n",
    "    page = urlopen(req)\n",
    "    soup = BeautifulSoup(page, 'html.parser')\n",
    "    \n",
    "    # grab overall rating\n",
    "    value_title = soup.find_all('span', attrs = {'class':'value-title'})\n",
    "    value_title_clean = []\n",
    "    for x in value_title:\n",
    "        value_title_clean.append(float(x['title']))\n",
    "    \n",
    "    # grab sub-ratings\n",
    "    sub_ratings = soup.find_all('div', attrs = {'class':'subRatings module stars__StarsStyles__subRatings'})\n",
    "    for subrating in sub_ratings:\n",
    "        rating_cat=subrating.find_all('div', attrs = {'class':'minor'})\n",
    "        rating_cat_clean = []\n",
    "        \n",
    "        for x in rating_cat:\n",
    "            rating_cat_clean.append(x.text.replace('/', \" \"))\n",
    "            \n",
    "        rating_val=subrating.find_all('span', attrs = {'class':'gdBars gdRatings med'})\n",
    "        rating_val_clean = []\n",
    "        \n",
    "        for x in rating_val:\n",
    "            rating_val_clean.append(float(x['title']))\n",
    "        \n",
    "        # check for 'Work Life Balance' rating\n",
    "        try:\n",
    "            index = rating_cat_clean.index('Work Life Balance')\n",
    "        except ValueError:\n",
    "            index = -1\n",
    "        rating_value = work_life_balance.append(None) if index == -1 else work_life_balance.append(float(rating_val_clean[index]))\n",
    "        \n",
    "        # check for 'Culture & Values' rating\n",
    "        try:\n",
    "            index = rating_cat_clean.index('Culture & Values')\n",
    "        except ValueError:\n",
    "            index = -1\n",
    "        rating_value = culture_values.append(None) if index == -1 else culture_values.append(float(rating_val_clean[index]))\n",
    "        \n",
    "        # check for 'Career Opportunities' rating\n",
    "        try:\n",
    "            index = rating_cat_clean.index('Career Opportunities')\n",
    "        except ValueError:\n",
    "            index = -1\n",
    "        rating_value = career_opportunities.append(None) if index == -1 else career_opportunities.append(float(rating_val_clean[index]))\n",
    "        \n",
    "        # check for 'Compensation and Benefits' rating\n",
    "        try:\n",
    "            index = rating_cat_clean.index('Compensation and Benefits')\n",
    "        except ValueError:\n",
    "            index = -1\n",
    "        rating_value = comp_benefits.append(None) if index == -1 else comp_benefits.append(float(rating_val_clean[index]))\n",
    "        \n",
    "        # check for 'Senior Management' rating\n",
    "        try:\n",
    "            index = rating_cat_clean.index('Senior Management')\n",
    "        except ValueError:\n",
    "            index = -1\n",
    "        rating_value = senior_management.append(None) if index == -1 else senior_management.append(float(rating_val_clean[index]))\n",
    "\n",
    "    # grab pros and cons given in each rating\n",
    "    pros_and_cons = soup.find_all('p', attrs = {'class':\"mt-0 mb-xsm v2__EIReviewDetailsV2__bodyColor v2__EIReviewDetailsV2__lineHeightLarge \"})\n",
    "    pros = []\n",
    "    cons = []\n",
    "    for i, x in zip(range(len(pros_and_cons)), pros_and_cons):\n",
    "        if (i % 2) == 0:\n",
    "            pros.append(x.text) \n",
    "        else:\n",
    "            cons.append(x.text) \n",
    "            \n",
    "    interim_data = pd.DataFrame(list(zip(value_title_clean, \n",
    "                                         work_life_balance, \n",
    "                                         culture_values, \n",
    "                                         career_opportunities, \n",
    "                                         comp_benefits, \n",
    "                                         senior_management, \n",
    "                                         pros, \n",
    "                                         cons)), columns = ['overall_rating', \n",
    "                                                            'work_life_balance', \n",
    "                                                            'culture_values', \n",
    "                                                            'career_opportunities', \n",
    "                                                            'comp_benefits', \n",
    "                                                            'senior_management', \n",
    "                                                            'pros', \n",
    "                                                            'cons'])\n",
    "    \n",
    "    data=data.append(interim_data)\n",
    "    \n",
    "    time.sleep(30)\n",
    "    \n",
    "    return data"
   ]
  },
  {
   "cell_type": "markdown",
   "metadata": {},
   "source": [
    "&nbsp;&nbsp;&nbsp;&nbsp; Additionally, we created the following function to grab the most common words from the set of reviews."
   ]
  },
  {
   "cell_type": "code",
   "execution_count": 60,
   "metadata": {
    "collapsed": true
   },
   "outputs": [],
   "source": [
    "def top_words(data, column, count):\n",
    "    \n",
    "    series = data[column].str.split()\n",
    "    \n",
    "    corpus = [st for row in series for st in row]\n",
    "    \n",
    "    no_cap = [word.lower().strip() for word in corpus]\n",
    "    \n",
    "    filtered = [word for word in no_cap if word not in stoplist]\n",
    "    \n",
    "    table = str.maketrans('', '', string.punctuation)\n",
    "    \n",
    "    stripped = [w.translate(table) for w in filtered]\n",
    "    \n",
    "    counts = Counter(stripped).most_common(count)\n",
    "    \n",
    "    return counts"
   ]
  },
  {
   "cell_type": "code",
   "execution_count": 61,
   "metadata": {
    "collapsed": true
   },
   "outputs": [],
   "source": [
    "# for later use in viz\n",
    "overall_rating_list = []\n",
    "work_life_balance_list = []\n",
    "culture_values_list = []\n",
    "career_opportunities_list = []\n",
    "comp_benefits_list = []\n",
    "senior_management_list = []"
   ]
  },
  {
   "cell_type": "markdown",
   "metadata": {},
   "source": [
    "&nbsp;&nbsp;&nbsp;&nbsp; We have also created a function to display summary statistics for each company we analyze."
   ]
  },
  {
   "cell_type": "code",
   "execution_count": 62,
   "metadata": {
    "collapsed": true
   },
   "outputs": [],
   "source": [
    "def summary_stats(company, data):\n",
    "    \n",
    "    overall_rating_mean = data.overall_rating.mean()\n",
    "    overall_rating_list.append(overall_rating_mean)\n",
    "    \n",
    "    work_life_balance_mean = data.work_life_balance.mean()\n",
    "    work_life_balance_list.append(work_life_balance_mean)\n",
    "    \n",
    "    culture_values_mean = data.culture_values.mean()\n",
    "    culture_values_list.append(culture_values_mean)\n",
    "    \n",
    "    career_opportunities_mean = data.career_opportunities.mean()\n",
    "    career_opportunities_list.append(career_opportunities_mean)\n",
    "    \n",
    "    comp_benefits_mean = data.comp_benefits.mean()\n",
    "    comp_benefits_list.append(comp_benefits_mean)\n",
    "    \n",
    "    senior_management_mean = data.senior_management.mean()\n",
    "    senior_management_list.append(senior_management_mean)\n",
    "    \n",
    "    pros_summary = top_words(data, 'pros', 10)\n",
    "    \n",
    "    cons_summary = top_words(data, 'cons', 10)\n",
    "    \n",
    "    print(company + ' Summary Statistics: \\n \\n \\\n",
    "          Overall Rating: ' + str(round(overall_rating_mean, 2)) + '\\n \\\n",
    "          Work/Life Balance: ' + str(round(work_life_balance_mean, 2)) + '\\n \\\n",
    "          Culture Values: ' + str(round(culture_values_mean, 2)) + '\\n \\\n",
    "          Career Opportunities: ' + str(round(career_opportunities_mean, 2)) + '\\n \\\n",
    "          Company Benefits: ' + str(round(comp_benefits_mean, 2)) + '\\n \\\n",
    "          Senior Management: ' + str(round(senior_management_mean, 2)) + '\\n')\n",
    "    \n",
    "    print('Top `Pros`:')\n",
    "    \n",
    "    print([tup[0] for tup in top_words(data, 'pros', 10)])\n",
    "    \n",
    "    print('\\n')\n",
    "    \n",
    "    print('Top `Cons`:')\n",
    "    \n",
    "    print([tup[0] for tup in top_words(data, 'cons', 10)])"
   ]
  },
  {
   "cell_type": "markdown",
   "metadata": {},
   "source": [
    "&nbsp;&nbsp;&nbsp;&nbsp; At this point, we're ready to start looking at reviews of different companies. We'll see if attributes such as the size of company or benefits they offer appear in the reviews and what impact they have on the given ratings. For the sake of runtime, we'll check only the fist ten pages of reviews which each conain ten reviews. "
   ]
  },
  {
   "cell_type": "markdown",
   "metadata": {},
   "source": [
    "##### Amazon\n",
    "\n",
    "**Size**: 10,000+ Employees\n",
    "<br \\>\n",
    "**Revenue**: $10+ Billion (USD) / Year\n",
    "<br \\>\n",
    "**Industry**: Internet"
   ]
  },
  {
   "cell_type": "code",
   "execution_count": 63,
   "metadata": {
    "collapsed": true
   },
   "outputs": [],
   "source": [
    "data = pd.DataFrame(columns = ['overall_rating', \n",
    "                               'work_life_balance', \n",
    "                               'culture_values', \n",
    "                               'career_opportunities', \n",
    "                               'comp_benefits', \n",
    "                               'senior_management', \n",
    "                               'pros', \n",
    "                               'cons'])\n",
    "\n",
    "for x in range(1,11):\n",
    "    \n",
    "    url = 'https://www.glassdoor.com/Reviews/Amazon-Reviews-E6036_P'+str(x)+'.htm'\n",
    "    \n",
    "    review_scraper(url)\n",
    "    \n",
    "    data = data.reset_index(drop=True)"
   ]
  },
  {
   "cell_type": "code",
   "execution_count": 64,
   "metadata": {},
   "outputs": [
    {
     "data": {
      "text/html": [
       "<div>\n",
       "<style scoped>\n",
       "    .dataframe tbody tr th:only-of-type {\n",
       "        vertical-align: middle;\n",
       "    }\n",
       "\n",
       "    .dataframe tbody tr th {\n",
       "        vertical-align: top;\n",
       "    }\n",
       "\n",
       "    .dataframe thead th {\n",
       "        text-align: right;\n",
       "    }\n",
       "</style>\n",
       "<table border=\"1\" class=\"dataframe\">\n",
       "  <thead>\n",
       "    <tr style=\"text-align: right;\">\n",
       "      <th></th>\n",
       "      <th>overall_rating</th>\n",
       "      <th>work_life_balance</th>\n",
       "      <th>culture_values</th>\n",
       "      <th>career_opportunities</th>\n",
       "      <th>comp_benefits</th>\n",
       "      <th>senior_management</th>\n",
       "      <th>pros</th>\n",
       "      <th>cons</th>\n",
       "    </tr>\n",
       "  </thead>\n",
       "  <tbody>\n",
       "    <tr>\n",
       "      <th>0</th>\n",
       "      <td>3.9</td>\n",
       "      <td>3.0</td>\n",
       "      <td>5.0</td>\n",
       "      <td>5.0</td>\n",
       "      <td>4.0</td>\n",
       "      <td>4.0</td>\n",
       "      <td>amazing company and growth opportunities</td>\n",
       "      <td>fast-paced and high-intensity environment, you...</td>\n",
       "    </tr>\n",
       "    <tr>\n",
       "      <th>1</th>\n",
       "      <td>5.0</td>\n",
       "      <td>4.0</td>\n",
       "      <td>5.0</td>\n",
       "      <td>5.0</td>\n",
       "      <td>5.0</td>\n",
       "      <td>5.0</td>\n",
       "      <td>Really smart people, a lot of opportunity for ...</td>\n",
       "      <td>You have to be self motivated. NO ONE will hol...</td>\n",
       "    </tr>\n",
       "    <tr>\n",
       "      <th>2</th>\n",
       "      <td>5.0</td>\n",
       "      <td>3.0</td>\n",
       "      <td>3.0</td>\n",
       "      <td>3.0</td>\n",
       "      <td>4.0</td>\n",
       "      <td>4.0</td>\n",
       "      <td>Jeff Bezos and his \"S-Team\" are brilliant and ...</td>\n",
       "      <td>The management process is abusive, and I'm cur...</td>\n",
       "    </tr>\n",
       "    <tr>\n",
       "      <th>3</th>\n",
       "      <td>3.0</td>\n",
       "      <td>3.0</td>\n",
       "      <td>4.0</td>\n",
       "      <td>5.0</td>\n",
       "      <td>5.0</td>\n",
       "      <td>5.0</td>\n",
       "      <td>- You can learn a lot very quickly in a very s...</td>\n",
       "      <td>- Can be overwhelming, very steep learning cur...</td>\n",
       "    </tr>\n",
       "    <tr>\n",
       "      <th>4</th>\n",
       "      <td>5.0</td>\n",
       "      <td>4.0</td>\n",
       "      <td>5.0</td>\n",
       "      <td>5.0</td>\n",
       "      <td>5.0</td>\n",
       "      <td>5.0</td>\n",
       "      <td>I've been at Amazon for a month now, and I've ...</td>\n",
       "      <td>No cons, so far - seriously. Like I said, I'm ...</td>\n",
       "    </tr>\n",
       "  </tbody>\n",
       "</table>\n",
       "</div>"
      ],
      "text/plain": [
       "   overall_rating  work_life_balance  culture_values  career_opportunities  \\\n",
       "0             3.9                3.0             5.0                   5.0   \n",
       "1             5.0                4.0             5.0                   5.0   \n",
       "2             5.0                3.0             3.0                   3.0   \n",
       "3             3.0                3.0             4.0                   5.0   \n",
       "4             5.0                4.0             5.0                   5.0   \n",
       "\n",
       "   comp_benefits  senior_management  \\\n",
       "0            4.0                4.0   \n",
       "1            5.0                5.0   \n",
       "2            4.0                4.0   \n",
       "3            5.0                5.0   \n",
       "4            5.0                5.0   \n",
       "\n",
       "                                                pros  \\\n",
       "0           amazing company and growth opportunities   \n",
       "1  Really smart people, a lot of opportunity for ...   \n",
       "2  Jeff Bezos and his \"S-Team\" are brilliant and ...   \n",
       "3  - You can learn a lot very quickly in a very s...   \n",
       "4  I've been at Amazon for a month now, and I've ...   \n",
       "\n",
       "                                                cons  \n",
       "0  fast-paced and high-intensity environment, you...  \n",
       "1  You have to be self motivated. NO ONE will hol...  \n",
       "2  The management process is abusive, and I'm cur...  \n",
       "3  - Can be overwhelming, very steep learning cur...  \n",
       "4  No cons, so far - seriously. Like I said, I'm ...  "
      ]
     },
     "execution_count": 64,
     "metadata": {},
     "output_type": "execute_result"
    }
   ],
   "source": [
    "data.head(5)"
   ]
  },
  {
   "cell_type": "markdown",
   "metadata": {},
   "source": [
    "*Summary Statistics*"
   ]
  },
  {
   "cell_type": "code",
   "execution_count": 65,
   "metadata": {},
   "outputs": [
    {
     "name": "stdout",
     "output_type": "stream",
     "text": [
      "Amazon Summary Statistics: \n",
      " \n",
      "           Overall Rating: 4.46\n",
      "           Work/Life Balance: 3.86\n",
      "           Culture Values: 4.21\n",
      "           Career Opportunities: 4.41\n",
      "           Company Benefits: 4.34\n",
      "           Senior Management: 3.76\n",
      "\n",
      "Top `Pros`:\n",
      "['work', 'great', 'good', '', 'company', 'pay', 'people', 'benefits', 'amazon', 'growth']\n",
      "\n",
      "\n",
      "Top `Cons`:\n",
      "['work', 'get', 'hours', 'company', 'hard', '', 'long', 'job', 'people', 'time']\n"
     ]
    }
   ],
   "source": [
    "summary_stats('Amazon', data)"
   ]
  },
  {
   "cell_type": "markdown",
   "metadata": {},
   "source": [
    "##### Facebook\n",
    "\n",
    "**Size**: 10,000+ Employees\n",
    "<br \\>\n",
    "**Revenue**: $10+ Billion (USD) / Year\n",
    "<br \\>\n",
    "**Industry**: Internet"
   ]
  },
  {
   "cell_type": "code",
   "execution_count": 66,
   "metadata": {
    "collapsed": true
   },
   "outputs": [],
   "source": [
    "data = pd.DataFrame(columns = ['overall_rating', \n",
    "                               'work_life_balance', \n",
    "                               'culture_values', \n",
    "                               'career_opportunities', \n",
    "                               'comp_benefits', \n",
    "                               'senior_management', \n",
    "                               'pros', \n",
    "                               'cons'])\n",
    "\n",
    "for x in range(1,11):\n",
    "    \n",
    "    url = 'https://www.glassdoor.com/Reviews/Facebook-Reviews-E40772_P'+str(x)+'.htm'\n",
    "    \n",
    "    review_scraper(url)\n",
    "    \n",
    "    data = data.reset_index(drop=True)"
   ]
  },
  {
   "cell_type": "code",
   "execution_count": 67,
   "metadata": {},
   "outputs": [
    {
     "data": {
      "text/html": [
       "<div>\n",
       "<style scoped>\n",
       "    .dataframe tbody tr th:only-of-type {\n",
       "        vertical-align: middle;\n",
       "    }\n",
       "\n",
       "    .dataframe tbody tr th {\n",
       "        vertical-align: top;\n",
       "    }\n",
       "\n",
       "    .dataframe thead th {\n",
       "        text-align: right;\n",
       "    }\n",
       "</style>\n",
       "<table border=\"1\" class=\"dataframe\">\n",
       "  <thead>\n",
       "    <tr style=\"text-align: right;\">\n",
       "      <th></th>\n",
       "      <th>overall_rating</th>\n",
       "      <th>work_life_balance</th>\n",
       "      <th>culture_values</th>\n",
       "      <th>career_opportunities</th>\n",
       "      <th>comp_benefits</th>\n",
       "      <th>senior_management</th>\n",
       "      <th>pros</th>\n",
       "      <th>cons</th>\n",
       "    </tr>\n",
       "  </thead>\n",
       "  <tbody>\n",
       "    <tr>\n",
       "      <th>0</th>\n",
       "      <td>4.4</td>\n",
       "      <td>5.0</td>\n",
       "      <td>5.0</td>\n",
       "      <td>5.0</td>\n",
       "      <td>5.0</td>\n",
       "      <td>5.0</td>\n",
       "      <td>I have worked at lots of other companies and t...</td>\n",
       "      <td>Sometimes there are just too many things going...</td>\n",
       "    </tr>\n",
       "    <tr>\n",
       "      <th>1</th>\n",
       "      <td>5.0</td>\n",
       "      <td>4.0</td>\n",
       "      <td>4.0</td>\n",
       "      <td>5.0</td>\n",
       "      <td>5.0</td>\n",
       "      <td>4.0</td>\n",
       "      <td>Thank you for this feedback. We're very happy ...</td>\n",
       "      <td>Perks, they care about employees even when the...</td>\n",
       "    </tr>\n",
       "    <tr>\n",
       "      <th>2</th>\n",
       "      <td>5.0</td>\n",
       "      <td>5.0</td>\n",
       "      <td>5.0</td>\n",
       "      <td>5.0</td>\n",
       "      <td>5.0</td>\n",
       "      <td>5.0</td>\n",
       "      <td>Every company has a few downsides, but they ca...</td>\n",
       "      <td>- Incredible benefits \\r\\n- Excellent compensa...</td>\n",
       "    </tr>\n",
       "    <tr>\n",
       "      <th>3</th>\n",
       "      <td>5.0</td>\n",
       "      <td>3.0</td>\n",
       "      <td>5.0</td>\n",
       "      <td>5.0</td>\n",
       "      <td>4.0</td>\n",
       "      <td>5.0</td>\n",
       "      <td>- If you don't learn to make the work life bal...</td>\n",
       "      <td>Thank you for the feedback. From the Life@ ben...</td>\n",
       "    </tr>\n",
       "    <tr>\n",
       "      <th>4</th>\n",
       "      <td>5.0</td>\n",
       "      <td>5.0</td>\n",
       "      <td>5.0</td>\n",
       "      <td>5.0</td>\n",
       "      <td>5.0</td>\n",
       "      <td>5.0</td>\n",
       "      <td>- Very compassionate leadership team. They tru...</td>\n",
       "      <td>- Most of the tools used by Facebook are inter...</td>\n",
       "    </tr>\n",
       "  </tbody>\n",
       "</table>\n",
       "</div>"
      ],
      "text/plain": [
       "   overall_rating  work_life_balance  culture_values  career_opportunities  \\\n",
       "0             4.4                5.0             5.0                   5.0   \n",
       "1             5.0                4.0             4.0                   5.0   \n",
       "2             5.0                5.0             5.0                   5.0   \n",
       "3             5.0                3.0             5.0                   5.0   \n",
       "4             5.0                5.0             5.0                   5.0   \n",
       "\n",
       "   comp_benefits  senior_management  \\\n",
       "0            5.0                5.0   \n",
       "1            5.0                4.0   \n",
       "2            5.0                5.0   \n",
       "3            4.0                5.0   \n",
       "4            5.0                5.0   \n",
       "\n",
       "                                                pros  \\\n",
       "0  I have worked at lots of other companies and t...   \n",
       "1  Thank you for this feedback. We're very happy ...   \n",
       "2  Every company has a few downsides, but they ca...   \n",
       "3  - If you don't learn to make the work life bal...   \n",
       "4  - Very compassionate leadership team. They tru...   \n",
       "\n",
       "                                                cons  \n",
       "0  Sometimes there are just too many things going...  \n",
       "1  Perks, they care about employees even when the...  \n",
       "2  - Incredible benefits \\r\\n- Excellent compensa...  \n",
       "3  Thank you for the feedback. From the Life@ ben...  \n",
       "4  - Most of the tools used by Facebook are inter...  "
      ]
     },
     "execution_count": 67,
     "metadata": {},
     "output_type": "execute_result"
    }
   ],
   "source": [
    "data.head(5)"
   ]
  },
  {
   "cell_type": "markdown",
   "metadata": {},
   "source": [
    "*Summary Statistics*"
   ]
  },
  {
   "cell_type": "code",
   "execution_count": 68,
   "metadata": {},
   "outputs": [
    {
     "name": "stdout",
     "output_type": "stream",
     "text": [
      "Facebook Summary Statistics: \n",
      " \n",
      "           Overall Rating: 4.34\n",
      "           Work/Life Balance: 3.86\n",
      "           Culture Values: 4.25\n",
      "           Career Opportunities: 4.27\n",
      "           Company Benefits: 4.71\n",
      "           Senior Management: 3.97\n",
      "\n",
      "Top `Pros`:\n",
      "['', 'work', 'great', 'benefits', 'good', 'company', 'people', 'perks', 'culture', 'team']\n",
      "\n",
      "\n",
      "Top `Cons`:\n",
      "['', 'work', 'team', 'people', 'company', 'sometimes', 'time', 'facebook', 'much', 'balance']\n"
     ]
    }
   ],
   "source": [
    "summary_stats('Facebook', data)"
   ]
  },
  {
   "cell_type": "markdown",
   "metadata": {},
   "source": [
    "##### Microsoft\n",
    "\n",
    "**Size**: 10,000+ Employees\n",
    "<br \\>\n",
    "**Revenue**: $10+ Billion (USD) / Year\n",
    "<br \\>\n",
    "**Industry**: Computer Hardware & Software"
   ]
  },
  {
   "cell_type": "code",
   "execution_count": 69,
   "metadata": {
    "collapsed": true
   },
   "outputs": [],
   "source": [
    "data = pd.DataFrame(columns = ['overall_rating', \n",
    "                               'work_life_balance', \n",
    "                               'culture_values', \n",
    "                               'career_opportunities', \n",
    "                               'comp_benefits', \n",
    "                               'senior_management', \n",
    "                               'pros', \n",
    "                               'cons'])\n",
    "\n",
    "for x in range(1,11):\n",
    "    \n",
    "    url = 'https://www.glassdoor.com/Reviews/Microsoft-Reviews-E1651_P'+str(x)+'.htm'\n",
    "    \n",
    "    review_scraper(url)\n",
    "    \n",
    "    data = data.reset_index(drop=True)"
   ]
  },
  {
   "cell_type": "code",
   "execution_count": 70,
   "metadata": {},
   "outputs": [
    {
     "data": {
      "text/html": [
       "<div>\n",
       "<style scoped>\n",
       "    .dataframe tbody tr th:only-of-type {\n",
       "        vertical-align: middle;\n",
       "    }\n",
       "\n",
       "    .dataframe tbody tr th {\n",
       "        vertical-align: top;\n",
       "    }\n",
       "\n",
       "    .dataframe thead th {\n",
       "        text-align: right;\n",
       "    }\n",
       "</style>\n",
       "<table border=\"1\" class=\"dataframe\">\n",
       "  <thead>\n",
       "    <tr style=\"text-align: right;\">\n",
       "      <th></th>\n",
       "      <th>overall_rating</th>\n",
       "      <th>work_life_balance</th>\n",
       "      <th>culture_values</th>\n",
       "      <th>career_opportunities</th>\n",
       "      <th>comp_benefits</th>\n",
       "      <th>senior_management</th>\n",
       "      <th>pros</th>\n",
       "      <th>cons</th>\n",
       "    </tr>\n",
       "  </thead>\n",
       "  <tbody>\n",
       "    <tr>\n",
       "      <th>0</th>\n",
       "      <td>4.2</td>\n",
       "      <td>4.0</td>\n",
       "      <td>3.0</td>\n",
       "      <td>5.0</td>\n",
       "      <td>5.0</td>\n",
       "      <td>4.0</td>\n",
       "      <td>Wide range of opportunities, overall compensat...</td>\n",
       "      <td>Large company and has some silo behavior. Not ...</td>\n",
       "    </tr>\n",
       "    <tr>\n",
       "      <th>1</th>\n",
       "      <td>5.0</td>\n",
       "      <td>4.0</td>\n",
       "      <td>2.0</td>\n",
       "      <td>2.0</td>\n",
       "      <td>4.0</td>\n",
       "      <td>NaN</td>\n",
       "      <td>1.  If you love tech, this is a great place.  ...</td>\n",
       "      <td>Brand on Your Resume:  After many years of los...</td>\n",
       "    </tr>\n",
       "    <tr>\n",
       "      <th>2</th>\n",
       "      <td>4.0</td>\n",
       "      <td>5.0</td>\n",
       "      <td>5.0</td>\n",
       "      <td>2.0</td>\n",
       "      <td>5.0</td>\n",
       "      <td>1.0</td>\n",
       "      <td>Flexibility ,  good culture, benefits, good mo...</td>\n",
       "      <td>Product mindset , too much structure, policita...</td>\n",
       "    </tr>\n",
       "    <tr>\n",
       "      <th>3</th>\n",
       "      <td>5.0</td>\n",
       "      <td>4.0</td>\n",
       "      <td>4.0</td>\n",
       "      <td>4.0</td>\n",
       "      <td>4.0</td>\n",
       "      <td>4.0</td>\n",
       "      <td>This company is a good place to work for</td>\n",
       "      <td>I don't see any cons while working here</td>\n",
       "    </tr>\n",
       "    <tr>\n",
       "      <th>4</th>\n",
       "      <td>5.0</td>\n",
       "      <td>4.0</td>\n",
       "      <td>4.0</td>\n",
       "      <td>3.0</td>\n",
       "      <td>3.0</td>\n",
       "      <td>3.0</td>\n",
       "      <td>Culture is awesome and energizing</td>\n",
       "      <td>Slow career growth if in the wrong group</td>\n",
       "    </tr>\n",
       "  </tbody>\n",
       "</table>\n",
       "</div>"
      ],
      "text/plain": [
       "   overall_rating  work_life_balance  culture_values  career_opportunities  \\\n",
       "0             4.2                4.0             3.0                   5.0   \n",
       "1             5.0                4.0             2.0                   2.0   \n",
       "2             4.0                5.0             5.0                   2.0   \n",
       "3             5.0                4.0             4.0                   4.0   \n",
       "4             5.0                4.0             4.0                   3.0   \n",
       "\n",
       "   comp_benefits  senior_management  \\\n",
       "0            5.0                4.0   \n",
       "1            4.0                NaN   \n",
       "2            5.0                1.0   \n",
       "3            4.0                4.0   \n",
       "4            3.0                3.0   \n",
       "\n",
       "                                                pros  \\\n",
       "0  Wide range of opportunities, overall compensat...   \n",
       "1  1.  If you love tech, this is a great place.  ...   \n",
       "2  Flexibility ,  good culture, benefits, good mo...   \n",
       "3           This company is a good place to work for   \n",
       "4                  Culture is awesome and energizing   \n",
       "\n",
       "                                                cons  \n",
       "0  Large company and has some silo behavior. Not ...  \n",
       "1  Brand on Your Resume:  After many years of los...  \n",
       "2  Product mindset , too much structure, policita...  \n",
       "3            I don't see any cons while working here  \n",
       "4           Slow career growth if in the wrong group  "
      ]
     },
     "execution_count": 70,
     "metadata": {},
     "output_type": "execute_result"
    }
   ],
   "source": [
    "data.head(5)"
   ]
  },
  {
   "cell_type": "markdown",
   "metadata": {},
   "source": [
    "*Summary Statistics*"
   ]
  },
  {
   "cell_type": "code",
   "execution_count": 71,
   "metadata": {},
   "outputs": [
    {
     "name": "stdout",
     "output_type": "stream",
     "text": [
      "Microsoft Summary Statistics: \n",
      " \n",
      "           Overall Rating: 4.35\n",
      "           Work/Life Balance: 4.11\n",
      "           Culture Values: 4.21\n",
      "           Career Opportunities: 4.24\n",
      "           Company Benefits: 4.24\n",
      "           Senior Management: 3.9\n",
      "\n",
      "Top `Pros`:\n",
      "['great', 'work', 'good', 'benefits', 'culture', 'balance', 'company', 'life', '', 'pay']\n",
      "\n",
      "\n",
      "Top `Cons`:\n",
      "['work', '', 'slow', 'sometimes', 'get', 'make', 'management', 'politics', 'still', 'career']\n"
     ]
    }
   ],
   "source": [
    "summary_stats('Microsoft', data)"
   ]
  },
  {
   "cell_type": "markdown",
   "metadata": {},
   "source": [
    "##### Viasat\n",
    "\n",
    "**Size**: 5001 to 10000 Employees\n",
    "<br \\>\n",
    "**Revenue**: \\$1 to \\$2 Billion (USD) / Year\n",
    "<br \\>\n",
    "**Industry**: Telecommunications Services"
   ]
  },
  {
   "cell_type": "code",
   "execution_count": 72,
   "metadata": {
    "collapsed": true
   },
   "outputs": [],
   "source": [
    "data = pd.DataFrame(columns = ['overall_rating', \n",
    "                               'work_life_balance', \n",
    "                               'culture_values', \n",
    "                               'career_opportunities', \n",
    "                               'comp_benefits', \n",
    "                               'senior_management', \n",
    "                               'pros', \n",
    "                               'cons'])\n",
    "\n",
    "for x in range(1,11):\n",
    "    \n",
    "    url = 'https://www.glassdoor.com/Reviews/Viasat-Reviews-E5500_P'+str(x)+'.htm'\n",
    "        \n",
    "    review_scraper(url)\n",
    "    \n",
    "    data = data.reset_index(drop=True)"
   ]
  },
  {
   "cell_type": "code",
   "execution_count": 73,
   "metadata": {},
   "outputs": [
    {
     "data": {
      "text/html": [
       "<div>\n",
       "<style scoped>\n",
       "    .dataframe tbody tr th:only-of-type {\n",
       "        vertical-align: middle;\n",
       "    }\n",
       "\n",
       "    .dataframe tbody tr th {\n",
       "        vertical-align: top;\n",
       "    }\n",
       "\n",
       "    .dataframe thead th {\n",
       "        text-align: right;\n",
       "    }\n",
       "</style>\n",
       "<table border=\"1\" class=\"dataframe\">\n",
       "  <thead>\n",
       "    <tr style=\"text-align: right;\">\n",
       "      <th></th>\n",
       "      <th>overall_rating</th>\n",
       "      <th>work_life_balance</th>\n",
       "      <th>culture_values</th>\n",
       "      <th>career_opportunities</th>\n",
       "      <th>comp_benefits</th>\n",
       "      <th>senior_management</th>\n",
       "      <th>pros</th>\n",
       "      <th>cons</th>\n",
       "    </tr>\n",
       "  </thead>\n",
       "  <tbody>\n",
       "    <tr>\n",
       "      <th>0</th>\n",
       "      <td>4.4</td>\n",
       "      <td>5.0</td>\n",
       "      <td>5.0</td>\n",
       "      <td>5.0</td>\n",
       "      <td>5.0</td>\n",
       "      <td>5.0</td>\n",
       "      <td>The company culture is unbeatable, executive l...</td>\n",
       "      <td>Viasat sets the standard high regarding their ...</td>\n",
       "    </tr>\n",
       "    <tr>\n",
       "      <th>1</th>\n",
       "      <td>5.0</td>\n",
       "      <td>5.0</td>\n",
       "      <td>5.0</td>\n",
       "      <td>5.0</td>\n",
       "      <td>4.0</td>\n",
       "      <td>NaN</td>\n",
       "      <td>Kudos for sharing your Viasat experience! We p...</td>\n",
       "      <td>Flexible work times.\\r\\nSmart people to work w...</td>\n",
       "    </tr>\n",
       "    <tr>\n",
       "      <th>2</th>\n",
       "      <td>5.0</td>\n",
       "      <td>5.0</td>\n",
       "      <td>2.0</td>\n",
       "      <td>2.0</td>\n",
       "      <td>4.0</td>\n",
       "      <td>1.0</td>\n",
       "      <td>Ambiguity of team structures/responsibilities</td>\n",
       "      <td>Thank you for taking the time to support us by...</td>\n",
       "    </tr>\n",
       "    <tr>\n",
       "      <th>3</th>\n",
       "      <td>2.0</td>\n",
       "      <td>5.0</td>\n",
       "      <td>5.0</td>\n",
       "      <td>5.0</td>\n",
       "      <td>5.0</td>\n",
       "      <td>5.0</td>\n",
       "      <td>Laid back, some coworkers are nice, good benefits</td>\n",
       "      <td>Poor pay, management plays favorites, company ...</td>\n",
       "    </tr>\n",
       "    <tr>\n",
       "      <th>4</th>\n",
       "      <td>2.0</td>\n",
       "      <td>4.0</td>\n",
       "      <td>4.0</td>\n",
       "      <td>5.0</td>\n",
       "      <td>4.0</td>\n",
       "      <td>4.0</td>\n",
       "      <td>Good company culture and benefits.</td>\n",
       "      <td>Ageism seems to be a growing problem. Company ...</td>\n",
       "    </tr>\n",
       "  </tbody>\n",
       "</table>\n",
       "</div>"
      ],
      "text/plain": [
       "   overall_rating  work_life_balance  culture_values  career_opportunities  \\\n",
       "0             4.4                5.0             5.0                   5.0   \n",
       "1             5.0                5.0             5.0                   5.0   \n",
       "2             5.0                5.0             2.0                   2.0   \n",
       "3             2.0                5.0             5.0                   5.0   \n",
       "4             2.0                4.0             4.0                   5.0   \n",
       "\n",
       "   comp_benefits  senior_management  \\\n",
       "0            5.0                5.0   \n",
       "1            4.0                NaN   \n",
       "2            4.0                1.0   \n",
       "3            5.0                5.0   \n",
       "4            4.0                4.0   \n",
       "\n",
       "                                                pros  \\\n",
       "0  The company culture is unbeatable, executive l...   \n",
       "1  Kudos for sharing your Viasat experience! We p...   \n",
       "2      Ambiguity of team structures/responsibilities   \n",
       "3  Laid back, some coworkers are nice, good benefits   \n",
       "4                 Good company culture and benefits.   \n",
       "\n",
       "                                                cons  \n",
       "0  Viasat sets the standard high regarding their ...  \n",
       "1  Flexible work times.\\r\\nSmart people to work w...  \n",
       "2  Thank you for taking the time to support us by...  \n",
       "3  Poor pay, management plays favorites, company ...  \n",
       "4  Ageism seems to be a growing problem. Company ...  "
      ]
     },
     "execution_count": 73,
     "metadata": {},
     "output_type": "execute_result"
    }
   ],
   "source": [
    "data.head(5)"
   ]
  },
  {
   "cell_type": "markdown",
   "metadata": {},
   "source": [
    "*Summary Statistics*"
   ]
  },
  {
   "cell_type": "code",
   "execution_count": 74,
   "metadata": {},
   "outputs": [
    {
     "name": "stdout",
     "output_type": "stream",
     "text": [
      "Viasat Summary Statistics: \n",
      " \n",
      "           Overall Rating: 4.38\n",
      "           Work/Life Balance: 4.57\n",
      "           Culture Values: 4.53\n",
      "           Career Opportunities: 4.11\n",
      "           Company Benefits: 4.28\n",
      "           Senior Management: 4.07\n",
      "\n",
      "Top `Pros`:\n",
      "['work', 'great', 'company', 'culture', 'employees', 'viasat', 'benefits', 'good', 'people', 'balance']\n",
      "\n",
      "\n",
      "Top `Cons`:\n",
      "['work', 'company', 'viasat', 'great', 'employees', 'people', 'culture', 'time', 'management', 'opportunities']\n"
     ]
    }
   ],
   "source": [
    "summary_stats('Viasat', data)"
   ]
  },
  {
   "cell_type": "markdown",
   "metadata": {},
   "source": [
    "##### ServiceNow\n",
    "\n",
    "**Size**: 5001 to 10000 Employees\n",
    "<br \\>\n",
    "**Revenue**: \\$2 to \\$5 Billion (USD) / Year\n",
    "<br \\>\n",
    "**Industry**: Enterprise Software & Network Solutions"
   ]
  },
  {
   "cell_type": "code",
   "execution_count": 75,
   "metadata": {
    "collapsed": true
   },
   "outputs": [],
   "source": [
    "data = pd.DataFrame(columns = ['overall_rating', \n",
    "                               'work_life_balance', \n",
    "                               'culture_values', \n",
    "                               'career_opportunities', \n",
    "                               'comp_benefits', \n",
    "                               'senior_management', \n",
    "                               'pros', \n",
    "                               'cons'])\n",
    "\n",
    "for x in range(1,11):\n",
    "    \n",
    "    url = 'https://www.glassdoor.com/Reviews/ServiceNow-Reviews-E403326_P'+str(x)+'.htm'\n",
    "        \n",
    "    review_scraper(url)\n",
    "    \n",
    "    data = data.reset_index(drop=True)"
   ]
  },
  {
   "cell_type": "code",
   "execution_count": 76,
   "metadata": {},
   "outputs": [
    {
     "data": {
      "text/html": [
       "<div>\n",
       "<style scoped>\n",
       "    .dataframe tbody tr th:only-of-type {\n",
       "        vertical-align: middle;\n",
       "    }\n",
       "\n",
       "    .dataframe tbody tr th {\n",
       "        vertical-align: top;\n",
       "    }\n",
       "\n",
       "    .dataframe thead th {\n",
       "        text-align: right;\n",
       "    }\n",
       "</style>\n",
       "<table border=\"1\" class=\"dataframe\">\n",
       "  <thead>\n",
       "    <tr style=\"text-align: right;\">\n",
       "      <th></th>\n",
       "      <th>overall_rating</th>\n",
       "      <th>work_life_balance</th>\n",
       "      <th>culture_values</th>\n",
       "      <th>career_opportunities</th>\n",
       "      <th>comp_benefits</th>\n",
       "      <th>senior_management</th>\n",
       "      <th>pros</th>\n",
       "      <th>cons</th>\n",
       "    </tr>\n",
       "  </thead>\n",
       "  <tbody>\n",
       "    <tr>\n",
       "      <th>0</th>\n",
       "      <td>3.5</td>\n",
       "      <td>5.0</td>\n",
       "      <td>5.0</td>\n",
       "      <td>5.0</td>\n",
       "      <td>5.0</td>\n",
       "      <td>5.0</td>\n",
       "      <td>1) ServiceNow hires great people, they're \"adu...</td>\n",
       "      <td>A lot of people who've been here 3-5+ years st...</td>\n",
       "    </tr>\n",
       "    <tr>\n",
       "      <th>1</th>\n",
       "      <td>5.0</td>\n",
       "      <td>5.0</td>\n",
       "      <td>5.0</td>\n",
       "      <td>5.0</td>\n",
       "      <td>4.0</td>\n",
       "      <td>5.0</td>\n",
       "      <td>We are grateful for - and humbled by - your re...</td>\n",
       "      <td>Teamwork, Resources and Management support. Wh...</td>\n",
       "    </tr>\n",
       "    <tr>\n",
       "      <th>2</th>\n",
       "      <td>5.0</td>\n",
       "      <td>5.0</td>\n",
       "      <td>5.0</td>\n",
       "      <td>5.0</td>\n",
       "      <td>5.0</td>\n",
       "      <td>5.0</td>\n",
       "      <td>Knowledge is spread across the organization wh...</td>\n",
       "      <td>Unlimited vacation/sick time\\r\\nUnlimited work...</td>\n",
       "    </tr>\n",
       "    <tr>\n",
       "      <th>3</th>\n",
       "      <td>5.0</td>\n",
       "      <td>4.0</td>\n",
       "      <td>5.0</td>\n",
       "      <td>5.0</td>\n",
       "      <td>4.0</td>\n",
       "      <td>5.0</td>\n",
       "      <td>Some departments are treated better than others</td>\n",
       "      <td>Love how humble the leaders and people are. Th...</td>\n",
       "    </tr>\n",
       "    <tr>\n",
       "      <th>4</th>\n",
       "      <td>5.0</td>\n",
       "      <td>2.0</td>\n",
       "      <td>1.0</td>\n",
       "      <td>5.0</td>\n",
       "      <td>4.0</td>\n",
       "      <td>2.0</td>\n",
       "      <td>It's high growth and fast-paced (which creates...</td>\n",
       "      <td>Good pay, good work environment, and opportuni...</td>\n",
       "    </tr>\n",
       "  </tbody>\n",
       "</table>\n",
       "</div>"
      ],
      "text/plain": [
       "   overall_rating  work_life_balance  culture_values  career_opportunities  \\\n",
       "0             3.5                5.0             5.0                   5.0   \n",
       "1             5.0                5.0             5.0                   5.0   \n",
       "2             5.0                5.0             5.0                   5.0   \n",
       "3             5.0                4.0             5.0                   5.0   \n",
       "4             5.0                2.0             1.0                   5.0   \n",
       "\n",
       "   comp_benefits  senior_management  \\\n",
       "0            5.0                5.0   \n",
       "1            4.0                5.0   \n",
       "2            5.0                5.0   \n",
       "3            4.0                5.0   \n",
       "4            4.0                2.0   \n",
       "\n",
       "                                                pros  \\\n",
       "0  1) ServiceNow hires great people, they're \"adu...   \n",
       "1  We are grateful for - and humbled by - your re...   \n",
       "2  Knowledge is spread across the organization wh...   \n",
       "3    Some departments are treated better than others   \n",
       "4  It's high growth and fast-paced (which creates...   \n",
       "\n",
       "                                                cons  \n",
       "0  A lot of people who've been here 3-5+ years st...  \n",
       "1  Teamwork, Resources and Management support. Wh...  \n",
       "2  Unlimited vacation/sick time\\r\\nUnlimited work...  \n",
       "3  Love how humble the leaders and people are. Th...  \n",
       "4  Good pay, good work environment, and opportuni...  "
      ]
     },
     "execution_count": 76,
     "metadata": {},
     "output_type": "execute_result"
    }
   ],
   "source": [
    "data.head(5)"
   ]
  },
  {
   "cell_type": "markdown",
   "metadata": {},
   "source": [
    "*Summary Statistics*"
   ]
  },
  {
   "cell_type": "code",
   "execution_count": 77,
   "metadata": {},
   "outputs": [
    {
     "name": "stdout",
     "output_type": "stream",
     "text": [
      "ServiceNow Summary Statistics: \n",
      " \n",
      "           Overall Rating: 3.42\n",
      "           Work/Life Balance: 3.36\n",
      "           Culture Values: 3.27\n",
      "           Career Opportunities: 3.34\n",
      "           Company Benefits: 3.76\n",
      "           Senior Management: 3.11\n",
      "\n",
      "Top `Pros`:\n",
      "['great', 'company', '', 'work', 'people', 'culture', 'servicenow', 'team', 'time', 'like']\n",
      "\n",
      "\n",
      "Top `Cons`:\n",
      "['work', 'people', '', 'company', 'good', 'management', 'time', 'environment', 'employees', 'team']\n"
     ]
    }
   ],
   "source": [
    "summary_stats('ServiceNow', data)"
   ]
  },
  {
   "cell_type": "markdown",
   "metadata": {},
   "source": [
    "##### Lytx\n",
    "\n",
    "**Size**: 5001 to 10000 Employees\n",
    "<br \\>\n",
    "**Revenue**: \\$100 to \\$500 Million (USD) / Year\n",
    "<br \\>\n",
    "**Industry**: Computer Hardware & Software"
   ]
  },
  {
   "cell_type": "code",
   "execution_count": 78,
   "metadata": {
    "collapsed": true
   },
   "outputs": [],
   "source": [
    "data = pd.DataFrame(columns = ['overall_rating', \n",
    "                               'work_life_balance', \n",
    "                               'culture_values', \n",
    "                               'career_opportunities', \n",
    "                               'comp_benefits', \n",
    "                               'senior_management', \n",
    "                               'pros', \n",
    "                               'cons'])\n",
    "\n",
    "for x in range(1,11):\n",
    "    \n",
    "    url = 'https://www.glassdoor.com/Reviews/Lytx-Reviews-E813859_P'+str(x)+'.htm'\n",
    "    \n",
    "    review_scraper(url)\n",
    "    \n",
    "    data = data.reset_index(drop=True)"
   ]
  },
  {
   "cell_type": "code",
   "execution_count": 79,
   "metadata": {},
   "outputs": [
    {
     "data": {
      "text/html": [
       "<div>\n",
       "<style scoped>\n",
       "    .dataframe tbody tr th:only-of-type {\n",
       "        vertical-align: middle;\n",
       "    }\n",
       "\n",
       "    .dataframe tbody tr th {\n",
       "        vertical-align: top;\n",
       "    }\n",
       "\n",
       "    .dataframe thead th {\n",
       "        text-align: right;\n",
       "    }\n",
       "</style>\n",
       "<table border=\"1\" class=\"dataframe\">\n",
       "  <thead>\n",
       "    <tr style=\"text-align: right;\">\n",
       "      <th></th>\n",
       "      <th>overall_rating</th>\n",
       "      <th>work_life_balance</th>\n",
       "      <th>culture_values</th>\n",
       "      <th>career_opportunities</th>\n",
       "      <th>comp_benefits</th>\n",
       "      <th>senior_management</th>\n",
       "      <th>pros</th>\n",
       "      <th>cons</th>\n",
       "    </tr>\n",
       "  </thead>\n",
       "  <tbody>\n",
       "    <tr>\n",
       "      <th>0</th>\n",
       "      <td>3.9</td>\n",
       "      <td>5.0</td>\n",
       "      <td>5.0</td>\n",
       "      <td>5.0</td>\n",
       "      <td>5.0</td>\n",
       "      <td>5.0</td>\n",
       "      <td>Extremely Family oriented company A+++</td>\n",
       "      <td>I have nothing to say</td>\n",
       "    </tr>\n",
       "    <tr>\n",
       "      <th>1</th>\n",
       "      <td>5.0</td>\n",
       "      <td>4.0</td>\n",
       "      <td>5.0</td>\n",
       "      <td>4.0</td>\n",
       "      <td>4.0</td>\n",
       "      <td>3.0</td>\n",
       "      <td>Thank you for your review. We’re glad you like...</td>\n",
       "      <td>Unlimited PTO, work from home one day a week, ...</td>\n",
       "    </tr>\n",
       "    <tr>\n",
       "      <th>2</th>\n",
       "      <td>4.0</td>\n",
       "      <td>4.0</td>\n",
       "      <td>4.0</td>\n",
       "      <td>3.0</td>\n",
       "      <td>3.0</td>\n",
       "      <td>3.0</td>\n",
       "      <td>The commute to UTC area is terrible, some peop...</td>\n",
       "      <td>We appreciate your feedback. You mentioned som...</td>\n",
       "    </tr>\n",
       "    <tr>\n",
       "      <th>3</th>\n",
       "      <td>3.0</td>\n",
       "      <td>4.0</td>\n",
       "      <td>5.0</td>\n",
       "      <td>4.0</td>\n",
       "      <td>5.0</td>\n",
       "      <td>4.0</td>\n",
       "      <td>Great culture and option to work from home. Ro...</td>\n",
       "      <td>A lot of learning curve to grasp.  Inconsisten...</td>\n",
       "    </tr>\n",
       "    <tr>\n",
       "      <th>4</th>\n",
       "      <td>4.0</td>\n",
       "      <td>4.0</td>\n",
       "      <td>4.0</td>\n",
       "      <td>3.0</td>\n",
       "      <td>3.0</td>\n",
       "      <td>4.0</td>\n",
       "      <td>We agree, the culture is great, a flexible wor...</td>\n",
       "      <td>Good benefits, flexible PTO, nice staff.</td>\n",
       "    </tr>\n",
       "  </tbody>\n",
       "</table>\n",
       "</div>"
      ],
      "text/plain": [
       "   overall_rating  work_life_balance  culture_values  career_opportunities  \\\n",
       "0             3.9                5.0             5.0                   5.0   \n",
       "1             5.0                4.0             5.0                   4.0   \n",
       "2             4.0                4.0             4.0                   3.0   \n",
       "3             3.0                4.0             5.0                   4.0   \n",
       "4             4.0                4.0             4.0                   3.0   \n",
       "\n",
       "   comp_benefits  senior_management  \\\n",
       "0            5.0                5.0   \n",
       "1            4.0                3.0   \n",
       "2            3.0                3.0   \n",
       "3            5.0                4.0   \n",
       "4            3.0                4.0   \n",
       "\n",
       "                                                pros  \\\n",
       "0             Extremely Family oriented company A+++   \n",
       "1  Thank you for your review. We’re glad you like...   \n",
       "2  The commute to UTC area is terrible, some peop...   \n",
       "3  Great culture and option to work from home. Ro...   \n",
       "4  We agree, the culture is great, a flexible wor...   \n",
       "\n",
       "                                                cons  \n",
       "0                              I have nothing to say  \n",
       "1  Unlimited PTO, work from home one day a week, ...  \n",
       "2  We appreciate your feedback. You mentioned som...  \n",
       "3  A lot of learning curve to grasp.  Inconsisten...  \n",
       "4           Good benefits, flexible PTO, nice staff.  "
      ]
     },
     "execution_count": 79,
     "metadata": {},
     "output_type": "execute_result"
    }
   ],
   "source": [
    "data.head(5)"
   ]
  },
  {
   "cell_type": "markdown",
   "metadata": {},
   "source": [
    "*Summary Statistics*"
   ]
  },
  {
   "cell_type": "code",
   "execution_count": 80,
   "metadata": {},
   "outputs": [
    {
     "name": "stdout",
     "output_type": "stream",
     "text": [
      "Lytx Summary Statistics: \n",
      " \n",
      "           Overall Rating: 3.47\n",
      "           Work/Life Balance: 3.81\n",
      "           Culture Values: 3.56\n",
      "           Career Opportunities: 3.32\n",
      "           Company Benefits: 3.61\n",
      "           Senior Management: 3.32\n",
      "\n",
      "Top `Pros`:\n",
      "['', 'work', 'great', 'people', 'nice', 'lytx', 'company', 'team', 'time', 'good']\n",
      "\n",
      "\n",
      "Top `Cons`:\n",
      "['', 'company', 'work', 'great', 'employees', 'team', 'culture', 'people', 'lytx', 'good']\n"
     ]
    }
   ],
   "source": [
    "summary_stats('Lytx', data)"
   ]
  },
  {
   "cell_type": "code",
   "execution_count": 81,
   "metadata": {
    "collapsed": true
   },
   "outputs": [],
   "source": [
    "companies = ['Amazon', 'Facebook', 'Micorsoft', 'Viasat', 'ServiceNow', 'Lytx']\n",
    "\n",
    "df = pd.DataFrame(list(zip(companies, \n",
    "                           overall_rating_list, \n",
    "                           work_life_balance_list, \n",
    "                           culture_values_list,\n",
    "                           career_opportunities_list, \n",
    "                           comp_benefits_list, \n",
    "                           senior_management_list)), \n",
    "                  columns=['company', \n",
    "                           'overall_rating', \n",
    "                           'work_life_balance', \n",
    "                           'culture_values', \n",
    "                           'career_opportunities', \n",
    "                           'comp_benefits', \n",
    "                           'senior_management']).set_index('company') "
   ]
  },
  {
   "cell_type": "code",
   "execution_count": 83,
   "metadata": {},
   "outputs": [
    {
     "data": {
      "image/png": "[encoded data removed]",
      "text/plain": [
       "<Figure size 1440x720 with 1 Axes>"
      ]
     },
     "metadata": {},
     "output_type": "display_data"
    }
   ],
   "source": [
    "df[['overall_rating', 'work_life_balance','culture_values','career_opportunities','comp_benefits', 'senior_management']].plot(kind='bar', rot=45, figsize=(20,10), cmap='RdYlBu')\n",
    "\n",
    "plt.ylabel('Avg. Rating')\n",
    "plt.xlabel('Company')\n",
    "plt.title('Average Glassdoor Ratings by Company')\n",
    "\n",
    "plt.show(1)"
   ]
  },
  {
   "cell_type": "markdown",
   "metadata": {},
   "source": [
    "&nbsp;&nbsp;&nbsp;&nbsp; From our analysis of *Glassdoor*, it's clear that larger-sized companies (e.g. `Amazon`, `Facebook`, `Microsoft`) receive higher ratings compared to companies that are a bit smaller (e.g. `Viasat`, `ServiceNow`, `Lytx`). One interesting thing to note about the sub-ratings is that many employees gave high marks for `comp_benefits` irregardless of their scores for any of the other categories. This lines up with what we found in the `pros` and `cons` sections of the reviews. For companies like `Amazon`, `Facebook`, `Microsoft`, and `Viasat` we saw `benefits` and/or `perks` show up as some of the most commonly used words in the `pros` section. Conversely, for the smaller companies we saw words such as `balance` and `culture` show up as some of the most commonly used `cons`. \n",
    "\n",
    "&nbsp;&nbsp;&nbsp;&nbsp; We can speculate as to why people did or did not enjoy their time as an employee at these companies, but these common themes provide us with a nice view into what worklife looks like at these organizations. The other thing to make note of is that some of these reviews come from people who technically work for a company in the technology sector but may not fulfill a technical role. You can see an example of this in the image used at the beginning of this analysis that was pulled from a review provided by a *Warehouse Associate* at `Amazon`. Nevertheless, people seem to enjoy the benefits that go beyond the satisfaction that their actual job provides them with."
   ]
  },
  {
   "cell_type": "markdown",
   "metadata": {},
   "source": [
    "# Ethics and Privacy"
   ]
  },
  {
   "cell_type": "markdown",
   "metadata": {},
   "source": [
    "Mental Health is a taboo subject that is only currently starting to be less stigmatized. We wanted to keep this in mind when we were looking at the data to maintain anonymity. We wanted to avoid analyzing names, addresses, and other things that are deemed as personal information to the individuals partaking in the survey, so we solely focused on data that was self-reported..\n",
    " \n",
    "Our OSMI data anonymized the data by noting the individuals' features like their gender, age, and the country their company was located in. Our Glassdoor data anonymized the data by considering only the individuals responses to a survey rather than their personal features as well, like the OSMI data. With a combination of the data, we were thus able to analyze those individuals' feedback anonymously while taking into consideration any confounding variables. \n",
    " \n",
    "We also avoided naming companies to prevent any bias that could impact their image. From the data, we analyzed the individual person’s feedback, taking into consideration whether they were a part of bigger companies vs. smaller companies in addition to the mental wellness programs provided by those companies."
   ]
  },
  {
   "cell_type": "markdown",
   "metadata": {},
   "source": [
    "# Conclusion & Discussion"
   ]
  },
  {
   "cell_type": "markdown",
   "metadata": {},
   "source": [
    "Initially, our team had a difficult time quantifying mental illness in the different companies analyzed, so we decided to look at the extent of mental awareness programs provided by companies. We considered different attributes that the different companies had, like where those companies were placed as well as the number of females versus males in addition to their ages and if they were self employed. \n",
    " \n",
    "Our hypothesis focused on looking at how large companies and small companies differed for mental health in their employees, yet surveys showed that it was the extent of mental wellness programs that made a large impact on mental health. Overall, we noticed that people respond more positively about mental health based on the amount of mental health programs that a company provided for its workers rather than how large the companies were. "
   ]
  },
  {
   "cell_type": "markdown",
   "metadata": {},
   "source": [
    "# Team Contributions"
   ]
  },
  {
   "cell_type": "markdown",
   "metadata": {},
   "source": [
    "Andrey Pristinsky and Mariam Qader worked on cleaning up the data and putting it all together, Cole Richmond and Braden Riggs worked on visualizing the data and analysis, and Taly Yukelson worked on the final written analysis. "
   ]
  }
 ],
 "metadata": {
  "kernelspec": {
   "display_name": "Python 3",
   "language": "python",
   "name": "python3"
  },
  "language_info": {
   "codemirror_mode": {
    "name": "ipython",
    "version": 3
   },
   "file_extension": ".py",
   "mimetype": "text/x-python",
   "name": "python",
   "nbconvert_exporter": "python",
   "pygments_lexer": "ipython3",
   "version": "3.7.0"
  }
 },
 "nbformat": 4,
 "nbformat_minor": 2
}
