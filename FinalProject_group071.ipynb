{
 "cells": [
  {
   "cell_type": "markdown",
   "metadata": {},
   "source": [
    "# COGS 108 - Final Project "
   ]
  },
  {
   "cell_type": "markdown",
   "metadata": {},
   "source": [
    "# Overview"
   ]
  },
  {
   "cell_type": "markdown",
   "metadata": {},
   "source": [
    "Yelp has normalized the reviewing of businesses. This system has benefited its users by allowing them to read about other people’s experiences and opinions, along with updating them on the business’s amenities. This can be either problematic or valuable to businesses. It allows them to receive feedback on how to improve their business and either attracts or dissuades potential customers. In the modern day, Yelp tends to play a factor in and reflect a business’s success (4). Our project analyzes Yelp data, primarily the average restaurant rating, to determine if there exists a correlation between a business’s location (state in the US) and the type of food served on a business’s success."
   ]
  },
  {
   "cell_type": "markdown",
   "metadata": {},
   "source": [
    "# Names\n",
    "\n",
    "- Shih Wen Ma\n",
    "- Andrea Diaz\n",
    "- Viet Nguyen\n",
    "- Manda Tran\n",
    "- Matthew Luu"
   ]
  },
  {
   "cell_type": "markdown",
   "metadata": {},
   "source": [
    "# Research Question"
   ]
  },
  {
   "cell_type": "markdown",
   "metadata": {},
   "source": [
    "Considering that Yelp has revolutionized the ways of reviewing businesses in the modern world of technology, we are interested in seeing the discrepancies of Yelp review ratings of restaurants across the United States. More specifically, __we are interested in finding how fast food chain restaurants and their Yelp review ratings compare to the ratings of non-fast food restaurants__. We will also place an emphasis on how these comparisons differ per each state. We aim to do this by taking into consideration the top ratings of various cuisines (such as Japanese, Mexican, American, etc.) that each restuarant offers per each state."
   ]
  },
  {
   "cell_type": "markdown",
   "metadata": {},
   "source": [
    "## Background and Prior Work"
   ]
  },
  {
   "cell_type": "markdown",
   "metadata": {},
   "source": [
    "Yelp is an online service in which anyone with an account can comment on and/or rate a business and anyone (even without an account) can read reviews. It allows users to make informed decisions on whether or not they want to receive services from them. For businesses, it is a platform for them to receive feedback on their services, such as what customers would like to see and what improvements they can make. This platform is used by both sides to gauge how successful and/or promising a business is (2). As such, we focus on Yelp data to help us determine the success of a restaurant (determined by ratings and number of reviews) based on location. \n",
    "\n",
    "When evaluating whether a Yelp data set is the most appropriate for our question, we analyzed the credibility and bias of the dataset. We researched possible factors that could affect the accuracy of the dataset in reflecting the success of a restaurant. One major question we asked is: “Is the data corrupt?”. (3) Upon further research, we found that Yelp can manipulate reviews. They filter out data that they think are fake, but this algorithm is not always correct (1). The filter affects the success because it is manipulating the data, thus removing data that could potentially affect the ratings of the business. In addition, they accept payments from businesses to advertise for them and/or hide bad reviews while highlighting more favorable ones. This would skew the data because it means that restaurants who pay Yelp to do this are more likely to receive more customers and reviews, thus making the business (seem) more successful than its competitors. Another major aspect we considered was how the bandwagon effect could affect the ratings of a restaurant. We found that current ratings do affect future ratings, which further cements the skew of the data. This affects small businesses, as they are often overshadowed by larger businesses who have the resources to pay Yelp for advertisements and extra services. (4)\n",
    "\n",
    "We have decided to move forward with using the Yelp data with these concerns in mind. We concluded that while these factors may affect the accuracy in reflecting the success of a restaurant, they also affect the success of the restaurant. These factors change the way the business is reflected through Yelp, a popular platform used by people to determine whether or not they want to utilize the business’s services. By playing a role in a potential customer’s choice in utilizing the service, Yelp indirectly affects the success of the restaurant. Therefore, it is safe to continue using the Yelp data, given that these factors also influence the restaurant’s success. \n",
    "\n",
    "While doing initial research on Yelp data, we came across the Yelp Dataset Challenge. We noticed 2-3 projects that had to do with predicting the success of a business. For example, one project predicted success based on the text in the reviews which were analyzed based on sentiment (5) using machine learning models. However, we could not find any projects or reports that looked into the effect of different locations and cuisines on the ratings of restaurants which is why we thought it would be an interesting topic to focus on. \n",
    "\n",
    "References (include links):\n",
    "- 1) The Yelp Review Filter: https://vivial.net/blog/how-to-avoid-the-yelp-review-filter-and-get-more-positive-reviews/\n",
    "- 2) The Yelp Effect https://rbj.rady.ucsd.edu/index.php/topics/social-impact/2014/01/the-yelp-effect/\n",
    "- 3) Fake Yelp Reviews\n",
    "    - https://smallbusiness.yahoo.com/advisor/writing-fake-reviews-yelp-might-sued-173135209.html\n",
    "    - https://www.businessinsider.com/20-percent-of-yelp-reviews-fake-2013-9\n",
    "- 4) The Yelp Factor https://hbswk.hbs.edu/item/the-yelp-factor-are-consumer-reviews-good-for-business\n",
    "- 5) Yelp Dataset Challenge 1 https://github.com/VC444/Yelp-Dataset-Challenge "
   ]
  },
  {
   "cell_type": "markdown",
   "metadata": {},
   "source": [
    "# Hypothesis\n"
   ]
  },
  {
   "cell_type": "markdown",
   "metadata": {},
   "source": [
    "We hypothesize that non-fast food ratings will tend to be higher than ratings for fast food chains. We expect that fast food chains will generally have lower ratings because even though they are much more prominent throughout the United States, non fast food restaurants will overshadow them based on the cuisine they offer. Which we suspect is due to the fact that non fast food restaurants tend to specialize in the type of food they offer and cater to a particular customer while fast food restaurants try to appeal to a more generalized customer. We also hypothesize that the most popular type of food in a specific area will be set at a higher standard by the consumers and therefore have harsher ratings. For example, we believe that if Mexican food is very popular in San Diego, then Chipotle chain restaurants, known for its Mexican-style cuisine, will generally have lower ratings due to the fact that there are more local restaurants that specialize in Mexican food. Therefore, non fast food ratings will reflect more positive reviews."
   ]
  },
  {
   "cell_type": "markdown",
   "metadata": {},
   "source": [
    "# Dataset(s)"
   ]
  },
  {
   "cell_type": "markdown",
   "metadata": {},
   "source": [
    "- **Dataset Name: Yelp Restaurant Data Across America**\n",
    "- Link to the dataset: https://www.yelp.com/developers/documentation/v3/business_search\n",
    "- Number of observations: 1,024 observations\n",
    "\n",
    "  The data was collected by using a Yelp API and the github repo: https://github.com/gfairchild/yelpapi. We ran a search query for each state and each of the top types of cuisine. The data contains average (non fast food) restaurant ratings. The columns in the data contains the name of the restaurant, the location (including latitude and longitude), the average rating, the applicable categories, and the number of customer reviews.\n",
    "  We originally wanted to use the Yelp Dataset from the Yelp Dataset Challenge (https://www.yelp.com/dataset/download), however once we cleaned the data we realized that we could not use the dataset because it only contained restaurants from a few states across the US and was not representative of each state. For example, New York only had 10 restaurants while Nevada had around 4,000 restuarants and the data also only included a few restaurants in California. We also tried running many different search queries using the Yelp API, but regardless of the category we input, once we removed duplicates, there were only 1,024 unique observations.\n",
    "  \n",
    "| Column Name | Description |\n",
    "|---|---|\n",
    "|name|The name of the restaurant|\n",
    "|coordinates|The latitude and longitude of the restaurant|\n",
    "|category|List of dictionaries describing the categories the restaurant belongs to|\n",
    "|location|The address of the restaurant|\n",
    "|rating|The overall average rating of the restaurant|\n",
    "|review_count|The number of reviews for the restaurant|\n",
    "|state|The state the restaurant is in|\n",
    "\n",
    "\n",
    "- **Dataset Name: Yelp Fast Food Restaurant Data Across America**\n",
    "- Link to the dataset: https://www.yelp.com/developers/documentation/v3/business_search\n",
    "- Number of observations: 11,220 observations\n",
    "\n",
    "  The data was collected by using a Yelp API and the github repo: https://github.com/gfairchild/yelpapi. We ran a similar search query to the one above except we looked for businesses in each state that contained the category 'fast food.' The data contains the same variables for the columns as the 'Yelp Restaurant Data Across America' dataset.\n",
    "\n",
    "\n",
    "- **Dataset Name: Fast Food Restaurants Across America**\n",
    "- Link to the dataset: https://www.kaggle.com/datafiniti/fast-food-restaurants#FastFoodRestaurants.csv\n",
    "- Number of observations: 10,000 observations\n",
    "\n",
    "  This dataset provides information about 10,000 fast food restaurants across America. The data was collected from Datafiniti's Business Database in March 2018. We are using this dataset to understand which fast food chains are the most popular across the US (per state) based on the number of locations. While the data comes from a reliable source, the completion of the dataset is cannot be confirmed because there was no free option to download the data directly from the source so we had to download the data from kaggle.com. The data includes the fast food restaurant, its location, and website.\n",
    "\n",
    "| Column Name | Description |\n",
    "|---|---|\n",
    "|address|the address of the restaurant|\n",
    "|city|the city the restaurant is in|\n",
    "|country|the country the restaurant is in|\n",
    "|keys|identifier of the restaurant|\n",
    "|latitude|latitude of the restaurant|\n",
    "|longitude|longitude of the restaurant|\n",
    "|name|the name of the restaurant|\n",
    "|postal code|the postal code of the restaurant|\n",
    "|province|the state the restaurant is in|\n",
    "|website|the website of the restaurant|\n",
    "\n",
    "\n",
    "- **Dataset Name: shapes_basic**\n",
    "- Link to the dataset: https://www.arcgis.com/home/item.html?id=f7f805eb65eb4ab787a0a3e1116ca7e5\n",
    "- Number of observations: 50\n",
    "\n",
    "  This dataset provides the geometric information for each state in the US in order to create chloropleth graphs using geopandas.\n",
    "  \n",
    "| Column Name | Description |\n",
    "|---|---|\n",
    "|STATE_NAME|name of the US state|\n",
    "|DRAWSEQ||\n",
    "|STATE_FIPS|FIPS state code|\n",
    "|SUB_REGION|sub region the state is in|\n",
    "|STATE_ABBR|two-character state abbreviation|\n",
    "|geometry|the geometric representation (what is needed to plot in geopandas)|\n",
    "\n",
    "- **Dataset Name: US States - Ranked by Population 2020**\n",
    "- Link to the dataset: https://worldpopulationreview.com/states/\n",
    "- Number of observations: 52\n",
    "\n",
    "  This dataset gives the estimated population of each state in the US. The data was gathered from the US Census 2017 State Estimates. We used this dataset to more accurately analyze the distribution of fast food restaurants across America (from the Kaggle dataset).\n",
    "\n",
    "| Column Name | Description |\n",
    "|---|---|\n",
    "|Rank|index, ranked from most to least populated|\n",
    "|State|the state\n",
    "|2020 Pop. |the current population|\n",
    "|2020 Growth| % population growth since 2018|\n",
    "|2018 Pop.|2018 population count|\n",
    "|2010 Census|2010 population count|\n",
    "|Growth Since 2010|% population growth since 2018|\n",
    "|% of US|% of US population this state makes up|\n",
    "|Density (p/mi²)|population density|"
   ]
  },
  {
   "cell_type": "markdown",
   "metadata": {},
   "source": [
    "# Setup"
   ]
  },
  {
   "cell_type": "code",
   "execution_count": 1,
   "metadata": {
    "scrolled": true
   },
   "outputs": [],
   "source": [
    "# uncomment below if not yet installed\n",
    "#!pip install --user geopandas\n",
    "#!pip install --user descartes"
   ]
  },
  {
   "cell_type": "code",
   "execution_count": 2,
   "metadata": {
    "scrolled": false
   },
   "outputs": [],
   "source": [
    "# import libraries\n",
    "import numpy as np\n",
    "import pandas as pd\n",
    "import geopandas as gpd\n",
    "\n",
    "import matplotlib.pyplot as plt\n",
    "plt.rcParams['figure.figsize'] = (17, 5)\n",
    "plt.rcParams.update({'font.size': 16})\n",
    "from mpl_toolkits.axes_grid1 import make_axes_locatable\n",
    "import seaborn as sns\n",
    "\n",
    "import shapely.geometry as shp\n",
    "import scipy.stats as stats"
   ]
  },
  {
   "cell_type": "markdown",
   "metadata": {},
   "source": [
    "Import dataframes from csv files"
   ]
  },
  {
   "cell_type": "code",
   "execution_count": 3,
   "metadata": {
    "scrolled": false
   },
   "outputs": [],
   "source": [
    "# non fast food restaurant ratings from the Yelp API\n",
    "yelp_df = pd.read_csv('data/cuisine.csv')\n",
    "# fast food restaurant ratings from the Yelp API\n",
    "fast_df = pd.read_csv('data/FastFoodRestaurants.csv')\n",
    "# number of fast food restaurants from the Kaggle Dataset\n",
    "fast_ratings_df = pd.read_csv('data/FastRatings.csv')\n",
    "\n",
    "# This dataframe is only used for the chloropleth graph\n",
    "pop_df = pd.read_csv('data/population.csv')"
   ]
  },
  {
   "cell_type": "markdown",
   "metadata": {},
   "source": [
    "# Data Cleaning"
   ]
  },
  {
   "cell_type": "markdown",
   "metadata": {},
   "source": [
    "**Data Cleaning Overview:**\n",
    "\n",
    "For both the yelp_df and fast_ratings_df\n",
    "- transform all names to lowercase\n",
    "- (for fast_df only) only include restaurants in the US\n",
    "- standardize latitude and longitude column (change nested dict to specific column for each)\n",
    "- standaradize address column (change nested dict to a string containing the address)\n",
    "- drop unnamed (secondary index) columns\n",
    "- drop duplicates\n",
    "\n",
    "For fast_df\n",
    "- rename and reorganize the columns to match the columns in yelp_df and fast_ratings_df"
   ]
  },
  {
   "cell_type": "code",
   "execution_count": 4,
   "metadata": {
    "scrolled": false
   },
   "outputs": [],
   "source": [
    "#turns all name to lowercase so capitalization does not affect analysis\n",
    "for i in yelp_df.index:\n",
    "    yelp_df.at[i,'name'] = yelp_df.at[i,'name'].lower()\n",
    "for j in fast_df.index:\n",
    "    fast_df.at[j, 'name'] = fast_df.at[j, 'name'].lower()\n",
    "for k in fast_ratings_df.index:\n",
    "    fast_ratings_df.at[k, 'name'] = fast_ratings_df.at[k, 'name'].lower()"
   ]
  },
  {
   "cell_type": "markdown",
   "metadata": {},
   "source": [
    "#### Clean data in the yelp_df"
   ]
  },
  {
   "cell_type": "code",
   "execution_count": 5,
   "metadata": {
    "scrolled": false
   },
   "outputs": [],
   "source": [
    "#Separate longitude and latitude information from coordinates column for the yelp_df\n",
    "yelp_df['latitude'] = np.nan\n",
    "yelp_df['longitude'] = np.nan\n",
    "for i in yelp_df.index:\n",
    "    coord = yelp_df.at[i, 'coordinates']\n",
    "    yelp_df.at[i, 'latitude'] = coord[coord.find(':') + 1 : coord.find(',')]\n",
    "    yelp_df.at[i, 'longitude'] = coord[coord.find(':', coord.find(',') + 1) + 1 : coord.find('}')]\n",
    "\n",
    "yelp_df = yelp_df.drop('coordinates',axis=1)"
   ]
  },
  {
   "cell_type": "code",
   "execution_count": 6,
   "metadata": {
    "scrolled": false
   },
   "outputs": [],
   "source": [
    "#Separate address information from location column for the yelp_df\n",
    "yelp_df['address'] = ''\n",
    "for i in yelp_df.index:\n",
    "    address = yelp_df.at[i, 'location']\n",
    "    yelp_df.at[i, 'address'] = address[address.find(':') + 3 : address.find(',') - 1]\n",
    "\n",
    "yelp_df = yelp_df.drop('location', axis=1)"
   ]
  },
  {
   "cell_type": "code",
   "execution_count": 7,
   "metadata": {
    "scrolled": true
   },
   "outputs": [],
   "source": [
    "#Drop unnamed column from yelp_df\n",
    "yelp_df = yelp_df.drop(['Unnamed: 0'], axis=1)"
   ]
  },
  {
   "cell_type": "code",
   "execution_count": 8,
   "metadata": {
    "scrolled": true
   },
   "outputs": [],
   "source": [
    "# drop duplicate rows if there are any\n",
    "yelp_df=yelp_df.drop_duplicates()\n",
    "yelp_df=yelp_df.reset_index(drop=True)"
   ]
  },
  {
   "cell_type": "markdown",
   "metadata": {},
   "source": [
    "Let's preview our cleaned dataframe"
   ]
  },
  {
   "cell_type": "code",
   "execution_count": 9,
   "metadata": {
    "scrolled": true
   },
   "outputs": [
    {
     "data": {
      "text/html": [
       "<div>\n",
       "<style scoped>\n",
       "    .dataframe tbody tr th:only-of-type {\n",
       "        vertical-align: middle;\n",
       "    }\n",
       "\n",
       "    .dataframe tbody tr th {\n",
       "        vertical-align: top;\n",
       "    }\n",
       "\n",
       "    .dataframe thead th {\n",
       "        text-align: right;\n",
       "    }\n",
       "</style>\n",
       "<table border=\"1\" class=\"dataframe\">\n",
       "  <thead>\n",
       "    <tr style=\"text-align: right;\">\n",
       "      <th></th>\n",
       "      <th>name</th>\n",
       "      <th>category</th>\n",
       "      <th>rating</th>\n",
       "      <th>review_count</th>\n",
       "      <th>state</th>\n",
       "      <th>latitude</th>\n",
       "      <th>longitude</th>\n",
       "      <th>address</th>\n",
       "    </tr>\n",
       "  </thead>\n",
       "  <tbody>\n",
       "    <tr>\n",
       "      <td>0</td>\n",
       "      <td>el barrio</td>\n",
       "      <td>[{'alias': 'mexican', 'title': 'Mexican'}]</td>\n",
       "      <td>4.5</td>\n",
       "      <td>618</td>\n",
       "      <td>AL</td>\n",
       "      <td>33.516636</td>\n",
       "      <td>-86.802849</td>\n",
       "      <td>2211 2nd Ave N</td>\n",
       "    </tr>\n",
       "    <tr>\n",
       "      <td>1</td>\n",
       "      <td>saw's soul kitchen</td>\n",
       "      <td>[{'alias': 'bbq', 'title': 'Barbeque'}, {'alia...</td>\n",
       "      <td>4.5</td>\n",
       "      <td>783</td>\n",
       "      <td>AL</td>\n",
       "      <td>33.524190</td>\n",
       "      <td>-86.773830</td>\n",
       "      <td>215 41st St S</td>\n",
       "    </tr>\n",
       "    <tr>\n",
       "      <td>2</td>\n",
       "      <td>yo' mama's</td>\n",
       "      <td>[{'alias': 'newamerican', 'title': 'American (...</td>\n",
       "      <td>4.5</td>\n",
       "      <td>355</td>\n",
       "      <td>AL</td>\n",
       "      <td>33.517660</td>\n",
       "      <td>-86.801830</td>\n",
       "      <td>2328 2nd Ave N</td>\n",
       "    </tr>\n",
       "    <tr>\n",
       "      <td>3</td>\n",
       "      <td>carrigan's public house</td>\n",
       "      <td>[{'alias': 'cocktailbars', 'title': 'Cocktail ...</td>\n",
       "      <td>4.5</td>\n",
       "      <td>527</td>\n",
       "      <td>AL</td>\n",
       "      <td>33.517124</td>\n",
       "      <td>-86.798646</td>\n",
       "      <td>2430 Morris Ave</td>\n",
       "    </tr>\n",
       "    <tr>\n",
       "      <td>4</td>\n",
       "      <td>highlands bar &amp; grill</td>\n",
       "      <td>[{'alias': 'southern', 'title': 'Southern'}, {...</td>\n",
       "      <td>4.5</td>\n",
       "      <td>304</td>\n",
       "      <td>AL</td>\n",
       "      <td>33.500572</td>\n",
       "      <td>-86.795577</td>\n",
       "      <td>2011 11th Ave S</td>\n",
       "    </tr>\n",
       "    <tr>\n",
       "      <td>...</td>\n",
       "      <td>...</td>\n",
       "      <td>...</td>\n",
       "      <td>...</td>\n",
       "      <td>...</td>\n",
       "      <td>...</td>\n",
       "      <td>...</td>\n",
       "      <td>...</td>\n",
       "      <td>...</td>\n",
       "    </tr>\n",
       "    <tr>\n",
       "      <td>1019</td>\n",
       "      <td>wasabi japanese grill &amp; bar</td>\n",
       "      <td>[{'alias': 'japanese', 'title': 'Japanese'}, {...</td>\n",
       "      <td>3.5</td>\n",
       "      <td>118</td>\n",
       "      <td>WY</td>\n",
       "      <td>41.161270</td>\n",
       "      <td>-104.789620</td>\n",
       "      <td>4620 Grandview Ave</td>\n",
       "    </tr>\n",
       "    <tr>\n",
       "      <td>1020</td>\n",
       "      <td>l'osteria mondello</td>\n",
       "      <td>[{'alias': 'italian', 'title': 'Italian'}, {'a...</td>\n",
       "      <td>4.0</td>\n",
       "      <td>79</td>\n",
       "      <td>WY</td>\n",
       "      <td>41.159263</td>\n",
       "      <td>-104.804882</td>\n",
       "      <td>1507 Stillwater Ave</td>\n",
       "    </tr>\n",
       "    <tr>\n",
       "      <td>1021</td>\n",
       "      <td>destination taiwan</td>\n",
       "      <td>[{'alias': 'bubbletea', 'title': 'Bubble Tea'}...</td>\n",
       "      <td>5.0</td>\n",
       "      <td>16</td>\n",
       "      <td>WY</td>\n",
       "      <td>41.160490</td>\n",
       "      <td>-104.776100</td>\n",
       "      <td>2634 Dell Range Blvd</td>\n",
       "    </tr>\n",
       "    <tr>\n",
       "      <td>1022</td>\n",
       "      <td>mort's bagels</td>\n",
       "      <td>[{'alias': 'bagels', 'title': 'Bagels'}, {'ali...</td>\n",
       "      <td>4.5</td>\n",
       "      <td>46</td>\n",
       "      <td>WY</td>\n",
       "      <td>41.134658</td>\n",
       "      <td>-104.817705</td>\n",
       "      <td>1815 Carey Ave</td>\n",
       "    </tr>\n",
       "    <tr>\n",
       "      <td>1023</td>\n",
       "      <td>the pit room</td>\n",
       "      <td>[{'alias': 'bbq', 'title': 'Barbeque'}]</td>\n",
       "      <td>4.5</td>\n",
       "      <td>1750</td>\n",
       "      <td>TX</td>\n",
       "      <td>29.734235</td>\n",
       "      <td>-95.393968</td>\n",
       "      <td>1201 Richmond Ave</td>\n",
       "    </tr>\n",
       "  </tbody>\n",
       "</table>\n",
       "<p>1024 rows × 8 columns</p>\n",
       "</div>"
      ],
      "text/plain": [
       "                             name  \\\n",
       "0                       el barrio   \n",
       "1              saw's soul kitchen   \n",
       "2                      yo' mama's   \n",
       "3         carrigan's public house   \n",
       "4           highlands bar & grill   \n",
       "...                           ...   \n",
       "1019  wasabi japanese grill & bar   \n",
       "1020           l'osteria mondello   \n",
       "1021           destination taiwan   \n",
       "1022                mort's bagels   \n",
       "1023                 the pit room   \n",
       "\n",
       "                                               category  rating  review_count  \\\n",
       "0            [{'alias': 'mexican', 'title': 'Mexican'}]     4.5           618   \n",
       "1     [{'alias': 'bbq', 'title': 'Barbeque'}, {'alia...     4.5           783   \n",
       "2     [{'alias': 'newamerican', 'title': 'American (...     4.5           355   \n",
       "3     [{'alias': 'cocktailbars', 'title': 'Cocktail ...     4.5           527   \n",
       "4     [{'alias': 'southern', 'title': 'Southern'}, {...     4.5           304   \n",
       "...                                                 ...     ...           ...   \n",
       "1019  [{'alias': 'japanese', 'title': 'Japanese'}, {...     3.5           118   \n",
       "1020  [{'alias': 'italian', 'title': 'Italian'}, {'a...     4.0            79   \n",
       "1021  [{'alias': 'bubbletea', 'title': 'Bubble Tea'}...     5.0            16   \n",
       "1022  [{'alias': 'bagels', 'title': 'Bagels'}, {'ali...     4.5            46   \n",
       "1023            [{'alias': 'bbq', 'title': 'Barbeque'}]     4.5          1750   \n",
       "\n",
       "     state   latitude   longitude               address  \n",
       "0       AL  33.516636  -86.802849        2211 2nd Ave N  \n",
       "1       AL  33.524190  -86.773830         215 41st St S  \n",
       "2       AL  33.517660  -86.801830        2328 2nd Ave N  \n",
       "3       AL  33.517124  -86.798646       2430 Morris Ave  \n",
       "4       AL  33.500572  -86.795577       2011 11th Ave S  \n",
       "...    ...        ...         ...                   ...  \n",
       "1019    WY  41.161270 -104.789620    4620 Grandview Ave  \n",
       "1020    WY  41.159263 -104.804882   1507 Stillwater Ave  \n",
       "1021    WY  41.160490 -104.776100  2634 Dell Range Blvd  \n",
       "1022    WY  41.134658 -104.817705        1815 Carey Ave  \n",
       "1023    TX  29.734235  -95.393968     1201 Richmond Ave  \n",
       "\n",
       "[1024 rows x 8 columns]"
      ]
     },
     "execution_count": 9,
     "metadata": {},
     "output_type": "execute_result"
    }
   ],
   "source": [
    "yelp_df"
   ]
  },
  {
   "cell_type": "markdown",
   "metadata": {},
   "source": [
    "#### Clean data in the fast_ratings_df"
   ]
  },
  {
   "cell_type": "code",
   "execution_count": 10,
   "metadata": {
    "scrolled": true
   },
   "outputs": [
    {
     "data": {
      "text/plain": [
       "array(['NY', 'OH', 'KY', 'SC', 'AR', 'IN', 'OK', 'LA', 'ND', 'TX', 'MI',\n",
       "       'MO', 'TN', 'NC', 'GA', 'UT', 'WI', 'MS', 'WA', 'NE', 'AL', 'WV',\n",
       "       'VT', 'AZ', 'KS', 'MN', 'SD', 'NM', 'OR', 'ME', 'IA', 'WY', 'IL',\n",
       "       'VA', 'MT', 'ID', 'PA', 'NJ', 'MD', 'FL', 'CA', 'MA', 'CO', 'NV',\n",
       "       'NH', 'CT', 'DE', 'HI'], dtype=object)"
      ]
     },
     "execution_count": 10,
     "metadata": {},
     "output_type": "execute_result"
    }
   ],
   "source": [
    "to_drop = []\n",
    "for i in fast_ratings_df.index:\n",
    "    if (\"'country': 'US'\" in fast_ratings_df['location'][i]):\n",
    "        continue\n",
    "    else:\n",
    "        to_drop.append(i)\n",
    "fast_ratings_df = fast_ratings_df.drop(to_drop)\n",
    "fast_ratings_df['state'].unique()"
   ]
  },
  {
   "cell_type": "code",
   "execution_count": 11,
   "metadata": {
    "scrolled": true
   },
   "outputs": [
    {
     "data": {
      "text/plain": [
       "array(['NY', 'OH', 'KY', 'SC', 'AR', 'IN', 'OK', 'LA', 'ND', 'TX', 'MI',\n",
       "       'MO', 'TN', 'NC', 'GA', 'UT', 'WI', 'MS', 'WA', 'NE', 'AL', 'WV',\n",
       "       'VT', 'AZ', 'KS', 'MN', 'SD', 'NM', 'OR', 'ME', 'IA', 'WY', 'IL',\n",
       "       'VA', 'MT', 'ID', 'PA', 'NJ', 'MD', 'FL', 'CA', 'MA', 'CO', 'NV',\n",
       "       'NH', 'CT', 'DE', 'HI'], dtype=object)"
      ]
     },
     "execution_count": 11,
     "metadata": {},
     "output_type": "execute_result"
    }
   ],
   "source": [
    "fast_ratings_df['state'].unique()"
   ]
  },
  {
   "cell_type": "code",
   "execution_count": 12,
   "metadata": {
    "scrolled": false
   },
   "outputs": [],
   "source": [
    "#Separate longitude and latitude information from coordinates column for the fast_ratings_df\n",
    "fast_ratings_df['latitude'] = np.nan\n",
    "fast_ratings_df['longitude'] = np.nan\n",
    "for i in fast_ratings_df.index:\n",
    "    coord = fast_ratings_df.at[i, 'coordinates']\n",
    "    fast_ratings_df.at[i, 'latitude'] = coord[coord.find(':') + 1 : coord.find(',')]\n",
    "    fast_ratings_df.at[i, 'longitude'] = coord[coord.find(':', coord.find(',') + 1) + 1 : coord.find('}')]\n",
    "\n",
    "fast_ratings_df = fast_ratings_df.drop('coordinates',axis=1)"
   ]
  },
  {
   "cell_type": "code",
   "execution_count": 13,
   "metadata": {
    "scrolled": false
   },
   "outputs": [],
   "source": [
    "#Separate address information from location column for the fast_ratings_df\n",
    "fast_ratings_df['address'] = ''\n",
    "for i in fast_ratings_df.index:\n",
    "    address = fast_ratings_df.at[i, 'location']\n",
    "    fast_ratings_df.at[i, 'address'] = address[address.find(':') + 3 : address.find(',') - 1]\n",
    "\n",
    "fast_ratings_df = fast_ratings_df.drop('location', axis=1)"
   ]
  },
  {
   "cell_type": "code",
   "execution_count": 14,
   "metadata": {
    "scrolled": true
   },
   "outputs": [],
   "source": [
    "# Drop unnamed column from fast_ratings_df\n",
    "fast_ratings_df = fast_ratings_df.drop(['Unnamed: 0', 'Unnamed: 0.1'], axis=1)"
   ]
  },
  {
   "cell_type": "code",
   "execution_count": 15,
   "metadata": {
    "scrolled": true
   },
   "outputs": [],
   "source": [
    "# drop duplicate rows if there are any\n",
    "fast_ratings_df=fast_ratings_df.drop_duplicates()\n",
    "fast_ratings_df=fast_ratings_df.reset_index(drop=True)"
   ]
  },
  {
   "cell_type": "markdown",
   "metadata": {},
   "source": [
    "Let's preview our cleaned dataframe"
   ]
  },
  {
   "cell_type": "code",
   "execution_count": 16,
   "metadata": {
    "scrolled": true
   },
   "outputs": [
    {
     "data": {
      "text/html": [
       "<div>\n",
       "<style scoped>\n",
       "    .dataframe tbody tr th:only-of-type {\n",
       "        vertical-align: middle;\n",
       "    }\n",
       "\n",
       "    .dataframe tbody tr th {\n",
       "        vertical-align: top;\n",
       "    }\n",
       "\n",
       "    .dataframe thead th {\n",
       "        text-align: right;\n",
       "    }\n",
       "</style>\n",
       "<table border=\"1\" class=\"dataframe\">\n",
       "  <thead>\n",
       "    <tr style=\"text-align: right;\">\n",
       "      <th></th>\n",
       "      <th>name</th>\n",
       "      <th>category</th>\n",
       "      <th>rating</th>\n",
       "      <th>review_count</th>\n",
       "      <th>state</th>\n",
       "      <th>latitude</th>\n",
       "      <th>longitude</th>\n",
       "      <th>address</th>\n",
       "    </tr>\n",
       "  </thead>\n",
       "  <tbody>\n",
       "    <tr>\n",
       "      <td>0</td>\n",
       "      <td>taco bell</td>\n",
       "      <td>[{'alias': 'hotdogs', 'title': 'Fast Food'}, {...</td>\n",
       "      <td>5.0</td>\n",
       "      <td>4</td>\n",
       "      <td>NY</td>\n",
       "      <td>44.950268</td>\n",
       "      <td>-74.844363</td>\n",
       "      <td>1602 State Highway 37</td>\n",
       "    </tr>\n",
       "    <tr>\n",
       "      <td>1</td>\n",
       "      <td>mcdonald's</td>\n",
       "      <td>[{'alias': 'hotdogs', 'title': 'Fast Food'}, {...</td>\n",
       "      <td>3.5</td>\n",
       "      <td>8</td>\n",
       "      <td>OH</td>\n",
       "      <td>39.523908</td>\n",
       "      <td>-83.458744</td>\n",
       "      <td>1401 Leesburg Ave</td>\n",
       "    </tr>\n",
       "    <tr>\n",
       "      <td>2</td>\n",
       "      <td>wendy's</td>\n",
       "      <td>[{'alias': 'burgers', 'title': 'Burgers'}, {'a...</td>\n",
       "      <td>2.5</td>\n",
       "      <td>5</td>\n",
       "      <td>OH</td>\n",
       "      <td>39.532787</td>\n",
       "      <td>-83.445862</td>\n",
       "      <td>530 Clinton Avenue</td>\n",
       "    </tr>\n",
       "    <tr>\n",
       "      <td>3</td>\n",
       "      <td>frisch's big boy</td>\n",
       "      <td>[{'alias': 'burgers', 'title': 'Burgers'}, {'a...</td>\n",
       "      <td>3.5</td>\n",
       "      <td>15</td>\n",
       "      <td>KY</td>\n",
       "      <td>38.627340</td>\n",
       "      <td>-83.791582</td>\n",
       "      <td>408 Market Square Dr</td>\n",
       "    </tr>\n",
       "    <tr>\n",
       "      <td>4</td>\n",
       "      <td>lee's famous recipe chicken</td>\n",
       "      <td>[{'alias': 'hotdogs', 'title': 'Fast Food'}, {...</td>\n",
       "      <td>5.0</td>\n",
       "      <td>3</td>\n",
       "      <td>KY</td>\n",
       "      <td>38.633732</td>\n",
       "      <td>-83.792804</td>\n",
       "      <td>Highway 68 S</td>\n",
       "    </tr>\n",
       "    <tr>\n",
       "      <td>...</td>\n",
       "      <td>...</td>\n",
       "      <td>...</td>\n",
       "      <td>...</td>\n",
       "      <td>...</td>\n",
       "      <td>...</td>\n",
       "      <td>...</td>\n",
       "      <td>...</td>\n",
       "      <td>...</td>\n",
       "    </tr>\n",
       "    <tr>\n",
       "      <td>4318</td>\n",
       "      <td>mcdonald's</td>\n",
       "      <td>[{'alias': 'hotdogs', 'title': 'Fast Food'}, {...</td>\n",
       "      <td>2.0</td>\n",
       "      <td>12</td>\n",
       "      <td>MT</td>\n",
       "      <td>46.397796</td>\n",
       "      <td>-105.822041</td>\n",
       "      <td>1120 S Haynes</td>\n",
       "    </tr>\n",
       "    <tr>\n",
       "      <td>4319</td>\n",
       "      <td>wendy's</td>\n",
       "      <td>[{'alias': 'hotdogs', 'title': 'Fast Food'}, {...</td>\n",
       "      <td>3.0</td>\n",
       "      <td>9</td>\n",
       "      <td>MT</td>\n",
       "      <td>46.405777</td>\n",
       "      <td>-105.822041</td>\n",
       "      <td>210 S. Haynes Ave</td>\n",
       "    </tr>\n",
       "    <tr>\n",
       "      <td>4320</td>\n",
       "      <td>pizza hut</td>\n",
       "      <td>[{'alias': 'pizza', 'title': 'Pizza'}, {'alias...</td>\n",
       "      <td>3.5</td>\n",
       "      <td>4</td>\n",
       "      <td>MT</td>\n",
       "      <td>46.403074</td>\n",
       "      <td>-105.821939</td>\n",
       "      <td>3009 Stower St</td>\n",
       "    </tr>\n",
       "    <tr>\n",
       "      <td>4321</td>\n",
       "      <td>taco john's</td>\n",
       "      <td>[{'alias': 'mexican', 'title': 'Mexican'}, {'a...</td>\n",
       "      <td>2.5</td>\n",
       "      <td>8</td>\n",
       "      <td>MT</td>\n",
       "      <td>46.399650</td>\n",
       "      <td>-105.822989</td>\n",
       "      <td>911 S Haynes St</td>\n",
       "    </tr>\n",
       "    <tr>\n",
       "      <td>4322</td>\n",
       "      <td>chick-fil-a</td>\n",
       "      <td>[{'alias': 'hotdogs', 'title': 'Fast Food'}]</td>\n",
       "      <td>4.5</td>\n",
       "      <td>28</td>\n",
       "      <td>GA</td>\n",
       "      <td>33.410332</td>\n",
       "      <td>-82.026117</td>\n",
       "      <td>3130 Peach Orchard Rd</td>\n",
       "    </tr>\n",
       "  </tbody>\n",
       "</table>\n",
       "<p>4323 rows × 8 columns</p>\n",
       "</div>"
      ],
      "text/plain": [
       "                             name  \\\n",
       "0                       taco bell   \n",
       "1                      mcdonald's   \n",
       "2                         wendy's   \n",
       "3                frisch's big boy   \n",
       "4     lee's famous recipe chicken   \n",
       "...                           ...   \n",
       "4318                   mcdonald's   \n",
       "4319                      wendy's   \n",
       "4320                    pizza hut   \n",
       "4321                  taco john's   \n",
       "4322                  chick-fil-a   \n",
       "\n",
       "                                               category  rating  review_count  \\\n",
       "0     [{'alias': 'hotdogs', 'title': 'Fast Food'}, {...     5.0             4   \n",
       "1     [{'alias': 'hotdogs', 'title': 'Fast Food'}, {...     3.5             8   \n",
       "2     [{'alias': 'burgers', 'title': 'Burgers'}, {'a...     2.5             5   \n",
       "3     [{'alias': 'burgers', 'title': 'Burgers'}, {'a...     3.5            15   \n",
       "4     [{'alias': 'hotdogs', 'title': 'Fast Food'}, {...     5.0             3   \n",
       "...                                                 ...     ...           ...   \n",
       "4318  [{'alias': 'hotdogs', 'title': 'Fast Food'}, {...     2.0            12   \n",
       "4319  [{'alias': 'hotdogs', 'title': 'Fast Food'}, {...     3.0             9   \n",
       "4320  [{'alias': 'pizza', 'title': 'Pizza'}, {'alias...     3.5             4   \n",
       "4321  [{'alias': 'mexican', 'title': 'Mexican'}, {'a...     2.5             8   \n",
       "4322       [{'alias': 'hotdogs', 'title': 'Fast Food'}]     4.5            28   \n",
       "\n",
       "     state   latitude   longitude                address  \n",
       "0       NY  44.950268  -74.844363  1602 State Highway 37  \n",
       "1       OH  39.523908  -83.458744      1401 Leesburg Ave  \n",
       "2       OH  39.532787  -83.445862     530 Clinton Avenue  \n",
       "3       KY  38.627340  -83.791582   408 Market Square Dr  \n",
       "4       KY  38.633732  -83.792804           Highway 68 S  \n",
       "...    ...        ...         ...                    ...  \n",
       "4318    MT  46.397796 -105.822041          1120 S Haynes  \n",
       "4319    MT  46.405777 -105.822041      210 S. Haynes Ave  \n",
       "4320    MT  46.403074 -105.821939         3009 Stower St  \n",
       "4321    MT  46.399650 -105.822989        911 S Haynes St  \n",
       "4322    GA  33.410332  -82.026117  3130 Peach Orchard Rd  \n",
       "\n",
       "[4323 rows x 8 columns]"
      ]
     },
     "execution_count": 16,
     "metadata": {},
     "output_type": "execute_result"
    }
   ],
   "source": [
    "fast_ratings_df"
   ]
  },
  {
   "cell_type": "markdown",
   "metadata": {},
   "source": [
    "#### Clean data in fast_df"
   ]
  },
  {
   "cell_type": "code",
   "execution_count": 17,
   "metadata": {},
   "outputs": [],
   "source": [
    "# rename 'province' column to 'state' to match fast_ratings_df and yelp_df column names\n",
    "fast_df = fast_df.rename(columns={'province':'state'})\n",
    "\n",
    "# drop unnecessary columns\n",
    "fast_df = fast_df.drop(['city','country','keys','postalCode','websites'], axis=1)\n",
    "# reorder columns to resemble order of fast_ratings_df and yelp_df column order\n",
    "fast_df = fast_df[['name', 'state', 'latitude', 'longitude', 'address']]"
   ]
  },
  {
   "cell_type": "markdown",
   "metadata": {},
   "source": [
    "Let's preview our cleaned dataframe"
   ]
  },
  {
   "cell_type": "code",
   "execution_count": 18,
   "metadata": {},
   "outputs": [
    {
     "data": {
      "text/html": [
       "<div>\n",
       "<style scoped>\n",
       "    .dataframe tbody tr th:only-of-type {\n",
       "        vertical-align: middle;\n",
       "    }\n",
       "\n",
       "    .dataframe tbody tr th {\n",
       "        vertical-align: top;\n",
       "    }\n",
       "\n",
       "    .dataframe thead th {\n",
       "        text-align: right;\n",
       "    }\n",
       "</style>\n",
       "<table border=\"1\" class=\"dataframe\">\n",
       "  <thead>\n",
       "    <tr style=\"text-align: right;\">\n",
       "      <th></th>\n",
       "      <th>name</th>\n",
       "      <th>state</th>\n",
       "      <th>latitude</th>\n",
       "      <th>longitude</th>\n",
       "      <th>address</th>\n",
       "    </tr>\n",
       "  </thead>\n",
       "  <tbody>\n",
       "    <tr>\n",
       "      <td>0</td>\n",
       "      <td>mcdonald's</td>\n",
       "      <td>NY</td>\n",
       "      <td>44.92130</td>\n",
       "      <td>-74.89021</td>\n",
       "      <td>324 Main St</td>\n",
       "    </tr>\n",
       "    <tr>\n",
       "      <td>1</td>\n",
       "      <td>wendy's</td>\n",
       "      <td>OH</td>\n",
       "      <td>39.53255</td>\n",
       "      <td>-83.44526</td>\n",
       "      <td>530 Clinton Ave</td>\n",
       "    </tr>\n",
       "    <tr>\n",
       "      <td>2</td>\n",
       "      <td>frisch's big boy</td>\n",
       "      <td>KY</td>\n",
       "      <td>38.62736</td>\n",
       "      <td>-83.79141</td>\n",
       "      <td>408 Market Square Dr</td>\n",
       "    </tr>\n",
       "    <tr>\n",
       "      <td>3</td>\n",
       "      <td>mcdonald's</td>\n",
       "      <td>NY</td>\n",
       "      <td>44.95008</td>\n",
       "      <td>-74.84553</td>\n",
       "      <td>6098 State Highway 37</td>\n",
       "    </tr>\n",
       "    <tr>\n",
       "      <td>4</td>\n",
       "      <td>omg! rotisserie</td>\n",
       "      <td>OH</td>\n",
       "      <td>39.35155</td>\n",
       "      <td>-82.09728</td>\n",
       "      <td>139 Columbus Rd</td>\n",
       "    </tr>\n",
       "  </tbody>\n",
       "</table>\n",
       "</div>"
      ],
      "text/plain": [
       "               name state  latitude  longitude                address\n",
       "0        mcdonald's    NY  44.92130  -74.89021            324 Main St\n",
       "1           wendy's    OH  39.53255  -83.44526        530 Clinton Ave\n",
       "2  frisch's big boy    KY  38.62736  -83.79141   408 Market Square Dr\n",
       "3        mcdonald's    NY  44.95008  -74.84553  6098 State Highway 37\n",
       "4   omg! rotisserie    OH  39.35155  -82.09728        139 Columbus Rd"
      ]
     },
     "execution_count": 18,
     "metadata": {},
     "output_type": "execute_result"
    }
   ],
   "source": [
    "fast_df.head()"
   ]
  },
  {
   "cell_type": "markdown",
   "metadata": {},
   "source": [
    "# Data Analysis & Results"
   ]
  },
  {
   "cell_type": "markdown",
   "metadata": {},
   "source": [
    "### Exploring the Data\n",
    "\n",
    "First we want to get an general idea of the data we are working with.\n",
    "\n",
    "For each Yelp rating dataframes, we will look at:\n",
    "- the shape of the data\n",
    "- the US states that are included in the data\n",
    "- distribution of ratings in each state\n",
    "- if there are any null values"
   ]
  },
  {
   "cell_type": "markdown",
   "metadata": {},
   "source": [
    "**Shape of Data**"
   ]
  },
  {
   "cell_type": "code",
   "execution_count": 19,
   "metadata": {
    "scrolled": false
   },
   "outputs": [
    {
     "data": {
      "text/plain": [
       "(1024, 8)"
      ]
     },
     "execution_count": 19,
     "metadata": {},
     "output_type": "execute_result"
    }
   ],
   "source": [
    "# there are ~1k restaurants in our general df\n",
    "yelp_df.shape"
   ]
  },
  {
   "cell_type": "code",
   "execution_count": 20,
   "metadata": {
    "scrolled": false
   },
   "outputs": [
    {
     "data": {
      "text/plain": [
       "(4323, 8)"
      ]
     },
     "execution_count": 20,
     "metadata": {},
     "output_type": "execute_result"
    }
   ],
   "source": [
    "# there are ~4k fast food restaurants in our fast food df\n",
    "fast_ratings_df.shape "
   ]
  },
  {
   "cell_type": "markdown",
   "metadata": {},
   "source": [
    "**States included in the Data**"
   ]
  },
  {
   "cell_type": "code",
   "execution_count": 21,
   "metadata": {
    "scrolled": false
   },
   "outputs": [
    {
     "data": {
      "text/plain": [
       "array(['AL', 'AK', 'AZ', 'OK', 'CA', 'CO', 'CT', 'DC', 'KS', 'FL', 'GA',\n",
       "       'HI', 'ID', 'IL', 'IN', 'IA', 'KY', 'ME', 'MD', 'MA', 'MI', 'MN',\n",
       "       'MS', 'MO', 'MT', 'NE', 'NV', 'NH', 'NJ', 'NM', 'NY', 'NC', 'ND',\n",
       "       'OH', 'OR', 'PA', 'RI', 'SC', 'SD', 'TN', 'TX', 'UT', 'VT', 'VA',\n",
       "       'WA', 'WV', 'WI', 'WY'], dtype=object)"
      ]
     },
     "execution_count": 21,
     "metadata": {},
     "output_type": "execute_result"
    }
   ],
   "source": [
    "# Our general df includes 48 states, and is missing AR and DE\n",
    "yelp_df[\"state\"].unique() "
   ]
  },
  {
   "cell_type": "code",
   "execution_count": 22,
   "metadata": {
    "scrolled": false
   },
   "outputs": [
    {
     "data": {
      "text/plain": [
       "array(['NY', 'OH', 'KY', 'SC', 'AR', 'IN', 'OK', 'LA', 'ND', 'TX', 'MI',\n",
       "       'MO', 'TN', 'NC', 'GA', 'UT', 'WI', 'MS', 'WA', 'NE', 'AL', 'WV',\n",
       "       'VT', 'AZ', 'KS', 'MN', 'SD', 'NM', 'OR', 'ME', 'IA', 'WY', 'IL',\n",
       "       'VA', 'MT', 'ID', 'PA', 'NJ', 'MD', 'FL', 'CA', 'MA', 'CO', 'NV',\n",
       "       'NH', 'CT', 'DE', 'HI'], dtype=object)"
      ]
     },
     "execution_count": 22,
     "metadata": {},
     "output_type": "execute_result"
    }
   ],
   "source": [
    "# our fastfood df includes 48 states, missing AK and RI\n",
    "fast_ratings_df[\"state\"].unique()"
   ]
  },
  {
   "cell_type": "markdown",
   "metadata": {},
   "source": [
    "Although the dataframes are missing a two states each, we decided to move forward using the data. However, we will go into more detail about our decision in the [Ethics & Privacy](#ethics-&-privacy) section."
   ]
  },
  {
   "cell_type": "markdown",
   "metadata": {},
   "source": [
    "**Number of Ratings per each State**"
   ]
  },
  {
   "cell_type": "markdown",
   "metadata": {},
   "source": [
    "*Non Fast Food*"
   ]
  },
  {
   "cell_type": "code",
   "execution_count": 23,
   "metadata": {},
   "outputs": [
    {
     "data": {
      "text/plain": [
       "KS    41\n",
       "OK    40\n",
       "CA    40\n",
       "TX    21\n",
       "KY    21\n",
       "Name: state, dtype: int64"
      ]
     },
     "execution_count": 23,
     "metadata": {},
     "output_type": "execute_result"
    }
   ],
   "source": [
    "non_fast_state_vals = yelp_df[\"state\"].value_counts()\n",
    "non_fast_state_vals.head()"
   ]
  },
  {
   "cell_type": "code",
   "execution_count": 24,
   "metadata": {},
   "outputs": [
    {
     "data": {
      "text/plain": [
       "count    48.000000\n",
       "mean     21.333333\n",
       "std       4.969410\n",
       "min      19.000000\n",
       "25%      20.000000\n",
       "50%      20.000000\n",
       "75%      20.000000\n",
       "max      41.000000\n",
       "Name: state, dtype: float64"
      ]
     },
     "execution_count": 24,
     "metadata": {},
     "output_type": "execute_result"
    }
   ],
   "source": [
    "non_fast_state_vals.describe()"
   ]
  },
  {
   "cell_type": "code",
   "execution_count": 25,
   "metadata": {},
   "outputs": [
    {
     "data": {
      "text/plain": [
       "MO    19\n",
       "NE    20\n",
       "DC    20\n",
       "AL    20\n",
       "NM    20\n",
       "Name: state, dtype: int64"
      ]
     },
     "execution_count": 25,
     "metadata": {},
     "output_type": "execute_result"
    }
   ],
   "source": [
    "non_fast_state_vals.nsmallest()"
   ]
  },
  {
   "cell_type": "code",
   "execution_count": 26,
   "metadata": {},
   "outputs": [
    {
     "data": {
      "text/plain": [
       "KS    41\n",
       "OK    40\n",
       "CA    40\n",
       "TX    21\n",
       "KY    21\n",
       "Name: state, dtype: int64"
      ]
     },
     "execution_count": 26,
     "metadata": {},
     "output_type": "execute_result"
    }
   ],
   "source": [
    "non_fast_state_vals.nlargest()"
   ]
  },
  {
   "cell_type": "markdown",
   "metadata": {},
   "source": [
    "*Fast Food*"
   ]
  },
  {
   "cell_type": "code",
   "execution_count": 27,
   "metadata": {},
   "outputs": [
    {
     "data": {
      "text/plain": [
       "TX    356\n",
       "KY    343\n",
       "MO    233\n",
       "OH    230\n",
       "IN    209\n",
       "Name: state, dtype: int64"
      ]
     },
     "execution_count": 27,
     "metadata": {},
     "output_type": "execute_result"
    }
   ],
   "source": [
    "fast_state_vals = fast_ratings_df[\"state\"].value_counts()\n",
    "fast_state_vals.head()"
   ]
  },
  {
   "cell_type": "code",
   "execution_count": 28,
   "metadata": {
    "scrolled": true
   },
   "outputs": [
    {
     "data": {
      "text/plain": [
       "count     48.000000\n",
       "mean      90.062500\n",
       "std       86.061187\n",
       "min        1.000000\n",
       "25%       17.000000\n",
       "50%       57.500000\n",
       "75%      146.750000\n",
       "max      356.000000\n",
       "Name: state, dtype: float64"
      ]
     },
     "execution_count": 28,
     "metadata": {},
     "output_type": "execute_result"
    }
   ],
   "source": [
    "fast_state_vals.describe()"
   ]
  },
  {
   "cell_type": "code",
   "execution_count": 29,
   "metadata": {},
   "outputs": [
    {
     "data": {
      "text/plain": [
       "VT    1\n",
       "HI    2\n",
       "CT    4\n",
       "MA    7\n",
       "NH    8\n",
       "Name: state, dtype: int64"
      ]
     },
     "execution_count": 29,
     "metadata": {},
     "output_type": "execute_result"
    }
   ],
   "source": [
    "fast_state_vals.nsmallest()"
   ]
  },
  {
   "cell_type": "code",
   "execution_count": 30,
   "metadata": {},
   "outputs": [
    {
     "data": {
      "text/plain": [
       "TX    356\n",
       "KY    343\n",
       "MO    233\n",
       "OH    230\n",
       "IN    209\n",
       "Name: state, dtype: int64"
      ]
     },
     "execution_count": 30,
     "metadata": {},
     "output_type": "execute_result"
    }
   ],
   "source": [
    "fast_state_vals.nlargest()"
   ]
  },
  {
   "cell_type": "markdown",
   "metadata": {},
   "source": [
    "When looking at the number of ratings for each state between the two Yelp dataframes, we can see that there is a much larger range in the fast_ratings_df than in the yelp_df. For the non fast food restaurant data there are around 20 restaurants recorded for each state but for the fast food restaurant data there is anywere between 1 and 356 restaurants per state, with an average of 90 restaurants per state."
   ]
  },
  {
   "cell_type": "code",
   "execution_count": 31,
   "metadata": {},
   "outputs": [
    {
     "data": {
      "text/plain": [
       "CA    676\n",
       "TX    634\n",
       "OH    543\n",
       "FL    471\n",
       "IN    379\n",
       "Name: state, dtype: int64"
      ]
     },
     "execution_count": 31,
     "metadata": {},
     "output_type": "execute_result"
    }
   ],
   "source": [
    "kaggle_state_vals = fast_df['state'].value_counts()\n",
    "kaggle_state_vals.head()"
   ]
  },
  {
   "cell_type": "code",
   "execution_count": 32,
   "metadata": {},
   "outputs": [
    {
     "data": {
      "text/plain": [
       "count     52.000000\n",
       "mean     192.307692\n",
       "std      155.515277\n",
       "min        5.000000\n",
       "25%       89.500000\n",
       "50%      154.500000\n",
       "75%      255.500000\n",
       "max      676.000000\n",
       "Name: state, dtype: float64"
      ]
     },
     "execution_count": 32,
     "metadata": {},
     "output_type": "execute_result"
    }
   ],
   "source": [
    "kaggle_state_vals.describe()"
   ]
  },
  {
   "cell_type": "code",
   "execution_count": 33,
   "metadata": {},
   "outputs": [
    {
     "data": {
      "text/plain": [
       "Co Spgs     5\n",
       "AK         14\n",
       "DC         21\n",
       "RI         24\n",
       "MT         25\n",
       "Name: state, dtype: int64"
      ]
     },
     "execution_count": 33,
     "metadata": {},
     "output_type": "execute_result"
    }
   ],
   "source": [
    "kaggle_state_vals.nsmallest()"
   ]
  },
  {
   "cell_type": "code",
   "execution_count": 34,
   "metadata": {},
   "outputs": [
    {
     "data": {
      "text/plain": [
       "CA    676\n",
       "TX    634\n",
       "OH    543\n",
       "FL    471\n",
       "IN    379\n",
       "Name: state, dtype: int64"
      ]
     },
     "execution_count": 34,
     "metadata": {},
     "output_type": "execute_result"
    }
   ],
   "source": [
    "kaggle_state_vals.nlargest()"
   ]
  },
  {
   "cell_type": "markdown",
   "metadata": {},
   "source": [
    "The Kaggle dataset will probably be a better measure of how fast food restaurants are distributed in America because we have no way of determining the way in which the Yelp API returned only part of the data that they have. We will look more into how we analyzed the distribution of fast food restaurants in our exploratory data visualizations."
   ]
  },
  {
   "cell_type": "markdown",
   "metadata": {},
   "source": [
    "**Check for Null Values**"
   ]
  },
  {
   "cell_type": "code",
   "execution_count": 35,
   "metadata": {
    "scrolled": false
   },
   "outputs": [
    {
     "data": {
      "text/plain": [
       "(0, 8)"
      ]
     },
     "execution_count": 35,
     "metadata": {},
     "output_type": "execute_result"
    }
   ],
   "source": [
    "# our general df has no null values!\n",
    "null_rows = yelp_df.isnull().any(axis=1)\n",
    "yelp_df[null_rows].shape"
   ]
  },
  {
   "cell_type": "code",
   "execution_count": 36,
   "metadata": {
    "scrolled": false
   },
   "outputs": [
    {
     "data": {
      "text/plain": [
       "(0, 8)"
      ]
     },
     "execution_count": 36,
     "metadata": {},
     "output_type": "execute_result"
    }
   ],
   "source": [
    "# our fast food df has no null values!\n",
    "null_rows = fast_ratings_df.isnull().any(axis=1)\n",
    "fast_ratings_df[null_rows].shape"
   ]
  },
  {
   "cell_type": "code",
   "execution_count": 37,
   "metadata": {},
   "outputs": [
    {
     "data": {
      "text/plain": [
       "(0, 5)"
      ]
     },
     "execution_count": 37,
     "metadata": {},
     "output_type": "execute_result"
    }
   ],
   "source": [
    "# our kaggle fast food df has no null values!\n",
    "null_rows = fast_df.isnull().any(axis=1)\n",
    "fast_df[null_rows].shape"
   ]
  },
  {
   "cell_type": "markdown",
   "metadata": {},
   "source": [
    "Since there are no null values in any of our data, we can move forward with all our datasets."
   ]
  },
  {
   "cell_type": "markdown",
   "metadata": {},
   "source": [
    "#### List of top ten types of cuisine\n",
    "We will be analyzing the ratings for the top ten types of cuisine in the United States, along with American food.\n",
    "\n",
    "source: https://www.thinktasty.com/the-most-popular-cuisines-in-the-united-states/"
   ]
  },
  {
   "cell_type": "code",
   "execution_count": 38,
   "metadata": {
    "scrolled": true
   },
   "outputs": [],
   "source": [
    "cuisine = ['american', 'mexican', 'thai', 'greek', 'indian', 'japanese', \n",
    "           'spanish', 'chinese', 'french', 'italian', 'mediterranean']"
   ]
  },
  {
   "cell_type": "markdown",
   "metadata": {},
   "source": [
    "#### Find average ratings by cuisine for Non Fast Food Restaurants"
   ]
  },
  {
   "cell_type": "markdown",
   "metadata": {},
   "source": [
    "First create a list of all the average ratings of each cuisine per state."
   ]
  },
  {
   "cell_type": "code",
   "execution_count": 39,
   "metadata": {
    "scrolled": true
   },
   "outputs": [],
   "source": [
    "def find_avg_rating(category):\n",
    "    cat_list = []\n",
    "    for i in yelp_df.index:\n",
    "        is_cat = category in yelp_df['category'].iloc[i]\n",
    "        cat_list.append(is_cat)\n",
    "    temp = yelp_df.assign(cat_clean = cat_list)\n",
    "    temp_df = temp[temp['cat_clean'].values==True]\n",
    "    return temp_df.groupby('state').rating.mean()\n",
    "    \n",
    "all_cuisine_ratings = {}\n",
    "for cuis in cuisine:\n",
    "    all_cuisine_ratings[cuis] = find_avg_rating(cuis)"
   ]
  },
  {
   "cell_type": "markdown",
   "metadata": {},
   "source": [
    "Then format all the average ratings of each cuisine in each state into a dataframe."
   ]
  },
  {
   "cell_type": "code",
   "execution_count": 40,
   "metadata": {
    "scrolled": true
   },
   "outputs": [
    {
     "data": {
      "text/html": [
       "<div>\n",
       "<style scoped>\n",
       "    .dataframe tbody tr th:only-of-type {\n",
       "        vertical-align: middle;\n",
       "    }\n",
       "\n",
       "    .dataframe tbody tr th {\n",
       "        vertical-align: top;\n",
       "    }\n",
       "\n",
       "    .dataframe thead th {\n",
       "        text-align: right;\n",
       "    }\n",
       "</style>\n",
       "<table border=\"1\" class=\"dataframe\">\n",
       "  <thead>\n",
       "    <tr style=\"text-align: right;\">\n",
       "      <th></th>\n",
       "      <th>state</th>\n",
       "      <th>american</th>\n",
       "      <th>mexican</th>\n",
       "      <th>thai</th>\n",
       "      <th>greek</th>\n",
       "      <th>indian</th>\n",
       "      <th>japanese</th>\n",
       "      <th>spanish</th>\n",
       "      <th>chinese</th>\n",
       "      <th>french</th>\n",
       "      <th>italian</th>\n",
       "      <th>mediterranean</th>\n",
       "    </tr>\n",
       "  </thead>\n",
       "  <tbody>\n",
       "    <tr>\n",
       "      <td>0</td>\n",
       "      <td>AL</td>\n",
       "      <td>4.500000</td>\n",
       "      <td>4.50</td>\n",
       "      <td>4.50</td>\n",
       "      <td>NaN</td>\n",
       "      <td>NaN</td>\n",
       "      <td>NaN</td>\n",
       "      <td>NaN</td>\n",
       "      <td>NaN</td>\n",
       "      <td>4.500000</td>\n",
       "      <td>4.500000</td>\n",
       "      <td>NaN</td>\n",
       "    </tr>\n",
       "    <tr>\n",
       "      <td>1</td>\n",
       "      <td>AK</td>\n",
       "      <td>4.071429</td>\n",
       "      <td>NaN</td>\n",
       "      <td>NaN</td>\n",
       "      <td>NaN</td>\n",
       "      <td>NaN</td>\n",
       "      <td>4.500000</td>\n",
       "      <td>NaN</td>\n",
       "      <td>NaN</td>\n",
       "      <td>NaN</td>\n",
       "      <td>NaN</td>\n",
       "      <td>4.25</td>\n",
       "    </tr>\n",
       "    <tr>\n",
       "      <td>2</td>\n",
       "      <td>AZ</td>\n",
       "      <td>4.000000</td>\n",
       "      <td>4.50</td>\n",
       "      <td>4.50</td>\n",
       "      <td>NaN</td>\n",
       "      <td>NaN</td>\n",
       "      <td>4.500000</td>\n",
       "      <td>NaN</td>\n",
       "      <td>NaN</td>\n",
       "      <td>NaN</td>\n",
       "      <td>4.500000</td>\n",
       "      <td>NaN</td>\n",
       "    </tr>\n",
       "    <tr>\n",
       "      <td>3</td>\n",
       "      <td>OK</td>\n",
       "      <td>4.363636</td>\n",
       "      <td>4.00</td>\n",
       "      <td>5.00</td>\n",
       "      <td>NaN</td>\n",
       "      <td>NaN</td>\n",
       "      <td>NaN</td>\n",
       "      <td>NaN</td>\n",
       "      <td>NaN</td>\n",
       "      <td>NaN</td>\n",
       "      <td>4.250000</td>\n",
       "      <td>NaN</td>\n",
       "    </tr>\n",
       "    <tr>\n",
       "      <td>4</td>\n",
       "      <td>CA</td>\n",
       "      <td>4.125000</td>\n",
       "      <td>4.50</td>\n",
       "      <td>NaN</td>\n",
       "      <td>NaN</td>\n",
       "      <td>NaN</td>\n",
       "      <td>4.500000</td>\n",
       "      <td>NaN</td>\n",
       "      <td>NaN</td>\n",
       "      <td>4.166667</td>\n",
       "      <td>4.250000</td>\n",
       "      <td>NaN</td>\n",
       "    </tr>\n",
       "    <tr>\n",
       "      <td>5</td>\n",
       "      <td>CO</td>\n",
       "      <td>4.285714</td>\n",
       "      <td>4.00</td>\n",
       "      <td>NaN</td>\n",
       "      <td>NaN</td>\n",
       "      <td>NaN</td>\n",
       "      <td>4.500000</td>\n",
       "      <td>4.500000</td>\n",
       "      <td>NaN</td>\n",
       "      <td>NaN</td>\n",
       "      <td>4.250000</td>\n",
       "      <td>NaN</td>\n",
       "    </tr>\n",
       "    <tr>\n",
       "      <td>6</td>\n",
       "      <td>CT</td>\n",
       "      <td>4.000000</td>\n",
       "      <td>NaN</td>\n",
       "      <td>4.50</td>\n",
       "      <td>NaN</td>\n",
       "      <td>NaN</td>\n",
       "      <td>NaN</td>\n",
       "      <td>NaN</td>\n",
       "      <td>NaN</td>\n",
       "      <td>NaN</td>\n",
       "      <td>4.000000</td>\n",
       "      <td>NaN</td>\n",
       "    </tr>\n",
       "    <tr>\n",
       "      <td>7</td>\n",
       "      <td>DC</td>\n",
       "      <td>4.083333</td>\n",
       "      <td>NaN</td>\n",
       "      <td>NaN</td>\n",
       "      <td>4.0</td>\n",
       "      <td>NaN</td>\n",
       "      <td>NaN</td>\n",
       "      <td>NaN</td>\n",
       "      <td>NaN</td>\n",
       "      <td>4.500000</td>\n",
       "      <td>4.333333</td>\n",
       "      <td>NaN</td>\n",
       "    </tr>\n",
       "    <tr>\n",
       "      <td>8</td>\n",
       "      <td>KS</td>\n",
       "      <td>4.384615</td>\n",
       "      <td>3.50</td>\n",
       "      <td>5.00</td>\n",
       "      <td>4.5</td>\n",
       "      <td>NaN</td>\n",
       "      <td>NaN</td>\n",
       "      <td>NaN</td>\n",
       "      <td>NaN</td>\n",
       "      <td>4.500000</td>\n",
       "      <td>4.750000</td>\n",
       "      <td>4.50</td>\n",
       "    </tr>\n",
       "    <tr>\n",
       "      <td>9</td>\n",
       "      <td>FL</td>\n",
       "      <td>4.416667</td>\n",
       "      <td>4.00</td>\n",
       "      <td>NaN</td>\n",
       "      <td>4.5</td>\n",
       "      <td>NaN</td>\n",
       "      <td>NaN</td>\n",
       "      <td>NaN</td>\n",
       "      <td>NaN</td>\n",
       "      <td>NaN</td>\n",
       "      <td>4.666667</td>\n",
       "      <td>4.50</td>\n",
       "    </tr>\n",
       "    <tr>\n",
       "      <td>10</td>\n",
       "      <td>GA</td>\n",
       "      <td>4.416667</td>\n",
       "      <td>NaN</td>\n",
       "      <td>NaN</td>\n",
       "      <td>NaN</td>\n",
       "      <td>NaN</td>\n",
       "      <td>4.500000</td>\n",
       "      <td>NaN</td>\n",
       "      <td>NaN</td>\n",
       "      <td>NaN</td>\n",
       "      <td>NaN</td>\n",
       "      <td>5.00</td>\n",
       "    </tr>\n",
       "    <tr>\n",
       "      <td>11</td>\n",
       "      <td>HI</td>\n",
       "      <td>NaN</td>\n",
       "      <td>NaN</td>\n",
       "      <td>NaN</td>\n",
       "      <td>NaN</td>\n",
       "      <td>NaN</td>\n",
       "      <td>4.500000</td>\n",
       "      <td>NaN</td>\n",
       "      <td>NaN</td>\n",
       "      <td>NaN</td>\n",
       "      <td>NaN</td>\n",
       "      <td>NaN</td>\n",
       "    </tr>\n",
       "    <tr>\n",
       "      <td>12</td>\n",
       "      <td>ID</td>\n",
       "      <td>4.166667</td>\n",
       "      <td>NaN</td>\n",
       "      <td>4.00</td>\n",
       "      <td>NaN</td>\n",
       "      <td>NaN</td>\n",
       "      <td>NaN</td>\n",
       "      <td>4.500000</td>\n",
       "      <td>NaN</td>\n",
       "      <td>NaN</td>\n",
       "      <td>4.250000</td>\n",
       "      <td>NaN</td>\n",
       "    </tr>\n",
       "    <tr>\n",
       "      <td>13</td>\n",
       "      <td>IL</td>\n",
       "      <td>4.500000</td>\n",
       "      <td>4.00</td>\n",
       "      <td>NaN</td>\n",
       "      <td>NaN</td>\n",
       "      <td>NaN</td>\n",
       "      <td>NaN</td>\n",
       "      <td>4.000000</td>\n",
       "      <td>NaN</td>\n",
       "      <td>NaN</td>\n",
       "      <td>4.166667</td>\n",
       "      <td>4.00</td>\n",
       "    </tr>\n",
       "    <tr>\n",
       "      <td>14</td>\n",
       "      <td>IN</td>\n",
       "      <td>4.500000</td>\n",
       "      <td>4.50</td>\n",
       "      <td>NaN</td>\n",
       "      <td>NaN</td>\n",
       "      <td>NaN</td>\n",
       "      <td>NaN</td>\n",
       "      <td>NaN</td>\n",
       "      <td>NaN</td>\n",
       "      <td>NaN</td>\n",
       "      <td>NaN</td>\n",
       "      <td>NaN</td>\n",
       "    </tr>\n",
       "    <tr>\n",
       "      <td>15</td>\n",
       "      <td>IA</td>\n",
       "      <td>4.125000</td>\n",
       "      <td>4.50</td>\n",
       "      <td>NaN</td>\n",
       "      <td>4.5</td>\n",
       "      <td>NaN</td>\n",
       "      <td>4.500000</td>\n",
       "      <td>NaN</td>\n",
       "      <td>NaN</td>\n",
       "      <td>4.000000</td>\n",
       "      <td>NaN</td>\n",
       "      <td>4.25</td>\n",
       "    </tr>\n",
       "    <tr>\n",
       "      <td>16</td>\n",
       "      <td>KY</td>\n",
       "      <td>4.444444</td>\n",
       "      <td>4.50</td>\n",
       "      <td>NaN</td>\n",
       "      <td>NaN</td>\n",
       "      <td>NaN</td>\n",
       "      <td>NaN</td>\n",
       "      <td>NaN</td>\n",
       "      <td>NaN</td>\n",
       "      <td>NaN</td>\n",
       "      <td>NaN</td>\n",
       "      <td>NaN</td>\n",
       "    </tr>\n",
       "    <tr>\n",
       "      <td>17</td>\n",
       "      <td>ME</td>\n",
       "      <td>4.416667</td>\n",
       "      <td>NaN</td>\n",
       "      <td>4.50</td>\n",
       "      <td>NaN</td>\n",
       "      <td>NaN</td>\n",
       "      <td>NaN</td>\n",
       "      <td>NaN</td>\n",
       "      <td>NaN</td>\n",
       "      <td>NaN</td>\n",
       "      <td>NaN</td>\n",
       "      <td>4.50</td>\n",
       "    </tr>\n",
       "    <tr>\n",
       "      <td>18</td>\n",
       "      <td>MD</td>\n",
       "      <td>4.142857</td>\n",
       "      <td>4.50</td>\n",
       "      <td>NaN</td>\n",
       "      <td>NaN</td>\n",
       "      <td>NaN</td>\n",
       "      <td>NaN</td>\n",
       "      <td>NaN</td>\n",
       "      <td>NaN</td>\n",
       "      <td>4.500000</td>\n",
       "      <td>4.500000</td>\n",
       "      <td>4.50</td>\n",
       "    </tr>\n",
       "    <tr>\n",
       "      <td>19</td>\n",
       "      <td>MA</td>\n",
       "      <td>4.000000</td>\n",
       "      <td>4.00</td>\n",
       "      <td>NaN</td>\n",
       "      <td>NaN</td>\n",
       "      <td>NaN</td>\n",
       "      <td>NaN</td>\n",
       "      <td>4.250000</td>\n",
       "      <td>NaN</td>\n",
       "      <td>NaN</td>\n",
       "      <td>4.125000</td>\n",
       "      <td>NaN</td>\n",
       "    </tr>\n",
       "    <tr>\n",
       "      <td>20</td>\n",
       "      <td>MI</td>\n",
       "      <td>4.250000</td>\n",
       "      <td>4.50</td>\n",
       "      <td>4.50</td>\n",
       "      <td>NaN</td>\n",
       "      <td>NaN</td>\n",
       "      <td>NaN</td>\n",
       "      <td>NaN</td>\n",
       "      <td>NaN</td>\n",
       "      <td>NaN</td>\n",
       "      <td>4.500000</td>\n",
       "      <td>NaN</td>\n",
       "    </tr>\n",
       "    <tr>\n",
       "      <td>21</td>\n",
       "      <td>MN</td>\n",
       "      <td>4.375000</td>\n",
       "      <td>NaN</td>\n",
       "      <td>4.50</td>\n",
       "      <td>4.5</td>\n",
       "      <td>NaN</td>\n",
       "      <td>NaN</td>\n",
       "      <td>NaN</td>\n",
       "      <td>NaN</td>\n",
       "      <td>4.250000</td>\n",
       "      <td>4.250000</td>\n",
       "      <td>4.50</td>\n",
       "    </tr>\n",
       "    <tr>\n",
       "      <td>22</td>\n",
       "      <td>MS</td>\n",
       "      <td>4.333333</td>\n",
       "      <td>4.00</td>\n",
       "      <td>4.25</td>\n",
       "      <td>4.0</td>\n",
       "      <td>NaN</td>\n",
       "      <td>NaN</td>\n",
       "      <td>NaN</td>\n",
       "      <td>NaN</td>\n",
       "      <td>NaN</td>\n",
       "      <td>4.000000</td>\n",
       "      <td>4.00</td>\n",
       "    </tr>\n",
       "    <tr>\n",
       "      <td>23</td>\n",
       "      <td>MO</td>\n",
       "      <td>4.250000</td>\n",
       "      <td>NaN</td>\n",
       "      <td>NaN</td>\n",
       "      <td>NaN</td>\n",
       "      <td>NaN</td>\n",
       "      <td>NaN</td>\n",
       "      <td>NaN</td>\n",
       "      <td>NaN</td>\n",
       "      <td>NaN</td>\n",
       "      <td>NaN</td>\n",
       "      <td>NaN</td>\n",
       "    </tr>\n",
       "    <tr>\n",
       "      <td>24</td>\n",
       "      <td>MT</td>\n",
       "      <td>4.375000</td>\n",
       "      <td>NaN</td>\n",
       "      <td>4.50</td>\n",
       "      <td>NaN</td>\n",
       "      <td>NaN</td>\n",
       "      <td>4.500000</td>\n",
       "      <td>NaN</td>\n",
       "      <td>NaN</td>\n",
       "      <td>NaN</td>\n",
       "      <td>NaN</td>\n",
       "      <td>NaN</td>\n",
       "    </tr>\n",
       "    <tr>\n",
       "      <td>25</td>\n",
       "      <td>NE</td>\n",
       "      <td>4.375000</td>\n",
       "      <td>NaN</td>\n",
       "      <td>NaN</td>\n",
       "      <td>NaN</td>\n",
       "      <td>NaN</td>\n",
       "      <td>4.000000</td>\n",
       "      <td>NaN</td>\n",
       "      <td>NaN</td>\n",
       "      <td>4.500000</td>\n",
       "      <td>NaN</td>\n",
       "      <td>NaN</td>\n",
       "    </tr>\n",
       "    <tr>\n",
       "      <td>26</td>\n",
       "      <td>NV</td>\n",
       "      <td>4.428571</td>\n",
       "      <td>4.50</td>\n",
       "      <td>4.00</td>\n",
       "      <td>NaN</td>\n",
       "      <td>NaN</td>\n",
       "      <td>4.500000</td>\n",
       "      <td>NaN</td>\n",
       "      <td>NaN</td>\n",
       "      <td>4.000000</td>\n",
       "      <td>NaN</td>\n",
       "      <td>NaN</td>\n",
       "    </tr>\n",
       "    <tr>\n",
       "      <td>27</td>\n",
       "      <td>NH</td>\n",
       "      <td>4.071429</td>\n",
       "      <td>4.50</td>\n",
       "      <td>4.50</td>\n",
       "      <td>4.5</td>\n",
       "      <td>NaN</td>\n",
       "      <td>NaN</td>\n",
       "      <td>NaN</td>\n",
       "      <td>NaN</td>\n",
       "      <td>NaN</td>\n",
       "      <td>4.500000</td>\n",
       "      <td>4.50</td>\n",
       "    </tr>\n",
       "    <tr>\n",
       "      <td>28</td>\n",
       "      <td>NJ</td>\n",
       "      <td>4.000000</td>\n",
       "      <td>4.50</td>\n",
       "      <td>NaN</td>\n",
       "      <td>NaN</td>\n",
       "      <td>NaN</td>\n",
       "      <td>NaN</td>\n",
       "      <td>4.166667</td>\n",
       "      <td>NaN</td>\n",
       "      <td>NaN</td>\n",
       "      <td>NaN</td>\n",
       "      <td>NaN</td>\n",
       "    </tr>\n",
       "    <tr>\n",
       "      <td>29</td>\n",
       "      <td>NM</td>\n",
       "      <td>4.375000</td>\n",
       "      <td>4.30</td>\n",
       "      <td>NaN</td>\n",
       "      <td>NaN</td>\n",
       "      <td>NaN</td>\n",
       "      <td>4.500000</td>\n",
       "      <td>NaN</td>\n",
       "      <td>NaN</td>\n",
       "      <td>NaN</td>\n",
       "      <td>NaN</td>\n",
       "      <td>NaN</td>\n",
       "    </tr>\n",
       "    <tr>\n",
       "      <td>30</td>\n",
       "      <td>NY</td>\n",
       "      <td>4.166667</td>\n",
       "      <td>NaN</td>\n",
       "      <td>4.50</td>\n",
       "      <td>NaN</td>\n",
       "      <td>NaN</td>\n",
       "      <td>NaN</td>\n",
       "      <td>NaN</td>\n",
       "      <td>NaN</td>\n",
       "      <td>NaN</td>\n",
       "      <td>4.500000</td>\n",
       "      <td>NaN</td>\n",
       "    </tr>\n",
       "    <tr>\n",
       "      <td>31</td>\n",
       "      <td>NC</td>\n",
       "      <td>4.333333</td>\n",
       "      <td>4.50</td>\n",
       "      <td>NaN</td>\n",
       "      <td>NaN</td>\n",
       "      <td>NaN</td>\n",
       "      <td>NaN</td>\n",
       "      <td>NaN</td>\n",
       "      <td>NaN</td>\n",
       "      <td>NaN</td>\n",
       "      <td>NaN</td>\n",
       "      <td>4.50</td>\n",
       "    </tr>\n",
       "    <tr>\n",
       "      <td>32</td>\n",
       "      <td>ND</td>\n",
       "      <td>4.312500</td>\n",
       "      <td>4.25</td>\n",
       "      <td>NaN</td>\n",
       "      <td>4.5</td>\n",
       "      <td>NaN</td>\n",
       "      <td>NaN</td>\n",
       "      <td>NaN</td>\n",
       "      <td>NaN</td>\n",
       "      <td>NaN</td>\n",
       "      <td>NaN</td>\n",
       "      <td>4.50</td>\n",
       "    </tr>\n",
       "    <tr>\n",
       "      <td>33</td>\n",
       "      <td>OH</td>\n",
       "      <td>4.357143</td>\n",
       "      <td>4.50</td>\n",
       "      <td>NaN</td>\n",
       "      <td>NaN</td>\n",
       "      <td>NaN</td>\n",
       "      <td>NaN</td>\n",
       "      <td>NaN</td>\n",
       "      <td>NaN</td>\n",
       "      <td>NaN</td>\n",
       "      <td>4.000000</td>\n",
       "      <td>4.50</td>\n",
       "    </tr>\n",
       "    <tr>\n",
       "      <td>34</td>\n",
       "      <td>OR</td>\n",
       "      <td>4.400000</td>\n",
       "      <td>NaN</td>\n",
       "      <td>4.25</td>\n",
       "      <td>NaN</td>\n",
       "      <td>NaN</td>\n",
       "      <td>NaN</td>\n",
       "      <td>4.500000</td>\n",
       "      <td>NaN</td>\n",
       "      <td>NaN</td>\n",
       "      <td>NaN</td>\n",
       "      <td>NaN</td>\n",
       "    </tr>\n",
       "    <tr>\n",
       "      <td>35</td>\n",
       "      <td>PA</td>\n",
       "      <td>4.300000</td>\n",
       "      <td>4.00</td>\n",
       "      <td>NaN</td>\n",
       "      <td>NaN</td>\n",
       "      <td>NaN</td>\n",
       "      <td>4.500000</td>\n",
       "      <td>4.000000</td>\n",
       "      <td>4.0</td>\n",
       "      <td>4.000000</td>\n",
       "      <td>NaN</td>\n",
       "      <td>4.50</td>\n",
       "    </tr>\n",
       "    <tr>\n",
       "      <td>36</td>\n",
       "      <td>RI</td>\n",
       "      <td>4.300000</td>\n",
       "      <td>NaN</td>\n",
       "      <td>NaN</td>\n",
       "      <td>NaN</td>\n",
       "      <td>NaN</td>\n",
       "      <td>4.500000</td>\n",
       "      <td>NaN</td>\n",
       "      <td>4.0</td>\n",
       "      <td>4.500000</td>\n",
       "      <td>4.750000</td>\n",
       "      <td>NaN</td>\n",
       "    </tr>\n",
       "    <tr>\n",
       "      <td>37</td>\n",
       "      <td>SC</td>\n",
       "      <td>4.166667</td>\n",
       "      <td>4.75</td>\n",
       "      <td>NaN</td>\n",
       "      <td>NaN</td>\n",
       "      <td>NaN</td>\n",
       "      <td>4.000000</td>\n",
       "      <td>NaN</td>\n",
       "      <td>NaN</td>\n",
       "      <td>NaN</td>\n",
       "      <td>4.500000</td>\n",
       "      <td>4.50</td>\n",
       "    </tr>\n",
       "    <tr>\n",
       "      <td>38</td>\n",
       "      <td>SD</td>\n",
       "      <td>4.125000</td>\n",
       "      <td>4.50</td>\n",
       "      <td>NaN</td>\n",
       "      <td>NaN</td>\n",
       "      <td>NaN</td>\n",
       "      <td>4.500000</td>\n",
       "      <td>NaN</td>\n",
       "      <td>4.5</td>\n",
       "      <td>NaN</td>\n",
       "      <td>NaN</td>\n",
       "      <td>4.50</td>\n",
       "    </tr>\n",
       "    <tr>\n",
       "      <td>39</td>\n",
       "      <td>TN</td>\n",
       "      <td>4.200000</td>\n",
       "      <td>4.50</td>\n",
       "      <td>NaN</td>\n",
       "      <td>NaN</td>\n",
       "      <td>NaN</td>\n",
       "      <td>NaN</td>\n",
       "      <td>NaN</td>\n",
       "      <td>NaN</td>\n",
       "      <td>NaN</td>\n",
       "      <td>NaN</td>\n",
       "      <td>5.00</td>\n",
       "    </tr>\n",
       "    <tr>\n",
       "      <td>40</td>\n",
       "      <td>TX</td>\n",
       "      <td>4.416667</td>\n",
       "      <td>NaN</td>\n",
       "      <td>NaN</td>\n",
       "      <td>NaN</td>\n",
       "      <td>NaN</td>\n",
       "      <td>4.250000</td>\n",
       "      <td>NaN</td>\n",
       "      <td>NaN</td>\n",
       "      <td>NaN</td>\n",
       "      <td>4.000000</td>\n",
       "      <td>NaN</td>\n",
       "    </tr>\n",
       "    <tr>\n",
       "      <td>41</td>\n",
       "      <td>UT</td>\n",
       "      <td>4.214286</td>\n",
       "      <td>4.50</td>\n",
       "      <td>NaN</td>\n",
       "      <td>NaN</td>\n",
       "      <td>NaN</td>\n",
       "      <td>4.500000</td>\n",
       "      <td>NaN</td>\n",
       "      <td>NaN</td>\n",
       "      <td>NaN</td>\n",
       "      <td>4.500000</td>\n",
       "      <td>NaN</td>\n",
       "    </tr>\n",
       "    <tr>\n",
       "      <td>42</td>\n",
       "      <td>VT</td>\n",
       "      <td>4.200000</td>\n",
       "      <td>NaN</td>\n",
       "      <td>NaN</td>\n",
       "      <td>NaN</td>\n",
       "      <td>NaN</td>\n",
       "      <td>NaN</td>\n",
       "      <td>NaN</td>\n",
       "      <td>NaN</td>\n",
       "      <td>4.000000</td>\n",
       "      <td>4.250000</td>\n",
       "      <td>NaN</td>\n",
       "    </tr>\n",
       "    <tr>\n",
       "      <td>43</td>\n",
       "      <td>VA</td>\n",
       "      <td>4.142857</td>\n",
       "      <td>NaN</td>\n",
       "      <td>NaN</td>\n",
       "      <td>NaN</td>\n",
       "      <td>NaN</td>\n",
       "      <td>NaN</td>\n",
       "      <td>NaN</td>\n",
       "      <td>NaN</td>\n",
       "      <td>NaN</td>\n",
       "      <td>NaN</td>\n",
       "      <td>4.50</td>\n",
       "    </tr>\n",
       "    <tr>\n",
       "      <td>44</td>\n",
       "      <td>WA</td>\n",
       "      <td>NaN</td>\n",
       "      <td>4.50</td>\n",
       "      <td>NaN</td>\n",
       "      <td>4.0</td>\n",
       "      <td>NaN</td>\n",
       "      <td>4.166667</td>\n",
       "      <td>NaN</td>\n",
       "      <td>NaN</td>\n",
       "      <td>NaN</td>\n",
       "      <td>4.500000</td>\n",
       "      <td>4.00</td>\n",
       "    </tr>\n",
       "    <tr>\n",
       "      <td>45</td>\n",
       "      <td>WV</td>\n",
       "      <td>4.250000</td>\n",
       "      <td>4.00</td>\n",
       "      <td>4.50</td>\n",
       "      <td>NaN</td>\n",
       "      <td>NaN</td>\n",
       "      <td>NaN</td>\n",
       "      <td>NaN</td>\n",
       "      <td>NaN</td>\n",
       "      <td>NaN</td>\n",
       "      <td>NaN</td>\n",
       "      <td>4.50</td>\n",
       "    </tr>\n",
       "    <tr>\n",
       "      <td>46</td>\n",
       "      <td>WI</td>\n",
       "      <td>4.357143</td>\n",
       "      <td>4.50</td>\n",
       "      <td>4.50</td>\n",
       "      <td>NaN</td>\n",
       "      <td>NaN</td>\n",
       "      <td>NaN</td>\n",
       "      <td>NaN</td>\n",
       "      <td>NaN</td>\n",
       "      <td>NaN</td>\n",
       "      <td>4.500000</td>\n",
       "      <td>NaN</td>\n",
       "    </tr>\n",
       "    <tr>\n",
       "      <td>47</td>\n",
       "      <td>WY</td>\n",
       "      <td>3.800000</td>\n",
       "      <td>4.00</td>\n",
       "      <td>4.00</td>\n",
       "      <td>NaN</td>\n",
       "      <td>NaN</td>\n",
       "      <td>3.500000</td>\n",
       "      <td>NaN</td>\n",
       "      <td>NaN</td>\n",
       "      <td>NaN</td>\n",
       "      <td>4.000000</td>\n",
       "      <td>NaN</td>\n",
       "    </tr>\n",
       "  </tbody>\n",
       "</table>\n",
       "</div>"
      ],
      "text/plain": [
       "   state  american  mexican  thai  greek  indian  japanese   spanish  chinese  \\\n",
       "0     AL  4.500000     4.50  4.50    NaN     NaN       NaN       NaN      NaN   \n",
       "1     AK  4.071429      NaN   NaN    NaN     NaN  4.500000       NaN      NaN   \n",
       "2     AZ  4.000000     4.50  4.50    NaN     NaN  4.500000       NaN      NaN   \n",
       "3     OK  4.363636     4.00  5.00    NaN     NaN       NaN       NaN      NaN   \n",
       "4     CA  4.125000     4.50   NaN    NaN     NaN  4.500000       NaN      NaN   \n",
       "5     CO  4.285714     4.00   NaN    NaN     NaN  4.500000  4.500000      NaN   \n",
       "6     CT  4.000000      NaN  4.50    NaN     NaN       NaN       NaN      NaN   \n",
       "7     DC  4.083333      NaN   NaN    4.0     NaN       NaN       NaN      NaN   \n",
       "8     KS  4.384615     3.50  5.00    4.5     NaN       NaN       NaN      NaN   \n",
       "9     FL  4.416667     4.00   NaN    4.5     NaN       NaN       NaN      NaN   \n",
       "10    GA  4.416667      NaN   NaN    NaN     NaN  4.500000       NaN      NaN   \n",
       "11    HI       NaN      NaN   NaN    NaN     NaN  4.500000       NaN      NaN   \n",
       "12    ID  4.166667      NaN  4.00    NaN     NaN       NaN  4.500000      NaN   \n",
       "13    IL  4.500000     4.00   NaN    NaN     NaN       NaN  4.000000      NaN   \n",
       "14    IN  4.500000     4.50   NaN    NaN     NaN       NaN       NaN      NaN   \n",
       "15    IA  4.125000     4.50   NaN    4.5     NaN  4.500000       NaN      NaN   \n",
       "16    KY  4.444444     4.50   NaN    NaN     NaN       NaN       NaN      NaN   \n",
       "17    ME  4.416667      NaN  4.50    NaN     NaN       NaN       NaN      NaN   \n",
       "18    MD  4.142857     4.50   NaN    NaN     NaN       NaN       NaN      NaN   \n",
       "19    MA  4.000000     4.00   NaN    NaN     NaN       NaN  4.250000      NaN   \n",
       "20    MI  4.250000     4.50  4.50    NaN     NaN       NaN       NaN      NaN   \n",
       "21    MN  4.375000      NaN  4.50    4.5     NaN       NaN       NaN      NaN   \n",
       "22    MS  4.333333     4.00  4.25    4.0     NaN       NaN       NaN      NaN   \n",
       "23    MO  4.250000      NaN   NaN    NaN     NaN       NaN       NaN      NaN   \n",
       "24    MT  4.375000      NaN  4.50    NaN     NaN  4.500000       NaN      NaN   \n",
       "25    NE  4.375000      NaN   NaN    NaN     NaN  4.000000       NaN      NaN   \n",
       "26    NV  4.428571     4.50  4.00    NaN     NaN  4.500000       NaN      NaN   \n",
       "27    NH  4.071429     4.50  4.50    4.5     NaN       NaN       NaN      NaN   \n",
       "28    NJ  4.000000     4.50   NaN    NaN     NaN       NaN  4.166667      NaN   \n",
       "29    NM  4.375000     4.30   NaN    NaN     NaN  4.500000       NaN      NaN   \n",
       "30    NY  4.166667      NaN  4.50    NaN     NaN       NaN       NaN      NaN   \n",
       "31    NC  4.333333     4.50   NaN    NaN     NaN       NaN       NaN      NaN   \n",
       "32    ND  4.312500     4.25   NaN    4.5     NaN       NaN       NaN      NaN   \n",
       "33    OH  4.357143     4.50   NaN    NaN     NaN       NaN       NaN      NaN   \n",
       "34    OR  4.400000      NaN  4.25    NaN     NaN       NaN  4.500000      NaN   \n",
       "35    PA  4.300000     4.00   NaN    NaN     NaN  4.500000  4.000000      4.0   \n",
       "36    RI  4.300000      NaN   NaN    NaN     NaN  4.500000       NaN      4.0   \n",
       "37    SC  4.166667     4.75   NaN    NaN     NaN  4.000000       NaN      NaN   \n",
       "38    SD  4.125000     4.50   NaN    NaN     NaN  4.500000       NaN      4.5   \n",
       "39    TN  4.200000     4.50   NaN    NaN     NaN       NaN       NaN      NaN   \n",
       "40    TX  4.416667      NaN   NaN    NaN     NaN  4.250000       NaN      NaN   \n",
       "41    UT  4.214286     4.50   NaN    NaN     NaN  4.500000       NaN      NaN   \n",
       "42    VT  4.200000      NaN   NaN    NaN     NaN       NaN       NaN      NaN   \n",
       "43    VA  4.142857      NaN   NaN    NaN     NaN       NaN       NaN      NaN   \n",
       "44    WA       NaN     4.50   NaN    4.0     NaN  4.166667       NaN      NaN   \n",
       "45    WV  4.250000     4.00  4.50    NaN     NaN       NaN       NaN      NaN   \n",
       "46    WI  4.357143     4.50  4.50    NaN     NaN       NaN       NaN      NaN   \n",
       "47    WY  3.800000     4.00  4.00    NaN     NaN  3.500000       NaN      NaN   \n",
       "\n",
       "      french   italian  mediterranean  \n",
       "0   4.500000  4.500000            NaN  \n",
       "1        NaN       NaN           4.25  \n",
       "2        NaN  4.500000            NaN  \n",
       "3        NaN  4.250000            NaN  \n",
       "4   4.166667  4.250000            NaN  \n",
       "5        NaN  4.250000            NaN  \n",
       "6        NaN  4.000000            NaN  \n",
       "7   4.500000  4.333333            NaN  \n",
       "8   4.500000  4.750000           4.50  \n",
       "9        NaN  4.666667           4.50  \n",
       "10       NaN       NaN           5.00  \n",
       "11       NaN       NaN            NaN  \n",
       "12       NaN  4.250000            NaN  \n",
       "13       NaN  4.166667           4.00  \n",
       "14       NaN       NaN            NaN  \n",
       "15  4.000000       NaN           4.25  \n",
       "16       NaN       NaN            NaN  \n",
       "17       NaN       NaN           4.50  \n",
       "18  4.500000  4.500000           4.50  \n",
       "19       NaN  4.125000            NaN  \n",
       "20       NaN  4.500000            NaN  \n",
       "21  4.250000  4.250000           4.50  \n",
       "22       NaN  4.000000           4.00  \n",
       "23       NaN       NaN            NaN  \n",
       "24       NaN       NaN            NaN  \n",
       "25  4.500000       NaN            NaN  \n",
       "26  4.000000       NaN            NaN  \n",
       "27       NaN  4.500000           4.50  \n",
       "28       NaN       NaN            NaN  \n",
       "29       NaN       NaN            NaN  \n",
       "30       NaN  4.500000            NaN  \n",
       "31       NaN       NaN           4.50  \n",
       "32       NaN       NaN           4.50  \n",
       "33       NaN  4.000000           4.50  \n",
       "34       NaN       NaN            NaN  \n",
       "35  4.000000       NaN           4.50  \n",
       "36  4.500000  4.750000            NaN  \n",
       "37       NaN  4.500000           4.50  \n",
       "38       NaN       NaN           4.50  \n",
       "39       NaN       NaN           5.00  \n",
       "40       NaN  4.000000            NaN  \n",
       "41       NaN  4.500000            NaN  \n",
       "42  4.000000  4.250000            NaN  \n",
       "43       NaN       NaN           4.50  \n",
       "44       NaN  4.500000           4.00  \n",
       "45       NaN       NaN           4.50  \n",
       "46       NaN  4.500000            NaN  \n",
       "47       NaN  4.000000            NaN  "
      ]
     },
     "execution_count": 40,
     "metadata": {},
     "output_type": "execute_result"
    }
   ],
   "source": [
    "states = list(yelp_df['state'].unique())\n",
    "\n",
    "def format_avg_rating(category):\n",
    "    ratings = []\n",
    "    for state in states:\n",
    "        try:\n",
    "            ratings.append(category[state])\n",
    "        except:\n",
    "            ratings.append(np.nan)\n",
    "    return ratings\n",
    "\n",
    "american_ratings = format_avg_rating(all_cuisine_ratings['american'])\n",
    "mexican_ratings = format_avg_rating(all_cuisine_ratings['mexican'])\n",
    "thai_ratings = format_avg_rating(all_cuisine_ratings['thai'])\n",
    "greek_ratings = format_avg_rating(all_cuisine_ratings['greek'])\n",
    "indian_ratings = format_avg_rating(all_cuisine_ratings['indian'])\n",
    "japanese_ratings = format_avg_rating(all_cuisine_ratings['japanese'])\n",
    "spanish_ratings = format_avg_rating(all_cuisine_ratings['spanish'])\n",
    "chinese_ratings = format_avg_rating(all_cuisine_ratings['chinese'])\n",
    "french_ratings = format_avg_rating(all_cuisine_ratings['french'])\n",
    "italian_ratings = format_avg_rating(all_cuisine_ratings['italian'])\n",
    "med_ratings = format_avg_rating(all_cuisine_ratings['mediterranean'])\n",
    "\n",
    "avg_ratings_data = {'state': states, 'american': american_ratings, 'mexican': mexican_ratings,\n",
    "                   'thai': thai_ratings, 'greek': greek_ratings, 'indian': indian_ratings,\n",
    "                   'japanese': japanese_ratings, 'spanish': spanish_ratings, 'chinese': chinese_ratings,\n",
    "                   'french': french_ratings, 'italian': italian_ratings, 'mediterranean': med_ratings}\n",
    "avg_ratings_df = pd.DataFrame(data=avg_ratings_data)\n",
    "avg_ratings_df"
   ]
  },
  {
   "cell_type": "markdown",
   "metadata": {},
   "source": [
    "Since there are so many null values for each type of cuisine (except for American food), we decided to look at the average rating for each cuisine across the US rather than looking at ratings by state."
   ]
  },
  {
   "cell_type": "code",
   "execution_count": 41,
   "metadata": {},
   "outputs": [
    {
     "data": {
      "text/html": [
       "<div>\n",
       "<style scoped>\n",
       "    .dataframe tbody tr th:only-of-type {\n",
       "        vertical-align: middle;\n",
       "    }\n",
       "\n",
       "    .dataframe tbody tr th {\n",
       "        vertical-align: top;\n",
       "    }\n",
       "\n",
       "    .dataframe thead th {\n",
       "        text-align: right;\n",
       "    }\n",
       "</style>\n",
       "<table border=\"1\" class=\"dataframe\">\n",
       "  <thead>\n",
       "    <tr style=\"text-align: right;\">\n",
       "      <th></th>\n",
       "      <th>average rating</th>\n",
       "      <th>number of ratings</th>\n",
       "      <th>number of restaurant loc</th>\n",
       "    </tr>\n",
       "  </thead>\n",
       "  <tbody>\n",
       "    <tr>\n",
       "      <td>japanese</td>\n",
       "      <td>4.391876</td>\n",
       "      <td>50040</td>\n",
       "      <td>28</td>\n",
       "    </tr>\n",
       "    <tr>\n",
       "      <td>mexican</td>\n",
       "      <td>4.316062</td>\n",
       "      <td>48916</td>\n",
       "      <td>46</td>\n",
       "    </tr>\n",
       "    <tr>\n",
       "      <td>mediterranean</td>\n",
       "      <td>4.304801</td>\n",
       "      <td>26222</td>\n",
       "      <td>29</td>\n",
       "    </tr>\n",
       "    <tr>\n",
       "      <td>thai</td>\n",
       "      <td>4.279731</td>\n",
       "      <td>24402</td>\n",
       "      <td>22</td>\n",
       "    </tr>\n",
       "    <tr>\n",
       "      <td>american</td>\n",
       "      <td>4.251604</td>\n",
       "      <td>328419</td>\n",
       "      <td>261</td>\n",
       "    </tr>\n",
       "    <tr>\n",
       "      <td>italian</td>\n",
       "      <td>4.247973</td>\n",
       "      <td>84352</td>\n",
       "      <td>52</td>\n",
       "    </tr>\n",
       "    <tr>\n",
       "      <td>spanish</td>\n",
       "      <td>4.196168</td>\n",
       "      <td>15033</td>\n",
       "      <td>10</td>\n",
       "    </tr>\n",
       "    <tr>\n",
       "      <td>greek</td>\n",
       "      <td>4.135159</td>\n",
       "      <td>11923</td>\n",
       "      <td>10</td>\n",
       "    </tr>\n",
       "    <tr>\n",
       "      <td>french</td>\n",
       "      <td>4.088813</td>\n",
       "      <td>32056</td>\n",
       "      <td>16</td>\n",
       "    </tr>\n",
       "    <tr>\n",
       "      <td>chinese</td>\n",
       "      <td>4.028169</td>\n",
       "      <td>2698</td>\n",
       "      <td>3</td>\n",
       "    </tr>\n",
       "    <tr>\n",
       "      <td>indian</td>\n",
       "      <td>NaN</td>\n",
       "      <td>0</td>\n",
       "      <td>0</td>\n",
       "    </tr>\n",
       "  </tbody>\n",
       "</table>\n",
       "</div>"
      ],
      "text/plain": [
       "               average rating  number of ratings  number of restaurant loc\n",
       "japanese             4.391876              50040                        28\n",
       "mexican              4.316062              48916                        46\n",
       "mediterranean        4.304801              26222                        29\n",
       "thai                 4.279731              24402                        22\n",
       "american             4.251604             328419                       261\n",
       "italian              4.247973              84352                        52\n",
       "spanish              4.196168              15033                        10\n",
       "greek                4.135159              11923                        10\n",
       "french               4.088813              32056                        16\n",
       "chinese              4.028169               2698                         3\n",
       "indian                    NaN                  0                         0"
      ]
     },
     "execution_count": 41,
     "metadata": {},
     "output_type": "execute_result"
    }
   ],
   "source": [
    "# find the average rating for each type of food across the US (non fast food restaurants)\n",
    "\n",
    "# function adds a new column to the df specifying 'True' if the restaurant is in the specified 'category'\n",
    "# and 'False' if it is not\n",
    "def find_avg_rating_us(category):\n",
    "    cat_list = []\n",
    "    for i in yelp_df.index:\n",
    "        is_cat = category in yelp_df['category'].iloc[i]\n",
    "        cat_list.append(is_cat)\n",
    "    temp = yelp_df.assign(cat_clean = cat_list)\n",
    "    temp_df = temp[temp['cat_clean'].values==True]\n",
    "    return temp_df\n",
    "\n",
    "# Create a list of dataframes for each type of cuisine, with a column specifying if the restaurant belongs\n",
    "# to that cuisine type.\n",
    "all_cuisine_ratings = {}\n",
    "for cuis in cuisine:\n",
    "    all_cuisine_ratings[cuis] = find_avg_rating_us(cuis)\n",
    "\n",
    "# Calculate the overall average rating for each type of food using the list of dataframes above       \n",
    "overall_avg_rating = {}\n",
    "overall_num_reviews = {}\n",
    "overall_num_rest = {}\n",
    "for cuis in cuisine:\n",
    "    prod = 0\n",
    "    total_reviews = 0\n",
    "    total_rest = 0\n",
    "    for row in all_cuisine_ratings[cuis].index:\n",
    "        prod += (yelp_df.iloc[row])['rating']*(yelp_df.iloc[row])['review_count']\n",
    "        total_reviews += (yelp_df.iloc[row])['review_count']\n",
    "        total_rest += 1\n",
    "    \n",
    "    try:\n",
    "        avg_rating = prod/total_reviews\n",
    "    except:\n",
    "        avg_rating = np.nan\n",
    "    overall_avg_rating[cuis] = avg_rating\n",
    "    overall_num_reviews[cuis] = total_reviews\n",
    "    overall_num_rest[cuis] = total_rest\n",
    "        \n",
    "# convert dictionary to list\n",
    "us_avg_df = pd.DataFrame.from_dict(overall_avg_rating, orient='index')\n",
    "us_avg_df = us_avg_df.rename(columns={0:'average rating'})\n",
    "\n",
    "us_rev_df = pd.DataFrame.from_dict(overall_num_reviews, orient='index')\n",
    "us_rev_df = us_rev_df.rename(columns={0:'number of ratings'})\n",
    "\n",
    "us_rest_df = pd.DataFrame.from_dict(overall_num_rest, orient='index')\n",
    "us_rest_df = us_rest_df.rename(columns={0:'number of restaurant loc'})\n",
    "\n",
    "us_avg_df = us_avg_df.merge(us_rev_df, left_index=True, right_index=True)\n",
    "us_avg_df = us_avg_df.merge(us_rest_df, left_index=True, right_index=True)\n",
    "\n",
    "us_avg_df = us_avg_df.sort_values(by='average rating', ascending=False)\n",
    "us_avg_df"
   ]
  },
  {
   "cell_type": "markdown",
   "metadata": {},
   "source": [
    "#### Find average ratings by cuisine for Fast Food Restaurants\n",
    "\n",
    "Since our data for non fast food restaurants did not allow us to analyze the average rating of non fast food restaurants by cuisine for each state in the US, we will only be looking at the fast food restaurant ratings per cuisine over the entire US."
   ]
  },
  {
   "cell_type": "code",
   "execution_count": 42,
   "metadata": {},
   "outputs": [
    {
     "data": {
      "text/html": [
       "<div>\n",
       "<style scoped>\n",
       "    .dataframe tbody tr th:only-of-type {\n",
       "        vertical-align: middle;\n",
       "    }\n",
       "\n",
       "    .dataframe tbody tr th {\n",
       "        vertical-align: top;\n",
       "    }\n",
       "\n",
       "    .dataframe thead th {\n",
       "        text-align: right;\n",
       "    }\n",
       "</style>\n",
       "<table border=\"1\" class=\"dataframe\">\n",
       "  <thead>\n",
       "    <tr style=\"text-align: right;\">\n",
       "      <th></th>\n",
       "      <th>average rating</th>\n",
       "      <th>number of ratings</th>\n",
       "      <th>number of restaurant loc</th>\n",
       "    </tr>\n",
       "  </thead>\n",
       "  <tbody>\n",
       "    <tr>\n",
       "      <td>thai</td>\n",
       "      <td>4.000000</td>\n",
       "      <td>242</td>\n",
       "      <td>1</td>\n",
       "    </tr>\n",
       "    <tr>\n",
       "      <td>greek</td>\n",
       "      <td>4.000000</td>\n",
       "      <td>55</td>\n",
       "      <td>2</td>\n",
       "    </tr>\n",
       "    <tr>\n",
       "      <td>japanese</td>\n",
       "      <td>4.000000</td>\n",
       "      <td>242</td>\n",
       "      <td>1</td>\n",
       "    </tr>\n",
       "    <tr>\n",
       "      <td>chinese</td>\n",
       "      <td>3.667610</td>\n",
       "      <td>883</td>\n",
       "      <td>40</td>\n",
       "    </tr>\n",
       "    <tr>\n",
       "      <td>mediterranean</td>\n",
       "      <td>3.664124</td>\n",
       "      <td>1901</td>\n",
       "      <td>13</td>\n",
       "    </tr>\n",
       "    <tr>\n",
       "      <td>american</td>\n",
       "      <td>3.606442</td>\n",
       "      <td>5961</td>\n",
       "      <td>230</td>\n",
       "    </tr>\n",
       "    <tr>\n",
       "      <td>mexican</td>\n",
       "      <td>3.514441</td>\n",
       "      <td>4224</td>\n",
       "      <td>140</td>\n",
       "    </tr>\n",
       "    <tr>\n",
       "      <td>spanish</td>\n",
       "      <td>3.500000</td>\n",
       "      <td>32</td>\n",
       "      <td>1</td>\n",
       "    </tr>\n",
       "    <tr>\n",
       "      <td>italian</td>\n",
       "      <td>2.998934</td>\n",
       "      <td>3282</td>\n",
       "      <td>370</td>\n",
       "    </tr>\n",
       "    <tr>\n",
       "      <td>indian</td>\n",
       "      <td>NaN</td>\n",
       "      <td>0</td>\n",
       "      <td>0</td>\n",
       "    </tr>\n",
       "    <tr>\n",
       "      <td>french</td>\n",
       "      <td>NaN</td>\n",
       "      <td>0</td>\n",
       "      <td>0</td>\n",
       "    </tr>\n",
       "  </tbody>\n",
       "</table>\n",
       "</div>"
      ],
      "text/plain": [
       "               average rating  number of ratings  number of restaurant loc\n",
       "thai                 4.000000                242                         1\n",
       "greek                4.000000                 55                         2\n",
       "japanese             4.000000                242                         1\n",
       "chinese              3.667610                883                        40\n",
       "mediterranean        3.664124               1901                        13\n",
       "american             3.606442               5961                       230\n",
       "mexican              3.514441               4224                       140\n",
       "spanish              3.500000                 32                         1\n",
       "italian              2.998934               3282                       370\n",
       "indian                    NaN                  0                         0\n",
       "french                    NaN                  0                         0"
      ]
     },
     "execution_count": 42,
     "metadata": {},
     "output_type": "execute_result"
    }
   ],
   "source": [
    "# find the average rating for each type of food across the US (fast food restaurants)\n",
    "\n",
    "# function adds a new column to the df specifying 'True' if the restaurant is in the specified 'category'\n",
    "# and 'False' if it is not\n",
    "def find_avg_rating_us(category):\n",
    "    cat_list = []\n",
    "    for i in fast_ratings_df.index:\n",
    "        is_cat = category in fast_ratings_df['category'].iloc[i]\n",
    "        cat_list.append(is_cat)\n",
    "    temp = fast_ratings_df.assign(cat_clean = cat_list)\n",
    "    temp_df = temp[temp['cat_clean'].values==True]\n",
    "    return temp_df\n",
    "\n",
    "# Create a list of dataframes for each type of cuisine, with a column specifying if the restaurant belongs\n",
    "# to that cuisine type.\n",
    "all_fast_ratings = {}\n",
    "for cuis in cuisine:\n",
    "    all_fast_ratings[cuis] = find_avg_rating_us(cuis)\n",
    "\n",
    "# Calculate the overall average rating for each type of food using the list of dataframes above    \n",
    "overall_avg_rating = {}\n",
    "overall_num_reviews = {}\n",
    "overall_num_rest = {}\n",
    "for cuis in cuisine:\n",
    "    prod = 0\n",
    "    total_reviews = 0\n",
    "    total_rest = 0\n",
    "    for row in all_fast_ratings[cuis].index:\n",
    "        prod += (fast_ratings_df.iloc[row])['rating']*(fast_ratings_df.iloc[row])['review_count']\n",
    "        total_reviews += (fast_ratings_df.iloc[row])['review_count']\n",
    "        total_rest += 1\n",
    "    \n",
    "    try:\n",
    "        avg_rating = prod/total_reviews\n",
    "    except:\n",
    "        avg_rating = np.nan\n",
    "    overall_avg_rating[cuis] = avg_rating\n",
    "    overall_num_reviews[cuis] = total_reviews\n",
    "    overall_num_rest[cuis] = total_rest\n",
    "        \n",
    "# convert dictionary to list\n",
    "fast_avg_df = pd.DataFrame.from_dict(overall_avg_rating, orient='index')\n",
    "fast_avg_df = fast_avg_df.rename(columns={0:'average rating'})\n",
    "\n",
    "fast_rev_df = pd.DataFrame.from_dict(overall_num_reviews, orient='index')\n",
    "fast_rev_df = fast_rev_df.rename(columns={0:'number of ratings'})\n",
    "\n",
    "fast_rest_df = pd.DataFrame.from_dict(overall_num_rest, orient='index')\n",
    "fast_rest_df = fast_rest_df.rename(columns={0:'number of restaurant loc'})\n",
    "\n",
    "fast_avg_df = fast_avg_df.merge(fast_rev_df, left_index=True, right_index=True)\n",
    "fast_avg_df = fast_avg_df.merge(fast_rest_df, left_index=True, right_index=True)\n",
    "\n",
    "fast_avg_df = fast_avg_df.sort_values(by='average rating', ascending=False)\n",
    "fast_avg_df"
   ]
  },
  {
   "cell_type": "markdown",
   "metadata": {},
   "source": [
    "We observed that the highest rated cuisines differed between non fast food and fast food restaurants (i.e. the top 3 non fast food cuisines were Japanese, Mexican, and Mediterranean, while the top 3 fast food cuisines were Thai, Greek, and Japanese). It is also important to note that there is a lot fewer number of ratings for the fast food restaurants than for the non fast food ratings and some of the the top ratings are only based on a couple restaurant locations that were available in our dataset. \n",
    "\n",
    "With this in mind, if we look at only the cuisine's whose restaurant locations (the last column in the dataframe), are in the 50th percentile. Here are the results:"
   ]
  },
  {
   "cell_type": "code",
   "execution_count": 43,
   "metadata": {},
   "outputs": [
    {
     "data": {
      "text/html": [
       "<div>\n",
       "<style scoped>\n",
       "    .dataframe tbody tr th:only-of-type {\n",
       "        vertical-align: middle;\n",
       "    }\n",
       "\n",
       "    .dataframe tbody tr th {\n",
       "        vertical-align: top;\n",
       "    }\n",
       "\n",
       "    .dataframe thead th {\n",
       "        text-align: right;\n",
       "    }\n",
       "</style>\n",
       "<table border=\"1\" class=\"dataframe\">\n",
       "  <thead>\n",
       "    <tr style=\"text-align: right;\">\n",
       "      <th></th>\n",
       "      <th>average rating</th>\n",
       "      <th>number of ratings</th>\n",
       "      <th>number of restaurant loc</th>\n",
       "    </tr>\n",
       "  </thead>\n",
       "  <tbody>\n",
       "    <tr>\n",
       "      <td>japanese</td>\n",
       "      <td>4.391876</td>\n",
       "      <td>50040</td>\n",
       "      <td>28</td>\n",
       "    </tr>\n",
       "    <tr>\n",
       "      <td>mexican</td>\n",
       "      <td>4.316062</td>\n",
       "      <td>48916</td>\n",
       "      <td>46</td>\n",
       "    </tr>\n",
       "    <tr>\n",
       "      <td>mediterranean</td>\n",
       "      <td>4.304801</td>\n",
       "      <td>26222</td>\n",
       "      <td>29</td>\n",
       "    </tr>\n",
       "    <tr>\n",
       "      <td>thai</td>\n",
       "      <td>4.279731</td>\n",
       "      <td>24402</td>\n",
       "      <td>22</td>\n",
       "    </tr>\n",
       "    <tr>\n",
       "      <td>american</td>\n",
       "      <td>4.251604</td>\n",
       "      <td>328419</td>\n",
       "      <td>261</td>\n",
       "    </tr>\n",
       "    <tr>\n",
       "      <td>italian</td>\n",
       "      <td>4.247973</td>\n",
       "      <td>84352</td>\n",
       "      <td>52</td>\n",
       "    </tr>\n",
       "  </tbody>\n",
       "</table>\n",
       "</div>"
      ],
      "text/plain": [
       "               average rating  number of ratings  number of restaurant loc\n",
       "japanese             4.391876              50040                        28\n",
       "mexican              4.316062              48916                        46\n",
       "mediterranean        4.304801              26222                        29\n",
       "thai                 4.279731              24402                        22\n",
       "american             4.251604             328419                       261\n",
       "italian              4.247973              84352                        52"
      ]
     },
     "execution_count": 43,
     "metadata": {},
     "output_type": "execute_result"
    }
   ],
   "source": [
    "# NON FAST FOOD\n",
    "# calculate the 50th percentile\n",
    "non_fast_50_p = np.percentile(us_avg_df['number of restaurant loc'], 50)\n",
    "\n",
    "us_avg_df[us_avg_df['number of restaurant loc']>=non_fast_50_p]"
   ]
  },
  {
   "cell_type": "code",
   "execution_count": 44,
   "metadata": {},
   "outputs": [
    {
     "data": {
      "text/html": [
       "<div>\n",
       "<style scoped>\n",
       "    .dataframe tbody tr th:only-of-type {\n",
       "        vertical-align: middle;\n",
       "    }\n",
       "\n",
       "    .dataframe tbody tr th {\n",
       "        vertical-align: top;\n",
       "    }\n",
       "\n",
       "    .dataframe thead th {\n",
       "        text-align: right;\n",
       "    }\n",
       "</style>\n",
       "<table border=\"1\" class=\"dataframe\">\n",
       "  <thead>\n",
       "    <tr style=\"text-align: right;\">\n",
       "      <th></th>\n",
       "      <th>average rating</th>\n",
       "      <th>number of ratings</th>\n",
       "      <th>number of restaurant loc</th>\n",
       "    </tr>\n",
       "  </thead>\n",
       "  <tbody>\n",
       "    <tr>\n",
       "      <td>greek</td>\n",
       "      <td>4.000000</td>\n",
       "      <td>55</td>\n",
       "      <td>2</td>\n",
       "    </tr>\n",
       "    <tr>\n",
       "      <td>chinese</td>\n",
       "      <td>3.667610</td>\n",
       "      <td>883</td>\n",
       "      <td>40</td>\n",
       "    </tr>\n",
       "    <tr>\n",
       "      <td>mediterranean</td>\n",
       "      <td>3.664124</td>\n",
       "      <td>1901</td>\n",
       "      <td>13</td>\n",
       "    </tr>\n",
       "    <tr>\n",
       "      <td>american</td>\n",
       "      <td>3.606442</td>\n",
       "      <td>5961</td>\n",
       "      <td>230</td>\n",
       "    </tr>\n",
       "    <tr>\n",
       "      <td>mexican</td>\n",
       "      <td>3.514441</td>\n",
       "      <td>4224</td>\n",
       "      <td>140</td>\n",
       "    </tr>\n",
       "    <tr>\n",
       "      <td>italian</td>\n",
       "      <td>2.998934</td>\n",
       "      <td>3282</td>\n",
       "      <td>370</td>\n",
       "    </tr>\n",
       "  </tbody>\n",
       "</table>\n",
       "</div>"
      ],
      "text/plain": [
       "               average rating  number of ratings  number of restaurant loc\n",
       "greek                4.000000                 55                         2\n",
       "chinese              3.667610                883                        40\n",
       "mediterranean        3.664124               1901                        13\n",
       "american             3.606442               5961                       230\n",
       "mexican              3.514441               4224                       140\n",
       "italian              2.998934               3282                       370"
      ]
     },
     "execution_count": 44,
     "metadata": {},
     "output_type": "execute_result"
    }
   ],
   "source": [
    "# FAST FOOD\n",
    "# calculate the 50th percentile\n",
    "fast_50_p = np.percentile(fast_avg_df['number of restaurant loc'], 50)\n",
    "\n",
    "fast_avg_df[fast_avg_df['number of restaurant loc']>=fast_50_p]"
   ]
  },
  {
   "cell_type": "markdown",
   "metadata": {},
   "source": [
    "From the results we can already observe that top three non fast food restaurants (japanese, mexican, and mediterranean) are quite different from the top three fast food restaurants (chinese, mediterranean, and american, when we exclude greek because there are only 2 restaurant locations). We can also see that the average ratings for the top cuisines are lower for fast food restaurants than for non fast food restaurants."
   ]
  },
  {
   "cell_type": "markdown",
   "metadata": {},
   "source": [
    "### Exploratory Data Visualizations"
   ]
  },
  {
   "cell_type": "markdown",
   "metadata": {},
   "source": [
    "Plot the number of fast food restaurants per state to understand the distribution of fast food restaurants across America."
   ]
  },
  {
   "cell_type": "code",
   "execution_count": 45,
   "metadata": {
    "scrolled": true
   },
   "outputs": [
    {
     "data": {
      "text/plain": [
       "<matplotlib.axes._subplots.AxesSubplot at 0x1a24bb5110>"
      ]
     },
     "execution_count": 45,
     "metadata": {},
     "output_type": "execute_result"
    },
    {
     "data": {
      "image/png": "[encoded data removed]",
      "text/plain": [
       "<Figure size 1224x504 with 2 Axes>"
      ]
     },
     "metadata": {
      "needs_background": "light"
     },
     "output_type": "display_data"
    }
   ],
   "source": [
    "# import the US shape map data to get the geometry of each state\n",
    "us_shape_map = gpd.read_file('states_21basic/states.shp')\n",
    "\n",
    "# find the number of fast food restaurants per state\n",
    "fast_counts = pd.DataFrame(fast_df['state'].value_counts())\n",
    "fast_counts = fast_counts.rename(columns={'state':'restaurant count'})\n",
    "fast_counts.index.name = 'state'\n",
    "\n",
    "# merge the number of fast food restaurants with the us_shape_map data\n",
    "fast_counts_map = us_shape_map.merge(fast_counts, left_on='STATE_ABBR', right_on='state')\n",
    "fast_counts_map_wo_AK = fast_counts_map.drop(index=50)\n",
    "\n",
    "# plot map\n",
    "fig, ax = plt.subplots(1, 1, figsize=(17, 7))\n",
    "divider = make_axes_locatable(ax)\n",
    "fast_counts_map.plot(column='restaurant count', ax=ax, figsize=(17, 6), cmap='GnBu', legend=True)"
   ]
  },
  {
   "cell_type": "markdown",
   "metadata": {},
   "source": [
    "When plotting the number of fast food restaurants, it can be seen that the number of fast food restaurants most likely correlate with the population for each state. This is because we know that California and Texas are two of the more populated states in America which coincides with those states having a larger number of fast food restaurants. So instead, we will plot the number fast food restaurants per state based on population (this is where we utilized the 'US States - Ranked by Population 2020' dataset). We decided to plot the number of fast food restaurants per 100,000 people."
   ]
  },
  {
   "cell_type": "code",
   "execution_count": 46,
   "metadata": {
    "scrolled": false
   },
   "outputs": [
    {
     "data": {
      "text/plain": [
       "<matplotlib.axes._subplots.AxesSubplot at 0x1a25ccde10>"
      ]
     },
     "execution_count": 46,
     "metadata": {},
     "output_type": "execute_result"
    },
    {
     "data": {
      "image/png": "[encoded data removed]",
      "text/plain": [
       "<Figure size 1224x504 with 2 Axes>"
      ]
     },
     "metadata": {
      "needs_background": "light"
     },
     "output_type": "display_data"
    }
   ],
   "source": [
    "# drop unnecessary columns from population dataframe\n",
    "pop_df = pop_df.drop(columns=['rank', 'Growth', 'Pop2018', 'Pop2010', 'growthSince2010', 'Percent'])\n",
    "\n",
    "# merge the state population data with the fast_counts_map dataframe and add restuarant per population column\n",
    "fast_counts_map = fast_counts_map.merge(pop_df, left_on='STATE_NAME', right_on='State')\n",
    "fast_counts_map['restaurants per 100,000 people'] = (fast_counts_map['restaurant count'] * 100000)/ fast_counts_map['Pop']\n",
    "\n",
    "# plot map\n",
    "fig, ax = plt.subplots(1, 1, figsize=(17, 7))\n",
    "divider = make_axes_locatable(ax)\n",
    "fast_counts_map.plot(column='restaurants per 100,000 people', ax=ax, figsize=(17, 6), cmap='GnBu', legend=True)"
   ]
  },
  {
   "cell_type": "markdown",
   "metadata": {},
   "source": [
    "Note that South Dakota is the darkest blue state, meaning there are the most fast food restaurants for every 100,000 people.\n",
    "Some of the other blue states are: North Dakota, Wyoming, New Mexico, Kentucky, and Vermont."
   ]
  },
  {
   "cell_type": "markdown",
   "metadata": {},
   "source": [
    "Next we will look at the distribution of ratings between non fast food and fast food (without taking into account the type of cuisine). We want to see if there is a difference in the overall ratings between these two categories.\n",
    "\n",
    "First, we'll take a look at the distributions of ratings for non fast food ratings by plotting a histogram."
   ]
  },
  {
   "cell_type": "code",
   "execution_count": 47,
   "metadata": {
    "scrolled": false
   },
   "outputs": [
    {
     "data": {
      "image/png": "[encoded data removed]",
      "text/plain": [
       "<Figure size 432x288 with 1 Axes>"
      ]
     },
     "metadata": {
      "needs_background": "light"
     },
     "output_type": "display_data"
    }
   ],
   "source": [
    "# Let's start by plotting histograms of non fast food ratings\n",
    "sns.distplot(yelp_df['rating'], kde=False, bins=5).set_title('Distribution of Ratings for Non Fast Food Restauarants')\n",
    "\n",
    "f1 = plt.gcf()"
   ]
  },
  {
   "cell_type": "code",
   "execution_count": 48,
   "metadata": {
    "scrolled": false
   },
   "outputs": [
    {
     "data": {
      "text/plain": [
       "array([4.5, 4. , 5. , 3.5, 3. ])"
      ]
     },
     "execution_count": 48,
     "metadata": {},
     "output_type": "execute_result"
    }
   ],
   "source": [
    "# There are 5 possible ratings in our data set: 3, 3.5, 4, 4.5, and 5\n",
    "yelp_df[\"rating\"].unique()"
   ]
  },
  {
   "cell_type": "code",
   "execution_count": 49,
   "metadata": {
    "scrolled": false
   },
   "outputs": [
    {
     "data": {
      "text/plain": [
       "count    1024.000000\n",
       "mean        4.350586\n",
       "std         0.296014\n",
       "min         3.000000\n",
       "25%         4.000000\n",
       "50%         4.500000\n",
       "75%         4.500000\n",
       "max         5.000000\n",
       "Name: rating, dtype: float64"
      ]
     },
     "execution_count": 49,
     "metadata": {},
     "output_type": "execute_result"
    }
   ],
   "source": [
    "# It appears that our rating data is normal-ish and is skewed left. We have a mean of 4.358 and an std of .294.\n",
    "yelp_df[\"rating\"].describe()"
   ]
  },
  {
   "cell_type": "markdown",
   "metadata": {},
   "source": [
    "Now this histogram will represent the distribution of ratings for fast food restaurants so that we may compare it to the histogram shown above."
   ]
  },
  {
   "cell_type": "code",
   "execution_count": 50,
   "metadata": {},
   "outputs": [
    {
     "data": {
      "image/png": "[encoded data removed]",
      "text/plain": [
       "<Figure size 432x288 with 1 Axes>"
      ]
     },
     "metadata": {
      "needs_background": "light"
     },
     "output_type": "display_data"
    }
   ],
   "source": [
    "# Plot the histogram of fast food ratings\n",
    "sns.distplot(fast_ratings_df['rating'], kde=False, bins=10).set_title('Distribution of Ratings for Fast Food Restaurants')\n",
    "\n",
    "f1 = plt.gcf()"
   ]
  },
  {
   "cell_type": "markdown",
   "metadata": {},
   "source": [
    "The data represented in this histogram is skewed left and has a mean of 3.133 and a standard deviation of 1.045."
   ]
  },
  {
   "cell_type": "code",
   "execution_count": 51,
   "metadata": {
    "scrolled": false
   },
   "outputs": [
    {
     "data": {
      "text/plain": [
       "[0.0, 1.0, 1.5, 2.0, 2.5, 3.0, 3.5, 4.0, 4.5, 5.0]"
      ]
     },
     "execution_count": 51,
     "metadata": {},
     "output_type": "execute_result"
    }
   ],
   "source": [
    "# There are 10 possible ratings in our data set: 0.0, 1.0, 1.5, 2.0, 2.5, 3.0, 3.5, 4.0, 4.5, 5.0\n",
    "sorted(fast_ratings_df[\"rating\"].unique())"
   ]
  },
  {
   "cell_type": "code",
   "execution_count": 52,
   "metadata": {},
   "outputs": [
    {
     "data": {
      "text/plain": [
       "count    4323.000000\n",
       "mean        3.133935\n",
       "std         1.045522\n",
       "min         0.000000\n",
       "25%         2.500000\n",
       "50%         3.000000\n",
       "75%         4.000000\n",
       "max         5.000000\n",
       "Name: rating, dtype: float64"
      ]
     },
     "execution_count": 52,
     "metadata": {},
     "output_type": "execute_result"
    }
   ],
   "source": [
    "# average rating of fast food restaurants is lower\n",
    "fast_ratings_df[\"rating\"].describe()"
   ]
  },
  {
   "cell_type": "markdown",
   "metadata": {},
   "source": [
    "Based on the overall average rating of fast food restaurants (mean = 3.13), we wanted to see if the average ratings for the states with the greatest number of fast food restaurants per 100,000 people were significantly higher or lower. If the ratings were higher, it may suggest a correlation between the number of fast food restaurants per 100,000 people and the average fast food rating."
   ]
  },
  {
   "cell_type": "code",
   "execution_count": 53,
   "metadata": {},
   "outputs": [
    {
     "name": "stdout",
     "output_type": "stream",
     "text": [
      "rating            3.510417\n",
      "review_count    313.000000\n",
      "Name: SD, dtype: float64 \n",
      "\n",
      "rating            2.970588\n",
      "review_count    126.000000\n",
      "Name: ND, dtype: float64 \n",
      "\n",
      "rating            3.02\n",
      "review_count    387.00\n",
      "Name: WY, dtype: float64 \n",
      "\n",
      "rating             3.141399\n",
      "review_count    2794.000000\n",
      "Name: KY, dtype: float64 \n",
      "\n",
      "rating            4.5\n",
      "review_count    214.0\n",
      "Name: VT, dtype: float64\n"
     ]
    }
   ],
   "source": [
    "# create a dataframe that contains the average fast food rating and the total number of reviews per each state\n",
    "fast_state_ratings = fast_ratings_df.drop(['latitude', 'longitude'], axis=1)\n",
    "fast_state_ratings = fast_state_ratings.groupby(['state']).agg({'rating': 'mean', 'review_count': 'sum'})\n",
    "# print out the average fast food rating for the states with the most fast food restaurant ratings per 100,000 people\n",
    "# that was found in the chloropleth graph\n",
    "print(fast_state_ratings.loc['SD'], '\\n')\n",
    "print(fast_state_ratings.loc['ND'], '\\n')\n",
    "print(fast_state_ratings.loc['WY'], '\\n')\n",
    "print(fast_state_ratings.loc['KY'], '\\n')\n",
    "print(fast_state_ratings.loc['VT'])\n",
    "most_fast = ['SD', 'ND', 'WY', 'VT']"
   ]
  },
  {
   "cell_type": "markdown",
   "metadata": {},
   "source": [
    "All the average fast food ratings for the states with the most fast food locations are less than one standard deviation (1.045) away from the mean (3.134) of the overall average rating for all fast food except for Vermont. Because of this, we determined that there was not a correlation between the average rating and the number of fast food restaurants per state."
   ]
  },
  {
   "cell_type": "markdown",
   "metadata": {},
   "source": [
    "### Exploring the Data"
   ]
  },
  {
   "cell_type": "markdown",
   "metadata": {},
   "source": [
    "To further explore our data, we decided to find the most popular restaurants in order to see if there were any commonalities between 'successful' restaurants."
   ]
  },
  {
   "cell_type": "code",
   "execution_count": 54,
   "metadata": {},
   "outputs": [
    {
     "data": {
      "text/html": [
       "<div>\n",
       "<style scoped>\n",
       "    .dataframe tbody tr th:only-of-type {\n",
       "        vertical-align: middle;\n",
       "    }\n",
       "\n",
       "    .dataframe tbody tr th {\n",
       "        vertical-align: top;\n",
       "    }\n",
       "\n",
       "    .dataframe thead th {\n",
       "        text-align: right;\n",
       "    }\n",
       "</style>\n",
       "<table border=\"1\" class=\"dataframe\">\n",
       "  <thead>\n",
       "    <tr style=\"text-align: right;\">\n",
       "      <th></th>\n",
       "      <th>name</th>\n",
       "      <th>avg_rating</th>\n",
       "      <th>review_count</th>\n",
       "    </tr>\n",
       "  </thead>\n",
       "  <tbody>\n",
       "    <tr>\n",
       "      <td>0</td>\n",
       "      <td>taco bell</td>\n",
       "      <td>2.728261</td>\n",
       "      <td>1861</td>\n",
       "    </tr>\n",
       "    <tr>\n",
       "      <td>1</td>\n",
       "      <td>mcdonald's</td>\n",
       "      <td>2.390710</td>\n",
       "      <td>5646</td>\n",
       "    </tr>\n",
       "    <tr>\n",
       "      <td>2</td>\n",
       "      <td>wendy's</td>\n",
       "      <td>2.778986</td>\n",
       "      <td>953</td>\n",
       "    </tr>\n",
       "    <tr>\n",
       "      <td>3</td>\n",
       "      <td>frisch's big boy</td>\n",
       "      <td>3.250000</td>\n",
       "      <td>154</td>\n",
       "    </tr>\n",
       "    <tr>\n",
       "      <td>4</td>\n",
       "      <td>lee's famous recipe chicken</td>\n",
       "      <td>3.958333</td>\n",
       "      <td>74</td>\n",
       "    </tr>\n",
       "    <tr>\n",
       "      <td>...</td>\n",
       "      <td>...</td>\n",
       "      <td>...</td>\n",
       "      <td>...</td>\n",
       "    </tr>\n",
       "    <tr>\n",
       "      <td>180</td>\n",
       "      <td>charkies</td>\n",
       "      <td>4.500000</td>\n",
       "      <td>163</td>\n",
       "    </tr>\n",
       "    <tr>\n",
       "      <td>181</td>\n",
       "      <td>hot dog on a stick</td>\n",
       "      <td>4.000000</td>\n",
       "      <td>193</td>\n",
       "    </tr>\n",
       "    <tr>\n",
       "      <td>182</td>\n",
       "      <td>sbarro</td>\n",
       "      <td>3.000000</td>\n",
       "      <td>9</td>\n",
       "    </tr>\n",
       "    <tr>\n",
       "      <td>183</td>\n",
       "      <td>backyard burgers</td>\n",
       "      <td>3.500000</td>\n",
       "      <td>78</td>\n",
       "    </tr>\n",
       "    <tr>\n",
       "      <td>184</td>\n",
       "      <td>taco del mar</td>\n",
       "      <td>4.500000</td>\n",
       "      <td>40</td>\n",
       "    </tr>\n",
       "  </tbody>\n",
       "</table>\n",
       "<p>185 rows × 3 columns</p>\n",
       "</div>"
      ],
      "text/plain": [
       "                            name  avg_rating review_count\n",
       "0                      taco bell    2.728261         1861\n",
       "1                     mcdonald's    2.390710         5646\n",
       "2                        wendy's    2.778986          953\n",
       "3               frisch's big boy    3.250000          154\n",
       "4    lee's famous recipe chicken    3.958333           74\n",
       "..                           ...         ...          ...\n",
       "180                     charkies    4.500000          163\n",
       "181           hot dog on a stick    4.000000          193\n",
       "182                       sbarro    3.000000            9\n",
       "183             backyard burgers    3.500000           78\n",
       "184                 taco del mar    4.500000           40\n",
       "\n",
       "[185 rows x 3 columns]"
      ]
     },
     "execution_count": 54,
     "metadata": {},
     "output_type": "execute_result"
    }
   ],
   "source": [
    "# Number of reviews and average rating of each fast food business\n",
    "ff_bus_name = fast_ratings_df['name'].unique()\n",
    "\n",
    "ff_popularity = pd.DataFrame(columns=['name', 'avg_rating', 'review_count'])\n",
    "for name in ff_bus_name:\n",
    "    name_df = fast_ratings_df[fast_ratings_df['name'] == name]\n",
    "    avg_rating = name_df.rating.mean()\n",
    "    num_reviews = name_df.review_count.sum()\n",
    "    ff_popularity = ff_popularity.append({'name': name, 'avg_rating': avg_rating, 'review_count': num_reviews}, ignore_index=True)\n",
    "\n",
    "ff_popularity"
   ]
  },
  {
   "cell_type": "markdown",
   "metadata": {},
   "source": [
    "In order to determine the least/most popular restaurant we need to take into account two factors: the number of reviews and the rating of the restaurant. We can multiply the two numbers and find which gets the highest score. This gets a score that takes into consideration both the number of reviews and ratings. It works by estimating that each review would give the average rating (point) and scores it based on the total points it gets from all the reviews."
   ]
  },
  {
   "cell_type": "code",
   "execution_count": 55,
   "metadata": {},
   "outputs": [
    {
     "data": {
      "text/html": [
       "<div>\n",
       "<style scoped>\n",
       "    .dataframe tbody tr th:only-of-type {\n",
       "        vertical-align: middle;\n",
       "    }\n",
       "\n",
       "    .dataframe tbody tr th {\n",
       "        vertical-align: top;\n",
       "    }\n",
       "\n",
       "    .dataframe thead tr th {\n",
       "        text-align: left;\n",
       "    }\n",
       "\n",
       "    .dataframe thead tr:last-of-type th {\n",
       "        text-align: right;\n",
       "    }\n",
       "</style>\n",
       "<table border=\"1\" class=\"dataframe\">\n",
       "  <thead>\n",
       "    <tr>\n",
       "      <th></th>\n",
       "      <th colspan=\"10\" halign=\"left\">review_count</th>\n",
       "    </tr>\n",
       "    <tr>\n",
       "      <th>rating</th>\n",
       "      <th>0.0</th>\n",
       "      <th>1.0</th>\n",
       "      <th>1.5</th>\n",
       "      <th>2.0</th>\n",
       "      <th>2.5</th>\n",
       "      <th>3.0</th>\n",
       "      <th>3.5</th>\n",
       "      <th>4.0</th>\n",
       "      <th>4.5</th>\n",
       "      <th>5.0</th>\n",
       "    </tr>\n",
       "    <tr>\n",
       "      <th>name</th>\n",
       "      <th></th>\n",
       "      <th></th>\n",
       "      <th></th>\n",
       "      <th></th>\n",
       "      <th></th>\n",
       "      <th></th>\n",
       "      <th></th>\n",
       "      <th></th>\n",
       "      <th></th>\n",
       "      <th></th>\n",
       "    </tr>\n",
       "  </thead>\n",
       "  <tbody>\n",
       "    <tr>\n",
       "      <td>7-eleven</td>\n",
       "      <td>NaN</td>\n",
       "      <td>NaN</td>\n",
       "      <td>NaN</td>\n",
       "      <td>6.0</td>\n",
       "      <td>NaN</td>\n",
       "      <td>1.0</td>\n",
       "      <td>NaN</td>\n",
       "      <td>7.0</td>\n",
       "      <td>NaN</td>\n",
       "      <td>NaN</td>\n",
       "    </tr>\n",
       "    <tr>\n",
       "      <td>a&amp;w</td>\n",
       "      <td>NaN</td>\n",
       "      <td>NaN</td>\n",
       "      <td>NaN</td>\n",
       "      <td>25.0</td>\n",
       "      <td>NaN</td>\n",
       "      <td>5.0</td>\n",
       "      <td>NaN</td>\n",
       "      <td>NaN</td>\n",
       "      <td>NaN</td>\n",
       "      <td>NaN</td>\n",
       "    </tr>\n",
       "    <tr>\n",
       "      <td>a&amp;w restaurant</td>\n",
       "      <td>NaN</td>\n",
       "      <td>1.0</td>\n",
       "      <td>NaN</td>\n",
       "      <td>NaN</td>\n",
       "      <td>44.0</td>\n",
       "      <td>17.0</td>\n",
       "      <td>72.0</td>\n",
       "      <td>112.0</td>\n",
       "      <td>32.0</td>\n",
       "      <td>NaN</td>\n",
       "    </tr>\n",
       "    <tr>\n",
       "      <td>amigos/kings classic</td>\n",
       "      <td>NaN</td>\n",
       "      <td>NaN</td>\n",
       "      <td>NaN</td>\n",
       "      <td>NaN</td>\n",
       "      <td>NaN</td>\n",
       "      <td>NaN</td>\n",
       "      <td>NaN</td>\n",
       "      <td>NaN</td>\n",
       "      <td>5.0</td>\n",
       "      <td>NaN</td>\n",
       "    </tr>\n",
       "    <tr>\n",
       "      <td>arby's</td>\n",
       "      <td>NaN</td>\n",
       "      <td>6.0</td>\n",
       "      <td>37.0</td>\n",
       "      <td>44.0</td>\n",
       "      <td>196.0</td>\n",
       "      <td>119.0</td>\n",
       "      <td>103.0</td>\n",
       "      <td>98.0</td>\n",
       "      <td>51.0</td>\n",
       "      <td>18.0</td>\n",
       "    </tr>\n",
       "    <tr>\n",
       "      <td>...</td>\n",
       "      <td>...</td>\n",
       "      <td>...</td>\n",
       "      <td>...</td>\n",
       "      <td>...</td>\n",
       "      <td>...</td>\n",
       "      <td>...</td>\n",
       "      <td>...</td>\n",
       "      <td>...</td>\n",
       "      <td>...</td>\n",
       "      <td>...</td>\n",
       "    </tr>\n",
       "    <tr>\n",
       "      <td>white castle</td>\n",
       "      <td>NaN</td>\n",
       "      <td>NaN</td>\n",
       "      <td>NaN</td>\n",
       "      <td>NaN</td>\n",
       "      <td>NaN</td>\n",
       "      <td>49.0</td>\n",
       "      <td>15.0</td>\n",
       "      <td>99.0</td>\n",
       "      <td>NaN</td>\n",
       "      <td>NaN</td>\n",
       "    </tr>\n",
       "    <tr>\n",
       "      <td>wienerschnitzel</td>\n",
       "      <td>NaN</td>\n",
       "      <td>NaN</td>\n",
       "      <td>NaN</td>\n",
       "      <td>NaN</td>\n",
       "      <td>3.0</td>\n",
       "      <td>NaN</td>\n",
       "      <td>NaN</td>\n",
       "      <td>NaN</td>\n",
       "      <td>NaN</td>\n",
       "      <td>NaN</td>\n",
       "    </tr>\n",
       "    <tr>\n",
       "      <td>wingstop</td>\n",
       "      <td>NaN</td>\n",
       "      <td>1.0</td>\n",
       "      <td>NaN</td>\n",
       "      <td>NaN</td>\n",
       "      <td>NaN</td>\n",
       "      <td>25.0</td>\n",
       "      <td>80.0</td>\n",
       "      <td>20.0</td>\n",
       "      <td>27.0</td>\n",
       "      <td>NaN</td>\n",
       "    </tr>\n",
       "    <tr>\n",
       "      <td>world wrapps</td>\n",
       "      <td>NaN</td>\n",
       "      <td>NaN</td>\n",
       "      <td>NaN</td>\n",
       "      <td>NaN</td>\n",
       "      <td>NaN</td>\n",
       "      <td>NaN</td>\n",
       "      <td>NaN</td>\n",
       "      <td>NaN</td>\n",
       "      <td>274.0</td>\n",
       "      <td>NaN</td>\n",
       "    </tr>\n",
       "    <tr>\n",
       "      <td>wu's fine chinese cuisine</td>\n",
       "      <td>NaN</td>\n",
       "      <td>NaN</td>\n",
       "      <td>NaN</td>\n",
       "      <td>NaN</td>\n",
       "      <td>NaN</td>\n",
       "      <td>NaN</td>\n",
       "      <td>121.0</td>\n",
       "      <td>NaN</td>\n",
       "      <td>NaN</td>\n",
       "      <td>NaN</td>\n",
       "    </tr>\n",
       "  </tbody>\n",
       "</table>\n",
       "<p>185 rows × 10 columns</p>\n",
       "</div>"
      ],
      "text/plain": [
       "                          review_count                                        \\\n",
       "rating                             0.0  1.0   1.5   2.0    2.5    3.0    3.5   \n",
       "name                                                                           \n",
       "7-eleven                           NaN  NaN   NaN   6.0    NaN    1.0    NaN   \n",
       "a&w                                NaN  NaN   NaN  25.0    NaN    5.0    NaN   \n",
       "a&w restaurant                     NaN  1.0   NaN   NaN   44.0   17.0   72.0   \n",
       "amigos/kings classic               NaN  NaN   NaN   NaN    NaN    NaN    NaN   \n",
       "arby's                             NaN  6.0  37.0  44.0  196.0  119.0  103.0   \n",
       "...                                ...  ...   ...   ...    ...    ...    ...   \n",
       "white castle                       NaN  NaN   NaN   NaN    NaN   49.0   15.0   \n",
       "wienerschnitzel                    NaN  NaN   NaN   NaN    3.0    NaN    NaN   \n",
       "wingstop                           NaN  1.0   NaN   NaN    NaN   25.0   80.0   \n",
       "world wrapps                       NaN  NaN   NaN   NaN    NaN    NaN    NaN   \n",
       "wu's fine chinese cuisine          NaN  NaN   NaN   NaN    NaN    NaN  121.0   \n",
       "\n",
       "                                               \n",
       "rating                       4.0    4.5   5.0  \n",
       "name                                           \n",
       "7-eleven                     7.0    NaN   NaN  \n",
       "a&w                          NaN    NaN   NaN  \n",
       "a&w restaurant             112.0   32.0   NaN  \n",
       "amigos/kings classic         NaN    5.0   NaN  \n",
       "arby's                      98.0   51.0  18.0  \n",
       "...                          ...    ...   ...  \n",
       "white castle                99.0    NaN   NaN  \n",
       "wienerschnitzel              NaN    NaN   NaN  \n",
       "wingstop                    20.0   27.0   NaN  \n",
       "world wrapps                 NaN  274.0   NaN  \n",
       "wu's fine chinese cuisine    NaN    NaN   NaN  \n",
       "\n",
       "[185 rows x 10 columns]"
      ]
     },
     "execution_count": 55,
     "metadata": {},
     "output_type": "execute_result"
    }
   ],
   "source": [
    "fast_names = fast_ratings_df.drop(columns=['latitude', 'longitude'])\n",
    "fast_names = fast_names.pivot_table(index = 'name', columns='rating', aggfunc = 'sum')\n",
    "fast_names"
   ]
  },
  {
   "cell_type": "code",
   "execution_count": 56,
   "metadata": {},
   "outputs": [
    {
     "data": {
      "text/html": [
       "<div>\n",
       "<style scoped>\n",
       "    .dataframe tbody tr th:only-of-type {\n",
       "        vertical-align: middle;\n",
       "    }\n",
       "\n",
       "    .dataframe tbody tr th {\n",
       "        vertical-align: top;\n",
       "    }\n",
       "\n",
       "    .dataframe thead th {\n",
       "        text-align: right;\n",
       "    }\n",
       "</style>\n",
       "<table border=\"1\" class=\"dataframe\">\n",
       "  <thead>\n",
       "    <tr style=\"text-align: right;\">\n",
       "      <th></th>\n",
       "      <th>name</th>\n",
       "      <th>avg_rating</th>\n",
       "      <th>review_count</th>\n",
       "      <th>score</th>\n",
       "    </tr>\n",
       "  </thead>\n",
       "  <tbody>\n",
       "    <tr>\n",
       "      <td>72</td>\n",
       "      <td>the halal guys</td>\n",
       "      <td>3.875000</td>\n",
       "      <td>20056</td>\n",
       "      <td>77717.000000</td>\n",
       "    </tr>\n",
       "    <tr>\n",
       "      <td>43</td>\n",
       "      <td>in-n-out burger</td>\n",
       "      <td>4.016949</td>\n",
       "      <td>13967</td>\n",
       "      <td>56104.728814</td>\n",
       "    </tr>\n",
       "    <tr>\n",
       "      <td>34</td>\n",
       "      <td>chick-fil-a</td>\n",
       "      <td>4.033186</td>\n",
       "      <td>12818</td>\n",
       "      <td>51697.376106</td>\n",
       "    </tr>\n",
       "    <tr>\n",
       "      <td>32</td>\n",
       "      <td>starbucks</td>\n",
       "      <td>3.481203</td>\n",
       "      <td>4559</td>\n",
       "      <td>15870.804511</td>\n",
       "    </tr>\n",
       "    <tr>\n",
       "      <td>1</td>\n",
       "      <td>mcdonald's</td>\n",
       "      <td>2.390710</td>\n",
       "      <td>5646</td>\n",
       "      <td>13497.950820</td>\n",
       "    </tr>\n",
       "    <tr>\n",
       "      <td>...</td>\n",
       "      <td>...</td>\n",
       "      <td>...</td>\n",
       "      <td>...</td>\n",
       "      <td>...</td>\n",
       "    </tr>\n",
       "    <tr>\n",
       "      <td>177</td>\n",
       "      <td>blimpie</td>\n",
       "      <td>4.500000</td>\n",
       "      <td>2</td>\n",
       "      <td>9.000000</td>\n",
       "    </tr>\n",
       "    <tr>\n",
       "      <td>139</td>\n",
       "      <td>wienerschnitzel</td>\n",
       "      <td>2.500000</td>\n",
       "      <td>3</td>\n",
       "      <td>7.500000</td>\n",
       "    </tr>\n",
       "    <tr>\n",
       "      <td>68</td>\n",
       "      <td>taco bueno</td>\n",
       "      <td>1.500000</td>\n",
       "      <td>3</td>\n",
       "      <td>4.500000</td>\n",
       "    </tr>\n",
       "    <tr>\n",
       "      <td>116</td>\n",
       "      <td>einstein bros bagels</td>\n",
       "      <td>4.000000</td>\n",
       "      <td>1</td>\n",
       "      <td>4.000000</td>\n",
       "    </tr>\n",
       "    <tr>\n",
       "      <td>133</td>\n",
       "      <td>great steak</td>\n",
       "      <td>3.000000</td>\n",
       "      <td>1</td>\n",
       "      <td>3.000000</td>\n",
       "    </tr>\n",
       "  </tbody>\n",
       "</table>\n",
       "<p>185 rows × 4 columns</p>\n",
       "</div>"
      ],
      "text/plain": [
       "                     name  avg_rating review_count         score\n",
       "72         the halal guys    3.875000        20056  77717.000000\n",
       "43        in-n-out burger    4.016949        13967  56104.728814\n",
       "34            chick-fil-a    4.033186        12818  51697.376106\n",
       "32              starbucks    3.481203         4559  15870.804511\n",
       "1              mcdonald's    2.390710         5646  13497.950820\n",
       "..                    ...         ...          ...           ...\n",
       "177               blimpie    4.500000            2      9.000000\n",
       "139       wienerschnitzel    2.500000            3      7.500000\n",
       "68             taco bueno    1.500000            3      4.500000\n",
       "116  einstein bros bagels    4.000000            1      4.000000\n",
       "133           great steak    3.000000            1      3.000000\n",
       "\n",
       "[185 rows x 4 columns]"
      ]
     },
     "execution_count": 56,
     "metadata": {},
     "output_type": "execute_result"
    }
   ],
   "source": [
    "# Uses review count and average rating to calculate popularity score\n",
    "ff_popularity['score'] = ff_popularity.apply(lambda row: row.avg_rating * row.review_count, axis=1)\n",
    "ff_popularity.sort_values(by='score', ascending=False)"
   ]
  },
  {
   "cell_type": "markdown",
   "metadata": {},
   "source": [
    "This chart displays the fast food chain restaurants at the top with the highest popularity scores and the ones with the lowest scores at the bottom. The Halal Guys ranks at the top with the Great Steak at the bottom."
   ]
  },
  {
   "cell_type": "code",
   "execution_count": 57,
   "metadata": {},
   "outputs": [
    {
     "name": "stdout",
     "output_type": "stream",
     "text": [
      "Most popular:  name            the halal guys\n",
      "avg_rating               3.875\n",
      "review_count             20056\n",
      "score                    77717\n",
      "Name: 72, dtype: object\n",
      "\n",
      "\n",
      "Least popular:  name            great steak\n",
      "avg_rating                3\n",
      "review_count              1\n",
      "score                     3\n",
      "Name: 133, dtype: object\n"
     ]
    }
   ],
   "source": [
    "# Find the most and least popular\n",
    "ff_most_fav = ff_popularity.loc[ff_popularity['score'].idxmax()]\n",
    "ff_least_fav = ff_popularity.loc[ff_popularity['score'].idxmin()]\n",
    "\n",
    "print('Most popular: ', ff_most_fav)\n",
    "print('\\n')\n",
    "print('Least popular: ', ff_least_fav)"
   ]
  },
  {
   "cell_type": "code",
   "execution_count": 58,
   "metadata": {},
   "outputs": [
    {
     "data": {
      "text/html": [
       "<div>\n",
       "<style scoped>\n",
       "    .dataframe tbody tr th:only-of-type {\n",
       "        vertical-align: middle;\n",
       "    }\n",
       "\n",
       "    .dataframe tbody tr th {\n",
       "        vertical-align: top;\n",
       "    }\n",
       "\n",
       "    .dataframe thead tr th {\n",
       "        text-align: left;\n",
       "    }\n",
       "\n",
       "    .dataframe thead tr:last-of-type th {\n",
       "        text-align: right;\n",
       "    }\n",
       "</style>\n",
       "<table border=\"1\" class=\"dataframe\">\n",
       "  <thead>\n",
       "    <tr>\n",
       "      <th></th>\n",
       "      <th colspan=\"5\" halign=\"left\">review_count</th>\n",
       "    </tr>\n",
       "    <tr>\n",
       "      <th>rating</th>\n",
       "      <th>3.0</th>\n",
       "      <th>3.5</th>\n",
       "      <th>4.0</th>\n",
       "      <th>4.5</th>\n",
       "      <th>5.0</th>\n",
       "    </tr>\n",
       "    <tr>\n",
       "      <th>name</th>\n",
       "      <th></th>\n",
       "      <th></th>\n",
       "      <th></th>\n",
       "      <th></th>\n",
       "      <th></th>\n",
       "    </tr>\n",
       "  </thead>\n",
       "  <tbody>\n",
       "    <tr>\n",
       "      <td>11-worth cafe</td>\n",
       "      <td>NaN</td>\n",
       "      <td>NaN</td>\n",
       "      <td>NaN</td>\n",
       "      <td>370.0</td>\n",
       "      <td>NaN</td>\n",
       "    </tr>\n",
       "    <tr>\n",
       "      <td>1608 crafthouse</td>\n",
       "      <td>NaN</td>\n",
       "      <td>NaN</td>\n",
       "      <td>NaN</td>\n",
       "      <td>449.0</td>\n",
       "      <td>NaN</td>\n",
       "    </tr>\n",
       "    <tr>\n",
       "      <td>2 doors down</td>\n",
       "      <td>NaN</td>\n",
       "      <td>NaN</td>\n",
       "      <td>234.0</td>\n",
       "      <td>NaN</td>\n",
       "      <td>NaN</td>\n",
       "    </tr>\n",
       "    <tr>\n",
       "      <td>49th state brewing co - anchorage</td>\n",
       "      <td>NaN</td>\n",
       "      <td>NaN</td>\n",
       "      <td>986.0</td>\n",
       "      <td>NaN</td>\n",
       "      <td>NaN</td>\n",
       "    </tr>\n",
       "    <tr>\n",
       "      <td>a baked joint</td>\n",
       "      <td>NaN</td>\n",
       "      <td>NaN</td>\n",
       "      <td>NaN</td>\n",
       "      <td>1829.0</td>\n",
       "      <td>NaN</td>\n",
       "    </tr>\n",
       "    <tr>\n",
       "      <td>...</td>\n",
       "      <td>...</td>\n",
       "      <td>...</td>\n",
       "      <td>...</td>\n",
       "      <td>...</td>\n",
       "      <td>...</td>\n",
       "    </tr>\n",
       "    <tr>\n",
       "      <td>zahav</td>\n",
       "      <td>NaN</td>\n",
       "      <td>NaN</td>\n",
       "      <td>NaN</td>\n",
       "      <td>2891.0</td>\n",
       "      <td>NaN</td>\n",
       "    </tr>\n",
       "    <tr>\n",
       "      <td>zaytinya</td>\n",
       "      <td>NaN</td>\n",
       "      <td>NaN</td>\n",
       "      <td>4606.0</td>\n",
       "      <td>NaN</td>\n",
       "      <td>NaN</td>\n",
       "    </tr>\n",
       "    <tr>\n",
       "      <td>zest kitchen &amp; bar</td>\n",
       "      <td>NaN</td>\n",
       "      <td>NaN</td>\n",
       "      <td>NaN</td>\n",
       "      <td>784.0</td>\n",
       "      <td>NaN</td>\n",
       "    </tr>\n",
       "    <tr>\n",
       "      <td>zombie burger + drink lab</td>\n",
       "      <td>NaN</td>\n",
       "      <td>NaN</td>\n",
       "      <td>1257.0</td>\n",
       "      <td>NaN</td>\n",
       "      <td>NaN</td>\n",
       "    </tr>\n",
       "    <tr>\n",
       "      <td>zookz sandwiches</td>\n",
       "      <td>NaN</td>\n",
       "      <td>NaN</td>\n",
       "      <td>NaN</td>\n",
       "      <td>880.0</td>\n",
       "      <td>NaN</td>\n",
       "    </tr>\n",
       "  </tbody>\n",
       "</table>\n",
       "<p>999 rows × 5 columns</p>\n",
       "</div>"
      ],
      "text/plain": [
       "                                  review_count                        \n",
       "rating                                     3.0 3.5     4.0     4.5 5.0\n",
       "name                                                                  \n",
       "11-worth cafe                              NaN NaN     NaN   370.0 NaN\n",
       "1608 crafthouse                            NaN NaN     NaN   449.0 NaN\n",
       "2 doors down                               NaN NaN   234.0     NaN NaN\n",
       "49th state brewing co - anchorage          NaN NaN   986.0     NaN NaN\n",
       "a baked joint                              NaN NaN     NaN  1829.0 NaN\n",
       "...                                        ...  ..     ...     ...  ..\n",
       "zahav                                      NaN NaN     NaN  2891.0 NaN\n",
       "zaytinya                                   NaN NaN  4606.0     NaN NaN\n",
       "zest kitchen & bar                         NaN NaN     NaN   784.0 NaN\n",
       "zombie burger + drink lab                  NaN NaN  1257.0     NaN NaN\n",
       "zookz sandwiches                           NaN NaN     NaN   880.0 NaN\n",
       "\n",
       "[999 rows x 5 columns]"
      ]
     },
     "execution_count": 58,
     "metadata": {},
     "output_type": "execute_result"
    }
   ],
   "source": [
    "non_fast_names = yelp_df.drop(columns=['latitude', 'longitude'])\n",
    "non_fast_names = non_fast_names.pivot_table(index = 'name', columns='rating', aggfunc = 'sum')\n",
    "non_fast_names"
   ]
  },
  {
   "cell_type": "code",
   "execution_count": 59,
   "metadata": {},
   "outputs": [
    {
     "data": {
      "text/html": [
       "<div>\n",
       "<style scoped>\n",
       "    .dataframe tbody tr th:only-of-type {\n",
       "        vertical-align: middle;\n",
       "    }\n",
       "\n",
       "    .dataframe tbody tr th {\n",
       "        vertical-align: top;\n",
       "    }\n",
       "\n",
       "    .dataframe thead th {\n",
       "        text-align: right;\n",
       "    }\n",
       "</style>\n",
       "<table border=\"1\" class=\"dataframe\">\n",
       "  <thead>\n",
       "    <tr style=\"text-align: right;\">\n",
       "      <th></th>\n",
       "      <th>name</th>\n",
       "      <th>avg_rating</th>\n",
       "      <th>review_count</th>\n",
       "    </tr>\n",
       "  </thead>\n",
       "  <tbody>\n",
       "    <tr>\n",
       "      <td>0</td>\n",
       "      <td>el barrio</td>\n",
       "      <td>4.5</td>\n",
       "      <td>618</td>\n",
       "    </tr>\n",
       "    <tr>\n",
       "      <td>1</td>\n",
       "      <td>saw's soul kitchen</td>\n",
       "      <td>4.5</td>\n",
       "      <td>783</td>\n",
       "    </tr>\n",
       "    <tr>\n",
       "      <td>2</td>\n",
       "      <td>yo' mama's</td>\n",
       "      <td>4.5</td>\n",
       "      <td>355</td>\n",
       "    </tr>\n",
       "    <tr>\n",
       "      <td>3</td>\n",
       "      <td>carrigan's public house</td>\n",
       "      <td>4.5</td>\n",
       "      <td>527</td>\n",
       "    </tr>\n",
       "    <tr>\n",
       "      <td>4</td>\n",
       "      <td>highlands bar &amp; grill</td>\n",
       "      <td>4.5</td>\n",
       "      <td>304</td>\n",
       "    </tr>\n",
       "    <tr>\n",
       "      <td>...</td>\n",
       "      <td>...</td>\n",
       "      <td>...</td>\n",
       "      <td>...</td>\n",
       "    </tr>\n",
       "    <tr>\n",
       "      <td>994</td>\n",
       "      <td>albany restaurant bar &amp; liquormart</td>\n",
       "      <td>3.5</td>\n",
       "      <td>115</td>\n",
       "    </tr>\n",
       "    <tr>\n",
       "      <td>995</td>\n",
       "      <td>wasabi japanese grill &amp; bar</td>\n",
       "      <td>3.5</td>\n",
       "      <td>118</td>\n",
       "    </tr>\n",
       "    <tr>\n",
       "      <td>996</td>\n",
       "      <td>l'osteria mondello</td>\n",
       "      <td>4.0</td>\n",
       "      <td>79</td>\n",
       "    </tr>\n",
       "    <tr>\n",
       "      <td>997</td>\n",
       "      <td>destination taiwan</td>\n",
       "      <td>5.0</td>\n",
       "      <td>16</td>\n",
       "    </tr>\n",
       "    <tr>\n",
       "      <td>998</td>\n",
       "      <td>mort's bagels</td>\n",
       "      <td>4.5</td>\n",
       "      <td>46</td>\n",
       "    </tr>\n",
       "  </tbody>\n",
       "</table>\n",
       "<p>999 rows × 3 columns</p>\n",
       "</div>"
      ],
      "text/plain": [
       "                                   name  avg_rating review_count\n",
       "0                             el barrio         4.5          618\n",
       "1                    saw's soul kitchen         4.5          783\n",
       "2                            yo' mama's         4.5          355\n",
       "3               carrigan's public house         4.5          527\n",
       "4                 highlands bar & grill         4.5          304\n",
       "..                                  ...         ...          ...\n",
       "994  albany restaurant bar & liquormart         3.5          115\n",
       "995         wasabi japanese grill & bar         3.5          118\n",
       "996                  l'osteria mondello         4.0           79\n",
       "997                  destination taiwan         5.0           16\n",
       "998                       mort's bagels         4.5           46\n",
       "\n",
       "[999 rows x 3 columns]"
      ]
     },
     "execution_count": 59,
     "metadata": {},
     "output_type": "execute_result"
    }
   ],
   "source": [
    "# Number of reviews and average rating of each non fast food business\n",
    "nff_bus_name = yelp_df['name'].unique()\n",
    "\n",
    "nff_popularity = pd.DataFrame(columns=['name', 'avg_rating', 'review_count'])\n",
    "for name in nff_bus_name:\n",
    "    name_df = yelp_df[yelp_df['name'] == name]\n",
    "    avg_rating = name_df.rating.mean()\n",
    "    num_reviews = name_df.review_count.sum()\n",
    "    nff_popularity = nff_popularity.append({'name': name, 'avg_rating': avg_rating, 'review_count': num_reviews}, ignore_index=True)\n",
    "\n",
    "nff_popularity"
   ]
  },
  {
   "cell_type": "code",
   "execution_count": 60,
   "metadata": {},
   "outputs": [
    {
     "data": {
      "text/html": [
       "<div>\n",
       "<style scoped>\n",
       "    .dataframe tbody tr th:only-of-type {\n",
       "        vertical-align: middle;\n",
       "    }\n",
       "\n",
       "    .dataframe tbody tr th {\n",
       "        vertical-align: top;\n",
       "    }\n",
       "\n",
       "    .dataframe thead th {\n",
       "        text-align: right;\n",
       "    }\n",
       "</style>\n",
       "<table border=\"1\" class=\"dataframe\">\n",
       "  <thead>\n",
       "    <tr style=\"text-align: right;\">\n",
       "      <th></th>\n",
       "      <th>name</th>\n",
       "      <th>avg_rating</th>\n",
       "      <th>review_count</th>\n",
       "      <th>score</th>\n",
       "    </tr>\n",
       "  </thead>\n",
       "  <tbody>\n",
       "    <tr>\n",
       "      <td>358</td>\n",
       "      <td>bottega louie</td>\n",
       "      <td>4.0</td>\n",
       "      <td>16921</td>\n",
       "      <td>67684.0</td>\n",
       "    </tr>\n",
       "    <tr>\n",
       "      <td>140</td>\n",
       "      <td>founding farmers - washington</td>\n",
       "      <td>4.0</td>\n",
       "      <td>13586</td>\n",
       "      <td>54344.0</td>\n",
       "    </tr>\n",
       "    <tr>\n",
       "      <td>636</td>\n",
       "      <td>katz's delicatessen</td>\n",
       "      <td>4.0</td>\n",
       "      <td>12161</td>\n",
       "      <td>48644.0</td>\n",
       "    </tr>\n",
       "    <tr>\n",
       "      <td>219</td>\n",
       "      <td>marukame udon</td>\n",
       "      <td>4.5</td>\n",
       "      <td>9559</td>\n",
       "      <td>43015.5</td>\n",
       "    </tr>\n",
       "    <tr>\n",
       "      <td>564</td>\n",
       "      <td>bacchanal buffet</td>\n",
       "      <td>4.0</td>\n",
       "      <td>10656</td>\n",
       "      <td>42624.0</td>\n",
       "    </tr>\n",
       "    <tr>\n",
       "      <td>...</td>\n",
       "      <td>...</td>\n",
       "      <td>...</td>\n",
       "      <td>...</td>\n",
       "      <td>...</td>\n",
       "    </tr>\n",
       "    <tr>\n",
       "      <td>169</td>\n",
       "      <td>the thai kitchen</td>\n",
       "      <td>5.0</td>\n",
       "      <td>4</td>\n",
       "      <td>20.0</td>\n",
       "    </tr>\n",
       "    <tr>\n",
       "      <td>168</td>\n",
       "      <td>rick's place bar and grill</td>\n",
       "      <td>4.5</td>\n",
       "      <td>4</td>\n",
       "      <td>18.0</td>\n",
       "    </tr>\n",
       "    <tr>\n",
       "      <td>176</td>\n",
       "      <td>dalton's back 9 bar &amp; grill</td>\n",
       "      <td>4.5</td>\n",
       "      <td>4</td>\n",
       "      <td>18.0</td>\n",
       "    </tr>\n",
       "    <tr>\n",
       "      <td>173</td>\n",
       "      <td>colborn's kitchen</td>\n",
       "      <td>5.0</td>\n",
       "      <td>3</td>\n",
       "      <td>15.0</td>\n",
       "    </tr>\n",
       "    <tr>\n",
       "      <td>179</td>\n",
       "      <td>smokey's d's catering &amp; bbq</td>\n",
       "      <td>4.5</td>\n",
       "      <td>3</td>\n",
       "      <td>13.5</td>\n",
       "    </tr>\n",
       "  </tbody>\n",
       "</table>\n",
       "<p>999 rows × 4 columns</p>\n",
       "</div>"
      ],
      "text/plain": [
       "                              name  avg_rating review_count    score\n",
       "358                  bottega louie         4.0        16921  67684.0\n",
       "140  founding farmers - washington         4.0        13586  54344.0\n",
       "636            katz's delicatessen         4.0        12161  48644.0\n",
       "219                  marukame udon         4.5         9559  43015.5\n",
       "564               bacchanal buffet         4.0        10656  42624.0\n",
       "..                             ...         ...          ...      ...\n",
       "169               the thai kitchen         5.0            4     20.0\n",
       "168     rick's place bar and grill         4.5            4     18.0\n",
       "176    dalton's back 9 bar & grill         4.5            4     18.0\n",
       "173              colborn's kitchen         5.0            3     15.0\n",
       "179    smokey's d's catering & bbq         4.5            3     13.5\n",
       "\n",
       "[999 rows x 4 columns]"
      ]
     },
     "execution_count": 60,
     "metadata": {},
     "output_type": "execute_result"
    }
   ],
   "source": [
    "# Uses review count and average rating to calculate popularity score\n",
    "nff_popularity['score'] = nff_popularity.apply(lambda row: row.avg_rating * row.review_count, axis=1)\n",
    "nff_popularity.sort_values(by='score', ascending=False)"
   ]
  },
  {
   "cell_type": "markdown",
   "metadata": {},
   "source": [
    "This chart displays the non fast food restaurants at the top with the highest popularity scores and the ones with the lowest scores at the bottom. Bottega Louie ranks at the top with Smokey's D's Catering & BBQ at the bottom."
   ]
  },
  {
   "cell_type": "code",
   "execution_count": 61,
   "metadata": {},
   "outputs": [
    {
     "name": "stdout",
     "output_type": "stream",
     "text": [
      "Most popular:  name            bottega louie\n",
      "avg_rating                  4\n",
      "review_count            16921\n",
      "score                   67684\n",
      "Name: 358, dtype: object\n",
      "\n",
      "\n",
      "Least popular:  name            smokey's d's catering & bbq\n",
      "avg_rating                              4.5\n",
      "review_count                              3\n",
      "score                                  13.5\n",
      "Name: 179, dtype: object\n"
     ]
    }
   ],
   "source": [
    "# Find the most and least popular\n",
    "nff_most_fav = nff_popularity.loc[nff_popularity['score'].idxmax()]\n",
    "nff_least_fav = nff_popularity.loc[nff_popularity['score'].idxmin()]\n",
    "\n",
    "print('Most popular: ', nff_most_fav)\n",
    "print('\\n')\n",
    "print('Least popular: ', nff_least_fav)"
   ]
  },
  {
   "cell_type": "markdown",
   "metadata": {},
   "source": [
    "We explored the popularity to see if there was a significant difference between the popularity of the most and least popular restaurants between fast foods and non fast foods. If there was a significant difference, we wanted to explore possible reasonings for this. However, we did not find any. "
   ]
  },
  {
   "cell_type": "markdown",
   "metadata": {},
   "source": [
    "### Testing Distributions"
   ]
  },
  {
   "cell_type": "markdown",
   "metadata": {},
   "source": [
    "We observed a >1 star difference in rating between non fast food vs fast food restaurants, where non fast food restaurants were rated more highly. It's possible that there are some confounding variables at play. For our purposes, we want to look into cuisine as a confounder. We want to test if this difference in rating could be attributed to differences in cuisine distrubution among non fast food vs fast food restaurants."
   ]
  },
  {
   "cell_type": "markdown",
   "metadata": {},
   "source": [
    "To begin, we will test if there are significant differences in rating across cuisines in non fast food and fast food restaurants."
   ]
  },
  {
   "cell_type": "markdown",
   "metadata": {},
   "source": [
    "**Non Fast Food**\n",
    "\n",
    "We will test the question \"Does the type of cuisine have a significant correlation to the non fast food restaurant rating?\""
   ]
  },
  {
   "cell_type": "code",
   "execution_count": 62,
   "metadata": {},
   "outputs": [
    {
     "name": "stdout",
     "output_type": "stream",
     "text": [
      "['american', 'mexican', 'thai', 'greek', 'indian', 'japanese', 'spanish', 'chinese', 'french', 'italian', 'mediterranean'] \n",
      " [261, 46, 22, 10, 0, 28, 10, 3, 16, 52, 29]\n"
     ]
    }
   ],
   "source": [
    "# check the restaurant count in each category\n",
    "count=[]\n",
    "for x in cuisine:\n",
    "    count.append(len(all_cuisine_ratings[x][\"rating\"]))\n",
    "print(cuisine,\"\\n\",count)"
   ]
  },
  {
   "cell_type": "code",
   "execution_count": 63,
   "metadata": {},
   "outputs": [
    {
     "name": "stdout",
     "output_type": "stream",
     "text": [
      "cuisine:  ['american', 'mexican', 'thai', 'greek', 'indian', 'japanese', 'spanish', 'chinese', 'french', 'italian', 'mediterranean']\n",
      "cuis20:  ['american', 'mexican', 'thai', 'japanese', 'italian', 'mediterranean']\n"
     ]
    }
   ],
   "source": [
    "# remove greek, indian, spanish, chinese, and french from our cuisine list because they have too few restaurants\n",
    "# (we need n>=20 for kurtosistest).\n",
    "print(\"cuisine: \", cuisine)\n",
    "count=[]\n",
    "cuis20 = [x for x in cuisine if not len(all_cuisine_ratings[x][\"rating\"])<20]\n",
    "print(\"cuis20: \", cuis20)"
   ]
  },
  {
   "cell_type": "code",
   "execution_count": 64,
   "metadata": {},
   "outputs": [
    {
     "data": {
      "text/plain": [
       "[0.0005374038287795762,\n",
       " 4.5119415235748956e-05,\n",
       " 0.7710620493184326,\n",
       " 2.521288699591849e-05,\n",
       " 0.3808909148317702,\n",
       " 0.22779359800864385]"
      ]
     },
     "execution_count": 64,
     "metadata": {},
     "output_type": "execute_result"
    }
   ],
   "source": [
    "# test normality of each cuisine's ratings\n",
    "norm=[]\n",
    "for x in cuis20:\n",
    "    st,p=stats.normaltest(all_cuisine_ratings[x][\"rating\"])\n",
    "    norm.append(p)\n",
    "norm"
   ]
  },
  {
   "cell_type": "code",
   "execution_count": 65,
   "metadata": {},
   "outputs": [
    {
     "data": {
      "text/plain": [
       "[0.08156498673740034,\n",
       " 0.11352657004830922,\n",
       " 0.07846320346320342,\n",
       " 0.06712962962962964,\n",
       " 0.08710407239819001,\n",
       " 0.05972906403940883]"
      ]
     },
     "execution_count": 65,
     "metadata": {},
     "output_type": "execute_result"
    }
   ],
   "source": [
    "# test variance of each cuisine's ratings\n",
    "var=[]\n",
    "for x in cuis20:\n",
    "    var.append(all_cuisine_ratings[x][\"rating\"].var())\n",
    "var"
   ]
  },
  {
   "cell_type": "markdown",
   "metadata": {},
   "source": [
    "Before discussing the results of the ANOVA (aka generalized t-test for multiple groups), let's consider if all of the necessary conditions are met. \n",
    "\n",
    "1. Equal variance among groups: Yes. Our variances range from 0.0597 - 0.113. The ratio between the most extreme variances is roughly 1.89. As a rule of thumb, since 1.89 < 2, this is a sufficient reason in order to use an ANOVA.\n",
    "2. Large enough sample size: Yes. We considered only cuisines with more than 20 samples.\n",
    "3. Normally distributed: This is debatable. The first thing that we need to consider is the nature of our data. Within a particular cuisine, we have a set of restaurants which each have a rating that is a multiple of 0.5. This multiple of 0.5 is obtained by aggregating individual reviews of that restaurant which range from 1 to 5 stars. These reviews are averaged and then rounded to the nearest multiple of 0.5. When using normaltest with an alpha value of 0.05, American, Mexican, and Japanese cuisines did not pass. This result might be a result of rounding error: It's possible that when considering pre-rounded ratings, we had a normal distribution with a very low standard deviation, but rounding clumped up most of our data into a few bins. We will further explore the normality of these 3 cases below. \n",
    "4. Data are continuous: Yes. See #3. While each restaurant rating is not continuous, the pre-rounded mean is. This adds some rounding error in our data, but we should still be able to perform the ANOVA."
   ]
  },
  {
   "cell_type": "code",
   "execution_count": 66,
   "metadata": {},
   "outputs": [
    {
     "data": {
      "image/png": "[encoded data removed]",
      "text/plain": [
       "<Figure size 432x288 with 1 Axes>"
      ]
     },
     "metadata": {
      "needs_background": "light"
     },
     "output_type": "display_data"
    }
   ],
   "source": [
    "# Let's further explore the normality of American, Mexican, and Japanses Cuisines\n",
    "sns.distplot(all_cuisine_ratings[\"american\"][\"rating\"], kde=False, bins=4).set_title('American Cuisine Ratings')\n",
    "\n",
    "f1 = plt.gcf()"
   ]
  },
  {
   "cell_type": "code",
   "execution_count": 67,
   "metadata": {},
   "outputs": [
    {
     "data": {
      "image/png": "[encoded data removed]",
      "text/plain": [
       "<Figure size 432x288 with 1 Axes>"
      ]
     },
     "metadata": {
      "needs_background": "light"
     },
     "output_type": "display_data"
    }
   ],
   "source": [
    "sns.distplot(all_cuisine_ratings[\"mexican\"][\"rating\"], kde=False, bins=5).set_title('Mexican Cuisine Ratings')\n",
    "\n",
    "f1 = plt.gcf()"
   ]
  },
  {
   "cell_type": "code",
   "execution_count": 68,
   "metadata": {},
   "outputs": [
    {
     "data": {
      "image/png": "[encoded data removed]",
      "text/plain": [
       "<Figure size 432x288 with 1 Axes>"
      ]
     },
     "metadata": {
      "needs_background": "light"
     },
     "output_type": "display_data"
    }
   ],
   "source": [
    "sns.distplot(all_cuisine_ratings[\"japanese\"][\"rating\"], kde=False,bins=3).set_title('Japanese Cuisine Ratings')\n",
    "\n",
    "f1 = plt.gcf()"
   ]
  },
  {
   "cell_type": "markdown",
   "metadata": {},
   "source": [
    "These distplots give credence to the hypothesis that pre-rounded ratings follow a normal distribution: most of the ratings are clumped into 1 or 2 categories! With this, we will use the ANOVA to test our original hypothesis."
   ]
  },
  {
   "cell_type": "code",
   "execution_count": 69,
   "metadata": {},
   "outputs": [
    {
     "data": {
      "text/plain": [
       "F_onewayResult(statistic=3.4691401226376284, pvalue=0.004377614743612544)"
      ]
     },
     "execution_count": 69,
     "metadata": {},
     "output_type": "execute_result"
    }
   ],
   "source": [
    "# Let's check if the variations in rating across cuisines is due to random chance via an ANOVA:\n",
    "stats.f_oneway(all_cuisine_ratings[\"american\"][\"rating\"], \n",
    "             all_cuisine_ratings[\"mexican\"][\"rating\"],\n",
    "             all_cuisine_ratings[\"thai\"][\"rating\"],\n",
    "              all_cuisine_ratings[\"japanese\"][\"rating\"],\n",
    "              all_cuisine_ratings[\"italian\"][\"rating\"], \n",
    "              all_cuisine_ratings[\"mediterranean\"][\"rating\"])"
   ]
  },
  {
   "cell_type": "markdown",
   "metadata": {},
   "source": [
    "With a p value below our alpha of .05, we can conclude that it is very unlikely that cuisines do not affect rating of a non fast food restaurant. Our anova suggest that differences in ratings across cuisines are not a result of random chance. We conclude that the type of cuisine of a non fast food restaurant influences the rating of a restaurant."
   ]
  },
  {
   "cell_type": "markdown",
   "metadata": {},
   "source": [
    "**Fast Food**\n",
    "\n",
    "We will test the question \"Does the type of cusine have a significant correlation to the non fast food restaurant rating?\""
   ]
  },
  {
   "cell_type": "code",
   "execution_count": 70,
   "metadata": {},
   "outputs": [
    {
     "name": "stdout",
     "output_type": "stream",
     "text": [
      "['american', 'mexican', 'thai', 'greek', 'indian', 'japanese', 'spanish', 'chinese', 'french', 'italian', 'mediterranean'] \n",
      " [230, 140, 1, 2, 0, 1, 1, 40, 0, 370, 13]\n"
     ]
    }
   ],
   "source": [
    "# check the restaurant count in each category\n",
    "count=[]\n",
    "for x in cuisine:\n",
    "    count.append(len(all_fast_ratings[x]))\n",
    "print(cuisine,\"\\n\",count)"
   ]
  },
  {
   "cell_type": "code",
   "execution_count": 71,
   "metadata": {},
   "outputs": [
    {
     "name": "stdout",
     "output_type": "stream",
     "text": [
      "cuisine:  ['american', 'mexican', 'thai', 'greek', 'indian', 'japanese', 'spanish', 'chinese', 'french', 'italian', 'mediterranean']\n",
      "cuis20:  ['american', 'mexican', 'chinese', 'italian']\n"
     ]
    }
   ],
   "source": [
    "# remove greek, indian, spanish, chinese, and french from our cuisine list because they have too few restaurants\n",
    "# (we need n>=20 for kurtosistest).\n",
    "print(\"cuisine: \", cuisine)\n",
    "count=[]\n",
    "cuis20 = [x for x in cuisine if not len(all_fast_ratings[x][\"rating\"])<20]\n",
    "print(\"cuis20: \", cuis20)"
   ]
  },
  {
   "cell_type": "code",
   "execution_count": 72,
   "metadata": {},
   "outputs": [
    {
     "data": {
      "text/plain": [
       "[0.12194149547972807,\n",
       " 0.01108811288803714,\n",
       " 0.06326858815156687,\n",
       " 0.07220017935050475]"
      ]
     },
     "execution_count": 72,
     "metadata": {},
     "output_type": "execute_result"
    }
   ],
   "source": [
    "# test normality of each cuisine's ratings\n",
    "norm=[]\n",
    "for x in cuis20:\n",
    "    st,p=stats.normaltest(all_fast_ratings[x][\"rating\"])\n",
    "    norm.append(p)\n",
    "norm"
   ]
  },
  {
   "cell_type": "code",
   "execution_count": 73,
   "metadata": {},
   "outputs": [
    {
     "data": {
      "text/plain": [
       "[0.5183263717486236, 0.6297404933196297, 0.6472756410256406, 0.89302900461437]"
      ]
     },
     "execution_count": 73,
     "metadata": {},
     "output_type": "execute_result"
    }
   ],
   "source": [
    "# test variance of each cuisine's ratings\n",
    "var=[]\n",
    "for x in cuis20:\n",
    "    var.append(all_fast_ratings[x][\"rating\"].var())\n",
    "var"
   ]
  },
  {
   "cell_type": "markdown",
   "metadata": {},
   "source": [
    "Before discussing the results of the ANOVA test, let's consider if all of the necessary conditions are met.\n",
    "\n",
    "1. Equal variance among groups: Yes.  They range from 0.518 to 0.893. The ratio between the most extreme variances is roughly 1.7. As a rule of thumb, since 1.7<2, this is good enough to use an ANOVA.\n",
    "2. Large enough sample size: Yes, we considered only cuisines with more than 20 samples. \n",
    "3. Normally distributed: All but Mexican cuisine pass the normality test. We follow the same methodology as the non-fast food data: it is possible that when considering pre-rounded ratings, we had a normal distribution with a very low standard deviation, but rounding clumped up most of our data into a few bins. We will further explore the normality of Mexican cuisine below.\n",
    "4. Data are continuous: Yes. See #3. While each restaurant rating is not continuous, the pre-rounded mean is. This adds some rounding error in our data, but we should still be able to perform the ANOVA."
   ]
  },
  {
   "cell_type": "code",
   "execution_count": 74,
   "metadata": {},
   "outputs": [
    {
     "data": {
      "image/png": "[encoded data removed]",
      "text/plain": [
       "<Figure size 432x288 with 1 Axes>"
      ]
     },
     "metadata": {
      "needs_background": "light"
     },
     "output_type": "display_data"
    }
   ],
   "source": [
    "# Let's further explore the normality of American, Mexican, and Japanses Cuisines\n",
    "sns.distplot(all_fast_ratings[\"mexican\"][\"rating\"], kde=False, bins=4).set_title('Fast Food Mexican Cuisine Ratings')\n",
    "\n",
    "f1 = plt.gcf()"
   ]
  },
  {
   "cell_type": "markdown",
   "metadata": {},
   "source": [
    "The distplot give credence to the hypothesis that pre-rounded ratings follow a normal distribution: most of the ratings are clumped into 1 or 2 categories! With this, we will use the ANOVA to test our original hypothesis."
   ]
  },
  {
   "cell_type": "code",
   "execution_count": 75,
   "metadata": {},
   "outputs": [
    {
     "data": {
      "text/plain": [
       "F_onewayResult(statistic=35.71791774324262, pvalue=1.2517558299252336e-21)"
      ]
     },
     "execution_count": 75,
     "metadata": {},
     "output_type": "execute_result"
    }
   ],
   "source": [
    "# Let's check if the variations in rating across cuisines is due to random chance via an ANOVA:\n",
    "stats.f_oneway(all_fast_ratings[\"american\"][\"rating\"], \n",
    "             all_fast_ratings[\"mexican\"][\"rating\"],\n",
    "             all_fast_ratings[\"chinese\"][\"rating\"],\n",
    "              all_fast_ratings[\"italian\"][\"rating\"])"
   ]
  },
  {
   "cell_type": "markdown",
   "metadata": {},
   "source": [
    "With a p-value below our alpha of 0.05, we can conclude that it is very unlikely that the type of cuisine does not affect rating. Our ANOVA suggests that differences in ratings across cuisines in fast food are not a result of random chance. We conclude that the type of cuisine does influence the rating of a fast food restaurant."
   ]
  },
  {
   "cell_type": "markdown",
   "metadata": {},
   "source": [
    "# <a name=\"ethics-&-privacy\"></a> Ethics & Privacy\n"
   ]
  },
  {
   "cell_type": "markdown",
   "metadata": {},
   "source": [
    "In order to gain access to the data, we utilized several Yelp API keys at no charge. Anyone is able to  obtain the available data on Yelp, therefore we do have permission to use it. The API however does not return every business available, only the businesses that have Yelp-user generated content. In addition, we only found data for 48 states in which we’re missing the data for Arizona and Delaware. This is concerning because it excludes these populations. In addition, it seems that the restaurants listed in the yelp dataset do not include all ethnic groups (ex: there are no Korean restaurants listed). Furthermore, there are biases in our dataset because the data (reviews) is manipulated by Yelp and does not reflect the overall ratings of everyone who has written a review. In terms of privacy, our project should not have any major concerns as we are using information that has been released to the public, all which do not contain personal information. The data we are working with are on businesses, such as their location and amount of reviews. \n",
    " \n",
    "While our dataset has a potential bias, we have decided to continue on with using it. Our dataset may be missing 2 states, but we felt that missing 2 out of 50 states would not significantly change our results and analysis. One thing we must note is that we would be unable to predict the success of a restaurant if the location given were to be in Arizona or Delaware. We must also note that our prediction of a restaurant's success may be inaccurate for restaurants who identify as any of the ethnic groups not represented by the dataset. We have also decided to overlook Yelp’s manipulation of the reviews because it is also a factor that plays a role in the success or failure of a business, as mentioned in the Background and Prior Work section. In addition, there is little we can do about Yelp’s manipulation of data, as we only have permission to data that Yelp has legally consented to publicizing. \n"
   ]
  },
  {
   "cell_type": "markdown",
   "metadata": {},
   "source": [
    "# Conclusion & Discussion"
   ]
  },
  {
   "cell_type": "markdown",
   "metadata": {},
   "source": [
    "When we started on our project, we initially planned to look at the success of a restaurant and if there was correlation with location. However this proved to be challenging because the original dataset we planned to use was not representative of the entire country. \n",
    " \n",
    "Ideally, we would have liked to find the average cuisine ratings per each state. However, the limitations of the data we could retrieve from the Yelp API prevented us from being able to accurately represent the ratings of the entire population across each state. In order to do so, we would have liked to obtain all restaurant reviews within the Yelp database. Therefore, we are very limited in the data we can find based on the resources available to the public.\n",
    " \n",
    "Because of the limitations in data, we have adjusted our question so that we can take a more generalized approach. Our new question, “How do the ratings of a fast food restaurant compare to non fast food restaurants?”, is more generalized as we are not looking at it based on specific locations. We originally attempted to do so but found that our data was not extensive enough to account for all states. We decided to focus on fast food vs. non fast food because we thought that non fast food restaurants would be more popular than fast foods. This idea stemmed from the comparison between chain restaurants we originally had when answering the question related to location. We noticed that popular chain restaurants tend to be fast food restaurants. As such, we wanted to compare the difference between popular fast food chains and non fast food chains to see if there was a reasoning for this. We studied ratings based on cuisine across fast food and non fast food restaurants.\n",
    " \n",
    "Based on our analysis, we found that the average rating of fast food restaurants is lower than that of non fast food restaurants, which aligns with our hypothesis. We noticed that there is a significant difference between the average ratings (>1 star difference), which we thought could be attributed to the types of cuisines available in fast food vs. non fast food restaurants. As such, we analyzed the correlation between the average ratings and the type of cuisines available for both fast food and non fast food restaurants. Our data suggests that the type of cuisine is likely to influence the rating of both non fast food restaurants and fast food restaurants.\n",
    "\n",
    "Even comparing fast food vs non fast food restaurants in a fixed cuisine, we concluded that non fast food restaurants tended to perform better, as our hypothesis suggested.\n",
    " \n",
    "The limitations of our data unfortunately only shows whether or not there is significant correlation between the popularity of a restaurant and the type of restaurant it is (fast food vs. non fast food, different types of cuisines). There is not sufficient data to assume a causation between the two because we do not know if there are factors unaccounted for. \n"
   ]
  },
  {
   "cell_type": "markdown",
   "metadata": {},
   "source": [
    "# Team Contributions"
   ]
  },
  {
   "cell_type": "markdown",
   "metadata": {},
   "source": [
    "The overview, research question, background, and hypothesis were created together as a collective during our group meetings. The data was gathered by Manda using the Yelp API. As for the data cleaning, analysis, and exploration, it is difficult to pinpoint who did what. Matthew did a large part of the data cleaning, and Viet structured the t-tests. Besides this, we did not assign sections but instead had everyone work on areas that they felt comfortable with or still needed to be completed. It can be said that everyone contributed equally for these parts, considering how each person has contributed to at least a portion of each section. The ethics & privacy and conclusion & discussion sections were written by Andrea, Manda, and Shih Wen. The overall project was reviewed by each team member. "
   ]
  }
 ],
 "metadata": {
  "kernelspec": {
   "display_name": "Python 3",
   "language": "python",
   "name": "python3"
  },
  "language_info": {
   "codemirror_mode": {
    "name": "ipython",
    "version": 3
   },
   "file_extension": ".py",
   "mimetype": "text/x-python",
   "name": "python",
   "nbconvert_exporter": "python",
   "pygments_lexer": "ipython3",
   "version": "3.7.0"
  }
 },
 "nbformat": 4,
 "nbformat_minor": 2
}
