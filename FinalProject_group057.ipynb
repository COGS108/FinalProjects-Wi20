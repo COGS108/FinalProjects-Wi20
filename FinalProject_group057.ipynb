{
 "cells": [
  {
   "cell_type": "markdown",
   "metadata": {},
   "source": [
    "# COGS 108 - Final Project\n",
    "\n",
    "\n",
    "# Overview\n",
    "\n",
    "For our project, our goal was to better understand whether or not commonly used words in music can influence a song's popularity.  To do this, we looked at a dataset consisting of Billboard top 100 songs between 1995 and 2015 and ran tf-idf on our dataset before attempting to run various models to predict future song popularity.  Using our analyses and dataset, we were ultimately able to deduce that certain song lyrics alone are not particularly useful for predicting popularity but rather serve as an indicator of whether a song belongs to our current era or a previous one.\n",
    "\n",
    "# Names\n",
    "\n",
    "- Shadman Noor\n",
    "- Yubi Quinzon\n",
    "- Shabab Chowdhury\n",
    "- Ittoop Shinu Shibu\n",
    "- Adelle Ria Thompson\n",
    "\n",
    "# Research Question\n",
    "\n",
    "We are planning to look at music data, specifically pop genre lyrics to figure out which are the common words that are used in the most popular songs which generate the most revenue. We want to know which words contribute to the highest revenue generation in the pop genre from 2000 onwards.\n",
    "\n",
    "## Background and Prior Work\n",
    "\n",
    "We are interested in music data because music is something that is universal and it has always been a part and parcel of most of our lives. Since all of our group members love music and are enthusiastic about doing research on this topic, we wanted to understand what makes music popular, so we started to look at different feasible datasets which contain different song metrics. We have also been looking at other data science projects related to music, for inspiration. \n",
    "\n",
    "- 1) http://cs229.stanford.edu/proj2014/Angela%20Xue,%20Nick%20Dupoux,%20Predicting%20the%20Commercial%20Success%20of%20Songs%20Based%20on%20Lyrics%20and%20Other%20Metrics.pdf\n",
    "Our first reference is a previous project done at Stanford that attempts to predict the \"hottness\" of songs based on lyrics and a number of other metrics, such as genre and tempo. This study took into account multiple features of songs at once, and was largely inconclusive in predicting song \"hotness\".  It also suggested natural language processing should be done in future studies to better understand how lyrics can take effect in influencing song popularity.  This suggestion gave us reason to hypothesize that lyrics do influence popularity.  \n",
    "\n",
    "\n",
    "- 2) https://knowledge.wharton.upenn.edu/article/predicting-song-popularity/\n",
    "This was another project done by a marketing professor at UPenn who looked at lyrics in the context of genres.  He discusses the impact lyrics can have in terms of being more important in certain genres such as country and less important in genres like dance music.  This again showed us that lyrics do in fact make a difference one way or another, and as such led us to believe that certain lyrics have the ability to influence song popularity.     \n",
    "\n",
    "# Hypothesis\n",
    "\n",
    "Our hypothesis is that the words most commonly used in popular songs play a role in making that song popular. If some words come up repeatedly in popular songs, we hypothesize that those words could be a part of the reason behind the success of those particular words.\n",
    "\n",
    "# Dataset(s)\n",
    "\n",
    "Fill in your dataset information here:\n",
    "\n",
    "- Dataset Name: Billboard 1964-2015 Songs + Lyrics\n",
    "- Link to the dataset: https://www.kaggle.com/rakannimer/billboard-lyrics\n",
    "- Number of observations: 5099\n",
    "\n",
    "This dataset contains 50 years of Billboard Top 100 songs, with each song's rank on the charts (from 1-100), the year in which the song was on the charts, the artist, the song title, the lyrics and the source of the lyrics.\n",
    "\n",
    "# Setup"
   ]
  },
  {
   "cell_type": "code",
   "execution_count": 1,
   "metadata": {},
   "outputs": [
    {
     "name": "stderr",
     "output_type": "stream",
     "text": [
      "[nltk_data] Downloading package stopwords to /home/art018/nltk_data...\n",
      "[nltk_data]   Package stopwords is already up-to-date!\n"
     ]
    },
    {
     "data": {
      "text/plain": [
       "True"
      ]
     },
     "execution_count": 1,
     "metadata": {},
     "output_type": "execute_result"
    }
   ],
   "source": [
    "import numpy as np # linear algebra\n",
    "import pandas as pd # data processing, CSV file I/O (e.g. pd.read_csv)\n",
    "import seaborn as sns\n",
    "import matplotlib.pyplot as plt\n",
    "from sklearn.feature_extraction.text import TfidfVectorizer as tfidf\n",
    "from sklearn.model_selection import train_test_split\n",
    "import nltk\n",
    "from nltk.corpus import stopwords\n",
    "from sklearn import preprocessing\n",
    "from sklearn.naive_bayes import MultinomialNB\n",
    "from sklearn.ensemble import RandomForestClassifier\n",
    "from sklearn.neighbors import KNeighborsClassifier\n",
    "nltk.download('stopwords')"
   ]
  },
  {
   "cell_type": "markdown",
   "metadata": {},
   "source": [
    "# Data Cleaning\n",
    "\n",
    "As discussed earlier in the report, we hypothesized that certain words used in lyrical songs help influence the spot(rank) it places on the top 100 billboards list of that year. To help support our hypothesis we first had to clean our data and have it in a format we can analyze."
   ]
  },
  {
   "cell_type": "markdown",
   "metadata": {},
   "source": [
    "## I. Cleaning our Data: Removing Columns & Rows"
   ]
  },
  {
   "cell_type": "code",
   "execution_count": 2,
   "metadata": {},
   "outputs": [],
   "source": [
    "## IMPORTING DATASET\n",
    "data = pd.read_csv('billboard_lyrics_1964-2015.csv', encoding='latin-1')"
   ]
  },
  {
   "cell_type": "code",
   "execution_count": 3,
   "metadata": {},
   "outputs": [],
   "source": [
    "## GETTING RID OF COLUMNS THAT WERE NOT [YEAR, RANK, LYRICS, TITLE, LYTICS]\n",
    "## GETTING RID OF ROWS THAT HAD ANY MISSING (N/A) INFORMATION\n",
    "data = data.drop('Source', axis=1)"
   ]
  },
  {
   "cell_type": "code",
   "execution_count": 4,
   "metadata": {},
   "outputs": [],
   "source": [
    "## APPLYING A FUNCTION TO ALL REMAINING SONG TITLES AND LYRICS TO REMOVE ANY WORDS BEING REPEATED\n",
    "def remove_duplicates(table):\n",
    "    df = pd.DataFrame()\n",
    "    for group, tab in table.groupby(['Song','Lyrics']):\n",
    "        df = df.append(tab.sort_values('Rank').iloc[0], ignore_index=True)\n",
    "    return df\n",
    "data = remove_duplicates(data)"
   ]
  },
  {
   "cell_type": "markdown",
   "metadata": {},
   "source": [
    "## II. TF-IDF\n",
    "\n",
    "Here we then vectorize our data in ‘Lyrics’ and ‘Song’(Titles) using the TF-IDF method. We then input the results into a new data frame containing their TF-IDF values.\n",
    "\n",
    "*This helps us find the importance/relevance of a word within their respective corpus of documents (whether within song titles or lyrics). This method also allows us to skip over any stopwords (words of no meaning).*"
   ]
  },
  {
   "cell_type": "code",
   "execution_count": 5,
   "metadata": {},
   "outputs": [],
   "source": [
    "## VECTORIZING SONG LYRICS\n",
    "vectorizer = tfidf(max_features=5000, stop_words = stopwords.words('english'))\n",
    "X = vectorizer.fit_transform(list(data['Lyrics']))\n",
    "data = pd.concat([pd.DataFrame(X.todense(), columns=vectorizer.get_feature_names()),data],axis=1)"
   ]
  },
  {
   "cell_type": "code",
   "execution_count": 6,
   "metadata": {},
   "outputs": [],
   "source": [
    "## VECTORIZING SONG TITLES\n",
    "vectorizer = tfidf(max_features=1000,stop_words = stopwords.words('english'))\n",
    "Y = vectorizer.fit_transform(list(data['Song']))\n",
    "data = pd.concat([pd.DataFrame(Y.todense(), columns=vectorizer.get_feature_names()),data],axis=1)"
   ]
  },
  {
   "cell_type": "markdown",
   "metadata": {},
   "source": [
    "Reference: https://scikit-learn.org/stable/modules/generated/sklearn.feature_extraction.text.TfidfVectorizer.html"
   ]
  },
  {
   "cell_type": "markdown",
   "metadata": {},
   "source": [
    "## III. Cleaning our Data: Fixing Duplicates\n",
    "\n",
    "We then applied a function to all remaining song titles and their lyrics to remove any words from being repeated."
   ]
  },
  {
   "cell_type": "code",
   "execution_count": 7,
   "metadata": {},
   "outputs": [],
   "source": [
    "## FUNCTION TO FIND ANY WORDS WITH MORE THAN ONE TF-IDF VALUE AND SUM THEM UP\n",
    "## THE OUTPUT OF THIS FUNCTION IS THE FINAL AND ONLY TF-IDF VALUE\n",
    "def clean_column(data):\n",
    "    copy_data = pd.DataFrame()\n",
    "    for col in data.columns:\n",
    "        if type(data[col])!=pd.core.series.Series:\n",
    "            if col not in copy_data.columns:\n",
    "                copy_data[col] = data[col].sum(axis=1)\n",
    "        else:\n",
    "            copy_data[col] = data[col]\n",
    "    return copy_data\n",
    "\n",
    "data = clean_column(data)"
   ]
  },
  {
   "cell_type": "markdown",
   "metadata": {},
   "source": [
    "## IV. Cleaning our Data: Exploratory Data Analysis & Model Preparation\n",
    "\n",
    "Here we visualize and analyze our data by showing correlations of variables we find important. Our main method of visualizing our data is through BARCHARTS.\n",
    "### Correlation Between TF-IDF and RANK"
   ]
  },
  {
   "cell_type": "markdown",
   "metadata": {},
   "source": [
    "First, we tried to see if there was any correlation between words of songs and their respective ranks. We implemented groupby by Rank and summed the TF-IDF values. We then took the top 10 words from the result and compared the results between the first two ranks to see if there was any correlation."
   ]
  },
  {
   "cell_type": "code",
   "execution_count": 8,
   "metadata": {},
   "outputs": [],
   "source": [
    "## GROUPING SONGS BY THEIR RESPECTIVE RANKS AND SUMMING UP TF-IDF OF WORDS REPEATED IN ANY OF THE GROUPS\n",
    "rank1 = data.drop(['Year','Rank'], axis=1).groupby(data['Rank']).sum().loc[1].sort_values(ascending=False).iloc[:10]\n",
    "rank2 = data.drop(['Year','Rank'], axis=1).groupby(data['Rank']).sum().loc[2].sort_values(ascending=False).iloc[:10]"
   ]
  },
  {
   "cell_type": "code",
   "execution_count": 9,
   "metadata": {},
   "outputs": [
    {
     "data": {
      "text/plain": [
       "Text(0, 0.5, 'tf-idf weighting')"
      ]
     },
     "execution_count": 9,
     "metadata": {},
     "output_type": "execute_result"
    },
    {
     "data": {
      "image/png": "[encoded data removed]",
      "text/plain": [
       "<Figure size 432x288 with 1 Axes>"
      ]
     },
     "metadata": {
      "needs_background": "light"
     },
     "output_type": "display_data"
    }
   ],
   "source": [
    "ax = rank1.plot(kind='bar')\n",
    "ax.set_xlabel(\"word\")\n",
    "ax.set_ylabel(\"tf-idf weighting\")"
   ]
  },
  {
   "cell_type": "code",
   "execution_count": 10,
   "metadata": {},
   "outputs": [
    {
     "data": {
      "text/plain": [
       "Text(0, 0.5, 'tf-idf weighting')"
      ]
     },
     "execution_count": 10,
     "metadata": {},
     "output_type": "execute_result"
    },
    {
     "data": {
      "image/png": "[encoded data removed]",
      "text/plain": [
       "<Figure size 432x288 with 1 Axes>"
      ]
     },
     "metadata": {
      "needs_background": "light"
     },
     "output_type": "display_data"
    }
   ],
   "source": [
    "ax = rank2.plot(kind='bar')\n",
    "ax.set_xlabel(\"word\")\n",
    "ax.set_ylabel(\"tf-idf weighting\")"
   ]
  },
  {
   "cell_type": "markdown",
   "metadata": {},
   "source": [
    "As shown by the above bar charts, there seems to be very little correlation between rank and words. This is because a lot of the words among the ranks are shared and there are no words that are representative of a single rank. Hence, we decided to change our hypothesis to predict another metric."
   ]
  },
  {
   "cell_type": "markdown",
   "metadata": {},
   "source": [
    "### Correlation Between TF-IDF and YEAR"
   ]
  },
  {
   "cell_type": "markdown",
   "metadata": {},
   "source": [
    "The next metric we decided to analyse was the correlation between words and years.<br>\n",
    "We cleaned the data by binning the Years by songs on the charts before the 2000's and songs on the charts after the 2000's."
   ]
  },
  {
   "cell_type": "code",
   "execution_count": 11,
   "metadata": {},
   "outputs": [],
   "source": [
    "data = data.drop(['Song','Lyrics', 'Artist', 'Rank'], axis=1)\n",
    "def year_bin_rank(Year):\n",
    "    if Year <2000:\n",
    "        return 1\n",
    "    elif Year >= 2000:\n",
    "        return 2\n",
    "data['Year'] = data['Year'].apply(year_bin_rank)"
   ]
  },
  {
   "cell_type": "markdown",
   "metadata": {},
   "source": [
    "The bins were pretty uneven, so we decided to decrease the no. of songs in bin 1 by dropping a few."
   ]
  },
  {
   "cell_type": "code",
   "execution_count": 12,
   "metadata": {},
   "outputs": [
    {
     "data": {
      "text/plain": [
       "Text(0, 0.5, 'total per bin')"
      ]
     },
     "execution_count": 12,
     "metadata": {},
     "output_type": "execute_result"
    },
    {
     "data": {
      "image/png": "[encoded data removed]",
      "text/plain": [
       "<Figure size 432x288 with 1 Axes>"
      ]
     },
     "metadata": {
      "needs_background": "light"
     },
     "output_type": "display_data"
    }
   ],
   "source": [
    "ax = data['Year'].value_counts().plot(kind='bar')\n",
    "ax.set_xlabel(\"bin number\")\n",
    "ax.set_ylabel(\"total per bin\")"
   ]
  },
  {
   "cell_type": "code",
   "execution_count": 13,
   "metadata": {},
   "outputs": [
    {
     "data": {
      "text/plain": [
       "1    3276\n",
       "2    1434\n",
       "Name: Year, dtype: int64"
      ]
     },
     "execution_count": 13,
     "metadata": {},
     "output_type": "execute_result"
    }
   ],
   "source": [
    "data['Year'].value_counts()"
   ]
  },
  {
   "cell_type": "code",
   "execution_count": 14,
   "metadata": {},
   "outputs": [],
   "source": [
    "data = data.sort_values('Year', ascending=False).iloc[:(1434*2)].sort_index().reset_index(drop=True)"
   ]
  },
  {
   "cell_type": "code",
   "execution_count": 15,
   "metadata": {},
   "outputs": [
    {
     "data": {
      "text/plain": [
       "1    1434\n",
       "2    1434\n",
       "Name: Year, dtype: int64"
      ]
     },
     "execution_count": 15,
     "metadata": {},
     "output_type": "execute_result"
    }
   ],
   "source": [
    "data['Year'].value_counts()"
   ]
  },
  {
   "cell_type": "markdown",
   "metadata": {},
   "source": [
    "Next, we decided to take a look at the correlation between Year and the words in each song. We apply a sum on the groupby of Year and took a look at the top 10 words for each binned year."
   ]
  },
  {
   "cell_type": "code",
   "execution_count": 16,
   "metadata": {},
   "outputs": [],
   "source": [
    "year1 = data.groupby('Year').sum().loc[1].sort_values(ascending=False).iloc[:10]\n",
    "year2 = data.groupby('Year').sum().loc[2].sort_values(ascending=False).iloc[:10]"
   ]
  },
  {
   "cell_type": "code",
   "execution_count": 17,
   "metadata": {},
   "outputs": [
    {
     "data": {
      "text/plain": [
       "Text(0, 0.5, 'tf-idf weighting')"
      ]
     },
     "execution_count": 17,
     "metadata": {},
     "output_type": "execute_result"
    },
    {
     "data": {
      "image/png": "[encoded data removed]",
      "text/plain": [
       "<Figure size 432x288 with 1 Axes>"
      ]
     },
     "metadata": {
      "needs_background": "light"
     },
     "output_type": "display_data"
    }
   ],
   "source": [
    "ax = year1.plot(kind='bar')\n",
    "ax.set_xlabel(\"word\")\n",
    "ax.set_ylabel(\"tf-idf weighting\")"
   ]
  },
  {
   "cell_type": "code",
   "execution_count": 18,
   "metadata": {},
   "outputs": [
    {
     "data": {
      "text/plain": [
       "Text(0, 0.5, 'tf-idf weighting')"
      ]
     },
     "execution_count": 18,
     "metadata": {},
     "output_type": "execute_result"
    },
    {
     "data": {
      "image/png": "[encoded data removed]",
      "text/plain": [
       "<Figure size 432x288 with 1 Axes>"
      ]
     },
     "metadata": {
      "needs_background": "light"
     },
     "output_type": "display_data"
    }
   ],
   "source": [
    "ax = year2.plot(kind='bar')\n",
    "ax.set_xlabel(\"word\")\n",
    "ax.set_ylabel(\"tf-idf weighting\")"
   ]
  },
  {
   "cell_type": "markdown",
   "metadata": {},
   "source": [
    "The bar charts show that there seems to be some correlation between years and words. There are certain words that correlate strongly to a particular binned year.\n",
    "<br>\n",
    "<br>\n",
    "Hence, we decided to use year as our metric for prediction."
   ]
  },
  {
   "cell_type": "markdown",
   "metadata": {},
   "source": [
    "# Data Analysis & Results\n",
    "\n",
    "For our analysis we split the dataset into train and test sets to see if we could predict song popularity based on lyrics. The training set contains 70% of the dataset and is randomly selected. The test set contains the rest of the 30% of the dataset."
   ]
  },
  {
   "cell_type": "code",
   "execution_count": 19,
   "metadata": {},
   "outputs": [],
   "source": [
    "X = data.drop('Year', axis=1).values\n",
    "y = data['Year'].values\n",
    "X_train, X_test, y_train, y_test = train_test_split(X, y, test_size=0.33, random_state=42)"
   ]
  },
  {
   "cell_type": "markdown",
   "metadata": {},
   "source": [
    "Next, we passed our dataset that are to be trained and tested into three different classification models.\n",
    "<br>\n",
    "<br>\n",
    "The first model we implemented was the naïve bayes model. This model calculates the conditional probability of the TF-IDF of a word with respect to the labels from its training data. It then uses the features from the test data to find the maximum probability conditional on each label. The label with maximum conditional probability is the one returned as the predicted label. \n",
    "<br>\n",
    "<br>\n",
    "<b>Reference:</b> https://scikit-learn.org/stable/modules/naive_bayes.html"
   ]
  },
  {
   "cell_type": "code",
   "execution_count": 20,
   "metadata": {},
   "outputs": [
    {
     "name": "stdout",
     "output_type": "stream",
     "text": [
      "0.8802706923477356\n"
     ]
    },
    {
     "data": {
      "text/plain": [
       "0.737064413938754"
      ]
     },
     "execution_count": 20,
     "metadata": {},
     "output_type": "execute_result"
    }
   ],
   "source": [
    "clf = MultinomialNB()\n",
    "clf.fit(X_train, y_train)\n",
    "print(clf.score(X_train, y_train))\n",
    "clf.score(X_test, y_test)"
   ]
  },
  {
   "cell_type": "markdown",
   "metadata": {},
   "source": [
    "This model did pretty well in predicting the data; both the training and test accuracy scores were pretty high.\n",
    "<br>\n",
    "<br>\n",
    "The second model, RandomForestClassifier uses multiple decision trees and average to fit and predict data. \n",
    "<br>\n",
    "<br>\n",
    "<b>Reference:</b> https://scikit-learn.org/stable/modules/generated/sklearn.ensemble.RandomForestClassifier.html"
   ]
  },
  {
   "cell_type": "code",
   "execution_count": 21,
   "metadata": {},
   "outputs": [
    {
     "name": "stdout",
     "output_type": "stream",
     "text": [
      "0.9906298802706923\n"
     ]
    },
    {
     "data": {
      "text/plain": [
       "0.7001055966209081"
      ]
     },
     "execution_count": 21,
     "metadata": {},
     "output_type": "execute_result"
    }
   ],
   "source": [
    "rf = RandomForestClassifier(n_estimators=10)\n",
    "rf.fit(X_train, y_train)\n",
    "print(rf.score(X_train, y_train))\n",
    "rf.score(X_test, y_test)"
   ]
  },
  {
   "cell_type": "markdown",
   "metadata": {},
   "source": [
    "This model does not perform as well as the naïve bayes model as shown by the test accuracy. This is probably because the randomforestclassifier overfits training data. Hence, it is unable to accurately classify the test data."
   ]
  },
  {
   "cell_type": "markdown",
   "metadata": {},
   "source": [
    "The last model, Knearest Neighbors, uses distances between each row/feature/point/songs TF-IDF to predict labels. First, the model is supplied a training dataset with labels. Next, the model is given test data, which it uses to find the distance between each point of the test data and each point of the training data to find the point that has the least distance between each other. It then returns the label of the point in the training dataset as the point of that particular test point.\n",
    "<br>\n",
    "<br>\n",
    "<b>Reference:</b> https://scikit-learn.org/stable/modules/generated/sklearn.neighbors.KNeighborsClassifier.html"
   ]
  },
  {
   "cell_type": "code",
   "execution_count": 22,
   "metadata": {},
   "outputs": [
    {
     "name": "stdout",
     "output_type": "stream",
     "text": [
      "0.5960437272254034\n"
     ]
    },
    {
     "data": {
      "text/plain": [
       "0.5163674762407603"
      ]
     },
     "execution_count": 22,
     "metadata": {},
     "output_type": "execute_result"
    }
   ],
   "source": [
    "clf = KNeighborsClassifier()\n",
    "clf.fit(X_train, y_train)\n",
    "print(clf.score(X_train, y_train))\n",
    "clf.score(X_test, y_test)"
   ]
  },
  {
   "cell_type": "markdown",
   "metadata": {},
   "source": [
    "This model did not do very well in training or testing. This is probably because a lot of the words in songs are very similar. Hence, it is hard to avoid or ignore the words that are very similar in the songs. \n",
    "\n",
    "Based on these models and their results, we realized that certain words in lyrics alone are not enough to predict song popularity."
   ]
  },
  {
   "cell_type": "markdown",
   "metadata": {},
   "source": [
    "# Ethics & Privacy\n",
    "\n",
    "Throughout our process, we used only public information in regards to public data of song lyrics and ranking on music charts throughout the years.  \n",
    "\n",
    "Our project did not harm the music industry in any way and we ensured all the steps of our project were handled privately and not used in any destructive manner. \n",
    "\n",
    "We ensured that we have permission for any dataset we used for this project and made sure to minimalize biases from our data by taking into account the make-up of our dataset.  \n",
    "\n",
    "For example, we realized as we were looking at our dataset that a majority of the artist T-Pain's lyrics were not included in the lyrics feature, as well as lyrics of other artists such as Soulja Boy, Linkin Park, and many more, influencing the bias of our dataset.  Similarly, some of the lyrics being in Spanish also influenced bias in that words that may be used frequently if the song were to be translated were discounted because of the language barrier.  \n",
    "\n",
    "These discrepancies ultimately influence sampling bias in terms of the lack of consistent collection of data for certain artists and songs.  In order to avoid this sampling bias, all lyrics would need to be included from the same lyrics source, in the same language, for every song included in the dataset."
   ]
  },
  {
   "cell_type": "markdown",
   "metadata": {},
   "source": [
    "# Conclusion & Discussion\n",
    "\n",
    "### Discussing our Project\n",
    "\n",
    "The initial goal when we undertook this project was to determine whether or not commonly used words in music can influence the popularity of a song. One of the driving reasons behind us choosing this topic was that music is universal, and it is something that can be shared and enjoyed by many people. \n",
    "\n",
    "Also, our group members love music, and we were enthusiastic to explore some datasets that explored data related to music as well. We also referred to other projects with similar goals, such as a project done at Stanford to predict a song’s “hotness” based on lyrics and other metrics, and another study done at UPenn that gives some insight as to how lyrics may influence song popularity. These findings inspired us to work on our own project concerned with musical data. We hypothesize that some of the most common words used in popular songs contribute to their popularity. We wanted to show that if we see certain words that come up repeatedly in the most popular songs, we can attribute the popularity of songs to those certain words. \n",
    "\n",
    "### Summarizing our Data and Question\n",
    "\n",
    "We wanted to use music data that we thought would best answer our research question. We used a dataset that contained all Billboard Top 100 songs from the years 1964 to the year 2015, including each song’s title, chart position, year charted, lyrics, and lyrics source. We looked at the lyrics in the dataset, with a focus on pop songs from 2000 to 2015. From this data we wanted to figure out what words are used in the top Billboard songs, since they are the songs that generate the most revenue. We wanted to research which words contribute to the highest revenue generation in the pop genre in our specified time period. \n",
    "\n",
    "### Summarizing our Results and Conclusion\n",
    "\n",
    "We wanted this project to be a good indicator of what our society likes to see in their music by looking at which words are more trendy in pop culture. However, we concluded through our analysis that words aren’t a very good indicator of the predicted popularity of songs; showing that our hypothesis was incorrect. As such, throughout our process, we realized that it was more likely that our hypothesis should have in fact been that there are other features, or perhaps a combination, that affect song popularity.  We then tried to see if words can better predict other variables and finally we came up with a new hypothesis that words better predict whether a song belongs before or after the 21st century. Through our analysis we saw that certain words appear more in songs that were released after 2000, while there are certain other words which were used more commonly in songs from the previous era.\n",
    "\n",
    "### Limitations to our Project\n",
    "\n",
    "In relation to our code, we encountered several difficulties that added limitations to our study.  These include our bin size impacting the accuracy of our predictions, dealing with Spanish words which were out of the scope of the project, dealing with missing values in terms of missing lyrics for certain songs as well as instrumental songs, and  dealing with expressions used in lyrics that can't be classified as specific words. Additionally, we had to account for some numbers in the dataset that were spelled out, making them have less impact on the results than they should have.  Lastly, lyrics in the dataset were obtained from a number of different lyric sources, all of which have different styles in terms of how different words are spelled based on how they are heard.\n",
    "\n",
    "### Impacts of Work on Society\n",
    "\n",
    "Even though this project doesn’t have a big impact on society, and is mainly done to satisfy our curiosity, we wanted this project to be a good indicator of what kind of words our music industry gravitates towards. We thought it could be fascinating to be able to use this predictor tool to better understand what the future of music may look like!\n",
    "\n",
    "Instead we figured out how words can predict whether a song belongs to our current era or a previous one. This can explain the popularity of certain words that we are more familiar with nowadays compared to words that were more used in the past."
   ]
  },
  {
   "cell_type": "markdown",
   "metadata": {},
   "source": [
    "# Team Contributions\n",
    "\n",
    "Prior to beginning our project, it was really important to each of us that we all work together in person/on Zoom to understand the entirety of our project and the code behind each of the steps we were taking.  As such, we all worked together on each component, which although was more time consuming, ensured we all had full understanding of our project from start to end.  \n",
    "\n",
    "In terms of compiling our final project, Yubi and Shinu worked together on analysis and EDA while Shadman, Shabab and Ria worked on conclusion and discussion."
   ]
  }
 ],
 "metadata": {
  "kernelspec": {
   "display_name": "Python 3",
   "language": "python",
   "name": "python3"
  },
  "language_info": {
   "codemirror_mode": {
    "name": "ipython",
    "version": 3
   },
   "file_extension": ".py",
   "mimetype": "text/x-python",
   "name": "python",
   "nbconvert_exporter": "python",
   "pygments_lexer": "ipython3",
   "version": "3.7.0"
  }
 },
 "nbformat": 4,
 "nbformat_minor": 2
}
