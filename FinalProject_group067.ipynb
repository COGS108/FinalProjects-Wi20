{
 "cells": [
  {
   "cell_type": "markdown",
   "metadata": {},
   "source": [
    "# COGS 108 - Final Project "
   ]
  },
  {
   "cell_type": "markdown",
   "metadata": {},
   "source": [
    "# Overview"
   ]
  },
  {
   "cell_type": "markdown",
   "metadata": {},
   "source": [
    "- It has been a commonly held stimga that height plays a pivotal role in the world of basketball. This project seeks to ultimately challenge this opinion, finding whether or not there actually exists a correlation between an NBA player's height (specifically point guards) and their success/performance in the league. Utilizing common statistics that usually predict a player's success in a game such as points per game, assists, turnovers, defensive rating, etc. as well as taking into account their height, we can build a more accurate baseline of success among these players. By analyzing these datasets this project will provide a more statsitcal and defintive answer in determining correlation between height in point guards and their performance in the NBA."
   ]
  },
  {
   "cell_type": "markdown",
   "metadata": {},
   "source": [
    "# Names\n",
    "\n",
    "- Kevin Ing\n",
    "- Chris Molina\n",
    "- Anwar Hsu\n",
    "- Jake Garnier"
   ]
  },
  {
   "cell_type": "markdown",
   "metadata": {},
   "source": [
    "# Research Question"
   ]
  },
  {
   "cell_type": "markdown",
   "metadata": {},
   "source": [
    "- What is the correlation between height and a point guard's success/performance in the NBA? "
   ]
  },
  {
   "cell_type": "markdown",
   "metadata": {},
   "source": [
    "## Background and Prior Work "
   ]
  },
  {
   "cell_type": "markdown",
   "metadata": {},
   "source": [
    "- We chose to do research on this project to contest the common stigma that height plays a pivotal role in basketball players. In the modern age of the NBA we are seeing more and more players use different unique skill sets that utilize other parts of their game rather than height. The major factor in allowing these smaller players to ultimately perform better than their taller counterparts revolves around the game's more fast paced playstyle and play around the 3 pointer. With the court more spaced out, point guards are given more freedom on offense, players like Stephen Curry and Damian Lillard have taken advantage of the new era style of play and have put up incredible statistics throughout the recent seasons. \n",
    "\n",
    "\n",
    " - The average height for a point guard over the 2012-2017 seaons have hovered around 6'2\n",
    " - From the 2012-2017 seasons 3 MVP awards were given to point guards (Stephen Curry) (Russell Westbrook)\n",
    " - Historically big men (player who played the \"power forward\" to \"center\" positions who were on average around 6'11 won the MVP award more prior to 2000. \n",
    "\n",
    "References (include links):\n",
    "- 1) https://saltcityhoops.com/how-much-has-height-of-point-guards-mattered-historically/\n",
    "\n",
    "    This article provides data to players prior to 2013 where the game was played much differently than it is now, where height isn't factored to be as important then it used to be. Throughout this article the point guard Trey Burke is used as a sample group and compared with other point guards in the league. Standing 6'1 in height Burke represents the middle of the bell curve in terms of heights amongst NBA point guards. Rather than utilizing traditional stats this article uses PER also known as player efficiency rating which \"is the overall rating of a player's per-minute statistical production\" (ESPN). In conclusion this article ultimately states 6'3 as being the optimal height for point guards, however as the league has progressed, this number has shifted due to the way point guards are now playing the game more spread out with more 3PTs. \n",
    "    \n",
    " \n",
    "- 2) https://bleacherreport.com/articles/937064-building-the-perfect-nba-point-guard#slide9\n",
    "\n",
    "     We based our criteria for performance and success based off of some of the points highlighted in this article, more specifically we chose the main three attributes; points, assists, shooting percentage, and points allowed (defense). This article focuses on the key skillsets that make star point guards so dominant. These players range Steph Curry and his 3pt shooting to Steve Nash and his passing ability. With so many successful point guards each playing the game differently as well as with differing heights this article allows us to build a better baseline in determining how successful a player can be for their team. "
   ]
  },
  {
   "cell_type": "markdown",
   "metadata": {},
   "source": [
    "# Hypothesis \n"
   ]
  },
  {
   "cell_type": "markdown",
   "metadata": {},
   "source": [
    "We believe that height holds a dominating factor in terms of how successful a point guard will be in the NBA, the taller the player the better he will perform for his respective team and therfore the more succesful the team will be.\n",
    "\n",
    "We think that being taller provides advantages that can heavily impact the game. Even though players like Stephen Curry, a phenomenal player despite his size, exist in the league as incredible point guards that don't need to utilize their height to be successful for their team. basketball’s meta changed after Curry’s domination in 2015-2016. We can see more and more point guards looking to make more 3-pointers rather than driving in or looking for assists. As more guards begin to utilize Curry’s style in late seasons we can better see the impact height has on this style.\n",
    "\n",
    "Throughout the 2012 - 2017 seasons we expect to find fairly linear correlation between height and the variables that create a successful player with few outliers such as Stephen Curry \n"
   ]
  },
  {
   "cell_type": "markdown",
   "metadata": {},
   "source": [
    "# Dataset(s)"
   ]
  },
  {
   "cell_type": "markdown",
   "metadata": {},
   "source": [
    "\n"
   ]
  },
  {
   "cell_type": "markdown",
   "metadata": {},
   "source": [
    "- Dataset Name: player_data.csv\n",
    "- Link to the dataset: https://www.kaggle.com/drgilermo/nba-players-stats#player_data.csv\n",
    "- Number of observations: 4551\n",
    "    - This dataset includes player statistics that range from the 1950 season all the way to the 2018 season. This dataset consists of each player's name, year played, college, position, height, and weight. The main statistics that we plan on using from this dataset include player position and height, which will we then narrow down to only point guards from the 2012-2017 season. We will merge this data set with the season stats and defensive stats data sets since they lack statistics regarding player height. \n",
    "\n",
    "\n",
    "- Dataset Name: season_stats.csv\n",
    "- Link to the dataset: https://www.kaggle.com/drgilermo/nba-players-stats#Seasons_Stats.csv\n",
    "- Number of observations: 3921\n",
    "    - This dataset includes player game stats from 1950-2018 holding 53 columns of stats such as points, assists, rebounds, steals etc. The main statistics we will be utilizing in this dataset will points, assists, turnovers, steals, 3pt %, field goal %. We will also only be analyzing players from a 5 year span from the 2012-2017 seasons. This dataset will be merged with the player_data.csv file to include height and player position which will we use to sort out point guards.\n",
    "   \n",
    "   \n",
    "- Dataset Name: season_2012_2013.csv - season_2017_2018.csv\n",
    "- Link to the dataset: https://stats.nba.com/players/advanced/\n",
    "- Number of observations: 300\n",
    "    - We used a third party application called DataMiner to extract stats from the NBA official advanced stats website since there was a lack of defensive rating stats online. These collection of datasets each consist of the player's name, the team they play for, and their defensive rating, the dataset already consists of players in the NBA that are point guards and also hold a starting position on the roster. We combine this dataset with the ones above to merge the defensive rating stat alongside the other stats as well as the height of each respective player. This will also narrow the list of point guards down to only starting point guards.  "
   ]
  },
  {
   "cell_type": "markdown",
   "metadata": {},
   "source": [
    "# Data Cleaning (WIP)"
   ]
  },
  {
   "cell_type": "markdown",
   "metadata": {},
   "source": [
    "We downloaded the csv files, removed any unnecessary columns, and merged the files. We then converted the height into one measurement(inches) and calculated the mean of every stat for each height for each year."
   ]
  },
  {
   "cell_type": "code",
   "execution_count": 1,
   "metadata": {},
   "outputs": [],
   "source": [
    "import pandas as pd\n",
    "import numpy as np\n",
    "import matplotlib.pyplot as plt\n",
    "from scipy.stats import norm\n",
    "\n",
    "\n",
    "df_offensive = pd.read_csv(\"Seasons_Stats.csv\")\n",
    "df_heights = pd.read_csv(\"player_data.csv\")\n",
    "df_2012 = pd.read_csv(\"season_2011_2012.csv\")\n",
    "df_2013 = pd.read_csv(\"season_2012_2013.csv\")\n",
    "df_2014 = pd.read_csv(\"season_2013_2014.csv\")\n",
    "df_2015 = pd.read_csv(\"season_2014_2015.csv\")\n",
    "df_2016 = pd.read_csv(\"season_2015_2016.csv\")\n",
    "df_2017 = pd.read_csv(\"season_2017_2018.csv\")\n",
    "\n",
    "df_heights = df_heights[['name', 'height']]\n",
    "df_offensive = df_offensive[['Year', 'Player', 'PTS', 'TOV', 'AST', '3P%', 'FG%', 'G']]\n",
    "df_total = df_heights.merge(df_offensive, how='left', left_on='name', right_on='Player')\n",
    "\n",
    "df_2012['year'] = 2012.0\n",
    "df_2013['year'] = 2013.0\n",
    "df_2014['year'] = 2014.0\n",
    "df_2015['year'] = 2015.0\n",
    "df_2016['year'] = 2016.0\n",
    "df_2017['year'] = 2017.0\n",
    "\n",
    "df_total_year = pd.concat([df_2012, df_2013, df_2014, df_2015, df_2016, df_2017])\n",
    "df_total = df_total_year.merge(df_total, how='inner', left_on=['player', 'year'], right_on=['name', 'Year'])\n",
    "df_total['PTSPG'] = df_total['PTS'] / df_total['G']\n",
    "df_total['TOVPG'] = df_total['TOV'] / df_total['G']\n",
    "df_total['ASTPG'] = df_total['AST'] / df_total['G']\n",
    "df_total = df_total[['player', 'year', 'height', 'defense rating', 'PTSPG', 'TOVPG', 'ASTPG', '3P%', 'FG%']]\n",
    "\n",
    "# We implemented this function to fix data discrepencies in our csv file converting each players' height to inches.\n",
    "def height_fix(height) :\n",
    "    height_split = height.split('-')\n",
    "    total = (int(height_split[0]) * 12) + int(height_split[1])\n",
    "    return total\n",
    "\n",
    "df_total['height'] = df_total['height'].apply(height_fix)\n",
    "\n",
    "# We implemented this function to get the average of all the stats for a particular height we use \n",
    "# (points, assists, defense, etc.)\n",
    "def mean_calc(year, df) :\n",
    "    mean_array = []\n",
    "    for height in range(60, 100) :\n",
    "        df_curr = df.loc[(df['year'] == year) & (df['height'] == height)]\n",
    "        if df_curr.empty :\n",
    "            continue\n",
    "        mean = df_curr.mean()\n",
    "        mean_array.append([height, mean['defense rating'], mean['PTSPG'], mean['TOVPG'], mean['ASTPG'], mean['3P%'], mean['FG%']])\n",
    "    return mean_array\n",
    "        \n",
    "df_2012_mean = pd.DataFrame(data=mean_calc(2012.0, df_total), columns=['height', 'defense rating', 'PTSPG', 'TOVPG', 'ASTPG', '3P%', 'FG%'])\n",
    "df_2013_mean = pd.DataFrame(data=mean_calc(2013.0, df_total), columns=['height', 'defense rating', 'PTSPG', 'TOVPG', 'ASTPG', '3P%', 'FG%'])\n",
    "df_2014_mean = pd.DataFrame(data=mean_calc(2014.0, df_total), columns=['height', 'defense rating', 'PTSPG', 'TOVPG', 'ASTPG', '3P%', 'FG%'])\n",
    "df_2015_mean = pd.DataFrame(data=mean_calc(2015.0, df_total), columns=['height', 'defense rating', 'PTSPG', 'TOVPG', 'ASTPG', '3P%', 'FG%'])\n",
    "df_2016_mean = pd.DataFrame(data=mean_calc(2016.0, df_total), columns=['height', 'defense rating', 'PTSPG', 'TOVPG', 'ASTPG', '3P%', 'FG%'])\n",
    "df_2017_mean = pd.DataFrame(data=mean_calc(2017.0, df_total), columns=['height', 'defense rating', 'PTSPG', 'TOVPG', 'ASTPG', '3P%', 'FG%'])"
   ]
  },
  {
   "cell_type": "markdown",
   "metadata": {},
   "source": [
    "We seperated our dataframes to be year specific, organizing each statistic with its given year from 2012 - 2017. These year specific dataframes hold the average stats of points, defense, turnovers, 3pt percent, fg percent, and assists sorted by ascending order of height."
   ]
  },
  {
   "cell_type": "code",
   "execution_count": 2,
   "metadata": {},
   "outputs": [],
   "source": [
    "# The 2012 NBA Season\n",
    "\n",
    "df_2012 = df_2012_mean\n",
    "df_2012_sort = df_2012.sort_values(['height'])\n",
    "\n",
    "\n",
    "df_2012_height = df_2012_sort['height']\n",
    "df_2012_points = df_2012_sort['PTSPG']\n",
    "df_2012_defense = df_2012_sort['defense rating']\n",
    "df_2012_turnover = df_2012_sort['TOVPG']\n",
    "df_2012_3percent = df_2012_sort['3P%']\n",
    "df_2012_FGpercent = df_2012_sort['FG%']\n",
    "df_2012_assist = df_2012_sort['ASTPG']"
   ]
  },
  {
   "cell_type": "code",
   "execution_count": 3,
   "metadata": {},
   "outputs": [],
   "source": [
    "# The 2013 NBA Season\n",
    "\n",
    "df_2013 = df_2013_mean\n",
    "df_2013_sort = df_2013.sort_values(['height'])\n",
    "\n",
    "df_2013_height = df_2013_sort['height']\n",
    "df_2013_points = df_2013_sort['PTSPG']\n",
    "df_2013_defense = df_2013_sort['defense rating']\n",
    "df_2013_turnover = df_2013_sort['TOVPG']\n",
    "df_2013_3percent = df_2013_sort['3P%']\n",
    "df_2013_FGpercent = df_2013_sort['FG%']\n",
    "df_2013_assist = df_2013_sort['ASTPG']"
   ]
  },
  {
   "cell_type": "code",
   "execution_count": 4,
   "metadata": {},
   "outputs": [],
   "source": [
    "# The 2014 NBA Season\n",
    "\n",
    "df_2014 = df_2014_mean\n",
    "df_2014_sort = df_2014.sort_values(['height'])\n",
    "\n",
    "df_2014_height = df_2014_sort['height']\n",
    "df_2014_points = df_2014_sort['PTSPG']\n",
    "df_2014_defense = df_2014_sort['defense rating']\n",
    "df_2014_turnover = df_2014_sort['TOVPG']\n",
    "df_2014_3percent = df_2014_sort['3P%']\n",
    "df_2014_FGpercent = df_2014_sort['FG%']\n",
    "df_2014_assist = df_2014_sort['ASTPG']"
   ]
  },
  {
   "cell_type": "code",
   "execution_count": 5,
   "metadata": {},
   "outputs": [],
   "source": [
    "# The 2015 NBA Season\n",
    "\n",
    "df_2015 = df_2015_mean\n",
    "df_2015_sort = df_2015.sort_values(['height'])\n",
    "\n",
    "df_2015_height = df_2015_sort['height']\n",
    "df_2015_points = df_2015_sort['PTSPG']\n",
    "df_2015_defense = df_2015_sort['defense rating']\n",
    "df_2015_turnover = df_2015_sort['TOVPG']\n",
    "df_2015_3percent = df_2015_sort['3P%']\n",
    "df_2015_FGpercent = df_2015_sort['FG%']\n",
    "df_2015_assist = df_2015_sort['ASTPG']"
   ]
  },
  {
   "cell_type": "code",
   "execution_count": 6,
   "metadata": {},
   "outputs": [],
   "source": [
    "# The 2015 NBA Season\n",
    "\n",
    "df_2015 = df_2015_mean\n",
    "df_2015_sort = df_2015.sort_values(['height'])\n",
    "\n",
    "df_2015_height = df_2015_sort['height']\n",
    "df_2015_points = df_2015_sort['PTSPG']\n",
    "df_2015_defense = df_2015_sort['defense rating']\n",
    "df_2015_turnover = df_2015_sort['TOVPG']\n",
    "df_2015_3percent = df_2015_sort['3P%']\n",
    "df_2015_FGpercent = df_2015_sort['FG%']\n",
    "df_2015_assist = df_2015_sort['ASTPG']"
   ]
  },
  {
   "cell_type": "code",
   "execution_count": 7,
   "metadata": {},
   "outputs": [],
   "source": [
    "# The 2016 NBA Season\n",
    "\n",
    "df_2016 = df_2016_mean\n",
    "df_2016_sort = df_2016.sort_values(['height'])\n",
    "\n",
    "df_2016_height = df_2016_sort['height']\n",
    "df_2016_points = df_2016_sort['PTSPG']\n",
    "df_2016_defense = df_2016_sort['defense rating']\n",
    "df_2016_turnover = df_2016_sort['TOVPG']\n",
    "df_2016_3percent = df_2016_sort['3P%']\n",
    "df_2016_FGpercent = df_2016_sort['FG%']\n",
    "df_2016_assist = df_2016_sort['ASTPG']"
   ]
  },
  {
   "cell_type": "code",
   "execution_count": 8,
   "metadata": {},
   "outputs": [],
   "source": [
    "# The 2017 NBA Season\n",
    "\n",
    "df_2017 = df_2017_mean\n",
    "df_2017_sort = df_2017.sort_values(['height'])\n",
    "\n",
    "df_2017_height = df_2017_sort['height']\n",
    "df_2017_points = df_2017_sort['PTSPG']\n",
    "df_2017_defense = df_2017_sort['defense rating']\n",
    "df_2017_turnover = df_2017_sort['TOVPG']\n",
    "df_2017_3percent = df_2017_sort['3P%']\n",
    "df_2017_FGpercent = df_2017_sort['FG%']\n",
    "df_2017_assist = df_2017_sort['ASTPG']"
   ]
  },
  {
   "cell_type": "markdown",
   "metadata": {},
   "source": [
    "# Data Analysis & Results (WIP)"
   ]
  },
  {
   "cell_type": "markdown",
   "metadata": {},
   "source": [
    "We create this function to normalize our statistics in our data making them range from 0 to 1. The way this function works is by removing the minimum to get above 0 and dividing by its peak to peak height to ultimately normalize. By normalizing all of our dataframes we limit possible outliers from different years and we have a more consistent set to work with."
   ]
  },
  {
   "cell_type": "code",
   "execution_count": 9,
   "metadata": {},
   "outputs": [],
   "source": [
    "def normalize_signal(s):\n",
    "        norm_signal = (s - np.min(s))/(np.max(s)-np.min(s))\n",
    "        return norm_signal"
   ]
  },
  {
   "cell_type": "markdown",
   "metadata": {},
   "source": [
    "We then applied our normalize function to our 2012-2017 dataframes as well as getting the standard deviation from the normalized data."
   ]
  },
  {
   "cell_type": "code",
   "execution_count": 10,
   "metadata": {},
   "outputs": [
    {
     "name": "stdout",
     "output_type": "stream",
     "text": [
      "standard deviation of points of 2012: 0.2844273356140558\n",
      "standard deviation of assist of 2012: 0.2844273356140558\n",
      "standard deviation of turnovers of 2012: 0.2844273356140558\n",
      "standard deviation of defense rating of 2012: 0.3416231328439348\n",
      "standard deviation of Field goal percent of 2012: 0.24705698497826994\n",
      "standard deviation of 3point percent of 2012: 0.32395508764539976\n",
      "[[0.28442734]\n",
      " [0.38999349]\n",
      " [0.42879912]\n",
      " [0.34162313]\n",
      " [0.24705698]\n",
      " [0.32395509]]\n"
     ]
    }
   ],
   "source": [
    "norm_points_2012 = normalize_signal(df_2012_points)\n",
    "std_points_2012 = np.std(norm_points_2012)\n",
    "print(\"standard deviation of points of 2012:\",std_points_2012)\n",
    "\n",
    "norm_assist_2012 = normalize_signal(df_2012_assist)\n",
    "std_assist_2012 = np.std(norm_assist_2012)\n",
    "print(\"standard deviation of assist of 2012:\",std_points_2012)\n",
    "\n",
    "norm_to_2012 = normalize_signal(df_2012_turnover)\n",
    "std_to_2012 = np.std(df_2012_turnover)\n",
    "print(\"standard deviation of turnovers of 2012:\",std_points_2012)\n",
    "\n",
    "norm_def_2012 = normalize_signal(df_2012_defense)\n",
    "std_def_2012 = np.std(norm_def_2012)\n",
    "print(\"standard deviation of defense rating of 2012:\",std_def_2012)\n",
    "\n",
    "norm_fg_2012 = normalize_signal(df_2012_FGpercent)\n",
    "std_fg_2012 = np.std(norm_fg_2012)\n",
    "print(\"standard deviation of Field goal percent of 2012:\",std_fg_2012)\n",
    "\n",
    "norm_3point_2012 = normalize_signal(df_2012_3percent)\n",
    "std_3s_2012 = np.std(norm_3point_2012)\n",
    "print(\"standard deviation of 3point percent of 2012:\",std_3s_2012)\n",
    "\n",
    "std_2012 = std_points_2012\n",
    "std_2012 = np.vstack((std_2012,std_assist_2012,std_to_2012,std_def_2012,std_fg_2012,std_3s_2012))\n",
    "print(std_2012)"
   ]
  },
  {
   "cell_type": "code",
   "execution_count": 11,
   "metadata": {},
   "outputs": [
    {
     "name": "stdout",
     "output_type": "stream",
     "text": [
      "standard deviation of points of 2013: 0.2844273356140558\n",
      "standard deviation of assist of 2013: 0.2844273356140558\n",
      "standard deviation of turnovers of 2013: 0.29398718887812675\n",
      "standard deviation of defense rating of 2013: 0.3148377433080756\n",
      "standard deviation of Field goal percent of 2013: 0.25650222103575393\n",
      "standard deviation of 3point percent of 2012: 0.2817985606588718\n",
      "[[0.3026874 ]\n",
      " [0.29924674]\n",
      " [0.29398719]\n",
      " [0.31483774]\n",
      " [0.25650222]\n",
      " [0.28179856]]\n"
     ]
    }
   ],
   "source": [
    "norm_points_2013 = normalize_signal(df_2013_points)\n",
    "std_points_2013 = np.std(norm_points_2013)\n",
    "print(\"standard deviation of points of 2013:\",std_points_2012)\n",
    "\n",
    "norm_assist_2013 = normalize_signal(df_2013_assist)\n",
    "std_assist_2013 = np.std(norm_assist_2013)\n",
    "print(\"standard deviation of assist of 2013:\",std_points_2012)\n",
    "\n",
    "norm_to_2013 = normalize_signal(df_2013_turnover)\n",
    "std_to_2013 = np.std(norm_to_2013)\n",
    "print(\"standard deviation of turnovers of 2013:\",std_to_2013)\n",
    "\n",
    "norm_def_2013 = normalize_signal(df_2013_defense)\n",
    "std_def_2013 = np.std(norm_def_2013)\n",
    "print(\"standard deviation of defense rating of 2013:\",std_def_2013)\n",
    "\n",
    "norm_fg_2013 = normalize_signal(df_2013_FGpercent)\n",
    "std_fg_2013 = np.std(norm_fg_2013)\n",
    "print(\"standard deviation of Field goal percent of 2013:\",std_fg_2013)\n",
    "\n",
    "norm_3point_2013 = normalize_signal(df_2013_3percent)\n",
    "std_3s_2013 = np.std(norm_3point_2013)\n",
    "\n",
    "print(\"standard deviation of 3point percent of 2012:\",std_3s_2013)\n",
    "\n",
    "std_2013 = std_points_2013\n",
    "std_2013 = np.vstack((std_2013,std_assist_2013,std_to_2013,std_def_2013,std_fg_2013,std_3s_2013))\n",
    "print(std_2013)"
   ]
  },
  {
   "cell_type": "code",
   "execution_count": 12,
   "metadata": {},
   "outputs": [
    {
     "name": "stdout",
     "output_type": "stream",
     "text": [
      "standard deviation of points of 2014: 0.2692018347866771\n",
      "standard deviation of assist of 2014: 0.2655628626170763\n",
      "standard deviation of turnovers of 2014: 0.30933629804361346\n",
      "standard deviation of defense rating of 2014: 0.2485600218853465\n",
      "standard deviation of Field goal percent of 2014: 0.31537668899621507\n",
      "standard deviation of 3point percent of 2014: 0.27747752559107564\n",
      "[[0.26920183]\n",
      " [0.26556286]\n",
      " [0.3093363 ]\n",
      " [0.24856002]\n",
      " [0.31537669]\n",
      " [0.27747753]]\n"
     ]
    }
   ],
   "source": [
    "norm_points_2014 = normalize_signal(df_2014_points)\n",
    "std_points_2014 = np.std(norm_points_2014)\n",
    "print(\"standard deviation of points of 2014:\",std_points_2014)\n",
    "\n",
    "norm_assist_2014 = normalize_signal(df_2014_assist)\n",
    "std_assist_2014 = np.std(norm_assist_2014)\n",
    "print(\"standard deviation of assist of 2014:\",std_assist_2014)\n",
    "\n",
    "norm_to_2014 = normalize_signal(df_2014_turnover)\n",
    "std_to_2014 = np.std(norm_to_2014)\n",
    "print(\"standard deviation of turnovers of 2014:\",std_to_2014)\n",
    "\n",
    "norm_def_2014 = normalize_signal(df_2014_defense)\n",
    "std_def_2014 = np.std(norm_def_2014)\n",
    "print(\"standard deviation of defense rating of 2014:\",std_def_2014)\n",
    "\n",
    "norm_fg_2014 = normalize_signal(df_2014_FGpercent)\n",
    "std_fg_2014 = np.std(norm_fg_2014)\n",
    "print(\"standard deviation of Field goal percent of 2014:\",std_fg_2014)\n",
    "\n",
    "norm_3point_2014 = normalize_signal(df_2014_3percent)\n",
    "std_3s_2014 = np.std(norm_3point_2014)\n",
    "print(\"standard deviation of 3point percent of 2014:\",std_3s_2014)\n",
    "\n",
    "\n",
    "std_2014 = std_points_2014\n",
    "std_2014 = np.vstack((std_2014,std_assist_2014,std_to_2014,std_def_2014,std_fg_2014,std_3s_2014))\n",
    "print(std_2014)"
   ]
  },
  {
   "cell_type": "code",
   "execution_count": 13,
   "metadata": {},
   "outputs": [
    {
     "name": "stdout",
     "output_type": "stream",
     "text": [
      "standard deviation of points of 2015: 0.3494932795682767\n",
      "standard deviation of assist of 2015: 0.28040826500706795\n",
      "standard deviation of turnovers of 2015: 0.2679313275033318\n",
      "standard deviation of defense rating of 2015: 0.2772600451735744\n",
      "standard deviation of Field goal percent of 2015: 0.32456437408752115\n",
      "standard deviation of 3point percent of 2015: 0.2781065669663091\n",
      "[[0.34949328]\n",
      " [0.28040827]\n",
      " [0.26793133]\n",
      " [0.27726005]\n",
      " [0.32456437]\n",
      " [0.27810657]]\n"
     ]
    }
   ],
   "source": [
    "norm_points_2015 = normalize_signal(df_2015_points)\n",
    "std_points_2015 = np.std(norm_points_2015)\n",
    "print(\"standard deviation of points of 2015:\",std_points_2015)\n",
    "\n",
    "norm_assist_2015 = normalize_signal(df_2015_assist)\n",
    "std_assist_2015 = np.std(norm_assist_2015)\n",
    "print(\"standard deviation of assist of 2015:\",std_assist_2015)\n",
    "\n",
    "norm_to_2015 = normalize_signal(df_2015_turnover)\n",
    "std_to_2015 = np.std(norm_to_2015)\n",
    "print(\"standard deviation of turnovers of 2015:\",std_to_2015)\n",
    "\n",
    "norm_def_2015 = normalize_signal(df_2015_defense)\n",
    "std_def_2015 = np.std(norm_def_2015)\n",
    "print(\"standard deviation of defense rating of 2015:\",std_def_2015)\n",
    "\n",
    "norm_fg_2015 = normalize_signal(df_2015_FGpercent)\n",
    "std_fg_2015 = np.std(norm_fg_2015)\n",
    "print(\"standard deviation of Field goal percent of 2015:\",std_fg_2015)\n",
    "\n",
    "norm_3point_2015 = normalize_signal(df_2015_3percent)\n",
    "std_3s_2015 = np.std(norm_3point_2015)\n",
    "print(\"standard deviation of 3point percent of 2015:\",std_3s_2015)\n",
    "\n",
    "\n",
    "std_2015 = std_points_2015\n",
    "std_2015 = np.vstack((std_2015,std_assist_2015,std_to_2015,std_def_2015,std_fg_2015,std_3s_2015))\n",
    "print(std_2015)"
   ]
  },
  {
   "cell_type": "code",
   "execution_count": 14,
   "metadata": {},
   "outputs": [
    {
     "name": "stdout",
     "output_type": "stream",
     "text": [
      "standard deviation of points of 2016: 0.3278068130709026\n",
      "standard deviation of assist of 2016: 0.3011462675237656\n",
      "standard deviation of turnovers of 2016: 0.3584660044535728\n",
      "standard deviation of defense rating of 2016: 0.2629370585542837\n",
      "standard deviation of Field goal percent of 2016: 0.2899123972388231\n",
      "standard deviation of 3point percent of 2016: 0.26228254130800593\n",
      "[[0.32780681]\n",
      " [0.30114627]\n",
      " [0.358466  ]\n",
      " [0.26293706]\n",
      " [0.2899124 ]\n",
      " [0.26228254]]\n"
     ]
    }
   ],
   "source": [
    "norm_points_2016 = normalize_signal(df_2016_points)\n",
    "std_points_2016 = np.std(norm_points_2016)\n",
    "print(\"standard deviation of points of 2016:\",std_points_2016)\n",
    "\n",
    "norm_assist_2016 = normalize_signal(df_2016_assist)\n",
    "std_assist_2016 = np.std(norm_assist_2016)\n",
    "print(\"standard deviation of assist of 2016:\",std_assist_2016)\n",
    "\n",
    "norm_to_2016 = normalize_signal(df_2016_turnover)\n",
    "std_to_2016 = np.std(norm_to_2016)\n",
    "print(\"standard deviation of turnovers of 2016:\",std_to_2016)\n",
    "\n",
    "norm_def_2016 = normalize_signal(df_2016_defense)\n",
    "std_def_2016 = np.std(norm_def_2016)\n",
    "print(\"standard deviation of defense rating of 2016:\",std_def_2016)\n",
    "\n",
    "norm_fg_2016 = normalize_signal(df_2016_FGpercent)\n",
    "std_fg_2016 = np.std(norm_fg_2016)\n",
    "print(\"standard deviation of Field goal percent of 2016:\",std_fg_2016)\n",
    "\n",
    "norm_3point_2016 = normalize_signal(df_2016_3percent)\n",
    "std_3s_2016 = np.std(norm_3point_2016)\n",
    "print(\"standard deviation of 3point percent of 2016:\",std_3s_2016)\n",
    "\n",
    "std_2016 = std_points_2016\n",
    "std_2016 = np.vstack((std_2016,std_assist_2016,std_to_2016,std_def_2016,std_fg_2016,std_3s_2016))\n",
    "print(std_2016)"
   ]
  },
  {
   "cell_type": "code",
   "execution_count": 15,
   "metadata": {},
   "outputs": [
    {
     "name": "stdout",
     "output_type": "stream",
     "text": [
      "standard deviation of points of 2017: 0.28741388101055915\n",
      "standard deviation of assist of 2017: 0.28668449734852797\n",
      "standard deviation of turnovers of 2017: 0.2698661457128415\n",
      "standard deviation of defense rating of 2017: 0.3059986926213745\n",
      "standard deviation of Field goal percent of 2017: 0.27083591475533597\n",
      "standard deviation of 3point percent of 2017: 0.32865890719313307\n",
      "[[0.28741388]\n",
      " [0.2866845 ]\n",
      " [0.26986615]\n",
      " [0.30599869]\n",
      " [0.27083591]\n",
      " [0.32865891]]\n"
     ]
    }
   ],
   "source": [
    "norm_points_2017 = normalize_signal(df_2017_points)\n",
    "std_points_2017 = np.std(norm_points_2017)\n",
    "print(\"standard deviation of points of 2017:\",std_points_2017)\n",
    "\n",
    "norm_assist_2017 = normalize_signal(df_2017_assist)\n",
    "std_assist_2017 = np.std(norm_assist_2017)\n",
    "print(\"standard deviation of assist of 2017:\",std_assist_2017)\n",
    "\n",
    "norm_to_2017 = normalize_signal(df_2017_turnover)\n",
    "std_to_2017 = np.std(norm_to_2017)\n",
    "print(\"standard deviation of turnovers of 2017:\",std_to_2017)\n",
    "\n",
    "norm_def_2017 = normalize_signal(df_2017_defense)\n",
    "std_def_2017 = np.std(norm_def_2017)\n",
    "print(\"standard deviation of defense rating of 2017:\",std_def_2017)\n",
    "\n",
    "norm_fg_2017 = normalize_signal(df_2017_FGpercent)\n",
    "std_fg_2017 = np.std(norm_fg_2017)\n",
    "print(\"standard deviation of Field goal percent of 2017:\",std_fg_2017)\n",
    "\n",
    "norm_3point_2017 = normalize_signal(df_2017_3percent)\n",
    "std_3s_2017 = np.std(norm_3point_2017)\n",
    "print(\"standard deviation of 3point percent of 2017:\",std_3s_2017)\n",
    "\n",
    "\n",
    "std_2017 = std_points_2017\n",
    "std_2017 = np.vstack((std_2017,std_assist_2017,std_to_2017,std_def_2017,std_fg_2017,std_3s_2017))\n",
    "print(std_2017)"
   ]
  },
  {
   "cell_type": "markdown",
   "metadata": {},
   "source": [
    "Following getting the standard deviation we then graphed the following dataframes splitting them up by the statistics we use with respective years. We labeled the x-axis with player's height in inches, and the y-axis with the respective statistic"
   ]
  },
  {
   "cell_type": "code",
   "execution_count": 16,
   "metadata": {},
   "outputs": [
    {
     "data": {
      "image/png": "[encoded data removed]",
      "text/plain": [
       "<Figure size 1080x1080 with 6 Axes>"
      ]
     },
     "metadata": {
      "needs_background": "light"
     },
     "output_type": "display_data"
    }
   ],
   "source": [
    "# Graphs of average points per game for point guards in 2012-2017 NBA seasons\n",
    "# plt.ylim is used to get a more descriptive look at points of data that are graphed tightly together\n",
    "\n",
    "plt.figure(figsize = (15,15))\n",
    "\n",
    "plt.subplot(3,3,1)\n",
    "plt.ylim(10,18)\n",
    "plt.title(\"Points in 2012\")\n",
    "plt.xlabel(\"Heights\")\n",
    "plt.ylabel(\"Points per game\")\n",
    "plt.bar(x = df_2012_height, height = df_2012_points,width = 1, align  = 'edge')\n",
    "\n",
    "plt.subplot(3,3,2)\n",
    "plt.ylim(5,19)\n",
    "plt.title(\"Points in 2013\")\n",
    "plt.xlabel(\"Heights\")\n",
    "plt.ylabel(\"Points per game\")\n",
    "plt.bar(x = df_2013_height, height = df_2013_points,width = 1, align  = 'edge')\n",
    "\n",
    "\n",
    "plt.subplot(3,3,3)\n",
    "plt.ylim(5,22)\n",
    "plt.title(\"Points in 2014\")\n",
    "plt.xlabel(\"Heights\")\n",
    "plt.ylabel(\"Points per game\")\n",
    "plt.bar(x = df_2014_height, height = df_2014_points,width = 1, align  = 'edge')\n",
    "\n",
    "\n",
    "plt.subplot(3,3,4)\n",
    "plt.ylim(10,19)\n",
    "plt.title(\"Points in 2015\")\n",
    "plt.xlabel(\"Heights\")\n",
    "plt.ylabel(\"Points per game\")\n",
    "plt.bar(x = df_2015_height, height = df_2015_points,width = 1, align  = 'edge')\n",
    "\n",
    "\n",
    "plt.subplot(3,3,5)\n",
    "plt.ylim(5,19)\n",
    "plt.title(\"Points in 2016\")\n",
    "plt.xlabel(\"Heights\")\n",
    "plt.ylabel(\"Points per game\")\n",
    "plt.bar(x = df_2016_height, height = df_2016_points,width = 1, align  = 'edge')\n",
    "\n",
    "\n",
    "plt.subplot(3,3,6)\n",
    "plt.ylim(5,30)\n",
    "plt.title(\"Points in 2017\")\n",
    "plt.xlabel(\"Heights\")\n",
    "plt.ylabel(\"Points per game\")\n",
    "plt.bar(x = df_2017_height, height = df_2017_points,width = 1, align  = 'edge')\n",
    "\n",
    "\n",
    "plt.show()"
   ]
  },
  {
   "cell_type": "markdown",
   "metadata": {},
   "source": [
    "These plots highlight the average points per game for players that are between 70 to 82 inches tall"
   ]
  },
  {
   "cell_type": "code",
   "execution_count": 17,
   "metadata": {},
   "outputs": [
    {
     "data": {
      "image/png": "[encoded data removed]",
      "text/plain": [
       "<Figure size 1080x1080 with 6 Axes>"
      ]
     },
     "metadata": {
      "needs_background": "light"
     },
     "output_type": "display_data"
    }
   ],
   "source": [
    "# Graphs of average defensive rating for point guards in the 2012-2017 NBA seasons\n",
    "# plt.ylim is used to get a more descriptive look at points of data that are graphed tightly together\n",
    "\n",
    "plt.figure(figsize = (15,15))\n",
    "\n",
    "plt.subplot(3,3,1)\n",
    "plt.ylim(95,106.5)\n",
    "plt.title(\"Defense rating in 2012\")\n",
    "plt.xlabel(\"Heights\")\n",
    "plt.ylabel(\"Defense rating\")\n",
    "plt.bar(x = df_2012_height, height = df_2012_defense,width = 1, align  = 'edge')\n",
    "\n",
    "plt.subplot(3,3,2)\n",
    "plt.ylim(95,110)\n",
    "plt.title(\"Defense rating in 2013\")\n",
    "plt.xlabel(\"Heights\")\n",
    "plt.ylabel(\"Defense rating\")\n",
    "plt.bar(x = df_2013_height, height = df_2013_defense,width = 1, align  = 'edge')\n",
    "\n",
    "\n",
    "plt.subplot(3,3,3)\n",
    "plt.ylim(95,112.5)\n",
    "plt.title(\"Defense rating in 2014\")\n",
    "plt.xlabel(\"Heights\")\n",
    "plt.ylabel(\"Defense rating\")\n",
    "plt.bar(x = df_2014_height, height = df_2014_defense,width = 1, align  = 'edge')\n",
    "\n",
    "\n",
    "plt.subplot(3,3,4)\n",
    "plt.ylim(75,115)\n",
    "plt.title(\"Defense rating in 2015\")\n",
    "plt.xlabel(\"Heights\")\n",
    "plt.ylabel(\"Defense rating\")\n",
    "plt.bar(x = df_2015_height, height = df_2015_defense,width = 1, align  = 'edge')\n",
    "\n",
    "\n",
    "plt.subplot(3,3,5)\n",
    "plt.ylim(100,115)\n",
    "plt.title(\"Defense rating in 2016\")\n",
    "plt.xlabel(\"Heights\")\n",
    "plt.ylabel(\"Defense rating\")\n",
    "plt.bar(x = df_2016_height, height = df_2016_defense,width = 1, align  = 'edge')\n",
    "\n",
    "\n",
    "plt.subplot(3,3,6)\n",
    "plt.ylim(100,115)\n",
    "plt.title(\"Defense rating in 2017\")\n",
    "plt.xlabel(\"Heights\")\n",
    "plt.ylabel(\"Defense rating\")\n",
    "plt.bar(x = df_2017_height, height = df_2017_defense,width = 1, align  = 'edge')\n",
    "\n",
    "\n",
    "plt.show()"
   ]
  },
  {
   "cell_type": "markdown",
   "metadata": {},
   "source": [
    "These plots highlight the average defensive ratings for players that are between 70 to 82 inches tall"
   ]
  },
  {
   "cell_type": "code",
   "execution_count": 18,
   "metadata": {},
   "outputs": [
    {
     "data": {
      "image/png": "[encoded data removed]",
      "text/plain": [
       "<Figure size 1080x1080 with 6 Axes>"
      ]
     },
     "metadata": {
      "needs_background": "light"
     },
     "output_type": "display_data"
    }
   ],
   "source": [
    "# Graphs of average assists per game for point guards in the 2012-2017 NBA seasons\n",
    "# plt.ylim is used to get a more descriptive look at points of data that are graphed tightly together\n",
    "\n",
    "plt.figure(figsize = (15,15))\n",
    "\n",
    "plt.subplot(3,3,1)\n",
    "plt.ylim(2,7)\n",
    "plt.title(\"Assist in 2012\")\n",
    "plt.xlabel(\"Heights\")\n",
    "plt.ylabel(\"Assist per game\")\n",
    "plt.bar(x = df_2012_height, height = df_2012_assist,width = 1, align  = 'edge')\n",
    "\n",
    "plt.subplot(3,3,2)\n",
    "plt.ylim(1.5,7)\n",
    "plt.title(\"Assist in 2013\")\n",
    "plt.xlabel(\"Heights\")\n",
    "plt.ylabel(\"Assist per game\")\n",
    "plt.bar(x = df_2013_height, height = df_2013_assist,width = 1, align  = 'edge')\n",
    "\n",
    "\n",
    "plt.subplot(3,3,3)\n",
    "plt.ylim(2,9)\n",
    "plt.title(\"Assist in 2014\")\n",
    "plt.xlabel(\"Heights\")\n",
    "plt.ylabel(\"Assist per game\")\n",
    "plt.bar(x = df_2014_height, height = df_2014_assist,width = 1, align  = 'edge')\n",
    "\n",
    "\n",
    "plt.subplot(3,3,4)\n",
    "plt.ylim(2,10)\n",
    "plt.title(\"Assist in 2015\")\n",
    "plt.xlabel(\"Heights\")\n",
    "plt.ylabel(\"Assist per game\")\n",
    "plt.bar(x = df_2015_height, height = df_2015_assist,width = 1, align  = 'edge')\n",
    "\n",
    "\n",
    "plt.subplot(3,3,5)\n",
    "plt.ylim(1.5,6)\n",
    "plt.title(\"Assist in 2016\")\n",
    "plt.xlabel(\"Heights\")\n",
    "plt.ylabel(\"Assist per game\")\n",
    "plt.bar(x = df_2016_height, height = df_2016_assist,width = 1, align  = 'edge')\n",
    "\n",
    "\n",
    "plt.subplot(3,3,6)\n",
    "plt.ylim(2,7)\n",
    "plt.title(\"Assist in 2017\")\n",
    "plt.xlabel(\"Heights\")\n",
    "plt.ylabel(\"Assist per game\")\n",
    "plt.bar(x = df_2017_height, height = df_2017_assist,width = 1, align  = 'edge')\n",
    "\n",
    "\n",
    "plt.show()"
   ]
  },
  {
   "cell_type": "markdown",
   "metadata": {},
   "source": [
    "These plots highlight the average assits per game for players that are between 70 to 82 inches tall"
   ]
  },
  {
   "cell_type": "code",
   "execution_count": 19,
   "metadata": {},
   "outputs": [
    {
     "data": {
      "image/png": "[encoded data removed]",
      "text/plain": [
       "<Figure size 1080x1080 with 6 Axes>"
      ]
     },
     "metadata": {
      "needs_background": "light"
     },
     "output_type": "display_data"
    }
   ],
   "source": [
    "# Graphs of average turnovers per game for point guards in the 2012-2017 NBA seasons\n",
    "# plt.ylim is used to get a more descriptive look at points of data that are graphed tightly together\n",
    "\n",
    "plt.figure(figsize = (15,15))\n",
    "\n",
    "plt.subplot(3,3,1)\n",
    "plt.ylim(1,3)\n",
    "plt.title(\"Turnover in 2012\")\n",
    "plt.xlabel(\"Heights\")\n",
    "plt.ylabel(\"Turnover per game\")\n",
    "plt.bar(x = df_2012_height, height = df_2012_turnover,width = 1, align  = 'edge')\n",
    "\n",
    "plt.subplot(3,3,2)\n",
    "plt.ylim(1,3)\n",
    "plt.title(\"Turnover in 2013\")\n",
    "plt.xlabel(\"Heights\")\n",
    "plt.ylabel(\"Turnover per game\")\n",
    "plt.bar(x = df_2013_height, height = df_2013_turnover,width = 1, align  = 'edge')\n",
    "\n",
    "\n",
    "plt.subplot(3,3,3)\n",
    "plt.ylim(1,3.5)\n",
    "plt.title(\"Turnover in 2014\")\n",
    "plt.xlabel(\"Heights\")\n",
    "plt.ylabel(\"Turnover per game\")\n",
    "plt.bar(x = df_2014_height, height = df_2014_turnover,width = 1, align  = 'edge')\n",
    "\n",
    "\n",
    "plt.subplot(3,3,4)\n",
    "plt.ylim(1,3.5)\n",
    "plt.title(\"Turnover in 2015\")\n",
    "plt.xlabel(\"Heights\")\n",
    "plt.ylabel(\"Turnover per game\")\n",
    "plt.bar(x = df_2015_height, height = df_2015_turnover,width = 1, align  = 'edge')\n",
    "\n",
    "\n",
    "plt.subplot(3,3,5)\n",
    "plt.ylim(1,2.5)\n",
    "plt.title(\"Turnover in 2016\")\n",
    "plt.xlabel(\"Heights\")\n",
    "plt.ylabel(\"Turnover per game\")\n",
    "plt.bar(x = df_2016_height, height = df_2016_turnover,width = 1, align  = 'edge')\n",
    "\n",
    "\n",
    "plt.subplot(3,3,6)\n",
    "plt.ylim(1,3)\n",
    "plt.title(\"Turnover in 2017\")\n",
    "plt.xlabel(\"Heights\")\n",
    "plt.ylabel(\"Turnover per game\")\n",
    "plt.bar(x = df_2017_height, height = df_2017_turnover,width = 1, align  = 'edge')\n",
    "\n",
    "\n",
    "plt.show()"
   ]
  },
  {
   "cell_type": "markdown",
   "metadata": {},
   "source": [
    "These plots highlight the average turnover per game for players that are between 70 to 82 inches tall"
   ]
  },
  {
   "cell_type": "code",
   "execution_count": 20,
   "metadata": {},
   "outputs": [
    {
     "data": {
      "image/png": "[encoded data removed]",
      "text/plain": [
       "<Figure size 1080x1080 with 6 Axes>"
      ]
     },
     "metadata": {
      "needs_background": "light"
     },
     "output_type": "display_data"
    }
   ],
   "source": [
    "# Graphs of average 3pt percentage per game for point guards in the 2012-2017 NBA seasons\n",
    "# plt.ylim is used to get a more descriptive look at points of data that are graphed tightly together\n",
    "\n",
    "\n",
    "plt.figure(figsize = (15,15))\n",
    "\n",
    "plt.subplot(3,3,1)\n",
    "plt.ylim(.28,.4)\n",
    "plt.title(\"3P% in 2012\")\n",
    "plt.xlabel(\"Heights\")\n",
    "plt.ylabel(\"3P% per game\")\n",
    "plt.bar(x = df_2012_height, height = df_2012_3percent,width = 1, align  = 'edge')\n",
    "\n",
    "plt.subplot(3,3,2)\n",
    "plt.ylim(.3,.38)\n",
    "plt.title(\"3P% in 2013\")\n",
    "plt.xlabel(\"Heights\")\n",
    "plt.ylabel(\"3P% per game\")\n",
    "plt.bar(x = df_2013_height, height = df_2013_3percent,width = 1, align  = 'edge')\n",
    "\n",
    "\n",
    "plt.subplot(3,3,3)\n",
    "plt.ylim(.25,.4)\n",
    "plt.title(\"3P% in 2014\")\n",
    "plt.xlabel(\"Heights\")\n",
    "plt.ylabel(\"3P% per game\")\n",
    "plt.bar(x = df_2014_height, height = df_2014_3percent,width = 1, align  = 'edge')\n",
    "\n",
    "\n",
    "plt.subplot(3,3,4)\n",
    "plt.ylim(.25,.38)\n",
    "plt.title(\"3P% in 2015\")\n",
    "plt.xlabel(\"Heights\")\n",
    "plt.ylabel(\"3P% per game\")\n",
    "plt.bar(x = df_2015_height, height = df_2015_3percent,width = 1, align  = 'edge')\n",
    "\n",
    "\n",
    "plt.subplot(3,3,5)\n",
    "plt.ylim(.15,.4)\n",
    "plt.title(\"3P% in 2016\")\n",
    "plt.xlabel(\"Heights\")\n",
    "plt.ylabel(\"3P% per game\")\n",
    "plt.bar(x = df_2016_height, height = df_2016_3percent,width = 1, align  = 'edge')\n",
    "\n",
    "\n",
    "plt.subplot(3,3,6)\n",
    "plt.ylim(.25,.4)\n",
    "plt.title(\"3P% in 2017\")\n",
    "plt.xlabel(\"Heights\")\n",
    "plt.ylabel(\"3P% per game\")\n",
    "plt.bar(x = df_2017_height, height = df_2017_3percent,width = 1, align  = 'edge')\n",
    "\n",
    "\n",
    "plt.show()"
   ]
  },
  {
   "cell_type": "markdown",
   "metadata": {},
   "source": [
    "These plots highlight the average 3 point percentage per game for players that are between 70 to 82 inches tall"
   ]
  },
  {
   "cell_type": "code",
   "execution_count": 21,
   "metadata": {},
   "outputs": [
    {
     "data": {
      "image/png": "[encoded data removed]",
      "text/plain": [
       "<Figure size 1080x1080 with 6 Axes>"
      ]
     },
     "metadata": {
      "needs_background": "light"
     },
     "output_type": "display_data"
    }
   ],
   "source": [
    "# Graphs of average field goal percentage per game for point guards in the 2012-2017 NBA seasons\n",
    "# plt.ylim is used to get a more descriptive look at points of data that are graphed tightly together\n",
    "\n",
    "plt.figure(figsize = (15,15))\n",
    "\n",
    "plt.subplot(3,3,1)\n",
    "plt.ylim(.375,.5)\n",
    "plt.title(\"FG% in 2012\")\n",
    "plt.xlabel(\"Heights\")\n",
    "plt.ylabel(\"FG% per game\")\n",
    "plt.bar(x = df_2012_height, height = df_2012_FGpercent,width = 1, align  = 'edge')\n",
    "\n",
    "plt.subplot(3,3,2)\n",
    "plt.ylim(.35,.48)\n",
    "plt.title(\"FG% in 2013\")\n",
    "plt.xlabel(\"Heights\")\n",
    "plt.ylabel(\"FG% per game\")\n",
    "plt.bar(x = df_2013_height, height = df_2013_FGpercent,width = 1, align  = 'edge')\n",
    "\n",
    "\n",
    "plt.subplot(3,3,3)\n",
    "plt.ylim(.375,.46)\n",
    "plt.title(\"FG% in 2014\")\n",
    "plt.xlabel(\"Heights\")\n",
    "plt.ylabel(\"FG% per game\")\n",
    "plt.bar(x = df_2014_height, height = df_2014_FGpercent,width = 1, align  = 'edge')\n",
    "\n",
    "\n",
    "plt.subplot(3,3,4)\n",
    "plt.ylim(.375,.46)\n",
    "plt.title(\"FG% in 2015\")\n",
    "plt.xlabel(\"Heights\")\n",
    "plt.ylabel(\"FG% per game\")\n",
    "plt.bar(x = df_2015_height, height = df_2015_FGpercent,width = 1, align  = 'edge')\n",
    "\n",
    "\n",
    "plt.subplot(3,3,5)\n",
    "plt.ylim(.375,.48)\n",
    "plt.title(\"FG% in 2016\")\n",
    "plt.xlabel(\"Heights\")\n",
    "plt.ylabel(\"FG% per game\")\n",
    "plt.bar(x = df_2016_height, height = df_2016_FGpercent,width = 1, align  = 'edge')\n",
    "\n",
    "\n",
    "plt.subplot(3,3,6)\n",
    "plt.ylim(.375,.54)\n",
    "plt.title(\"FG% in 2017\")\n",
    "plt.xlabel(\"Heights\")\n",
    "plt.ylabel(\"FG% per game\")\n",
    "plt.bar(x = df_2017_height, height = df_2017_FGpercent,width = 1, align  = 'edge')\n",
    "\n",
    "\n",
    "plt.show()"
   ]
  },
  {
   "cell_type": "markdown",
   "metadata": {},
   "source": [
    "These plots highlight the average field goal percentage per game for players that are between 70 to 82 inches tall"
   ]
  },
  {
   "cell_type": "markdown",
   "metadata": {},
   "source": [
    "We then created a Weights class which we utilize the standard deviation found earlier from the normalized graphs to determine our definition for performance/success for point guards. By multiplying the values from each stat (points, assists, defense, etc.) with the standard deviation value we can see the total weight that each stat has on a player and  calculate and determine success for each height."
   ]
  },
  {
   "cell_type": "code",
   "execution_count": 22,
   "metadata": {},
   "outputs": [],
   "source": [
    "class Weights:\n",
    "    \n",
    "    def __init__(self,points,assist,three_point_percent,field_goal_percent,turnover,defense,std):\n",
    "        self.points = points\n",
    "        self.assist = assist\n",
    "        self.three_point_percent = three_point_percent\n",
    "        self.field_goal_percent = field_goal_percent\n",
    "        self.turnover = turnover\n",
    "        self.defense = defense\n",
    "        self.std = std\n",
    "        \n",
    "    def point(self):\n",
    "        self.points = self.points * self.std[0] \n",
    "         \n",
    "    def assists(self):\n",
    "        self.assist = self.assist * self.std[1]\n",
    "    \n",
    "    def three_percent(self):\n",
    "        self.three_point_percent = self.three_point_percent * self.std[5]\n",
    "        \n",
    "    def field_percent(self):\n",
    "        self.field_goal_percent = self.field_goal_percent * self.std[4]\n",
    "        \n",
    "    def turnovers(self):\n",
    "        self.turnover = self.turnover * self.std[2]\n",
    "        \n",
    "    def defense_rating(self):\n",
    "        self.defense = self.defense * self.std[3]\n",
    "    \n",
    "    # Combining all stats with standard deviation we get the weight calculation which we will utilize for each seperate year.\n",
    "    def weight_calculation(self):\n",
    "        weight = self.points + self.assist + self.three_point_percent + self.field_goal_percent + self.turnover + self.defense\n",
    "        return weight       "
   ]
  },
  {
   "cell_type": "markdown",
   "metadata": {},
   "source": [
    "We then convert all of our normalized stats to numpy arrays in order to use our Weights class to calculate player's performance"
   ]
  },
  {
   "cell_type": "code",
   "execution_count": 23,
   "metadata": {},
   "outputs": [
    {
     "data": {
      "image/png": "[encoded data removed]",
      "text/plain": [
       "<Figure size 1440x1440 with 6 Axes>"
      ]
     },
     "metadata": {
      "needs_background": "light"
     },
     "output_type": "display_data"
    }
   ],
   "source": [
    "#convert data frame into numpy array for caculation of total weights\n",
    "\n",
    "\"\"\"\n",
    "norm_points_2012\n",
    "norm_assist_2012\n",
    "norm_to_2012\n",
    "norm_def_2012\n",
    "norm_fg_2012\n",
    "norm_3point_2012\n",
    "\n",
    "\"\"\"\n",
    "norm_points_2012 = np.array(norm_points_2012)\n",
    "norm_assist_2012 = np.array(norm_assist_2012)\n",
    "norm_3point_2012 = np.array(norm_3point_2012)\n",
    "norm_fg_2012 = np.array(norm_fg_2012)\n",
    "norm_to_2012 = np.array(norm_to_2012)\n",
    "norm_def_2012 = np.array(norm_def_2012)\n",
    "\n",
    "norm_points_2013 = np.array(norm_points_2013)\n",
    "norm_assist_2013 = np.array(norm_assist_2013)\n",
    "norm_3point_2013 = np.array(norm_3point_2013)\n",
    "norm_fg_2013 = np.array(norm_fg_2013)\n",
    "norm_to_2013 = np.array(norm_to_2013)\n",
    "norm_def_2013 = np.array(norm_def_2013)\n",
    "\n",
    "norm_points_2014 = np.array(norm_points_2014)\n",
    "norm_assist_2014 = np.array(norm_assist_2014)\n",
    "norm_3point_2014 = np.array(norm_3point_2014)\n",
    "norm_fg_2014 = np.array(norm_fg_2014)\n",
    "norm_to_2014 = np.array(norm_to_2014)\n",
    "norm_def_2014 = np.array(norm_def_2014)\n",
    "\n",
    "norm_points_2015 = np.array(norm_points_2015)\n",
    "norm_assist_2015 = np.array(norm_assist_2015)\n",
    "norm_3point_2015 = np.array(norm_3point_2015)\n",
    "norm_fg_2015 = np.array(norm_fg_2015)\n",
    "norm_to_2015 = np.array(norm_to_2015)\n",
    "norm_def_2015 = np.array(norm_def_2015)\n",
    "\n",
    "norm_points_2016 = np.array(norm_points_2016)\n",
    "norm_assist_2016 = np.array(norm_assist_2016)\n",
    "norm_3point_2016 = np.array(norm_3point_2016)\n",
    "norm_fg_2016 = np.array(norm_fg_2016)\n",
    "norm_to_2016 = np.array(norm_to_2016)\n",
    "norm_def_2016 = np.array(norm_def_2016)\n",
    "\n",
    "norm_points_2017 = np.array(norm_points_2017)\n",
    "norm_assist_2017 = np.array(norm_assist_2017)\n",
    "norm_3point_2017 = np.array(norm_3point_2017)\n",
    "norm_fg_2017 = np.array(norm_fg_2017)\n",
    "norm_to_2017 = np.array(norm_to_2017)\n",
    "norm_def_2017 = np.array(norm_def_2017)\n",
    "\n",
    "# Utilize Weight class we implemented above to calculate weights for each year\n",
    "\n",
    "weight2012 = Weights(norm_points_2012,norm_assist_2012,norm_3point_2012,norm_fg_2012,norm_to_2012,norm_def_2012,std_2012)\n",
    "performance2012 = weight2012.weight_calculation()\n",
    "\n",
    "weight2013 = Weights(norm_points_2013,norm_assist_2013,norm_3point_2013,norm_fg_2013,norm_to_2013,norm_def_2013,std_2013)\n",
    "performance2013 = weight2013.weight_calculation()\n",
    "\n",
    "weight2014 = Weights(norm_points_2014,norm_assist_2014,norm_3point_2014,norm_fg_2014,norm_to_2014,norm_def_2014,std_2014)\n",
    "performance2014 = weight2014.weight_calculation()\n",
    "\n",
    "weight2015 = Weights(norm_points_2015,norm_assist_2015,norm_3point_2015,norm_fg_2015,norm_to_2015,norm_def_2015,std_2015)\n",
    "performance2015 = weight2015.weight_calculation()\n",
    "\n",
    "weight2016 = Weights(norm_points_2016,norm_assist_2016,norm_3point_2016,norm_fg_2016,norm_to_2016,norm_def_2016,std_2016)\n",
    "performance2016 = weight2016.weight_calculation()\n",
    "\n",
    "weights2017 = Weights(norm_points_2017,norm_assist_2017,norm_3point_2017,norm_fg_2017,norm_to_2017,norm_def_2017,std_2017)\n",
    "performance2017 = weights2017.weight_calculation()\n",
    "\n",
    "# Plots the performances of players of differing heights for the 2012-2017 NBA seasons\n",
    "height = range(71,81)\n",
    "height = np.array(height)\n",
    "\n",
    "plt.figure(figsize = (20,20))\n",
    "plt.subplot(3,3,1)\n",
    "plt.title(\"Overall Performance in 2012\")\n",
    "plt.ylabel(\"Overall Performance\")\n",
    "plt.xlabel(\"Heights\")\n",
    "plt.bar(x = df_2012_height, height = performance2012,width = 1, align  = 'edge')\n",
    "\n",
    "\n",
    "plt.subplot(3,3,2)\n",
    "plt.title(\"Overall Performance in 2013\")\n",
    "plt.ylabel(\"Overall Performance\")\n",
    "plt.xlabel(\"Heights\")\n",
    "plt.bar(x = df_2013_height, height = performance2013,width = 1, align  = 'edge')\n",
    "\n",
    "plt.subplot(3,3,3)\n",
    "plt.title(\"Overall Performance in 2014\")\n",
    "plt.ylabel(\"Overall Performance\")\n",
    "plt.xlabel(\"Heights\")\n",
    "plt.bar(x = df_2014_height, height = performance2014,width = 1, align  = 'edge')\n",
    "\n",
    "plt.subplot(3,3,4)\n",
    "plt.title(\"Overall Performance in 2015\")\n",
    "plt.ylabel(\"Overall Performance\")\n",
    "plt.ylabel(\"Heights\")\n",
    "plt.bar(x = df_2015_height, height = performance2015,width = 1, align  = 'edge')\n",
    "\n",
    "plt.subplot(3,3,5)\n",
    "plt.title(\"Overall Performance in 2015\")\n",
    "plt.ylabel(\"Overall Performance\")\n",
    "plt.xlabel(\"Heights\")\n",
    "plt.bar(x = df_2016_height, height = performance2016,width = 1, align  = 'edge')\n",
    "\n",
    "plt.subplot(3,3,6)\n",
    "plt.title(\"Overall Performance in 2016\")\n",
    "plt.ylabel(\"Overall Performance\")\n",
    "plt.xlabel(\"Heights\")\n",
    "plt.bar(x = df_2017_height, height = performance2017,width = 1, align  = 'edge')\n",
    "\n",
    "\n",
    "plt.show()"
   ]
  },
  {
   "cell_type": "markdown",
   "metadata": {},
   "source": [
    "These plots show the overall performance or success we are measuring in order to answer our research question in determining the correlation between height and a point guards success. From these plots we can see that shorter players on average perform slightly better."
   ]
  },
  {
   "cell_type": "code",
   "execution_count": 24,
   "metadata": {},
   "outputs": [
    {
     "data": {
      "text/plain": [
       "Text(0, 0.5, 'Height/Performance P-value')"
      ]
     },
     "execution_count": 24,
     "metadata": {},
     "output_type": "execute_result"
    },
    {
     "data": {
      "image/png": "[encoded data removed]",
      "text/plain": [
       "<Figure size 432x288 with 1 Axes>"
      ]
     },
     "metadata": {
      "needs_background": "light"
     },
     "output_type": "display_data"
    }
   ],
   "source": [
    "import scipy.stats as sc\n",
    "\n",
    "performance = [0] * 6\n",
    "\n",
    "performance[0] = sc.pearsonr(performance2012, range(0, len(performance2012)))[0]\n",
    "performance[1] = sc.pearsonr(performance2013, range(0, len(performance2013)))[0]\n",
    "performance[2] = sc.pearsonr(performance2014, range(0, len(performance2014)))[0]\n",
    "performance[3] = sc.pearsonr(performance2015, range(0, len(performance2015)))[0]\n",
    "performance[4] = sc.pearsonr(performance2016, range(0, len(performance2016)))[0]\n",
    "performance[5] = sc.pearsonr(performance2017, range(0, len(performance2017)))[0]\n",
    "\n",
    "plt.plot([2012, 2013, 2014, 2015, 2016, 2017], performance, 'go-', label='line 1', linewidth=2)\n",
    "plt.title(\"Overall P-values for Heights against Performance over Time\")\n",
    "plt.xlabel(\"Years\")\n",
    "plt.ylabel(\"Height/Performance P-value\")"
   ]
  },
  {
   "cell_type": "markdown",
   "metadata": {},
   "source": [
    "We calculate the correlation between the different player statistics and player height using the average stats from all six years. We can see that although shorter players seem to perform better there is an upward trend that showcases less correlation between height and success where taller players seem to perform just as good as shorter players."
   ]
  },
  {
   "cell_type": "markdown",
   "metadata": {},
   "source": []
  },
  {
   "cell_type": "code",
   "execution_count": 27,
   "metadata": {},
   "outputs": [
    {
     "name": "stdout",
     "output_type": "stream",
     "text": [
      "Points P-value:  0.5182104951452369\n",
      "Assists P-value:  -0.619821516862742\n",
      "Turnovers P-value:  0.09162183946784433\n",
      "3 Point Percent P-Value:  0.10807371426095645\n",
      "FG Percent P-Value:  0.1832240820156853\n",
      "Defensive Rating P-Value:  -0.21955911580174342\n"
     ]
    }
   ],
   "source": [
    "# Combines an array of stats with its corresponding heights\n",
    "def combine(heights, stats) :\n",
    "    total = [0] * len(heights)\n",
    "    for i in range(0, len(heights)) :\n",
    "        total[i] = [heights[i], stats[i]]\n",
    "    return total\n",
    "\n",
    "# calculates the mean of a stat over all sic=x years\n",
    "def calc_mean(_2017, _2016, _2015, _2014, _2013, _2012) :\n",
    "    \n",
    "    # We combine all of the datasets\n",
    "    combined_2017 = pd.DataFrame(data=combine(_2017[0], _2017[1]), columns=['height', '2017'])\n",
    "    combined_2017 = combined_2017.set_index('height')\n",
    "\n",
    "    combined_2016 = pd.DataFrame(data=combine(_2016[0], _2016[1]), columns=['height', '2016'])\n",
    "    combined_2016 = combined_2016.set_index('height')\n",
    "\n",
    "    combined_2015 = pd.DataFrame(data=combine(_2015[0], _2015[1]), columns=['height', '2015'])\n",
    "    combined_2015 = combined_2015.set_index('height')\n",
    "\n",
    "    combined_2014 = pd.DataFrame(data=combine(_2014[0], _2014[1]), columns=['height', '2014'])\n",
    "    combined_2014 = combined_2014.set_index('height')\n",
    "\n",
    "    combined_2013 = pd.DataFrame(data=combine(_2013[0], _2013[1]), columns=['height', '2013'])\n",
    "    combined_2013 = combined_2013.set_index('height')\n",
    "\n",
    "    combined_2012 = pd.DataFrame(data=combine(_2012[0], _2012[1]), columns=['height', '2012'])\n",
    "    combined_2012 = combined_2012.set_index('height')\n",
    "\n",
    "    total = pd.DataFrame(data=df_2017_height, columns=['height'])\n",
    "    total = total.set_index('height')\n",
    "\n",
    "    # We merge all the datasets and return its mean\n",
    "    total = total.merge(combined_2017, how='left', on='height')\n",
    "    total = total.merge(combined_2016, how='left', on='height')\n",
    "    total = total.merge(combined_2015, how='left', on='height')\n",
    "    total = total.merge(combined_2014, how='left', on='height')\n",
    "    total = total.merge(combined_2013, how='left', on='height')\n",
    "    total = total.merge(combined_2012, how='left', on='height')\n",
    "    return pd.DataFrame(total.mean(axis=1), columns=['mean'])\n",
    "\n",
    "# We calculate the mean of all player stats over all six years in order to calculate its p-values\n",
    "points_mean = calc_mean([df_2017_height, df_2017_points], [df_2016_height, df_2016_points], [df_2015_height, df_2015_points], [df_2014_height, df_2014_points], [df_2013_height, df_2013_points], [df_2012_height, df_2012_points])\n",
    "assist_mean = calc_mean([df_2017_height, df_2017_assist], [df_2016_height, df_2016_assist], [df_2015_height, df_2015_assist], [df_2014_height, df_2014_assist], [df_2013_height, df_2013_assist], [df_2012_height, df_2012_assist])\n",
    "turnover_mean = calc_mean([df_2017_height, df_2017_turnover], [df_2016_height, df_2016_turnover], [df_2015_height, df_2015_turnover], [df_2014_height, df_2014_turnover], [df_2013_height, df_2013_turnover], [df_2012_height, df_2012_turnover])\n",
    "three_percent_mean = calc_mean([df_2017_height, df_2017_3percent], [df_2016_height, df_2016_3percent], [df_2015_height, df_2015_3percent], [df_2014_height, df_2014_3percent], [df_2013_height, df_2013_3percent], [df_2012_height, df_2012_3percent])\n",
    "FGpercent_mean = calc_mean([df_2017_height, df_2017_FGpercent], [df_2016_height, df_2016_FGpercent], [df_2015_height, df_2015_FGpercent], [df_2014_FGpercent, df_2014_FGpercent], [df_2013_height, df_2013_FGpercent], [df_2012_height, df_2012_FGpercent])\n",
    "defense_mean = calc_mean([df_2017_height, df_2017_defense], [df_2016_height, df_2016_defense], [df_2015_height, df_2015_defense], [df_2014_height, df_2014_defense], [df_2013_height, df_2013_defense], [df_2012_height, df_2012_defense])\n",
    "\n",
    "# We calculate the p-values of each stat\n",
    "print(\"Points P-value: \", sc.pearsonr(points_mean['mean'].to_list(), range(0, len(points_mean.to_numpy())))[0])\n",
    "print(\"Assists P-value: \", sc.pearsonr(assist_mean['mean'].to_list(), range(0, len(assist_mean.to_numpy())))[0])\n",
    "print(\"Turnovers P-value: \", sc.pearsonr(turnover_mean['mean'].to_list(), range(0, len(turnover_mean.to_numpy())))[0])\n",
    "print(\"3 Point Percent P-Value: \", sc.pearsonr(three_percent_mean['mean'].to_list(), range(0, len(three_percent_mean.to_numpy())))[0])\n",
    "print(\"FG Percent P-Value: \", sc.pearsonr(FGpercent_mean['mean'].to_list(), range(0, len(FGpercent_mean.to_numpy())))[0])\n",
    "print(\"Defensive Rating P-Value: \", sc.pearsonr(defense_mean['mean'].to_list(), range(0, len(defense_mean.to_numpy())))[0])"
   ]
  },
  {
   "cell_type": "markdown",
   "metadata": {},
   "source": [
    "# Ethics & Privacy (WIP)"
   ]
  },
  {
   "cell_type": "markdown",
   "metadata": {},
   "source": [
    "All the datasets we are using in our models contain information on individual basketball players in the NBA. This information is derived from either the NBA itself (stats.nba.com), or Kaggle who pulled their data from basketball-reference.com which received its data from contributions from private contributers such as the respected database journalist Sean Lahman.\n",
    "\n",
    "While all the data collected follows the rules and regulations the NBA holds for the privacy of its players, recently there has been growing privacy concerns as the technology used to track players off the court has improved. One of the largest concerns of Players Unions are the blood tests some NBA teams are using to track performace of its players. While player data points and assists per game are resonable to keep track of, when it comes to the bodily functions of individuals on and off the court the boundaries of privacy become much more mudled. For our project we made sure to only utilize data points derived from on court performance as to maintain the privacy of the players. The only exception to this of course is height.\n",
    "\n",
    "When trying to compare player performance and the unchangable attributes of players' bodies there are some obvious ethical issues that may arise. For instance, if we found that the shorter a point guard was the worse their performance, these findings could lead to discrimination against shorter in the future. We took this into account when deciding on this question, however, we came to the conclusion that the meta of basketball is constantly changing meaning different heights of players can be more effective depending on the season. Any discrimination on players because of their height would be unfounded because the meta could easily shift between seasons.\n"
   ]
  },
  {
   "cell_type": "markdown",
   "metadata": {},
   "source": [
    "# Conclusion & Discussion (WIP)"
   ]
  },
  {
   "cell_type": "markdown",
   "metadata": {},
   "source": [
    "Through our analysis of our data above we conclude that our initial hypothesis, which we stated that taller point guards would be overall more successful and perform better, was actually proven wrong. From our research we could actually see a correlation where overall shorter point guards tended to perform better than their taller counterparts in all seasons we looked at from 2012-2017. Although we saw that these shorter players were more sucessful it is also important to note that there was an upward trend from 2012-2017 where taller players started to perform just as good and there with less of a correlation between height and success. \n",
    "\n",
    "We came to this conclusion through using a weights system, where we found how impactful each statistic was for a point guard (points, assists, etc.) through looking at standard deviation of these stats throughout each player and through each year. These weights were then added to players' actual stats where we then looked at how well they actually performed compared to their height. It is also interesting to note that we found correlations between which stats players were better at recording given their height. For example we found that shorter players tended to be better at getting assits and shoot better from the 3 point range, while taller players were better at overall field goal percentage and scoring more points.\n",
    "\n",
    "Although we found supporting evidence that shorter players performed better limitations to our project include the extreme outliers for each season. As previously discussed in our hypothesis when talking about notable point guards like Stephen Curry, star players like Isaiah Thomas (5'9), Chris Paul (6'0), Rajon Rondo (6'1) had incredible seasons. With the low number of short players (6'3 and under) compared to the greater majority these star players could overpower our data giving us a more skewed representation. Ultimately our work on this project answers a widely held question in the world of basketball, highlighting how even the shorter players can outperform their taller opponents based purely on their skillset even if they might lack a natural advantage. "
   ]
  },
  {
   "cell_type": "markdown",
   "metadata": {},
   "source": [
    "# Team Contributions"
   ]
  },
  {
   "cell_type": "markdown",
   "metadata": {},
   "source": [
    "Throughout the whole project our team contributed a fairly even amount of work. Everyone had their own ideas when we were initially brainstorming our topic but eventually decided to focus on basketball and came up with our hypothesis as a collective. After we got our feedback, Chris then edited it to make it more specific, adding finer details to our project's idea and revising both our hypothesis and background information clearing up any confusion about our idea. Kevin also provided the descriptions for all datasets used as well as added more information to the background and prior work section.\n",
    "        \n",
    "\n",
    "We all helped find appropriate datasets for the project, these included both the defensive stats which Anwar found as well as the season stats and player stats that Kevin, Chris and Jake found. Jake and Kevin then began to focus on cleaning and merging the datasets. Anwar and Chris then began to find the standard deviation between height and each of our categories(points, assists, defensive rating, 3 point percentage, field goal percentage, and turnovers) for each year, then making graphs for comparing height and each category for each year. Kevin analyzed the data, adding to our conclusion and discussion section with assistance from Anwar, while Jake finished the project by writing the ethics and privacy portion of the project.\n"
   ]
  }
 ],
 "metadata": {
  "kernelspec": {
   "display_name": "Python 3",
   "language": "python",
   "name": "python3"
  },
  "language_info": {
   "codemirror_mode": {
    "name": "ipython",
    "version": 3
   },
   "file_extension": ".py",
   "mimetype": "text/x-python",
   "name": "python",
   "nbconvert_exporter": "python",
   "pygments_lexer": "ipython3",
   "version": "3.7.0"
  }
 },
 "nbformat": 4,
 "nbformat_minor": 2
}
